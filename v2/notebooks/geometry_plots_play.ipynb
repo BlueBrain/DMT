{
 "cells": [
  {
   "cell_type": "code",
   "execution_count": 1,
   "metadata": {
    "ExecuteTime": {
     "end_time": "2020-02-14T09:59:42.343308Z",
     "start_time": "2020-02-14T09:59:41.585600Z"
    }
   },
   "outputs": [],
   "source": [
    "import os\n",
    "import numpy as np\n",
    "import pandas as pd\n",
    "import matplotlib.pyplot as plt\n",
    "from dmt.tk.plotting.shapes import Circle, Arc, PolarPoint\n",
    "from dmt.tk.plotting.circle_plot import NetworkGeom, NodeGeom"
   ]
  },
  {
   "cell_type": "code",
   "execution_count": 2,
   "metadata": {
    "ExecuteTime": {
     "end_time": "2020-02-14T09:59:51.532662Z",
     "start_time": "2020-02-14T09:59:51.529588Z"
    }
   },
   "outputs": [],
   "source": [
    "gcircle = NetworkGeom(label = \"Flow-Chart\")"
   ]
  },
  {
   "cell_type": "code",
   "execution_count": 3,
   "metadata": {
    "ExecuteTime": {
     "end_time": "2020-02-14T09:59:52.551878Z",
     "start_time": "2020-02-14T09:59:52.412267Z"
    }
   },
   "outputs": [
    {
     "ename": "TypeError",
     "evalue": "draw() missing 1 required positional argument: 'data'",
     "output_type": "error",
     "traceback": [
      "\u001b[0;31m---------------------------------------------------------------------------\u001b[0m",
      "\u001b[0;31mTypeError\u001b[0m                                 Traceback (most recent call last)",
      "\u001b[0;32m<ipython-input-3-d3e7f331de6d>\u001b[0m in \u001b[0;36m<module>\u001b[0;34m\u001b[0m\n\u001b[1;32m      1\u001b[0m \u001b[0mfigure\u001b[0m \u001b[0;34m=\u001b[0m \u001b[0mplt\u001b[0m\u001b[0;34m.\u001b[0m\u001b[0mfigure\u001b[0m\u001b[0;34m(\u001b[0m\u001b[0mfigsize\u001b[0m\u001b[0;34m=\u001b[0m\u001b[0;34m(\u001b[0m\u001b[0;36m12\u001b[0m\u001b[0;34m,\u001b[0m \u001b[0;36m12\u001b[0m\u001b[0;34m)\u001b[0m\u001b[0;34m)\u001b[0m\u001b[0;34m\u001b[0m\u001b[0;34m\u001b[0m\u001b[0m\n\u001b[0;32m----> 2\u001b[0;31m \u001b[0mlines\u001b[0m \u001b[0;34m=\u001b[0m \u001b[0mgcircle\u001b[0m\u001b[0;34m.\u001b[0m\u001b[0mdraw\u001b[0m\u001b[0;34m(\u001b[0m\u001b[0;34m)\u001b[0m\u001b[0;34m\u001b[0m\u001b[0;34m\u001b[0m\u001b[0m\n\u001b[0m\u001b[1;32m      3\u001b[0m \u001b[0mgcircle\u001b[0m\u001b[0;34m.\u001b[0m\u001b[0marc\u001b[0m\u001b[0;34m(\u001b[0m\u001b[0;36m0.\u001b[0m\u001b[0;34m,\u001b[0m \u001b[0mnp\u001b[0m\u001b[0;34m.\u001b[0m\u001b[0mpi\u001b[0m \u001b[0;34m/\u001b[0m \u001b[0;36m4.\u001b[0m\u001b[0;34m)\u001b[0m\u001b[0;34m.\u001b[0m\u001b[0mdraw\u001b[0m\u001b[0;34m(\u001b[0m\u001b[0;34m)\u001b[0m\u001b[0;34m\u001b[0m\u001b[0;34m\u001b[0m\u001b[0m\n",
      "\u001b[0;31mTypeError\u001b[0m: draw() missing 1 required positional argument: 'data'"
     ]
    },
    {
     "data": {
      "text/plain": [
       "<Figure size 864x864 with 0 Axes>"
      ]
     },
     "metadata": {},
     "output_type": "display_data"
    }
   ],
   "source": [
    "figure = plt.figure(figsize=(12, 12))\n",
    "lines = gcircle.draw()\n",
    "gcircle.arc(0., np.pi / 4.).draw()"
   ]
  },
  {
   "cell_type": "code",
   "execution_count": null,
   "metadata": {
    "ExecuteTime": {
     "end_time": "2019-10-12T20:29:26.798358Z",
     "start_time": "2019-10-12T20:29:26.468972Z"
    }
   },
   "outputs": [],
   "source": [
    "from matplotlib.collections import PolyCollection, PatchCollection\n",
    "from matplotlib.patches import Polygon as PatchPolygon\n",
    "from dmt.tk.plotting.shapes import Polygon\n",
    "gcircle = NetworkGeom(label=\"Circle of Flows\")\n",
    "figure = plt.figure(figsize=(12, 12))\n",
    "lines = gcircle.draw()\n",
    "ax = plt.gca()\n",
    "node_start =\\\n",
    "    NodeGeom(\n",
    "        label=\"start\",\n",
    "        position=PolarPoint(gcircle.radius, 0.),\n",
    "        thickness=PolarPoint(0.1, np.pi / 4.),\n",
    "        network_geom=gcircle)\n",
    "node_end =\\\n",
    "    NodeGeom(\n",
    "        label=\"start\",\n",
    "        position=PolarPoint(gcircle.radius, -np.pi/2.),\n",
    "        thickness=PolarPoint(0.1, np.pi / 4.),\n",
    "        network_geom=gcircle)\n",
    "node_start.draw()\n",
    "node_end.draw()"
   ]
  },
  {
   "cell_type": "markdown",
   "metadata": {},
   "source": [
    "Below we will digest *MR*'s code."
   ]
  },
  {
   "cell_type": "code",
   "execution_count": null,
   "metadata": {},
   "outputs": [],
   "source": []
  },
  {
   "cell_type": "code",
   "execution_count": null,
   "metadata": {
    "ExecuteTime": {
     "end_time": "2019-10-12T20:29:30.251441Z",
     "start_time": "2019-10-12T20:29:30.170329Z"
    }
   },
   "outputs": [],
   "source": [
    "mtypes = [\"L23_MC\", \"L5_TPC:A\", \"L6_UPC\"]\n",
    "pathways = [\n",
    "    (pre_mtype, post_mtype)\n",
    "    for pre_mtype in mtypes\n",
    "    for post_mtype in mtypes]\n",
    "N = len(pathways)\n",
    "pathway_strength = pd.DataFrame(\n",
    "    {(\"pathway_strength\", \"mean\"): np.random.uniform(size=N),\n",
    "     (\"pathway_strength\", \"std\"):  np.random.uniform(size=N)},\n",
    "    index=pd.MultiIndex.from_tuples(\n",
    "        pathways,\n",
    "        names=[\"pre_mtype\", \"post_mtype\"]))\n",
    "def get_node_weights(dataframe):\n",
    "    weights = dataframe.groupby(\"pre_mtype\").agg(\"sum\")[(\"pathway_strength\", \"mean\")]\n",
    "    weights.index.name = \"label\"\n",
    "    weights.name = \"weight\"\n",
    "    return weights/np.sum(weights)\n",
    "node_weights(pathway_strength)"
   ]
  },
  {
   "cell_type": "code",
   "execution_count": null,
   "metadata": {
    "ExecuteTime": {
     "end_time": "2019-10-12T20:29:34.122510Z",
     "start_time": "2019-10-12T20:29:34.088806Z"
    }
   },
   "outputs": [],
   "source": [
    "from dmt.tk.plotting.circle_plot import FlowGeom\n",
    "node_weights = get_node_weights(pathway_strength)\n",
    "ps = pathway_strength.reset_index()\n",
    "link_weights =\\\n",
    "    pd.DataFrame(\n",
    "        {\"weight\": ps.apply(\n",
    "                       lambda row: row[\"pathway_strength\"][\"mean\"],\n",
    "                       axis=1\n",
    "                   ).values/node_weights[ps[\"pre_mtype\"]].values},\n",
    "        index=pathway_strength.index)\n",
    "for x, y in link_weights.iterrows():\n",
    "    print(y)"
   ]
  },
  {
   "cell_type": "code",
   "execution_count": null,
   "metadata": {
    "ExecuteTime": {
     "end_time": "2019-10-12T20:29:50.696979Z",
     "start_time": "2019-10-12T20:29:50.680003Z"
    }
   },
   "outputs": [],
   "source": [
    "from collections import OrderedDict\n",
    "network_geom.nodes = OrderedDict([\n",
    "    (node.label, node)\n",
    "    for node in network_geom.children])\n",
    "network_geom.nodes\n",
    "network_geom.flows = [\n",
    "    FlowGeom(\n",
    "        label=\"flow\",\n",
    "        angular_thickness=weight,\n",
    "        begin_node_geom=network_geom.nodes[begin_node_label],\n",
    "        end_node_geom=network_geom.nodes[end_node_label],\n",
    "        network_geom=network_geom)\n",
    "    for (begin_node_label, end_node_label), weight in link_weights.items()]"
   ]
  },
  {
   "cell_type": "code",
   "execution_count": null,
   "metadata": {
    "ExecuteTime": {
     "end_time": "2019-10-12T20:31:00.691169Z",
     "start_time": "2019-10-12T20:31:00.682845Z"
    }
   },
   "outputs": [],
   "source": [
    "node_weights"
   ]
  },
  {
   "cell_type": "code",
   "execution_count": null,
   "metadata": {
    "ExecuteTime": {
     "end_time": "2019-10-12T20:32:03.535939Z",
     "start_time": "2019-10-12T20:32:03.521029Z"
    }
   },
   "outputs": [],
   "source": [
    "network_geom = NetworkGeom(label=\"Example\")\n",
    "network_geom.spawn_nodes(get_node_weights(pathway_strength))"
   ]
  },
  {
   "cell_type": "code",
   "execution_count": null,
   "metadata": {
    "ExecuteTime": {
     "end_time": "2019-10-12T20:34:00.810933Z",
     "start_time": "2019-10-12T20:34:00.502056Z"
    }
   },
   "outputs": [],
   "source": [
    "figure = plt.figure(figsize=(12, 12))\n",
    "network_geom.draw()\n",
    "for node_geom in network_geom.node_geoms.values():\n",
    "    print(node_geom.position.angular)\n",
    "for flow in network_geom.flow_geoms:\n",
    "    flow.draw()"
   ]
  },
  {
   "cell_type": "code",
   "execution_count": null,
   "metadata": {
    "ExecuteTime": {
     "end_time": "2019-10-12T19:15:59.120155Z",
     "start_time": "2019-10-12T19:15:58.868718Z"
    }
   },
   "outputs": [],
   "source": [
    "import numpy as np\n",
    "import pandas as pd\n",
    "from dmt.tk.field import lazyfield\n",
    "from neuro_dmt import terminology\n",
    "\n",
    "class BlueBrainCircuitModel:\n",
    "    \"\"\"\n",
    "    Wrap bluepy Circuit, to provide additional methods.\n",
    "    \"\"\"\n",
    "    def __init__(self, bluepy_circuit):\n",
    "        \"\"\"\n",
    "        ...\n",
    "        \"\"\"\n",
    "        self._bluepy_circuit = bluepy_circuit\n",
    "        \n",
    "    def __getattr__(self, attr):\n",
    "        \"\"\"\n",
    "        ...\n",
    "        \"\"\"\n",
    "        return getattr(self._bluepy_circuit, attr)\n",
    "    \n",
    "    @lazyfield\n",
    "    def mtypes(self):\n",
    "        \"\"\"\n",
    "        A list of all the mtypes.\n",
    "        \"\"\"\n",
    "        return self.mtype_gid.unique().astype(str)\n",
    "        \n",
    "    @lazyfield\n",
    "    def mtype_gid(self):\n",
    "        \"\"\"\n",
    "        Mtype of a given GID.\n",
    "        \"\"\"\n",
    "        return self.cells.get(properties=terminology.cell.mtype)\n",
    "                \n",
    "        \n",
    "    def post_synaptic_mtype_counts(self, gid):\n",
    "        \"\"\"...\"\"\"\n",
    "        counts_mtype_post =\\\n",
    "            self.mtype_gid[\n",
    "                self.connectome.efferent_synapses(\n",
    "                    gid,\n",
    "                    properties=terminology.synapse.post_gid)\n",
    "            ].value_counts()\n",
    "        counts_mtype_post.index.name = \"post_mtype\"\n",
    "        counts_mtype_post.name = \"synapse_count\"\n",
    "        return pd\\\n",
    "            .DataFrame(counts_mtype_post)\\\n",
    "            .reset_index()\\\n",
    "            .assign(pre_gid=gid)\\\n",
    "            .set_index([\"pre_gid\", \"post_mtype\"])\n",
    "    \n",
    "    def pre_synaptic_mtype_counts(self, gid):\n",
    "        \"\"\"...\"\"\"\n",
    "        counts_mtype_pre =\\\n",
    "            self.mtype_gid[\n",
    "                self.connectome.afferent_synapses(\n",
    "                    gid,\n",
    "                    properties=terminology.synapse.pre_gid)\n",
    "            ].value_counts()\n",
    "        counts_mtype_pre.index.name = \"pre_mtype\"\n",
    "        counts_mtype_pre.name = \"synapse_count\"\n",
    "        return pd\\\n",
    "            .DataFrame(counts_mtype_pre)\\\n",
    "            .reset_index()\\\n",
    "            .assign(post_gid=gid)\\\n",
    "            .set_index([\"pre_mtype\", \"post_gid\"])"
   ]
  },
  {
   "cell_type": "code",
   "execution_count": null,
   "metadata": {},
   "outputs": [],
   "source": []
  },
  {
   "cell_type": "code",
   "execution_count": null,
   "metadata": {
    "ExecuteTime": {
     "end_time": "2019-10-12T19:15:59.125675Z",
     "start_time": "2019-10-12T19:15:59.121746Z"
    }
   },
   "outputs": [],
   "source": [
    "from bluepy.v2.enums import Cell, Synapse\n",
    "from bluepy.v2.circuit import Circuit\n",
    "from neuro_dmt import terminology\n",
    "\n",
    "class BlueBrainModelAdapter:\n",
    "    \n",
    "    def get_mtypes(self, circuit):\n",
    "        \"\"\"\n",
    "        All mtypes in the given circuit.\n",
    "        \"\"\"\n",
    "        return circuit.cells.get(properties=terminology.cell.mtype).unique()\n",
    "\n",
    "    def get_synapse_count(self, circuit, direction):\n",
    "        \"\"\"\n",
    "        \n",
    "        Arguments\n",
    "        -----------------\n",
    "        direction :: \n",
    "        \"\"\"\n",
    "        mtypes = self.get_mtypes(circuit)\n",
    "        if direction == terminology.direction.forward:\n",
    "            pre_mtypes = mtypes\n",
    "            post_mtypes = mtypes\n",
    "            \n",
    "        pass"
   ]
  },
  {
   "cell_type": "code",
   "execution_count": null,
   "metadata": {
    "ExecuteTime": {
     "end_time": "2019-10-12T19:15:59.138779Z",
     "start_time": "2019-10-12T19:15:59.126934Z"
    }
   },
   "outputs": [],
   "source": [
    "#circuit = Circuit(\n",
    " #   os.path.join(\n",
    " #       \"/gpfs/bbp.cscs.ch/project/proj64/dissemination/circuits/S1/juvenile\",\n",
    "  #      \"L23_MC_BTC_shifted_down/Bio_1/20190903/CircuitConfig\"))\n",
    "#bbcm = BlueBrainCircuitModel(circuit)"
   ]
  },
  {
   "cell_type": "code",
   "execution_count": null,
   "metadata": {
    "ExecuteTime": {
     "end_time": "2019-10-12T19:15:59.146972Z",
     "start_time": "2019-10-12T19:15:59.140401Z"
    }
   },
   "outputs": [],
   "source": [
    "#post_mtype_counts_1 = bbcm.post_synaptic_mtype_counts(1)"
   ]
  },
  {
   "cell_type": "code",
   "execution_count": null,
   "metadata": {
    "ExecuteTime": {
     "end_time": "2019-10-12T19:15:59.155064Z",
     "start_time": "2019-10-12T19:15:59.148776Z"
    }
   },
   "outputs": [],
   "source": [
    "#post_mtype_counts_1.head()"
   ]
  },
  {
   "cell_type": "markdown",
   "metadata": {},
   "source": [
    "We have some idea of what data this analysis requires --- we will code that in due time.\n",
    "Meanwhile, we will now focus on the drawing aspect."
   ]
  },
  {
   "cell_type": "code",
   "execution_count": null,
   "metadata": {
    "ExecuteTime": {
     "end_time": "2019-10-12T19:15:59.163698Z",
     "start_time": "2019-10-12T19:15:59.156986Z"
    }
   },
   "outputs": [],
   "source": [
    "from collections import namedtuple\n",
    "#Link = namedtuple(\"Link\", )\n",
    "Point = namedtuple('Point', ['x', 'y'], verbose=True)"
   ]
  },
  {
   "cell_type": "code",
   "execution_count": null,
   "metadata": {
    "ExecuteTime": {
     "end_time": "2019-10-12T19:15:59.173382Z",
     "start_time": "2019-10-12T19:15:59.165254Z"
    }
   },
   "outputs": [],
   "source": [
    "class Synaptome:\n",
    "    \n",
    "    \n",
    "    \n",
    "    @lazyfield\n",
    "    def link_starts(self):\n",
    "        \"\"\"\n",
    "        Example\n",
    "        \"\"\"\n",
    "        return {\n",
    "            \"AFF:L23_MC\": (np.array(0.0, 0.0), np.array(0.0, 0.5)),\n",
    "            \"AFF:L23_MC\": (np.array())}\n",
    "        \n",
    "    @lazyfield\n",
    "    def link_collection(self):\n",
    "        \"\"\"\n",
    "        Example\n",
    "        \"\"\"\n",
    "        return "
   ]
  },
  {
   "cell_type": "code",
   "execution_count": null,
   "metadata": {
    "ExecuteTime": {
     "end_time": "2019-10-12T19:15:59.273621Z",
     "start_time": "2019-10-12T19:15:59.175292Z"
    }
   },
   "outputs": [],
   "source": [
    "from collections import OrderedDict\n",
    "from matplotlib import pyplot as plt\n",
    "from matplotlib.collections import PolyCollection\n",
    "ax = plt.gca()\n",
    "something = {\"x\": (0., 0.5), \"y\": (0.5, 1.0)}\n",
    "vertices = OrderedDict([ \n",
    "    (0, (0., 0.5)),\n",
    "    (1, (0.5, 1.0)),\n",
    "    (2, (1.0, 0.5)),\n",
    "    (3, (0.5, 0.))])\n",
    "edges = [\n",
    "    (vertices[0], vertices[1]),\n",
    "    (vertices[1], vertices[2]),\n",
    "    (vertices[2], vertices[3]),\n",
    "    (vertices[3], vertices[0])]\n",
    "link_collection =\\\n",
    "    PolyCollection(\n",
    "        edges,\n",
    "        closed=True,\n",
    "        facecolors=[\"red\", \"green\"],\n",
    "        edgecolors=\"grey\",\n",
    "        linewidth=1.)\n",
    "ax.add_collection(\n",
    "    link_collection)\n",
    "\n",
    "for name, position in vertices.items():\n",
    "    ax.text(position[0], position[1], name)\n",
    "plt.axis(\"off\")"
   ]
  },
  {
   "cell_type": "code",
   "execution_count": null,
   "metadata": {},
   "outputs": [],
   "source": []
  }
 ],
 "metadata": {
  "kernelspec": {
   "display_name": "Python 3",
   "language": "python",
   "name": "python3"
  },
  "language_info": {
   "codemirror_mode": {
    "name": "ipython",
    "version": 3
   },
   "file_extension": ".py",
   "mimetype": "text/x-python",
   "name": "python",
   "nbconvert_exporter": "python",
   "pygments_lexer": "ipython3",
   "version": "3.7.4"
  },
  "latex_envs": {
   "LaTeX_envs_menu_present": true,
   "autoclose": false,
   "autocomplete": true,
   "bibliofile": "biblio.bib",
   "cite_by": "apalike",
   "current_citInitial": 1,
   "eqLabelWithNumbers": true,
   "eqNumInitial": 1,
   "hotkeys": {
    "equation": "Ctrl-E",
    "itemize": "Ctrl-I"
   },
   "labels_anchors": false,
   "latex_user_defs": false,
   "report_style_numbering": false,
   "user_envs_cfg": false
  },
  "toc": {
   "base_numbering": 1,
   "nav_menu": {},
   "number_sections": true,
   "sideBar": true,
   "skip_h1_title": false,
   "title_cell": "Table of Contents",
   "title_sidebar": "Contents",
   "toc_cell": false,
   "toc_position": {},
   "toc_section_display": true,
   "toc_window_display": false
  },
  "varInspector": {
   "cols": {
    "lenName": 16,
    "lenType": 16,
    "lenVar": 40
   },
   "kernels_config": {
    "python": {
     "delete_cmd_postfix": "",
     "delete_cmd_prefix": "del ",
     "library": "var_list.py",
     "varRefreshCmd": "print(var_dic_list())"
    },
    "r": {
     "delete_cmd_postfix": ") ",
     "delete_cmd_prefix": "rm(",
     "library": "var_list.r",
     "varRefreshCmd": "cat(var_dic_list()) "
    }
   },
   "types_to_exclude": [
    "module",
    "function",
    "builtin_function_or_method",
    "instance",
    "_Feature"
   ],
   "window_display": false
  }
 },
 "nbformat": 4,
 "nbformat_minor": 2
}
