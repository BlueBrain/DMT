{
 "cells": [
  {
   "cell_type": "markdown",
   "metadata": {},
   "source": [
    "Here we develop tools to extract code and meta-data from a notebook,\n",
    "and to create a notebook from a *BrainCircuitAnalysis* instance.\n",
    "We will start with the second goal.\n",
    "For this we define a `BrainCircuitAnalysis` instance in this notebook, \n",
    "look at the *JSON* produced used as the backend data for this notebook,\n",
    "and iteratively write code that will take a `BrainCircuitAnalysis` instance \n",
    "and produce a notebook that an analyst can use to tailor the analysis to their \n",
    "taste and run it.\n",
    "After we can go from an analysis instance to a notebook,\n",
    "we will explore how to start with a notebook and generate code for a \n",
    "`BrainCircuitAnalysis` instance."
   ]
  },
  {
   "cell_type": "code",
   "execution_count": 10,
   "metadata": {
    "ExecuteTime": {
     "end_time": "2020-03-03T20:47:02.192477Z",
     "start_time": "2020-03-03T20:47:02.180328Z"
    }
   },
   "outputs": [],
   "source": [
    "#essential imports\n",
    "import os\n",
    "import numpy as np\n",
    "import pandas as pd\n",
    "import matplotlib.pyplot as plt \n",
    "from dmt.model.interface import Interface\n",
    "from dmt.tk.phenomenon import Phenomenon\n",
    "from dmt.tk.parameters import Parameters\n",
    "from dmt.tk.plotting import Bars, LinePlot, HeatMap\n",
    "from dmt.tk.plotting.multi import MultiPlot\n",
    "from neuro_dmt import terminology\n",
    "from neuro_dmt.models.bluebrain.circuit.geometry import Cuboid\n",
    "from neuro_dmt.library.users.visood.sscx_dissemination.analyses.composition\\\n",
    "    import CompositionAnalysesSuite\n",
    "from neuro_dmt.library.users.visood.sscx_dissemination.analyses.connectome\\\n",
    "    import ConnectomeAnalysesSuite\n",
    "from neuro_dmt.models.bluebrain.circuit.atlas import\\\n",
    "    BlueBrainCircuitAtlas\n",
    "from neuro_dmt.models.bluebrain.circuit.model import\\\n",
    "    BlueBrainCircuitModel,\\\n",
    "    CircuitProvenance\n",
    "from neuro_dmt.models.bluebrain.circuit.adapter import\\\n",
    "    BlueBrainCircuitAdapter\n",
    "from neuro_dmt.library.users.visood.sscx_dissemination.analyses.tools\\\n",
    "    import PathwayMeasurement\n",
    "from neuro_dmt.analysis.circuit import BrainCircuitAnalysis\n",
    "from neuro_dmt.analysis.reporting import CircuitAnalysisReport"
   ]
  },
  {
   "cell_type": "markdown",
   "metadata": {},
   "source": [
    "Below we present a mock-up of notebook cells as they should look once an\n",
    "analysis is loaded.\n",
    "This mock-up will be a mix of markup and code blocs,\n",
    "which will all be loaded from the analysis instance."
   ]
  },
  {
   "cell_type": "markdown",
   "metadata": {},
   "source": [
    "## Introduction\n",
    "\n",
    "A circuit model should reproduce experimentally measured cell densities.\n",
    "For the mammalian cerebral cortex, the simplest and most frequent circuit\n",
    "composition measurement is that of layer cell densities. We will use three \n",
    "such experimental measurements to validate brain circuits of the somatosensory\n",
    "cortex."
   ]
  },
  {
   "cell_type": "markdown",
   "metadata": {},
   "source": [
    "## Methods\n",
    "\n",
    "Cell density was measured in randomly sampled boxes of\n",
    "dimension {}. Each sampled box was conditioned to lie in a\n",
    "the spatial location specified by brain-region and layer.\n",
    "The plot shows mean and standard-deviation of cell densities\n",
    "sampled from {} cubes. Reference data plotted alongside model \n",
    "measurements was measured (somewhere) in the SSCx. Specific \n",
    "sub-region for the reference data is not known. all sub-regions \n",
    "in these plots show the same reference data"
   ]
  },
  {
   "cell_type": "code",
   "execution_count": null,
   "metadata": {},
   "outputs": [],
   "source": [
    "class CellDensityAnalysis(BrainCircuitAnalysis):\n",
    "    \"\"\"\n",
    "    Analyze cell density.\n",
    "    \"\"\"\n",
    "    introduction = \"\"\"\n",
    "    A circuit model should reproduce experimentally measured cell densities.\n",
    "    For the mammalian cerebral cortex, the simplest and most frequent circuit\n",
    "    composition measurement is that of layer cell densities. We will use three\n",
    "    such experimental measurements to validate brain circuits of the \n",
    "    somatosensory cortex.\n",
    "    \"\"\"\n",
    "    methods = \"\"\"\n",
    "    Cell density was measured in randomly sampled boxes of dimension {}.\n",
    "    Each sampled box was conditioned to lie in a the spatial location \n",
    "    specified by brain-region and layer. The plot shows mean and \n",
    "    standard-deviation of cell densities sampled from {} cubes. Reference data\n",
    "    plotted alongside model measurements was measured (somewhere) in the SSCx.\n",
    "    Specific sub-region for the reference data is not known. All sub-regions\n",
    "    in these plots show the same reference data\n",
    "    \"\"\"\n",
    "    \n",
    "    phenomenon =\\\n",
    "        Phenomenon(\n",
    "            \"Cell Density\",\n",
    "            \"Number of cells in a unit volume.\",\n",
    "            group=\"Composition \")\n",
    "    \n",
    "    class AdapterInterface(Interface):\n",
    "        \"\"\"\n",
    "        Methods that the analysis expects an adapter to provide.\n",
    "        \"\"\"\n",
    "        def random_position(self, circuit_model, **spatial_query):\n",
    "            \"\"\"\n",
    "            A 3-d numpy.ndarray representing a random position in the \n",
    "            circuit's physical space corresponding to a spatial query.\n",
    "            \"\"\"\n",
    "            raise NotImplementedError\n",
    "        \n",
    "        def get_cells(self, circuit_model, roi):\n",
    "            \"\"\"\n",
    "            Cells in region of interest in the circuit's physical space.\n",
    "            \"\"\"\n",
    "            raise NotImplementedError\n",
    "            \n",
    "        \n",
    "    def sample_measurement(self, circuit_model, adapter, size_roi=50., **query):\n",
    "        \"\"\"\n",
    "        Make a single measurement\n",
    "        \"\"\"\n",
    "        spatial_query =\\\n",
    "            terminology.circuit.get_spatial_query(query)\n",
    "        position =\\\n",
    "            adapter.random_position(\n",
    "                circuit_model, **spatial_query)\n",
    "    \n",
    "        if position is None:\n",
    "            return 0.\n",
    "    \n",
    "        cuboid_to_measure =\\\n",
    "            Cuboid(position - size_roi / 2.,\n",
    "                   position + size_roi / 2.)\n",
    "        cell_count =\\\n",
    "            adapter.get_cells(circuit_model, roi=cuboid_to_measure)\\\n",
    "                   .shape[0]\n",
    "        spatial_volume =\\\n",
    "            cuboid_to_measure.volume\n",
    "    \n",
    "        return 1.e9 * cell_count / spatial_volume\n",
    "    \n",
    "    \n",
    "    plotter = \\\n",
    "        MultiPlot(\n",
    "            mvar=\"region\",\n",
    "            plotter=Bars(xvar=\"layer\",\n",
    "                         xlabel=\"Layer\",\n",
    "                         yvar=\"cell_density\",\n",
    "                         ylabel=\"Cell Density\",\n",
    "                         gvar=\"dataset\"))\n",
    "    report =\\\n",
    "        CircuitAnalysisReport"
   ]
  },
  {
   "cell_type": "code",
   "execution_count": 2,
   "metadata": {
    "ExecuteTime": {
     "end_time": "2020-03-03T20:38:08.815513Z",
     "start_time": "2020-03-03T20:38:08.810999Z"
    }
   },
   "outputs": [],
   "source": [
    "phenomenon =\\\n",
    "    Phenomenon(\n",
    "        \"Cell Density\",\n",
    "        \"Number of cells in a unit volume.\",\n",
    "        group=\"Composition \")"
   ]
  },
  {
   "cell_type": "code",
   "execution_count": 3,
   "metadata": {
    "ExecuteTime": {
     "end_time": "2020-03-03T20:38:09.463323Z",
     "start_time": "2020-03-03T20:38:09.458084Z"
    }
   },
   "outputs": [],
   "source": [
    "class AdapterInterface(Interface):\n",
    "    \"\"\"\n",
    "    Methods that the analysis expects an adapter to provide.\n",
    "    \"\"\"\n",
    "    def random_position(self, circuit_model, **spatial_query):\n",
    "        \"\"\"\n",
    "        A 3-d numpy.ndarray representing a random position in the \n",
    "        circuit's physical space corresponding to a spatial query.\n",
    "        \"\"\"\n",
    "        raise NotImplementedError\n",
    "        \n",
    "    def get_cells(self, circuit_model, roi):\n",
    "        \"\"\"\n",
    "        Cells in region of interest in the circuit's physical space.\n",
    "        \"\"\"\n",
    "        raise NotImplementedError"
   ]
  },
  {
   "cell_type": "code",
   "execution_count": 6,
   "metadata": {
    "ExecuteTime": {
     "end_time": "2020-03-03T20:38:28.487514Z",
     "start_time": "2020-03-03T20:38:28.482441Z"
    }
   },
   "outputs": [],
   "source": [
    "def sample_measurement(circuit_model, adapter, size_roi=50., **query):\n",
    "    \"\"\"\n",
    "    Make a single measurement\n",
    "    \"\"\"\n",
    "    spatial_query =\\\n",
    "        terminology.circuit.get_spatial_query(query)\n",
    "    position =\\\n",
    "        adapter.random_position(\n",
    "            circuit_model, **spatial_query)\n",
    "    \n",
    "    if position is None:\n",
    "        return 0.\n",
    "    \n",
    "    cuboid_to_measure =\\\n",
    "        Cuboid(position - size_roi / 2.,\n",
    "               position + size_roi / 2.)\n",
    "    cell_count =\\\n",
    "        adapter.get_cells(circuit_model, roi=cuboid_to_measure)\\\n",
    "\n",
    "               .shape[0]\n",
    "    spatial_volume =\\\n",
    "        cuboid_to_measure.volume\n",
    "    \n",
    "    return 1.e9 * cell_count / spatial_volume"
   ]
  },
  {
   "cell_type": "code",
   "execution_count": 8,
   "metadata": {
    "ExecuteTime": {
     "end_time": "2020-03-03T20:45:50.827390Z",
     "start_time": "2020-03-03T20:45:50.820872Z"
    }
   },
   "outputs": [],
   "source": [
    "plotter = \\\n",
    "    MultiPlot(\n",
    "        mvar=\"region\",\n",
    "        plotter=Bars(xvar=\"layer\",\n",
    "                     xlabel=\"Layer\",\n",
    "                     yvar=\"cell_density\",\n",
    "                     ylabel=\"Cell Density\",\n",
    "                     gvar=\"dataset\"))"
   ]
  },
  {
   "cell_type": "code",
   "execution_count": 11,
   "metadata": {
    "ExecuteTime": {
     "end_time": "2020-03-03T20:47:07.410091Z",
     "start_time": "2020-03-03T20:47:07.406357Z"
    }
   },
   "outputs": [],
   "source": [
    "report =\\\n",
    "    CircuitAnalysisReport"
   ]
  }
 ],
 "metadata": {
  "kernelspec": {
   "display_name": "Python 3",
   "language": "python",
   "name": "python3"
  },
  "language_info": {
   "codemirror_mode": {
    "name": "ipython",
    "version": 3
   },
   "file_extension": ".py",
   "mimetype": "text/x-python",
   "name": "python",
   "nbconvert_exporter": "python",
   "pygments_lexer": "ipython3",
   "version": "3.6.9"
  },
  "latex_envs": {
   "LaTeX_envs_menu_present": true,
   "autoclose": false,
   "autocomplete": true,
   "bibliofile": "biblio.bib",
   "cite_by": "apalike",
   "current_citInitial": 1,
   "eqLabelWithNumbers": true,
   "eqNumInitial": 1,
   "hotkeys": {
    "equation": "Ctrl-E",
    "itemize": "Ctrl-I"
   },
   "labels_anchors": false,
   "latex_user_defs": false,
   "report_style_numbering": false,
   "user_envs_cfg": false
  },
  "toc": {
   "base_numbering": 1,
   "nav_menu": {},
   "number_sections": true,
   "sideBar": true,
   "skip_h1_title": false,
   "title_cell": "Table of Contents",
   "title_sidebar": "Contents",
   "toc_cell": false,
   "toc_position": {},
   "toc_section_display": true,
   "toc_window_display": false
  },
  "varInspector": {
   "cols": {
    "lenName": 16,
    "lenType": 16,
    "lenVar": 40
   },
   "kernels_config": {
    "python": {
     "delete_cmd_postfix": "",
     "delete_cmd_prefix": "del ",
     "library": "var_list.py",
     "varRefreshCmd": "print(var_dic_list())"
    },
    "r": {
     "delete_cmd_postfix": ") ",
     "delete_cmd_prefix": "rm(",
     "library": "var_list.r",
     "varRefreshCmd": "cat(var_dic_list()) "
    }
   },
   "types_to_exclude": [
    "module",
    "function",
    "builtin_function_or_method",
    "instance",
    "_Feature"
   ],
   "window_display": false
  }
 },
 "nbformat": 4,
 "nbformat_minor": 2
}
