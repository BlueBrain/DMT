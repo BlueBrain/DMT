{
 "cells": [
  {
   "cell_type": "markdown",
   "metadata": {},
   "source": [
    "Here we develop tools to extract code and meta-data from a notebook,\n",
    "and to create a notebook from a *BrainCircuitAnalysis* instance.\n",
    "We will start with the second goal.\n",
    "For this we define a `BrainCircuitAnalysis` instance in this notebook, \n",
    "look at the *JSON* produced used as the backend data for this notebook,\n",
    "and iteratively write code that will take a `BrainCircuitAnalysis` instance \n",
    "and produce a notebook that an analyst can use to tailor the analysis to their \n",
    "taste and run it.\n",
    "After we can go from an analysis instance to a notebook,\n",
    "we will explore how to start with a notebook and generate code for a \n",
    "`BrainCircuitAnalysis` instance."
   ]
  },
  {
   "cell_type": "code",
   "execution_count": 4,
   "metadata": {
    "ExecuteTime": {
     "end_time": "2020-03-03T15:24:37.710048Z",
     "start_time": "2020-03-03T15:24:37.702695Z"
    }
   },
   "outputs": [],
   "source": [
    "#essential imports\n",
    "import os\n",
    "import numpy as np\n",
    "import pandas as pd\n",
    "import matplotlib.pyplot as plt \n",
    "from dmt.model.interface import Interface\n",
    "from dmt.tk.phenomenon import Phenomenon\n",
    "from dmt.tk.parameters import Parameters\n",
    "from dmt.tk.plotting import Bars, LinePlot, HeatMap\n",
    "from neuro_dmt import terminology\n",
    "from neuro_dmt.library.users.visood.sscx_dissemination.analyses.composition\\\n",
    "    import CompositionAnalysesSuite\n",
    "from neuro_dmt.library.users.visood.sscx_dissemination.analyses.connectome\\\n",
    "    import ConnectomeAnalysesSuite\n",
    "from neuro_dmt.models.bluebrain.circuit.atlas import\\\n",
    "    BlueBrainCircuitAtlas\n",
    "from neuro_dmt.models.bluebrain.circuit.model import\\\n",
    "    BlueBrainCircuitModel,\\\n",
    "    CircuitProvenance\n",
    "from neuro_dmt.models.bluebrain.circuit.adapter import\\\n",
    "    BlueBrainCircuitAdapter\n",
    "from neuro_dmt.library.users.visood.sscx_dissemination.analyses.tools\\\n",
    "    import PathwayMeasurement\n",
    "from neuro_dmt.analysis.circuit import BrainCircuitAnalysis\n",
    "from neuro_dmt.models.bluebrain.circuit.geometry import Cuboid"
   ]
  },
  {
   "cell_type": "markdown",
   "metadata": {},
   "source": [
    "Below we present a mock-up of notebook cells as they should look once an\n",
    "analysis is loaded.\n",
    "This mock-up will be a mix of markup and code blocs,\n",
    "which will all be loaded from the analysis instance."
   ]
  },
  {
   "cell_type": "markdown",
   "metadata": {},
   "source": [
    "## Introduction\n",
    "\n",
    "A circuit model should reproduce experimentally measured cell densities.\n",
    "For the mammalian cerebral cortex, the simplest and most frequent circuit\n",
    "composition measurement is that of layer cell densities. We will use three \n",
    "such experimental measurements to validate brain circuits of the somatosensory\n",
    "cortex."
   ]
  },
  {
   "cell_type": "markdown",
   "metadata": {},
   "source": [
    "## Methods\n",
    "\n",
    "Cell density was measured in randomly sampled boxes of\n",
    "dimension {}. Each sampled box was conditioned to lie in a\n",
    "the spatial location specified by brain-region and layer.\n",
    "The plot shows mean and standard-deviation of cell densities\n",
    "sampled from {} cubes. Reference data plotted alongside model \n",
    "measurements was measured (somewhere) in the SSCx. Specific \n",
    "sub-region for the reference data is not known. all sub-regions \n",
    "in these plots show the same reference data"
   ]
  },
  {
   "cell_type": "code",
   "execution_count": 2,
   "metadata": {
    "ExecuteTime": {
     "end_time": "2020-03-03T15:23:28.956140Z",
     "start_time": "2020-03-03T15:23:28.953347Z"
    }
   },
   "outputs": [],
   "source": [
    "phenomenon =\\\n",
    "    Phenomenon(\n",
    "        \"Cell Density\",\n",
    "        \"Number of cells in a unit volume.\",\n",
    "        group=\"Composition \")"
   ]
  },
  {
   "cell_type": "code",
   "execution_count": 5,
   "metadata": {
    "ExecuteTime": {
     "end_time": "2020-03-03T15:25:25.898071Z",
     "start_time": "2020-03-03T15:25:25.894372Z"
    }
   },
   "outputs": [],
   "source": [
    "class AdapterInterface(Interface):\n",
    "    \"\"\"\n",
    "    Methods that the analysis expects an adapter to provide.\n",
    "    \"\"\"\n",
    "    pass"
   ]
  },
  {
   "cell_type": "code",
   "execution_count": 6,
   "metadata": {
    "ExecuteTime": {
     "end_time": "2020-03-03T15:33:46.999511Z",
     "start_time": "2020-03-03T15:33:46.994896Z"
    }
   },
   "outputs": [],
   "source": [
    "def get_random_region(circuit_model, adapter, spatial_query, size_roi=100.):\n",
    "    \"\"\"\n",
    "    Get a random region in the circuit model space.\n",
    "    \"\"\"\n",
    "    position =\\\n",
    "        adapter.random_position(\n",
    "            circuit_model, **spatial_query)\n",
    "    if position is None:\n",
    "        return None\n",
    "    return\\\n",
    "        Cuboid(position - size_roi / 2.,\n",
    "                position + size_roi / 2.)"
   ]
  },
  {
   "cell_type": "code",
   "execution_count": null,
   "metadata": {},
   "outputs": [],
   "source": [
    "def sample_measurement(circuit_model, adapter, **query):\n",
    "    \"\"\"\n",
    "    Make a single measurement\n",
    "    \"\"\"\n",
    "    spatial_query =\\\n",
    "        terminology.circuit.get_spatial_query(query)\n",
    "    cuboid_to_measure =\\\n",
    "        get_random_region(\n",
    "            circuit_model, adapter, spatial_query)\n",
    "    if \n",
    "    \n",
    "        "
   ]
  }
 ],
 "metadata": {
  "kernelspec": {
   "display_name": "Python 3",
   "language": "python",
   "name": "python3"
  },
  "language_info": {
   "codemirror_mode": {
    "name": "ipython",
    "version": 3
   },
   "file_extension": ".py",
   "mimetype": "text/x-python",
   "name": "python",
   "nbconvert_exporter": "python",
   "pygments_lexer": "ipython3",
   "version": "3.7.4"
  },
  "latex_envs": {
   "LaTeX_envs_menu_present": true,
   "autoclose": false,
   "autocomplete": true,
   "bibliofile": "biblio.bib",
   "cite_by": "apalike",
   "current_citInitial": 1,
   "eqLabelWithNumbers": true,
   "eqNumInitial": 1,
   "hotkeys": {
    "equation": "Ctrl-E",
    "itemize": "Ctrl-I"
   },
   "labels_anchors": false,
   "latex_user_defs": false,
   "report_style_numbering": false,
   "user_envs_cfg": false
  },
  "toc": {
   "base_numbering": 1,
   "nav_menu": {},
   "number_sections": true,
   "sideBar": true,
   "skip_h1_title": false,
   "title_cell": "Table of Contents",
   "title_sidebar": "Contents",
   "toc_cell": false,
   "toc_position": {},
   "toc_section_display": true,
   "toc_window_display": false
  },
  "varInspector": {
   "cols": {
    "lenName": 16,
    "lenType": 16,
    "lenVar": 40
   },
   "kernels_config": {
    "python": {
     "delete_cmd_postfix": "",
     "delete_cmd_prefix": "del ",
     "library": "var_list.py",
     "varRefreshCmd": "print(var_dic_list())"
    },
    "r": {
     "delete_cmd_postfix": ") ",
     "delete_cmd_prefix": "rm(",
     "library": "var_list.r",
     "varRefreshCmd": "cat(var_dic_list()) "
    }
   },
   "types_to_exclude": [
    "module",
    "function",
    "builtin_function_or_method",
    "instance",
    "_Feature"
   ],
   "window_display": false
  }
 },
 "nbformat": 4,
 "nbformat_minor": 2
}
