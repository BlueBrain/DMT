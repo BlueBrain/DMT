{
 "cells": [
  {
   "cell_type": "markdown",
   "metadata": {},
   "source": [
    "# Network charts\n",
    "\n",
    "We develop network charts for a circuit connectome. \n",
    "We will use a mock circuit to speed up computation.\n",
    "This will allow us to develop the code for getting the graph data required to make the charts."
   ]
  },
  {
   "cell_type": "markdown",
   "metadata": {},
   "source": [
    "## Mock Circuit\n",
    "We have implemented a `MockCircuit` that follows our BBP circuits as much as \n",
    "required by our computations."
   ]
  },
  {
   "cell_type": "code",
   "execution_count": 1,
   "metadata": {
    "ExecuteTime": {
     "end_time": "2020-02-17T17:07:37.751180Z",
     "start_time": "2020-02-17T17:07:34.449807Z"
    }
   },
   "outputs": [
    {
     "name": "stdout",
     "output_type": "stream",
     "text": [
      "('region', 'layer', 'depth', 'height', 'mesocolumn', 'hypercolumn', 'roi', 'mtype', 'etype', 'synapse_class', 'postsynaptic', 'presynaptic')\n",
      "('region', 'layer', 'depth', 'height', 'mesocolumn', 'hypercolumn', 'roi', 'mtype', 'etype', 'synapse_class', 'postsynaptic', 'presynaptic')\n",
      "('region', 'layer', 'depth', 'height', 'mesocolumn', 'hypercolumn', 'roi', 'mtype', 'etype', 'synapse_class', 'postsynaptic', 'presynaptic')\n",
      "('region', 'layer', 'depth', 'height', 'mtype', 'etype', 'synapse_class')\n",
      "================================================================================\n",
      "\u001b[4mtest develop mock circuit Logger                                                \u001b[0m\n",
      "\u001b[4mDEBUGINFO@<2020-02-17 18:07:35>                                                 \u001b[0m\n",
      "Traceback:\n",
      "\tfilename: \t/Users/vishalsoodmuchu/.vmgr_repo/py37/lib/python3.7/site-packages/neuro_dmt/models/bluebrain/circuit/mock/test/__init__.py\n",
      "\tlineno: \t136\n",
      "\tcode_context: \t['        __log.get_source_info(),\\n']\n",
      "\tindex: 0\n",
      "\n",
      "get excitatory cell density for layer 2\n",
      "with number of excitatory mtypes: 1\n",
      "================================================================================\n",
      "\n",
      "================================================================================\n",
      "\u001b[4mtest develop mock circuit Logger                                                \u001b[0m\n",
      "\u001b[4mDEBUGINFO@<2020-02-17 18:07:35>                                                 \u001b[0m\n",
      "Traceback:\n",
      "\tfilename: \t/Users/vishalsoodmuchu/.vmgr_repo/py37/lib/python3.7/site-packages/neuro_dmt/models/bluebrain/circuit/mock/test/__init__.py\n",
      "\tlineno: \t136\n",
      "\tcode_context: \t['        __log.get_source_info(),\\n']\n",
      "\tindex: 0\n",
      "\n",
      "get excitatory cell density for layer 3\n",
      "with number of excitatory mtypes: 1\n",
      "================================================================================\n",
      "\n",
      "================================================================================\n",
      "\u001b[4mtest develop mock circuit Logger                                                \u001b[0m\n",
      "\u001b[4mDEBUGINFO@<2020-02-17 18:07:35>                                                 \u001b[0m\n",
      "Traceback:\n",
      "\tfilename: \t/Users/vishalsoodmuchu/.vmgr_repo/py37/lib/python3.7/site-packages/neuro_dmt/models/bluebrain/circuit/mock/test/__init__.py\n",
      "\tlineno: \t136\n",
      "\tcode_context: \t['        __log.get_source_info(),\\n']\n",
      "\tindex: 0\n",
      "\n",
      "get excitatory cell density for layer 4\n",
      "with number of excitatory mtypes: 1\n",
      "================================================================================\n",
      "\n",
      "================================================================================\n",
      "\u001b[4mtest develop mock circuit Logger                                                \u001b[0m\n",
      "\u001b[4mDEBUGINFO@<2020-02-17 18:07:35>                                                 \u001b[0m\n",
      "Traceback:\n",
      "\tfilename: \t/Users/vishalsoodmuchu/.vmgr_repo/py37/lib/python3.7/site-packages/neuro_dmt/models/bluebrain/circuit/mock/test/__init__.py\n",
      "\tlineno: \t136\n",
      "\tcode_context: \t['        __log.get_source_info(),\\n']\n",
      "\tindex: 0\n",
      "\n",
      "get excitatory cell density for layer 5\n",
      "with number of excitatory mtypes: 4\n",
      "================================================================================\n",
      "\n",
      "================================================================================\n",
      "\u001b[4mtest develop mock circuit Logger                                                \u001b[0m\n",
      "\u001b[4mDEBUGINFO@<2020-02-17 18:07:35>                                                 \u001b[0m\n",
      "Traceback:\n",
      "\tfilename: \t/Users/vishalsoodmuchu/.vmgr_repo/py37/lib/python3.7/site-packages/neuro_dmt/models/bluebrain/circuit/mock/test/__init__.py\n",
      "\tlineno: \t136\n",
      "\tcode_context: \t['        __log.get_source_info(),\\n']\n",
      "\tindex: 0\n",
      "\n",
      "get excitatory cell density for layer 5\n",
      "with number of excitatory mtypes: 4\n",
      "================================================================================\n",
      "\n",
      "================================================================================\n",
      "\u001b[4mtest develop mock circuit Logger                                                \u001b[0m\n",
      "\u001b[4mDEBUGINFO@<2020-02-17 18:07:35>                                                 \u001b[0m\n",
      "Traceback:\n",
      "\tfilename: \t/Users/vishalsoodmuchu/.vmgr_repo/py37/lib/python3.7/site-packages/neuro_dmt/models/bluebrain/circuit/mock/test/__init__.py\n",
      "\tlineno: \t136\n",
      "\tcode_context: \t['        __log.get_source_info(),\\n']\n",
      "\tindex: 0\n",
      "\n",
      "get excitatory cell density for layer 5\n",
      "with number of excitatory mtypes: 4\n",
      "================================================================================\n",
      "\n",
      "================================================================================\n",
      "\u001b[4mtest develop mock circuit Logger                                                \u001b[0m\n",
      "\u001b[4mDEBUGINFO@<2020-02-17 18:07:35>                                                 \u001b[0m\n",
      "Traceback:\n",
      "\tfilename: \t/Users/vishalsoodmuchu/.vmgr_repo/py37/lib/python3.7/site-packages/neuro_dmt/models/bluebrain/circuit/mock/test/__init__.py\n",
      "\tlineno: \t136\n",
      "\tcode_context: \t['        __log.get_source_info(),\\n']\n",
      "\tindex: 0\n",
      "\n",
      "get excitatory cell density for layer 5\n",
      "with number of excitatory mtypes: 4\n",
      "================================================================================\n",
      "\n",
      "================================================================================\n",
      "\u001b[4mtest develop mock circuit Logger                                                \u001b[0m\n",
      "\u001b[4mDEBUGINFO@<2020-02-17 18:07:35>                                                 \u001b[0m\n",
      "Traceback:\n",
      "\tfilename: \t/Users/vishalsoodmuchu/.vmgr_repo/py37/lib/python3.7/site-packages/neuro_dmt/models/bluebrain/circuit/mock/test/__init__.py\n",
      "\tlineno: \t136\n",
      "\tcode_context: \t['        __log.get_source_info(),\\n']\n",
      "\tindex: 0\n",
      "\n",
      "get excitatory cell density for layer 6\n",
      "with number of excitatory mtypes: 5\n",
      "================================================================================\n",
      "\n",
      "================================================================================\n",
      "\u001b[4mtest develop mock circuit Logger                                                \u001b[0m\n",
      "\u001b[4mDEBUGINFO@<2020-02-17 18:07:35>                                                 \u001b[0m\n",
      "Traceback:\n",
      "\tfilename: \t/Users/vishalsoodmuchu/.vmgr_repo/py37/lib/python3.7/site-packages/neuro_dmt/models/bluebrain/circuit/mock/test/__init__.py\n",
      "\tlineno: \t136\n",
      "\tcode_context: \t['        __log.get_source_info(),\\n']\n",
      "\tindex: 0\n",
      "\n",
      "get excitatory cell density for layer 6\n",
      "with number of excitatory mtypes: 5\n",
      "================================================================================\n",
      "\n",
      "================================================================================\n",
      "\u001b[4mtest develop mock circuit Logger                                                \u001b[0m\n",
      "\u001b[4mDEBUGINFO@<2020-02-17 18:07:35>                                                 \u001b[0m\n",
      "Traceback:\n",
      "\tfilename: \t/Users/vishalsoodmuchu/.vmgr_repo/py37/lib/python3.7/site-packages/neuro_dmt/models/bluebrain/circuit/mock/test/__init__.py\n",
      "\tlineno: \t136\n",
      "\tcode_context: \t['        __log.get_source_info(),\\n']\n",
      "\tindex: 0\n",
      "\n",
      "get excitatory cell density for layer 6\n",
      "with number of excitatory mtypes: 5\n",
      "================================================================================\n",
      "\n",
      "================================================================================\n",
      "\u001b[4mtest develop mock circuit Logger                                                \u001b[0m\n",
      "\u001b[4mDEBUGINFO@<2020-02-17 18:07:35>                                                 \u001b[0m\n",
      "Traceback:\n",
      "\tfilename: \t/Users/vishalsoodmuchu/.vmgr_repo/py37/lib/python3.7/site-packages/neuro_dmt/models/bluebrain/circuit/mock/test/__init__.py\n",
      "\tlineno: \t136\n",
      "\tcode_context: \t['        __log.get_source_info(),\\n']\n",
      "\tindex: 0\n",
      "\n",
      "get excitatory cell density for layer 6\n",
      "with number of excitatory mtypes: 5\n",
      "================================================================================\n",
      "\n",
      "================================================================================\n",
      "\u001b[4mtest develop mock circuit Logger                                                \u001b[0m\n",
      "\u001b[4mDEBUGINFO@<2020-02-17 18:07:35>                                                 \u001b[0m\n",
      "Traceback:\n",
      "\tfilename: \t/Users/vishalsoodmuchu/.vmgr_repo/py37/lib/python3.7/site-packages/neuro_dmt/models/bluebrain/circuit/mock/test/__init__.py\n",
      "\tlineno: \t136\n",
      "\tcode_context: \t['        __log.get_source_info(),\\n']\n",
      "\tindex: 0\n",
      "\n",
      "get excitatory cell density for layer 6\n",
      "with number of excitatory mtypes: 5\n",
      "================================================================================\n",
      "\n",
      "================================================================================\n",
      "\u001b[4mtest develop mock circuit Logger                                                \u001b[0m\n",
      "\u001b[4mDEBUGINFO@<2020-02-17 18:07:35>                                                 \u001b[0m\n",
      "Traceback:\n",
      "\tfilename: \t/Users/vishalsoodmuchu/.vmgr_repo/py37/lib/python3.7/site-packages/neuro_dmt/models/bluebrain/circuit/mock/test/mock_circuit_light.py\n",
      "\tlineno: \t104\n",
      "\tcode_context: \t['        log.get_source_info(),\\n']\n",
      "\tindex: 0\n",
      "\n",
      "get excitatory cell density for layer 4\n",
      "with number of excitatory mtypes: 1\n",
      "================================================================================\n",
      "\n",
      "================================================================================\n",
      "\u001b[4mtest develop mock circuit Logger                                                \u001b[0m\n",
      "\u001b[4mDEBUGINFO@<2020-02-17 18:07:35>                                                 \u001b[0m\n",
      "Traceback:\n",
      "\tfilename: \t/Users/vishalsoodmuchu/.vmgr_repo/py37/lib/python3.7/site-packages/neuro_dmt/models/bluebrain/circuit/mock/test/mock_circuit_light.py\n",
      "\tlineno: \t104\n",
      "\tcode_context: \t['        log.get_source_info(),\\n']\n",
      "\tindex: 0\n",
      "\n",
      "get excitatory cell density for layer 4\n",
      "with number of excitatory mtypes: 1\n",
      "================================================================================\n",
      "\n"
     ]
    },
    {
     "name": "stdout",
     "output_type": "stream",
     "text": [
      "================================================================================\n",
      "\u001b[4mtest develop mock circuit Logger                                                \u001b[0m\n",
      "\u001b[4mDEBUGINFO@<2020-02-17 18:07:35>                                                 \u001b[0m\n",
      "Traceback:\n",
      "\tfilename: \t/Users/vishalsoodmuchu/.vmgr_repo/py37/lib/python3.7/site-packages/neuro_dmt/models/bluebrain/circuit/mock/test/mock_circuit_light.py\n",
      "\tlineno: \t104\n",
      "\tcode_context: \t['        log.get_source_info(),\\n']\n",
      "\tindex: 0\n",
      "\n",
      "get excitatory cell density for layer 4\n",
      "with number of excitatory mtypes: 1\n",
      "================================================================================\n",
      "\n",
      "================================================================================\n",
      "\u001b[4mtest develop mock circuit Logger                                                \u001b[0m\n",
      "\u001b[4mDEBUGINFO@<2020-02-17 18:07:35>                                                 \u001b[0m\n",
      "Traceback:\n",
      "\tfilename: \t/Users/vishalsoodmuchu/.vmgr_repo/py37/lib/python3.7/site-packages/neuro_dmt/models/bluebrain/circuit/mock/test/mock_circuit_light.py\n",
      "\tlineno: \t104\n",
      "\tcode_context: \t['        log.get_source_info(),\\n']\n",
      "\tindex: 0\n",
      "\n",
      "get excitatory cell density for layer 4\n",
      "with number of excitatory mtypes: 1\n",
      "================================================================================\n",
      "\n",
      "================================================================================\n",
      "\u001b[4mtest develop mock circuit Logger                                                \u001b[0m\n",
      "\u001b[4mDEBUGINFO@<2020-02-17 18:07:35>                                                 \u001b[0m\n",
      "Traceback:\n",
      "\tfilename: \t/Users/vishalsoodmuchu/.vmgr_repo/py37/lib/python3.7/site-packages/neuro_dmt/models/bluebrain/circuit/mock/test/mock_circuit_light.py\n",
      "\tlineno: \t104\n",
      "\tcode_context: \t['        log.get_source_info(),\\n']\n",
      "\tindex: 0\n",
      "\n",
      "get excitatory cell density for layer 5\n",
      "with number of excitatory mtypes: 3\n",
      "================================================================================\n",
      "\n",
      "================================================================================\n",
      "\u001b[4mtest develop mock circuit Logger                                                \u001b[0m\n",
      "\u001b[4mDEBUGINFO@<2020-02-17 18:07:35>                                                 \u001b[0m\n",
      "Traceback:\n",
      "\tfilename: \t/Users/vishalsoodmuchu/.vmgr_repo/py37/lib/python3.7/site-packages/neuro_dmt/models/bluebrain/circuit/mock/test/mock_circuit_light.py\n",
      "\tlineno: \t104\n",
      "\tcode_context: \t['        log.get_source_info(),\\n']\n",
      "\tindex: 0\n",
      "\n",
      "get excitatory cell density for layer 5\n",
      "with number of excitatory mtypes: 3\n",
      "================================================================================\n",
      "\n",
      "================================================================================\n",
      "\u001b[4mtest develop mock circuit Logger                                                \u001b[0m\n",
      "\u001b[4mDEBUGINFO@<2020-02-17 18:07:35>                                                 \u001b[0m\n",
      "Traceback:\n",
      "\tfilename: \t/Users/vishalsoodmuchu/.vmgr_repo/py37/lib/python3.7/site-packages/neuro_dmt/models/bluebrain/circuit/mock/test/mock_circuit_light.py\n",
      "\tlineno: \t104\n",
      "\tcode_context: \t['        log.get_source_info(),\\n']\n",
      "\tindex: 0\n",
      "\n",
      "get excitatory cell density for layer 5\n",
      "with number of excitatory mtypes: 3\n",
      "================================================================================\n",
      "\n",
      "================================================================================\n",
      "\u001b[4mtest develop mock circuit Logger                                                \u001b[0m\n",
      "\u001b[4mDEBUGINFO@<2020-02-17 18:07:35>                                                 \u001b[0m\n",
      "Traceback:\n",
      "\tfilename: \t/Users/vishalsoodmuchu/.vmgr_repo/py37/lib/python3.7/site-packages/neuro_dmt/models/bluebrain/circuit/mock/test/mock_circuit_light.py\n",
      "\tlineno: \t104\n",
      "\tcode_context: \t['        log.get_source_info(),\\n']\n",
      "\tindex: 0\n",
      "\n",
      "get excitatory cell density for layer 5\n",
      "with number of excitatory mtypes: 3\n",
      "================================================================================\n",
      "\n",
      "================================================================================\n",
      "\u001b[4mtest develop mock circuit Logger                                                \u001b[0m\n",
      "\u001b[4mDEBUGINFO@<2020-02-17 18:07:35>                                                 \u001b[0m\n",
      "Traceback:\n",
      "\tfilename: \t/Users/vishalsoodmuchu/.vmgr_repo/py37/lib/python3.7/site-packages/neuro_dmt/models/bluebrain/circuit/mock/test/mock_circuit_light.py\n",
      "\tlineno: \t104\n",
      "\tcode_context: \t['        log.get_source_info(),\\n']\n",
      "\tindex: 0\n",
      "\n",
      "get excitatory cell density for layer 5\n",
      "with number of excitatory mtypes: 3\n",
      "================================================================================\n",
      "\n",
      "================================================================================\n",
      "\u001b[4mtest develop mock circuit Logger                                                \u001b[0m\n",
      "\u001b[4mDEBUGINFO@<2020-02-17 18:07:35>                                                 \u001b[0m\n",
      "Traceback:\n",
      "\tfilename: \t/Users/vishalsoodmuchu/.vmgr_repo/py37/lib/python3.7/site-packages/neuro_dmt/models/bluebrain/circuit/mock/test/mock_circuit_light.py\n",
      "\tlineno: \t104\n",
      "\tcode_context: \t['        log.get_source_info(),\\n']\n",
      "\tindex: 0\n",
      "\n",
      "get excitatory cell density for layer 5\n",
      "with number of excitatory mtypes: 3\n",
      "================================================================================\n",
      "\n",
      "================================================================================\n",
      "\u001b[4mtest develop mock circuit Logger                                                \u001b[0m\n",
      "\u001b[4mDEBUGINFO@<2020-02-17 18:07:35>                                                 \u001b[0m\n",
      "Traceback:\n",
      "\tfilename: \t/Users/vishalsoodmuchu/.vmgr_repo/py37/lib/python3.7/site-packages/neuro_dmt/models/bluebrain/circuit/mock/test/mock_circuit_light.py\n",
      "\tlineno: \t104\n",
      "\tcode_context: \t['        log.get_source_info(),\\n']\n",
      "\tindex: 0\n",
      "\n",
      "get excitatory cell density for layer 5\n",
      "with number of excitatory mtypes: 3\n",
      "================================================================================\n",
      "\n",
      "================================================================================\n",
      "\u001b[4mtest develop mock circuit Logger                                                \u001b[0m\n",
      "\u001b[4mDEBUGINFO@<2020-02-17 18:07:35>                                                 \u001b[0m\n",
      "Traceback:\n",
      "\tfilename: \t/Users/vishalsoodmuchu/.vmgr_repo/py37/lib/python3.7/site-packages/neuro_dmt/models/bluebrain/circuit/mock/test/mock_circuit_light.py\n",
      "\tlineno: \t104\n",
      "\tcode_context: \t['        log.get_source_info(),\\n']\n",
      "\tindex: 0\n",
      "\n",
      "get excitatory cell density for layer 5\n",
      "with number of excitatory mtypes: 3\n",
      "================================================================================\n",
      "\n",
      "================================================================================\n",
      "\u001b[4mtest develop mock circuit Logger                                                \u001b[0m\n",
      "\u001b[4mDEBUGINFO@<2020-02-17 18:07:35>                                                 \u001b[0m\n",
      "Traceback:\n",
      "\tfilename: \t/Users/vishalsoodmuchu/.vmgr_repo/py37/lib/python3.7/site-packages/neuro_dmt/models/bluebrain/circuit/mock/test/mock_circuit_light.py\n",
      "\tlineno: \t104\n",
      "\tcode_context: \t['        log.get_source_info(),\\n']\n",
      "\tindex: 0\n",
      "\n",
      "get excitatory cell density for layer 5\n",
      "with number of excitatory mtypes: 3\n",
      "================================================================================\n",
      "\n",
      "================================================================================\n",
      "\u001b[4mtest develop mock circuit Logger                                                \u001b[0m\n",
      "\u001b[4mDEBUGINFO@<2020-02-17 18:07:35>                                                 \u001b[0m\n",
      "Traceback:\n",
      "\tfilename: \t/Users/vishalsoodmuchu/.vmgr_repo/py37/lib/python3.7/site-packages/neuro_dmt/models/bluebrain/circuit/mock/test/mock_circuit_light.py\n",
      "\tlineno: \t104\n",
      "\tcode_context: \t['        log.get_source_info(),\\n']\n",
      "\tindex: 0\n",
      "\n",
      "get excitatory cell density for layer 5\n",
      "with number of excitatory mtypes: 3\n",
      "================================================================================\n",
      "\n",
      "================================================================================\n",
      "\u001b[4mtest develop mock circuit Logger                                                \u001b[0m\n",
      "\u001b[4mDEBUGINFO@<2020-02-17 18:07:35>                                                 \u001b[0m\n",
      "Traceback:\n",
      "\tfilename: \t/Users/vishalsoodmuchu/.vmgr_repo/py37/lib/python3.7/site-packages/neuro_dmt/models/bluebrain/circuit/mock/test/mock_circuit_light.py\n",
      "\tlineno: \t104\n",
      "\tcode_context: \t['        log.get_source_info(),\\n']\n",
      "\tindex: 0\n",
      "\n",
      "get excitatory cell density for layer 5\n",
      "with number of excitatory mtypes: 3\n",
      "================================================================================\n",
      "\n",
      "================================================================================\n",
      "\u001b[4mtest develop mock circuit Logger                                                \u001b[0m\n",
      "\u001b[4mDEBUGINFO@<2020-02-17 18:07:35>                                                 \u001b[0m\n",
      "Traceback:\n",
      "\tfilename: \t/Users/vishalsoodmuchu/.vmgr_repo/py37/lib/python3.7/site-packages/neuro_dmt/models/bluebrain/circuit/mock/test/mock_circuit_light.py\n",
      "\tlineno: \t104\n",
      "\tcode_context: \t['        log.get_source_info(),\\n']\n",
      "\tindex: 0\n",
      "\n",
      "get excitatory cell density for layer 5\n",
      "with number of excitatory mtypes: 3\n",
      "================================================================================\n",
      "\n",
      "================================================================================\n",
      "\u001b[4mtest develop mock circuit Logger                                                \u001b[0m\n",
      "\u001b[4mDEBUGINFO@<2020-02-17 18:07:35>                                                 \u001b[0m\n",
      "Traceback:\n",
      "\tfilename: \t/Users/vishalsoodmuchu/.vmgr_repo/py37/lib/python3.7/site-packages/neuro_dmt/models/bluebrain/circuit/mock/test/mock_circuit_light.py\n",
      "\tlineno: \t104\n",
      "\tcode_context: \t['        log.get_source_info(),\\n']\n",
      "\tindex: 0\n",
      "\n",
      "get excitatory cell density for layer 6\n",
      "with number of excitatory mtypes: 4\n",
      "================================================================================\n",
      "\n",
      "================================================================================\n",
      "\u001b[4mtest develop mock circuit Logger                                                \u001b[0m\n",
      "\u001b[4mDEBUGINFO@<2020-02-17 18:07:35>                                                 \u001b[0m\n",
      "Traceback:\n",
      "\tfilename: \t/Users/vishalsoodmuchu/.vmgr_repo/py37/lib/python3.7/site-packages/neuro_dmt/models/bluebrain/circuit/mock/test/mock_circuit_light.py\n",
      "\tlineno: \t104\n",
      "\tcode_context: \t['        log.get_source_info(),\\n']\n",
      "\tindex: 0\n",
      "\n",
      "get excitatory cell density for layer 6\n",
      "with number of excitatory mtypes: 4\n",
      "================================================================================\n",
      "\n",
      "================================================================================\n",
      "\u001b[4mtest develop mock circuit Logger                                                \u001b[0m\n",
      "\u001b[4mDEBUGINFO@<2020-02-17 18:07:35>                                                 \u001b[0m\n",
      "Traceback:\n",
      "\tfilename: \t/Users/vishalsoodmuchu/.vmgr_repo/py37/lib/python3.7/site-packages/neuro_dmt/models/bluebrain/circuit/mock/test/mock_circuit_light.py\n",
      "\tlineno: \t104\n",
      "\tcode_context: \t['        log.get_source_info(),\\n']\n",
      "\tindex: 0\n",
      "\n",
      "get excitatory cell density for layer 6\n",
      "with number of excitatory mtypes: 4\n",
      "================================================================================\n",
      "\n",
      "================================================================================\n",
      "\u001b[4mtest develop mock circuit Logger                                                \u001b[0m\n",
      "\u001b[4mDEBUGINFO@<2020-02-17 18:07:35>                                                 \u001b[0m\n",
      "Traceback:\n",
      "\tfilename: \t/Users/vishalsoodmuchu/.vmgr_repo/py37/lib/python3.7/site-packages/neuro_dmt/models/bluebrain/circuit/mock/test/mock_circuit_light.py\n",
      "\tlineno: \t104\n",
      "\tcode_context: \t['        log.get_source_info(),\\n']\n",
      "\tindex: 0\n",
      "\n",
      "get excitatory cell density for layer 6\n",
      "with number of excitatory mtypes: 4\n",
      "================================================================================\n",
      "\n",
      "================================================================================\n",
      "\u001b[4mtest develop mock circuit Logger                                                \u001b[0m\n",
      "\u001b[4mDEBUGINFO@<2020-02-17 18:07:35>                                                 \u001b[0m\n",
      "Traceback:\n",
      "\tfilename: \t/Users/vishalsoodmuchu/.vmgr_repo/py37/lib/python3.7/site-packages/neuro_dmt/models/bluebrain/circuit/mock/test/mock_circuit_light.py\n",
      "\tlineno: \t104\n",
      "\tcode_context: \t['        log.get_source_info(),\\n']\n",
      "\tindex: 0\n",
      "\n",
      "get excitatory cell density for layer 6\n",
      "with number of excitatory mtypes: 4\n",
      "================================================================================\n",
      "\n"
     ]
    },
    {
     "name": "stdout",
     "output_type": "stream",
     "text": [
      "================================================================================\n",
      "\u001b[4mtest develop mock circuit Logger                                                \u001b[0m\n",
      "\u001b[4mDEBUGINFO@<2020-02-17 18:07:35>                                                 \u001b[0m\n",
      "Traceback:\n",
      "\tfilename: \t/Users/vishalsoodmuchu/.vmgr_repo/py37/lib/python3.7/site-packages/neuro_dmt/models/bluebrain/circuit/mock/test/mock_circuit_light.py\n",
      "\tlineno: \t104\n",
      "\tcode_context: \t['        log.get_source_info(),\\n']\n",
      "\tindex: 0\n",
      "\n",
      "get excitatory cell density for layer 6\n",
      "with number of excitatory mtypes: 4\n",
      "================================================================================\n",
      "\n",
      "================================================================================\n",
      "\u001b[4mtest develop mock circuit Logger                                                \u001b[0m\n",
      "\u001b[4mDEBUGINFO@<2020-02-17 18:07:35>                                                 \u001b[0m\n",
      "Traceback:\n",
      "\tfilename: \t/Users/vishalsoodmuchu/.vmgr_repo/py37/lib/python3.7/site-packages/neuro_dmt/models/bluebrain/circuit/mock/test/mock_circuit_light.py\n",
      "\tlineno: \t104\n",
      "\tcode_context: \t['        log.get_source_info(),\\n']\n",
      "\tindex: 0\n",
      "\n",
      "get excitatory cell density for layer 6\n",
      "with number of excitatory mtypes: 4\n",
      "================================================================================\n",
      "\n",
      "================================================================================\n",
      "\u001b[4mtest develop mock circuit Logger                                                \u001b[0m\n",
      "\u001b[4mDEBUGINFO@<2020-02-17 18:07:35>                                                 \u001b[0m\n",
      "Traceback:\n",
      "\tfilename: \t/Users/vishalsoodmuchu/.vmgr_repo/py37/lib/python3.7/site-packages/neuro_dmt/models/bluebrain/circuit/mock/test/mock_circuit_light.py\n",
      "\tlineno: \t104\n",
      "\tcode_context: \t['        log.get_source_info(),\\n']\n",
      "\tindex: 0\n",
      "\n",
      "get excitatory cell density for layer 6\n",
      "with number of excitatory mtypes: 4\n",
      "================================================================================\n",
      "\n",
      "================================================================================\n",
      "\u001b[4mtest develop mock circuit Logger                                                \u001b[0m\n",
      "\u001b[4mDEBUGINFO@<2020-02-17 18:07:35>                                                 \u001b[0m\n",
      "Traceback:\n",
      "\tfilename: \t/Users/vishalsoodmuchu/.vmgr_repo/py37/lib/python3.7/site-packages/neuro_dmt/models/bluebrain/circuit/mock/test/mock_circuit_light.py\n",
      "\tlineno: \t104\n",
      "\tcode_context: \t['        log.get_source_info(),\\n']\n",
      "\tindex: 0\n",
      "\n",
      "get excitatory cell density for layer 6\n",
      "with number of excitatory mtypes: 4\n",
      "================================================================================\n",
      "\n",
      "================================================================================\n",
      "\u001b[4mtest develop mock circuit Logger                                                \u001b[0m\n",
      "\u001b[4mDEBUGINFO@<2020-02-17 18:07:35>                                                 \u001b[0m\n",
      "Traceback:\n",
      "\tfilename: \t/Users/vishalsoodmuchu/.vmgr_repo/py37/lib/python3.7/site-packages/neuro_dmt/models/bluebrain/circuit/mock/test/mock_circuit_light.py\n",
      "\tlineno: \t104\n",
      "\tcode_context: \t['        log.get_source_info(),\\n']\n",
      "\tindex: 0\n",
      "\n",
      "get excitatory cell density for layer 6\n",
      "with number of excitatory mtypes: 4\n",
      "================================================================================\n",
      "\n",
      "================================================================================\n",
      "\u001b[4mtest develop mock circuit Logger                                                \u001b[0m\n",
      "\u001b[4mDEBUGINFO@<2020-02-17 18:07:35>                                                 \u001b[0m\n",
      "Traceback:\n",
      "\tfilename: \t/Users/vishalsoodmuchu/.vmgr_repo/py37/lib/python3.7/site-packages/neuro_dmt/models/bluebrain/circuit/mock/test/mock_circuit_light.py\n",
      "\tlineno: \t104\n",
      "\tcode_context: \t['        log.get_source_info(),\\n']\n",
      "\tindex: 0\n",
      "\n",
      "get excitatory cell density for layer 6\n",
      "with number of excitatory mtypes: 4\n",
      "================================================================================\n",
      "\n",
      "================================================================================\n",
      "\u001b[4mtest develop mock circuit Logger                                                \u001b[0m\n",
      "\u001b[4mDEBUGINFO@<2020-02-17 18:07:35>                                                 \u001b[0m\n",
      "Traceback:\n",
      "\tfilename: \t/Users/vishalsoodmuchu/.vmgr_repo/py37/lib/python3.7/site-packages/neuro_dmt/models/bluebrain/circuit/mock/test/mock_circuit_light.py\n",
      "\tlineno: \t104\n",
      "\tcode_context: \t['        log.get_source_info(),\\n']\n",
      "\tindex: 0\n",
      "\n",
      "get excitatory cell density for layer 6\n",
      "with number of excitatory mtypes: 4\n",
      "================================================================================\n",
      "\n",
      "================================================================================\n",
      "\u001b[4mtest develop mock circuit Logger                                                \u001b[0m\n",
      "\u001b[4mDEBUGINFO@<2020-02-17 18:07:35>                                                 \u001b[0m\n",
      "Traceback:\n",
      "\tfilename: \t/Users/vishalsoodmuchu/.vmgr_repo/py37/lib/python3.7/site-packages/neuro_dmt/models/bluebrain/circuit/mock/test/mock_circuit_light.py\n",
      "\tlineno: \t104\n",
      "\tcode_context: \t['        log.get_source_info(),\\n']\n",
      "\tindex: 0\n",
      "\n",
      "get excitatory cell density for layer 6\n",
      "with number of excitatory mtypes: 4\n",
      "================================================================================\n",
      "\n",
      "================================================================================\n",
      "\u001b[4mtest develop mock circuit Logger                                                \u001b[0m\n",
      "\u001b[4mDEBUGINFO@<2020-02-17 18:07:35>                                                 \u001b[0m\n",
      "Traceback:\n",
      "\tfilename: \t/Users/vishalsoodmuchu/.vmgr_repo/py37/lib/python3.7/site-packages/neuro_dmt/models/bluebrain/circuit/mock/test/mock_circuit_light.py\n",
      "\tlineno: \t104\n",
      "\tcode_context: \t['        log.get_source_info(),\\n']\n",
      "\tindex: 0\n",
      "\n",
      "get excitatory cell density for layer 6\n",
      "with number of excitatory mtypes: 4\n",
      "================================================================================\n",
      "\n",
      "================================================================================\n",
      "\u001b[4mtest develop mock circuit Logger                                                \u001b[0m\n",
      "\u001b[4mDEBUGINFO@<2020-02-17 18:07:35>                                                 \u001b[0m\n",
      "Traceback:\n",
      "\tfilename: \t/Users/vishalsoodmuchu/.vmgr_repo/py37/lib/python3.7/site-packages/neuro_dmt/models/bluebrain/circuit/mock/test/mock_circuit_light.py\n",
      "\tlineno: \t104\n",
      "\tcode_context: \t['        log.get_source_info(),\\n']\n",
      "\tindex: 0\n",
      "\n",
      "get excitatory cell density for layer 6\n",
      "with number of excitatory mtypes: 4\n",
      "================================================================================\n",
      "\n",
      "================================================================================\n",
      "\u001b[4mtest develop mock circuit Logger                                                \u001b[0m\n",
      "\u001b[4mDEBUGINFO@<2020-02-17 18:07:35>                                                 \u001b[0m\n",
      "Traceback:\n",
      "\tfilename: \t/Users/vishalsoodmuchu/.vmgr_repo/py37/lib/python3.7/site-packages/neuro_dmt/models/bluebrain/circuit/mock/test/mock_circuit_light.py\n",
      "\tlineno: \t104\n",
      "\tcode_context: \t['        log.get_source_info(),\\n']\n",
      "\tindex: 0\n",
      "\n",
      "get excitatory cell density for layer 6\n",
      "with number of excitatory mtypes: 4\n",
      "================================================================================\n",
      "\n"
     ]
    }
   ],
   "source": [
    "import numpy as np\n",
    "import pandas as pd\n",
    "from neuro_dmt.models.bluebrain.circuit.model import\\\n",
    "    BlueBrainCircuitModel\n",
    "from neuro_dmt.models.bluebrain.circuit.mock.circuit import\\\n",
    "    MockCircuit\n",
    "from neuro_dmt.models.bluebrain.circuit.mock.test.mock_circuit_light import\\\n",
    "    circuit_composition,\\\n",
    "    circuit_connectivity"
   ]
  },
  {
   "cell_type": "code",
   "execution_count": 2,
   "metadata": {
    "ExecuteTime": {
     "end_time": "2020-02-17T17:08:39.165287Z",
     "start_time": "2020-02-17T17:08:11.497198Z"
    }
   },
   "outputs": [],
   "source": [
    "from neuro_dmt.models.bluebrain.circuit.mock.builder\\\n",
    "    import CircuitBuilder\n",
    "builder =\\\n",
    "    CircuitBuilder(\n",
    "        composition=circuit_composition,\n",
    "        connectivity=circuit_connectivity)\n",
    "cells = builder.get_cell_collection()"
   ]
  },
  {
   "cell_type": "code",
   "execution_count": 3,
   "metadata": {
    "ExecuteTime": {
     "end_time": "2020-02-17T17:16:09.117561Z",
     "start_time": "2020-02-17T17:08:44.788521Z"
    }
   },
   "outputs": [
    {
     "name": "stderr",
     "output_type": "stream",
     "text": [
      "82304it [05:00, 273.52it/s]\n",
      "  0%|          | 89/82304 [00:00<01:33, 875.73it/s]"
     ]
    },
    {
     "name": "stdout",
     "output_type": "stream",
     "text": [
      "================================================================================\n",
      "\u001b[4m/Users/vishalsoodmuchu/.vmgr_repo/py37/lib/python3.7/site-packages/neuro_dmt/models/bluebrain/circuit/mock/builder.py Logger\u001b[0m\n",
      "\u001b[4mDEBUGINFO@<2020-02-17 18:07:35>                                                 \u001b[0m\n",
      "Get afferent synapse counts.\n",
      "================================================================================\n",
      "\n"
     ]
    },
    {
     "name": "stderr",
     "output_type": "stream",
     "text": [
      "100%|██████████| 82304/82304 [02:14<00:00, 613.22it/s] \n"
     ]
    }
   ],
   "source": [
    "connectome = builder.get_connectome(cells)"
   ]
  },
  {
   "cell_type": "code",
   "execution_count": 4,
   "metadata": {
    "ExecuteTime": {
     "end_time": "2020-02-17T17:16:33.595361Z",
     "start_time": "2020-02-17T17:16:11.174841Z"
    }
   },
   "outputs": [
    {
     "name": "stderr",
     "output_type": "stream",
     "text": [
      "100%|██████████| 82304/82304 [00:11<00:00, 7477.81it/s]\n"
     ]
    }
   ],
   "source": [
    "#connectome.afferent_adjacency[0]\n",
    "connections = connectome.connections"
   ]
  },
  {
   "cell_type": "code",
   "execution_count": 5,
   "metadata": {
    "ExecuteTime": {
     "end_time": "2020-02-17T17:16:35.352242Z",
     "start_time": "2020-02-17T17:16:35.340149Z"
    }
   },
   "outputs": [
    {
     "data": {
      "text/html": [
       "<div>\n",
       "<style scoped>\n",
       "    .dataframe tbody tr th:only-of-type {\n",
       "        vertical-align: middle;\n",
       "    }\n",
       "\n",
       "    .dataframe tbody tr th {\n",
       "        vertical-align: top;\n",
       "    }\n",
       "\n",
       "    .dataframe thead th {\n",
       "        text-align: right;\n",
       "    }\n",
       "</style>\n",
       "<table border=\"1\" class=\"dataframe\">\n",
       "  <thead>\n",
       "    <tr style=\"text-align: right;\">\n",
       "      <th></th>\n",
       "      <th>pre_synaptic_cell_gid</th>\n",
       "      <th>post_synaptic_cell_gid</th>\n",
       "      <th>strength</th>\n",
       "    </tr>\n",
       "  </thead>\n",
       "  <tbody>\n",
       "    <tr>\n",
       "      <th>16457146</th>\n",
       "      <td>80173</td>\n",
       "      <td>82303</td>\n",
       "      <td>4</td>\n",
       "    </tr>\n",
       "    <tr>\n",
       "      <th>16457147</th>\n",
       "      <td>80417</td>\n",
       "      <td>82303</td>\n",
       "      <td>1</td>\n",
       "    </tr>\n",
       "    <tr>\n",
       "      <th>16457148</th>\n",
       "      <td>80474</td>\n",
       "      <td>82303</td>\n",
       "      <td>5</td>\n",
       "    </tr>\n",
       "    <tr>\n",
       "      <th>16457149</th>\n",
       "      <td>80695</td>\n",
       "      <td>82303</td>\n",
       "      <td>5</td>\n",
       "    </tr>\n",
       "    <tr>\n",
       "      <th>16457150</th>\n",
       "      <td>80718</td>\n",
       "      <td>82303</td>\n",
       "      <td>4</td>\n",
       "    </tr>\n",
       "  </tbody>\n",
       "</table>\n",
       "</div>"
      ],
      "text/plain": [
       "          pre_synaptic_cell_gid  post_synaptic_cell_gid  strength\n",
       "16457146                  80173                   82303         4\n",
       "16457147                  80417                   82303         1\n",
       "16457148                  80474                   82303         5\n",
       "16457149                  80695                   82303         5\n",
       "16457150                  80718                   82303         4"
      ]
     },
     "execution_count": 5,
     "metadata": {},
     "output_type": "execute_result"
    }
   ],
   "source": [
    "connections.tail()"
   ]
  },
  {
   "cell_type": "code",
   "execution_count": 6,
   "metadata": {
    "ExecuteTime": {
     "end_time": "2020-02-17T17:16:38.713385Z",
     "start_time": "2020-02-17T17:16:36.760977Z"
    }
   },
   "outputs": [],
   "source": [
    "synapse_counts =\\\n",
    "    connections.set_index([\"pre_synaptic_cell_gid\", \"post_synaptic_cell_gid\"])\\\n",
    "               .strength"
   ]
  },
  {
   "cell_type": "code",
   "execution_count": 7,
   "metadata": {
    "ExecuteTime": {
     "end_time": "2020-02-17T17:16:57.706916Z",
     "start_time": "2020-02-17T17:16:39.729464Z"
    }
   },
   "outputs": [
    {
     "data": {
      "text/plain": [
       "pre_synaptic_cell_gid  post_synaptic_cell_gid\n",
       "0                      349                       3\n",
       "                       415                       4\n",
       "                       482                       5\n",
       "                       644                       2\n",
       "                       1639                      7\n",
       "Name: strength, dtype: int64"
      ]
     },
     "execution_count": 7,
     "metadata": {},
     "output_type": "execute_result"
    }
   ],
   "source": [
    "synapse_counts.sort_index(level=(\"pre_synaptic_cell_gid\", \"post_synaptic_cell_gid\"))\\\n",
    "              .head()"
   ]
  },
  {
   "cell_type": "code",
   "execution_count": 8,
   "metadata": {
    "ExecuteTime": {
     "end_time": "2020-02-17T17:17:31.368262Z",
     "start_time": "2020-02-17T17:17:00.165115Z"
    }
   },
   "outputs": [
    {
     "name": "stdout",
     "output_type": "stream",
     "text": [
      "[  280   281   282 ... 62681 62682 62683]\n",
      "[14180 14181 14182 ... 78037 78038 78039]\n"
     ]
    },
    {
     "data": {
      "text/plain": [
       "pre_synaptic_cell_gid  post_synaptic_cell_gid\n",
       "280                    62                        6\n",
       "                       1021                      4\n",
       "                       1064                      7\n",
       "                       1451                      5\n",
       "                       1461                      3\n",
       "                                                ..\n",
       "62683                  80127                     5\n",
       "                       80485                     5\n",
       "                       80823                     7\n",
       "                       81164                     3\n",
       "                       82177                     4\n",
       "Name: strength, Length: 262449, dtype: int64"
      ]
     },
     "execution_count": 8,
     "metadata": {},
     "output_type": "execute_result"
    }
   ],
   "source": [
    "pre_gids =\\\n",
    "    cells.get({\"mtype\": \"L23_MC\"}).index.values\n",
    "print(pre_gids)\n",
    "post_gids =\\\n",
    "    cells.get({\"mtype\": \"L6_TPC:A\"}).index.values\n",
    "print(post_gids)\n",
    "connectome.synapse_count.loc[pre_gids]"
   ]
  },
  {
   "cell_type": "code",
   "execution_count": 9,
   "metadata": {
    "ExecuteTime": {
     "end_time": "2020-02-17T17:17:35.826815Z",
     "start_time": "2020-02-17T17:17:35.817194Z"
    }
   },
   "outputs": [
    {
     "name": "stdout",
     "output_type": "stream",
     "text": [
      "(14630, 10.0)\n",
      "(14937, 2.0)\n",
      "(15282, 6.0)\n",
      "(15556, 8.0)\n",
      "(15570, 6.0)\n",
      "(15593, 5.0)\n",
      "(15746, 9.0)\n",
      "(35312, 3.0)\n",
      "(36097, 5.0)\n",
      "(36299, 5.0)\n",
      "(36634, 8.0)\n",
      "(55483, 5.0)\n",
      "(55719, 3.0)\n",
      "(56406, 2.0)\n",
      "(56753, 6.0)\n",
      "(75949, 4.0)\n",
      "(76639, 9.0)\n",
      "(76648, 6.0)\n",
      "(77341, 6.0)\n",
      "(77796, 3.0)\n",
      "(77969, 2.0)\n",
      "(78008, 3.0)\n"
     ]
    }
   ],
   "source": [
    "efferent_synapse_count =\\\n",
    "    connectome.synapse_count\\\n",
    "              .loc[pre_gids[0]]\\\n",
    "              .reindex(post_gids)\\\n",
    "              .dropna()\n",
    "for x in efferent_synapse_count.iteritems():\n",
    "    print(x)"
   ]
  },
  {
   "cell_type": "code",
   "execution_count": 13,
   "metadata": {
    "ExecuteTime": {
     "end_time": "2020-02-17T17:19:30.390932Z",
     "start_time": "2020-02-17T17:19:25.775432Z"
    }
   },
   "outputs": [
    {
     "name": "stderr",
     "output_type": "stream",
     "text": [
      "27164it [00:04, 5943.15it/s]"
     ]
    },
    {
     "name": "stdout",
     "output_type": "stream",
     "text": [
      "1312 8528 27164\n"
     ]
    },
    {
     "name": "stderr",
     "output_type": "stream",
     "text": [
      "\n"
     ]
    },
    {
     "data": {
      "text/html": [
       "<div>\n",
       "<style scoped>\n",
       "    .dataframe tbody tr th:only-of-type {\n",
       "        vertical-align: middle;\n",
       "    }\n",
       "\n",
       "    .dataframe tbody tr th {\n",
       "        vertical-align: top;\n",
       "    }\n",
       "\n",
       "    .dataframe thead th {\n",
       "        text-align: right;\n",
       "    }\n",
       "</style>\n",
       "<table border=\"1\" class=\"dataframe\">\n",
       "  <thead>\n",
       "    <tr style=\"text-align: right;\">\n",
       "      <th></th>\n",
       "      <th>pre_gid</th>\n",
       "      <th>post_gid</th>\n",
       "      <th>strength</th>\n",
       "    </tr>\n",
       "  </thead>\n",
       "  <tbody>\n",
       "    <tr>\n",
       "      <th>0</th>\n",
       "      <td>280</td>\n",
       "      <td>14630</td>\n",
       "      <td>10.0</td>\n",
       "    </tr>\n",
       "    <tr>\n",
       "      <th>1</th>\n",
       "      <td>280</td>\n",
       "      <td>14937</td>\n",
       "      <td>2.0</td>\n",
       "    </tr>\n",
       "    <tr>\n",
       "      <th>2</th>\n",
       "      <td>280</td>\n",
       "      <td>15282</td>\n",
       "      <td>6.0</td>\n",
       "    </tr>\n",
       "    <tr>\n",
       "      <th>3</th>\n",
       "      <td>280</td>\n",
       "      <td>15556</td>\n",
       "      <td>8.0</td>\n",
       "    </tr>\n",
       "    <tr>\n",
       "      <th>4</th>\n",
       "      <td>280</td>\n",
       "      <td>15570</td>\n",
       "      <td>6.0</td>\n",
       "    </tr>\n",
       "  </tbody>\n",
       "</table>\n",
       "</div>"
      ],
      "text/plain": [
       "   pre_gid  post_gid  strength\n",
       "0      280     14630      10.0\n",
       "1      280     14937       2.0\n",
       "2      280     15282       6.0\n",
       "3      280     15556       8.0\n",
       "4      280     15570       6.0"
      ]
     },
     "execution_count": 13,
     "metadata": {},
     "output_type": "execute_result"
    }
   ],
   "source": [
    "from tqdm import tqdm\n",
    "\n",
    "def iter_connections(pre_gids, post_gids):\n",
    "    for pre_gid in pre_gids:\n",
    "        for post_gid, strength in connectome.synapse_count\\\n",
    "                                             .loc[pre_gid]\\\n",
    "                                             .reindex(post_gids)\\\n",
    "                                             .dropna():\n",
    "            yield (pre_gid, post_gid, strength.strength)\n",
    "\n",
    "cnxns =\\\n",
    "    pd.DataFrame(\n",
    "        [x for x in tqdm(connectome.iter_connections(pre_gids, post_gids))],\n",
    "        columns=[\"pre_gid\", \"post_gid\", \"strength\"])\n",
    "print(len(pre_gids), len(post_gids), cnxns.shape[0])\n",
    "cnxns.head()"
   ]
  },
  {
   "cell_type": "code",
   "execution_count": 22,
   "metadata": {
    "ExecuteTime": {
     "end_time": "2020-02-17T15:34:13.740006Z",
     "start_time": "2020-02-17T15:34:13.668313Z"
    }
   },
   "outputs": [
    {
     "name": "stdout",
     "output_type": "stream",
     "text": [
      "    region  layer   mtype\n",
      "280   S1HL      2  L23_MC\n",
      "281   S1HL      2  L23_MC\n",
      "282   S1HL      2  L23_MC\n",
      "283   S1HL      2  L23_MC\n",
      "284   S1HL      2  L23_MC\n",
      "----------------------------------------------------------------------\n",
      "      region  layer   mtype\n",
      "62679   S1Sh      3  L23_MC\n",
      "62680   S1Sh      3  L23_MC\n",
      "62681   S1Sh      3  L23_MC\n",
      "62682   S1Sh      3  L23_MC\n",
      "62683   S1Sh      3  L23_MC\n",
      "----------------------------------------------------------------------\n"
     ]
    },
    {
     "data": {
      "text/plain": [
       "array([  280,   281,   282, ..., 62681, 62682, 62683])"
      ]
     },
     "execution_count": 22,
     "metadata": {},
     "output_type": "execute_result"
    }
   ],
   "source": [
    "l23_mcs = cells.get({\"mtype\": \"L23_MC\"})[[\"region\", \"layer\", \"mtype\"]]\n",
    "print(l23_mcs.head())\n",
    "print(70*'-')\n",
    "print(l23_mcs.tail())\n",
    "print(70*'-')\n",
    "l23_mcs.index.values"
   ]
  },
  {
   "cell_type": "code",
   "execution_count": 24,
   "metadata": {
    "ExecuteTime": {
     "end_time": "2020-02-17T15:34:46.379975Z",
     "start_time": "2020-02-17T15:34:46.366345Z"
    }
   },
   "outputs": [
    {
     "data": {
      "text/html": [
       "<div>\n",
       "<style scoped>\n",
       "    .dataframe tbody tr th:only-of-type {\n",
       "        vertical-align: middle;\n",
       "    }\n",
       "\n",
       "    .dataframe tbody tr th {\n",
       "        vertical-align: top;\n",
       "    }\n",
       "\n",
       "    .dataframe thead th {\n",
       "        text-align: right;\n",
       "    }\n",
       "</style>\n",
       "<table border=\"1\" class=\"dataframe\">\n",
       "  <thead>\n",
       "    <tr style=\"text-align: right;\">\n",
       "      <th></th>\n",
       "      <th>region</th>\n",
       "      <th>layer</th>\n",
       "      <th>nucleus</th>\n",
       "      <th>mtype</th>\n",
       "      <th>etype</th>\n",
       "      <th>morph_class</th>\n",
       "      <th>synapse_class</th>\n",
       "      <th>x</th>\n",
       "      <th>y</th>\n",
       "      <th>z</th>\n",
       "    </tr>\n",
       "  </thead>\n",
       "  <tbody>\n",
       "    <tr>\n",
       "      <th>0</th>\n",
       "      <td>S1HL</td>\n",
       "      <td>1</td>\n",
       "      <td>not-defined</td>\n",
       "      <td>L1_DAC</td>\n",
       "      <td>bNAC</td>\n",
       "      <td>not-defined</td>\n",
       "      <td>INH</td>\n",
       "      <td>31.380002</td>\n",
       "      <td>57.823365</td>\n",
       "      <td>102.324811</td>\n",
       "    </tr>\n",
       "    <tr>\n",
       "      <th>1</th>\n",
       "      <td>S1HL</td>\n",
       "      <td>1</td>\n",
       "      <td>not-defined</td>\n",
       "      <td>L1_DAC</td>\n",
       "      <td>bNAC</td>\n",
       "      <td>not-defined</td>\n",
       "      <td>INH</td>\n",
       "      <td>98.084897</td>\n",
       "      <td>77.580030</td>\n",
       "      <td>243.071500</td>\n",
       "    </tr>\n",
       "    <tr>\n",
       "      <th>2</th>\n",
       "      <td>S1HL</td>\n",
       "      <td>1</td>\n",
       "      <td>not-defined</td>\n",
       "      <td>L1_DAC</td>\n",
       "      <td>bNAC</td>\n",
       "      <td>not-defined</td>\n",
       "      <td>INH</td>\n",
       "      <td>97.775354</td>\n",
       "      <td>18.319712</td>\n",
       "      <td>10.262522</td>\n",
       "    </tr>\n",
       "    <tr>\n",
       "      <th>3</th>\n",
       "      <td>S1HL</td>\n",
       "      <td>1</td>\n",
       "      <td>not-defined</td>\n",
       "      <td>L1_DAC</td>\n",
       "      <td>bNAC</td>\n",
       "      <td>not-defined</td>\n",
       "      <td>INH</td>\n",
       "      <td>155.128433</td>\n",
       "      <td>43.487925</td>\n",
       "      <td>138.431076</td>\n",
       "    </tr>\n",
       "    <tr>\n",
       "      <th>4</th>\n",
       "      <td>S1HL</td>\n",
       "      <td>1</td>\n",
       "      <td>not-defined</td>\n",
       "      <td>L1_DAC</td>\n",
       "      <td>bNAC</td>\n",
       "      <td>not-defined</td>\n",
       "      <td>INH</td>\n",
       "      <td>140.220470</td>\n",
       "      <td>8.947279</td>\n",
       "      <td>239.095651</td>\n",
       "    </tr>\n",
       "  </tbody>\n",
       "</table>\n",
       "</div>"
      ],
      "text/plain": [
       "  region  layer      nucleus   mtype etype  morph_class synapse_class  \\\n",
       "0   S1HL      1  not-defined  L1_DAC  bNAC  not-defined           INH   \n",
       "1   S1HL      1  not-defined  L1_DAC  bNAC  not-defined           INH   \n",
       "2   S1HL      1  not-defined  L1_DAC  bNAC  not-defined           INH   \n",
       "3   S1HL      1  not-defined  L1_DAC  bNAC  not-defined           INH   \n",
       "4   S1HL      1  not-defined  L1_DAC  bNAC  not-defined           INH   \n",
       "\n",
       "            x          y           z  \n",
       "0   31.380002  57.823365  102.324811  \n",
       "1   98.084897  77.580030  243.071500  \n",
       "2   97.775354  18.319712   10.262522  \n",
       "3  155.128433  43.487925  138.431076  \n",
       "4  140.220470   8.947279  239.095651  "
      ]
     },
     "execution_count": 24,
     "metadata": {},
     "output_type": "execute_result"
    }
   ],
   "source": [
    "cells.get().head()"
   ]
  },
  {
   "cell_type": "code",
   "execution_count": null,
   "metadata": {},
   "outputs": [],
   "source": [
    "bluepy_mock_circuit =\\\n",
    "    MockCircuit.build(\n",
    "        circuit_composition,\n",
    "        circuit_connectivity)\n",
    "mock_circuit_model =\\\n",
    "    BlueBrainCircuitModel(\n",
    "        bluepy_mock_circuit,\n",
    "        label=\"BlueBrainCircuitModelMockLight\")"
   ]
  },
  {
   "cell_type": "code",
   "execution_count": null,
   "metadata": {
    "ExecuteTime": {
     "start_time": "2020-02-17T10:28:52.320Z"
    }
   },
   "outputs": [],
   "source": [
    "from neuro_dmt.models.bluebrain.circuit.mock.builder import CircuitBuilder\n",
    "circuit_builder =\\\n",
    "    CircuitBuilder(\n",
    "        composition=circuit_composition,\n",
    "        connectivity=circuit_connectivity)\n",
    "cells =\\\n",
    "    circuit_builder.get_cell_collection().get()\n",
    "cells.head()"
   ]
  },
  {
   "cell_type": "code",
   "execution_count": null,
   "metadata": {
    "ExecuteTime": {
     "end_time": "2020-02-17T10:02:30.964265Z",
     "start_time": "2020-02-17T10:02:30.953250Z"
    }
   },
   "outputs": [],
   "source": [
    "import pandas as pd\n",
    "def afferent_connections(self, post_synaptic_cell):\n",
    "    pre_synaptic_cells =\\\n",
    "        cells.sample(\n",
    "            self.get_afferent_degree(**post_synaptic_cell))\n",
    "    return\\\n",
    "        pd.DataFrame([\n",
    "            {\"pre_synaptic_cell_gid\": pre_gid,\n",
    "            \"synapse_count\": self.get_synapse_count(pre_synaptic_cell,\n",
    "                                                    post_synaptic_cell)}\n",
    "            for pre_gid, pre_synaptic_cell in pre_synaptic_cells.iterrows()])\n",
    "\n",
    "def get_connections(self, cells):\n",
    "    \"\"\"\n",
    "    Afferent connections for a post-synaptic cell\n",
    "    \"\"\"\n",
    "    def _afferent_connections(post_synaptic_cell):\n",
    "        pre_synaptic_cells =\\\n",
    "            cells.sample(\n",
    "                self.get_afferent_degree(**post_synaptic_cell))\n",
    "        return\\\n",
    "            pd.DataFrame([\n",
    "                {\"pre_synaptic_cell_gid\": pre_gid,\n",
    "                 \"synapse_count\": self.get_synapse_count(pre_synaptic_cell,\n",
    "                                                            post_synaptic_cell)}\n",
    "                for pre_gid, pre_synaptic_cell in pre_synaptic_cells.iterrows()])\n",
    "\n",
    "    return\\\n",
    "        pd.concat([\n",
    "            _afferent_connections(post_synaptic_cell).assign(\n",
    "                post_synaptic_cell_gid=post_gid)\n",
    "            for post_gid, post_synaptic_cell in cells.iterrows()])"
   ]
  },
  {
   "cell_type": "code",
   "execution_count": null,
   "metadata": {
    "ExecuteTime": {
     "end_time": "2020-02-17T10:26:36.946214Z",
     "start_time": "2020-02-17T10:02:35.387365Z"
    }
   },
   "outputs": [],
   "source": [
    "#afferent_connections(circuit_connectivity, cells.iloc[0])\n",
    "cnxns = get_connections(circuit_connectivity, cells)"
   ]
  },
  {
   "cell_type": "code",
   "execution_count": null,
   "metadata": {
    "ExecuteTime": {
     "end_time": "2020-02-17T09:58:00.889641Z",
     "start_time": "2020-02-17T09:58:00.879193Z"
    }
   },
   "outputs": [],
   "source": [
    "degree =\\\n",
    "    cells.sa\n",
    "pd.DataFrame([\n",
    "    {\"pre_synaptic_cell_gid\": pre_gid,\n",
    "     \"synapse_count\": circuit_connectivity.get_synapse_count(pre_synaptic_cell,\n",
    "                                                             post_synaptic_cell)}\n",
    "    for pre_gid, pre_synaptic_cell in cells.sample(degree).iterrows()])"
   ]
  },
  {
   "cell_type": "code",
   "execution_count": null,
   "metadata": {
    "ExecuteTime": {
     "end_time": "2020-02-17T09:06:53.880461Z",
     "start_time": "2020-02-17T09:06:53.873920Z"
    }
   },
   "outputs": [],
   "source": [
    "import pandas as pd\n",
    "def afferent_connections(post_synaptic_cell):\n",
    "    degree =\\\n",
    "        circuit_connectivity.get_afferent_degree(**post_synaptic_cell)\n",
    "    return\\\n",
    "        pd.DataFrame([\n",
    "            {\"pre_synaptic_cell_gid\": pre_gid,\n",
    "             \"synapse_count\": circuit_connectivity.get_synapse_count(\n",
    "                                 pre_synaptic_cell, post_synaptic_cell)}\n",
    "            for pre_gid, pre_synaptic_cell in cells.sample(degree).iterrows()])\n",
    "                    "
   ]
  },
  {
   "cell_type": "code",
   "execution_count": null,
   "metadata": {
    "ExecuteTime": {
     "end_time": "2020-02-17T09:02:03.269160Z",
     "start_time": "2020-02-17T09:02:03.259747Z"
    }
   },
   "outputs": [],
   "source": [
    "post_synaptic_cell = cells.iloc[0]\n",
    "pre_gids =\\\n",
    "    np.sort(np.random.choice(\n",
    "        cells.index,\n",
    "        circuit_connectivity.get_afferent_degree(**post_synaptic_cell)))\n",
    "print(len(pre_gids))\n",
    "print(pre_gids.shape)\n",
    "#cells.loc[pre_gids]"
   ]
  },
  {
   "cell_type": "code",
   "execution_count": null,
   "metadata": {
    "ExecuteTime": {
     "end_time": "2020-02-17T09:02:07.538016Z",
     "start_time": "2020-02-17T09:02:07.493655Z"
    }
   },
   "outputs": [],
   "source": [
    "pre_synaptic_cells =\\\n",
    "    cells.sample(\n",
    "        circuit_connectivity.get_afferent_degree(**post_synaptic_cell))\n",
    "print(pre_synaptic_cells.head()[[\"region\", \"layer\", \"mtype\"]])\n",
    "print(70*\"-\")\n",
    "for pre_gid, pre_cell in pre_synaptic_cells.head().iterrows():\n",
    "    print(pre_gid, pre_cell.region, pre_cell.layer, pre_cell.mtype)"
   ]
  },
  {
   "cell_type": "code",
   "execution_count": null,
   "metadata": {
    "ExecuteTime": {
     "end_time": "2020-02-17T09:06:58.425023Z",
     "start_time": "2020-02-17T09:06:58.328245Z"
    }
   },
   "outputs": [],
   "source": [
    "afferent_connections(post_synaptic_cell)"
   ]
  },
  {
   "cell_type": "code",
   "execution_count": null,
   "metadata": {},
   "outputs": [],
   "source": []
  }
 ],
 "metadata": {
  "kernelspec": {
   "display_name": "Python 3",
   "language": "python",
   "name": "python3"
  },
  "language_info": {
   "codemirror_mode": {
    "name": "ipython",
    "version": 3
   },
   "file_extension": ".py",
   "mimetype": "text/x-python",
   "name": "python",
   "nbconvert_exporter": "python",
   "pygments_lexer": "ipython3",
   "version": "3.7.4"
  },
  "latex_envs": {
   "LaTeX_envs_menu_present": true,
   "autoclose": false,
   "autocomplete": true,
   "bibliofile": "biblio.bib",
   "cite_by": "apalike",
   "current_citInitial": 1,
   "eqLabelWithNumbers": true,
   "eqNumInitial": 1,
   "hotkeys": {
    "equation": "Ctrl-E",
    "itemize": "Ctrl-I"
   },
   "labels_anchors": false,
   "latex_user_defs": false,
   "report_style_numbering": false,
   "user_envs_cfg": false
  },
  "toc": {
   "base_numbering": 1,
   "nav_menu": {},
   "number_sections": true,
   "sideBar": true,
   "skip_h1_title": false,
   "title_cell": "Table of Contents",
   "title_sidebar": "Contents",
   "toc_cell": false,
   "toc_position": {},
   "toc_section_display": true,
   "toc_window_display": false
  },
  "varInspector": {
   "cols": {
    "lenName": 16,
    "lenType": 16,
    "lenVar": 40
   },
   "kernels_config": {
    "python": {
     "delete_cmd_postfix": "",
     "delete_cmd_prefix": "del ",
     "library": "var_list.py",
     "varRefreshCmd": "print(var_dic_list())"
    },
    "r": {
     "delete_cmd_postfix": ") ",
     "delete_cmd_prefix": "rm(",
     "library": "var_list.r",
     "varRefreshCmd": "cat(var_dic_list()) "
    }
   },
   "types_to_exclude": [
    "module",
    "function",
    "builtin_function_or_method",
    "instance",
    "_Feature"
   ],
   "window_display": false
  }
 },
 "nbformat": 4,
 "nbformat_minor": 2
}
