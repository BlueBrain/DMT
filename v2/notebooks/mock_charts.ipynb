{
 "cells": [
  {
   "cell_type": "markdown",
   "metadata": {
    "ExecuteTime": {
     "end_time": "2020-02-19T16:00:40.051485Z",
     "start_time": "2020-02-19T16:00:40.043675Z"
    }
   },
   "source": [
    "# Network charts\n",
    "\n",
    "We develop network charts for a circuit connectome. \n",
    "We will use a mock circuit to speed up computation.\n",
    "This will allow us to develop the code for getting the graph data required to make the charts."
   ]
  },
  {
   "cell_type": "markdown",
   "metadata": {},
   "source": [
    "## Mock Circuit\n",
    "We have implemented a `MockCircuit` that follows our BBP circuits as much as \n",
    "required by our computations."
   ]
  },
  {
   "cell_type": "code",
   "execution_count": 14,
   "metadata": {
    "ExecuteTime": {
     "end_time": "2020-02-24T16:21:59.174105Z",
     "start_time": "2020-02-24T16:16:57.127186Z"
    }
   },
   "outputs": [
    {
     "name": "stderr",
     "output_type": "stream",
     "text": [
      "82304it [03:04, 445.51it/s]\n",
      "  0%|          | 97/82304 [00:00<01:25, 963.60it/s]"
     ]
    },
    {
     "name": "stdout",
     "output_type": "stream",
     "text": [
      "================================================================================\n",
      "\u001b[4m/Users/vishalsoodmuchu/.vmgr_repo/py37/lib/python3.7/site-packages/neuro_dmt/models/bluebrain/circuit/mock/builder.py Logger\u001b[0m\n",
      "\u001b[4mDEBUGINFO@<2020-02-17 18:07:35>                                                 \u001b[0m\n",
      "Get afferent synapse counts.\n",
      "================================================================================\n",
      "\n"
     ]
    },
    {
     "name": "stderr",
     "output_type": "stream",
     "text": [
      "100%|██████████| 82304/82304 [01:16<00:00, 1070.58it/s]\n"
     ]
    }
   ],
   "source": [
    "from neuro_dmt.models.bluebrain.circuit.mock.circuit import\\\n",
    "    MockBlueBrainCircuitModel\n",
    "from neuro_dmt.models.bluebrain.circuit.mock.test.mock_circuit_light import\\\n",
    "    circuit_composition,\\\n",
    "    circuit_connectivity\n",
    "mock_circuit_model =\\\n",
    "    MockBlueBrainCircuitModel(\n",
    "        circuit_composition, \n",
    "        circuit_connectivity,\n",
    "        label=\"BlueBrainCircuitModelMockLight\")"
   ]
  },
  {
   "cell_type": "markdown",
   "metadata": {},
   "source": [
    "## Network Phenomena\n",
    "To show on a network chart, we want a network phenomenon defined for \n",
    "mtype->mtype pathways. Number of connections in a pathway qualifies, and\n",
    "we can call number of connections in a pathways as the size of that pathway.\n",
    "We can also count the total number of synapses in a pathway, calling it as \n",
    "the strength of the pathway.\n",
    "\n",
    "However, we would need to compute pathway size and strength over all\n",
    "possible pairs in the circuit, which can be a hefty computation. \n",
    "We can estimate these quantities using an estimate for the \n",
    "probability that a given pair of (pre, post) cells are connected.\n",
    "\n",
    "Another possibility is to consider pairs that are within a given soma-distance \n",
    "of each other."
   ]
  }
 ],
 "metadata": {
  "kernelspec": {
   "display_name": "Python 3",
   "language": "python",
   "name": "python3"
  },
  "language_info": {
   "codemirror_mode": {
    "name": "ipython",
    "version": 3
   },
   "file_extension": ".py",
   "mimetype": "text/x-python",
   "name": "python",
   "nbconvert_exporter": "python",
   "pygments_lexer": "ipython3",
   "version": "3.7.4"
  },
  "latex_envs": {
   "LaTeX_envs_menu_present": true,
   "autoclose": false,
   "autocomplete": true,
   "bibliofile": "biblio.bib",
   "cite_by": "apalike",
   "current_citInitial": 1,
   "eqLabelWithNumbers": true,
   "eqNumInitial": 1,
   "hotkeys": {
    "equation": "Ctrl-E",
    "itemize": "Ctrl-I"
   },
   "labels_anchors": false,
   "latex_user_defs": false,
   "report_style_numbering": false,
   "user_envs_cfg": false
  },
  "toc": {
   "base_numbering": 1,
   "nav_menu": {},
   "number_sections": true,
   "sideBar": true,
   "skip_h1_title": false,
   "title_cell": "Table of Contents",
   "title_sidebar": "Contents",
   "toc_cell": false,
   "toc_position": {},
   "toc_section_display": true,
   "toc_window_display": false
  },
  "varInspector": {
   "cols": {
    "lenName": 16,
    "lenType": 16,
    "lenVar": 40
   },
   "kernels_config": {
    "python": {
     "delete_cmd_postfix": "",
     "delete_cmd_prefix": "del ",
     "library": "var_list.py",
     "varRefreshCmd": "print(var_dic_list())"
    },
    "r": {
     "delete_cmd_postfix": ") ",
     "delete_cmd_prefix": "rm(",
     "library": "var_list.r",
     "varRefreshCmd": "cat(var_dic_list()) "
    }
   },
   "types_to_exclude": [
    "module",
    "function",
    "builtin_function_or_method",
    "instance",
    "_Feature"
   ],
   "window_display": false
  }
 },
 "nbformat": 4,
 "nbformat_minor": 2
}
