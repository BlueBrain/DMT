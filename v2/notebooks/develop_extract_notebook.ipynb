{
 "cells": [
  {
   "cell_type": "markdown",
   "metadata": {},
   "source": [
    "Development code."
   ]
  },
  {
   "cell_type": "code",
   "execution_count": 14,
   "metadata": {
    "ExecuteTime": {
     "end_time": "2020-03-03T21:04:18.954744Z",
     "start_time": "2020-03-03T21:04:18.947781Z"
    }
   },
   "outputs": [],
   "source": [
    "import json\n",
    "from pathlib import Path\n",
    "home = Path.home()\n",
    "work = home.joinpath(\"work/bbp/work\")\n",
    "dmt = work.joinpath(\"validations/dmt/v2/\")\n",
    "notebooks = dmt.joinpath(\"notebooks\")\n",
    "extract_notebook = notebooks.joinpath(\"extract_notebook.ipynb\")\n",
    "\n",
    "with open(extract_notebook, 'r') as f:\n",
    "    data = json.load(f)"
   ]
  },
  {
   "cell_type": "code",
   "execution_count": 18,
   "metadata": {
    "ExecuteTime": {
     "end_time": "2020-03-03T21:05:59.499235Z",
     "start_time": "2020-03-03T21:05:59.493433Z"
    }
   },
   "outputs": [
    {
     "data": {
      "text/plain": [
       "dict_keys(['cells', 'metadata', 'nbformat', 'nbformat_minor'])"
      ]
     },
     "execution_count": 18,
     "metadata": {},
     "output_type": "execute_result"
    }
   ],
   "source": [
    "data.keys()"
   ]
  },
  {
   "cell_type": "code",
   "execution_count": 17,
   "metadata": {
    "ExecuteTime": {
     "end_time": "2020-03-03T21:05:47.683196Z",
     "start_time": "2020-03-03T21:05:47.671818Z"
    }
   },
   "outputs": [
    {
     "data": {
      "text/plain": [
       "[{'cell_type': 'markdown',\n",
       "  'metadata': {},\n",
       "  'source': ['Here we develop tools to extract code and meta-data from a notebook,\\n',\n",
       "   'and to create a notebook from a *BrainCircuitAnalysis* instance.\\n',\n",
       "   'We will start with the second goal.\\n',\n",
       "   'For this we define a `BrainCircuitAnalysis` instance in this notebook, \\n',\n",
       "   'look at the *JSON* produced used as the backend data for this notebook,\\n',\n",
       "   'and iteratively write code that will take a `BrainCircuitAnalysis` instance \\n',\n",
       "   'and produce a notebook that an analyst can use to tailor the analysis to their \\n',\n",
       "   'taste and run it.\\n',\n",
       "   'After we can go from an analysis instance to a notebook,\\n',\n",
       "   'we will explore how to start with a notebook and generate code for a \\n',\n",
       "   '`BrainCircuitAnalysis` instance.']},\n",
       " {'cell_type': 'code',\n",
       "  'execution_count': 10,\n",
       "  'metadata': {'ExecuteTime': {'end_time': '2020-03-03T20:47:02.192477Z',\n",
       "    'start_time': '2020-03-03T20:47:02.180328Z'}},\n",
       "  'outputs': [],\n",
       "  'source': ['#essential imports\\n',\n",
       "   'import os\\n',\n",
       "   'import numpy as np\\n',\n",
       "   'import pandas as pd\\n',\n",
       "   'import matplotlib.pyplot as plt \\n',\n",
       "   'from dmt.model.interface import Interface\\n',\n",
       "   'from dmt.tk.phenomenon import Phenomenon\\n',\n",
       "   'from dmt.tk.parameters import Parameters\\n',\n",
       "   'from dmt.tk.plotting import Bars, LinePlot, HeatMap\\n',\n",
       "   'from dmt.tk.plotting.multi import MultiPlot\\n',\n",
       "   'from neuro_dmt import terminology\\n',\n",
       "   'from neuro_dmt.models.bluebrain.circuit.geometry import Cuboid\\n',\n",
       "   'from neuro_dmt.library.users.visood.sscx_dissemination.analyses.composition\\\\\\n',\n",
       "   '    import CompositionAnalysesSuite\\n',\n",
       "   'from neuro_dmt.library.users.visood.sscx_dissemination.analyses.connectome\\\\\\n',\n",
       "   '    import ConnectomeAnalysesSuite\\n',\n",
       "   'from neuro_dmt.models.bluebrain.circuit.atlas import\\\\\\n',\n",
       "   '    BlueBrainCircuitAtlas\\n',\n",
       "   'from neuro_dmt.models.bluebrain.circuit.model import\\\\\\n',\n",
       "   '    BlueBrainCircuitModel,\\\\\\n',\n",
       "   '    CircuitProvenance\\n',\n",
       "   'from neuro_dmt.models.bluebrain.circuit.adapter import\\\\\\n',\n",
       "   '    BlueBrainCircuitAdapter\\n',\n",
       "   'from neuro_dmt.library.users.visood.sscx_dissemination.analyses.tools\\\\\\n',\n",
       "   '    import PathwayMeasurement\\n',\n",
       "   'from neuro_dmt.analysis.circuit import BrainCircuitAnalysis\\n',\n",
       "   'from neuro_dmt.analysis.reporting import CircuitAnalysisReport']},\n",
       " {'cell_type': 'markdown',\n",
       "  'metadata': {},\n",
       "  'source': ['Below we present a mock-up of notebook cells as they should look once an\\n',\n",
       "   'analysis is loaded.\\n',\n",
       "   'This mock-up will be a mix of markup and code blocs,\\n',\n",
       "   'which will all be loaded from the analysis instance.']},\n",
       " {'cell_type': 'markdown',\n",
       "  'metadata': {},\n",
       "  'source': ['## Introduction\\n',\n",
       "   '\\n',\n",
       "   'A circuit model should reproduce experimentally measured cell densities.\\n',\n",
       "   'For the mammalian cerebral cortex, the simplest and most frequent circuit\\n',\n",
       "   'composition measurement is that of layer cell densities. We will use three \\n',\n",
       "   'such experimental measurements to validate brain circuits of the somatosensory\\n',\n",
       "   'cortex.']},\n",
       " {'cell_type': 'markdown',\n",
       "  'metadata': {},\n",
       "  'source': ['## Methods\\n',\n",
       "   '\\n',\n",
       "   'Cell density was measured in randomly sampled boxes of\\n',\n",
       "   'dimension {}. Each sampled box was conditioned to lie in a\\n',\n",
       "   'the spatial location specified by brain-region and layer.\\n',\n",
       "   'The plot shows mean and standard-deviation of cell densities\\n',\n",
       "   'sampled from {} cubes. Reference data plotted alongside model \\n',\n",
       "   'measurements was measured (somewhere) in the SSCx. Specific \\n',\n",
       "   'sub-region for the reference data is not known. all sub-regions \\n',\n",
       "   'in these plots show the same reference data']},\n",
       " {'cell_type': 'code',\n",
       "  'execution_count': 2,\n",
       "  'metadata': {'ExecuteTime': {'end_time': '2020-03-03T20:38:08.815513Z',\n",
       "    'start_time': '2020-03-03T20:38:08.810999Z'}},\n",
       "  'outputs': [],\n",
       "  'source': ['phenomenon =\\\\\\n',\n",
       "   '    Phenomenon(\\n',\n",
       "   '        \"Cell Density\",\\n',\n",
       "   '        \"Number of cells in a unit volume.\",\\n',\n",
       "   '        group=\"Composition \")']},\n",
       " {'cell_type': 'code',\n",
       "  'execution_count': 3,\n",
       "  'metadata': {'ExecuteTime': {'end_time': '2020-03-03T20:38:09.463323Z',\n",
       "    'start_time': '2020-03-03T20:38:09.458084Z'}},\n",
       "  'outputs': [],\n",
       "  'source': ['class AdapterInterface(Interface):\\n',\n",
       "   '    \"\"\"\\n',\n",
       "   '    Methods that the analysis expects an adapter to provide.\\n',\n",
       "   '    \"\"\"\\n',\n",
       "   '    pass']},\n",
       " {'cell_type': 'code',\n",
       "  'execution_count': 6,\n",
       "  'metadata': {'ExecuteTime': {'end_time': '2020-03-03T20:38:28.487514Z',\n",
       "    'start_time': '2020-03-03T20:38:28.482441Z'}},\n",
       "  'outputs': [],\n",
       "  'source': ['def sample_measurement(circuit_model, adapter, size_roi=50., **query):\\n',\n",
       "   '    \"\"\"\\n',\n",
       "   '    Make a single measurement\\n',\n",
       "   '    \"\"\"\\n',\n",
       "   '    spatial_query =\\\\\\n',\n",
       "   '        terminology.circuit.get_spatial_query(query)\\n',\n",
       "   '    position =\\\\\\n',\n",
       "   '        adapter.random_position(\\n',\n",
       "   '            circuit_model, **spatial_query)\\n',\n",
       "   '    \\n',\n",
       "   '    if position is None:\\n',\n",
       "   '        return 0.\\n',\n",
       "   '    \\n',\n",
       "   '    cuboid_to_measure =\\\\\\n',\n",
       "   '        Cuboid(position - size_roi / 2.,\\n',\n",
       "   '               position + size_roi / 2.)\\n',\n",
       "   '    cell_count =\\\\\\n',\n",
       "   '        adapter.get_cells(circuit_model, roi=cuboid_to_measure)\\\\\\n',\n",
       "   '\\n',\n",
       "   '               .shape[0]\\n',\n",
       "   '    spatial_volume =\\\\\\n',\n",
       "   '        cuboid_to_measure.volume\\n',\n",
       "   '    \\n',\n",
       "   '    return 1.e9 * cell_count / spatial_volume']},\n",
       " {'cell_type': 'code',\n",
       "  'execution_count': 8,\n",
       "  'metadata': {'ExecuteTime': {'end_time': '2020-03-03T20:45:50.827390Z',\n",
       "    'start_time': '2020-03-03T20:45:50.820872Z'}},\n",
       "  'outputs': [],\n",
       "  'source': ['plotter = \\\\\\n',\n",
       "   '    MultiPlot(\\n',\n",
       "   '        mvar=\"region\",\\n',\n",
       "   '        plotter=Bars(xvar=\"layer\",\\n',\n",
       "   '                     xlabel=\"Layer\",\\n',\n",
       "   '                     yvar=\"cell_density\",\\n',\n",
       "   '                     ylabel=\"Cell Density\",\\n',\n",
       "   '                     gvar=\"dataset\"))']},\n",
       " {'cell_type': 'code',\n",
       "  'execution_count': 11,\n",
       "  'metadata': {'ExecuteTime': {'end_time': '2020-03-03T20:47:07.410091Z',\n",
       "    'start_time': '2020-03-03T20:47:07.406357Z'}},\n",
       "  'outputs': [],\n",
       "  'source': ['report =\\\\\\n', '    CircuitAnalysisReport']},\n",
       " {'cell_type': 'code',\n",
       "  'execution_count': None,\n",
       "  'metadata': {},\n",
       "  'outputs': [],\n",
       "  'source': []}]"
      ]
     },
     "execution_count": 17,
     "metadata": {},
     "output_type": "execute_result"
    }
   ],
   "source": [
    "data[\"cells\"]"
   ]
  },
  {
   "cell_type": "code",
   "execution_count": 20,
   "metadata": {
    "ExecuteTime": {
     "end_time": "2020-03-03T21:08:00.733519Z",
     "start_time": "2020-03-03T21:08:00.729341Z"
    }
   },
   "outputs": [],
   "source": [
    "cells_markdown =[\n",
    "    cell[\"source\"] for cell in data[\"cells\"]\n",
    "    if cell[\"cell_type\"] == \"markdown\"]"
   ]
  },
  {
   "cell_type": "code",
   "execution_count": 22,
   "metadata": {
    "ExecuteTime": {
     "end_time": "2020-03-03T21:08:12.740181Z",
     "start_time": "2020-03-03T21:08:12.734108Z"
    }
   },
   "outputs": [
    {
     "data": {
      "text/plain": [
       "[['Here we develop tools to extract code and meta-data from a notebook,\\n',\n",
       "  'and to create a notebook from a *BrainCircuitAnalysis* instance.\\n',\n",
       "  'We will start with the second goal.\\n',\n",
       "  'For this we define a `BrainCircuitAnalysis` instance in this notebook, \\n',\n",
       "  'look at the *JSON* produced used as the backend data for this notebook,\\n',\n",
       "  'and iteratively write code that will take a `BrainCircuitAnalysis` instance \\n',\n",
       "  'and produce a notebook that an analyst can use to tailor the analysis to their \\n',\n",
       "  'taste and run it.\\n',\n",
       "  'After we can go from an analysis instance to a notebook,\\n',\n",
       "  'we will explore how to start with a notebook and generate code for a \\n',\n",
       "  '`BrainCircuitAnalysis` instance.'],\n",
       " ['Below we present a mock-up of notebook cells as they should look once an\\n',\n",
       "  'analysis is loaded.\\n',\n",
       "  'This mock-up will be a mix of markup and code blocs,\\n',\n",
       "  'which will all be loaded from the analysis instance.'],\n",
       " ['## Introduction\\n',\n",
       "  '\\n',\n",
       "  'A circuit model should reproduce experimentally measured cell densities.\\n',\n",
       "  'For the mammalian cerebral cortex, the simplest and most frequent circuit\\n',\n",
       "  'composition measurement is that of layer cell densities. We will use three \\n',\n",
       "  'such experimental measurements to validate brain circuits of the somatosensory\\n',\n",
       "  'cortex.'],\n",
       " ['## Methods\\n',\n",
       "  '\\n',\n",
       "  'Cell density was measured in randomly sampled boxes of\\n',\n",
       "  'dimension {}. Each sampled box was conditioned to lie in a\\n',\n",
       "  'the spatial location specified by brain-region and layer.\\n',\n",
       "  'The plot shows mean and standard-deviation of cell densities\\n',\n",
       "  'sampled from {} cubes. Reference data plotted alongside model \\n',\n",
       "  'measurements was measured (somewhere) in the SSCx. Specific \\n',\n",
       "  'sub-region for the reference data is not known. all sub-regions \\n',\n",
       "  'in these plots show the same reference data']]"
      ]
     },
     "execution_count": 22,
     "metadata": {},
     "output_type": "execute_result"
    }
   ],
   "source": [
    "cells_markdown"
   ]
  },
  {
   "cell_type": "code",
   "execution_count": 23,
   "metadata": {
    "ExecuteTime": {
     "end_time": "2020-03-03T21:09:59.830869Z",
     "start_time": "2020-03-03T21:09:59.826043Z"
    }
   },
   "outputs": [],
   "source": [
    "cells_code =[\n",
    "    cell[\"source\"] for cell in data[\"cells\"]\n",
    "    if cell[\"cell_type\"] == \"code\"]"
   ]
  },
  {
   "cell_type": "code",
   "execution_count": 24,
   "metadata": {
    "ExecuteTime": {
     "end_time": "2020-03-03T21:10:04.162143Z",
     "start_time": "2020-03-03T21:10:04.154636Z"
    }
   },
   "outputs": [
    {
     "data": {
      "text/plain": [
       "[['#essential imports\\n',\n",
       "  'import os\\n',\n",
       "  'import numpy as np\\n',\n",
       "  'import pandas as pd\\n',\n",
       "  'import matplotlib.pyplot as plt \\n',\n",
       "  'from dmt.model.interface import Interface\\n',\n",
       "  'from dmt.tk.phenomenon import Phenomenon\\n',\n",
       "  'from dmt.tk.parameters import Parameters\\n',\n",
       "  'from dmt.tk.plotting import Bars, LinePlot, HeatMap\\n',\n",
       "  'from dmt.tk.plotting.multi import MultiPlot\\n',\n",
       "  'from neuro_dmt import terminology\\n',\n",
       "  'from neuro_dmt.models.bluebrain.circuit.geometry import Cuboid\\n',\n",
       "  'from neuro_dmt.library.users.visood.sscx_dissemination.analyses.composition\\\\\\n',\n",
       "  '    import CompositionAnalysesSuite\\n',\n",
       "  'from neuro_dmt.library.users.visood.sscx_dissemination.analyses.connectome\\\\\\n',\n",
       "  '    import ConnectomeAnalysesSuite\\n',\n",
       "  'from neuro_dmt.models.bluebrain.circuit.atlas import\\\\\\n',\n",
       "  '    BlueBrainCircuitAtlas\\n',\n",
       "  'from neuro_dmt.models.bluebrain.circuit.model import\\\\\\n',\n",
       "  '    BlueBrainCircuitModel,\\\\\\n',\n",
       "  '    CircuitProvenance\\n',\n",
       "  'from neuro_dmt.models.bluebrain.circuit.adapter import\\\\\\n',\n",
       "  '    BlueBrainCircuitAdapter\\n',\n",
       "  'from neuro_dmt.library.users.visood.sscx_dissemination.analyses.tools\\\\\\n',\n",
       "  '    import PathwayMeasurement\\n',\n",
       "  'from neuro_dmt.analysis.circuit import BrainCircuitAnalysis\\n',\n",
       "  'from neuro_dmt.analysis.reporting import CircuitAnalysisReport'],\n",
       " ['phenomenon =\\\\\\n',\n",
       "  '    Phenomenon(\\n',\n",
       "  '        \"Cell Density\",\\n',\n",
       "  '        \"Number of cells in a unit volume.\",\\n',\n",
       "  '        group=\"Composition \")'],\n",
       " ['class AdapterInterface(Interface):\\n',\n",
       "  '    \"\"\"\\n',\n",
       "  '    Methods that the analysis expects an adapter to provide.\\n',\n",
       "  '    \"\"\"\\n',\n",
       "  '    pass'],\n",
       " ['def sample_measurement(circuit_model, adapter, size_roi=50., **query):\\n',\n",
       "  '    \"\"\"\\n',\n",
       "  '    Make a single measurement\\n',\n",
       "  '    \"\"\"\\n',\n",
       "  '    spatial_query =\\\\\\n',\n",
       "  '        terminology.circuit.get_spatial_query(query)\\n',\n",
       "  '    position =\\\\\\n',\n",
       "  '        adapter.random_position(\\n',\n",
       "  '            circuit_model, **spatial_query)\\n',\n",
       "  '    \\n',\n",
       "  '    if position is None:\\n',\n",
       "  '        return 0.\\n',\n",
       "  '    \\n',\n",
       "  '    cuboid_to_measure =\\\\\\n',\n",
       "  '        Cuboid(position - size_roi / 2.,\\n',\n",
       "  '               position + size_roi / 2.)\\n',\n",
       "  '    cell_count =\\\\\\n',\n",
       "  '        adapter.get_cells(circuit_model, roi=cuboid_to_measure)\\\\\\n',\n",
       "  '\\n',\n",
       "  '               .shape[0]\\n',\n",
       "  '    spatial_volume =\\\\\\n',\n",
       "  '        cuboid_to_measure.volume\\n',\n",
       "  '    \\n',\n",
       "  '    return 1.e9 * cell_count / spatial_volume'],\n",
       " ['plotter = \\\\\\n',\n",
       "  '    MultiPlot(\\n',\n",
       "  '        mvar=\"region\",\\n',\n",
       "  '        plotter=Bars(xvar=\"layer\",\\n',\n",
       "  '                     xlabel=\"Layer\",\\n',\n",
       "  '                     yvar=\"cell_density\",\\n',\n",
       "  '                     ylabel=\"Cell Density\",\\n',\n",
       "  '                     gvar=\"dataset\"))'],\n",
       " ['report =\\\\\\n', '    CircuitAnalysisReport'],\n",
       " []]"
      ]
     },
     "execution_count": 24,
     "metadata": {},
     "output_type": "execute_result"
    }
   ],
   "source": [
    "cells_code"
   ]
  },
  {
   "cell_type": "code",
   "execution_count": 26,
   "metadata": {
    "ExecuteTime": {
     "end_time": "2020-03-03T21:12:59.128510Z",
     "start_time": "2020-03-03T21:12:59.123167Z"
    }
   },
   "outputs": [
    {
     "name": "stdout",
     "output_type": "stream",
     "text": [
      "#essential imports\n",
      "import os\n",
      "import numpy as np\n",
      "import pandas as pd\n",
      "import matplotlib.pyplot as plt \n",
      "from dmt.model.interface import Interface\n",
      "from dmt.tk.phenomenon import Phenomenon\n",
      "from dmt.tk.parameters import Parameters\n",
      "from dmt.tk.plotting import Bars, LinePlot, HeatMap\n",
      "from dmt.tk.plotting.multi import MultiPlot\n",
      "from neuro_dmt import terminology\n",
      "from neuro_dmt.models.bluebrain.circuit.geometry import Cuboid\n",
      "from neuro_dmt.library.users.visood.sscx_dissemination.analyses.composition\\\n",
      "    import CompositionAnalysesSuite\n",
      "from neuro_dmt.library.users.visood.sscx_dissemination.analyses.connectome\\\n",
      "    import ConnectomeAnalysesSuite\n",
      "from neuro_dmt.models.bluebrain.circuit.atlas import\\\n",
      "    BlueBrainCircuitAtlas\n",
      "from neuro_dmt.models.bluebrain.circuit.model import\\\n",
      "    BlueBrainCircuitModel,\\\n",
      "    CircuitProvenance\n",
      "from neuro_dmt.models.bluebrain.circuit.adapter import\\\n",
      "    BlueBrainCircuitAdapter\n",
      "from neuro_dmt.library.users.visood.sscx_dissemination.analyses.tools\\\n",
      "    import PathwayMeasurement\n",
      "from neuro_dmt.analysis.circuit import BrainCircuitAnalysis\n",
      "from neuro_dmt.analysis.reporting import CircuitAnalysisReport\n"
     ]
    }
   ],
   "source": [
    "print(''.join(cells_code[0]))"
   ]
  },
  {
   "cell_type": "code",
   "execution_count": 27,
   "metadata": {
    "ExecuteTime": {
     "end_time": "2020-03-03T21:13:22.382040Z",
     "start_time": "2020-03-03T21:13:22.376568Z"
    }
   },
   "outputs": [
    {
     "name": "stdout",
     "output_type": "stream",
     "text": [
      "phenomenon =\\\n",
      "    Phenomenon(\n",
      "        \"Cell Density\",\n",
      "        \"Number of cells in a unit volume.\",\n",
      "        group=\"Composition \")\n"
     ]
    }
   ],
   "source": [
    "print(''.join(cells_code[1]))"
   ]
  },
  {
   "cell_type": "code",
   "execution_count": 28,
   "metadata": {
    "ExecuteTime": {
     "end_time": "2020-03-03T21:13:39.156286Z",
     "start_time": "2020-03-03T21:13:39.151837Z"
    }
   },
   "outputs": [
    {
     "name": "stdout",
     "output_type": "stream",
     "text": [
      "class AdapterInterface(Interface):\n",
      "    \"\"\"\n",
      "    Methods that the analysis expects an adapter to provide.\n",
      "    \"\"\"\n",
      "    pass\n"
     ]
    }
   ],
   "source": [
    "print(''.join(cells_code[2]))"
   ]
  },
  {
   "cell_type": "code",
   "execution_count": 29,
   "metadata": {
    "ExecuteTime": {
     "end_time": "2020-03-03T21:13:49.094768Z",
     "start_time": "2020-03-03T21:13:49.089205Z"
    }
   },
   "outputs": [
    {
     "name": "stdout",
     "output_type": "stream",
     "text": [
      "def sample_measurement(circuit_model, adapter, size_roi=50., **query):\n",
      "    \"\"\"\n",
      "    Make a single measurement\n",
      "    \"\"\"\n",
      "    spatial_query =\\\n",
      "        terminology.circuit.get_spatial_query(query)\n",
      "    position =\\\n",
      "        adapter.random_position(\n",
      "            circuit_model, **spatial_query)\n",
      "    \n",
      "    if position is None:\n",
      "        return 0.\n",
      "    \n",
      "    cuboid_to_measure =\\\n",
      "        Cuboid(position - size_roi / 2.,\n",
      "               position + size_roi / 2.)\n",
      "    cell_count =\\\n",
      "        adapter.get_cells(circuit_model, roi=cuboid_to_measure)\\\n",
      "\n",
      "               .shape[0]\n",
      "    spatial_volume =\\\n",
      "        cuboid_to_measure.volume\n",
      "    \n",
      "    return 1.e9 * cell_count / spatial_volume\n"
     ]
    }
   ],
   "source": [
    "print(''.join(cells_code[3]))"
   ]
  },
  {
   "cell_type": "code",
   "execution_count": null,
   "metadata": {},
   "outputs": [],
   "source": []
  }
 ],
 "metadata": {
  "kernelspec": {
   "display_name": "Python 3",
   "language": "python",
   "name": "python3"
  },
  "language_info": {
   "codemirror_mode": {
    "name": "ipython",
    "version": 3
   },
   "file_extension": ".py",
   "mimetype": "text/x-python",
   "name": "python",
   "nbconvert_exporter": "python",
   "pygments_lexer": "ipython3",
   "version": "3.6.9"
  },
  "latex_envs": {
   "LaTeX_envs_menu_present": true,
   "autoclose": false,
   "autocomplete": true,
   "bibliofile": "biblio.bib",
   "cite_by": "apalike",
   "current_citInitial": 1,
   "eqLabelWithNumbers": true,
   "eqNumInitial": 1,
   "hotkeys": {
    "equation": "Ctrl-E",
    "itemize": "Ctrl-I"
   },
   "labels_anchors": false,
   "latex_user_defs": false,
   "report_style_numbering": false,
   "user_envs_cfg": false
  },
  "toc": {
   "base_numbering": 1,
   "nav_menu": {},
   "number_sections": true,
   "sideBar": true,
   "skip_h1_title": false,
   "title_cell": "Table of Contents",
   "title_sidebar": "Contents",
   "toc_cell": false,
   "toc_position": {},
   "toc_section_display": true,
   "toc_window_display": false
  },
  "varInspector": {
   "cols": {
    "lenName": 16,
    "lenType": 16,
    "lenVar": 40
   },
   "kernels_config": {
    "python": {
     "delete_cmd_postfix": "",
     "delete_cmd_prefix": "del ",
     "library": "var_list.py",
     "varRefreshCmd": "print(var_dic_list())"
    },
    "r": {
     "delete_cmd_postfix": ") ",
     "delete_cmd_prefix": "rm(",
     "library": "var_list.r",
     "varRefreshCmd": "cat(var_dic_list()) "
    }
   },
   "types_to_exclude": [
    "module",
    "function",
    "builtin_function_or_method",
    "instance",
    "_Feature"
   ],
   "window_display": false
  }
 },
 "nbformat": 4,
 "nbformat_minor": 2
}
