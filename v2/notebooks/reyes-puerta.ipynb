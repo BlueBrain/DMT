{
 "cells": [
  {
   "cell_type": "markdown",
   "metadata": {},
   "source": [
    "# Reyes Puerta\n",
    "We read Reyes-Puerta paper and extract data here, and try to develop the analysis presented in the paper.\n",
    "\n",
    "In this notebook we strive to write code that speaks for itself. Only descriptions that cannot be expressed as code will go in the markdown."
   ]
  },
  {
   "cell_type": "markdown",
   "metadata": {},
   "source": [
    "## Results\n",
    "We read the results presented in the paper. "
   ]
  },
  {
   "cell_type": "code",
   "execution_count": 1,
   "metadata": {
    "ExecuteTime": {
     "end_time": "2019-08-16T20:52:56.572254Z",
     "start_time": "2019-08-16T20:52:56.264874Z"
    },
    "code_folding": [
     1
    ]
   },
   "outputs": [],
   "source": [
    "import os\n",
    "import pandas\n",
    "os.environ[\"LOGLEVEL\"] = \"STUDY\"\n",
    "os.environ[\"DMTPATH\"] = \"/Users/vishalsoodmuchu/work/bbp/work/validations/dmt\""
   ]
  },
  {
   "cell_type": "code",
   "execution_count": null,
   "metadata": {
    "ExecuteTime": {
     "end_time": "2019-08-16T10:14:59.194134Z",
     "start_time": "2019-08-16T10:14:59.177456Z"
    },
    "code_folding": []
   },
   "outputs": [],
   "source": [
    "from dmt.tk.stats.distributions import Normal\n",
    "from dmt.tk.field import Field, WithFields\n",
    "from dmt.data.observation import Observation"
   ]
  },
  {
   "cell_type": "code",
   "execution_count": null,
   "metadata": {
    "ExecuteTime": {
     "end_time": "2019-08-15T11:15:39.659299Z",
     "start_time": "2019-08-15T11:15:39.654177Z"
    },
    "code_folding": []
   },
   "outputs": [],
   "source": [
    "class NeuronDistribution(Observation):\n",
    "    \"\"\"\n",
    "    Number of excitatory and inhibitory neurons by region and layer.\n",
    "    \"\"\"\n",
    "    phenomenon = dict(\n",
    "        description=\"Count of cells.\",\n",
    "        label=\"count\")\n",
    "    parameters =dict(\n",
    "        layer=\"\"\"\n",
    "            Cortical layer where measurement was made\n",
    "            \"\"\",\n",
    "        synapse_class=\"\"\"\n",
    "            Synapse class of a neuron. \"EXC\" for excitatory \"INH\" for inhibitory\n",
    "            \"\"\")"
   ]
  },
  {
   "cell_type": "code",
   "execution_count": null,
   "metadata": {
    "ExecuteTime": {
     "end_time": "2019-08-15T11:15:40.928262Z",
     "start_time": "2019-08-15T11:15:40.918876Z"
    },
    "code_folding": []
   },
   "outputs": [],
   "source": [
    "rp_neuron_distribution =\\\n",
    "    NeuronDistribution(\n",
    "        data=pandas.DataFrame([\n",
    "            dict(layer=\"L2/3\",\n",
    "                 synapse_class=\"EXC\",\n",
    "                 count=31),\n",
    "            dict(layer=\"L2/3\",\n",
    "                 synapse_class=\"INH\",\n",
    "                 count=4),\n",
    "            dict(layer=\"L4\",\n",
    "                 synapse_class=\"EXC\",\n",
    "                 count=58),\n",
    "            dict(layer=\"L4\",\n",
    "                 synapse_class=\"INH\",\n",
    "                 count=19),\n",
    "            dict(layer=\"L5A\",\n",
    "                 synapse_class=\"EXC\",\n",
    "                 count=194),\n",
    "            dict(layer=\"L5A\",\n",
    "                 synapse_class=\"INH\",\n",
    "                 count=16),\n",
    "            dict(layer=\"L5B\",\n",
    "                 synapse_class=\"EXC\",\n",
    "                 count=139),\n",
    "            dict(layer=\"L5B\",\n",
    "                 synapse_class=\"INH\",\n",
    "                 count=33)]), \n",
    "        label=\"ReyesPuerta-2014\")"
   ]
  },
  {
   "cell_type": "code",
   "execution_count": null,
   "metadata": {
    "ExecuteTime": {
     "end_time": "2019-08-15T11:15:41.975856Z",
     "start_time": "2019-08-15T11:15:41.966347Z"
    }
   },
   "outputs": [],
   "source": [
    "rp_neuron_distribution.what"
   ]
  },
  {
   "cell_type": "code",
   "execution_count": null,
   "metadata": {
    "ExecuteTime": {
     "end_time": "2019-08-15T11:15:55.512380Z",
     "start_time": "2019-08-15T11:15:55.508260Z"
    },
    "code_folding": []
   },
   "outputs": [],
   "source": [
    "from dmt.data.observation.measurement import StatisticalMeasurement\n",
    "class NeuronSpikeAmplitudes(\n",
    "    StatisticalMeasurement):\n",
    "    \"\"\"\n",
    "    Spike amplitudes of neurons\n",
    "    \"\"\"\n",
    "    parameters = dict(\n",
    "        layer=\"Cortical layer where measurement was made.\",\n",
    "        synapse_class=\"Synapse class (EXC/INH) of the neuron.\")\n",
    "    phenomenon = dict(\n",
    "        description=\"Amplitude of action potentials of neurons.\",\n",
    "        label=\"spike_amplitude\")"
   ]
  },
  {
   "cell_type": "code",
   "execution_count": null,
   "metadata": {
    "ExecuteTime": {
     "end_time": "2019-06-11T12:36:27.434745Z",
     "start_time": "2019-06-11T12:36:27.425753Z"
    },
    "code_folding": []
   },
   "outputs": [],
   "source": [
    "rp_spike_amplitudes=\\\n",
    "    NeuronSpikeAmplitudes(\n",
    "        data=[\n",
    "            dict(\n",
    "                layer=\"L2/3\",\n",
    "                synapse_class=\"INH\",\n",
    "                sample_size=4,\n",
    "                mean=68.4,\n",
    "                error=5.02),\n",
    "            dict(\n",
    "                layer=\"L2/3\",\n",
    "                synapse_class=\"EXC\",\n",
    "                sample_size=31,\n",
    "                mean=116.3,\n",
    "                error=10.9),\n",
    "            dict(\n",
    "                layer=\"L5A\",\n",
    "                synapse_class=\"EXC\",\n",
    "                sample_size=194,\n",
    "                mean=167.9,\n",
    "                error=7.8),\n",
    "            dict(\n",
    "                layer=\"L5B\",\n",
    "                synapse_class=\"EXC\",\n",
    "                sample_size=139,\n",
    "                mean=205.3,\n",
    "                error=12.5)],\n",
    "        label=\"ReyesPuerta-2014\")"
   ]
  },
  {
   "cell_type": "code",
   "execution_count": null,
   "metadata": {
    "ExecuteTime": {
     "end_time": "2019-06-11T12:36:42.403335Z",
     "start_time": "2019-06-11T12:36:42.391936Z"
    }
   },
   "outputs": [],
   "source": [
    "rp_spike_amplitudes.dataframe"
   ]
  },
  {
   "cell_type": "code",
   "execution_count": null,
   "metadata": {
    "ExecuteTime": {
     "end_time": "2019-06-11T12:38:30.483718Z",
     "start_time": "2019-06-11T12:38:30.479659Z"
    },
    "code_folding": [
     0
    ]
   },
   "outputs": [],
   "source": [
    "class NeuronFiringRates(\n",
    "    StatisticalMeasurement):\n",
    "    \"\"\"\n",
    "    Firing rate for neurons.\n",
    "    \"\"\"\n",
    "    phenomenon=dict(\n",
    "        description=\"Neuron firing rates\",\n",
    "        label=\"firing_rate\")\n",
    "    parameters = dict(\n",
    "        layer=\"Cortical layer where measurement was made.\",\n",
    "        synapse_class=\"Synapse class (EXC/INH) of the neuron.\")"
   ]
  },
  {
   "cell_type": "code",
   "execution_count": null,
   "metadata": {
    "ExecuteTime": {
     "end_time": "2019-06-11T12:42:48.908556Z",
     "start_time": "2019-06-11T12:42:48.863721Z"
    },
    "code_folding": [
     0
    ]
   },
   "outputs": [],
   "source": [
    "rp_spontaneous_fr =\\\n",
    "    NeuronFiringRates(\n",
    "        data=[\n",
    "            dict(\n",
    "                layer=\"L2/3\",\n",
    "                synapse_class=\"INH\",\n",
    "                mean=0.8,\n",
    "                error=0.4),\n",
    "            dict(\n",
    "                layer=\"L2/3\",\n",
    "                synapse_class=\"EXC\",\n",
    "                mean=0.3,\n",
    "                error=0.05),\n",
    "            dict(\n",
    "                layer=\"L4\",\n",
    "                synapse_class=\"INH\",\n",
    "                mean=1.3,\n",
    "                error=0.2),\n",
    "            dict(\n",
    "                layer=\"L4\",\n",
    "                synapse_class=\"EXC\",\n",
    "                mean=0.6,\n",
    "                error=0.07),\n",
    "            dict(\n",
    "                layer=\"L5A\",\n",
    "                synapse_class=\"INH\",\n",
    "                mean=2.8,\n",
    "                error=1.02),\n",
    "            dict(\n",
    "                layer=\"L5A\",\n",
    "                synapse_class=\"EXC\",\n",
    "                mean=1.7,\n",
    "                error=0.09),\n",
    "            dict(\n",
    "                layer=\"L5B\",\n",
    "                synapse_class=\"INH\",\n",
    "                mean=2.07,\n",
    "                error=0.3),\n",
    "            dict(\n",
    "                layer=\"L5B\",\n",
    "                synapse_class=\"EXC\",\n",
    "                mean=1.09,\n",
    "                error=0.1)],\n",
    "        procedure=\"\"\"\n",
    "            Spontaneous firing rates of neurons were measured.\n",
    "        \"\"\",\n",
    "        label=\"ReyesPuerta-2014\")\n",
    "        \n",
    "rp_spontaneous_fr.dataframe"
   ]
  },
  {
   "cell_type": "markdown",
   "metadata": {
    "collapsed": true
   },
   "source": [
    "### Single Cells Responded Heterogeneously and Sparsely to Sensory Stimulation\n",
    "\n",
    "- **Goal** :: Characterize the neuronal responses related to sensory stimulation. \n",
    "\n",
    "- **Measurement** :: Of single-cell resopnses to repeated principle whisker \n",
    "    deflections, from 100 ms before to 200 ms after stimulus.\n",
    "\n",
    "- **Data** :: Raster plots and Peristimulus Time Histogram (PSTH).\n",
    "\n",
    "- **Analyses** :: And their results\n",
    "    - **Response Time** :: Most neurons showed clear responses within 5-30 ms \n",
    "    after stimulation.\n",
    "    - **Change in FR, 100 ms before to 30 ms after stimulation ** :: Majority \n",
    "    neurons were *ON* cells, *i.e.* their FR increased after stimulation. A \n",
    "    considerable number of neurons were non-responding (*NR*), showing no \n",
    "    change in FR. Some neurons (*OFF*) showed a clear reduction.(Measurement\n",
    "    is included below).\n",
    "    - **Response latencies** :: < 30 ms for all *ON* cells. A fast and nearly \n",
    "    simultaneous intracolumnar processing of the sensory input led by L4 INH \n",
    "    neurons ~7.5 ms after stimulus, which propagated rapidly to NCs ~4 ms \n",
    "    afterward. L4 INH neurons also showed the most precise spike response.\n",
    "    - **Number of evoked spikes per stimulus** :: For all neurons in PC, from\n",
    "    0 to 30 s after simulus.\n",
    "    \n",
    " "
   ]
  },
  {
   "cell_type": "code",
   "execution_count": null,
   "metadata": {
    "ExecuteTime": {
     "end_time": "2019-06-18T19:50:23.342870Z",
     "start_time": "2019-06-18T19:50:23.333917Z"
    }
   },
   "outputs": [],
   "source": [
    "class FiringRateChangeDistribution(Observation):\n",
    "    \"\"\"\n",
    "    Goal :: Characterize neuronal responses related to sensory stimulation.\n",
    "    Distribution of neurons by the change in their firing rate from\n",
    "    before stimulation to after stimulation.\n",
    "    \"\"\"\n",
    "    phenomenon = dict(\n",
    "        description=\"Count of neurons by firing rate change\",\n",
    "        label=\"count\")\n",
    "    parameters = dict(\n",
    "        synapse_class=\"Synapse class of neuron, EXC or INH\",\n",
    "        neuron_type=\"Cell response to stimulus: ON/OFF/NR(non-responding)\",\n",
    "        count=\"Count of synapse_class cells of neuron_type.\")\n",
    "    \n",
    "reyes_puerta_FRC_distribution = FiringRateChangeDistribution(\n",
    "    label = \"ReyesPuerta2014\",\n",
    "    procedure = \"\"\"\n",
    "        Single-cell responses to repeated principal whisker deflections were\n",
    "        analyzed by computing raster plots and PSTHs in the time period \n",
    "        between 100 ms before stimulus and 200 ms after stimulus.\n",
    "        Summary :: Most neurons showed clear responses within 5-30 ms after \n",
    "        stimulation. Cells showed three kinds of behavior: ON (FR increased),\n",
    "        NR (nonresponding, no change in FR), and OFF (FR decreased). \n",
    "        \"\"\",\n",
    "    data = [\n",
    "        dict(synapse_class=\"EXC\", neuron_type=\"ON\",  count=158),\n",
    "        dict(synapse_class=\"EXC\", neuron_type=\"NR\",  count=88,),\n",
    "        dict(synapse_class=\"EXC\", neuron_type=\"OFF\", count=17),\n",
    "        dict(synapse_class=\"INH\", neuron_type=\"ON\",  count=46),\n",
    "        dict(synapse_class=\"INH\", neuron_type=\"NR\",  count=8),\n",
    "        dict(synapse_class=\"INH\", neuron_type=\"OFF\", count=1)] )"
   ]
  },
  {
   "cell_type": "code",
   "execution_count": null,
   "metadata": {
    "ExecuteTime": {
     "end_time": "2019-06-18T19:50:33.482241Z",
     "start_time": "2019-06-18T19:50:33.463427Z"
    }
   },
   "outputs": [],
   "source": [
    "reyes_puerta_FRC_distribution.dataframe"
   ]
  },
  {
   "cell_type": "markdown",
   "metadata": {},
   "source": []
  },
  {
   "cell_type": "markdown",
   "metadata": {
    "collapsed": true
   },
   "source": [
    "# Playground"
   ]
  },
  {
   "cell_type": "code",
   "execution_count": null,
   "metadata": {
    "ExecuteTime": {
     "end_time": "2019-06-12T09:32:06.867905Z",
     "start_time": "2019-06-12T09:32:06.858344Z"
    }
   },
   "outputs": [],
   "source": [
    "class ClassRefMeta(type):\n",
    "    \"\"\"\n",
    "    Adds class references to its attributes\n",
    "    \"\"\"\n",
    "    \n",
    "    hoho = \"haha\"\n",
    "    jojo = \"jaja\"\n",
    "    \n",
    "    def __init__(cls, name, bases, attrs):\n",
    "        print(\"meta class init cls is {}\".format(cls))\n",
    "        print(\"bases: {}\".format(bases))\n",
    "        for key, value in attrs.items():\n",
    "            try:\n",
    "                setattr(value, \"__containing_class__\", cls)\n",
    "            except:\n",
    "                pass\n",
    "        super().__init__( name, bases, attrs)\n",
    "                    "
   ]
  },
  {
   "cell_type": "code",
   "execution_count": null,
   "metadata": {
    "ExecuteTime": {
     "end_time": "2019-06-12T09:32:07.152134Z",
     "start_time": "2019-06-12T09:32:07.147181Z"
    }
   },
   "outputs": [],
   "source": [
    "class A(metaclass=ClassRefMeta):\n",
    "    x = 1"
   ]
  },
  {
   "cell_type": "code",
   "execution_count": null,
   "metadata": {
    "ExecuteTime": {
     "end_time": "2019-06-12T08:50:11.344806Z",
     "start_time": "2019-06-12T08:50:11.339445Z"
    }
   },
   "outputs": [],
   "source": [
    "A.hoho, A.jojo"
   ]
  },
  {
   "cell_type": "code",
   "execution_count": null,
   "metadata": {
    "ExecuteTime": {
     "end_time": "2019-06-12T09:32:27.540394Z",
     "start_time": "2019-06-12T09:32:27.534998Z"
    }
   },
   "outputs": [],
   "source": [
    "A.__mro__"
   ]
  },
  {
   "cell_type": "code",
   "execution_count": null,
   "metadata": {
    "ExecuteTime": {
     "end_time": "2019-06-12T09:42:45.981497Z",
     "start_time": "2019-06-12T09:42:45.977170Z"
    }
   },
   "outputs": [],
   "source": [
    "type(A)"
   ]
  },
  {
   "cell_type": "code",
   "execution_count": null,
   "metadata": {
    "ExecuteTime": {
     "end_time": "2019-06-12T13:04:24.778318Z",
     "start_time": "2019-06-12T13:04:24.753722Z"
    }
   },
   "outputs": [],
   "source": [
    "from collections import OrderedDict\n",
    "\n",
    "\n",
    "class OrderedAttrMeta(type):\n",
    "    def __prepare__(mcs, name, *args):\n",
    "            return OrderedDict()\n",
    "        \n",
    "    def __new__(mcs, name, bases, namespace):\n",
    "        \"\"\"...\"\"\"\n",
    "        print(\"number of bases: \", len(bases))\n",
    "        print(\"order of attributes in namespace: \")\n",
    "        for attr_name,_ in namespace.items():\n",
    "            print(attr_name)\n",
    "        return super().__new__(mcs, name, bases, dict(namespace))\n",
    "    \n",
    "    \n",
    "    \n",
    "class UnorderedAttrMeta(type):\n",
    "    def __new__(mcs, name, bases, namespace):\n",
    "        \"\"\"...\"\"\"\n",
    "        print(\"order of attributes in namespace: \")\n",
    "        for attr_name,_ in namespace.items():\n",
    "            print(attr_name)\n",
    "        return super().__new__(mcs, name, bases, namespace)\n",
    "    "
   ]
  },
  {
   "cell_type": "code",
   "execution_count": null,
   "metadata": {
    "ExecuteTime": {
     "end_time": "2019-06-12T13:04:48.003836Z",
     "start_time": "2019-06-12T13:04:47.989117Z"
    }
   },
   "outputs": [],
   "source": [
    "class BO(metaclass=OrderedAttrMeta):\n",
    "    def __init__(self, x):\n",
    "        self._x = x\n",
    "    second = 2\n",
    "    \n",
    "    def third(self):\n",
    "        return \"jinga\"\n",
    "    \n",
    "    first = 1\n",
    "    def fourth(self, y):\n",
    "        return self._x + y\n",
    "    \n",
    "class BOO(BO):\n",
    "    pass"
   ]
  },
  {
   "cell_type": "code",
   "execution_count": null,
   "metadata": {
    "ExecuteTime": {
     "end_time": "2019-06-12T13:04:27.001099Z",
     "start_time": "2019-06-12T13:04:26.990932Z"
    }
   },
   "outputs": [],
   "source": [
    "class BU(metaclass=UnorderedAttrMeta):\n",
    "    def __init__(self, x):\n",
    "        self._x = x\n",
    "    \n",
    "    def third(self):\n",
    "        return \"jinga\"\n",
    "    \n",
    "    def fourth(self, y):\n",
    "        return self._x + y\n",
    "\n",
    "    first = 1\n",
    "    second = 2"
   ]
  },
  {
   "cell_type": "code",
   "execution_count": null,
   "metadata": {
    "ExecuteTime": {
     "end_time": "2019-06-12T13:09:39.276585Z",
     "start_time": "2019-06-12T13:09:39.271500Z"
    }
   },
   "outputs": [],
   "source": [
    "isinstance(BU, type)"
   ]
  },
  {
   "cell_type": "code",
   "execution_count": null,
   "metadata": {
    "ExecuteTime": {
     "end_time": "2019-06-12T10:38:23.423350Z",
     "start_time": "2019-06-12T10:38:23.418673Z"
    }
   },
   "outputs": [],
   "source": [
    "xs"
   ]
  },
  {
   "cell_type": "code",
   "execution_count": null,
   "metadata": {
    "ExecuteTime": {
     "end_time": "2019-06-12T10:40:29.346460Z",
     "start_time": "2019-06-12T10:40:29.339964Z"
    }
   },
   "outputs": [],
   "source": [
    "\n",
    "xs[2:None]"
   ]
  },
  {
   "cell_type": "code",
   "execution_count": null,
   "metadata": {
    "ExecuteTime": {
     "end_time": "2019-06-12T10:48:42.011996Z",
     "start_time": "2019-06-12T10:48:42.007288Z"
    }
   },
   "outputs": [],
   "source": [
    "ts = \"<2019-06-12 12:48>\""
   ]
  },
  {
   "cell_type": "code",
   "execution_count": null,
   "metadata": {
    "ExecuteTime": {
     "end_time": "2019-06-12T10:51:31.492058Z",
     "start_time": "2019-06-12T10:51:31.486478Z"
    }
   },
   "outputs": [],
   "source": [
    "ts.replace(\"<\", '')\\\n",
    "    .replace('-', '')\\\n",
    "    .replace(' ', '')\\\n",
    "    .replace(':', '')\\\n",
    "    .replace('>', '')"
   ]
  },
  {
   "cell_type": "code",
   "execution_count": null,
   "metadata": {
    "ExecuteTime": {
     "end_time": "2019-06-12T10:51:10.013196Z",
     "start_time": "2019-06-12T10:51:10.002610Z"
    }
   },
   "outputs": [],
   "source": [
    "ts.replace('<', )"
   ]
  },
  {
   "cell_type": "code",
   "execution_count": null,
   "metadata": {
    "ExecuteTime": {
     "end_time": "2019-06-12T11:19:12.809884Z",
     "start_time": "2019-06-12T11:19:12.806844Z"
    }
   },
   "outputs": [],
   "source": [
    "from dmt.v2.tk.journal import Timestamp"
   ]
  },
  {
   "cell_type": "code",
   "execution_count": null,
   "metadata": {
    "ExecuteTime": {
     "end_time": "2019-06-12T11:19:12.992088Z",
     "start_time": "2019-06-12T11:19:12.981636Z"
    }
   },
   "outputs": [],
   "source": [
    "ts = Timestamp(\"\"\"<2019-06-11>\"\"\")\n",
    "ts.year"
   ]
  },
  {
   "cell_type": "code",
   "execution_count": null,
   "metadata": {
    "ExecuteTime": {
     "end_time": "2019-06-12T11:19:13.160069Z",
     "start_time": "2019-06-12T11:19:13.155059Z"
    }
   },
   "outputs": [],
   "source": [
    "import time\n",
    "type(time.localtime())"
   ]
  },
  {
   "cell_type": "code",
   "execution_count": null,
   "metadata": {
    "ExecuteTime": {
     "end_time": "2019-06-12T11:20:18.610906Z",
     "start_time": "2019-06-12T11:20:18.603067Z"
    }
   },
   "outputs": [],
   "source": [
    "from dmt.v2.tk.journal.utils import Time\n",
    "Time(\"jingjinga\").stamp"
   ]
  },
  {
   "cell_type": "code",
   "execution_count": null,
   "metadata": {
    "ExecuteTime": {
     "end_time": "2019-06-12T11:20:14.038103Z",
     "start_time": "2019-06-12T11:20:14.033270Z"
    }
   },
   "outputs": [],
   "source": [
    "str(ts)"
   ]
  },
  {
   "cell_type": "code",
   "execution_count": null,
   "metadata": {
    "ExecuteTime": {
     "end_time": "2019-06-12T11:49:57.215205Z",
     "start_time": "2019-06-12T11:49:57.205779Z"
    }
   },
   "outputs": [],
   "source": [
    "from dmt.v2.tk.journal import *"
   ]
  },
  {
   "cell_type": "code",
   "execution_count": null,
   "metadata": {
    "ExecuteTime": {
     "end_time": "2019-06-12T11:50:59.704935Z",
     "start_time": "2019-06-12T11:50:59.701753Z"
    }
   },
   "outputs": [],
   "source": [
    "dv = DevNote(\"hello\", timestamp=\"<2019-06-12 13:49>\")\n",
    "dv0 = DevNote(\"hello\")"
   ]
  },
  {
   "cell_type": "code",
   "execution_count": null,
   "metadata": {
    "ExecuteTime": {
     "end_time": "2019-06-12T11:50:59.945570Z",
     "start_time": "2019-06-12T11:50:59.940478Z"
    }
   },
   "outputs": [],
   "source": [
    "dv.timestamp, dv0.timestamp"
   ]
  },
  {
   "cell_type": "code",
   "execution_count": null,
   "metadata": {
    "ExecuteTime": {
     "end_time": "2019-06-12T16:06:42.060064Z",
     "start_time": "2019-06-12T16:06:42.048060Z"
    }
   },
   "outputs": [],
   "source": [
    "class A:\n",
    "    base = 10\n",
    "    def __init__(self, x):\n",
    "        self._x = x\n",
    "        \n",
    "    def addx(self, y):\n",
    "        return self._x + y\n",
    "    \n",
    "    @classmethod\n",
    "    def add(cls, x, y):\n",
    "        return (x + y) % cls.base\n",
    "    \n",
    "    @staticmethod\n",
    "    def sadd(x, y):\n",
    "        return (x + y) % 2\n",
    "    \n",
    "addA = getattr(A, \"add\")\n",
    "saddA = getattr(A, \"sadd\")"
   ]
  },
  {
   "cell_type": "code",
   "execution_count": null,
   "metadata": {
    "ExecuteTime": {
     "end_time": "2019-06-12T16:06:54.106887Z",
     "start_time": "2019-06-12T16:06:54.101284Z"
    }
   },
   "outputs": [],
   "source": [
    "addA(1, 2), saddA(1,2)"
   ]
  },
  {
   "cell_type": "code",
   "execution_count": null,
   "metadata": {
    "ExecuteTime": {
     "end_time": "2019-06-12T16:10:36.951671Z",
     "start_time": "2019-06-12T16:10:36.944746Z"
    }
   },
   "outputs": [],
   "source": [
    "addA, add"
   ]
  },
  {
   "cell_type": "code",
   "execution_count": null,
   "metadata": {
    "ExecuteTime": {
     "end_time": "2019-06-12T16:12:39.210332Z",
     "start_time": "2019-06-12T16:12:39.206476Z"
    }
   },
   "outputs": [],
   "source": [
    "a1 = A(1)\n",
    "addA = getattr(a1, \"add\")\n",
    "addxa1 = getattr(a1, \"addx\")"
   ]
  },
  {
   "cell_type": "code",
   "execution_count": null,
   "metadata": {
    "ExecuteTime": {
     "end_time": "2019-06-12T16:12:48.085126Z",
     "start_time": "2019-06-12T16:12:48.080296Z"
    }
   },
   "outputs": [],
   "source": [
    "addxa1(2)"
   ]
  },
  {
   "cell_type": "code",
   "execution_count": null,
   "metadata": {
    "ExecuteTime": {
     "end_time": "2019-06-12T19:38:02.358365Z",
     "start_time": "2019-06-12T19:38:02.354652Z"
    }
   },
   "outputs": [],
   "source": [
    "from dmt.v2.test.develop.model.adapter_pattern import *"
   ]
  },
  {
   "cell_type": "code",
   "execution_count": null,
   "metadata": {
    "ExecuteTime": {
     "end_time": "2019-06-12T19:38:03.004466Z",
     "start_time": "2019-06-12T19:38:02.991077Z"
    }
   },
   "outputs": [],
   "source": [
    "IntegerMathTest.AdapterInterface.__interfacemethods__"
   ]
  },
  {
   "cell_type": "code",
   "execution_count": null,
   "metadata": {
    "ExecuteTime": {
     "end_time": "2019-06-12T19:38:24.160239Z",
     "start_time": "2019-06-12T19:38:24.156841Z"
    }
   },
   "outputs": [],
   "source": [
    "timpm.adapter = TestIntegerMathModelPMAdapter()"
   ]
  },
  {
   "cell_type": "code",
   "execution_count": null,
   "metadata": {
    "ExecuteTime": {
     "end_time": "2019-06-12T19:38:30.280854Z",
     "start_time": "2019-06-12T19:38:30.275181Z"
    }
   },
   "outputs": [],
   "source": [
    "test_good_model_one()"
   ]
  },
  {
   "cell_type": "code",
   "execution_count": null,
   "metadata": {
    "ExecuteTime": {
     "end_time": "2019-06-19T15:56:39.077559Z",
     "start_time": "2019-06-19T15:56:39.069846Z"
    }
   },
   "outputs": [],
   "source": [
    "total_income = 0.8 * (4 * 80 + 1 * 70 + 2 * 90 + 1 * 100)\n",
    "home_s = 8 * 12 * 3\n",
    "personal = 8 * 12 * 0.7\n",
    "total_income - home_s - personal"
   ]
  },
  {
   "cell_type": "code",
   "execution_count": null,
   "metadata": {
    "ExecuteTime": {
     "end_time": "2019-06-19T15:57:09.429751Z",
     "start_time": "2019-06-19T15:57:09.422549Z"
    }
   },
   "outputs": [],
   "source": [
    "150. / total_income"
   ]
  },
  {
   "cell_type": "code",
   "execution_count": null,
   "metadata": {
    "ExecuteTime": {
     "end_time": "2019-06-19T15:58:29.959380Z",
     "start_time": "2019-06-19T15:58:29.954060Z"
    }
   },
   "outputs": [],
   "source": [
    "150. / (8 * 12)"
   ]
  },
  {
   "cell_type": "code",
   "execution_count": null,
   "metadata": {
    "ExecuteTime": {
     "end_time": "2019-06-19T16:10:48.666603Z",
     "start_time": "2019-06-19T16:10:48.661482Z"
    }
   },
   "outputs": [],
   "source": [
    "1500 * 12 - 3000 - 12000"
   ]
  },
  {
   "cell_type": "code",
   "execution_count": null,
   "metadata": {
    "ExecuteTime": {
     "end_time": "2019-08-16T10:34:29.336763Z",
     "start_time": "2019-08-16T10:34:28.983028Z"
    }
   },
   "outputs": [],
   "source": [
    "import os\n",
    "from dmt.tk.utils import datasets\n",
    "data_path=\\\n",
    "    os.path.join(\n",
    "        os.environ[\"DMTPATH\"],\n",
    "        \"examples/datasets/cortex/sscx/rat/composition\",\n",
    "        \"cell_density\")"
   ]
  },
  {
   "cell_type": "code",
   "execution_count": null,
   "metadata": {
    "ExecuteTime": {
     "end_time": "2019-08-16T10:10:15.116960Z",
     "start_time": "2019-08-16T10:10:15.093762Z"
    }
   },
   "outputs": [],
   "source": [
    "datasets.load(data_path, \"DeFelipe2017\")"
   ]
  },
  {
   "cell_type": "code",
   "execution_count": 2,
   "metadata": {
    "ExecuteTime": {
     "end_time": "2019-08-16T20:53:11.875847Z",
     "start_time": "2019-08-16T20:53:11.774749Z"
    }
   },
   "outputs": [],
   "source": [
    "from neuro_dmt.data.rat import defelipe2017, defelipe2014, meyer2010"
   ]
  },
  {
   "cell_type": "code",
   "execution_count": null,
   "metadata": {
    "ExecuteTime": {
     "end_time": "2019-08-16T13:13:52.104656Z",
     "start_time": "2019-08-16T13:13:52.071770Z"
    }
   },
   "outputs": [],
   "source": [
    "sample = \"P14-12\"\n",
    "(defelipe2017.dataframe.query(\"sample==@sample\").cell_density /\n",
    " defelipe2014.dataframe.query(\"sample==@sample\").cell_density)"
   ]
  },
  {
   "cell_type": "code",
   "execution_count": null,
   "metadata": {
    "ExecuteTime": {
     "end_time": "2019-08-16T20:47:10.099464Z",
     "start_time": "2019-08-16T20:47:10.092888Z"
    }
   },
   "outputs": [],
   "source": [
    "from dmt.data.observation import\\\n",
    "    Observation, \\\n",
    "    Measurement,\\\n",
    "    SummaryMeasurement\n",
    "print(Observation.phenomenon)\n",
    "from neuro_dmt.data.rat import\\\n",
    "    ByLayerCellDensityMeasurement,\\\n",
    "    ByLayerCellDensitySummaryMeasurement\n",
    "\n",
    "print(Observation.phenomenon.__doc__)\n",
    "print(Measurement.phenomenon.__doc__)\n",
    "print(SummaryMeasurement.phenomenon.__doc__)\n",
    "print(ByLayerCellDensityMeasurement.phenomenon.label)\n",
    "print(ByLayerCellDensitySummaryMeasurement.phenomenon.label)\n",
    "#defelipe2014.summary_measurement"
   ]
  },
  {
   "cell_type": "code",
   "execution_count": null,
   "metadata": {
    "ExecuteTime": {
     "end_time": "2019-08-16T10:38:11.412055Z",
     "start_time": "2019-08-16T10:38:11.398170Z"
    }
   },
   "outputs": [],
   "source": [
    "meyer2010."
   ]
  },
  {
   "cell_type": "code",
   "execution_count": 3,
   "metadata": {
    "ExecuteTime": {
     "end_time": "2019-08-16T20:53:18.358234Z",
     "start_time": "2019-08-16T20:53:18.252211Z"
    }
   },
   "outputs": [
    {
     "data": {
      "text/html": [
       "<div>\n",
       "<style scoped>\n",
       "    .dataframe tbody tr th:only-of-type {\n",
       "        vertical-align: middle;\n",
       "    }\n",
       "\n",
       "    .dataframe tbody tr th {\n",
       "        vertical-align: top;\n",
       "    }\n",
       "\n",
       "    .dataframe thead th {\n",
       "        text-align: right;\n",
       "    }\n",
       "</style>\n",
       "<table border=\"1\" class=\"dataframe\">\n",
       "  <thead>\n",
       "    <tr style=\"text-align: right;\">\n",
       "      <th></th>\n",
       "      <th></th>\n",
       "      <th>cell_density</th>\n",
       "    </tr>\n",
       "    <tr>\n",
       "      <th>dataset</th>\n",
       "      <th>layer</th>\n",
       "      <th></th>\n",
       "    </tr>\n",
       "  </thead>\n",
       "  <tbody>\n",
       "    <tr>\n",
       "      <th rowspan=\"30\" valign=\"top\">DeFelipe2014</th>\n",
       "      <th>1</th>\n",
       "      <td>17028.607225</td>\n",
       "    </tr>\n",
       "    <tr>\n",
       "      <th>1</th>\n",
       "      <td>19962.969673</td>\n",
       "    </tr>\n",
       "    <tr>\n",
       "      <th>1</th>\n",
       "      <td>21604.628338</td>\n",
       "    </tr>\n",
       "    <tr>\n",
       "      <th>1</th>\n",
       "      <td>21447.066138</td>\n",
       "    </tr>\n",
       "    <tr>\n",
       "      <th>1</th>\n",
       "      <td>9473.137308</td>\n",
       "    </tr>\n",
       "    <tr>\n",
       "      <th>2</th>\n",
       "      <td>169595.150297</td>\n",
       "    </tr>\n",
       "    <tr>\n",
       "      <th>2</th>\n",
       "      <td>171721.196457</td>\n",
       "    </tr>\n",
       "    <tr>\n",
       "      <th>2</th>\n",
       "      <td>159258.585138</td>\n",
       "    </tr>\n",
       "    <tr>\n",
       "      <th>2</th>\n",
       "      <td>151106.453720</td>\n",
       "    </tr>\n",
       "    <tr>\n",
       "      <th>2</th>\n",
       "      <td>147150.398918</td>\n",
       "    </tr>\n",
       "    <tr>\n",
       "      <th>3</th>\n",
       "      <td>80169.877241</td>\n",
       "    </tr>\n",
       "    <tr>\n",
       "      <th>3</th>\n",
       "      <td>86496.335973</td>\n",
       "    </tr>\n",
       "    <tr>\n",
       "      <th>3</th>\n",
       "      <td>84314.246633</td>\n",
       "    </tr>\n",
       "    <tr>\n",
       "      <th>3</th>\n",
       "      <td>77714.122862</td>\n",
       "    </tr>\n",
       "    <tr>\n",
       "      <th>3</th>\n",
       "      <td>83795.809191</td>\n",
       "    </tr>\n",
       "    <tr>\n",
       "      <th>4</th>\n",
       "      <td>176683.721989</td>\n",
       "    </tr>\n",
       "    <tr>\n",
       "      <th>4</th>\n",
       "      <td>190935.591407</td>\n",
       "    </tr>\n",
       "    <tr>\n",
       "      <th>4</th>\n",
       "      <td>151821.359336</td>\n",
       "    </tr>\n",
       "    <tr>\n",
       "      <th>4</th>\n",
       "      <td>183766.169211</td>\n",
       "    </tr>\n",
       "    <tr>\n",
       "      <th>4</th>\n",
       "      <td>172626.818653</td>\n",
       "    </tr>\n",
       "    <tr>\n",
       "      <th>5</th>\n",
       "      <td>97775.630535</td>\n",
       "    </tr>\n",
       "    <tr>\n",
       "      <th>5</th>\n",
       "      <td>94104.923760</td>\n",
       "    </tr>\n",
       "    <tr>\n",
       "      <th>5</th>\n",
       "      <td>88406.286370</td>\n",
       "    </tr>\n",
       "    <tr>\n",
       "      <th>5</th>\n",
       "      <td>79399.476994</td>\n",
       "    </tr>\n",
       "    <tr>\n",
       "      <th>5</th>\n",
       "      <td>93736.568778</td>\n",
       "    </tr>\n",
       "    <tr>\n",
       "      <th>6</th>\n",
       "      <td>134661.026543</td>\n",
       "    </tr>\n",
       "    <tr>\n",
       "      <th>6</th>\n",
       "      <td>143428.881634</td>\n",
       "    </tr>\n",
       "    <tr>\n",
       "      <th>6</th>\n",
       "      <td>133464.389736</td>\n",
       "    </tr>\n",
       "    <tr>\n",
       "      <th>6</th>\n",
       "      <td>149126.168431</td>\n",
       "    </tr>\n",
       "    <tr>\n",
       "      <th>6</th>\n",
       "      <td>125243.230271</td>\n",
       "    </tr>\n",
       "  </tbody>\n",
       "</table>\n",
       "</div>"
      ],
      "text/plain": [
       "                     cell_density\n",
       "dataset      layer               \n",
       "DeFelipe2014 1       17028.607225\n",
       "             1       19962.969673\n",
       "             1       21604.628338\n",
       "             1       21447.066138\n",
       "             1        9473.137308\n",
       "             2      169595.150297\n",
       "             2      171721.196457\n",
       "             2      159258.585138\n",
       "             2      151106.453720\n",
       "             2      147150.398918\n",
       "             3       80169.877241\n",
       "             3       86496.335973\n",
       "             3       84314.246633\n",
       "             3       77714.122862\n",
       "             3       83795.809191\n",
       "             4      176683.721989\n",
       "             4      190935.591407\n",
       "             4      151821.359336\n",
       "             4      183766.169211\n",
       "             4      172626.818653\n",
       "             5       97775.630535\n",
       "             5       94104.923760\n",
       "             5       88406.286370\n",
       "             5       79399.476994\n",
       "             5       93736.568778\n",
       "             6      134661.026543\n",
       "             6      143428.881634\n",
       "             6      133464.389736\n",
       "             6      149126.168431\n",
       "             6      125243.230271"
      ]
     },
     "execution_count": 3,
     "metadata": {},
     "output_type": "execute_result"
    }
   ],
   "source": [
    "defelipe2014\\\n",
    "    .summary_measurement\\\n",
    "    .samples(5)\\\n",
    "    .assign(dataset=\"DeFelipe2014\")\\\n",
    "    .reset_index()\\\n",
    "    .set_index([\"dataset\", \"layer\"])"
   ]
  },
  {
   "cell_type": "code",
   "execution_count": null,
   "metadata": {
    "ExecuteTime": {
     "end_time": "2019-08-16T11:07:48.642395Z",
     "start_time": "2019-08-16T11:07:48.632772Z"
    }
   },
   "outputs": [],
   "source": [
    "df = defelipe2014_summary\\\n",
    "    .reset_index()\\\n",
    "    .assign(region=\"S1HL\")\\\n",
    "    .set_index([\"layer\", \"region\"])"
   ]
  },
  {
   "cell_type": "code",
   "execution_count": null,
   "metadata": {
    "ExecuteTime": {
     "end_time": "2019-08-16T11:12:34.344715Z",
     "start_time": "2019-08-16T11:12:34.329168Z"
    }
   },
   "outputs": [],
   "source": [
    "p = defelipe2014.phenomenon[\"label\"]\n",
    "for index, row in df.iterrows():\n",
    "    print(\"index: \", index)\n",
    "    print(\"row mean: \", row[p][\"mean\"], \"row std: \", row[p][\"std\"])\n",
    "    print(\"---------\")"
   ]
  },
  {
   "cell_type": "code",
   "execution_count": null,
   "metadata": {
    "ExecuteTime": {
     "end_time": "2019-08-16T11:09:15.446626Z",
     "start_time": "2019-08-16T11:09:15.437941Z"
    }
   },
   "outputs": [],
   "source": [
    "df.index.names"
   ]
  },
  {
   "cell_type": "code",
   "execution_count": null,
   "metadata": {
    "ExecuteTime": {
     "end_time": "2019-08-16T13:14:14.662065Z",
     "start_time": "2019-08-16T13:14:14.651607Z"
    }
   },
   "outputs": [],
   "source": [
    "for index, row in defelipe2014_summary.iterrows():\n",
    "    print(\"index: \", index)\n",
    "    print(\"row mean: \", row[p][\"mean\"], \"row std: \", row[p][\"std\"])\n",
    "    print(\"---------\")\n"
   ]
  },
  {
   "cell_type": "code",
   "execution_count": null,
   "metadata": {
    "ExecuteTime": {
     "end_time": "2019-08-16T15:21:39.648316Z",
     "start_time": "2019-08-16T15:21:38.177854Z"
    }
   },
   "outputs": [],
   "source": [
    "from neuro_dmt.analysis.circuit.composition.by_layer import test_analyses\n",
    "test_analyses\\\n",
    "    .get_experimental_model_data(\n",
    "        meyer2010,\n",
    "        sample_size=1000)\\\n",
    "    .groupby(\"layer\")\\\n",
    "    .agg([\"size\", \"mean\", \"std\"])"
   ]
  },
  {
   "cell_type": "code",
   "execution_count": null,
   "metadata": {
    "ExecuteTime": {
     "end_time": "2019-08-16T15:28:49.407141Z",
     "start_time": "2019-08-16T15:28:49.363022Z"
    }
   },
   "outputs": [],
   "source": [
    "meyer2010.generate_samples(2)"
   ]
  },
  {
   "cell_type": "code",
   "execution_count": null,
   "metadata": {
    "ExecuteTime": {
     "end_time": "2019-08-16T15:28:50.565757Z",
     "start_time": "2019-08-16T15:28:50.549635Z"
    }
   },
   "outputs": [],
   "source": [
    "defelipe2014.summary"
   ]
  },
  {
   "cell_type": "code",
   "execution_count": null,
   "metadata": {
    "ExecuteTime": {
     "end_time": "2019-08-16T14:06:56.667299Z",
     "start_time": "2019-08-16T14:06:56.651931Z"
    }
   },
   "outputs": [],
   "source": [
    "df = meyer2010.dataframe.reset_index()\n",
    "print(df.columns)\n",
    "df"
   ]
  },
  {
   "cell_type": "code",
   "execution_count": null,
   "metadata": {
    "ExecuteTime": {
     "end_time": "2019-08-16T14:08:25.564681Z",
     "start_time": "2019-08-16T14:08:25.555296Z"
    }
   },
   "outputs": [],
   "source": [
    "meyer2010.dataframe.columns.values"
   ]
  },
  {
   "cell_type": "code",
   "execution_count": null,
   "metadata": {
    "ExecuteTime": {
     "end_time": "2019-08-16T15:17:39.694381Z",
     "start_time": "2019-08-16T15:17:39.680149Z"
    }
   },
   "outputs": [],
   "source": [
    "pandas.DataFrame(\n",
    "    dict(5 * list(zip((1,), meyer2010.parameters_list))))"
   ]
  },
  {
   "cell_type": "code",
   "execution_count": null,
   "metadata": {
    "ExecuteTime": {
     "end_time": "2019-08-16T15:20:43.240717Z",
     "start_time": "2019-08-16T15:20:43.231328Z"
    }
   },
   "outputs": [],
   "source": [
    "pandas.DataFrame(\n",
    "    5 * [dict(zip(meyer2010.parameters_list, (1,)))])"
   ]
  },
  {
   "cell_type": "code",
   "execution_count": null,
   "metadata": {},
   "outputs": [],
   "source": []
  }
 ],
 "metadata": {
  "kernelspec": {
   "display_name": "Python 3",
   "language": "python",
   "name": "python3"
  },
  "language_info": {
   "codemirror_mode": {
    "name": "ipython",
    "version": 3
   },
   "file_extension": ".py",
   "mimetype": "text/x-python",
   "name": "python",
   "nbconvert_exporter": "python",
   "pygments_lexer": "ipython3",
   "version": "3.6.7"
  },
  "latex_envs": {
   "LaTeX_envs_menu_present": true,
   "autoclose": false,
   "autocomplete": true,
   "bibliofile": "biblio.bib",
   "cite_by": "apalike",
   "current_citInitial": 1,
   "eqLabelWithNumbers": true,
   "eqNumInitial": 1,
   "hotkeys": {
    "equation": "Ctrl-E",
    "itemize": "Ctrl-I"
   },
   "labels_anchors": false,
   "latex_user_defs": false,
   "report_style_numbering": false,
   "user_envs_cfg": false
  },
  "toc": {
   "base_numbering": 1,
   "nav_menu": {},
   "number_sections": true,
   "sideBar": true,
   "skip_h1_title": false,
   "title_cell": "Table of Contents",
   "title_sidebar": "Contents",
   "toc_cell": false,
   "toc_position": {},
   "toc_section_display": true,
   "toc_window_display": false
  },
  "varInspector": {
   "cols": {
    "lenName": 16,
    "lenType": 16,
    "lenVar": 40
   },
   "kernels_config": {
    "python": {
     "delete_cmd_postfix": "",
     "delete_cmd_prefix": "del ",
     "library": "var_list.py",
     "varRefreshCmd": "print(var_dic_list())"
    },
    "r": {
     "delete_cmd_postfix": ") ",
     "delete_cmd_prefix": "rm(",
     "library": "var_list.r",
     "varRefreshCmd": "cat(var_dic_list()) "
    }
   },
   "types_to_exclude": [
    "module",
    "function",
    "builtin_function_or_method",
    "instance",
    "_Feature"
   ],
   "window_display": false
  }
 },
 "nbformat": 4,
 "nbformat_minor": 2
}
