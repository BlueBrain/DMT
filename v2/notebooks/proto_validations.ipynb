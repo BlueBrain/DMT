{
 "cells": [
  {
   "cell_type": "markdown",
   "metadata": {},
   "source": [
    "We test develop *neuro_dmt* validations."
   ]
  },
  {
   "cell_type": "code",
   "execution_count": null,
   "metadata": {
    "ExecuteTime": {
     "end_time": "2019-08-14T14:40:37.655905Z",
     "start_time": "2019-08-14T14:40:37.633675Z"
    }
   },
   "outputs": [],
   "source": [
    "import os\n",
    "import seaborn\n",
    "tips = seaborn\\\n",
    "    .load_dataset(\"tips\")\n",
    "tips.head()"
   ]
  },
  {
   "cell_type": "code",
   "execution_count": null,
   "metadata": {
    "ExecuteTime": {
     "end_time": "2019-08-13T14:50:28.842063Z",
     "start_time": "2019-08-13T14:50:28.779586Z"
    }
   },
   "outputs": [],
   "source": [
    "parameters_plotting = dict(\n",
    "        x=\"bing bing\",\n",
    "        #y=\"total_bill\",\n",
    "        y=\"jinga jinga\",\n",
    "        hue=\"smoker\",\n",
    "        #hue=None,\n",
    "        #col=\"time\", #column\n",
    "        kind=\"bar\",\n",
    "        height=8,\n",
    "        aspect=.7)"
   ]
  },
  {
   "cell_type": "code",
   "execution_count": null,
   "metadata": {
    "ExecuteTime": {
     "end_time": "2019-08-13T14:50:29.434386Z",
     "start_time": "2019-08-13T14:50:28.851003Z"
    }
   },
   "outputs": [],
   "source": [
    "from dmt.tk.plotting import bar\n",
    "seaborn.catplot(\n",
    "    data=tips.rename(\n",
    "        columns={\n",
    "            \"total_bill\": \"jinga jinga\",\n",
    "            \"sex\": \"bing bing\"}),\n",
    "    **parameters_plotting)"
   ]
  },
  {
   "cell_type": "code",
   "execution_count": null,
   "metadata": {
    "ExecuteTime": {
     "end_time": "2019-08-13T14:50:29.764627Z",
     "start_time": "2019-08-13T14:50:29.440614Z"
    }
   },
   "outputs": [],
   "source": [
    "parameters_plotting = dict(\n",
    "        hue=\"sex\",\n",
    "        y=\"total_bill\",\n",
    "        x=\"smoker\",\n",
    "        col=\"time\", #column\n",
    "        kind=\"bar\",\n",
    "        height=10,\n",
    "        aspect=.7)\n",
    "bar.plot(\n",
    "    tips,\n",
    "    **parameters_plotting)"
   ]
  },
  {
   "cell_type": "markdown",
   "metadata": {},
   "source": [
    "## Test develop Adapter behavior"
   ]
  },
  {
   "cell_type": "code",
   "execution_count": 1,
   "metadata": {
    "ExecuteTime": {
     "end_time": "2019-08-14T14:55:13.247268Z",
     "start_time": "2019-08-14T14:55:12.273999Z"
    }
   },
   "outputs": [],
   "source": [
    "from neuro_dmt.analysis.circuit.composition.by_layer\\\n",
    "    import ByLayerCellDensityAnalysis\n",
    "from neuro_dmt.models.bluebrain.circuit.mock.adapter\\\n",
    "    import MockCircuitAdapter"
   ]
  },
  {
   "cell_type": "code",
   "execution_count": 2,
   "metadata": {
    "ExecuteTime": {
     "end_time": "2019-08-14T14:55:13.404589Z",
     "start_time": "2019-08-14T14:55:13.401596Z"
    }
   },
   "outputs": [],
   "source": [
    "blcda = ByLayerCellDensityAnalysis(adapter=MockCircuitAdapter())"
   ]
  },
  {
   "cell_type": "code",
   "execution_count": 3,
   "metadata": {
    "ExecuteTime": {
     "end_time": "2019-08-14T14:55:13.582303Z",
     "start_time": "2019-08-14T14:55:13.548747Z"
    }
   },
   "outputs": [
    {
     "data": {
      "text/html": [
       "<div>\n",
       "<style scoped>\n",
       "    .dataframe tbody tr th:only-of-type {\n",
       "        vertical-align: middle;\n",
       "    }\n",
       "\n",
       "    .dataframe tbody tr th {\n",
       "        vertical-align: top;\n",
       "    }\n",
       "\n",
       "    .dataframe thead th {\n",
       "        text-align: right;\n",
       "    }\n",
       "</style>\n",
       "<table border=\"1\" class=\"dataframe\">\n",
       "  <thead>\n",
       "    <tr style=\"text-align: right;\">\n",
       "      <th></th>\n",
       "      <th>cell_density</th>\n",
       "    </tr>\n",
       "    <tr>\n",
       "      <th>layer</th>\n",
       "      <th></th>\n",
       "    </tr>\n",
       "  </thead>\n",
       "  <tbody>\n",
       "    <tr>\n",
       "      <th>1</th>\n",
       "      <td>8107.647280</td>\n",
       "    </tr>\n",
       "    <tr>\n",
       "      <th>2</th>\n",
       "      <td>140135.722742</td>\n",
       "    </tr>\n",
       "    <tr>\n",
       "      <th>3</th>\n",
       "      <td>98909.156839</td>\n",
       "    </tr>\n",
       "    <tr>\n",
       "      <th>4</th>\n",
       "      <td>147249.447098</td>\n",
       "    </tr>\n",
       "    <tr>\n",
       "      <th>5</th>\n",
       "      <td>98602.030920</td>\n",
       "    </tr>\n",
       "  </tbody>\n",
       "</table>\n",
       "</div>"
      ],
      "text/plain": [
       "        cell_density\n",
       "layer               \n",
       "1        8107.647280\n",
       "2      140135.722742\n",
       "3       98909.156839\n",
       "4      147249.447098\n",
       "5       98602.030920"
      ]
     },
     "execution_count": 3,
     "metadata": {},
     "output_type": "execute_result"
    }
   ],
   "source": [
    "sm = blcda._get_statistical_measurement(None)\n",
    "sm.head()"
   ]
  },
  {
   "cell_type": "code",
   "execution_count": 4,
   "metadata": {
    "ExecuteTime": {
     "end_time": "2019-08-14T14:55:14.368207Z",
     "start_time": "2019-08-14T14:55:13.856739Z"
    }
   },
   "outputs": [
    {
     "name": "stderr",
     "output_type": "stream",
     "text": [
      "/Users/vishalsoodmuchu/.vmgr_repo/py37/lib/python3.7/site-packages/scipy/stats/stats.py:1713: FutureWarning: Using a non-tuple sequence for multidimensional indexing is deprecated; use `arr[tuple(seq)]` instead of `arr[seq]`. In the future this will be interpreted as an array index, `arr[np.array(seq)]`, which will result either in an error or a different result.\n",
      "  return np.add.reduce(sorted[indexer] * weights, axis=axis) / sumval\n"
     ]
    },
    {
     "data": {
      "image/png": "[encoded data removed]",
      "text/plain": [
       "<Figure size 931.988x576 with 1 Axes>"
      ]
     },
     "metadata": {
      "needs_background": "light"
     },
     "output_type": "display_data"
    }
   ],
   "source": [
    "figure = blcda\\\n",
    "    .plotter\\\n",
    "    .get_figure(\n",
    "        sm.reset_index(),\n",
    "        caption=blcda.adapter_method.__doc__)"
   ]
  },
  {
   "cell_type": "code",
   "execution_count": 5,
   "metadata": {
    "ExecuteTime": {
     "end_time": "2019-08-14T14:55:14.671570Z",
     "start_time": "2019-08-14T14:55:14.668032Z"
    }
   },
   "outputs": [
    {
     "name": "stdout",
     "output_type": "stream",
     "text": [
      "figure caption  \n",
      "        Mock cell density.\n",
      "        \n",
      "analysis method doc \n",
      "        Mock cell density.\n",
      "        \n"
     ]
    }
   ],
   "source": [
    "print(\"figure caption \", figure.caption)\n",
    "print(\"analysis method doc\", blcda._adapter_method.__doc__)"
   ]
  },
  {
   "cell_type": "code",
   "execution_count": 6,
   "metadata": {
    "ExecuteTime": {
     "end_time": "2019-08-14T14:55:15.461373Z",
     "start_time": "2019-08-14T14:55:14.942815Z"
    }
   },
   "outputs": [
    {
     "name": "stdout",
     "output_type": "stream",
     "text": [
      "<dmt.tk.reporting.Report object at 0x124a130b8>\n"
     ]
    },
    {
     "data": {
      "image/png": "[encoded data removed]",
      "text/plain": [
       "<Figure size 931.988x576 with 1 Axes>"
      ]
     },
     "metadata": {
      "needs_background": "light"
     },
     "output_type": "display_data"
    }
   ],
   "source": [
    "report = blcda.get_report(None)\n",
    "print(report)"
   ]
  },
  {
   "cell_type": "code",
   "execution_count": 7,
   "metadata": {
    "ExecuteTime": {
     "end_time": "2019-08-14T14:55:15.751041Z",
     "start_time": "2019-08-14T14:55:15.744979Z"
    }
   },
   "outputs": [
    {
     "data": {
      "text/plain": [
       "['proto_validations.ipynb',\n",
       " 'report.txt',\n",
       " '.ipynb_checkpoints',\n",
       " 'plotting.ipynb']"
      ]
     },
     "execution_count": 7,
     "metadata": {},
     "output_type": "execute_result"
    }
   ],
   "source": [
    "import os\n",
    "os.path.exists(\n",
    "    blcda.reporter.get_output_folder())\n",
    "os.listdir(\n",
    "    blcda.reporter.get_output_folder())"
   ]
  },
  {
   "cell_type": "code",
   "execution_count": 8,
   "metadata": {
    "ExecuteTime": {
     "end_time": "2019-08-14T14:55:17.001858Z",
     "start_time": "2019-08-14T14:55:16.570050Z"
    }
   },
   "outputs": [
    {
     "data": {
      "text/plain": [
       "'/Users/vishalsoodmuchu/work/bbp/work/validations/dmt/v2/notebooks'"
      ]
     },
     "execution_count": 8,
     "metadata": {},
     "output_type": "execute_result"
    }
   ],
   "source": [
    "blcda.reporter.post(report)"
   ]
  },
  {
   "cell_type": "code",
   "execution_count": null,
   "metadata": {
    "ExecuteTime": {
     "end_time": "2019-08-13T14:50:29.820486Z",
     "start_time": "2019-08-13T14:50:27.243Z"
    }
   },
   "outputs": [],
   "source": [
    "from neuro_dmt.models.bluebrain.circuit.mock.adapter\\\n",
    "    import MockCircuitAdapter"
   ]
  },
  {
   "cell_type": "code",
   "execution_count": null,
   "metadata": {
    "ExecuteTime": {
     "end_time": "2019-08-13T14:51:06.248163Z",
     "start_time": "2019-08-13T14:51:06.037522Z"
    }
   },
   "outputs": [],
   "source": [
    "from neuro_dmt.analysis.circuit.composition.interfaces\\\n",
    "    import CellDensityAdapterInterface"
   ]
  },
  {
   "cell_type": "code",
   "execution_count": null,
   "metadata": {
    "ExecuteTime": {
     "end_time": "2019-08-13T14:50:29.825905Z",
     "start_time": "2019-08-13T14:50:27.248Z"
    }
   },
   "outputs": [],
   "source": [
    "print(CellDensityAdapterInterface.__implementation_guide__)"
   ]
  },
  {
   "cell_type": "code",
   "execution_count": null,
   "metadata": {
    "ExecuteTime": {
     "end_time": "2019-08-13T14:55:02.806701Z",
     "start_time": "2019-08-13T14:55:02.685431Z"
    }
   },
   "outputs": [],
   "source": [
    "from dmt.model import interface, adapter\n",
    "\n",
    "@interface.implements(CellDensityAdapterInterface)\n",
    "class BadAdapter:\n",
    "    pass"
   ]
  },
  {
   "cell_type": "code",
   "execution_count": null,
   "metadata": {
    "ExecuteTime": {
     "end_time": "2019-08-13T14:51:07.700227Z",
     "start_time": "2019-08-13T14:51:07.695525Z"
    }
   },
   "outputs": [],
   "source": [
    "print(CellDensityAdapterInterface.__implementation_guide__)"
   ]
  },
  {
   "cell_type": "code",
   "execution_count": null,
   "metadata": {},
   "outputs": [],
   "source": []
  }
 ],
 "metadata": {
  "kernelspec": {
   "display_name": "Python 3",
   "language": "python",
   "name": "python3"
  },
  "language_info": {
   "codemirror_mode": {
    "name": "ipython",
    "version": 3
   },
   "file_extension": ".py",
   "mimetype": "text/x-python",
   "name": "python",
   "nbconvert_exporter": "python",
   "pygments_lexer": "ipython3",
   "version": "3.7.0"
  },
  "latex_envs": {
   "LaTeX_envs_menu_present": true,
   "autoclose": false,
   "autocomplete": true,
   "bibliofile": "biblio.bib",
   "cite_by": "apalike",
   "current_citInitial": 1,
   "eqLabelWithNumbers": true,
   "eqNumInitial": 1,
   "hotkeys": {
    "equation": "Ctrl-E",
    "itemize": "Ctrl-I"
   },
   "labels_anchors": false,
   "latex_user_defs": false,
   "report_style_numbering": false,
   "user_envs_cfg": false
  },
  "toc": {
   "base_numbering": 1,
   "nav_menu": {},
   "number_sections": true,
   "sideBar": true,
   "skip_h1_title": false,
   "title_cell": "Table of Contents",
   "title_sidebar": "Contents",
   "toc_cell": false,
   "toc_position": {},
   "toc_section_display": true,
   "toc_window_display": false
  },
  "varInspector": {
   "cols": {
    "lenName": 16,
    "lenType": 16,
    "lenVar": 40
   },
   "kernels_config": {
    "python": {
     "delete_cmd_postfix": "",
     "delete_cmd_prefix": "del ",
     "library": "var_list.py",
     "varRefreshCmd": "print(var_dic_list())"
    },
    "r": {
     "delete_cmd_postfix": ") ",
     "delete_cmd_prefix": "rm(",
     "library": "var_list.r",
     "varRefreshCmd": "cat(var_dic_list()) "
    }
   },
   "types_to_exclude": [
    "module",
    "function",
    "builtin_function_or_method",
    "instance",
    "_Feature"
   ],
   "window_display": false
  }
 },
 "nbformat": 4,
 "nbformat_minor": 2
}
