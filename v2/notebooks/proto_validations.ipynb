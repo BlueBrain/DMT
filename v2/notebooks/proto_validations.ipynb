{
 "cells": [
  {
   "cell_type": "markdown",
   "metadata": {},
   "source": [
    "We test develop *neuro_dmt* validations."
   ]
  },
  {
   "cell_type": "code",
   "execution_count": null,
   "metadata": {
    "ExecuteTime": {
     "end_time": "2019-08-14T14:40:37.655905Z",
     "start_time": "2019-08-14T14:40:37.633675Z"
    }
   },
   "outputs": [],
   "source": [
    "import os\n",
    "import seaborn\n",
    "tips = seaborn\\\n",
    "    .load_dataset(\"tips\")\n",
    "tips.head()"
   ]
  },
  {
   "cell_type": "code",
   "execution_count": null,
   "metadata": {
    "ExecuteTime": {
     "end_time": "2019-08-13T14:50:28.842063Z",
     "start_time": "2019-08-13T14:50:28.779586Z"
    }
   },
   "outputs": [],
   "source": [
    "parameters_plotting = dict(\n",
    "        x=\"bing bing\",\n",
    "        #y=\"total_bill\",\n",
    "        y=\"jinga jinga\",\n",
    "        hue=\"smoker\",\n",
    "        #hue=None,\n",
    "        #col=\"time\", #column\n",
    "        kind=\"bar\",\n",
    "        height=8,\n",
    "        aspect=.7)"
   ]
  },
  {
   "cell_type": "code",
   "execution_count": null,
   "metadata": {
    "ExecuteTime": {
     "end_time": "2019-08-13T14:50:29.434386Z",
     "start_time": "2019-08-13T14:50:28.851003Z"
    }
   },
   "outputs": [],
   "source": [
    "from dmt.tk.plotting import bar\n",
    "seaborn.catplot(\n",
    "    data=tips.rename(\n",
    "        columns={\n",
    "            \"total_bill\": \"jinga jinga\",\n",
    "            \"sex\": \"bing bing\"}),\n",
    "    **parameters_plotting)"
   ]
  },
  {
   "cell_type": "code",
   "execution_count": null,
   "metadata": {
    "ExecuteTime": {
     "end_time": "2019-08-13T14:50:29.764627Z",
     "start_time": "2019-08-13T14:50:29.440614Z"
    }
   },
   "outputs": [],
   "source": [
    "parameters_plotting = dict(\n",
    "        hue=\"sex\",\n",
    "        y=\"total_bill\",\n",
    "        x=\"smoker\",\n",
    "        col=\"time\", #column\n",
    "        kind=\"bar\",\n",
    "        height=10,\n",
    "        aspect=.7)\n",
    "bar.plot(\n",
    "    tips,\n",
    "    **parameters_plotting)"
   ]
  },
  {
   "cell_type": "markdown",
   "metadata": {},
   "source": [
    "## Test develop Adapter behavior"
   ]
  },
  {
   "cell_type": "code",
   "execution_count": 3,
   "metadata": {
    "ExecuteTime": {
     "end_time": "2019-08-14T16:42:45.328547Z",
     "start_time": "2019-08-14T16:42:45.098918Z"
    }
   },
   "outputs": [],
   "source": [
    "from neuro_dmt.analysis.circuit.composition.by_layer\\\n",
    "    import ByLayerCellDensityAnalysis\n",
    "from neuro_dmt.models.bluebrain.circuit.mock.adapter\\\n",
    "    import MockCircuitAdapter"
   ]
  },
  {
   "cell_type": "code",
   "execution_count": null,
   "metadata": {
    "ExecuteTime": {
     "end_time": "2019-08-14T16:18:29.112364Z",
     "start_time": "2019-08-14T16:18:29.107017Z"
    }
   },
   "outputs": [],
   "source": [
    "blcda = ByLayerCellDensityAnalysis(adapter=MockCircuitAdapter())"
   ]
  },
  {
   "cell_type": "code",
   "execution_count": null,
   "metadata": {
    "ExecuteTime": {
     "end_time": "2019-08-14T16:18:30.303050Z",
     "start_time": "2019-08-14T16:18:30.275792Z"
    }
   },
   "outputs": [],
   "source": [
    "sm = blcda._get_statistical_measurement(None)\n",
    "sm.head()"
   ]
  },
  {
   "cell_type": "code",
   "execution_count": null,
   "metadata": {
    "ExecuteTime": {
     "end_time": "2019-08-14T16:18:31.607785Z",
     "start_time": "2019-08-14T16:18:31.213466Z"
    }
   },
   "outputs": [],
   "source": [
    "figure = blcda\\\n",
    "    .plotter\\\n",
    "    .get_figure(\n",
    "        sm.reset_index(),\n",
    "        caption=blcda.adapter_method.__doc__)"
   ]
  },
  {
   "cell_type": "code",
   "execution_count": null,
   "metadata": {
    "ExecuteTime": {
     "end_time": "2019-08-14T16:18:32.114584Z",
     "start_time": "2019-08-14T16:18:32.108932Z"
    }
   },
   "outputs": [],
   "source": [
    "print(\"figure caption \", figure.caption)\n",
    "print(\"analysis method doc\", blcda._adapter_method.__doc__)"
   ]
  },
  {
   "cell_type": "code",
   "execution_count": null,
   "metadata": {
    "ExecuteTime": {
     "end_time": "2019-08-14T16:18:33.755719Z",
     "start_time": "2019-08-14T16:18:33.347961Z"
    }
   },
   "outputs": [],
   "source": [
    "report = blcda.get_report(None)\n",
    "print(report)"
   ]
  },
  {
   "cell_type": "code",
   "execution_count": null,
   "metadata": {
    "ExecuteTime": {
     "end_time": "2019-08-14T15:57:51.942229Z",
     "start_time": "2019-08-14T15:57:51.933987Z"
    }
   },
   "outputs": [],
   "source": [
    "import os\n",
    "os.path.exists(\n",
    "    blcda.reporter.get_output_folder())\n",
    "os.listdir(\n",
    "    blcda.reporter.get_output_folder())"
   ]
  },
  {
   "cell_type": "code",
   "execution_count": null,
   "metadata": {
    "ExecuteTime": {
     "end_time": "2019-08-14T15:57:54.150074Z",
     "start_time": "2019-08-14T15:57:53.816428Z"
    }
   },
   "outputs": [],
   "source": [
    "blcda.reporter.post(report)"
   ]
  },
  {
   "cell_type": "code",
   "execution_count": 1,
   "metadata": {
    "ExecuteTime": {
     "end_time": "2019-08-14T16:42:39.526899Z",
     "start_time": "2019-08-14T16:42:39.200405Z"
    }
   },
   "outputs": [
    {
     "data": {
      "text/plain": [
       "'cell_density'"
      ]
     },
     "execution_count": 1,
     "metadata": {},
     "output_type": "execute_result"
    }
   ],
   "source": [
    "from neuro_dmt.analysis.circuit.composition.interfaces import\\\n",
    "    CellDensityAdapterInterface\n",
    "CellDensityAdapterInterface.__measurement__"
   ]
  },
  {
   "cell_type": "code",
   "execution_count": 4,
   "metadata": {
    "ExecuteTime": {
     "end_time": "2019-08-14T16:42:47.878454Z",
     "start_time": "2019-08-14T16:42:47.152596Z"
    }
   },
   "outputs": [
    {
     "data": {
      "text/plain": [
       "'/home/muchu/work/bbp/work/validations/dmt/v2/notebooks'"
      ]
     },
     "execution_count": 4,
     "metadata": {},
     "output_type": "execute_result"
    },
    {
     "data": {
      "image/png": "[encoded data removed]",
      "text/plain": [
       "<Figure size 931.988x576 with 1 Axes>"
      ]
     },
     "metadata": {
      "needs_background": "light"
     },
     "output_type": "display_data"
    }
   ],
   "source": [
    "import pandas\n",
    "from neuro_dmt.analysis.circuit import BrainCircuitAnalysis\n",
    "from neuro_dmt.analysis.circuit.composition.by_layer import\\\n",
    "    cell_density_phenomenon\n",
    "from dmt.tk.plotting.bars import Bars\n",
    "from dmt.tk.parameters import Parameters\n",
    "\n",
    "cell_density_analysis = BrainCircuitAnalysis(\n",
    "    phenomenon=cell_density_phenomenon,\n",
    "    AdapterInterface=CellDensityAdapterInterface,\n",
    "    measurement_parameters=Parameters(\n",
    "        pandas.DataFrame({\"layer\": range(1,7)})),\n",
    "    plotter=Bars(\n",
    "        xvar=\"layer\",\n",
    "        xlabel=\"Layer\",\n",
    "        yvar=cell_density_phenomenon.label,\n",
    "        ylabel=cell_density_phenomenon.name),\n",
    "    adapter=MockCircuitAdapter())\n",
    "cell_density_analysis(None)"
   ]
  },
  {
   "cell_type": "code",
   "execution_count": null,
   "metadata": {
    "ExecuteTime": {
     "end_time": "2019-08-14T16:19:43.290890Z",
     "start_time": "2019-08-14T16:19:43.284385Z"
    }
   },
   "outputs": [],
   "source": [
    "blcda.AdapterInterface"
   ]
  },
  {
   "cell_type": "code",
   "execution_count": null,
   "metadata": {
    "ExecuteTime": {
     "end_time": "2019-08-14T15:57:55.649479Z",
     "start_time": "2019-08-14T15:57:55.646192Z"
    }
   },
   "outputs": [],
   "source": [
    "from neuro_dmt.models.bluebrain.circuit.mock.adapter\\\n",
    "    import MockCircuitAdapter"
   ]
  },
  {
   "cell_type": "code",
   "execution_count": null,
   "metadata": {
    "ExecuteTime": {
     "end_time": "2019-08-13T14:51:06.248163Z",
     "start_time": "2019-08-13T14:51:06.037522Z"
    }
   },
   "outputs": [],
   "source": [
    "from neuro_dmt.analysis.circuit.composition.interfaces\\\n",
    "    import CellDensityAdapterInterface"
   ]
  },
  {
   "cell_type": "code",
   "execution_count": null,
   "metadata": {
    "ExecuteTime": {
     "end_time": "2019-08-13T14:50:29.825905Z",
     "start_time": "2019-08-13T14:50:27.248Z"
    }
   },
   "outputs": [],
   "source": [
    "print(CellDensityAdapterInterface.__implementation_guide__)"
   ]
  },
  {
   "cell_type": "code",
   "execution_count": null,
   "metadata": {
    "ExecuteTime": {
     "end_time": "2019-08-13T14:55:02.806701Z",
     "start_time": "2019-08-13T14:55:02.685431Z"
    }
   },
   "outputs": [],
   "source": [
    "from dmt.model import interface, adapter\n",
    "\n",
    "@interface.implements(CellDensityAdapterInterface)\n",
    "class BadAdapter:\n",
    "    pass"
   ]
  },
  {
   "cell_type": "code",
   "execution_count": null,
   "metadata": {
    "ExecuteTime": {
     "end_time": "2019-08-13T14:51:07.700227Z",
     "start_time": "2019-08-13T14:51:07.695525Z"
    }
   },
   "outputs": [],
   "source": [
    "print(CellDensityAdapterInterface.__implementation_guide__)"
   ]
  },
  {
   "cell_type": "code",
   "execution_count": null,
   "metadata": {},
   "outputs": [],
   "source": []
  }
 ],
 "metadata": {
  "kernelspec": {
   "display_name": "Python 3",
   "language": "python",
   "name": "python3"
  },
  "language_info": {
   "codemirror_mode": {
    "name": "ipython",
    "version": 3
   },
   "file_extension": ".py",
   "mimetype": "text/x-python",
   "name": "python",
   "nbconvert_exporter": "python",
   "pygments_lexer": "ipython3",
   "version": "3.6.7"
  },
  "latex_envs": {
   "LaTeX_envs_menu_present": true,
   "autoclose": false,
   "autocomplete": true,
   "bibliofile": "biblio.bib",
   "cite_by": "apalike",
   "current_citInitial": 1,
   "eqLabelWithNumbers": true,
   "eqNumInitial": 1,
   "hotkeys": {
    "equation": "Ctrl-E",
    "itemize": "Ctrl-I"
   },
   "labels_anchors": false,
   "latex_user_defs": false,
   "report_style_numbering": false,
   "user_envs_cfg": false
  },
  "toc": {
   "base_numbering": 1,
   "nav_menu": {},
   "number_sections": true,
   "sideBar": true,
   "skip_h1_title": false,
   "title_cell": "Table of Contents",
   "title_sidebar": "Contents",
   "toc_cell": false,
   "toc_position": {},
   "toc_section_display": true,
   "toc_window_display": false
  },
  "varInspector": {
   "cols": {
    "lenName": 16,
    "lenType": 16,
    "lenVar": 40
   },
   "kernels_config": {
    "python": {
     "delete_cmd_postfix": "",
     "delete_cmd_prefix": "del ",
     "library": "var_list.py",
     "varRefreshCmd": "print(var_dic_list())"
    },
    "r": {
     "delete_cmd_postfix": ") ",
     "delete_cmd_prefix": "rm(",
     "library": "var_list.r",
     "varRefreshCmd": "cat(var_dic_list()) "
    }
   },
   "types_to_exclude": [
    "module",
    "function",
    "builtin_function_or_method",
    "instance",
    "_Feature"
   ],
   "window_display": false
  }
 },
 "nbformat": 4,
 "nbformat_minor": 2
}
