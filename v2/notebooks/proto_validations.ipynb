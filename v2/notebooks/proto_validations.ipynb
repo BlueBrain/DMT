{
 "cells": [
  {
   "cell_type": "markdown",
   "metadata": {},
   "source": [
    "We test develop *neuro_dmt* validations."
   ]
  },
  {
   "cell_type": "code",
   "execution_count": null,
   "metadata": {
    "ExecuteTime": {
     "end_time": "2019-08-13T14:50:28.770994Z",
     "start_time": "2019-08-13T14:50:27.225361Z"
    }
   },
   "outputs": [],
   "source": [
    "import seaborn\n",
    "tips = seaborn\\\n",
    "    .load_dataset(\"tips\")\n",
    "tips.head()"
   ]
  },
  {
   "cell_type": "code",
   "execution_count": null,
   "metadata": {
    "ExecuteTime": {
     "end_time": "2019-08-13T14:50:28.842063Z",
     "start_time": "2019-08-13T14:50:28.779586Z"
    }
   },
   "outputs": [],
   "source": [
    "parameters_plotting = dict(\n",
    "        x=\"bing bing\",\n",
    "        #y=\"total_bill\",\n",
    "        y=\"jinga jinga\",\n",
    "        hue=\"smoker\",\n",
    "        #hue=None,\n",
    "        #col=\"time\", #column\n",
    "        kind=\"bar\",\n",
    "        height=8,\n",
    "        aspect=.7)"
   ]
  },
  {
   "cell_type": "code",
   "execution_count": null,
   "metadata": {
    "ExecuteTime": {
     "end_time": "2019-08-13T14:50:29.434386Z",
     "start_time": "2019-08-13T14:50:28.851003Z"
    }
   },
   "outputs": [],
   "source": [
    "from dmt.tk.plotting import bar\n",
    "seaborn.catplot(\n",
    "    data=tips.rename(\n",
    "        columns={\n",
    "            \"total_bill\": \"jinga jinga\",\n",
    "            \"sex\": \"bing bing\"}),\n",
    "    **parameters_plotting)"
   ]
  },
  {
   "cell_type": "code",
   "execution_count": null,
   "metadata": {
    "ExecuteTime": {
     "end_time": "2019-08-13T14:50:29.764627Z",
     "start_time": "2019-08-13T14:50:29.440614Z"
    }
   },
   "outputs": [],
   "source": [
    "parameters_plotting = dict(\n",
    "        hue=\"sex\",\n",
    "        y=\"total_bill\",\n",
    "        x=\"smoker\",\n",
    "        col=\"time\", #column\n",
    "        kind=\"bar\",\n",
    "        height=10,\n",
    "        aspect=.7)\n",
    "bar.plot(\n",
    "    tips,\n",
    "    **parameters_plotting)"
   ]
  },
  {
   "cell_type": "markdown",
   "metadata": {},
   "source": [
    "## Test develop Adapter behavior"
   ]
  },
  {
   "cell_type": "code",
   "execution_count": 1,
   "metadata": {
    "ExecuteTime": {
     "end_time": "2019-08-14T11:36:43.566007Z",
     "start_time": "2019-08-14T11:36:42.892402Z"
    }
   },
   "outputs": [],
   "source": [
    "from neuro_dmt.analysis.circuit.composition.by_layer\\\n",
    "    import ByLayerCellDensityAnalysis\n",
    "from neuro_dmt.models.bluebrain.circuit.mock.adapter\\\n",
    "    import MockCircuitAdapter"
   ]
  },
  {
   "cell_type": "code",
   "execution_count": 2,
   "metadata": {
    "ExecuteTime": {
     "end_time": "2019-08-14T11:36:44.089675Z",
     "start_time": "2019-08-14T11:36:44.084728Z"
    }
   },
   "outputs": [],
   "source": [
    "blcda = ByLayerCellDensityAnalysis(adapter=MockCircuitAdapter())"
   ]
  },
  {
   "cell_type": "code",
   "execution_count": 3,
   "metadata": {
    "ExecuteTime": {
     "end_time": "2019-08-14T11:36:44.907921Z",
     "start_time": "2019-08-14T11:36:44.854085Z"
    }
   },
   "outputs": [
    {
     "data": {
      "text/html": [
       "<div>\n",
       "<style scoped>\n",
       "    .dataframe tbody tr th:only-of-type {\n",
       "        vertical-align: middle;\n",
       "    }\n",
       "\n",
       "    .dataframe tbody tr th {\n",
       "        vertical-align: top;\n",
       "    }\n",
       "\n",
       "    .dataframe thead th {\n",
       "        text-align: right;\n",
       "    }\n",
       "</style>\n",
       "<table border=\"1\" class=\"dataframe\">\n",
       "  <thead>\n",
       "    <tr style=\"text-align: right;\">\n",
       "      <th></th>\n",
       "      <th>cell_density</th>\n",
       "    </tr>\n",
       "    <tr>\n",
       "      <th>layer</th>\n",
       "      <th></th>\n",
       "    </tr>\n",
       "  </thead>\n",
       "  <tbody>\n",
       "    <tr>\n",
       "      <th>1</th>\n",
       "      <td>10777.506111</td>\n",
       "    </tr>\n",
       "    <tr>\n",
       "      <th>2</th>\n",
       "      <td>144250.086984</td>\n",
       "    </tr>\n",
       "    <tr>\n",
       "      <th>3</th>\n",
       "      <td>98997.853633</td>\n",
       "    </tr>\n",
       "    <tr>\n",
       "      <th>4</th>\n",
       "      <td>152424.061810</td>\n",
       "    </tr>\n",
       "    <tr>\n",
       "      <th>5</th>\n",
       "      <td>105516.193877</td>\n",
       "    </tr>\n",
       "  </tbody>\n",
       "</table>\n",
       "</div>"
      ],
      "text/plain": [
       "        cell_density\n",
       "layer               \n",
       "1       10777.506111\n",
       "2      144250.086984\n",
       "3       98997.853633\n",
       "4      152424.061810\n",
       "5      105516.193877"
      ]
     },
     "execution_count": 3,
     "metadata": {},
     "output_type": "execute_result"
    }
   ],
   "source": [
    "sm = blcda._get_statistical_measurement(None)\n",
    "sm.head()"
   ]
  },
  {
   "cell_type": "code",
   "execution_count": 7,
   "metadata": {
    "ExecuteTime": {
     "end_time": "2019-08-14T11:40:17.515407Z",
     "start_time": "2019-08-14T11:40:17.067821Z"
    }
   },
   "outputs": [
    {
     "data": {
      "image/png": "[encoded data removed]",
      "text/plain": [
       "<Figure size 931.988x576 with 1 Axes>"
      ]
     },
     "metadata": {
      "needs_background": "light"
     },
     "output_type": "display_data"
    }
   ],
   "source": [
    "figure = blcda\\\n",
    "    .plotter\\\n",
    "    .get_figure(\n",
    "        sm.reset_index(),\n",
    "        caption=blcda.adapter_method.__doc__)"
   ]
  },
  {
   "cell_type": "code",
   "execution_count": 9,
   "metadata": {
    "ExecuteTime": {
     "end_time": "2019-08-14T11:40:28.168891Z",
     "start_time": "2019-08-14T11:40:28.163313Z"
    }
   },
   "outputs": [
    {
     "name": "stdout",
     "output_type": "stream",
     "text": [
      "figure caption  \n",
      "        A mock value!\n",
      "        \n",
      "analysis method doc \n",
      "        A mock value!\n",
      "        \n"
     ]
    }
   ],
   "source": [
    "print(\"figure caption \", figure.caption)\n",
    "print(\"analysis method doc\", blcda._adapter_method.__doc__)"
   ]
  },
  {
   "cell_type": "code",
   "execution_count": null,
   "metadata": {
    "ExecuteTime": {
     "end_time": "2019-08-13T14:50:29.820486Z",
     "start_time": "2019-08-13T14:50:27.243Z"
    }
   },
   "outputs": [],
   "source": [
    "from neuro_dmt.models.bluebrain.circuit.mock.adapter\\\n",
    "    import MockCircuitAdapter"
   ]
  },
  {
   "cell_type": "code",
   "execution_count": null,
   "metadata": {
    "ExecuteTime": {
     "end_time": "2019-08-13T14:51:06.248163Z",
     "start_time": "2019-08-13T14:51:06.037522Z"
    }
   },
   "outputs": [],
   "source": [
    "from neuro_dmt.analysis.circuit.composition.interfaces\\\n",
    "    import CellDensityAdapterInterface"
   ]
  },
  {
   "cell_type": "code",
   "execution_count": null,
   "metadata": {
    "ExecuteTime": {
     "end_time": "2019-08-13T14:50:29.825905Z",
     "start_time": "2019-08-13T14:50:27.248Z"
    }
   },
   "outputs": [],
   "source": [
    "print(CellDensityAdapterInterface.__implementation_guide__)"
   ]
  },
  {
   "cell_type": "code",
   "execution_count": null,
   "metadata": {
    "ExecuteTime": {
     "end_time": "2019-08-13T14:55:02.806701Z",
     "start_time": "2019-08-13T14:55:02.685431Z"
    }
   },
   "outputs": [],
   "source": [
    "from dmt.model import interface, adapter\n",
    "\n",
    "@interface.implements(CellDensityAdapterInterface)\n",
    "class BadAdapter:\n",
    "    pass"
   ]
  },
  {
   "cell_type": "code",
   "execution_count": null,
   "metadata": {
    "ExecuteTime": {
     "end_time": "2019-08-13T14:51:07.700227Z",
     "start_time": "2019-08-13T14:51:07.695525Z"
    }
   },
   "outputs": [],
   "source": [
    "print(CellDensityAdapterInterface.__implementation_guide__)"
   ]
  },
  {
   "cell_type": "code",
   "execution_count": null,
   "metadata": {},
   "outputs": [],
   "source": []
  }
 ],
 "metadata": {
  "kernelspec": {
   "display_name": "Python 3",
   "language": "python",
   "name": "python3"
  },
  "language_info": {
   "codemirror_mode": {
    "name": "ipython",
    "version": 3
   },
   "file_extension": ".py",
   "mimetype": "text/x-python",
   "name": "python",
   "nbconvert_exporter": "python",
   "pygments_lexer": "ipython3",
   "version": "3.6.7"
  },
  "latex_envs": {
   "LaTeX_envs_menu_present": true,
   "autoclose": false,
   "autocomplete": true,
   "bibliofile": "biblio.bib",
   "cite_by": "apalike",
   "current_citInitial": 1,
   "eqLabelWithNumbers": true,
   "eqNumInitial": 1,
   "hotkeys": {
    "equation": "Ctrl-E",
    "itemize": "Ctrl-I"
   },
   "labels_anchors": false,
   "latex_user_defs": false,
   "report_style_numbering": false,
   "user_envs_cfg": false
  },
  "toc": {
   "base_numbering": 1,
   "nav_menu": {},
   "number_sections": true,
   "sideBar": true,
   "skip_h1_title": false,
   "title_cell": "Table of Contents",
   "title_sidebar": "Contents",
   "toc_cell": false,
   "toc_position": {},
   "toc_section_display": true,
   "toc_window_display": false
  },
  "varInspector": {
   "cols": {
    "lenName": 16,
    "lenType": 16,
    "lenVar": 40
   },
   "kernels_config": {
    "python": {
     "delete_cmd_postfix": "",
     "delete_cmd_prefix": "del ",
     "library": "var_list.py",
     "varRefreshCmd": "print(var_dic_list())"
    },
    "r": {
     "delete_cmd_postfix": ") ",
     "delete_cmd_prefix": "rm(",
     "library": "var_list.r",
     "varRefreshCmd": "cat(var_dic_list()) "
    }
   },
   "types_to_exclude": [
    "module",
    "function",
    "builtin_function_or_method",
    "instance",
    "_Feature"
   ],
   "window_display": false
  }
 },
 "nbformat": 4,
 "nbformat_minor": 2
}
