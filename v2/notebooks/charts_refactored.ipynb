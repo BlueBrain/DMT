{
 "cells": [
  {
   "cell_type": "markdown",
   "metadata": {},
   "source": [
    "# Refactor Network Charts \n",
    "\n",
    "Refactor network charts code to place geometry placement code in its own \"mixin\"..."
   ]
  },
  {
   "cell_type": "code",
   "execution_count": 1,
   "metadata": {
    "ExecuteTime": {
     "end_time": "2019-11-29T12:35:44.020459Z",
     "start_time": "2019-11-29T12:35:43.387068Z"
    }
   },
   "outputs": [],
   "source": [
    "import os\n",
    "from collections import defaultdict\n",
    "import numpy as np\n",
    "import pandas as pd\n",
    "import matplotlib.pyplot as plt\n",
    "from dmt.tk.plotting.shapes import Circle, Arc, PolarPoint\n",
    "from dmt.tk.plotting.charts.network import CircularNetworkChart"
   ]
  },
  {
   "cell_type": "code",
   "execution_count": 2,
   "metadata": {
    "ExecuteTime": {
     "end_time": "2019-11-29T12:35:44.031864Z",
     "start_time": "2019-11-29T12:35:44.022601Z"
    }
   },
   "outputs": [],
   "source": [
    "N = 6\n",
    "mtypes = [\"L23_MC\", \"L5_TPC:A\", \"L6_UPC\", \"L23_BC\", \"L1_SBC\", \"L4_TPC\"][:N]\n",
    "sclasses = pd.Series(\n",
    "    [\"INH\", \"EXC\", \"EXC\", \"INH\", \"INH\", \"EXC\"][:N],\n",
    "    index=mtypes, name=\"sclass\")\n",
    "pathways = [\n",
    "    (pre_mtype, post_mtype)\n",
    "    for pre_mtype in mtypes\n",
    "    for post_mtype in mtypes]\n",
    "N = len(pathways)\n",
    "pathway_strength = pd.DataFrame(\n",
    "    {(\"pathway_strength\", \"mean\"): np.random.uniform(size=N),\n",
    "     (\"pathway_strength\", \"std\"):  np.random.uniform(size=N)},\n",
    "    index=pd.MultiIndex.from_tuples(\n",
    "        pathways,\n",
    "        names=[\"pre_mtype\", \"post_mtype\"]))\n",
    "def get_node_weights(dataframe):\n",
    "    weights = dataframe.groupby(\"pre_mtype\").agg(\"sum\")[(\"pathway_strength\", \"mean\")]\n",
    "    weights.index.name = \"label\"\n",
    "    weights.name = \"weight\"\n",
    "    return weights/np.sum(weights)\n",
    "\n",
    "link_weights = pd.Series(\n",
    "    pathway_strength[(\"pathway_strength\", \"mean\")].values,\n",
    "    index = pathway_strength.index.rename([\"begin_node\", \"end_node\"]),\n",
    "    name=\"weight\")"
   ]
  },
  {
   "cell_type": "code",
   "execution_count": 3,
   "metadata": {
    "ExecuteTime": {
     "end_time": "2019-11-29T12:35:44.042526Z",
     "start_time": "2019-11-29T12:35:44.033022Z"
    }
   },
   "outputs": [],
   "source": [
    "layer_cols = {'L1': np.array([0.3, 0.3, 0]),\n",
    "              'L2': np.array([0.0, 0.3, 0.3]),\n",
    "              'L3': np.array([0.15, 0.3, 0.15]),\n",
    "              'L4': np.array([0.3, 0.0, 0.3]),\n",
    "              'L5': np.array([0.0, 0.6, 0.0]),\n",
    "              'L6': np.array([0.1, 0.1, 0.4])}\n",
    "layer_cols[\"L23\"] = (layer_cols[\"L2\"] + layer_cols[\"L3\"]) / 2.\n",
    "\n",
    "default = np.array([0.2, 0.2, 0.2])\n",
    "add_ei = {'EXC': np.array([0.5, 0.0, 0.0]),\n",
    "          'INH': np.array([0.0, 0.0, 0.5])}\n",
    "\n",
    "\n",
    "def _get_color(mtype, sclass):\n",
    "    layer = mtype.split('_')[0]\n",
    "    return np.minimum(\n",
    "        layer_cols[layer]\n",
    "            + add_ei[sclass] \n",
    "            + np.random.rand(3) * 0.25, 1.0)\n",
    "def make_col_dict(mtypes):\n",
    "    return dict([(_m[0], numpy.minimum(layer_cols.setdefault(_m[0][1], default)\n",
    "                                       + add_ei[_m[1]] +\n",
    "                                       numpy.random.rand(3) * 0.25, 1.0))\n",
    "                 for _m in mtypes])"
   ]
  },
  {
   "cell_type": "code",
   "execution_count": 4,
   "metadata": {
    "ExecuteTime": {
     "end_time": "2019-11-29T12:35:44.055457Z",
     "start_time": "2019-11-29T12:35:44.045033Z"
    }
   },
   "outputs": [],
   "source": [
    "mtypes = link_weights.index.get_level_values(\"begin_node\").unique()\n",
    "color_map ={\n",
    "    mtype: _get_color(mtype, sclass)\n",
    "    for mtype, sclass in sclasses.items()}\n",
    "for pre in mtypes:\n",
    "    for post in mtypes:\n",
    "        link_color = list(color_map[pre])\n",
    "        link_color.append(0.25)\n",
    "        color_map[(pre, post)] = np.array([0.8, 0.8, 0.8, 1.0]) * link_color\n",
    "chart =\\\n",
    "    CircularNetworkChart(\n",
    "        link_data=link_weights,\n",
    "        color_map=color_map)"
   ]
  },
  {
   "cell_type": "code",
   "execution_count": 5,
   "metadata": {
    "ExecuteTime": {
     "end_time": "2019-11-29T12:35:44.079434Z",
     "start_time": "2019-11-29T12:35:44.058132Z"
    }
   },
   "outputs": [
    {
     "data": {
      "text/plain": [
       "begin_node\n",
       "L1_SBC      2.233039\n",
       "L23_BC      3.257020\n",
       "L23_MC      3.035355\n",
       "L4_TPC      2.042997\n",
       "L5_TPC:A    1.998202\n",
       "L6_UPC      1.794688\n",
       "Name: outgoing, dtype: float64"
      ]
     },
     "execution_count": 5,
     "metadata": {},
     "output_type": "execute_result"
    }
   ],
   "source": [
    "chart.link_data.groupby(\n",
    "    \"begin_node\"\n",
    ").agg(\n",
    "    \"sum\"\n",
    ").rename(\n",
    "    \"outgoing\"\n",
    ")"
   ]
  },
  {
   "cell_type": "code",
   "execution_count": 6,
   "metadata": {
    "ExecuteTime": {
     "end_time": "2019-11-29T12:35:44.104776Z",
     "start_time": "2019-11-29T12:35:44.080841Z"
    }
   },
   "outputs": [
    {
     "data": {
      "text/html": [
       "<div>\n",
       "<style scoped>\n",
       "    .dataframe tbody tr th:only-of-type {\n",
       "        vertical-align: middle;\n",
       "    }\n",
       "\n",
       "    .dataframe tbody tr th {\n",
       "        vertical-align: top;\n",
       "    }\n",
       "\n",
       "    .dataframe thead th {\n",
       "        text-align: right;\n",
       "    }\n",
       "</style>\n",
       "<table border=\"1\" class=\"dataframe\">\n",
       "  <thead>\n",
       "    <tr style=\"text-align: right;\">\n",
       "      <th></th>\n",
       "      <th>outgoing</th>\n",
       "      <th>incoming</th>\n",
       "      <th>total</th>\n",
       "    </tr>\n",
       "  </thead>\n",
       "  <tbody>\n",
       "    <tr>\n",
       "      <th>L1_SBC</th>\n",
       "      <td>2.233039</td>\n",
       "      <td>1.659612</td>\n",
       "      <td>3.892651</td>\n",
       "    </tr>\n",
       "    <tr>\n",
       "      <th>L23_BC</th>\n",
       "      <td>3.257020</td>\n",
       "      <td>2.320216</td>\n",
       "      <td>5.577236</td>\n",
       "    </tr>\n",
       "    <tr>\n",
       "      <th>L23_MC</th>\n",
       "      <td>3.035355</td>\n",
       "      <td>2.038193</td>\n",
       "      <td>5.073549</td>\n",
       "    </tr>\n",
       "    <tr>\n",
       "      <th>L4_TPC</th>\n",
       "      <td>2.042997</td>\n",
       "      <td>3.345619</td>\n",
       "      <td>5.388616</td>\n",
       "    </tr>\n",
       "    <tr>\n",
       "      <th>L5_TPC:A</th>\n",
       "      <td>1.998202</td>\n",
       "      <td>2.921155</td>\n",
       "      <td>4.919357</td>\n",
       "    </tr>\n",
       "    <tr>\n",
       "      <th>L6_UPC</th>\n",
       "      <td>1.794688</td>\n",
       "      <td>2.076505</td>\n",
       "      <td>3.871193</td>\n",
       "    </tr>\n",
       "  </tbody>\n",
       "</table>\n",
       "</div>"
      ],
      "text/plain": [
       "          outgoing  incoming     total\n",
       "L1_SBC    2.233039  1.659612  3.892651\n",
       "L23_BC    3.257020  2.320216  5.577236\n",
       "L23_MC    3.035355  2.038193  5.073549\n",
       "L4_TPC    2.042997  3.345619  5.388616\n",
       "L5_TPC:A  1.998202  2.921155  4.919357\n",
       "L6_UPC    1.794688  2.076505  3.871193"
      ]
     },
     "execution_count": 6,
     "metadata": {},
     "output_type": "execute_result"
    }
   ],
   "source": [
    "chart.node_flow"
   ]
  },
  {
   "cell_type": "code",
   "execution_count": 7,
   "metadata": {
    "ExecuteTime": {
     "end_time": "2019-11-29T12:35:44.114544Z",
     "start_time": "2019-11-29T12:35:44.105891Z"
    }
   },
   "outputs": [
    {
     "data": {
      "text/html": [
       "<div>\n",
       "<style scoped>\n",
       "    .dataframe tbody tr th:only-of-type {\n",
       "        vertical-align: middle;\n",
       "    }\n",
       "\n",
       "    .dataframe tbody tr th {\n",
       "        vertical-align: top;\n",
       "    }\n",
       "\n",
       "    .dataframe thead th {\n",
       "        text-align: right;\n",
       "    }\n",
       "</style>\n",
       "<table border=\"1\" class=\"dataframe\">\n",
       "  <thead>\n",
       "    <tr style=\"text-align: right;\">\n",
       "      <th></th>\n",
       "      <th>total</th>\n",
       "      <th>source</th>\n",
       "      <th>target</th>\n",
       "    </tr>\n",
       "  </thead>\n",
       "  <tbody>\n",
       "    <tr>\n",
       "      <th>L1_SBC</th>\n",
       "      <td>0.135526</td>\n",
       "      <td>0.077745</td>\n",
       "      <td>0.057781</td>\n",
       "    </tr>\n",
       "    <tr>\n",
       "      <th>L23_BC</th>\n",
       "      <td>0.194176</td>\n",
       "      <td>0.113396</td>\n",
       "      <td>0.080780</td>\n",
       "    </tr>\n",
       "    <tr>\n",
       "      <th>L23_MC</th>\n",
       "      <td>0.176640</td>\n",
       "      <td>0.105678</td>\n",
       "      <td>0.070961</td>\n",
       "    </tr>\n",
       "    <tr>\n",
       "      <th>L4_TPC</th>\n",
       "      <td>0.187609</td>\n",
       "      <td>0.071129</td>\n",
       "      <td>0.116480</td>\n",
       "    </tr>\n",
       "    <tr>\n",
       "      <th>L5_TPC:A</th>\n",
       "      <td>0.171271</td>\n",
       "      <td>0.069569</td>\n",
       "      <td>0.101702</td>\n",
       "    </tr>\n",
       "    <tr>\n",
       "      <th>L6_UPC</th>\n",
       "      <td>0.134779</td>\n",
       "      <td>0.062483</td>\n",
       "      <td>0.072295</td>\n",
       "    </tr>\n",
       "  </tbody>\n",
       "</table>\n",
       "</div>"
      ],
      "text/plain": [
       "             total    source    target\n",
       "L1_SBC    0.135526  0.077745  0.057781\n",
       "L23_BC    0.194176  0.113396  0.080780\n",
       "L23_MC    0.176640  0.105678  0.070961\n",
       "L4_TPC    0.187609  0.071129  0.116480\n",
       "L5_TPC:A  0.171271  0.069569  0.101702\n",
       "L6_UPC    0.134779  0.062483  0.072295"
      ]
     },
     "execution_count": 7,
     "metadata": {},
     "output_type": "execute_result"
    }
   ],
   "source": [
    "chart.node_weight"
   ]
  },
  {
   "cell_type": "code",
   "execution_count": 8,
   "metadata": {
    "ExecuteTime": {
     "end_time": "2019-11-29T12:35:44.144314Z",
     "start_time": "2019-11-29T12:35:44.115850Z"
    }
   },
   "outputs": [
    {
     "data": {
      "text/html": [
       "<div>\n",
       "<style scoped>\n",
       "    .dataframe tbody tr th:only-of-type {\n",
       "        vertical-align: middle;\n",
       "    }\n",
       "\n",
       "    .dataframe tbody tr th {\n",
       "        vertical-align: top;\n",
       "    }\n",
       "\n",
       "    .dataframe thead th {\n",
       "        text-align: right;\n",
       "    }\n",
       "</style>\n",
       "<table border=\"1\" class=\"dataframe\">\n",
       "  <thead>\n",
       "    <tr style=\"text-align: right;\">\n",
       "      <th></th>\n",
       "      <th>source</th>\n",
       "      <th>target</th>\n",
       "    </tr>\n",
       "  </thead>\n",
       "  <tbody>\n",
       "    <tr>\n",
       "      <th>L1_SBC</th>\n",
       "      <td>(1.0, 0.18318238354520755)</td>\n",
       "      <td>(0.9, 0.5025073414817329)</td>\n",
       "    </tr>\n",
       "    <tr>\n",
       "      <th>L23_BC</th>\n",
       "      <td>(1.0, 1.1676316207877562)</td>\n",
       "      <td>(0.9, 1.6251476967152916)</td>\n",
       "    </tr>\n",
       "    <tr>\n",
       "      <th>L23_MC</th>\n",
       "      <td>(1.0, 2.3262794132202265)</td>\n",
       "      <td>(0.9, 2.742476629819709)</td>\n",
       "    </tr>\n",
       "    <tr>\n",
       "      <th>L4_TPC</th>\n",
       "      <td>(1.0, 3.339067383592712)</td>\n",
       "      <td>(0.9, 3.7811104642099345)</td>\n",
       "    </tr>\n",
       "    <tr>\n",
       "      <th>L5_TPC:A</th>\n",
       "      <td>(1.0, 4.481278243503409)</td>\n",
       "      <td>(0.9, 4.884826709489283)</td>\n",
       "    </tr>\n",
       "    <tr>\n",
       "      <th>L6_UPC</th>\n",
       "      <td>(1.0, 5.533479758257173)</td>\n",
       "      <td>(0.9, 5.851044451382878)</td>\n",
       "    </tr>\n",
       "  </tbody>\n",
       "</table>\n",
       "</div>"
      ],
      "text/plain": [
       "                              source                     target\n",
       "L1_SBC    (1.0, 0.18318238354520755)  (0.9, 0.5025073414817329)\n",
       "L23_BC     (1.0, 1.1676316207877562)  (0.9, 1.6251476967152916)\n",
       "L23_MC     (1.0, 2.3262794132202265)   (0.9, 2.742476629819709)\n",
       "L4_TPC      (1.0, 3.339067383592712)  (0.9, 3.7811104642099345)\n",
       "L5_TPC:A    (1.0, 4.481278243503409)   (0.9, 4.884826709489283)\n",
       "L6_UPC      (1.0, 5.533479758257173)   (0.9, 5.851044451382878)"
      ]
     },
     "execution_count": 8,
     "metadata": {},
     "output_type": "execute_result"
    }
   ],
   "source": [
    "chart.node_position"
   ]
  },
  {
   "cell_type": "code",
   "execution_count": 9,
   "metadata": {
    "ExecuteTime": {
     "end_time": "2019-11-29T12:35:44.149783Z",
     "start_time": "2019-11-29T12:35:44.145625Z"
    }
   },
   "outputs": [
    {
     "data": {
      "text/plain": [
       "L1_SBC      (0.1, 0.6386499158730508)\n",
       "L23_BC      (0.1, 0.9150321518550708)\n",
       "L23_MC      (0.1, 0.8323944331989652)\n",
       "L4_TPC      (0.1, 0.8840861612344458)\n",
       "L5_TPC:A    (0.1, 0.8070969319717474)\n",
       "L6_UPC        (0.1, 0.63512938625141)\n",
       "Name: total, dtype: object"
      ]
     },
     "execution_count": 9,
     "metadata": {},
     "output_type": "execute_result"
    }
   ],
   "source": [
    "chart.node_geometry_size.total"
   ]
  },
  {
   "cell_type": "code",
   "execution_count": 10,
   "metadata": {
    "ExecuteTime": {
     "end_time": "2019-11-29T12:35:44.160594Z",
     "start_time": "2019-11-29T12:35:44.151074Z"
    }
   },
   "outputs": [
    {
     "data": {
      "text/plain": [
       "(1.0, 0.18318238354520755)"
      ]
     },
     "execution_count": 10,
     "metadata": {},
     "output_type": "execute_result"
    }
   ],
   "source": [
    "node_one = chart.node_data.iloc[0]\n",
    "node_one.position.source"
   ]
  },
  {
   "cell_type": "code",
   "execution_count": 11,
   "metadata": {
    "ExecuteTime": {
     "end_time": "2019-11-29T12:35:44.169999Z",
     "start_time": "2019-11-29T12:35:44.163214Z"
    }
   },
   "outputs": [
    {
     "data": {
      "text/plain": [
       "PolarPoint(radial=1.0, angular=0.18318238354520755)"
      ]
     },
     "execution_count": 11,
     "metadata": {},
     "output_type": "execute_result"
    }
   ],
   "source": [
    "PolarPoint(\n",
    "    *node_one.position.source)"
   ]
  },
  {
   "cell_type": "code",
   "execution_count": 12,
   "metadata": {
    "ExecuteTime": {
     "end_time": "2019-11-29T12:35:44.180619Z",
     "start_time": "2019-11-29T12:35:44.172401Z"
    }
   },
   "outputs": [
    {
     "data": {
      "text/plain": [
       "<dmt.tk.plotting.charts.network.circle.NodeArcGeometry at 0x7fbb3c70c940>"
      ]
     },
     "execution_count": 12,
     "metadata": {},
     "output_type": "execute_result"
    }
   ],
   "source": [
    "chart.get_source_geometry(\"L1_SBC\", chart.node_data.loc[\"L1_SBC\"])"
   ]
  },
  {
   "cell_type": "code",
   "execution_count": 13,
   "metadata": {
    "ExecuteTime": {
     "end_time": "2019-11-29T12:35:44.190528Z",
     "start_time": "2019-11-29T12:35:44.182108Z"
    }
   },
   "outputs": [
    {
     "data": {
      "text/plain": [
       "<dmt.tk.plotting.charts.network.circle.NodeArcGeometry at 0x7fbb3c70cdd8>"
      ]
     },
     "execution_count": 13,
     "metadata": {},
     "output_type": "execute_result"
    }
   ],
   "source": [
    "chart.get_target_geometry(\"L1_SBC\", chart.node_data.loc[\"L1_SBC\"])"
   ]
  },
  {
   "cell_type": "code",
   "execution_count": 14,
   "metadata": {
    "ExecuteTime": {
     "end_time": "2019-11-29T12:35:44.593692Z",
     "start_time": "2019-11-29T12:35:44.192220Z"
    }
   },
   "outputs": [
    {
     "data": {
      "text/plain": [
       "<Figure size 1008x1008 with 0 Axes>"
      ]
     },
     "metadata": {},
     "output_type": "display_data"
    },
    {
     "data": {
      "image/png": "[encoded data removed]",
      "text/plain": [
       "<Figure size 864x864 with 1 Axes>"
      ]
     },
     "metadata": {
      "needs_background": "light"
     },
     "output_type": "display_data"
    }
   ],
   "source": [
    "figure = plt.figure(figsize=(14, 14))\n",
    "chart.draw(draw_diagonal=True)"
   ]
  },
  {
   "cell_type": "code",
   "execution_count": 15,
   "metadata": {
    "ExecuteTime": {
     "end_time": "2019-11-29T12:35:44.622102Z",
     "start_time": "2019-11-29T12:35:44.595150Z"
    }
   },
   "outputs": [
    {
     "data": {
      "text/html": [
       "<div>\n",
       "<style scoped>\n",
       "    .dataframe tbody tr th:only-of-type {\n",
       "        vertical-align: middle;\n",
       "    }\n",
       "\n",
       "    .dataframe tbody tr th {\n",
       "        vertical-align: top;\n",
       "    }\n",
       "\n",
       "    .dataframe thead tr th {\n",
       "        text-align: left;\n",
       "    }\n",
       "</style>\n",
       "<table border=\"1\" class=\"dataframe\">\n",
       "  <thead>\n",
       "    <tr>\n",
       "      <th></th>\n",
       "      <th colspan=\"2\" halign=\"left\">position</th>\n",
       "      <th colspan=\"2\" halign=\"left\">geometry_size</th>\n",
       "    </tr>\n",
       "    <tr>\n",
       "      <th></th>\n",
       "      <th>source</th>\n",
       "      <th>target</th>\n",
       "      <th>source</th>\n",
       "      <th>target</th>\n",
       "    </tr>\n",
       "  </thead>\n",
       "  <tbody>\n",
       "    <tr>\n",
       "      <th>L1_SBC</th>\n",
       "      <td>0.183182</td>\n",
       "      <td>0.502507</td>\n",
       "      <td>0.366365</td>\n",
       "      <td>0.272285</td>\n",
       "    </tr>\n",
       "    <tr>\n",
       "      <th>L23_BC</th>\n",
       "      <td>1.167632</td>\n",
       "      <td>1.625148</td>\n",
       "      <td>0.534365</td>\n",
       "      <td>0.380668</td>\n",
       "    </tr>\n",
       "    <tr>\n",
       "      <th>L23_MC</th>\n",
       "      <td>2.326279</td>\n",
       "      <td>2.742477</td>\n",
       "      <td>0.497997</td>\n",
       "      <td>0.334397</td>\n",
       "    </tr>\n",
       "    <tr>\n",
       "      <th>L4_TPC</th>\n",
       "      <td>3.339067</td>\n",
       "      <td>3.781110</td>\n",
       "      <td>0.335185</td>\n",
       "      <td>0.548901</td>\n",
       "    </tr>\n",
       "    <tr>\n",
       "      <th>L5_TPC:A</th>\n",
       "      <td>4.481278</td>\n",
       "      <td>4.884827</td>\n",
       "      <td>0.327836</td>\n",
       "      <td>0.479261</td>\n",
       "    </tr>\n",
       "    <tr>\n",
       "      <th>L6_UPC</th>\n",
       "      <td>5.533480</td>\n",
       "      <td>5.851044</td>\n",
       "      <td>0.294446</td>\n",
       "      <td>0.340683</td>\n",
       "    </tr>\n",
       "  </tbody>\n",
       "</table>\n",
       "</div>"
      ],
      "text/plain": [
       "          position           geometry_size          \n",
       "            source    target        source    target\n",
       "L1_SBC    0.183182  0.502507      0.366365  0.272285\n",
       "L23_BC    1.167632  1.625148      0.534365  0.380668\n",
       "L23_MC    2.326279  2.742477      0.497997  0.334397\n",
       "L4_TPC    3.339067  3.781110      0.335185  0.548901\n",
       "L5_TPC:A  4.481278  4.884827      0.327836  0.479261\n",
       "L6_UPC    5.533480  5.851044      0.294446  0.340683"
      ]
     },
     "execution_count": 15,
     "metadata": {},
     "output_type": "execute_result"
    }
   ],
   "source": [
    "def _angular_size(dataframe):\n",
    "    return dataframe.apply(\n",
    "        lambda row: pd.Series(dict(\n",
    "            source = row.source[1],\n",
    "            target = row.target[1])),\n",
    "        axis=1\n",
    "    )\n",
    "posize = pd.concat(\n",
    "    [_angular_size(chart.node_position),\n",
    "     _angular_size(chart.node_geometry_size)],\n",
    "    axis=1,\n",
    "    keys=[\"position\", \"geometry_size\"]\n",
    ")\n",
    "posize"
   ]
  },
  {
   "cell_type": "code",
   "execution_count": 16,
   "metadata": {
    "ExecuteTime": {
     "end_time": "2019-11-29T12:35:44.633114Z",
     "start_time": "2019-11-29T12:35:44.624966Z"
    }
   },
   "outputs": [
    {
     "data": {
      "text/plain": [
       "L1_SBC      0.183182\n",
       "L23_BC      1.167632\n",
       "L23_MC      2.326279\n",
       "L4_TPC      3.339067\n",
       "L5_TPC:A    4.481278\n",
       "L6_UPC      5.533480\n",
       "Name: source, dtype: float64"
      ]
     },
     "execution_count": 16,
     "metadata": {},
     "output_type": "execute_result"
    }
   ],
   "source": [
    "posize.position.source"
   ]
  },
  {
   "cell_type": "code",
   "execution_count": 17,
   "metadata": {
    "ExecuteTime": {
     "end_time": "2019-11-29T12:35:44.647486Z",
     "start_time": "2019-11-29T12:35:44.634456Z"
    }
   },
   "outputs": [
    {
     "data": {
      "text/plain": [
       "L1_SBC      0.502507\n",
       "L23_BC      1.625148\n",
       "L23_MC      2.742477\n",
       "L4_TPC      3.781110\n",
       "L5_TPC:A    4.884827\n",
       "L6_UPC      5.851044\n",
       "dtype: float64"
      ]
     },
     "execution_count": 17,
     "metadata": {},
     "output_type": "execute_result"
    }
   ],
   "source": [
    "posize.position.source + posize.geometry_size.source/2 + posize.geometry_size.target/2"
   ]
  },
  {
   "cell_type": "code",
   "execution_count": 18,
   "metadata": {
    "ExecuteTime": {
     "end_time": "2019-11-29T12:35:44.659220Z",
     "start_time": "2019-11-29T12:35:44.654824Z"
    }
   },
   "outputs": [
    {
     "data": {
      "text/plain": [
       "PolarPoint(radial=(0.95, 1.05), angular=(2.0772808433264203, 2.5752779831140327))"
      ]
     },
     "execution_count": 18,
     "metadata": {},
     "output_type": "execute_result"
    }
   ],
   "source": [
    "l23_MC = chart.source_geometries[\"L23_MC\"]\n",
    "l23_MC.shape"
   ]
  },
  {
   "cell_type": "code",
   "execution_count": 19,
   "metadata": {
    "ExecuteTime": {
     "end_time": "2019-11-29T12:35:44.673614Z",
     "start_time": "2019-11-29T12:35:44.663230Z"
    }
   },
   "outputs": [
    {
     "data": {
      "text/plain": [
       "(0.1, 0.49799713978761223)"
      ]
     },
     "execution_count": 19,
     "metadata": {},
     "output_type": "execute_result"
    }
   ],
   "source": [
    "chart.node_data.geometry_size.loc[\"L23_MC\"].source"
   ]
  },
  {
   "cell_type": "code",
   "execution_count": 20,
   "metadata": {
    "ExecuteTime": {
     "end_time": "2019-11-29T12:35:44.685649Z",
     "start_time": "2019-11-29T12:35:44.676107Z"
    }
   },
   "outputs": [
    {
     "data": {
      "text/plain": [
       "array([0., 0.])"
      ]
     },
     "execution_count": 20,
     "metadata": {},
     "output_type": "execute_result"
    }
   ],
   "source": [
    "chart.center"
   ]
  },
  {
   "cell_type": "code",
   "execution_count": 21,
   "metadata": {
    "ExecuteTime": {
     "end_time": "2019-11-29T12:35:44.693128Z",
     "start_time": "2019-11-29T12:35:44.687301Z"
    }
   },
   "outputs": [],
   "source": [
    "l23mc =  chart.source_geometries[\"L23_MC\"]"
   ]
  },
  {
   "cell_type": "code",
   "execution_count": 22,
   "metadata": {
    "ExecuteTime": {
     "end_time": "2019-11-29T12:35:44.704878Z",
     "start_time": "2019-11-29T12:35:44.694892Z"
    }
   },
   "outputs": [
    {
     "data": {
      "text/plain": [
       "(0.95, 1.05)"
      ]
     },
     "execution_count": 22,
     "metadata": {},
     "output_type": "execute_result"
    }
   ],
   "source": [
    "l23mc.shape.radial"
   ]
  },
  {
   "cell_type": "code",
   "execution_count": 23,
   "metadata": {
    "ExecuteTime": {
     "end_time": "2019-11-29T12:35:44.713368Z",
     "start_time": "2019-11-29T12:35:44.707702Z"
    }
   },
   "outputs": [
    {
     "data": {
      "text/plain": [
       "(2.0772808433264203, 2.5752779831140327)"
      ]
     },
     "execution_count": 23,
     "metadata": {},
     "output_type": "execute_result"
    }
   ],
   "source": [
    "l23mc.shape.angular"
   ]
  },
  {
   "cell_type": "code",
   "execution_count": 24,
   "metadata": {
    "ExecuteTime": {
     "end_time": "2019-11-29T12:35:44.726275Z",
     "start_time": "2019-11-29T12:35:44.715982Z"
    }
   },
   "outputs": [
    {
     "data": {
      "text/plain": [
       "PolarPoint(radial=(0.95, 1.05), angular=(2.0772808433264203, 2.5752779831140327))"
      ]
     },
     "execution_count": 24,
     "metadata": {},
     "output_type": "execute_result"
    }
   ],
   "source": [
    "chart.get_source_geometry(\n",
    "    \"L23_MC\",\n",
    "    chart.node_data.loc[\"L23_MC\"]\n",
    ").shape"
   ]
  },
  {
   "cell_type": "code",
   "execution_count": 25,
   "metadata": {
    "ExecuteTime": {
     "end_time": "2019-11-29T12:35:44.737463Z",
     "start_time": "2019-11-29T12:35:44.728142Z"
    }
   },
   "outputs": [
    {
     "data": {
      "text/plain": [
       "position       source       (1.0, 2.3262794132202265)\n",
       "               target        (0.9, 2.742476629819709)\n",
       "geometry_size  total        (0.1, 0.8323944331989652)\n",
       "               source      (0.1, 0.49799713978761223)\n",
       "               target        (0.1, 0.334397293411353)\n",
       "weight         total                          0.17664\n",
       "               source                        0.105678\n",
       "               target                       0.0709613\n",
       "flow           outgoing                       3.03536\n",
       "               incoming                       2.03819\n",
       "               total                          5.07355\n",
       "Name: L23_MC, dtype: object"
      ]
     },
     "execution_count": 25,
     "metadata": {},
     "output_type": "execute_result"
    }
   ],
   "source": [
    "chart.node_data.loc[\"L23_MC\"]"
   ]
  },
  {
   "cell_type": "code",
   "execution_count": 26,
   "metadata": {
    "ExecuteTime": {
     "end_time": "2019-11-29T12:35:44.747395Z",
     "start_time": "2019-11-29T12:35:44.739129Z"
    }
   },
   "outputs": [
    {
     "data": {
      "text/plain": [
       "PolarPoint(radial=1.0, angular=2.3262794132202265)"
      ]
     },
     "execution_count": 26,
     "metadata": {},
     "output_type": "execute_result"
    }
   ],
   "source": [
    "PolarPoint(*chart.node_data.loc[\"L23_MC\"].position.source)"
   ]
  },
  {
   "cell_type": "code",
   "execution_count": 27,
   "metadata": {
    "ExecuteTime": {
     "end_time": "2019-11-29T12:35:44.765748Z",
     "start_time": "2019-11-29T12:35:44.748979Z"
    }
   },
   "outputs": [
    {
     "data": {
      "text/html": [
       "<div>\n",
       "<style scoped>\n",
       "    .dataframe tbody tr th:only-of-type {\n",
       "        vertical-align: middle;\n",
       "    }\n",
       "\n",
       "    .dataframe tbody tr th {\n",
       "        vertical-align: top;\n",
       "    }\n",
       "\n",
       "    .dataframe thead th {\n",
       "        text-align: right;\n",
       "    }\n",
       "</style>\n",
       "<table border=\"1\" class=\"dataframe\">\n",
       "  <thead>\n",
       "    <tr style=\"text-align: right;\">\n",
       "      <th></th>\n",
       "      <th>total</th>\n",
       "      <th>source</th>\n",
       "      <th>target</th>\n",
       "    </tr>\n",
       "  </thead>\n",
       "  <tbody>\n",
       "    <tr>\n",
       "      <th>L1_SBC</th>\n",
       "      <td>(0.1, 0.6386499158730508)</td>\n",
       "      <td>(0.1, 0.3663647670904151)</td>\n",
       "      <td>(0.1, 0.27228514878263566)</td>\n",
       "    </tr>\n",
       "    <tr>\n",
       "      <th>L23_BC</th>\n",
       "      <td>(0.1, 0.9150321518550708)</td>\n",
       "      <td>(0.1, 0.534364634231112)</td>\n",
       "      <td>(0.1, 0.38066751762395873)</td>\n",
       "    </tr>\n",
       "    <tr>\n",
       "      <th>L23_MC</th>\n",
       "      <td>(0.1, 0.8323944331989652)</td>\n",
       "      <td>(0.1, 0.49799713978761223)</td>\n",
       "      <td>(0.1, 0.334397293411353)</td>\n",
       "    </tr>\n",
       "    <tr>\n",
       "      <th>L4_TPC</th>\n",
       "      <td>(0.1, 0.8840861612344458)</td>\n",
       "      <td>(0.1, 0.335185438536354)</td>\n",
       "      <td>(0.1, 0.5489007226980918)</td>\n",
       "    </tr>\n",
       "    <tr>\n",
       "      <th>L5_TPC:A</th>\n",
       "      <td>(0.1, 0.8070969319717474)</td>\n",
       "      <td>(0.1, 0.3278360602905578)</td>\n",
       "      <td>(0.1, 0.4792608716811895)</td>\n",
       "    </tr>\n",
       "    <tr>\n",
       "      <th>L6_UPC</th>\n",
       "      <td>(0.1, 0.63512938625141)</td>\n",
       "      <td>(0.1, 0.2944464502562938)</td>\n",
       "      <td>(0.1, 0.34068293599511623)</td>\n",
       "    </tr>\n",
       "  </tbody>\n",
       "</table>\n",
       "</div>"
      ],
      "text/plain": [
       "                              total                      source  \\\n",
       "L1_SBC    (0.1, 0.6386499158730508)   (0.1, 0.3663647670904151)   \n",
       "L23_BC    (0.1, 0.9150321518550708)    (0.1, 0.534364634231112)   \n",
       "L23_MC    (0.1, 0.8323944331989652)  (0.1, 0.49799713978761223)   \n",
       "L4_TPC    (0.1, 0.8840861612344458)    (0.1, 0.335185438536354)   \n",
       "L5_TPC:A  (0.1, 0.8070969319717474)   (0.1, 0.3278360602905578)   \n",
       "L6_UPC      (0.1, 0.63512938625141)   (0.1, 0.2944464502562938)   \n",
       "\n",
       "                              target  \n",
       "L1_SBC    (0.1, 0.27228514878263566)  \n",
       "L23_BC    (0.1, 0.38066751762395873)  \n",
       "L23_MC      (0.1, 0.334397293411353)  \n",
       "L4_TPC     (0.1, 0.5489007226980918)  \n",
       "L5_TPC:A   (0.1, 0.4792608716811895)  \n",
       "L6_UPC    (0.1, 0.34068293599511623)  "
      ]
     },
     "execution_count": 27,
     "metadata": {},
     "output_type": "execute_result"
    }
   ],
   "source": [
    "chart.node_geometry_size"
   ]
  },
  {
   "cell_type": "code",
   "execution_count": 28,
   "metadata": {
    "ExecuteTime": {
     "end_time": "2019-11-29T12:35:44.783158Z",
     "start_time": "2019-11-29T12:35:44.767578Z"
    }
   },
   "outputs": [
    {
     "data": {
      "text/html": [
       "<div>\n",
       "<style scoped>\n",
       "    .dataframe tbody tr th:only-of-type {\n",
       "        vertical-align: middle;\n",
       "    }\n",
       "\n",
       "    .dataframe tbody tr th {\n",
       "        vertical-align: top;\n",
       "    }\n",
       "\n",
       "    .dataframe thead th {\n",
       "        text-align: right;\n",
       "    }\n",
       "</style>\n",
       "<table border=\"1\" class=\"dataframe\">\n",
       "  <thead>\n",
       "    <tr style=\"text-align: right;\">\n",
       "      <th></th>\n",
       "      <th>total</th>\n",
       "      <th>source</th>\n",
       "      <th>target</th>\n",
       "    </tr>\n",
       "  </thead>\n",
       "  <tbody>\n",
       "    <tr>\n",
       "      <th>L1_SBC</th>\n",
       "      <td>0.638650</td>\n",
       "      <td>0.366365</td>\n",
       "      <td>0.272285</td>\n",
       "    </tr>\n",
       "    <tr>\n",
       "      <th>L23_BC</th>\n",
       "      <td>0.915032</td>\n",
       "      <td>0.534365</td>\n",
       "      <td>0.380668</td>\n",
       "    </tr>\n",
       "    <tr>\n",
       "      <th>L23_MC</th>\n",
       "      <td>0.832394</td>\n",
       "      <td>0.497997</td>\n",
       "      <td>0.334397</td>\n",
       "    </tr>\n",
       "    <tr>\n",
       "      <th>L4_TPC</th>\n",
       "      <td>0.884086</td>\n",
       "      <td>0.335185</td>\n",
       "      <td>0.548901</td>\n",
       "    </tr>\n",
       "    <tr>\n",
       "      <th>L5_TPC:A</th>\n",
       "      <td>0.807097</td>\n",
       "      <td>0.327836</td>\n",
       "      <td>0.479261</td>\n",
       "    </tr>\n",
       "    <tr>\n",
       "      <th>L6_UPC</th>\n",
       "      <td>0.635129</td>\n",
       "      <td>0.294446</td>\n",
       "      <td>0.340683</td>\n",
       "    </tr>\n",
       "  </tbody>\n",
       "</table>\n",
       "</div>"
      ],
      "text/plain": [
       "             total    source    target\n",
       "L1_SBC    0.638650  0.366365  0.272285\n",
       "L23_BC    0.915032  0.534365  0.380668\n",
       "L23_MC    0.832394  0.497997  0.334397\n",
       "L4_TPC    0.884086  0.335185  0.548901\n",
       "L5_TPC:A  0.807097  0.327836  0.479261\n",
       "L6_UPC    0.635129  0.294446  0.340683"
      ]
     },
     "execution_count": 28,
     "metadata": {},
     "output_type": "execute_result"
    }
   ],
   "source": [
    "chart.node_geometry_size.apply(\n",
    "    lambda s: pd.Series(dict(total=s.total[1], source=s.source[1], target=s.target[1])),\n",
    "    axis=1)"
   ]
  },
  {
   "cell_type": "code",
   "execution_count": 29,
   "metadata": {
    "ExecuteTime": {
     "end_time": "2019-11-29T12:35:44.799175Z",
     "start_time": "2019-11-29T12:35:44.785972Z"
    }
   },
   "outputs": [
    {
     "data": {
      "text/html": [
       "<div>\n",
       "<style scoped>\n",
       "    .dataframe tbody tr th:only-of-type {\n",
       "        vertical-align: middle;\n",
       "    }\n",
       "\n",
       "    .dataframe tbody tr th {\n",
       "        vertical-align: top;\n",
       "    }\n",
       "\n",
       "    .dataframe thead th {\n",
       "        text-align: right;\n",
       "    }\n",
       "</style>\n",
       "<table border=\"1\" class=\"dataframe\">\n",
       "  <thead>\n",
       "    <tr style=\"text-align: right;\">\n",
       "      <th></th>\n",
       "      <th>source</th>\n",
       "      <th>target</th>\n",
       "    </tr>\n",
       "  </thead>\n",
       "  <tbody>\n",
       "    <tr>\n",
       "      <th>L1_SBC</th>\n",
       "      <td>(1.0, 0.18318238354520755)</td>\n",
       "      <td>(0.9, 0.5025073414817329)</td>\n",
       "    </tr>\n",
       "    <tr>\n",
       "      <th>L23_BC</th>\n",
       "      <td>(1.0, 1.1676316207877562)</td>\n",
       "      <td>(0.9, 1.6251476967152916)</td>\n",
       "    </tr>\n",
       "    <tr>\n",
       "      <th>L23_MC</th>\n",
       "      <td>(1.0, 2.3262794132202265)</td>\n",
       "      <td>(0.9, 2.742476629819709)</td>\n",
       "    </tr>\n",
       "    <tr>\n",
       "      <th>L4_TPC</th>\n",
       "      <td>(1.0, 3.339067383592712)</td>\n",
       "      <td>(0.9, 3.7811104642099345)</td>\n",
       "    </tr>\n",
       "    <tr>\n",
       "      <th>L5_TPC:A</th>\n",
       "      <td>(1.0, 4.481278243503409)</td>\n",
       "      <td>(0.9, 4.884826709489283)</td>\n",
       "    </tr>\n",
       "    <tr>\n",
       "      <th>L6_UPC</th>\n",
       "      <td>(1.0, 5.533479758257173)</td>\n",
       "      <td>(0.9, 5.851044451382878)</td>\n",
       "    </tr>\n",
       "  </tbody>\n",
       "</table>\n",
       "</div>"
      ],
      "text/plain": [
       "                              source                     target\n",
       "L1_SBC    (1.0, 0.18318238354520755)  (0.9, 0.5025073414817329)\n",
       "L23_BC     (1.0, 1.1676316207877562)  (0.9, 1.6251476967152916)\n",
       "L23_MC     (1.0, 2.3262794132202265)   (0.9, 2.742476629819709)\n",
       "L4_TPC      (1.0, 3.339067383592712)  (0.9, 3.7811104642099345)\n",
       "L5_TPC:A    (1.0, 4.481278243503409)   (0.9, 4.884826709489283)\n",
       "L6_UPC      (1.0, 5.533479758257173)   (0.9, 5.851044451382878)"
      ]
     },
     "execution_count": 29,
     "metadata": {},
     "output_type": "execute_result"
    }
   ],
   "source": [
    "chart.node_position"
   ]
  },
  {
   "cell_type": "code",
   "execution_count": 30,
   "metadata": {
    "ExecuteTime": {
     "end_time": "2019-11-29T12:35:44.816038Z",
     "start_time": "2019-11-29T12:35:44.800748Z"
    }
   },
   "outputs": [],
   "source": [
    " number_nodes = chart.node_weight.shape[0]\n",
    " spacing = 2. * np.pi * chart.spacing_factor / number_nodes\n",
    "\n",
    " def _positions_angular():\n",
    "     position_end = - spacing\n",
    "     for size in chart.node_geometry_size.total.values:\n",
    "         position_start = position_end + spacing\n",
    "         position_end = position_start + size[1]\n",
    "         yield (position_start + position_end) / 2.\n",
    "\n",
    "positions_angular = pd.Series(\n",
    "    list(_positions_angular()),\n",
    "        index=chart.node_geometry_size.index,\n",
    "        name=\"angular\"\n",
    ")\n",
    "node_geometry_size_angular = chart.node_geometry_size.apply(\n",
    "    lambda node_size: pd.Series(dict(\n",
    "        total=node_size.total[1],\n",
    "        source=node_size.source[1],\n",
    "        target=node_size.target[1])),\n",
    "        axis=1\n",
    ")\n",
    "starts_source = (\n",
    "    positions_angular - node_geometry_size_angular.total[1] / 2.\n",
    ").rename(\n",
    "    \"start_source\"\n",
    ")\n",
    "positions_angular_source = (\n",
    "    starts_source + node_geometry_size_angular.source[1] / 2.\n",
    ").rename(\n",
    "    \"angular\"\n",
    ")\n",
    "positions_source = positions_angular_source.apply(\n",
    "    lambda position_angular: (chart.outer_circle.radius, position_angular)\n",
    ")\n",
    "starts_target = (\n",
    "    positions_angular_source + node_geometry_size_angular.source[1] / 2.\n",
    ").rename(\n",
    "    \"start_target\"\n",
    ")\n",
    "positions_angular_target = (\n",
    "    starts_target + node_geometry_size_angular.target[1] / 2.\n",
    ").rename(\n",
    "    \"angular\"\n",
    ")\n",
    "positions_target = positions_angular_target.apply(\n",
    "    lambda position_angular: (\n",
    "        chart.inner_circle.radius, position_angular)\n",
    ")"
   ]
  },
  {
   "cell_type": "code",
   "execution_count": 31,
   "metadata": {
    "ExecuteTime": {
     "end_time": "2019-11-29T12:35:44.839477Z",
     "start_time": "2019-11-29T12:35:44.818134Z"
    }
   },
   "outputs": [
    {
     "data": {
      "text/plain": [
       "L1_SBC      (0.9, 0.5865072750520813)\n",
       "L23_BC      (0.9, 1.6251476967152916)\n",
       "L23_MC       (0.9, 2.760660377041459)\n",
       "L4_TPC       (0.9, 3.880700062057314)\n",
       "L5_TPC:A      (0.9, 4.98809099645956)\n",
       "L6_UPC       (0.9, 5.971003543370288)\n",
       "Name: angular, dtype: object"
      ]
     },
     "execution_count": 31,
     "metadata": {},
     "output_type": "execute_result"
    }
   ],
   "source": [
    "positions_target"
   ]
  },
  {
   "cell_type": "code",
   "execution_count": null,
   "metadata": {},
   "outputs": [],
   "source": []
  }
 ],
 "metadata": {
  "kernelspec": {
   "display_name": "Python 3",
   "language": "python",
   "name": "python3"
  },
  "language_info": {
   "codemirror_mode": {
    "name": "ipython",
    "version": 3
   },
   "file_extension": ".py",
   "mimetype": "text/x-python",
   "name": "python",
   "nbconvert_exporter": "python",
   "pygments_lexer": "ipython3",
   "version": "3.6.8"
  },
  "latex_envs": {
   "LaTeX_envs_menu_present": true,
   "autoclose": false,
   "autocomplete": true,
   "bibliofile": "biblio.bib",
   "cite_by": "apalike",
   "current_citInitial": 1,
   "eqLabelWithNumbers": true,
   "eqNumInitial": 1,
   "hotkeys": {
    "equation": "Ctrl-E",
    "itemize": "Ctrl-I"
   },
   "labels_anchors": false,
   "latex_user_defs": false,
   "report_style_numbering": false,
   "user_envs_cfg": false
  },
  "toc": {
   "base_numbering": 1,
   "nav_menu": {},
   "number_sections": true,
   "sideBar": true,
   "skip_h1_title": false,
   "title_cell": "Table of Contents",
   "title_sidebar": "Contents",
   "toc_cell": false,
   "toc_position": {},
   "toc_section_display": true,
   "toc_window_display": false
  },
  "varInspector": {
   "cols": {
    "lenName": 16,
    "lenType": 16,
    "lenVar": 40
   },
   "kernels_config": {
    "python": {
     "delete_cmd_postfix": "",
     "delete_cmd_prefix": "del ",
     "library": "var_list.py",
     "varRefreshCmd": "print(var_dic_list())"
    },
    "r": {
     "delete_cmd_postfix": ") ",
     "delete_cmd_prefix": "rm(",
     "library": "var_list.r",
     "varRefreshCmd": "cat(var_dic_list()) "
    }
   },
   "types_to_exclude": [
    "module",
    "function",
    "builtin_function_or_method",
    "instance",
    "_Feature"
   ],
   "window_display": false
  }
 },
 "nbformat": 4,
 "nbformat_minor": 2
}
