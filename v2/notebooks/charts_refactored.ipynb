{
 "cells": [
  {
   "cell_type": "markdown",
   "metadata": {},
   "source": [
    "# Refactor Network Charts \n",
    "\n",
    "Refactor network charts code to place geometry placement code in its own \"mixin\"..."
   ]
  },
  {
   "cell_type": "code",
   "execution_count": 1,
   "metadata": {
    "ExecuteTime": {
     "end_time": "2019-11-28T22:31:49.439357Z",
     "start_time": "2019-11-28T22:31:48.775045Z"
    }
   },
   "outputs": [],
   "source": [
    "import os\n",
    "from collections import defaultdict\n",
    "import numpy as np\n",
    "import pandas as pd\n",
    "import matplotlib.pyplot as plt\n",
    "from dmt.tk.plotting.shapes import Circle, Arc, PolarPoint\n",
    "from dmt.tk.plotting.charts.network import CircularNetworkChart"
   ]
  },
  {
   "cell_type": "code",
   "execution_count": 2,
   "metadata": {
    "ExecuteTime": {
     "end_time": "2019-11-28T22:31:49.870156Z",
     "start_time": "2019-11-28T22:31:49.857394Z"
    }
   },
   "outputs": [],
   "source": [
    "N = 6\n",
    "mtypes = [\"L23_MC\", \"L5_TPC:A\", \"L6_UPC\", \"L23_BC\", \"L1_SBC\", \"L4_TPC\"][:N]\n",
    "sclasses = pd.Series(\n",
    "    [\"INH\", \"EXC\", \"EXC\", \"INH\", \"INH\", \"EXC\"][:N],\n",
    "    index=mtypes, name=\"sclass\")\n",
    "pathways = [\n",
    "    (pre_mtype, post_mtype)\n",
    "    for pre_mtype in mtypes\n",
    "    for post_mtype in mtypes]\n",
    "N = len(pathways)\n",
    "pathway_strength = pd.DataFrame(\n",
    "    {(\"pathway_strength\", \"mean\"): np.random.uniform(size=N),\n",
    "     (\"pathway_strength\", \"std\"):  np.random.uniform(size=N)},\n",
    "    index=pd.MultiIndex.from_tuples(\n",
    "        pathways,\n",
    "        names=[\"pre_mtype\", \"post_mtype\"]))\n",
    "def get_node_weights(dataframe):\n",
    "    weights = dataframe.groupby(\"pre_mtype\").agg(\"sum\")[(\"pathway_strength\", \"mean\")]\n",
    "    weights.index.name = \"label\"\n",
    "    weights.name = \"weight\"\n",
    "    return weights/np.sum(weights)\n",
    "\n",
    "link_weights = pd.Series(\n",
    "    pathway_strength[(\"pathway_strength\", \"mean\")].values,\n",
    "    index = pathway_strength.index.rename([\"begin_node\", \"end_node\"]),\n",
    "    name=\"weight\")"
   ]
  },
  {
   "cell_type": "code",
   "execution_count": 3,
   "metadata": {
    "ExecuteTime": {
     "end_time": "2019-11-28T22:31:50.704615Z",
     "start_time": "2019-11-28T22:31:50.695381Z"
    }
   },
   "outputs": [],
   "source": [
    "layer_cols = {'L1': np.array([0.3, 0.3, 0]),\n",
    "              'L2': np.array([0.0, 0.3, 0.3]),\n",
    "              'L3': np.array([0.15, 0.3, 0.15]),\n",
    "              'L4': np.array([0.3, 0.0, 0.3]),\n",
    "              'L5': np.array([0.0, 0.6, 0.0]),\n",
    "              'L6': np.array([0.1, 0.1, 0.4])}\n",
    "layer_cols[\"L23\"] = (layer_cols[\"L2\"] + layer_cols[\"L3\"]) / 2.\n",
    "\n",
    "default = np.array([0.2, 0.2, 0.2])\n",
    "add_ei = {'EXC': np.array([0.5, 0.0, 0.0]),\n",
    "          'INH': np.array([0.0, 0.0, 0.5])}\n",
    "\n",
    "\n",
    "def _get_color(mtype, sclass):\n",
    "    layer = mtype.split('_')[0]\n",
    "    return np.minimum(\n",
    "        layer_cols[layer]\n",
    "            + add_ei[sclass] \n",
    "            + np.random.rand(3) * 0.25, 1.0)\n",
    "def make_col_dict(mtypes):\n",
    "    return dict([(_m[0], numpy.minimum(layer_cols.setdefault(_m[0][1], default)\n",
    "                                       + add_ei[_m[1]] +\n",
    "                                       numpy.random.rand(3) * 0.25, 1.0))\n",
    "                 for _m in mtypes])"
   ]
  },
  {
   "cell_type": "code",
   "execution_count": 4,
   "metadata": {
    "ExecuteTime": {
     "end_time": "2019-11-28T22:31:51.527197Z",
     "start_time": "2019-11-28T22:31:51.521840Z"
    }
   },
   "outputs": [],
   "source": [
    "mtypes = link_weights.index.get_level_values(\"begin_node\").unique()\n",
    "color_map ={\n",
    "    mtype: _get_color(mtype, sclass)\n",
    "    for mtype, sclass in sclasses.items()}\n",
    "for pre in mtypes:\n",
    "    for post in mtypes:\n",
    "        link_color = list(color_map[pre])\n",
    "        link_color.append(0.25)\n",
    "        color_map[(pre, post)] = np.array([0.8, 0.8, 0.8, 1.0]) * link_color\n",
    "chart =\\\n",
    "    CircularNetworkChart(\n",
    "        link_data=link_weights,\n",
    "        color_map=color_map)"
   ]
  },
  {
   "cell_type": "code",
   "execution_count": 5,
   "metadata": {
    "ExecuteTime": {
     "end_time": "2019-11-28T22:31:52.579772Z",
     "start_time": "2019-11-28T22:31:52.573434Z"
    }
   },
   "outputs": [
    {
     "data": {
      "text/plain": [
       "begin_node\n",
       "L1_SBC      2.313706\n",
       "L23_BC      2.295342\n",
       "L23_MC      2.053800\n",
       "L4_TPC      3.150950\n",
       "L5_TPC:A    2.474294\n",
       "L6_UPC      3.628422\n",
       "Name: outgoing, dtype: float64"
      ]
     },
     "execution_count": 5,
     "metadata": {},
     "output_type": "execute_result"
    }
   ],
   "source": [
    "chart.link_data.groupby(\n",
    "    \"begin_node\"\n",
    ").agg(\n",
    "    \"sum\"\n",
    ").rename(\n",
    "    \"outgoing\"\n",
    ")"
   ]
  },
  {
   "cell_type": "code",
   "execution_count": 6,
   "metadata": {
    "ExecuteTime": {
     "end_time": "2019-11-28T22:31:53.662591Z",
     "start_time": "2019-11-28T22:31:53.649968Z"
    }
   },
   "outputs": [
    {
     "data": {
      "text/html": [
       "<div>\n",
       "<style scoped>\n",
       "    .dataframe tbody tr th:only-of-type {\n",
       "        vertical-align: middle;\n",
       "    }\n",
       "\n",
       "    .dataframe tbody tr th {\n",
       "        vertical-align: top;\n",
       "    }\n",
       "\n",
       "    .dataframe thead th {\n",
       "        text-align: right;\n",
       "    }\n",
       "</style>\n",
       "<table border=\"1\" class=\"dataframe\">\n",
       "  <thead>\n",
       "    <tr style=\"text-align: right;\">\n",
       "      <th></th>\n",
       "      <th>outgoing</th>\n",
       "      <th>incoming</th>\n",
       "      <th>total</th>\n",
       "    </tr>\n",
       "  </thead>\n",
       "  <tbody>\n",
       "    <tr>\n",
       "      <th>L1_SBC</th>\n",
       "      <td>2.313706</td>\n",
       "      <td>2.383248</td>\n",
       "      <td>4.696953</td>\n",
       "    </tr>\n",
       "    <tr>\n",
       "      <th>L23_BC</th>\n",
       "      <td>2.295342</td>\n",
       "      <td>2.419059</td>\n",
       "      <td>4.714401</td>\n",
       "    </tr>\n",
       "    <tr>\n",
       "      <th>L23_MC</th>\n",
       "      <td>2.053800</td>\n",
       "      <td>3.143935</td>\n",
       "      <td>5.197736</td>\n",
       "    </tr>\n",
       "    <tr>\n",
       "      <th>L4_TPC</th>\n",
       "      <td>3.150950</td>\n",
       "      <td>2.185307</td>\n",
       "      <td>5.336257</td>\n",
       "    </tr>\n",
       "    <tr>\n",
       "      <th>L5_TPC:A</th>\n",
       "      <td>2.474294</td>\n",
       "      <td>3.193901</td>\n",
       "      <td>5.668195</td>\n",
       "    </tr>\n",
       "    <tr>\n",
       "      <th>L6_UPC</th>\n",
       "      <td>3.628422</td>\n",
       "      <td>2.591064</td>\n",
       "      <td>6.219487</td>\n",
       "    </tr>\n",
       "  </tbody>\n",
       "</table>\n",
       "</div>"
      ],
      "text/plain": [
       "          outgoing  incoming     total\n",
       "L1_SBC    2.313706  2.383248  4.696953\n",
       "L23_BC    2.295342  2.419059  4.714401\n",
       "L23_MC    2.053800  3.143935  5.197736\n",
       "L4_TPC    3.150950  2.185307  5.336257\n",
       "L5_TPC:A  2.474294  3.193901  5.668195\n",
       "L6_UPC    3.628422  2.591064  6.219487"
      ]
     },
     "execution_count": 6,
     "metadata": {},
     "output_type": "execute_result"
    }
   ],
   "source": [
    "chart.node_flow"
   ]
  },
  {
   "cell_type": "code",
   "execution_count": 7,
   "metadata": {
    "ExecuteTime": {
     "end_time": "2019-11-28T22:31:55.383598Z",
     "start_time": "2019-11-28T22:31:55.372161Z"
    }
   },
   "outputs": [
    {
     "data": {
      "text/html": [
       "<div>\n",
       "<style scoped>\n",
       "    .dataframe tbody tr th:only-of-type {\n",
       "        vertical-align: middle;\n",
       "    }\n",
       "\n",
       "    .dataframe tbody tr th {\n",
       "        vertical-align: top;\n",
       "    }\n",
       "\n",
       "    .dataframe thead th {\n",
       "        text-align: right;\n",
       "    }\n",
       "</style>\n",
       "<table border=\"1\" class=\"dataframe\">\n",
       "  <thead>\n",
       "    <tr style=\"text-align: right;\">\n",
       "      <th></th>\n",
       "      <th>total</th>\n",
       "      <th>source</th>\n",
       "      <th>target</th>\n",
       "    </tr>\n",
       "  </thead>\n",
       "  <tbody>\n",
       "    <tr>\n",
       "      <th>L1_SBC</th>\n",
       "      <td>4.696953</td>\n",
       "      <td>2.313706</td>\n",
       "      <td>2.383248</td>\n",
       "    </tr>\n",
       "    <tr>\n",
       "      <th>L23_BC</th>\n",
       "      <td>4.714401</td>\n",
       "      <td>2.295342</td>\n",
       "      <td>2.419059</td>\n",
       "    </tr>\n",
       "    <tr>\n",
       "      <th>L23_MC</th>\n",
       "      <td>5.197736</td>\n",
       "      <td>2.053800</td>\n",
       "      <td>3.143935</td>\n",
       "    </tr>\n",
       "    <tr>\n",
       "      <th>L4_TPC</th>\n",
       "      <td>5.336257</td>\n",
       "      <td>3.150950</td>\n",
       "      <td>2.185307</td>\n",
       "    </tr>\n",
       "    <tr>\n",
       "      <th>L5_TPC:A</th>\n",
       "      <td>5.668195</td>\n",
       "      <td>2.474294</td>\n",
       "      <td>3.193901</td>\n",
       "    </tr>\n",
       "    <tr>\n",
       "      <th>L6_UPC</th>\n",
       "      <td>6.219487</td>\n",
       "      <td>3.628422</td>\n",
       "      <td>2.591064</td>\n",
       "    </tr>\n",
       "  </tbody>\n",
       "</table>\n",
       "</div>"
      ],
      "text/plain": [
       "             total    source    target\n",
       "L1_SBC    4.696953  2.313706  2.383248\n",
       "L23_BC    4.714401  2.295342  2.419059\n",
       "L23_MC    5.197736  2.053800  3.143935\n",
       "L4_TPC    5.336257  3.150950  2.185307\n",
       "L5_TPC:A  5.668195  2.474294  3.193901\n",
       "L6_UPC    6.219487  3.628422  2.591064"
      ]
     },
     "execution_count": 7,
     "metadata": {},
     "output_type": "execute_result"
    }
   ],
   "source": [
    "chart.node_size"
   ]
  },
  {
   "cell_type": "code",
   "execution_count": 8,
   "metadata": {
    "ExecuteTime": {
     "end_time": "2019-11-28T22:31:57.104239Z",
     "start_time": "2019-11-28T22:31:57.088022Z"
    }
   },
   "outputs": [
    {
     "data": {
      "text/html": [
       "<div>\n",
       "<style scoped>\n",
       "    .dataframe tbody tr th:only-of-type {\n",
       "        vertical-align: middle;\n",
       "    }\n",
       "\n",
       "    .dataframe tbody tr th {\n",
       "        vertical-align: top;\n",
       "    }\n",
       "\n",
       "    .dataframe thead th {\n",
       "        text-align: right;\n",
       "    }\n",
       "</style>\n",
       "<table border=\"1\" class=\"dataframe\">\n",
       "  <thead>\n",
       "    <tr style=\"text-align: right;\">\n",
       "      <th></th>\n",
       "      <th>source</th>\n",
       "      <th>target</th>\n",
       "    </tr>\n",
       "  </thead>\n",
       "  <tbody>\n",
       "    <tr>\n",
       "      <th>L1_SBC</th>\n",
       "      <td>(0.9, 1.156852772159361)</td>\n",
       "      <td>(1.0, 3.5053294588143933)</td>\n",
       "    </tr>\n",
       "    <tr>\n",
       "      <th>L23_BC</th>\n",
       "      <td>(0.9, 6.106423736514474)</td>\n",
       "      <td>(1.0, 8.463624372058986)</td>\n",
       "    </tr>\n",
       "    <tr>\n",
       "      <th>L23_MC</th>\n",
       "      <td>(0.9, 10.961853664066256)</td>\n",
       "      <td>(1.0, 13.560721522751422)</td>\n",
       "    </tr>\n",
       "    <tr>\n",
       "      <th>L4_TPC</th>\n",
       "      <td>(0.9, 16.969963515879787)</td>\n",
       "      <td>(1.0, 19.6380919336356)</td>\n",
       "    </tr>\n",
       "    <tr>\n",
       "      <th>L5_TPC:A</th>\n",
       "      <td>(0.9, 22.22969176172446)</td>\n",
       "      <td>(1.0, 25.06378911485109)</td>\n",
       "    </tr>\n",
       "    <tr>\n",
       "      <th>L6_UPC</th>\n",
       "      <td>(0.9, 28.736749959111933)</td>\n",
       "      <td>(1.0, 31.84649323169501)</td>\n",
       "    </tr>\n",
       "  </tbody>\n",
       "</table>\n",
       "</div>"
      ],
      "text/plain": [
       "                             source                     target\n",
       "L1_SBC     (0.9, 1.156852772159361)  (1.0, 3.5053294588143933)\n",
       "L23_BC     (0.9, 6.106423736514474)   (1.0, 8.463624372058986)\n",
       "L23_MC    (0.9, 10.961853664066256)  (1.0, 13.560721522751422)\n",
       "L4_TPC    (0.9, 16.969963515879787)    (1.0, 19.6380919336356)\n",
       "L5_TPC:A   (0.9, 22.22969176172446)   (1.0, 25.06378911485109)\n",
       "L6_UPC    (0.9, 28.736749959111933)   (1.0, 31.84649323169501)"
      ]
     },
     "execution_count": 8,
     "metadata": {},
     "output_type": "execute_result"
    }
   ],
   "source": [
    "chart.node_position"
   ]
  },
  {
   "cell_type": "code",
   "execution_count": 9,
   "metadata": {
    "ExecuteTime": {
     "end_time": "2019-11-28T22:31:58.774277Z",
     "start_time": "2019-11-28T22:31:58.751643Z"
    }
   },
   "outputs": [
    {
     "data": {
      "text/html": [
       "<div>\n",
       "<style scoped>\n",
       "    .dataframe tbody tr th:only-of-type {\n",
       "        vertical-align: middle;\n",
       "    }\n",
       "\n",
       "    .dataframe tbody tr th {\n",
       "        vertical-align: top;\n",
       "    }\n",
       "\n",
       "    .dataframe thead tr th {\n",
       "        text-align: left;\n",
       "    }\n",
       "</style>\n",
       "<table border=\"1\" class=\"dataframe\">\n",
       "  <thead>\n",
       "    <tr>\n",
       "      <th></th>\n",
       "      <th colspan=\"2\" halign=\"left\">position</th>\n",
       "      <th colspan=\"3\" halign=\"left\">size</th>\n",
       "      <th colspan=\"3\" halign=\"left\">flow</th>\n",
       "    </tr>\n",
       "    <tr>\n",
       "      <th></th>\n",
       "      <th>source</th>\n",
       "      <th>target</th>\n",
       "      <th>total</th>\n",
       "      <th>source</th>\n",
       "      <th>target</th>\n",
       "      <th>outgoing</th>\n",
       "      <th>incoming</th>\n",
       "      <th>total</th>\n",
       "    </tr>\n",
       "  </thead>\n",
       "  <tbody>\n",
       "    <tr>\n",
       "      <th>L1_SBC</th>\n",
       "      <td>(0.9, 1.156852772159361)</td>\n",
       "      <td>(1.0, 3.5053294588143933)</td>\n",
       "      <td>4.696953</td>\n",
       "      <td>2.313706</td>\n",
       "      <td>2.383248</td>\n",
       "      <td>2.313706</td>\n",
       "      <td>2.383248</td>\n",
       "      <td>4.696953</td>\n",
       "    </tr>\n",
       "    <tr>\n",
       "      <th>L23_BC</th>\n",
       "      <td>(0.9, 6.106423736514474)</td>\n",
       "      <td>(1.0, 8.463624372058986)</td>\n",
       "      <td>4.714401</td>\n",
       "      <td>2.295342</td>\n",
       "      <td>2.419059</td>\n",
       "      <td>2.295342</td>\n",
       "      <td>2.419059</td>\n",
       "      <td>4.714401</td>\n",
       "    </tr>\n",
       "    <tr>\n",
       "      <th>L23_MC</th>\n",
       "      <td>(0.9, 10.961853664066256)</td>\n",
       "      <td>(1.0, 13.560721522751422)</td>\n",
       "      <td>5.197736</td>\n",
       "      <td>2.053800</td>\n",
       "      <td>3.143935</td>\n",
       "      <td>2.053800</td>\n",
       "      <td>3.143935</td>\n",
       "      <td>5.197736</td>\n",
       "    </tr>\n",
       "    <tr>\n",
       "      <th>L4_TPC</th>\n",
       "      <td>(0.9, 16.969963515879787)</td>\n",
       "      <td>(1.0, 19.6380919336356)</td>\n",
       "      <td>5.336257</td>\n",
       "      <td>3.150950</td>\n",
       "      <td>2.185307</td>\n",
       "      <td>3.150950</td>\n",
       "      <td>2.185307</td>\n",
       "      <td>5.336257</td>\n",
       "    </tr>\n",
       "    <tr>\n",
       "      <th>L5_TPC:A</th>\n",
       "      <td>(0.9, 22.22969176172446)</td>\n",
       "      <td>(1.0, 25.06378911485109)</td>\n",
       "      <td>5.668195</td>\n",
       "      <td>2.474294</td>\n",
       "      <td>3.193901</td>\n",
       "      <td>2.474294</td>\n",
       "      <td>3.193901</td>\n",
       "      <td>5.668195</td>\n",
       "    </tr>\n",
       "    <tr>\n",
       "      <th>L6_UPC</th>\n",
       "      <td>(0.9, 28.736749959111933)</td>\n",
       "      <td>(1.0, 31.84649323169501)</td>\n",
       "      <td>6.219487</td>\n",
       "      <td>3.628422</td>\n",
       "      <td>2.591064</td>\n",
       "      <td>3.628422</td>\n",
       "      <td>2.591064</td>\n",
       "      <td>6.219487</td>\n",
       "    </tr>\n",
       "  </tbody>\n",
       "</table>\n",
       "</div>"
      ],
      "text/plain": [
       "                           position                                 size  \\\n",
       "                             source                     target     total   \n",
       "L1_SBC     (0.9, 1.156852772159361)  (1.0, 3.5053294588143933)  4.696953   \n",
       "L23_BC     (0.9, 6.106423736514474)   (1.0, 8.463624372058986)  4.714401   \n",
       "L23_MC    (0.9, 10.961853664066256)  (1.0, 13.560721522751422)  5.197736   \n",
       "L4_TPC    (0.9, 16.969963515879787)    (1.0, 19.6380919336356)  5.336257   \n",
       "L5_TPC:A   (0.9, 22.22969176172446)   (1.0, 25.06378911485109)  5.668195   \n",
       "L6_UPC    (0.9, 28.736749959111933)   (1.0, 31.84649323169501)  6.219487   \n",
       "\n",
       "                                  flow                      \n",
       "            source    target  outgoing  incoming     total  \n",
       "L1_SBC    2.313706  2.383248  2.313706  2.383248  4.696953  \n",
       "L23_BC    2.295342  2.419059  2.295342  2.419059  4.714401  \n",
       "L23_MC    2.053800  3.143935  2.053800  3.143935  5.197736  \n",
       "L4_TPC    3.150950  2.185307  3.150950  2.185307  5.336257  \n",
       "L5_TPC:A  2.474294  3.193901  2.474294  3.193901  5.668195  \n",
       "L6_UPC    3.628422  2.591064  3.628422  2.591064  6.219487  "
      ]
     },
     "execution_count": 9,
     "metadata": {},
     "output_type": "execute_result"
    }
   ],
   "source": [
    "chart.node_data"
   ]
  },
  {
   "cell_type": "code",
   "execution_count": null,
   "metadata": {
    "ExecuteTime": {
     "end_time": "2019-11-28T20:12:43.700774Z",
     "start_time": "2019-11-28T20:12:43.691236Z"
    }
   },
   "outputs": [],
   "source": [
    "node_one = chart.node_data.iloc[0]\n",
    "node_one.position.source"
   ]
  },
  {
   "cell_type": "code",
   "execution_count": null,
   "metadata": {
    "ExecuteTime": {
     "end_time": "2019-11-28T20:13:16.622202Z",
     "start_time": "2019-11-28T20:13:16.615541Z"
    }
   },
   "outputs": [],
   "source": [
    "PolarPoint(\n",
    "    **node_one.position.source)"
   ]
  },
  {
   "cell_type": "code",
   "execution_count": null,
   "metadata": {
    "ExecuteTime": {
     "end_time": "2019-11-28T21:56:09.772870Z",
     "start_time": "2019-11-28T21:56:09.762078Z"
    }
   },
   "outputs": [],
   "source": [
    "pd.concat([chart.node_flow], axis=1, keys=[\"flow\"])"
   ]
  },
  {
   "cell_type": "code",
   "execution_count": null,
   "metadata": {
    "ExecuteTime": {
     "end_time": "2019-11-28T21:47:06.917706Z",
     "start_time": "2019-11-28T21:47:06.911416Z"
    }
   },
   "outputs": [],
   "source": [
    "def pr(**kw):\n",
    "    print(kw)\n",
    "pr(**chart.node_position.source.loc[\"L1_SBC\"])"
   ]
  },
  {
   "cell_type": "code",
   "execution_count": null,
   "metadata": {
    "ExecuteTime": {
     "end_time": "2019-11-28T21:54:53.419182Z",
     "start_time": "2019-11-28T21:54:53.401007Z"
    }
   },
   "outputs": [],
   "source": [
    "pd.concat(\n",
    "    [chart.node_size, chart.node_position, chart.node_flow],\n",
    "    axis=1,\n",
    "    keys=[\"size\", \"position\", (\"flow\", \"\")]\n",
    ")"
   ]
  },
  {
   "cell_type": "code",
   "execution_count": null,
   "metadata": {},
   "outputs": [],
   "source": []
  }
 ],
 "metadata": {
  "kernelspec": {
   "display_name": "Python 3",
   "language": "python",
   "name": "python3"
  },
  "language_info": {
   "codemirror_mode": {
    "name": "ipython",
    "version": 3
   },
   "file_extension": ".py",
   "mimetype": "text/x-python",
   "name": "python",
   "nbconvert_exporter": "python",
   "pygments_lexer": "ipython3",
   "version": "3.7.4"
  },
  "latex_envs": {
   "LaTeX_envs_menu_present": true,
   "autoclose": false,
   "autocomplete": true,
   "bibliofile": "biblio.bib",
   "cite_by": "apalike",
   "current_citInitial": 1,
   "eqLabelWithNumbers": true,
   "eqNumInitial": 1,
   "hotkeys": {
    "equation": "Ctrl-E",
    "itemize": "Ctrl-I"
   },
   "labels_anchors": false,
   "latex_user_defs": false,
   "report_style_numbering": false,
   "user_envs_cfg": false
  },
  "toc": {
   "base_numbering": 1,
   "nav_menu": {},
   "number_sections": true,
   "sideBar": true,
   "skip_h1_title": false,
   "title_cell": "Table of Contents",
   "title_sidebar": "Contents",
   "toc_cell": false,
   "toc_position": {},
   "toc_section_display": true,
   "toc_window_display": false
  },
  "varInspector": {
   "cols": {
    "lenName": 16,
    "lenType": 16,
    "lenVar": 40
   },
   "kernels_config": {
    "python": {
     "delete_cmd_postfix": "",
     "delete_cmd_prefix": "del ",
     "library": "var_list.py",
     "varRefreshCmd": "print(var_dic_list())"
    },
    "r": {
     "delete_cmd_postfix": ") ",
     "delete_cmd_prefix": "rm(",
     "library": "var_list.r",
     "varRefreshCmd": "cat(var_dic_list()) "
    }
   },
   "types_to_exclude": [
    "module",
    "function",
    "builtin_function_or_method",
    "instance",
    "_Feature"
   ],
   "window_display": false
  }
 },
 "nbformat": 4,
 "nbformat_minor": 2
}
