{
 "cells": [
  {
   "cell_type": "markdown",
   "metadata": {},
   "source": [
    "# Refactor Network Charts \n",
    "\n",
    "Refactor network charts code to place geometry placement code in its own \"mixin\"..."
   ]
  },
  {
   "cell_type": "code",
   "execution_count": 1,
   "metadata": {
    "ExecuteTime": {
     "end_time": "2019-11-29T13:15:28.640487Z",
     "start_time": "2019-11-29T13:15:28.015456Z"
    }
   },
   "outputs": [],
   "source": [
    "import os\n",
    "from collections import defaultdict\n",
    "import numpy as np\n",
    "import pandas as pd\n",
    "import matplotlib.pyplot as plt\n",
    "from dmt.tk.plotting.shapes import Circle, Arc, PolarPoint\n",
    "from dmt.tk.plotting.charts.network import CircularNetworkChart"
   ]
  },
  {
   "cell_type": "code",
   "execution_count": 2,
   "metadata": {
    "ExecuteTime": {
     "end_time": "2019-11-29T13:15:28.652515Z",
     "start_time": "2019-11-29T13:15:28.642611Z"
    }
   },
   "outputs": [],
   "source": [
    "N = 6\n",
    "mtypes = [\"L23_MC\", \"L5_TPC:A\", \"L6_UPC\", \"L23_BC\", \"L1_SBC\", \"L4_TPC\"][:N]\n",
    "sclasses = pd.Series(\n",
    "    [\"INH\", \"EXC\", \"EXC\", \"INH\", \"INH\", \"EXC\"][:N],\n",
    "    index=mtypes, name=\"sclass\")\n",
    "pathways = [\n",
    "    (pre_mtype, post_mtype)\n",
    "    for pre_mtype in mtypes\n",
    "    for post_mtype in mtypes]\n",
    "N = len(pathways)\n",
    "pathway_strength = pd.DataFrame(\n",
    "    {(\"pathway_strength\", \"mean\"): np.random.uniform(size=N),\n",
    "     (\"pathway_strength\", \"std\"):  np.random.uniform(size=N)},\n",
    "    index=pd.MultiIndex.from_tuples(\n",
    "        pathways,\n",
    "        names=[\"pre_mtype\", \"post_mtype\"]))\n",
    "def get_node_weights(dataframe):\n",
    "    weights = dataframe.groupby(\"pre_mtype\").agg(\"sum\")[(\"pathway_strength\", \"mean\")]\n",
    "    weights.index.name = \"label\"\n",
    "    weights.name = \"weight\"\n",
    "    return weights/np.sum(weights)\n",
    "\n",
    "link_weights = pd.Series(\n",
    "    pathway_strength[(\"pathway_strength\", \"mean\")].values,\n",
    "    index = pathway_strength.index.rename([\"begin_node\", \"end_node\"]),\n",
    "    name=\"weight\")"
   ]
  },
  {
   "cell_type": "code",
   "execution_count": 3,
   "metadata": {
    "ExecuteTime": {
     "end_time": "2019-11-29T13:15:28.662625Z",
     "start_time": "2019-11-29T13:15:28.654026Z"
    }
   },
   "outputs": [],
   "source": [
    "layer_cols = {'L1': np.array([0.3, 0.3, 0]),\n",
    "              'L2': np.array([0.0, 0.3, 0.3]),\n",
    "              'L3': np.array([0.15, 0.3, 0.15]),\n",
    "              'L4': np.array([0.3, 0.0, 0.3]),\n",
    "              'L5': np.array([0.0, 0.6, 0.0]),\n",
    "              'L6': np.array([0.1, 0.1, 0.4])}\n",
    "layer_cols[\"L23\"] = (layer_cols[\"L2\"] + layer_cols[\"L3\"]) / 2.\n",
    "\n",
    "default = np.array([0.2, 0.2, 0.2])\n",
    "add_ei = {'EXC': np.array([0.5, 0.0, 0.0]),\n",
    "          'INH': np.array([0.0, 0.0, 0.5])}\n",
    "\n",
    "\n",
    "def _get_color(mtype, sclass):\n",
    "    layer = mtype.split('_')[0]\n",
    "    return np.minimum(\n",
    "        layer_cols[layer]\n",
    "            + add_ei[sclass] \n",
    "            + np.random.rand(3) * 0.25, 1.0)\n",
    "def make_col_dict(mtypes):\n",
    "    return dict([(_m[0], numpy.minimum(layer_cols.setdefault(_m[0][1], default)\n",
    "                                       + add_ei[_m[1]] +\n",
    "                                       numpy.random.rand(3) * 0.25, 1.0))\n",
    "                 for _m in mtypes])"
   ]
  },
  {
   "cell_type": "code",
   "execution_count": 4,
   "metadata": {
    "ExecuteTime": {
     "end_time": "2019-11-29T13:15:28.674287Z",
     "start_time": "2019-11-29T13:15:28.665397Z"
    }
   },
   "outputs": [],
   "source": [
    "mtypes = link_weights.index.get_level_values(\"begin_node\").unique()\n",
    "color_map ={\n",
    "    mtype: _get_color(mtype, sclass)\n",
    "    for mtype, sclass in sclasses.items()}\n",
    "for pre in mtypes:\n",
    "    for post in mtypes:\n",
    "        link_color = list(color_map[pre])\n",
    "        link_color.append(0.25)\n",
    "        color_map[(pre, post)] = np.array([0.8, 0.8, 0.8, 1.0]) * link_color\n",
    "chart =\\\n",
    "    CircularNetworkChart(\n",
    "        link_data=link_weights,\n",
    "        color_map=color_map)"
   ]
  },
  {
   "cell_type": "code",
   "execution_count": 5,
   "metadata": {
    "ExecuteTime": {
     "end_time": "2019-11-29T13:15:28.690216Z",
     "start_time": "2019-11-29T13:15:28.677066Z"
    }
   },
   "outputs": [
    {
     "data": {
      "text/plain": [
       "begin_node\n",
       "L1_SBC      3.107063\n",
       "L23_BC      3.656593\n",
       "L23_MC      3.872020\n",
       "L4_TPC      3.095932\n",
       "L5_TPC:A    2.170029\n",
       "L6_UPC      2.852412\n",
       "Name: outgoing, dtype: float64"
      ]
     },
     "execution_count": 5,
     "metadata": {},
     "output_type": "execute_result"
    }
   ],
   "source": [
    "chart.link_data.groupby(\n",
    "    \"begin_node\"\n",
    ").agg(\n",
    "    \"sum\"\n",
    ").rename(\n",
    "    \"outgoing\"\n",
    ")"
   ]
  },
  {
   "cell_type": "code",
   "execution_count": 6,
   "metadata": {
    "ExecuteTime": {
     "end_time": "2019-11-29T13:15:28.716015Z",
     "start_time": "2019-11-29T13:15:28.691856Z"
    }
   },
   "outputs": [
    {
     "data": {
      "text/html": [
       "<div>\n",
       "<style scoped>\n",
       "    .dataframe tbody tr th:only-of-type {\n",
       "        vertical-align: middle;\n",
       "    }\n",
       "\n",
       "    .dataframe tbody tr th {\n",
       "        vertical-align: top;\n",
       "    }\n",
       "\n",
       "    .dataframe thead th {\n",
       "        text-align: right;\n",
       "    }\n",
       "</style>\n",
       "<table border=\"1\" class=\"dataframe\">\n",
       "  <thead>\n",
       "    <tr style=\"text-align: right;\">\n",
       "      <th></th>\n",
       "      <th>outgoing</th>\n",
       "      <th>incoming</th>\n",
       "      <th>total</th>\n",
       "    </tr>\n",
       "  </thead>\n",
       "  <tbody>\n",
       "    <tr>\n",
       "      <th>L1_SBC</th>\n",
       "      <td>3.107063</td>\n",
       "      <td>1.521148</td>\n",
       "      <td>4.628211</td>\n",
       "    </tr>\n",
       "    <tr>\n",
       "      <th>L23_BC</th>\n",
       "      <td>3.656593</td>\n",
       "      <td>4.327096</td>\n",
       "      <td>7.983689</td>\n",
       "    </tr>\n",
       "    <tr>\n",
       "      <th>L23_MC</th>\n",
       "      <td>3.872020</td>\n",
       "      <td>3.035239</td>\n",
       "      <td>6.907259</td>\n",
       "    </tr>\n",
       "    <tr>\n",
       "      <th>L4_TPC</th>\n",
       "      <td>3.095932</td>\n",
       "      <td>2.915075</td>\n",
       "      <td>6.011007</td>\n",
       "    </tr>\n",
       "    <tr>\n",
       "      <th>L5_TPC:A</th>\n",
       "      <td>2.170029</td>\n",
       "      <td>3.032754</td>\n",
       "      <td>5.202783</td>\n",
       "    </tr>\n",
       "    <tr>\n",
       "      <th>L6_UPC</th>\n",
       "      <td>2.852412</td>\n",
       "      <td>3.922737</td>\n",
       "      <td>6.775149</td>\n",
       "    </tr>\n",
       "  </tbody>\n",
       "</table>\n",
       "</div>"
      ],
      "text/plain": [
       "          outgoing  incoming     total\n",
       "L1_SBC    3.107063  1.521148  4.628211\n",
       "L23_BC    3.656593  4.327096  7.983689\n",
       "L23_MC    3.872020  3.035239  6.907259\n",
       "L4_TPC    3.095932  2.915075  6.011007\n",
       "L5_TPC:A  2.170029  3.032754  5.202783\n",
       "L6_UPC    2.852412  3.922737  6.775149"
      ]
     },
     "execution_count": 6,
     "metadata": {},
     "output_type": "execute_result"
    }
   ],
   "source": [
    "chart.node_flow"
   ]
  },
  {
   "cell_type": "code",
   "execution_count": 7,
   "metadata": {
    "ExecuteTime": {
     "end_time": "2019-11-29T13:15:28.726407Z",
     "start_time": "2019-11-29T13:15:28.717360Z"
    }
   },
   "outputs": [
    {
     "data": {
      "text/html": [
       "<div>\n",
       "<style scoped>\n",
       "    .dataframe tbody tr th:only-of-type {\n",
       "        vertical-align: middle;\n",
       "    }\n",
       "\n",
       "    .dataframe tbody tr th {\n",
       "        vertical-align: top;\n",
       "    }\n",
       "\n",
       "    .dataframe thead th {\n",
       "        text-align: right;\n",
       "    }\n",
       "</style>\n",
       "<table border=\"1\" class=\"dataframe\">\n",
       "  <thead>\n",
       "    <tr style=\"text-align: right;\">\n",
       "      <th></th>\n",
       "      <th>total</th>\n",
       "      <th>source</th>\n",
       "      <th>target</th>\n",
       "    </tr>\n",
       "  </thead>\n",
       "  <tbody>\n",
       "    <tr>\n",
       "      <th>L1_SBC</th>\n",
       "      <td>0.123392</td>\n",
       "      <td>0.082837</td>\n",
       "      <td>0.040555</td>\n",
       "    </tr>\n",
       "    <tr>\n",
       "      <th>L23_BC</th>\n",
       "      <td>0.212852</td>\n",
       "      <td>0.097488</td>\n",
       "      <td>0.115364</td>\n",
       "    </tr>\n",
       "    <tr>\n",
       "      <th>L23_MC</th>\n",
       "      <td>0.184154</td>\n",
       "      <td>0.103232</td>\n",
       "      <td>0.080922</td>\n",
       "    </tr>\n",
       "    <tr>\n",
       "      <th>L4_TPC</th>\n",
       "      <td>0.160259</td>\n",
       "      <td>0.082540</td>\n",
       "      <td>0.077719</td>\n",
       "    </tr>\n",
       "    <tr>\n",
       "      <th>L5_TPC:A</th>\n",
       "      <td>0.138711</td>\n",
       "      <td>0.057855</td>\n",
       "      <td>0.080856</td>\n",
       "    </tr>\n",
       "    <tr>\n",
       "      <th>L6_UPC</th>\n",
       "      <td>0.180632</td>\n",
       "      <td>0.076048</td>\n",
       "      <td>0.104584</td>\n",
       "    </tr>\n",
       "  </tbody>\n",
       "</table>\n",
       "</div>"
      ],
      "text/plain": [
       "             total    source    target\n",
       "L1_SBC    0.123392  0.082837  0.040555\n",
       "L23_BC    0.212852  0.097488  0.115364\n",
       "L23_MC    0.184154  0.103232  0.080922\n",
       "L4_TPC    0.160259  0.082540  0.077719\n",
       "L5_TPC:A  0.138711  0.057855  0.080856\n",
       "L6_UPC    0.180632  0.076048  0.104584"
      ]
     },
     "execution_count": 7,
     "metadata": {},
     "output_type": "execute_result"
    }
   ],
   "source": [
    "chart.node_weight"
   ]
  },
  {
   "cell_type": "code",
   "execution_count": 8,
   "metadata": {
    "ExecuteTime": {
     "end_time": "2019-11-29T13:15:28.754494Z",
     "start_time": "2019-11-29T13:15:28.727931Z"
    }
   },
   "outputs": [
    {
     "data": {
      "text/html": [
       "<div>\n",
       "<style scoped>\n",
       "    .dataframe tbody tr th:only-of-type {\n",
       "        vertical-align: middle;\n",
       "    }\n",
       "\n",
       "    .dataframe tbody tr th {\n",
       "        vertical-align: top;\n",
       "    }\n",
       "\n",
       "    .dataframe thead th {\n",
       "        text-align: right;\n",
       "    }\n",
       "</style>\n",
       "<table border=\"1\" class=\"dataframe\">\n",
       "  <thead>\n",
       "    <tr style=\"text-align: right;\">\n",
       "      <th></th>\n",
       "      <th>source</th>\n",
       "      <th>target</th>\n",
       "    </tr>\n",
       "  </thead>\n",
       "  <tbody>\n",
       "    <tr>\n",
       "      <th>L1_SBC</th>\n",
       "      <td>(1.0, 0.19518037203902636)</td>\n",
       "      <td>(0.9, 0.4859166576275859)</td>\n",
       "    </tr>\n",
       "    <tr>\n",
       "      <th>L23_BC</th>\n",
       "      <td>(1.0, 1.0729728758288652)</td>\n",
       "      <td>(0.9, 1.5744945599515452)</td>\n",
       "    </tr>\n",
       "    <tr>\n",
       "      <th>L23_MC</th>\n",
       "      <td>(1.0, 2.3513483816044434)</td>\n",
       "      <td>(0.9, 2.7852505591355277)</td>\n",
       "    </tr>\n",
       "    <tr>\n",
       "      <th>L4_TPC</th>\n",
       "      <td>(1.0, 3.432199607024117)</td>\n",
       "      <td>(0.9, 3.8098007574631674)</td>\n",
       "    </tr>\n",
       "    <tr>\n",
       "      <th>L5_TPC:A</th>\n",
       "      <td>(1.0, 4.3910376334500825)</td>\n",
       "      <td>(0.9, 4.717867565610362)</td>\n",
       "    </tr>\n",
       "    <tr>\n",
       "      <th>L6_UPC</th>\n",
       "      <td>(1.0, 5.349363052267183)</td>\n",
       "      <td>(0.9, 5.774966312617873)</td>\n",
       "    </tr>\n",
       "  </tbody>\n",
       "</table>\n",
       "</div>"
      ],
      "text/plain": [
       "                              source                     target\n",
       "L1_SBC    (1.0, 0.19518037203902636)  (0.9, 0.4859166576275859)\n",
       "L23_BC     (1.0, 1.0729728758288652)  (0.9, 1.5744945599515452)\n",
       "L23_MC     (1.0, 2.3513483816044434)  (0.9, 2.7852505591355277)\n",
       "L4_TPC      (1.0, 3.432199607024117)  (0.9, 3.8098007574631674)\n",
       "L5_TPC:A   (1.0, 4.3910376334500825)   (0.9, 4.717867565610362)\n",
       "L6_UPC      (1.0, 5.349363052267183)   (0.9, 5.774966312617873)"
      ]
     },
     "execution_count": 8,
     "metadata": {},
     "output_type": "execute_result"
    }
   ],
   "source": [
    "chart.node_position"
   ]
  },
  {
   "cell_type": "code",
   "execution_count": 9,
   "metadata": {
    "ExecuteTime": {
     "end_time": "2019-11-29T13:15:28.770958Z",
     "start_time": "2019-11-29T13:15:28.755980Z"
    }
   },
   "outputs": [
    {
     "data": {
      "text/plain": [
       "L1_SBC      (0.1, 0.5814725711771193)\n",
       "L23_BC      (0.1, 1.0030433682453601)\n",
       "L23_MC      (0.1, 0.8678043550621685)\n",
       "L4_TPC      (0.1, 0.7552023008781007)\n",
       "L5_TPC:A    (0.1, 0.6536598643205594)\n",
       "L6_UPC      (0.1, 0.8512065207013814)\n",
       "Name: total, dtype: object"
      ]
     },
     "execution_count": 9,
     "metadata": {},
     "output_type": "execute_result"
    }
   ],
   "source": [
    "chart.node_geometry_size.total"
   ]
  },
  {
   "cell_type": "code",
   "execution_count": 10,
   "metadata": {
    "ExecuteTime": {
     "end_time": "2019-11-29T13:15:28.782965Z",
     "start_time": "2019-11-29T13:15:28.772729Z"
    }
   },
   "outputs": [
    {
     "data": {
      "text/plain": [
       "(1.0, 0.19518037203902636)"
      ]
     },
     "execution_count": 10,
     "metadata": {},
     "output_type": "execute_result"
    }
   ],
   "source": [
    "node_one = chart.node_data.iloc[0]\n",
    "node_one.position.source"
   ]
  },
  {
   "cell_type": "code",
   "execution_count": 11,
   "metadata": {
    "ExecuteTime": {
     "end_time": "2019-11-29T13:15:28.799186Z",
     "start_time": "2019-11-29T13:15:28.784643Z"
    }
   },
   "outputs": [
    {
     "data": {
      "text/plain": [
       "PolarPoint(radial=1.0, angular=0.19518037203902636)"
      ]
     },
     "execution_count": 11,
     "metadata": {},
     "output_type": "execute_result"
    }
   ],
   "source": [
    "PolarPoint(\n",
    "    *node_one.position.source)"
   ]
  },
  {
   "cell_type": "code",
   "execution_count": 12,
   "metadata": {
    "ExecuteTime": {
     "end_time": "2019-11-29T13:15:28.811511Z",
     "start_time": "2019-11-29T13:15:28.801138Z"
    }
   },
   "outputs": [
    {
     "data": {
      "text/plain": [
       "<dmt.tk.plotting.charts.network.circle.NodeArcGeometry at 0x7f72320fb9b0>"
      ]
     },
     "execution_count": 12,
     "metadata": {},
     "output_type": "execute_result"
    }
   ],
   "source": [
    "chart.get_source_geometry(\"L1_SBC\", chart.node_data.loc[\"L1_SBC\"])"
   ]
  },
  {
   "cell_type": "code",
   "execution_count": 13,
   "metadata": {
    "ExecuteTime": {
     "end_time": "2019-11-29T13:15:28.821618Z",
     "start_time": "2019-11-29T13:15:28.813064Z"
    }
   },
   "outputs": [
    {
     "data": {
      "text/plain": [
       "<dmt.tk.plotting.charts.network.circle.NodeArcGeometry at 0x7f72320fbf60>"
      ]
     },
     "execution_count": 13,
     "metadata": {},
     "output_type": "execute_result"
    }
   ],
   "source": [
    "chart.get_target_geometry(\"L1_SBC\", chart.node_data.loc[\"L1_SBC\"])"
   ]
  },
  {
   "cell_type": "code",
   "execution_count": null,
   "metadata": {
    "ExecuteTime": {
     "end_time": "2019-11-29T13:09:53.652197Z",
     "start_time": "2019-11-29T13:09:53.643080Z"
    }
   },
   "outputs": [],
   "source": []
  },
  {
   "cell_type": "code",
   "execution_count": 14,
   "metadata": {
    "ExecuteTime": {
     "end_time": "2019-11-29T13:15:29.357270Z",
     "start_time": "2019-11-29T13:15:28.823171Z"
    }
   },
   "outputs": [
    {
     "name": "stdout",
     "output_type": "stream",
     "text": [
      "L23_MC\n",
      "L6_UPC\n"
     ]
    },
    {
     "ename": "AttributeError",
     "evalue": "'NoneType' object has no attribute 'arrow'",
     "output_type": "error",
     "traceback": [
      "\u001b[0;31m---------------------------------------------------------------------------\u001b[0m",
      "\u001b[0;31mAttributeError\u001b[0m                            Traceback (most recent call last)",
      "\u001b[0;32m<ipython-input-14-52af1a231de0>\u001b[0m in \u001b[0;36m<module>\u001b[0;34m\u001b[0m\n\u001b[1;32m      9\u001b[0m     \u001b[0;34m\"L23_MC\"\u001b[0m\u001b[0;34m,\u001b[0m \u001b[0;34m\"L6_UPC\"\u001b[0m\u001b[0;34m,\u001b[0m\u001b[0;34m\u001b[0m\u001b[0;34m\u001b[0m\u001b[0m\n\u001b[1;32m     10\u001b[0m     chart.flow_size.loc[(\"L23_MC\", \"L6_UPC\")])\n\u001b[0;32m---> 11\u001b[0;31m \u001b[0mf\u001b[0m\u001b[0;34m.\u001b[0m\u001b[0mdraw\u001b[0m\u001b[0;34m(\u001b[0m\u001b[0maxes\u001b[0m\u001b[0;34m)\u001b[0m\u001b[0;34m\u001b[0m\u001b[0;34m\u001b[0m\u001b[0m\n\u001b[0m",
      "\u001b[0;32m~/work/bbp/work/validations/dmt/v2/dmt/tk/plotting/charts/network/circle.py\u001b[0m in \u001b[0;36mdraw\u001b[0;34m(self, axes, *args, **kwargs)\u001b[0m\n\u001b[1;32m    286\u001b[0m         \u001b[0mcolor\u001b[0m \u001b[0;34m=\u001b[0m \u001b[0mself\u001b[0m\u001b[0;34m.\u001b[0m\u001b[0mfacecolor\u001b[0m\u001b[0;34m\u001b[0m\u001b[0;34m\u001b[0m\u001b[0m\n\u001b[1;32m    287\u001b[0m         \u001b[0mcolor\u001b[0m\u001b[0;34m[\u001b[0m\u001b[0;36m3\u001b[0m\u001b[0;34m]\u001b[0m \u001b[0;34m=\u001b[0m \u001b[0;36m0.5\u001b[0m\u001b[0;34m\u001b[0m\u001b[0;34m\u001b[0m\u001b[0m\n\u001b[0;32m--> 288\u001b[0;31m         axes.arrow(\n\u001b[0m\u001b[1;32m    289\u001b[0m             \u001b[0marrow_start\u001b[0m\u001b[0;34m[\u001b[0m\u001b[0;36m0\u001b[0m\u001b[0;34m]\u001b[0m\u001b[0;34m,\u001b[0m \u001b[0marrow_start\u001b[0m\u001b[0;34m[\u001b[0m\u001b[0;36m1\u001b[0m\u001b[0;34m]\u001b[0m\u001b[0;34m,\u001b[0m\u001b[0;34m\u001b[0m\u001b[0;34m\u001b[0m\u001b[0m\n\u001b[1;32m    290\u001b[0m             \u001b[0marrow_direction\u001b[0m\u001b[0;34m[\u001b[0m\u001b[0;36m0\u001b[0m\u001b[0;34m]\u001b[0m\u001b[0;34m,\u001b[0m \u001b[0marrow_direction\u001b[0m\u001b[0;34m[\u001b[0m\u001b[0;36m1\u001b[0m\u001b[0;34m]\u001b[0m\u001b[0;34m,\u001b[0m\u001b[0;34m\u001b[0m\u001b[0;34m\u001b[0m\u001b[0m\n",
      "\u001b[0;31mAttributeError\u001b[0m: 'NoneType' object has no attribute 'arrow'"
     ]
    },
    {
     "data": {
      "text/plain": [
       "<Figure size 1008x1008 with 0 Axes>"
      ]
     },
     "metadata": {},
     "output_type": "display_data"
    },
    {
     "data": {
      "image/png": "[encoded data removed]",
      "text/plain": [
       "<Figure size 864x864 with 1 Axes>"
      ]
     },
     "metadata": {
      "needs_background": "light"
     },
     "output_type": "display_data"
    }
   ],
   "source": [
    "figure = plt.figure(figsize=(14, 14))\n",
    "axes = figure.add_axes()\n",
    "chart.draw(draw_diagonal=True)\n",
    "l23mc = chart.source_geometries[\"L23_MC\"]\n",
    "print(l23mc.label)\n",
    "l6upc = chart.target_geometries[\"L6_UPC\"]\n",
    "print(l6upc.label)\n",
    "f = chart.get_flow_geometry(\n",
    "    \"L23_MC\", \"L6_UPC\",\n",
    "    chart.flow_size.loc[(\"L23_MC\", \"L6_UPC\")])\n",
    "f.draw(axes)"
   ]
  },
  {
   "cell_type": "code",
   "execution_count": null,
   "metadata": {
    "ExecuteTime": {
     "end_time": "2019-11-29T13:15:29.450477Z",
     "start_time": "2019-11-29T13:15:28.069Z"
    }
   },
   "outputs": [],
   "source": [
    "def _angular_size(dataframe):\n",
    "    return dataframe.apply(\n",
    "        lambda row: pd.Series(dict(\n",
    "            source = row.source[1],\n",
    "            target = row.target[1])),\n",
    "        axis=1\n",
    "    )\n",
    "posize = pd.concat(\n",
    "    [_angular_size(chart.node_position),\n",
    "     _angular_size(chart.node_geometry_size)],\n",
    "    axis=1,\n",
    "    keys=[\"position\", \"geometry_size\"]\n",
    ")\n",
    "posize"
   ]
  },
  {
   "cell_type": "code",
   "execution_count": null,
   "metadata": {
    "ExecuteTime": {
     "end_time": "2019-11-29T13:15:29.451338Z",
     "start_time": "2019-11-29T13:15:28.073Z"
    }
   },
   "outputs": [],
   "source": [
    "chart.flow_size.head()"
   ]
  },
  {
   "cell_type": "code",
   "execution_count": null,
   "metadata": {
    "ExecuteTime": {
     "end_time": "2019-11-29T13:15:29.452163Z",
     "start_time": "2019-11-29T13:15:28.077Z"
    }
   },
   "outputs": [],
   "source": [
    "figure"
   ]
  },
  {
   "cell_type": "code",
   "execution_count": null,
   "metadata": {
    "ExecuteTime": {
     "end_time": "2019-11-29T13:15:29.452994Z",
     "start_time": "2019-11-29T13:15:28.080Z"
    }
   },
   "outputs": [],
   "source": [
    "chart.node_geometry_size.source"
   ]
  },
  {
   "cell_type": "code",
   "execution_count": null,
   "metadata": {
    "ExecuteTime": {
     "end_time": "2019-11-29T13:15:29.453729Z",
     "start_time": "2019-11-29T13:15:28.083Z"
    }
   },
   "outputs": [],
   "source": [
    "l23_MC = chart.source_geometries[\"L23_MC\"]\n",
    "l23_MC.shape"
   ]
  },
  {
   "cell_type": "code",
   "execution_count": null,
   "metadata": {
    "ExecuteTime": {
     "end_time": "2019-11-29T13:15:29.454512Z",
     "start_time": "2019-11-29T13:15:28.087Z"
    }
   },
   "outputs": [],
   "source": [
    "chart.node_data.geometry_size.loc[\"L23_MC\"].source"
   ]
  },
  {
   "cell_type": "code",
   "execution_count": null,
   "metadata": {
    "ExecuteTime": {
     "end_time": "2019-11-29T13:15:29.455387Z",
     "start_time": "2019-11-29T13:15:28.093Z"
    }
   },
   "outputs": [],
   "source": [
    "chart.center"
   ]
  },
  {
   "cell_type": "code",
   "execution_count": null,
   "metadata": {
    "ExecuteTime": {
     "end_time": "2019-11-29T13:15:29.456131Z",
     "start_time": "2019-11-29T13:15:28.097Z"
    }
   },
   "outputs": [],
   "source": [
    "l23mc =  chart.source_geometries[\"L23_MC\"]"
   ]
  },
  {
   "cell_type": "code",
   "execution_count": null,
   "metadata": {
    "ExecuteTime": {
     "end_time": "2019-11-29T13:15:29.456995Z",
     "start_time": "2019-11-29T13:15:28.100Z"
    }
   },
   "outputs": [],
   "source": [
    "l23mc.shape.radial"
   ]
  },
  {
   "cell_type": "code",
   "execution_count": null,
   "metadata": {
    "ExecuteTime": {
     "end_time": "2019-11-29T13:15:29.457825Z",
     "start_time": "2019-11-29T13:15:28.103Z"
    }
   },
   "outputs": [],
   "source": [
    "l23mc.shape.angular"
   ]
  },
  {
   "cell_type": "code",
   "execution_count": null,
   "metadata": {
    "ExecuteTime": {
     "end_time": "2019-11-29T13:15:29.458633Z",
     "start_time": "2019-11-29T13:15:28.105Z"
    }
   },
   "outputs": [],
   "source": [
    "chart.get_source_geometry(\n",
    "    \"L23_MC\",\n",
    "    chart.node_data.loc[\"L23_MC\"]\n",
    ").shape"
   ]
  },
  {
   "cell_type": "code",
   "execution_count": null,
   "metadata": {
    "ExecuteTime": {
     "end_time": "2019-11-29T13:15:29.459574Z",
     "start_time": "2019-11-29T13:15:28.109Z"
    }
   },
   "outputs": [],
   "source": [
    "chart.node_data.loc[\"L23_MC\"]"
   ]
  },
  {
   "cell_type": "code",
   "execution_count": null,
   "metadata": {
    "ExecuteTime": {
     "end_time": "2019-11-29T13:15:29.460425Z",
     "start_time": "2019-11-29T13:15:28.112Z"
    }
   },
   "outputs": [],
   "source": [
    "PolarPoint(*chart.node_data.loc[\"L23_MC\"].position.source)"
   ]
  },
  {
   "cell_type": "code",
   "execution_count": null,
   "metadata": {
    "ExecuteTime": {
     "end_time": "2019-11-29T13:15:29.461238Z",
     "start_time": "2019-11-29T13:15:28.115Z"
    }
   },
   "outputs": [],
   "source": [
    "chart.node_geometry_size"
   ]
  },
  {
   "cell_type": "code",
   "execution_count": null,
   "metadata": {
    "ExecuteTime": {
     "end_time": "2019-11-29T13:15:29.462058Z",
     "start_time": "2019-11-29T13:15:28.118Z"
    }
   },
   "outputs": [],
   "source": [
    "chart.node_geometry_size.apply(\n",
    "    lambda s: pd.Series(dict(total=s.total[1], source=s.source[1], target=s.target[1])),\n",
    "    axis=1)"
   ]
  },
  {
   "cell_type": "code",
   "execution_count": null,
   "metadata": {
    "ExecuteTime": {
     "end_time": "2019-11-29T13:15:29.462947Z",
     "start_time": "2019-11-29T13:15:28.121Z"
    }
   },
   "outputs": [],
   "source": [
    "chart.node_position"
   ]
  },
  {
   "cell_type": "code",
   "execution_count": null,
   "metadata": {
    "ExecuteTime": {
     "end_time": "2019-11-29T13:15:29.463771Z",
     "start_time": "2019-11-29T13:15:28.123Z"
    }
   },
   "outputs": [],
   "source": [
    " number_nodes = chart.node_weight.shape[0]\n",
    " spacing = 2. * np.pi * chart.spacing_factor / number_nodes\n",
    "\n",
    " def _positions_angular():\n",
    "     position_end = - spacing\n",
    "     for size in chart.node_geometry_size.total.values:\n",
    "         position_start = position_end + spacing\n",
    "         position_end = position_start + size[1]\n",
    "         yield (position_start + position_end) / 2.\n",
    "\n",
    "positions_angular = pd.Series(\n",
    "    list(_positions_angular()),\n",
    "        index=chart.node_geometry_size.index,\n",
    "        name=\"angular\"\n",
    ")\n",
    "node_geometry_size_angular = chart.node_geometry_size.apply(\n",
    "    lambda node_size: pd.Series(dict(\n",
    "        total=node_size.total[1],\n",
    "        source=node_size.source[1],\n",
    "        target=node_size.target[1])),\n",
    "        axis=1\n",
    ")\n",
    "starts_source = (\n",
    "    positions_angular - node_geometry_size_angular.total[1] / 2.\n",
    ").rename(\n",
    "    \"start_source\"\n",
    ")\n",
    "positions_angular_source = (\n",
    "    starts_source + node_geometry_size_angular.source[1] / 2.\n",
    ").rename(\n",
    "    \"angular\"\n",
    ")\n",
    "positions_source = positions_angular_source.apply(\n",
    "    lambda position_angular: (chart.outer_circle.radius, position_angular)\n",
    ")\n",
    "starts_target = (\n",
    "    positions_angular_source + node_geometry_size_angular.source[1] / 2.\n",
    ").rename(\n",
    "    \"start_target\"\n",
    ")\n",
    "positions_angular_target = (\n",
    "    starts_target + node_geometry_size_angular.target[1] / 2.\n",
    ").rename(\n",
    "    \"angular\"\n",
    ")\n",
    "positions_target = positions_angular_target.apply(\n",
    "    lambda position_angular: (\n",
    "        chart.inner_circle.radius, position_angular)\n",
    ")"
   ]
  },
  {
   "cell_type": "code",
   "execution_count": null,
   "metadata": {
    "ExecuteTime": {
     "end_time": "2019-11-29T13:15:29.464528Z",
     "start_time": "2019-11-29T13:15:28.125Z"
    }
   },
   "outputs": [],
   "source": [
    "positions_target"
   ]
  },
  {
   "cell_type": "code",
   "execution_count": null,
   "metadata": {},
   "outputs": [],
   "source": []
  }
 ],
 "metadata": {
  "kernelspec": {
   "display_name": "Python 3",
   "language": "python",
   "name": "python3"
  },
  "language_info": {
   "codemirror_mode": {
    "name": "ipython",
    "version": 3
   },
   "file_extension": ".py",
   "mimetype": "text/x-python",
   "name": "python",
   "nbconvert_exporter": "python",
   "pygments_lexer": "ipython3",
   "version": "3.6.8"
  },
  "latex_envs": {
   "LaTeX_envs_menu_present": true,
   "autoclose": false,
   "autocomplete": true,
   "bibliofile": "biblio.bib",
   "cite_by": "apalike",
   "current_citInitial": 1,
   "eqLabelWithNumbers": true,
   "eqNumInitial": 1,
   "hotkeys": {
    "equation": "Ctrl-E",
    "itemize": "Ctrl-I"
   },
   "labels_anchors": false,
   "latex_user_defs": false,
   "report_style_numbering": false,
   "user_envs_cfg": false
  },
  "toc": {
   "base_numbering": 1,
   "nav_menu": {},
   "number_sections": true,
   "sideBar": true,
   "skip_h1_title": false,
   "title_cell": "Table of Contents",
   "title_sidebar": "Contents",
   "toc_cell": false,
   "toc_position": {},
   "toc_section_display": true,
   "toc_window_display": false
  },
  "varInspector": {
   "cols": {
    "lenName": 16,
    "lenType": 16,
    "lenVar": 40
   },
   "kernels_config": {
    "python": {
     "delete_cmd_postfix": "",
     "delete_cmd_prefix": "del ",
     "library": "var_list.py",
     "varRefreshCmd": "print(var_dic_list())"
    },
    "r": {
     "delete_cmd_postfix": ") ",
     "delete_cmd_prefix": "rm(",
     "library": "var_list.r",
     "varRefreshCmd": "cat(var_dic_list()) "
    }
   },
   "types_to_exclude": [
    "module",
    "function",
    "builtin_function_or_method",
    "instance",
    "_Feature"
   ],
   "window_display": false
  }
 },
 "nbformat": 4,
 "nbformat_minor": 2
}
