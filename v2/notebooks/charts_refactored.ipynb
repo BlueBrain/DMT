{
 "cells": [
  {
   "cell_type": "markdown",
   "metadata": {},
   "source": [
    "# Refactor Network Charts \n",
    "\n",
    "Refactor network charts code to place geometry placement code in its own \"mixin\"..."
   ]
  },
  {
   "cell_type": "code",
   "execution_count": 1,
   "metadata": {
    "ExecuteTime": {
     "end_time": "2019-11-29T14:57:10.758500Z",
     "start_time": "2019-11-29T14:57:10.100907Z"
    }
   },
   "outputs": [],
   "source": [
    "import os\n",
    "from collections import defaultdict\n",
    "import numpy as np\n",
    "import pandas as pd\n",
    "import matplotlib.pyplot as plt\n",
    "from dmt.tk.plotting.shapes import Circle, Arc, PolarPoint\n",
    "from dmt.tk.plotting.charts.network import CircularNetworkChart"
   ]
  },
  {
   "cell_type": "code",
   "execution_count": 2,
   "metadata": {
    "ExecuteTime": {
     "end_time": "2019-11-29T14:57:10.770455Z",
     "start_time": "2019-11-29T14:57:10.760638Z"
    }
   },
   "outputs": [],
   "source": [
    "N = 6\n",
    "mtypes = [\"L23_MC\", \"L5_TPC:A\", \"L6_UPC\", \"L23_BC\", \"L1_SBC\", \"L4_TPC\"][:N]\n",
    "sclasses = pd.Series(\n",
    "    [\"INH\", \"EXC\", \"EXC\", \"INH\", \"INH\", \"EXC\"][:N],\n",
    "    index=mtypes, name=\"sclass\")\n",
    "pathways = [\n",
    "    (pre_mtype, post_mtype)\n",
    "    for pre_mtype in mtypes\n",
    "    for post_mtype in mtypes]\n",
    "N = len(pathways)\n",
    "pathway_strength = pd.DataFrame(\n",
    "    {(\"pathway_strength\", \"mean\"): np.random.uniform(size=N),\n",
    "     (\"pathway_strength\", \"std\"):  np.random.uniform(size=N)},\n",
    "    index=pd.MultiIndex.from_tuples(\n",
    "        pathways,\n",
    "        names=[\"pre_mtype\", \"post_mtype\"]))\n",
    "def get_node_weights(dataframe):\n",
    "    weights = dataframe.groupby(\"pre_mtype\").agg(\"sum\")[(\"pathway_strength\", \"mean\")]\n",
    "    weights.index.name = \"label\"\n",
    "    weights.name = \"weight\"\n",
    "    return weights/np.sum(weights)\n",
    "\n",
    "link_weights = pd.Series(\n",
    "    pathway_strength[(\"pathway_strength\", \"mean\")].values,\n",
    "    index = pathway_strength.index.rename([\"begin_node\", \"end_node\"]),\n",
    "    name=\"weight\")"
   ]
  },
  {
   "cell_type": "code",
   "execution_count": 3,
   "metadata": {
    "ExecuteTime": {
     "end_time": "2019-11-29T14:57:10.780755Z",
     "start_time": "2019-11-29T14:57:10.771884Z"
    }
   },
   "outputs": [],
   "source": [
    "layer_cols = {'L1': np.array([0.3, 0.3, 0]),\n",
    "              'L2': np.array([0.0, 0.3, 0.3]),\n",
    "              'L3': np.array([0.15, 0.3, 0.15]),\n",
    "              'L4': np.array([0.3, 0.0, 0.3]),\n",
    "              'L5': np.array([0.0, 0.6, 0.0]),\n",
    "              'L6': np.array([0.1, 0.1, 0.4])}\n",
    "layer_cols[\"L23\"] = (layer_cols[\"L2\"] + layer_cols[\"L3\"]) / 2.\n",
    "\n",
    "default = np.array([0.2, 0.2, 0.2])\n",
    "add_ei = {'EXC': np.array([0.5, 0.0, 0.0]),\n",
    "          'INH': np.array([0.0, 0.0, 0.5])}\n",
    "\n",
    "\n",
    "def _get_color(mtype, sclass):\n",
    "    layer = mtype.split('_')[0]\n",
    "    return np.minimum(\n",
    "        layer_cols[layer]\n",
    "            + add_ei[sclass] \n",
    "            + np.random.rand(3) * 0.25, 1.0)\n",
    "def make_col_dict(mtypes):\n",
    "    return dict([(_m[0], numpy.minimum(layer_cols.setdefault(_m[0][1], default)\n",
    "                                       + add_ei[_m[1]] +\n",
    "                                       numpy.random.rand(3) * 0.25, 1.0))\n",
    "                 for _m in mtypes])"
   ]
  },
  {
   "cell_type": "code",
   "execution_count": 4,
   "metadata": {
    "ExecuteTime": {
     "end_time": "2019-11-29T14:57:10.798551Z",
     "start_time": "2019-11-29T14:57:10.783175Z"
    }
   },
   "outputs": [],
   "source": [
    "mtypes = link_weights.index.get_level_values(\"begin_node\").unique()\n",
    "color_map ={\n",
    "    mtype: _get_color(mtype, sclass)\n",
    "    for mtype, sclass in sclasses.items()}\n",
    "for pre in mtypes:\n",
    "    for post in mtypes:\n",
    "        link_color = list(color_map[pre])\n",
    "        link_color.append(0.25)\n",
    "        color_map[(pre, post)] = np.array([0.8, 0.8, 0.8, 1.0]) * link_color\n",
    "chart =\\\n",
    "    CircularNetworkChart(\n",
    "        link_data=link_weights,\n",
    "        color_map=color_map)"
   ]
  },
  {
   "cell_type": "code",
   "execution_count": 5,
   "metadata": {
    "ExecuteTime": {
     "end_time": "2019-11-29T14:57:10.815421Z",
     "start_time": "2019-11-29T14:57:10.801329Z"
    }
   },
   "outputs": [
    {
     "data": {
      "text/plain": [
       "begin_node\n",
       "L1_SBC      3.406515\n",
       "L23_BC      3.509261\n",
       "L23_MC      4.532329\n",
       "L4_TPC      2.083321\n",
       "L5_TPC:A    2.571556\n",
       "L6_UPC      2.301797\n",
       "Name: outgoing, dtype: float64"
      ]
     },
     "execution_count": 5,
     "metadata": {},
     "output_type": "execute_result"
    }
   ],
   "source": [
    "chart.link_data.groupby(\n",
    "    \"begin_node\"\n",
    ").agg(\n",
    "    \"sum\"\n",
    ").rename(\n",
    "    \"outgoing\"\n",
    ")"
   ]
  },
  {
   "cell_type": "code",
   "execution_count": 6,
   "metadata": {
    "ExecuteTime": {
     "end_time": "2019-11-29T14:57:10.846741Z",
     "start_time": "2019-11-29T14:57:10.817526Z"
    }
   },
   "outputs": [
    {
     "data": {
      "text/html": [
       "<div>\n",
       "<style scoped>\n",
       "    .dataframe tbody tr th:only-of-type {\n",
       "        vertical-align: middle;\n",
       "    }\n",
       "\n",
       "    .dataframe tbody tr th {\n",
       "        vertical-align: top;\n",
       "    }\n",
       "\n",
       "    .dataframe thead th {\n",
       "        text-align: right;\n",
       "    }\n",
       "</style>\n",
       "<table border=\"1\" class=\"dataframe\">\n",
       "  <thead>\n",
       "    <tr style=\"text-align: right;\">\n",
       "      <th></th>\n",
       "      <th>outgoing</th>\n",
       "      <th>incoming</th>\n",
       "      <th>total</th>\n",
       "    </tr>\n",
       "  </thead>\n",
       "  <tbody>\n",
       "    <tr>\n",
       "      <th>L1_SBC</th>\n",
       "      <td>3.406515</td>\n",
       "      <td>3.313922</td>\n",
       "      <td>6.720437</td>\n",
       "    </tr>\n",
       "    <tr>\n",
       "      <th>L23_BC</th>\n",
       "      <td>3.509261</td>\n",
       "      <td>2.702132</td>\n",
       "      <td>6.211393</td>\n",
       "    </tr>\n",
       "    <tr>\n",
       "      <th>L23_MC</th>\n",
       "      <td>4.532329</td>\n",
       "      <td>3.460312</td>\n",
       "      <td>7.992642</td>\n",
       "    </tr>\n",
       "    <tr>\n",
       "      <th>L4_TPC</th>\n",
       "      <td>2.083321</td>\n",
       "      <td>1.547241</td>\n",
       "      <td>3.630562</td>\n",
       "    </tr>\n",
       "    <tr>\n",
       "      <th>L5_TPC:A</th>\n",
       "      <td>2.571556</td>\n",
       "      <td>3.816301</td>\n",
       "      <td>6.387857</td>\n",
       "    </tr>\n",
       "    <tr>\n",
       "      <th>L6_UPC</th>\n",
       "      <td>2.301797</td>\n",
       "      <td>3.564871</td>\n",
       "      <td>5.866668</td>\n",
       "    </tr>\n",
       "  </tbody>\n",
       "</table>\n",
       "</div>"
      ],
      "text/plain": [
       "          outgoing  incoming     total\n",
       "L1_SBC    3.406515  3.313922  6.720437\n",
       "L23_BC    3.509261  2.702132  6.211393\n",
       "L23_MC    4.532329  3.460312  7.992642\n",
       "L4_TPC    2.083321  1.547241  3.630562\n",
       "L5_TPC:A  2.571556  3.816301  6.387857\n",
       "L6_UPC    2.301797  3.564871  5.866668"
      ]
     },
     "execution_count": 6,
     "metadata": {},
     "output_type": "execute_result"
    }
   ],
   "source": [
    "chart.node_flow"
   ]
  },
  {
   "cell_type": "code",
   "execution_count": 7,
   "metadata": {
    "ExecuteTime": {
     "end_time": "2019-11-29T14:57:10.858147Z",
     "start_time": "2019-11-29T14:57:10.848265Z"
    }
   },
   "outputs": [
    {
     "data": {
      "text/html": [
       "<div>\n",
       "<style scoped>\n",
       "    .dataframe tbody tr th:only-of-type {\n",
       "        vertical-align: middle;\n",
       "    }\n",
       "\n",
       "    .dataframe tbody tr th {\n",
       "        vertical-align: top;\n",
       "    }\n",
       "\n",
       "    .dataframe thead th {\n",
       "        text-align: right;\n",
       "    }\n",
       "</style>\n",
       "<table border=\"1\" class=\"dataframe\">\n",
       "  <thead>\n",
       "    <tr style=\"text-align: right;\">\n",
       "      <th></th>\n",
       "      <th>total</th>\n",
       "      <th>source</th>\n",
       "      <th>target</th>\n",
       "    </tr>\n",
       "  </thead>\n",
       "  <tbody>\n",
       "    <tr>\n",
       "      <th>L1_SBC</th>\n",
       "      <td>0.182573</td>\n",
       "      <td>0.092544</td>\n",
       "      <td>0.090029</td>\n",
       "    </tr>\n",
       "    <tr>\n",
       "      <th>L23_BC</th>\n",
       "      <td>0.168744</td>\n",
       "      <td>0.095336</td>\n",
       "      <td>0.073408</td>\n",
       "    </tr>\n",
       "    <tr>\n",
       "      <th>L23_MC</th>\n",
       "      <td>0.217135</td>\n",
       "      <td>0.123129</td>\n",
       "      <td>0.094006</td>\n",
       "    </tr>\n",
       "    <tr>\n",
       "      <th>L4_TPC</th>\n",
       "      <td>0.098631</td>\n",
       "      <td>0.056597</td>\n",
       "      <td>0.042034</td>\n",
       "    </tr>\n",
       "    <tr>\n",
       "      <th>L5_TPC:A</th>\n",
       "      <td>0.173538</td>\n",
       "      <td>0.069861</td>\n",
       "      <td>0.103677</td>\n",
       "    </tr>\n",
       "    <tr>\n",
       "      <th>L6_UPC</th>\n",
       "      <td>0.159379</td>\n",
       "      <td>0.062533</td>\n",
       "      <td>0.096846</td>\n",
       "    </tr>\n",
       "  </tbody>\n",
       "</table>\n",
       "</div>"
      ],
      "text/plain": [
       "             total    source    target\n",
       "L1_SBC    0.182573  0.092544  0.090029\n",
       "L23_BC    0.168744  0.095336  0.073408\n",
       "L23_MC    0.217135  0.123129  0.094006\n",
       "L4_TPC    0.098631  0.056597  0.042034\n",
       "L5_TPC:A  0.173538  0.069861  0.103677\n",
       "L6_UPC    0.159379  0.062533  0.096846"
      ]
     },
     "execution_count": 7,
     "metadata": {},
     "output_type": "execute_result"
    }
   ],
   "source": [
    "chart.node_weight"
   ]
  },
  {
   "cell_type": "code",
   "execution_count": 8,
   "metadata": {
    "ExecuteTime": {
     "end_time": "2019-11-29T14:57:10.894883Z",
     "start_time": "2019-11-29T14:57:10.859544Z"
    }
   },
   "outputs": [
    {
     "data": {
      "text/html": [
       "<div>\n",
       "<style scoped>\n",
       "    .dataframe tbody tr th:only-of-type {\n",
       "        vertical-align: middle;\n",
       "    }\n",
       "\n",
       "    .dataframe tbody tr th {\n",
       "        vertical-align: top;\n",
       "    }\n",
       "\n",
       "    .dataframe thead th {\n",
       "        text-align: right;\n",
       "    }\n",
       "</style>\n",
       "<table border=\"1\" class=\"dataframe\">\n",
       "  <thead>\n",
       "    <tr style=\"text-align: right;\">\n",
       "      <th></th>\n",
       "      <th>source</th>\n",
       "      <th>target</th>\n",
       "    </tr>\n",
       "  </thead>\n",
       "  <tbody>\n",
       "    <tr>\n",
       "      <th>L1_SBC</th>\n",
       "      <td>(1.0, 0.2180523898971094)</td>\n",
       "      <td>(0.9, 0.6482302344243623)</td>\n",
       "    </tr>\n",
       "    <tr>\n",
       "      <th>L23_BC</th>\n",
       "      <td>(1.0, 1.3467842425582608)</td>\n",
       "      <td>(0.9, 1.7443779794681715)</td>\n",
       "    </tr>\n",
       "    <tr>\n",
       "      <th>L23_MC</th>\n",
       "      <td>(1.0, 2.46925815019587)</td>\n",
       "      <td>(0.9, 2.9808703179335057)</td>\n",
       "    </tr>\n",
       "    <tr>\n",
       "      <th>L4_TPC</th>\n",
       "      <td>(1.0, 3.597519879447968)</td>\n",
       "      <td>(0.9, 3.829913605535083)</td>\n",
       "    </tr>\n",
       "    <tr>\n",
       "      <th>L5_TPC:A</th>\n",
       "      <td>(1.0, 4.355358817874723)</td>\n",
       "      <td>(0.9, 4.764248081501456)</td>\n",
       "    </tr>\n",
       "    <tr>\n",
       "      <th>L6_UPC</th>\n",
       "      <td>(1.0, 5.417669360689038)</td>\n",
       "      <td>(0.9, 5.793197111992736)</td>\n",
       "    </tr>\n",
       "  </tbody>\n",
       "</table>\n",
       "</div>"
      ],
      "text/plain": [
       "                             source                     target\n",
       "L1_SBC    (1.0, 0.2180523898971094)  (0.9, 0.6482302344243623)\n",
       "L23_BC    (1.0, 1.3467842425582608)  (0.9, 1.7443779794681715)\n",
       "L23_MC      (1.0, 2.46925815019587)  (0.9, 2.9808703179335057)\n",
       "L4_TPC     (1.0, 3.597519879447968)   (0.9, 3.829913605535083)\n",
       "L5_TPC:A   (1.0, 4.355358817874723)   (0.9, 4.764248081501456)\n",
       "L6_UPC     (1.0, 5.417669360689038)   (0.9, 5.793197111992736)"
      ]
     },
     "execution_count": 8,
     "metadata": {},
     "output_type": "execute_result"
    }
   ],
   "source": [
    "chart.node_position"
   ]
  },
  {
   "cell_type": "code",
   "execution_count": 9,
   "metadata": {
    "ExecuteTime": {
     "end_time": "2019-11-29T14:57:10.904444Z",
     "start_time": "2019-11-29T14:57:10.896252Z"
    }
   },
   "outputs": [
    {
     "data": {
      "text/plain": [
       "L1_SBC       (0.1, 0.860355689054506)\n",
       "L23_BC      (0.1, 0.7951874738198218)\n",
       "L23_MC      (0.1, 1.0232243354752708)\n",
       "L4_TPC      (0.1, 0.4647874521742305)\n",
       "L5_TPC:A    (0.1, 0.8177785272534641)\n",
       "L6_UPC      (0.1, 0.7510555026073958)\n",
       "Name: total, dtype: object"
      ]
     },
     "execution_count": 9,
     "metadata": {},
     "output_type": "execute_result"
    }
   ],
   "source": [
    "chart.node_geometry_size.total"
   ]
  },
  {
   "cell_type": "code",
   "execution_count": 10,
   "metadata": {
    "ExecuteTime": {
     "end_time": "2019-11-29T14:57:10.917275Z",
     "start_time": "2019-11-29T14:57:10.905958Z"
    }
   },
   "outputs": [
    {
     "data": {
      "text/plain": [
       "(1.0, 0.2180523898971094)"
      ]
     },
     "execution_count": 10,
     "metadata": {},
     "output_type": "execute_result"
    }
   ],
   "source": [
    "node_one = chart.node_data.iloc[0]\n",
    "node_one.position.source"
   ]
  },
  {
   "cell_type": "code",
   "execution_count": 11,
   "metadata": {
    "ExecuteTime": {
     "end_time": "2019-11-29T14:57:10.927443Z",
     "start_time": "2019-11-29T14:57:10.919107Z"
    }
   },
   "outputs": [
    {
     "data": {
      "text/plain": [
       "PolarPoint(radial=1.0, angular=0.2180523898971094)"
      ]
     },
     "execution_count": 11,
     "metadata": {},
     "output_type": "execute_result"
    }
   ],
   "source": [
    "PolarPoint(\n",
    "    *node_one.position.source)"
   ]
  },
  {
   "cell_type": "code",
   "execution_count": 12,
   "metadata": {
    "ExecuteTime": {
     "end_time": "2019-11-29T14:57:10.939902Z",
     "start_time": "2019-11-29T14:57:10.929287Z"
    }
   },
   "outputs": [
    {
     "data": {
      "text/plain": [
       "<dmt.tk.plotting.charts.network.circle.NodeArcGeometry at 0x7f1b86948b00>"
      ]
     },
     "execution_count": 12,
     "metadata": {},
     "output_type": "execute_result"
    }
   ],
   "source": [
    "chart.get_source_geometry(\"L1_SBC\", chart.node_data.loc[\"L1_SBC\"])"
   ]
  },
  {
   "cell_type": "code",
   "execution_count": 13,
   "metadata": {
    "ExecuteTime": {
     "end_time": "2019-11-29T14:57:10.951150Z",
     "start_time": "2019-11-29T14:57:10.941931Z"
    }
   },
   "outputs": [
    {
     "data": {
      "text/plain": [
       "<dmt.tk.plotting.charts.network.circle.NodeArcGeometry at 0x7f1b86948160>"
      ]
     },
     "execution_count": 13,
     "metadata": {},
     "output_type": "execute_result"
    }
   ],
   "source": [
    "chart.get_target_geometry(\"L1_SBC\", chart.node_data.loc[\"L1_SBC\"])"
   ]
  },
  {
   "cell_type": "code",
   "execution_count": 14,
   "metadata": {
    "ExecuteTime": {
     "end_time": "2019-11-29T14:57:11.774703Z",
     "start_time": "2019-11-29T14:57:10.952666Z"
    },
    "scrolled": false
   },
   "outputs": [
    {
     "data": {
      "text/plain": [
       "<Figure size 864x864 with 0 Axes>"
      ]
     },
     "metadata": {},
     "output_type": "display_data"
    },
    {
     "data": {
      "image/png": "[encoded data removed]",
      "text/plain": [
       "<Figure size 864x864 with 1 Axes>"
      ]
     },
     "metadata": {
      "needs_background": "light"
     },
     "output_type": "display_data"
    }
   ],
   "source": [
    "figure = plt.figure(figsize=(12, 12))\n",
    "axes = figure.add_axes()\n",
    "chart.draw(draw_diagonal=False)"
   ]
  },
  {
   "cell_type": "code",
   "execution_count": 15,
   "metadata": {
    "ExecuteTime": {
     "end_time": "2019-11-29T14:57:11.780399Z",
     "start_time": "2019-11-29T14:57:11.776716Z"
    }
   },
   "outputs": [
    {
     "data": {
      "text/plain": [
       "PolarPoint(radial=1, angular=0)"
      ]
     },
     "execution_count": 15,
     "metadata": {},
     "output_type": "execute_result"
    }
   ],
   "source": [
    "PolarPoint(*PolarPoint(1, 0))"
   ]
  },
  {
   "cell_type": "code",
   "execution_count": 16,
   "metadata": {
    "ExecuteTime": {
     "end_time": "2019-11-29T14:57:11.805231Z",
     "start_time": "2019-11-29T14:57:11.782784Z"
    }
   },
   "outputs": [
    {
     "name": "stdout",
     "output_type": "stream",
     "text": [
      "0.45637761477540123\n"
     ]
    },
    {
     "data": {
      "text/html": [
       "<div>\n",
       "<style scoped>\n",
       "    .dataframe tbody tr th:only-of-type {\n",
       "        vertical-align: middle;\n",
       "    }\n",
       "\n",
       "    .dataframe tbody tr th {\n",
       "        vertical-align: top;\n",
       "    }\n",
       "\n",
       "    .dataframe thead th {\n",
       "        text-align: right;\n",
       "    }\n",
       "</style>\n",
       "<table border=\"1\" class=\"dataframe\">\n",
       "  <thead>\n",
       "    <tr style=\"text-align: right;\">\n",
       "      <th></th>\n",
       "      <th>begin</th>\n",
       "      <th>end</th>\n",
       "    </tr>\n",
       "    <tr>\n",
       "      <th>begin_node</th>\n",
       "      <th></th>\n",
       "      <th></th>\n",
       "    </tr>\n",
       "  </thead>\n",
       "  <tbody>\n",
       "    <tr>\n",
       "      <th>L23_MC</th>\n",
       "      <td>0.098337</td>\n",
       "      <td>0.098337</td>\n",
       "    </tr>\n",
       "    <tr>\n",
       "      <th>L5_TPC:A</th>\n",
       "      <td>0.065097</td>\n",
       "      <td>0.065097</td>\n",
       "    </tr>\n",
       "    <tr>\n",
       "      <th>L6_UPC</th>\n",
       "      <td>0.103151</td>\n",
       "      <td>0.103151</td>\n",
       "    </tr>\n",
       "    <tr>\n",
       "      <th>L23_BC</th>\n",
       "      <td>0.079629</td>\n",
       "      <td>0.079629</td>\n",
       "    </tr>\n",
       "    <tr>\n",
       "      <th>L1_SBC</th>\n",
       "      <td>0.047498</td>\n",
       "      <td>0.047498</td>\n",
       "    </tr>\n",
       "    <tr>\n",
       "      <th>L4_TPC</th>\n",
       "      <td>0.062667</td>\n",
       "      <td>0.062667</td>\n",
       "    </tr>\n",
       "  </tbody>\n",
       "</table>\n",
       "</div>"
      ],
      "text/plain": [
       "               begin       end\n",
       "begin_node                    \n",
       "L23_MC      0.098337  0.098337\n",
       "L5_TPC:A    0.065097  0.065097\n",
       "L6_UPC      0.103151  0.103151\n",
       "L23_BC      0.079629  0.079629\n",
       "L1_SBC      0.047498  0.047498\n",
       "L4_TPC      0.062667  0.062667"
      ]
     },
     "execution_count": 16,
     "metadata": {},
     "output_type": "execute_result"
    }
   ],
   "source": [
    "from collections import OrderedDict\n",
    "flows = list(chart.flow_geometries.values())\n",
    "flow_size = pd.DataFrame(\n",
    "    [\n",
    "        OrderedDict([(\"begin\", flow.size_begin),(\"end\", flow.size_end)])\n",
    "        for flow in chart.flow_geometries.values()\n",
    "    ],\n",
    "    index=pd.MultiIndex.from_tuples(\n",
    "        [flow.label for flow in chart.flow_geometries.values()],\n",
    "        names=[\"begin_node\", \"end_node\"])\n",
    ")\n",
    "print(chart.node_geometry_size.loc[\"L6_UPC\"].target[1])\n",
    "flow_size.xs(\n",
    "    \"L6_UPC\", level=\"end_node\"\n",
    ")"
   ]
  },
  {
   "cell_type": "code",
   "execution_count": 17,
   "metadata": {
    "ExecuteTime": {
     "end_time": "2019-11-29T14:57:11.830940Z",
     "start_time": "2019-11-29T14:57:11.807165Z"
    }
   },
   "outputs": [
    {
     "data": {
      "text/html": [
       "<div>\n",
       "<style scoped>\n",
       "    .dataframe tbody tr th:only-of-type {\n",
       "        vertical-align: middle;\n",
       "    }\n",
       "\n",
       "    .dataframe tbody tr th {\n",
       "        vertical-align: top;\n",
       "    }\n",
       "\n",
       "    .dataframe thead th {\n",
       "        text-align: right;\n",
       "    }\n",
       "</style>\n",
       "<table border=\"1\" class=\"dataframe\">\n",
       "  <thead>\n",
       "    <tr style=\"text-align: right;\">\n",
       "      <th></th>\n",
       "      <th>weight</th>\n",
       "      <th>begin</th>\n",
       "      <th>end</th>\n",
       "    </tr>\n",
       "    <tr>\n",
       "      <th>begin_node</th>\n",
       "      <th></th>\n",
       "      <th></th>\n",
       "      <th></th>\n",
       "    </tr>\n",
       "  </thead>\n",
       "  <tbody>\n",
       "    <tr>\n",
       "      <th>L23_MC</th>\n",
       "      <td>0.041735</td>\n",
       "      <td>0.098337</td>\n",
       "      <td>0.098337</td>\n",
       "    </tr>\n",
       "    <tr>\n",
       "      <th>L5_TPC:A</th>\n",
       "      <td>0.027628</td>\n",
       "      <td>0.065097</td>\n",
       "      <td>0.065097</td>\n",
       "    </tr>\n",
       "    <tr>\n",
       "      <th>L6_UPC</th>\n",
       "      <td>0.043779</td>\n",
       "      <td>0.103151</td>\n",
       "      <td>0.103151</td>\n",
       "    </tr>\n",
       "    <tr>\n",
       "      <th>L23_BC</th>\n",
       "      <td>0.033795</td>\n",
       "      <td>0.079629</td>\n",
       "      <td>0.079629</td>\n",
       "    </tr>\n",
       "    <tr>\n",
       "      <th>L1_SBC</th>\n",
       "      <td>0.020159</td>\n",
       "      <td>0.047498</td>\n",
       "      <td>0.047498</td>\n",
       "    </tr>\n",
       "    <tr>\n",
       "      <th>L4_TPC</th>\n",
       "      <td>0.026597</td>\n",
       "      <td>0.062667</td>\n",
       "      <td>0.062667</td>\n",
       "    </tr>\n",
       "  </tbody>\n",
       "</table>\n",
       "</div>"
      ],
      "text/plain": [
       "              weight     begin       end\n",
       "begin_node                              \n",
       "L23_MC      0.041735  0.098337  0.098337\n",
       "L5_TPC:A    0.027628  0.065097  0.065097\n",
       "L6_UPC      0.043779  0.103151  0.103151\n",
       "L23_BC      0.033795  0.079629  0.079629\n",
       "L1_SBC      0.020159  0.047498  0.047498\n",
       "L4_TPC      0.026597  0.062667  0.062667"
      ]
     },
     "execution_count": 17,
     "metadata": {},
     "output_type": "execute_result"
    }
   ],
   "source": [
    "chart.flow_data.xs(\n",
    "    \"L6_UPC\", level=\"end_node\")"
   ]
  },
  {
   "cell_type": "code",
   "execution_count": 18,
   "metadata": {
    "ExecuteTime": {
     "end_time": "2019-11-29T14:57:11.847803Z",
     "start_time": "2019-11-29T14:57:11.838958Z"
    }
   },
   "outputs": [
    {
     "data": {
      "text/html": [
       "<div>\n",
       "<style scoped>\n",
       "    .dataframe tbody tr th:only-of-type {\n",
       "        vertical-align: middle;\n",
       "    }\n",
       "\n",
       "    .dataframe tbody tr th {\n",
       "        vertical-align: top;\n",
       "    }\n",
       "\n",
       "    .dataframe thead th {\n",
       "        text-align: right;\n",
       "    }\n",
       "</style>\n",
       "<table border=\"1\" class=\"dataframe\">\n",
       "  <thead>\n",
       "    <tr style=\"text-align: right;\">\n",
       "      <th></th>\n",
       "      <th>total</th>\n",
       "      <th>source</th>\n",
       "      <th>target</th>\n",
       "    </tr>\n",
       "  </thead>\n",
       "  <tbody>\n",
       "    <tr>\n",
       "      <th>L1_SBC</th>\n",
       "      <td>0.860356</td>\n",
       "      <td>0.436105</td>\n",
       "      <td>0.424251</td>\n",
       "    </tr>\n",
       "    <tr>\n",
       "      <th>L23_BC</th>\n",
       "      <td>0.795187</td>\n",
       "      <td>0.449258</td>\n",
       "      <td>0.345929</td>\n",
       "    </tr>\n",
       "    <tr>\n",
       "      <th>L23_MC</th>\n",
       "      <td>1.023224</td>\n",
       "      <td>0.580232</td>\n",
       "      <td>0.442992</td>\n",
       "    </tr>\n",
       "    <tr>\n",
       "      <th>L4_TPC</th>\n",
       "      <td>0.464787</td>\n",
       "      <td>0.266708</td>\n",
       "      <td>0.198079</td>\n",
       "    </tr>\n",
       "    <tr>\n",
       "      <th>L5_TPC:A</th>\n",
       "      <td>0.817779</td>\n",
       "      <td>0.329213</td>\n",
       "      <td>0.488566</td>\n",
       "    </tr>\n",
       "    <tr>\n",
       "      <th>L6_UPC</th>\n",
       "      <td>0.751056</td>\n",
       "      <td>0.294678</td>\n",
       "      <td>0.456378</td>\n",
       "    </tr>\n",
       "  </tbody>\n",
       "</table>\n",
       "</div>"
      ],
      "text/plain": [
       "             total    source    target\n",
       "L1_SBC    0.860356  0.436105  0.424251\n",
       "L23_BC    0.795187  0.449258  0.345929\n",
       "L23_MC    1.023224  0.580232  0.442992\n",
       "L4_TPC    0.464787  0.266708  0.198079\n",
       "L5_TPC:A  0.817779  0.329213  0.488566\n",
       "L6_UPC    0.751056  0.294678  0.456378"
      ]
     },
     "execution_count": 18,
     "metadata": {},
     "output_type": "execute_result"
    }
   ],
   "source": [
    "chart.node_angular_size"
   ]
  },
  {
   "cell_type": "code",
   "execution_count": 19,
   "metadata": {
    "ExecuteTime": {
     "end_time": "2019-11-29T14:57:11.874656Z",
     "start_time": "2019-11-29T14:57:11.851724Z"
    }
   },
   "outputs": [
    {
     "data": {
      "text/html": [
       "<div>\n",
       "<style scoped>\n",
       "    .dataframe tbody tr th:only-of-type {\n",
       "        vertical-align: middle;\n",
       "    }\n",
       "\n",
       "    .dataframe tbody tr th {\n",
       "        vertical-align: top;\n",
       "    }\n",
       "\n",
       "    .dataframe thead tr th {\n",
       "        text-align: left;\n",
       "    }\n",
       "</style>\n",
       "<table border=\"1\" class=\"dataframe\">\n",
       "  <thead>\n",
       "    <tr>\n",
       "      <th></th>\n",
       "      <th colspan=\"2\" halign=\"left\">position</th>\n",
       "      <th colspan=\"2\" halign=\"left\">geometry_size</th>\n",
       "    </tr>\n",
       "    <tr>\n",
       "      <th></th>\n",
       "      <th>source</th>\n",
       "      <th>target</th>\n",
       "      <th>source</th>\n",
       "      <th>target</th>\n",
       "    </tr>\n",
       "  </thead>\n",
       "  <tbody>\n",
       "    <tr>\n",
       "      <th>L1_SBC</th>\n",
       "      <td>0.218052</td>\n",
       "      <td>0.648230</td>\n",
       "      <td>0.436105</td>\n",
       "      <td>0.424251</td>\n",
       "    </tr>\n",
       "    <tr>\n",
       "      <th>L23_BC</th>\n",
       "      <td>1.346784</td>\n",
       "      <td>1.744378</td>\n",
       "      <td>0.449258</td>\n",
       "      <td>0.345929</td>\n",
       "    </tr>\n",
       "    <tr>\n",
       "      <th>L23_MC</th>\n",
       "      <td>2.469258</td>\n",
       "      <td>2.980870</td>\n",
       "      <td>0.580232</td>\n",
       "      <td>0.442992</td>\n",
       "    </tr>\n",
       "    <tr>\n",
       "      <th>L4_TPC</th>\n",
       "      <td>3.597520</td>\n",
       "      <td>3.829914</td>\n",
       "      <td>0.266708</td>\n",
       "      <td>0.198079</td>\n",
       "    </tr>\n",
       "    <tr>\n",
       "      <th>L5_TPC:A</th>\n",
       "      <td>4.355359</td>\n",
       "      <td>4.764248</td>\n",
       "      <td>0.329213</td>\n",
       "      <td>0.488566</td>\n",
       "    </tr>\n",
       "    <tr>\n",
       "      <th>L6_UPC</th>\n",
       "      <td>5.417669</td>\n",
       "      <td>5.793197</td>\n",
       "      <td>0.294678</td>\n",
       "      <td>0.456378</td>\n",
       "    </tr>\n",
       "  </tbody>\n",
       "</table>\n",
       "</div>"
      ],
      "text/plain": [
       "          position           geometry_size          \n",
       "            source    target        source    target\n",
       "L1_SBC    0.218052  0.648230      0.436105  0.424251\n",
       "L23_BC    1.346784  1.744378      0.449258  0.345929\n",
       "L23_MC    2.469258  2.980870      0.580232  0.442992\n",
       "L4_TPC    3.597520  3.829914      0.266708  0.198079\n",
       "L5_TPC:A  4.355359  4.764248      0.329213  0.488566\n",
       "L6_UPC    5.417669  5.793197      0.294678  0.456378"
      ]
     },
     "execution_count": 19,
     "metadata": {},
     "output_type": "execute_result"
    }
   ],
   "source": [
    "def _angular_size(dataframe):\n",
    "    return dataframe.apply(\n",
    "        lambda row: pd.Series(dict(\n",
    "            source = row.source[1],\n",
    "            target = row.target[1])),\n",
    "        axis=1\n",
    "    )\n",
    "posize = pd.concat(\n",
    "    [_angular_size(chart.node_position),\n",
    "     _angular_size(chart.node_geometry_size)],\n",
    "    axis=1,\n",
    "    keys=[\"position\", \"geometry_size\"]\n",
    ")\n",
    "posize"
   ]
  },
  {
   "cell_type": "code",
   "execution_count": 20,
   "metadata": {
    "ExecuteTime": {
     "end_time": "2019-11-29T14:57:11.892287Z",
     "start_time": "2019-11-29T14:57:11.875900Z"
    }
   },
   "outputs": [
    {
     "data": {
      "text/html": [
       "<div>\n",
       "<style scoped>\n",
       "    .dataframe tbody tr th:only-of-type {\n",
       "        vertical-align: middle;\n",
       "    }\n",
       "\n",
       "    .dataframe tbody tr th {\n",
       "        vertical-align: top;\n",
       "    }\n",
       "\n",
       "    .dataframe thead th {\n",
       "        text-align: right;\n",
       "    }\n",
       "</style>\n",
       "<table border=\"1\" class=\"dataframe\">\n",
       "  <thead>\n",
       "    <tr style=\"text-align: right;\">\n",
       "      <th></th>\n",
       "      <th></th>\n",
       "      <th>begin</th>\n",
       "      <th>end</th>\n",
       "    </tr>\n",
       "    <tr>\n",
       "      <th>begin_node</th>\n",
       "      <th>end_node</th>\n",
       "      <th></th>\n",
       "      <th></th>\n",
       "    </tr>\n",
       "  </thead>\n",
       "  <tbody>\n",
       "    <tr>\n",
       "      <th rowspan=\"5\" valign=\"top\">L23_MC</th>\n",
       "      <th>L23_MC</th>\n",
       "      <td>0.058813</td>\n",
       "      <td>0.058813</td>\n",
       "    </tr>\n",
       "    <tr>\n",
       "      <th>L5_TPC:A</th>\n",
       "      <td>0.120399</td>\n",
       "      <td>0.120399</td>\n",
       "    </tr>\n",
       "    <tr>\n",
       "      <th>L6_UPC</th>\n",
       "      <td>0.098337</td>\n",
       "      <td>0.098337</td>\n",
       "    </tr>\n",
       "    <tr>\n",
       "      <th>L23_BC</th>\n",
       "      <td>0.099125</td>\n",
       "      <td>0.099125</td>\n",
       "    </tr>\n",
       "    <tr>\n",
       "      <th>L1_SBC</th>\n",
       "      <td>0.101931</td>\n",
       "      <td>0.101931</td>\n",
       "    </tr>\n",
       "  </tbody>\n",
       "</table>\n",
       "</div>"
      ],
      "text/plain": [
       "                        begin       end\n",
       "begin_node end_node                    \n",
       "L23_MC     L23_MC    0.058813  0.058813\n",
       "           L5_TPC:A  0.120399  0.120399\n",
       "           L6_UPC    0.098337  0.098337\n",
       "           L23_BC    0.099125  0.099125\n",
       "           L1_SBC    0.101931  0.101931"
      ]
     },
     "execution_count": 20,
     "metadata": {},
     "output_type": "execute_result"
    }
   ],
   "source": [
    "chart.flow_geometry_size.head()"
   ]
  },
  {
   "cell_type": "code",
   "execution_count": 21,
   "metadata": {
    "ExecuteTime": {
     "end_time": "2019-11-29T14:57:11.900678Z",
     "start_time": "2019-11-29T14:57:11.893943Z"
    }
   },
   "outputs": [
    {
     "data": {
      "text/plain": [
       "<Figure size 864x864 with 0 Axes>"
      ]
     },
     "execution_count": 21,
     "metadata": {},
     "output_type": "execute_result"
    }
   ],
   "source": [
    "figure"
   ]
  },
  {
   "cell_type": "code",
   "execution_count": 22,
   "metadata": {
    "ExecuteTime": {
     "end_time": "2019-11-29T14:57:11.911853Z",
     "start_time": "2019-11-29T14:57:11.901903Z"
    }
   },
   "outputs": [
    {
     "data": {
      "text/plain": [
       "L1_SBC       (0.1, 0.4361047797942188)\n",
       "L23_BC      (0.1, 0.44925833140921123)\n",
       "L23_MC       (0.1, 0.5802324234464862)\n",
       "L4_TPC      (0.1, 0.26670843540184147)\n",
       "L5_TPC:A    (0.1, 0.32921263230859227)\n",
       "L6_UPC       (0.1, 0.2946778878319946)\n",
       "Name: source, dtype: object"
      ]
     },
     "execution_count": 22,
     "metadata": {},
     "output_type": "execute_result"
    }
   ],
   "source": [
    "chart.node_geometry_size.source"
   ]
  },
  {
   "cell_type": "code",
   "execution_count": 23,
   "metadata": {
    "ExecuteTime": {
     "end_time": "2019-11-29T14:57:11.920999Z",
     "start_time": "2019-11-29T14:57:11.913828Z"
    }
   },
   "outputs": [
    {
     "data": {
      "text/plain": [
       "PolarPoint(radial=(0.95, 1.05), angular=(2.1791419384726267, 2.759374361919113))"
      ]
     },
     "execution_count": 23,
     "metadata": {},
     "output_type": "execute_result"
    }
   ],
   "source": [
    "l23_MC = chart.source_geometries[\"L23_MC\"]\n",
    "l23_MC.shape"
   ]
  },
  {
   "cell_type": "code",
   "execution_count": 24,
   "metadata": {
    "ExecuteTime": {
     "end_time": "2019-11-29T14:57:11.934470Z",
     "start_time": "2019-11-29T14:57:11.922588Z"
    }
   },
   "outputs": [
    {
     "data": {
      "text/plain": [
       "(0.1, 0.5802324234464862)"
      ]
     },
     "execution_count": 24,
     "metadata": {},
     "output_type": "execute_result"
    }
   ],
   "source": [
    "chart.node_data.geometry_size.loc[\"L23_MC\"].source"
   ]
  },
  {
   "cell_type": "code",
   "execution_count": 25,
   "metadata": {
    "ExecuteTime": {
     "end_time": "2019-11-29T14:57:11.943973Z",
     "start_time": "2019-11-29T14:57:11.936453Z"
    }
   },
   "outputs": [
    {
     "data": {
      "text/plain": [
       "array([0., 0.])"
      ]
     },
     "execution_count": 25,
     "metadata": {},
     "output_type": "execute_result"
    }
   ],
   "source": [
    "chart.center"
   ]
  },
  {
   "cell_type": "code",
   "execution_count": 26,
   "metadata": {
    "ExecuteTime": {
     "end_time": "2019-11-29T14:57:11.952146Z",
     "start_time": "2019-11-29T14:57:11.945414Z"
    }
   },
   "outputs": [],
   "source": [
    "l23mc =  chart.source_geometries[\"L23_MC\"]"
   ]
  },
  {
   "cell_type": "code",
   "execution_count": 27,
   "metadata": {
    "ExecuteTime": {
     "end_time": "2019-11-29T14:57:11.961710Z",
     "start_time": "2019-11-29T14:57:11.953527Z"
    }
   },
   "outputs": [
    {
     "data": {
      "text/plain": [
       "(0.95, 1.05)"
      ]
     },
     "execution_count": 27,
     "metadata": {},
     "output_type": "execute_result"
    }
   ],
   "source": [
    "l23mc.shape.radial"
   ]
  },
  {
   "cell_type": "code",
   "execution_count": 28,
   "metadata": {
    "ExecuteTime": {
     "end_time": "2019-11-29T14:57:11.973158Z",
     "start_time": "2019-11-29T14:57:11.963113Z"
    }
   },
   "outputs": [
    {
     "data": {
      "text/plain": [
       "(2.1791419384726267, 2.759374361919113)"
      ]
     },
     "execution_count": 28,
     "metadata": {},
     "output_type": "execute_result"
    }
   ],
   "source": [
    "l23mc.shape.angular"
   ]
  },
  {
   "cell_type": "code",
   "execution_count": 29,
   "metadata": {
    "ExecuteTime": {
     "end_time": "2019-11-29T14:57:11.983197Z",
     "start_time": "2019-11-29T14:57:11.975075Z"
    }
   },
   "outputs": [
    {
     "data": {
      "text/plain": [
       "PolarPoint(radial=(0.95, 1.05), angular=(2.1791419384726267, 2.759374361919113))"
      ]
     },
     "execution_count": 29,
     "metadata": {},
     "output_type": "execute_result"
    }
   ],
   "source": [
    "chart.get_source_geometry(\n",
    "    \"L23_MC\",\n",
    "    chart.node_data.loc[\"L23_MC\"]\n",
    ").shape"
   ]
  },
  {
   "cell_type": "code",
   "execution_count": 30,
   "metadata": {
    "ExecuteTime": {
     "end_time": "2019-11-29T14:57:11.997417Z",
     "start_time": "2019-11-29T14:57:11.984915Z"
    }
   },
   "outputs": [
    {
     "data": {
      "text/plain": [
       "position       source        (1.0, 2.46925815019587)\n",
       "               target      (0.9, 2.9808703179335057)\n",
       "geometry_size  total       (0.1, 1.0232243354752708)\n",
       "               source      (0.1, 0.5802324234464862)\n",
       "               target      (0.1, 0.4429919120287847)\n",
       "weight         total                        0.217135\n",
       "               source                       0.123129\n",
       "               target                      0.0940058\n",
       "flow           outgoing                      4.53233\n",
       "               incoming                      3.46031\n",
       "               total                         7.99264\n",
       "Name: L23_MC, dtype: object"
      ]
     },
     "execution_count": 30,
     "metadata": {},
     "output_type": "execute_result"
    }
   ],
   "source": [
    "chart.node_data.loc[\"L23_MC\"]"
   ]
  },
  {
   "cell_type": "code",
   "execution_count": 31,
   "metadata": {
    "ExecuteTime": {
     "end_time": "2019-11-29T14:57:12.010552Z",
     "start_time": "2019-11-29T14:57:11.999331Z"
    }
   },
   "outputs": [
    {
     "data": {
      "text/plain": [
       "PolarPoint(radial=1.0, angular=2.46925815019587)"
      ]
     },
     "execution_count": 31,
     "metadata": {},
     "output_type": "execute_result"
    }
   ],
   "source": [
    "PolarPoint(*chart.node_data.loc[\"L23_MC\"].position.source)"
   ]
  },
  {
   "cell_type": "code",
   "execution_count": 32,
   "metadata": {
    "ExecuteTime": {
     "end_time": "2019-11-29T14:57:12.035974Z",
     "start_time": "2019-11-29T14:57:12.012050Z"
    }
   },
   "outputs": [
    {
     "data": {
      "text/html": [
       "<div>\n",
       "<style scoped>\n",
       "    .dataframe tbody tr th:only-of-type {\n",
       "        vertical-align: middle;\n",
       "    }\n",
       "\n",
       "    .dataframe tbody tr th {\n",
       "        vertical-align: top;\n",
       "    }\n",
       "\n",
       "    .dataframe thead th {\n",
       "        text-align: right;\n",
       "    }\n",
       "</style>\n",
       "<table border=\"1\" class=\"dataframe\">\n",
       "  <thead>\n",
       "    <tr style=\"text-align: right;\">\n",
       "      <th></th>\n",
       "      <th>total</th>\n",
       "      <th>source</th>\n",
       "      <th>target</th>\n",
       "    </tr>\n",
       "  </thead>\n",
       "  <tbody>\n",
       "    <tr>\n",
       "      <th>L1_SBC</th>\n",
       "      <td>(0.1, 0.860355689054506)</td>\n",
       "      <td>(0.1, 0.4361047797942188)</td>\n",
       "      <td>(0.1, 0.42425090926028713)</td>\n",
       "    </tr>\n",
       "    <tr>\n",
       "      <th>L23_BC</th>\n",
       "      <td>(0.1, 0.7951874738198218)</td>\n",
       "      <td>(0.1, 0.44925833140921123)</td>\n",
       "      <td>(0.1, 0.34592914241061046)</td>\n",
       "    </tr>\n",
       "    <tr>\n",
       "      <th>L23_MC</th>\n",
       "      <td>(0.1, 1.0232243354752708)</td>\n",
       "      <td>(0.1, 0.5802324234464862)</td>\n",
       "      <td>(0.1, 0.4429919120287847)</td>\n",
       "    </tr>\n",
       "    <tr>\n",
       "      <th>L4_TPC</th>\n",
       "      <td>(0.1, 0.4647874521742305)</td>\n",
       "      <td>(0.1, 0.26670843540184147)</td>\n",
       "      <td>(0.1, 0.19807901677238907)</td>\n",
       "    </tr>\n",
       "    <tr>\n",
       "      <th>L5_TPC:A</th>\n",
       "      <td>(0.1, 0.8177785272534641)</td>\n",
       "      <td>(0.1, 0.32921263230859227)</td>\n",
       "      <td>(0.1, 0.48856589494487196)</td>\n",
       "    </tr>\n",
       "    <tr>\n",
       "      <th>L6_UPC</th>\n",
       "      <td>(0.1, 0.7510555026073958)</td>\n",
       "      <td>(0.1, 0.2946778878319946)</td>\n",
       "      <td>(0.1, 0.45637761477540123)</td>\n",
       "    </tr>\n",
       "  </tbody>\n",
       "</table>\n",
       "</div>"
      ],
      "text/plain": [
       "                              total                      source  \\\n",
       "L1_SBC     (0.1, 0.860355689054506)   (0.1, 0.4361047797942188)   \n",
       "L23_BC    (0.1, 0.7951874738198218)  (0.1, 0.44925833140921123)   \n",
       "L23_MC    (0.1, 1.0232243354752708)   (0.1, 0.5802324234464862)   \n",
       "L4_TPC    (0.1, 0.4647874521742305)  (0.1, 0.26670843540184147)   \n",
       "L5_TPC:A  (0.1, 0.8177785272534641)  (0.1, 0.32921263230859227)   \n",
       "L6_UPC    (0.1, 0.7510555026073958)   (0.1, 0.2946778878319946)   \n",
       "\n",
       "                              target  \n",
       "L1_SBC    (0.1, 0.42425090926028713)  \n",
       "L23_BC    (0.1, 0.34592914241061046)  \n",
       "L23_MC     (0.1, 0.4429919120287847)  \n",
       "L4_TPC    (0.1, 0.19807901677238907)  \n",
       "L5_TPC:A  (0.1, 0.48856589494487196)  \n",
       "L6_UPC    (0.1, 0.45637761477540123)  "
      ]
     },
     "execution_count": 32,
     "metadata": {},
     "output_type": "execute_result"
    }
   ],
   "source": [
    "chart.node_geometry_size"
   ]
  },
  {
   "cell_type": "code",
   "execution_count": 33,
   "metadata": {
    "ExecuteTime": {
     "end_time": "2019-11-29T14:57:12.053642Z",
     "start_time": "2019-11-29T14:57:12.038530Z"
    }
   },
   "outputs": [
    {
     "data": {
      "text/html": [
       "<div>\n",
       "<style scoped>\n",
       "    .dataframe tbody tr th:only-of-type {\n",
       "        vertical-align: middle;\n",
       "    }\n",
       "\n",
       "    .dataframe tbody tr th {\n",
       "        vertical-align: top;\n",
       "    }\n",
       "\n",
       "    .dataframe thead th {\n",
       "        text-align: right;\n",
       "    }\n",
       "</style>\n",
       "<table border=\"1\" class=\"dataframe\">\n",
       "  <thead>\n",
       "    <tr style=\"text-align: right;\">\n",
       "      <th></th>\n",
       "      <th>total</th>\n",
       "      <th>source</th>\n",
       "      <th>target</th>\n",
       "    </tr>\n",
       "  </thead>\n",
       "  <tbody>\n",
       "    <tr>\n",
       "      <th>L1_SBC</th>\n",
       "      <td>0.860356</td>\n",
       "      <td>0.436105</td>\n",
       "      <td>0.424251</td>\n",
       "    </tr>\n",
       "    <tr>\n",
       "      <th>L23_BC</th>\n",
       "      <td>0.795187</td>\n",
       "      <td>0.449258</td>\n",
       "      <td>0.345929</td>\n",
       "    </tr>\n",
       "    <tr>\n",
       "      <th>L23_MC</th>\n",
       "      <td>1.023224</td>\n",
       "      <td>0.580232</td>\n",
       "      <td>0.442992</td>\n",
       "    </tr>\n",
       "    <tr>\n",
       "      <th>L4_TPC</th>\n",
       "      <td>0.464787</td>\n",
       "      <td>0.266708</td>\n",
       "      <td>0.198079</td>\n",
       "    </tr>\n",
       "    <tr>\n",
       "      <th>L5_TPC:A</th>\n",
       "      <td>0.817779</td>\n",
       "      <td>0.329213</td>\n",
       "      <td>0.488566</td>\n",
       "    </tr>\n",
       "    <tr>\n",
       "      <th>L6_UPC</th>\n",
       "      <td>0.751056</td>\n",
       "      <td>0.294678</td>\n",
       "      <td>0.456378</td>\n",
       "    </tr>\n",
       "  </tbody>\n",
       "</table>\n",
       "</div>"
      ],
      "text/plain": [
       "             total    source    target\n",
       "L1_SBC    0.860356  0.436105  0.424251\n",
       "L23_BC    0.795187  0.449258  0.345929\n",
       "L23_MC    1.023224  0.580232  0.442992\n",
       "L4_TPC    0.464787  0.266708  0.198079\n",
       "L5_TPC:A  0.817779  0.329213  0.488566\n",
       "L6_UPC    0.751056  0.294678  0.456378"
      ]
     },
     "execution_count": 33,
     "metadata": {},
     "output_type": "execute_result"
    }
   ],
   "source": [
    "chart.node_geometry_size.apply(\n",
    "    lambda s: pd.Series(dict(total=s.total[1], source=s.source[1], target=s.target[1])),\n",
    "    axis=1)"
   ]
  },
  {
   "cell_type": "code",
   "execution_count": 34,
   "metadata": {
    "ExecuteTime": {
     "end_time": "2019-11-29T14:57:12.072713Z",
     "start_time": "2019-11-29T14:57:12.055113Z"
    }
   },
   "outputs": [
    {
     "data": {
      "text/html": [
       "<div>\n",
       "<style scoped>\n",
       "    .dataframe tbody tr th:only-of-type {\n",
       "        vertical-align: middle;\n",
       "    }\n",
       "\n",
       "    .dataframe tbody tr th {\n",
       "        vertical-align: top;\n",
       "    }\n",
       "\n",
       "    .dataframe thead th {\n",
       "        text-align: right;\n",
       "    }\n",
       "</style>\n",
       "<table border=\"1\" class=\"dataframe\">\n",
       "  <thead>\n",
       "    <tr style=\"text-align: right;\">\n",
       "      <th></th>\n",
       "      <th>source</th>\n",
       "      <th>target</th>\n",
       "    </tr>\n",
       "  </thead>\n",
       "  <tbody>\n",
       "    <tr>\n",
       "      <th>L1_SBC</th>\n",
       "      <td>(1.0, 0.2180523898971094)</td>\n",
       "      <td>(0.9, 0.6482302344243623)</td>\n",
       "    </tr>\n",
       "    <tr>\n",
       "      <th>L23_BC</th>\n",
       "      <td>(1.0, 1.3467842425582608)</td>\n",
       "      <td>(0.9, 1.7443779794681715)</td>\n",
       "    </tr>\n",
       "    <tr>\n",
       "      <th>L23_MC</th>\n",
       "      <td>(1.0, 2.46925815019587)</td>\n",
       "      <td>(0.9, 2.9808703179335057)</td>\n",
       "    </tr>\n",
       "    <tr>\n",
       "      <th>L4_TPC</th>\n",
       "      <td>(1.0, 3.597519879447968)</td>\n",
       "      <td>(0.9, 3.829913605535083)</td>\n",
       "    </tr>\n",
       "    <tr>\n",
       "      <th>L5_TPC:A</th>\n",
       "      <td>(1.0, 4.355358817874723)</td>\n",
       "      <td>(0.9, 4.764248081501456)</td>\n",
       "    </tr>\n",
       "    <tr>\n",
       "      <th>L6_UPC</th>\n",
       "      <td>(1.0, 5.417669360689038)</td>\n",
       "      <td>(0.9, 5.793197111992736)</td>\n",
       "    </tr>\n",
       "  </tbody>\n",
       "</table>\n",
       "</div>"
      ],
      "text/plain": [
       "                             source                     target\n",
       "L1_SBC    (1.0, 0.2180523898971094)  (0.9, 0.6482302344243623)\n",
       "L23_BC    (1.0, 1.3467842425582608)  (0.9, 1.7443779794681715)\n",
       "L23_MC      (1.0, 2.46925815019587)  (0.9, 2.9808703179335057)\n",
       "L4_TPC     (1.0, 3.597519879447968)   (0.9, 3.829913605535083)\n",
       "L5_TPC:A   (1.0, 4.355358817874723)   (0.9, 4.764248081501456)\n",
       "L6_UPC     (1.0, 5.417669360689038)   (0.9, 5.793197111992736)"
      ]
     },
     "execution_count": 34,
     "metadata": {},
     "output_type": "execute_result"
    }
   ],
   "source": [
    "chart.node_position"
   ]
  },
  {
   "cell_type": "code",
   "execution_count": 35,
   "metadata": {
    "ExecuteTime": {
     "end_time": "2019-11-29T14:57:12.097276Z",
     "start_time": "2019-11-29T14:57:12.075065Z"
    }
   },
   "outputs": [],
   "source": [
    " number_nodes = chart.node_weight.shape[0]\n",
    " spacing = 2. * np.pi * chart.spacing_factor / number_nodes\n",
    "\n",
    " def _positions_angular():\n",
    "     position_end = - spacing\n",
    "     for size in chart.node_geometry_size.total.values:\n",
    "         position_start = position_end + spacing\n",
    "         position_end = position_start + size[1]\n",
    "         yield (position_start + position_end) / 2.\n",
    "\n",
    "positions_angular = pd.Series(\n",
    "    list(_positions_angular()),\n",
    "        index=chart.node_geometry_size.index,\n",
    "        name=\"angular\"\n",
    ")\n",
    "node_geometry_size_angular = chart.node_geometry_size.apply(\n",
    "    lambda node_size: pd.Series(dict(\n",
    "        total=node_size.total[1],\n",
    "        source=node_size.source[1],\n",
    "        target=node_size.target[1])),\n",
    "        axis=1\n",
    ")\n",
    "starts_source = (\n",
    "    positions_angular - node_geometry_size_angular.total[1] / 2.\n",
    ").rename(\n",
    "    \"start_source\"\n",
    ")\n",
    "positions_angular_source = (\n",
    "    starts_source + node_geometry_size_angular.source[1] / 2.\n",
    ").rename(\n",
    "    \"angular\"\n",
    ")\n",
    "positions_source = positions_angular_source.apply(\n",
    "    lambda position_angular: (chart.outer_circle.radius, position_angular)\n",
    ")\n",
    "starts_target = (\n",
    "    positions_angular_source + node_geometry_size_angular.source[1] / 2.\n",
    ").rename(\n",
    "    \"start_target\"\n",
    ")\n",
    "positions_angular_target = (\n",
    "    starts_target + node_geometry_size_angular.target[1] / 2.\n",
    ").rename(\n",
    "    \"angular\"\n",
    ")\n",
    "positions_target = positions_angular_target.apply(\n",
    "    lambda position_angular: (\n",
    "        chart.inner_circle.radius, position_angular)\n",
    ")"
   ]
  },
  {
   "cell_type": "code",
   "execution_count": 36,
   "metadata": {
    "ExecuteTime": {
     "end_time": "2019-11-29T14:57:12.109616Z",
     "start_time": "2019-11-29T14:57:12.098720Z"
    }
   },
   "outputs": [
    {
     "data": {
      "text/plain": [
       "L1_SBC      (0.9, 0.6548070102318586)\n",
       "L23_BC      (0.9, 1.7443779794681715)\n",
       "L23_MC       (0.9, 2.915383271914868)\n",
       "L4_TPC      (0.9, 3.9211885535387685)\n",
       "L5_TPC:A     (0.9, 4.824270931051766)\n",
       "L6_UPC      (0.9, 5.8704873337813455)\n",
       "Name: angular, dtype: object"
      ]
     },
     "execution_count": 36,
     "metadata": {},
     "output_type": "execute_result"
    }
   ],
   "source": [
    "positions_target"
   ]
  },
  {
   "cell_type": "code",
   "execution_count": null,
   "metadata": {},
   "outputs": [],
   "source": []
  }
 ],
 "metadata": {
  "kernelspec": {
   "display_name": "Python 3",
   "language": "python",
   "name": "python3"
  },
  "language_info": {
   "codemirror_mode": {
    "name": "ipython",
    "version": 3
   },
   "file_extension": ".py",
   "mimetype": "text/x-python",
   "name": "python",
   "nbconvert_exporter": "python",
   "pygments_lexer": "ipython3",
   "version": "3.6.8"
  },
  "latex_envs": {
   "LaTeX_envs_menu_present": true,
   "autoclose": false,
   "autocomplete": true,
   "bibliofile": "biblio.bib",
   "cite_by": "apalike",
   "current_citInitial": 1,
   "eqLabelWithNumbers": true,
   "eqNumInitial": 1,
   "hotkeys": {
    "equation": "Ctrl-E",
    "itemize": "Ctrl-I"
   },
   "labels_anchors": false,
   "latex_user_defs": false,
   "report_style_numbering": false,
   "user_envs_cfg": false
  },
  "toc": {
   "base_numbering": 1,
   "nav_menu": {},
   "number_sections": true,
   "sideBar": true,
   "skip_h1_title": false,
   "title_cell": "Table of Contents",
   "title_sidebar": "Contents",
   "toc_cell": false,
   "toc_position": {},
   "toc_section_display": true,
   "toc_window_display": false
  },
  "varInspector": {
   "cols": {
    "lenName": 16,
    "lenType": 16,
    "lenVar": 40
   },
   "kernels_config": {
    "python": {
     "delete_cmd_postfix": "",
     "delete_cmd_prefix": "del ",
     "library": "var_list.py",
     "varRefreshCmd": "print(var_dic_list())"
    },
    "r": {
     "delete_cmd_postfix": ") ",
     "delete_cmd_prefix": "rm(",
     "library": "var_list.r",
     "varRefreshCmd": "cat(var_dic_list()) "
    }
   },
   "types_to_exclude": [
    "module",
    "function",
    "builtin_function_or_method",
    "instance",
    "_Feature"
   ],
   "window_display": false
  }
 },
 "nbformat": 4,
 "nbformat_minor": 2
}
