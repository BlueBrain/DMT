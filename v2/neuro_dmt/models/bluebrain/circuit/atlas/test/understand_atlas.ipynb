{
 "cells": [
  {
   "cell_type": "markdown",
   "metadata": {},
   "source": [
    "# Document  Atlas.\n",
    "\n",
    "We have an atlas circuit that provides atlas tools in the context of a circuit. \n",
    "In this notebook we look at how to use these tools.\n",
    "We work with the latest set of circuits developed for /SSCx Dissemination/."
   ]
  },
  {
   "cell_type": "code",
   "execution_count": 1,
   "metadata": {
    "ExecuteTime": {
     "end_time": "2019-11-21T12:06:05.848855Z",
     "start_time": "2019-11-21T12:06:05.123173Z"
    },
    "code_folding": [
     7
    ]
   },
   "outputs": [
    {
     "name": "stdout",
     "output_type": "stream",
     "text": [
      "('region', 'layer', 'depth', 'height', 'mesocolumn', 'hypercolumn', 'mtype', 'etype', 'synapse_class', 'postsynaptic', 'presynaptic')\n",
      "('region', 'layer', 'depth', 'height', 'mesocolumn', 'hypercolumn', 'mtype', 'etype', 'synapse_class', 'postsynaptic', 'presynaptic')\n",
      "('region', 'layer', 'depth', 'height', 'mesocolumn', 'hypercolumn', 'mtype', 'etype', 'synapse_class', 'postsynaptic', 'presynaptic')\n",
      "('region', 'layer', 'depth', 'height', 'mtype', 'etype', 'synapse_class')\n",
      "('region', 'layer', 'depth', 'height', 'mtype', 'etype', 'synapse_class')\n"
     ]
    }
   ],
   "source": [
    "import numpy as np\n",
    "import pandas as pd\n",
    "import seaborn\n",
    "from pathlib import Path\n",
    "from neuro_dmt.models.bluebrain.circuit.atlas import BlueBrainCircuitAtlas\n",
    "from neuro_dmt.models.bluebrain.circuit.model import BlueBrainCircuitModel\n",
    "\n",
    "project =\\\n",
    "    Path(\"/gpfs/bbp.cscs.ch/project\")\n",
    "proj83 =\\\n",
    "    project.joinpath(\"proj83\")\n",
    "proj64 =\\\n",
    "    project.joinpath(\"proj64\")\n",
    "path_atlases_sscx_dissemination =\\\n",
    "    proj64.joinpath(\n",
    "        \"dissemination\",\n",
    "        \"data/atlas/S1/MEAN/juvenile_L23_MC_BTC_shifted_down_L1_ALL_INH\")\n",
    "circuit_atlas =\\\n",
    "    BlueBrainCircuitAtlas(\n",
    "        path=path_atlases_sscx_dissemination.joinpath(\"Bio_0\", ).as_posix())\n",
    "circuit_model =\\\n",
    "    BlueBrainCircuitModel(\n",
    "        path_circuit_data=proj83.joinpath(\"circuits\", \"Bio_0\", \"20191115\"))"
   ]
  },
  {
   "cell_type": "markdown",
   "metadata": {},
   "source": [
    "Let us count the number of voxcells in each region."
   ]
  },
  {
   "cell_type": "code",
   "execution_count": 11,
   "metadata": {
    "ExecuteTime": {
     "end_time": "2019-11-20T14:43:18.363562Z",
     "start_time": "2019-11-20T14:42:03.151558Z"
    },
    "code_folding": [
     0,
     17
    ]
   },
   "outputs": [],
   "source": [
    "number_voxels = pd.concat(\n",
    "    pd.Series(\n",
    "        [\"L1\", \"L2\", \"L3\", \"L4\", \"L5\", \"L6\"],\n",
    "        name=\"layer\"\n",
    "    ).apply(\n",
    "        lambda layer: pd.Series(\n",
    "            [\"SSp-ll\", \"SSp-ul\", \"SSp-sh\", \"SSp-tr\"],\n",
    "            name=\"region\"\n",
    "        ).apply(\n",
    "            lambda region: pd.Series({\n",
    "                \"region\": region,\n",
    "                \"layer\": layer,\n",
    "                 \"number_voxels\": circuit_atlas.get_mask(\n",
    "                     region=region, layer=layer\n",
    "                 ).sum()})\n",
    "        )\n",
    "    ).values\n",
    ").set_index(\n",
    "    [\"region\", \"layer\"])"
   ]
  },
  {
   "cell_type": "markdown",
   "metadata": {},
   "source": [
    "Lets count the number of cells in each voxcell"
   ]
  },
  {
   "cell_type": "code",
   "execution_count": 14,
   "metadata": {
    "ExecuteTime": {
     "end_time": "2019-11-20T14:54:18.429845Z",
     "start_time": "2019-11-20T14:45:42.599995Z"
    }
   },
   "outputs": [
    {
     "data": {
      "text/html": [
       "<div>\n",
       "<style scoped>\n",
       "    .dataframe tbody tr th:only-of-type {\n",
       "        vertical-align: middle;\n",
       "    }\n",
       "\n",
       "    .dataframe tbody tr th {\n",
       "        vertical-align: top;\n",
       "    }\n",
       "\n",
       "    .dataframe thead th {\n",
       "        text-align: right;\n",
       "    }\n",
       "</style>\n",
       "<table border=\"1\" class=\"dataframe\">\n",
       "  <thead>\n",
       "    <tr style=\"text-align: right;\">\n",
       "      <th></th>\n",
       "      <th>x</th>\n",
       "      <th>y</th>\n",
       "      <th>z</th>\n",
       "    </tr>\n",
       "  </thead>\n",
       "  <tbody>\n",
       "    <tr>\n",
       "      <th>83498</th>\n",
       "      <td>2785.999734</td>\n",
       "      <td>1636.705404</td>\n",
       "      <td>-922.007429</td>\n",
       "    </tr>\n",
       "    <tr>\n",
       "      <th>956677</th>\n",
       "      <td>2341.905100</td>\n",
       "      <td>114.596052</td>\n",
       "      <td>-1229.565068</td>\n",
       "    </tr>\n",
       "    <tr>\n",
       "      <th>1450424</th>\n",
       "      <td>1985.188901</td>\n",
       "      <td>1032.774044</td>\n",
       "      <td>-1331.601749</td>\n",
       "    </tr>\n",
       "    <tr>\n",
       "      <th>485772</th>\n",
       "      <td>3156.349334</td>\n",
       "      <td>-1717.256262</td>\n",
       "      <td>-3005.883054</td>\n",
       "    </tr>\n",
       "    <tr>\n",
       "      <th>16691</th>\n",
       "      <td>4128.685146</td>\n",
       "      <td>-1285.643973</td>\n",
       "      <td>-1908.327475</td>\n",
       "    </tr>\n",
       "  </tbody>\n",
       "</table>\n",
       "</div>"
      ],
      "text/plain": [
       "                   x            y            z\n",
       "83498    2785.999734  1636.705404  -922.007429\n",
       "956677   2341.905100   114.596052 -1229.565068\n",
       "1450424  1985.188901  1032.774044 -1331.601749\n",
       "485772   3156.349334 -1717.256262 -3005.883054\n",
       "16691    4128.685146 -1285.643973 -1908.327475"
      ]
     },
     "execution_count": 14,
     "metadata": {},
     "output_type": "execute_result"
    }
   ],
   "source": [
    "XYZ = [\"x\", \"y\", \"z\"]\n",
    "some_cells = circuit_model.cells.sample(n=5)\n",
    "some_cells[XYZ]"
   ]
  },
  {
   "cell_type": "code",
   "execution_count": 17,
   "metadata": {
    "ExecuteTime": {
     "end_time": "2019-11-20T14:57:26.754687Z",
     "start_time": "2019-11-20T14:57:26.748114Z"
    },
    "code_folding": [
     0
    ]
   },
   "outputs": [
    {
     "data": {
      "text/plain": [
       "array([[281, 246,  20],\n",
       "       [270, 207,  28],\n",
       "       [261, 231,  30],\n",
       "       [291, 160,  73],\n",
       "       [316, 171,  45]])"
      ]
     },
     "execution_count": 17,
     "metadata": {},
     "output_type": "execute_result"
    }
   ],
   "source": [
    "circuit_atlas.voxel_data.positions_to_indices(\n",
    "    some_cells[XYZ].values)"
   ]
  },
  {
   "cell_type": "code",
   "execution_count": 128,
   "metadata": {
    "ExecuteTime": {
     "end_time": "2019-11-20T15:39:59.645914Z",
     "start_time": "2019-11-20T15:39:59.401459Z"
    },
    "code_folding": []
   },
   "outputs": [],
   "source": [
    "voxel_cell_count_array =\\\n",
    "    np.zeros(shape=circuit_atlas.voxel_data.shape)\n",
    "\n",
    "assert voxel_cell_count_array.shape == circuit_atlas.voxel_data.shape\n",
    "assert voxel_cell_count_array.sum() == 0"
   ]
  },
  {
   "cell_type": "code",
   "execution_count": 48,
   "metadata": {
    "ExecuteTime": {
     "end_time": "2019-11-20T15:10:41.592806Z",
     "start_time": "2019-11-20T15:10:41.580425Z"
    },
    "code_folding": [
     0
    ]
   },
   "outputs": [
    {
     "data": {
      "text/plain": [
       "array([1127, 1128, 1129, 1124, 1121], dtype=uint16)"
      ]
     },
     "execution_count": 48,
     "metadata": {},
     "output_type": "execute_result"
    }
   ],
   "source": [
    "some_indexes =\\\n",
    "    circuit_atlas.voxel_data.positions_to_indices(some_cells[XYZ].values)\n",
    "circuit_atlas.voxel_data._lookup_by_indices(some_indexes)"
   ]
  },
  {
   "cell_type": "code",
   "execution_count": 49,
   "metadata": {
    "ExecuteTime": {
     "end_time": "2019-11-20T15:10:47.208342Z",
     "start_time": "2019-11-20T15:10:47.201957Z"
    }
   },
   "outputs": [
    {
     "data": {
      "text/plain": [
       "(array([281, 270, 261, 291, 316]),\n",
       " array([246, 207, 231, 160, 171]),\n",
       " array([20, 28, 30, 73, 45]))"
      ]
     },
     "execution_count": 49,
     "metadata": {},
     "output_type": "execute_result"
    }
   ],
   "source": [
    "tuple(some_indexes.transpose())"
   ]
  },
  {
   "cell_type": "code",
   "execution_count": 100,
   "metadata": {
    "ExecuteTime": {
     "end_time": "2019-11-20T15:31:45.566168Z",
     "start_time": "2019-11-20T15:31:45.560746Z"
    }
   },
   "outputs": [
    {
     "data": {
      "text/plain": [
       "array([0., 0., 0., 0., 0.])"
      ]
     },
     "execution_count": 100,
     "metadata": {},
     "output_type": "execute_result"
    }
   ],
   "source": [
    "voxel_cell_count_array[tuple(some_indexes.transpose())]"
   ]
  },
  {
   "cell_type": "code",
   "execution_count": 101,
   "metadata": {
    "ExecuteTime": {
     "end_time": "2019-11-20T15:31:51.620521Z",
     "start_time": "2019-11-20T15:31:51.613306Z"
    }
   },
   "outputs": [
    {
     "data": {
      "text/plain": [
       "array([0., 0.])"
      ]
     },
     "execution_count": 101,
     "metadata": {},
     "output_type": "execute_result"
    }
   ],
   "source": [
    "some_indexes = np.array([[281, 246, 20], [281, 246, 20]])\n",
    "voxel_cell_count_array[tuple(some_indexes.transpose())]"
   ]
  },
  {
   "cell_type": "code",
   "execution_count": 40,
   "metadata": {
    "ExecuteTime": {
     "end_time": "2019-11-20T15:07:00.117427Z",
     "start_time": "2019-11-20T15:07:00.110194Z"
    }
   },
   "outputs": [
    {
     "data": {
      "text/plain": [
       "array([3., 3.])"
      ]
     },
     "execution_count": 40,
     "metadata": {},
     "output_type": "execute_result"
    }
   ],
   "source": [
    "voxel_cell_counts[tuple(some_indexes.transpose())] += 1\n",
    "voxel_cell_counts[tuple(some_indexes.transpose())]"
   ]
  },
  {
   "cell_type": "code",
   "execution_count": 43,
   "metadata": {
    "ExecuteTime": {
     "end_time": "2019-11-20T15:08:17.718861Z",
     "start_time": "2019-11-20T15:08:17.708167Z"
    }
   },
   "outputs": [
    {
     "data": {
      "text/plain": [
       "83498      (2785.999734407211, 1636.7054040165385, -922.0...\n",
       "956677     (2341.905100483127, 114.59605157158876, -1229....\n",
       "1450424    (1985.188900932426, 1032.7740440262587, -1331....\n",
       "485772     (3156.3493338274857, -1717.2562620786512, -300...\n",
       "16691      (4128.685145704474, -1285.6439733212856, -1908...\n",
       "dtype: object"
      ]
     },
     "execution_count": 43,
     "metadata": {},
     "output_type": "execute_result"
    }
   ],
   "source": [
    "some_cells[XYZ].apply(\n",
    "    lambda row: (row.x, row.y, row.z),\n",
    "    axis=1)"
   ]
  },
  {
   "cell_type": "code",
   "execution_count": 81,
   "metadata": {
    "ExecuteTime": {
     "end_time": "2019-11-20T17:43:31.201976Z",
     "start_time": "2019-11-20T17:43:28.777264Z"
    },
    "code_folding": [
     1,
     3
    ]
   },
   "outputs": [],
   "source": [
    "XYZ = [\"x\", \"y\", \"z\"]\n",
    "sample_cells =\\\n",
    "    circuit_model.cells#.sample(n=10)\n",
    "voxel_indexed_cells =\\\n",
    "    pd.DataFrame(\n",
    "    sample_cells.index.values,\n",
    "    columns=[\"gid\"],\n",
    "    index=pd.Series(\n",
    "        list(\n",
    "            circuit_atlas.voxel_data.positions_to_indices(\n",
    "                sample_cells[XYZ].values)\n",
    "        )\n",
    "    ).apply(\n",
    "        tuple\n",
    "    ).values\n",
    ")\n"
   ]
  },
  {
   "cell_type": "markdown",
   "metadata": {},
   "source": [
    "We have implemented a method in `BlueBrainCircuitModel` that indexes cell gids \n",
    "by there voxel indices in the associated atlas:"
   ]
  },
  {
   "cell_type": "code",
   "execution_count": 6,
   "metadata": {
    "ExecuteTime": {
     "end_time": "2019-11-21T12:08:26.864701Z",
     "start_time": "2019-11-21T12:08:26.860912Z"
    }
   },
   "outputs": [],
   "source": [
    "#circuit_model.voxel_indexed_cell_gids"
   ]
  },
  {
   "cell_type": "markdown",
   "metadata": {},
   "source": [
    "We can test our method by checking that the voxel ids are good:"
   ]
  },
  {
   "cell_type": "code",
   "execution_count": 4,
   "metadata": {
    "ExecuteTime": {
     "end_time": "2019-11-21T12:08:16.283649Z",
     "start_time": "2019-11-21T12:08:16.264526Z"
    }
   },
   "outputs": [
    {
     "name": "stderr",
     "output_type": "stream",
     "text": [
      "/home/muchu/.vmgr_repo/py36/lib/python3.6/site-packages/ipykernel_launcher.py:5: PerformanceWarning: indexing past lexsort depth may impact performance.\n",
      "  \"\"\"\n"
     ]
    },
    {
     "data": {
      "text/plain": [
       "array([     1, 308519])"
      ]
     },
     "execution_count": 4,
     "metadata": {},
     "output_type": "execute_result"
    }
   ],
   "source": [
    "vicgids = circuit_model.voxel_indexed_cell_gids\n",
    "\n",
    "#vicgids.index =\\\n",
    "    #pd.MultiIndex.from_tuples(vicgids.index.values, names=[\"i\", \"j\", \"k\"])\n",
    "vicgids.loc[(305, 279, 16)].values"
   ]
  },
  {
   "cell_type": "code",
   "execution_count": 7,
   "metadata": {
    "ExecuteTime": {
     "end_time": "2019-11-21T12:08:32.911494Z",
     "start_time": "2019-11-21T12:08:32.662534Z"
    }
   },
   "outputs": [
    {
     "name": "stderr",
     "output_type": "stream",
     "text": [
      "/home/muchu/.vmgr_repo/py36/lib/python3.6/site-packages/ipykernel_launcher.py:11: PerformanceWarning: indexing past lexsort depth may impact performance.\n",
      "  # This is added back by InteractiveShellApp.init_path()\n"
     ]
    }
   ],
   "source": [
    "sample_cell_positions =\\\n",
    "    circuit_model.cells.sample(n=20)[xyz]\n",
    "sample_cell_voxel_indices =\\\n",
    "    circuit_model.atlas.voxel_data.positions_to_indices(\n",
    "        sample_cell_positions.values\n",
    "    )\n",
    "for gid, ijk in zip(\n",
    "    sample_cell_positions.index.values,\n",
    "    sample_cell_voxel_indices\n",
    "):\n",
    "    assert gid in vicgids.loc[tuple(ijk)].values,\\\n",
    "        \"Not found gid {} among gids in a voxel: {}\"\\\n",
    "        .format(gid, vicgids.loc[tuple(ijk)].values)"
   ]
  },
  {
   "cell_type": "code",
   "execution_count": 44,
   "metadata": {
    "ExecuteTime": {
     "end_time": "2019-11-21T12:52:37.615183Z",
     "start_time": "2019-11-21T12:51:20.266917Z"
    },
    "scrolled": true
   },
   "outputs": [
    {
     "name": "stdout",
     "output_type": "stream",
     "text": [
      "[                                        "
     ]
    },
    {
     "name": "stderr",
     "output_type": "stream",
     "text": [
      "/home/muchu/.vmgr_repo/py36/lib/python3.6/site-packages/ipykernel_launcher.py:26: PerformanceWarning: indexing past lexsort depth may impact performance.\n"
     ]
    },
    {
     "name": "stdout",
     "output_type": "stream",
     "text": [
      " 1.0% 2.0% 3.0% 4.0% 5.0% 6.0% 7.000000000000001% 8.0% 9.0% 10.0% 11.0% 12.0% 13.0% 14.000000000000002% 15.0% 16.0% 17.0% 18.0% 19.0% 20.0% 21.0% 22.0% 23.0% 24.0% 25.0% 26.0% 27.0% 28.000000000000004% 28.999999999999996% 30.0% 31.0% 32.0% 33.0% 34.0% 35.0% 36.0% 37.0% 38.0% 39.0% 40.0% 41.0% 42.0% 43.0% 44.0% 45.0% 46.0% 47.0% 48.0% 49.0% 50.0% 51.0% 52.0% 53.0% 54.0% 55.00000000000001% 56.00000000000001% 56.99999999999999% 57.99999999999999% 59.0% 60.0% 61.0% 62.0% 63.0% 64.0% 65.0% 66.0% 67.0% 68.0% 69.0% 70.0% 71.0% 72.0% 73.0% 74.0% 75.0% 76.0% 77.0% 78.0% 79.0% 80.0% 81.0% 82.0% 83.0% 84.0% 85.0% 86.0% 87.0% 88.0% 89.0% 90.0% 91.0% 92.0% 93.0% 94.0% 95.0% 96.0% 97.0% 98.0% 99.0%"
     ]
    }
   ],
   "source": [
    "import time\n",
    "import sys\n",
    "\n",
    "toolbar_width = 40\n",
    "\n",
    "# setup toolbar\n",
    "sys.stdout.write(\"[%s]\" % (\" \" * toolbar_width))\n",
    "sys.stdout.flush()\n",
    "sys.stdout.write(\"\\b\" * (toolbar_width+1)) # return to start of line, after '['\n",
    "\n",
    "xyz = [\"x\", \"y\", \"z\"]\n",
    "sample_cell_positions =\\\n",
    "    circuit_model.cells.sample(n=10000)[xyz]\n",
    "sample_cell_voxel_indices =\\\n",
    "    circuit_model.atlas.voxel_data.positions_to_indices(\n",
    "        sample_cell_positions.values\n",
    "    )\n",
    "percent_done = 0\n",
    "N = 100\n",
    "n = 0\n",
    "for gid, ijk in zip(\n",
    "    sample_cell_positions.index.values,\n",
    "    sample_cell_voxel_indices\n",
    "):\n",
    "    assert gid in circuit_model.voxel_indexed_cell_gids.loc[\n",
    "        tuple(ijk)\n",
    "    ].values,\\\n",
    "    \"Not found gid {} among gids in a voxel: {}\"\\\n",
    "    .format(\n",
    "        gid,\n",
    "        circuit_model.vovoxel_indexed_cell_gids.loc[tuple(ijk)].values\n",
    "    )\n",
    "    if n % N == 1:\n",
    "        next_percent_done =\\\n",
    "            100 * np.round(np.float(n)/sample_cell_positions.shape[0], 2)\n",
    "        if next_percent_done >= percent_done + .1:\n",
    "            percent_done = next_percent_done\n",
    "            sys.stdout.write(\n",
    "                \" {}%\".format(percent_done))\n",
    "            sys.stdout.flush()\n",
    "    n += 1\n",
    "    "
   ]
  },
  {
   "cell_type": "code",
   "execution_count": 38,
   "metadata": {
    "ExecuteTime": {
     "end_time": "2019-11-21T12:46:01.998612Z",
     "start_time": "2019-11-21T12:46:01.993112Z"
    }
   },
   "outputs": [
    {
     "name": "stdout",
     "output_type": "stream",
     "text": [
      "-"
     ]
    }
   ],
   "source": [
    "sys.stdout.write(('-' if int(gid % 2)==0 else '|'))"
   ]
  },
  {
   "cell_type": "code",
   "execution_count": 10,
   "metadata": {
    "ExecuteTime": {
     "end_time": "2019-11-21T12:08:50.540266Z",
     "start_time": "2019-11-21T12:08:50.528470Z"
    }
   },
   "outputs": [
    {
     "name": "stdout",
     "output_type": "stream",
     "text": [
      "1383496 ; [301 166  28]\n",
      "1592069 ; [287 198  48]\n",
      "148646 ; [305 232  29]\n",
      "858280 ; [296 218  55]\n",
      "269233 ; [287 210  31]\n",
      "244064 ; [323 197  39]\n",
      "1285842 ; [326 140  49]\n",
      "1165080 ; [291 165  25]\n",
      "697209 ; [259 212  56]\n",
      "1286620 ; [329 189  42]\n",
      "931704 ; [269 260  21]\n",
      "465529 ; [267 194  50]\n",
      "336907 ; [289 273  39]\n",
      "135402 ; [296 182  30]\n",
      "221324 ; [268 240  20]\n",
      "1712349 ; [299 210  51]\n",
      "1351156 ; [328 180  46]\n",
      "1210592 ; [277 187  18]\n",
      "491279 ; [268 187  53]\n",
      "1219746 ; [322 195  36]\n"
     ]
    }
   ],
   "source": [
    "for u, v in zip(sample_cell_positions.index.values, sample_cell_voxel_indices):\n",
    "    print(u, \";\", v)"
   ]
  },
  {
   "cell_type": "code",
   "execution_count": 7,
   "metadata": {
    "ExecuteTime": {
     "end_time": "2019-11-21T11:46:12.509358Z",
     "start_time": "2019-11-21T11:46:11.583265Z"
    }
   },
   "outputs": [
    {
     "ename": "NameError",
     "evalue": "name 'XYZ' is not defined",
     "output_type": "error",
     "traceback": [
      "\u001b[0;31m---------------------------------------------------------------------------\u001b[0m",
      "\u001b[0;31mNameError\u001b[0m                                 Traceback (most recent call last)",
      "\u001b[0;32m<ipython-input-7-9bc5f3f342ca>\u001b[0m in \u001b[0;36m<module>\u001b[0;34m\u001b[0m\n\u001b[1;32m      7\u001b[0m         list(\n\u001b[1;32m      8\u001b[0m             circuit_atlas.voxel_data.positions_to_indices(\n\u001b[0;32m----> 9\u001b[0;31m                 sample_cells[XYZ].values)\n\u001b[0m\u001b[1;32m     10\u001b[0m         )\n\u001b[1;32m     11\u001b[0m     ).apply(tuple)\n",
      "\u001b[0;31mNameError\u001b[0m: name 'XYZ' is not defined"
     ]
    }
   ],
   "source": [
    "sample_cells =\\\n",
    "    circuit_model.cells\n",
    "voxel_indexed_cell_gids =\\\n",
    "    pd.Series(\n",
    "        sample_cells.index.values,\n",
    "    index=pd.Series(\n",
    "        list(\n",
    "            circuit_atlas.voxel_data.positions_to_indices(\n",
    "                sample_cells[XYZ].values)\n",
    "        )\n",
    "    ).apply(tuple)\n",
    ")"
   ]
  },
  {
   "cell_type": "code",
   "execution_count": 108,
   "metadata": {
    "ExecuteTime": {
     "end_time": "2019-11-20T17:57:10.715569Z",
     "start_time": "2019-11-20T17:57:10.680214Z"
    }
   },
   "outputs": [
    {
     "data": {
      "text/plain": [
       "Index([(305, 279, 16), (315, 140, 34), (309, 141, 29), (305, 239, 22),\n",
       "       (298, 182, 21), (311, 172, 32), (299, 170, 23), (326, 186, 33),\n",
       "       (332, 209, 36), (295, 227, 17),\n",
       "       ...\n",
       "       (275, 181, 41), (280, 197, 43), (305, 185, 50), (308, 213, 52),\n",
       "       (275, 197, 39), (294, 273, 34), (293, 207, 49), (283, 175, 41),\n",
       "       (270, 193, 33), (297, 258, 37)],\n",
       "      dtype='object', length=1783178)"
      ]
     },
     "execution_count": 108,
     "metadata": {},
     "output_type": "execute_result"
    }
   ],
   "source": [
    "voxel_indexed_cell_gids.index"
   ]
  },
  {
   "cell_type": "code",
   "execution_count": 119,
   "metadata": {
    "ExecuteTime": {
     "end_time": "2019-11-20T18:02:22.935966Z",
     "start_time": "2019-11-20T18:02:22.317405Z"
    }
   },
   "outputs": [
    {
     "data": {
      "text/plain": [
       "(278, 204, 12)      4045\n",
       "(278, 204, 12)    302522\n",
       "(302, 225, 17)    288194\n",
       "(290, 208, 14)    300500\n",
       "(290, 208, 14)    301515\n",
       "                   ...  \n",
       "(309, 243, 20)    287716\n",
       "(254, 231, 43)    577973\n",
       "(254, 231, 43)    617004\n",
       "(254, 231, 43)    667709\n",
       "(288, 236, 14)    283714\n",
       "Length: 10205, dtype: int64"
      ]
     },
     "execution_count": 119,
     "metadata": {},
     "output_type": "execute_result"
    }
   ],
   "source": [
    "voxel_indexed_cell_gids.loc[\n",
    "    set(zip(*np.where(depth_mask))).intersection(voxel_indexed_cell_gids.index)\n",
    "].dropna(\n",
    ").astype(np.int64)"
   ]
  },
  {
   "cell_type": "code",
   "execution_count": 21,
   "metadata": {
    "ExecuteTime": {
     "end_time": "2019-11-20T16:53:53.256204Z",
     "start_time": "2019-11-20T16:53:53.245513Z"
    }
   },
   "outputs": [
    {
     "data": {
      "text/html": [
       "<div>\n",
       "<style scoped>\n",
       "    .dataframe tbody tr th:only-of-type {\n",
       "        vertical-align: middle;\n",
       "    }\n",
       "\n",
       "    .dataframe tbody tr th {\n",
       "        vertical-align: top;\n",
       "    }\n",
       "\n",
       "    .dataframe thead th {\n",
       "        text-align: right;\n",
       "    }\n",
       "</style>\n",
       "<table border=\"1\" class=\"dataframe\">\n",
       "  <thead>\n",
       "    <tr style=\"text-align: right;\">\n",
       "      <th></th>\n",
       "      <th>i</th>\n",
       "      <th>j</th>\n",
       "      <th>k</th>\n",
       "    </tr>\n",
       "  </thead>\n",
       "  <tbody>\n",
       "    <tr>\n",
       "      <th>1</th>\n",
       "      <td>305</td>\n",
       "      <td>279</td>\n",
       "      <td>16</td>\n",
       "    </tr>\n",
       "    <tr>\n",
       "      <th>2</th>\n",
       "      <td>315</td>\n",
       "      <td>140</td>\n",
       "      <td>34</td>\n",
       "    </tr>\n",
       "    <tr>\n",
       "      <th>3</th>\n",
       "      <td>309</td>\n",
       "      <td>141</td>\n",
       "      <td>29</td>\n",
       "    </tr>\n",
       "    <tr>\n",
       "      <th>4</th>\n",
       "      <td>305</td>\n",
       "      <td>239</td>\n",
       "      <td>22</td>\n",
       "    </tr>\n",
       "    <tr>\n",
       "      <th>5</th>\n",
       "      <td>298</td>\n",
       "      <td>182</td>\n",
       "      <td>21</td>\n",
       "    </tr>\n",
       "  </tbody>\n",
       "</table>\n",
       "</div>"
      ],
      "text/plain": [
       "     i    j   k\n",
       "1  305  279  16\n",
       "2  315  140  34\n",
       "3  309  141  29\n",
       "4  305  239  22\n",
       "5  298  182  21"
      ]
     },
     "execution_count": 21,
     "metadata": {},
     "output_type": "execute_result"
    }
   ],
   "source": [
    "voxel_cell.head().apply(.)\n",
    "    lambda xyz: pd.Series(dict(i=xyz[0], j=xyz[1], k=xyz[2])))"
   ]
  },
  {
   "cell_type": "code",
   "execution_count": 4,
   "metadata": {
    "ExecuteTime": {
     "end_time": "2019-11-20T16:41:28.720448Z",
     "start_time": "2019-11-20T16:40:58.958813Z"
    }
   },
   "outputs": [
    {
     "name": "stderr",
     "output_type": "stream",
     "text": [
      "/Users/vishalsoodmuchu/.vmgr_repo/py37/lib/python3.7/site-packages/neuro_dmt/models/bluebrain/circuit/atlas/principal_axis.py:114: RuntimeWarning: invalid value encountered in greater_equal\n",
      "  return np.logical_and(_bin[0] <= values, values < _bin[1])\n",
      "/Users/vishalsoodmuchu/.vmgr_repo/py37/lib/python3.7/site-packages/neuro_dmt/models/bluebrain/circuit/atlas/principal_axis.py:114: RuntimeWarning: invalid value encountered in less\n",
      "  return np.logical_and(_bin[0] <= values, values < _bin[1])\n"
     ]
    }
   ],
   "source": []
  },
  {
   "cell_type": "code",
   "execution_count": 49,
   "metadata": {
    "ExecuteTime": {
     "end_time": "2019-11-20T17:30:41.444857Z",
     "start_time": "2019-11-20T17:30:41.193551Z"
    }
   },
   "outputs": [
    {
     "data": {
      "text/plain": [
       "[(252, 247, 42),\n",
       " (252, 247, 43),\n",
       " (252, 247, 44),\n",
       " (252, 248, 40),\n",
       " (252, 248, 41),\n",
       " (252, 248, 42),\n",
       " (252, 248, 46),\n",
       " (252, 249, 39),\n",
       " (252, 249, 40),\n",
       " (252, 250, 39),\n",
       " (253, 240, 42),\n",
       " (253, 240, 43),\n",
       " (253, 240, 44),\n",
       " (253, 240, 45),\n",
       " (253, 240, 46),\n",
       " (253, 241, 38),\n",
       " (253, 241, 39),\n",
       " (253, 241, 40),\n",
       " (253, 241, 41),\n",
       " (253, 241, 42),\n",
       " (253, 242, 35),\n",
       " (253, 242, 36),\n",
       " (253, 242, 37),\n",
       " (253, 242, 38),\n",
       " (253, 243, 32),\n",
       " (253, 243, 33),\n",
       " (253, 243, 34),\n",
       " (253, 243, 35),\n",
       " (253, 244, 29),\n",
       " (253, 244, 30),\n",
       " (253, 244, 31),\n",
       " (253, 244, 32),\n",
       " (253, 245, 25),\n",
       " (253, 245, 26),\n",
       " (253, 245, 27),\n",
       " (253, 245, 28),\n",
       " (253, 245, 29),\n",
       " (253, 246, 22),\n",
       " (253, 246, 23),\n",
       " (253, 246, 24),\n",
       " (253, 246, 25),\n",
       " (253, 247, 21),\n",
       " (253, 247, 22),\n",
       " (253, 248, 20),\n",
       " (253, 248, 21),\n",
       " (253, 249, 20),\n",
       " (253, 250, 20),\n",
       " (254, 229, 49),\n",
       " (254, 229, 50),\n",
       " (254, 229, 51),\n",
       " (254, 229, 52),\n",
       " (254, 230, 46),\n",
       " (254, 230, 47),\n",
       " (254, 230, 48),\n",
       " (254, 230, 49),\n",
       " (254, 230, 54),\n",
       " (254, 231, 42),\n",
       " (254, 231, 43),\n",
       " (254, 231, 44),\n",
       " (254, 231, 45),\n",
       " (254, 231, 46),\n",
       " (254, 232, 39),\n",
       " (254, 232, 40),\n",
       " (254, 232, 41),\n",
       " (254, 232, 42),\n",
       " (254, 233, 36),\n",
       " (254, 233, 37),\n",
       " (254, 233, 38),\n",
       " (254, 233, 39),\n",
       " (254, 234, 32),\n",
       " (254, 234, 33),\n",
       " (254, 234, 34),\n",
       " (254, 234, 35),\n",
       " (254, 234, 36),\n",
       " (254, 234, 54),\n",
       " (254, 235, 32),\n",
       " (254, 235, 54),\n",
       " (254, 236, 32),\n",
       " (254, 236, 54),\n",
       " (254, 237, 28),\n",
       " (254, 237, 29),\n",
       " (254, 237, 30),\n",
       " (254, 237, 31),\n",
       " (254, 237, 32),\n",
       " (254, 237, 54),\n",
       " (254, 238, 25),\n",
       " (254, 238, 26),\n",
       " (254, 238, 27),\n",
       " (254, 238, 28),\n",
       " (254, 239, 22),\n",
       " (254, 239, 23),\n",
       " (254, 239, 24),\n",
       " (254, 239, 25),\n",
       " (254, 239, 53),\n",
       " (254, 239, 54),\n",
       " (254, 240, 19),\n",
       " (254, 240, 20),\n",
       " (254, 240, 21),\n",
       " (254, 240, 22),\n",
       " (254, 240, 52),\n",
       " (254, 241, 18),\n",
       " (254, 241, 19),\n",
       " (254, 242, 17),\n",
       " (254, 242, 18),\n",
       " (254, 243, 16),\n",
       " (254, 243, 17),\n",
       " (254, 244, 15),\n",
       " (254, 244, 16),\n",
       " (254, 245, 15),\n",
       " (254, 246, 14),\n",
       " (254, 246, 15),\n",
       " (254, 247, 14),\n",
       " (254, 248, 13),\n",
       " (254, 248, 14),\n",
       " (254, 249, 13),\n",
       " (254, 250, 13),\n",
       " (254, 251, 13),\n",
       " (254, 252, 13),\n",
       " (254, 255, 15),\n",
       " (254, 261, 43),\n",
       " (254, 262, 43),\n",
       " (255, 224, 49),\n",
       " (255, 224, 50),\n",
       " (255, 224, 51),\n",
       " (255, 224, 52),\n",
       " (255, 224, 53),\n",
       " (255, 225, 47),\n",
       " (255, 225, 48),\n",
       " (255, 225, 49),\n",
       " (255, 225, 57),\n",
       " (255, 226, 44),\n",
       " (255, 226, 45),\n",
       " (255, 226, 46),\n",
       " (255, 226, 47),\n",
       " (255, 226, 57),\n",
       " (255, 227, 41),\n",
       " (255, 227, 42),\n",
       " (255, 227, 43),\n",
       " (255, 227, 44),\n",
       " (255, 227, 56),\n",
       " (255, 228, 38),\n",
       " (255, 228, 39),\n",
       " (255, 228, 40),\n",
       " (255, 228, 41),\n",
       " (255, 228, 56),\n",
       " (255, 229, 34),\n",
       " (255, 229, 35),\n",
       " (255, 229, 36),\n",
       " (255, 229, 37),\n",
       " (255, 229, 38),\n",
       " (255, 229, 56),\n",
       " (255, 230, 30),\n",
       " (255, 230, 31),\n",
       " (255, 230, 32),\n",
       " (255, 230, 33),\n",
       " (255, 230, 34),\n",
       " (255, 231, 29),\n",
       " (255, 231, 30),\n",
       " (255, 232, 26),\n",
       " (255, 232, 27),\n",
       " (255, 232, 28),\n",
       " (255, 232, 29),\n",
       " (255, 233, 22),\n",
       " (255, 233, 23),\n",
       " (255, 233, 24),\n",
       " (255, 233, 25),\n",
       " (255, 233, 26),\n",
       " (255, 234, 20),\n",
       " (255, 234, 21),\n",
       " (255, 234, 22),\n",
       " (255, 235, 18),\n",
       " (255, 235, 19),\n",
       " (255, 235, 20),\n",
       " (255, 236, 17),\n",
       " (255, 236, 18),\n",
       " (255, 236, 58),\n",
       " (255, 237, 17),\n",
       " (255, 238, 16),\n",
       " (255, 238, 17),\n",
       " (255, 239, 16),\n",
       " (255, 240, 16),\n",
       " (255, 241, 15),\n",
       " (255, 241, 16),\n",
       " (255, 242, 14),\n",
       " (255, 242, 15),\n",
       " (255, 243, 13),\n",
       " (255, 243, 14),\n",
       " (255, 244, 13),\n",
       " (255, 245, 12),\n",
       " (255, 245, 13),\n",
       " (255, 246, 12),\n",
       " (255, 247, 12),\n",
       " (255, 248, 12),\n",
       " (255, 249, 12),\n",
       " (255, 251, 13),\n",
       " (255, 252, 13),\n",
       " (255, 253, 13),\n",
       " (255, 254, 12),\n",
       " (255, 254, 13),\n",
       " (255, 255, 12),\n",
       " (255, 256, 12),\n",
       " (255, 257, 12),\n",
       " (255, 258, 11),\n",
       " (255, 258, 12),\n",
       " (255, 261, 13),\n",
       " (256, 219, 48),\n",
       " (256, 219, 49),\n",
       " (256, 219, 50),\n",
       " (256, 219, 51),\n",
       " (256, 219, 54),\n",
       " (256, 220, 47),\n",
       " (256, 220, 48),\n",
       " (256, 220, 54),\n",
       " (256, 221, 47),\n",
       " (256, 221, 54),\n",
       " (256, 222, 43),\n",
       " (256, 222, 44),\n",
       " (256, 222, 45),\n",
       " (256, 222, 46),\n",
       " (256, 222, 47),\n",
       " (256, 222, 57),\n",
       " (256, 223, 40),\n",
       " (256, 223, 41),\n",
       " (256, 223, 42),\n",
       " (256, 223, 43),\n",
       " (256, 224, 39),\n",
       " (256, 224, 40),\n",
       " (256, 225, 39),\n",
       " (256, 226, 34),\n",
       " (256, 226, 35),\n",
       " (256, 226, 36),\n",
       " (256, 226, 37),\n",
       " (256, 226, 38),\n",
       " (256, 226, 39),\n",
       " (256, 227, 32),\n",
       " (256, 227, 33),\n",
       " (256, 227, 34),\n",
       " (256, 228, 28),\n",
       " (256, 228, 29),\n",
       " (256, 228, 30),\n",
       " (256, 228, 31),\n",
       " (256, 228, 32),\n",
       " (256, 229, 25),\n",
       " (256, 229, 26),\n",
       " (256, 229, 27),\n",
       " (256, 229, 28),\n",
       " (256, 230, 21),\n",
       " (256, 230, 22),\n",
       " (256, 230, 23),\n",
       " (256, 230, 24),\n",
       " (256, 230, 25),\n",
       " (256, 231, 19),\n",
       " (256, 231, 20),\n",
       " (256, 231, 21),\n",
       " (256, 232, 17),\n",
       " (256, 232, 18),\n",
       " (256, 232, 19),\n",
       " (256, 233, 16),\n",
       " (256, 233, 17),\n",
       " (256, 234, 16),\n",
       " (256, 235, 15),\n",
       " (256, 235, 16),\n",
       " (256, 236, 14),\n",
       " (256, 236, 15),\n",
       " (256, 237, 13),\n",
       " (256, 237, 14),\n",
       " (256, 238, 13),\n",
       " (256, 239, 13),\n",
       " (256, 240, 13),\n",
       " (256, 241, 12),\n",
       " (256, 241, 13),\n",
       " (256, 242, 10),\n",
       " (256, 242, 11),\n",
       " (256, 242, 12),\n",
       " (256, 243, 10),\n",
       " (256, 244, 10),\n",
       " (256, 245, 10),\n",
       " (256, 246, 10),\n",
       " (256, 247, 10),\n",
       " (256, 248, 10),\n",
       " (256, 249, 10),\n",
       " (256, 250, 9),\n",
       " (256, 250, 10),\n",
       " (256, 251, 9),\n",
       " (256, 252, 9),\n",
       " (256, 253, 9),\n",
       " (256, 254, 8),\n",
       " (256, 254, 9),\n",
       " (256, 255, 8),\n",
       " (256, 258, 11),\n",
       " (256, 259, 11),\n",
       " (256, 260, 10),\n",
       " (256, 260, 11),\n",
       " (256, 261, 10),\n",
       " (256, 263, 11),\n",
       " (256, 264, 11),\n",
       " (256, 268, 45),\n",
       " (257, 214, 48),\n",
       " (257, 214, 49),\n",
       " (257, 214, 50),\n",
       " (257, 214, 51),\n",
       " (257, 214, 52),\n",
       " (257, 215, 48),\n",
       " (257, 215, 54),\n",
       " (257, 216, 45),\n",
       " (257, 216, 46),\n",
       " (257, 216, 47),\n",
       " (257, 216, 48),\n",
       " (257, 217, 43),\n",
       " (257, 217, 44),\n",
       " (257, 217, 45),\n",
       " (257, 218, 41),\n",
       " (257, 218, 42),\n",
       " (257, 218, 43),\n",
       " (257, 218, 57),\n",
       " (257, 219, 41),\n",
       " (257, 220, 39),\n",
       " (257, 220, 41),\n",
       " (257, 221, 34),\n",
       " (257, 221, 35),\n",
       " (257, 221, 36),\n",
       " (257, 221, 37),\n",
       " (257, 221, 38),\n",
       " (257, 221, 39),\n",
       " (257, 221, 41),\n",
       " (257, 222, 34),\n",
       " (257, 223, 34),\n",
       " (257, 224, 30),\n",
       " (257, 224, 31),\n",
       " (257, 224, 32),\n",
       " (257, 224, 33),\n",
       " (257, 224, 34),\n",
       " (257, 225, 30),\n",
       " (257, 226, 25),\n",
       " (257, 226, 26),\n",
       " (257, 226, 27),\n",
       " (257, 226, 28),\n",
       " (257, 226, 29),\n",
       " (257, 226, 30),\n",
       " (257, 227, 24),\n",
       " (257, 227, 25),\n",
       " (257, 228, 19),\n",
       " (257, 228, 20),\n",
       " (257, 228, 21),\n",
       " (257, 228, 22),\n",
       " (257, 228, 23),\n",
       " (257, 228, 24),\n",
       " (257, 229, 18),\n",
       " (257, 229, 19),\n",
       " (257, 230, 15),\n",
       " (257, 230, 16),\n",
       " (257, 230, 17),\n",
       " (257, 230, 18),\n",
       " (257, 231, 15),\n",
       " (257, 232, 15),\n",
       " (257, 233, 13),\n",
       " (257, 233, 14),\n",
       " (257, 233, 15),\n",
       " (257, 234, 13),\n",
       " (257, 234, 17),\n",
       " (257, 235, 12),\n",
       " (257, 235, 13),\n",
       " (257, 237, 13),\n",
       " (257, 238, 12),\n",
       " (257, 238, 13),\n",
       " (257, 239, 11),\n",
       " (257, 239, 12),\n",
       " (257, 240, 10),\n",
       " (257, 240, 11),\n",
       " (257, 241, 10),\n",
       " (257, 242, 10),\n",
       " (257, 243, 10),\n",
       " (257, 244, 10),\n",
       " (257, 245, 10),\n",
       " (257, 246, 10),\n",
       " (257, 247, 10),\n",
       " (257, 248, 9),\n",
       " (257, 248, 10),\n",
       " (257, 249, 9),\n",
       " (257, 249, 11),\n",
       " (257, 250, 9),\n",
       " (257, 250, 11),\n",
       " (257, 251, 9),\n",
       " (257, 252, 9),\n",
       " (257, 253, 8),\n",
       " (257, 253, 9),\n",
       " (257, 254, 8),\n",
       " (257, 255, 8),\n",
       " (257, 256, 8),\n",
       " (257, 258, 9),\n",
       " (257, 259, 9),\n",
       " (257, 260, 8),\n",
       " (257, 260, 9),\n",
       " (257, 261, 8),\n",
       " (257, 262, 8),\n",
       " (257, 266, 10),\n",
       " (257, 266, 11),\n",
       " (258, 208, 49),\n",
       " (258, 208, 50),\n",
       " (258, 208, 51),\n",
       " (258, 208, 52),\n",
       " (258, 208, 53),\n",
       " (258, 208, 54),\n",
       " (258, 208, 55),\n",
       " (258, 209, 47),\n",
       " (258, 209, 48),\n",
       " (258, 209, 49),\n",
       " (258, 210, 45),\n",
       " (258, 210, 46),\n",
       " (258, 210, 47),\n",
       " (258, 211, 43),\n",
       " (258, 211, 44),\n",
       " (258, 211, 45),\n",
       " (258, 212, 41),\n",
       " (258, 212, 42),\n",
       " (258, 212, 43),\n",
       " (258, 213, 38),\n",
       " (258, 213, 39),\n",
       " (258, 213, 40),\n",
       " (258, 213, 41),\n",
       " (258, 213, 56),\n",
       " (258, 214, 38),\n",
       " (258, 214, 56),\n",
       " (258, 215, 35),\n",
       " (258, 215, 36),\n",
       " (258, 215, 37),\n",
       " (258, 215, 38),\n",
       " (258, 216, 35),\n",
       " (258, 217, 35),\n",
       " (258, 218, 34),\n",
       " (258, 218, 35),\n",
       " (258, 219, 32),\n",
       " (258, 219, 34),\n",
       " (258, 220, 30),\n",
       " (258, 220, 31),\n",
       " (258, 220, 32),\n",
       " (258, 220, 34),\n",
       " (258, 221, 28),\n",
       " (258, 221, 29),\n",
       " (258, 221, 30),\n",
       " (258, 222, 28),\n",
       " (258, 223, 22),\n",
       " (258, 223, 23),\n",
       " (258, 223, 24),\n",
       " (258, 223, 25),\n",
       " (258, 223, 26),\n",
       " (258, 223, 27),\n",
       " (258, 223, 28),\n",
       " (258, 224, 21),\n",
       " (258, 224, 22),\n",
       " (258, 225, 21),\n",
       " (258, 226, 19),\n",
       " (258, 226, 20),\n",
       " (258, 226, 21),\n",
       " (258, 227, 16),\n",
       " (258, 227, 17),\n",
       " (258, 227, 18),\n",
       " (258, 227, 19),\n",
       " (258, 228, 16),\n",
       " (258, 229, 16),\n",
       " (258, 230, 14),\n",
       " (258, 230, 15),\n",
       " (258, 230, 16),\n",
       " (258, 231, 12),\n",
       " (258, 231, 13),\n",
       " (258, 231, 14),\n",
       " (258, 233, 13),\n",
       " (258, 234, 13),\n",
       " (258, 235, 11),\n",
       " (258, 235, 12),\n",
       " (258, 235, 13),\n",
       " (258, 237, 12),\n",
       " (258, 238, 11),\n",
       " (258, 238, 12),\n",
       " (258, 239, 11),\n",
       " (258, 240, 10),\n",
       " (258, 240, 11),\n",
       " (258, 241, 10),\n",
       " (258, 242, 10),\n",
       " (258, 243, 10),\n",
       " (258, 244, 10),\n",
       " (258, 245, 9),\n",
       " (258, 245, 10),\n",
       " (258, 246, 9),\n",
       " (258, 247, 9),\n",
       " (258, 247, 12),\n",
       " (258, 248, 9),\n",
       " (258, 249, 9),\n",
       " (258, 250, 9),\n",
       " (258, 251, 9),\n",
       " (258, 252, 9),\n",
       " (258, 253, 8),\n",
       " (258, 253, 9),\n",
       " (258, 254, 8),\n",
       " (258, 255, 8),\n",
       " (258, 256, 8),\n",
       " (258, 257, 6),\n",
       " (258, 257, 7),\n",
       " (258, 257, 8),\n",
       " (258, 258, 6),\n",
       " (258, 259, 6),\n",
       " (258, 261, 7),\n",
       " (258, 262, 7),\n",
       " (258, 263, 7),\n",
       " (258, 264, 7),\n",
       " (258, 266, 9),\n",
       " (259, 205, 50),\n",
       " (259, 205, 51),\n",
       " (259, 205, 52),\n",
       " (259, 205, 53),\n",
       " (259, 205, 54),\n",
       " (259, 205, 57),\n",
       " (259, 206, 44),\n",
       " (259, 206, 45),\n",
       " (259, 206, 46),\n",
       " (259, 206, 47),\n",
       " (259, 206, 48),\n",
       " (259, 206, 49),\n",
       " (259, 206, 50),\n",
       " (259, 206, 56),\n",
       " (259, 206, 57),\n",
       " (259, 207, 44),\n",
       " (259, 208, 39),\n",
       " (259, 208, 40),\n",
       " (259, 208, 41),\n",
       " (259, 208, 42),\n",
       " (259, 208, 43),\n",
       " (259, 208, 44),\n",
       " (259, 208, 59),\n",
       " (259, 208, 60),\n",
       " (259, 209, 39),\n",
       " (259, 210, 35),\n",
       " (259, 210, 36),\n",
       " (259, 210, 37),\n",
       " (259, 210, 38),\n",
       " (259, 210, 39),\n",
       " (259, 211, 33),\n",
       " (259, 211, 34),\n",
       " (259, 211, 35),\n",
       " (259, 212, 31),\n",
       " (259, 212, 32),\n",
       " (259, 212, 33),\n",
       " (259, 213, 28),\n",
       " (259, 213, 29),\n",
       " (259, 213, 30),\n",
       " (259, 213, 31),\n",
       " (259, 214, 28),\n",
       " (259, 215, 27),\n",
       " (259, 215, 28),\n",
       " (259, 216, 26),\n",
       " (259, 216, 27),\n",
       " (259, 217, 25),\n",
       " (259, 217, 26),\n",
       " (259, 219, 24),\n",
       " (259, 219, 25),\n",
       " (259, 219, 26),\n",
       " (259, 220, 19),\n",
       " (259, 220, 20),\n",
       " (259, 220, 21),\n",
       " (259, 220, 22),\n",
       " (259, 220, 23),\n",
       " (259, 220, 24),\n",
       " (259, 222, 19),\n",
       " (259, 222, 20),\n",
       " (259, 222, 21),\n",
       " (259, 222, 22),\n",
       " (259, 223, 18),\n",
       " (259, 223, 19),\n",
       " (259, 224, 17),\n",
       " (259, 224, 18),\n",
       " (259, 224, 60),\n",
       " (259, 225, 16),\n",
       " (259, 225, 17),\n",
       " (259, 226, 15),\n",
       " (259, 226, 16),\n",
       " (259, 228, 14),\n",
       " (259, 228, 15),\n",
       " (259, 228, 16),\n",
       " (259, 229, 14),\n",
       " (259, 230, 12),\n",
       " (259, 230, 13),\n",
       " (259, 230, 14),\n",
       " (259, 231, 12),\n",
       " (259, 232, 12),\n",
       " (259, 233, 12),\n",
       " (259, 234, 12),\n",
       " (259, 235, 11),\n",
       " (259, 235, 12),\n",
       " (259, 236, 11),\n",
       " (259, 237, 11),\n",
       " (259, 238, 11),\n",
       " (259, 239, 10),\n",
       " (259, 239, 11),\n",
       " (259, 240, 10),\n",
       " (259, 241, 10),\n",
       " (259, 241, 13),\n",
       " (259, 242, 10),\n",
       " (259, 243, 10),\n",
       " (259, 244, 9),\n",
       " (259, 244, 10),\n",
       " (259, 244, 12),\n",
       " (259, 245, 9),\n",
       " (259, 245, 12),\n",
       " (259, 246, 9),\n",
       " (259, 247, 9),\n",
       " (259, 248, 9),\n",
       " (259, 249, 9),\n",
       " (259, 250, 8),\n",
       " (259, 250, 9),\n",
       " (259, 251, 8),\n",
       " (259, 252, 8),\n",
       " (259, 253, 8),\n",
       " (259, 254, 8),\n",
       " (259, 255, 8),\n",
       " (259, 256, 7),\n",
       " (259, 256, 8),\n",
       " (259, 257, 7),\n",
       " (259, 258, 7),\n",
       " (259, 259, 6),\n",
       " (259, 259, 7),\n",
       " (259, 261, 7),\n",
       " (259, 262, 7),\n",
       " (259, 263, 7),\n",
       " (259, 264, 7),\n",
       " (259, 265, 7),\n",
       " (259, 267, 8),\n",
       " (260, 203, 50),\n",
       " (260, 203, 51),\n",
       " (260, 203, 52),\n",
       " (260, 203, 53),\n",
       " (260, 203, 54),\n",
       " (260, 203, 55),\n",
       " (260, 203, 57),\n",
       " (260, 203, 58),\n",
       " (260, 204, 44),\n",
       " (260, 204, 45),\n",
       " (260, 204, 46),\n",
       " (260, 204, 47),\n",
       " (260, 204, 48),\n",
       " (260, 204, 49),\n",
       " (260, 204, 50),\n",
       " (260, 204, 57),\n",
       " (260, 205, 40),\n",
       " (260, 205, 41),\n",
       " (260, 205, 42),\n",
       " (260, 205, 43),\n",
       " (260, 205, 44),\n",
       " (260, 205, 57),\n",
       " (260, 206, 34),\n",
       " (260, 206, 35),\n",
       " (260, 206, 36),\n",
       " (260, 206, 37),\n",
       " (260, 206, 38),\n",
       " (260, 206, 39),\n",
       " (260, 206, 40),\n",
       " (260, 207, 34),\n",
       " (260, 208, 30),\n",
       " (260, 208, 31),\n",
       " (260, 208, 32),\n",
       " (260, 208, 33),\n",
       " (260, 208, 34),\n",
       " (260, 209, 27),\n",
       " (260, 209, 28),\n",
       " (260, 209, 29),\n",
       " (260, 209, 30),\n",
       " (260, 210, 26),\n",
       " (260, 210, 27),\n",
       " (260, 211, 23),\n",
       " (260, 211, 24),\n",
       " (260, 211, 25),\n",
       " (260, 211, 26),\n",
       " (260, 212, 22),\n",
       " (260, 212, 23),\n",
       " (260, 213, 21),\n",
       " (260, 213, 22),\n",
       " (260, 214, 18),\n",
       " (260, 214, 19),\n",
       " (260, 214, 20),\n",
       " (260, 214, 21),\n",
       " (260, 216, 18),\n",
       " (260, 216, 19),\n",
       " (260, 217, 18),\n",
       " (260, 219, 19),\n",
       " (260, 220, 17),\n",
       " (260, 220, 18),\n",
       " (260, 220, 19),\n",
       " (260, 221, 16),\n",
       " (260, 221, 17),\n",
       " (260, 222, 16),\n",
       " (260, 223, 16),\n",
       " (260, 224, 14),\n",
       " (260, 224, 15),\n",
       " (260, 224, 16),\n",
       " (260, 225, 13),\n",
       " (260, 225, 14),\n",
       " (260, 226, 13),\n",
       " (260, 227, 12),\n",
       " (260, 227, 13),\n",
       " (260, 228, 12),\n",
       " (260, 229, 12),\n",
       " (260, 230, 12),\n",
       " (260, 231, 12),\n",
       " (260, 232, 12),\n",
       " (260, 233, 11),\n",
       " (260, 233, 12),\n",
       " (260, 234, 11),\n",
       " (260, 235, 11),\n",
       " (260, 235, 17),\n",
       " (260, 236, 11),\n",
       " (260, 237, 11),\n",
       " (260, 238, 10),\n",
       " (260, 238, 11),\n",
       " (260, 239, 10),\n",
       " (260, 240, 10),\n",
       " (260, 241, 9),\n",
       " (260, 241, 10),\n",
       " (260, 242, 9),\n",
       " (260, 243, 9),\n",
       " (260, 244, 9),\n",
       " (260, 245, 9),\n",
       " (260, 246, 9),\n",
       " (260, 247, 8),\n",
       " (260, 247, 9),\n",
       " (260, 248, 8),\n",
       " (260, 248, 11),\n",
       " (260, 249, 8),\n",
       " (260, 249, 11),\n",
       " (260, 250, 8),\n",
       " (260, 251, 8),\n",
       " (260, 252, 8),\n",
       " (260, 253, 8),\n",
       " (260, 254, 7),\n",
       " (260, 254, 8),\n",
       " (260, 255, 7),\n",
       " (260, 256, 7),\n",
       " (260, 257, 6),\n",
       " (260, 257, 7),\n",
       " (260, 258, 6),\n",
       " (260, 259, 6),\n",
       " (260, 260, 6),\n",
       " (260, 261, 6),\n",
       " (260, 262, 6),\n",
       " (260, 264, 7),\n",
       " (260, 265, 7),\n",
       " (260, 267, 8),\n",
       " (261, 201, 46),\n",
       " (261, 201, 47),\n",
       " (261, 201, 48),\n",
       " (261, 201, 49),\n",
       " (261, 201, 50),\n",
       " (261, 201, 51),\n",
       " (261, 201, 52),\n",
       " (261, 201, 53),\n",
       " (261, 201, 54),\n",
       " (261, 201, 55),\n",
       " (261, 201, 56),\n",
       " (261, 201, 57),\n",
       " (261, 202, 45),\n",
       " (261, 202, 46),\n",
       " (261, 203, 40),\n",
       " (261, 203, 41),\n",
       " (261, 203, 42),\n",
       " (261, 203, 43),\n",
       " (261, 203, 44),\n",
       " (261, 203, 45),\n",
       " (261, 204, 36),\n",
       " (261, 204, 37),\n",
       " (261, 204, 38),\n",
       " (261, 204, 39),\n",
       " (261, 204, 40),\n",
       " (261, 205, 29),\n",
       " (261, 205, 30),\n",
       " (261, 205, 31),\n",
       " (261, 205, 32),\n",
       " (261, 205, 33),\n",
       " (261, 205, 34),\n",
       " (261, 205, 35),\n",
       " (261, 205, 36),\n",
       " (261, 206, 26),\n",
       " (261, 206, 27),\n",
       " (261, 206, 28),\n",
       " (261, 206, 29),\n",
       " (261, 207, 25),\n",
       " (261, 207, 26),\n",
       " (261, 208, 21),\n",
       " (261, 208, 22),\n",
       " (261, 208, 23),\n",
       " (261, 208, 24),\n",
       " (261, 208, 25),\n",
       " (261, 209, 19),\n",
       " (261, 209, 20),\n",
       " (261, 209, 21),\n",
       " (261, 210, 18),\n",
       " (261, 210, 19),\n",
       " (261, 211, 17),\n",
       " (261, 211, 18),\n",
       " (261, 213, 18),\n",
       " (261, 214, 16),\n",
       " (261, 214, 17),\n",
       " (261, 214, 18),\n",
       " (261, 215, 15),\n",
       " (261, 215, 16),\n",
       " (261, 216, 15),\n",
       " (261, 217, 14),\n",
       " (261, 217, 15),\n",
       " (261, 218, 13),\n",
       " (261, 218, 14),\n",
       " (261, 219, 13),\n",
       " (261, 220, 13),\n",
       " (261, 222, 13),\n",
       " (261, 222, 14),\n",
       " (261, 223, 13),\n",
       " (261, 224, 13),\n",
       " (261, 225, 13),\n",
       " (261, 226, 11),\n",
       " (261, 226, 12),\n",
       " (261, 226, 13),\n",
       " (261, 228, 12),\n",
       " (261, 229, 12),\n",
       " (261, 230, 12),\n",
       " (261, 231, 12),\n",
       " (261, 232, 12),\n",
       " (261, 233, 12),\n",
       " (261, 234, 12),\n",
       " (261, 235, 11),\n",
       " (261, 235, 12),\n",
       " (261, 235, 14),\n",
       " (261, 237, 11),\n",
       " (261, 237, 12),\n",
       " (261, 238, 11),\n",
       " (261, 239, 10),\n",
       " (261, 239, 11),\n",
       " (261, 240, 10),\n",
       " (261, 241, 9),\n",
       " (261, 241, 10),\n",
       " (261, 242, 9),\n",
       " (261, 243, 9),\n",
       " (261, 244, 9),\n",
       " (261, 245, 9),\n",
       " (261, 246, 8),\n",
       " (261, 246, 9),\n",
       " (261, 247, 8),\n",
       " (261, 248, 8),\n",
       " (261, 249, 8),\n",
       " (261, 250, 8),\n",
       " (261, 251, 8),\n",
       " (261, 252, 8),\n",
       " (261, 253, 7),\n",
       " (261, 253, 8),\n",
       " (261, 253, 10),\n",
       " (261, 254, 7),\n",
       " (261, 255, 7),\n",
       " (261, 256, 7),\n",
       " (261, 257, 6),\n",
       " (261, 257, 7),\n",
       " (261, 258, 6),\n",
       " (261, 259, 6),\n",
       " (261, 260, 6),\n",
       " (261, 261, 6),\n",
       " (261, 262, 6),\n",
       " (261, 263, 6),\n",
       " (261, 264, 6),\n",
       " (261, 266, 7),\n",
       " (261, 266, 10),\n",
       " (262, 198, 51),\n",
       " (262, 198, 52),\n",
       " (262, 198, 53),\n",
       " (262, 198, 54),\n",
       " (262, 198, 55),\n",
       " (262, 198, 56),\n",
       " (262, 198, 57),\n",
       " (262, 199, 45),\n",
       " (262, 199, 46),\n",
       " (262, 199, 47),\n",
       " (262, 199, 48),\n",
       " (262, 199, 49),\n",
       " (262, 199, 50),\n",
       " (262, 199, 51),\n",
       " (262, 201, 37),\n",
       " (262, 201, 38),\n",
       " (262, 201, 39),\n",
       " (262, 201, 40),\n",
       " (262, 201, 41),\n",
       " (262, 201, 42),\n",
       " (262, 201, 43),\n",
       " (262, 201, 44),\n",
       " (262, 201, 45),\n",
       " (262, 201, 46),\n",
       " (262, 202, 37),\n",
       " (262, 202, 61),\n",
       " (262, 203, 29),\n",
       " (262, 203, 30),\n",
       " (262, 203, 31),\n",
       " (262, 203, 32),\n",
       " (262, 203, 33),\n",
       " (262, 203, 34),\n",
       " (262, 203, 35),\n",
       " (262, 203, 36),\n",
       " (262, 203, 37),\n",
       " (262, 204, 26),\n",
       " (262, 204, 27),\n",
       " (262, 204, 28),\n",
       " (262, 204, 29),\n",
       " (262, 205, 22),\n",
       " (262, 205, 23),\n",
       " (262, 205, 24),\n",
       " (262, 205, 25),\n",
       " (262, 205, 26),\n",
       " (262, 206, 19),\n",
       " (262, 206, 20),\n",
       " (262, 206, 21),\n",
       " (262, 206, 22),\n",
       " (262, 207, 17),\n",
       " (262, 207, 18),\n",
       " (262, 207, 19),\n",
       " (262, 208, 16),\n",
       " (262, 208, 17),\n",
       " (262, 209, 15),\n",
       " (262, 209, 16),\n",
       " (262, 210, 14),\n",
       " (262, 210, 15),\n",
       " (262, 211, 14),\n",
       " (262, 212, 14),\n",
       " (262, 213, 14),\n",
       " (262, 214, 13),\n",
       " (262, 214, 14),\n",
       " (262, 215, 13),\n",
       " (262, 216, 12),\n",
       " (262, 216, 13),\n",
       " (262, 217, 11),\n",
       " (262, 217, 12),\n",
       " (262, 219, 13),\n",
       " (262, 220, 13),\n",
       " (262, 220, 14),\n",
       " (262, 221, 11),\n",
       " (262, 221, 12),\n",
       " (262, 221, 13),\n",
       " (262, 222, 11),\n",
       " (262, 223, 11),\n",
       " (262, 224, 11),\n",
       " (262, 225, 11),\n",
       " (262, 226, 11),\n",
       " (262, 228, 12),\n",
       " (262, 229, 12),\n",
       " (262, 230, 11),\n",
       " (262, 230, 12),\n",
       " (262, 231, 11),\n",
       " (262, 232, 11),\n",
       " (262, 233, 11),\n",
       " (262, 234, 11),\n",
       " (262, 234, 14),\n",
       " (262, 235, 11),\n",
       " (262, 236, 11),\n",
       " (262, 236, 14),\n",
       " (262, 236, 17),\n",
       " (262, 237, 11),\n",
       " (262, 237, 14),\n",
       " (262, 237, 17),\n",
       " (262, 238, 10),\n",
       " (262, 238, 11),\n",
       " (262, 239, 10),\n",
       " (262, 240, 10),\n",
       " (262, 241, 10),\n",
       " (262, 242, 9),\n",
       " (262, 242, 10),\n",
       " (262, 243, 9),\n",
       " (262, 244, 9),\n",
       " (262, 245, 8),\n",
       " (262, 245, 9),\n",
       " (262, 246, 8),\n",
       " (262, 247, 8),\n",
       " (262, 248, 8),\n",
       " (262, 249, 8),\n",
       " (262, 250, 8),\n",
       " (262, 251, 8),\n",
       " (262, 252, 7),\n",
       " (262, 252, 8),\n",
       " (262, 253, 7),\n",
       " (262, 254, 7),\n",
       " (262, 255, 7),\n",
       " (262, 256, 6),\n",
       " (262, 256, 7),\n",
       " (262, 257, 6),\n",
       " (262, 258, 6),\n",
       " (262, 259, 6),\n",
       " (262, 260, 6),\n",
       " (262, 261, 6),\n",
       " (262, 262, 6),\n",
       " (262, 263, 6),\n",
       " (262, 264, 6),\n",
       " (262, 265, 6),\n",
       " (262, 271, 12),\n",
       " (263, 195, 53),\n",
       " (263, 195, 54),\n",
       " (263, 195, 55),\n",
       " (263, 195, 56),\n",
       " (263, 195, 59),\n",
       " (263, 196, 48),\n",
       " (263, 196, 49),\n",
       " (263, 196, 50),\n",
       " ...]"
      ]
     },
     "execution_count": 49,
     "metadata": {},
     "output_type": "execute_result"
    }
   ],
   "source": []
  },
  {
   "cell_type": "code",
   "execution_count": 52,
   "metadata": {
    "ExecuteTime": {
     "end_time": "2019-11-20T17:31:13.747153Z",
     "start_time": "2019-11-20T17:31:13.553632Z"
    }
   },
   "outputs": [
    {
     "data": {
      "text/plain": [
       "array([[252, 247,  42],\n",
       "       [252, 247,  43],\n",
       "       [252, 247,  44],\n",
       "       ...,\n",
       "       [389, 253, 113],\n",
       "       [389, 254, 110],\n",
       "       [389, 255, 109]])"
      ]
     },
     "execution_count": 52,
     "metadata": {},
     "output_type": "execute_result"
    }
   ],
   "source": [
    "np.array(np.where(depth_mask)).transpose()"
   ]
  },
  {
   "cell_type": "code",
   "execution_count": 120,
   "metadata": {
    "ExecuteTime": {
     "end_time": "2019-11-20T20:52:17.102067Z",
     "start_time": "2019-11-20T20:52:17.097438Z"
    }
   },
   "outputs": [],
   "source": [
    "xs = pd.Series(range(10), index=[1,1,2,2,3,3,4,4,5,6])"
   ]
  },
  {
   "cell_type": "code",
   "execution_count": 123,
   "metadata": {
    "ExecuteTime": {
     "end_time": "2019-11-20T20:53:22.927945Z",
     "start_time": "2019-11-20T20:53:22.900537Z"
    }
   },
   "outputs": [
    {
     "data": {
      "text/plain": [
       "1    0\n",
       "1    1\n",
       "2    2\n",
       "2    3\n",
       "3    4\n",
       "3    5\n",
       "4    6\n",
       "4    7\n",
       "5    8\n",
       "6    9\n",
       "dtype: int64"
      ]
     },
     "execution_count": 123,
     "metadata": {},
     "output_type": "execute_result"
    }
   ],
   "source": [
    "xs"
   ]
  },
  {
   "cell_type": "code",
   "execution_count": 127,
   "metadata": {
    "ExecuteTime": {
     "end_time": "2019-11-20T20:54:52.821536Z",
     "start_time": "2019-11-20T20:54:52.811875Z"
    }
   },
   "outputs": [
    {
     "data": {
      "text/plain": [
       "1    0\n",
       "1    1\n",
       "2    2\n",
       "2    3\n",
       "dtype: int64"
      ]
     },
     "execution_count": 127,
     "metadata": {},
     "output_type": "execute_result"
    }
   ],
   "source": [
    "xs.loc[{1,2,7}.intersection(xs.index)]"
   ]
  },
  {
   "cell_type": "code",
   "execution_count": null,
   "metadata": {},
   "outputs": [],
   "source": []
  }
 ],
 "metadata": {
  "kernelspec": {
   "display_name": "Python 3",
   "language": "python",
   "name": "python3"
  },
  "language_info": {
   "codemirror_mode": {
    "name": "ipython",
    "version": 3
   },
   "file_extension": ".py",
   "mimetype": "text/x-python",
   "name": "python",
   "nbconvert_exporter": "python",
   "pygments_lexer": "ipython3",
   "version": "3.6.8"
  },
  "latex_envs": {
   "LaTeX_envs_menu_present": true,
   "autoclose": false,
   "autocomplete": true,
   "bibliofile": "biblio.bib",
   "cite_by": "apalike",
   "current_citInitial": 1,
   "eqLabelWithNumbers": true,
   "eqNumInitial": 1,
   "hotkeys": {
    "equation": "Ctrl-E",
    "itemize": "Ctrl-I"
   },
   "labels_anchors": false,
   "latex_user_defs": false,
   "report_style_numbering": false,
   "user_envs_cfg": false
  },
  "toc": {
   "base_numbering": 1,
   "nav_menu": {},
   "number_sections": true,
   "sideBar": true,
   "skip_h1_title": false,
   "title_cell": "Table of Contents",
   "title_sidebar": "Contents",
   "toc_cell": false,
   "toc_position": {},
   "toc_section_display": true,
   "toc_window_display": false
  },
  "varInspector": {
   "cols": {
    "lenName": 16,
    "lenType": 16,
    "lenVar": 40
   },
   "kernels_config": {
    "python": {
     "delete_cmd_postfix": "",
     "delete_cmd_prefix": "del ",
     "library": "var_list.py",
     "varRefreshCmd": "print(var_dic_list())"
    },
    "r": {
     "delete_cmd_postfix": ") ",
     "delete_cmd_prefix": "rm(",
     "library": "var_list.r",
     "varRefreshCmd": "cat(var_dic_list()) "
    }
   },
   "types_to_exclude": [
    "module",
    "function",
    "builtin_function_or_method",
    "instance",
    "_Feature"
   ],
   "window_display": false
  }
 },
 "nbformat": 4,
 "nbformat_minor": 2
}
