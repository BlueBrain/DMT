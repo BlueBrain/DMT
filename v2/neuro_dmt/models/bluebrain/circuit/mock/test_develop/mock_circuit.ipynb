{
 "cells": [
  {
   "cell_type": "markdown",
   "metadata": {},
   "source": [
    "# Test Develop Mock Circuit"
   ]
  },
  {
   "cell_type": "code",
   "execution_count": 1,
   "metadata": {
    "ExecuteTime": {
     "end_time": "2019-06-28T09:26:11.021077Z",
     "start_time": "2019-06-28T09:26:10.468827Z"
    }
   },
   "outputs": [],
   "source": [
    "import numpy as np\n",
    "import pandas as pd\n",
    "from neuro_dmt.models.bluebrain.circuit.mock.cell import Cell"
   ]
  },
  {
   "cell_type": "code",
   "execution_count": 2,
   "metadata": {
    "ExecuteTime": {
     "end_time": "2019-06-28T09:26:12.314538Z",
     "start_time": "2019-06-28T09:26:12.308539Z"
    }
   },
   "outputs": [
    {
     "name": "stdout",
     "output_type": "stream",
     "text": [
      "(1.0, 1.0, 1.0)\n",
      "[1. 1. 1.]\n",
      "[[-0.56492934 -0.26705398  0.28233447]\n",
      " [ 0.39493214 -0.48384451 -0.45060693]\n",
      " [ 0.87291311  0.05149363 -0.36150597]]\n"
     ]
    }
   ],
   "source": [
    "from neuro_dmt.models.bluebrain.circuit.geometry import Position\n",
    "p = Position(X = 1., Y = 1., Z = 1.)\n",
    "print(p.as_tuple)\n",
    "print(p.value)\n",
    "\n",
    "random_positions =\\\n",
    "    Position.sample(\n",
    "        (np.array((-1., -1., -1.)), np.array((1., 1., 1.))),\n",
    "        n = 3)\n",
    "print(random_positions)"
   ]
  },
  {
   "cell_type": "code",
   "execution_count": 3,
   "metadata": {
    "ExecuteTime": {
     "end_time": "2019-06-28T09:26:13.126609Z",
     "start_time": "2019-06-28T09:26:13.116755Z"
    }
   },
   "outputs": [
    {
     "data": {
      "text/plain": [
       "{'region': 'brain',\n",
       " 'layer': 1,\n",
       " 'nucleus': 'not-defined',\n",
       " 'mtype': 'L23_BTC',\n",
       " 'etype': 'not-defined',\n",
       " 'morph_class': 'not-defined',\n",
       " 'synapse_class': 'INH',\n",
       " 'x': 1.0,\n",
       " 'y': 2.0,\n",
       " 'z': 3.0}"
      ]
     },
     "execution_count": 3,
     "metadata": {},
     "output_type": "execute_result"
    }
   ],
   "source": [
    "example_cell =\\\n",
    "    Cell(\n",
    "        layer=1,\n",
    "        position=Position(X=1., Y=2., Z=3.),\n",
    "        mtype=\"L23_BTC\")\n",
    "example_cell.as_dict"
   ]
  },
  {
   "cell_type": "code",
   "execution_count": 4,
   "metadata": {
    "ExecuteTime": {
     "end_time": "2019-06-28T09:26:14.315884Z",
     "start_time": "2019-06-28T09:26:13.908678Z"
    }
   },
   "outputs": [
    {
     "data": {
      "text/html": [
       "<div>\n",
       "<style scoped>\n",
       "    .dataframe tbody tr th:only-of-type {\n",
       "        vertical-align: middle;\n",
       "    }\n",
       "\n",
       "    .dataframe tbody tr th {\n",
       "        vertical-align: top;\n",
       "    }\n",
       "\n",
       "    .dataframe thead th {\n",
       "        text-align: right;\n",
       "    }\n",
       "</style>\n",
       "<table border=\"1\" class=\"dataframe\">\n",
       "  <thead>\n",
       "    <tr style=\"text-align: right;\">\n",
       "      <th></th>\n",
       "      <th></th>\n",
       "      <th>mean</th>\n",
       "      <th>std</th>\n",
       "    </tr>\n",
       "    <tr>\n",
       "      <th>mtype</th>\n",
       "      <th>layer</th>\n",
       "      <th></th>\n",
       "      <th></th>\n",
       "    </tr>\n",
       "  </thead>\n",
       "  <tbody>\n",
       "    <tr>\n",
       "      <th rowspan=\"5\" valign=\"top\">L1_DAC</th>\n",
       "      <th>1</th>\n",
       "      <td>3094.333333</td>\n",
       "      <td>0.0</td>\n",
       "    </tr>\n",
       "    <tr>\n",
       "      <th>2</th>\n",
       "      <td>0.000000</td>\n",
       "      <td>0.0</td>\n",
       "    </tr>\n",
       "    <tr>\n",
       "      <th>3</th>\n",
       "      <td>0.000000</td>\n",
       "      <td>0.0</td>\n",
       "    </tr>\n",
       "    <tr>\n",
       "      <th>4</th>\n",
       "      <td>0.000000</td>\n",
       "      <td>0.0</td>\n",
       "    </tr>\n",
       "    <tr>\n",
       "      <th>5</th>\n",
       "      <td>0.000000</td>\n",
       "      <td>0.0</td>\n",
       "    </tr>\n",
       "  </tbody>\n",
       "</table>\n",
       "</div>"
      ],
      "text/plain": [
       "                     mean  std\n",
       "mtype  layer                  \n",
       "L1_DAC 1      3094.333333  0.0\n",
       "       2         0.000000  0.0\n",
       "       3         0.000000  0.0\n",
       "       4         0.000000  0.0\n",
       "       5         0.000000  0.0"
      ]
     },
     "execution_count": 4,
     "metadata": {},
     "output_type": "execute_result"
    }
   ],
   "source": [
    "from neuro_dmt.models.bluebrain.circuit.mock.test_develop\\\n",
    "    import circuit_composition, circuit_connectivity\n",
    "circuit_composition.cell_density.head()"
   ]
  },
  {
   "cell_type": "code",
   "execution_count": 5,
   "metadata": {
    "ExecuteTime": {
     "end_time": "2019-06-28T09:26:16.376039Z",
     "start_time": "2019-06-28T09:26:16.364821Z"
    },
    "code_folding": [
     1
    ]
   },
   "outputs": [
    {
     "data": {
      "text/html": [
       "<div>\n",
       "<style scoped>\n",
       "    .dataframe tbody tr th:only-of-type {\n",
       "        vertical-align: middle;\n",
       "    }\n",
       "\n",
       "    .dataframe tbody tr th {\n",
       "        vertical-align: top;\n",
       "    }\n",
       "\n",
       "    .dataframe thead th {\n",
       "        text-align: right;\n",
       "    }\n",
       "</style>\n",
       "<table border=\"1\" class=\"dataframe\">\n",
       "  <thead>\n",
       "    <tr style=\"text-align: right;\">\n",
       "      <th></th>\n",
       "      <th></th>\n",
       "      <th>mean</th>\n",
       "      <th>std</th>\n",
       "    </tr>\n",
       "    <tr>\n",
       "      <th>mtype</th>\n",
       "      <th>layer</th>\n",
       "      <th></th>\n",
       "      <th></th>\n",
       "    </tr>\n",
       "  </thead>\n",
       "  <tbody>\n",
       "    <tr>\n",
       "      <th>L1_DAC</th>\n",
       "      <th>1</th>\n",
       "      <td>3094.333333</td>\n",
       "      <td>0.0</td>\n",
       "    </tr>\n",
       "  </tbody>\n",
       "</table>\n",
       "</div>"
      ],
      "text/plain": [
       "                     mean  std\n",
       "mtype  layer                  \n",
       "L1_DAC 1      3094.333333  0.0"
      ]
     },
     "execution_count": 5,
     "metadata": {},
     "output_type": "execute_result"
    }
   ],
   "source": [
    "from neuro_dmt.models.bluebrain.circuit.mock import CircuitBuilder\n",
    "test_circuit_builder =\\\n",
    "    CircuitBuilder(\n",
    "        composition=circuit_composition,\n",
    "        connectivity=circuit_connectivity)\n",
    "test_circuit_builder.get_cell_density( mtype=\"L1_DAC\", layer=1 )"
   ]
  },
  {
   "cell_type": "code",
   "execution_count": 6,
   "metadata": {
    "ExecuteTime": {
     "end_time": "2019-06-28T09:26:18.919376Z",
     "start_time": "2019-06-28T09:26:18.909892Z"
    }
   },
   "outputs": [
    {
     "name": "stdout",
     "output_type": "stream",
     "text": [
      "              mean  std\n",
      "layer                  \n",
      "1      3094.333333  0.0\n",
      "2         0.000000  0.0\n",
      "3         0.000000  0.0\n",
      "4         0.000000  0.0\n",
      "5         0.000000  0.0\n",
      "6         0.000000  0.0\n",
      "23\n"
     ]
    }
   ],
   "source": [
    "print(circuit_composition.cell_density.loc[\"L1_DAC\"])\n",
    "print(test_circuit_builder.get_number_cells(1, \"L1_DAC\"))"
   ]
  },
  {
   "cell_type": "code",
   "execution_count": 7,
   "metadata": {
    "ExecuteTime": {
     "end_time": "2019-06-28T09:26:25.522799Z",
     "start_time": "2019-06-28T09:26:21.954827Z"
    }
   },
   "outputs": [],
   "source": [
    "circuit_cells = test_circuit_builder.get_cells()"
   ]
  },
  {
   "cell_type": "code",
   "execution_count": 8,
   "metadata": {
    "ExecuteTime": {
     "end_time": "2019-06-28T09:26:26.838236Z",
     "start_time": "2019-06-28T09:26:26.586670Z"
    }
   },
   "outputs": [
    {
     "name": "stdout",
     "output_type": "stream",
     "text": [
      "number of cells 12237\n",
      "         etype  layer  morph_class   mtype      nucleus region synapse_class  \\\n",
      "0  not-defined      1  not-defined  L1_DAC  not-defined  brain           INH   \n",
      "1  not-defined      1  not-defined  L1_DAC  not-defined  brain           INH   \n",
      "2  not-defined      1  not-defined  L1_DAC  not-defined  brain           INH   \n",
      "3  not-defined      1  not-defined  L1_DAC  not-defined  brain           INH   \n",
      "4  not-defined      1  not-defined  L1_DAC  not-defined  brain           INH   \n",
      "\n",
      "            x            y           z  \n",
      "0   43.878373  1723.686762   76.718120  \n",
      "1  228.453226  1751.511934   94.794313  \n",
      "2  213.767105  1771.889205   63.549876  \n",
      "3   19.995182  1800.157011  144.579105  \n",
      "4   90.141868  1793.903716  101.078179  \n"
     ]
    }
   ],
   "source": [
    "import pandas as pd\n",
    "circuit_cells_df =\\\n",
    "    pd.DataFrame([\n",
    "        cell.as_dict for cell in circuit_cells])\n",
    "print(\"number of cells {}\".format(circuit_cells_df.shape[0]))\n",
    "print(circuit_cells_df.head())"
   ]
  },
  {
   "cell_type": "code",
   "execution_count": 9,
   "metadata": {
    "ExecuteTime": {
     "end_time": "2019-06-28T09:26:32.852779Z",
     "start_time": "2019-06-28T09:26:29.027365Z"
    }
   },
   "outputs": [
    {
     "data": {
      "text/plain": [
       "'L1_DAC'"
      ]
     },
     "execution_count": 9,
     "metadata": {},
     "output_type": "execute_result"
    }
   ],
   "source": [
    "cell_collection = test_circuit_builder.get_cell_collection()\n",
    "cell_collection.get(1, \"mtype\")"
   ]
  },
  {
   "cell_type": "code",
   "execution_count": 10,
   "metadata": {
    "ExecuteTime": {
     "end_time": "2019-06-28T09:26:33.994866Z",
     "start_time": "2019-06-28T09:26:33.985106Z"
    }
   },
   "outputs": [
    {
     "data": {
      "text/html": [
       "<div>\n",
       "<style scoped>\n",
       "    .dataframe tbody tr th:only-of-type {\n",
       "        vertical-align: middle;\n",
       "    }\n",
       "\n",
       "    .dataframe tbody tr th {\n",
       "        vertical-align: top;\n",
       "    }\n",
       "\n",
       "    .dataframe thead th {\n",
       "        text-align: right;\n",
       "    }\n",
       "</style>\n",
       "<table border=\"1\" class=\"dataframe\">\n",
       "  <thead>\n",
       "    <tr style=\"text-align: right;\">\n",
       "      <th></th>\n",
       "      <th>mtype</th>\n",
       "      <th>etype</th>\n",
       "    </tr>\n",
       "  </thead>\n",
       "  <tbody>\n",
       "    <tr>\n",
       "      <th>1</th>\n",
       "      <td>L1_DAC</td>\n",
       "      <td>not-defined</td>\n",
       "    </tr>\n",
       "    <tr>\n",
       "      <th>2</th>\n",
       "      <td>L1_DAC</td>\n",
       "      <td>not-defined</td>\n",
       "    </tr>\n",
       "  </tbody>\n",
       "</table>\n",
       "</div>"
      ],
      "text/plain": [
       "    mtype        etype\n",
       "1  L1_DAC  not-defined\n",
       "2  L1_DAC  not-defined"
      ]
     },
     "execution_count": 10,
     "metadata": {},
     "output_type": "execute_result"
    }
   ],
   "source": [
    "cell_collection.get([1,2], properties=[\"mtype\", \"etype\"])"
   ]
  },
  {
   "cell_type": "code",
   "execution_count": 11,
   "metadata": {
    "ExecuteTime": {
     "end_time": "2019-06-28T09:29:31.044203Z",
     "start_time": "2019-06-28T09:26:43.475024Z"
    }
   },
   "outputs": [],
   "source": [
    "from neuro_dmt.models.bluebrain.circuit.mock.circuit import MockCircuit\n",
    "mock_circuit =\\\n",
    "    MockCircuit.build(\n",
    "        circuit_composition,\n",
    "        circuit_connectivity)"
   ]
  },
  {
   "cell_type": "code",
   "execution_count": 13,
   "metadata": {
    "ExecuteTime": {
     "end_time": "2019-06-28T09:30:02.457093Z",
     "start_time": "2019-06-28T09:30:02.450280Z"
    }
   },
   "outputs": [
    {
     "data": {
      "text/plain": [
       "1       L1_DAC\n",
       "3000     L4_PC\n",
       "Name: mtype, dtype: object"
      ]
     },
     "execution_count": 13,
     "metadata": {},
     "output_type": "execute_result"
    }
   ],
   "source": [
    "mock_cells = mock_circuit.cells\n",
    "mock_cells.get([1, 3000], \"mtype\")"
   ]
  },
  {
   "cell_type": "code",
   "execution_count": 16,
   "metadata": {
    "ExecuteTime": {
     "end_time": "2019-06-28T09:31:02.265539Z",
     "start_time": "2019-06-28T09:31:02.261409Z"
    }
   },
   "outputs": [
    {
     "data": {
      "text/plain": [
       "array([    1,     4,     7, ..., 12210, 12217, 12218])"
      ]
     },
     "execution_count": 16,
     "metadata": {},
     "output_type": "execute_result"
    }
   ],
   "source": [
    "mock_circuit.connectome.afferent_gids(2)"
   ]
  },
  {
   "cell_type": "code",
   "execution_count": 17,
   "metadata": {
    "ExecuteTime": {
     "end_time": "2019-06-28T09:31:03.561829Z",
     "start_time": "2019-06-28T09:31:03.477727Z"
    }
   },
   "outputs": [
    {
     "data": {
      "text/plain": [
       "array([    2,     3,     8, ..., 12233, 12234, 12235])"
      ]
     },
     "execution_count": 17,
     "metadata": {},
     "output_type": "execute_result"
    }
   ],
   "source": [
    "mock_circuit.connectome.efferent_gids(4)"
   ]
  },
  {
   "cell_type": "code",
   "execution_count": 18,
   "metadata": {
    "ExecuteTime": {
     "end_time": "2019-06-28T09:31:07.374163Z",
     "start_time": "2019-06-28T09:31:07.369749Z"
    }
   },
   "outputs": [
    {
     "data": {
      "text/plain": [
       "array([    3,     4,    12, ..., 12229, 12230, 12233])"
      ]
     },
     "execution_count": 18,
     "metadata": {},
     "output_type": "execute_result"
    }
   ],
   "source": [
    "mock_circuit.connectome.afferent_gids(14)"
   ]
  },
  {
   "cell_type": "code",
   "execution_count": 19,
   "metadata": {
    "ExecuteTime": {
     "end_time": "2019-06-28T09:31:14.237317Z",
     "start_time": "2019-06-28T09:31:14.232700Z"
    }
   },
   "outputs": [
    {
     "data": {
      "text/plain": [
       "array([[    9,     7],\n",
       "       [   10,     3],\n",
       "       [   15,     5],\n",
       "       ...,\n",
       "       [12230,     7],\n",
       "       [12231,     6],\n",
       "       [12235,     6]])"
      ]
     },
     "execution_count": 19,
     "metadata": {},
     "output_type": "execute_result"
    }
   ],
   "source": [
    "mock_circuit.connectome.afferent_adjacency[0]"
   ]
  },
  {
   "cell_type": "code",
   "execution_count": null,
   "metadata": {
    "ExecuteTime": {
     "end_time": "2019-06-28T09:25:55.777941Z",
     "start_time": "2019-06-28T09:23:45.834Z"
    }
   },
   "outputs": [],
   "source": [
    "ds = pd.Series(dict(x=1, y=2, z=3))\n",
    "ds['x']"
   ]
  },
  {
   "cell_type": "code",
   "execution_count": null,
   "metadata": {
    "ExecuteTime": {
     "end_time": "2019-06-28T09:25:55.779626Z",
     "start_time": "2019-06-28T09:23:45.836Z"
    }
   },
   "outputs": [],
   "source": [
    "df = pd.DataFrame(dict(\n",
    "    x=[1,2,23],\n",
    "    y=[2,3,4],\n",
    "    z=[123,12134,12]))\n",
    "df.loc[[1,2]]['x'].values"
   ]
  },
  {
   "cell_type": "code",
   "execution_count": null,
   "metadata": {
    "ExecuteTime": {
     "end_time": "2019-06-28T09:25:55.780894Z",
     "start_time": "2019-06-28T09:23:45.839Z"
    }
   },
   "outputs": [],
   "source": [
    "from collections import Mapping\n",
    "issubclass(Mapping, dict)\n",
    "issubclass(dict, Mapping)"
   ]
  },
  {
   "cell_type": "code",
   "execution_count": null,
   "metadata": {
    "ExecuteTime": {
     "end_time": "2019-06-28T09:25:55.782272Z",
     "start_time": "2019-06-28T09:23:45.841Z"
    }
   },
   "outputs": [],
   "source": [
    "set(x for x in range(10))"
   ]
  },
  {
   "cell_type": "code",
   "execution_count": null,
   "metadata": {},
   "outputs": [],
   "source": []
  }
 ],
 "metadata": {
  "kernelspec": {
   "display_name": "Python 3",
   "language": "python",
   "name": "python3"
  },
  "language_info": {
   "codemirror_mode": {
    "name": "ipython",
    "version": 3
   },
   "file_extension": ".py",
   "mimetype": "text/x-python",
   "name": "python",
   "nbconvert_exporter": "python",
   "pygments_lexer": "ipython3",
   "version": "3.7.0"
  },
  "latex_envs": {
   "LaTeX_envs_menu_present": true,
   "autoclose": false,
   "autocomplete": true,
   "bibliofile": "biblio.bib",
   "cite_by": "apalike",
   "current_citInitial": 1,
   "eqLabelWithNumbers": true,
   "eqNumInitial": 1,
   "hotkeys": {
    "equation": "Ctrl-E",
    "itemize": "Ctrl-I"
   },
   "labels_anchors": false,
   "latex_user_defs": false,
   "report_style_numbering": false,
   "user_envs_cfg": false
  },
  "toc": {
   "base_numbering": 1,
   "nav_menu": {},
   "number_sections": true,
   "sideBar": true,
   "skip_h1_title": false,
   "title_cell": "Table of Contents",
   "title_sidebar": "Contents",
   "toc_cell": false,
   "toc_position": {},
   "toc_section_display": true,
   "toc_window_display": false
  },
  "varInspector": {
   "cols": {
    "lenName": 16,
    "lenType": 16,
    "lenVar": 40
   },
   "kernels_config": {
    "python": {
     "delete_cmd_postfix": "",
     "delete_cmd_prefix": "del ",
     "library": "var_list.py",
     "varRefreshCmd": "print(var_dic_list())"
    },
    "r": {
     "delete_cmd_postfix": ") ",
     "delete_cmd_prefix": "rm(",
     "library": "var_list.r",
     "varRefreshCmd": "cat(var_dic_list()) "
    }
   },
   "types_to_exclude": [
    "module",
    "function",
    "builtin_function_or_method",
    "instance",
    "_Feature"
   ],
   "window_display": false
  }
 },
 "nbformat": 4,
 "nbformat_minor": 2
}
