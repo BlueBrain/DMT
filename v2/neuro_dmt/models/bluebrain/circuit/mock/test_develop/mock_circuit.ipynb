{
 "cells": [
  {
   "cell_type": "markdown",
   "metadata": {},
   "source": [
    "# Test Develop Mock Circuit"
   ]
  },
  {
   "cell_type": "code",
   "execution_count": 1,
   "metadata": {
    "ExecuteTime": {
     "end_time": "2019-07-01T20:27:07.456019Z",
     "start_time": "2019-07-01T20:27:07.029914Z"
    }
   },
   "outputs": [],
   "source": [
    "import numpy as np\n",
    "import pandas as pd\n",
    "from neuro_dmt.models.bluebrain.circuit.mock.cell import Cell"
   ]
  },
  {
   "cell_type": "code",
   "execution_count": 2,
   "metadata": {
    "ExecuteTime": {
     "end_time": "2019-07-01T20:27:07.506489Z",
     "start_time": "2019-07-01T20:27:07.498552Z"
    }
   },
   "outputs": [
    {
     "name": "stdout",
     "output_type": "stream",
     "text": [
      "(1.0, 1.0, 1.0)\n",
      "[1. 1. 1.]\n",
      "[[-0.21083023 -0.72427996 -0.13665569]\n",
      " [-0.64102257  0.74485763 -0.87864674]\n",
      " [ 0.64270505  0.50788733  0.47837893]]\n"
     ]
    }
   ],
   "source": [
    "from neuro_dmt.models.bluebrain.circuit.geometry import Position\n",
    "p = Position(X = 1., Y = 1., Z = 1.)\n",
    "print(p.as_tuple)\n",
    "print(p.value)\n",
    "\n",
    "random_positions =\\\n",
    "    Position.sample(\n",
    "        (np.array((-1., -1., -1.)), np.array((1., 1., 1.))),\n",
    "        n = 3)\n",
    "print(random_positions)"
   ]
  },
  {
   "cell_type": "code",
   "execution_count": 3,
   "metadata": {
    "ExecuteTime": {
     "end_time": "2019-07-01T20:27:08.326494Z",
     "start_time": "2019-07-01T20:27:08.306227Z"
    }
   },
   "outputs": [
    {
     "data": {
      "text/plain": [
       "{'region': 'brain',\n",
       " 'layer': 1,\n",
       " 'nucleus': 'not-defined',\n",
       " 'mtype': 'L23_BTC',\n",
       " 'etype': 'not-defined',\n",
       " 'morph_class': 'not-defined',\n",
       " 'synapse_class': 'INH',\n",
       " 'x': 1.0,\n",
       " 'y': 2.0,\n",
       " 'z': 3.0}"
      ]
     },
     "execution_count": 3,
     "metadata": {},
     "output_type": "execute_result"
    }
   ],
   "source": [
    "example_cell =\\\n",
    "    Cell(\n",
    "        layer=1,\n",
    "        position=Position(X=1., Y=2., Z=3.),\n",
    "        mtype=\"L23_BTC\")\n",
    "example_cell.as_dict"
   ]
  },
  {
   "cell_type": "code",
   "execution_count": 4,
   "metadata": {
    "ExecuteTime": {
     "end_time": "2019-07-01T20:27:09.466228Z",
     "start_time": "2019-07-01T20:27:09.142561Z"
    }
   },
   "outputs": [
    {
     "data": {
      "text/html": [
       "<div>\n",
       "<style scoped>\n",
       "    .dataframe tbody tr th:only-of-type {\n",
       "        vertical-align: middle;\n",
       "    }\n",
       "\n",
       "    .dataframe tbody tr th {\n",
       "        vertical-align: top;\n",
       "    }\n",
       "\n",
       "    .dataframe thead th {\n",
       "        text-align: right;\n",
       "    }\n",
       "</style>\n",
       "<table border=\"1\" class=\"dataframe\">\n",
       "  <thead>\n",
       "    <tr style=\"text-align: right;\">\n",
       "      <th></th>\n",
       "      <th></th>\n",
       "      <th>mean</th>\n",
       "      <th>std</th>\n",
       "    </tr>\n",
       "    <tr>\n",
       "      <th>mtype</th>\n",
       "      <th>layer</th>\n",
       "      <th></th>\n",
       "      <th></th>\n",
       "    </tr>\n",
       "  </thead>\n",
       "  <tbody>\n",
       "    <tr>\n",
       "      <th rowspan=\"5\" valign=\"top\">L1_DAC</th>\n",
       "      <th>1</th>\n",
       "      <td>3094.333333</td>\n",
       "      <td>0.0</td>\n",
       "    </tr>\n",
       "    <tr>\n",
       "      <th>2</th>\n",
       "      <td>0.000000</td>\n",
       "      <td>0.0</td>\n",
       "    </tr>\n",
       "    <tr>\n",
       "      <th>3</th>\n",
       "      <td>0.000000</td>\n",
       "      <td>0.0</td>\n",
       "    </tr>\n",
       "    <tr>\n",
       "      <th>4</th>\n",
       "      <td>0.000000</td>\n",
       "      <td>0.0</td>\n",
       "    </tr>\n",
       "    <tr>\n",
       "      <th>5</th>\n",
       "      <td>0.000000</td>\n",
       "      <td>0.0</td>\n",
       "    </tr>\n",
       "  </tbody>\n",
       "</table>\n",
       "</div>"
      ],
      "text/plain": [
       "                     mean  std\n",
       "mtype  layer                  \n",
       "L1_DAC 1      3094.333333  0.0\n",
       "       2         0.000000  0.0\n",
       "       3         0.000000  0.0\n",
       "       4         0.000000  0.0\n",
       "       5         0.000000  0.0"
      ]
     },
     "execution_count": 4,
     "metadata": {},
     "output_type": "execute_result"
    }
   ],
   "source": [
    "from neuro_dmt.models.bluebrain.circuit.mock.test_develop\\\n",
    "    import circuit_composition, circuit_connectivity\n",
    "circuit_composition.cell_density.head()"
   ]
  },
  {
   "cell_type": "code",
   "execution_count": 5,
   "metadata": {
    "ExecuteTime": {
     "end_time": "2019-07-01T20:27:09.806610Z",
     "start_time": "2019-07-01T20:27:09.789520Z"
    },
    "code_folding": [
     1
    ]
   },
   "outputs": [
    {
     "data": {
      "text/html": [
       "<div>\n",
       "<style scoped>\n",
       "    .dataframe tbody tr th:only-of-type {\n",
       "        vertical-align: middle;\n",
       "    }\n",
       "\n",
       "    .dataframe tbody tr th {\n",
       "        vertical-align: top;\n",
       "    }\n",
       "\n",
       "    .dataframe thead th {\n",
       "        text-align: right;\n",
       "    }\n",
       "</style>\n",
       "<table border=\"1\" class=\"dataframe\">\n",
       "  <thead>\n",
       "    <tr style=\"text-align: right;\">\n",
       "      <th></th>\n",
       "      <th></th>\n",
       "      <th>mean</th>\n",
       "      <th>std</th>\n",
       "    </tr>\n",
       "    <tr>\n",
       "      <th>mtype</th>\n",
       "      <th>layer</th>\n",
       "      <th></th>\n",
       "      <th></th>\n",
       "    </tr>\n",
       "  </thead>\n",
       "  <tbody>\n",
       "    <tr>\n",
       "      <th>L1_DAC</th>\n",
       "      <th>1</th>\n",
       "      <td>3094.333333</td>\n",
       "      <td>0.0</td>\n",
       "    </tr>\n",
       "  </tbody>\n",
       "</table>\n",
       "</div>"
      ],
      "text/plain": [
       "                     mean  std\n",
       "mtype  layer                  \n",
       "L1_DAC 1      3094.333333  0.0"
      ]
     },
     "execution_count": 5,
     "metadata": {},
     "output_type": "execute_result"
    }
   ],
   "source": [
    "from neuro_dmt.models.bluebrain.circuit.mock import CircuitBuilder\n",
    "test_circuit_builder =\\\n",
    "    CircuitBuilder(\n",
    "        composition=circuit_composition,\n",
    "        connectivity=circuit_connectivity)\n",
    "test_circuit_builder.get_cell_density( mtype=\"L1_DAC\", layer=1 )"
   ]
  },
  {
   "cell_type": "code",
   "execution_count": 6,
   "metadata": {
    "ExecuteTime": {
     "end_time": "2019-07-01T20:27:10.722301Z",
     "start_time": "2019-07-01T20:27:10.706527Z"
    }
   },
   "outputs": [
    {
     "name": "stdout",
     "output_type": "stream",
     "text": [
      "              mean  std\n",
      "layer                  \n",
      "1      3094.333333  0.0\n",
      "2         0.000000  0.0\n",
      "3         0.000000  0.0\n",
      "4         0.000000  0.0\n",
      "5         0.000000  0.0\n",
      "6         0.000000  0.0\n",
      "23\n"
     ]
    }
   ],
   "source": [
    "print(circuit_composition.cell_density.loc[\"L1_DAC\"])\n",
    "print(test_circuit_builder.get_number_cells(1, \"L1_DAC\"))"
   ]
  },
  {
   "cell_type": "code",
   "execution_count": 7,
   "metadata": {
    "ExecuteTime": {
     "end_time": "2019-07-01T20:27:15.218289Z",
     "start_time": "2019-07-01T20:27:11.962400Z"
    }
   },
   "outputs": [],
   "source": [
    "circuit_cells = test_circuit_builder.get_cells()"
   ]
  },
  {
   "cell_type": "code",
   "execution_count": 8,
   "metadata": {
    "ExecuteTime": {
     "end_time": "2019-07-01T20:27:16.878811Z",
     "start_time": "2019-07-01T20:27:16.697532Z"
    }
   },
   "outputs": [
    {
     "name": "stdout",
     "output_type": "stream",
     "text": [
      "number of cells 12237\n",
      "         etype  layer  morph_class   mtype      nucleus region synapse_class  \\\n",
      "0  not-defined      1  not-defined  L1_DAC  not-defined  brain           INH   \n",
      "1  not-defined      1  not-defined  L1_DAC  not-defined  brain           INH   \n",
      "2  not-defined      1  not-defined  L1_DAC  not-defined  brain           INH   \n",
      "3  not-defined      1  not-defined  L1_DAC  not-defined  brain           INH   \n",
      "4  not-defined      1  not-defined  L1_DAC  not-defined  brain           INH   \n",
      "\n",
      "            x            y           z  \n",
      "0  118.765953  1784.378960   14.790779  \n",
      "1  125.252217  1792.553843   51.629456  \n",
      "2  163.759327  1764.745174   49.185442  \n",
      "3  199.505401  1719.898291  137.067117  \n",
      "4  208.532731  1795.659227   85.898074  \n"
     ]
    }
   ],
   "source": [
    "import pandas as pd\n",
    "circuit_cells_df =\\\n",
    "    pd.DataFrame([\n",
    "        cell.as_dict for cell in circuit_cells])\n",
    "print(\"number of cells {}\".format(circuit_cells_df.shape[0]))\n",
    "print(circuit_cells_df.head())"
   ]
  },
  {
   "cell_type": "code",
   "execution_count": 9,
   "metadata": {
    "ExecuteTime": {
     "end_time": "2019-07-01T20:27:17.234605Z",
     "start_time": "2019-07-01T20:27:17.227589Z"
    }
   },
   "outputs": [
    {
     "data": {
      "text/plain": [
       "{'post_gid': 2, 'pre_gid': 1}"
      ]
     },
     "execution_count": 9,
     "metadata": {},
     "output_type": "execute_result"
    }
   ],
   "source": [
    "from neuro_dmt.models.bluebrain.circuit.mock.synapse import Synapse\n",
    "s = Synapse(pre_gid=1, post_gid=2)\n",
    "s.as_dict"
   ]
  },
  {
   "cell_type": "code",
   "execution_count": 10,
   "metadata": {
    "ExecuteTime": {
     "end_time": "2019-07-01T20:27:21.238394Z",
     "start_time": "2019-07-01T20:27:17.781410Z"
    }
   },
   "outputs": [
    {
     "data": {
      "text/plain": [
       "'L1_DAC'"
      ]
     },
     "execution_count": 10,
     "metadata": {},
     "output_type": "execute_result"
    }
   ],
   "source": [
    "cell_collection = test_circuit_builder.get_cell_collection()\n",
    "cell_collection.get(1, \"mtype\")"
   ]
  },
  {
   "cell_type": "code",
   "execution_count": 11,
   "metadata": {
    "ExecuteTime": {
     "end_time": "2019-07-01T20:27:21.399543Z",
     "start_time": "2019-07-01T20:27:21.391777Z"
    }
   },
   "outputs": [
    {
     "data": {
      "text/html": [
       "<div>\n",
       "<style scoped>\n",
       "    .dataframe tbody tr th:only-of-type {\n",
       "        vertical-align: middle;\n",
       "    }\n",
       "\n",
       "    .dataframe tbody tr th {\n",
       "        vertical-align: top;\n",
       "    }\n",
       "\n",
       "    .dataframe thead th {\n",
       "        text-align: right;\n",
       "    }\n",
       "</style>\n",
       "<table border=\"1\" class=\"dataframe\">\n",
       "  <thead>\n",
       "    <tr style=\"text-align: right;\">\n",
       "      <th></th>\n",
       "      <th>mtype</th>\n",
       "      <th>etype</th>\n",
       "    </tr>\n",
       "  </thead>\n",
       "  <tbody>\n",
       "    <tr>\n",
       "      <th>1</th>\n",
       "      <td>L1_DAC</td>\n",
       "      <td>not-defined</td>\n",
       "    </tr>\n",
       "    <tr>\n",
       "      <th>2</th>\n",
       "      <td>L1_DAC</td>\n",
       "      <td>not-defined</td>\n",
       "    </tr>\n",
       "  </tbody>\n",
       "</table>\n",
       "</div>"
      ],
      "text/plain": [
       "    mtype        etype\n",
       "1  L1_DAC  not-defined\n",
       "2  L1_DAC  not-defined"
      ]
     },
     "execution_count": 11,
     "metadata": {},
     "output_type": "execute_result"
    }
   ],
   "source": [
    "cell_collection.get([1,2], properties=[\"mtype\", \"etype\"])"
   ]
  },
  {
   "cell_type": "code",
   "execution_count": 12,
   "metadata": {
    "ExecuteTime": {
     "end_time": "2019-07-01T20:29:31.909217Z",
     "start_time": "2019-07-01T20:27:22.274213Z"
    }
   },
   "outputs": [],
   "source": [
    "from neuro_dmt.models.bluebrain.circuit.mock.circuit import MockCircuit\n",
    "mock_circuit =\\\n",
    "    MockCircuit.build(\n",
    "        circuit_composition,\n",
    "        circuit_connectivity)\n",
    "mock_conn =\\\n",
    "    mock_circuit.connectome"
   ]
  },
  {
   "cell_type": "code",
   "execution_count": 13,
   "metadata": {
    "ExecuteTime": {
     "end_time": "2019-07-01T20:29:32.068387Z",
     "start_time": "2019-07-01T20:29:32.063813Z"
    }
   },
   "outputs": [
    {
     "data": {
      "text/plain": [
       "1       L1_DAC\n",
       "3000     L4_PC\n",
       "Name: mtype, dtype: object"
      ]
     },
     "execution_count": 13,
     "metadata": {},
     "output_type": "execute_result"
    }
   ],
   "source": [
    "mock_cells = mock_circuit.cells\n",
    "mock_cells.get([1, 3000], \"mtype\")"
   ]
  },
  {
   "cell_type": "code",
   "execution_count": 14,
   "metadata": {
    "ExecuteTime": {
     "end_time": "2019-07-01T20:29:34.880565Z",
     "start_time": "2019-07-01T20:29:34.874028Z"
    }
   },
   "outputs": [
    {
     "data": {
      "text/plain": [
       "array([    0,     5,     6, ..., 12212, 12231, 12234])"
      ]
     },
     "execution_count": 14,
     "metadata": {},
     "output_type": "execute_result"
    }
   ],
   "source": [
    "mock_circuit.connectome.afferent_gids(2)"
   ]
  },
  {
   "cell_type": "code",
   "execution_count": 15,
   "metadata": {
    "ExecuteTime": {
     "end_time": "2019-07-01T20:29:35.564611Z",
     "start_time": "2019-07-01T20:29:35.459888Z"
    }
   },
   "outputs": [
    {
     "data": {
      "text/plain": [
       "array([   12,    16,    20, ..., 12195, 12200, 12229])"
      ]
     },
     "execution_count": 15,
     "metadata": {},
     "output_type": "execute_result"
    }
   ],
   "source": [
    "mock_circuit.connectome.efferent_gids(3)"
   ]
  },
  {
   "cell_type": "code",
   "execution_count": 16,
   "metadata": {
    "ExecuteTime": {
     "end_time": "2019-07-01T20:29:35.950124Z",
     "start_time": "2019-07-01T20:29:35.928249Z"
    }
   },
   "outputs": [
    {
     "data": {
      "text/html": [
       "<div>\n",
       "<style scoped>\n",
       "    .dataframe tbody tr th:only-of-type {\n",
       "        vertical-align: middle;\n",
       "    }\n",
       "\n",
       "    .dataframe tbody tr th {\n",
       "        vertical-align: top;\n",
       "    }\n",
       "\n",
       "    .dataframe thead th {\n",
       "        text-align: right;\n",
       "    }\n",
       "</style>\n",
       "<table border=\"1\" class=\"dataframe\">\n",
       "  <thead>\n",
       "    <tr style=\"text-align: right;\">\n",
       "      <th></th>\n",
       "      <th>post_gid</th>\n",
       "      <th>pre_gid</th>\n",
       "    </tr>\n",
       "  </thead>\n",
       "  <tbody>\n",
       "    <tr>\n",
       "      <th>0</th>\n",
       "      <td>2</td>\n",
       "      <td>0</td>\n",
       "    </tr>\n",
       "    <tr>\n",
       "      <th>1</th>\n",
       "      <td>2</td>\n",
       "      <td>0</td>\n",
       "    </tr>\n",
       "    <tr>\n",
       "      <th>2</th>\n",
       "      <td>2</td>\n",
       "      <td>0</td>\n",
       "    </tr>\n",
       "    <tr>\n",
       "      <th>3</th>\n",
       "      <td>2</td>\n",
       "      <td>0</td>\n",
       "    </tr>\n",
       "    <tr>\n",
       "      <th>4</th>\n",
       "      <td>2</td>\n",
       "      <td>0</td>\n",
       "    </tr>\n",
       "  </tbody>\n",
       "</table>\n",
       "</div>"
      ],
      "text/plain": [
       "   post_gid  pre_gid\n",
       "0         2        0\n",
       "1         2        0\n",
       "2         2        0\n",
       "3         2        0\n",
       "4         2        0"
      ]
     },
     "execution_count": 16,
     "metadata": {},
     "output_type": "execute_result"
    }
   ],
   "source": [
    "mock_circuit.connectome._append_afferent_synapses(2).head()"
   ]
  },
  {
   "cell_type": "code",
   "execution_count": 17,
   "metadata": {
    "ExecuteTime": {
     "end_time": "2019-07-01T20:29:36.846733Z",
     "start_time": "2019-07-01T20:29:36.821371Z"
    }
   },
   "outputs": [
    {
     "name": "stdout",
     "output_type": "stream",
     "text": [
      "   post_gid  pre_gid\n",
      "0         2        0\n",
      "1         2        0\n",
      "2         2        0\n",
      "3         2        0\n",
      "4         2        0\n",
      "(20405, 2)\n",
      "post_gids in synapses [2 1]\n",
      "pre_gids in synapses [    0     5     6 ... 12217 12219 12223]\n"
     ]
    }
   ],
   "source": [
    "print(mock_circuit.connectome._append_afferent_synapses(1).head())\n",
    "print(mock_circuit.connectome._synapses.shape)\n",
    "print(\"post_gids in synapses\", mock_circuit.connectome._synapses.post_gid.unique())\n",
    "print(\"pre_gids in synapses\", mock_circuit.connectome._synapses.pre_gid.unique())"
   ]
  },
  {
   "cell_type": "code",
   "execution_count": 18,
   "metadata": {
    "ExecuteTime": {
     "end_time": "2019-07-01T20:29:37.511803Z",
     "start_time": "2019-07-01T20:29:37.502073Z"
    }
   },
   "outputs": [
    {
     "name": "stdout",
     "output_type": "stream",
     "text": [
      "1\n"
     ]
    },
    {
     "data": {
      "text/plain": [
       "array([    0,     4,    13, ..., 12219, 12223, 12234])"
      ]
     },
     "execution_count": 18,
     "metadata": {},
     "output_type": "execute_result"
    }
   ],
   "source": [
    "print(np.searchsorted(mock_conn.afferent_adjacency[2][:,0], 1))\n",
    "mock_conn.afferent_adjacency[1][:,0]"
   ]
  },
  {
   "cell_type": "code",
   "execution_count": 35,
   "metadata": {
    "ExecuteTime": {
     "end_time": "2019-07-01T20:32:40.214788Z",
     "start_time": "2019-07-01T20:32:40.200614Z"
    }
   },
   "outputs": [
    {
     "name": "stdout",
     "output_type": "stream",
     "text": [
      "4\n",
      "[[ 0  6]\n",
      " [ 4  3]\n",
      " [13  6]\n",
      " [21  6]\n",
      " [27  2]\n",
      " [30  6]\n",
      " [41  6]\n",
      " [51  6]\n",
      " [52  4]\n",
      " [75  4]]\n",
      "   post_gid  pre_gid\n",
      "0         1       52\n",
      "1         1       52\n",
      "2         1       52\n",
      "3         1       52\n"
     ]
    }
   ],
   "source": [
    "print(mock_conn._get_pair_synapse_count(52,1))\n",
    "print(mock_conn.afferent_adjacency[1][0:10,:])\n",
    "print(mock_conn.pair_synapses(52, 1))"
   ]
  },
  {
   "cell_type": "code",
   "execution_count": null,
   "metadata": {
    "ExecuteTime": {
     "end_time": "2019-07-01T20:23:39.284022Z",
     "start_time": "2019-07-01T20:23:39.277542Z"
    }
   },
   "outputs": [],
   "source": [
    "from dmt.tk.field import Field, WithFields\n",
    "class AFF(WithFields):\n",
    "    af = Field(\n",
    "        \"\"\"\n",
    "        AFF af\n",
    "        \"\"\",\n",
    "        __required__=False)\n",
    "    baf = Field(\n",
    "        \"\"\"\n",
    "        AFF baf\n",
    "        \"\"\",\n",
    "        __required__=False)"
   ]
  },
  {
   "cell_type": "code",
   "execution_count": null,
   "metadata": {
    "ExecuteTime": {
     "end_time": "2019-07-01T14:01:29.899510Z",
     "start_time": "2019-07-01T14:01:29.079Z"
    }
   },
   "outputs": [],
   "source": [
    "aff = AFF(af=1, baf=2, jinga=3)\n",
    "aff.as_dict"
   ]
  },
  {
   "cell_type": "code",
   "execution_count": null,
   "metadata": {
    "ExecuteTime": {
     "end_time": "2019-07-01T14:01:29.901200Z",
     "start_time": "2019-07-01T14:01:29.082Z"
    }
   },
   "outputs": [],
   "source": [
    "hasattr(AFF, 'af')"
   ]
  },
  {
   "cell_type": "code",
   "execution_count": null,
   "metadata": {
    "ExecuteTime": {
     "end_time": "2019-07-01T14:01:29.930531Z",
     "start_time": "2019-07-01T14:01:29.085Z"
    }
   },
   "outputs": [],
   "source": [
    "aff1 = AFF(af = 2)"
   ]
  },
  {
   "cell_type": "code",
   "execution_count": null,
   "metadata": {
    "ExecuteTime": {
     "end_time": "2019-07-01T14:01:29.932887Z",
     "start_time": "2019-07-01T14:01:29.087Z"
    }
   },
   "outputs": [],
   "source": [
    "hasattr(aff, \"af\"), hasattr(aff1, \"af\")"
   ]
  },
  {
   "cell_type": "code",
   "execution_count": null,
   "metadata": {
    "ExecuteTime": {
     "end_time": "2019-07-01T14:01:29.934956Z",
     "start_time": "2019-07-01T14:01:29.090Z"
    }
   },
   "outputs": [],
   "source": [
    "[f for f in aff.get_fields()\n",
    " if hasattr(aff1, f)]"
   ]
  },
  {
   "cell_type": "code",
   "execution_count": null,
   "metadata": {
    "ExecuteTime": {
     "end_time": "2019-07-01T14:01:29.937427Z",
     "start_time": "2019-07-01T14:01:29.093Z"
    }
   },
   "outputs": [],
   "source": [
    "aff1.as_dict"
   ]
  },
  {
   "cell_type": "code",
   "execution_count": null,
   "metadata": {
    "ExecuteTime": {
     "end_time": "2019-07-01T14:01:29.939340Z",
     "start_time": "2019-07-01T14:01:29.096Z"
    }
   },
   "outputs": [],
   "source": [
    "from neuro_dmt.models.bluebrain.circuit.mock.synapse import Synapse"
   ]
  },
  {
   "cell_type": "code",
   "execution_count": null,
   "metadata": {
    "ExecuteTime": {
     "end_time": "2019-07-01T19:06:47.315032Z",
     "start_time": "2019-07-01T19:06:47.306460Z"
    }
   },
   "outputs": [],
   "source": [
    "ds = pd.Series([])\n",
    "ds.index = pd.MultiIndex.from_tuples([], names=[\"pre_gid\", \"post_gid\"])"
   ]
  },
  {
   "cell_type": "code",
   "execution_count": null,
   "metadata": {
    "ExecuteTime": {
     "end_time": "2019-07-01T19:06:48.597127Z",
     "start_time": "2019-07-01T19:06:48.589422Z"
    }
   },
   "outputs": [],
   "source": [
    "df"
   ]
  },
  {
   "cell_type": "code",
   "execution_count": null,
   "metadata": {
    "ExecuteTime": {
     "end_time": "2019-07-01T19:16:40.366037Z",
     "start_time": "2019-07-01T19:16:40.360129Z"
    }
   },
   "outputs": [],
   "source": [
    "xs = list(range(10))\n",
    "print(xs)\n",
    "print(xs[slice(0, 6)])"
   ]
  },
  {
   "cell_type": "code",
   "execution_count": null,
   "metadata": {
    "ExecuteTime": {
     "end_time": "2019-07-01T19:44:08.710196Z",
     "start_time": "2019-07-01T19:44:08.704909Z"
    }
   },
   "outputs": [],
   "source": [
    "xs[slice(10000, 10000)]"
   ]
  },
  {
   "cell_type": "code",
   "execution_count": null,
   "metadata": {
    "ExecuteTime": {
     "end_time": "2019-07-01T19:45:46.452795Z",
     "start_time": "2019-07-01T19:45:46.446500Z"
    }
   },
   "outputs": [],
   "source": [
    "df = pd.DataFrame({\n",
    "    \"x\": range(100),\n",
    "    \"y\": range(100, 300, 2)\n",
    "})"
   ]
  },
  {
   "cell_type": "code",
   "execution_count": null,
   "metadata": {
    "ExecuteTime": {
     "end_time": "2019-07-01T19:48:24.180585Z",
     "start_time": "2019-07-01T19:48:24.168121Z"
    }
   },
   "outputs": [],
   "source": [
    "df.iloc[slice(0, 1, 1)]"
   ]
  },
  {
   "cell_type": "code",
   "execution_count": null,
   "metadata": {},
   "outputs": [],
   "source": []
  }
 ],
 "metadata": {
  "kernelspec": {
   "display_name": "Python 3",
   "language": "python",
   "name": "python3"
  },
  "language_info": {
   "codemirror_mode": {
    "name": "ipython",
    "version": 3
   },
   "file_extension": ".py",
   "mimetype": "text/x-python",
   "name": "python",
   "nbconvert_exporter": "python",
   "pygments_lexer": "ipython3",
   "version": "3.6.7"
  },
  "latex_envs": {
   "LaTeX_envs_menu_present": true,
   "autoclose": false,
   "autocomplete": true,
   "bibliofile": "biblio.bib",
   "cite_by": "apalike",
   "current_citInitial": 1,
   "eqLabelWithNumbers": true,
   "eqNumInitial": 1,
   "hotkeys": {
    "equation": "Ctrl-E",
    "itemize": "Ctrl-I"
   },
   "labels_anchors": false,
   "latex_user_defs": false,
   "report_style_numbering": false,
   "user_envs_cfg": false
  },
  "toc": {
   "base_numbering": 1,
   "nav_menu": {},
   "number_sections": true,
   "sideBar": true,
   "skip_h1_title": false,
   "title_cell": "Table of Contents",
   "title_sidebar": "Contents",
   "toc_cell": false,
   "toc_position": {},
   "toc_section_display": true,
   "toc_window_display": false
  },
  "varInspector": {
   "cols": {
    "lenName": 16,
    "lenType": 16,
    "lenVar": 40
   },
   "kernels_config": {
    "python": {
     "delete_cmd_postfix": "",
     "delete_cmd_prefix": "del ",
     "library": "var_list.py",
     "varRefreshCmd": "print(var_dic_list())"
    },
    "r": {
     "delete_cmd_postfix": ") ",
     "delete_cmd_prefix": "rm(",
     "library": "var_list.r",
     "varRefreshCmd": "cat(var_dic_list()) "
    }
   },
   "types_to_exclude": [
    "module",
    "function",
    "builtin_function_or_method",
    "instance",
    "_Feature"
   ],
   "window_display": false
  }
 },
 "nbformat": 4,
 "nbformat_minor": 2
}
