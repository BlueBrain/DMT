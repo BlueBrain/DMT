{
 "cells": [
  {
   "cell_type": "markdown",
   "metadata": {},
   "source": [
    "# Test Develop Mock Circuit"
   ]
  },
  {
   "cell_type": "code",
   "execution_count": 3,
   "metadata": {
    "ExecuteTime": {
     "end_time": "2019-06-23T13:41:59.000195Z",
     "start_time": "2019-06-23T13:41:58.997079Z"
    }
   },
   "outputs": [],
   "source": [
    "from neuro_dmt.models.bluebrain.circuit.mock.cell import Position, Cell"
   ]
  },
  {
   "cell_type": "code",
   "execution_count": 4,
   "metadata": {
    "ExecuteTime": {
     "end_time": "2019-06-23T13:42:00.705551Z",
     "start_time": "2019-06-23T13:42:00.699381Z"
    }
   },
   "outputs": [
    {
     "name": "stdout",
     "output_type": "stream",
     "text": [
      "(1.0, 1.0, 1.0)\n",
      "[1. 1. 1.]\n",
      "[[-0.59516615 -0.82632174 -0.87976773]\n",
      " [-0.41997555 -0.46442312  0.75757897]\n",
      " [ 0.10018043  0.97256148  0.22325506]]\n"
     ]
    }
   ],
   "source": [
    "p = Position(X = 1., Y = 1., Z = 1.)\n",
    "print(p.as_tuple)\n",
    "print(p.value)\n",
    "\n",
    "random_positions =\\\n",
    "    Position.sample(\n",
    "        (np.array((-1., -1., -1.)), np.array((1., 1., 1.))),\n",
    "        n = 3)\n",
    "print(random_positions)"
   ]
  },
  {
   "cell_type": "code",
   "execution_count": 5,
   "metadata": {
    "ExecuteTime": {
     "end_time": "2019-06-23T13:42:01.447757Z",
     "start_time": "2019-06-23T13:42:01.443969Z"
    }
   },
   "outputs": [],
   "source": [
    "example_cell =\\\n",
    "    Cell(\n",
    "        layer=1,\n",
    "        position=Position(X=1., Y=2., Z=3.),\n",
    "        mtype=\"L23_BTC\")"
   ]
  },
  {
   "cell_type": "code",
   "execution_count": 6,
   "metadata": {
    "ExecuteTime": {
     "end_time": "2019-06-23T13:42:02.157558Z",
     "start_time": "2019-06-23T13:42:02.147497Z"
    }
   },
   "outputs": [
    {
     "data": {
      "text/plain": [
       "{'region': 'brain',\n",
       " 'layer': 1,\n",
       " 'nucleus': 'not-defined',\n",
       " 'mtype': 'L23_BTC',\n",
       " 'etype': 'not-defined',\n",
       " 'morph_class': 'not-defined',\n",
       " 'synapse_class': 'INH',\n",
       " 'x': 1.0,\n",
       " 'y': 2.0,\n",
       " 'z': 3.0}"
      ]
     },
     "execution_count": 6,
     "metadata": {},
     "output_type": "execute_result"
    }
   ],
   "source": [
    "example_cell.as_dict"
   ]
  },
  {
   "cell_type": "code",
   "execution_count": 7,
   "metadata": {
    "ExecuteTime": {
     "end_time": "2019-06-23T13:42:04.321715Z",
     "start_time": "2019-06-23T13:42:04.059482Z"
    }
   },
   "outputs": [
    {
     "data": {
      "text/html": [
       "<div>\n",
       "<style scoped>\n",
       "    .dataframe tbody tr th:only-of-type {\n",
       "        vertical-align: middle;\n",
       "    }\n",
       "\n",
       "    .dataframe tbody tr th {\n",
       "        vertical-align: top;\n",
       "    }\n",
       "\n",
       "    .dataframe thead th {\n",
       "        text-align: right;\n",
       "    }\n",
       "</style>\n",
       "<table border=\"1\" class=\"dataframe\">\n",
       "  <thead>\n",
       "    <tr style=\"text-align: right;\">\n",
       "      <th></th>\n",
       "      <th></th>\n",
       "      <th>error</th>\n",
       "      <th>mean</th>\n",
       "    </tr>\n",
       "    <tr>\n",
       "      <th>mtype</th>\n",
       "      <th>layer</th>\n",
       "      <th></th>\n",
       "      <th></th>\n",
       "    </tr>\n",
       "  </thead>\n",
       "  <tbody>\n",
       "    <tr>\n",
       "      <th rowspan=\"5\" valign=\"top\">L1_DAC</th>\n",
       "      <th>1</th>\n",
       "      <td>0.0</td>\n",
       "      <td>3094.333333</td>\n",
       "    </tr>\n",
       "    <tr>\n",
       "      <th>2</th>\n",
       "      <td>0.0</td>\n",
       "      <td>0.000000</td>\n",
       "    </tr>\n",
       "    <tr>\n",
       "      <th>3</th>\n",
       "      <td>0.0</td>\n",
       "      <td>0.000000</td>\n",
       "    </tr>\n",
       "    <tr>\n",
       "      <th>4</th>\n",
       "      <td>0.0</td>\n",
       "      <td>0.000000</td>\n",
       "    </tr>\n",
       "    <tr>\n",
       "      <th>5</th>\n",
       "      <td>0.0</td>\n",
       "      <td>0.000000</td>\n",
       "    </tr>\n",
       "  </tbody>\n",
       "</table>\n",
       "</div>"
      ],
      "text/plain": [
       "              error         mean\n",
       "mtype  layer                    \n",
       "L1_DAC 1        0.0  3094.333333\n",
       "       2        0.0     0.000000\n",
       "       3        0.0     0.000000\n",
       "       4        0.0     0.000000\n",
       "       5        0.0     0.000000"
      ]
     },
     "execution_count": 7,
     "metadata": {},
     "output_type": "execute_result"
    }
   ],
   "source": [
    "from neuro_dmt.models.bluebrain.circuit.mock.test_develop\\\n",
    "    import circuit_composition\n",
    "circuit_composition.cell_density.head()"
   ]
  },
  {
   "cell_type": "code",
   "execution_count": 8,
   "metadata": {
    "ExecuteTime": {
     "end_time": "2019-06-23T13:42:06.406507Z",
     "start_time": "2019-06-23T13:42:06.403763Z"
    }
   },
   "outputs": [],
   "source": [
    "from neuro_dmt.models.bluebrain.circuit.mock import CircuitBuilder"
   ]
  },
  {
   "cell_type": "code",
   "execution_count": 9,
   "metadata": {
    "ExecuteTime": {
     "end_time": "2019-06-23T13:42:08.343175Z",
     "start_time": "2019-06-23T13:42:08.339876Z"
    }
   },
   "outputs": [],
   "source": [
    "cb = CircuitBuilder(composition=circuit_composition)"
   ]
  },
  {
   "cell_type": "code",
   "execution_count": 10,
   "metadata": {
    "ExecuteTime": {
     "end_time": "2019-06-23T13:42:09.303101Z",
     "start_time": "2019-06-23T13:42:09.291845Z"
    }
   },
   "outputs": [
    {
     "data": {
      "text/html": [
       "<div>\n",
       "<style scoped>\n",
       "    .dataframe tbody tr th:only-of-type {\n",
       "        vertical-align: middle;\n",
       "    }\n",
       "\n",
       "    .dataframe tbody tr th {\n",
       "        vertical-align: top;\n",
       "    }\n",
       "\n",
       "    .dataframe thead th {\n",
       "        text-align: right;\n",
       "    }\n",
       "</style>\n",
       "<table border=\"1\" class=\"dataframe\">\n",
       "  <thead>\n",
       "    <tr style=\"text-align: right;\">\n",
       "      <th></th>\n",
       "      <th></th>\n",
       "      <th>error</th>\n",
       "      <th>mean</th>\n",
       "    </tr>\n",
       "    <tr>\n",
       "      <th>mtype</th>\n",
       "      <th>layer</th>\n",
       "      <th></th>\n",
       "      <th></th>\n",
       "    </tr>\n",
       "  </thead>\n",
       "  <tbody>\n",
       "    <tr>\n",
       "      <th>L1_DAC</th>\n",
       "      <th>1</th>\n",
       "      <td>0.0</td>\n",
       "      <td>3094.333333</td>\n",
       "    </tr>\n",
       "  </tbody>\n",
       "</table>\n",
       "</div>"
      ],
      "text/plain": [
       "              error         mean\n",
       "mtype  layer                    \n",
       "L1_DAC 1        0.0  3094.333333"
      ]
     },
     "execution_count": 10,
     "metadata": {},
     "output_type": "execute_result"
    }
   ],
   "source": [
    "cb.get_cell_density(mtype=\"L1_DAC\", layer=1)"
   ]
  },
  {
   "cell_type": "code",
   "execution_count": 11,
   "metadata": {
    "ExecuteTime": {
     "end_time": "2019-06-23T13:42:10.301090Z",
     "start_time": "2019-06-23T13:42:10.291702Z"
    }
   },
   "outputs": [
    {
     "name": "stdout",
     "output_type": "stream",
     "text": [
      "              error         mean\n",
      "mtype  layer                    \n",
      "L1_DAC 1        0.0  3094.333333\n",
      "       2        0.0     0.000000\n",
      "       3        0.0     0.000000\n",
      "       4        0.0     0.000000\n",
      "       5        0.0     0.000000\n",
      "23\n"
     ]
    }
   ],
   "source": [
    "print(circuit_composition.cell_density.head())\n",
    "print(cb.get_number_cells(1, \"L1_DAC\"))"
   ]
  },
  {
   "cell_type": "code",
   "execution_count": 12,
   "metadata": {
    "ExecuteTime": {
     "end_time": "2019-06-23T13:42:15.675934Z",
     "start_time": "2019-06-23T13:42:12.171510Z"
    }
   },
   "outputs": [],
   "source": [
    "circuit_cells = cb.get_cells()"
   ]
  },
  {
   "cell_type": "code",
   "execution_count": 13,
   "metadata": {
    "ExecuteTime": {
     "end_time": "2019-06-23T13:42:16.897263Z",
     "start_time": "2019-06-23T13:42:16.651018Z"
    }
   },
   "outputs": [
    {
     "name": "stdout",
     "output_type": "stream",
     "text": [
      "number of cells 12237\n",
      "         etype  layer  morph_class   mtype      nucleus region synapse_class  \\\n",
      "0  not-defined      1  not-defined  L1_DAC  not-defined  brain           INH   \n",
      "1  not-defined      1  not-defined  L1_DAC  not-defined  brain           INH   \n",
      "2  not-defined      1  not-defined  L1_DAC  not-defined  brain           INH   \n",
      "3  not-defined      1  not-defined  L1_DAC  not-defined  brain           INH   \n",
      "4  not-defined      1  not-defined  L1_DAC  not-defined  brain           INH   \n",
      "\n",
      "            x            y           z  \n",
      "0  184.073794  1827.783745  104.385750  \n",
      "1  242.210584  1747.434276   43.142952  \n",
      "2  231.468702  1756.177760   19.581772  \n",
      "3   81.923657  1722.898112   63.999505  \n",
      "4   50.175557  1721.252435   42.855869  \n"
     ]
    }
   ],
   "source": [
    "import pandas as pd\n",
    "circuit_cells_df =\\\n",
    "    pd.DataFrame([\n",
    "        cell.as_dict for cell in circuit_cells])\n",
    "print(\"number of cells {}\".format(circuit_cells_df.shape[0]))\n",
    "print(circuit_cells_df.head())"
   ]
  },
  {
   "cell_type": "code",
   "execution_count": 15,
   "metadata": {
    "ExecuteTime": {
     "end_time": "2019-06-23T13:42:40.276673Z",
     "start_time": "2019-06-23T13:42:40.273047Z"
    }
   },
   "outputs": [
    {
     "data": {
      "text/plain": [
       "<neuro_dmt.models.bluebrain.circuit.mock.builder.CircuitBuilder at 0x1212399e8>"
      ]
     },
     "execution_count": 15,
     "metadata": {},
     "output_type": "execute_result"
    }
   ],
   "source": [
    "cb"
   ]
  },
  {
   "cell_type": "code",
   "execution_count": null,
   "metadata": {},
   "outputs": [],
   "source": []
  }
 ],
 "metadata": {
  "kernelspec": {
   "display_name": "Python 3",
   "language": "python",
   "name": "python3"
  },
  "language_info": {
   "codemirror_mode": {
    "name": "ipython",
    "version": 3
   },
   "file_extension": ".py",
   "mimetype": "text/x-python",
   "name": "python",
   "nbconvert_exporter": "python",
   "pygments_lexer": "ipython3",
   "version": "3.7.0"
  },
  "toc": {
   "base_numbering": 1,
   "nav_menu": {},
   "number_sections": true,
   "sideBar": true,
   "skip_h1_title": false,
   "title_cell": "Table of Contents",
   "title_sidebar": "Contents",
   "toc_cell": false,
   "toc_position": {},
   "toc_section_display": true,
   "toc_window_display": false
  },
  "varInspector": {
   "cols": {
    "lenName": 16,
    "lenType": 16,
    "lenVar": 40
   },
   "kernels_config": {
    "python": {
     "delete_cmd_postfix": "",
     "delete_cmd_prefix": "del ",
     "library": "var_list.py",
     "varRefreshCmd": "print(var_dic_list())"
    },
    "r": {
     "delete_cmd_postfix": ") ",
     "delete_cmd_prefix": "rm(",
     "library": "var_list.r",
     "varRefreshCmd": "cat(var_dic_list()) "
    }
   },
   "types_to_exclude": [
    "module",
    "function",
    "builtin_function_or_method",
    "instance",
    "_Feature"
   ],
   "window_display": false
  }
 },
 "nbformat": 4,
 "nbformat_minor": 2
}
