{
 "cells": [
  {
   "cell_type": "markdown",
   "metadata": {},
   "source": [
    "# Test Develop Mock Circuit"
   ]
  },
  {
   "cell_type": "code",
   "execution_count": 1,
   "metadata": {
    "ExecuteTime": {
     "end_time": "2019-07-03T13:41:37.033895Z",
     "start_time": "2019-07-03T13:41:36.509932Z"
    }
   },
   "outputs": [],
   "source": [
    "import numpy as np\n",
    "import pandas as pd\n",
    "from neuro_dmt.models.bluebrain.circuit.mock.cell import Cell"
   ]
  },
  {
   "cell_type": "code",
   "execution_count": 2,
   "metadata": {
    "ExecuteTime": {
     "end_time": "2019-07-03T13:41:41.195710Z",
     "start_time": "2019-07-03T13:41:41.189782Z"
    }
   },
   "outputs": [
    {
     "name": "stdout",
     "output_type": "stream",
     "text": [
      "(1.0, 1.0, 1.0)\n",
      "[1. 1. 1.]\n",
      "[[-0.91557735  0.82629491 -0.59784094]\n",
      " [-0.10825935 -0.73896715  0.08956719]\n",
      " [ 0.3758295   0.86509449 -0.12758718]]\n"
     ]
    }
   ],
   "source": [
    "from neuro_dmt.models.bluebrain.circuit.geometry import Position\n",
    "p = Position(X = 1., Y = 1., Z = 1.)\n",
    "print(p.as_tuple)\n",
    "print(p.value)\n",
    "\n",
    "random_positions =\\\n",
    "    Position.sample(\n",
    "        (np.array((-1., -1., -1.)), np.array((1., 1., 1.))),\n",
    "        n = 3)\n",
    "print(random_positions)"
   ]
  },
  {
   "cell_type": "code",
   "execution_count": 3,
   "metadata": {
    "ExecuteTime": {
     "end_time": "2019-07-03T13:41:41.756496Z",
     "start_time": "2019-07-03T13:41:41.746729Z"
    }
   },
   "outputs": [
    {
     "data": {
      "text/plain": [
       "{'region': 'brain',\n",
       " 'layer': 1,\n",
       " 'nucleus': 'not-defined',\n",
       " 'mtype': 'L23_BTC',\n",
       " 'etype': 'not-defined',\n",
       " 'morph_class': 'not-defined',\n",
       " 'synapse_class': 'INH',\n",
       " 'x': 1.0,\n",
       " 'y': 2.0,\n",
       " 'z': 3.0}"
      ]
     },
     "execution_count": 3,
     "metadata": {},
     "output_type": "execute_result"
    }
   ],
   "source": [
    "example_cell =\\\n",
    "    Cell(\n",
    "        layer=1,\n",
    "        position=Position(X=1., Y=2., Z=3.),\n",
    "        mtype=\"L23_BTC\")\n",
    "example_cell.as_dict"
   ]
  },
  {
   "cell_type": "code",
   "execution_count": 4,
   "metadata": {
    "ExecuteTime": {
     "end_time": "2019-07-03T13:41:42.904153Z",
     "start_time": "2019-07-03T13:41:42.534698Z"
    }
   },
   "outputs": [
    {
     "data": {
      "text/html": [
       "<div>\n",
       "<style scoped>\n",
       "    .dataframe tbody tr th:only-of-type {\n",
       "        vertical-align: middle;\n",
       "    }\n",
       "\n",
       "    .dataframe tbody tr th {\n",
       "        vertical-align: top;\n",
       "    }\n",
       "\n",
       "    .dataframe thead th {\n",
       "        text-align: right;\n",
       "    }\n",
       "</style>\n",
       "<table border=\"1\" class=\"dataframe\">\n",
       "  <thead>\n",
       "    <tr style=\"text-align: right;\">\n",
       "      <th></th>\n",
       "      <th></th>\n",
       "      <th>mean</th>\n",
       "      <th>std</th>\n",
       "    </tr>\n",
       "    <tr>\n",
       "      <th>mtype</th>\n",
       "      <th>layer</th>\n",
       "      <th></th>\n",
       "      <th></th>\n",
       "    </tr>\n",
       "  </thead>\n",
       "  <tbody>\n",
       "    <tr>\n",
       "      <th rowspan=\"5\" valign=\"top\">L1_DAC</th>\n",
       "      <th>1</th>\n",
       "      <td>3094.333333</td>\n",
       "      <td>0.0</td>\n",
       "    </tr>\n",
       "    <tr>\n",
       "      <th>2</th>\n",
       "      <td>0.000000</td>\n",
       "      <td>0.0</td>\n",
       "    </tr>\n",
       "    <tr>\n",
       "      <th>3</th>\n",
       "      <td>0.000000</td>\n",
       "      <td>0.0</td>\n",
       "    </tr>\n",
       "    <tr>\n",
       "      <th>4</th>\n",
       "      <td>0.000000</td>\n",
       "      <td>0.0</td>\n",
       "    </tr>\n",
       "    <tr>\n",
       "      <th>5</th>\n",
       "      <td>0.000000</td>\n",
       "      <td>0.0</td>\n",
       "    </tr>\n",
       "  </tbody>\n",
       "</table>\n",
       "</div>"
      ],
      "text/plain": [
       "                     mean  std\n",
       "mtype  layer                  \n",
       "L1_DAC 1      3094.333333  0.0\n",
       "       2         0.000000  0.0\n",
       "       3         0.000000  0.0\n",
       "       4         0.000000  0.0\n",
       "       5         0.000000  0.0"
      ]
     },
     "execution_count": 4,
     "metadata": {},
     "output_type": "execute_result"
    }
   ],
   "source": [
    "from neuro_dmt.models.bluebrain.circuit.mock.test_develop\\\n",
    "    import circuit_composition, circuit_connectivity\n",
    "circuit_composition.cell_density.head()"
   ]
  },
  {
   "cell_type": "code",
   "execution_count": 5,
   "metadata": {
    "ExecuteTime": {
     "end_time": "2019-07-03T13:41:43.654726Z",
     "start_time": "2019-07-03T13:41:43.641258Z"
    },
    "code_folding": [
     1
    ]
   },
   "outputs": [
    {
     "data": {
      "text/html": [
       "<div>\n",
       "<style scoped>\n",
       "    .dataframe tbody tr th:only-of-type {\n",
       "        vertical-align: middle;\n",
       "    }\n",
       "\n",
       "    .dataframe tbody tr th {\n",
       "        vertical-align: top;\n",
       "    }\n",
       "\n",
       "    .dataframe thead th {\n",
       "        text-align: right;\n",
       "    }\n",
       "</style>\n",
       "<table border=\"1\" class=\"dataframe\">\n",
       "  <thead>\n",
       "    <tr style=\"text-align: right;\">\n",
       "      <th></th>\n",
       "      <th></th>\n",
       "      <th>mean</th>\n",
       "      <th>std</th>\n",
       "    </tr>\n",
       "    <tr>\n",
       "      <th>mtype</th>\n",
       "      <th>layer</th>\n",
       "      <th></th>\n",
       "      <th></th>\n",
       "    </tr>\n",
       "  </thead>\n",
       "  <tbody>\n",
       "    <tr>\n",
       "      <th>L1_DAC</th>\n",
       "      <th>1</th>\n",
       "      <td>3094.333333</td>\n",
       "      <td>0.0</td>\n",
       "    </tr>\n",
       "  </tbody>\n",
       "</table>\n",
       "</div>"
      ],
      "text/plain": [
       "                     mean  std\n",
       "mtype  layer                  \n",
       "L1_DAC 1      3094.333333  0.0"
      ]
     },
     "execution_count": 5,
     "metadata": {},
     "output_type": "execute_result"
    }
   ],
   "source": [
    "from neuro_dmt.models.bluebrain.circuit.mock import CircuitBuilder\n",
    "test_circuit_builder =\\\n",
    "    CircuitBuilder(\n",
    "        composition=circuit_composition,\n",
    "        connectivity=circuit_connectivity)\n",
    "test_circuit_builder.get_cell_density( mtype=\"L1_DAC\", layer=1 )"
   ]
  },
  {
   "cell_type": "code",
   "execution_count": 6,
   "metadata": {
    "ExecuteTime": {
     "end_time": "2019-07-03T13:41:44.655847Z",
     "start_time": "2019-07-03T13:41:44.643566Z"
    }
   },
   "outputs": [
    {
     "name": "stdout",
     "output_type": "stream",
     "text": [
      "              mean  std\n",
      "layer                  \n",
      "1      3094.333333  0.0\n",
      "2         0.000000  0.0\n",
      "3         0.000000  0.0\n",
      "4         0.000000  0.0\n",
      "5         0.000000  0.0\n",
      "6         0.000000  0.0\n",
      "23\n"
     ]
    }
   ],
   "source": [
    "print(circuit_composition.cell_density.loc[\"L1_DAC\"])\n",
    "print(test_circuit_builder.get_number_cells(1, \"L1_DAC\"))"
   ]
  },
  {
   "cell_type": "code",
   "execution_count": 7,
   "metadata": {
    "ExecuteTime": {
     "end_time": "2019-07-03T13:41:49.485969Z",
     "start_time": "2019-07-03T13:41:45.645132Z"
    }
   },
   "outputs": [],
   "source": [
    "circuit_cells = test_circuit_builder.get_cells()"
   ]
  },
  {
   "cell_type": "code",
   "execution_count": 8,
   "metadata": {
    "ExecuteTime": {
     "end_time": "2019-07-03T13:41:50.521202Z",
     "start_time": "2019-07-03T13:41:50.279303Z"
    }
   },
   "outputs": [
    {
     "name": "stdout",
     "output_type": "stream",
     "text": [
      "number of cells 12237\n",
      "         etype  layer  morph_class   mtype      nucleus region synapse_class  \\\n",
      "0  not-defined      1  not-defined  L1_DAC  not-defined  brain           INH   \n",
      "1  not-defined      1  not-defined  L1_DAC  not-defined  brain           INH   \n",
      "2  not-defined      1  not-defined  L1_DAC  not-defined  brain           INH   \n",
      "3  not-defined      1  not-defined  L1_DAC  not-defined  brain           INH   \n",
      "4  not-defined      1  not-defined  L1_DAC  not-defined  brain           INH   \n",
      "\n",
      "            x            y           z  \n",
      "0   96.201736  1762.647126   64.541717  \n",
      "1  240.077672  1828.614957  220.628095  \n",
      "2  102.333199  1722.321061   55.503750  \n",
      "3  221.816694  1738.919199  198.745262  \n",
      "4   45.651688  1806.277845  105.267527  \n"
     ]
    }
   ],
   "source": [
    "import pandas as pd\n",
    "circuit_cells_df =\\\n",
    "    pd.DataFrame([\n",
    "        cell.as_dict for cell in circuit_cells])\n",
    "print(\"number of cells {}\".format(circuit_cells_df.shape[0]))\n",
    "print(circuit_cells_df.head())"
   ]
  },
  {
   "cell_type": "code",
   "execution_count": 9,
   "metadata": {
    "ExecuteTime": {
     "end_time": "2019-07-03T13:41:51.342678Z",
     "start_time": "2019-07-03T13:41:51.335512Z"
    }
   },
   "outputs": [
    {
     "data": {
      "text/plain": [
       "{'post_gid': 2, 'pre_gid': 1}"
      ]
     },
     "execution_count": 9,
     "metadata": {},
     "output_type": "execute_result"
    }
   ],
   "source": [
    "from neuro_dmt.models.bluebrain.circuit.mock.synapse import Synapse\n",
    "s = Synapse(pre_gid=1, post_gid=2)\n",
    "s.as_dict"
   ]
  },
  {
   "cell_type": "code",
   "execution_count": 10,
   "metadata": {
    "ExecuteTime": {
     "end_time": "2019-07-03T13:41:56.052035Z",
     "start_time": "2019-07-03T13:41:52.183487Z"
    }
   },
   "outputs": [
    {
     "data": {
      "text/plain": [
       "'L1_DAC'"
      ]
     },
     "execution_count": 10,
     "metadata": {},
     "output_type": "execute_result"
    }
   ],
   "source": [
    "cell_collection = test_circuit_builder.get_cell_collection()\n",
    "cell_collection.get(1, \"mtype\")"
   ]
  },
  {
   "cell_type": "code",
   "execution_count": 11,
   "metadata": {
    "ExecuteTime": {
     "end_time": "2019-07-03T13:41:56.944577Z",
     "start_time": "2019-07-03T13:41:56.934117Z"
    }
   },
   "outputs": [
    {
     "data": {
      "text/html": [
       "<div>\n",
       "<style scoped>\n",
       "    .dataframe tbody tr th:only-of-type {\n",
       "        vertical-align: middle;\n",
       "    }\n",
       "\n",
       "    .dataframe tbody tr th {\n",
       "        vertical-align: top;\n",
       "    }\n",
       "\n",
       "    .dataframe thead th {\n",
       "        text-align: right;\n",
       "    }\n",
       "</style>\n",
       "<table border=\"1\" class=\"dataframe\">\n",
       "  <thead>\n",
       "    <tr style=\"text-align: right;\">\n",
       "      <th></th>\n",
       "      <th>mtype</th>\n",
       "      <th>etype</th>\n",
       "    </tr>\n",
       "  </thead>\n",
       "  <tbody>\n",
       "    <tr>\n",
       "      <th>1</th>\n",
       "      <td>L1_DAC</td>\n",
       "      <td>not-defined</td>\n",
       "    </tr>\n",
       "    <tr>\n",
       "      <th>2</th>\n",
       "      <td>L1_DAC</td>\n",
       "      <td>not-defined</td>\n",
       "    </tr>\n",
       "  </tbody>\n",
       "</table>\n",
       "</div>"
      ],
      "text/plain": [
       "    mtype        etype\n",
       "1  L1_DAC  not-defined\n",
       "2  L1_DAC  not-defined"
      ]
     },
     "execution_count": 11,
     "metadata": {},
     "output_type": "execute_result"
    }
   ],
   "source": [
    "cell_collection.get([1,2], properties=[\"mtype\", \"etype\"])"
   ]
  },
  {
   "cell_type": "code",
   "execution_count": 12,
   "metadata": {
    "ExecuteTime": {
     "end_time": "2019-07-03T13:44:32.574265Z",
     "start_time": "2019-07-03T13:41:57.757974Z"
    }
   },
   "outputs": [],
   "source": [
    "from neuro_dmt.models.bluebrain.circuit.mock.circuit import MockCircuit\n",
    "mock_circuit =\\\n",
    "    MockCircuit.build(\n",
    "        circuit_composition,\n",
    "        circuit_connectivity)\n",
    "mock_conn =\\\n",
    "    mock_circuit.connectome"
   ]
  },
  {
   "cell_type": "code",
   "execution_count": null,
   "metadata": {
    "ExecuteTime": {
     "end_time": "2019-07-03T13:40:43.544543Z",
     "start_time": "2019-07-03T13:40:43.535859Z"
    }
   },
   "outputs": [],
   "source": [
    "mock_cells = mock_circuit.cells\n",
    "mock_cells.get([1, 3000], \"mtype\")"
   ]
  },
  {
   "cell_type": "code",
   "execution_count": null,
   "metadata": {
    "ExecuteTime": {
     "end_time": "2019-07-03T13:40:46.111329Z",
     "start_time": "2019-07-03T13:40:46.006848Z"
    }
   },
   "outputs": [],
   "source": [
    "mock_conn = mock_circuit.connectome\n",
    "print(mock_conn.afferent_gids(2))\n",
    "print(mock_conn.efferent_gids(14))"
   ]
  },
  {
   "cell_type": "code",
   "execution_count": null,
   "metadata": {
    "ExecuteTime": {
     "end_time": "2019-07-03T13:40:55.889369Z",
     "start_time": "2019-07-03T13:40:55.855378Z"
    }
   },
   "outputs": [],
   "source": [
    "post_gid = 0\n",
    "pre_gid = 0\n",
    "print(mock_conn._get_pair_synapse_count(pre_gid, post_gid))\n",
    "print(mock_conn.afferent_adjacency[post_gid][0:10,:])\n",
    "print(mock_conn._get_synapses(pre_gid, post_gid))\n",
    "print(mock_conn.pair_synapses(pre_gid, post_gid))\n",
    "#print(mock_conn.pair_synapses(pre_gid, 1))"
   ]
  },
  {
   "cell_type": "code",
   "execution_count": null,
   "metadata": {
    "ExecuteTime": {
     "end_time": "2019-07-03T13:41:01.194400Z",
     "start_time": "2019-07-03T13:40:58.274106Z"
    }
   },
   "outputs": [],
   "source": [
    "gid = 10\n",
    "aff_gids = mock_conn.afferent_gids(gid)\n",
    "print(len(aff_gids))\n",
    "aff_syns = mock_conn.afferent_synapses(gid)\n",
    "print(len(aff_syns))"
   ]
  },
  {
   "cell_type": "code",
   "execution_count": null,
   "metadata": {
    "ExecuteTime": {
     "end_time": "2019-07-03T13:41:05.502700Z",
     "start_time": "2019-07-03T13:41:02.301661Z"
    }
   },
   "outputs": [],
   "source": [
    "gid = 10\n",
    "eff_gids = mock_conn.efferent_gids(gid)\n",
    "print(len(eff_gids))\n",
    "eff_syns = mock_conn.efferent_synapses(gid)\n",
    "#eff_syns = mock_conn._get_properties(\n",
    " #   mock_conn._get_synapses(pre_gid=gid),\n",
    "  #  properties=None)\n",
    "print(len(eff_syns))"
   ]
  },
  {
   "cell_type": "code",
   "execution_count": null,
   "metadata": {
    "ExecuteTime": {
     "end_time": "2019-07-03T13:41:06.267969Z",
     "start_time": "2019-07-03T13:41:06.260446Z"
    }
   },
   "outputs": [],
   "source": [
    "mock_conn.empty_synapse_holder()"
   ]
  },
  {
   "cell_type": "code",
   "execution_count": null,
   "metadata": {
    "ExecuteTime": {
     "end_time": "2019-07-03T13:41:08.126092Z",
     "start_time": "2019-07-03T13:41:08.101247Z"
    }
   },
   "outputs": [],
   "source": [
    "print(mock_conn.pathway_synapses(np.array([pre_gid]), np.array([post_gid])))\n",
    "print(mock_conn.pathway_synapses(np.array([0, 5, 8]), np.array([0])))\n",
    "print(mock_conn.pathway_synapses(post_gids=np.array([0])))"
   ]
  },
  {
   "cell_type": "code",
   "execution_count": null,
   "metadata": {},
   "outputs": [],
   "source": [
    "mock_conn._synapses = mock_conn.empty_synapse_holder()\n",
    "mock_conn."
   ]
  },
  {
   "cell_type": "code",
   "execution_count": null,
   "metadata": {
    "ExecuteTime": {
     "end_time": "2019-07-02T13:05:54.798005Z",
     "start_time": "2019-07-02T13:05:49.075740Z"
    }
   },
   "outputs": [],
   "source": [
    "post_gid = 0\n",
    "synapses = mock_conn.empty_synapse_holder()\n",
    "synapses = synapses.append(\n",
    "    mock_conn._read_synapses(0, 0))\n",
    "for pre_gid in mock_conn.afferent_gids(post_gid):\n",
    "    synapses = synapses.append(\n",
    "        mock_conn._read_synapses(pre_gid, post_gid))\n",
    "print(synapses)"
   ]
  },
  {
   "cell_type": "code",
   "execution_count": null,
   "metadata": {
    "ExecuteTime": {
     "end_time": "2019-07-02T12:56:43.638362Z",
     "start_time": "2019-07-02T12:56:43.629069Z"
    }
   },
   "outputs": [],
   "source": [
    "ss = [(pre_gid, mock_conn._synapses_slice(pre_gid, post_gid))\n",
    "      for pre_gid in mock_conn.afferent_gids(post_gid)]\n",
    "ss[:10]"
   ]
  },
  {
   "cell_type": "code",
   "execution_count": null,
   "metadata": {
    "ExecuteTime": {
     "end_time": "2019-07-02T13:30:16.602812Z",
     "start_time": "2019-07-02T13:30:16.591116Z"
    }
   },
   "outputs": [],
   "source": [
    "df = pd.DataFrame(dict(x=np.arange(100), y=np.arange(150, 250)))\\\n",
    "       .set_index([\"x\", \"y\"], drop=False)\n",
    "print(df.xs(2, level=\"x\"))\n",
    "print(df.xs((1,150), level=(\"x\", \"y\")))"
   ]
  },
  {
   "cell_type": "code",
   "execution_count": null,
   "metadata": {
    "ExecuteTime": {
     "end_time": "2019-07-02T14:18:08.190113Z",
     "start_time": "2019-07-02T14:18:07.392480Z"
    }
   },
   "outputs": [],
   "source": [
    "post_gid = 0\n",
    "egdf = pd.concat([\n",
    "    pd.DataFrame({\n",
    "        \"pre_gid\": pre_gid,\n",
    "        \"post_gid\": post_gid,\n",
    "        \"synapse_index\": np.arange(count, dtype=np.int32)})\n",
    "    for pre_gid, count in mock_conn.afferent_adjacency[post_gid]])\\\n",
    "    .set_index(\n",
    "        [\"pre_gid\", \"post_gid\"],\n",
    "        drop=False)\n",
    "print(np.arange(0))"
   ]
  },
  {
   "cell_type": "code",
   "execution_count": null,
   "metadata": {
    "ExecuteTime": {
     "end_time": "2019-07-02T14:20:07.236655Z",
     "start_time": "2019-07-02T14:20:07.227819Z"
    }
   },
   "outputs": [],
   "source": [
    "pd.DataFrame({\n",
    "    \"pre_gid\": 1,\n",
    "    \"post_gid\": 2,\n",
    "    \"synapse_index\": np.arange(0)})\\\n",
    "    .set_index(\n",
    "        [\"pre_gid\", \"post_gid\"],\n",
    "        drop=False)"
   ]
  },
  {
   "cell_type": "code",
   "execution_count": null,
   "metadata": {},
   "outputs": [],
   "source": []
  }
 ],
 "metadata": {
  "kernelspec": {
   "display_name": "Python 3",
   "language": "python",
   "name": "python3"
  },
  "language_info": {
   "codemirror_mode": {
    "name": "ipython",
    "version": 3
   },
   "file_extension": ".py",
   "mimetype": "text/x-python",
   "name": "python",
   "nbconvert_exporter": "python",
   "pygments_lexer": "ipython3",
   "version": "3.7.0"
  },
  "latex_envs": {
   "LaTeX_envs_menu_present": true,
   "autoclose": false,
   "autocomplete": true,
   "bibliofile": "biblio.bib",
   "cite_by": "apalike",
   "current_citInitial": 1,
   "eqLabelWithNumbers": true,
   "eqNumInitial": 1,
   "hotkeys": {
    "equation": "Ctrl-E",
    "itemize": "Ctrl-I"
   },
   "labels_anchors": false,
   "latex_user_defs": false,
   "report_style_numbering": false,
   "user_envs_cfg": false
  },
  "toc": {
   "base_numbering": 1,
   "nav_menu": {},
   "number_sections": true,
   "sideBar": true,
   "skip_h1_title": false,
   "title_cell": "Table of Contents",
   "title_sidebar": "Contents",
   "toc_cell": false,
   "toc_position": {},
   "toc_section_display": true,
   "toc_window_display": false
  },
  "varInspector": {
   "cols": {
    "lenName": 16,
    "lenType": 16,
    "lenVar": 40
   },
   "kernels_config": {
    "python": {
     "delete_cmd_postfix": "",
     "delete_cmd_prefix": "del ",
     "library": "var_list.py",
     "varRefreshCmd": "print(var_dic_list())"
    },
    "r": {
     "delete_cmd_postfix": ") ",
     "delete_cmd_prefix": "rm(",
     "library": "var_list.r",
     "varRefreshCmd": "cat(var_dic_list()) "
    }
   },
   "types_to_exclude": [
    "module",
    "function",
    "builtin_function_or_method",
    "instance",
    "_Feature"
   ],
   "window_display": false
  }
 },
 "nbformat": 4,
 "nbformat_minor": 2
}
