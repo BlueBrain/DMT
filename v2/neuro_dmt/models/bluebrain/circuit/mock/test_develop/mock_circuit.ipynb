{
 "cells": [
  {
   "cell_type": "markdown",
   "metadata": {},
   "source": [
    "# Test Develop Mock Circuit"
   ]
  },
  {
   "cell_type": "code",
   "execution_count": 1,
   "metadata": {
    "ExecuteTime": {
     "end_time": "2019-06-23T12:33:19.469270Z",
     "start_time": "2019-06-23T12:33:18.908158Z"
    }
   },
   "outputs": [],
   "source": [
    "from neuro_dmt.models.bluebrain.circuit.mock.cells import Position, Cell"
   ]
  },
  {
   "cell_type": "code",
   "execution_count": 2,
   "metadata": {
    "ExecuteTime": {
     "end_time": "2019-06-23T12:33:19.600991Z",
     "start_time": "2019-06-23T12:33:19.594819Z"
    }
   },
   "outputs": [
    {
     "name": "stdout",
     "output_type": "stream",
     "text": [
      "(1.0, 1.0, 1.0)\n",
      "[1. 1. 1.]\n",
      "[[-0.66419228 -0.45378102 -0.28074639]\n",
      " [-0.05017034  0.0400958  -0.35899231]\n",
      " [-0.68340663 -0.81066059 -0.28387009]]\n"
     ]
    }
   ],
   "source": [
    "p = Position(X = 1., Y = 1., Z = 1.)\n",
    "print(p.as_tuple)\n",
    "print(p.value)\n",
    "\n",
    "random_positions =\\\n",
    "    Position.sample(\n",
    "        (np.array((-1., -1., -1.)), np.array((1., 1., 1.))),\n",
    "        n = 3)\n",
    "print(random_positions)"
   ]
  },
  {
   "cell_type": "code",
   "execution_count": 3,
   "metadata": {
    "ExecuteTime": {
     "end_time": "2019-06-23T12:33:19.748581Z",
     "start_time": "2019-06-23T12:33:19.744310Z"
    }
   },
   "outputs": [],
   "source": [
    "example_cell =\\\n",
    "    Cell(\n",
    "        layer=1,\n",
    "        position=Position(X=1., Y=2., Z=3.),\n",
    "        mtype=\"L23_BTC\")"
   ]
  },
  {
   "cell_type": "code",
   "execution_count": 4,
   "metadata": {
    "ExecuteTime": {
     "end_time": "2019-06-23T12:33:20.281984Z",
     "start_time": "2019-06-23T12:33:20.273195Z"
    }
   },
   "outputs": [
    {
     "data": {
      "text/plain": [
       "{'region': 'brain',\n",
       " 'layer': 1,\n",
       " 'nucleus': 'not-defined',\n",
       " 'mtype': 'L23_BTC',\n",
       " 'etype': 'not-defined',\n",
       " 'morph_class': 'not-defined',\n",
       " 'synapse_class': 'INH',\n",
       " 'x': 1.0,\n",
       " 'y': 2.0,\n",
       " 'z': 3.0}"
      ]
     },
     "execution_count": 4,
     "metadata": {},
     "output_type": "execute_result"
    }
   ],
   "source": [
    "example_cell.as_dict"
   ]
  },
  {
   "cell_type": "code",
   "execution_count": 5,
   "metadata": {
    "ExecuteTime": {
     "end_time": "2019-06-23T12:33:21.309380Z",
     "start_time": "2019-06-23T12:33:20.898692Z"
    }
   },
   "outputs": [
    {
     "data": {
      "text/html": [
       "<div>\n",
       "<style scoped>\n",
       "    .dataframe tbody tr th:only-of-type {\n",
       "        vertical-align: middle;\n",
       "    }\n",
       "\n",
       "    .dataframe tbody tr th {\n",
       "        vertical-align: top;\n",
       "    }\n",
       "\n",
       "    .dataframe thead th {\n",
       "        text-align: right;\n",
       "    }\n",
       "</style>\n",
       "<table border=\"1\" class=\"dataframe\">\n",
       "  <thead>\n",
       "    <tr style=\"text-align: right;\">\n",
       "      <th></th>\n",
       "      <th></th>\n",
       "      <th>error</th>\n",
       "      <th>mean</th>\n",
       "    </tr>\n",
       "    <tr>\n",
       "      <th>mtype</th>\n",
       "      <th>layer</th>\n",
       "      <th></th>\n",
       "      <th></th>\n",
       "    </tr>\n",
       "  </thead>\n",
       "  <tbody>\n",
       "    <tr>\n",
       "      <th rowspan=\"5\" valign=\"top\">L1_DAC</th>\n",
       "      <th>1</th>\n",
       "      <td>0.0</td>\n",
       "      <td>3094.333333</td>\n",
       "    </tr>\n",
       "    <tr>\n",
       "      <th>2</th>\n",
       "      <td>0.0</td>\n",
       "      <td>0.000000</td>\n",
       "    </tr>\n",
       "    <tr>\n",
       "      <th>3</th>\n",
       "      <td>0.0</td>\n",
       "      <td>0.000000</td>\n",
       "    </tr>\n",
       "    <tr>\n",
       "      <th>4</th>\n",
       "      <td>0.0</td>\n",
       "      <td>0.000000</td>\n",
       "    </tr>\n",
       "    <tr>\n",
       "      <th>5</th>\n",
       "      <td>0.0</td>\n",
       "      <td>0.000000</td>\n",
       "    </tr>\n",
       "  </tbody>\n",
       "</table>\n",
       "</div>"
      ],
      "text/plain": [
       "              error         mean\n",
       "mtype  layer                    \n",
       "L1_DAC 1        0.0  3094.333333\n",
       "       2        0.0     0.000000\n",
       "       3        0.0     0.000000\n",
       "       4        0.0     0.000000\n",
       "       5        0.0     0.000000"
      ]
     },
     "execution_count": 5,
     "metadata": {},
     "output_type": "execute_result"
    }
   ],
   "source": [
    "from neuro_dmt.models.bluebrain.circuit.mock.test_develop\\\n",
    "    import circuit_composition\n",
    "circuit_composition.cell_density.head()"
   ]
  },
  {
   "cell_type": "code",
   "execution_count": 6,
   "metadata": {
    "ExecuteTime": {
     "end_time": "2019-06-23T12:33:21.460284Z",
     "start_time": "2019-06-23T12:33:21.457541Z"
    }
   },
   "outputs": [],
   "source": [
    "from neuro_dmt.models.bluebrain.circuit.mock.cells import CircuitBuilder"
   ]
  },
  {
   "cell_type": "code",
   "execution_count": 7,
   "metadata": {
    "ExecuteTime": {
     "end_time": "2019-06-23T12:33:22.231364Z",
     "start_time": "2019-06-23T12:33:22.228501Z"
    }
   },
   "outputs": [],
   "source": [
    "cb = CircuitBuilder(composition=circuit_composition)"
   ]
  },
  {
   "cell_type": "code",
   "execution_count": 8,
   "metadata": {
    "ExecuteTime": {
     "end_time": "2019-06-23T12:33:22.973025Z",
     "start_time": "2019-06-23T12:33:22.962674Z"
    }
   },
   "outputs": [
    {
     "data": {
      "text/html": [
       "<div>\n",
       "<style scoped>\n",
       "    .dataframe tbody tr th:only-of-type {\n",
       "        vertical-align: middle;\n",
       "    }\n",
       "\n",
       "    .dataframe tbody tr th {\n",
       "        vertical-align: top;\n",
       "    }\n",
       "\n",
       "    .dataframe thead th {\n",
       "        text-align: right;\n",
       "    }\n",
       "</style>\n",
       "<table border=\"1\" class=\"dataframe\">\n",
       "  <thead>\n",
       "    <tr style=\"text-align: right;\">\n",
       "      <th></th>\n",
       "      <th></th>\n",
       "      <th>error</th>\n",
       "      <th>mean</th>\n",
       "    </tr>\n",
       "    <tr>\n",
       "      <th>mtype</th>\n",
       "      <th>layer</th>\n",
       "      <th></th>\n",
       "      <th></th>\n",
       "    </tr>\n",
       "  </thead>\n",
       "  <tbody>\n",
       "    <tr>\n",
       "      <th>L1_DAC</th>\n",
       "      <th>1</th>\n",
       "      <td>0.0</td>\n",
       "      <td>3094.333333</td>\n",
       "    </tr>\n",
       "  </tbody>\n",
       "</table>\n",
       "</div>"
      ],
      "text/plain": [
       "              error         mean\n",
       "mtype  layer                    \n",
       "L1_DAC 1        0.0  3094.333333"
      ]
     },
     "execution_count": 8,
     "metadata": {},
     "output_type": "execute_result"
    }
   ],
   "source": [
    "cb.get_cell_density(mtype=\"L1_DAC\", layer=1)"
   ]
  },
  {
   "cell_type": "code",
   "execution_count": 9,
   "metadata": {
    "ExecuteTime": {
     "end_time": "2019-06-23T12:33:24.668932Z",
     "start_time": "2019-06-23T12:33:24.658941Z"
    }
   },
   "outputs": [
    {
     "name": "stdout",
     "output_type": "stream",
     "text": [
      "              error         mean\n",
      "mtype  layer                    \n",
      "L1_DAC 1        0.0  3094.333333\n",
      "       2        0.0     0.000000\n",
      "       3        0.0     0.000000\n",
      "       4        0.0     0.000000\n",
      "       5        0.0     0.000000\n",
      "23\n"
     ]
    }
   ],
   "source": [
    "print(circuit_composition.cell_density.head())\n",
    "print(cb.get_number_cells(1, \"L1_DAC\"))"
   ]
  },
  {
   "cell_type": "code",
   "execution_count": 10,
   "metadata": {
    "ExecuteTime": {
     "end_time": "2019-06-23T12:33:30.114317Z",
     "start_time": "2019-06-23T12:33:26.505314Z"
    }
   },
   "outputs": [],
   "source": [
    "circuit_cells = cb.get_cells()"
   ]
  },
  {
   "cell_type": "code",
   "execution_count": 11,
   "metadata": {
    "ExecuteTime": {
     "end_time": "2019-06-23T12:33:30.639766Z",
     "start_time": "2019-06-23T12:33:30.381001Z"
    }
   },
   "outputs": [
    {
     "name": "stdout",
     "output_type": "stream",
     "text": [
      "number of cells 12237\n",
      "         etype  layer  morph_class   mtype      nucleus region synapse_class  \\\n",
      "0  not-defined      1  not-defined  L1_DAC  not-defined  brain           INH   \n",
      "1  not-defined      1  not-defined  L1_DAC  not-defined  brain           INH   \n",
      "2  not-defined      1  not-defined  L1_DAC  not-defined  brain           INH   \n",
      "3  not-defined      1  not-defined  L1_DAC  not-defined  brain           INH   \n",
      "4  not-defined      1  not-defined  L1_DAC  not-defined  brain           INH   \n",
      "\n",
      "            x            y           z  \n",
      "0  183.371826  1808.585641  101.187793  \n",
      "1    9.188315  1732.893566   21.969420  \n",
      "2  207.532652  1723.292299  207.808889  \n",
      "3   37.760431  1730.793564  116.190053  \n",
      "4  196.446443  1803.342314  152.953004  \n"
     ]
    }
   ],
   "source": [
    "import pandas as pd\n",
    "circuit_cells_df =\\\n",
    "    pd.DataFrame([\n",
    "        cell.as_dict for cell in circuit_cells])\n",
    "print(\"number of cells {}\".format(circuit_cells_df.shape[0]))\n",
    "print(circuit_cells_df.head())"
   ]
  },
  {
   "cell_type": "code",
   "execution_count": null,
   "metadata": {
    "ExecuteTime": {
     "end_time": "2019-06-23T09:49:28.829679Z",
     "start_time": "2019-06-23T09:49:28.824993Z"
    }
   },
   "outputs": [],
   "source": [
    "b = 230.\n",
    "2 * np.cos(np.pi / 3.) * b"
   ]
  },
  {
   "cell_type": "code",
   "execution_count": null,
   "metadata": {
    "ExecuteTime": {
     "end_time": "2019-06-21T14:14:22.240877Z",
     "start_time": "2019-06-21T14:14:22.233693Z"
    }
   },
   "outputs": [],
   "source": [
    "np.sqrt(6 * b * b * np.sin(np.pi / 3))"
   ]
  },
  {
   "cell_type": "code",
   "execution_count": null,
   "metadata": {
    "ExecuteTime": {
     "end_time": "2019-06-23T10:04:38.405754Z",
     "start_time": "2019-06-23T10:04:38.403234Z"
    }
   },
   "outputs": [],
   "source": [
    "from bluepy.geometry import roi"
   ]
  },
  {
   "cell_type": "code",
   "execution_count": null,
   "metadata": {
    "ExecuteTime": {
     "end_time": "2019-06-23T10:05:00.123300Z",
     "start_time": "2019-06-23T10:05:00.113357Z"
    }
   },
   "outputs": [],
   "source": [
    "roi.ROI([1., 2., 3.]).bbox"
   ]
  },
  {
   "cell_type": "code",
   "execution_count": null,
   "metadata": {
    "ExecuteTime": {
     "end_time": "2019-06-23T10:39:16.139437Z",
     "start_time": "2019-06-23T10:39:16.134536Z"
    }
   },
   "outputs": [],
   "source": [
    "np.random.random([4, 3])\n"
   ]
  },
  {
   "cell_type": "code",
   "execution_count": null,
   "metadata": {
    "ExecuteTime": {
     "end_time": "2019-06-23T10:56:33.000565Z",
     "start_time": "2019-06-23T10:56:32.996246Z"
    }
   },
   "outputs": [],
   "source": [
    "t = tuple\n",
    "t((1,2,2))"
   ]
  },
  {
   "cell_type": "code",
   "execution_count": null,
   "metadata": {
    "ExecuteTime": {
     "end_time": "2019-06-23T10:56:46.281528Z",
     "start_time": "2019-06-23T10:56:46.276766Z"
    }
   },
   "outputs": [],
   "source": [
    "t = np.array\n",
    "t((1,2,2))"
   ]
  },
  {
   "cell_type": "code",
   "execution_count": null,
   "metadata": {
    "ExecuteTime": {
     "end_time": "2019-06-23T11:27:41.819301Z",
     "start_time": "2019-06-23T11:27:41.814333Z"
    }
   },
   "outputs": [],
   "source": [
    "np.random.random_sample([2,3])"
   ]
  },
  {
   "cell_type": "code",
   "execution_count": null,
   "metadata": {
    "ExecuteTime": {
     "end_time": "2019-06-23T11:27:46.866311Z",
     "start_time": "2019-06-23T11:27:46.861492Z"
    }
   },
   "outputs": [],
   "source": [
    "np.random.random([2,3])"
   ]
  },
  {
   "cell_type": "code",
   "execution_count": null,
   "metadata": {
    "ExecuteTime": {
     "end_time": "2019-06-23T12:04:52.858432Z",
     "start_time": "2019-06-23T12:04:52.853643Z"
    }
   },
   "outputs": [],
   "source": [
    "def lazy(instance_property):\n",
    "    \"\"\"\n",
    "    Make instance property lazy.\n",
    "    \"\"\"\n",
    "    print(\"instance property name is {} \".format(instance_property.__name__))\n",
    "    property_name =\\\n",
    "        \"_{}\".format(instance_property.__name__)\n",
    "    @property\n",
    "    def effective(instance):\n",
    "        if not hasattr(instance, property_name):\n",
    "            print(\"cache\")\n",
    "            setattr(\n",
    "                instance,\n",
    "                property_name,\n",
    "                instance_property(instance))\n",
    "        print(\"return cached\")\n",
    "        return getattr(instance, property_name)\n",
    "    return effective"
   ]
  },
  {
   "cell_type": "code",
   "execution_count": null,
   "metadata": {
    "ExecuteTime": {
     "end_time": "2019-06-23T12:06:31.022001Z",
     "start_time": "2019-06-23T12:06:31.016245Z"
    }
   },
   "outputs": [],
   "source": [
    "class A:\n",
    "    def __init__(self, x):\n",
    "        self.x = x\n",
    "        \n",
    "    @lazy\n",
    "    def y(self):\n",
    "        return self.x * self.x"
   ]
  },
  {
   "cell_type": "code",
   "execution_count": null,
   "metadata": {
    "ExecuteTime": {
     "end_time": "2019-06-23T12:06:40.069279Z",
     "start_time": "2019-06-23T12:06:40.065624Z"
    }
   },
   "outputs": [],
   "source": [
    "a = A(2)\n",
    "print(\"lazy y\", a.y)"
   ]
  },
  {
   "cell_type": "code",
   "execution_count": null,
   "metadata": {
    "ExecuteTime": {
     "end_time": "2019-06-23T12:06:40.730478Z",
     "start_time": "2019-06-23T12:06:40.726097Z"
    }
   },
   "outputs": [],
   "source": [
    "a.y"
   ]
  },
  {
   "cell_type": "code",
   "execution_count": null,
   "metadata": {
    "ExecuteTime": {
     "end_time": "2019-06-23T12:09:33.170544Z",
     "start_time": "2019-06-23T12:09:33.166334Z"
    }
   },
   "outputs": [],
   "source": [
    "a.x = 3\n",
    "a.y"
   ]
  },
  {
   "cell_type": "code",
   "execution_count": null,
   "metadata": {
    "ExecuteTime": {
     "end_time": "2019-06-23T12:32:24.053592Z",
     "start_time": "2019-06-23T12:32:24.048024Z"
    }
   },
   "outputs": [],
   "source": [
    "x, y = *np.array([1,2])"
   ]
  },
  {
   "cell_type": "code",
   "execution_count": null,
   "metadata": {},
   "outputs": [],
   "source": []
  }
 ],
 "metadata": {
  "kernelspec": {
   "display_name": "Python 3",
   "language": "python",
   "name": "python3"
  },
  "language_info": {
   "codemirror_mode": {
    "name": "ipython",
    "version": 3
   },
   "file_extension": ".py",
   "mimetype": "text/x-python",
   "name": "python",
   "nbconvert_exporter": "python",
   "pygments_lexer": "ipython3",
   "version": "3.7.0"
  },
  "toc": {
   "base_numbering": 1,
   "nav_menu": {},
   "number_sections": true,
   "sideBar": true,
   "skip_h1_title": false,
   "title_cell": "Table of Contents",
   "title_sidebar": "Contents",
   "toc_cell": false,
   "toc_position": {},
   "toc_section_display": true,
   "toc_window_display": false
  },
  "varInspector": {
   "cols": {
    "lenName": 16,
    "lenType": 16,
    "lenVar": 40
   },
   "kernels_config": {
    "python": {
     "delete_cmd_postfix": "",
     "delete_cmd_prefix": "del ",
     "library": "var_list.py",
     "varRefreshCmd": "print(var_dic_list())"
    },
    "r": {
     "delete_cmd_postfix": ") ",
     "delete_cmd_prefix": "rm(",
     "library": "var_list.r",
     "varRefreshCmd": "cat(var_dic_list()) "
    }
   },
   "types_to_exclude": [
    "module",
    "function",
    "builtin_function_or_method",
    "instance",
    "_Feature"
   ],
   "window_display": false
  }
 },
 "nbformat": 4,
 "nbformat_minor": 2
}
