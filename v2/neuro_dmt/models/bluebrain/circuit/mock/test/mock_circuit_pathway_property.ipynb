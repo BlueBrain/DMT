{
 "cells": [
  {
   "cell_type": "code",
   "execution_count": 1,
   "metadata": {
    "ExecuteTime": {
     "end_time": "2019-11-04T21:33:17.088326Z",
     "start_time": "2019-11-04T21:33:15.628183Z"
    }
   },
   "outputs": [
    {
     "name": "stdout",
     "output_type": "stream",
     "text": [
      "('region', 'layer', 'depth', 'height', 'mesocolumn', 'hypercolumn', 'mtype', 'etype', 'synapse_class', 'postsynaptic', 'presynaptic')\n",
      "('region', 'layer', 'depth', 'height', 'mesocolumn', 'hypercolumn', 'mtype', 'etype', 'synapse_class', 'postsynaptic', 'presynaptic')\n",
      "('region', 'layer', 'depth', 'height', 'mesocolumn', 'hypercolumn', 'mtype', 'etype', 'synapse_class', 'postsynaptic', 'presynaptic')\n",
      "('region', 'layer', 'depth', 'height', 'mtype', 'etype', 'synapse_class')\n",
      "('region', 'layer', 'depth', 'height', 'mtype', 'etype', 'synapse_class')\n"
     ]
    }
   ],
   "source": [
    "import numpy as np\n",
    "import pandas as pd\n",
    "from neuro_dmt.models.bluebrain.circuit.model import BlueBrainCircuitModel\n",
    "from neuro_dmt.models.bluebrain.circuit.mock.test.mock_circuit_light\\\n",
    "    import circuit_composition, circuit_connectivity\n",
    "from neuro_dmt.models.bluebrain.circuit.mock.circuit import\\\n",
    "    MockCircuit"
   ]
  },
  {
   "cell_type": "code",
   "execution_count": 2,
   "metadata": {
    "ExecuteTime": {
     "end_time": "2019-11-04T21:33:34.302691Z",
     "start_time": "2019-11-04T21:33:17.090521Z"
    }
   },
   "outputs": [],
   "source": [
    "mock_circuit =\\\n",
    "    MockCircuit.build(\n",
    "        circuit_composition,\n",
    "        circuit_connectivity)"
   ]
  },
  {
   "cell_type": "code",
   "execution_count": 3,
   "metadata": {
    "ExecuteTime": {
     "end_time": "2019-11-04T21:33:34.306587Z",
     "start_time": "2019-11-04T21:33:34.304171Z"
    }
   },
   "outputs": [],
   "source": [
    "circuit_model =\\\n",
    "    BlueBrainCircuitModel(\n",
    "        mock_circuit,\n",
    "        label=\"BlueBrainCircuitModelMock\")"
   ]
  },
  {
   "cell_type": "code",
   "execution_count": 4,
   "metadata": {
    "ExecuteTime": {
     "end_time": "2019-11-04T21:33:34.327175Z",
     "start_time": "2019-11-04T21:33:34.309098Z"
    }
   },
   "outputs": [
    {
     "data": {
      "text/plain": [
       "etype            not-defined\n",
       "layer                      1\n",
       "morph_class      not-defined\n",
       "mtype                 L1_DAC\n",
       "nucleus          not-defined\n",
       "region                 brain\n",
       "synapse_class            INH\n",
       "x                    47.0328\n",
       "y                    1816.91\n",
       "z                    184.038\n",
       "gid                        1\n",
       "Name: 1, dtype: object"
      ]
     },
     "execution_count": 4,
     "metadata": {},
     "output_type": "execute_result"
    }
   ],
   "source": [
    "circuit_model.cells.loc[1]"
   ]
  },
  {
   "cell_type": "code",
   "execution_count": 5,
   "metadata": {
    "ExecuteTime": {
     "end_time": "2019-11-04T21:33:34.356279Z",
     "start_time": "2019-11-04T21:33:34.330093Z"
    },
    "scrolled": true
   },
   "outputs": [
    {
     "name": "stdout",
     "output_type": "stream",
     "text": [
      "()\n",
      "  pre_synaptic_etype  pre_synaptic_layer pre_synaptic_morph_class  \\\n",
      "1        not-defined                   1              not-defined   \n",
      "2        not-defined                   1              not-defined   \n",
      "\n",
      "  pre_synaptic_mtype pre_synaptic_nucleus pre_synaptic_region  \\\n",
      "1             L1_DAC          not-defined               brain   \n",
      "2             L1_DAC          not-defined               brain   \n",
      "\n",
      "  pre_synaptic_synapse_class  pre_synaptic_x  pre_synaptic_y  pre_synaptic_z  \\\n",
      "1                        INH       47.032810     1816.909536      184.038240   \n",
      "2                        INH       33.286291     1828.005051       89.304473   \n",
      "\n",
      "   gid  \n",
      "1    1  \n",
      "2    2  \n"
     ]
    }
   ],
   "source": [
    "s = circuit_model.connection_probability(\n",
    "    np.array([1,2]),\n",
    "    np.array([3,4]))"
   ]
  },
  {
   "cell_type": "code",
   "execution_count": 6,
   "metadata": {
    "ExecuteTime": {
     "end_time": "2019-11-04T21:36:08.176210Z",
     "start_time": "2019-11-04T21:33:34.357594Z"
    }
   },
   "outputs": [
    {
     "name": "stdout",
     "output_type": "stream",
     "text": [
      "('pre_synaptic_mtype',)\n",
      "      pre_synaptic_mtype    gid\n",
      "0                 L1_DAC      0\n",
      "1                 L1_DAC      1\n",
      "2                 L1_DAC      2\n",
      "3                 L1_DAC      3\n",
      "4                 L1_DAC      4\n",
      "5                 L1_DAC      5\n",
      "6                 L1_DAC      6\n",
      "7                 L1_DAC      7\n",
      "8                 L1_DAC      8\n",
      "9                 L1_DAC      9\n",
      "10                L1_DAC     10\n",
      "11                L1_DAC     11\n",
      "12                L1_DAC     12\n",
      "13                L1_DAC     13\n",
      "14                L1_DAC     14\n",
      "15                L1_DAC     15\n",
      "16                L1_DAC     16\n",
      "17                L1_DAC     17\n",
      "18                L1_DAC     18\n",
      "19                L1_DAC     19\n",
      "20                L1_DAC     20\n",
      "21                L1_DAC     21\n",
      "22                L1_DAC     22\n",
      "23                L1_DAC     23\n",
      "24                L1_DAC     24\n",
      "25                L1_DAC     25\n",
      "26                L1_DAC     26\n",
      "27                L1_DAC     27\n",
      "28                L1_DAC     28\n",
      "29                L1_DAC     29\n",
      "...                  ...    ...\n",
      "10258             L6_UPC  10258\n",
      "10259             L6_UPC  10259\n",
      "10260             L6_UPC  10260\n",
      "10261             L6_UPC  10261\n",
      "10262             L6_UPC  10262\n",
      "10263             L6_UPC  10263\n",
      "10264             L6_UPC  10264\n",
      "10265             L6_UPC  10265\n",
      "10266             L6_UPC  10266\n",
      "10267             L6_UPC  10267\n",
      "10268             L6_UPC  10268\n",
      "10269             L6_UPC  10269\n",
      "10270             L6_UPC  10270\n",
      "10271             L6_UPC  10271\n",
      "10272             L6_UPC  10272\n",
      "10273             L6_UPC  10273\n",
      "10274             L6_UPC  10274\n",
      "10275             L6_UPC  10275\n",
      "10276             L6_UPC  10276\n",
      "10277             L6_UPC  10277\n",
      "10278             L6_UPC  10278\n",
      "10279             L6_UPC  10279\n",
      "10280             L6_UPC  10280\n",
      "10281             L6_UPC  10281\n",
      "10282             L6_UPC  10282\n",
      "10283             L6_UPC  10283\n",
      "10284             L6_UPC  10284\n",
      "10285             L6_UPC  10285\n",
      "10286             L6_UPC  10286\n",
      "10287             L6_UPC  10287\n",
      "\n",
      "[10288 rows x 2 columns]\n"
     ]
    },
    {
     "name": "stderr",
     "output_type": "stream",
     "text": [
      "/home/muchu/work/bbp/work/validations/dmt/v2/neuro_dmt/models/bluebrain/circuit/model/pathway.py:356: FutureWarning: Interpreting tuple 'by' as a list of keys, rather than a single key. Use 'by=[...]' instead of 'by=(...)'. In the future, a tuple will always mean a single key.\n",
      "  pre_synaptic_cell_type_specifier\n"
     ]
    }
   ],
   "source": [
    "from neuro_dmt.models.bluebrain.circuit.model.pathway import SamplingMethodology\n",
    "pre_cell_group = pd.Series({\"mtype\": \"L23_MC\"})\n",
    "post_cell_group = pd.Series({\"mtype\": \"L23_MC\"})\n",
    "s = circuit_model.connection_probability(\n",
    "    pre_cell_group,\n",
    "    post_cell_group,\n",
    "    sampling_methodology=SamplingMethodology.exhaustive)"
   ]
  },
  {
   "cell_type": "code",
   "execution_count": 7,
   "metadata": {
    "ExecuteTime": {
     "end_time": "2019-11-04T21:36:08.193138Z",
     "start_time": "2019-11-04T21:36:08.177700Z"
    }
   },
   "outputs": [
    {
     "data": {
      "text/html": [
       "<div>\n",
       "<style scoped>\n",
       "    .dataframe tbody tr th:only-of-type {\n",
       "        vertical-align: middle;\n",
       "    }\n",
       "\n",
       "    .dataframe tbody tr th {\n",
       "        vertical-align: top;\n",
       "    }\n",
       "\n",
       "    .dataframe thead th {\n",
       "        text-align: right;\n",
       "    }\n",
       "</style>\n",
       "<table border=\"1\" class=\"dataframe\">\n",
       "  <thead>\n",
       "    <tr style=\"text-align: right;\">\n",
       "      <th></th>\n",
       "      <th>etype</th>\n",
       "      <th>layer</th>\n",
       "      <th>morph_class</th>\n",
       "      <th>mtype</th>\n",
       "      <th>nucleus</th>\n",
       "      <th>region</th>\n",
       "      <th>synapse_class</th>\n",
       "      <th>x</th>\n",
       "      <th>y</th>\n",
       "      <th>z</th>\n",
       "    </tr>\n",
       "  </thead>\n",
       "  <tbody>\n",
       "    <tr>\n",
       "      <th>227</th>\n",
       "      <td>not-defined</td>\n",
       "      <td>2</td>\n",
       "      <td>not-defined</td>\n",
       "      <td>L23_ChC</td>\n",
       "      <td>not-defined</td>\n",
       "      <td>brain</td>\n",
       "      <td>INH</td>\n",
       "      <td>147.980183</td>\n",
       "      <td>1650.013156</td>\n",
       "      <td>196.740659</td>\n",
       "    </tr>\n",
       "    <tr>\n",
       "      <th>228</th>\n",
       "      <td>not-defined</td>\n",
       "      <td>2</td>\n",
       "      <td>not-defined</td>\n",
       "      <td>L23_ChC</td>\n",
       "      <td>not-defined</td>\n",
       "      <td>brain</td>\n",
       "      <td>INH</td>\n",
       "      <td>24.474080</td>\n",
       "      <td>1707.296999</td>\n",
       "      <td>103.017623</td>\n",
       "    </tr>\n",
       "    <tr>\n",
       "      <th>229</th>\n",
       "      <td>not-defined</td>\n",
       "      <td>2</td>\n",
       "      <td>not-defined</td>\n",
       "      <td>L23_ChC</td>\n",
       "      <td>not-defined</td>\n",
       "      <td>brain</td>\n",
       "      <td>INH</td>\n",
       "      <td>172.509068</td>\n",
       "      <td>1690.353150</td>\n",
       "      <td>11.051690</td>\n",
       "    </tr>\n",
       "    <tr>\n",
       "      <th>230</th>\n",
       "      <td>not-defined</td>\n",
       "      <td>2</td>\n",
       "      <td>not-defined</td>\n",
       "      <td>L23_ChC</td>\n",
       "      <td>not-defined</td>\n",
       "      <td>brain</td>\n",
       "      <td>INH</td>\n",
       "      <td>218.927168</td>\n",
       "      <td>1694.678734</td>\n",
       "      <td>195.059813</td>\n",
       "    </tr>\n",
       "    <tr>\n",
       "      <th>231</th>\n",
       "      <td>not-defined</td>\n",
       "      <td>2</td>\n",
       "      <td>not-defined</td>\n",
       "      <td>L23_ChC</td>\n",
       "      <td>not-defined</td>\n",
       "      <td>brain</td>\n",
       "      <td>INH</td>\n",
       "      <td>32.156970</td>\n",
       "      <td>1701.270518</td>\n",
       "      <td>41.171093</td>\n",
       "    </tr>\n",
       "  </tbody>\n",
       "</table>\n",
       "</div>"
      ],
      "text/plain": [
       "           etype  layer  morph_class    mtype      nucleus region  \\\n",
       "227  not-defined      2  not-defined  L23_ChC  not-defined  brain   \n",
       "228  not-defined      2  not-defined  L23_ChC  not-defined  brain   \n",
       "229  not-defined      2  not-defined  L23_ChC  not-defined  brain   \n",
       "230  not-defined      2  not-defined  L23_ChC  not-defined  brain   \n",
       "231  not-defined      2  not-defined  L23_ChC  not-defined  brain   \n",
       "\n",
       "    synapse_class           x            y           z  \n",
       "227           INH  147.980183  1650.013156  196.740659  \n",
       "228           INH   24.474080  1707.296999  103.017623  \n",
       "229           INH  172.509068  1690.353150   11.051690  \n",
       "230           INH  218.927168  1694.678734  195.059813  \n",
       "231           INH   32.156970  1701.270518   41.171093  "
      ]
     },
     "execution_count": 7,
     "metadata": {},
     "output_type": "execute_result"
    }
   ],
   "source": [
    "mock_circuit.cells.get({\"mtype\": \"L23_ChC\"}).head()"
   ]
  },
  {
   "cell_type": "code",
   "execution_count": 8,
   "metadata": {
    "ExecuteTime": {
     "end_time": "2019-11-04T21:36:08.215498Z",
     "start_time": "2019-11-04T21:36:08.194370Z"
    }
   },
   "outputs": [
    {
     "data": {
      "text/html": [
       "<div>\n",
       "<style scoped>\n",
       "    .dataframe tbody tr th:only-of-type {\n",
       "        vertical-align: middle;\n",
       "    }\n",
       "\n",
       "    .dataframe tbody tr th {\n",
       "        vertical-align: top;\n",
       "    }\n",
       "\n",
       "    .dataframe thead th {\n",
       "        text-align: right;\n",
       "    }\n",
       "</style>\n",
       "<table border=\"1\" class=\"dataframe\">\n",
       "  <thead>\n",
       "    <tr style=\"text-align: right;\">\n",
       "      <th></th>\n",
       "      <th>etype</th>\n",
       "      <th>layer</th>\n",
       "      <th>morph_class</th>\n",
       "      <th>mtype</th>\n",
       "      <th>nucleus</th>\n",
       "      <th>region</th>\n",
       "      <th>synapse_class</th>\n",
       "      <th>x</th>\n",
       "      <th>y</th>\n",
       "      <th>z</th>\n",
       "    </tr>\n",
       "  </thead>\n",
       "  <tbody>\n",
       "    <tr>\n",
       "      <th>15</th>\n",
       "      <td>not-defined</td>\n",
       "      <td>1</td>\n",
       "      <td>not-defined</td>\n",
       "      <td>L1_DAC</td>\n",
       "      <td>not-defined</td>\n",
       "      <td>brain</td>\n",
       "      <td>INH</td>\n",
       "      <td>226.465740</td>\n",
       "      <td>1822.888041</td>\n",
       "      <td>83.504099</td>\n",
       "    </tr>\n",
       "    <tr>\n",
       "      <th>195</th>\n",
       "      <td>not-defined</td>\n",
       "      <td>2</td>\n",
       "      <td>not-defined</td>\n",
       "      <td>L23_MC</td>\n",
       "      <td>not-defined</td>\n",
       "      <td>brain</td>\n",
       "      <td>INH</td>\n",
       "      <td>129.529577</td>\n",
       "      <td>1666.793174</td>\n",
       "      <td>143.497982</td>\n",
       "    </tr>\n",
       "    <tr>\n",
       "      <th>200</th>\n",
       "      <td>not-defined</td>\n",
       "      <td>2</td>\n",
       "      <td>not-defined</td>\n",
       "      <td>L23_MC</td>\n",
       "      <td>not-defined</td>\n",
       "      <td>brain</td>\n",
       "      <td>INH</td>\n",
       "      <td>28.513281</td>\n",
       "      <td>1664.196998</td>\n",
       "      <td>32.951421</td>\n",
       "    </tr>\n",
       "    <tr>\n",
       "      <th>217</th>\n",
       "      <td>not-defined</td>\n",
       "      <td>2</td>\n",
       "      <td>not-defined</td>\n",
       "      <td>L23_MC</td>\n",
       "      <td>not-defined</td>\n",
       "      <td>brain</td>\n",
       "      <td>INH</td>\n",
       "      <td>164.124406</td>\n",
       "      <td>1638.591867</td>\n",
       "      <td>84.669955</td>\n",
       "    </tr>\n",
       "    <tr>\n",
       "      <th>245</th>\n",
       "      <td>not-defined</td>\n",
       "      <td>2</td>\n",
       "      <td>not-defined</td>\n",
       "      <td>L23_ChC</td>\n",
       "      <td>not-defined</td>\n",
       "      <td>brain</td>\n",
       "      <td>INH</td>\n",
       "      <td>188.558812</td>\n",
       "      <td>1713.694219</td>\n",
       "      <td>99.156053</td>\n",
       "    </tr>\n",
       "  </tbody>\n",
       "</table>\n",
       "</div>"
      ],
      "text/plain": [
       "           etype  layer  morph_class    mtype      nucleus region  \\\n",
       "15   not-defined      1  not-defined   L1_DAC  not-defined  brain   \n",
       "195  not-defined      2  not-defined   L23_MC  not-defined  brain   \n",
       "200  not-defined      2  not-defined   L23_MC  not-defined  brain   \n",
       "217  not-defined      2  not-defined   L23_MC  not-defined  brain   \n",
       "245  not-defined      2  not-defined  L23_ChC  not-defined  brain   \n",
       "\n",
       "    synapse_class           x            y           z  \n",
       "15            INH  226.465740  1822.888041   83.504099  \n",
       "195           INH  129.529577  1666.793174  143.497982  \n",
       "200           INH   28.513281  1664.196998   32.951421  \n",
       "217           INH  164.124406  1638.591867   84.669955  \n",
       "245           INH  188.558812  1713.694219   99.156053  "
      ]
     },
     "execution_count": 8,
     "metadata": {},
     "output_type": "execute_result"
    }
   ],
   "source": [
    "mock_circuit.cells.get(mock_circuit.connectome.afferent_gids(140)).head()"
   ]
  },
  {
   "cell_type": "code",
   "execution_count": 9,
   "metadata": {
    "ExecuteTime": {
     "end_time": "2019-11-04T21:36:08.231736Z",
     "start_time": "2019-11-04T21:36:08.217067Z"
    }
   },
   "outputs": [
    {
     "data": {
      "text/html": [
       "<div>\n",
       "<style scoped>\n",
       "    .dataframe tbody tr th:only-of-type {\n",
       "        vertical-align: middle;\n",
       "    }\n",
       "\n",
       "    .dataframe tbody tr th {\n",
       "        vertical-align: top;\n",
       "    }\n",
       "\n",
       "    .dataframe thead tr th {\n",
       "        text-align: left;\n",
       "    }\n",
       "\n",
       "    .dataframe thead tr:last-of-type th {\n",
       "        text-align: right;\n",
       "    }\n",
       "</style>\n",
       "<table border=\"1\" class=\"dataframe\">\n",
       "  <thead>\n",
       "    <tr>\n",
       "      <th></th>\n",
       "      <th colspan=\"2\" halign=\"left\">number_pairs</th>\n",
       "      <th>connection_probability</th>\n",
       "    </tr>\n",
       "    <tr>\n",
       "      <th></th>\n",
       "      <th>total</th>\n",
       "      <th>connected</th>\n",
       "      <th></th>\n",
       "    </tr>\n",
       "    <tr>\n",
       "      <th>pre_synaptic_mtype</th>\n",
       "      <th></th>\n",
       "      <th></th>\n",
       "      <th></th>\n",
       "    </tr>\n",
       "  </thead>\n",
       "  <tbody>\n",
       "    <tr>\n",
       "      <th>L1_DAC</th>\n",
       "      <td>4900</td>\n",
       "      <td>113.0</td>\n",
       "      <td>0.023061</td>\n",
       "    </tr>\n",
       "    <tr>\n",
       "      <th>L1_SLAC</th>\n",
       "      <td>4900</td>\n",
       "      <td>94.0</td>\n",
       "      <td>0.019184</td>\n",
       "    </tr>\n",
       "    <tr>\n",
       "      <th>L23_ChC</th>\n",
       "      <td>11480</td>\n",
       "      <td>236.0</td>\n",
       "      <td>0.020557</td>\n",
       "    </tr>\n",
       "    <tr>\n",
       "      <th>L23_MC</th>\n",
       "      <td>11480</td>\n",
       "      <td>241.0</td>\n",
       "      <td>0.020993</td>\n",
       "    </tr>\n",
       "    <tr>\n",
       "      <th>L23_SBC</th>\n",
       "      <td>11480</td>\n",
       "      <td>232.0</td>\n",
       "      <td>0.020209</td>\n",
       "    </tr>\n",
       "    <tr>\n",
       "      <th>L4_LBC</th>\n",
       "      <td>6650</td>\n",
       "      <td>143.0</td>\n",
       "      <td>0.021504</td>\n",
       "    </tr>\n",
       "    <tr>\n",
       "      <th>L4_NGC</th>\n",
       "      <td>6650</td>\n",
       "      <td>126.0</td>\n",
       "      <td>0.018947</td>\n",
       "    </tr>\n",
       "    <tr>\n",
       "      <th>L4_TPC</th>\n",
       "      <td>127890</td>\n",
       "      <td>2440.0</td>\n",
       "      <td>0.019079</td>\n",
       "    </tr>\n",
       "    <tr>\n",
       "      <th>L5_DBC</th>\n",
       "      <td>17290</td>\n",
       "      <td>324.0</td>\n",
       "      <td>0.018739</td>\n",
       "    </tr>\n",
       "    <tr>\n",
       "      <th>L5_MC</th>\n",
       "      <td>17290</td>\n",
       "      <td>299.0</td>\n",
       "      <td>0.017293</td>\n",
       "    </tr>\n",
       "    <tr>\n",
       "      <th>L5_TPC:A</th>\n",
       "      <td>56770</td>\n",
       "      <td>1114.0</td>\n",
       "      <td>0.019623</td>\n",
       "    </tr>\n",
       "    <tr>\n",
       "      <th>L5_TPC:B</th>\n",
       "      <td>56770</td>\n",
       "      <td>1050.0</td>\n",
       "      <td>0.018496</td>\n",
       "    </tr>\n",
       "    <tr>\n",
       "      <th>L5_UPC</th>\n",
       "      <td>56770</td>\n",
       "      <td>1117.0</td>\n",
       "      <td>0.019676</td>\n",
       "    </tr>\n",
       "    <tr>\n",
       "      <th>L6_ChC</th>\n",
       "      <td>15680</td>\n",
       "      <td>309.0</td>\n",
       "      <td>0.019707</td>\n",
       "    </tr>\n",
       "    <tr>\n",
       "      <th>L6_IPC</th>\n",
       "      <td>74620</td>\n",
       "      <td>1462.0</td>\n",
       "      <td>0.019593</td>\n",
       "    </tr>\n",
       "    <tr>\n",
       "      <th>L6_MC</th>\n",
       "      <td>15680</td>\n",
       "      <td>288.0</td>\n",
       "      <td>0.018367</td>\n",
       "    </tr>\n",
       "    <tr>\n",
       "      <th>L6_TPC:A</th>\n",
       "      <td>74620</td>\n",
       "      <td>1389.0</td>\n",
       "      <td>0.018614</td>\n",
       "    </tr>\n",
       "    <tr>\n",
       "      <th>L6_TPC:B</th>\n",
       "      <td>74620</td>\n",
       "      <td>1486.0</td>\n",
       "      <td>0.019914</td>\n",
       "    </tr>\n",
       "    <tr>\n",
       "      <th>L6_UPC</th>\n",
       "      <td>74620</td>\n",
       "      <td>1430.0</td>\n",
       "      <td>0.019164</td>\n",
       "    </tr>\n",
       "  </tbody>\n",
       "</table>\n",
       "</div>"
      ],
      "text/plain": [
       "                   number_pairs           connection_probability\n",
       "                          total connected                       \n",
       "pre_synaptic_mtype                                              \n",
       "L1_DAC                     4900     113.0               0.023061\n",
       "L1_SLAC                    4900      94.0               0.019184\n",
       "L23_ChC                   11480     236.0               0.020557\n",
       "L23_MC                    11480     241.0               0.020993\n",
       "L23_SBC                   11480     232.0               0.020209\n",
       "L4_LBC                     6650     143.0               0.021504\n",
       "L4_NGC                     6650     126.0               0.018947\n",
       "L4_TPC                   127890    2440.0               0.019079\n",
       "L5_DBC                    17290     324.0               0.018739\n",
       "L5_MC                     17290     299.0               0.017293\n",
       "L5_TPC:A                  56770    1114.0               0.019623\n",
       "L5_TPC:B                  56770    1050.0               0.018496\n",
       "L5_UPC                    56770    1117.0               0.019676\n",
       "L6_ChC                    15680     309.0               0.019707\n",
       "L6_IPC                    74620    1462.0               0.019593\n",
       "L6_MC                     15680     288.0               0.018367\n",
       "L6_TPC:A                  74620    1389.0               0.018614\n",
       "L6_TPC:B                  74620    1486.0               0.019914\n",
       "L6_UPC                    74620    1430.0               0.019164"
      ]
     },
     "execution_count": 9,
     "metadata": {},
     "output_type": "execute_result"
    }
   ],
   "source": [
    "s.xs(\"L1_DAC\", level=\"post_synaptic_mtype\")"
   ]
  },
  {
   "cell_type": "code",
   "execution_count": 10,
   "metadata": {
    "ExecuteTime": {
     "end_time": "2019-11-04T21:36:08.246652Z",
     "start_time": "2019-11-04T21:36:08.233528Z"
    }
   },
   "outputs": [],
   "source": [
    "l1dacs = mock_circuit.cells.get({\"mtype\": \"L1_DAC\"}).index.values"
   ]
  },
  {
   "cell_type": "code",
   "execution_count": 11,
   "metadata": {
    "ExecuteTime": {
     "end_time": "2019-11-04T21:36:08.254849Z",
     "start_time": "2019-11-04T21:36:08.249490Z"
    }
   },
   "outputs": [],
   "source": [
    "l1dac_affs = np.concatenate(\n",
    "    [mock_circuit.connectome.afferent_gids(post_gid)\n",
    "     for post_gid in l1dacs],\n",
    "    axis=0)"
   ]
  },
  {
   "cell_type": "code",
   "execution_count": 12,
   "metadata": {
    "ExecuteTime": {
     "end_time": "2019-11-04T21:36:08.267786Z",
     "start_time": "2019-11-04T21:36:08.256635Z"
    }
   },
   "outputs": [],
   "source": [
    "l1dac_aff_mtypes = mock_circuit.cells.get(l1dac_affs, [\"mtype\"])"
   ]
  },
  {
   "cell_type": "code",
   "execution_count": 13,
   "metadata": {
    "ExecuteTime": {
     "end_time": "2019-11-04T21:36:08.285429Z",
     "start_time": "2019-11-04T21:36:08.270040Z"
    }
   },
   "outputs": [
    {
     "data": {
      "text/plain": [
       "L4_TPC      2440\n",
       "L6_TPC:B    1486\n",
       "L6_IPC      1462\n",
       "L6_UPC      1430\n",
       "L6_TPC:A    1389\n",
       "L5_UPC      1117\n",
       "L5_TPC:A    1114\n",
       "L5_TPC:B    1050\n",
       "L5_DBC       324\n",
       "L6_ChC       309\n",
       "L5_MC        299\n",
       "L6_MC        288\n",
       "L23_MC       241\n",
       "L23_ChC      236\n",
       "L23_SBC      232\n",
       "L4_LBC       143\n",
       "L4_NGC       126\n",
       "L1_DAC       113\n",
       "L1_SLAC       94\n",
       "Name: mtype, dtype: int64"
      ]
     },
     "execution_count": 13,
     "metadata": {},
     "output_type": "execute_result"
    }
   ],
   "source": [
    "l1dac_aff_mtypes.mtype.value_counts()"
   ]
  },
  {
   "cell_type": "code",
   "execution_count": 14,
   "metadata": {
    "ExecuteTime": {
     "end_time": "2019-11-04T21:36:08.296997Z",
     "start_time": "2019-11-04T21:36:08.287226Z"
    }
   },
   "outputs": [
    {
     "data": {
      "text/plain": [
       "L4_TPC      1827\n",
       "L6_UPC      1066\n",
       "L6_IPC      1066\n",
       "L6_TPC:B    1066\n",
       "L6_TPC:A    1066\n",
       "L5_TPC:A     811\n",
       "L5_TPC:B     811\n",
       "L5_UPC       811\n",
       "L5_DBC       247\n",
       "L5_MC        247\n",
       "L6_MC        224\n",
       "L6_ChC       224\n",
       "L23_MC       164\n",
       "L23_SBC      164\n",
       "L23_ChC      164\n",
       "L4_NGC        95\n",
       "L4_LBC        95\n",
       "L1_DAC        70\n",
       "L1_SLAC       70\n",
       "Name: mtype, dtype: int64"
      ]
     },
     "execution_count": 14,
     "metadata": {},
     "output_type": "execute_result"
    }
   ],
   "source": [
    "mock_circuit.cells.get().mtype.value_counts()"
   ]
  },
  {
   "cell_type": "code",
   "execution_count": 15,
   "metadata": {
    "ExecuteTime": {
     "end_time": "2019-11-04T21:36:08.306551Z",
     "start_time": "2019-11-04T21:36:08.298802Z"
    }
   },
   "outputs": [
    {
     "data": {
      "text/plain": [
       "1827.0"
      ]
     },
     "execution_count": 15,
     "metadata": {},
     "output_type": "execute_result"
    }
   ],
   "source": [
    "127890 / 70"
   ]
  },
  {
   "cell_type": "code",
   "execution_count": 16,
   "metadata": {
    "ExecuteTime": {
     "end_time": "2019-11-04T21:36:08.378530Z",
     "start_time": "2019-11-04T21:36:08.308444Z"
    }
   },
   "outputs": [
    {
     "ename": "NameError",
     "evalue": "name 'post_cells' is not defined",
     "output_type": "error",
     "traceback": [
      "\u001b[0;31m---------------------------------------------------------------------------\u001b[0m",
      "\u001b[0;31mNameError\u001b[0m                                 Traceback (most recent call last)",
      "\u001b[0;32m<ipython-input-16-9406e8a062de>\u001b[0m in \u001b[0;36m<module>\u001b[0;34m\u001b[0m\n\u001b[1;32m      1\u001b[0m circuit_model.get_connection_probability(\n\u001b[0;32m----> 2\u001b[0;31m     pre_cell_group, post_cell_group)\n\u001b[0m",
      "\u001b[0;32m~/work/bbp/work/validations/dmt/v2/neuro_dmt/models/bluebrain/circuit/model/__init__.py\u001b[0m in \u001b[0;36mget_connection_probability\u001b[0;34m(self, pre_cell_type_specifier, post_cell_type_specifier)\u001b[0m\n\u001b[1;32m    477\u001b[0m         return pd.concat(\n\u001b[1;32m    478\u001b[0m             [_get_summary_connections(post_cell)\n\u001b[0;32m--> 479\u001b[0;31m              for _, post_cell in post_cells.iterrows()]\n\u001b[0m\u001b[1;32m    480\u001b[0m         ).grouby(list(\n\u001b[1;32m    481\u001b[0m             labels_pre_specifier + labels_post_specifier)\n",
      "\u001b[0;31mNameError\u001b[0m: name 'post_cells' is not defined"
     ]
    }
   ],
   "source": [
    "circuit_model.get_connection_probability(\n",
    "    pre_cell_group, post_cell_group)"
   ]
  },
  {
   "cell_type": "code",
   "execution_count": null,
   "metadata": {
    "ExecuteTime": {
     "end_time": "2019-11-04T21:36:08.396573Z",
     "start_time": "2019-11-04T21:33:15.685Z"
    }
   },
   "outputs": [],
   "source": [
    "def get_connection_probability(\n",
    "            pre_cell_type_specifier,\n",
    "            post_cell_type_specifier):\n",
    "        \"\"\"\n",
    "        Compute connection probability once for either the entire\n",
    "        circuit, or samples of afferent, or samples of  efferent,\n",
    "        or samples of both efferent and afferent cells.\n",
    "        \"\"\"\n",
    "        labels_pre_specifier =[\n",
    "            \"pre_synaptic_{}\".format(c)\n",
    "            for c in pre_cell_type_specifier]\n",
    "        labels_post_specifier = [\n",
    "            \"post_synaptic_{}\".format(c)\n",
    "            for c in post_cell_type_specifier]\n",
    "        cells = circuit_model.cells\n",
    "        def _get_summary_connections(post_cell):\n",
    "            return cells[\n",
    "                list(pre_cell_type_specifier)\n",
    "            ].rename(\n",
    "                columns=lambda c: \"pre_synaptic_{}\".format(c)\n",
    "            ).assign(\n",
    "                number_pairs=np.in1d(\n",
    "                    circuit_model.cells.index.values,\n",
    "                    circuit_model.connectome.afferent_gids(post_cell.gid))\n",
    "            ).groupby(\n",
    "                labels_pre_specifier\n",
    "            ).agg(\n",
    "                [\"size\", \"sum\"]\n",
    "            ).rename(\n",
    "                columns={\"size\": \"total\", \"sum\": \"connected\"}\n",
    "            ).assign(**{\n",
    "                \"post_synaptic_{}\".format(p): post_cell[p] \n",
    "                for p in post_cell_type_specifier}\n",
    "            ).reset_index(\n",
    "            ).set_index(list(\n",
    "                labels_pre_specifier + labels_post_specifier)\n",
    "            )\n",
    "\n",
    "        def _connection_probability(summary):\n",
    "            \"\"\"\n",
    "            Compute connection probability between pairs\n",
    "            \"\"\"\n",
    "            return summary.number_pairs.connected / summary.number_pairs.total\n",
    "\n",
    "        return pd.concat(\n",
    "            [_get_summary_connections(post_cell)\n",
    "             for _, post_cell in cells.iterrows()]\n",
    "        ).groupby(list(\n",
    "            labels_pre_specifier + labels_post_specifier)\n",
    "        ).agg(\n",
    "            \"sum\"\n",
    "        ).assign(\n",
    "            connection_probability=_connection_probability )\n"
   ]
  },
  {
   "cell_type": "code",
   "execution_count": null,
   "metadata": {
    "ExecuteTime": {
     "end_time": "2019-11-04T21:36:08.397419Z",
     "start_time": "2019-11-04T21:33:15.690Z"
    }
   },
   "outputs": [],
   "source": [
    "#sdirect = get_connection_probability((\"mtype\", ), (\"mtype\", ))\n",
    "#sdirect.xs(\"L1_DAC\", level=\"post_synaptic_mtype\")"
   ]
  },
  {
   "cell_type": "code",
   "execution_count": null,
   "metadata": {
    "ExecuteTime": {
     "end_time": "2019-11-04T21:23:19.701903Z",
     "start_time": "2019-11-04T21:23:19.111Z"
    }
   },
   "outputs": [],
   "source": []
  },
  {
   "cell_type": "code",
   "execution_count": null,
   "metadata": {
    "ExecuteTime": {
     "end_time": "2019-11-04T21:36:08.398167Z",
     "start_time": "2019-11-04T21:33:15.697Z"
    }
   },
   "outputs": [],
   "source": [
    "l1dac_aff_mtypes.mtype.value_counts()"
   ]
  },
  {
   "cell_type": "code",
   "execution_count": null,
   "metadata": {},
   "outputs": [],
   "source": []
  }
 ],
 "metadata": {
  "kernelspec": {
   "display_name": "Python 3",
   "language": "python",
   "name": "python3"
  },
  "language_info": {
   "codemirror_mode": {
    "name": "ipython",
    "version": 3
   },
   "file_extension": ".py",
   "mimetype": "text/x-python",
   "name": "python",
   "nbconvert_exporter": "python",
   "pygments_lexer": "ipython3",
   "version": "3.6.8"
  },
  "latex_envs": {
   "LaTeX_envs_menu_present": true,
   "autoclose": false,
   "autocomplete": true,
   "bibliofile": "biblio.bib",
   "cite_by": "apalike",
   "current_citInitial": 1,
   "eqLabelWithNumbers": true,
   "eqNumInitial": 1,
   "hotkeys": {
    "equation": "Ctrl-E",
    "itemize": "Ctrl-I"
   },
   "labels_anchors": false,
   "latex_user_defs": false,
   "report_style_numbering": false,
   "user_envs_cfg": false
  },
  "toc": {
   "base_numbering": 1,
   "nav_menu": {},
   "number_sections": true,
   "sideBar": true,
   "skip_h1_title": false,
   "title_cell": "Table of Contents",
   "title_sidebar": "Contents",
   "toc_cell": false,
   "toc_position": {},
   "toc_section_display": true,
   "toc_window_display": false
  },
  "varInspector": {
   "cols": {
    "lenName": 16,
    "lenType": 16,
    "lenVar": 40
   },
   "kernels_config": {
    "python": {
     "delete_cmd_postfix": "",
     "delete_cmd_prefix": "del ",
     "library": "var_list.py",
     "varRefreshCmd": "print(var_dic_list())"
    },
    "r": {
     "delete_cmd_postfix": ") ",
     "delete_cmd_prefix": "rm(",
     "library": "var_list.r",
     "varRefreshCmd": "cat(var_dic_list()) "
    }
   },
   "types_to_exclude": [
    "module",
    "function",
    "builtin_function_or_method",
    "instance",
    "_Feature"
   ],
   "window_display": false
  }
 },
 "nbformat": 4,
 "nbformat_minor": 2
}
