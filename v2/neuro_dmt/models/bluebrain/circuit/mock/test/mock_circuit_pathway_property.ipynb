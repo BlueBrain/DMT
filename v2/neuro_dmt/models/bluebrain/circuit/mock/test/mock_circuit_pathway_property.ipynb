{
 "cells": [
  {
   "cell_type": "code",
   "execution_count": 1,
   "metadata": {
    "ExecuteTime": {
     "end_time": "2019-11-05T18:43:24.470037Z",
     "start_time": "2019-11-05T18:43:21.999510Z"
    }
   },
   "outputs": [
    {
     "name": "stdout",
     "output_type": "stream",
     "text": [
      "('region', 'layer', 'depth', 'height', 'mesocolumn', 'hypercolumn', 'mtype', 'etype', 'synapse_class', 'postsynaptic', 'presynaptic')\n",
      "('region', 'layer', 'depth', 'height', 'mesocolumn', 'hypercolumn', 'mtype', 'etype', 'synapse_class', 'postsynaptic', 'presynaptic')\n",
      "('region', 'layer', 'depth', 'height', 'mesocolumn', 'hypercolumn', 'mtype', 'etype', 'synapse_class', 'postsynaptic', 'presynaptic')\n",
      "('region', 'layer', 'depth', 'height', 'mtype', 'etype', 'synapse_class')\n",
      "('region', 'layer', 'depth', 'height', 'mtype', 'etype', 'synapse_class')\n"
     ]
    }
   ],
   "source": [
    "import numpy as np\n",
    "import pandas as pd\n",
    "from neuro_dmt.models.bluebrain.circuit.model import BlueBrainCircuitModel\n",
    "from neuro_dmt.models.bluebrain.circuit.mock.test.mock_circuit_light\\\n",
    "    import circuit_composition, circuit_connectivity\n",
    "from neuro_dmt.models.bluebrain.circuit.mock.circuit import\\\n",
    "    MockCircuit"
   ]
  },
  {
   "cell_type": "markdown",
   "metadata": {},
   "source": [
    "A few tests for `class CellType`."
   ]
  },
  {
   "cell_type": "code",
   "execution_count": 2,
   "metadata": {
    "ExecuteTime": {
     "end_time": "2019-11-05T18:43:32.685719Z",
     "start_time": "2019-11-05T18:43:32.664339Z"
    },
    "code_folding": [
     3,
     11,
     23,
     31
    ]
   },
   "outputs": [],
   "source": [
    "from neuro_dmt.models.bluebrain.circuit.model.cell_type import CellType\n",
    "from collections import OrderedDict\n",
    "\n",
    "cell_types = (\n",
    "    CellType(OrderedDict(((\"mtype\", \"L23_MC\"), (\"layer\", \"L3\"),     (\"etype\", \"bNAC\")))),\n",
    "    CellType(OrderedDict(((\"mtype\", \"L23_MC\"), (\"etype\", \"bNAC\"),   (\"layer\", \"L3\")))),\n",
    "    CellType(OrderedDict(((\"layer\", \"L3\"),     (\"mtype\", \"L23_MC\"), (\"etype\", \"bNAC\")))),\n",
    "    CellType(OrderedDict(((\"layer\", \"L3\"),     (\"etype\", \"bNAC\"),   (\"mtype\", \"L23_MC\")))),\n",
    "    CellType(OrderedDict(((\"etype\", \"bNAC\"),   (\"mtype\", \"L23_MC\"), (\"layer\", \"L3\")))),\n",
    "    CellType(OrderedDict(((\"etype\", \"bNAC\"),   (\"layer\", \"L3\"),     (\"mtype\", \"L23_MC\")))))\n",
    "\n",
    "for cell_type in cell_types:\n",
    "    assert isinstance(cell_type.value, pd.Series)\n",
    "    assert len(cell_type.value) == 3\n",
    "    \n",
    "assert cell_types[0].specifier == (\"mtype\", \"layer\", \"etype\"), cell_types[1].specifier \n",
    "assert cell_types[1].specifier == (\"mtype\", \"etype\", \"layer\"), cell_types[2].specifier \n",
    "assert cell_types[2].specifier == (\"layer\", \"mtype\", \"etype\"), cell_types[3].specifier \n",
    "assert cell_types[3].specifier == (\"layer\", \"etype\", \"mtype\"), cell_types[4].specifier \n",
    "assert cell_types[4].specifier == (\"etype\", \"mtype\", \"layer\"), cell_types[5].specifier \n",
    "assert cell_types[5].specifier == (\"etype\", \"layer\", \"mtype\"), cell_types[6].specifier \n",
    "\n",
    "\n",
    "cell_types = (\n",
    "    CellType(pd.Series([\"L23_MC\", \"L3\", \"bNAC\"], index=[\"mtype\", \"layer\", \"etype\"])),\n",
    "    CellType(pd.Series([\"L23_MC\", \"bNAC\", \"L3\"], index=[\"mtype\", \"etype\", \"layer\"])),\n",
    "    CellType(pd.Series([\"L3\", \"L23_MC\", \"bNAC\"], index=[\"layer\", \"mtype\", \"etype\"])),\n",
    "    CellType(pd.Series([\"L3\", \"bNAC\", \"L23_MC\"], index=[\"layer\", \"etype\", \"mtype\"])),\n",
    "    CellType(pd.Series([\"bNAC\", \"L23_MC\", \"L3\"], index=[\"etype\", \"mtype\", \"layer\"])),\n",
    "    CellType(pd.Series([\"bNAC\", \"L3\", \"L23_MC\"], index=[\"etype\", \"layer\", \"mtype\"])))\n",
    "\n",
    "for cell_type in cell_types:\n",
    "    assert isinstance(cell_type.value, pd.Series)\n",
    "    assert len(cell_type.value) == 3\n",
    "    \n",
    "assert cell_types[0].specifier == (\"mtype\", \"layer\", \"etype\"), cell_types[1].specifier \n",
    "assert cell_types[1].specifier == (\"mtype\", \"etype\", \"layer\"), cell_types[2].specifier \n",
    "assert cell_types[2].specifier == (\"layer\", \"mtype\", \"etype\"), cell_types[3].specifier \n",
    "assert cell_types[3].specifier == (\"layer\", \"etype\", \"mtype\"), cell_types[4].specifier \n",
    "assert cell_types[4].specifier == (\"etype\", \"mtype\", \"layer\"), cell_types[5].specifier \n",
    "assert cell_types[5].specifier == (\"etype\", \"layer\", \"mtype\"), cell_types[6].specifier \n",
    "\n"
   ]
  },
  {
   "cell_type": "markdown",
   "metadata": {},
   "source": [
    "We can define a `BlueBrainCircuitModel` instance for `MockCircuit`:"
   ]
  },
  {
   "cell_type": "code",
   "execution_count": 3,
   "metadata": {
    "ExecuteTime": {
     "end_time": "2019-11-05T18:43:57.090336Z",
     "start_time": "2019-11-05T18:43:36.401370Z"
    }
   },
   "outputs": [],
   "source": [
    "mock_circuit =\\\n",
    "    MockCircuit.build(\n",
    "        circuit_composition,\n",
    "        circuit_connectivity)\n",
    "circuit_model =\\\n",
    "    BlueBrainCircuitModel(\n",
    "        mock_circuit,\n",
    "        label=\"BlueBrainCircuitModelMock\")"
   ]
  },
  {
   "cell_type": "code",
   "execution_count": 4,
   "metadata": {
    "ExecuteTime": {
     "end_time": "2019-11-05T18:44:00.958035Z",
     "start_time": "2019-11-05T18:43:58.935400Z"
    }
   },
   "outputs": [
    {
     "data": {
      "text/plain": [
       "total        10000\n",
       "connected      202\n",
       "dtype: int64"
      ]
     },
     "execution_count": 4,
     "metadata": {},
     "output_type": "execute_result"
    }
   ],
   "source": [
    "cells = circuit_model.cells\n",
    "conn_prob = circuit_model.connection_probability\n",
    "for pairs in circuit_model.connection_probability.get(\n",
    "    pre_synaptic_cells=cells.sample(n=100).rename(columns=conn_prob._at(\"pre_synaptic\")),\n",
    "    post_synaptic_cells=cells.sample(n=100).rename(columns=conn_prob._at(\"post_synaptic\"))):\n",
    "    pass\n",
    "pre_synaptic_cells = cells.sample(n=100).rename(columns=conn_prob._at(\"pre_synaptic\"))\n",
    "post_synaptic_cells = cells.sample(n=100).rename(columns=conn_prob._at(\"post_synaptic\"))\n",
    "pd.concat(\n",
    "    [pairs[conn_prob.measurement_variables].agg(conn_prob.aggregators).transpose()\n",
    "     for pairs in conn_prob.get(pre_synaptic_cells, post_synaptic_cells)],\n",
    ").reset_index(\n",
    "    drop=True\n",
    ").rename(\n",
    "    columns=conn_prob.columns\n",
    ").agg(\"sum\")"
   ]
  },
  {
   "cell_type": "code",
   "execution_count": 5,
   "metadata": {
    "ExecuteTime": {
     "end_time": "2019-11-05T18:53:18.492259Z",
     "start_time": "2019-11-05T18:53:17.387866Z"
    }
   },
   "outputs": [
    {
     "name": "stdout",
     "output_type": "stream",
     "text": [
      "pre_synaptic_cell_type_specifier ()\n",
      "post_synaptic_cell_type_specifier ()\n"
     ]
    },
    {
     "data": {
      "text/plain": [
       "total        10000\n",
       "connected      202\n",
       "dtype: int64"
      ]
     },
     "execution_count": 5,
     "metadata": {},
     "output_type": "execute_result"
    }
   ],
   "source": [
    "conn_prob(pre_synaptic_cells, post_synaptic_cells)"
   ]
  },
  {
   "cell_type": "code",
   "execution_count": 6,
   "metadata": {
    "ExecuteTime": {
     "end_time": "2019-11-05T18:53:24.138741Z",
     "start_time": "2019-11-05T18:53:22.626893Z"
    }
   },
   "outputs": [
    {
     "name": "stdout",
     "output_type": "stream",
     "text": [
      "pre_synaptic_cell_type_specifier ('mtype',)\n",
      "post_synaptic_cell_type_specifier ('mtype',)\n"
     ]
    }
   ],
   "source": [
    "result_series = conn_prob(\n",
    "    pd.Series({\"mtype\": \"L23_MC\"}),\n",
    "    pd.Series({\"mtype\": \"L23_MC\"}), \n",
    "    number=100)"
   ]
  },
  {
   "cell_type": "code",
   "execution_count": 7,
   "metadata": {
    "ExecuteTime": {
     "end_time": "2019-11-05T18:53:27.538849Z",
     "start_time": "2019-11-05T18:53:27.510462Z"
    }
   },
   "outputs": [
    {
     "name": "stdout",
     "output_type": "stream",
     "text": [
      "['L23_MC']\n",
      "['L23_MC']\n"
     ]
    }
   ],
   "source": [
    "print(conn_prob.circuit_model.cell_collection.get({\"mtype\": \"L23_MC\"}).mtype.unique())\n",
    "print(conn_prob.circuit_model.get_cells(**{\"mtype\": \"L23_MC\"}).mtype.unique())"
   ]
  },
  {
   "cell_type": "code",
   "execution_count": 8,
   "metadata": {
    "ExecuteTime": {
     "end_time": "2019-11-05T18:53:32.617056Z",
     "start_time": "2019-11-05T18:53:31.143406Z"
    }
   },
   "outputs": [
    {
     "name": "stdout",
     "output_type": "stream",
     "text": [
      "pre_synaptic_cell_type_specifier ('mtype',)\n",
      "post_synaptic_cell_type_specifier ('mtype',)\n"
     ]
    }
   ],
   "source": [
    "result_dataframes = conn_prob(\n",
    "    cells,\n",
    "    cells,\n",
    "    groupby=conn_prob.GroupByVariables((\"mtype\", ), (\"mtype\", )),\n",
    "    number=100,\n",
    "    resample=True)"
   ]
  },
  {
   "cell_type": "code",
   "execution_count": 9,
   "metadata": {
    "ExecuteTime": {
     "end_time": "2019-11-05T18:53:36.428569Z",
     "start_time": "2019-11-05T18:53:36.422539Z"
    }
   },
   "outputs": [
    {
     "data": {
      "text/plain": [
       "pairs                   total        10000.000000\n",
       "                        connected      169.000000\n",
       "connection_probability                   4.533511\n",
       "dtype: float64"
      ]
     },
     "execution_count": 9,
     "metadata": {},
     "output_type": "execute_result"
    }
   ],
   "source": [
    "result_dataframes.sum()"
   ]
  },
  {
   "cell_type": "code",
   "execution_count": 10,
   "metadata": {
    "ExecuteTime": {
     "end_time": "2019-11-05T18:53:41.586317Z",
     "start_time": "2019-11-05T18:53:40.061861Z"
    }
   },
   "outputs": [
    {
     "name": "stdout",
     "output_type": "stream",
     "text": [
      "pre_synaptic_cell_type_specifier ('mtype',)\n",
      "post_synaptic_cell_type_specifier ('mtype',)\n"
     ]
    }
   ],
   "source": [
    "result_no_cell_groups = conn_prob(\n",
    "    groupby=conn_prob.GroupByVariables((\"mtype\", ), (\"mtype\", )),\n",
    "    resample=True,\n",
    "    number=100)"
   ]
  },
  {
   "cell_type": "code",
   "execution_count": 11,
   "metadata": {
    "ExecuteTime": {
     "end_time": "2019-11-05T18:53:45.403004Z",
     "start_time": "2019-11-05T18:53:45.386354Z"
    }
   },
   "outputs": [
    {
     "data": {
      "text/html": [
       "<div>\n",
       "<style scoped>\n",
       "    .dataframe tbody tr th:only-of-type {\n",
       "        vertical-align: middle;\n",
       "    }\n",
       "\n",
       "    .dataframe tbody tr th {\n",
       "        vertical-align: top;\n",
       "    }\n",
       "\n",
       "    .dataframe thead tr th {\n",
       "        text-align: left;\n",
       "    }\n",
       "\n",
       "    .dataframe thead tr:last-of-type th {\n",
       "        text-align: right;\n",
       "    }\n",
       "</style>\n",
       "<table border=\"1\" class=\"dataframe\">\n",
       "  <thead>\n",
       "    <tr>\n",
       "      <th></th>\n",
       "      <th></th>\n",
       "      <th colspan=\"2\" halign=\"left\">pairs</th>\n",
       "      <th>connection_probability</th>\n",
       "    </tr>\n",
       "    <tr>\n",
       "      <th></th>\n",
       "      <th></th>\n",
       "      <th>total</th>\n",
       "      <th>connected</th>\n",
       "      <th></th>\n",
       "    </tr>\n",
       "    <tr>\n",
       "      <th>pre_synaptic_mtype</th>\n",
       "      <th>post_synaptic_mtype</th>\n",
       "      <th></th>\n",
       "      <th></th>\n",
       "      <th></th>\n",
       "    </tr>\n",
       "  </thead>\n",
       "  <tbody>\n",
       "    <tr>\n",
       "      <th rowspan=\"5\" valign=\"top\">L1_DAC</th>\n",
       "      <th>L23_ChC</th>\n",
       "      <td>4</td>\n",
       "      <td>0.0</td>\n",
       "      <td>0.0</td>\n",
       "    </tr>\n",
       "    <tr>\n",
       "      <th>L23_MC</th>\n",
       "      <td>4</td>\n",
       "      <td>0.0</td>\n",
       "      <td>0.0</td>\n",
       "    </tr>\n",
       "    <tr>\n",
       "      <th>L23_SBC</th>\n",
       "      <td>4</td>\n",
       "      <td>0.0</td>\n",
       "      <td>0.0</td>\n",
       "    </tr>\n",
       "    <tr>\n",
       "      <th>L4_LBC</th>\n",
       "      <td>2</td>\n",
       "      <td>0.0</td>\n",
       "      <td>0.0</td>\n",
       "    </tr>\n",
       "    <tr>\n",
       "      <th>L4_NGC</th>\n",
       "      <td>4</td>\n",
       "      <td>0.0</td>\n",
       "      <td>0.0</td>\n",
       "    </tr>\n",
       "  </tbody>\n",
       "</table>\n",
       "</div>"
      ],
      "text/plain": [
       "                                       pairs           connection_probability\n",
       "                                       total connected                       \n",
       "pre_synaptic_mtype post_synaptic_mtype                                       \n",
       "L1_DAC             L23_ChC                 4       0.0                    0.0\n",
       "                   L23_MC                  4       0.0                    0.0\n",
       "                   L23_SBC                 4       0.0                    0.0\n",
       "                   L4_LBC                  2       0.0                    0.0\n",
       "                   L4_NGC                  4       0.0                    0.0"
      ]
     },
     "execution_count": 11,
     "metadata": {},
     "output_type": "execute_result"
    }
   ],
   "source": [
    "result_no_cell_groups.head()"
   ]
  },
  {
   "cell_type": "code",
   "execution_count": null,
   "metadata": {
    "ExecuteTime": {
     "start_time": "2019-11-05T18:54:45.811Z"
    }
   },
   "outputs": [
    {
     "name": "stdout",
     "output_type": "stream",
     "text": [
      "pre_synaptic_cell_type_specifier ()\n",
      "post_synaptic_cell_type_specifier ()\n"
     ]
    }
   ],
   "source": [
    "result_no_cell_groups_no_types = conn_prob(number=1000)"
   ]
  },
  {
   "cell_type": "code",
   "execution_count": 18,
   "metadata": {
    "ExecuteTime": {
     "end_time": "2019-11-05T18:54:35.726459Z",
     "start_time": "2019-11-05T18:54:35.717452Z"
    }
   },
   "outputs": [
    {
     "data": {
      "text/plain": [
       "total        10000\n",
       "connected      205\n",
       "dtype: int64"
      ]
     },
     "execution_count": 18,
     "metadata": {},
     "output_type": "execute_result"
    }
   ],
   "source": [
    "result_no_cell_groups_no_types"
   ]
  },
  {
   "cell_type": "markdown",
   "metadata": {
    "heading_collapsed": true
   },
   "source": [
    "## Pathway property\n",
    "\n",
    "A `PathwayProperty` instance is a callable -- and callable:\n",
    "```\n",
    "class PathwayProperty(WithFields):\n",
    "    \"\"\"\n",
    "    Compute and store a circuit's pathway properties.\n",
    "    \"\"\"\n",
    "    phenomenon = Field(\n",
    "        \"\"\"\n",
    "        A label to go with the pathway property.\n",
    "        \"\"\")\n",
    "    circuit_model = Field(\n",
    "        \"\"\"\n",
    "        The circuit model for which this `PathwayProperty` has been defined.\n",
    "        \"\"\")\n",
    "    max_length_cell_type_specification = Field(\n",
    "        \"\"\"\n",
    "        Max length of the cell type specifier that can be stored.\n",
    "        \"\"\",\n",
    "        __default_value__=2)\n",
    "\n",
    "    def __call__(self,\n",
    "            pre_synaptic_cell_group,\n",
    "            post_synaptic_cell_group,\n",
    "            by=None,\n",
    "            given=None,\n",
    "            resample=False,\n",
    "            sampling_methodology=SamplingMethodology.random,\n",
    "            number=100):\n",
    "        \"\"\"\n",
    "        Compute, or retrieve from the store...\n",
    "\n",
    "        Arguments\n",
    "        -------------\n",
    "        pre_synaptic_cell_group:  Array<GID>,\n",
    "        ~                         Mapping<CellProperty==>Value>,\n",
    "        ~                         pandas.Series<CellProperty>,\n",
    "        ~                         pandas.DataFrame<CellProperty>\n",
    "        post_synaptic_cell_group: Array<GID>,\n",
    "        ~                         Mapping<CellProperty==>Value>,\n",
    "        ~                         pandas.Series<CellProperty>,\n",
    "        ~                         pandas.DataFrame<CellProperty>\n",
    "        by : A property of a connection ((pre_synaptic_cell, post_synaptic_cell).\n",
    "             Pathway property will be computed for given values of this variable.\n",
    "             If a list of variables, the computation will be conditioned on all\n",
    "             the variables.\n",
    "        given: A dict providing variables and their values for which the\n",
    "               the pathway property will be returned.\n",
    "               \n",
    "        Returns\n",
    "        ---------------\n",
    "        pd.Series if \n",
    "        \n",
    "        \"\"\"\n",
    "```\n",
    "\n"
   ]
  },
  {
   "cell_type": "code",
   "execution_count": 18,
   "metadata": {
    "ExecuteTime": {
     "end_time": "2019-11-05T10:29:47.068681Z",
     "start_time": "2019-11-05T10:29:47.049348Z"
    },
    "hidden": true,
    "scrolled": true
   },
   "outputs": [],
   "source": [
    "s = circuit_model.connection_probability(\n",
    "    np.array([1,2]),\n",
    "    np.array([3,4]))"
   ]
  },
  {
   "cell_type": "code",
   "execution_count": 19,
   "metadata": {
    "ExecuteTime": {
     "end_time": "2019-11-05T10:29:52.808809Z",
     "start_time": "2019-11-05T10:29:52.803172Z"
    },
    "hidden": true
   },
   "outputs": [
    {
     "data": {
      "text/plain": [
       "(number_pairs, total)        4.0\n",
       "(number_pairs, connected)    0.0\n",
       "connection_probability       0.0\n",
       "dtype: float64"
      ]
     },
     "execution_count": 19,
     "metadata": {},
     "output_type": "execute_result"
    }
   ],
   "source": [
    "s"
   ]
  },
  {
   "cell_type": "code",
   "execution_count": 6,
   "metadata": {
    "ExecuteTime": {
     "end_time": "2019-11-05T08:34:06.436027Z",
     "start_time": "2019-11-05T08:00:12.967288Z"
    },
    "hidden": true
   },
   "outputs": [
    {
     "name": "stderr",
     "output_type": "stream",
     "text": [
      "/Users/vishalsoodmuchu/.vmgr_repo/py37/lib/python3.7/site-packages/neuro_dmt/models/bluebrain/circuit/model/pathway.py:354: FutureWarning: Interpreting tuple 'by' as a list of keys, rather than a single key. Use 'by=[...]' instead of 'by=(...)'. In the future, a tuple will always mean a single key.\n",
      "  pre_synaptic_cell_type_specifier\n"
     ]
    }
   ],
   "source": [
    "from neuro_dmt.models.bluebrain.circuit.model.pathway import SamplingMethodology\n",
    "pre_cell_group = pd.Series({\"mtype\": \"L23_MC\"})\n",
    "post_cell_group = pd.Series({\"mtype\": \"L23_MC\"})\n",
    "s = circuit_model.connection_probability(\n",
    "    pre_cell_group,\n",
    "    post_cell_group,\n",
    "    sampling_methodology=SamplingMethodology.exhaustive)"
   ]
  },
  {
   "cell_type": "code",
   "execution_count": 7,
   "metadata": {
    "ExecuteTime": {
     "end_time": "2019-11-05T08:34:06.461773Z",
     "start_time": "2019-11-05T08:34:06.439367Z"
    },
    "hidden": true
   },
   "outputs": [
    {
     "data": {
      "text/html": [
       "<div>\n",
       "<style scoped>\n",
       "    .dataframe tbody tr th:only-of-type {\n",
       "        vertical-align: middle;\n",
       "    }\n",
       "\n",
       "    .dataframe tbody tr th {\n",
       "        vertical-align: top;\n",
       "    }\n",
       "\n",
       "    .dataframe thead th {\n",
       "        text-align: right;\n",
       "    }\n",
       "</style>\n",
       "<table border=\"1\" class=\"dataframe\">\n",
       "  <thead>\n",
       "    <tr style=\"text-align: right;\">\n",
       "      <th></th>\n",
       "      <th>region</th>\n",
       "      <th>layer</th>\n",
       "      <th>nucleus</th>\n",
       "      <th>mtype</th>\n",
       "      <th>etype</th>\n",
       "      <th>morph_class</th>\n",
       "      <th>synapse_class</th>\n",
       "      <th>x</th>\n",
       "      <th>y</th>\n",
       "      <th>z</th>\n",
       "    </tr>\n",
       "  </thead>\n",
       "  <tbody>\n",
       "    <tr>\n",
       "      <th>227</th>\n",
       "      <td>brain</td>\n",
       "      <td>2</td>\n",
       "      <td>not-defined</td>\n",
       "      <td>L23_ChC</td>\n",
       "      <td>not-defined</td>\n",
       "      <td>not-defined</td>\n",
       "      <td>INH</td>\n",
       "      <td>123.384590</td>\n",
       "      <td>1651.865006</td>\n",
       "      <td>78.064000</td>\n",
       "    </tr>\n",
       "    <tr>\n",
       "      <th>228</th>\n",
       "      <td>brain</td>\n",
       "      <td>2</td>\n",
       "      <td>not-defined</td>\n",
       "      <td>L23_ChC</td>\n",
       "      <td>not-defined</td>\n",
       "      <td>not-defined</td>\n",
       "      <td>INH</td>\n",
       "      <td>56.219132</td>\n",
       "      <td>1692.110101</td>\n",
       "      <td>143.581369</td>\n",
       "    </tr>\n",
       "    <tr>\n",
       "      <th>229</th>\n",
       "      <td>brain</td>\n",
       "      <td>2</td>\n",
       "      <td>not-defined</td>\n",
       "      <td>L23_ChC</td>\n",
       "      <td>not-defined</td>\n",
       "      <td>not-defined</td>\n",
       "      <td>INH</td>\n",
       "      <td>191.856599</td>\n",
       "      <td>1623.164846</td>\n",
       "      <td>165.929919</td>\n",
       "    </tr>\n",
       "    <tr>\n",
       "      <th>230</th>\n",
       "      <td>brain</td>\n",
       "      <td>2</td>\n",
       "      <td>not-defined</td>\n",
       "      <td>L23_ChC</td>\n",
       "      <td>not-defined</td>\n",
       "      <td>not-defined</td>\n",
       "      <td>INH</td>\n",
       "      <td>135.442984</td>\n",
       "      <td>1626.620538</td>\n",
       "      <td>236.819712</td>\n",
       "    </tr>\n",
       "    <tr>\n",
       "      <th>231</th>\n",
       "      <td>brain</td>\n",
       "      <td>2</td>\n",
       "      <td>not-defined</td>\n",
       "      <td>L23_ChC</td>\n",
       "      <td>not-defined</td>\n",
       "      <td>not-defined</td>\n",
       "      <td>INH</td>\n",
       "      <td>174.672321</td>\n",
       "      <td>1606.008151</td>\n",
       "      <td>175.396775</td>\n",
       "    </tr>\n",
       "  </tbody>\n",
       "</table>\n",
       "</div>"
      ],
      "text/plain": [
       "    region  layer      nucleus    mtype        etype  morph_class  \\\n",
       "227  brain      2  not-defined  L23_ChC  not-defined  not-defined   \n",
       "228  brain      2  not-defined  L23_ChC  not-defined  not-defined   \n",
       "229  brain      2  not-defined  L23_ChC  not-defined  not-defined   \n",
       "230  brain      2  not-defined  L23_ChC  not-defined  not-defined   \n",
       "231  brain      2  not-defined  L23_ChC  not-defined  not-defined   \n",
       "\n",
       "    synapse_class           x            y           z  \n",
       "227           INH  123.384590  1651.865006   78.064000  \n",
       "228           INH   56.219132  1692.110101  143.581369  \n",
       "229           INH  191.856599  1623.164846  165.929919  \n",
       "230           INH  135.442984  1626.620538  236.819712  \n",
       "231           INH  174.672321  1606.008151  175.396775  "
      ]
     },
     "execution_count": 7,
     "metadata": {},
     "output_type": "execute_result"
    }
   ],
   "source": [
    "mock_circuit.cells.get({\"mtype\": \"L23_ChC\"}).head()"
   ]
  },
  {
   "cell_type": "code",
   "execution_count": 8,
   "metadata": {
    "ExecuteTime": {
     "end_time": "2019-11-05T08:34:06.476805Z",
     "start_time": "2019-11-05T08:34:06.463913Z"
    },
    "hidden": true
   },
   "outputs": [
    {
     "data": {
      "text/html": [
       "<div>\n",
       "<style scoped>\n",
       "    .dataframe tbody tr th:only-of-type {\n",
       "        vertical-align: middle;\n",
       "    }\n",
       "\n",
       "    .dataframe tbody tr th {\n",
       "        vertical-align: top;\n",
       "    }\n",
       "\n",
       "    .dataframe thead th {\n",
       "        text-align: right;\n",
       "    }\n",
       "</style>\n",
       "<table border=\"1\" class=\"dataframe\">\n",
       "  <thead>\n",
       "    <tr style=\"text-align: right;\">\n",
       "      <th></th>\n",
       "      <th>region</th>\n",
       "      <th>layer</th>\n",
       "      <th>nucleus</th>\n",
       "      <th>mtype</th>\n",
       "      <th>etype</th>\n",
       "      <th>morph_class</th>\n",
       "      <th>synapse_class</th>\n",
       "      <th>x</th>\n",
       "      <th>y</th>\n",
       "      <th>z</th>\n",
       "    </tr>\n",
       "  </thead>\n",
       "  <tbody>\n",
       "    <tr>\n",
       "      <th>56</th>\n",
       "      <td>brain</td>\n",
       "      <td>1</td>\n",
       "      <td>not-defined</td>\n",
       "      <td>L1_DAC</td>\n",
       "      <td>not-defined</td>\n",
       "      <td>not-defined</td>\n",
       "      <td>INH</td>\n",
       "      <td>152.331923</td>\n",
       "      <td>1744.215587</td>\n",
       "      <td>154.261640</td>\n",
       "    </tr>\n",
       "    <tr>\n",
       "      <th>65</th>\n",
       "      <td>brain</td>\n",
       "      <td>1</td>\n",
       "      <td>not-defined</td>\n",
       "      <td>L1_DAC</td>\n",
       "      <td>not-defined</td>\n",
       "      <td>not-defined</td>\n",
       "      <td>INH</td>\n",
       "      <td>99.036326</td>\n",
       "      <td>1816.659774</td>\n",
       "      <td>189.228807</td>\n",
       "    </tr>\n",
       "    <tr>\n",
       "      <th>71</th>\n",
       "      <td>brain</td>\n",
       "      <td>1</td>\n",
       "      <td>not-defined</td>\n",
       "      <td>L1_SLAC</td>\n",
       "      <td>not-defined</td>\n",
       "      <td>not-defined</td>\n",
       "      <td>INH</td>\n",
       "      <td>179.609974</td>\n",
       "      <td>1818.600021</td>\n",
       "      <td>105.986680</td>\n",
       "    </tr>\n",
       "    <tr>\n",
       "      <th>257</th>\n",
       "      <td>brain</td>\n",
       "      <td>2</td>\n",
       "      <td>not-defined</td>\n",
       "      <td>L23_ChC</td>\n",
       "      <td>not-defined</td>\n",
       "      <td>not-defined</td>\n",
       "      <td>INH</td>\n",
       "      <td>206.052445</td>\n",
       "      <td>1643.353590</td>\n",
       "      <td>29.976529</td>\n",
       "    </tr>\n",
       "    <tr>\n",
       "      <th>297</th>\n",
       "      <td>brain</td>\n",
       "      <td>2</td>\n",
       "      <td>not-defined</td>\n",
       "      <td>L23_ChC</td>\n",
       "      <td>not-defined</td>\n",
       "      <td>not-defined</td>\n",
       "      <td>INH</td>\n",
       "      <td>226.179319</td>\n",
       "      <td>1631.551780</td>\n",
       "      <td>236.097489</td>\n",
       "    </tr>\n",
       "  </tbody>\n",
       "</table>\n",
       "</div>"
      ],
      "text/plain": [
       "    region  layer      nucleus    mtype        etype  morph_class  \\\n",
       "56   brain      1  not-defined   L1_DAC  not-defined  not-defined   \n",
       "65   brain      1  not-defined   L1_DAC  not-defined  not-defined   \n",
       "71   brain      1  not-defined  L1_SLAC  not-defined  not-defined   \n",
       "257  brain      2  not-defined  L23_ChC  not-defined  not-defined   \n",
       "297  brain      2  not-defined  L23_ChC  not-defined  not-defined   \n",
       "\n",
       "    synapse_class           x            y           z  \n",
       "56            INH  152.331923  1744.215587  154.261640  \n",
       "65            INH   99.036326  1816.659774  189.228807  \n",
       "71            INH  179.609974  1818.600021  105.986680  \n",
       "257           INH  206.052445  1643.353590   29.976529  \n",
       "297           INH  226.179319  1631.551780  236.097489  "
      ]
     },
     "execution_count": 8,
     "metadata": {},
     "output_type": "execute_result"
    }
   ],
   "source": [
    "mock_circuit.cells.get(mock_circuit.connectome.afferent_gids(140)).head()"
   ]
  },
  {
   "cell_type": "code",
   "execution_count": 9,
   "metadata": {
    "ExecuteTime": {
     "end_time": "2019-11-05T08:34:06.490976Z",
     "start_time": "2019-11-05T08:34:06.478771Z"
    },
    "hidden": true
   },
   "outputs": [
    {
     "data": {
      "text/html": [
       "<div>\n",
       "<style scoped>\n",
       "    .dataframe tbody tr th:only-of-type {\n",
       "        vertical-align: middle;\n",
       "    }\n",
       "\n",
       "    .dataframe tbody tr th {\n",
       "        vertical-align: top;\n",
       "    }\n",
       "\n",
       "    .dataframe thead tr th {\n",
       "        text-align: left;\n",
       "    }\n",
       "\n",
       "    .dataframe thead tr:last-of-type th {\n",
       "        text-align: right;\n",
       "    }\n",
       "</style>\n",
       "<table border=\"1\" class=\"dataframe\">\n",
       "  <thead>\n",
       "    <tr>\n",
       "      <th></th>\n",
       "      <th colspan=\"2\" halign=\"left\">number_pairs</th>\n",
       "      <th>connection_probability</th>\n",
       "    </tr>\n",
       "    <tr>\n",
       "      <th></th>\n",
       "      <th>total</th>\n",
       "      <th>connected</th>\n",
       "      <th></th>\n",
       "    </tr>\n",
       "    <tr>\n",
       "      <th>pre_synaptic_mtype</th>\n",
       "      <th></th>\n",
       "      <th></th>\n",
       "      <th></th>\n",
       "    </tr>\n",
       "  </thead>\n",
       "  <tbody>\n",
       "    <tr>\n",
       "      <th>L1_DAC</th>\n",
       "      <td>4900</td>\n",
       "      <td>98.0</td>\n",
       "      <td>0.020000</td>\n",
       "    </tr>\n",
       "    <tr>\n",
       "      <th>L1_SLAC</th>\n",
       "      <td>4900</td>\n",
       "      <td>96.0</td>\n",
       "      <td>0.019592</td>\n",
       "    </tr>\n",
       "    <tr>\n",
       "      <th>L23_ChC</th>\n",
       "      <td>11480</td>\n",
       "      <td>202.0</td>\n",
       "      <td>0.017596</td>\n",
       "    </tr>\n",
       "    <tr>\n",
       "      <th>L23_MC</th>\n",
       "      <td>11480</td>\n",
       "      <td>245.0</td>\n",
       "      <td>0.021341</td>\n",
       "    </tr>\n",
       "    <tr>\n",
       "      <th>L23_SBC</th>\n",
       "      <td>11480</td>\n",
       "      <td>253.0</td>\n",
       "      <td>0.022038</td>\n",
       "    </tr>\n",
       "    <tr>\n",
       "      <th>L4_LBC</th>\n",
       "      <td>6650</td>\n",
       "      <td>124.0</td>\n",
       "      <td>0.018647</td>\n",
       "    </tr>\n",
       "    <tr>\n",
       "      <th>L4_NGC</th>\n",
       "      <td>6650</td>\n",
       "      <td>125.0</td>\n",
       "      <td>0.018797</td>\n",
       "    </tr>\n",
       "    <tr>\n",
       "      <th>L4_TPC</th>\n",
       "      <td>127890</td>\n",
       "      <td>2535.0</td>\n",
       "      <td>0.019822</td>\n",
       "    </tr>\n",
       "    <tr>\n",
       "      <th>L5_DBC</th>\n",
       "      <td>17290</td>\n",
       "      <td>327.0</td>\n",
       "      <td>0.018913</td>\n",
       "    </tr>\n",
       "    <tr>\n",
       "      <th>L5_MC</th>\n",
       "      <td>17290</td>\n",
       "      <td>314.0</td>\n",
       "      <td>0.018161</td>\n",
       "    </tr>\n",
       "    <tr>\n",
       "      <th>L5_TPC:A</th>\n",
       "      <td>56770</td>\n",
       "      <td>1095.0</td>\n",
       "      <td>0.019288</td>\n",
       "    </tr>\n",
       "    <tr>\n",
       "      <th>L5_TPC:B</th>\n",
       "      <td>56770</td>\n",
       "      <td>1131.0</td>\n",
       "      <td>0.019922</td>\n",
       "    </tr>\n",
       "    <tr>\n",
       "      <th>L5_UPC</th>\n",
       "      <td>56770</td>\n",
       "      <td>1077.0</td>\n",
       "      <td>0.018971</td>\n",
       "    </tr>\n",
       "    <tr>\n",
       "      <th>L6_ChC</th>\n",
       "      <td>15680</td>\n",
       "      <td>302.0</td>\n",
       "      <td>0.019260</td>\n",
       "    </tr>\n",
       "    <tr>\n",
       "      <th>L6_IPC</th>\n",
       "      <td>74620</td>\n",
       "      <td>1493.0</td>\n",
       "      <td>0.020008</td>\n",
       "    </tr>\n",
       "    <tr>\n",
       "      <th>L6_MC</th>\n",
       "      <td>15680</td>\n",
       "      <td>300.0</td>\n",
       "      <td>0.019133</td>\n",
       "    </tr>\n",
       "    <tr>\n",
       "      <th>L6_TPC:A</th>\n",
       "      <td>74620</td>\n",
       "      <td>1405.0</td>\n",
       "      <td>0.018829</td>\n",
       "    </tr>\n",
       "    <tr>\n",
       "      <th>L6_TPC:B</th>\n",
       "      <td>74620</td>\n",
       "      <td>1414.0</td>\n",
       "      <td>0.018949</td>\n",
       "    </tr>\n",
       "    <tr>\n",
       "      <th>L6_UPC</th>\n",
       "      <td>74620</td>\n",
       "      <td>1418.0</td>\n",
       "      <td>0.019003</td>\n",
       "    </tr>\n",
       "  </tbody>\n",
       "</table>\n",
       "</div>"
      ],
      "text/plain": [
       "                   number_pairs           connection_probability\n",
       "                          total connected                       \n",
       "pre_synaptic_mtype                                              \n",
       "L1_DAC                     4900      98.0               0.020000\n",
       "L1_SLAC                    4900      96.0               0.019592\n",
       "L23_ChC                   11480     202.0               0.017596\n",
       "L23_MC                    11480     245.0               0.021341\n",
       "L23_SBC                   11480     253.0               0.022038\n",
       "L4_LBC                     6650     124.0               0.018647\n",
       "L4_NGC                     6650     125.0               0.018797\n",
       "L4_TPC                   127890    2535.0               0.019822\n",
       "L5_DBC                    17290     327.0               0.018913\n",
       "L5_MC                     17290     314.0               0.018161\n",
       "L5_TPC:A                  56770    1095.0               0.019288\n",
       "L5_TPC:B                  56770    1131.0               0.019922\n",
       "L5_UPC                    56770    1077.0               0.018971\n",
       "L6_ChC                    15680     302.0               0.019260\n",
       "L6_IPC                    74620    1493.0               0.020008\n",
       "L6_MC                     15680     300.0               0.019133\n",
       "L6_TPC:A                  74620    1405.0               0.018829\n",
       "L6_TPC:B                  74620    1414.0               0.018949\n",
       "L6_UPC                    74620    1418.0               0.019003"
      ]
     },
     "execution_count": 9,
     "metadata": {},
     "output_type": "execute_result"
    }
   ],
   "source": [
    "s.xs(\"L1_DAC\", level=\"post_synaptic_mtype\")"
   ]
  },
  {
   "cell_type": "code",
   "execution_count": 10,
   "metadata": {
    "ExecuteTime": {
     "end_time": "2019-11-05T08:34:06.501237Z",
     "start_time": "2019-11-05T08:34:06.492636Z"
    },
    "hidden": true
   },
   "outputs": [],
   "source": [
    "l1dacs = mock_circuit.cells.get({\"mtype\": \"L1_DAC\"}).index.values"
   ]
  },
  {
   "cell_type": "code",
   "execution_count": 11,
   "metadata": {
    "ExecuteTime": {
     "end_time": "2019-11-05T08:34:06.507382Z",
     "start_time": "2019-11-05T08:34:06.503206Z"
    },
    "hidden": true
   },
   "outputs": [],
   "source": [
    "l1dac_affs = np.concatenate(\n",
    "    [mock_circuit.connectome.afferent_gids(post_gid)\n",
    "     for post_gid in l1dacs],\n",
    "    axis=0)"
   ]
  },
  {
   "cell_type": "code",
   "execution_count": 12,
   "metadata": {
    "ExecuteTime": {
     "end_time": "2019-11-05T08:34:06.517912Z",
     "start_time": "2019-11-05T08:34:06.508940Z"
    },
    "hidden": true
   },
   "outputs": [],
   "source": [
    "l1dac_aff_mtypes = mock_circuit.cells.get(l1dac_affs, [\"mtype\"])"
   ]
  },
  {
   "cell_type": "code",
   "execution_count": 13,
   "metadata": {
    "ExecuteTime": {
     "end_time": "2019-11-05T08:34:06.527900Z",
     "start_time": "2019-11-05T08:34:06.519838Z"
    },
    "hidden": true
   },
   "outputs": [
    {
     "data": {
      "text/plain": [
       "L4_TPC      2535\n",
       "L6_IPC      1493\n",
       "L6_UPC      1418\n",
       "L6_TPC:B    1414\n",
       "L6_TPC:A    1405\n",
       "L5_TPC:B    1131\n",
       "L5_TPC:A    1095\n",
       "L5_UPC      1077\n",
       "L5_DBC       327\n",
       "L5_MC        314\n",
       "L6_ChC       302\n",
       "L6_MC        300\n",
       "L23_SBC      253\n",
       "L23_MC       245\n",
       "L23_ChC      202\n",
       "L4_NGC       125\n",
       "L4_LBC       124\n",
       "L1_DAC        98\n",
       "L1_SLAC       96\n",
       "Name: mtype, dtype: int64"
      ]
     },
     "execution_count": 13,
     "metadata": {},
     "output_type": "execute_result"
    }
   ],
   "source": [
    "l1dac_aff_mtypes.mtype.value_counts()"
   ]
  },
  {
   "cell_type": "code",
   "execution_count": 14,
   "metadata": {
    "ExecuteTime": {
     "end_time": "2019-11-05T08:34:06.536594Z",
     "start_time": "2019-11-05T08:34:06.529354Z"
    },
    "hidden": true
   },
   "outputs": [
    {
     "data": {
      "text/plain": [
       "L4_TPC      1827\n",
       "L6_UPC      1066\n",
       "L6_TPC:B    1066\n",
       "L6_IPC      1066\n",
       "L6_TPC:A    1066\n",
       "L5_TPC:A     811\n",
       "L5_UPC       811\n",
       "L5_TPC:B     811\n",
       "L5_DBC       247\n",
       "L5_MC        247\n",
       "L6_ChC       224\n",
       "L6_MC        224\n",
       "L23_MC       164\n",
       "L23_ChC      164\n",
       "L23_SBC      164\n",
       "L4_NGC        95\n",
       "L4_LBC        95\n",
       "L1_SLAC       70\n",
       "L1_DAC        70\n",
       "Name: mtype, dtype: int64"
      ]
     },
     "execution_count": 14,
     "metadata": {},
     "output_type": "execute_result"
    }
   ],
   "source": [
    "mock_circuit.cells.get().mtype.value_counts()"
   ]
  },
  {
   "cell_type": "code",
   "execution_count": 15,
   "metadata": {
    "ExecuteTime": {
     "end_time": "2019-11-05T08:34:06.547206Z",
     "start_time": "2019-11-05T08:34:06.539444Z"
    },
    "hidden": true
   },
   "outputs": [
    {
     "data": {
      "text/plain": [
       "1827.0"
      ]
     },
     "execution_count": 15,
     "metadata": {},
     "output_type": "execute_result"
    }
   ],
   "source": [
    "127890 / 70"
   ]
  },
  {
   "cell_type": "code",
   "execution_count": 16,
   "metadata": {
    "ExecuteTime": {
     "end_time": "2019-11-05T08:34:06.562029Z",
     "start_time": "2019-11-05T08:34:06.549234Z"
    },
    "hidden": true
   },
   "outputs": [
    {
     "ename": "NameError",
     "evalue": "name 'post_cells' is not defined",
     "output_type": "error",
     "traceback": [
      "\u001b[0;31m---------------------------------------------------------------------------\u001b[0m",
      "\u001b[0;31mNameError\u001b[0m                                 Traceback (most recent call last)",
      "\u001b[0;32m<ipython-input-16-9406e8a062de>\u001b[0m in \u001b[0;36m<module>\u001b[0;34m\u001b[0m\n\u001b[1;32m      1\u001b[0m circuit_model.get_connection_probability(\n\u001b[0;32m----> 2\u001b[0;31m     pre_cell_group, post_cell_group)\n\u001b[0m",
      "\u001b[0;32m~/.vmgr_repo/py37/lib/python3.7/site-packages/neuro_dmt/models/bluebrain/circuit/model/__init__.py\u001b[0m in \u001b[0;36mget_connection_probability\u001b[0;34m(self, pre_cell_type_specifier, post_cell_type_specifier)\u001b[0m\n\u001b[1;32m    477\u001b[0m         return pd.concat(\n\u001b[1;32m    478\u001b[0m             [_get_summary_connections(post_cell)\n\u001b[0;32m--> 479\u001b[0;31m              for _, post_cell in post_cells.iterrows()]\n\u001b[0m\u001b[1;32m    480\u001b[0m         ).grouby(list(\n\u001b[1;32m    481\u001b[0m             labels_pre_specifier + labels_post_specifier)\n",
      "\u001b[0;31mNameError\u001b[0m: name 'post_cells' is not defined"
     ]
    }
   ],
   "source": [
    "circuit_model.get_connection_probability(\n",
    "    pre_cell_group, post_cell_group)"
   ]
  },
  {
   "cell_type": "code",
   "execution_count": null,
   "metadata": {
    "ExecuteTime": {
     "end_time": "2019-11-05T08:34:06.567180Z",
     "start_time": "2019-11-05T07:59:48.570Z"
    },
    "code_folding": [
     0
    ],
    "hidden": true
   },
   "outputs": [],
   "source": [
    "def get_connection_probability(\n",
    "            pre_cell_type_specifier,\n",
    "            post_cell_type_specifier):\n",
    "        \"\"\"\n",
    "        Compute connection probability once for either the entire\n",
    "        circuit, or samples of afferent, or samples of  efferent,\n",
    "        or samples of both efferent and afferent cells.\n",
    "        \"\"\"\n",
    "        labels_pre_specifier =[\n",
    "            \"pre_synaptic_{}\".format(c)\n",
    "            for c in pre_cell_type_specifier]\n",
    "        labels_post_specifier = [\n",
    "            \"post_synaptic_{}\".format(c)\n",
    "            for c in post_cell_type_specifier]\n",
    "        cells = circuit_model.cells\n",
    "        def _get_summary_connections(post_cell):\n",
    "            return cells[\n",
    "                list(pre_cell_type_specifier)\n",
    "            ].rename(\n",
    "                columns=lambda c: \"pre_synaptic_{}\".format(c)\n",
    "            ).assign(\n",
    "                number_pairs=np.in1d(\n",
    "                    circuit_model.cells.index.values,\n",
    "                    circuit_model.connectome.afferent_gids(post_cell.gid))\n",
    "            ).groupby(\n",
    "                labels_pre_specifier\n",
    "            ).agg(\n",
    "                [\"size\", \"sum\"]\n",
    "            ).rename(\n",
    "                columns={\"size\": \"total\", \"sum\": \"connected\"}\n",
    "            ).assign(**{\n",
    "                \"post_synaptic_{}\".format(p): post_cell[p] \n",
    "                for p in post_cell_type_specifier}\n",
    "            ).reset_index(\n",
    "            ).set_index(list(\n",
    "                labels_pre_specifier + labels_post_specifier)\n",
    "            )\n",
    "\n",
    "        def _connection_probability(summary):\n",
    "            \"\"\"\n",
    "            Compute connection probability between pairs\n",
    "            \"\"\"\n",
    "            return summary.number_pairs.connected / summary.number_pairs.total\n",
    "\n",
    "        return pd.concat(\n",
    "            [_get_summary_connections(post_cell)\n",
    "             for _, post_cell in cells.iterrows()]\n",
    "        ).groupby(list(\n",
    "            labels_pre_specifier + labels_post_specifier)\n",
    "        ).agg(\n",
    "            \"sum\"\n",
    "        ).assign(\n",
    "            connection_probability=_connection_probability )\n"
   ]
  },
  {
   "cell_type": "code",
   "execution_count": null,
   "metadata": {
    "ExecuteTime": {
     "end_time": "2019-11-05T08:34:06.568382Z",
     "start_time": "2019-11-05T07:59:48.571Z"
    },
    "hidden": true
   },
   "outputs": [],
   "source": [
    "#sdirect = get_connection_probability((\"mtype\", ), (\"mtype\", ))\n",
    "#sdirect.xs(\"L1_DAC\", level=\"post_synaptic_mtype\")"
   ]
  },
  {
   "cell_type": "code",
   "execution_count": null,
   "metadata": {
    "ExecuteTime": {
     "end_time": "2019-11-04T21:23:19.701903Z",
     "start_time": "2019-11-04T21:23:19.111Z"
    },
    "hidden": true
   },
   "outputs": [],
   "source": []
  },
  {
   "cell_type": "code",
   "execution_count": null,
   "metadata": {
    "ExecuteTime": {
     "end_time": "2019-11-05T08:34:06.569483Z",
     "start_time": "2019-11-05T07:59:48.573Z"
    },
    "hidden": true
   },
   "outputs": [],
   "source": [
    "l1dac_aff_mtypes.mtype.value_counts()"
   ]
  },
  {
   "cell_type": "code",
   "execution_count": null,
   "metadata": {
    "hidden": true
   },
   "outputs": [],
   "source": []
  }
 ],
 "metadata": {
  "kernelspec": {
   "display_name": "Python 3",
   "language": "python",
   "name": "python3"
  },
  "language_info": {
   "codemirror_mode": {
    "name": "ipython",
    "version": 3
   },
   "file_extension": ".py",
   "mimetype": "text/x-python",
   "name": "python",
   "nbconvert_exporter": "python",
   "pygments_lexer": "ipython3",
   "version": "3.7.4"
  },
  "latex_envs": {
   "LaTeX_envs_menu_present": true,
   "autoclose": false,
   "autocomplete": true,
   "bibliofile": "biblio.bib",
   "cite_by": "apalike",
   "current_citInitial": 1,
   "eqLabelWithNumbers": true,
   "eqNumInitial": 1,
   "hotkeys": {
    "equation": "Ctrl-E",
    "itemize": "Ctrl-I"
   },
   "labels_anchors": false,
   "latex_user_defs": false,
   "report_style_numbering": false,
   "user_envs_cfg": false
  },
  "toc": {
   "base_numbering": 1,
   "nav_menu": {},
   "number_sections": true,
   "sideBar": true,
   "skip_h1_title": false,
   "title_cell": "Table of Contents",
   "title_sidebar": "Contents",
   "toc_cell": false,
   "toc_position": {},
   "toc_section_display": true,
   "toc_window_display": false
  },
  "varInspector": {
   "cols": {
    "lenName": 16,
    "lenType": 16,
    "lenVar": 40
   },
   "kernels_config": {
    "python": {
     "delete_cmd_postfix": "",
     "delete_cmd_prefix": "del ",
     "library": "var_list.py",
     "varRefreshCmd": "print(var_dic_list())"
    },
    "r": {
     "delete_cmd_postfix": ") ",
     "delete_cmd_prefix": "rm(",
     "library": "var_list.r",
     "varRefreshCmd": "cat(var_dic_list()) "
    }
   },
   "types_to_exclude": [
    "module",
    "function",
    "builtin_function_or_method",
    "instance",
    "_Feature"
   ],
   "window_display": false
  }
 },
 "nbformat": 4,
 "nbformat_minor": 2
}
