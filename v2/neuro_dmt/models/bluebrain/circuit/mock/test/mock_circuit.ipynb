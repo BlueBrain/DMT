{
 "cells": [
  {
   "cell_type": "markdown",
   "metadata": {},
   "source": [
    "# Test Develop Mock Circuit"
   ]
  },
  {
   "cell_type": "code",
   "execution_count": 1,
   "metadata": {
    "ExecuteTime": {
     "end_time": "2019-07-03T13:41:37.033895Z",
     "start_time": "2019-07-03T13:41:36.509932Z"
    }
   },
   "outputs": [],
   "source": [
    "import numpy as np\n",
    "import pandas as pd\n",
    "from neuro_dmt.models.bluebrain.circuit.mock.cell import Cell"
   ]
  },
  {
   "cell_type": "code",
   "execution_count": 2,
   "metadata": {
    "ExecuteTime": {
     "end_time": "2019-07-03T13:41:41.195710Z",
     "start_time": "2019-07-03T13:41:41.189782Z"
    }
   },
   "outputs": [
    {
     "name": "stdout",
     "output_type": "stream",
     "text": [
      "(1.0, 1.0, 1.0)\n",
      "[1. 1. 1.]\n",
      "[[-0.91557735  0.82629491 -0.59784094]\n",
      " [-0.10825935 -0.73896715  0.08956719]\n",
      " [ 0.3758295   0.86509449 -0.12758718]]\n"
     ]
    }
   ],
   "source": [
    "from neuro_dmt.models.bluebrain.circuit.geometry import Position\n",
    "p = Position(X = 1., Y = 1., Z = 1.)\n",
    "print(p.as_tuple)\n",
    "print(p.value)\n",
    "\n",
    "random_positions =\\\n",
    "    Position.sample(\n",
    "        (np.array((-1., -1., -1.)), np.array((1., 1., 1.))),\n",
    "        n = 3)\n",
    "print(random_positions)"
   ]
  },
  {
   "cell_type": "code",
   "execution_count": 3,
   "metadata": {
    "ExecuteTime": {
     "end_time": "2019-07-03T13:41:41.756496Z",
     "start_time": "2019-07-03T13:41:41.746729Z"
    }
   },
   "outputs": [
    {
     "data": {
      "text/plain": [
       "{'region': 'brain',\n",
       " 'layer': 1,\n",
       " 'nucleus': 'not-defined',\n",
       " 'mtype': 'L23_BTC',\n",
       " 'etype': 'not-defined',\n",
       " 'morph_class': 'not-defined',\n",
       " 'synapse_class': 'INH',\n",
       " 'x': 1.0,\n",
       " 'y': 2.0,\n",
       " 'z': 3.0}"
      ]
     },
     "execution_count": 3,
     "metadata": {},
     "output_type": "execute_result"
    }
   ],
   "source": [
    "example_cell =\\\n",
    "    Cell(\n",
    "        layer=1,\n",
    "        position=Position(X=1., Y=2., Z=3.),\n",
    "        mtype=\"L23_BTC\")\n",
    "example_cell.as_dict"
   ]
  },
  {
   "cell_type": "code",
   "execution_count": 4,
   "metadata": {
    "ExecuteTime": {
     "end_time": "2019-07-03T13:41:42.904153Z",
     "start_time": "2019-07-03T13:41:42.534698Z"
    }
   },
   "outputs": [
    {
     "data": {
      "text/html": [
       "<div>\n",
       "<style scoped>\n",
       "    .dataframe tbody tr th:only-of-type {\n",
       "        vertical-align: middle;\n",
       "    }\n",
       "\n",
       "    .dataframe tbody tr th {\n",
       "        vertical-align: top;\n",
       "    }\n",
       "\n",
       "    .dataframe thead th {\n",
       "        text-align: right;\n",
       "    }\n",
       "</style>\n",
       "<table border=\"1\" class=\"dataframe\">\n",
       "  <thead>\n",
       "    <tr style=\"text-align: right;\">\n",
       "      <th></th>\n",
       "      <th></th>\n",
       "      <th>mean</th>\n",
       "      <th>std</th>\n",
       "    </tr>\n",
       "    <tr>\n",
       "      <th>mtype</th>\n",
       "      <th>layer</th>\n",
       "      <th></th>\n",
       "      <th></th>\n",
       "    </tr>\n",
       "  </thead>\n",
       "  <tbody>\n",
       "    <tr>\n",
       "      <th rowspan=\"5\" valign=\"top\">L1_DAC</th>\n",
       "      <th>1</th>\n",
       "      <td>3094.333333</td>\n",
       "      <td>0.0</td>\n",
       "    </tr>\n",
       "    <tr>\n",
       "      <th>2</th>\n",
       "      <td>0.000000</td>\n",
       "      <td>0.0</td>\n",
       "    </tr>\n",
       "    <tr>\n",
       "      <th>3</th>\n",
       "      <td>0.000000</td>\n",
       "      <td>0.0</td>\n",
       "    </tr>\n",
       "    <tr>\n",
       "      <th>4</th>\n",
       "      <td>0.000000</td>\n",
       "      <td>0.0</td>\n",
       "    </tr>\n",
       "    <tr>\n",
       "      <th>5</th>\n",
       "      <td>0.000000</td>\n",
       "      <td>0.0</td>\n",
       "    </tr>\n",
       "  </tbody>\n",
       "</table>\n",
       "</div>"
      ],
      "text/plain": [
       "                     mean  std\n",
       "mtype  layer                  \n",
       "L1_DAC 1      3094.333333  0.0\n",
       "       2         0.000000  0.0\n",
       "       3         0.000000  0.0\n",
       "       4         0.000000  0.0\n",
       "       5         0.000000  0.0"
      ]
     },
     "execution_count": 4,
     "metadata": {},
     "output_type": "execute_result"
    }
   ],
   "source": [
    "from neuro_dmt.models.bluebrain.circuit.mock.test_develop\\\n",
    "    import circuit_composition, circuit_connectivity\n",
    "circuit_composition.cell_density.head()"
   ]
  },
  {
   "cell_type": "code",
   "execution_count": 5,
   "metadata": {
    "ExecuteTime": {
     "end_time": "2019-07-03T13:41:43.654726Z",
     "start_time": "2019-07-03T13:41:43.641258Z"
    },
    "code_folding": [
     1
    ]
   },
   "outputs": [
    {
     "data": {
      "text/html": [
       "<div>\n",
       "<style scoped>\n",
       "    .dataframe tbody tr th:only-of-type {\n",
       "        vertical-align: middle;\n",
       "    }\n",
       "\n",
       "    .dataframe tbody tr th {\n",
       "        vertical-align: top;\n",
       "    }\n",
       "\n",
       "    .dataframe thead th {\n",
       "        text-align: right;\n",
       "    }\n",
       "</style>\n",
       "<table border=\"1\" class=\"dataframe\">\n",
       "  <thead>\n",
       "    <tr style=\"text-align: right;\">\n",
       "      <th></th>\n",
       "      <th></th>\n",
       "      <th>mean</th>\n",
       "      <th>std</th>\n",
       "    </tr>\n",
       "    <tr>\n",
       "      <th>mtype</th>\n",
       "      <th>layer</th>\n",
       "      <th></th>\n",
       "      <th></th>\n",
       "    </tr>\n",
       "  </thead>\n",
       "  <tbody>\n",
       "    <tr>\n",
       "      <th>L1_DAC</th>\n",
       "      <th>1</th>\n",
       "      <td>3094.333333</td>\n",
       "      <td>0.0</td>\n",
       "    </tr>\n",
       "  </tbody>\n",
       "</table>\n",
       "</div>"
      ],
      "text/plain": [
       "                     mean  std\n",
       "mtype  layer                  \n",
       "L1_DAC 1      3094.333333  0.0"
      ]
     },
     "execution_count": 5,
     "metadata": {},
     "output_type": "execute_result"
    }
   ],
   "source": [
    "from neuro_dmt.models.bluebrain.circuit.mock import CircuitBuilder\n",
    "test_circuit_builder =\\\n",
    "    CircuitBuilder(\n",
    "        composition=circuit_composition,\n",
    "        connectivity=circuit_connectivity)\n",
    "test_circuit_builder.get_cell_density( mtype=\"L1_DAC\", layer=1 )"
   ]
  },
  {
   "cell_type": "code",
   "execution_count": 6,
   "metadata": {
    "ExecuteTime": {
     "end_time": "2019-07-03T13:41:44.655847Z",
     "start_time": "2019-07-03T13:41:44.643566Z"
    }
   },
   "outputs": [
    {
     "name": "stdout",
     "output_type": "stream",
     "text": [
      "              mean  std\n",
      "layer                  \n",
      "1      3094.333333  0.0\n",
      "2         0.000000  0.0\n",
      "3         0.000000  0.0\n",
      "4         0.000000  0.0\n",
      "5         0.000000  0.0\n",
      "6         0.000000  0.0\n",
      "23\n"
     ]
    }
   ],
   "source": [
    "print(circuit_composition.cell_density.loc[\"L1_DAC\"])\n",
    "print(test_circuit_builder.get_number_cells(1, \"L1_DAC\"))"
   ]
  },
  {
   "cell_type": "code",
   "execution_count": 7,
   "metadata": {
    "ExecuteTime": {
     "end_time": "2019-07-03T13:41:49.485969Z",
     "start_time": "2019-07-03T13:41:45.645132Z"
    }
   },
   "outputs": [],
   "source": [
    "circuit_cells = test_circuit_builder.get_cells()"
   ]
  },
  {
   "cell_type": "code",
   "execution_count": 8,
   "metadata": {
    "ExecuteTime": {
     "end_time": "2019-07-03T13:41:50.521202Z",
     "start_time": "2019-07-03T13:41:50.279303Z"
    }
   },
   "outputs": [
    {
     "name": "stdout",
     "output_type": "stream",
     "text": [
      "number of cells 12237\n",
      "         etype  layer  morph_class   mtype      nucleus region synapse_class  \\\n",
      "0  not-defined      1  not-defined  L1_DAC  not-defined  brain           INH   \n",
      "1  not-defined      1  not-defined  L1_DAC  not-defined  brain           INH   \n",
      "2  not-defined      1  not-defined  L1_DAC  not-defined  brain           INH   \n",
      "3  not-defined      1  not-defined  L1_DAC  not-defined  brain           INH   \n",
      "4  not-defined      1  not-defined  L1_DAC  not-defined  brain           INH   \n",
      "\n",
      "            x            y           z  \n",
      "0   96.201736  1762.647126   64.541717  \n",
      "1  240.077672  1828.614957  220.628095  \n",
      "2  102.333199  1722.321061   55.503750  \n",
      "3  221.816694  1738.919199  198.745262  \n",
      "4   45.651688  1806.277845  105.267527  \n"
     ]
    }
   ],
   "source": [
    "import pandas as pd\n",
    "circuit_cells_df =\\\n",
    "    pd.DataFrame([\n",
    "        cell.as_dict for cell in circuit_cells])\n",
    "print(\"number of cells {}\".format(circuit_cells_df.shape[0]))\n",
    "print(circuit_cells_df.head())"
   ]
  },
  {
   "cell_type": "code",
   "execution_count": 9,
   "metadata": {
    "ExecuteTime": {
     "end_time": "2019-07-03T13:41:51.342678Z",
     "start_time": "2019-07-03T13:41:51.335512Z"
    }
   },
   "outputs": [
    {
     "data": {
      "text/plain": [
       "{'post_gid': 2, 'pre_gid': 1}"
      ]
     },
     "execution_count": 9,
     "metadata": {},
     "output_type": "execute_result"
    }
   ],
   "source": [
    "from neuro_dmt.models.bluebrain.circuit.mock.synapse import Synapse\n",
    "s = Synapse(pre_gid=1, post_gid=2)\n",
    "s.as_dict"
   ]
  },
  {
   "cell_type": "code",
   "execution_count": 10,
   "metadata": {
    "ExecuteTime": {
     "end_time": "2019-07-03T13:41:56.052035Z",
     "start_time": "2019-07-03T13:41:52.183487Z"
    }
   },
   "outputs": [
    {
     "data": {
      "text/plain": [
       "'L1_DAC'"
      ]
     },
     "execution_count": 10,
     "metadata": {},
     "output_type": "execute_result"
    }
   ],
   "source": [
    "cell_collection = test_circuit_builder.get_cell_collection()\n",
    "cell_collection.get(1, \"mtype\")"
   ]
  },
  {
   "cell_type": "code",
   "execution_count": 11,
   "metadata": {
    "ExecuteTime": {
     "end_time": "2019-07-03T13:41:56.944577Z",
     "start_time": "2019-07-03T13:41:56.934117Z"
    }
   },
   "outputs": [
    {
     "data": {
      "text/html": [
       "<div>\n",
       "<style scoped>\n",
       "    .dataframe tbody tr th:only-of-type {\n",
       "        vertical-align: middle;\n",
       "    }\n",
       "\n",
       "    .dataframe tbody tr th {\n",
       "        vertical-align: top;\n",
       "    }\n",
       "\n",
       "    .dataframe thead th {\n",
       "        text-align: right;\n",
       "    }\n",
       "</style>\n",
       "<table border=\"1\" class=\"dataframe\">\n",
       "  <thead>\n",
       "    <tr style=\"text-align: right;\">\n",
       "      <th></th>\n",
       "      <th>mtype</th>\n",
       "      <th>etype</th>\n",
       "    </tr>\n",
       "  </thead>\n",
       "  <tbody>\n",
       "    <tr>\n",
       "      <th>1</th>\n",
       "      <td>L1_DAC</td>\n",
       "      <td>not-defined</td>\n",
       "    </tr>\n",
       "    <tr>\n",
       "      <th>2</th>\n",
       "      <td>L1_DAC</td>\n",
       "      <td>not-defined</td>\n",
       "    </tr>\n",
       "  </tbody>\n",
       "</table>\n",
       "</div>"
      ],
      "text/plain": [
       "    mtype        etype\n",
       "1  L1_DAC  not-defined\n",
       "2  L1_DAC  not-defined"
      ]
     },
     "execution_count": 11,
     "metadata": {},
     "output_type": "execute_result"
    }
   ],
   "source": [
    "cell_collection.get([1,2], properties=[\"mtype\", \"etype\"])"
   ]
  },
  {
   "cell_type": "code",
   "execution_count": 12,
   "metadata": {
    "ExecuteTime": {
     "end_time": "2019-07-03T13:44:32.574265Z",
     "start_time": "2019-07-03T13:41:57.757974Z"
    }
   },
   "outputs": [],
   "source": [
    "from neuro_dmt.models.bluebrain.circuit.mock.circuit import MockCircuit\n",
    "mock_circuit =\\\n",
    "    MockCircuit.build(\n",
    "        circuit_composition,\n",
    "        circuit_connectivity)\n",
    "mock_conn =\\\n",
    "    mock_circuit.connectome"
   ]
  },
  {
   "cell_type": "code",
   "execution_count": 13,
   "metadata": {
    "ExecuteTime": {
     "end_time": "2019-07-03T13:46:03.372375Z",
     "start_time": "2019-07-03T13:46:03.365703Z"
    }
   },
   "outputs": [
    {
     "data": {
      "text/plain": [
       "1       L1_DAC\n",
       "3000     L4_PC\n",
       "Name: mtype, dtype: object"
      ]
     },
     "execution_count": 13,
     "metadata": {},
     "output_type": "execute_result"
    }
   ],
   "source": [
    "mock_cells = mock_circuit.cells\n",
    "mock_cells.get([1, 3000], \"mtype\")"
   ]
  },
  {
   "cell_type": "code",
   "execution_count": 14,
   "metadata": {
    "ExecuteTime": {
     "end_time": "2019-07-03T13:46:04.280513Z",
     "start_time": "2019-07-03T13:46:04.182713Z"
    }
   },
   "outputs": [
    {
     "name": "stdout",
     "output_type": "stream",
     "text": [
      "[    0    17    33 ... 12229 12231 12235]\n",
      "[    3     6     8 ... 12228 12233 12234]\n"
     ]
    }
   ],
   "source": [
    "mock_conn = mock_circuit.connectome\n",
    "print(mock_conn.afferent_gids(2))\n",
    "print(mock_conn.efferent_gids(14))"
   ]
  },
  {
   "cell_type": "code",
   "execution_count": 15,
   "metadata": {
    "ExecuteTime": {
     "end_time": "2019-07-03T13:46:05.154352Z",
     "start_time": "2019-07-03T13:46:05.069531Z"
    }
   },
   "outputs": [
    {
     "name": "stdout",
     "output_type": "stream",
     "text": [
      "3\n",
      "[[ 0  3]\n",
      " [ 1  5]\n",
      " [39  2]\n",
      " [42  5]\n",
      " [43  2]\n",
      " [50  6]\n",
      " [67 10]\n",
      " [72  6]\n",
      " [75  3]\n",
      " [95  6]]\n",
      "                                pre_gid  post_gid  synapse_index\n",
      "pre_gid post_gid synapse_index                                  \n",
      "0       0        0                    0         0              0\n",
      "                 1                    0         0              1\n",
      "                 2                    0         0              2\n",
      "[(0, 0, 0) (0, 0, 1) (0, 0, 2)]\n"
     ]
    }
   ],
   "source": [
    "post_gid = 0\n",
    "pre_gid = 0\n",
    "print(mock_conn._get_pair_synapse_count(pre_gid, post_gid))\n",
    "print(mock_conn.afferent_adjacency[post_gid][0:10,:])\n",
    "print(mock_conn._get_synapses(pre_gid, post_gid))\n",
    "print(mock_conn.pair_synapses(pre_gid, post_gid))\n",
    "#print(mock_conn.pair_synapses(pre_gid, 1))"
   ]
  },
  {
   "cell_type": "code",
   "execution_count": 16,
   "metadata": {
    "ExecuteTime": {
     "end_time": "2019-07-03T13:46:09.138202Z",
     "start_time": "2019-07-03T13:46:05.945789Z"
    }
   },
   "outputs": [
    {
     "name": "stdout",
     "output_type": "stream",
     "text": [
      "1939\n",
      "9732\n"
     ]
    }
   ],
   "source": [
    "gid = 10\n",
    "aff_gids = mock_conn.afferent_gids(gid)\n",
    "print(len(aff_gids))\n",
    "aff_syns = mock_conn.afferent_synapses(gid)\n",
    "print(len(aff_syns))"
   ]
  },
  {
   "cell_type": "code",
   "execution_count": 17,
   "metadata": {
    "ExecuteTime": {
     "end_time": "2019-07-03T13:46:12.882546Z",
     "start_time": "2019-07-03T13:46:09.885239Z"
    }
   },
   "outputs": [
    {
     "name": "stdout",
     "output_type": "stream",
     "text": [
      "1940\n",
      "9697\n"
     ]
    }
   ],
   "source": [
    "gid = 10\n",
    "eff_gids = mock_conn.efferent_gids(gid)\n",
    "print(len(eff_gids))\n",
    "eff_syns = mock_conn.efferent_synapses(gid)\n",
    "#eff_syns = mock_conn._get_properties(\n",
    " #   mock_conn._get_synapses(pre_gid=gid),\n",
    "  #  properties=None)\n",
    "print(len(eff_syns))"
   ]
  },
  {
   "cell_type": "code",
   "execution_count": 18,
   "metadata": {
    "ExecuteTime": {
     "end_time": "2019-07-03T13:46:13.757469Z",
     "start_time": "2019-07-03T13:46:13.748876Z"
    }
   },
   "outputs": [
    {
     "data": {
      "text/html": [
       "<div>\n",
       "<style scoped>\n",
       "    .dataframe tbody tr th:only-of-type {\n",
       "        vertical-align: middle;\n",
       "    }\n",
       "\n",
       "    .dataframe tbody tr th {\n",
       "        vertical-align: top;\n",
       "    }\n",
       "\n",
       "    .dataframe thead th {\n",
       "        text-align: right;\n",
       "    }\n",
       "</style>\n",
       "<table border=\"1\" class=\"dataframe\">\n",
       "  <thead>\n",
       "    <tr style=\"text-align: right;\">\n",
       "      <th></th>\n",
       "      <th></th>\n",
       "      <th></th>\n",
       "      <th>pre_gid</th>\n",
       "      <th>post_gid</th>\n",
       "      <th>synapse_index</th>\n",
       "    </tr>\n",
       "    <tr>\n",
       "      <th>pre_gid</th>\n",
       "      <th>post_gid</th>\n",
       "      <th>synapse_index</th>\n",
       "      <th></th>\n",
       "      <th></th>\n",
       "      <th></th>\n",
       "    </tr>\n",
       "  </thead>\n",
       "  <tbody>\n",
       "  </tbody>\n",
       "</table>\n",
       "</div>"
      ],
      "text/plain": [
       "Empty DataFrame\n",
       "Columns: [pre_gid, post_gid, synapse_index]\n",
       "Index: []"
      ]
     },
     "execution_count": 18,
     "metadata": {},
     "output_type": "execute_result"
    }
   ],
   "source": [
    "mock_conn.empty_synapse_holder()"
   ]
  },
  {
   "cell_type": "code",
   "execution_count": 19,
   "metadata": {
    "ExecuteTime": {
     "end_time": "2019-07-03T13:46:17.458151Z",
     "start_time": "2019-07-03T13:46:14.490392Z"
    }
   },
   "outputs": [
    {
     "name": "stdout",
     "output_type": "stream",
     "text": [
      "[(0, 0, 0) (0, 0, 1) (0, 0, 2)]\n",
      "[(0, 0, 0) (0, 0, 1) (0, 0, 2)]\n",
      "[(0, 0, 0) (0, 0, 1) (0, 0, 2) ... (12233, 0, 4) (12233, 0, 5)\n",
      " (12233, 0, 6)]\n"
     ]
    }
   ],
   "source": [
    "print(mock_conn.pathway_synapses(np.array([pre_gid]), np.array([post_gid])))\n",
    "print(mock_conn.pathway_synapses(np.array([0, 5, 8]), np.array([0])))\n",
    "print(mock_conn.pathway_synapses(post_gids=np.array([0])))"
   ]
  }
 ],
 "metadata": {
  "kernelspec": {
   "display_name": "Python 3",
   "language": "python",
   "name": "python3"
  },
  "language_info": {
   "codemirror_mode": {
    "name": "ipython",
    "version": 3
   },
   "file_extension": ".py",
   "mimetype": "text/x-python",
   "name": "python",
   "nbconvert_exporter": "python",
   "pygments_lexer": "ipython3",
   "version": "3.6.8"
  },
  "latex_envs": {
   "LaTeX_envs_menu_present": true,
   "autoclose": false,
   "autocomplete": true,
   "bibliofile": "biblio.bib",
   "cite_by": "apalike",
   "current_citInitial": 1,
   "eqLabelWithNumbers": true,
   "eqNumInitial": 1,
   "hotkeys": {
    "equation": "Ctrl-E",
    "itemize": "Ctrl-I"
   },
   "labels_anchors": false,
   "latex_user_defs": false,
   "report_style_numbering": false,
   "user_envs_cfg": false
  },
  "toc": {
   "base_numbering": 1,
   "nav_menu": {},
   "number_sections": true,
   "sideBar": true,
   "skip_h1_title": false,
   "title_cell": "Table of Contents",
   "title_sidebar": "Contents",
   "toc_cell": false,
   "toc_position": {},
   "toc_section_display": true,
   "toc_window_display": false
  },
  "varInspector": {
   "cols": {
    "lenName": 16,
    "lenType": 16,
    "lenVar": 40
   },
   "kernels_config": {
    "python": {
     "delete_cmd_postfix": "",
     "delete_cmd_prefix": "del ",
     "library": "var_list.py",
     "varRefreshCmd": "print(var_dic_list())"
    },
    "r": {
     "delete_cmd_postfix": ") ",
     "delete_cmd_prefix": "rm(",
     "library": "var_list.r",
     "varRefreshCmd": "cat(var_dic_list()) "
    }
   },
   "types_to_exclude": [
    "module",
    "function",
    "builtin_function_or_method",
    "instance",
    "_Feature"
   ],
   "window_display": false
  }
 },
 "nbformat": 4,
 "nbformat_minor": 2
}
