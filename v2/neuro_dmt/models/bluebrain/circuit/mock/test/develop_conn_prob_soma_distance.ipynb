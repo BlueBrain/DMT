{
 "cells": [
  {
   "cell_type": "code",
   "execution_count": 1,
   "metadata": {
    "ExecuteTime": {
     "end_time": "2019-11-12T11:03:10.676329Z",
     "start_time": "2019-11-12T11:03:07.219294Z"
    }
   },
   "outputs": [
    {
     "name": "stdout",
     "output_type": "stream",
     "text": [
      "('region', 'layer', 'depth', 'height', 'mesocolumn', 'hypercolumn', 'mtype', 'etype', 'synapse_class', 'postsynaptic', 'presynaptic')\n",
      "('region', 'layer', 'depth', 'height', 'mesocolumn', 'hypercolumn', 'mtype', 'etype', 'synapse_class', 'postsynaptic', 'presynaptic')\n",
      "('region', 'layer', 'depth', 'height', 'mesocolumn', 'hypercolumn', 'mtype', 'etype', 'synapse_class', 'postsynaptic', 'presynaptic')\n",
      "('region', 'layer', 'depth', 'height', 'mtype', 'etype', 'synapse_class')\n",
      "('region', 'layer', 'depth', 'height', 'mtype', 'etype', 'synapse_class')\n"
     ]
    }
   ],
   "source": [
    "import os\n",
    "os.environ[\"LOGLEVEL\"] = \"PROD\"\n",
    "\n",
    "import numpy as np\n",
    "import pandas as pd\n",
    "from neuro_dmt.models.bluebrain.circuit.model import BlueBrainCircuitModel\n",
    "from neuro_dmt.models.bluebrain.circuit.mock.test.mock_circuit_light\\\n",
    "    import circuit_composition, circuit_connectivity\n",
    "from neuro_dmt.models.bluebrain.circuit.mock.circuit import\\\n",
    "    MockCircuit"
   ]
  },
  {
   "cell_type": "code",
   "execution_count": 2,
   "metadata": {
    "ExecuteTime": {
     "end_time": "2019-11-12T11:03:35.604184Z",
     "start_time": "2019-11-12T11:03:11.054462Z"
    }
   },
   "outputs": [],
   "source": [
    "mock_circuit =\\\n",
    "    MockCircuit.build(\n",
    "        circuit_composition,\n",
    "        circuit_connectivity)\n",
    "circuit_model =\\\n",
    "    BlueBrainCircuitModel(\n",
    "        mock_circuit,\n",
    "        label=\"BlueBrainCircuitModelMock\")\n",
    "conn_prob = circuit_model.connection_probability"
   ]
  },
  {
   "cell_type": "code",
   "execution_count": 3,
   "metadata": {
    "ExecuteTime": {
     "end_time": "2019-11-12T11:05:26.014739Z",
     "start_time": "2019-11-12T11:05:23.310056Z"
    },
    "scrolled": true
   },
   "outputs": [
    {
     "data": {
      "text/plain": [
       "pairs_total               10000.0000\n",
       "pairs_connected             209.0000\n",
       "connection_probability        0.0209\n",
       "Name: 0, dtype: float64"
      ]
     },
     "execution_count": 3,
     "metadata": {},
     "output_type": "execute_result"
    }
   ],
   "source": [
    "pre_synaptic_cells =\\\n",
    "    circuit_model.cells\\\n",
    "                 .sample(n=100)\\\n",
    "                 .rename(columns=conn_prob._at(\"pre_synaptic\"))\n",
    "post_synaptic_cells =\\\n",
    "    circuit_model.cells\\\n",
    "                 .sample(n=100)\\\n",
    "                 .rename(columns=conn_prob._at(\"post_synaptic\"))\n",
    "conn_prob.get_summary(\n",
    "    pre_synaptic_cell_group=pre_synaptic_cells,\n",
    "    post_synaptic_cell_group=post_synaptic_cells)"
   ]
  },
  {
   "cell_type": "code",
   "execution_count": 4,
   "metadata": {
    "ExecuteTime": {
     "end_time": "2019-11-12T11:05:29.683158Z",
     "start_time": "2019-11-12T11:05:27.082525Z"
    }
   },
   "outputs": [
    {
     "data": {
      "text/plain": [
       "Index(['pre_synaptic_region', 'pre_synaptic_layer', 'pre_synaptic_nucleus',\n",
       "       'pre_synaptic_mtype', 'pre_synaptic_etype', 'pre_synaptic_morph_class',\n",
       "       'pre_synaptic_synapse_class', 'x', 'y', 'z', 'pairs',\n",
       "       'post_synaptic_region', 'post_synaptic_layer', 'post_synaptic_nucleus',\n",
       "       'post_synaptic_mtype', 'post_synaptic_etype',\n",
       "       'post_synaptic_morph_class', 'post_synaptic_synapse_class', 'x', 'y',\n",
       "       'z'],\n",
       "      dtype='object')"
      ]
     },
     "execution_count": 4,
     "metadata": {},
     "output_type": "execute_result"
    }
   ],
   "source": [
    "cp_pairs_generator = conn_prob.get_pairs(\n",
    "    pre_synaptic_cells,\n",
    "    post_synaptic_cells,\n",
    "    upper_bound_soma_distance=1000)\n",
    "cp_pairs = list(\n",
    "    cp_pairs_generator)\n",
    "cp_pairs[0].columns"
   ]
  },
  {
   "cell_type": "code",
   "execution_count": 5,
   "metadata": {
    "ExecuteTime": {
     "end_time": "2019-11-12T11:05:48.276165Z",
     "start_time": "2019-11-12T11:05:48.268420Z"
    }
   },
   "outputs": [
    {
     "data": {
      "text/plain": [
       "0"
      ]
     },
     "execution_count": 5,
     "metadata": {},
     "output_type": "execute_result"
    }
   ],
   "source": [
    "np.isnan(cp_pairs[0].pairs.values).sum()"
   ]
  },
  {
   "cell_type": "code",
   "execution_count": 9,
   "metadata": {
    "ExecuteTime": {
     "end_time": "2019-11-12T11:07:18.337016Z",
     "start_time": "2019-11-12T11:07:14.513118Z"
    }
   },
   "outputs": [
    {
     "data": {
      "text/plain": [
       "pairs_total               8918.000000\n",
       "pairs_connected            168.000000\n",
       "connection_probability       0.018838\n",
       "Name: 0, dtype: float64"
      ]
     },
     "execution_count": 9,
     "metadata": {},
     "output_type": "execute_result"
    }
   ],
   "source": [
    "pre_synaptic_cell_group = circuit_model.cells.sample(n=100)\n",
    "post_synaptic_cell_group = circuit_model.cells.sample(n=100)\n",
    "conn_prob(\n",
    "    pre_synaptic_cell_group=pre_synaptic_cell_group,\n",
    "    post_synaptic_cell_group=post_synaptic_cell_group,\n",
    "    upper_bound_soma_distance=1000,\n",
    "    with_summary_statistics=True)"
   ]
  },
  {
   "cell_type": "code",
   "execution_count": 10,
   "metadata": {
    "ExecuteTime": {
     "end_time": "2019-11-12T11:07:50.121780Z",
     "start_time": "2019-11-12T11:07:46.264118Z"
    }
   },
   "outputs": [
    {
     "data": {
      "text/plain": [
       "pairs_total               356.000000\n",
       "pairs_connected             5.000000\n",
       "connection_probability      0.014045\n",
       "Name: 0, dtype: float64"
      ]
     },
     "execution_count": 10,
     "metadata": {},
     "output_type": "execute_result"
    }
   ],
   "source": [
    "conn_prob(\n",
    "    pre_synaptic_cell_group=pre_synaptic_cell_group,\n",
    "    post_synaptic_cell_group=post_synaptic_cell_group,\n",
    "    upper_bound_soma_distance=100.,\n",
    "    with_summary_statistics=True)"
   ]
  },
  {
   "cell_type": "code",
   "execution_count": 12,
   "metadata": {
    "ExecuteTime": {
     "end_time": "2019-11-12T11:08:42.375664Z",
     "start_time": "2019-11-12T11:08:39.623089Z"
    }
   },
   "outputs": [
    {
     "data": {
      "text/plain": [
       "pairs_total               10000.0000\n",
       "pairs_connected             189.0000\n",
       "connection_probability        0.0189\n",
       "Name: 0, dtype: float64"
      ]
     },
     "execution_count": 12,
     "metadata": {},
     "output_type": "execute_result"
    }
   ],
   "source": [
    "conn_prob(\n",
    "    pre_synaptic_cell_group=pre_synaptic_cell_group,\n",
    "    post_synaptic_cell_group=post_synaptic_cell_group,\n",
    "    with_summary_statistics=True)"
   ]
  },
  {
   "cell_type": "code",
   "execution_count": 4,
   "metadata": {
    "ExecuteTime": {
     "end_time": "2019-11-12T10:50:55.080474Z",
     "start_time": "2019-11-12T10:50:47.830743Z"
    }
   },
   "outputs": [
    {
     "name": "stdout",
     "output_type": "stream",
     "text": [
      "('region', 'layer', 'depth', 'height', 'mesocolumn', 'hypercolumn', 'mtype', 'etype', 'synapse_class', 'postsynaptic', 'presynaptic')\n"
     ]
    },
    {
     "data": {
      "text/plain": [
       "dummy_variable\n",
       "0    0.02102\n",
       "Name: connection_probability, dtype: float64"
      ]
     },
     "execution_count": 4,
     "metadata": {},
     "output_type": "execute_result"
    }
   ],
   "source": [
    "from dmt.tk.parameters import Parameters\n",
    "from neuro_dmt.models.bluebrain.circuit.adapter import\\\n",
    "    BlueBrainCircuitAdapter\n",
    "\n",
    "parameters_pathways_with_soma_distance = Parameters(\n",
    "    circuit_model.pathways(\n",
    "        {\"mtype\",}\n",
    "    ).assign(\n",
    "        upper_bound_soma_distance=500.\n",
    "    ))\n",
    "adapter = BlueBrainCircuitAdapter()\n",
    "parameters_for_sampling =\\\n",
    "    parameters_pathways_with_soma_distance.for_sampling(size=10)\n",
    "adapter.get_connection_probability(\n",
    "    circuit_model,\n",
    "    **parameters_for_sampling[0])"
   ]
  },
  {
   "cell_type": "code",
   "execution_count": 5,
   "metadata": {
    "ExecuteTime": {
     "end_time": "2019-11-12T10:51:04.070247Z",
     "start_time": "2019-11-12T10:50:55.929682Z"
    }
   },
   "outputs": [
    {
     "data": {
      "text/plain": [
       "dummy_variable\n",
       "0    0.029801\n",
       "Name: connection_probability, dtype: float64"
      ]
     },
     "execution_count": 5,
     "metadata": {},
     "output_type": "execute_result"
    }
   ],
   "source": [
    "parameters_pathways_with_soma_distance = Parameters(\n",
    "    circuit_model.pathways(\n",
    "        {\"mtype\",}\n",
    "    ).assign(\n",
    "        upper_bound_soma_distance=50.\n",
    "    ))\n",
    "adapter = BlueBrainCircuitAdapter()\n",
    "parameters_for_sampling =\\\n",
    "    parameters_pathways_with_soma_distance.for_sampling(size=10)\n",
    "adapter.get_connection_probability(\n",
    "    circuit_model,\n",
    "    **parameters_for_sampling[0])"
   ]
  },
  {
   "cell_type": "code",
   "execution_count": 6,
   "metadata": {
    "ExecuteTime": {
     "end_time": "2019-11-12T10:51:08.348284Z",
     "start_time": "2019-11-12T10:51:08.336389Z"
    }
   },
   "outputs": [],
   "source": [
    "from neuro_dmt.models.bluebrain.circuit.model.pathway import\\\n",
    "    ConnectionProbabilityBySomaDistance\n",
    "conn_prob_sd = ConnectionProbabilityBySomaDistance(circuit_model=circuit_model)"
   ]
  },
  {
   "cell_type": "code",
   "execution_count": null,
   "metadata": {
    "ExecuteTime": {
     "end_time": "2019-11-11T21:01:17.767950Z",
     "start_time": "2019-11-11T21:01:12.850Z"
    }
   },
   "outputs": [],
   "source": [
    "conn_prob_sd(\n",
    "    pre_synaptic_cell_group=pre_synaptic_cells,\n",
    "    post_synaptic_cell_group=post_synaptic_cells)"
   ]
  },
  {
   "cell_type": "code",
   "execution_count": 11,
   "metadata": {
    "ExecuteTime": {
     "end_time": "2019-11-12T11:01:08.752430Z",
     "start_time": "2019-11-12T11:01:06.392042Z"
    }
   },
   "outputs": [
    {
     "data": {
      "text/plain": [
       "0.0199"
      ]
     },
     "execution_count": 11,
     "metadata": {},
     "output_type": "execute_result"
    }
   ],
   "source": [
    "conn_prob(\n",
    "    pre_synaptic_cell_group=pre_synaptic_cells,\n",
    "    post_synaptic_cell_group=post_synaptic_cells,\n",
    "    with_summary_statistics=True).loc[0][\"connection_probability\"]"
   ]
  },
  {
   "cell_type": "code",
   "execution_count": 7,
   "metadata": {
    "ExecuteTime": {
     "end_time": "2019-11-12T10:52:15.897336Z",
     "start_time": "2019-11-12T10:52:15.880966Z"
    }
   },
   "outputs": [],
   "source": [
    "measured_pairs = conn_prob.get_pairs(\n",
    "    pre_synaptic_cells=pre_synaptic_cells,\n",
    "    post_synaptic_cells=post_synaptic_cells)"
   ]
  },
  {
   "cell_type": "code",
   "execution_count": 8,
   "metadata": {
    "ExecuteTime": {
     "end_time": "2019-11-12T10:52:22.944633Z",
     "start_time": "2019-11-12T10:52:19.858840Z"
    }
   },
   "outputs": [],
   "source": [
    "cpdf =\\\n",
    "    pd.concat([\n",
    "        pairs[\n",
    "            [\"pairs\"]\n",
    "        ].reset_index(\n",
    "            drop=True\n",
    "        ).assign(\n",
    "            group=0\n",
    "        ).groupby(\n",
    "            [\"group\"]\n",
    "        ).agg(\n",
    "            conn_prob.aggregators\n",
    "        ).pairs.rename(\n",
    "            columns=conn_prob.columns\n",
    "        ) for pairs in measured_pairs]\n",
    "    ).groupby(\n",
    "        [\"group\"]\n",
    "    ).agg(\n",
    "        \"sum\"\n",
    "    ).assign(**{\n",
    "        conn_prob.phenomenon: conn_prob.definition}\n",
    "    )"
   ]
  },
  {
   "cell_type": "code",
   "execution_count": 10,
   "metadata": {
    "ExecuteTime": {
     "end_time": "2019-11-12T10:52:31.548647Z",
     "start_time": "2019-11-12T10:52:31.538629Z"
    }
   },
   "outputs": [
    {
     "data": {
      "text/plain": [
       "pairs_total               10000.0000\n",
       "pairs_connected             199.0000\n",
       "connection_probability        0.0199\n",
       "Name: 0, dtype: float64"
      ]
     },
     "execution_count": 10,
     "metadata": {},
     "output_type": "execute_result"
    }
   ],
   "source": [
    "cpdf.loc[0]"
   ]
  },
  {
   "cell_type": "code",
   "execution_count": null,
   "metadata": {
    "ExecuteTime": {
     "end_time": "2019-11-11T21:01:17.769601Z",
     "start_time": "2019-11-11T21:01:12.855Z"
    }
   },
   "outputs": [],
   "source": [
    "pre_synaptic_group_columns = [\"pre_synaptic_mtype\"]\n",
    "post_synaptic_group_columns = [\"post_synaptic_mtype\"]\n",
    "result = pairs_df[\n",
    "    [\"pairs\", \"soma_distance\"] + pre_synaptic_group_columns + post_synaptic_group_columns\n",
    "].groupby(\n",
    "    pre_synaptic_group_columns\n",
    "    + post_synaptic_group_columns\n",
    "    + [\"soma_distance\"]\n",
    ").agg([\"size\", \"sum\"])\n",
    "result.head()"
   ]
  },
  {
   "cell_type": "code",
   "execution_count": null,
   "metadata": {
    "ExecuteTime": {
     "end_time": "2019-11-11T21:01:17.770376Z",
     "start_time": "2019-11-11T21:01:12.859Z"
    }
   },
   "outputs": [],
   "source": [
    "result = pairs_df[\n",
    "    [\"pairs\"]\n",
    "].assign(\n",
    "    group=0\n",
    ").groupby(\n",
    "    [\"group\"]\n",
    ").agg(\n",
    "    [\"sum\", \"size\"]\n",
    ").pairs.rename(\n",
    "    columns=conn_prob.columns\n",
    ")\n",
    "conn_prob.definition(result.loc[0])"
   ]
  },
  {
   "cell_type": "code",
   "execution_count": null,
   "metadata": {
    "ExecuteTime": {
     "end_time": "2019-11-11T21:01:17.771170Z",
     "start_time": "2019-11-11T21:01:12.862Z"
    }
   },
   "outputs": [],
   "source": [
    "result = pairs_df[\n",
    "    [\"soma_distance\"] + [\"pairs\"]\n",
    "].assign(\n",
    "    group=0\n",
    ").groupby(\n",
    "    [\"group\", \"soma_distance\"]\n",
    ").agg(\n",
    "    [\"sum\", \"size\"]\n",
    ").pairs.rename(\n",
    "    columns=conn_prob.columns\n",
    ")\n",
    "conn_prob.definition(result.loc[0])"
   ]
  },
  {
   "cell_type": "code",
   "execution_count": null,
   "metadata": {
    "ExecuteTime": {
     "end_time": "2019-11-11T21:01:17.772074Z",
     "start_time": "2019-11-11T21:01:12.864Z"
    }
   },
   "outputs": [],
   "source": [
    "result = pairs_df[\n",
    "    [\"soma_distance\"] + [\"pairs\"]\n",
    "].assign(group=0\n",
    ").groupby(\n",
    "    [\"group\", \"soma_distance\"]\n",
    ").agg(\n",
    "    [\"sum\", \"size\"]\n",
    ").pairs.rename(\n",
    "    columns=conn_prob.columns\n",
    ").assign(\n",
    "    **{conn_prob.phenomenon: conn_prob.definition}\n",
    ").loc[0][\n",
    "    conn_prob_sd.measurement_label\n",
    "]\n",
    "result"
   ]
  },
  {
   "cell_type": "code",
   "execution_count": null,
   "metadata": {
    "ExecuteTime": {
     "end_time": "2019-11-11T21:01:17.772799Z",
     "start_time": "2019-11-11T21:01:12.867Z"
    }
   },
   "outputs": [],
   "source": [
    "result = pairs_df[\n",
    "    [\"pairs\", \"soma_distance\"]\n",
    "].groupby(\n",
    "    [\"soma_distance\"]\n",
    ").agg(\n",
    "    [\"sum\", \"size\"]\n",
    ").pairs.rename(\n",
    "    columns=conn_prob_sd.columns\n",
    ").assign(**{\n",
    "    conn_prob_sd.phenomenon: conn_prob_sd.definition})\n",
    "result[\n",
    "    conn_prob_sd.phenomenon\n",
    "].head()"
   ]
  },
  {
   "cell_type": "code",
   "execution_count": null,
   "metadata": {
    "ExecuteTime": {
     "end_time": "2019-11-11T21:01:17.773517Z",
     "start_time": "2019-11-11T21:01:12.871Z"
    }
   },
   "outputs": [],
   "source": [
    "result = pairs_df[\n",
    "    [\"pairs\"]\n",
    "].agg(\n",
    "    conn_prob.aggregators\n",
    ").pairs.rename(\n",
    "    columns=conn_prob.columns\n",
    ")\n",
    "result"
   ]
  },
  {
   "cell_type": "code",
   "execution_count": null,
   "metadata": {
    "ExecuteTime": {
     "end_time": "2019-11-11T21:01:17.774310Z",
     "start_time": "2019-11-11T21:01:12.874Z"
    }
   },
   "outputs": [],
   "source": [
    "result = pairs_df[\n",
    "    [\"pairs\", \"soma_distance\"]\n",
    "].groupby(\n",
    "    [\"soma_distance\"]\n",
    ").agg(\n",
    "    [\"sum\", \"size\"]\n",
    ").pairs.rename(\n",
    "    columns=conn_prob.columns\n",
    ").assign(**{\n",
    "    conn_prob_sd.phenomenon: conn_prob_sd.definition})\n",
    "\n",
    "result[conn_prob_sd.measurement_label]\n"
   ]
  },
  {
   "cell_type": "code",
   "execution_count": null,
   "metadata": {
    "ExecuteTime": {
     "end_time": "2019-11-11T21:01:17.775083Z",
     "start_time": "2019-11-11T21:01:12.876Z"
    }
   },
   "outputs": [],
   "source": [
    "from neuro_dmt.models.bluebrain.circuit.model.pathway import GroupByVariables\n",
    "\n",
    "result_dataframe_groupby = conn_prob_sd(\n",
    "    pre_synaptic_cell_group=circuit_model.cells.sample(n=100),\n",
    "    post_synaptic_cell_group=circuit_model.cells.sample(n=100),\n",
    "    groupby=GroupByVariables(frozenset({\"mtype\",}), frozenset({\"mtype\",})))"
   ]
  },
  {
   "cell_type": "code",
   "execution_count": null,
   "metadata": {
    "ExecuteTime": {
     "end_time": "2019-11-11T21:01:17.775835Z",
     "start_time": "2019-11-11T21:01:12.879Z"
    }
   },
   "outputs": [],
   "source": [
    "from neuro_dmt.models.bluebrain.circuit.model.cell_type import CellType\n",
    "result_series = conn_prob_sd(\n",
    "    pathway=CellType.pathway(\n",
    "        {\"mtype\": \"L6_UPC\"},\n",
    "        {\"mtype\": \"L6_TPC:A\"}))"
   ]
  },
  {
   "cell_type": "code",
   "execution_count": null,
   "metadata": {
    "ExecuteTime": {
     "end_time": "2019-11-11T21:01:17.776689Z",
     "start_time": "2019-11-11T21:01:12.882Z"
    }
   },
   "outputs": [],
   "source": [
    "result_series.apply(\n",
    "    lambda x: x + np.random.uniform())"
   ]
  },
  {
   "cell_type": "code",
   "execution_count": null,
   "metadata": {
    "ExecuteTime": {
     "end_time": "2019-11-11T21:01:17.777468Z",
     "start_time": "2019-11-11T21:01:12.885Z"
    }
   },
   "outputs": [],
   "source": [
    "from dmt.data.observation.measurement.collection import series_type, primitive_type\n",
    "measured_values = series_type([\n",
    "    ({\"pre_synaptic_mtype\": \"L23_MC\", \"post_synaptic_mtype\": \"L23_MC\"},\n",
    "     result_series.apply(lambda x: x + 0.01 * np.random.uniform())),\n",
    "    ({\"pre_synaptic_mtype\": \"L23_MC\", \"post_synaptic_mtype\": \"L23_MC\"},\n",
    "     result_series.apply(lambda x: x + 0.01 * np.random.uniform())),\n",
    "    ({\"pre_synaptic_mtype\": \"L23_MC\", \"post_synaptic_mtype\": \"L23_MC\"},\n",
    "     result_series.apply(lambda x: x + 0.01 * np.random.uniform())),\n",
    "    ({\"pre_synaptic_mtype\": \"L23_MC\", \"post_synaptic_mtype\": \"L6_TPC:A\"},\n",
    "     result_series.apply(lambda x: x + 0.01 * np.random.uniform())),\n",
    "    ({\"pre_synaptic_mtype\": \"L23_MC\", \"post_synaptic_mtype\": \"L6_TPC:A\"},\n",
    "     result_series.apply(lambda x: x + 0.01 * np.random.uniform())),\n",
    "    ({\"pre_synaptic_mtype\": \"L23_MC\", \"post_synaptic_mtype\": \"L6_TPC:A\"},\n",
    "     result_series.apply(lambda x: x + 0.01 * np.random.uniform())),\n",
    "    ({\"pre_synaptic_mtype\": \"L6_UPC\", \"post_synaptic_mtype\": \"L6_TPC:A\"},\n",
    "     result_series.apply(lambda x: x + 0.01 * np.random.uniform())),\n",
    "    ({\"pre_synaptic_mtype\": \"L6_UPC\", \"post_synaptic_mtype\": \"L6_TPC:A\"},\n",
    "     result_series.apply(lambda x: x + 0.01 * np.random.uniform())),\n",
    "    ({\"pre_synaptic_mtype\": \"L6_UPC\", \"post_synaptic_mtype\": \"L6_TPC:A\"},\n",
    "     result_series.apply(lambda x: x + 0.01 * np.random.uniform()))]\n",
    ").rename(columns={\"value\": \"connection_probability\"})"
   ]
  },
  {
   "cell_type": "code",
   "execution_count": null,
   "metadata": {
    "ExecuteTime": {
     "end_time": "2019-11-11T21:01:17.778269Z",
     "start_time": "2019-11-11T21:01:12.889Z"
    }
   },
   "outputs": [],
   "source": [
    "from dmt.data.observation import measurement\n",
    "measured_data = measurement.get_summary(measured_values).reset_index()"
   ]
  },
  {
   "cell_type": "code",
   "execution_count": null,
   "metadata": {
    "ExecuteTime": {
     "end_time": "2019-11-11T21:01:17.779083Z",
     "start_time": "2019-11-11T21:01:12.891Z"
    },
    "scrolled": true
   },
   "outputs": [],
   "source": [
    "from neuro_dmt.models.bluebrain.circuit.test.test_connectome_analysis import *\n",
    "phenomenon = Phenomenon(\n",
    "    \"Connection Probability\",\n",
    "    \"\"\"\n",
    "    Probability that two neurons in a pathway are connected.\n",
    "    While mostly interested in `mtype->mtype` pathways, we can define\n",
    "    a pathway as the group of connected neurons with pre-synaptic and\n",
    "    post-synaptic neurons belonging to two parametrically defined groups.\n",
    "    As an example consider neuron populations defined by not only `mtype`\n",
    "    but also by soma-distance from a given location.\n",
    "    \"\"\",\n",
    "    group=\"Connectome\")\n",
    "number_pathways = 5\n",
    "pathways =\\\n",
    "    mock_circuit_model.pathways(frozenset((\"mtype\",)))\\\n",
    "        .sample(n=number_pathways)\n",
    "analysis_test = BlueBrainCircuitAnalysisTest(\n",
    "    analysis=BrainCircuitAnalysis(\n",
    "    phenomenon=phenomenon,\n",
    "    AdapterInterface=ConnectionProbabilityInterface,\n",
    "    measurement_parameters=Parameters(pathways),\n",
    "    plotter=HeatMap(\n",
    "        xvar=(\"pre_synaptic\", \"mtype\"),\n",
    "        xlabel=\"pre-mtype\",\n",
    "        yvar=(\"post_synaptic\", \"mtype\"),\n",
    "        ylabel=\"post-mtype\",\n",
    "        vvar=(\"connection_probability\", \"mean\"))))\n",
    "\n",
    "connection_probability_measurement =\\\n",
    "    analysis_test.test_get_measurement(mock_circuit_model, sample_size=10)\n",
    "\n",
    "analysis = analysis_test._circuit_analysis_test.analysis\n",
    "adapter = analysis_test.adapter"
   ]
  },
  {
   "cell_type": "code",
   "execution_count": null,
   "metadata": {
    "ExecuteTime": {
     "end_time": "2019-11-11T21:01:17.779897Z",
     "start_time": "2019-11-11T21:01:12.894Z"
    }
   },
   "outputs": [],
   "source": [
    "m = connection_probability_measurement[\"BlueBrainCircuitModelMockLight\"]\n",
    "m.groupby(m.index.names).agg([\"size\", \"mean\", \"std\"])"
   ]
  },
  {
   "cell_type": "code",
   "execution_count": null,
   "metadata": {
    "ExecuteTime": {
     "end_time": "2019-11-11T21:01:17.780743Z",
     "start_time": "2019-11-11T21:01:12.898Z"
    }
   },
   "outputs": [],
   "source": [
    "adapter.get_connection_probability(\n",
    "    mock_circuit_model,\n",
    "    pre_synaptic={\"mtype\": \"L23_MC\"},\n",
    "    post_synaptic={\"mtype\": \"L23_MC\"})"
   ]
  },
  {
   "cell_type": "code",
   "execution_count": null,
   "metadata": {
    "ExecuteTime": {
     "end_time": "2019-11-11T21:01:17.781602Z",
     "start_time": "2019-11-11T21:01:12.901Z"
    }
   },
   "outputs": [],
   "source": [
    "def _join(parameters_measurement, value_measurement):\n",
    "    \"\"\"...\"\"\"\n",
    "    parameters_measurement = pd.Series(parameters_measurement)\n",
    "    return\\\n",
    "            pd.Series(\n",
    "                parameters_measurement)\\\n",
    "              .append(\n",
    "                  pd.Series({\"value\": value_measurement}))"
   ]
  },
  {
   "cell_type": "code",
   "execution_count": null,
   "metadata": {
    "ExecuteTime": {
     "end_time": "2019-11-11T21:01:17.782373Z",
     "start_time": "2019-11-11T21:01:12.903Z"
    }
   },
   "outputs": [],
   "source": [
    "parameter_values = analysis.measurement_parameters.for_sampling(size=2)\n",
    "measured_values = np.random.uniform(size=len(parameter_values))\n",
    "pd.concat([\n",
    "    _join(*args)\n",
    "    for args in zip(parameter_values, measured_values)])"
   ]
  },
  {
   "cell_type": "code",
   "execution_count": null,
   "metadata": {
    "ExecuteTime": {
     "end_time": "2019-11-11T21:01:17.783178Z",
     "start_time": "2019-11-11T21:01:12.906Z"
    }
   },
   "outputs": [],
   "source": [
    "analysis.measurement_parameters.join(\n",
    "    analysis.measurement_parameters.as_dataframe(parameter_values),\n",
    "    pd.DataFrame({\"connection_probability\": measured_values}))"
   ]
  },
  {
   "cell_type": "code",
   "execution_count": null,
   "metadata": {
    "ExecuteTime": {
     "end_time": "2019-11-11T21:01:17.784013Z",
     "start_time": "2019-11-11T21:01:12.910Z"
    }
   },
   "outputs": [],
   "source": [
    "pd.testing.assert_frame_equal(\n",
    "    measurement.concat_as_samples(\n",
    "        {\"x\": measured_values}).loc[\"x\"],\n",
    "    measured_values)"
   ]
  },
  {
   "cell_type": "code",
   "execution_count": null,
   "metadata": {
    "ExecuteTime": {
     "end_time": "2019-11-11T21:01:17.784772Z",
     "start_time": "2019-11-11T21:01:12.913Z"
    }
   },
   "outputs": [],
   "source": [
    "from dmt.tk.parameters import index_tree\n",
    "pd.Series(index_tree.as_unnested_dict(parameter_values[0]))"
   ]
  },
  {
   "cell_type": "code",
   "execution_count": null,
   "metadata": {
    "ExecuteTime": {
     "end_time": "2019-11-11T21:01:17.785559Z",
     "start_time": "2019-11-11T21:01:12.915Z"
    }
   },
   "outputs": [],
   "source": [
    "plotting_data = measured_values.loc[\n",
    "    (\"L23_MC\",)\n",
    "].reset_index(\n",
    ").assign(\n",
    "    soma_distance = lambda df:[np.mean(sd) for sd in df.soma_distance]\n",
    ")\n",
    "plotting_data.head()"
   ]
  },
  {
   "cell_type": "code",
   "execution_count": null,
   "metadata": {
    "ExecuteTime": {
     "end_time": "2019-11-11T21:01:17.786363Z",
     "start_time": "2019-11-11T21:01:12.919Z"
    }
   },
   "outputs": [],
   "source": [
    "import seaborn; seaborn.set\n",
    "axes = seaborn.lineplot(\n",
    "    y=\"connection_probability\",\n",
    "    x=\"soma_distance\",\n",
    "    hue=\"post_synaptic_mtype\",\n",
    "    data=plotting_data)"
   ]
  },
  {
   "cell_type": "code",
   "execution_count": null,
   "metadata": {
    "ExecuteTime": {
     "end_time": "2019-11-11T21:01:17.787128Z",
     "start_time": "2019-11-11T21:01:12.922Z"
    }
   },
   "outputs": [],
   "source": [
    "plotting_data =\\\n",
    "    measured_values.reset_index(\n",
    "    ).assign(\n",
    "        soma_distance=lambda df: df.soma_distance.apply(np.mean)\n",
    "    )\n",
    "plotting_data.head()"
   ]
  },
  {
   "cell_type": "code",
   "execution_count": null,
   "metadata": {
    "ExecuteTime": {
     "end_time": "2019-11-11T21:01:17.787978Z",
     "start_time": "2019-11-11T21:01:12.926Z"
    }
   },
   "outputs": [],
   "source": [
    "import matplotlib.pyplot as plt\n",
    "graphic =\\\n",
    "    seaborn.FacetGrid(\n",
    "        plotting_data,\n",
    "        col=None,#\"post_synaptic_mtype\",\n",
    "        hue=\"pre_synaptic_mtype\")\n",
    "graphic.map(plt.hist, \"connection_probability\")\n",
    "graphic.add_legend()"
   ]
  },
  {
   "cell_type": "code",
   "execution_count": null,
   "metadata": {
    "ExecuteTime": {
     "end_time": "2019-11-11T21:01:17.788774Z",
     "start_time": "2019-11-11T21:01:12.928Z"
    }
   },
   "outputs": [],
   "source": [
    "graphic =\\\n",
    "    seaborn.FacetGrid(\n",
    "        plotting_data,\n",
    "        hue=\"pre_synaptic_mtype\",\n",
    "        col=\"post_synaptic_mtype\")\n",
    "graphic.map(plt.hist, \"connection_probability\")\n",
    "graphic.add_legend()"
   ]
  },
  {
   "cell_type": "code",
   "execution_count": null,
   "metadata": {
    "ExecuteTime": {
     "end_time": "2019-11-11T21:01:17.789498Z",
     "start_time": "2019-11-11T21:01:12.931Z"
    }
   },
   "outputs": [],
   "source": [
    "graphic =\\\n",
    "    seaborn.FacetGrid(\n",
    "        plotting_data,\n",
    "        col=\"post_synaptic_mtype\",\n",
    "        hue=\"pre_synaptic_mtype\")\n",
    "        #legend_out=True)\n",
    "graphic.map(\n",
    "    seaborn.lineplot, \n",
    "    \"soma_distance\",\n",
    "    \"connection_probability\",\n",
    "    alpha=0.7)\n",
    "graphic.add_legend()"
   ]
  },
  {
   "cell_type": "code",
   "execution_count": null,
   "metadata": {
    "ExecuteTime": {
     "end_time": "2019-11-11T21:01:17.790281Z",
     "start_time": "2019-11-11T21:01:12.935Z"
    }
   },
   "outputs": [],
   "source": [
    "from dmt.tk.plotting.lines import LinePlot\n",
    "line_plot = LinePlot(\n",
    "    xvar=\"soma_distance\",\n",
    "    xlabel=\"Soma Distance\",\n",
    "    yvar=\"connection_probability\",\n",
    "    ylabel=\"Connection Probability\",\n",
    "    gvar=\"pre_synaptic_mtype\",\n",
    "    fvar=\"post_synaptic_mtype\")"
   ]
  },
  {
   "cell_type": "code",
   "execution_count": null,
   "metadata": {
    "ExecuteTime": {
     "end_time": "2019-11-11T21:01:17.791038Z",
     "start_time": "2019-11-11T21:01:12.937Z"
    }
   },
   "outputs": [],
   "source": [
    "line_plot.get_figure({\n",
    "    \"0\": measured_values.reset_index().assign(\n",
    "        soma_distance=lambda df: df.soma_distance.apply(np.mean)\n",
    "    ).set_index(\n",
    "        [\"pre_synaptic_mtype\", \"post_synaptic_mtype\", \"soma_distance\"])})"
   ]
  },
  {
   "cell_type": "code",
   "execution_count": null,
   "metadata": {
    "ExecuteTime": {
     "end_time": "2019-11-11T21:01:17.791919Z",
     "start_time": "2019-11-11T21:01:12.940Z"
    }
   },
   "outputs": [],
   "source": [
    "result = conn_prob_sd(\n",
    "    pathway=CellType.pathway(\n",
    "        {\"mtype\": \"L23_MC\"},\n",
    "        {\"mtype\": \"L23_MC\"}))\n",
    "result"
   ]
  },
  {
   "cell_type": "code",
   "execution_count": null,
   "metadata": {
    "ExecuteTime": {
     "end_time": "2019-11-11T21:01:17.792687Z",
     "start_time": "2019-11-11T21:01:12.944Z"
    }
   },
   "outputs": [],
   "source": [
    "result.reset_index(\n",
    ").assign(\n",
    "    soma_distance=lambda df: df.soma_distance.apply(np.mean)\n",
    ").set_index(\n",
    "    \"soma_distance\"\n",
    ").connection_probability"
   ]
  },
  {
   "cell_type": "code",
   "execution_count": null,
   "metadata": {},
   "outputs": [],
   "source": []
  }
 ],
 "metadata": {
  "kernelspec": {
   "display_name": "Python 3",
   "language": "python",
   "name": "python3"
  },
  "language_info": {
   "codemirror_mode": {
    "name": "ipython",
    "version": 3
   },
   "file_extension": ".py",
   "mimetype": "text/x-python",
   "name": "python",
   "nbconvert_exporter": "python",
   "pygments_lexer": "ipython3",
   "version": "3.7.4"
  },
  "latex_envs": {
   "LaTeX_envs_menu_present": true,
   "autoclose": false,
   "autocomplete": true,
   "bibliofile": "biblio.bib",
   "cite_by": "apalike",
   "current_citInitial": 1,
   "eqLabelWithNumbers": true,
   "eqNumInitial": 1,
   "hotkeys": {
    "equation": "Ctrl-E",
    "itemize": "Ctrl-I"
   },
   "labels_anchors": false,
   "latex_user_defs": false,
   "report_style_numbering": false,
   "user_envs_cfg": false
  },
  "toc": {
   "base_numbering": 1,
   "nav_menu": {},
   "number_sections": true,
   "sideBar": true,
   "skip_h1_title": false,
   "title_cell": "Table of Contents",
   "title_sidebar": "Contents",
   "toc_cell": false,
   "toc_position": {},
   "toc_section_display": true,
   "toc_window_display": false
  },
  "varInspector": {
   "cols": {
    "lenName": 16,
    "lenType": 16,
    "lenVar": 40
   },
   "kernels_config": {
    "python": {
     "delete_cmd_postfix": "",
     "delete_cmd_prefix": "del ",
     "library": "var_list.py",
     "varRefreshCmd": "print(var_dic_list())"
    },
    "r": {
     "delete_cmd_postfix": ") ",
     "delete_cmd_prefix": "rm(",
     "library": "var_list.r",
     "varRefreshCmd": "cat(var_dic_list()) "
    }
   },
   "types_to_exclude": [
    "module",
    "function",
    "builtin_function_or_method",
    "instance",
    "_Feature"
   ],
   "window_display": false
  }
 },
 "nbformat": 4,
 "nbformat_minor": 2
}
