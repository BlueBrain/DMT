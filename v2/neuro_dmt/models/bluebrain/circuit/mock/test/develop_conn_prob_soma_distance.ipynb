{
 "cells": [
  {
   "cell_type": "code",
   "execution_count": 1,
   "metadata": {
    "ExecuteTime": {
     "end_time": "2019-11-14T15:04:05.954486Z",
     "start_time": "2019-11-14T15:04:04.271358Z"
    }
   },
   "outputs": [
    {
     "name": "stdout",
     "output_type": "stream",
     "text": [
      "('region', 'layer', 'depth', 'height', 'mesocolumn', 'hypercolumn', 'mtype', 'etype', 'synapse_class', 'postsynaptic', 'presynaptic')\n",
      "('region', 'layer', 'depth', 'height', 'mesocolumn', 'hypercolumn', 'mtype', 'etype', 'synapse_class', 'postsynaptic', 'presynaptic')\n",
      "('region', 'layer', 'depth', 'height', 'mesocolumn', 'hypercolumn', 'mtype', 'etype', 'synapse_class', 'postsynaptic', 'presynaptic')\n",
      "('region', 'layer', 'depth', 'height', 'mtype', 'etype', 'synapse_class')\n",
      "('region', 'layer', 'depth', 'height', 'mtype', 'etype', 'synapse_class')\n"
     ]
    }
   ],
   "source": [
    "import os\n",
    "os.environ[\"LOGLEVEL\"] = \"PROD\"\n",
    "\n",
    "import numpy as np\n",
    "import pandas as pd\n",
    "from neuro_dmt.models.bluebrain.circuit.model import BlueBrainCircuitModel\n",
    "from neuro_dmt.models.bluebrain.circuit.mock.test.mock_circuit_light\\\n",
    "    import circuit_composition, circuit_connectivity\n",
    "from neuro_dmt.models.bluebrain.circuit.mock.circuit import\\\n",
    "    MockCircuit"
   ]
  },
  {
   "cell_type": "code",
   "execution_count": 2,
   "metadata": {
    "ExecuteTime": {
     "end_time": "2019-11-14T15:04:27.414640Z",
     "start_time": "2019-11-14T15:04:07.446419Z"
    }
   },
   "outputs": [],
   "source": [
    "mock_circuit =\\\n",
    "    MockCircuit.build(\n",
    "        circuit_composition,\n",
    "        circuit_connectivity)\n",
    "circuit_model =\\\n",
    "    BlueBrainCircuitModel(\n",
    "        mock_circuit,\n",
    "        label=\"BlueBrainCircuitModelMock\")\n",
    "conn_prob = circuit_model.connection_probability"
   ]
  },
  {
   "cell_type": "code",
   "execution_count": 4,
   "metadata": {
    "ExecuteTime": {
     "end_time": "2019-11-14T15:05:21.744726Z",
     "start_time": "2019-11-14T15:05:19.637798Z"
    }
   },
   "outputs": [
    {
     "data": {
      "text/plain": [
       "number_pairs_total            10000.0\n",
       "number_pairs_connected          168.0\n",
       "number_cells_pre_synaptic       100.0\n",
       "number_cells_post_synaptic      100.0\n",
       "Name: 0, dtype: float64"
      ]
     },
     "execution_count": 4,
     "metadata": {},
     "output_type": "execute_result"
    }
   ],
   "source": [
    "pre_synaptic_cells =\\\n",
    "    circuit_model.cells\\\n",
    "                 .sample(n=100)\\\n",
    "                 .rename(columns=conn_prob._at(\"pre_synaptic\"))\n",
    "post_synaptic_cells =\\\n",
    "    circuit_model.cells\\\n",
    "                 .sample(n=100)\\\n",
    "                 .rename(columns=conn_prob._at(\"post_synaptic\"))\n",
    "conn_prob(\n",
    "    pre_synaptic_cell_group=pre_synaptic_cells,\n",
    "    post_synaptic_cell_group=post_synaptic_cells)"
   ]
  },
  {
   "cell_type": "code",
   "execution_count": 6,
   "metadata": {
    "ExecuteTime": {
     "end_time": "2019-11-14T15:06:58.131170Z",
     "start_time": "2019-11-14T15:06:50.655670Z"
    }
   },
   "outputs": [
    {
     "data": {
      "text/plain": [
       "number_cells_pre_synaptic       10288.000000\n",
       "number_cells_post_synaptic         20.000000\n",
       "number_pairs_total             205760.000000\n",
       "number_pairs_connected           4144.000000\n",
       "probability_connection              0.020140\n",
       "number_connections_afferent       207.200000\n",
       "number_connections_efferent         0.402799\n",
       "dtype: float64"
      ]
     },
     "execution_count": 6,
     "metadata": {},
     "output_type": "execute_result"
    }
   ],
   "source": [
    "from neuro_dmt import terminology\n",
    "from neuro_dmt.models.bluebrain.circuit.model.pathway import connectome_summary\n",
    "\n",
    "connectome_summary(\n",
    "    conn_prob(\n",
    "        pre_synaptic_cell_group=circuit_model.cells,\n",
    "        post_synaptic_cell_group=circuit_model.get_cells(mtype=\"L23_MC\").sample(n=20),\n",
    "        sampling_methodology=terminology.sampling_methodology.exhaustive))"
   ]
  },
  {
   "cell_type": "code",
   "execution_count": 5,
   "metadata": {
    "ExecuteTime": {
     "end_time": "2019-11-14T14:18:34.874527Z",
     "start_time": "2019-11-14T14:18:32.504203Z"
    }
   },
   "outputs": [
    {
     "data": {
      "text/plain": [
       "pairs_total               10000.0000\n",
       "pairs_connected             187.0000\n",
       "connection_probability        0.0187\n",
       "Name: 0, dtype: float64"
      ]
     },
     "execution_count": 5,
     "metadata": {},
     "output_type": "execute_result"
    }
   ],
   "source": [
    "conn_prob(\n",
    "    pre_synaptic_cell_group=circuit_model.get_cells(**{\"mtype\": \"L23_MC\"}),\n",
    "    post_synaptic_cell_group=circuit_model.get_cells(**{\"mtype\": \"L23_MC\"}),\n",
    "    with_summary_statistics=True)"
   ]
  },
  {
   "cell_type": "code",
   "execution_count": 4,
   "metadata": {
    "ExecuteTime": {
     "end_time": "2019-11-13T18:01:48.325931Z",
     "start_time": "2019-11-13T18:01:42.756566Z"
    }
   },
   "outputs": [
    {
     "data": {
      "text/html": [
       "<div>\n",
       "<style scoped>\n",
       "    .dataframe tbody tr th:only-of-type {\n",
       "        vertical-align: middle;\n",
       "    }\n",
       "\n",
       "    .dataframe tbody tr th {\n",
       "        vertical-align: top;\n",
       "    }\n",
       "\n",
       "    .dataframe thead th {\n",
       "        text-align: right;\n",
       "    }\n",
       "</style>\n",
       "<table border=\"1\" class=\"dataframe\">\n",
       "  <thead>\n",
       "    <tr style=\"text-align: right;\">\n",
       "      <th></th>\n",
       "      <th>pairs_connected</th>\n",
       "      <th>pairs_total</th>\n",
       "      <th>connection_probability</th>\n",
       "    </tr>\n",
       "    <tr>\n",
       "      <th>dummy_variable</th>\n",
       "      <th></th>\n",
       "      <th></th>\n",
       "      <th></th>\n",
       "    </tr>\n",
       "  </thead>\n",
       "  <tbody>\n",
       "    <tr>\n",
       "      <th>0</th>\n",
       "      <td>527.0</td>\n",
       "      <td>26896</td>\n",
       "      <td>0.019594</td>\n",
       "    </tr>\n",
       "  </tbody>\n",
       "</table>\n",
       "</div>"
      ],
      "text/plain": [
       "                pairs_connected  pairs_total  connection_probability\n",
       "dummy_variable                                                      \n",
       "0                         527.0        26896                0.019594"
      ]
     },
     "execution_count": 4,
     "metadata": {},
     "output_type": "execute_result"
    }
   ],
   "source": [
    "conn_prob_sd =\\\n",
    "    circuit_model.connection_probability_by_soma_distance\n",
    "measurement_pairs =\\\n",
    "    conn_prob_sd.get_pairs(\n",
    "        circuit_model.get_cells(**{\"mtype\": \"L23_MC\"}),\n",
    "        circuit_model.get_cells(**{\"mtype\": \"L23_MC\"}))\n",
    "pairs_agg =\\\n",
    "    pd.concat([\n",
    "        pairs[\n",
    "        [\"pairs\"]\n",
    "        ].reset_index(\n",
    "            drop=True\n",
    "        ).assign(\n",
    "            dummy_variable=0\n",
    "        ).groupby(\n",
    "            [\"dummy_variable\"]\n",
    "        ).agg(\n",
    "            [\"sum\", \"size\"]\n",
    "        ).pairs.rename(\n",
    "            columns={\"size\": \"pairs_total\", \"sum\": \"pairs_connected\"}\n",
    "        ) for pairs in measurement_pairs]\n",
    "    ).groupby(\n",
    "        \"dummy_variable\"\n",
    "    ).agg(\n",
    "        \"sum\"\n",
    "    )\n",
    "pairs_agg.join(\n",
    "    pairs_agg.apply(\n",
    "        lambda df: df.pairs_connected / df.pairs_total,\n",
    "        axis=1\n",
    "    ).rename(\n",
    "        \"connection_probability\"\n",
    "    )\n",
    ")"
   ]
  },
  {
   "cell_type": "code",
   "execution_count": 14,
   "metadata": {
    "ExecuteTime": {
     "end_time": "2019-11-14T09:46:33.340858Z",
     "start_time": "2019-11-14T09:46:33.333758Z"
    }
   },
   "outputs": [
    {
     "data": {
      "text/plain": [
       "{'sum': 'connection_strength'}"
      ]
     },
     "execution_count": 14,
     "metadata": {},
     "output_type": "execute_result"
    }
   ],
   "source": [
    "connection_strength.columns"
   ]
  },
  {
   "cell_type": "code",
   "execution_count": 25,
   "metadata": {
    "ExecuteTime": {
     "end_time": "2019-11-14T10:00:21.671182Z",
     "start_time": "2019-11-14T10:00:08.710772Z"
    }
   },
   "outputs": [
    {
     "data": {
      "text/html": [
       "<div>\n",
       "<style scoped>\n",
       "    .dataframe tbody tr th:only-of-type {\n",
       "        vertical-align: middle;\n",
       "    }\n",
       "\n",
       "    .dataframe tbody tr th {\n",
       "        vertical-align: top;\n",
       "    }\n",
       "\n",
       "    .dataframe thead tr th {\n",
       "        text-align: left;\n",
       "    }\n",
       "\n",
       "    .dataframe thead tr:last-of-type th {\n",
       "        text-align: right;\n",
       "    }\n",
       "</style>\n",
       "<table border=\"1\" class=\"dataframe\">\n",
       "  <thead>\n",
       "    <tr>\n",
       "      <th></th>\n",
       "      <th></th>\n",
       "      <th colspan=\"3\" halign=\"left\">connection_strength</th>\n",
       "    </tr>\n",
       "    <tr>\n",
       "      <th></th>\n",
       "      <th></th>\n",
       "      <th>size</th>\n",
       "      <th>mean</th>\n",
       "      <th>std</th>\n",
       "    </tr>\n",
       "    <tr>\n",
       "      <th>dummy_variable</th>\n",
       "      <th>soma_distance</th>\n",
       "      <th></th>\n",
       "      <th></th>\n",
       "      <th></th>\n",
       "    </tr>\n",
       "  </thead>\n",
       "  <tbody>\n",
       "    <tr>\n",
       "      <th rowspan=\"5\" valign=\"top\">0</th>\n",
       "      <th>(0.0, 100.0)</th>\n",
       "      <td>164</td>\n",
       "      <td>0.347561</td>\n",
       "      <td>0.549339</td>\n",
       "    </tr>\n",
       "    <tr>\n",
       "      <th>(100.0, 200.0)</th>\n",
       "      <td>164</td>\n",
       "      <td>1.079268</td>\n",
       "      <td>1.161682</td>\n",
       "    </tr>\n",
       "    <tr>\n",
       "      <th>(200.0, 300.0)</th>\n",
       "      <td>164</td>\n",
       "      <td>1.060976</td>\n",
       "      <td>0.988865</td>\n",
       "    </tr>\n",
       "    <tr>\n",
       "      <th>(300.0, 400.0)</th>\n",
       "      <td>158</td>\n",
       "      <td>0.727848</td>\n",
       "      <td>0.981671</td>\n",
       "    </tr>\n",
       "    <tr>\n",
       "      <th>(400.0, 500.0)</th>\n",
       "      <td>72</td>\n",
       "      <td>0.055556</td>\n",
       "      <td>0.230669</td>\n",
       "    </tr>\n",
       "  </tbody>\n",
       "</table>\n",
       "</div>"
      ],
      "text/plain": [
       "                              connection_strength                    \n",
       "                                             size      mean       std\n",
       "dummy_variable soma_distance                                         \n",
       "0              (0.0, 100.0)                   164  0.347561  0.549339\n",
       "               (100.0, 200.0)                 164  1.079268  1.161682\n",
       "               (200.0, 300.0)                 164  1.060976  0.988865\n",
       "               (300.0, 400.0)                 158  0.727848  0.981671\n",
       "               (400.0, 500.0)                  72  0.055556  0.230669"
      ]
     },
     "execution_count": 25,
     "metadata": {},
     "output_type": "execute_result"
    }
   ],
   "source": [
    "from neuro_dmt.models.bluebrain.circuit.model.cell_type import\\\n",
    "    CellType\n",
    "from neuro_dmt.models.bluebrain.circuit.model.pathway.connection_probability import\\\n",
    "    ConnectionProbability,\\\n",
    "    ConnectionProbabilityBySomaDistance\n",
    "\n",
    "class ConnectionStrength(ConnectionProbability):\n",
    "    \"\"\"\n",
    "    Count the number of connections in a pathway\n",
    "    \"\"\"\n",
    "    phenomenon = \"connection_strength\"\n",
    "    aggregators_inner = [\"sum\"]\n",
    "    aggregators_outer = [\"size\", \"mean\", \"std\"]\n",
    "    measurement_label = \"connection_strength\"\n",
    "    columns = {\"sum\": \"connection_strength\"}\n",
    "    \n",
    "    @property\n",
    "    def definition(self):\n",
    "        \"\"\"...\"\"\"\n",
    "        return {}\n",
    "    \n",
    "class AfferentConnectionStrengthBySomaDistance(\n",
    "        ConnectionProbabilityBySomaDistance):\n",
    "    \"\"\"...\"\"\"\n",
    "    phenomenon = \"Afferent Connections\"\n",
    "    aggregators_inner = [\"sum\"]\n",
    "    aggregators_outer = [\"size\", \"mean\", \"std\"]\n",
    "    measurement_label = \"afferent_connections\"\n",
    "    columns = {\"sum\": \"afferent_connections\"}\n",
    "\n",
    "    @property\n",
    "    def definition(self):\n",
    "        return {}\n",
    "\n",
    "measurement_pairs =\\\n",
    "    conn_prob_sd.get_pairs(\n",
    "        circuit_model.get_cells(**{\"mtype\": \"L23_MC\"}),\n",
    "        circuit_model.get_cells(**{\"mtype\": \"L23_MC\"}))\n",
    "connection_strength =\\\n",
    "    ConnectionStrength(circuit_model=circuit_model)\n",
    "aff_conn_sd =\\\n",
    "    AfferentConnectionStrengthBySomaDistance(\n",
    "        circuit_model=circuit_model)\n",
    "pairs_agg_acsd =\\\n",
    "    aff_conn_sd(\n",
    "        pathway=CellType.pathway(\n",
    "            {\"mtype\": \"L23_MC\"},\n",
    "            {\"mtype\": \"L23_MC\"}))\n",
    "pairs_agg_cs =\\\n",
    "    connection_strength(\n",
    "        pathway=CellType.pathway(\n",
    "            {\"mtype\": \"L23_MC\"},\n",
    "            {\"mtype\": \"L23_MC\"}))\n",
    "\n",
    "pairs_agg_d =\\\n",
    "    pd.concat([\n",
    "        pairs[\n",
    "            [\"pairs\", \"soma_distance\"]\n",
    "        ].reset_index(\n",
    "            drop=True\n",
    "        ).assign(\n",
    "            dummy_variable=0\n",
    "        ).groupby(\n",
    "            [\"dummy_variable\", \"soma_distance\"]\n",
    "        ).agg(\n",
    "            [\"sum\"]\n",
    "        ).pairs.rename(\n",
    "            columns={\"sum\": \"connection_strength\"}\n",
    "        ) for pairs in measurement_pairs]\n",
    "    ).groupby(\n",
    "        [\"dummy_variable\", \"soma_distance\"]\n",
    "    ).agg(\n",
    "        [\"size\", \"mean\", \"std\"]\n",
    "    ).assign(**{})\n",
    "pairs_agg"
   ]
  },
  {
   "cell_type": "code",
   "execution_count": 26,
   "metadata": {
    "ExecuteTime": {
     "end_time": "2019-11-14T10:00:51.684509Z",
     "start_time": "2019-11-14T10:00:51.671636Z"
    }
   },
   "outputs": [
    {
     "data": {
      "text/html": [
       "<div>\n",
       "<style scoped>\n",
       "    .dataframe tbody tr th:only-of-type {\n",
       "        vertical-align: middle;\n",
       "    }\n",
       "\n",
       "    .dataframe tbody tr th {\n",
       "        vertical-align: top;\n",
       "    }\n",
       "\n",
       "    .dataframe thead th {\n",
       "        text-align: right;\n",
       "    }\n",
       "</style>\n",
       "<table border=\"1\" class=\"dataframe\">\n",
       "  <thead>\n",
       "    <tr style=\"text-align: right;\">\n",
       "      <th></th>\n",
       "      <th>size</th>\n",
       "      <th>mean</th>\n",
       "      <th>std</th>\n",
       "    </tr>\n",
       "    <tr>\n",
       "      <th>soma_distance</th>\n",
       "      <th></th>\n",
       "      <th></th>\n",
       "      <th></th>\n",
       "    </tr>\n",
       "  </thead>\n",
       "  <tbody>\n",
       "    <tr>\n",
       "      <th>(0.0, 100.0)</th>\n",
       "      <td>100</td>\n",
       "      <td>0.190000</td>\n",
       "      <td>0.419114</td>\n",
       "    </tr>\n",
       "    <tr>\n",
       "      <th>(100.0, 200.0)</th>\n",
       "      <td>100</td>\n",
       "      <td>0.580000</td>\n",
       "      <td>0.806288</td>\n",
       "    </tr>\n",
       "    <tr>\n",
       "      <th>(200.0, 300.0)</th>\n",
       "      <td>100</td>\n",
       "      <td>0.540000</td>\n",
       "      <td>0.783929</td>\n",
       "    </tr>\n",
       "    <tr>\n",
       "      <th>(300.0, 400.0)</th>\n",
       "      <td>98</td>\n",
       "      <td>0.489796</td>\n",
       "      <td>0.827926</td>\n",
       "    </tr>\n",
       "    <tr>\n",
       "      <th>(400.0, 500.0)</th>\n",
       "      <td>42</td>\n",
       "      <td>0.000000</td>\n",
       "      <td>0.000000</td>\n",
       "    </tr>\n",
       "  </tbody>\n",
       "</table>\n",
       "</div>"
      ],
      "text/plain": [
       "                size      mean       std\n",
       "soma_distance                           \n",
       "(0.0, 100.0)     100  0.190000  0.419114\n",
       "(100.0, 200.0)   100  0.580000  0.806288\n",
       "(200.0, 300.0)   100  0.540000  0.783929\n",
       "(300.0, 400.0)    98  0.489796  0.827926\n",
       "(400.0, 500.0)    42  0.000000  0.000000"
      ]
     },
     "execution_count": 26,
     "metadata": {},
     "output_type": "execute_result"
    }
   ],
   "source": [
    "pairs_agg_acsd\n"
   ]
  },
  {
   "cell_type": "code",
   "execution_count": 14,
   "metadata": {
    "ExecuteTime": {
     "end_time": "2019-11-12T11:22:48.029542Z",
     "start_time": "2019-11-12T11:22:48.023421Z"
    }
   },
   "outputs": [
    {
     "data": {
      "text/plain": [
       "0"
      ]
     },
     "execution_count": 14,
     "metadata": {},
     "output_type": "execute_result"
    }
   ],
   "source": [
    "np.isnan(cp_pairs[0].pairs.values).sum()"
   ]
  },
  {
   "cell_type": "code",
   "execution_count": 7,
   "metadata": {
    "ExecuteTime": {
     "end_time": "2019-11-12T12:11:00.192425Z",
     "start_time": "2019-11-12T12:10:57.741959Z"
    }
   },
   "outputs": [
    {
     "data": {
      "text/plain": [
       "pairs_total               8868.000000\n",
       "pairs_connected            174.000000\n",
       "connection_probability       0.019621\n",
       "Name: 0, dtype: float64"
      ]
     },
     "execution_count": 7,
     "metadata": {},
     "output_type": "execute_result"
    }
   ],
   "source": [
    "pre_synaptic_cell_group = circuit_model.cells.sample(n=100)\n",
    "post_synaptic_cell_group = circuit_model.cells.sample(n=100)\n",
    "conn_prob(\n",
    "    pre_synaptic_cell_group=pre_synaptic_cell_group,\n",
    "    post_synaptic_cell_group=post_synaptic_cell_group,\n",
    "    upper_bound_soma_distance=1000,\n",
    "    with_summary_statistics=True)"
   ]
  },
  {
   "cell_type": "code",
   "execution_count": 8,
   "metadata": {
    "ExecuteTime": {
     "end_time": "2019-11-12T12:11:03.689890Z",
     "start_time": "2019-11-12T12:11:01.312141Z"
    }
   },
   "outputs": [
    {
     "data": {
      "text/plain": [
       "pairs_total               334.00000\n",
       "pairs_connected             5.00000\n",
       "connection_probability      0.01497\n",
       "Name: 0, dtype: float64"
      ]
     },
     "execution_count": 8,
     "metadata": {},
     "output_type": "execute_result"
    }
   ],
   "source": [
    "conn_prob(\n",
    "    pre_synaptic_cell_group=pre_synaptic_cell_group,\n",
    "    post_synaptic_cell_group=post_synaptic_cell_group,\n",
    "    upper_bound_soma_distance=100.,\n",
    "    with_summary_statistics=True)"
   ]
  },
  {
   "cell_type": "code",
   "execution_count": 9,
   "metadata": {
    "ExecuteTime": {
     "end_time": "2019-11-12T12:11:06.948204Z",
     "start_time": "2019-11-12T12:11:04.539473Z"
    }
   },
   "outputs": [
    {
     "data": {
      "text/plain": [
       "pairs_total               10000.0000\n",
       "pairs_connected             197.0000\n",
       "connection_probability        0.0197\n",
       "Name: 0, dtype: float64"
      ]
     },
     "execution_count": 9,
     "metadata": {},
     "output_type": "execute_result"
    }
   ],
   "source": [
    "conn_prob(\n",
    "    pre_synaptic_cell_group=pre_synaptic_cell_group,\n",
    "    post_synaptic_cell_group=post_synaptic_cell_group,\n",
    "    with_summary_statistics=True)"
   ]
  },
  {
   "cell_type": "code",
   "execution_count": 4,
   "metadata": {
    "ExecuteTime": {
     "end_time": "2019-11-12T10:50:55.080474Z",
     "start_time": "2019-11-12T10:50:47.830743Z"
    },
    "code_folding": [
     1
    ]
   },
   "outputs": [
    {
     "name": "stdout",
     "output_type": "stream",
     "text": [
      "('region', 'layer', 'depth', 'height', 'mesocolumn', 'hypercolumn', 'mtype', 'etype', 'synapse_class', 'postsynaptic', 'presynaptic')\n"
     ]
    },
    {
     "data": {
      "text/plain": [
       "dummy_variable\n",
       "0    0.02102\n",
       "Name: connection_probability, dtype: float64"
      ]
     },
     "execution_count": 4,
     "metadata": {},
     "output_type": "execute_result"
    }
   ],
   "source": [
    "from dmt.tk.parameters import Parameters\n",
    "from neuro_dmt.models.bluebrain.circuit.adapter import\\\n",
    "    BlueBrainCircuitAdapter\n",
    "\n",
    "parameters_pathways_with_soma_distance = Parameters(\n",
    "    circuit_model.pathways(\n",
    "        {\"mtype\",}\n",
    "    ).assign(\n",
    "        upper_bound_soma_distance=500.\n",
    "    ))\n",
    "adapter = BlueBrainCircuitAdapter()\n",
    "parameters_for_sampling =\\\n",
    "    parameters_pathways_with_soma_distance.for_sampling(size=10)\n",
    "adapter.get_connection_probability(\n",
    "    circuit_model,\n",
    "    **parameters_for_sampling[0])"
   ]
  },
  {
   "cell_type": "code",
   "execution_count": 5,
   "metadata": {
    "ExecuteTime": {
     "end_time": "2019-11-12T10:51:04.070247Z",
     "start_time": "2019-11-12T10:50:55.929682Z"
    },
    "code_folding": [
     0
    ]
   },
   "outputs": [
    {
     "data": {
      "text/plain": [
       "dummy_variable\n",
       "0    0.029801\n",
       "Name: connection_probability, dtype: float64"
      ]
     },
     "execution_count": 5,
     "metadata": {},
     "output_type": "execute_result"
    }
   ],
   "source": [
    "parameters_pathways_with_soma_distance = Parameters(\n",
    "    circuit_model.pathways(\n",
    "        {\"mtype\",}\n",
    "    ).assign(\n",
    "        upper_bound_soma_distance=50.\n",
    "    ))\n",
    "adapter = BlueBrainCircuitAdapter()\n",
    "parameters_for_sampling =\\\n",
    "    parameters_pathways_with_soma_distance.for_sampling(size=10)\n",
    "adapter.get_connection_probability(\n",
    "    circuit_model,\n",
    "    **parameters_for_sampling[0])"
   ]
  },
  {
   "cell_type": "code",
   "execution_count": 6,
   "metadata": {
    "ExecuteTime": {
     "end_time": "2019-11-12T10:51:08.348284Z",
     "start_time": "2019-11-12T10:51:08.336389Z"
    }
   },
   "outputs": [],
   "source": [
    "from neuro_dmt.models.bluebrain.circuit.model.pathway import\\\n",
    "    ConnectionProbabilityBySomaDistance\n",
    "conn_prob_sd = ConnectionProbabilityBySomaDistance(circuit_model=circuit_model)"
   ]
  },
  {
   "cell_type": "code",
   "execution_count": null,
   "metadata": {
    "ExecuteTime": {
     "end_time": "2019-11-11T21:01:17.767950Z",
     "start_time": "2019-11-11T21:01:12.850Z"
    }
   },
   "outputs": [],
   "source": [
    "conn_prob_sd(\n",
    "    pre_synaptic_cell_group=pre_synaptic_cells,\n",
    "    post_synaptic_cell_group=post_synaptic_cells)"
   ]
  },
  {
   "cell_type": "code",
   "execution_count": 11,
   "metadata": {
    "ExecuteTime": {
     "end_time": "2019-11-12T11:01:08.752430Z",
     "start_time": "2019-11-12T11:01:06.392042Z"
    }
   },
   "outputs": [
    {
     "data": {
      "text/plain": [
       "0.0199"
      ]
     },
     "execution_count": 11,
     "metadata": {},
     "output_type": "execute_result"
    }
   ],
   "source": [
    "conn_prob(\n",
    "    pre_synaptic_cell_group=pre_synaptic_cells,\n",
    "    post_synaptic_cell_group=post_synaptic_cells,\n",
    "    with_summary_statistics=True).loc[0][\"connection_probability\"]"
   ]
  },
  {
   "cell_type": "code",
   "execution_count": 19,
   "metadata": {
    "ExecuteTime": {
     "end_time": "2019-11-12T12:03:34.462943Z",
     "start_time": "2019-11-12T12:03:31.310516Z"
    },
    "code_folding": []
   },
   "outputs": [],
   "source": [
    "measurement_pairs = conn_prob_sd.get_pairs(\n",
    "    pre_synaptic_cells=pre_synaptic_cells,\n",
    "    post_synaptic_cells=post_synaptic_cells)\n",
    "cpdf =\\\n",
    "    pd.concat([\n",
    "        pairs[\n",
    "            [\"pairs\", \"soma_distance\"]\n",
    "        ].reset_index(\n",
    "            drop=True\n",
    "        ).assign(\n",
    "            group=0\n",
    "        ).groupby(\n",
    "            [\"group\", \"soma_distance\"]\n",
    "        ).agg(\n",
    "            conn_prob.aggregators\n",
    "        ).pairs.rename(\n",
    "            columns=conn_prob.columns\n",
    "        ) for pairs in measurement_pairs]\n",
    "    ).groupby(\n",
    "        [\"group\", \"soma_distance\"]\n",
    "    ).agg(\n",
    "        \"sum\"\n",
    "    ).assign(**{\n",
    "        conn_prob.phenomenon: conn_prob.definition}\n",
    "    ).loc[0]"
   ]
  },
  {
   "cell_type": "code",
   "execution_count": 23,
   "metadata": {
    "ExecuteTime": {
     "end_time": "2019-11-12T12:05:05.955258Z",
     "start_time": "2019-11-12T12:05:03.080324Z"
    }
   },
   "outputs": [
    {
     "name": "stdout",
     "output_type": "stream",
     "text": [
      "['pairs', 'soma_distance'] []\n"
     ]
    },
    {
     "data": {
      "text/plain": [
       "pairs_total               10000.0000\n",
       "pairs_connected             173.0000\n",
       "connection_probability        0.0173\n",
       "Name: 0, dtype: float64"
      ]
     },
     "execution_count": 23,
     "metadata": {},
     "output_type": "execute_result"
    }
   ],
   "source": [
    "print(conn_prob_sd.measured_variables, conn_prob_sd.other_grouping_variables)\n",
    "conn_prob_sd._full_summary(\n",
    "    conn_prob_sd.get_pairs(\n",
    "        pre_synaptic_cells=pre_synaptic_cells,\n",
    "        post_synaptic_cells=post_synaptic_cells))"
   ]
  },
  {
   "cell_type": "code",
   "execution_count": null,
   "metadata": {
    "ExecuteTime": {
     "end_time": "2019-11-11T21:01:17.769601Z",
     "start_time": "2019-11-11T21:01:12.855Z"
    }
   },
   "outputs": [],
   "source": [
    "pre_synaptic_group_columns = [\"pre_synaptic_mtype\"]\n",
    "post_synaptic_group_columns = [\"post_synaptic_mtype\"]\n",
    "result = pairs_df[\n",
    "    [\"pairs\", \"soma_distance\"] + pre_synaptic_group_columns + post_synaptic_group_columns\n",
    "].groupby(\n",
    "    pre_synaptic_group_columns\n",
    "    + post_synaptic_group_columns\n",
    "    + [\"soma_distance\"]\n",
    ").agg([\"size\", \"sum\"])\n",
    "result.head()"
   ]
  },
  {
   "cell_type": "code",
   "execution_count": null,
   "metadata": {
    "ExecuteTime": {
     "end_time": "2019-11-11T21:01:17.770376Z",
     "start_time": "2019-11-11T21:01:12.859Z"
    },
    "code_folding": [
     0,
     2,
     4,
     6,
     8
    ]
   },
   "outputs": [],
   "source": [
    "result = pairs_df[\n",
    "    [\"pairs\"]\n",
    "].assign(\n",
    "    group=0\n",
    ").groupby(\n",
    "    [\"group\"]\n",
    ").agg(\n",
    "    [\"sum\", \"size\"]\n",
    ").pairs.rename(\n",
    "    columns=conn_prob.columns\n",
    ")\n",
    "conn_prob.definition(result.loc[0])"
   ]
  },
  {
   "cell_type": "code",
   "execution_count": null,
   "metadata": {
    "ExecuteTime": {
     "end_time": "2019-11-11T21:01:17.771170Z",
     "start_time": "2019-11-11T21:01:12.862Z"
    },
    "code_folding": [
     0,
     2,
     4,
     6,
     8
    ]
   },
   "outputs": [],
   "source": [
    "result = pairs_df[\n",
    "    [\"soma_distance\"] + [\"pairs\"]\n",
    "].assign(\n",
    "    group=0\n",
    ").groupby(\n",
    "    [\"group\", \"soma_distance\"]\n",
    ").agg(\n",
    "    [\"sum\", \"size\"]\n",
    ").pairs.rename(\n",
    "    columns=conn_prob.columns\n",
    ")\n",
    "conn_prob.definition(result.loc[0])"
   ]
  },
  {
   "cell_type": "code",
   "execution_count": null,
   "metadata": {
    "ExecuteTime": {
     "end_time": "2019-11-11T21:01:17.772074Z",
     "start_time": "2019-11-11T21:01:12.864Z"
    },
    "code_folding": [
     0,
     3,
     5,
     7,
     9,
     11
    ]
   },
   "outputs": [],
   "source": [
    "result = pairs_df[\n",
    "    [\"soma_distance\"] + [\"pairs\"]\n",
    "].assign(group=0\n",
    ").groupby(\n",
    "    [\"group\", \"soma_distance\"]\n",
    ").agg(\n",
    "    [\"sum\", \"size\"]\n",
    ").pairs.rename(\n",
    "    columns=conn_prob.columns\n",
    ").assign(\n",
    "    **{conn_prob.phenomenon: conn_prob.definition}\n",
    ").loc[0][\n",
    "    conn_prob_sd.measurement_label\n",
    "]\n",
    "result"
   ]
  },
  {
   "cell_type": "code",
   "execution_count": null,
   "metadata": {
    "ExecuteTime": {
     "end_time": "2019-11-11T21:01:17.772799Z",
     "start_time": "2019-11-11T21:01:12.867Z"
    },
    "code_folding": [
     0,
     2,
     4,
     6,
     8,
     10
    ]
   },
   "outputs": [],
   "source": [
    "result = pairs_df[\n",
    "    [\"pairs\", \"soma_distance\"]\n",
    "].groupby(\n",
    "    [\"soma_distance\"]\n",
    ").agg(\n",
    "    [\"sum\", \"size\"]\n",
    ").pairs.rename(\n",
    "    columns=conn_prob_sd.columns\n",
    ").assign(**{\n",
    "    conn_prob_sd.phenomenon: conn_prob_sd.definition})\n",
    "result[\n",
    "    conn_prob_sd.phenomenon\n",
    "].head()"
   ]
  },
  {
   "cell_type": "code",
   "execution_count": null,
   "metadata": {
    "ExecuteTime": {
     "end_time": "2019-11-11T21:01:17.773517Z",
     "start_time": "2019-11-11T21:01:12.871Z"
    },
    "code_folding": [
     0,
     2,
     4
    ]
   },
   "outputs": [],
   "source": [
    "result = pairs_df[\n",
    "    [\"pairs\"]\n",
    "].agg(\n",
    "    conn_prob.aggregators\n",
    ").pairs.rename(\n",
    "    columns=conn_prob.columns\n",
    ")\n",
    "result"
   ]
  },
  {
   "cell_type": "code",
   "execution_count": null,
   "metadata": {
    "ExecuteTime": {
     "end_time": "2019-11-11T21:01:17.774310Z",
     "start_time": "2019-11-11T21:01:12.874Z"
    },
    "code_folding": [
     0,
     2,
     6,
     8
    ]
   },
   "outputs": [],
   "source": [
    "result = pairs_df[\n",
    "    [\"pairs\", \"soma_distance\"]\n",
    "].groupby(\n",
    "    [\"soma_distance\"]\n",
    ").agg(\n",
    "    [\"sum\", \"size\"]\n",
    ").pairs.rename(\n",
    "    columns=conn_prob.columns\n",
    ").assign(**{\n",
    "    conn_prob_sd.phenomenon: conn_prob_sd.definition})\n",
    "\n",
    "result[conn_prob_sd.measurement_label]\n"
   ]
  },
  {
   "cell_type": "code",
   "execution_count": null,
   "metadata": {
    "ExecuteTime": {
     "end_time": "2019-11-11T21:01:17.775083Z",
     "start_time": "2019-11-11T21:01:12.876Z"
    },
    "code_folding": [
     2
    ]
   },
   "outputs": [],
   "source": [
    "from neuro_dmt.models.bluebrain.circuit.model.pathway import GroupByVariables\n",
    "\n",
    "result_dataframe_groupby = conn_prob_sd(\n",
    "    pre_synaptic_cell_group=circuit_model.cells.sample(n=100),\n",
    "    post_synaptic_cell_group=circuit_model.cells.sample(n=100),\n",
    "    groupby=GroupByVariables(frozenset({\"mtype\",}), frozenset({\"mtype\",})))"
   ]
  },
  {
   "cell_type": "code",
   "execution_count": null,
   "metadata": {
    "ExecuteTime": {
     "end_time": "2019-11-11T21:01:17.775835Z",
     "start_time": "2019-11-11T21:01:12.879Z"
    },
    "code_folding": [
     1
    ]
   },
   "outputs": [],
   "source": [
    "from neuro_dmt.models.bluebrain.circuit.model.cell_type import CellType\n",
    "result_series = conn_prob_sd(\n",
    "    pathway=CellType.pathway(\n",
    "        {\"mtype\": \"L6_UPC\"},\n",
    "        {\"mtype\": \"L6_TPC:A\"}))"
   ]
  },
  {
   "cell_type": "code",
   "execution_count": null,
   "metadata": {
    "ExecuteTime": {
     "end_time": "2019-11-11T21:01:17.776689Z",
     "start_time": "2019-11-11T21:01:12.882Z"
    },
    "code_folding": [
     0
    ]
   },
   "outputs": [],
   "source": [
    "result_series.apply(\n",
    "    lambda x: x + np.random.uniform())"
   ]
  },
  {
   "cell_type": "code",
   "execution_count": null,
   "metadata": {
    "ExecuteTime": {
     "end_time": "2019-11-11T21:01:17.777468Z",
     "start_time": "2019-11-11T21:01:12.885Z"
    },
    "code_folding": [
     1
    ]
   },
   "outputs": [],
   "source": [
    "from dmt.data.observation.measurement.collection import series_type, primitive_type\n",
    "measured_values = series_type([\n",
    "    ({\"pre_synaptic_mtype\": \"L23_MC\", \"post_synaptic_mtype\": \"L23_MC\"},\n",
    "     result_series.apply(lambda x: x + 0.01 * np.random.uniform())),\n",
    "    ({\"pre_synaptic_mtype\": \"L23_MC\", \"post_synaptic_mtype\": \"L23_MC\"},\n",
    "     result_series.apply(lambda x: x + 0.01 * np.random.uniform())),\n",
    "    ({\"pre_synaptic_mtype\": \"L23_MC\", \"post_synaptic_mtype\": \"L23_MC\"},\n",
    "     result_series.apply(lambda x: x + 0.01 * np.random.uniform())),\n",
    "    ({\"pre_synaptic_mtype\": \"L23_MC\", \"post_synaptic_mtype\": \"L6_TPC:A\"},\n",
    "     result_series.apply(lambda x: x + 0.01 * np.random.uniform())),\n",
    "    ({\"pre_synaptic_mtype\": \"L23_MC\", \"post_synaptic_mtype\": \"L6_TPC:A\"},\n",
    "     result_series.apply(lambda x: x + 0.01 * np.random.uniform())),\n",
    "    ({\"pre_synaptic_mtype\": \"L23_MC\", \"post_synaptic_mtype\": \"L6_TPC:A\"},\n",
    "     result_series.apply(lambda x: x + 0.01 * np.random.uniform())),\n",
    "    ({\"pre_synaptic_mtype\": \"L6_UPC\", \"post_synaptic_mtype\": \"L6_TPC:A\"},\n",
    "     result_series.apply(lambda x: x + 0.01 * np.random.uniform())),\n",
    "    ({\"pre_synaptic_mtype\": \"L6_UPC\", \"post_synaptic_mtype\": \"L6_TPC:A\"},\n",
    "     result_series.apply(lambda x: x + 0.01 * np.random.uniform())),\n",
    "    ({\"pre_synaptic_mtype\": \"L6_UPC\", \"post_synaptic_mtype\": \"L6_TPC:A\"},\n",
    "     result_series.apply(lambda x: x + 0.01 * np.random.uniform()))]\n",
    ").rename(columns={\"value\": \"connection_probability\"})"
   ]
  },
  {
   "cell_type": "code",
   "execution_count": null,
   "metadata": {
    "ExecuteTime": {
     "end_time": "2019-11-11T21:01:17.778269Z",
     "start_time": "2019-11-11T21:01:12.889Z"
    }
   },
   "outputs": [],
   "source": [
    "from dmt.data.observation import measurement\n",
    "measured_data = measurement.get_summary(measured_values).reset_index()"
   ]
  },
  {
   "cell_type": "code",
   "execution_count": 11,
   "metadata": {
    "ExecuteTime": {
     "end_time": "2019-11-12T12:11:48.766833Z",
     "start_time": "2019-11-12T12:11:28.352181Z"
    },
    "code_folding": [],
    "scrolled": true
   },
   "outputs": [
    {
     "name": "stdout",
     "output_type": "stream",
     "text": [
      "('region', 'layer', 'depth', 'height', 'mesocolumn', 'hypercolumn', 'mtype', 'etype', 'synapse_class', 'postsynaptic', 'presynaptic')\n"
     ]
    }
   ],
   "source": [
    "from neuro_dmt.models.bluebrain.circuit.test.test_connectome_analysis import *\n",
    "phenomenon = Phenomenon(\n",
    "    \"Connection Probability\",\n",
    "    \"\"\"\n",
    "    Probability that two neurons in a pathway are connected.\n",
    "    While mostly interested in `mtype->mtype` pathways, we can define\n",
    "    a pathway as the group of connected neurons with pre-synaptic and\n",
    "    post-synaptic neurons belonging to two parametrically defined groups.\n",
    "    As an example consider neuron populations defined by not only `mtype`\n",
    "    but also by soma-distance from a given location.\n",
    "    \"\"\",\n",
    "    group=\"Connectome\")\n",
    "number_pathways = 5\n",
    "pathways =\\\n",
    "    mock_circuit_model.pathways(frozenset((\"mtype\",)))\\\n",
    "        .sample(n=number_pathways)"
   ]
  },
  {
   "cell_type": "code",
   "execution_count": 89,
   "metadata": {
    "ExecuteTime": {
     "end_time": "2019-11-12T14:35:10.478243Z",
     "start_time": "2019-11-12T14:32:36.684518Z"
    }
   },
   "outputs": [],
   "source": [
    "from collections import OrderedDict\n",
    "from dmt.data.observation import measurement\n",
    "\n",
    "adapter =\\\n",
    "    analysis_test.adapter\n",
    "cell_types=pd.DataFrame([\n",
    "    OrderedDict({\"mtype\": \"L23_MC\"}),\n",
    "    OrderedDict({\"mtype\": \"L6_TPC:A\"}), \n",
    "    OrderedDict({\"mtype\": \"L5_TPC:A\"}),\n",
    "    OrderedDict({\"mtype\": \"L5_MC\"}),\n",
    "    OrderedDict({\"mtype\": \"L6_ChC\"})])\n",
    "pathways =\\\n",
    "    adapter.get_pathways(\n",
    "        mock_circuit_model,\n",
    "        cell_group=cell_types)\n",
    "analysis_test = BlueBrainCircuitAnalysisTest(\n",
    "    analysis=BrainCircuitAnalysis(\n",
    "    phenomenon=phenomenon,\n",
    "    AdapterInterface=ConnectionProbabilityBySomaDistanceInterface,\n",
    "    measurement_parameters=Parameters(pathways),\n",
    "    measurement_collection=measurement.collection.series_type,\n",
    "    plotter=HeatMap(\n",
    "        xvar=(\"pre_synaptic\", \"mtype\"),\n",
    "        xlabel=\"pre-mtype\",\n",
    "        yvar=(\"post_synaptic\", \"mtype\"),\n",
    "        ylabel=\"post-mtype\",\n",
    "        vvar=(\"connection_probability\", \"mean\"))))\n",
    "\n",
    "connection_probability_measurement =\\\n",
    "    analysis_test.test_get_measurement(\n",
    "        mock_circuit_model,\n",
    "        sample_size=2)\n",
    "\n",
    "analysis = analysis_test._circuit_analysis_test.analysis"
   ]
  },
  {
   "cell_type": "code",
   "execution_count": 90,
   "metadata": {
    "ExecuteTime": {
     "end_time": "2019-11-12T14:41:15.024325Z",
     "start_time": "2019-11-12T14:41:15.010188Z"
    },
    "code_folding": []
   },
   "outputs": [
    {
     "data": {
      "text/html": [
       "<div>\n",
       "<style scoped>\n",
       "    .dataframe tbody tr th:only-of-type {\n",
       "        vertical-align: middle;\n",
       "    }\n",
       "\n",
       "    .dataframe tbody tr th {\n",
       "        vertical-align: top;\n",
       "    }\n",
       "\n",
       "    .dataframe thead th {\n",
       "        text-align: right;\n",
       "    }\n",
       "</style>\n",
       "<table border=\"1\" class=\"dataframe\">\n",
       "  <thead>\n",
       "    <tr style=\"text-align: right;\">\n",
       "      <th></th>\n",
       "      <th></th>\n",
       "      <th></th>\n",
       "      <th>connection_probability</th>\n",
       "    </tr>\n",
       "    <tr>\n",
       "      <th>(pre_synaptic, mtype)</th>\n",
       "      <th>(post_synaptic, mtype)</th>\n",
       "      <th>soma_distance</th>\n",
       "      <th></th>\n",
       "    </tr>\n",
       "  </thead>\n",
       "  <tbody>\n",
       "    <tr>\n",
       "      <th rowspan=\"5\" valign=\"top\">L23_MC</th>\n",
       "      <th rowspan=\"5\" valign=\"top\">L23_MC</th>\n",
       "      <th>50.0</th>\n",
       "      <td>0.020376</td>\n",
       "    </tr>\n",
       "    <tr>\n",
       "      <th>150.0</th>\n",
       "      <td>0.016684</td>\n",
       "    </tr>\n",
       "    <tr>\n",
       "      <th>250.0</th>\n",
       "      <td>0.017182</td>\n",
       "    </tr>\n",
       "    <tr>\n",
       "      <th>350.0</th>\n",
       "      <td>0.019244</td>\n",
       "    </tr>\n",
       "    <tr>\n",
       "      <th>450.0</th>\n",
       "      <td>0.022222</td>\n",
       "    </tr>\n",
       "  </tbody>\n",
       "</table>\n",
       "</div>"
      ],
      "text/plain": [
       "                                                            connection_probability\n",
       "(pre_synaptic, mtype) (post_synaptic, mtype) soma_distance                        \n",
       "L23_MC                L23_MC                 50.0                         0.020376\n",
       "                                             150.0                        0.016684\n",
       "                                             250.0                        0.017182\n",
       "                                             350.0                        0.019244\n",
       "                                             450.0                        0.022222"
      ]
     },
     "execution_count": 90,
     "metadata": {},
     "output_type": "execute_result"
    }
   ],
   "source": [
    "cpm =\\\n",
    "    connection_probability_measurement[\"BlueBrainCircuitModelMockLight\"]\n",
    "cpm.head()"
   ]
  },
  {
   "cell_type": "code",
   "execution_count": 93,
   "metadata": {
    "ExecuteTime": {
     "end_time": "2019-11-12T14:41:26.572009Z",
     "start_time": "2019-11-12T14:41:24.217178Z"
    }
   },
   "outputs": [
    {
     "data": {
      "image/png": "[encoded data removed]",
      "text/plain": [
       "<Figure size 432x288 with 1 Axes>"
      ]
     },
     "metadata": {
      "needs_background": "light"
     },
     "output_type": "display_data"
    }
   ],
   "source": [
    "import seaborn; seaborn.set\n",
    "axes = seaborn.lineplot(\n",
    "    y=\"connection_probability\",\n",
    "    x=\"soma_distance\",\n",
    "    hue=(\"post_synaptic\", \"mtype\"),\n",
    "    data=cpm.reset_index())"
   ]
  },
  {
   "cell_type": "code",
   "execution_count": 94,
   "metadata": {
    "ExecuteTime": {
     "end_time": "2019-11-12T14:41:29.310819Z",
     "start_time": "2019-11-12T14:41:28.817224Z"
    }
   },
   "outputs": [
    {
     "data": {
      "text/plain": [
       "<seaborn.axisgrid.FacetGrid at 0x128055bd0>"
      ]
     },
     "execution_count": 94,
     "metadata": {},
     "output_type": "execute_result"
    },
    {
     "data": {
      "image/png": "[encoded data removed]",
      "text/plain": [
       "<Figure size 344.875x216 with 1 Axes>"
      ]
     },
     "metadata": {
      "needs_background": "light"
     },
     "output_type": "display_data"
    }
   ],
   "source": [
    "import matplotlib.pyplot as plt\n",
    "graphic =\\\n",
    "    seaborn.FacetGrid(\n",
    "        cpm.reset_index(),\n",
    "        col=None,#\"post_synaptic_mtype\",\n",
    "        hue=(\"pre_synaptic\", \"mtype\"))\n",
    "graphic.map(plt.hist, \"connection_probability\")\n",
    "graphic.add_legend()"
   ]
  },
  {
   "cell_type": "code",
   "execution_count": 101,
   "metadata": {
    "ExecuteTime": {
     "end_time": "2019-11-12T14:45:27.705485Z",
     "start_time": "2019-11-12T14:45:27.660198Z"
    }
   },
   "outputs": [
    {
     "ename": "ValueError",
     "evalue": "num must be 1 <= num <= 0, not 1",
     "output_type": "error",
     "traceback": [
      "\u001b[0;31m---------------------------------------------------------------------------\u001b[0m",
      "\u001b[0;31mValueError\u001b[0m                                Traceback (most recent call last)",
      "\u001b[0;32m<ipython-input-101-125934259d5a>\u001b[0m in \u001b[0;36m<module>\u001b[0;34m\u001b[0m\n\u001b[1;32m      4\u001b[0m         \u001b[0mhue\u001b[0m\u001b[0;34m=\u001b[0m\u001b[0;34m(\u001b[0m\u001b[0;34m\"pre_synaptic\"\u001b[0m\u001b[0;34m,\u001b[0m \u001b[0;34m\"mtype\"\u001b[0m\u001b[0;34m)\u001b[0m\u001b[0;34m,\u001b[0m\u001b[0;34m\u001b[0m\u001b[0;34m\u001b[0m\u001b[0m\n\u001b[1;32m      5\u001b[0m         \u001b[0;31m#col=(\"post_synaptic\", \"mtype\"),\u001b[0m\u001b[0;34m\u001b[0m\u001b[0;34m\u001b[0m\u001b[0;34m\u001b[0m\u001b[0m\n\u001b[0;32m----> 6\u001b[0;31m         col_wrap=3, height=3.0)\n\u001b[0m\u001b[1;32m      7\u001b[0m graphic.map(\n\u001b[1;32m      8\u001b[0m     \u001b[0mseaborn\u001b[0m\u001b[0;34m.\u001b[0m\u001b[0mlineplot\u001b[0m\u001b[0;34m,\u001b[0m\u001b[0;34m\u001b[0m\u001b[0;34m\u001b[0m\u001b[0m\n",
      "\u001b[0;32m~/.vmgr_repo/py37/lib/python3.7/site-packages/seaborn/axisgrid.py\u001b[0m in \u001b[0;36m__init__\u001b[0;34m(self, data, row, col, hue, col_wrap, sharex, sharey, height, aspect, palette, row_order, col_order, hue_order, hue_kws, dropna, legend_out, despine, margin_titles, xlim, ylim, subplot_kws, gridspec_kws, size)\u001b[0m\n\u001b[1;32m    320\u001b[0m             \u001b[0mfig\u001b[0m \u001b[0;34m=\u001b[0m \u001b[0mplt\u001b[0m\u001b[0;34m.\u001b[0m\u001b[0mfigure\u001b[0m\u001b[0;34m(\u001b[0m\u001b[0mfigsize\u001b[0m\u001b[0;34m=\u001b[0m\u001b[0mfigsize\u001b[0m\u001b[0;34m)\u001b[0m\u001b[0;34m\u001b[0m\u001b[0;34m\u001b[0m\u001b[0m\n\u001b[1;32m    321\u001b[0m             \u001b[0maxes\u001b[0m \u001b[0;34m=\u001b[0m \u001b[0mnp\u001b[0m\u001b[0;34m.\u001b[0m\u001b[0mempty\u001b[0m\u001b[0;34m(\u001b[0m\u001b[0mn_axes\u001b[0m\u001b[0;34m,\u001b[0m \u001b[0mobject\u001b[0m\u001b[0;34m)\u001b[0m\u001b[0;34m\u001b[0m\u001b[0;34m\u001b[0m\u001b[0m\n\u001b[0;32m--> 322\u001b[0;31m             \u001b[0maxes\u001b[0m\u001b[0;34m[\u001b[0m\u001b[0;36m0\u001b[0m\u001b[0;34m]\u001b[0m \u001b[0;34m=\u001b[0m \u001b[0mfig\u001b[0m\u001b[0;34m.\u001b[0m\u001b[0madd_subplot\u001b[0m\u001b[0;34m(\u001b[0m\u001b[0mnrow\u001b[0m\u001b[0;34m,\u001b[0m \u001b[0mncol\u001b[0m\u001b[0;34m,\u001b[0m \u001b[0;36m1\u001b[0m\u001b[0;34m,\u001b[0m \u001b[0;34m**\u001b[0m\u001b[0msubplot_kws\u001b[0m\u001b[0;34m)\u001b[0m\u001b[0;34m\u001b[0m\u001b[0;34m\u001b[0m\u001b[0m\n\u001b[0m\u001b[1;32m    323\u001b[0m             \u001b[0;32mif\u001b[0m \u001b[0msharex\u001b[0m\u001b[0;34m:\u001b[0m\u001b[0;34m\u001b[0m\u001b[0;34m\u001b[0m\u001b[0m\n\u001b[1;32m    324\u001b[0m                 \u001b[0msubplot_kws\u001b[0m\u001b[0;34m[\u001b[0m\u001b[0;34m\"sharex\"\u001b[0m\u001b[0;34m]\u001b[0m \u001b[0;34m=\u001b[0m \u001b[0maxes\u001b[0m\u001b[0;34m[\u001b[0m\u001b[0;36m0\u001b[0m\u001b[0;34m]\u001b[0m\u001b[0;34m\u001b[0m\u001b[0;34m\u001b[0m\u001b[0m\n",
      "\u001b[0;32m~/.vmgr_repo/py37/lib/python3.7/site-packages/matplotlib/figure.py\u001b[0m in \u001b[0;36madd_subplot\u001b[0;34m(self, *args, **kwargs)\u001b[0m\n\u001b[1;32m   1412\u001b[0m                     \u001b[0mself\u001b[0m\u001b[0;34m.\u001b[0m\u001b[0m_axstack\u001b[0m\u001b[0;34m.\u001b[0m\u001b[0mremove\u001b[0m\u001b[0;34m(\u001b[0m\u001b[0max\u001b[0m\u001b[0;34m)\u001b[0m\u001b[0;34m\u001b[0m\u001b[0;34m\u001b[0m\u001b[0m\n\u001b[1;32m   1413\u001b[0m \u001b[0;34m\u001b[0m\u001b[0m\n\u001b[0;32m-> 1414\u001b[0;31m             \u001b[0ma\u001b[0m \u001b[0;34m=\u001b[0m \u001b[0msubplot_class_factory\u001b[0m\u001b[0;34m(\u001b[0m\u001b[0mprojection_class\u001b[0m\u001b[0;34m)\u001b[0m\u001b[0;34m(\u001b[0m\u001b[0mself\u001b[0m\u001b[0;34m,\u001b[0m \u001b[0;34m*\u001b[0m\u001b[0margs\u001b[0m\u001b[0;34m,\u001b[0m \u001b[0;34m**\u001b[0m\u001b[0mkwargs\u001b[0m\u001b[0;34m)\u001b[0m\u001b[0;34m\u001b[0m\u001b[0;34m\u001b[0m\u001b[0m\n\u001b[0m\u001b[1;32m   1415\u001b[0m \u001b[0;34m\u001b[0m\u001b[0m\n\u001b[1;32m   1416\u001b[0m         \u001b[0;32mreturn\u001b[0m \u001b[0mself\u001b[0m\u001b[0;34m.\u001b[0m\u001b[0m_add_axes_internal\u001b[0m\u001b[0;34m(\u001b[0m\u001b[0mkey\u001b[0m\u001b[0;34m,\u001b[0m \u001b[0ma\u001b[0m\u001b[0;34m)\u001b[0m\u001b[0;34m\u001b[0m\u001b[0;34m\u001b[0m\u001b[0m\n",
      "\u001b[0;32m~/.vmgr_repo/py37/lib/python3.7/site-packages/matplotlib/axes/_subplots.py\u001b[0m in \u001b[0;36m__init__\u001b[0;34m(self, fig, *args, **kwargs)\u001b[0m\n\u001b[1;32m     57\u001b[0m                 \u001b[0;32mif\u001b[0m \u001b[0mnum\u001b[0m \u001b[0;34m<\u001b[0m \u001b[0;36m1\u001b[0m \u001b[0;32mor\u001b[0m \u001b[0mnum\u001b[0m \u001b[0;34m>\u001b[0m \u001b[0mrows\u001b[0m\u001b[0;34m*\u001b[0m\u001b[0mcols\u001b[0m\u001b[0;34m:\u001b[0m\u001b[0;34m\u001b[0m\u001b[0;34m\u001b[0m\u001b[0m\n\u001b[1;32m     58\u001b[0m                     raise ValueError(\n\u001b[0;32m---> 59\u001b[0;31m                         f\"num must be 1 <= num <= {rows*cols}, not {num}\")\n\u001b[0m\u001b[1;32m     60\u001b[0m                 self._subplotspec = GridSpec(\n\u001b[1;32m     61\u001b[0m                         rows, cols, figure=self.figure)[int(num) - 1]\n",
      "\u001b[0;31mValueError\u001b[0m: num must be 1 <= num <= 0, not 1"
     ]
    },
    {
     "data": {
      "text/plain": [
       "<Figure size 648x0 with 0 Axes>"
      ]
     },
     "metadata": {},
     "output_type": "display_data"
    }
   ],
   "source": [
    "graphic =\\\n",
    "    seaborn.FacetGrid(\n",
    "        cpm.reset_index(),\n",
    "        hue=(\"pre_synaptic\", \"mtype\"),\n",
    "        #col=(\"post_synaptic\", \"mtype\"),\n",
    "        col_wrap=3, height=3.0)\n",
    "graphic.map(\n",
    "    seaborn.lineplot,\n",
    "    \"soma_distance\",\n",
    "    \"connection_probability\")\n",
    "graphic.add_legend()"
   ]
  },
  {
   "cell_type": "code",
   "execution_count": null,
   "metadata": {
    "ExecuteTime": {
     "end_time": "2019-11-12T14:41:42.119459Z",
     "start_time": "2019-11-12T14:41:34.792Z"
    }
   },
   "outputs": [],
   "source": [
    "graphic =\\\n",
    "    seaborn.FacetGrid(\n",
    "        plotting_data,\n",
    "        col=\"post_synaptic_mtype\",\n",
    "        hue=\"pre_synaptic_mtype\")\n",
    "        #legend_out=True)\n",
    "graphic.map(\n",
    "    seaborn.lineplot, \n",
    "    \"soma_distance\",\n",
    "    \"connection_probability\",\n",
    "    alpha=0.7)\n",
    "graphic.add_legend()"
   ]
  },
  {
   "cell_type": "code",
   "execution_count": null,
   "metadata": {
    "ExecuteTime": {
     "end_time": "2019-11-11T21:01:17.790281Z",
     "start_time": "2019-11-11T21:01:12.935Z"
    }
   },
   "outputs": [],
   "source": [
    "from dmt.tk.plotting.lines import LinePlot\n",
    "line_plot = LinePlot(\n",
    "    xvar=\"soma_distance\",\n",
    "    xlabel=\"Soma Distance\",\n",
    "    yvar=\"connection_probability\",\n",
    "    ylabel=\"Connection Probability\",\n",
    "    gvar=\"pre_synaptic_mtype\",\n",
    "    fvar=\"post_synaptic_mtype\")"
   ]
  },
  {
   "cell_type": "code",
   "execution_count": null,
   "metadata": {
    "ExecuteTime": {
     "end_time": "2019-11-11T21:01:17.791038Z",
     "start_time": "2019-11-11T21:01:12.937Z"
    }
   },
   "outputs": [],
   "source": [
    "line_plot.get_figure({\n",
    "    \"0\": measured_values.reset_index().assign(\n",
    "        soma_distance=lambda df: df.soma_distance.apply(np.mean)\n",
    "    ).set_index(\n",
    "        [\"pre_synaptic_mtype\", \"post_synaptic_mtype\", \"soma_distance\"])})"
   ]
  },
  {
   "cell_type": "code",
   "execution_count": null,
   "metadata": {
    "ExecuteTime": {
     "end_time": "2019-11-11T21:01:17.791919Z",
     "start_time": "2019-11-11T21:01:12.940Z"
    }
   },
   "outputs": [],
   "source": [
    "result = conn_prob_sd(\n",
    "    pathway=CellType.pathway(\n",
    "        {\"mtype\": \"L23_MC\"},\n",
    "        {\"mtype\": \"L23_MC\"}))\n",
    "result"
   ]
  },
  {
   "cell_type": "code",
   "execution_count": null,
   "metadata": {
    "ExecuteTime": {
     "end_time": "2019-11-11T21:01:17.792687Z",
     "start_time": "2019-11-11T21:01:12.944Z"
    }
   },
   "outputs": [],
   "source": [
    "result.reset_index(\n",
    ").assign(\n",
    "    soma_distance=lambda df: df.soma_distance.apply(np.mean)\n",
    ").set_index(\n",
    "    \"soma_distance\"\n",
    ").connection_probability"
   ]
  },
  {
   "cell_type": "code",
   "execution_count": 30,
   "metadata": {
    "ExecuteTime": {
     "end_time": "2019-11-14T12:41:37.603761Z",
     "start_time": "2019-11-14T12:41:37.596243Z"
    }
   },
   "outputs": [
    {
     "name": "stderr",
     "output_type": "stream",
     "text": [
      "/Users/vishalsoodmuchu/.vmgr_repo/py37/lib/python3.7/site-packages/ipykernel_launcher.py:5: FutureWarning: set_value is deprecated and will be removed in a future release. Please use .at[] or .iat[] accessors instead\n",
      "  \"\"\"\n"
     ]
    },
    {
     "data": {
      "text/plain": [
       "x     1\n",
       "y     2\n",
       "z    10\n",
       "dtype: int64"
      ]
     },
     "execution_count": 30,
     "metadata": {},
     "output_type": "execute_result"
    }
   ],
   "source": [
    "pd.Series({\n",
    "    \"x\": 1,\n",
    "    \"y\": 2}\n",
    ").set_value(\n",
    "    \"z\", 10)"
   ]
  }
 ],
 "metadata": {
  "kernelspec": {
   "display_name": "Python 3",
   "language": "python",
   "name": "python3"
  },
  "language_info": {
   "codemirror_mode": {
    "name": "ipython",
    "version": 3
   },
   "file_extension": ".py",
   "mimetype": "text/x-python",
   "name": "python",
   "nbconvert_exporter": "python",
   "pygments_lexer": "ipython3",
   "version": "3.7.4"
  },
  "latex_envs": {
   "LaTeX_envs_menu_present": true,
   "autoclose": false,
   "autocomplete": true,
   "bibliofile": "biblio.bib",
   "cite_by": "apalike",
   "current_citInitial": 1,
   "eqLabelWithNumbers": true,
   "eqNumInitial": 1,
   "hotkeys": {
    "equation": "Ctrl-E",
    "itemize": "Ctrl-I"
   },
   "labels_anchors": false,
   "latex_user_defs": false,
   "report_style_numbering": false,
   "user_envs_cfg": false
  },
  "toc": {
   "base_numbering": 1,
   "nav_menu": {},
   "number_sections": true,
   "sideBar": true,
   "skip_h1_title": false,
   "title_cell": "Table of Contents",
   "title_sidebar": "Contents",
   "toc_cell": false,
   "toc_position": {},
   "toc_section_display": true,
   "toc_window_display": false
  },
  "varInspector": {
   "cols": {
    "lenName": 16,
    "lenType": 16,
    "lenVar": 40
   },
   "kernels_config": {
    "python": {
     "delete_cmd_postfix": "",
     "delete_cmd_prefix": "del ",
     "library": "var_list.py",
     "varRefreshCmd": "print(var_dic_list())"
    },
    "r": {
     "delete_cmd_postfix": ") ",
     "delete_cmd_prefix": "rm(",
     "library": "var_list.r",
     "varRefreshCmd": "cat(var_dic_list()) "
    }
   },
   "types_to_exclude": [
    "module",
    "function",
    "builtin_function_or_method",
    "instance",
    "_Feature"
   ],
   "window_display": false
  }
 },
 "nbformat": 4,
 "nbformat_minor": 2
}
