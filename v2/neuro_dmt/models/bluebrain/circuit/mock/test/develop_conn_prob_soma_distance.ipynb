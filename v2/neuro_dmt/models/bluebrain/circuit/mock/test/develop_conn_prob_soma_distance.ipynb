{
 "cells": [
  {
   "cell_type": "code",
   "execution_count": 3,
   "metadata": {
    "ExecuteTime": {
     "end_time": "2019-11-10T19:12:47.290257Z",
     "start_time": "2019-11-10T19:12:46.564225Z"
    }
   },
   "outputs": [],
   "source": [
    "import os\n",
    "os.environ[\"LOGLEVEL\"] = \"PROD\"\n",
    "\n",
    "import numpy as np\n",
    "import pandas as pd\n",
    "from neuro_dmt.models.bluebrain.circuit.model import BlueBrainCircuitModel\n",
    "from neuro_dmt.models.bluebrain.circuit.mock.test.mock_circuit_light\\\n",
    "    import circuit_composition, circuit_connectivity\n",
    "from neuro_dmt.models.bluebrain.circuit.mock.circuit import\\\n",
    "    MockCircuit"
   ]
  },
  {
   "cell_type": "code",
   "execution_count": 4,
   "metadata": {
    "ExecuteTime": {
     "end_time": "2019-11-10T19:13:04.420163Z",
     "start_time": "2019-11-10T19:12:47.819101Z"
    }
   },
   "outputs": [],
   "source": [
    "mock_circuit =\\\n",
    "    MockCircuit.build(\n",
    "        circuit_composition,\n",
    "        circuit_connectivity)\n",
    "circuit_model =\\\n",
    "    BlueBrainCircuitModel(\n",
    "        mock_circuit,\n",
    "        label=\"BlueBrainCircuitModelMock\")\n",
    "conn_prob = circuit_model.connection_probability"
   ]
  },
  {
   "cell_type": "code",
   "execution_count": 6,
   "metadata": {
    "ExecuteTime": {
     "end_time": "2019-11-10T19:13:35.950611Z",
     "start_time": "2019-11-10T19:13:34.389976Z"
    },
    "scrolled": true
   },
   "outputs": [
    {
     "data": {
      "text/plain": [
       "pairs_total               10000.0000\n",
       "pairs_connected             172.0000\n",
       "connection_probability        0.0172\n",
       "Name: 0, dtype: float64"
      ]
     },
     "execution_count": 6,
     "metadata": {},
     "output_type": "execute_result"
    }
   ],
   "source": [
    "pre_synaptic_cells =\\\n",
    "    circuit_model.cells\\\n",
    "                 .sample(n=100)\\\n",
    "                 .rename(columns=conn_prob._at(\"pre_synaptic\"))\n",
    "post_synaptic_cells =\\\n",
    "    circuit_model.cells\\\n",
    "                 .sample(n=100)\\\n",
    "                 .rename(columns=conn_prob._at(\"post_synaptic\"))\n",
    "conn_prob.get_summary(\n",
    "    pre_synaptic_cell_group=pre_synaptic_cells,\n",
    "    post_synaptic_cell_group=post_synaptic_cells)"
   ]
  },
  {
   "cell_type": "code",
   "execution_count": 7,
   "metadata": {
    "ExecuteTime": {
     "end_time": "2019-11-10T19:13:36.583192Z",
     "start_time": "2019-11-10T19:13:36.576951Z"
    }
   },
   "outputs": [],
   "source": [
    "from neuro_dmt.models.bluebrain.circuit.model.pathway import\\\n",
    "    ConnectionProbabilityBySomaDistance\n",
    "conn_prob_sd = ConnectionProbabilityBySomaDistance(circuit_model=circuit_model)"
   ]
  },
  {
   "cell_type": "code",
   "execution_count": 8,
   "metadata": {
    "ExecuteTime": {
     "end_time": "2019-11-10T19:13:39.232628Z",
     "start_time": "2019-11-10T19:13:37.351330Z"
    }
   },
   "outputs": [
    {
     "data": {
      "text/plain": [
       "soma_distance\n",
       "(0.0, 100.0)        0.033742\n",
       "(100.0, 200.0)      0.019302\n",
       "(200.0, 300.0)      0.014825\n",
       "(300.0, 400.0)      0.013834\n",
       "(400.0, 500.0)      0.015873\n",
       "(500.0, 600.0)      0.022919\n",
       "(600.0, 700.0)      0.015796\n",
       "(700.0, 800.0)      0.024590\n",
       "(800.0, 900.0)      0.011024\n",
       "(900.0, 1000.0)     0.012868\n",
       "(1000.0, 1100.0)    0.019108\n",
       "(1100.0, 1200.0)    0.012077\n",
       "(1200.0, 1300.0)    0.006173\n",
       "(1300.0, 1400.0)    0.050633\n",
       "(1400.0, 1500.0)    0.000000\n",
       "(1500.0, 1600.0)    0.010526\n",
       "(1600.0, 1700.0)    0.000000\n",
       "(1700.0, 1800.0)    0.031250\n",
       "(1800.0, 1900.0)    0.000000\n",
       "Name: connection_probability, dtype: float64"
      ]
     },
     "execution_count": 8,
     "metadata": {},
     "output_type": "execute_result"
    }
   ],
   "source": [
    "conn_prob_sd(\n",
    "    pre_synaptic_cell_group=pre_synaptic_cells,\n",
    "    post_synaptic_cell_group=post_synaptic_cells)"
   ]
  },
  {
   "cell_type": "code",
   "execution_count": 9,
   "metadata": {
    "ExecuteTime": {
     "end_time": "2019-11-10T19:13:42.016277Z",
     "start_time": "2019-11-10T19:13:39.796944Z"
    }
   },
   "outputs": [],
   "source": [
    "pairs = conn_prob_sd.get_pairs(\n",
    "    pre_synaptic_cells=pre_synaptic_cells,\n",
    "    post_synaptic_cells=post_synaptic_cells)\n",
    "pairs_df = pd.concat([df for df in pairs])"
   ]
  },
  {
   "cell_type": "code",
   "execution_count": 10,
   "metadata": {
    "ExecuteTime": {
     "end_time": "2019-11-10T19:13:43.046197Z",
     "start_time": "2019-11-10T19:13:43.019283Z"
    }
   },
   "outputs": [
    {
     "data": {
      "text/html": [
       "<div>\n",
       "<style scoped>\n",
       "    .dataframe tbody tr th:only-of-type {\n",
       "        vertical-align: middle;\n",
       "    }\n",
       "\n",
       "    .dataframe tbody tr th {\n",
       "        vertical-align: top;\n",
       "    }\n",
       "\n",
       "    .dataframe thead tr th {\n",
       "        text-align: left;\n",
       "    }\n",
       "\n",
       "    .dataframe thead tr:last-of-type th {\n",
       "        text-align: right;\n",
       "    }\n",
       "</style>\n",
       "<table border=\"1\" class=\"dataframe\">\n",
       "  <thead>\n",
       "    <tr>\n",
       "      <th></th>\n",
       "      <th></th>\n",
       "      <th></th>\n",
       "      <th colspan=\"2\" halign=\"left\">pairs</th>\n",
       "    </tr>\n",
       "    <tr>\n",
       "      <th></th>\n",
       "      <th></th>\n",
       "      <th></th>\n",
       "      <th>size</th>\n",
       "      <th>sum</th>\n",
       "    </tr>\n",
       "    <tr>\n",
       "      <th>pre_synaptic_mtype</th>\n",
       "      <th>post_synaptic_mtype</th>\n",
       "      <th>soma_distance</th>\n",
       "      <th></th>\n",
       "      <th></th>\n",
       "    </tr>\n",
       "  </thead>\n",
       "  <tbody>\n",
       "    <tr>\n",
       "      <th rowspan=\"5\" valign=\"top\">L1_SLAC</th>\n",
       "      <th rowspan=\"2\" valign=\"top\">L1_DAC</th>\n",
       "      <th>(100.0, 200.0)</th>\n",
       "      <td>2</td>\n",
       "      <td>0.0</td>\n",
       "    </tr>\n",
       "    <tr>\n",
       "      <th>(200.0, 300.0)</th>\n",
       "      <td>1</td>\n",
       "      <td>0.0</td>\n",
       "    </tr>\n",
       "    <tr>\n",
       "      <th rowspan=\"2\" valign=\"top\">L23_ChC</th>\n",
       "      <th>(100.0, 200.0)</th>\n",
       "      <td>1</td>\n",
       "      <td>0.0</td>\n",
       "    </tr>\n",
       "    <tr>\n",
       "      <th>(200.0, 300.0)</th>\n",
       "      <td>1</td>\n",
       "      <td>0.0</td>\n",
       "    </tr>\n",
       "    <tr>\n",
       "      <th>L23_MC</th>\n",
       "      <th>(100.0, 200.0)</th>\n",
       "      <td>1</td>\n",
       "      <td>0.0</td>\n",
       "    </tr>\n",
       "  </tbody>\n",
       "</table>\n",
       "</div>"
      ],
      "text/plain": [
       "                                                      pairs     \n",
       "                                                       size  sum\n",
       "pre_synaptic_mtype post_synaptic_mtype soma_distance            \n",
       "L1_SLAC            L1_DAC              (100.0, 200.0)     2  0.0\n",
       "                                       (200.0, 300.0)     1  0.0\n",
       "                   L23_ChC             (100.0, 200.0)     1  0.0\n",
       "                                       (200.0, 300.0)     1  0.0\n",
       "                   L23_MC              (100.0, 200.0)     1  0.0"
      ]
     },
     "execution_count": 10,
     "metadata": {},
     "output_type": "execute_result"
    }
   ],
   "source": [
    "pre_synaptic_group_columns = [\"pre_synaptic_mtype\"]\n",
    "post_synaptic_group_columns = [\"post_synaptic_mtype\"]\n",
    "result = pairs_df[\n",
    "    [\"pairs\", \"soma_distance\"] + pre_synaptic_group_columns + post_synaptic_group_columns\n",
    "].groupby(\n",
    "    pre_synaptic_group_columns\n",
    "    + post_synaptic_group_columns\n",
    "    + [\"soma_distance\"]\n",
    ").agg([\"size\", \"sum\"])\n",
    "result.head()"
   ]
  },
  {
   "cell_type": "code",
   "execution_count": 11,
   "metadata": {
    "ExecuteTime": {
     "end_time": "2019-11-10T19:13:44.251998Z",
     "start_time": "2019-11-10T19:13:44.240395Z"
    }
   },
   "outputs": [
    {
     "data": {
      "text/plain": [
       "0.0172"
      ]
     },
     "execution_count": 11,
     "metadata": {},
     "output_type": "execute_result"
    }
   ],
   "source": [
    "result = pairs_df[\n",
    "    [\"pairs\"]\n",
    "].assign(\n",
    "    group=0\n",
    ").groupby(\n",
    "    [\"group\"]\n",
    ").agg(\n",
    "    [\"sum\", \"size\"]\n",
    ").pairs.rename(\n",
    "    columns=conn_prob.columns\n",
    ")\n",
    "conn_prob.definition(result.loc[0])"
   ]
  },
  {
   "cell_type": "code",
   "execution_count": 12,
   "metadata": {
    "ExecuteTime": {
     "end_time": "2019-11-10T19:13:45.633962Z",
     "start_time": "2019-11-10T19:13:45.606516Z"
    }
   },
   "outputs": [
    {
     "data": {
      "text/plain": [
       "soma_distance\n",
       "(0.0, 100.0)        0.033742\n",
       "(100.0, 200.0)      0.019302\n",
       "(200.0, 300.0)      0.014825\n",
       "(300.0, 400.0)      0.013834\n",
       "(400.0, 500.0)      0.015873\n",
       "(500.0, 600.0)      0.022919\n",
       "(600.0, 700.0)      0.015796\n",
       "(700.0, 800.0)      0.024590\n",
       "(800.0, 900.0)      0.011024\n",
       "(900.0, 1000.0)     0.012868\n",
       "(1000.0, 1100.0)    0.019108\n",
       "(1100.0, 1200.0)    0.012077\n",
       "(1200.0, 1300.0)    0.006173\n",
       "(1300.0, 1400.0)    0.050633\n",
       "(1400.0, 1500.0)    0.000000\n",
       "(1500.0, 1600.0)    0.010526\n",
       "(1600.0, 1700.0)    0.000000\n",
       "(1700.0, 1800.0)    0.031250\n",
       "(1800.0, 1900.0)    0.000000\n",
       "dtype: float64"
      ]
     },
     "execution_count": 12,
     "metadata": {},
     "output_type": "execute_result"
    }
   ],
   "source": [
    "result = pairs_df[\n",
    "    [\"soma_distance\"] + [\"pairs\"]\n",
    "].assign(\n",
    "    group=0\n",
    ").groupby(\n",
    "    [\"group\", \"soma_distance\"]\n",
    ").agg(\n",
    "    [\"sum\", \"size\"]\n",
    ").pairs.rename(\n",
    "    columns=conn_prob.columns\n",
    ")\n",
    "conn_prob.definition(result.loc[0])"
   ]
  },
  {
   "cell_type": "code",
   "execution_count": 13,
   "metadata": {
    "ExecuteTime": {
     "end_time": "2019-11-10T19:13:47.189273Z",
     "start_time": "2019-11-10T19:13:47.151107Z"
    }
   },
   "outputs": [
    {
     "data": {
      "text/plain": [
       "soma_distance\n",
       "(0.0, 100.0)        0.033742\n",
       "(100.0, 200.0)      0.019302\n",
       "(200.0, 300.0)      0.014825\n",
       "(300.0, 400.0)      0.013834\n",
       "(400.0, 500.0)      0.015873\n",
       "(500.0, 600.0)      0.022919\n",
       "(600.0, 700.0)      0.015796\n",
       "(700.0, 800.0)      0.024590\n",
       "(800.0, 900.0)      0.011024\n",
       "(900.0, 1000.0)     0.012868\n",
       "(1000.0, 1100.0)    0.019108\n",
       "(1100.0, 1200.0)    0.012077\n",
       "(1200.0, 1300.0)    0.006173\n",
       "(1300.0, 1400.0)    0.050633\n",
       "(1400.0, 1500.0)    0.000000\n",
       "(1500.0, 1600.0)    0.010526\n",
       "(1600.0, 1700.0)    0.000000\n",
       "(1700.0, 1800.0)    0.031250\n",
       "(1800.0, 1900.0)    0.000000\n",
       "Name: connection_probability, dtype: float64"
      ]
     },
     "execution_count": 13,
     "metadata": {},
     "output_type": "execute_result"
    }
   ],
   "source": [
    "result = pairs_df[\n",
    "    [\"soma_distance\"] + [\"pairs\"]\n",
    "].assign(group=0\n",
    ").groupby(\n",
    "    [\"group\", \"soma_distance\"]\n",
    ").agg(\n",
    "    [\"sum\", \"size\"]\n",
    ").pairs.rename(\n",
    "    columns=conn_prob.columns\n",
    ").assign(\n",
    "    **{conn_prob.phenomenon: conn_prob.definition}\n",
    ").loc[0][\n",
    "    conn_prob_sd.measurement_label\n",
    "]\n",
    "result"
   ]
  },
  {
   "cell_type": "code",
   "execution_count": 15,
   "metadata": {
    "ExecuteTime": {
     "end_time": "2019-11-10T19:13:50.195405Z",
     "start_time": "2019-11-10T19:13:50.173132Z"
    }
   },
   "outputs": [
    {
     "data": {
      "text/plain": [
       "soma_distance\n",
       "(0.0, 100.0)      0.033742\n",
       "(100.0, 200.0)    0.019302\n",
       "(200.0, 300.0)    0.014825\n",
       "(300.0, 400.0)    0.013834\n",
       "(400.0, 500.0)    0.015873\n",
       "Name: connection_probability, dtype: float64"
      ]
     },
     "execution_count": 15,
     "metadata": {},
     "output_type": "execute_result"
    }
   ],
   "source": [
    "result = pairs_df[\n",
    "    [\"pairs\", \"soma_distance\"]\n",
    "].groupby(\n",
    "    [\"soma_distance\"]\n",
    ").agg(\n",
    "    [\"sum\", \"size\"]\n",
    ").pairs.rename(\n",
    "    columns=conn_prob_sd.columns\n",
    ").assign(**{\n",
    "    conn_prob_sd.phenomenon: conn_prob_sd.definition})\n",
    "result[\n",
    "    conn_prob_sd.phenomenon\n",
    "].head()"
   ]
  },
  {
   "cell_type": "code",
   "execution_count": 16,
   "metadata": {
    "ExecuteTime": {
     "end_time": "2019-11-10T19:13:51.880910Z",
     "start_time": "2019-11-10T19:13:51.866521Z"
    }
   },
   "outputs": [
    {
     "data": {
      "text/plain": [
       "size    10000\n",
       "sum       172\n",
       "dtype: int64"
      ]
     },
     "execution_count": 16,
     "metadata": {},
     "output_type": "execute_result"
    }
   ],
   "source": [
    "result = pairs_df[\n",
    "    [\"pairs\"]\n",
    "].agg(\n",
    "    conn_prob.aggregators\n",
    ").pairs.rename(\n",
    "    columns=conn_prob.columns\n",
    ")\n",
    "result"
   ]
  },
  {
   "cell_type": "code",
   "execution_count": 17,
   "metadata": {
    "ExecuteTime": {
     "end_time": "2019-11-10T19:13:53.026240Z",
     "start_time": "2019-11-10T19:13:53.011567Z"
    }
   },
   "outputs": [
    {
     "data": {
      "text/plain": [
       "soma_distance\n",
       "(0.0, 100.0)        0.033742\n",
       "(100.0, 200.0)      0.019302\n",
       "(200.0, 300.0)      0.014825\n",
       "(300.0, 400.0)      0.013834\n",
       "(400.0, 500.0)      0.015873\n",
       "(500.0, 600.0)      0.022919\n",
       "(600.0, 700.0)      0.015796\n",
       "(700.0, 800.0)      0.024590\n",
       "(800.0, 900.0)      0.011024\n",
       "(900.0, 1000.0)     0.012868\n",
       "(1000.0, 1100.0)    0.019108\n",
       "(1100.0, 1200.0)    0.012077\n",
       "(1200.0, 1300.0)    0.006173\n",
       "(1300.0, 1400.0)    0.050633\n",
       "(1400.0, 1500.0)    0.000000\n",
       "(1500.0, 1600.0)    0.010526\n",
       "(1600.0, 1700.0)    0.000000\n",
       "(1700.0, 1800.0)    0.031250\n",
       "(1800.0, 1900.0)    0.000000\n",
       "Name: connection_probability, dtype: float64"
      ]
     },
     "execution_count": 17,
     "metadata": {},
     "output_type": "execute_result"
    }
   ],
   "source": [
    "result = pairs_df[\n",
    "    [\"pairs\", \"soma_distance\"]\n",
    "].groupby(\n",
    "    [\"soma_distance\"]\n",
    ").agg(\n",
    "    [\"sum\", \"size\"]\n",
    ").pairs.rename(\n",
    "    columns=conn_prob.columns\n",
    ").assign(**{\n",
    "    conn_prob_sd.phenomenon: conn_prob_sd.definition})\n",
    "\n",
    "result[conn_prob_sd.measurement_label]\n"
   ]
  },
  {
   "cell_type": "code",
   "execution_count": 18,
   "metadata": {
    "ExecuteTime": {
     "end_time": "2019-11-10T19:13:56.689701Z",
     "start_time": "2019-11-10T19:13:54.135827Z"
    }
   },
   "outputs": [],
   "source": [
    "from neuro_dmt.models.bluebrain.circuit.model.pathway import GroupByVariables\n",
    "\n",
    "result_dataframe_groupby = conn_prob_sd(\n",
    "    pre_synaptic_cell_group=circuit_model.cells.sample(n=100),\n",
    "    post_synaptic_cell_group=circuit_model.cells.sample(n=100),\n",
    "    groupby=GroupByVariables(frozenset({\"mtype\",}), frozenset({\"mtype\",})))"
   ]
  },
  {
   "cell_type": "code",
   "execution_count": 19,
   "metadata": {
    "ExecuteTime": {
     "end_time": "2019-11-10T19:13:59.912816Z",
     "start_time": "2019-11-10T19:13:58.047323Z"
    }
   },
   "outputs": [],
   "source": [
    "from neuro_dmt.models.bluebrain.circuit.model.cell_type import CellType\n",
    "result_series = conn_prob_sd(\n",
    "    pathway=CellType.pathway(\n",
    "        {\"mtype\": \"L6_UPC\"},\n",
    "        {\"mtype\": \"L6_TPC:A\"}))"
   ]
  },
  {
   "cell_type": "code",
   "execution_count": 20,
   "metadata": {
    "ExecuteTime": {
     "end_time": "2019-11-10T19:14:01.289314Z",
     "start_time": "2019-11-10T19:14:01.283821Z"
    }
   },
   "outputs": [
    {
     "data": {
      "text/plain": [
       "soma_distance\n",
       "(0.0, 100.0)      0.047830\n",
       "(100.0, 200.0)    0.454107\n",
       "(200.0, 300.0)    0.845948\n",
       "(300.0, 400.0)    0.307415\n",
       "(400.0, 500.0)    0.829429\n",
       "(500.0, 600.0)    0.327472\n",
       "(600.0, 700.0)    0.023862\n",
       "Name: connection_probability, dtype: float64"
      ]
     },
     "execution_count": 20,
     "metadata": {},
     "output_type": "execute_result"
    }
   ],
   "source": [
    "result_series.apply(\n",
    "    lambda x: x + np.random.uniform())"
   ]
  },
  {
   "cell_type": "code",
   "execution_count": 21,
   "metadata": {
    "ExecuteTime": {
     "end_time": "2019-11-10T19:14:02.670882Z",
     "start_time": "2019-11-10T19:14:02.600257Z"
    }
   },
   "outputs": [],
   "source": [
    "from dmt.data.observation.measurement.collection import series_type, primitive_type\n",
    "measured_values = series_type([\n",
    "    ({\"pre_synaptic_mtype\": \"L23_MC\", \"post_synaptic_mtype\": \"L23_MC\"},\n",
    "     result_series.apply(lambda x: x + 0.01 * np.random.uniform())),\n",
    "    ({\"pre_synaptic_mtype\": \"L23_MC\", \"post_synaptic_mtype\": \"L23_MC\"},\n",
    "     result_series.apply(lambda x: x + 0.01 * np.random.uniform())),\n",
    "    ({\"pre_synaptic_mtype\": \"L23_MC\", \"post_synaptic_mtype\": \"L23_MC\"},\n",
    "     result_series.apply(lambda x: x + 0.01 * np.random.uniform())),\n",
    "    ({\"pre_synaptic_mtype\": \"L23_MC\", \"post_synaptic_mtype\": \"L6_TPC:A\"},\n",
    "     result_series.apply(lambda x: x + 0.01 * np.random.uniform())),\n",
    "    ({\"pre_synaptic_mtype\": \"L23_MC\", \"post_synaptic_mtype\": \"L6_TPC:A\"},\n",
    "     result_series.apply(lambda x: x + 0.01 * np.random.uniform())),\n",
    "    ({\"pre_synaptic_mtype\": \"L23_MC\", \"post_synaptic_mtype\": \"L6_TPC:A\"},\n",
    "     result_series.apply(lambda x: x + 0.01 * np.random.uniform())),\n",
    "    ({\"pre_synaptic_mtype\": \"L6_UPC\", \"post_synaptic_mtype\": \"L6_TPC:A\"},\n",
    "     result_series.apply(lambda x: x + 0.01 * np.random.uniform())),\n",
    "    ({\"pre_synaptic_mtype\": \"L6_UPC\", \"post_synaptic_mtype\": \"L6_TPC:A\"},\n",
    "     result_series.apply(lambda x: x + 0.01 * np.random.uniform())),\n",
    "    ({\"pre_synaptic_mtype\": \"L6_UPC\", \"post_synaptic_mtype\": \"L6_TPC:A\"},\n",
    "     result_series.apply(lambda x: x + 0.01 * np.random.uniform()))]\n",
    ").rename(columns={\"value\": \"connection_probability\"})"
   ]
  },
  {
   "cell_type": "code",
   "execution_count": 23,
   "metadata": {
    "ExecuteTime": {
     "end_time": "2019-11-10T19:14:05.798360Z",
     "start_time": "2019-11-10T19:14:05.779255Z"
    }
   },
   "outputs": [],
   "source": [
    "from dmt.data.observation import measurement\n",
    "measured_data = measurement.get_summary(measured_values).reset_index()"
   ]
  },
  {
   "cell_type": "code",
   "execution_count": 24,
   "metadata": {
    "ExecuteTime": {
     "end_time": "2019-11-10T19:14:17.965543Z",
     "start_time": "2019-11-10T19:14:07.526220Z"
    },
    "scrolled": true
   },
   "outputs": [
    {
     "name": "stdout",
     "output_type": "stream",
     "text": [
      "('region', 'layer', 'depth', 'height', 'mesocolumn', 'hypercolumn', 'mtype', 'etype', 'synapse_class', 'postsynaptic', 'presynaptic')\n"
     ]
    },
    {
     "ename": "KeyboardInterrupt",
     "evalue": "",
     "output_type": "error",
     "traceback": [
      "\u001b[0;31m---------------------------------------------------------------------------\u001b[0m",
      "\u001b[0;31mKeyboardInterrupt\u001b[0m                         Traceback (most recent call last)",
      "\u001b[0;32m<ipython-input-24-225b66f64f3d>\u001b[0m in \u001b[0;36m<module>\u001b[0;34m\u001b[0m\n\u001b[0;32m----> 1\u001b[0;31m \u001b[0;32mfrom\u001b[0m \u001b[0mneuro_dmt\u001b[0m\u001b[0;34m.\u001b[0m\u001b[0mmodels\u001b[0m\u001b[0;34m.\u001b[0m\u001b[0mbluebrain\u001b[0m\u001b[0;34m.\u001b[0m\u001b[0mcircuit\u001b[0m\u001b[0;34m.\u001b[0m\u001b[0mtest\u001b[0m\u001b[0;34m.\u001b[0m\u001b[0mtest_connectome_analysis\u001b[0m \u001b[0;32mimport\u001b[0m \u001b[0;34m*\u001b[0m\u001b[0;34m\u001b[0m\u001b[0;34m\u001b[0m\u001b[0m\n\u001b[0m\u001b[1;32m      2\u001b[0m phenomenon = Phenomenon(\n\u001b[1;32m      3\u001b[0m     \u001b[0;34m\"Connection Probability\"\u001b[0m\u001b[0;34m,\u001b[0m\u001b[0;34m\u001b[0m\u001b[0;34m\u001b[0m\u001b[0m\n\u001b[1;32m      4\u001b[0m     \"\"\"\n\u001b[1;32m      5\u001b[0m     \u001b[0mProbability\u001b[0m \u001b[0mthat\u001b[0m \u001b[0mtwo\u001b[0m \u001b[0mneurons\u001b[0m \u001b[0;32min\u001b[0m \u001b[0ma\u001b[0m \u001b[0mpathway\u001b[0m \u001b[0mare\u001b[0m \u001b[0mconnected\u001b[0m\u001b[0;34m.\u001b[0m\u001b[0;34m\u001b[0m\u001b[0;34m\u001b[0m\u001b[0m\n",
      "\u001b[0;32m~/work/bbp/work/validations/dmt/v2/neuro_dmt/models/bluebrain/circuit/test/test_connectome_analysis.py\u001b[0m in \u001b[0;36m<module>\u001b[0;34m\u001b[0m\n\u001b[1;32m     29\u001b[0m         MockCircuit.build(\n\u001b[1;32m     30\u001b[0m             \u001b[0mcircuit_composition\u001b[0m\u001b[0;34m,\u001b[0m\u001b[0;34m\u001b[0m\u001b[0;34m\u001b[0m\u001b[0m\n\u001b[0;32m---> 31\u001b[0;31m             circuit_connectivity),\n\u001b[0m\u001b[1;32m     32\u001b[0m         label=\"BlueBrainCircuitModelMockLight\")\n\u001b[1;32m     33\u001b[0m \u001b[0;34m\u001b[0m\u001b[0m\n",
      "\u001b[0;32m~/work/bbp/work/validations/dmt/v2/neuro_dmt/models/bluebrain/circuit/mock/circuit.py\u001b[0m in \u001b[0;36mbuild\u001b[0;34m(cls, composition, connectivity)\u001b[0m\n\u001b[1;32m     52\u001b[0m         return MockCircuit(\n\u001b[1;32m     53\u001b[0m             \u001b[0mcells\u001b[0m\u001b[0;34m=\u001b[0m\u001b[0mcell_collection\u001b[0m\u001b[0;34m,\u001b[0m\u001b[0;34m\u001b[0m\u001b[0;34m\u001b[0m\u001b[0m\n\u001b[0;32m---> 54\u001b[0;31m             connectome=circuit_builder.get_connectome(cell_collection))\n\u001b[0m",
      "\u001b[0;32m~/work/bbp/work/validations/dmt/v2/neuro_dmt/models/bluebrain/circuit/mock/builder.py\u001b[0m in \u001b[0;36mget_connectome\u001b[0;34m(self, cell_collection)\u001b[0m\n\u001b[1;32m    107\u001b[0m                 mtype_of[pre_gid], mtype_of[post_gid])\n\u001b[1;32m    108\u001b[0m              for post_gid in afferent_gids[pre_gid]]\n\u001b[0;32m--> 109\u001b[0;31m             for pre_gid in cell_collection.gids]\n\u001b[0m\u001b[1;32m    110\u001b[0m \u001b[0;34m\u001b[0m\u001b[0m\n\u001b[1;32m    111\u001b[0m         \u001b[0;32massert\u001b[0m \u001b[0mlen\u001b[0m\u001b[0;34m(\u001b[0m\u001b[0mafferent_gids\u001b[0m\u001b[0;34m)\u001b[0m \u001b[0;34m==\u001b[0m \u001b[0mlen\u001b[0m\u001b[0;34m(\u001b[0m\u001b[0mafferent_synapse_counts\u001b[0m\u001b[0;34m)\u001b[0m\u001b[0;34m\u001b[0m\u001b[0;34m\u001b[0m\u001b[0m\n",
      "\u001b[0;32m~/work/bbp/work/validations/dmt/v2/neuro_dmt/models/bluebrain/circuit/mock/builder.py\u001b[0m in \u001b[0;36m<listcomp>\u001b[0;34m(.0)\u001b[0m\n\u001b[1;32m    107\u001b[0m                 mtype_of[pre_gid], mtype_of[post_gid])\n\u001b[1;32m    108\u001b[0m              for post_gid in afferent_gids[pre_gid]]\n\u001b[0;32m--> 109\u001b[0;31m             for pre_gid in cell_collection.gids]\n\u001b[0m\u001b[1;32m    110\u001b[0m \u001b[0;34m\u001b[0m\u001b[0m\n\u001b[1;32m    111\u001b[0m         \u001b[0;32massert\u001b[0m \u001b[0mlen\u001b[0m\u001b[0;34m(\u001b[0m\u001b[0mafferent_gids\u001b[0m\u001b[0;34m)\u001b[0m \u001b[0;34m==\u001b[0m \u001b[0mlen\u001b[0m\u001b[0;34m(\u001b[0m\u001b[0mafferent_synapse_counts\u001b[0m\u001b[0;34m)\u001b[0m\u001b[0;34m\u001b[0m\u001b[0;34m\u001b[0m\u001b[0m\n",
      "\u001b[0;32m~/work/bbp/work/validations/dmt/v2/neuro_dmt/models/bluebrain/circuit/mock/builder.py\u001b[0m in \u001b[0;36m<listcomp>\u001b[0;34m(.0)\u001b[0m\n\u001b[1;32m    106\u001b[0m             [self.connectivity.get_synapse_count(\n\u001b[1;32m    107\u001b[0m                 mtype_of[pre_gid], mtype_of[post_gid])\n\u001b[0;32m--> 108\u001b[0;31m              for post_gid in afferent_gids[pre_gid]]\n\u001b[0m\u001b[1;32m    109\u001b[0m             for pre_gid in cell_collection.gids]\n\u001b[1;32m    110\u001b[0m \u001b[0;34m\u001b[0m\u001b[0m\n",
      "\u001b[0;32m~/work/bbp/work/validations/dmt/v2/neuro_dmt/models/bluebrain/circuit/mock/connectivity.py\u001b[0m in \u001b[0;36mget_synapse_count\u001b[0;34m(self, pre_mtype, post_mtype, *args, **kwargs)\u001b[0m\n\u001b[1;32m     66\u001b[0m         \"\"\"\n\u001b[1;32m     67\u001b[0m         return 1 + np.random.poisson(\n\u001b[0;32m---> 68\u001b[0;31m             self.synapse_count_pathway[pre_mtype][post_mtype])\n\u001b[0m\u001b[1;32m     69\u001b[0m \u001b[0;34m\u001b[0m\u001b[0m\n",
      "\u001b[0;31mKeyboardInterrupt\u001b[0m: "
     ]
    }
   ],
   "source": [
    "from neuro_dmt.models.bluebrain.circuit.test.test_connectome_analysis import *\n",
    "phenomenon = Phenomenon(\n",
    "    \"Connection Probability\",\n",
    "    \"\"\"\n",
    "    Probability that two neurons in a pathway are connected.\n",
    "    While mostly interested in `mtype->mtype` pathways, we can define\n",
    "    a pathway as the group of connected neurons with pre-synaptic and\n",
    "    post-synaptic neurons belonging to two parametrically defined groups.\n",
    "    As an example consider neuron populations defined by not only `mtype`\n",
    "    but also by soma-distance from a given location.\n",
    "    \"\"\",\n",
    "    group=\"Connectome\")\n",
    "number_pathways = 5\n",
    "pathways =\\\n",
    "    mock_circuit_model.pathways(frozenset((\"mtype\",)))\\\n",
    "        .sample(n=number_pathways)\n",
    "analysis_test = BlueBrainCircuitAnalysisTest(\n",
    "    analysis=BrainCircuitAnalysis(\n",
    "    phenomenon=phenomenon,\n",
    "    AdapterInterface=ConnectionProbabilityInterface,\n",
    "    measurement_parameters=Parameters(pathways),\n",
    "    plotter=HeatMap(\n",
    "        xvar=(\"pre_synaptic\", \"mtype\"),\n",
    "        xlabel=\"pre-mtype\",\n",
    "        yvar=(\"post_synaptic\", \"mtype\"),\n",
    "        ylabel=\"post-mtype\",\n",
    "        vvar=(\"connection_probability\", \"mean\"))))\n",
    "\n",
    "connection_probability_measurement =\\\n",
    "    analysis_test.test_get_measurement(mock_circuit_model, sample_size=10)\n",
    "\n",
    "analysis = analysis_test._circuit_analysis_test.analysis\n",
    "adapter = analysis_test.adapter"
   ]
  },
  {
   "cell_type": "code",
   "execution_count": 25,
   "metadata": {
    "ExecuteTime": {
     "end_time": "2019-11-10T19:14:25.917197Z",
     "start_time": "2019-11-10T19:14:25.903451Z"
    }
   },
   "outputs": [
    {
     "ename": "NameError",
     "evalue": "name 'connection_probability_measurement' is not defined",
     "output_type": "error",
     "traceback": [
      "\u001b[0;31m---------------------------------------------------------------------------\u001b[0m",
      "\u001b[0;31mNameError\u001b[0m                                 Traceback (most recent call last)",
      "\u001b[0;32m<ipython-input-25-77163ec1b774>\u001b[0m in \u001b[0;36m<module>\u001b[0;34m\u001b[0m\n\u001b[0;32m----> 1\u001b[0;31m \u001b[0mm\u001b[0m \u001b[0;34m=\u001b[0m \u001b[0mconnection_probability_measurement\u001b[0m\u001b[0;34m[\u001b[0m\u001b[0;34m\"BlueBrainCircuitModelMockLight\"\u001b[0m\u001b[0;34m]\u001b[0m\u001b[0;34m\u001b[0m\u001b[0;34m\u001b[0m\u001b[0m\n\u001b[0m\u001b[1;32m      2\u001b[0m \u001b[0mm\u001b[0m\u001b[0;34m.\u001b[0m\u001b[0mgroupby\u001b[0m\u001b[0;34m(\u001b[0m\u001b[0mm\u001b[0m\u001b[0;34m.\u001b[0m\u001b[0mindex\u001b[0m\u001b[0;34m.\u001b[0m\u001b[0mnames\u001b[0m\u001b[0;34m)\u001b[0m\u001b[0;34m.\u001b[0m\u001b[0magg\u001b[0m\u001b[0;34m(\u001b[0m\u001b[0;34m[\u001b[0m\u001b[0;34m\"size\"\u001b[0m\u001b[0;34m,\u001b[0m \u001b[0;34m\"mean\"\u001b[0m\u001b[0;34m,\u001b[0m \u001b[0;34m\"std\"\u001b[0m\u001b[0;34m]\u001b[0m\u001b[0;34m)\u001b[0m\u001b[0;34m\u001b[0m\u001b[0;34m\u001b[0m\u001b[0m\n",
      "\u001b[0;31mNameError\u001b[0m: name 'connection_probability_measurement' is not defined"
     ]
    }
   ],
   "source": [
    "m = connection_probability_measurement[\"BlueBrainCircuitModelMockLight\"]\n",
    "m.groupby(m.index.names).agg([\"size\", \"mean\", \"std\"])"
   ]
  },
  {
   "cell_type": "code",
   "execution_count": 26,
   "metadata": {
    "ExecuteTime": {
     "end_time": "2019-11-10T19:14:36.089300Z",
     "start_time": "2019-11-10T19:14:36.072802Z"
    }
   },
   "outputs": [
    {
     "ename": "NameError",
     "evalue": "name 'adapter' is not defined",
     "output_type": "error",
     "traceback": [
      "\u001b[0;31m---------------------------------------------------------------------------\u001b[0m",
      "\u001b[0;31mNameError\u001b[0m                                 Traceback (most recent call last)",
      "\u001b[0;32m<ipython-input-26-8f9a6fdeb12b>\u001b[0m in \u001b[0;36m<module>\u001b[0;34m\u001b[0m\n\u001b[0;32m----> 1\u001b[0;31m adapter.get_connection_probability(\n\u001b[0m\u001b[1;32m      2\u001b[0m     \u001b[0mmock_circuit_model\u001b[0m\u001b[0;34m,\u001b[0m\u001b[0;34m\u001b[0m\u001b[0;34m\u001b[0m\u001b[0m\n\u001b[1;32m      3\u001b[0m     \u001b[0mpre_synaptic\u001b[0m\u001b[0;34m=\u001b[0m\u001b[0;34m{\u001b[0m\u001b[0;34m\"mtype\"\u001b[0m\u001b[0;34m:\u001b[0m \u001b[0;34m\"L23_MC\"\u001b[0m\u001b[0;34m}\u001b[0m\u001b[0;34m,\u001b[0m\u001b[0;34m\u001b[0m\u001b[0;34m\u001b[0m\u001b[0m\n\u001b[1;32m      4\u001b[0m     post_synaptic={\"mtype\": \"L23_MC\"})\n",
      "\u001b[0;31mNameError\u001b[0m: name 'adapter' is not defined"
     ]
    }
   ],
   "source": [
    "adapter.get_connection_probability(\n",
    "    mock_circuit_model,\n",
    "    pre_synaptic={\"mtype\": \"L23_MC\"},\n",
    "    post_synaptic={\"mtype\": \"L23_MC\"})"
   ]
  },
  {
   "cell_type": "code",
   "execution_count": null,
   "metadata": {
    "ExecuteTime": {
     "end_time": "2019-11-10T13:33:45.587980Z",
     "start_time": "2019-11-10T13:33:26.668Z"
    }
   },
   "outputs": [],
   "source": [
    "def _join(parameters_measurement, value_measurement):\n",
    "    \"\"\"...\"\"\"\n",
    "    parameters_measurement = pd.Series(parameters_measurement)\n",
    "    return\\\n",
    "            pd.Series(\n",
    "                parameters_measurement)\\\n",
    "              .append(\n",
    "                  pd.Series({\"value\": value_measurement}))"
   ]
  },
  {
   "cell_type": "code",
   "execution_count": null,
   "metadata": {
    "ExecuteTime": {
     "end_time": "2019-11-10T13:33:45.588812Z",
     "start_time": "2019-11-10T13:33:26.671Z"
    }
   },
   "outputs": [],
   "source": [
    "parameter_values = analysis.measurement_parameters.for_sampling(size=2)\n",
    "measured_values = np.random.uniform(size=len(parameter_values))\n",
    "pd.concat([\n",
    "    _join(*args)\n",
    "    for args in zip(parameter_values, measured_values)])"
   ]
  },
  {
   "cell_type": "code",
   "execution_count": null,
   "metadata": {
    "ExecuteTime": {
     "end_time": "2019-11-10T13:33:45.589707Z",
     "start_time": "2019-11-10T13:33:26.675Z"
    }
   },
   "outputs": [],
   "source": [
    "analysis.measurement_parameters.join(\n",
    "    analysis.measurement_parameters.as_dataframe(parameter_values),\n",
    "    pd.DataFrame({\"connection_probability\": measured_values}))"
   ]
  },
  {
   "cell_type": "code",
   "execution_count": 191,
   "metadata": {
    "ExecuteTime": {
     "end_time": "2019-11-10T18:58:22.454904Z",
     "start_time": "2019-11-10T18:58:22.435378Z"
    }
   },
   "outputs": [],
   "source": [
    "pd.testing.assert_frame_equal(\n",
    "    measurement.concat_as_samples(\n",
    "        {\"x\": measured_values}).loc[\"x\"],\n",
    "    measured_values)"
   ]
  },
  {
   "cell_type": "code",
   "execution_count": 28,
   "metadata": {
    "ExecuteTime": {
     "end_time": "2019-11-10T19:14:48.647876Z",
     "start_time": "2019-11-10T19:14:48.635029Z"
    }
   },
   "outputs": [
    {
     "ename": "NameError",
     "evalue": "name 'parameter_values' is not defined",
     "output_type": "error",
     "traceback": [
      "\u001b[0;31m---------------------------------------------------------------------------\u001b[0m",
      "\u001b[0;31mNameError\u001b[0m                                 Traceback (most recent call last)",
      "\u001b[0;32m<ipython-input-28-e29bfe848106>\u001b[0m in \u001b[0;36m<module>\u001b[0;34m\u001b[0m\n\u001b[1;32m      1\u001b[0m \u001b[0;32mfrom\u001b[0m \u001b[0mdmt\u001b[0m\u001b[0;34m.\u001b[0m\u001b[0mtk\u001b[0m\u001b[0;34m.\u001b[0m\u001b[0mparameters\u001b[0m \u001b[0;32mimport\u001b[0m \u001b[0mindex_tree\u001b[0m\u001b[0;34m\u001b[0m\u001b[0;34m\u001b[0m\u001b[0m\n\u001b[0;32m----> 2\u001b[0;31m \u001b[0mpd\u001b[0m\u001b[0;34m.\u001b[0m\u001b[0mSeries\u001b[0m\u001b[0;34m(\u001b[0m\u001b[0mindex_tree\u001b[0m\u001b[0;34m.\u001b[0m\u001b[0mas_unnested_dict\u001b[0m\u001b[0;34m(\u001b[0m\u001b[0mparameter_values\u001b[0m\u001b[0;34m[\u001b[0m\u001b[0;36m0\u001b[0m\u001b[0;34m]\u001b[0m\u001b[0;34m)\u001b[0m\u001b[0;34m)\u001b[0m\u001b[0;34m\u001b[0m\u001b[0;34m\u001b[0m\u001b[0m\n\u001b[0m",
      "\u001b[0;31mNameError\u001b[0m: name 'parameter_values' is not defined"
     ]
    }
   ],
   "source": [
    "from dmt.tk.parameters import index_tree\n",
    "pd.Series(index_tree.as_unnested_dict(parameter_values[0]))"
   ]
  },
  {
   "cell_type": "code",
   "execution_count": 29,
   "metadata": {
    "ExecuteTime": {
     "end_time": "2019-11-10T19:14:54.895652Z",
     "start_time": "2019-11-10T19:14:54.876246Z"
    }
   },
   "outputs": [
    {
     "data": {
      "text/html": [
       "<div>\n",
       "<style scoped>\n",
       "    .dataframe tbody tr th:only-of-type {\n",
       "        vertical-align: middle;\n",
       "    }\n",
       "\n",
       "    .dataframe tbody tr th {\n",
       "        vertical-align: top;\n",
       "    }\n",
       "\n",
       "    .dataframe thead th {\n",
       "        text-align: right;\n",
       "    }\n",
       "</style>\n",
       "<table border=\"1\" class=\"dataframe\">\n",
       "  <thead>\n",
       "    <tr style=\"text-align: right;\">\n",
       "      <th></th>\n",
       "      <th>post_synaptic_mtype</th>\n",
       "      <th>soma_distance</th>\n",
       "      <th>connection_probability</th>\n",
       "    </tr>\n",
       "  </thead>\n",
       "  <tbody>\n",
       "    <tr>\n",
       "      <th>0</th>\n",
       "      <td>L23_MC</td>\n",
       "      <td>50.0</td>\n",
       "      <td>0.017729</td>\n",
       "    </tr>\n",
       "    <tr>\n",
       "      <th>1</th>\n",
       "      <td>L23_MC</td>\n",
       "      <td>150.0</td>\n",
       "      <td>0.019613</td>\n",
       "    </tr>\n",
       "    <tr>\n",
       "      <th>2</th>\n",
       "      <td>L23_MC</td>\n",
       "      <td>250.0</td>\n",
       "      <td>0.024482</td>\n",
       "    </tr>\n",
       "    <tr>\n",
       "      <th>3</th>\n",
       "      <td>L23_MC</td>\n",
       "      <td>350.0</td>\n",
       "      <td>0.029382</td>\n",
       "    </tr>\n",
       "    <tr>\n",
       "      <th>4</th>\n",
       "      <td>L23_MC</td>\n",
       "      <td>450.0</td>\n",
       "      <td>0.017740</td>\n",
       "    </tr>\n",
       "  </tbody>\n",
       "</table>\n",
       "</div>"
      ],
      "text/plain": [
       "  post_synaptic_mtype  soma_distance  connection_probability\n",
       "0              L23_MC           50.0                0.017729\n",
       "1              L23_MC          150.0                0.019613\n",
       "2              L23_MC          250.0                0.024482\n",
       "3              L23_MC          350.0                0.029382\n",
       "4              L23_MC          450.0                0.017740"
      ]
     },
     "execution_count": 29,
     "metadata": {},
     "output_type": "execute_result"
    }
   ],
   "source": [
    "plotting_data = measured_values.loc[\n",
    "    (\"L23_MC\",)\n",
    "].reset_index(\n",
    ").assign(\n",
    "    soma_distance = lambda df:[np.mean(sd) for sd in df.soma_distance]\n",
    ")\n",
    "plotting_data.head()"
   ]
  },
  {
   "cell_type": "code",
   "execution_count": 30,
   "metadata": {
    "ExecuteTime": {
     "end_time": "2019-11-10T19:14:57.584852Z",
     "start_time": "2019-11-10T19:14:57.143932Z"
    }
   },
   "outputs": [
    {
     "data": {
      "image/png": "[encoded data removed]",
      "text/plain": [
       "<Figure size 432x288 with 1 Axes>"
      ]
     },
     "metadata": {
      "needs_background": "light"
     },
     "output_type": "display_data"
    }
   ],
   "source": [
    "import seaborn; seaborn.set\n",
    "axes = seaborn.lineplot(\n",
    "    y=\"connection_probability\",\n",
    "    x=\"soma_distance\",\n",
    "    hue=\"post_synaptic_mtype\",\n",
    "    data=plotting_data)"
   ]
  },
  {
   "cell_type": "code",
   "execution_count": 31,
   "metadata": {
    "ExecuteTime": {
     "end_time": "2019-11-10T19:15:00.644810Z",
     "start_time": "2019-11-10T19:15:00.624066Z"
    }
   },
   "outputs": [
    {
     "data": {
      "text/html": [
       "<div>\n",
       "<style scoped>\n",
       "    .dataframe tbody tr th:only-of-type {\n",
       "        vertical-align: middle;\n",
       "    }\n",
       "\n",
       "    .dataframe tbody tr th {\n",
       "        vertical-align: top;\n",
       "    }\n",
       "\n",
       "    .dataframe thead th {\n",
       "        text-align: right;\n",
       "    }\n",
       "</style>\n",
       "<table border=\"1\" class=\"dataframe\">\n",
       "  <thead>\n",
       "    <tr style=\"text-align: right;\">\n",
       "      <th></th>\n",
       "      <th>pre_synaptic_mtype</th>\n",
       "      <th>post_synaptic_mtype</th>\n",
       "      <th>soma_distance</th>\n",
       "      <th>connection_probability</th>\n",
       "    </tr>\n",
       "  </thead>\n",
       "  <tbody>\n",
       "    <tr>\n",
       "      <th>0</th>\n",
       "      <td>L23_MC</td>\n",
       "      <td>L23_MC</td>\n",
       "      <td>50.0</td>\n",
       "      <td>0.017729</td>\n",
       "    </tr>\n",
       "    <tr>\n",
       "      <th>1</th>\n",
       "      <td>L23_MC</td>\n",
       "      <td>L23_MC</td>\n",
       "      <td>150.0</td>\n",
       "      <td>0.019613</td>\n",
       "    </tr>\n",
       "    <tr>\n",
       "      <th>2</th>\n",
       "      <td>L23_MC</td>\n",
       "      <td>L23_MC</td>\n",
       "      <td>250.0</td>\n",
       "      <td>0.024482</td>\n",
       "    </tr>\n",
       "    <tr>\n",
       "      <th>3</th>\n",
       "      <td>L23_MC</td>\n",
       "      <td>L23_MC</td>\n",
       "      <td>350.0</td>\n",
       "      <td>0.029382</td>\n",
       "    </tr>\n",
       "    <tr>\n",
       "      <th>4</th>\n",
       "      <td>L23_MC</td>\n",
       "      <td>L23_MC</td>\n",
       "      <td>450.0</td>\n",
       "      <td>0.017740</td>\n",
       "    </tr>\n",
       "  </tbody>\n",
       "</table>\n",
       "</div>"
      ],
      "text/plain": [
       "  pre_synaptic_mtype post_synaptic_mtype  soma_distance  \\\n",
       "0             L23_MC              L23_MC           50.0   \n",
       "1             L23_MC              L23_MC          150.0   \n",
       "2             L23_MC              L23_MC          250.0   \n",
       "3             L23_MC              L23_MC          350.0   \n",
       "4             L23_MC              L23_MC          450.0   \n",
       "\n",
       "   connection_probability  \n",
       "0                0.017729  \n",
       "1                0.019613  \n",
       "2                0.024482  \n",
       "3                0.029382  \n",
       "4                0.017740  "
      ]
     },
     "execution_count": 31,
     "metadata": {},
     "output_type": "execute_result"
    }
   ],
   "source": [
    "plotting_data =\\\n",
    "    measured_values.reset_index(\n",
    "    ).assign(\n",
    "        soma_distance=lambda df: df.soma_distance.apply(np.mean)\n",
    "    )\n",
    "plotting_data.head()"
   ]
  },
  {
   "cell_type": "code",
   "execution_count": 32,
   "metadata": {
    "ExecuteTime": {
     "end_time": "2019-11-10T19:15:02.682157Z",
     "start_time": "2019-11-10T19:15:02.393992Z"
    }
   },
   "outputs": [
    {
     "data": {
      "text/plain": [
       "<seaborn.axisgrid.FacetGrid at 0x7fb4308553c8>"
      ]
     },
     "execution_count": 32,
     "metadata": {},
     "output_type": "execute_result"
    },
    {
     "data": {
      "image/png": "[encoded data removed]",
      "text/plain": [
       "<Figure size 324.375x216 with 1 Axes>"
      ]
     },
     "metadata": {
      "needs_background": "light"
     },
     "output_type": "display_data"
    }
   ],
   "source": [
    "import matplotlib.pyplot as plt\n",
    "graphic =\\\n",
    "    seaborn.FacetGrid(\n",
    "        plotting_data,\n",
    "        col=None,#\"post_synaptic_mtype\",\n",
    "        hue=\"pre_synaptic_mtype\")\n",
    "graphic.map(plt.hist, \"connection_probability\")\n",
    "graphic.add_legend()"
   ]
  },
  {
   "cell_type": "code",
   "execution_count": 174,
   "metadata": {
    "ExecuteTime": {
     "end_time": "2019-11-10T18:49:23.683755Z",
     "start_time": "2019-11-10T18:49:23.169488Z"
    }
   },
   "outputs": [
    {
     "data": {
      "text/plain": [
       "<seaborn.axisgrid.FacetGrid at 0x7fd23acc2470>"
      ]
     },
     "execution_count": 174,
     "metadata": {},
     "output_type": "execute_result"
    },
    {
     "data": {
      "image/png": "[encoded data removed]",
      "text/plain": [
       "<Figure size 540.375x216 with 2 Axes>"
      ]
     },
     "metadata": {
      "needs_background": "light"
     },
     "output_type": "display_data"
    }
   ],
   "source": [
    "graphic =\\\n",
    "    seaborn.FacetGrid(\n",
    "        plotting_data,\n",
    "        hue=\"pre_synaptic_mtype\",\n",
    "        col=\"post_synaptic_mtype\")\n",
    "graphic.map(plt.hist, \"connection_probability\")\n",
    "graphic.add_legend()"
   ]
  },
  {
   "cell_type": "code",
   "execution_count": 182,
   "metadata": {
    "ExecuteTime": {
     "end_time": "2019-11-10T18:53:29.284454Z",
     "start_time": "2019-11-10T18:53:28.573952Z"
    }
   },
   "outputs": [
    {
     "data": {
      "text/plain": [
       "<seaborn.axisgrid.FacetGrid at 0x7fd23a43b518>"
      ]
     },
     "execution_count": 182,
     "metadata": {},
     "output_type": "execute_result"
    },
    {
     "data": {
      "image/png": "[encoded data removed]",
      "text/plain": [
       "<Figure size 540.375x216 with 2 Axes>"
      ]
     },
     "metadata": {
      "needs_background": "light"
     },
     "output_type": "display_data"
    }
   ],
   "source": [
    "graphic =\\\n",
    "    seaborn.FacetGrid(\n",
    "        plotting_data,\n",
    "        col=\"post_synaptic_mtype\",\n",
    "        hue=\"pre_synaptic_mtype\")\n",
    "        #legend_out=True)\n",
    "graphic.map(\n",
    "    seaborn.lineplot, \n",
    "    \"soma_distance\",\n",
    "    \"connection_probability\",\n",
    "    alpha=0.7)\n",
    "graphic.add_legend()"
   ]
  },
  {
   "cell_type": "code",
   "execution_count": 37,
   "metadata": {
    "ExecuteTime": {
     "end_time": "2019-11-10T19:16:13.230294Z",
     "start_time": "2019-11-10T19:16:13.223605Z"
    }
   },
   "outputs": [],
   "source": [
    "from dmt.tk.plotting.lines import LinePlot\n",
    "line_plot = LinePlot(\n",
    "    xvar=\"soma_distance\",\n",
    "    xlabel=\"Soma Distance\",\n",
    "    yvar=\"connection_probability\",\n",
    "    ylabel=\"Connection Probability\",\n",
    "    gvar=\"pre_synaptic_mtype\",\n",
    "    fvar=\"post_synaptic_mtype\")"
   ]
  },
  {
   "cell_type": "code",
   "execution_count": 38,
   "metadata": {
    "ExecuteTime": {
     "end_time": "2019-11-10T19:16:15.835043Z",
     "start_time": "2019-11-10T19:16:15.142952Z"
    }
   },
   "outputs": [
    {
     "data": {
      "text/plain": [
       "<dmt.tk.plotting.figure.Figure at 0x7fb430526978>"
      ]
     },
     "execution_count": 38,
     "metadata": {},
     "output_type": "execute_result"
    },
    {
     "data": {
      "image/png": "[encoded data removed]",
      "text/plain": [
       "<Figure size 540.375x216 with 2 Axes>"
      ]
     },
     "metadata": {
      "needs_background": "light"
     },
     "output_type": "display_data"
    }
   ],
   "source": [
    "line_plot.get_figure({\n",
    "    \"0\": measured_values.reset_index().assign(\n",
    "        soma_distance=lambda df: df.soma_distance.apply(np.mean)\n",
    "    ).set_index(\n",
    "        [\"pre_synaptic_mtype\", \"post_synaptic_mtype\", \"soma_distance\"])})"
   ]
  },
  {
   "cell_type": "code",
   "execution_count": 52,
   "metadata": {
    "ExecuteTime": {
     "end_time": "2019-11-10T19:35:46.069760Z",
     "start_time": "2019-11-10T19:35:44.126295Z"
    }
   },
   "outputs": [
    {
     "data": {
      "text/plain": [
       "soma_distance\n",
       "(0.0, 100.0)      0.025287\n",
       "(100.0, 200.0)    0.018037\n",
       "(200.0, 300.0)    0.025399\n",
       "(300.0, 400.0)    0.015253\n",
       "(400.0, 500.0)    0.013953\n",
       "Name: connection_probability, dtype: float64"
      ]
     },
     "execution_count": 52,
     "metadata": {},
     "output_type": "execute_result"
    }
   ],
   "source": [
    "result = conn_prob_sd(\n",
    "    pathway=CellType.pathway(\n",
    "        {\"mtype\": \"L23_MC\"},\n",
    "        {\"mtype\": \"L23_MC\"}))\n",
    "result"
   ]
  },
  {
   "cell_type": "code",
   "execution_count": 55,
   "metadata": {
    "ExecuteTime": {
     "end_time": "2019-11-10T19:36:43.807293Z",
     "start_time": "2019-11-10T19:36:43.794175Z"
    }
   },
   "outputs": [
    {
     "data": {
      "text/plain": [
       "soma_distance\n",
       "50.0     0.025287\n",
       "150.0    0.018037\n",
       "250.0    0.025399\n",
       "350.0    0.015253\n",
       "450.0    0.013953\n",
       "Name: connection_probability, dtype: float64"
      ]
     },
     "execution_count": 55,
     "metadata": {},
     "output_type": "execute_result"
    }
   ],
   "source": [
    "result.reset_index(\n",
    ").assign(\n",
    "    soma_distance=lambda df: df.soma_distance.apply(np.mean)\n",
    ").set_index(\n",
    "    \"soma_distance\"\n",
    ").connection_probability"
   ]
  },
  {
   "cell_type": "code",
   "execution_count": 51,
   "metadata": {
    "ExecuteTime": {
     "end_time": "2019-11-10T19:33:45.810378Z",
     "start_time": "2019-11-10T19:33:45.802602Z"
    }
   },
   "outputs": [
    {
     "data": {
      "text/plain": [
       "soma_distance\n",
       "(0.0, 100.0)      0.023829\n",
       "(100.0, 200.0)    0.017747\n",
       "(200.0, 300.0)    0.024104\n",
       "(300.0, 400.0)    0.013789\n",
       "(400.0, 500.0)    0.008230\n",
       "Name: connection_probability, dtype: float64"
      ]
     },
     "execution_count": 51,
     "metadata": {},
     "output_type": "execute_result"
    }
   ],
   "source": [
    "result"
   ]
  },
  {
   "cell_type": "code",
   "execution_count": null,
   "metadata": {},
   "outputs": [],
   "source": []
  }
 ],
 "metadata": {
  "kernelspec": {
   "display_name": "Python 3",
   "language": "python",
   "name": "python3"
  },
  "language_info": {
   "codemirror_mode": {
    "name": "ipython",
    "version": 3
   },
   "file_extension": ".py",
   "mimetype": "text/x-python",
   "name": "python",
   "nbconvert_exporter": "python",
   "pygments_lexer": "ipython3",
   "version": "3.6.8"
  },
  "latex_envs": {
   "LaTeX_envs_menu_present": true,
   "autoclose": false,
   "autocomplete": true,
   "bibliofile": "biblio.bib",
   "cite_by": "apalike",
   "current_citInitial": 1,
   "eqLabelWithNumbers": true,
   "eqNumInitial": 1,
   "hotkeys": {
    "equation": "Ctrl-E",
    "itemize": "Ctrl-I"
   },
   "labels_anchors": false,
   "latex_user_defs": false,
   "report_style_numbering": false,
   "user_envs_cfg": false
  },
  "toc": {
   "base_numbering": 1,
   "nav_menu": {},
   "number_sections": true,
   "sideBar": true,
   "skip_h1_title": false,
   "title_cell": "Table of Contents",
   "title_sidebar": "Contents",
   "toc_cell": false,
   "toc_position": {},
   "toc_section_display": true,
   "toc_window_display": false
  },
  "varInspector": {
   "cols": {
    "lenName": 16,
    "lenType": 16,
    "lenVar": 40
   },
   "kernels_config": {
    "python": {
     "delete_cmd_postfix": "",
     "delete_cmd_prefix": "del ",
     "library": "var_list.py",
     "varRefreshCmd": "print(var_dic_list())"
    },
    "r": {
     "delete_cmd_postfix": ") ",
     "delete_cmd_prefix": "rm(",
     "library": "var_list.r",
     "varRefreshCmd": "cat(var_dic_list()) "
    }
   },
   "types_to_exclude": [
    "module",
    "function",
    "builtin_function_or_method",
    "instance",
    "_Feature"
   ],
   "window_display": false
  }
 },
 "nbformat": 4,
 "nbformat_minor": 2
}
