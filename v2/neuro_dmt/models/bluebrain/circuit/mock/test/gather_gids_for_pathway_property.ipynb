{
 "cells": [
  {
   "cell_type": "markdown",
   "metadata": {},
   "source": [
    "Instead of using a dataframe of cell (rows), we can also gather just their gids!"
   ]
  },
  {
   "cell_type": "code",
   "execution_count": 3,
   "metadata": {
    "ExecuteTime": {
     "end_time": "2019-11-13T17:28:01.980539Z",
     "start_time": "2019-11-13T17:28:00.102093Z"
    }
   },
   "outputs": [
    {
     "name": "stdout",
     "output_type": "stream",
     "text": [
      "('region', 'layer', 'depth', 'height', 'mesocolumn', 'hypercolumn', 'mtype', 'etype', 'synapse_class', 'postsynaptic', 'presynaptic')\n"
     ]
    }
   ],
   "source": [
    "import os\n",
    "os.environ[\"LOGLEVEL\"] = \"PROD\"\n",
    "\n",
    "import numpy as np\n",
    "import pandas as pd\n",
    "from neuro_dmt.models.bluebrain.circuit.model import BlueBrainCircuitModel\n",
    "from neuro_dmt.models.bluebrain.circuit.adapter import BlueBrainCircuitAdapter\n",
    "from neuro_dmt.models.bluebrain.circuit.mock.test.mock_circuit_light\\\n",
    "    import circuit_composition, circuit_connectivity\n",
    "from neuro_dmt.models.bluebrain.circuit.mock.circuit import\\\n",
    "    MockCircuit"
   ]
  },
  {
   "cell_type": "code",
   "execution_count": 4,
   "metadata": {
    "ExecuteTime": {
     "end_time": "2019-11-13T17:28:28.585361Z",
     "start_time": "2019-11-13T17:28:02.207725Z"
    }
   },
   "outputs": [],
   "source": [
    "mock_circuit =\\\n",
    "    MockCircuit.build(\n",
    "        circuit_composition,\n",
    "        circuit_connectivity)\n",
    "circuit_model =\\\n",
    "    BlueBrainCircuitModel(\n",
    "        mock_circuit,\n",
    "        label=\"BlueBrainCircuitModelMock\")\n",
    "adapter = BlueBrainCircuitAdapter()\n",
    "conn_prob = circuit_model.connection_probability"
   ]
  },
  {
   "cell_type": "code",
   "execution_count": 5,
   "metadata": {
    "ExecuteTime": {
     "end_time": "2019-11-13T17:29:04.053637Z",
     "start_time": "2019-11-13T17:29:04.015895Z"
    }
   },
   "outputs": [],
   "source": [
    "pre_synaptic_cell_type_specifier =\\\n",
    "    {\"mtype\",}\n",
    "pre_synaptic_cells =\\\n",
    "    circuit_model\\\n",
    "    .get_cells(\n",
    "        mtype=\"L23_MC\"\n",
    "    )\n",
    "post_synaptic_cell_type_specifier =\\\n",
    "    {\"mtype\",}\n",
    "post_synaptic_cells =\\\n",
    "    circuit_model\\\n",
    "    .get_cells(\n",
    "        mtype=\"L23_MC\"\n",
    "    ).sample(n=100)\n",
    "assert np.array_equal(\n",
    "    pre_synaptic_cells.index.values,\n",
    "    pre_synaptic_cells.gid.values)\n",
    "assert np.array_equal(\n",
    "    post_synaptic_cells.index.values,\n",
    "    post_synaptic_cells.gid.values)\n",
    "conn = circuit_model.connectome"
   ]
  },
  {
   "cell_type": "code",
   "execution_count": 6,
   "metadata": {
    "ExecuteTime": {
     "end_time": "2019-11-13T17:29:06.842582Z",
     "start_time": "2019-11-13T17:29:05.032501Z"
    }
   },
   "outputs": [],
   "source": [
    "adapter = BlueBrainCircuitAdapter()\n",
    "aff_summary = adapter.get_afferent_connections_summary(\n",
    "    circuit_model,\n",
    "    {\"mtype\": \"L6_TPC:A\"},\n",
    "    {\"mtype\",}\n",
    ")"
   ]
  },
  {
   "cell_type": "code",
   "execution_count": 7,
   "metadata": {
    "ExecuteTime": {
     "end_time": "2019-11-13T17:29:07.900639Z",
     "start_time": "2019-11-13T17:29:07.839322Z"
    }
   },
   "outputs": [
    {
     "data": {
      "text/html": [
       "<div>\n",
       "<style scoped>\n",
       "    .dataframe tbody tr th:only-of-type {\n",
       "        vertical-align: middle;\n",
       "    }\n",
       "\n",
       "    .dataframe tbody tr th {\n",
       "        vertical-align: top;\n",
       "    }\n",
       "\n",
       "    .dataframe thead th {\n",
       "        text-align: right;\n",
       "    }\n",
       "</style>\n",
       "<table border=\"1\" class=\"dataframe\">\n",
       "  <thead>\n",
       "    <tr style=\"text-align: right;\">\n",
       "      <th></th>\n",
       "      <th>size</th>\n",
       "      <th>mean</th>\n",
       "      <th>std</th>\n",
       "    </tr>\n",
       "    <tr>\n",
       "      <th>pre_synaptic_mtype</th>\n",
       "      <th></th>\n",
       "      <th></th>\n",
       "      <th></th>\n",
       "    </tr>\n",
       "  </thead>\n",
       "  <tbody>\n",
       "    <tr>\n",
       "      <th>L1_DAC</th>\n",
       "      <td>1066.0</td>\n",
       "      <td>1.349906</td>\n",
       "      <td>1.136870</td>\n",
       "    </tr>\n",
       "    <tr>\n",
       "      <th>L1_SLAC</th>\n",
       "      <td>1066.0</td>\n",
       "      <td>1.359287</td>\n",
       "      <td>1.094327</td>\n",
       "    </tr>\n",
       "    <tr>\n",
       "      <th>L23_ChC</th>\n",
       "      <td>1066.0</td>\n",
       "      <td>3.118199</td>\n",
       "      <td>1.800654</td>\n",
       "    </tr>\n",
       "    <tr>\n",
       "      <th>L23_MC</th>\n",
       "      <td>1066.0</td>\n",
       "      <td>3.236398</td>\n",
       "      <td>1.696843</td>\n",
       "    </tr>\n",
       "    <tr>\n",
       "      <th>L23_SBC</th>\n",
       "      <td>1066.0</td>\n",
       "      <td>3.204503</td>\n",
       "      <td>1.727279</td>\n",
       "    </tr>\n",
       "    <tr>\n",
       "      <th>L4_LBC</th>\n",
       "      <td>1066.0</td>\n",
       "      <td>1.878987</td>\n",
       "      <td>1.366050</td>\n",
       "    </tr>\n",
       "    <tr>\n",
       "      <th>L4_NGC</th>\n",
       "      <td>1066.0</td>\n",
       "      <td>1.895872</td>\n",
       "      <td>1.355026</td>\n",
       "    </tr>\n",
       "    <tr>\n",
       "      <th>L4_TPC</th>\n",
       "      <td>1066.0</td>\n",
       "      <td>35.161351</td>\n",
       "      <td>6.045077</td>\n",
       "    </tr>\n",
       "    <tr>\n",
       "      <th>L5_DBC</th>\n",
       "      <td>1066.0</td>\n",
       "      <td>4.694184</td>\n",
       "      <td>2.184517</td>\n",
       "    </tr>\n",
       "    <tr>\n",
       "      <th>L5_MC</th>\n",
       "      <td>1066.0</td>\n",
       "      <td>4.685741</td>\n",
       "      <td>2.068254</td>\n",
       "    </tr>\n",
       "    <tr>\n",
       "      <th>L5_TPC:A</th>\n",
       "      <td>1066.0</td>\n",
       "      <td>15.911820</td>\n",
       "      <td>4.110642</td>\n",
       "    </tr>\n",
       "    <tr>\n",
       "      <th>L5_TPC:B</th>\n",
       "      <td>1066.0</td>\n",
       "      <td>15.950281</td>\n",
       "      <td>3.936392</td>\n",
       "    </tr>\n",
       "    <tr>\n",
       "      <th>L5_UPC</th>\n",
       "      <td>1066.0</td>\n",
       "      <td>15.758912</td>\n",
       "      <td>3.983185</td>\n",
       "    </tr>\n",
       "    <tr>\n",
       "      <th>L6_ChC</th>\n",
       "      <td>1066.0</td>\n",
       "      <td>4.303940</td>\n",
       "      <td>2.066846</td>\n",
       "    </tr>\n",
       "    <tr>\n",
       "      <th>L6_IPC</th>\n",
       "      <td>1066.0</td>\n",
       "      <td>20.729831</td>\n",
       "      <td>4.464170</td>\n",
       "    </tr>\n",
       "    <tr>\n",
       "      <th>L6_MC</th>\n",
       "      <td>1066.0</td>\n",
       "      <td>4.305816</td>\n",
       "      <td>2.081509</td>\n",
       "    </tr>\n",
       "    <tr>\n",
       "      <th>L6_TPC:A</th>\n",
       "      <td>1066.0</td>\n",
       "      <td>20.806754</td>\n",
       "      <td>4.485992</td>\n",
       "    </tr>\n",
       "    <tr>\n",
       "      <th>L6_TPC:B</th>\n",
       "      <td>1066.0</td>\n",
       "      <td>20.861163</td>\n",
       "      <td>4.583851</td>\n",
       "    </tr>\n",
       "    <tr>\n",
       "      <th>L6_UPC</th>\n",
       "      <td>1066.0</td>\n",
       "      <td>20.732645</td>\n",
       "      <td>4.540357</td>\n",
       "    </tr>\n",
       "  </tbody>\n",
       "</table>\n",
       "</div>"
      ],
      "text/plain": [
       "                      size       mean       std\n",
       "pre_synaptic_mtype                             \n",
       "L1_DAC              1066.0   1.349906  1.136870\n",
       "L1_SLAC             1066.0   1.359287  1.094327\n",
       "L23_ChC             1066.0   3.118199  1.800654\n",
       "L23_MC              1066.0   3.236398  1.696843\n",
       "L23_SBC             1066.0   3.204503  1.727279\n",
       "L4_LBC              1066.0   1.878987  1.366050\n",
       "L4_NGC              1066.0   1.895872  1.355026\n",
       "L4_TPC              1066.0  35.161351  6.045077\n",
       "L5_DBC              1066.0   4.694184  2.184517\n",
       "L5_MC               1066.0   4.685741  2.068254\n",
       "L5_TPC:A            1066.0  15.911820  4.110642\n",
       "L5_TPC:B            1066.0  15.950281  3.936392\n",
       "L5_UPC              1066.0  15.758912  3.983185\n",
       "L6_ChC              1066.0   4.303940  2.066846\n",
       "L6_IPC              1066.0  20.729831  4.464170\n",
       "L6_MC               1066.0   4.305816  2.081509\n",
       "L6_TPC:A            1066.0  20.806754  4.485992\n",
       "L6_TPC:B            1066.0  20.861163  4.583851\n",
       "L6_UPC              1066.0  20.732645  4.540357"
      ]
     },
     "execution_count": 7,
     "metadata": {},
     "output_type": "execute_result"
    }
   ],
   "source": [
    "aff_summary"
   ]
  },
  {
   "cell_type": "code",
   "execution_count": 8,
   "metadata": {
    "ExecuteTime": {
     "end_time": "2019-11-13T17:30:16.217395Z",
     "start_time": "2019-11-13T17:29:10.832872Z"
    }
   },
   "outputs": [
    {
     "data": {
      "text/html": [
       "<div>\n",
       "<style scoped>\n",
       "    .dataframe tbody tr th:only-of-type {\n",
       "        vertical-align: middle;\n",
       "    }\n",
       "\n",
       "    .dataframe tbody tr th {\n",
       "        vertical-align: top;\n",
       "    }\n",
       "\n",
       "    .dataframe thead th {\n",
       "        text-align: right;\n",
       "    }\n",
       "</style>\n",
       "<table border=\"1\" class=\"dataframe\">\n",
       "  <thead>\n",
       "    <tr style=\"text-align: right;\">\n",
       "      <th></th>\n",
       "      <th>size</th>\n",
       "      <th>mean</th>\n",
       "      <th>std</th>\n",
       "    </tr>\n",
       "    <tr>\n",
       "      <th>post_synaptic_mtype</th>\n",
       "      <th></th>\n",
       "      <th></th>\n",
       "      <th></th>\n",
       "    </tr>\n",
       "  </thead>\n",
       "  <tbody>\n",
       "    <tr>\n",
       "      <th>L1_DAC</th>\n",
       "      <td>1066.0</td>\n",
       "      <td>1.369606</td>\n",
       "      <td>1.170199</td>\n",
       "    </tr>\n",
       "    <tr>\n",
       "      <th>L1_SLAC</th>\n",
       "      <td>1066.0</td>\n",
       "      <td>1.380863</td>\n",
       "      <td>1.185741</td>\n",
       "    </tr>\n",
       "    <tr>\n",
       "      <th>L23_ChC</th>\n",
       "      <td>1066.0</td>\n",
       "      <td>3.243902</td>\n",
       "      <td>1.809362</td>\n",
       "    </tr>\n",
       "    <tr>\n",
       "      <th>L23_MC</th>\n",
       "      <td>1066.0</td>\n",
       "      <td>3.272983</td>\n",
       "      <td>1.846596</td>\n",
       "    </tr>\n",
       "    <tr>\n",
       "      <th>L23_SBC</th>\n",
       "      <td>1066.0</td>\n",
       "      <td>3.278612</td>\n",
       "      <td>1.768332</td>\n",
       "    </tr>\n",
       "    <tr>\n",
       "      <th>L4_LBC</th>\n",
       "      <td>1066.0</td>\n",
       "      <td>1.759850</td>\n",
       "      <td>1.309597</td>\n",
       "    </tr>\n",
       "    <tr>\n",
       "      <th>L4_NGC</th>\n",
       "      <td>1066.0</td>\n",
       "      <td>1.888368</td>\n",
       "      <td>1.370965</td>\n",
       "    </tr>\n",
       "    <tr>\n",
       "      <th>L4_TPC</th>\n",
       "      <td>1066.0</td>\n",
       "      <td>35.666041</td>\n",
       "      <td>5.695325</td>\n",
       "    </tr>\n",
       "    <tr>\n",
       "      <th>L5_DBC</th>\n",
       "      <td>1066.0</td>\n",
       "      <td>4.919325</td>\n",
       "      <td>2.097855</td>\n",
       "    </tr>\n",
       "    <tr>\n",
       "      <th>L5_MC</th>\n",
       "      <td>1066.0</td>\n",
       "      <td>4.849906</td>\n",
       "      <td>2.196451</td>\n",
       "    </tr>\n",
       "    <tr>\n",
       "      <th>L5_TPC:A</th>\n",
       "      <td>1066.0</td>\n",
       "      <td>15.730769</td>\n",
       "      <td>4.100811</td>\n",
       "    </tr>\n",
       "    <tr>\n",
       "      <th>L5_TPC:B</th>\n",
       "      <td>1066.0</td>\n",
       "      <td>15.811445</td>\n",
       "      <td>3.966183</td>\n",
       "    </tr>\n",
       "    <tr>\n",
       "      <th>L5_UPC</th>\n",
       "      <td>1066.0</td>\n",
       "      <td>15.629456</td>\n",
       "      <td>3.898794</td>\n",
       "    </tr>\n",
       "    <tr>\n",
       "      <th>L6_ChC</th>\n",
       "      <td>1066.0</td>\n",
       "      <td>4.347092</td>\n",
       "      <td>2.033886</td>\n",
       "    </tr>\n",
       "    <tr>\n",
       "      <th>L6_IPC</th>\n",
       "      <td>1066.0</td>\n",
       "      <td>20.879925</td>\n",
       "      <td>4.679656</td>\n",
       "    </tr>\n",
       "    <tr>\n",
       "      <th>L6_MC</th>\n",
       "      <td>1066.0</td>\n",
       "      <td>4.372420</td>\n",
       "      <td>2.050340</td>\n",
       "    </tr>\n",
       "    <tr>\n",
       "      <th>L6_TPC:A</th>\n",
       "      <td>1066.0</td>\n",
       "      <td>20.806754</td>\n",
       "      <td>4.383515</td>\n",
       "    </tr>\n",
       "    <tr>\n",
       "      <th>L6_TPC:B</th>\n",
       "      <td>1066.0</td>\n",
       "      <td>20.781426</td>\n",
       "      <td>4.464158</td>\n",
       "    </tr>\n",
       "    <tr>\n",
       "      <th>L6_UPC</th>\n",
       "      <td>1066.0</td>\n",
       "      <td>20.488743</td>\n",
       "      <td>4.468604</td>\n",
       "    </tr>\n",
       "  </tbody>\n",
       "</table>\n",
       "</div>"
      ],
      "text/plain": [
       "                       size       mean       std\n",
       "post_synaptic_mtype                             \n",
       "L1_DAC               1066.0   1.369606  1.170199\n",
       "L1_SLAC              1066.0   1.380863  1.185741\n",
       "L23_ChC              1066.0   3.243902  1.809362\n",
       "L23_MC               1066.0   3.272983  1.846596\n",
       "L23_SBC              1066.0   3.278612  1.768332\n",
       "L4_LBC               1066.0   1.759850  1.309597\n",
       "L4_NGC               1066.0   1.888368  1.370965\n",
       "L4_TPC               1066.0  35.666041  5.695325\n",
       "L5_DBC               1066.0   4.919325  2.097855\n",
       "L5_MC                1066.0   4.849906  2.196451\n",
       "L5_TPC:A             1066.0  15.730769  4.100811\n",
       "L5_TPC:B             1066.0  15.811445  3.966183\n",
       "L5_UPC               1066.0  15.629456  3.898794\n",
       "L6_ChC               1066.0   4.347092  2.033886\n",
       "L6_IPC               1066.0  20.879925  4.679656\n",
       "L6_MC                1066.0   4.372420  2.050340\n",
       "L6_TPC:A             1066.0  20.806754  4.383515\n",
       "L6_TPC:B             1066.0  20.781426  4.464158\n",
       "L6_UPC               1066.0  20.488743  4.468604"
      ]
     },
     "execution_count": 8,
     "metadata": {},
     "output_type": "execute_result"
    }
   ],
   "source": [
    "adapter.get_efferent_connections_summary(\n",
    "    circuit_model,\n",
    "    {\"mtype\": \"L6_TPC:A\"},\n",
    "    {\"mtype\",})"
   ]
  },
  {
   "cell_type": "code",
   "execution_count": 39,
   "metadata": {
    "ExecuteTime": {
     "end_time": "2019-11-13T17:51:17.313042Z",
     "start_time": "2019-11-13T17:51:17.055151Z"
    }
   },
   "outputs": [
    {
     "data": {
      "text/plain": [
       "[Text(0, 0, 'L1_DAC'),\n",
       " Text(0, 0, 'L1_SLAC'),\n",
       " Text(0, 0, 'L23_ChC'),\n",
       " Text(0, 0, 'L23_MC'),\n",
       " Text(0, 0, 'L23_SBC'),\n",
       " Text(0, 0, 'L4_LBC'),\n",
       " Text(0, 0, 'L4_NGC'),\n",
       " Text(0, 0, 'L4_TPC'),\n",
       " Text(0, 0, 'L5_DBC'),\n",
       " Text(0, 0, 'L5_MC'),\n",
       " Text(0, 0, 'L5_TPC:A'),\n",
       " Text(0, 0, 'L5_TPC:B'),\n",
       " Text(0, 0, 'L5_UPC'),\n",
       " Text(0, 0, 'L6_ChC'),\n",
       " Text(0, 0, 'L6_IPC'),\n",
       " Text(0, 0, 'L6_MC'),\n",
       " Text(0, 0, 'L6_TPC:A'),\n",
       " Text(0, 0, 'L6_TPC:B'),\n",
       " Text(0, 0, 'L6_UPC')]"
      ]
     },
     "execution_count": 39,
     "metadata": {},
     "output_type": "execute_result"
    },
    {
     "data": {
      "image/png": "[encoded data removed]",
      "text/plain": [
       "<Figure size 432x288 with 1 Axes>"
      ]
     },
     "metadata": {
      "needs_background": "light"
     },
     "output_type": "display_data"
    }
   ],
   "source": [
    "import seaborn; seaborn.set\n",
    "import matplotlib.pyplot as plt\n",
    "graphic = seaborn.lineplot(\n",
    "    x=\"pre_synaptic_mtype\",\n",
    "    y=\"mean\",\n",
    "    #yerr=\"std\",\n",
    "    drawstyle=\"steps-mid\",\n",
    "    data=aff_summary.reset_index())\n",
    "graphic.set_xticklabels(\n",
    "    labels=aff_summary.reset_index().pre_synaptic_mtype,\n",
    "    rotation=65)"
   ]
  },
  {
   "cell_type": "code",
   "execution_count": 185,
   "metadata": {
    "ExecuteTime": {
     "end_time": "2019-11-13T12:43:24.151772Z",
     "start_time": "2019-11-13T12:41:45.595202Z"
    }
   },
   "outputs": [
    {
     "data": {
      "text/html": [
       "<div>\n",
       "<style scoped>\n",
       "    .dataframe tbody tr th:only-of-type {\n",
       "        vertical-align: middle;\n",
       "    }\n",
       "\n",
       "    .dataframe tbody tr th {\n",
       "        vertical-align: top;\n",
       "    }\n",
       "\n",
       "    .dataframe thead tr th {\n",
       "        text-align: left;\n",
       "    }\n",
       "\n",
       "    .dataframe thead tr:last-of-type th {\n",
       "        text-align: right;\n",
       "    }\n",
       "</style>\n",
       "<table border=\"1\" class=\"dataframe\">\n",
       "  <thead>\n",
       "    <tr>\n",
       "      <th></th>\n",
       "      <th colspan=\"3\" halign=\"left\">connection_strength</th>\n",
       "    </tr>\n",
       "    <tr>\n",
       "      <th></th>\n",
       "      <th>size</th>\n",
       "      <th>mean</th>\n",
       "      <th>std</th>\n",
       "    </tr>\n",
       "    <tr>\n",
       "      <th>dummy_variable</th>\n",
       "      <th></th>\n",
       "      <th></th>\n",
       "      <th></th>\n",
       "    </tr>\n",
       "  </thead>\n",
       "  <tbody>\n",
       "    <tr>\n",
       "      <th>0</th>\n",
       "      <td>10288</td>\n",
       "      <td>200.245529</td>\n",
       "      <td>14.266703</td>\n",
       "    </tr>\n",
       "  </tbody>\n",
       "</table>\n",
       "</div>"
      ],
      "text/plain": [
       "               connection_strength                       \n",
       "                              size        mean        std\n",
       "dummy_variable                                           \n",
       "0                            10288  200.245529  14.266703"
      ]
     },
     "execution_count": 185,
     "metadata": {},
     "output_type": "execute_result"
    }
   ],
   "source": [
    "pairs.groupby(\n",
    "    \"post_synaptic_gid\"\n",
    ").apply(\n",
    "    lambda post_connectivity: post_connectivity.assign(\n",
    "                                  dummy_variable=0\n",
    "                              ).groupby(\n",
    "                                  [\"dummy_variable\"]\n",
    "                              ).agg(\n",
    "                                [\"sum\"]\n",
    "                              ).connected.rename(\n",
    "                                  columns={\n",
    "                                    \"sum\": \"connection_strength\"\n",
    "                                  }\n",
    "                              )\n",
    ").groupby(\n",
    "    [\"dummy_variable\"]\n",
    ").agg(\n",
    "    [\"size\", \"mean\", \"std\"]\n",
    ")"
   ]
  },
  {
   "cell_type": "code",
   "execution_count": 186,
   "metadata": {
    "ExecuteTime": {
     "end_time": "2019-11-13T13:27:16.340127Z",
     "start_time": "2019-11-13T13:25:39.185008Z"
    }
   },
   "outputs": [
    {
     "data": {
      "text/html": [
       "<div>\n",
       "<style scoped>\n",
       "    .dataframe tbody tr th:only-of-type {\n",
       "        vertical-align: middle;\n",
       "    }\n",
       "\n",
       "    .dataframe tbody tr th {\n",
       "        vertical-align: top;\n",
       "    }\n",
       "\n",
       "    .dataframe thead tr th {\n",
       "        text-align: left;\n",
       "    }\n",
       "\n",
       "    .dataframe thead tr:last-of-type th {\n",
       "        text-align: right;\n",
       "    }\n",
       "</style>\n",
       "<table border=\"1\" class=\"dataframe\">\n",
       "  <thead>\n",
       "    <tr>\n",
       "      <th></th>\n",
       "      <th colspan=\"3\" halign=\"left\">connection_strength</th>\n",
       "    </tr>\n",
       "    <tr>\n",
       "      <th></th>\n",
       "      <th>size</th>\n",
       "      <th>mean</th>\n",
       "      <th>std</th>\n",
       "    </tr>\n",
       "    <tr>\n",
       "      <th>dummy_variable</th>\n",
       "      <th></th>\n",
       "      <th></th>\n",
       "      <th></th>\n",
       "    </tr>\n",
       "  </thead>\n",
       "  <tbody>\n",
       "    <tr>\n",
       "      <th>0</th>\n",
       "      <td>10288</td>\n",
       "      <td>200.245529</td>\n",
       "      <td>13.896533</td>\n",
       "    </tr>\n",
       "  </tbody>\n",
       "</table>\n",
       "</div>"
      ],
      "text/plain": [
       "               connection_strength                       \n",
       "                              size        mean        std\n",
       "dummy_variable                                           \n",
       "0                            10288  200.245529  13.896533"
      ]
     },
     "execution_count": 186,
     "metadata": {},
     "output_type": "execute_result"
    }
   ],
   "source": [
    "pairs.groupby(\n",
    "    \"pre_synaptic_gid\"\n",
    ").apply(\n",
    "    lambda pre_connectivity: pre_connectivity.assign(\n",
    "                                  dummy_variable=0\n",
    "                              ).groupby(\n",
    "                                  [\"dummy_variable\"]\n",
    "                              ).agg(\n",
    "                                [\"sum\"]\n",
    "                              ).connected.rename(\n",
    "                                  columns={\n",
    "                                    \"sum\": \"connection_strength\"\n",
    "                                  }\n",
    "                              )\n",
    ").groupby(\n",
    "    [\"dummy_variable\"]\n",
    ").agg(\n",
    "    [\"size\", \"mean\", \"std\"]\n",
    ")\n"
   ]
  },
  {
   "cell_type": "code",
   "execution_count": 164,
   "metadata": {
    "ExecuteTime": {
     "end_time": "2019-11-13T12:24:57.382762Z",
     "start_time": "2019-11-13T12:24:55.852495Z"
    }
   },
   "outputs": [
    {
     "data": {
      "text/html": [
       "<div>\n",
       "<style scoped>\n",
       "    .dataframe tbody tr th:only-of-type {\n",
       "        vertical-align: middle;\n",
       "    }\n",
       "\n",
       "    .dataframe tbody tr th {\n",
       "        vertical-align: top;\n",
       "    }\n",
       "\n",
       "    .dataframe thead th {\n",
       "        text-align: right;\n",
       "    }\n",
       "</style>\n",
       "<table border=\"1\" class=\"dataframe\">\n",
       "  <thead>\n",
       "    <tr style=\"text-align: right;\">\n",
       "      <th></th>\n",
       "      <th>pairs_total</th>\n",
       "      <th>pairs_connected</th>\n",
       "      <th>connection_probability</th>\n",
       "    </tr>\n",
       "    <tr>\n",
       "      <th>dummy_variable</th>\n",
       "      <th></th>\n",
       "      <th></th>\n",
       "      <th></th>\n",
       "    </tr>\n",
       "  </thead>\n",
       "  <tbody>\n",
       "    <tr>\n",
       "      <th>0</th>\n",
       "      <td>26896</td>\n",
       "      <td>525.0</td>\n",
       "      <td>0.01952</td>\n",
       "    </tr>\n",
       "  </tbody>\n",
       "</table>\n",
       "</div>"
      ],
      "text/plain": [
       "                pairs_total  pairs_connected  connection_probability\n",
       "dummy_variable                                                      \n",
       "0                     26896            525.0                 0.01952"
      ]
     },
     "execution_count": 164,
     "metadata": {},
     "output_type": "execute_result"
    }
   ],
   "source": [
    "pairs.groupby(\n",
    "    \"post_synaptic_gid\"\n",
    ").apply(\n",
    "    lambda post_connectivity: post_connectivity.assign(\n",
    "                                  dummy_variable=0\n",
    "                              ).groupby(\n",
    "                                  [\"dummy_variable\"]\n",
    "                              ).agg(\n",
    "                                  [\"size\", \"sum\"]\n",
    "                              ).connected.rename(\n",
    "                                  columns={\n",
    "                                      \"size\": \"pairs_total\",\n",
    "                                      \"sum\": \"pairs_connected\"\n",
    "                                  }\n",
    "                             )\n",
    ").groupby(\n",
    "    [\"dummy_variable\"]\n",
    ").agg(\n",
    "    \"sum\"\n",
    ").assign(\n",
    "    connection_probability = lambda summary: (\n",
    "        summary.pairs_connected / summary.pairs_total))"
   ]
  },
  {
   "cell_type": "code",
   "execution_count": 176,
   "metadata": {
    "ExecuteTime": {
     "end_time": "2019-11-13T12:35:29.105301Z",
     "start_time": "2019-11-13T12:35:27.642807Z"
    }
   },
   "outputs": [
    {
     "data": {
      "text/html": [
       "<div>\n",
       "<style scoped>\n",
       "    .dataframe tbody tr th:only-of-type {\n",
       "        vertical-align: middle;\n",
       "    }\n",
       "\n",
       "    .dataframe tbody tr th {\n",
       "        vertical-align: top;\n",
       "    }\n",
       "\n",
       "    .dataframe thead th {\n",
       "        text-align: right;\n",
       "    }\n",
       "</style>\n",
       "<table border=\"1\" class=\"dataframe\">\n",
       "  <thead>\n",
       "    <tr style=\"text-align: right;\">\n",
       "      <th></th>\n",
       "      <th>pairs_total</th>\n",
       "      <th>pairs_connected</th>\n",
       "      <th>connection_probability</th>\n",
       "    </tr>\n",
       "    <tr>\n",
       "      <th>dummy_variable</th>\n",
       "      <th></th>\n",
       "      <th></th>\n",
       "      <th></th>\n",
       "    </tr>\n",
       "  </thead>\n",
       "  <tbody>\n",
       "    <tr>\n",
       "      <th>0</th>\n",
       "      <td>26896</td>\n",
       "      <td>525.0</td>\n",
       "      <td>0.01952</td>\n",
       "    </tr>\n",
       "  </tbody>\n",
       "</table>\n",
       "</div>"
      ],
      "text/plain": [
       "                pairs_total  pairs_connected  connection_probability\n",
       "dummy_variable                                                      \n",
       "0                     26896            525.0                 0.01952"
      ]
     },
     "execution_count": 176,
     "metadata": {},
     "output_type": "execute_result"
    }
   ],
   "source": [
    "pairs.groupby(\n",
    "    \"pre_synaptic_gid\"\n",
    ").apply(\n",
    "    lambda pre_connectivity: pre_connectivity.assign(\n",
    "                                  dummy_variable=0\n",
    "                              ).groupby(\n",
    "                                  [\"dummy_variable\"]\n",
    "                              ).agg(\n",
    "                                  [\"size\", \"sum\"]\n",
    "                              ).connected.rename(\n",
    "                                  columns={\n",
    "                                      \"size\": \"pairs_total\",\n",
    "                                      \"sum\": \"pairs_connected\"\n",
    "                                  }\n",
    "                             )\n",
    ").groupby(\n",
    "    [\"dummy_variable\"]\n",
    ").agg(\n",
    "    \"sum\"\n",
    ").assign(\n",
    "    connection_probability = lambda summary: (\n",
    "        summary.pairs_connected / summary.pairs_total))\n"
   ]
  },
  {
   "cell_type": "markdown",
   "metadata": {
    "ExecuteTime": {
     "end_time": "2019-11-13T11:35:22.263918Z",
     "start_time": "2019-11-13T11:35:22.257486Z"
    }
   },
   "source": [
    "Instead of numpy, we can use pandas to reindex pre synaptic cells by \n",
    "afferent id of a post synaptic cell. But, pandas is slower!"
   ]
  },
  {
   "cell_type": "code",
   "execution_count": 121,
   "metadata": {
    "ExecuteTime": {
     "end_time": "2019-11-13T11:54:42.495428Z",
     "start_time": "2019-11-13T11:54:42.489798Z"
    }
   },
   "outputs": [
    {
     "data": {
      "text/plain": [
       "Index(['region', 'layer', 'nucleus', 'mtype', 'etype', 'morph_class',\n",
       "       'synapse_class', 'x', 'y', 'z', 'gid'],\n",
       "      dtype='object')"
      ]
     },
     "execution_count": 121,
     "metadata": {},
     "output_type": "execute_result"
    }
   ],
   "source": [
    "pre_synaptic_cells.columns"
   ]
  }
 ],
 "metadata": {
  "kernelspec": {
   "display_name": "Python 3",
   "language": "python",
   "name": "python3"
  },
  "language_info": {
   "codemirror_mode": {
    "name": "ipython",
    "version": 3
   },
   "file_extension": ".py",
   "mimetype": "text/x-python",
   "name": "python",
   "nbconvert_exporter": "python",
   "pygments_lexer": "ipython3",
   "version": "3.7.4"
  },
  "latex_envs": {
   "LaTeX_envs_menu_present": true,
   "autoclose": false,
   "autocomplete": true,
   "bibliofile": "biblio.bib",
   "cite_by": "apalike",
   "current_citInitial": 1,
   "eqLabelWithNumbers": true,
   "eqNumInitial": 1,
   "hotkeys": {
    "equation": "Ctrl-E",
    "itemize": "Ctrl-I"
   },
   "labels_anchors": false,
   "latex_user_defs": false,
   "report_style_numbering": false,
   "user_envs_cfg": false
  },
  "toc": {
   "base_numbering": 1,
   "nav_menu": {},
   "number_sections": true,
   "sideBar": true,
   "skip_h1_title": false,
   "title_cell": "Table of Contents",
   "title_sidebar": "Contents",
   "toc_cell": false,
   "toc_position": {},
   "toc_section_display": true,
   "toc_window_display": false
  },
  "varInspector": {
   "cols": {
    "lenName": 16,
    "lenType": 16,
    "lenVar": 40
   },
   "kernels_config": {
    "python": {
     "delete_cmd_postfix": "",
     "delete_cmd_prefix": "del ",
     "library": "var_list.py",
     "varRefreshCmd": "print(var_dic_list())"
    },
    "r": {
     "delete_cmd_postfix": ") ",
     "delete_cmd_prefix": "rm(",
     "library": "var_list.r",
     "varRefreshCmd": "cat(var_dic_list()) "
    }
   },
   "types_to_exclude": [
    "module",
    "function",
    "builtin_function_or_method",
    "instance",
    "_Feature"
   ],
   "window_display": false
  }
 },
 "nbformat": 4,
 "nbformat_minor": 2
}
