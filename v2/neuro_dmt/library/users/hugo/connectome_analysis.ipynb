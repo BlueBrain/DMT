{
 "cells": [
  {
   "cell_type": "code",
   "execution_count": 1,
   "metadata": {
    "ExecuteTime": {
     "end_time": "2020-02-12T15:35:08.938163Z",
     "start_time": "2020-02-12T15:35:07.745535Z"
    }
   },
   "outputs": [],
   "source": [
    "import sys\n",
    "#sys.path.append(\"/home/dictus/dmt\")\n",
    "from dmt.analysis import StructuredAnalysis"
   ]
  },
  {
   "cell_type": "code",
   "execution_count": 2,
   "metadata": {
    "ExecuteTime": {
     "end_time": "2020-02-12T15:35:09.456865Z",
     "start_time": "2020-02-12T15:35:08.940312Z"
    },
    "scrolled": false
   },
   "outputs": [
    {
     "name": "stdout",
     "output_type": "stream",
     "text": [
      "('layer', 'region', 'mesocolumn', 'height', 'depth')\n",
      "('layer', 'region', 'mesocolumn', 'height', 'depth', 'morphology_subclass', 'synapse_class', 'mtype')\n",
      "('layer', 'region', 'mesocolumn', 'height', 'depth')\n",
      "('layer', 'region', 'mesocolumn', 'height', 'depth')\n",
      "('region', 'layer', 'mesocolumn', 'height', 'depth', 'mtype', 'synapse_class', 'morphology_class', 'morphology_subclass')\n",
      "('presynaptic', 'postsynaptic')\n",
      "('presynaptic', 'postsynaptic')\n",
      "('presynaptic', 'postsynaptic')\n",
      "('presynaptic', 'postsynaptic')\n",
      "('presynaptic', 'postsynaptic')\n",
      "('region', 'layer', 'mesocolumn', 'hypercolumn', 'height', 'depth', 'mtype', 'morphology_subclass', 'synapse_class', 'morphology_class')\n",
      "('presynaptic', 'postsynaptic')\n"
     ]
    }
   ],
   "source": [
    "from neuro_dmt.library.users.hugo.models.bluebrain import\\\n",
    "    CircuitModel, CircuitAdapter"
   ]
  },
  {
   "cell_type": "code",
   "execution_count": 3,
   "metadata": {
    "ExecuteTime": {
     "end_time": "2020-02-12T15:35:09.485539Z",
     "start_time": "2020-02-12T15:35:09.459568Z"
    },
    "code_folding": [
     8,
     12,
     41
    ]
   },
   "outputs": [],
   "source": [
    "from dmt.tk.plotting.heat import HeatPlot\n",
    "from dmt.tk.plotting.circle import CirclePlot\n",
    "from neuro_dmt import terminology\n",
    "import pandas as pd\n",
    "import numpy as np\n",
    "\n",
    "# TODO: rename value_callback to label_callback\n",
    "# TODO: callback should not recieve 'pre'\n",
    "def custom_label_callback(row):\n",
    "    return row[terminology.cell.mtype]\n",
    "\n",
    "import matplotlib\n",
    "custom_cmap = matplotlib.colors.ListedColormap([\n",
    "    [129/255, 83/255, 120/255, 1.0],\n",
    "    [220/255, 224/255, 34/255, 1.0],\n",
    "    [91/255, 165/255, 217/255, 1.0],\n",
    "    [255/255, 35/255, 40/255, 1.0],\n",
    "    [140/255, 208/255, 105/255, 1.0]])\n",
    "\n",
    "def hue_by_layer_shade_by_sclass(groups):\n",
    "    layers = []\n",
    "    for g in groups.values():\n",
    "        if g[terminology.circuit.layer] not in layers:\n",
    "            layers.append(g[terminology.circuit.layer])\n",
    "\n",
    "    maxl = len(layers) - 1 if len(layers) > 1 else 1\n",
    "    hues = {label: custom_cmap(layers.index(g[terminology.circuit.layer]) / maxl) \n",
    "            for label, g in groups.items()}\n",
    "    \n",
    "    def set_shade(hue, sclass):\n",
    "        print(hue, sclass)\n",
    "        if 'EXC' in sclass:\n",
    "            return hue\n",
    "        else:\n",
    "            return hue * np.array([0.5, 0.5, 0.5, 1.0])\n",
    "        \n",
    "    colors = {label: {'edgecolor': (0.0, 0.0, 0.0, 1.0),\n",
    "                    'facecolor': set_shade(hues[label],\n",
    "                                           group[terminology.cell.synapse_class])}\n",
    "            for label, group in groups.items()}\n",
    "    return colors\n",
    "\n",
    "circle_plot = CirclePlot(space_between=0.01,\n",
    "                         color_callback=hue_by_layer_shade_by_sclass,\n",
    "                         min_conn_size=0.002, label_callback=custom_label_callback,\n",
    "                         connection_alpha=0.8)\n"
   ]
  },
  {
   "cell_type": "code",
   "execution_count": 4,
   "metadata": {
    "ExecuteTime": {
     "end_time": "2020-02-12T15:35:09.502892Z",
     "start_time": "2020-02-12T15:35:09.487295Z"
    },
    "code_folding": []
   },
   "outputs": [],
   "source": [
    "from collections import OrderedDict\n",
    "def mtype_to_mtype_pathways(adapter, model):\n",
    "    \"\"\"\n",
    "    gets the available mtypes from the model\n",
    "    effectively makes this a 'by mtype' validation\n",
    "    \"\"\"\n",
    "    mtypes = adapter.get_mtypes(model,\n",
    "                                properties=[\n",
    "                                    terminology.cell.mtype,\n",
    "                                    terminology.circuit.layer, \n",
    "                                    terminology.cell.synapse_class])\n",
    "    def list_if_not_list(item):\n",
    "        if isinstance(item, list):\n",
    "            return item\n",
    "        return [item]\n",
    "    sorted_mtypes = sorted(mtypes,\n",
    "                           key=lambda d: (\n",
    "                               list_if_not_list(d[terminology.circuit.layer]),\n",
    "                               d[terminology.cell.synapse_class]))\n",
    "    out= [OrderedDict([(terminology.cell.presynaptic, pre),\n",
    "                       (terminology.cell.postsynaptic, post)])\n",
    "          for post in sorted_mtypes for pre in sorted_mtypes]\n",
    "    return out\n"
   ]
  },
  {
   "cell_type": "code",
   "execution_count": 5,
   "metadata": {
    "ExecuteTime": {
     "end_time": "2020-02-12T15:35:09.515893Z",
     "start_time": "2020-02-12T15:35:09.505107Z"
    }
   },
   "outputs": [],
   "source": [
    "from dmt.model.interface import Interface\n",
    "from dmt.tk.terminology import Term"
   ]
  },
  {
   "cell_type": "code",
   "execution_count": 12,
   "metadata": {
    "ExecuteTime": {
     "end_time": "2020-02-12T15:35:37.777002Z",
     "start_time": "2020-02-12T15:35:37.768090Z"
    },
    "code_folding": [
     2,
     33
    ]
   },
   "outputs": [
    {
     "name": "stdout",
     "output_type": "stream",
     "text": [
      "('presynaptic', 'postsynaptic')\n"
     ]
    }
   ],
   "source": [
    "# TODO: parralelize measuements?\n",
    "# TODO: why does AdapterInterface need to be a subclass of Interface?\n",
    "class ByMtypeSynapsesPerConnectionInterface(Interface):\n",
    "    \n",
    "    __measurement__ = \"synapses_per_connection\"\n",
    "    @terminology.use(\n",
    "        terminology.cell.presynaptic,\n",
    "        terminology.cell.postsynaptic)\n",
    "    def get_synapses_per_connection(self, model, **parameters):\n",
    "        \"\"\"\n",
    "        get the number of synapses per connection from the model\n",
    "        for the pathway defined be pre and post mtype\n",
    "            \n",
    "        Arguments:\n",
    "            model: the model to get the data from\n",
    "            {parameters}\n",
    "            \n",
    "        Returns:\n",
    "            Array: number of synapses for each connection sampled\n",
    "            \"\"\"\n",
    "        raise NotImplementedError\n",
    "        \n",
    "    def get_mtypes(self, model,\n",
    "                   properties=(terminology.cell.mtype,\n",
    "                               terminology.circuit.layer,\n",
    "                               terminology.cell.synapse_class)):\n",
    "        \"\"\"\n",
    "        get all the mtypes represented in the model\n",
    "        potentially with data on the layer(s) and sclass of each mtype\n",
    "        \"\"\"\n",
    "        raise NotImplementedError\n",
    "\n",
    "        \n",
    "def measure_syn_per_conn(adapter, model, **parameters):\n",
    "    return adapter.get_synapses_per_connection(model, **parameters)\n",
    "measure_syn_per_conn.phenomenon = Term('Synapses per Connection', \n",
    "                                       \"the mean number of synapses on each connection between cells\")\n",
    "        \n",
    "ByMtypeSynapsesPerConnectionAnalysis = StructuredAnalysis(\n",
    "    measurement_parameters=mtype_to_mtype_pathways,\n",
    "    AdapterInterface=ByMtypeSynapsesPerConnectionInterface,\n",
    "    sample_measurement=measure_syn_per_conn,\n",
    "    plotter=HeatPlot(label_callback=custom_label_callback))"
   ]
  },
  {
   "cell_type": "code",
   "execution_count": 13,
   "metadata": {
    "ExecuteTime": {
     "end_time": "2020-02-12T15:35:38.036900Z",
     "start_time": "2020-02-12T15:35:38.027028Z"
    },
    "code_folding": [
     2
    ]
   },
   "outputs": [
    {
     "name": "stdout",
     "output_type": "stream",
     "text": [
      "('presynaptic', 'postsynaptic')\n"
     ]
    }
   ],
   "source": [
    "# TODO: decorate AdapterInterface method so it behaves as measurement_method\n",
    "#       provide phenomenon as decorator argument\n",
    "class ByMtypeConnectionProbabilityInterface(Interface):\n",
    "    \n",
    "    __measurement__ = \"connection_probability\"\n",
    "    @terminology.use(\n",
    "        terminology.cell.presynaptic,\n",
    "        terminology.cell.postsynaptic)\n",
    "    def get_connection_probability(self, model, **parameters):\n",
    "        \"\"\"\n",
    "            get the probability of a connection between cells\n",
    "            \n",
    "            Arguments:\n",
    "                model: the adapted model to extract data from\n",
    "                {parameters}\n",
    "            \n",
    "            Returns:\n",
    "                Array: number of synapses for each connection sampled\n",
    "        \"\"\"\n",
    "        raise NotImplementedError\n",
    "        \n",
    "    def get_mtypes(self, model,\n",
    "                   properties=(terminology.cell.mtype,\n",
    "                               terminology.circuit.layer,\n",
    "                               terminology.cell.synapse_class)):\n",
    "        \"\"\"\n",
    "        get all the mtypes represented in the model\n",
    "        potentially with data on the layer(s) and sclass of each mtype\n",
    "        \"\"\"\n",
    "        raise NotImplementedError\n",
    "        \n",
    "\n",
    "def measure_connection_probability(adapter, model, **parameters):\n",
    "    connprob = adapter.get_connection_probability(model, **parameters)\n",
    "    return connprob if connprob != 0 else np.nan\n",
    "measure_connection_probability.phenomenon =\\\n",
    "    Term('Connection Probability',\n",
    "         \"The probability of a connection existing between two random cells, \"\n",
    "         \"one from a presynaptic group, one from a postsynaptic group\")\n",
    "        \n",
    "ByMtypeConnectionProbabilityAnalysis = StructuredAnalysis(\n",
    "    measurement_parameters=mtype_to_mtype_pathways,\n",
    "    AdapterInterface=ByMtypeConnectionProbabilityInterface,\n",
    "    sample_measurement=measure_connection_probability,\n",
    "    plotter=HeatPlot(label_callback=custom_label_callback))"
   ]
  },
  {
   "cell_type": "code",
   "execution_count": 14,
   "metadata": {
    "ExecuteTime": {
     "end_time": "2020-02-12T15:35:38.326583Z",
     "start_time": "2020-02-12T15:35:38.315154Z"
    },
    "code_folding": [
     1,
     31,
     33,
     37
    ]
   },
   "outputs": [
    {
     "name": "stdout",
     "output_type": "stream",
     "text": [
      "('presynaptic', 'postsynaptic')\n"
     ]
    }
   ],
   "source": [
    "\n",
    "class ByMtypePathwaySynapsesInterface(Interface):\n",
    "    \n",
    "    @terminology.use(\n",
    "        terminology.cell.presynaptic,\n",
    "        terminology.cell.postsynaptic)\n",
    "    def get_pathway_synapses(self, model, **parameters):\n",
    "        \"\"\"\n",
    "        get the total number of synapses on one group of cells from another\n",
    "            \n",
    "        Arguments:\n",
    "            model: the adapted model to extract data from\n",
    "            {parameters}\n",
    "            \n",
    "        Returns:\n",
    "            Array: number of synapses for each connection sampled\n",
    "        \"\"\"\n",
    "        raise NotImplementedError\n",
    "\n",
    "    def get_mtypes(self, model,\n",
    "                   properties=(\n",
    "                       terminology.cell.mtype,\n",
    "                       terminology.circuit.layer, \n",
    "                       terminology.cell.synapse_class)):\n",
    "        \"\"\"\n",
    "        get all the mtypes represented in the model\n",
    "        potentially with data on the layer(s) and sclass of each mtype\n",
    "        \"\"\"\n",
    "        raise NotImplementedError    \n",
    "\n",
    "        \n",
    "def measure_pathway_synapses(adapter, model, **parameters):\n",
    "    return adapter.get_pathway_synapses(model, **parameters)\n",
    "measure_pathway_synapses.phenomenon =\\\n",
    "    Term(\"Pathway Synapses\",\n",
    "         \"The total number of synapses from one cell group to another\")\n",
    "        \n",
    "ByMtypePathwaySynapsesAnalysis = StructuredAnalysis(\n",
    "    measurement_parameters=mtype_to_mtype_pathways,\n",
    "    AdapterInterface=ByMtypeConnectionProbabilityInterface,\n",
    "    sample_measurement=measure_pathway_synapses,\n",
    "    default_adapter=CircuitAdapter(),\n",
    "    plotter=circle_plot)\n"
   ]
  },
  {
   "cell_type": "code",
   "execution_count": 15,
   "metadata": {
    "ExecuteTime": {
     "end_time": "2020-02-12T15:35:38.968519Z",
     "start_time": "2020-02-12T15:35:38.959014Z"
    },
    "code_folding": []
   },
   "outputs": [],
   "source": [
    "import numpy as np\n",
    "\n",
    "class DummyAdapter:\n",
    "    \n",
    "    label = 'dummy model'\n",
    "    \n",
    "    def get_synapses_per_connection(self, model, **params):\n",
    "        return np.mean(np.random.poisson(np.random.poisson(10), 1 + np.random.poisson(1)))\n",
    "    \n",
    "    def get_pathway_synapses(self, model, **params):\n",
    "        return np.mean(np.random.poisson(np.random.poisson(10), 1 + np.random.poisson(1)))\n",
    "    \n",
    "    def get_connection_probability(self, model, **params):\n",
    "        return np.mean(np.random.poisson(np.random.poisson(10), 1 + np.random.poisson(1)))\n",
    "    \n",
    "    def get_mtypes(self, model, properties=()):\n",
    "        return [\n",
    "            {terminology.cell.mtype: letter,\n",
    "             terminology.circuit.layer: [1], \n",
    "             terminology.cell.synapse_class: 'EXC'} \n",
    "            for letter in ['aaaaaaaa', 'bbbbbbbb', 'cccccccc', 'dddddd', 'eeeeeeee', 'fffffff']]"
   ]
  },
  {
   "cell_type": "code",
   "execution_count": 16,
   "metadata": {
    "ExecuteTime": {
     "end_time": "2020-02-12T15:35:39.574489Z",
     "start_time": "2020-02-12T15:35:39.516086Z"
    }
   },
   "outputs": [
    {
     "name": "stderr",
     "output_type": "stream",
     "text": [
      "100%|██████████| 720/720 [00:00<00:00, 30725.63it/s]\n"
     ]
    },
    {
     "data": {
      "text/plain": [
       "<dmt.tk.reporting.Report at 0x11fcbffd0>"
      ]
     },
     "execution_count": 16,
     "metadata": {},
     "output_type": "execute_result"
    }
   ],
   "source": [
    "ByMtypeConnectionProbabilityAnalysis((DummyAdapter(), ''))\n"
   ]
  },
  {
   "cell_type": "code",
   "execution_count": 17,
   "metadata": {
    "ExecuteTime": {
     "end_time": "2020-02-12T15:35:40.592628Z",
     "start_time": "2020-02-12T15:35:40.536671Z"
    }
   },
   "outputs": [
    {
     "name": "stderr",
     "output_type": "stream",
     "text": [
      "100%|██████████| 720/720 [00:00<00:00, 34803.09it/s]\n"
     ]
    },
    {
     "data": {
      "text/plain": [
       "<dmt.tk.reporting.Report at 0x11fbea190>"
      ]
     },
     "execution_count": 17,
     "metadata": {},
     "output_type": "execute_result"
    }
   ],
   "source": [
    "ByMtypeSynapsesPerConnectionAnalysis((DummyAdapter(), ''))"
   ]
  },
  {
   "cell_type": "code",
   "execution_count": 18,
   "metadata": {
    "ExecuteTime": {
     "end_time": "2020-02-12T15:35:42.523013Z",
     "start_time": "2020-02-12T15:35:42.461268Z"
    }
   },
   "outputs": [
    {
     "name": "stderr",
     "output_type": "stream",
     "text": [
      "100%|██████████| 720/720 [00:00<00:00, 35278.37it/s]\n",
      "/Users/vishalsoodmuchu/.vmgr_repo/py37/lib/python3.7/site-packages/dmt/analysis/structured.py:327: Warning: \"\n",
      "            Plotting failed:\n",
      "            type object 'data' has no attribute 'all',\n",
      "            Traceback (most recent call last):\n",
      "  File \"/Users/vishalsoodmuchu/.vmgr_repo/py37/lib/python3.7/site-packages/dmt/analysis/structured.py\", line 319, in _get_report\n",
      "    fig = self.plotter(measurements, phenomenon=self.phenomenon)\n",
      "  File \"/Users/vishalsoodmuchu/.vmgr_repo/py37/lib/python3.7/site-packages/dmt/tk/plotting/__init__.py\", line 166, in __call__\n",
      "    for label, dataframe in dataframes_dict.items()]\n",
      "  File \"/Users/vishalsoodmuchu/.vmgr_repo/py37/lib/python3.7/site-packages/dmt/tk/plotting/__init__.py\", line 166, in <listcomp>\n",
      "    for label, dataframe in dataframes_dict.items()]\n",
      "  File \"/Users/vishalsoodmuchu/.vmgr_repo/py37/lib/python3.7/site-packages/dmt/tk/plotting/circle.py\", line 411, in plot\n",
      "    = self.__plot_components__(df, values=values)\n",
      "  File \"/Users/vishalsoodmuchu/.vmgr_repo/py37/lib/python3.7/site-packages/dmt/tk/plotting/circle.py\", line 398, in __plot_components__\n",
      "    pvt, groups = self._prepare_plot(df, values)\n",
      "  File \"/Users/vishalsoodmuchu/.vmgr_repo/py37/lib/python3.7/site-packages/dmt/tk/plotting/circle.py\", line 230, in _prepare_plot\n",
      "    label_callback=self.label_callback)\n",
      "  File \"/Users/vishalsoodmuchu/.vmgr_repo/py37/lib/python3.7/site-packages/dmt/tk/plotting/utils/data.py\", line 138, in pivot_table\n",
      "    index=index, columns=columns)\n",
      "  File \"/Users/vishalsoodmuchu/.vmgr_repo/py37/lib/python3.7/site-packages/dmt/tk/plotting/utils/data.py\", line 88, in infer_index_columns\n",
      "    non_data_columns = [c for c in cols if c not in dataterms.all]\n",
      "  File \"/Users/vishalsoodmuchu/.vmgr_repo/py37/lib/python3.7/site-packages/dmt/tk/plotting/utils/data.py\", line 88, in <listcomp>\n",
      "    non_data_columns = [c for c in cols if c not in dataterms.all]\n",
      "AttributeError: type object 'data' has no attribute 'all'\n",
      "\n",
      "            returning raw measurments\n",
      "  warnings.warn(Warning(fig))\n"
     ]
    },
    {
     "data": {
      "text/plain": [
       "<dmt.tk.reporting.Report at 0x11fd1e3d0>"
      ]
     },
     "execution_count": 18,
     "metadata": {},
     "output_type": "execute_result"
    }
   ],
   "source": [
    "ByMtypePathwaySynapsesAnalysis((DummyAdapter(), ''))"
   ]
  },
  {
   "cell_type": "code",
   "execution_count": 19,
   "metadata": {
    "ExecuteTime": {
     "end_time": "2020-02-12T15:35:45.138930Z",
     "start_time": "2020-02-12T15:35:45.124299Z"
    }
   },
   "outputs": [
    {
     "ename": "FileNotFoundError",
     "evalue": "[Errno 2] No such file or directory: '/gpfs/bbp.cscs.ch/project/proj55/iavarone/releases/circuits/O1/2019-07-18/CircuitConfig'",
     "output_type": "error",
     "traceback": [
      "\u001b[0;31m---------------------------------------------------------------------------\u001b[0m",
      "\u001b[0;31mFileNotFoundError\u001b[0m                         Traceback (most recent call last)",
      "\u001b[0;32m<ipython-input-19-177026128ed4>\u001b[0m in \u001b[0;36m<module>\u001b[0;34m\u001b[0m\n\u001b[0;32m----> 1\u001b[0;31m \u001b[0mthalamus_circuit\u001b[0m \u001b[0;34m=\u001b[0m \u001b[0mCircuitModel\u001b[0m\u001b[0;34m(\u001b[0m\u001b[0;34m\"/gpfs/bbp.cscs.ch/project/proj55/iavarone/releases/circuits/O1/2019-07-18/CircuitConfig\"\u001b[0m\u001b[0;34m)\u001b[0m\u001b[0;34m\u001b[0m\u001b[0;34m\u001b[0m\u001b[0m\n\u001b[0m",
      "\u001b[0;32m~/.vmgr_repo/py37/lib/python3.7/site-packages/neuro_dmt/library/users/hugo/models/bluebrain/circuit/model.py\u001b[0m in \u001b[0;36m__init__\u001b[0;34m(self, circuit_config)\u001b[0m\n\u001b[1;32m    214\u001b[0m     \u001b[0;32mdef\u001b[0m \u001b[0m__init__\u001b[0m\u001b[0;34m(\u001b[0m\u001b[0mself\u001b[0m\u001b[0;34m,\u001b[0m \u001b[0mcircuit_config\u001b[0m\u001b[0;34m)\u001b[0m\u001b[0;34m:\u001b[0m\u001b[0;34m\u001b[0m\u001b[0;34m\u001b[0m\u001b[0m\n\u001b[1;32m    215\u001b[0m         \u001b[0;34m\"\"\"compose an appropriate adapter from circuit_config\"\"\"\u001b[0m\u001b[0;34m\u001b[0m\u001b[0;34m\u001b[0m\u001b[0m\n\u001b[0;32m--> 216\u001b[0;31m         \u001b[0mself\u001b[0m\u001b[0;34m.\u001b[0m\u001b[0m_circuit\u001b[0m \u001b[0;34m=\u001b[0m \u001b[0mbp\u001b[0m\u001b[0;34m.\u001b[0m\u001b[0mCircuit\u001b[0m\u001b[0;34m(\u001b[0m\u001b[0mcircuit_config\u001b[0m\u001b[0;34m)\u001b[0m\u001b[0;34m\u001b[0m\u001b[0;34m\u001b[0m\u001b[0m\n\u001b[0m\u001b[1;32m    217\u001b[0m         \u001b[0;31m# TODO: there has to be a better way to do this\u001b[0m\u001b[0;34m\u001b[0m\u001b[0;34m\u001b[0m\u001b[0;34m\u001b[0m\u001b[0m\n\u001b[1;32m    218\u001b[0m         \u001b[0;32mtry\u001b[0m\u001b[0;34m:\u001b[0m\u001b[0;34m\u001b[0m\u001b[0;34m\u001b[0m\u001b[0m\n",
      "\u001b[0;32m~/.vmgr_repo/py37/lib/python3.7/site-packages/bluepy/v2/circuit.py\u001b[0m in \u001b[0;36m__init__\u001b[0;34m(self, config)\u001b[0m\n\u001b[1;32m    153\u001b[0m             \u001b[0mself\u001b[0m\u001b[0;34m.\u001b[0m\u001b[0m_config\u001b[0m \u001b[0;34m=\u001b[0m \u001b[0m_parse_blueconfig\u001b[0m\u001b[0;34m(\u001b[0m\u001b[0mconfig\u001b[0m\u001b[0;34m)\u001b[0m\u001b[0;34m\u001b[0m\u001b[0;34m\u001b[0m\u001b[0m\n\u001b[1;32m    154\u001b[0m         \u001b[0;32melif\u001b[0m \u001b[0misinstance\u001b[0m\u001b[0;34m(\u001b[0m\u001b[0mconfig\u001b[0m\u001b[0;34m,\u001b[0m \u001b[0msix\u001b[0m\u001b[0;34m.\u001b[0m\u001b[0mstring_types\u001b[0m\u001b[0;34m)\u001b[0m\u001b[0;34m:\u001b[0m\u001b[0;34m\u001b[0m\u001b[0;34m\u001b[0m\u001b[0m\n\u001b[0;32m--> 155\u001b[0;31m             \u001b[0mself\u001b[0m\u001b[0;34m.\u001b[0m\u001b[0m_config\u001b[0m \u001b[0;34m=\u001b[0m \u001b[0m_get_circuit_config\u001b[0m\u001b[0;34m(\u001b[0m\u001b[0mconfig\u001b[0m\u001b[0;34m)\u001b[0m\u001b[0;34m\u001b[0m\u001b[0;34m\u001b[0m\u001b[0m\n\u001b[0m\u001b[1;32m    156\u001b[0m         \u001b[0;32melif\u001b[0m \u001b[0misinstance\u001b[0m\u001b[0;34m(\u001b[0m\u001b[0mconfig\u001b[0m\u001b[0;34m,\u001b[0m \u001b[0mMapping\u001b[0m\u001b[0;34m)\u001b[0m\u001b[0;34m:\u001b[0m\u001b[0;34m\u001b[0m\u001b[0;34m\u001b[0m\u001b[0m\n\u001b[1;32m    157\u001b[0m             \u001b[0mself\u001b[0m\u001b[0;34m.\u001b[0m\u001b[0m_config\u001b[0m \u001b[0;34m=\u001b[0m \u001b[0mconfig\u001b[0m\u001b[0;34m\u001b[0m\u001b[0;34m\u001b[0m\u001b[0m\n",
      "\u001b[0;32m~/.vmgr_repo/py37/lib/python3.7/site-packages/bluepy/v2/circuit.py\u001b[0m in \u001b[0;36m_get_circuit_config\u001b[0;34m(url)\u001b[0m\n\u001b[1;32m    128\u001b[0m     \u001b[0;32mif\u001b[0m \u001b[0mis_local_path\u001b[0m\u001b[0;34m(\u001b[0m\u001b[0murl\u001b[0m\u001b[0;34m)\u001b[0m\u001b[0;34m:\u001b[0m\u001b[0;34m\u001b[0m\u001b[0;34m\u001b[0m\u001b[0m\n\u001b[1;32m    129\u001b[0m         \u001b[0mfilepath\u001b[0m \u001b[0;34m=\u001b[0m \u001b[0mget_file_path_by_url\u001b[0m\u001b[0;34m(\u001b[0m\u001b[0murl\u001b[0m\u001b[0;34m)\u001b[0m\u001b[0;34m\u001b[0m\u001b[0;34m\u001b[0m\u001b[0m\n\u001b[0;32m--> 130\u001b[0;31m         \u001b[0;32mwith\u001b[0m \u001b[0mopen\u001b[0m\u001b[0;34m(\u001b[0m\u001b[0mfilepath\u001b[0m\u001b[0;34m)\u001b[0m \u001b[0;32mas\u001b[0m \u001b[0mf\u001b[0m\u001b[0;34m:\u001b[0m\u001b[0;34m\u001b[0m\u001b[0;34m\u001b[0m\u001b[0m\n\u001b[0m\u001b[1;32m    131\u001b[0m             \u001b[0mconfig_dir\u001b[0m \u001b[0;34m=\u001b[0m \u001b[0mos\u001b[0m\u001b[0;34m.\u001b[0m\u001b[0mpath\u001b[0m\u001b[0;34m.\u001b[0m\u001b[0mdirname\u001b[0m\u001b[0;34m(\u001b[0m\u001b[0murl\u001b[0m\u001b[0;34m)\u001b[0m\u001b[0;34m\u001b[0m\u001b[0;34m\u001b[0m\u001b[0m\n\u001b[1;32m    132\u001b[0m             \u001b[0;32mif\u001b[0m \u001b[0mfilepath\u001b[0m\u001b[0;34m.\u001b[0m\u001b[0mendswith\u001b[0m\u001b[0;34m(\u001b[0m\u001b[0;34m\".yaml\"\u001b[0m\u001b[0;34m)\u001b[0m\u001b[0;34m:\u001b[0m\u001b[0;34m\u001b[0m\u001b[0;34m\u001b[0m\u001b[0m\n",
      "\u001b[0;31mFileNotFoundError\u001b[0m: [Errno 2] No such file or directory: '/gpfs/bbp.cscs.ch/project/proj55/iavarone/releases/circuits/O1/2019-07-18/CircuitConfig'"
     ]
    }
   ],
   "source": [
    "thalamus_circuit =\\\n",
    "    CircuitModel(\n",
    "    \"/gpfs/bbp.cscs.ch/project/proj55/iavarone/releases/circuits/O1/2019-07-18/CircuitConfig\")"
   ]
  },
  {
   "cell_type": "code",
   "execution_count": null,
   "metadata": {
    "ExecuteTime": {
     "end_time": "2020-02-12T15:35:10.217224Z",
     "start_time": "2020-02-12T15:35:07.777Z"
    }
   },
   "outputs": [],
   "source": [
    "thalamus_pathway_synapses = ByMtypePathwaySynapsesAnalysis((CircuitAdapter(), thalamus_circuit))"
   ]
  },
  {
   "cell_type": "code",
   "execution_count": null,
   "metadata": {
    "ExecuteTime": {
     "end_time": "2020-02-12T15:35:10.219470Z",
     "start_time": "2020-02-12T15:35:07.780Z"
    }
   },
   "outputs": [],
   "source": [
    "thalamus_connprob = ByMtypeConnectionProbabilityAnalysis((CircuitAdapter(), thalamus_circuit))"
   ]
  },
  {
   "cell_type": "code",
   "execution_count": null,
   "metadata": {
    "ExecuteTime": {
     "end_time": "2020-02-12T15:35:10.226631Z",
     "start_time": "2020-02-12T15:35:07.782Z"
    }
   },
   "outputs": [],
   "source": [
    "thalamus_synperconn = ByMtypeSynapsesPerConnectionAnalysis((CircuitAdapter(), thalamus_circuit))"
   ]
  },
  {
   "cell_type": "code",
   "execution_count": null,
   "metadata": {
    "ExecuteTime": {
     "end_time": "2020-02-12T15:35:10.232175Z",
     "start_time": "2020-02-12T15:35:07.785Z"
    },
    "scrolled": true
   },
   "outputs": [],
   "source": [
    "thalamus_pathway_synapses.measurement\n"
   ]
  },
  {
   "cell_type": "code",
   "execution_count": null,
   "metadata": {},
   "outputs": [],
   "source": []
  },
  {
   "cell_type": "code",
   "execution_count": null,
   "metadata": {},
   "outputs": [],
   "source": [
    "\n"
   ]
  },
  {
   "cell_type": "code",
   "execution_count": null,
   "metadata": {
    "ExecuteTime": {
     "end_time": "2020-02-12T15:35:10.235216Z",
     "start_time": "2020-02-12T15:35:07.790Z"
    }
   },
   "outputs": [],
   "source": [
    "proj1_circuit = \"/gpfs/bbp.cscs.ch/project/proj1/circuits/SomatosensoryCxS1-v5.r0/O1/merged_circuit/CircuitConfig\""
   ]
  },
  {
   "cell_type": "code",
   "execution_count": null,
   "metadata": {
    "ExecuteTime": {
     "end_time": "2020-02-12T15:35:10.237469Z",
     "start_time": "2020-02-12T15:35:07.795Z"
    }
   },
   "outputs": [],
   "source": [
    "conn_prob_report = ByMtypeConnectionProbabilityAnalysis((CircuitAdapter(), CircuitModel(proj1_circuit)))"
   ]
  },
  {
   "cell_type": "code",
   "execution_count": null,
   "metadata": {
    "ExecuteTime": {
     "end_time": "2020-02-12T15:35:10.238991Z",
     "start_time": "2020-02-12T15:35:07.797Z"
    }
   },
   "outputs": [],
   "source": [
    "syn_per_conn_report = ByMtypeSynapsesPerConnectionAnalysis((CircuitAdapter(), CircuitModel(proj1_circuit)))"
   ]
  },
  {
   "cell_type": "markdown",
   "metadata": {},
   "source": []
  },
  {
   "cell_type": "code",
   "execution_count": null,
   "metadata": {
    "ExecuteTime": {
     "end_time": "2020-02-12T15:35:10.242639Z",
     "start_time": "2020-02-12T15:35:07.889Z"
    }
   },
   "outputs": [],
   "source": [
    "pathway_synapses_report = ByMtypePathwaySynapsesAnalysis((CircuitAdapter(), CircuitModel(proj1_circuit)))"
   ]
  },
  {
   "cell_type": "code",
   "execution_count": null,
   "metadata": {},
   "outputs": [],
   "source": []
  },
  {
   "cell_type": "code",
   "execution_count": null,
   "metadata": {},
   "outputs": [],
   "source": []
  },
  {
   "cell_type": "code",
   "execution_count": null,
   "metadata": {},
   "outputs": [],
   "source": []
  },
  {
   "cell_type": "code",
   "execution_count": null,
   "metadata": {},
   "outputs": [],
   "source": []
  }
 ],
 "metadata": {
  "kernelspec": {
   "display_name": "Python 3",
   "language": "python",
   "name": "python3"
  },
  "language_info": {
   "codemirror_mode": {
    "name": "ipython",
    "version": 3
   },
   "file_extension": ".py",
   "mimetype": "text/x-python",
   "name": "python",
   "nbconvert_exporter": "python",
   "pygments_lexer": "ipython3",
   "version": "3.7.4"
  },
  "latex_envs": {
   "LaTeX_envs_menu_present": true,
   "autoclose": false,
   "autocomplete": true,
   "bibliofile": "biblio.bib",
   "cite_by": "apalike",
   "current_citInitial": 1,
   "eqLabelWithNumbers": true,
   "eqNumInitial": 1,
   "hotkeys": {
    "equation": "Ctrl-E",
    "itemize": "Ctrl-I"
   },
   "labels_anchors": false,
   "latex_user_defs": false,
   "report_style_numbering": false,
   "user_envs_cfg": false
  },
  "toc": {
   "base_numbering": 1,
   "nav_menu": {},
   "number_sections": true,
   "sideBar": true,
   "skip_h1_title": false,
   "title_cell": "Table of Contents",
   "title_sidebar": "Contents",
   "toc_cell": false,
   "toc_position": {},
   "toc_section_display": true,
   "toc_window_display": false
  },
  "varInspector": {
   "cols": {
    "lenName": 16,
    "lenType": 16,
    "lenVar": 40
   },
   "kernels_config": {
    "python": {
     "delete_cmd_postfix": "",
     "delete_cmd_prefix": "del ",
     "library": "var_list.py",
     "varRefreshCmd": "print(var_dic_list())"
    },
    "r": {
     "delete_cmd_postfix": ") ",
     "delete_cmd_prefix": "rm(",
     "library": "var_list.r",
     "varRefreshCmd": "cat(var_dic_list()) "
    }
   },
   "types_to_exclude": [
    "module",
    "function",
    "builtin_function_or_method",
    "instance",
    "_Feature"
   ],
   "window_display": false
  }
 },
 "nbformat": 4,
 "nbformat_minor": 2
}
