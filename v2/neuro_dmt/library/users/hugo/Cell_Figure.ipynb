{
 "cells": [
  {
   "cell_type": "code",
   "execution_count": 9,
   "metadata": {},
   "outputs": [],
   "source": [
    "import sys\n",
    "sys.path.append(\"/home/dictus/bakdmt/v2\")\n",
    "from neuro_dmt.library.users.hugo.validations import SimpleValidation"
   ]
  },
  {
   "cell_type": "code",
   "execution_count": null,
   "metadata": {},
   "outputs": [],
   "source": []
  },
  {
   "cell_type": "code",
   "execution_count": 10,
   "metadata": {},
   "outputs": [],
   "source": [
    "from dmt.model.interface import Interface\n",
    "from neuro_dmt.library.users.hugo.adapters import PRESYNAPTIC, POSTSYNAPTIC, SYN_CLASS\n",
    "from neuro_dmt.library.users.hugo.utils import MEAN\n",
    "import pandas as pd\n",
    "from seaborn import heatmap\n",
    "import numpy as np\n",
    "\n",
    "\n",
    "def hplot(label, df):\n",
    "    from dmt.tk.plotting.utils import pivot_table\n",
    "    df_matrix, _, __ = pivot_table(df, PRESYNAPTIC, POSTSYNAPTIC, MEAN)\n",
    "    fig = heatmap(df_matrix, cbar=True, cmap='rainbow')\n",
    "    return fig\n",
    "\n",
    "# note that this is NOT intended usage\n",
    "def cplot(labels, results_dataframes):\n",
    "    import imp\n",
    "    from dmt.tk.plotting import circle\n",
    "    imp.reload(circle)\n",
    "    CirclePlot = circle.CirclePlot\n",
    "    fig, ax = CirclePlot(space_between=0.02, color_callback=custom_color_callback,\n",
    "                         min_conn_size=0.005, value_callback=custom_label_callback).plot(results_dataframes[0])\n",
    "    ax.set_title(labels[0])\n",
    "    return ax\n",
    "\n",
    "# TODO: rename value_callback to label_callback\n",
    "# TODO: callback should not recieve 'pre'\n",
    "def custom_label_callback(row):\n",
    "    row = row.get('pre', row)\n",
    "    row = row.get('post', row)\n",
    "    layer = row['layer'][0][0]\n",
    "    return \"{}_{}\".format(\"L23\" if layer == \"L2\" else layer, row['mtype'][0])\n",
    "\n",
    "layer_to_hue = {\n",
    "    \"L2\": np.array((220/255, 224/255, 34/255, 1.0)),\n",
    "    \"L1\": np.array((129/255, 83/255, 120/255, 1.0)),\n",
    "    \"L4\": np.array((91/255, 165/255, 217/255, 1.0)),\n",
    "    \"L5\": np.array((255/255, 35/255, 40/255, 1.0)),\n",
    "    \"L6\": np.array((140/255, 208/255, 105/255, 1.0))\n",
    "}\n",
    "\n",
    "# TODO: it would be best for groups to be converted back to dicts, as it seems\n",
    "#       pandas rows do not adequately mimic them\n",
    "def custom_color_callback(groups):\n",
    "    import matplotlib\n",
    "    cmap = matplotlib.cm.get_cmap('gist_rainbow')\n",
    "    layers = list(pd.DataFrame(list(groups.values())).layer[0].unique())\n",
    "    nlayers = len(layers)\n",
    "    max_color = nlayers - 1\n",
    "\n",
    "    return {grp: {\n",
    "        'fc':\n",
    "            tuple(\n",
    "                v for v in (\n",
    "                    layer_to_hue[params['layer'][0][0]]\n",
    "                    * (np.array([0.5, 0.5, 0.5, 1.0])\n",
    "                       if 'INH' == params['sclass'][0] else\n",
    "                       np.array([1.0, 1.0, 1.0, 1.0])))),\n",
    "        'ec': (0.0, 0.0, 0.0, 1.0)}\n",
    "        for grp, params in groups.items()}\n",
    "\n",
    "# TODO: when asking for mtypes, include 'properties' argument\n",
    "#       defaulting to 'mtype', but possibly requesting 'base_mtype', 'layer', 'sclass', 'etype'(would return list) etc.\n",
    "# current solution is a hack\n",
    "def by_mtype(model):\n",
    "    \"\"\"\n",
    "    gets the available mtypes from the model\n",
    "    effectively makes this a 'by mtype' validation\n",
    "    \"\"\"\n",
    "    from collections import OrderedDict\n",
    "    mtypes = model.mtypes()\n",
    "    \n",
    "    def sclass_of(mtype, layer):\n",
    "        from bluepy.v2 import Cell\n",
    "        mt = \"_\".join([layer if isinstance(layer, str) else 'L23', mtype])\n",
    "        return model._circuit.cells.get({Cell.MTYPE: mt}, properties=[Cell.SYNAPSE_CLASS]).iloc[0]\n",
    "    \n",
    "    mtype_groups = [OrderedDict([('layer', mt['layer']), (SYN_CLASS, sclass_of(**mt)), ('mtype', mt['mtype'])])\n",
    "                                 for mt in mtypes]\n",
    "    \n",
    "    layer_key = {'L1': 1, \"['L2', 'L3']\": 2, 'L4': 3, 'L5': 5, 'L6': 6}\n",
    "    sclass_key = {'EXC': 1, 'INH': 2}\n",
    "    \n",
    "    mtype_groups = sorted(mtype_groups, key = lambda g: 3 * layer_key[str(g['layer'])] + sclass_key[g['sclass']])\n",
    "    return [OrderedDict([(PRESYNAPTIC, pre), (POSTSYNAPTIC, post)])\n",
    "            for post in mtype_groups for pre in mtype_groups]\n",
    "\n",
    "\n",
    "class SynapsesPerConnectionAnalysis(SimpleValidation):\n",
    "    \n",
    "    class AdapterInterface(Interface):\n",
    "        \n",
    "        def synapses_per_connection(model, parameters):\n",
    "            \"\"\"\n",
    "            get the number of synapses per connection from the model\n",
    "            for the pathway defined be pre and post mtype\n",
    "            \n",
    "            Arguments:\n",
    "                model: the model to get the data from\n",
    "                pre_mtype: string, the presynaptic mtype\n",
    "                post_mtype: string, the postsynaptic mtype\n",
    "            \n",
    "            Returns:\n",
    "                Array: number of synapses for each connection sampled\n",
    "            \"\"\"\n",
    "            raise NotImplementedError\n",
    "    \n",
    "\n",
    "    \n",
    "    def get_measurement(self, model, parameters):\n",
    "        \"\"\"\n",
    "        get the measurement from the model\n",
    "        Arguments:\n",
    "            parameters: dict with keys PRESYNAPTIC and POSTSYNAPTIC\n",
    "                        and values which are each a set of parameters\n",
    "                        for pre and postsynaptic cells\n",
    "        \"\"\"\n",
    "        return model.synapses_per_connection(parameters) \n",
    "        \n",
    "    def plot(self, labels, results_dataframes):\n",
    "        return hplot(labels[0], results_dataframes[0])\n",
    "\n",
    "\n",
    "class ByMtypeSynapsesPerConnectionAnalysis(SynapsesPerConnectionAnalysis):\n",
    "    \n",
    "    class AdapterInterface(SynapsesPerConnectionAnalysis.AdapterInterface):\n",
    "        \n",
    "        def mtypes(model):\n",
    "            \"\"\"\n",
    "            get all of the mytpes in the model\n",
    "            Arguments:\n",
    "               model: the model to get mtypes from\n",
    "            \n",
    "            Returns:\n",
    "               iterable of mtypes (string)\n",
    "            \"\"\"\n",
    "            raise NotImplementedError\n",
    "            \n",
    "    def measurements_parameters(self, model):\n",
    "        \"\"\"{}\"\"\".format(by_mtype.__doc__)\n",
    "        return by_mtype(model)"
   ]
  },
  {
   "cell_type": "code",
   "execution_count": 11,
   "metadata": {},
   "outputs": [],
   "source": [
    "import numpy as np\n",
    "\n",
    "class DummyAdapter:\n",
    "    \n",
    "    label = 'dummy model'\n",
    "    \n",
    "    def synapses_per_connection(self, params):\n",
    "        return np.random.poisson(np.random.poisson(10), 1 + np.random.poisson(1))\n",
    "    \n",
    "    def mtypes(self):\n",
    "        return [{'mtype': letter} for letter in ['aaaaaaaa', 'bbbbbbbb', 'cccccccc', 'dddddd', 'eeeeeeee', 'fffffff']]\n",
    "    "
   ]
  },
  {
   "cell_type": "code",
   "execution_count": 12,
   "metadata": {},
   "outputs": [
    {
     "name": "stdout",
     "output_type": "stream",
     "text": [
      "[17 12] [7] [8 7] [9]\n"
     ]
    }
   ],
   "source": [
    "print(DummyAdapter().synapses_per_connection(''),\n",
    "DummyAdapter().synapses_per_connection(''),\n",
    "DummyAdapter().synapses_per_connection(''),\n",
    "DummyAdapter().synapses_per_connection(''))"
   ]
  },
  {
   "cell_type": "code",
   "execution_count": 13,
   "metadata": {},
   "outputs": [
    {
     "name": "stderr",
     "output_type": "stream",
     "text": [
      "/home/dictus/bakdmt/v2/neuro_dmt/library/users/hugo/validations/__init__.py:43: Warning: <__main__.ByMtypeSynapsesPerConnectionAnalysis object at 0x7fa3e3bce208> does not have a phenomenon, defaulting to 'Not Provided'\n",
      "  .format(self)))\n"
     ]
    },
    {
     "name": "stdout",
     "output_type": "stream",
     "text": [
      "dummy model : 0.00%\r",
      "dummy model : 2.78%\r",
      "dummy model : 5.56%\r",
      "dummy model : 8.33%\r",
      "dummy model : 11.11%\r",
      "dummy model : 13.89%\r",
      "dummy model : 16.67%\r",
      "dummy model : 19.44%\r",
      "dummy model : 22.22%\r",
      "dummy model : 25.00%\r",
      "dummy model : 27.78%\r",
      "dummy model : 30.56%\r",
      "dummy model : 33.33%\r",
      "dummy model : 36.11%\r",
      "dummy model : 38.89%\r",
      "dummy model : 41.67%\r",
      "dummy model : 44.44%\r",
      "dummy model : 47.22%\r",
      "dummy model : 50.00%\r",
      "dummy model : 52.78%\r",
      "dummy model : 55.56%\r",
      "dummy model : 58.33%\r",
      "dummy model : 61.11%\r",
      "dummy model : 63.89%\r",
      "dummy model : 66.67%\r",
      "dummy model : 69.44%\r",
      "dummy model : 72.22%\r",
      "dummy model : 75.00%\r",
      "dummy model : 77.78%\r",
      "dummy model : 80.56%\r",
      "dummy model : 83.33%\r",
      "dummy model : 86.11%\r",
      "dummy model : 88.89%\r",
      "dummy model : 91.67%\r",
      "dummy model : 94.44%\r",
      "dummy model : 97.22%\r",
      "plotting\n"
     ]
    },
    {
     "data": {
      "image/png": "[encoded data removed]",
      "text/plain": [
       "<Figure size 432x288 with 2 Axes>"
      ]
     },
     "metadata": {
      "needs_background": "light"
     },
     "output_type": "display_data"
    }
   ],
   "source": [
    "analysis = ByMtypeSynapsesPerConnectionAnalysis()\n",
    "analysis.measurements_parameters=lambda model: [{PRESYNAPTIC: pre, POSTSYNAPTIC: post} for post in model.mtypes() for pre in model.mtypes()] \n",
    "report = analysis(DummyAdapter())"
   ]
  },
  {
   "cell_type": "code",
   "execution_count": 14,
   "metadata": {},
   "outputs": [],
   "source": [
    "\n",
    "class ConnectionProbabilityAnalysis(SimpleValidation):\n",
    "    \n",
    "    class AdapterInterface(Interface):\n",
    "        \n",
    "        def connection_probability(model, parameters):\n",
    "            \"\"\"\n",
    "            get the probability of a connection between cells\n",
    "            \n",
    "            Arguments:\n",
    "                model: the adapted model to extract data from\n",
    "                parameters: dict with 'pre' and 'post' parameter sets\n",
    "            \n",
    "            Returns:\n",
    "                Array: number of synapses for each connection sampled\n",
    "            \"\"\"\n",
    "            raise NotImplementedError\n",
    "    \n",
    "    def get_measurement(self, model, parameters):\n",
    "        \"\"\"\n",
    "        get the measurement from the model\n",
    "        \"\"\"\n",
    "        return model.connection_probability(parameters, sample_size=10, nsamples=100)\n",
    "       \n",
    "        \n",
    "    def plot(self, labels, results_dataframes):\n",
    "        return hplot(labels[0], results_dataframes[0])\n",
    " \n",
    "# TODO: there is some code duplication here. will be fixed once measurements_parameters is a component\n",
    "class ByMtypeConnectionProbabilityAnalysis(ConnectionProbabilityAnalysis):\n",
    "    \n",
    "    class AdapterInterface(ConnectionProbabilityAnalysis.AdapterInterface):\n",
    "        \n",
    "        def mtypes(model):\n",
    "            \"\"\"\n",
    "            get all of the mytpes in the model\n",
    "            Arguments:\n",
    "               model: the model to get mtypes from\n",
    "            \n",
    "            Returns:\n",
    "               iterable of mtypes (string)\n",
    "            \"\"\"\n",
    "            raise NotImplementedError\n",
    "        \n",
    "    def measurements_parameters(self, model):\n",
    "        \"\"\"{}\"\"\".format(by_mtype.__doc__)\n",
    "        return by_mtype(model)"
   ]
  },
  {
   "cell_type": "code",
   "execution_count": 15,
   "metadata": {},
   "outputs": [],
   "source": [
    "\n",
    "class PathwaySynapsesAnalysis(SimpleValidation):\n",
    "    \n",
    "    class AdapterInterface(Interface):\n",
    "        \n",
    "        def pathway_synapses(model, parameters):\n",
    "            \"\"\"\n",
    "            get the total number of synapses on one group of cells from another\n",
    "            \n",
    "            Arguments:\n",
    "                model: the adapted model to extract data from\n",
    "                parameters: dict with 'pre' and 'post' parameter sets\n",
    "            \n",
    "            Returns:\n",
    "                Array: number of synapses for each connection sampled\n",
    "            \"\"\"\n",
    "            raise NotImplementedError\n",
    "    \n",
    "    def get_measurement(self, model, parameters):\n",
    "        \"\"\"\n",
    "        get the measurement from the model\n",
    "        \"\"\"\n",
    "        # TODO: sample size of pathway_synapses should be proportional to the total\n",
    "        #       number of cells, and/or the result scaled up by pop_size/sample_size \n",
    "        return model.pathway_synapses(parameters, nsamples=None, sample_size=None)\n",
    "       \n",
    "        \n",
    "    def plot(self, labels, results_dataframes):\n",
    "        return cplot(labels, results_dataframes)\n",
    " \n",
    "# TODO: there is some code duplication here. will be fixed once measurements_parameters is a component\n",
    "class ByMtypePathwaySynapsesAnalysis(PathwaySynapsesAnalysis):\n",
    "    \n",
    "    class AdapterInterface(PathwaySynapsesAnalysis.AdapterInterface):\n",
    "        \n",
    "        def mtypes(model):\n",
    "            \"\"\"\n",
    "            get all of the mytpes in the model\n",
    "            Arguments:\n",
    "               model: the model to get mtypes from\n",
    "            \n",
    "            Returns:\n",
    "               iterable of mtypes (string)\n",
    "            \"\"\"\n",
    "            raise NotImplementedError\n",
    "        \n",
    "    def measurements_parameters(self, model):\n",
    "        \"\"\"{}\"\"\".format(by_mtype.__doc__)\n",
    "        return by_mtype(model)\n",
    "\n",
    "from neuro_dmt.library.users.hugo.adapters import CircuitAdapter"
   ]
  },
  {
   "cell_type": "code",
   "execution_count": 16,
   "metadata": {},
   "outputs": [
    {
     "name": "stderr",
     "output_type": "stream",
     "text": [
      "/home/dictus/bakdmt/v2/neuro_dmt/library/users/hugo/validations/__init__.py:43: Warning: <__main__.ByMtypeSynapsesPerConnectionAnalysis object at 0x7fa3dc21a400> does not have a phenomenon, defaulting to 'Not Provided'\n",
      "  .format(self)))\n",
      "/home/dictus/bakdmt/v2/neuro_dmt/library/users/hugo/validations/__init__.py:210: UserWarning: model number 0, <neuro_dmt.library.users.hugo.adapters.CircuitAdapter object at 0x7fa3dc21a128> does not have label\n",
      "  .format(i, model))\n"
     ]
    },
    {
     "name": "stdout",
     "output_type": "stream",
     "text": [
      "plotting: 99.97%\n"
     ]
    },
    {
     "ename": "ValueError",
     "evalue": "Image size of 177263x177258 pixels is too large. It must be less than 2^16 in each direction.",
     "output_type": "error",
     "traceback": [
      "\u001b[0;31m---------------------------------------------------------------------------\u001b[0m",
      "\u001b[0;31mValueError\u001b[0m                                Traceback (most recent call last)",
      "\u001b[0;32m~/.emacs.d/emacs_py35/lib/python3.5/site-packages/IPython/core/formatters.py\u001b[0m in \u001b[0;36m__call__\u001b[0;34m(self, obj)\u001b[0m\n\u001b[1;32m    339\u001b[0m                 \u001b[0;32mpass\u001b[0m\u001b[0;34m\u001b[0m\u001b[0m\n\u001b[1;32m    340\u001b[0m             \u001b[0;32melse\u001b[0m\u001b[0;34m:\u001b[0m\u001b[0;34m\u001b[0m\u001b[0m\n\u001b[0;32m--> 341\u001b[0;31m                 \u001b[0;32mreturn\u001b[0m \u001b[0mprinter\u001b[0m\u001b[0;34m(\u001b[0m\u001b[0mobj\u001b[0m\u001b[0;34m)\u001b[0m\u001b[0;34m\u001b[0m\u001b[0m\n\u001b[0m\u001b[1;32m    342\u001b[0m             \u001b[0;31m# Finally look for special method names\u001b[0m\u001b[0;34m\u001b[0m\u001b[0;34m\u001b[0m\u001b[0m\n\u001b[1;32m    343\u001b[0m             \u001b[0mmethod\u001b[0m \u001b[0;34m=\u001b[0m \u001b[0mget_real_method\u001b[0m\u001b[0;34m(\u001b[0m\u001b[0mobj\u001b[0m\u001b[0;34m,\u001b[0m \u001b[0mself\u001b[0m\u001b[0;34m.\u001b[0m\u001b[0mprint_method\u001b[0m\u001b[0;34m)\u001b[0m\u001b[0;34m\u001b[0m\u001b[0m\n",
      "\u001b[0;32m~/.emacs.d/emacs_py35/lib/python3.5/site-packages/IPython/core/pylabtools.py\u001b[0m in \u001b[0;36m<lambda>\u001b[0;34m(fig)\u001b[0m\n\u001b[1;32m    242\u001b[0m \u001b[0;34m\u001b[0m\u001b[0m\n\u001b[1;32m    243\u001b[0m     \u001b[0;32mif\u001b[0m \u001b[0;34m'png'\u001b[0m \u001b[0;32min\u001b[0m \u001b[0mformats\u001b[0m\u001b[0;34m:\u001b[0m\u001b[0;34m\u001b[0m\u001b[0m\n\u001b[0;32m--> 244\u001b[0;31m         \u001b[0mpng_formatter\u001b[0m\u001b[0;34m.\u001b[0m\u001b[0mfor_type\u001b[0m\u001b[0;34m(\u001b[0m\u001b[0mFigure\u001b[0m\u001b[0;34m,\u001b[0m \u001b[0;32mlambda\u001b[0m \u001b[0mfig\u001b[0m\u001b[0;34m:\u001b[0m \u001b[0mprint_figure\u001b[0m\u001b[0;34m(\u001b[0m\u001b[0mfig\u001b[0m\u001b[0;34m,\u001b[0m \u001b[0;34m'png'\u001b[0m\u001b[0;34m,\u001b[0m \u001b[0;34m**\u001b[0m\u001b[0mkwargs\u001b[0m\u001b[0;34m)\u001b[0m\u001b[0;34m)\u001b[0m\u001b[0;34m\u001b[0m\u001b[0m\n\u001b[0m\u001b[1;32m    245\u001b[0m     \u001b[0;32mif\u001b[0m \u001b[0;34m'retina'\u001b[0m \u001b[0;32min\u001b[0m \u001b[0mformats\u001b[0m \u001b[0;32mor\u001b[0m \u001b[0;34m'png2x'\u001b[0m \u001b[0;32min\u001b[0m \u001b[0mformats\u001b[0m\u001b[0;34m:\u001b[0m\u001b[0;34m\u001b[0m\u001b[0m\n\u001b[1;32m    246\u001b[0m         \u001b[0mpng_formatter\u001b[0m\u001b[0;34m.\u001b[0m\u001b[0mfor_type\u001b[0m\u001b[0;34m(\u001b[0m\u001b[0mFigure\u001b[0m\u001b[0;34m,\u001b[0m \u001b[0;32mlambda\u001b[0m \u001b[0mfig\u001b[0m\u001b[0;34m:\u001b[0m \u001b[0mretina_figure\u001b[0m\u001b[0;34m(\u001b[0m\u001b[0mfig\u001b[0m\u001b[0;34m,\u001b[0m \u001b[0;34m**\u001b[0m\u001b[0mkwargs\u001b[0m\u001b[0;34m)\u001b[0m\u001b[0;34m)\u001b[0m\u001b[0;34m\u001b[0m\u001b[0m\n",
      "\u001b[0;32m~/.emacs.d/emacs_py35/lib/python3.5/site-packages/IPython/core/pylabtools.py\u001b[0m in \u001b[0;36mprint_figure\u001b[0;34m(fig, fmt, bbox_inches, **kwargs)\u001b[0m\n\u001b[1;32m    126\u001b[0m \u001b[0;34m\u001b[0m\u001b[0m\n\u001b[1;32m    127\u001b[0m     \u001b[0mbytes_io\u001b[0m \u001b[0;34m=\u001b[0m \u001b[0mBytesIO\u001b[0m\u001b[0;34m(\u001b[0m\u001b[0;34m)\u001b[0m\u001b[0;34m\u001b[0m\u001b[0m\n\u001b[0;32m--> 128\u001b[0;31m     \u001b[0mfig\u001b[0m\u001b[0;34m.\u001b[0m\u001b[0mcanvas\u001b[0m\u001b[0;34m.\u001b[0m\u001b[0mprint_figure\u001b[0m\u001b[0;34m(\u001b[0m\u001b[0mbytes_io\u001b[0m\u001b[0;34m,\u001b[0m \u001b[0;34m**\u001b[0m\u001b[0mkw\u001b[0m\u001b[0;34m)\u001b[0m\u001b[0;34m\u001b[0m\u001b[0m\n\u001b[0m\u001b[1;32m    129\u001b[0m     \u001b[0mdata\u001b[0m \u001b[0;34m=\u001b[0m \u001b[0mbytes_io\u001b[0m\u001b[0;34m.\u001b[0m\u001b[0mgetvalue\u001b[0m\u001b[0;34m(\u001b[0m\u001b[0;34m)\u001b[0m\u001b[0;34m\u001b[0m\u001b[0m\n\u001b[1;32m    130\u001b[0m     \u001b[0;32mif\u001b[0m \u001b[0mfmt\u001b[0m \u001b[0;34m==\u001b[0m \u001b[0;34m'svg'\u001b[0m\u001b[0;34m:\u001b[0m\u001b[0;34m\u001b[0m\u001b[0m\n",
      "\u001b[0;32m~/.emacs.d/emacs_py35/lib/python3.5/site-packages/matplotlib/backend_bases.py\u001b[0m in \u001b[0;36mprint_figure\u001b[0;34m(self, filename, dpi, facecolor, edgecolor, orientation, format, **kwargs)\u001b[0m\n\u001b[1;32m   2261\u001b[0m                 \u001b[0morientation\u001b[0m\u001b[0;34m=\u001b[0m\u001b[0morientation\u001b[0m\u001b[0;34m,\u001b[0m\u001b[0;34m\u001b[0m\u001b[0m\n\u001b[1;32m   2262\u001b[0m                 \u001b[0mbbox_inches_restore\u001b[0m\u001b[0;34m=\u001b[0m\u001b[0m_bbox_inches_restore\u001b[0m\u001b[0;34m,\u001b[0m\u001b[0;34m\u001b[0m\u001b[0m\n\u001b[0;32m-> 2263\u001b[0;31m                 **kwargs)\n\u001b[0m\u001b[1;32m   2264\u001b[0m         \u001b[0;32mfinally\u001b[0m\u001b[0;34m:\u001b[0m\u001b[0;34m\u001b[0m\u001b[0m\n\u001b[1;32m   2265\u001b[0m             \u001b[0;32mif\u001b[0m \u001b[0mbbox_inches\u001b[0m \u001b[0;32mand\u001b[0m \u001b[0mrestore_bbox\u001b[0m\u001b[0;34m:\u001b[0m\u001b[0;34m\u001b[0m\u001b[0m\n",
      "\u001b[0;32m~/.emacs.d/emacs_py35/lib/python3.5/site-packages/matplotlib/backends/backend_agg.py\u001b[0m in \u001b[0;36mprint_png\u001b[0;34m(self, filename_or_obj, *args, **kwargs)\u001b[0m\n\u001b[1;32m    511\u001b[0m \u001b[0;34m\u001b[0m\u001b[0m\n\u001b[1;32m    512\u001b[0m     \u001b[0;32mdef\u001b[0m \u001b[0mprint_png\u001b[0m\u001b[0;34m(\u001b[0m\u001b[0mself\u001b[0m\u001b[0;34m,\u001b[0m \u001b[0mfilename_or_obj\u001b[0m\u001b[0;34m,\u001b[0m \u001b[0;34m*\u001b[0m\u001b[0margs\u001b[0m\u001b[0;34m,\u001b[0m \u001b[0;34m**\u001b[0m\u001b[0mkwargs\u001b[0m\u001b[0;34m)\u001b[0m\u001b[0;34m:\u001b[0m\u001b[0;34m\u001b[0m\u001b[0m\n\u001b[0;32m--> 513\u001b[0;31m         \u001b[0mFigureCanvasAgg\u001b[0m\u001b[0;34m.\u001b[0m\u001b[0mdraw\u001b[0m\u001b[0;34m(\u001b[0m\u001b[0mself\u001b[0m\u001b[0;34m)\u001b[0m\u001b[0;34m\u001b[0m\u001b[0m\n\u001b[0m\u001b[1;32m    514\u001b[0m         \u001b[0mrenderer\u001b[0m \u001b[0;34m=\u001b[0m \u001b[0mself\u001b[0m\u001b[0;34m.\u001b[0m\u001b[0mget_renderer\u001b[0m\u001b[0;34m(\u001b[0m\u001b[0;34m)\u001b[0m\u001b[0;34m\u001b[0m\u001b[0m\n\u001b[1;32m    515\u001b[0m         \u001b[0moriginal_dpi\u001b[0m \u001b[0;34m=\u001b[0m \u001b[0mrenderer\u001b[0m\u001b[0;34m.\u001b[0m\u001b[0mdpi\u001b[0m\u001b[0;34m\u001b[0m\u001b[0m\n",
      "\u001b[0;32m~/.emacs.d/emacs_py35/lib/python3.5/site-packages/matplotlib/backends/backend_agg.py\u001b[0m in \u001b[0;36mdraw\u001b[0;34m(self)\u001b[0m\n\u001b[1;32m    423\u001b[0m         \u001b[0mDraw\u001b[0m \u001b[0mthe\u001b[0m \u001b[0mfigure\u001b[0m \u001b[0musing\u001b[0m \u001b[0mthe\u001b[0m \u001b[0mrenderer\u001b[0m\u001b[0;34m\u001b[0m\u001b[0m\n\u001b[1;32m    424\u001b[0m         \"\"\"\n\u001b[0;32m--> 425\u001b[0;31m         \u001b[0mself\u001b[0m\u001b[0;34m.\u001b[0m\u001b[0mrenderer\u001b[0m \u001b[0;34m=\u001b[0m \u001b[0mself\u001b[0m\u001b[0;34m.\u001b[0m\u001b[0mget_renderer\u001b[0m\u001b[0;34m(\u001b[0m\u001b[0mcleared\u001b[0m\u001b[0;34m=\u001b[0m\u001b[0;32mTrue\u001b[0m\u001b[0;34m)\u001b[0m\u001b[0;34m\u001b[0m\u001b[0m\n\u001b[0m\u001b[1;32m    426\u001b[0m         \u001b[0;31m# acquire a lock on the shared font cache\u001b[0m\u001b[0;34m\u001b[0m\u001b[0;34m\u001b[0m\u001b[0m\n\u001b[1;32m    427\u001b[0m         \u001b[0mRendererAgg\u001b[0m\u001b[0;34m.\u001b[0m\u001b[0mlock\u001b[0m\u001b[0;34m.\u001b[0m\u001b[0macquire\u001b[0m\u001b[0;34m(\u001b[0m\u001b[0;34m)\u001b[0m\u001b[0;34m\u001b[0m\u001b[0m\n",
      "\u001b[0;32m~/.emacs.d/emacs_py35/lib/python3.5/site-packages/matplotlib/backends/backend_agg.py\u001b[0m in \u001b[0;36mget_renderer\u001b[0;34m(self, cleared)\u001b[0m\n\u001b[1;32m    448\u001b[0m \u001b[0;34m\u001b[0m\u001b[0m\n\u001b[1;32m    449\u001b[0m         \u001b[0;32mif\u001b[0m \u001b[0mneed_new_renderer\u001b[0m\u001b[0;34m:\u001b[0m\u001b[0;34m\u001b[0m\u001b[0m\n\u001b[0;32m--> 450\u001b[0;31m             \u001b[0mself\u001b[0m\u001b[0;34m.\u001b[0m\u001b[0mrenderer\u001b[0m \u001b[0;34m=\u001b[0m \u001b[0mRendererAgg\u001b[0m\u001b[0;34m(\u001b[0m\u001b[0mw\u001b[0m\u001b[0;34m,\u001b[0m \u001b[0mh\u001b[0m\u001b[0;34m,\u001b[0m \u001b[0mself\u001b[0m\u001b[0;34m.\u001b[0m\u001b[0mfigure\u001b[0m\u001b[0;34m.\u001b[0m\u001b[0mdpi\u001b[0m\u001b[0;34m)\u001b[0m\u001b[0;34m\u001b[0m\u001b[0m\n\u001b[0m\u001b[1;32m    451\u001b[0m             \u001b[0mself\u001b[0m\u001b[0;34m.\u001b[0m\u001b[0m_lastKey\u001b[0m \u001b[0;34m=\u001b[0m \u001b[0mkey\u001b[0m\u001b[0;34m\u001b[0m\u001b[0m\n\u001b[1;32m    452\u001b[0m         \u001b[0;32melif\u001b[0m \u001b[0mcleared\u001b[0m\u001b[0;34m:\u001b[0m\u001b[0;34m\u001b[0m\u001b[0m\n",
      "\u001b[0;32m~/.emacs.d/emacs_py35/lib/python3.5/site-packages/matplotlib/backends/backend_agg.py\u001b[0m in \u001b[0;36m__init__\u001b[0;34m(self, width, height, dpi)\u001b[0m\n\u001b[1;32m     95\u001b[0m         \u001b[0mself\u001b[0m\u001b[0;34m.\u001b[0m\u001b[0mwidth\u001b[0m \u001b[0;34m=\u001b[0m \u001b[0mwidth\u001b[0m\u001b[0;34m\u001b[0m\u001b[0m\n\u001b[1;32m     96\u001b[0m         \u001b[0mself\u001b[0m\u001b[0;34m.\u001b[0m\u001b[0mheight\u001b[0m \u001b[0;34m=\u001b[0m \u001b[0mheight\u001b[0m\u001b[0;34m\u001b[0m\u001b[0m\n\u001b[0;32m---> 97\u001b[0;31m         \u001b[0mself\u001b[0m\u001b[0;34m.\u001b[0m\u001b[0m_renderer\u001b[0m \u001b[0;34m=\u001b[0m \u001b[0m_RendererAgg\u001b[0m\u001b[0;34m(\u001b[0m\u001b[0mint\u001b[0m\u001b[0;34m(\u001b[0m\u001b[0mwidth\u001b[0m\u001b[0;34m)\u001b[0m\u001b[0;34m,\u001b[0m \u001b[0mint\u001b[0m\u001b[0;34m(\u001b[0m\u001b[0mheight\u001b[0m\u001b[0;34m)\u001b[0m\u001b[0;34m,\u001b[0m \u001b[0mdpi\u001b[0m\u001b[0;34m)\u001b[0m\u001b[0;34m\u001b[0m\u001b[0m\n\u001b[0m\u001b[1;32m     98\u001b[0m         \u001b[0mself\u001b[0m\u001b[0;34m.\u001b[0m\u001b[0m_filter_renderers\u001b[0m \u001b[0;34m=\u001b[0m \u001b[0;34m[\u001b[0m\u001b[0;34m]\u001b[0m\u001b[0;34m\u001b[0m\u001b[0m\n\u001b[1;32m     99\u001b[0m \u001b[0;34m\u001b[0m\u001b[0m\n",
      "\u001b[0;31mValueError\u001b[0m: Image size of 177263x177258 pixels is too large. It must be less than 2^16 in each direction."
     ]
    },
    {
     "data": {
      "text/plain": [
       "<Figure size 432x288 with 2 Axes>"
      ]
     },
     "metadata": {
      "needs_background": "light"
     },
     "output_type": "display_data"
    }
   ],
   "source": [
    "\n",
    "bmspcreport = ByMtypeSynapsesPerConnectionAnalysis()(CircuitAdapter(\"/gpfs/bbp.cscs.ch/project/proj1/circuits/SomatosensoryCxS1-v5.r0/O1/merged_circuit/CircuitConfig\"))"
   ]
  },
  {
   "cell_type": "code",
   "execution_count": null,
   "metadata": {},
   "outputs": [],
   "source": []
  },
  {
   "cell_type": "code",
   "execution_count": null,
   "metadata": {},
   "outputs": [
    {
     "name": "stderr",
     "output_type": "stream",
     "text": [
      "/home/dictus/bakdmt/v2/neuro_dmt/library/users/hugo/validations/__init__.py:43: Warning: <__main__.ByMtypeConnectionProbabilityAnalysis object at 0x7fa3b6e29898> does not have a phenomenon, defaulting to 'Not Provided'\n",
      "  .format(self)))\n",
      "/home/dictus/bakdmt/v2/neuro_dmt/library/users/hugo/validations/__init__.py:210: UserWarning: model number 0, <neuro_dmt.library.users.hugo.adapters.CircuitAdapter object at 0x7fa3b7a8f4a8> does not have label\n",
      "  .format(i, model))\n"
     ]
    },
    {
     "name": "stdout",
     "output_type": "stream",
     "text": [
      "plotting: 99.97%\n"
     ]
    },
    {
     "ename": "ValueError",
     "evalue": "Image size of 177263x177258 pixels is too large. It must be less than 2^16 in each direction.",
     "output_type": "error",
     "traceback": [
      "\u001b[0;31m---------------------------------------------------------------------------\u001b[0m",
      "\u001b[0;31mValueError\u001b[0m                                Traceback (most recent call last)",
      "\u001b[0;32m~/.emacs.d/emacs_py35/lib/python3.5/site-packages/IPython/core/formatters.py\u001b[0m in \u001b[0;36m__call__\u001b[0;34m(self, obj)\u001b[0m\n\u001b[1;32m    339\u001b[0m                 \u001b[0;32mpass\u001b[0m\u001b[0;34m\u001b[0m\u001b[0m\n\u001b[1;32m    340\u001b[0m             \u001b[0;32melse\u001b[0m\u001b[0;34m:\u001b[0m\u001b[0;34m\u001b[0m\u001b[0m\n\u001b[0;32m--> 341\u001b[0;31m                 \u001b[0;32mreturn\u001b[0m \u001b[0mprinter\u001b[0m\u001b[0;34m(\u001b[0m\u001b[0mobj\u001b[0m\u001b[0;34m)\u001b[0m\u001b[0;34m\u001b[0m\u001b[0m\n\u001b[0m\u001b[1;32m    342\u001b[0m             \u001b[0;31m# Finally look for special method names\u001b[0m\u001b[0;34m\u001b[0m\u001b[0;34m\u001b[0m\u001b[0m\n\u001b[1;32m    343\u001b[0m             \u001b[0mmethod\u001b[0m \u001b[0;34m=\u001b[0m \u001b[0mget_real_method\u001b[0m\u001b[0;34m(\u001b[0m\u001b[0mobj\u001b[0m\u001b[0;34m,\u001b[0m \u001b[0mself\u001b[0m\u001b[0;34m.\u001b[0m\u001b[0mprint_method\u001b[0m\u001b[0;34m)\u001b[0m\u001b[0;34m\u001b[0m\u001b[0m\n",
      "\u001b[0;32m~/.emacs.d/emacs_py35/lib/python3.5/site-packages/IPython/core/pylabtools.py\u001b[0m in \u001b[0;36m<lambda>\u001b[0;34m(fig)\u001b[0m\n\u001b[1;32m    242\u001b[0m \u001b[0;34m\u001b[0m\u001b[0m\n\u001b[1;32m    243\u001b[0m     \u001b[0;32mif\u001b[0m \u001b[0;34m'png'\u001b[0m \u001b[0;32min\u001b[0m \u001b[0mformats\u001b[0m\u001b[0;34m:\u001b[0m\u001b[0;34m\u001b[0m\u001b[0m\n\u001b[0;32m--> 244\u001b[0;31m         \u001b[0mpng_formatter\u001b[0m\u001b[0;34m.\u001b[0m\u001b[0mfor_type\u001b[0m\u001b[0;34m(\u001b[0m\u001b[0mFigure\u001b[0m\u001b[0;34m,\u001b[0m \u001b[0;32mlambda\u001b[0m \u001b[0mfig\u001b[0m\u001b[0;34m:\u001b[0m \u001b[0mprint_figure\u001b[0m\u001b[0;34m(\u001b[0m\u001b[0mfig\u001b[0m\u001b[0;34m,\u001b[0m \u001b[0;34m'png'\u001b[0m\u001b[0;34m,\u001b[0m \u001b[0;34m**\u001b[0m\u001b[0mkwargs\u001b[0m\u001b[0;34m)\u001b[0m\u001b[0;34m)\u001b[0m\u001b[0;34m\u001b[0m\u001b[0m\n\u001b[0m\u001b[1;32m    245\u001b[0m     \u001b[0;32mif\u001b[0m \u001b[0;34m'retina'\u001b[0m \u001b[0;32min\u001b[0m \u001b[0mformats\u001b[0m \u001b[0;32mor\u001b[0m \u001b[0;34m'png2x'\u001b[0m \u001b[0;32min\u001b[0m \u001b[0mformats\u001b[0m\u001b[0;34m:\u001b[0m\u001b[0;34m\u001b[0m\u001b[0m\n\u001b[1;32m    246\u001b[0m         \u001b[0mpng_formatter\u001b[0m\u001b[0;34m.\u001b[0m\u001b[0mfor_type\u001b[0m\u001b[0;34m(\u001b[0m\u001b[0mFigure\u001b[0m\u001b[0;34m,\u001b[0m \u001b[0;32mlambda\u001b[0m \u001b[0mfig\u001b[0m\u001b[0;34m:\u001b[0m \u001b[0mretina_figure\u001b[0m\u001b[0;34m(\u001b[0m\u001b[0mfig\u001b[0m\u001b[0;34m,\u001b[0m \u001b[0;34m**\u001b[0m\u001b[0mkwargs\u001b[0m\u001b[0;34m)\u001b[0m\u001b[0;34m)\u001b[0m\u001b[0;34m\u001b[0m\u001b[0m\n",
      "\u001b[0;32m~/.emacs.d/emacs_py35/lib/python3.5/site-packages/IPython/core/pylabtools.py\u001b[0m in \u001b[0;36mprint_figure\u001b[0;34m(fig, fmt, bbox_inches, **kwargs)\u001b[0m\n\u001b[1;32m    126\u001b[0m \u001b[0;34m\u001b[0m\u001b[0m\n\u001b[1;32m    127\u001b[0m     \u001b[0mbytes_io\u001b[0m \u001b[0;34m=\u001b[0m \u001b[0mBytesIO\u001b[0m\u001b[0;34m(\u001b[0m\u001b[0;34m)\u001b[0m\u001b[0;34m\u001b[0m\u001b[0m\n\u001b[0;32m--> 128\u001b[0;31m     \u001b[0mfig\u001b[0m\u001b[0;34m.\u001b[0m\u001b[0mcanvas\u001b[0m\u001b[0;34m.\u001b[0m\u001b[0mprint_figure\u001b[0m\u001b[0;34m(\u001b[0m\u001b[0mbytes_io\u001b[0m\u001b[0;34m,\u001b[0m \u001b[0;34m**\u001b[0m\u001b[0mkw\u001b[0m\u001b[0;34m)\u001b[0m\u001b[0;34m\u001b[0m\u001b[0m\n\u001b[0m\u001b[1;32m    129\u001b[0m     \u001b[0mdata\u001b[0m \u001b[0;34m=\u001b[0m \u001b[0mbytes_io\u001b[0m\u001b[0;34m.\u001b[0m\u001b[0mgetvalue\u001b[0m\u001b[0;34m(\u001b[0m\u001b[0;34m)\u001b[0m\u001b[0;34m\u001b[0m\u001b[0m\n\u001b[1;32m    130\u001b[0m     \u001b[0;32mif\u001b[0m \u001b[0mfmt\u001b[0m \u001b[0;34m==\u001b[0m \u001b[0;34m'svg'\u001b[0m\u001b[0;34m:\u001b[0m\u001b[0;34m\u001b[0m\u001b[0m\n",
      "\u001b[0;32m~/.emacs.d/emacs_py35/lib/python3.5/site-packages/matplotlib/backend_bases.py\u001b[0m in \u001b[0;36mprint_figure\u001b[0;34m(self, filename, dpi, facecolor, edgecolor, orientation, format, **kwargs)\u001b[0m\n\u001b[1;32m   2261\u001b[0m                 \u001b[0morientation\u001b[0m\u001b[0;34m=\u001b[0m\u001b[0morientation\u001b[0m\u001b[0;34m,\u001b[0m\u001b[0;34m\u001b[0m\u001b[0m\n\u001b[1;32m   2262\u001b[0m                 \u001b[0mbbox_inches_restore\u001b[0m\u001b[0;34m=\u001b[0m\u001b[0m_bbox_inches_restore\u001b[0m\u001b[0;34m,\u001b[0m\u001b[0;34m\u001b[0m\u001b[0m\n\u001b[0;32m-> 2263\u001b[0;31m                 **kwargs)\n\u001b[0m\u001b[1;32m   2264\u001b[0m         \u001b[0;32mfinally\u001b[0m\u001b[0;34m:\u001b[0m\u001b[0;34m\u001b[0m\u001b[0m\n\u001b[1;32m   2265\u001b[0m             \u001b[0;32mif\u001b[0m \u001b[0mbbox_inches\u001b[0m \u001b[0;32mand\u001b[0m \u001b[0mrestore_bbox\u001b[0m\u001b[0;34m:\u001b[0m\u001b[0;34m\u001b[0m\u001b[0m\n",
      "\u001b[0;32m~/.emacs.d/emacs_py35/lib/python3.5/site-packages/matplotlib/backends/backend_agg.py\u001b[0m in \u001b[0;36mprint_png\u001b[0;34m(self, filename_or_obj, *args, **kwargs)\u001b[0m\n\u001b[1;32m    511\u001b[0m \u001b[0;34m\u001b[0m\u001b[0m\n\u001b[1;32m    512\u001b[0m     \u001b[0;32mdef\u001b[0m \u001b[0mprint_png\u001b[0m\u001b[0;34m(\u001b[0m\u001b[0mself\u001b[0m\u001b[0;34m,\u001b[0m \u001b[0mfilename_or_obj\u001b[0m\u001b[0;34m,\u001b[0m \u001b[0;34m*\u001b[0m\u001b[0margs\u001b[0m\u001b[0;34m,\u001b[0m \u001b[0;34m**\u001b[0m\u001b[0mkwargs\u001b[0m\u001b[0;34m)\u001b[0m\u001b[0;34m:\u001b[0m\u001b[0;34m\u001b[0m\u001b[0m\n\u001b[0;32m--> 513\u001b[0;31m         \u001b[0mFigureCanvasAgg\u001b[0m\u001b[0;34m.\u001b[0m\u001b[0mdraw\u001b[0m\u001b[0;34m(\u001b[0m\u001b[0mself\u001b[0m\u001b[0;34m)\u001b[0m\u001b[0;34m\u001b[0m\u001b[0m\n\u001b[0m\u001b[1;32m    514\u001b[0m         \u001b[0mrenderer\u001b[0m \u001b[0;34m=\u001b[0m \u001b[0mself\u001b[0m\u001b[0;34m.\u001b[0m\u001b[0mget_renderer\u001b[0m\u001b[0;34m(\u001b[0m\u001b[0;34m)\u001b[0m\u001b[0;34m\u001b[0m\u001b[0m\n\u001b[1;32m    515\u001b[0m         \u001b[0moriginal_dpi\u001b[0m \u001b[0;34m=\u001b[0m \u001b[0mrenderer\u001b[0m\u001b[0;34m.\u001b[0m\u001b[0mdpi\u001b[0m\u001b[0;34m\u001b[0m\u001b[0m\n",
      "\u001b[0;32m~/.emacs.d/emacs_py35/lib/python3.5/site-packages/matplotlib/backends/backend_agg.py\u001b[0m in \u001b[0;36mdraw\u001b[0;34m(self)\u001b[0m\n\u001b[1;32m    423\u001b[0m         \u001b[0mDraw\u001b[0m \u001b[0mthe\u001b[0m \u001b[0mfigure\u001b[0m \u001b[0musing\u001b[0m \u001b[0mthe\u001b[0m \u001b[0mrenderer\u001b[0m\u001b[0;34m\u001b[0m\u001b[0m\n\u001b[1;32m    424\u001b[0m         \"\"\"\n\u001b[0;32m--> 425\u001b[0;31m         \u001b[0mself\u001b[0m\u001b[0;34m.\u001b[0m\u001b[0mrenderer\u001b[0m \u001b[0;34m=\u001b[0m \u001b[0mself\u001b[0m\u001b[0;34m.\u001b[0m\u001b[0mget_renderer\u001b[0m\u001b[0;34m(\u001b[0m\u001b[0mcleared\u001b[0m\u001b[0;34m=\u001b[0m\u001b[0;32mTrue\u001b[0m\u001b[0;34m)\u001b[0m\u001b[0;34m\u001b[0m\u001b[0m\n\u001b[0m\u001b[1;32m    426\u001b[0m         \u001b[0;31m# acquire a lock on the shared font cache\u001b[0m\u001b[0;34m\u001b[0m\u001b[0;34m\u001b[0m\u001b[0m\n\u001b[1;32m    427\u001b[0m         \u001b[0mRendererAgg\u001b[0m\u001b[0;34m.\u001b[0m\u001b[0mlock\u001b[0m\u001b[0;34m.\u001b[0m\u001b[0macquire\u001b[0m\u001b[0;34m(\u001b[0m\u001b[0;34m)\u001b[0m\u001b[0;34m\u001b[0m\u001b[0m\n",
      "\u001b[0;32m~/.emacs.d/emacs_py35/lib/python3.5/site-packages/matplotlib/backends/backend_agg.py\u001b[0m in \u001b[0;36mget_renderer\u001b[0;34m(self, cleared)\u001b[0m\n\u001b[1;32m    448\u001b[0m \u001b[0;34m\u001b[0m\u001b[0m\n\u001b[1;32m    449\u001b[0m         \u001b[0;32mif\u001b[0m \u001b[0mneed_new_renderer\u001b[0m\u001b[0;34m:\u001b[0m\u001b[0;34m\u001b[0m\u001b[0m\n\u001b[0;32m--> 450\u001b[0;31m             \u001b[0mself\u001b[0m\u001b[0;34m.\u001b[0m\u001b[0mrenderer\u001b[0m \u001b[0;34m=\u001b[0m \u001b[0mRendererAgg\u001b[0m\u001b[0;34m(\u001b[0m\u001b[0mw\u001b[0m\u001b[0;34m,\u001b[0m \u001b[0mh\u001b[0m\u001b[0;34m,\u001b[0m \u001b[0mself\u001b[0m\u001b[0;34m.\u001b[0m\u001b[0mfigure\u001b[0m\u001b[0;34m.\u001b[0m\u001b[0mdpi\u001b[0m\u001b[0;34m)\u001b[0m\u001b[0;34m\u001b[0m\u001b[0m\n\u001b[0m\u001b[1;32m    451\u001b[0m             \u001b[0mself\u001b[0m\u001b[0;34m.\u001b[0m\u001b[0m_lastKey\u001b[0m \u001b[0;34m=\u001b[0m \u001b[0mkey\u001b[0m\u001b[0;34m\u001b[0m\u001b[0m\n\u001b[1;32m    452\u001b[0m         \u001b[0;32melif\u001b[0m \u001b[0mcleared\u001b[0m\u001b[0;34m:\u001b[0m\u001b[0;34m\u001b[0m\u001b[0m\n",
      "\u001b[0;32m~/.emacs.d/emacs_py35/lib/python3.5/site-packages/matplotlib/backends/backend_agg.py\u001b[0m in \u001b[0;36m__init__\u001b[0;34m(self, width, height, dpi)\u001b[0m\n\u001b[1;32m     95\u001b[0m         \u001b[0mself\u001b[0m\u001b[0;34m.\u001b[0m\u001b[0mwidth\u001b[0m \u001b[0;34m=\u001b[0m \u001b[0mwidth\u001b[0m\u001b[0;34m\u001b[0m\u001b[0m\n\u001b[1;32m     96\u001b[0m         \u001b[0mself\u001b[0m\u001b[0;34m.\u001b[0m\u001b[0mheight\u001b[0m \u001b[0;34m=\u001b[0m \u001b[0mheight\u001b[0m\u001b[0;34m\u001b[0m\u001b[0m\n\u001b[0;32m---> 97\u001b[0;31m         \u001b[0mself\u001b[0m\u001b[0;34m.\u001b[0m\u001b[0m_renderer\u001b[0m \u001b[0;34m=\u001b[0m \u001b[0m_RendererAgg\u001b[0m\u001b[0;34m(\u001b[0m\u001b[0mint\u001b[0m\u001b[0;34m(\u001b[0m\u001b[0mwidth\u001b[0m\u001b[0;34m)\u001b[0m\u001b[0;34m,\u001b[0m \u001b[0mint\u001b[0m\u001b[0;34m(\u001b[0m\u001b[0mheight\u001b[0m\u001b[0;34m)\u001b[0m\u001b[0;34m,\u001b[0m \u001b[0mdpi\u001b[0m\u001b[0;34m)\u001b[0m\u001b[0;34m\u001b[0m\u001b[0m\n\u001b[0m\u001b[1;32m     98\u001b[0m         \u001b[0mself\u001b[0m\u001b[0;34m.\u001b[0m\u001b[0m_filter_renderers\u001b[0m \u001b[0;34m=\u001b[0m \u001b[0;34m[\u001b[0m\u001b[0;34m]\u001b[0m\u001b[0;34m\u001b[0m\u001b[0m\n\u001b[1;32m     99\u001b[0m \u001b[0;34m\u001b[0m\u001b[0m\n",
      "\u001b[0;31mValueError\u001b[0m: Image size of 177263x177258 pixels is too large. It must be less than 2^16 in each direction."
     ]
    },
    {
     "data": {
      "text/plain": [
       "<Figure size 432x288 with 2 Axes>"
      ]
     },
     "metadata": {
      "needs_background": "light"
     },
     "output_type": "display_data"
    }
   ],
   "source": [
    "bmcpreport = ByMtypeConnectionProbabilityAnalysis()(CircuitAdapter(\"/gpfs/bbp.cscs.ch/project/proj1/circuits/SomatosensoryCxS1-v5.r0/O1/merged_circuit/CircuitConfig\"))"
   ]
  },
  {
   "cell_type": "code",
   "execution_count": null,
   "metadata": {},
   "outputs": [
    {
     "name": "stderr",
     "output_type": "stream",
     "text": [
      "/home/dictus/bakdmt/v2/neuro_dmt/library/users/hugo/validations/__init__.py:43: Warning: <__main__.ByMtypePathwaySynapsesAnalysis object at 0x7fa3b20efc88> does not have a phenomenon, defaulting to 'Not Provided'\n",
      "  .format(self)))\n",
      "/home/dictus/bakdmt/v2/neuro_dmt/library/users/hugo/validations/__init__.py:210: UserWarning: model number 0, <neuro_dmt.library.users.hugo.adapters.CircuitAdapter object at 0x7fa3b20eff98> does not have label\n",
      "  .format(i, model))\n"
     ]
    },
    {
     "name": "stdout",
     "output_type": "stream",
     "text": [
      "model_0 : 30.08%\r"
     ]
    }
   ],
   "source": [
    "bmpsreport = ByMtypePathwaySynapsesAnalysis()(CircuitAdapter(\"/gpfs/bbp.cscs.ch/project/proj1/circuits/SomatosensoryCxS1-v5.r0/O1/merged_circuit/CircuitConfig\"))"
   ]
  },
  {
   "cell_type": "code",
   "execution_count": null,
   "metadata": {},
   "outputs": [],
   "source": [
    "import imp\n",
    "from dmt.tk.plotting import circle\n",
    "from dmt.tk.plotting import utils\n",
    "imp.reload(utils)\n",
    "imp.reload(circle)\n",
    "bmpsreport.data_results[0][1]\n",
    "\n",
    "f = cplot([bmpsreport.data_results[0][0]], [bmpsreport.data_results[0][1]])\n"
   ]
  },
  {
   "cell_type": "code",
   "execution_count": null,
   "metadata": {},
   "outputs": [],
   "source": []
  }
 ],
 "metadata": {
  "kernelspec": {
   "display_name": "Python 3",
   "language": "python",
   "name": "python3"
  },
  "language_info": {
   "codemirror_mode": {
    "name": "ipython",
    "version": 3
   },
   "file_extension": ".py",
   "mimetype": "text/x-python",
   "name": "python",
   "nbconvert_exporter": "python",
   "pygments_lexer": "ipython3",
   "version": "3.5.2"
  }
 },
 "nbformat": 4,
 "nbformat_minor": 2
}
