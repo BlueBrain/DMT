{
 "cells": [
  {
   "cell_type": "code",
   "execution_count": 1,
   "metadata": {},
   "outputs": [],
   "source": [
    "import sys\n",
    "sys.path.append(\"/home/dictus/dmt/v2\")\n",
    "from neuro_dmt.library.users.hugo.validations import SimpleValidation"
   ]
  },
  {
   "cell_type": "code",
   "execution_count": null,
   "metadata": {},
   "outputs": [],
   "source": []
  },
  {
   "cell_type": "code",
   "execution_count": 2,
   "metadata": {},
   "outputs": [],
   "source": [
    "from dmt.model.interface import Interface\n",
    "from seaborn import heatmap\n",
    "\n",
    "class SynapsesPerConnectionAnalysis(SimpleValidation):\n",
    "    \n",
    "    class AdapterInterface(Interface):\n",
    "        \n",
    "        def get_synapses_per_connection(model, pre_mtype, post_mtype):\n",
    "            \"\"\"\n",
    "            get the number of synapses per connection from the model\n",
    "            for the pathway defined be pre and post mtype\n",
    "            \n",
    "            Arguments:\n",
    "                model: the model to get the data from\n",
    "                pre_mtype: string, the presynaptic mtype\n",
    "                post_mtype: string, the postsynaptic mtype\n",
    "            \n",
    "            Returns:\n",
    "                Array: number of synapses for each connection sampled\n",
    "            \"\"\"\n",
    "            raise NotImplementedError\n",
    "    \n",
    "        def get_mtypes(model):\n",
    "            \"\"\"\n",
    "            get all of the mytpes in the model\n",
    "            Arguments:\n",
    "               model: the model to get mtypes from\n",
    "            \n",
    "            Returns:\n",
    "               iterable of mtypes (string)\n",
    "            \"\"\"\n",
    "            raise NotImplementedError\n",
    "    \n",
    "    def get_measurement(self, model, by_query):\n",
    "        \"\"\"\n",
    "        get the measurement from the model\n",
    "        Arguments:\n",
    "            by_query: dict with keys 'pre_mtype' and 'post_mtype'\n",
    "        \"\"\"\n",
    "        return model.get_synapses_per_connection(**by_query)\n",
    "    \n",
    "    def measurements_parameters(self, model):\n",
    "        mtypes = model.get_mtypes()\n",
    "        return [{'pre_mtype': pre, 'post_mtype': post} for pre in mtypes for post in mtypes]\n",
    "    \n",
    "        \n",
    "    def plot(self, labels, results_dataframes):\n",
    "        label = labels[0]\n",
    "        df = results_dataframes[0]\n",
    "        df_matrix = df.pivot_table(index='pre_mtype', columns='post_mtype', values='mean')\n",
    "        fig = heatmap(df_matrix)\n",
    "        return fig\n",
    "    "
   ]
  },
  {
   "cell_type": "code",
   "execution_count": 3,
   "metadata": {},
   "outputs": [],
   "source": [
    "import numpy as np\n",
    "\n",
    "class DummyAdapter:\n",
    "    \n",
    "    def get_synapses_per_connection(self, pre_mtype, post_mtype):\n",
    "        return np.random.poisson(10, np.random.poisson(2000))\n",
    "    \n",
    "    def get_mtypes(self):\n",
    "        return ['a', 'b', 'c', 'd', 'e', 'f']"
   ]
  },
  {
   "cell_type": "code",
   "execution_count": 4,
   "metadata": {},
   "outputs": [
    {
     "data": {
      "text/plain": [
       "array([ 7,  6, 16, ..., 13, 14,  9])"
      ]
     },
     "execution_count": 4,
     "metadata": {},
     "output_type": "execute_result"
    }
   ],
   "source": [
    "DummyAdapter().get_synapses_per_connection('', '')\n"
   ]
  },
  {
   "cell_type": "code",
   "execution_count": 5,
   "metadata": {},
   "outputs": [
    {
     "name": "stderr",
     "output_type": "stream",
     "text": [
      "/home/dictus/dmt/v2/neuro_dmt/library/users/hugo/validations/__init__.py:42: Warning: <__main__.SynapsesPerConnectionAnalysis object at 0x7f5a1c1849b0> does not have a phenomenon, defaulting to 'Not Provided'\n",
      "  .format(self)))\n",
      "/home/dictus/dmt/v2/neuro_dmt/library/users/hugo/validations/__init__.py:205: UserWarning: model number 0, <__main__.DummyAdapter object at 0x7f59e216a358> does not have label\n",
      "  .format(i, model))\n"
     ]
    },
    {
     "data": {
      "text/plain": [
       "<neuro_dmt.library.users.hugo.validations.Report at 0x7f59e216a128>"
      ]
     },
     "execution_count": 5,
     "metadata": {},
     "output_type": "execute_result"
    },
    {
     "data": {
      "image/png": "[encoded data removed]",
      "text/plain": [
       "<Figure size 432x288 with 2 Axes>"
      ]
     },
     "metadata": {
      "needs_background": "light"
     },
     "output_type": "display_data"
    }
   ],
   "source": [
    "SynapsesPerConnectionAnalysis()(DummyAdapter())"
   ]
  },
  {
   "cell_type": "code",
   "execution_count": 7,
   "metadata": {},
   "outputs": [
    {
     "name": "stderr",
     "output_type": "stream",
     "text": [
      "/home/dictus/dmt/v2/neuro_dmt/library/users/hugo/validations/__init__.py:42: Warning: <__main__.SynapsesPerConnectionAnalysis object at 0x7f59b9fb9dd8> does not have a phenomenon, defaulting to 'Not Provided'\n",
      "  .format(self)))\n"
     ]
    },
    {
     "ename": "IndexError",
     "evalue": "list index out of range",
     "output_type": "error",
     "traceback": [
      "\u001b[0;31m---------------------------------------------------------------------------\u001b[0m",
      "\u001b[0;31mKeyError\u001b[0m                                  Traceback (most recent call last)",
      "\u001b[0;32m~/dmt/v2/neuro_dmt/library/users/hugo/adapters/__init__.py\u001b[0m in \u001b[0;36m__init__\u001b[0;34m(self, circuit_config)\u001b[0m\n\u001b[1;32m    172\u001b[0m         \u001b[0;32mtry\u001b[0m\u001b[0;34m:\u001b[0m\u001b[0;34m\u001b[0m\u001b[0m\n\u001b[0;32m--> 173\u001b[0;31m             \u001b[0matlas\u001b[0m \u001b[0;34m=\u001b[0m \u001b[0mself\u001b[0m\u001b[0;34m.\u001b[0m\u001b[0m_circuit\u001b[0m\u001b[0;34m.\u001b[0m\u001b[0matlas\u001b[0m\u001b[0;34m\u001b[0m\u001b[0m\n\u001b[0m\u001b[1;32m    174\u001b[0m         \u001b[0;32mexcept\u001b[0m \u001b[0mKeyError\u001b[0m\u001b[0;34m:\u001b[0m\u001b[0;34m\u001b[0m\u001b[0m\n",
      "\u001b[0;32m~/.emacs.d/emacs_py35/lib/python3.5/site-packages/lazy/lazy.py\u001b[0m in \u001b[0;36m__get__\u001b[0;34m(self, inst, inst_cls)\u001b[0m\n\u001b[1;32m     27\u001b[0m \u001b[0;34m\u001b[0m\u001b[0m\n\u001b[0;32m---> 28\u001b[0;31m         \u001b[0mvalue\u001b[0m \u001b[0;34m=\u001b[0m \u001b[0mself\u001b[0m\u001b[0;34m.\u001b[0m\u001b[0m__func\u001b[0m\u001b[0;34m(\u001b[0m\u001b[0minst\u001b[0m\u001b[0;34m)\u001b[0m\u001b[0;34m\u001b[0m\u001b[0m\n\u001b[0m\u001b[1;32m     29\u001b[0m         \u001b[0minst\u001b[0m\u001b[0;34m.\u001b[0m\u001b[0m__dict__\u001b[0m\u001b[0;34m[\u001b[0m\u001b[0mname\u001b[0m\u001b[0;34m]\u001b[0m \u001b[0;34m=\u001b[0m \u001b[0mvalue\u001b[0m\u001b[0;34m\u001b[0m\u001b[0m\n",
      "\u001b[0;32m~/.emacs.d/emacs_py35/lib/python3.5/site-packages/bluepy/v2/circuit.py\u001b[0m in \u001b[0;36matlas\u001b[0;34m(self)\u001b[0m\n\u001b[1;32m    197\u001b[0m         \u001b[0;32mfrom\u001b[0m \u001b[0mvoxcell\u001b[0m\u001b[0;34m.\u001b[0m\u001b[0mnexus\u001b[0m\u001b[0;34m.\u001b[0m\u001b[0mvoxelbrain\u001b[0m \u001b[0;32mimport\u001b[0m \u001b[0mAtlas\u001b[0m\u001b[0;34m\u001b[0m\u001b[0m\n\u001b[0;32m--> 198\u001b[0;31m         \u001b[0;32mreturn\u001b[0m \u001b[0mAtlas\u001b[0m\u001b[0;34m.\u001b[0m\u001b[0mopen\u001b[0m\u001b[0;34m(\u001b[0m\u001b[0mself\u001b[0m\u001b[0;34m.\u001b[0m\u001b[0m_config\u001b[0m\u001b[0;34m[\u001b[0m\u001b[0;34m'atlas'\u001b[0m\u001b[0;34m]\u001b[0m\u001b[0;34m,\u001b[0m \u001b[0mcache_dir\u001b[0m\u001b[0;34m=\u001b[0m\u001b[0msettings\u001b[0m\u001b[0;34m.\u001b[0m\u001b[0mATLAS_CACHE_DIR\u001b[0m\u001b[0;34m)\u001b[0m\u001b[0;34m\u001b[0m\u001b[0m\n\u001b[0m",
      "\u001b[0;31mKeyError\u001b[0m: 'atlas'",
      "\nDuring handling of the above exception, another exception occurred:\n",
      "\u001b[0;31mIndexError\u001b[0m                                Traceback (most recent call last)",
      "\u001b[0;32m<ipython-input-7-0c3c092a7a33>\u001b[0m in \u001b[0;36m<module>\u001b[0;34m\u001b[0m\n\u001b[1;32m      1\u001b[0m \u001b[0;32mfrom\u001b[0m \u001b[0mneuro_dmt\u001b[0m\u001b[0;34m.\u001b[0m\u001b[0mlibrary\u001b[0m\u001b[0;34m.\u001b[0m\u001b[0musers\u001b[0m\u001b[0;34m.\u001b[0m\u001b[0mhugo\u001b[0m\u001b[0;34m.\u001b[0m\u001b[0madapters\u001b[0m \u001b[0;32mimport\u001b[0m \u001b[0mCircuitAdapter\u001b[0m\u001b[0;34m\u001b[0m\u001b[0m\n\u001b[0;32m----> 2\u001b[0;31m \u001b[0mSynapsesPerConnectionAnalysis\u001b[0m\u001b[0;34m(\u001b[0m\u001b[0;34m)\u001b[0m\u001b[0;34m(\u001b[0m\u001b[0mCircuitAdapter\u001b[0m\u001b[0;34m(\u001b[0m\u001b[0;34m\"/gpfs/bbp.cscs.ch/project/proj1/circuits/SomatosensoryCxS1-v5.r0/O1/merged_circuit/CircuitConfig\"\u001b[0m\u001b[0;34m)\u001b[0m\u001b[0;34m)\u001b[0m\u001b[0;34m\u001b[0m\u001b[0m\n\u001b[0m",
      "\u001b[0;32m~/dmt/v2/neuro_dmt/library/users/hugo/adapters/__init__.py\u001b[0m in \u001b[0;36m__init__\u001b[0;34m(self, circuit_config)\u001b[0m\n\u001b[1;32m    177\u001b[0m             \u001b[0;32mimport\u001b[0m \u001b[0mglob\u001b[0m\u001b[0;34m\u001b[0m\u001b[0m\n\u001b[1;32m    178\u001b[0m             atlas = Atlas.open(glob.glob(join(dirname(circuit_config),\n\u001b[0;32m--> 179\u001b[0;31m                                               \".atlas/*\"))[0])\n\u001b[0m\u001b[1;32m    180\u001b[0m         \u001b[0mself\u001b[0m\u001b[0;34m.\u001b[0m\u001b[0m_circuit\u001b[0m\u001b[0;34m.\u001b[0m\u001b[0matlas\u001b[0m \u001b[0;34m=\u001b[0m \u001b[0matlas\u001b[0m\u001b[0;34m\u001b[0m\u001b[0m\n\u001b[1;32m    181\u001b[0m         \u001b[0;32mif\u001b[0m \u001b[0mis_O1\u001b[0m\u001b[0;34m(\u001b[0m\u001b[0mself\u001b[0m\u001b[0;34m.\u001b[0m\u001b[0m_circuit\u001b[0m\u001b[0;34m)\u001b[0m\u001b[0;34m:\u001b[0m\u001b[0;34m\u001b[0m\u001b[0m\n",
      "\u001b[0;31mIndexError\u001b[0m: list index out of range"
     ]
    }
   ],
   "source": [
    "from neuro_dmt.library.users.hugo.adapters import CircuitAdapter\n",
    "SynapsesPerConnectionAnalysis()(CircuitAdapter(\"/gpfs/bbp.cscs.ch/project/proj1/circuits/SomatosensoryCxS1-v5.r0/O1/merged_circuit/CircuitConfig\"))"
   ]
  },
  {
   "cell_type": "code",
   "execution_count": null,
   "metadata": {},
   "outputs": [],
   "source": []
  }
 ],
 "metadata": {
  "kernelspec": {
   "display_name": "Python 3",
   "language": "python",
   "name": "python3"
  },
  "language_info": {
   "codemirror_mode": {
    "name": "ipython",
    "version": 3
   },
   "file_extension": ".py",
   "mimetype": "text/x-python",
   "name": "python",
   "nbconvert_exporter": "python",
   "pygments_lexer": "ipython3",
   "version": "3.5.2"
  }
 },
 "nbformat": 4,
 "nbformat_minor": 2
}
