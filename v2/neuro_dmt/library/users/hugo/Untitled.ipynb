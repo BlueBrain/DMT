{
 "cells": [
  {
   "cell_type": "code",
   "execution_count": 1,
   "metadata": {},
   "outputs": [],
   "source": [
    "import sys\n",
    "sys.path.append(\"/home/dictus/dmt\")"
   ]
  },
  {
   "cell_type": "code",
   "execution_count": 2,
   "metadata": {},
   "outputs": [],
   "source": [
    "from dmt.analysis import StructuredAnalysis\n",
    "import dmt.tk.terminology as terminology\n",
    "from neuro_dmt.terminology import neuroscience, Term"
   ]
  },
  {
   "cell_type": "code",
   "execution_count": 3,
   "metadata": {},
   "outputs": [],
   "source": [
    "CellDensity = Term(\"cell density\", \"number of cells per mm^3\")\n",
    "def cell_density(adapter, model, **parameters):\n",
    "    \"\"\"get cell density for a model through its adapter\"\"\"\n",
    "    return adapter.get_cell_density(model, **parameters)\n",
    "cell_density.phenomenon=CellDensity"
   ]
  },
  {
   "cell_type": "code",
   "execution_count": null,
   "metadata": {},
   "outputs": [],
   "source": [
    "# TODO: metadata should all be included in the analysis\n",
    "import pandas as pd\n",
    "import numpy as np\n",
    "Thalamus_density_reference_data = pd.DataFrame([\n",
    "    {neuroscience.region: 'RT', CellDensity: 68749.57}, # THAL2019-48\n",
    "    {neuroscience.region: 'VPM', CellDensity: 70919.19}, # THAL2019-48\n",
    "    {neuroscience.region: 'VPL', CellDensity: 57466.91}, # THAL2019-48\n",
    "    {neuroscience.region: 'LGd', CellDensity: 84434}, # Evangelio et al. 2018\n",
    "    {neuroscience.region: 'LP', CellDensity: 87476},  # Evangelio et al. 2018\n",
    "    {neuroscience.region: 'TH', CellDensity: np.nan}\n",
    "])"
   ]
  },
  {
   "cell_type": "code",
   "execution_count": null,
   "metadata": {},
   "outputs": [],
   "source": [
    "class CellDensityAdapterInterface:\n",
    "    \"\"\"...\"\"\"\n",
    "    @terminology.use(neuroscience.region)\n",
    "    def get_cell_density(self, model, **params):\n",
    "        \"\"\"\n",
    "        a method that accepts a model and the following parameters:\n",
    "            {parameters}\n",
    "        and returns the cell density of the model under those parameters\n",
    "        \"\"\"\n",
    "        raise NotImplementedError()"
   ]
  },
  {
   "cell_type": "code",
   "execution_count": null,
   "metadata": {},
   "outputs": [],
   "source": [
    "from dmt.tk.plotting import Bars\n",
    "ThalamusDensityValidation = StructuredAnalysis(reference_data=Thalamus_density_reference_data, \n",
    "                                               measurement_method=cell_density,\n",
    "                                              AdapterInterface=CellDensityAdapterInterface,\n",
    "                                              plotter=Bars())"
   ]
  },
  {
   "cell_type": "code",
   "execution_count": null,
   "metadata": {},
   "outputs": [],
   "source": [
    "from neuro_dmt.models.bluebrain.circuit import CircuitAdapter\n",
    "from neuro_dmt.models.bluebrain.circuit.atlas import CircuitAtlas"
   ]
  },
  {
   "cell_type": "code",
   "execution_count": null,
   "metadata": {},
   "outputs": [
    {
     "name": "stderr",
     "output_type": "stream",
     "text": [
      "Top-most object contains 'msg'; assuming AIBS JSON layout\n",
      "Top-most object contains 'msg'; assuming AIBS JSON layout\n",
      "Top-most object contains 'msg'; assuming AIBS JSON layout\n",
      "Top-most object contains 'msg'; assuming AIBS JSON layout\n",
      "Top-most object contains 'msg'; assuming AIBS JSON layout\n",
      "Top-most object contains 'msg'; assuming AIBS JSON layout\n",
      "  0%|          | 0/6 [00:00<?, ?it/s]Top-most object contains 'msg'; assuming AIBS JSON layout\n",
      " 17%|█▋        | 1/6 [00:22<01:52, 22.56s/it]Top-most object contains 'msg'; assuming AIBS JSON layout\n",
      " 33%|███▎      | 2/6 [00:45<01:30, 22.54s/it]Top-most object contains 'msg'; assuming AIBS JSON layout\n",
      " 50%|█████     | 3/6 [01:07<01:07, 22.47s/it]Top-most object contains 'msg'; assuming AIBS JSON layout\n",
      " 67%|██████▋   | 4/6 [01:29<00:45, 22.52s/it]Top-most object contains 'msg'; assuming AIBS JSON layout\n",
      " 83%|████████▎ | 5/6 [01:52<00:22, 22.52s/it]"
     ]
    }
   ],
   "source": [
    "# TODO: passing uninitialized adapter raises confusing error\n",
    "# plotter is optional, but message when it is missing is uninformative - should say to pass it on initialization\n",
    "thalamus_atlas = CircuitAtlas('/gpfs/bbp.cscs.ch/project/proj82/entities/atlas/Thalamus/20191112/')\n",
    "thalamus_atlas.label = 'atlas'\n",
    "report = ThalamusDensityValidation((CircuitAdapter(), thalamus_atlas))"
   ]
  },
  {
   "cell_type": "code",
   "execution_count": null,
   "metadata": {},
   "outputs": [],
   "source": [
    "report.measurement\n"
   ]
  },
  {
   "cell_type": "raw",
   "metadata": {},
   "source": []
  },
  {
   "cell_type": "code",
   "execution_count": null,
   "metadata": {},
   "outputs": [],
   "source": [
    "Bars()(report.measurement, phenomenon=CellDensity)"
   ]
  },
  {
   "cell_type": "code",
   "execution_count": null,
   "metadata": {},
   "outputs": [],
   "source": []
  }
 ],
 "metadata": {
  "kernelspec": {
   "display_name": "Python 3",
   "language": "python",
   "name": "python3"
  },
  "language_info": {
   "codemirror_mode": {
    "name": "ipython",
    "version": 3
   },
   "file_extension": ".py",
   "mimetype": "text/x-python",
   "name": "python",
   "nbconvert_exporter": "python",
   "pygments_lexer": "ipython3",
   "version": "3.7.4"
  },
  "latex_envs": {
   "LaTeX_envs_menu_present": true,
   "autoclose": false,
   "autocomplete": true,
   "bibliofile": "biblio.bib",
   "cite_by": "apalike",
   "current_citInitial": 1,
   "eqLabelWithNumbers": true,
   "eqNumInitial": 1,
   "hotkeys": {
    "equation": "Ctrl-E",
    "itemize": "Ctrl-I"
   },
   "labels_anchors": false,
   "latex_user_defs": false,
   "report_style_numbering": false,
   "user_envs_cfg": false
  },
  "toc": {
   "base_numbering": 1,
   "nav_menu": {},
   "number_sections": true,
   "sideBar": true,
   "skip_h1_title": false,
   "title_cell": "Table of Contents",
   "title_sidebar": "Contents",
   "toc_cell": false,
   "toc_position": {},
   "toc_section_display": true,
   "toc_window_display": false
  },
  "varInspector": {
   "cols": {
    "lenName": 16,
    "lenType": 16,
    "lenVar": 40
   },
   "kernels_config": {
    "python": {
     "delete_cmd_postfix": "",
     "delete_cmd_prefix": "del ",
     "library": "var_list.py",
     "varRefreshCmd": "print(var_dic_list())"
    },
    "r": {
     "delete_cmd_postfix": ") ",
     "delete_cmd_prefix": "rm(",
     "library": "var_list.r",
     "varRefreshCmd": "cat(var_dic_list()) "
    }
   },
   "types_to_exclude": [
    "module",
    "function",
    "builtin_function_or_method",
    "instance",
    "_Feature"
   ],
   "window_display": false
  }
 },
 "nbformat": 4,
 "nbformat_minor": 2
}
