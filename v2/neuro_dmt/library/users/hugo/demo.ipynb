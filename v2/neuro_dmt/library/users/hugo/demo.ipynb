{
 "cells": [
  {
   "cell_type": "code",
   "execution_count": null,
   "metadata": {},
   "outputs": [],
   "source": [
    "import sys\n",
    "# TODO: why is this necessary, I am running from dmt/v2, shouldn't it be in path?\n",
    "sys.path.append(\"/home/dictus/dmt/\")\n",
    "from dmt.analysis import StructuredAnalysis"
   ]
  },
  {
   "cell_type": "code",
   "execution_count": null,
   "metadata": {},
   "outputs": [],
   "source": [
    "import pandas as pd\n",
    "from neuro_dmt.terminology import circuit, cell, neuroscience\n",
    "from dmt.tk.terminology.data import data as data\n",
    "from dmt.tk.terminology import Term\n",
    "CellDensity = Term(\"cell density\", \"number of cells per mm^3\")\n"
   ]
  },
  {
   "cell_type": "code",
   "execution_count": null,
   "metadata": {},
   "outputs": [],
   "source": [
    "\n",
    "from neuro_dmt.models.bluebrain.circuit.adapter import CircuitAdapter\n",
    "from neuro_dmt.models.bluebrain.circuit.model import CircuitModel"
   ]
  },
  {
   "cell_type": "code",
   "execution_count": null,
   "metadata": {},
   "outputs": [],
   "source": [
    "import pandas as pd\n",
    "by_layer_example_cell_density = pd.DataFrame(\n",
    "        {circuit.layer: ['L1',] * 3 + ['L2',] * 3 + ['L3',] * 3 + ['L4',] * 3 + ['L5',] * 3 + ['L6',] * 3,\n",
    "         CellDensity: [100000, 110000, 90000,\n",
    "                       120000, 130000, 140000,\n",
    "                       110000, 200000, 60000,\n",
    "                       130000, 130000, 130000,\n",
    "                       100000, 130000, 160000,\n",
    "                       231000, 214000, 121000]})"
   ]
  },
  {
   "cell_type": "code",
   "execution_count": null,
   "metadata": {},
   "outputs": [],
   "source": [
    "# measurement_parameters should (in principle) never touch the parameters, just pass them through its methods. Is it worthwhile to enforce that? (I think: No, if people need to do it for a quickyly-hacked solution let them, and it will be caught by code review before it hits the main library)\n",
    "# TODO: adapter methods are coupled to the measurement in part, we need a way to aggregate the Interface from the Adapter's components\n",
    "#       it may be good to combine this with a check that runs the measurement/parameters object's __call__ on its 'adapter' object with mock model and parameters, and assert that a NotImplementedError is raised\n",
    "from dmt.tk.reporting import Reporter\n",
    "\n",
    "def cell_density(adapter, model, **parameters):\n",
    "    \"\"\"get cell density for a model through its adapter\"\"\"\n",
    "    return adapter.get_cell_density(model, **parameters)\n",
    "cell_density.phenomenon = CellDensity\n",
    "\n",
    "from dmt.tk.plotting.bars import Bars\n",
    "\n",
    "class AdapterInterface:\n",
    "    def get_cell_density(self, model, **params):\n",
    "        raise NotImplementedError()\n",
    "        \n",
    "DataReplicationCellDensityAnalysis = StructuredAnalysis(measurement_method=cell_density,\n",
    "                                             plotter=Bars(),AdapterInterface=AdapterInterface, \n",
    "                                                          default_adapter=CircuitAdapter(),\n",
    "                                                       reporter=Reporter(path_output_folder='/home/dictus/validations'))\n"
   ]
  },
  {
   "cell_type": "code",
   "execution_count": null,
   "metadata": {
    "scrolled": true
   },
   "outputs": [],
   "source": [
    "circuit_config = \"/gpfs/bbp.cscs.ch/project/proj68/circuits/O1/20190307/CircuitConfig\"\n",
    "circuit_model = CircuitModel(circuit_config)\n",
    "example_report = DataReplicationCellDensityAnalysis.with_fields(reference_data=by_layer_example_cell_density)((CircuitAdapter(), circuit_model))\n"
   ]
  },
  {
   "cell_type": "code",
   "execution_count": null,
   "metadata": {
    "scrolled": true
   },
   "outputs": [],
   "source": []
  },
  {
   "cell_type": "code",
   "execution_count": null,
   "metadata": {
    "scrolled": true
   },
   "outputs": [],
   "source": [
    "MC_by_layer_data = pd.DataFrame({\n",
    "    neuroscience.layer: ['L2', 'L3', 'L4', 'L6'],\n",
    "   cell.morphology_subclass: 'MC',\n",
    "   CellDensity: [12000, 10000, 20000, 10000]\n",
    "})\n",
    "MC_by_layer_report = DataReplicationCellDensityAnalysis.with_fields(reference_data=MC_by_layer_data)(circuit_model)"
   ]
  },
  {
   "cell_type": "code",
   "execution_count": null,
   "metadata": {},
   "outputs": [],
   "source": []
  },
  {
   "cell_type": "code",
   "execution_count": null,
   "metadata": {},
   "outputs": [],
   "source": [
    "from neuro_dmt.models.bluebrain.circuit.atlas import CircuitAtlas\n",
    "\n",
    "thalamus_data = pd.DataFrame({\n",
    "    CellDensity : [72802.84, 65364.87, 56678.06, 75391.47],\n",
    "    circuit.region: ['RT', '@VPL|VPM', 'VPL', 'VPM']})\n",
    "thalamus_atlas = CircuitAtlas(\"/gpfs/bbp.cscs.ch/project/proj55/entities/atlas/20190628/\")\n",
    "thalamus_atlas.label = \"Thalamus Atlas\"\n",
    "# using the CircuitAdapter is wierd.\n",
    "# Maybe just call it 'BlueBrainAdapter'\n",
    "DataReplicationCellDensityAnalysis.with_fields(reference_data=thalamus_data)((CircuitAdapter(), thalamus_atlas))"
   ]
  },
  {
   "cell_type": "code",
   "execution_count": null,
   "metadata": {
    "scrolled": true
   },
   "outputs": [],
   "source": [
    "import yaml\n",
    "DefilipeDatapath = \"/gpfs/bbp.cscs.ch/project/proj64/dissemination/data/DeFelipe2017.yaml\"\n",
    "with open(DefilipeDatapath) as DFDF:\n",
    "    DFDict = yaml.load(DFDF)\n",
    "print(DFDict)\n",
    "import pandas as pd\n",
    "DefilipeCellDensityData = pd.DataFrame({circuit.layer: \"L{}\".format(l+1),\n",
    "                                        CellDensity: subj['densities'][l]}\n",
    "                                        for l in range(0,6)\n",
    "                                        for subj in DFDict['circuits'].values())\n",
    "print(DefilipeCellDensityData)"
   ]
  },
  {
   "cell_type": "code",
   "execution_count": null,
   "metadata": {},
   "outputs": [],
   "source": [
    "rat = \"mean\"\n",
    "ratlas = CircuitAtlas(\"/gpfs/bbp.cscs.ch/project/proj64/dissemination/data/atlas/O1/DAN/\"+rat)\n",
    "DataReplicationCellDensityAnalysis.with_fields(reference_data=DefilipeCellDensityData)(ratlas)"
   ]
  },
  {
   "cell_type": "code",
   "execution_count": null,
   "metadata": {
    "scrolled": true
   },
   "outputs": [],
   "source": [
    "S1_atlas = CircuitAtlas(\"/gpfs/bbp.cscs.ch/project/proj64/dissemination/data/atlas/S1/MEAN/juvenile_L23_MC_BTC_shifted_down/Bio_M/\")\n",
    "S1_circuit = CircuitModel(\"/gpfs/bbp.cscs.ch/project/proj64/dissemination/circuits/S1/juvenile/L23_MC_BTC_shifted_down/Bio_M/20190925/CircuitConfig\")\n",
    "S1_atlas.label = 'Bio_M Atlas'\n",
    "S1_circuit.label = \"Bio_M Circuit\"\n",
    "report = DataReplicationCellDensityAnalysis.with_fields(\n",
    "    measurement_parameters=\n",
    "    pd.DataFrame({neuroscience.layer: ['L1', 'L2', 'L3', 'L4', 'L5', 'L6'],\n",
    "                  neuroscience.region: [['SSp-ul', 'SSp-ll', 'SSp-sh', 'SSp-tr']]*6,\n",
    "                  neuroscience.synapse_class: 'EXC'}))(S1_atlas, S1_circuit)"
   ]
  },
  {
   "cell_type": "code",
   "execution_count": null,
   "metadata": {},
   "outputs": [],
   "source": [
    "report.measurement"
   ]
  },
  {
   "cell_type": "code",
   "execution_count": null,
   "metadata": {},
   "outputs": [],
   "source": []
  },
  {
   "cell_type": "code",
   "execution_count": null,
   "metadata": {},
   "outputs": [],
   "source": []
  },
  {
   "cell_type": "code",
   "execution_count": null,
   "metadata": {},
   "outputs": [],
   "source": []
  }
 ],
 "metadata": {
  "kernelspec": {
   "display_name": "Python 3",
   "language": "python",
   "name": "python3"
  },
  "language_info": {
   "codemirror_mode": {
    "name": "ipython",
    "version": 3
   },
   "file_extension": ".py",
   "mimetype": "text/x-python",
   "name": "python",
   "nbconvert_exporter": "python",
   "pygments_lexer": "ipython3",
   "version": "3.5.2"
  }
 },
 "nbformat": 4,
 "nbformat_minor": 2
}
