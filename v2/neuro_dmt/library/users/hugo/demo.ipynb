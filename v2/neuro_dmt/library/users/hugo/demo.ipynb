{
 "cells": [
  {
   "cell_type": "code",
   "execution_count": null,
   "metadata": {},
   "outputs": [],
   "source": [
    "import sys\n",
    "sys.path.append(\"/home/dictus/dmt/v2\")\n",
    "from neuro_dmt.library.users.hugo.validations import CellDensityValidation, INHRatioValidation"
   ]
  },
  {
   "cell_type": "code",
   "execution_count": null,
   "metadata": {},
   "outputs": [],
   "source": [
    "import pandas as pd\n",
    "example_cell_density_data = pd.DataFrame(\n",
    "        {'layer': ['L1','L2','L3','L4','L5','L6'],\n",
    "         \"samples\": [[100000, 110000, 90000],\n",
    "                     [120000, 130000, 140000],\n",
    "                     [110000, 200000, 60000],\n",
    "                     [130000, 130000, 130000],\n",
    "                     [100000, 130000, 160000],\n",
    "                     [231000, 214000, 121000]]})\n"
   ]
  },
  {
   "cell_type": "code",
   "execution_count": null,
   "metadata": {},
   "outputs": [],
   "source": [
    "from neuro_dmt.library.users.hugo.adapters import CircuitAdapter\n",
    "circuit_config = \"/gpfs/bbp.cscs.ch/project/proj68/circuits/O1/20190307/CircuitConfig\"\n",
    "circuit_model = CircuitAdapter(circuit_config)"
   ]
  },
  {
   "cell_type": "code",
   "execution_count": null,
   "metadata": {},
   "outputs": [],
   "source": [
    "CellDensityValidation(data=example_cell_density_data)(circuit_model)"
   ]
  },
  {
   "cell_type": "code",
   "execution_count": null,
   "metadata": {},
   "outputs": [],
   "source": [
    "INHRatioValidation(data=pd.DataFrame([{'layer': l} for l in['L1', 'L2', 'L3', 'L4', 'L5', 'L6']]))\\\n",
    "                        (circuit_model)"
   ]
  },
  {
   "cell_type": "code",
   "execution_count": null,
   "metadata": {},
   "outputs": [],
   "source": [
    "# TODO: SynapseDensityValidation"
   ]
  },
  {
   "cell_type": "code",
   "execution_count": null,
   "metadata": {},
   "outputs": [],
   "source": [
    "# automatically puts mtype in the title, rather than cluttering x-axis with repeated mentions\n",
    "CellDensityValidation(data=pd.DataFrame([{'mtype': 'MC', 'layer': 'L{}'.format(l)} for l in range(1, 7)]))(circuit_model)"
   ]
  },
  {
   "cell_type": "code",
   "execution_count": null,
   "metadata": {},
   "outputs": [],
   "source": [
    "class CellDensityByMtypeValidation(CellDensityValidation):\n",
    "    \n",
    "    class AdapterInterface(CellDensityValidation.AdapterInterface):\n",
    "        \n",
    "        def mtypes(adapter_self):\n",
    "            \"\"\"\n",
    "            get all the mtypes represented in the circuit\n",
    "            They are expected as strings without laye prefixes\n",
    "            \"\"\"\n",
    "            pass\n",
    "\n",
    "    def measurements_parameters(self, model):\n",
    "        return [{'mtype': mtype} for mtype in model.mtypes()]\n",
    "\n",
    "CellDensityByMtypeValidation()(circuit_model)\n",
    "        "
   ]
  },
  {
   "cell_type": "code",
   "execution_count": null,
   "metadata": {},
   "outputs": [],
   "source": [
    "circuit_model_2 = CircuitAdapter(\"/gpfs/bbp.cscs.ch/project/proj66/circuits/O1/r0/CircuitConfig\")\n",
    "CellDensityValidation(data=example_cell_density_data)(circuit_model, circuit_model_2)"
   ]
  },
  {
   "cell_type": "code",
   "execution_count": null,
   "metadata": {},
   "outputs": [],
   "source": []
  },
  {
   "cell_type": "code",
   "execution_count": null,
   "metadata": {},
   "outputs": [],
   "source": [
    "try:\n",
    "    INHRatioValidation()\n",
    "except AssertionError as E:\n",
    "    print(E)"
   ]
  },
  {
   "cell_type": "code",
   "execution_count": null,
   "metadata": {},
   "outputs": [],
   "source": [
    "from neuro_dmt.library.users.hugo.adapters.atlas import AtlasAdapter"
   ]
  },
  {
   "cell_type": "code",
   "execution_count": null,
   "metadata": {},
   "outputs": [],
   "source": [
    "import yaml\n",
    "DefilipeDatapath = \"/gpfs/bbp.cscs.ch/project/proj64/dissemination/data/DeFelipe2017.yaml\"\n",
    "with open(DefilipeDatapath) as DFDF:\n",
    "    DFDict = yaml.load(DFDF)\n",
    "DFDict"
   ]
  },
  {
   "cell_type": "code",
   "execution_count": null,
   "metadata": {},
   "outputs": [],
   "source": [
    "import pandas as pd\n",
    "DefilipeCellDensityData = pd.DataFrame({'layer':\n",
    "                                        [\"L1\", \"L2\", \"L3\", \"L4\", \"L5\", \"L6\"],\n",
    "                                       'samples': \n",
    "                                        [[subj['densities'][l] \n",
    "                                          for subj in DFDict['circuits'].values()]\n",
    "                                         for l in range(6)]})\n",
    "DefilipeCellDensityData"
   ]
  },
  {
   "cell_type": "code",
   "execution_count": null,
   "metadata": {},
   "outputs": [],
   "source": [
    "rats_df =\\\n",
    "   pd.concat([\n",
    "       pd.DataFrame(subject_data)\\\n",
    "         .assign(subject=subject_label)\n",
    "       for subject_label, subject_data in DFDict['circuits'].items()])\\\n",
    "       .assign(layer=['L1', \"L2\", \"L3\", \"L4\", \"L5\", \"L6\"]*6).set_index(\"subject\")\\\n",
    "       .rename(columns={\"densities\": \"samples\", \"thicknesses\": \"thickness\"})\n",
    "print(rats_df.loc['P14-12'])\n",
    "mean_rat = rats_df.groupby(\"layer\").agg('mean')\n",
    "print(mean_rat)\n",
    "mean_rat['subject'] = \"mean\"\n",
    "rats_df = pd.concat((rats_df, mean_rat.assign(subject=\"mean\", layer=mean_rat.index).set_index(\"subject\")))\n",
    "print(rats_df)"
   ]
  },
  {
   "cell_type": "code",
   "execution_count": null,
   "metadata": {},
   "outputs": [],
   "source": [
    "rat = \"mean\"\n",
    "report = CellDensityValidation(data=rats_df.loc[rat].reset_index())(\n",
    "    AtlasAdapter(\"/gpfs/bbp.cscs.ch/project/proj64/dissemination/data/atlas/O1/DAN/\"+rat))"
   ]
  },
  {
   "cell_type": "code",
   "execution_count": null,
   "metadata": {},
   "outputs": [],
   "source": []
  },
  {
   "cell_type": "code",
   "execution_count": null,
   "metadata": {},
   "outputs": [],
   "source": []
  },
  {
   "cell_type": "code",
   "execution_count": null,
   "metadata": {},
   "outputs": [],
   "source": [
    "# test that CellDensityValidation's interface raises the right kind of error\n",
    "class Amethodlessclass:\n",
    "    pass\n",
    "CellDensityValidation(data=example_cell_density_data)(Amethodlessclass())\n",
    "# it doesn't work"
   ]
  },
  {
   "cell_type": "code",
   "execution_count": null,
   "metadata": {},
   "outputs": [],
   "source": [
    "thal = AtlasAdapter(\"/gpfs/bbp.cscs.ch/project/proj55/entities/atlas/20190628/\")\n",
    "thal.label=\"Thalamus_atlas\"\n",
    "CellDensityValidation(data=pd.DataFrame({\n",
    "    'samples' : [72802.84, 65364.87, 56678.06, 75391.47],\n",
    "    'region': ['RT', '@VPL|VPM', 'VPL', 'VPM']\n",
    "}))(thal)"
   ]
  },
  {
   "cell_type": "markdown",
   "metadata": {},
   "source": []
  },
  {
   "cell_type": "code",
   "execution_count": null,
   "metadata": {},
   "outputs": [],
   "source": []
  },
  {
   "cell_type": "code",
   "execution_count": null,
   "metadata": {},
   "outputs": [],
   "source": []
  }
 ],
 "metadata": {
  "kernelspec": {
   "display_name": "Python 3",
   "language": "python",
   "name": "python3"
  },
  "language_info": {
   "codemirror_mode": {
    "name": "ipython",
    "version": 3
   },
   "file_extension": ".py",
   "mimetype": "text/x-python",
   "name": "python",
   "nbconvert_exporter": "python",
   "pygments_lexer": "ipython3",
   "version": "3.5.2"
  }
 },
 "nbformat": 4,
 "nbformat_minor": 2
}
