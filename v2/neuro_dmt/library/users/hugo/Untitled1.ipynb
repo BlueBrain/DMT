{
 "cells": [
  {
   "cell_type": "code",
   "execution_count": 1,
   "metadata": {},
   "outputs": [],
   "source": [
    "import sys; sys.path.append(\"/home/dictus/dmt\")"
   ]
  },
  {
   "cell_type": "code",
   "execution_count": 2,
   "metadata": {},
   "outputs": [],
   "source": [
    "from validations import CellDensityValidation, InhibitoryProportionValidation, StructuredAnalysis, SynapseDensityValidation, ConnectionProbabilityValidation"
   ]
  },
  {
   "cell_type": "code",
   "execution_count": 3,
   "metadata": {},
   "outputs": [],
   "source": [
    "from neuro_dmt.models.bluebrain.circuit import CircuitAdapter, CircuitModel\n",
    "from neuro_dmt.models.bluebrain.circuit.atlas import CircuitAtlas"
   ]
  },
  {
   "cell_type": "code",
   "execution_count": 4,
   "metadata": {},
   "outputs": [],
   "source": [
    "# TODO: needing to import the measurement to provide data associated with it is slightly tedious and unnecessary.\n",
    "#       perhaps the old system of 'samples' is better - the validation already knows what the measurement is\n",
    "#       if we like we can always provide the measurement as metadata\n",
    "#       this current entanglement of Test and Data is not ideal\n",
    "from validations.measurements import cell_density, inhibitory_proportion, synapse_density, connection_probability\n",
    "from neuro_dmt.terminology import neuroscience\n",
    "import pandas as pd\n",
    "\n",
    "ByLayerCellDensityData = pd.DataFrame({\n",
    "    neuroscience.layer: [],\n",
    "    cell_density: []})\n",
    "ByLayerInhibitoryProportionData = pd.DataFrame({\n",
    "    neuroscience.layer: [],\n",
    "    inhibitory_proportion: []})\n",
    "ByLayerSynapseDensityData = pd.DataFrame({\n",
    "    neuroscience.layer: [],\n",
    "    synapse_density: []})\n",
    "ConnectionProbabilityData = pd.DataFrame({\n",
    "    neuroscience.presynaptic: [],\n",
    "    neuroscience.postsynaptic: [],\n",
    "    connection_probability: []\n",
    "})"
   ]
  },
  {
   "cell_type": "code",
   "execution_count": 5,
   "metadata": {},
   "outputs": [],
   "source": [
    "circuit_config = \"/gpfs/bbp.cscs.ch/project/proj83/circuits/Bio_M/20191206/CircuitConfig\"\n",
    "atlas_dir = \"/gpfs/bbp.cscs.ch/project/proj83/data/atlas/S1/MEAN/P14-MEAN/\"\n",
    "adapter_model = CircuitAdapter(), CircuitModel(circuit_config)\n",
    "adapter_model[1].label='circuit'\n",
    "adapter_atlas = CircuitAdapter(), CircuitAtlas(atlas_dir)\n",
    "adapter_atlas[1].label='atlas'"
   ]
  },
  {
   "cell_type": "code",
   "execution_count": 7,
   "metadata": {},
   "outputs": [
    {
     "name": "stderr",
     "output_type": "stream",
     "text": [
      "100%|████████████████████████████████████████████| 6/6 [00:13<00:00,  2.23s/it]\n",
      "100%|████████████████████████████████████████████| 6/6 [00:34<00:00,  5.78s/it]\n"
     ]
    },
    {
     "data": {
      "text/plain": [
       "[<Figure size 999.113x576 with 1 Axes>]"
      ]
     },
     "execution_count": 7,
     "metadata": {},
     "output_type": "execute_result"
    },
    {
     "data": {
      "image/png": "[encoded data removed]",
      "text/plain": [
       "<Figure size 999.113x576 with 1 Axes>"
      ]
     },
     "metadata": {
      "needs_background": "light"
     },
     "output_type": "display_data"
    }
   ],
   "source": [
    "# TODO: simplevalidation should raise an error when called empty\n",
    "report = CellDensityValidation.with_fields(measurement_parameters=pd.DataFrame({neuroscience.layer: ['L{}'.format(l) for l in range(1, 7)]}))(adapter_model, adapter_atlas)\n",
    "#InhibitoryProportionValidation.with_fields(reference_data=ByLayerInhibitoryProportionData)(adapter_model)\n",
    "#SynapseDensityValidation.with_fields(reference_data=ByLayerSynapseDensityData)(adapter_model)\n",
    "report.figures"
   ]
  },
  {
   "cell_type": "code",
   "execution_count": null,
   "metadata": {},
   "outputs": [],
   "source": [
    "from validations.parameters import ByHeight, ByMtypeByEtype\n",
    "CellDensityValidation.with_fields(measurement_parameters=ByHeight(nbins=100))(adapter_model)"
   ]
  },
  {
   "cell_type": "code",
   "execution_count": null,
   "metadata": {},
   "outputs": [],
   "source": [
    "from dmt.tk.terminology import Term\n",
    "def etype_fraction(adapter, model, **parameters):\n",
    "    ##rheqadjsvghabfjkbajkf\n",
    "    return adapter.get_cell_density(**{p:v for p, v in parameters.items() if p != neuroscience.etype})\\\n",
    "           / adapter.get_cell_density(**parameters)\n",
    "    \n",
    "etype_fraction.phenomenon = Term(\"etype fraction\", \"fraction of cells belonging to etype\")"
   ]
  },
  {
   "cell_type": "code",
   "execution_count": null,
   "metadata": {},
   "outputs": [],
   "source": [
    "from dmt.tk.plotting import HeatPlot\n",
    "EtypeFractionByEtypeMtype = CellDensityValidation.with_fields(\n",
    "    plotter=HeatPlot(), measurement_parameters=ByMtypeByEtype(), measurement_method=etype_fraction)\n",
    "EtypeFractionByEtypeMtype(adapter_model)"
   ]
  },
  {
   "cell_type": "code",
   "execution_count": null,
   "metadata": {},
   "outputs": [],
   "source": [
    "from dmt.tk.plotting import CrossPlot\n",
    "# TODO: make a crossplot that works without providing tons of data at initialization"
   ]
  },
  {
   "cell_type": "code",
   "execution_count": null,
   "metadata": {},
   "outputs": [],
   "source": [
    "import numpy as np\n",
    "class CentralConnectomeCircuitModel(CircuitModel):\n",
    "    \n",
    "    def define_central_column(self, cells):\n",
    "        radius = 350 # um\n",
    "        orientation = np.mean(cells.orientation, axis=0)[:, 1]\n",
    "        origin = np.mean([cells.x, cells.y, cells.z], axis=1)\n",
    "        return (radius, orientation, origin)\n",
    "    \n",
    "    def filter_central_column(self, column, cells):\n",
    "        radius, orientation, origin = column\n",
    "        positions = np.transpose([cells.x, cells.y, cells.z])\n",
    "        differences = positions - origin\n",
    "        parallel_component = np.sum(differences * orientation, axis=-1)[:, np.newaxis] * orientation[np.newaxis, :]\n",
    "        perpendicular_component_size = np.linalg.norm(differences - parallel_component, axis=-1)\n",
    "        return cells[perpendicular_component_size < radius]\n",
    "    \n",
    "    @property\n",
    "    def central_column(self):\n",
    "        if not hasattr(self, '_column'):\n",
    "            self._column = self.define_central_column(self._circuit.cells.get())\n",
    "        return self._column\n",
    "    \n",
    "    def get_cells(self, **params):\n",
    "        cells = super().get_cells(**params)\n",
    "        return self.filter_central_column(self.central_column, cells)\n",
    "    \n",
    "    def _sample_connectome(self, method, sample_size, **parameters):\n",
    "        connectome = self.get_connectome(**parameters)\n",
    "        pre_cells = self.get_cells(**parameters[neuroscience.presynaptic])\n",
    "        post_cells = self.get_cells(**parameters[neuroscience.postsynaptic])\n",
    "        # column = self.define_central_column(pd.concat([pre_cells, post_cells]))\n",
    "        # pre_cells = self.filter_central_column(column, pre_cells)\n",
    "        # post_cells = self.filter_central_column(column, post_cells)\n",
    "        total_pairs = pre_cells.shape[0] * post_cells.shape[0]\n",
    "        if total_pairs == 0:\n",
    "            return np.nan\n",
    "        return method(connectome, pre_cells.index.values, post_cells.index.values, sample_size)"
   ]
  },
  {
   "cell_type": "raw",
   "metadata": {},
   "source": []
  },
  {
   "cell_type": "code",
   "execution_count": null,
   "metadata": {
    "scrolled": true
   },
   "outputs": [
    {
     "name": "stdout",
     "output_type": "stream",
     "text": [
      "[{'layer': 'L1', 'morphology_subclass': 'DAC', 'mtype': 'L1_DAC'}, {'layer': 'L1', 'morphology_subclass': 'HAC', 'mtype': 'L1_HAC'}, {'layer': 'L1', 'morphology_subclass': 'LAC', 'mtype': 'L1_LAC'}, {'layer': 'L1', 'morphology_subclass': 'NGC-DA', 'mtype': 'L1_NGC-DA'}, {'layer': 'L1', 'morphology_subclass': 'NGC-SA', 'mtype': 'L1_NGC-SA'}, {'layer': 'L1', 'morphology_subclass': 'SAC', 'mtype': 'L1_SAC'}, {'layer': ['L2', 'L3'], 'morphology_subclass': 'BP', 'mtype': 'L23_BP'}, {'layer': ['L2', 'L3'], 'morphology_subclass': 'BTC', 'mtype': 'L23_BTC'}, {'layer': ['L2', 'L3'], 'morphology_subclass': 'CHC', 'mtype': 'L23_CHC'}, {'layer': ['L2', 'L3'], 'morphology_subclass': 'DBC', 'mtype': 'L23_DBC'}, {'layer': ['L2', 'L3'], 'morphology_subclass': 'LBC', 'mtype': 'L23_LBC'}, {'layer': ['L2', 'L3'], 'morphology_subclass': 'MC', 'mtype': 'L23_MC'}, {'layer': ['L2', 'L3'], 'morphology_subclass': 'NBC', 'mtype': 'L23_NBC'}, {'layer': ['L2', 'L3'], 'morphology_subclass': 'NGC', 'mtype': 'L23_NGC'}, {'layer': ['L2', 'L3'], 'morphology_subclass': 'SBC', 'mtype': 'L23_SBC'}, {'layer': 'L2', 'morphology_subclass': 'IPC', 'mtype': 'L2_IPC'}, {'layer': 'L2', 'morphology_subclass': 'TPC:A', 'mtype': 'L2_TPC:A'}, {'layer': 'L2', 'morphology_subclass': 'TPC:B', 'mtype': 'L2_TPC:B'}, {'layer': 'L3', 'morphology_subclass': 'TPC:A', 'mtype': 'L3_TPC:A'}, {'layer': 'L3', 'morphology_subclass': 'TPC:B', 'mtype': 'L3_TPC:B'}, {'layer': 'L4', 'morphology_subclass': 'BP', 'mtype': 'L4_BP'}, {'layer': 'L4', 'morphology_subclass': 'BTC', 'mtype': 'L4_BTC'}, {'layer': 'L4', 'morphology_subclass': 'CHC', 'mtype': 'L4_CHC'}, {'layer': 'L4', 'morphology_subclass': 'DBC', 'mtype': 'L4_DBC'}, {'layer': 'L4', 'morphology_subclass': 'LBC', 'mtype': 'L4_LBC'}, {'layer': 'L4', 'morphology_subclass': 'MC', 'mtype': 'L4_MC'}, {'layer': 'L4', 'morphology_subclass': 'NBC', 'mtype': 'L4_NBC'}, {'layer': 'L4', 'morphology_subclass': 'NGC', 'mtype': 'L4_NGC'}, {'layer': 'L4', 'morphology_subclass': 'SBC', 'mtype': 'L4_SBC'}, {'layer': 'L4', 'morphology_subclass': 'SSC', 'mtype': 'L4_SSC'}, {'layer': 'L4', 'morphology_subclass': 'TPC', 'mtype': 'L4_TPC'}, {'layer': 'L4', 'morphology_subclass': 'UPC', 'mtype': 'L4_UPC'}, {'layer': 'L5', 'morphology_subclass': 'BP', 'mtype': 'L5_BP'}, {'layer': 'L5', 'morphology_subclass': 'BTC', 'mtype': 'L5_BTC'}, {'layer': 'L5', 'morphology_subclass': 'CHC', 'mtype': 'L5_CHC'}, {'layer': 'L5', 'morphology_subclass': 'DBC', 'mtype': 'L5_DBC'}, {'layer': 'L5', 'morphology_subclass': 'LBC', 'mtype': 'L5_LBC'}, {'layer': 'L5', 'morphology_subclass': 'MC', 'mtype': 'L5_MC'}, {'layer': 'L5', 'morphology_subclass': 'NBC', 'mtype': 'L5_NBC'}, {'layer': 'L5', 'morphology_subclass': 'NGC', 'mtype': 'L5_NGC'}, {'layer': 'L5', 'morphology_subclass': 'SBC', 'mtype': 'L5_SBC'}, {'layer': 'L5', 'morphology_subclass': 'TPC:A', 'mtype': 'L5_TPC:A'}, {'layer': 'L5', 'morphology_subclass': 'TPC:B', 'mtype': 'L5_TPC:B'}, {'layer': 'L5', 'morphology_subclass': 'TPC:C', 'mtype': 'L5_TPC:C'}, {'layer': 'L5', 'morphology_subclass': 'UPC', 'mtype': 'L5_UPC'}, {'layer': 'L6', 'morphology_subclass': 'BP', 'mtype': 'L6_BP'}, {'layer': 'L6', 'morphology_subclass': 'BPC', 'mtype': 'L6_BPC'}, {'layer': 'L6', 'morphology_subclass': 'BTC', 'mtype': 'L6_BTC'}, {'layer': 'L6', 'morphology_subclass': 'CHC', 'mtype': 'L6_CHC'}, {'layer': 'L6', 'morphology_subclass': 'DBC', 'mtype': 'L6_DBC'}, {'layer': 'L6', 'morphology_subclass': 'HPC', 'mtype': 'L6_HPC'}, {'layer': 'L6', 'morphology_subclass': 'IPC', 'mtype': 'L6_IPC'}, {'layer': 'L6', 'morphology_subclass': 'LBC', 'mtype': 'L6_LBC'}, {'layer': 'L6', 'morphology_subclass': 'MC', 'mtype': 'L6_MC'}, {'layer': 'L6', 'morphology_subclass': 'NBC', 'mtype': 'L6_NBC'}, {'layer': 'L6', 'morphology_subclass': 'NGC', 'mtype': 'L6_NGC'}, {'layer': 'L6', 'morphology_subclass': 'SBC', 'mtype': 'L6_SBC'}, {'layer': 'L6', 'morphology_subclass': 'TPC:A', 'mtype': 'L6_TPC:A'}, {'layer': 'L6', 'morphology_subclass': 'TPC:C', 'mtype': 'L6_TPC:C'}, {'layer': 'L6', 'morphology_subclass': 'UPC', 'mtype': 'L6_UPC'}]\n"
     ]
    },
    {
     "name": "stderr",
     "output_type": "stream",
     "text": [
      " 38%|████████████▉                     | 1370/3600 [1:11:23<5:01:26,  8.11s/it]"
     ]
    }
   ],
   "source": [
    "from validations.measurements import ConnectionProbabilityMeasurement, SynapsesPerConnectionMeasurement, PathwaySynapsesMeasurement\n",
    "from validations.parameters import MtypeMtypePathways\n",
    "from dmt.tk.plotting import HeatPlot, CirclePlot\n",
    "\n",
    "ConnectomeValidation = CellDensityValidation.with_fields(measurement_parameters=MtypeMtypePathways(), plotter=HeatPlot())\n",
    "\n",
    "cmodel = CentralConnectomeCircuitModel(circuit_config)\n",
    "print(cmodel.mtypes())\n",
    "\n",
    "#connprobreport=ConnectomeValidation.with_fields(measurement_method=ConnectionProbabilityMeasurement())((CircuitAdapter(), CentralConnectomeCircuitModel(circuit_config)))\n",
    "#synconnreport=ConnectomeValidation.with_fields(measurement_method=SynapsesPerConnectionMeasurement())((CircuitAdapter(), CentralConnectomeCircuitModel(circuit_config)))\n",
    "pathsynreport=ConnectomeValidation.with_fields(measurement_method=PathwaySynapsesMeasurement(sample_size=50), plotter=CirclePlot())((CircuitAdapter(), cmodel))"
   ]
  },
  {
   "cell_type": "code",
   "execution_count": null,
   "metadata": {},
   "outputs": [],
   "source": []
  }
 ],
 "metadata": {
  "kernelspec": {
   "display_name": "Python 3",
   "language": "python",
   "name": "python3"
  },
  "language_info": {
   "codemirror_mode": {
    "name": "ipython",
    "version": 3
   },
   "file_extension": ".py",
   "mimetype": "text/x-python",
   "name": "python",
   "nbconvert_exporter": "python",
   "pygments_lexer": "ipython3",
   "version": "3.5.2"
  }
 },
 "nbformat": 4,
 "nbformat_minor": 2
}
