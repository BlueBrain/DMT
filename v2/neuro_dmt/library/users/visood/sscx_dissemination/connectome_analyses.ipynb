{
 "cells": [
  {
   "cell_type": "markdown",
   "metadata": {},
   "source": [
    "# Analyses of the SSCx Dissemination Circuits.\n",
    "\n",
    "We develop analyses to validate the SSCx dissemination circuits using DMT. \n",
    "In addition to a release report, this notebook will also serve as an introduction\n",
    "to the capabilities of DMT.\n",
    "\n",
    "## Introduction to DMT.\n",
    "\n",
    "We start by discussing how to put together an analysis of the pathway \n",
    "connection probability using DMT. \n",
    "In addition to statistics, a circuit analysis should provide documentation \n",
    "as a report.\n",
    "This report should include the phenomenon analyzed,\n",
    "the computational methods used to measure the phenomenon, \n",
    "and a statistical summary of the analysis. \n",
    "If the analysis validates the circuit against experimental data, \n",
    "the statistical summary should provide information about the reference\n",
    "data.\n",
    "\n",
    "\n",
    "With reporting as a primary goal, we have provided tools within DMT \n",
    "to document the analysis code itself to auto-generate reports. The analyst\n",
    "can provide the documentation for independent components.\n",
    "\n",
    "### Phenomenon\n",
    "Each of our structured analyses studies a single circuit phenomenon.\n",
    "We provide a `class Phenomenon` to describe a circuit phenomenon:\n"
   ]
  },
  {
   "cell_type": "code",
   "execution_count": 1,
   "metadata": {
    "ExecuteTime": {
     "end_time": "2020-01-24T14:57:54.249738Z",
     "start_time": "2020-01-24T14:57:54.232968Z"
    },
    "code_folding": []
   },
   "outputs": [],
   "source": [
    "from dmt.tk.phenomenon import Phenomenon\n",
    "\n",
    "connection_probability_phenomenon = Phenomenon(\n",
    "    \"Connection Probability\",\n",
    "    \"\"\"\n",
    "    Probability that two neurons in a pathway are connected.\n",
    "    While most of the interest will be in `mtype-->mtype` pathways,\n",
    "    we can define a pathway as a any two group of cells, one on \n",
    "    the afferent side, the other on the efferent side of a (possible)\n",
    "    synapse. Given the pre-synaptic and post-synaptic cell types (groups),\n",
    "    connection probability counts the fraction of connected pre-synaptic,\n",
    "    post-synaptic pairs. Connection probability may be calculated as a \n",
    "    function of the soma-distance between the cells in a pair, in which\n",
    "    case the measured quantity will be vector-valued data such as a \n",
    "    `pandas.Series`.\n",
    "    \"\"\")"
   ]
  },
  {
   "cell_type": "markdown",
   "metadata": {},
   "source": [
    "### Interface\n",
    "\n",
    "To make our analyses work with different circuits, we will define an interface,\n",
    "that an adapter for the circuit model must implement:"
   ]
  },
  {
   "cell_type": "code",
   "execution_count": null,
   "metadata": {
    "ExecuteTime": {
     "end_time": "2019-11-12T15:38:20.908267Z",
     "start_time": "2019-11-12T15:38:20.896976Z"
    },
    "code_folding": [
     2,
     8
    ]
   },
   "outputs": [],
   "source": [
    "from dmt.model.interface import Interface\n",
    "\n",
    "class ConnectionProbabilityInterface(Interface):\n",
    "    \"\"\"\n",
    "    Document the methods that must be adapted for a circuit model to\n",
    "    use for analyzing pathway connection probability.\n",
    "    \"\"\"\n",
    "    __measurement__ = \"connection_probability\"\n",
    "    def get_label(self, circuit_model):\n",
    "        \"\"\"\n",
    "        A label that can be used to name a pandas.DataFrame column, \n",
    "        and caption figures.\n",
    "        \n",
    "        Arguments\n",
    "        -----------\n",
    "        circuit_model : The circuit model that will be analyzed\n",
    "        \"\"\"\n",
    "        raise NotImplementedError\n",
    "        \n",
    "    def get_mtypes(self, circuit_model):\n",
    "        \"\"\"\n",
    "        A 1D numpy array providing the `mtype`s in the circuit model.\n",
    "        \n",
    "        Arguments\n",
    "        -----------\n",
    "        circuit_model : The circuit model that will be analyzed\n",
    "        \"\"\"\n",
    "        raise NotImplementedError\n",
    "        \n",
    "    def get_pathways(self,\n",
    "            circuit_model=None,\n",
    "            cell_group=None):\n",
    "        \"\"\"\n",
    "        Arguments\n",
    "        ---------------\n",
    "        cell_group : An object that specifies cell groups.\n",
    "        ~   This may be \n",
    "        ~   1. Either a frozen-set of strings that represent cell properties.\n",
    "        ~   2. Or, a mapping from cell properties to their values.\n",
    "\n",
    "        Returns\n",
    "        ------------\n",
    "        pandas.DataFrame with nested columns, with two columns \n",
    "        `(pre_synaptic, post_synaptic)` at the 0-th level.\n",
    "        Under each of these two columns should be one column each for\n",
    "        the cell properties specified in the `cell_group` when it is a\n",
    "        set, or its keys if it is a mapping.\n",
    "        ~   1. When `cell_group` is a set of cell properties, pathways between\n",
    "        ~      all possible values of these cell properties.\n",
    "        ~   2. When `cell-group` is a mapping, pathways between cell groups\n",
    "        ~      that satisfy the mapping values.\n",
    "        \"\"\"\n",
    "        raise NotImplementedError\n",
    "        \n",
    "    def get_connection_probability(self,\n",
    "            circuit_model,\n",
    "            pre_synaptic_cell_type,\n",
    "            post_synaptic_cell_type):\n",
    "        \"\"\"\n",
    "        Get connection probability of a pathway.\n",
    "\n",
    "        Arguments\n",
    "        --------------\n",
    "        pre/(post)_synaptic_cell_type: A mapping of cell property to its value.\n",
    "        ~                              The two mappings defines the cell type \n",
    "        ~                              on the afferent, and efferent sides of\n",
    "        ~                              a synapse.\n",
    "        Returns\n",
    "        --------------\n",
    "        A float value for the connection probability, i.e. number of \n",
    "        connected pairs divided by the total number of pairs sampled.\n",
    "        \"\"\"\n",
    "        raise NotImplementedError\n",
    "\n"
   ]
  },
  {
   "cell_type": "markdown",
   "metadata": {},
   "source": [
    "### Adapter\n",
    "\n",
    "To analyze a given circuit model we will need to adapt it to the interface\n",
    "used by the analysis code. \n",
    "We have defined `class BlueBrainCircuitAdapter` that adapts several of \n",
    "our analyses."
   ]
  },
  {
   "cell_type": "code",
   "execution_count": null,
   "metadata": {
    "ExecuteTime": {
     "end_time": "2019-11-12T15:38:24.748219Z",
     "start_time": "2019-11-12T15:38:22.465853Z"
    },
    "code_folding": [
     0
    ]
   },
   "outputs": [],
   "source": [
    "from neuro_dmt.models.bluebrain.circuit.adapter import\\\n",
    "    BlueBrainCircuitAdapter\n",
    "\n",
    "adapter = BlueBrainCircuitAdapter()"
   ]
  },
  {
   "cell_type": "markdown",
   "metadata": {},
   "source": [
    "### Measurement Parameters\n",
    "\n",
    "To determine parameters to be used for measuring a phenomenon on a circuit,\n",
    "we use `class Parameters`.\n",
    "We will extract these parameters from our circuit using an instance\n",
    "of `BlueBrainCircuitAdapter`.\n",
    "In addition to `BlueBrainCircuitAdapter`, we have defined a wrapper around \n",
    "BluePy circuits to account for differences in various circuit models developed\n",
    "at the BlueBrainProject. Together with `class BlueBrainCircuitModel`, \n",
    "`class BlueBrainCircuitAdapter` allows is to apply the same analysis code \n",
    "to several circuits developed at the BlueBrainProject.\n",
    "\n",
    "As an example, we will use a mock circuit that behaves like any other \n",
    "circuit developed at BlueBrainProject."
   ]
  },
  {
   "cell_type": "code",
   "execution_count": null,
   "metadata": {
    "ExecuteTime": {
     "end_time": "2019-11-12T15:38:58.818713Z",
     "start_time": "2019-11-12T15:38:27.836657Z"
    },
    "code_folding": [
     0,
     2,
     4,
     6,
     10,
     14
    ]
   },
   "outputs": [],
   "source": [
    "from dmt.tk.parameters import\\\n",
    "    Parameters\n",
    "from neuro_dmt.models.bluebrain.circuit.model import\\\n",
    "    BlueBrainCircuitModel\n",
    "from neuro_dmt.models.bluebrain.circuit.mock.circuit import\\\n",
    "    MockCircuit\n",
    "from neuro_dmt.models.bluebrain.circuit.mock.test.mock_circuit_light import\\\n",
    "    circuit_composition,\\\n",
    "    circuit_connectivity\n",
    "\n",
    "bluepy_mock_circuit =\\\n",
    "    MockCircuit.build(\n",
    "        circuit_composition,\n",
    "        circuit_connectivity)\n",
    "mock_circuit_model =\\\n",
    "    BlueBrainCircuitModel(\n",
    "        bluepy_mock_circuit,\n",
    "        label=\"BlueBrainCircuitModelMockLight\")\n",
    "\n",
    "pathways_all = adapter.get_pathways(\n",
    "    mock_circuit_model,\n",
    "    cell_group={\"mtype\",})"
   ]
  },
  {
   "cell_type": "markdown",
   "metadata": {
    "ExecuteTime": {
     "end_time": "2019-11-11T11:48:33.298062Z",
     "start_time": "2019-11-11T11:48:33.292268Z"
    }
   },
   "source": [
    "The pathways obtained from the circuit model are a `pandas.DataFrame` with\n",
    "two columns:"
   ]
  },
  {
   "cell_type": "code",
   "execution_count": null,
   "metadata": {
    "ExecuteTime": {
     "end_time": "2019-11-12T15:41:48.739878Z",
     "start_time": "2019-11-12T15:41:48.727174Z"
    }
   },
   "outputs": [],
   "source": [
    "pathways_all.head()"
   ]
  },
  {
   "cell_type": "markdown",
   "metadata": {},
   "source": [
    "The number of pathways collected contain all possible\n",
    "`pre_synaptic_mtype-->post_synaptic_mtype`\n",
    "pairs:"
   ]
  },
  {
   "cell_type": "code",
   "execution_count": null,
   "metadata": {
    "ExecuteTime": {
     "end_time": "2019-11-12T15:41:50.045480Z",
     "start_time": "2019-11-12T15:41:50.038661Z"
    }
   },
   "outputs": [],
   "source": [
    "mtypes = mock_circuit_model.mtypes\n",
    "assert isinstance(mtypes, np.ndarray)\n",
    "assert pathways_all.shape[0] == len(mtypes) * len(mtypes)\n",
    "mtypes"
   ]
  },
  {
   "cell_type": "markdown",
   "metadata": {
    "ExecuteTime": {
     "end_time": "2019-11-11T11:52:16.742609Z",
     "start_time": "2019-11-11T11:52:16.736577Z"
    }
   },
   "source": [
    "We may be interested not in all pathways, but a selection.\n",
    "We can obtain these pathways by passing the desired cell types:"
   ]
  },
  {
   "cell_type": "code",
   "execution_count": null,
   "metadata": {
    "ExecuteTime": {
     "end_time": "2019-11-12T15:41:51.607989Z",
     "start_time": "2019-11-12T15:41:51.597290Z"
    },
    "code_folding": []
   },
   "outputs": [],
   "source": [
    "import pandas as pd\n",
    "from collections import OrderedDict\n",
    "cell_types=pd.DataFrame([\n",
    "    OrderedDict({\"mtype\": \"L23_MC\"}),\n",
    "    OrderedDict({\"mtype\": \"L6_TPC:A\"}), \n",
    "    OrderedDict({\"mtype\": \"L5_TPC:A\"}),\n",
    "    OrderedDict({\"mtype\": \"L5_MC\"}),\n",
    "    OrderedDict({\"mtype\": \"L6_ChC\"})])\n",
    "cell_types"
   ]
  },
  {
   "cell_type": "code",
   "execution_count": null,
   "metadata": {
    "ExecuteTime": {
     "end_time": "2019-11-12T15:41:51.921001Z",
     "start_time": "2019-11-12T15:41:51.691537Z"
    },
    "code_folding": []
   },
   "outputs": [],
   "source": [
    "pathways_select =\\\n",
    "    adapter.get_pathways(\n",
    "        mock_circuit_model,\n",
    "        cell_group=cell_types)\n",
    "assert pathways_select.shape[0] == cell_types.shape[0] * cell_types.shape[0]\n",
    "for cell_type in cell_types.mtype:\n",
    "    assert cell_type in pathways_select.pre_synaptic.mtype.values\n",
    "    assert cell_type in pathways_select.post_synaptic.mtype.values\n",
    "    \n",
    "pathways_select.head()"
   ]
  },
  {
   "cell_type": "markdown",
   "metadata": {
    "ExecuteTime": {
     "end_time": "2019-11-11T12:21:13.922424Z",
     "start_time": "2019-11-11T12:21:13.916783Z"
    }
   },
   "source": [
    "We can now define the parameters over which we will make a measurement:"
   ]
  },
  {
   "cell_type": "code",
   "execution_count": null,
   "metadata": {
    "ExecuteTime": {
     "end_time": "2019-11-12T15:41:54.587395Z",
     "start_time": "2019-11-12T15:41:54.580087Z"
    },
    "code_folding": [
     1
    ]
   },
   "outputs": [],
   "source": [
    "pathway_parameters = Parameters(pathways_select)\n",
    "pd.testing.assert_frame_equal(\n",
    "    pathway_parameters.values,\n",
    "    pathways_select)"
   ]
  },
  {
   "cell_type": "markdown",
   "metadata": {},
   "source": [
    "### Plotter\n",
    "    \n",
    "Our analyses will plot figures. We provide several standardized plotters that \n",
    "take measurement data and produce a figure. \n",
    "For pathway properties, the heatmap is a common plotter."
   ]
  },
  {
   "cell_type": "code",
   "execution_count": null,
   "metadata": {
    "ExecuteTime": {
     "end_time": "2019-11-12T15:41:56.150973Z",
     "start_time": "2019-11-12T15:41:56.145486Z"
    },
    "code_folding": [
     2
    ]
   },
   "outputs": [],
   "source": [
    "from dmt.tk.plotting.heatmap import HeatMap\n",
    "\n",
    "heatmap_plotter = HeatMap(\n",
    "    xvar=(\"pre_synaptic\", \"mtype\"),\n",
    "    xlabel=\"pre-synaptic mtype\",\n",
    "    yvar=(\"post_synaptic\", \"mtype\"),\n",
    "    ylabel=\"post-synaptic mtype\",\n",
    "    vvar=(\"connection_probability\", \"mean\"))"
   ]
  },
  {
   "cell_type": "markdown",
   "metadata": {},
   "source": [
    "### Analysis\n",
    "\n",
    "Using the components defined above, we can now compose an analysis"
   ]
  },
  {
   "cell_type": "code",
   "execution_count": null,
   "metadata": {
    "ExecuteTime": {
     "end_time": "2019-11-12T15:41:57.979467Z",
     "start_time": "2019-11-12T15:41:57.973478Z"
    },
    "code_folding": []
   },
   "outputs": [],
   "source": [
    "from neuro_dmt.analysis.circuit import BrainCircuitAnalysis\n",
    "\n",
    "connection_probability_analysis =\\\n",
    "    BrainCircuitAnalysis(\n",
    "        phenomenon=connection_probability_phenomenon,\n",
    "        AdapterInterface=ConnectionProbabilityInterface,\n",
    "        measurement_parameters=Parameters(pathways_select),\n",
    "        plotter=heatmap_plotter)"
   ]
  },
  {
   "cell_type": "code",
   "execution_count": null,
   "metadata": {
    "ExecuteTime": {
     "end_time": "2019-11-12T15:44:53.990041Z",
     "start_time": "2019-11-12T15:42:08.677485Z"
    },
    "code_folding": []
   },
   "outputs": [],
   "source": [
    "connection_probability_measurement =\\\n",
    "    connection_probability_analysis.get_measurement(\n",
    "        mock_circuit_model,\n",
    "        adapter,\n",
    "        sample_size=2)"
   ]
  },
  {
   "cell_type": "code",
   "execution_count": null,
   "metadata": {
    "ExecuteTime": {
     "end_time": "2019-11-12T16:02:46.437115Z",
     "start_time": "2019-11-12T16:02:46.414520Z"
    }
   },
   "outputs": [],
   "source": [
    "connection_probability_measurement.head()"
   ]
  },
  {
   "cell_type": "markdown",
   "metadata": {},
   "source": [
    "We can obtain a heatmap:"
   ]
  },
  {
   "cell_type": "code",
   "execution_count": null,
   "metadata": {
    "ExecuteTime": {
     "end_time": "2019-11-12T16:02:48.583266Z",
     "start_time": "2019-11-12T16:02:48.218344Z"
    }
   },
   "outputs": [],
   "source": [
    "heatmap_plotter.get_figure(connection_probability_measurement)"
   ]
  },
  {
   "cell_type": "markdown",
   "metadata": {},
   "source": [
    "A `BrainCircuitAnalysis` can produce a report:"
   ]
  },
  {
   "cell_type": "code",
   "execution_count": null,
   "metadata": {
    "ExecuteTime": {
     "end_time": "2019-11-12T16:05:40.175829Z",
     "start_time": "2019-11-12T16:02:52.907452Z"
    },
    "code_folding": []
   },
   "outputs": [],
   "source": [
    "connection_probability_analysis_report =\\\n",
    "    connection_probability_analysis(\n",
    "        mock_circuit_model,\n",
    "        adapter,\n",
    "        sample_size=2)"
   ]
  },
  {
   "cell_type": "markdown",
   "metadata": {},
   "source": [
    "The report generated by the analysis can be saved using a reporter. \n",
    "We have defined `class Reporter` that can be used for posting the report."
   ]
  },
  {
   "cell_type": "code",
   "execution_count": null,
   "metadata": {
    "ExecuteTime": {
     "end_time": "2019-11-12T16:05:40.253177Z",
     "start_time": "2019-11-12T16:03:01.606Z"
    },
    "code_folding": [
     2,
     3,
     5,
     7
    ]
   },
   "outputs": [],
   "source": [
    "from dmt.tk.reporting import Reporter\n",
    "\n",
    "reporter =\\\n",
    "    Reporter(\n",
    "        path_output_folder=\"analyses\")\n",
    "path_report =\\\n",
    "    reporter.post(connection_probability_analysis_report)\n",
    "print(\n",
    "    \"\"\"\n",
    "    A report for the analysis of circuit connection probability has been \n",
    "    saved at: {}\n",
    "    \"\"\".format(path_report))"
   ]
  },
  {
   "cell_type": "code",
   "execution_count": null,
   "metadata": {
    "ExecuteTime": {
     "end_time": "2019-11-12T16:05:40.286333Z",
     "start_time": "2019-11-12T16:03:02.247Z"
    },
    "code_folding": [
     2,
     5
    ]
   },
   "outputs": [],
   "source": [
    "import os\n",
    "os.listdir(path_report)\n",
    "for root, dirs, files in os.walk(path_report):\n",
    "    path = root.split(os.sep)\n",
    "    print((len(path) - 1) * '---', os.path.basename(root))\n",
    "    for file in files:\n",
    "        print(len(path) * '---', file)"
   ]
  },
  {
   "cell_type": "markdown",
   "metadata": {},
   "source": [
    "If we provide a reporter to the analysis, the analysis instance will save the\n",
    "report:"
   ]
  },
  {
   "cell_type": "code",
   "execution_count": null,
   "metadata": {
    "ExecuteTime": {
     "end_time": "2019-11-11T16:14:58.331058Z",
     "start_time": "2019-11-11T16:00:15.009396Z"
    },
    "code_folding": [
     1
    ]
   },
   "outputs": [],
   "source": [
    "connection_probability_analysis =\\\n",
    "    BrainCircuitAnalysis(\n",
    "        phenomenon=connection_probability_phenomenon,\n",
    "        AdapterInterface=ConnectionProbabilityInterface,\n",
    "        measurement_parameters=Parameters(pathways_select),\n",
    "        plotter=heatmap_plotter,\n",
    "        reporter=reporter)\n",
    "connection_probability_analysis(\n",
    "    mock_circuit_model,\n",
    "    adapter)"
   ]
  },
  {
   "cell_type": "markdown",
   "metadata": {},
   "source": [
    "In rest of the notebook, we develop several analyses of the circuit connectome on the lines\n",
    "discussed above.\n",
    "\n",
    "## Connection Probability\n",
    "\n",
    "We have already defined a basic connection probability analysis.\n",
    "However connection probability over all cells in the circuit does not give an accurate \n",
    "picture since the probability that two cells are connected should depend on the distance\n",
    "between their somas. So we should measure connection probability as a function of\n",
    "*soma-distance* between cell pairs in a pathway. We require that the circuit model\n",
    "adapter provides a method to make such a measurement:"
   ]
  },
  {
   "cell_type": "code",
   "execution_count": null,
   "metadata": {
    "ExecuteTime": {
     "end_time": "2019-11-12T16:05:40.304918Z",
     "start_time": "2019-11-12T16:03:13.907Z"
    },
    "code_folding": [
     6,
     17,
     27
    ]
   },
   "outputs": [],
   "source": [
    "class ConnectionProbabilityInterface(Interface):\n",
    "    \"\"\"\n",
    "    Document the methods that must be adapted for a circuit model to\n",
    "    use for analyzing pathway connection probability.\n",
    "    \"\"\"\n",
    "    __measurement__ = \"connection_probability\"\n",
    "    def get_label(self, circuit_model):\n",
    "        \"\"\"\n",
    "        A label that can be used to name a pandas.DataFrame column, \n",
    "        and caption figures.\n",
    "        \n",
    "        Arguments\n",
    "        -----------\n",
    "        circuit_model : The circuit model that will be analyzed\n",
    "        \"\"\"\n",
    "        raise NotImplementedError\n",
    "        \n",
    "    def get_mtypes(self, circuit_model):\n",
    "        \"\"\"\n",
    "        A 1D numpy array providing the `mtype`s in the circuit model.\n",
    "        \n",
    "        Arguments\n",
    "        -----------\n",
    "        circuit_model : The circuit model that will be analyzed\n",
    "        \"\"\"\n",
    "        raise NotImplementedError\n",
    "        \n",
    "    def get_pathways(self,\n",
    "            circuit_model=None,\n",
    "            cell_group=None):\n",
    "        \"\"\"\n",
    "        Arguments\n",
    "        ---------------\n",
    "        cell_group : An object that specifies cell groups.\n",
    "        ~   This may be \n",
    "        ~   1. Either a frozen-set of strings that represent cell properties.\n",
    "        ~   2. Or, a mapping from cell properties to their values.\n",
    "\n",
    "        Returns\n",
    "        ------------\n",
    "        pandas.DataFrame with nested columns, with two columns \n",
    "        `(pre_synaptic, post_synaptic)` at the 0-th level.\n",
    "        Under each of these two columns should be one column each for\n",
    "        the cell properties specified in the `cell_group` when it is a\n",
    "        set, or its keys if it is a mapping.\n",
    "        ~   1. When `cell_group` is a set of cell properties, pathways between\n",
    "        ~      all possible values of these cell properties.\n",
    "        ~   2. When `cell-group` is a mapping, pathways between cell groups\n",
    "        ~      that satisfy the mapping values.\n",
    "        \"\"\"\n",
    "        raise NotImplementedError\n",
    "        \n",
    "    def get_connection_probability(self,\n",
    "            circuit_model,\n",
    "            pre_synaptic_cell_type,\n",
    "            post_synaptic_cell_type,\n",
    "            upper_bound_soma_distance):\n",
    "        \"\"\"\n",
    "        Get connection probability of a pathway.\n",
    "\n",
    "        Arguments\n",
    "        --------------\n",
    "        pre/(post)_synaptic_cell_type: A mapping of cell property to its value.\n",
    "        ~                              The two mappings defines the cell type \n",
    "        ~                              on the afferent, and efferent sides of\n",
    "        ~                              a synapse.\n",
    "        upper_bound_soma_distance: An upper-bound on the soma-distance between\n",
    "        ~                          pathway cell pairs.\n",
    "        \n",
    "        Returns\n",
    "        --------------\n",
    "        A float value for the connection probability, i.e. number of \n",
    "        connected pairs divided by the total number of pairs sampled.\n",
    "        \"\"\"\n",
    "        raise NotImplementedError"
   ]
  },
  {
   "cell_type": "code",
   "execution_count": null,
   "metadata": {
    "ExecuteTime": {
     "end_time": "2019-11-12T16:05:40.330184Z",
     "start_time": "2019-11-12T16:03:14.747Z"
    }
   },
   "outputs": [],
   "source": [
    "parameters_pathways_with_soma_distance =\\\n",
    "    Parameters(\n",
    "        pathways_select.assign(\n",
    "            upper_bound_soma_distance=500.\n",
    "        ).head())"
   ]
  },
  {
   "cell_type": "code",
   "execution_count": null,
   "metadata": {
    "ExecuteTime": {
     "end_time": "2019-11-12T16:05:40.353609Z",
     "start_time": "2019-11-12T16:03:15.516Z"
    }
   },
   "outputs": [],
   "source": [
    "connection_probability_analysis =\\\n",
    "    BrainCircuitAnalysis(\n",
    "        phenomenon=connection_probability_phenomenon,\n",
    "        AdapterInterface=ConnectionProbabilityInterface,\n",
    "        measurement_parameters=Parameters(\n",
    "            pathways_select.assign(\n",
    "                upper_bound_soma_distance=500.)),\n",
    "        plotter=heatmap_plotter)"
   ]
  },
  {
   "cell_type": "code",
   "execution_count": null,
   "metadata": {
    "ExecuteTime": {
     "end_time": "2019-11-12T16:05:40.398221Z",
     "start_time": "2019-11-12T16:03:16.228Z"
    }
   },
   "outputs": [],
   "source": [
    "connection_probability_analysis.measurement_parameters.values.head()"
   ]
  },
  {
   "cell_type": "code",
   "execution_count": null,
   "metadata": {
    "ExecuteTime": {
     "end_time": "2019-11-12T16:05:40.437558Z",
     "start_time": "2019-11-12T16:03:17.833Z"
    }
   },
   "outputs": [],
   "source": [
    "from neuro_dmt.models.bluebrain.circuit.model.cell_type import CellType\n",
    "for row in connection_probability_analysis\\\n",
    "            .measurement_parameters\\\n",
    "            .for_sampling(size=1):\n",
    "    print(row)\n",
    "    m = adapter.get_connection_probability(mock_circuit_model, **row)\n",
    "    print(m)\n",
    "    print(\"-----------\")"
   ]
  },
  {
   "cell_type": "code",
   "execution_count": null,
   "metadata": {
    "ExecuteTime": {
     "end_time": "2019-11-12T15:29:07.858404Z",
     "start_time": "2019-11-12T15:29:05.345689Z"
    }
   },
   "outputs": [],
   "source": [
    "conn_prob =\\\n",
    "    mock_circuit_model\\\n",
    "    .connection_probability\n",
    "cells_l23mc =\\\n",
    "    conn_prob\\\n",
    "    ._resolve_cell_group(\n",
    "        {\"mtype\": \"L23_MC\"}\n",
    "    ).rename(\n",
    "        columns=conn_prob._at(\"pre_synaptic\")\n",
    "    )\n",
    "print(cells_l23mc.shape)\n",
    "cells_l6tpca =\\\n",
    "    conn_prob\\\n",
    "    ._resolve_cell_group(\n",
    "        {\"mtype\": \"L6_TPC:A\"}\n",
    "    ).rename(\n",
    "        columns=conn_prob._at(\"post_synaptic\")\n",
    "    )\n",
    "print(cells_l6tpca.shape)\n",
    "\n",
    "mpairs =\\\n",
    "    mock_circuit_model\\\n",
    "    .connection_probability\\\n",
    "    .get_pairs(\n",
    "        cells_l23mc,\n",
    "        cells_l6tpca,\n",
    "        upper_bound_soma_distance=500.)\n",
    "conn_prob._full_summary(mpairs)"
   ]
  },
  {
   "cell_type": "code",
   "execution_count": null,
   "metadata": {
    "ExecuteTime": {
     "end_time": "2019-11-12T16:05:40.465855Z",
     "start_time": "2019-11-12T16:03:31.846Z"
    }
   },
   "outputs": [],
   "source": [
    "conn_prob_sd =\\\n",
    "    mock_circuit_model.connection_probability_by_soma_distance\n",
    "conn_prob_sd(\n",
    "    pathway=CellType.pathway(\n",
    "        {\"mtype\": \"L23_MC\"},\n",
    "        {\"mtype\": \"L6_TPC:A\"}),\n",
    "    upper_bound_soma_distance=1000.,\n",
    "    with_summary_statistics=True)"
   ]
  },
  {
   "cell_type": "code",
   "execution_count": null,
   "metadata": {
    "ExecuteTime": {
     "end_time": "2019-11-12T16:05:40.528920Z",
     "start_time": "2019-11-12T16:03:34.925Z"
    }
   },
   "outputs": [],
   "source": [
    "mock_circuit_model.connection_probability(\n",
    "    pathway=CellType.pathway(\n",
    "        {\"mtype\": \"L23_MC\"},\n",
    "        {\"mtype\": \"L6_TPC:A\"}),\n",
    "        upper_bound_soma_distance=1000.)"
   ]
  },
  {
   "cell_type": "code",
   "execution_count": null,
   "metadata": {
    "ExecuteTime": {
     "end_time": "2019-11-12T16:05:40.555411Z",
     "start_time": "2019-11-12T16:03:37.591Z"
    }
   },
   "outputs": [],
   "source": [
    "connection_probability_measurement =\\\n",
    "    connection_probability_analysis.get_measurement(\n",
    "        mock_circuit_model,\n",
    "        adapter,\n",
    "        sample_size=2)"
   ]
  },
  {
   "cell_type": "code",
   "execution_count": null,
   "metadata": {
    "ExecuteTime": {
     "end_time": "2019-11-11T20:30:31.541732Z",
     "start_time": "2019-11-11T20:30:31.514031Z"
    }
   },
   "outputs": [],
   "source": [
    "parameters_pathways_with_soma_distance.for_sampling(size=2)"
   ]
  },
  {
   "cell_type": "code",
   "execution_count": null,
   "metadata": {
    "ExecuteTime": {
     "end_time": "2019-11-11T20:32:30.624791Z",
     "start_time": "2019-11-11T20:32:30.597380Z"
    }
   },
   "outputs": [],
   "source": [
    "for row in parameters_pathways_with_soma_distance.for_sampling(size=2):\n",
    "    get_conn_prob_test(**row)"
   ]
  },
  {
   "cell_type": "code",
   "execution_count": null,
   "metadata": {},
   "outputs": [],
   "source": []
  }
 ],
 "metadata": {
  "kernelspec": {
   "display_name": "Python 3",
   "language": "python",
   "name": "python3"
  },
  "language_info": {
   "codemirror_mode": {
    "name": "ipython",
    "version": 3
   },
   "file_extension": ".py",
   "mimetype": "text/x-python",
   "name": "python",
   "nbconvert_exporter": "python",
   "pygments_lexer": "ipython3",
   "version": "3.7.4"
  },
  "latex_envs": {
   "LaTeX_envs_menu_present": true,
   "autoclose": false,
   "autocomplete": true,
   "bibliofile": "biblio.bib",
   "cite_by": "apalike",
   "current_citInitial": 1,
   "eqLabelWithNumbers": true,
   "eqNumInitial": 1,
   "hotkeys": {
    "equation": "Ctrl-E",
    "itemize": "Ctrl-I"
   },
   "labels_anchors": false,
   "latex_user_defs": false,
   "report_style_numbering": false,
   "user_envs_cfg": false
  },
  "toc": {
   "base_numbering": 1,
   "nav_menu": {},
   "number_sections": true,
   "sideBar": true,
   "skip_h1_title": false,
   "title_cell": "Table of Contents",
   "title_sidebar": "Contents",
   "toc_cell": false,
   "toc_position": {},
   "toc_section_display": true,
   "toc_window_display": false
  },
  "varInspector": {
   "cols": {
    "lenName": 16,
    "lenType": 16,
    "lenVar": 40
   },
   "kernels_config": {
    "python": {
     "delete_cmd_postfix": "",
     "delete_cmd_prefix": "del ",
     "library": "var_list.py",
     "varRefreshCmd": "print(var_dic_list())"
    },
    "r": {
     "delete_cmd_postfix": ") ",
     "delete_cmd_prefix": "rm(",
     "library": "var_list.r",
     "varRefreshCmd": "cat(var_dic_list()) "
    }
   },
   "types_to_exclude": [
    "module",
    "function",
    "builtin_function_or_method",
    "instance",
    "_Feature"
   ],
   "window_display": false
  }
 },
 "nbformat": 4,
 "nbformat_minor": 2
}
