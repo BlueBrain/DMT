{
 "cells": [
  {
   "cell_type": "markdown",
   "metadata": {},
   "source": [
    "# Develop composition analyses.\n",
    "\n",
    "Here we guide the development of composition analyses.\n",
    "The code is developed as a class. Here we document and test the development."
   ]
  },
  {
   "cell_type": "code",
   "execution_count": 1,
   "metadata": {
    "ExecuteTime": {
     "end_time": "2019-12-09T15:15:58.577558Z",
     "start_time": "2019-12-09T15:15:58.095659Z"
    }
   },
   "outputs": [],
   "source": [
    "import os\n",
    "import numpy as np\n",
    "import pandas as pd\n",
    "project =\\\n",
    "    os.path.join(\n",
    "        \"/gpfs/bbp.cscs.ch/project\")\n",
    "proj_sscx_diss=\\\n",
    "    os.path.join(\n",
    "        project,\n",
    "        \"proj83\")\n",
    "data_sscx_diss=\\\n",
    "    os.path.join(\n",
    "        proj_sscx_diss,\n",
    "        \"data\")\n",
    "atlases_sscx_diss=\\\n",
    "    os.path.join(\n",
    "        data_sscx_diss,\n",
    "        \"atlas/S1/MEAN\")\n",
    "circuits_sscx_diss=\\\n",
    "    os.path.join(\n",
    "        proj_sscx_diss,\n",
    "        \"circuits\")"
   ]
  },
  {
   "cell_type": "code",
   "execution_count": 2,
   "metadata": {
    "ExecuteTime": {
     "end_time": "2019-12-09T15:16:05.109258Z",
     "start_time": "2019-12-09T15:16:03.956062Z"
    }
   },
   "outputs": [
    {
     "name": "stdout",
     "output_type": "stream",
     "text": [
      "('region', 'layer', 'depth', 'height', 'mesocolumn', 'hypercolumn', 'roi', 'mtype', 'etype', 'synapse_class', 'postsynaptic', 'presynaptic')\n",
      "('region', 'layer', 'depth', 'height', 'mesocolumn', 'hypercolumn', 'roi', 'mtype', 'etype', 'synapse_class', 'postsynaptic', 'presynaptic')\n",
      "('region', 'layer', 'depth', 'height', 'mesocolumn', 'hypercolumn', 'roi', 'mtype', 'etype', 'synapse_class', 'postsynaptic', 'presynaptic')\n",
      "('region', 'layer', 'depth', 'height', 'mtype', 'etype', 'synapse_class')\n",
      "('region', 'layer', 'depth', 'height', 'mesocolumn', 'hypercolumn', 'roi', 'mtype', 'etype', 'synapse_class', 'postsynaptic', 'presynaptic')\n",
      "('region', 'layer', 'depth', 'height', 'mesocolumn', 'hypercolumn', 'roi')\n"
     ]
    }
   ],
   "source": [
    "from neuro_dmt.models.bluebrain.circuit.atlas import\\\n",
    "    BlueBrainCircuitAtlas\n",
    "from neuro_dmt.models.bluebrain.circuit.model import\\\n",
    "    BlueBrainCircuitModel,\\\n",
    "    CircuitProvenance\n",
    "from neuro_dmt.models.bluebrain.circuit.adapter import\\\n",
    "    BlueBrainCircuitAdapter\n",
    "atlas_bio_m =\\\n",
    "    BlueBrainCircuitAtlas(\n",
    "        path=os.path.join(\n",
    "                atlases_sscx_diss, \"P14-MEAN\"))\n",
    "path_bio_m =\\\n",
    "    os.path.join(\n",
    "        circuits_sscx_diss,\n",
    "        \"Bio_M/20191206\")\n",
    "circuit_bio_m =\\\n",
    "    BlueBrainCircuitModel(\n",
    "        path_circuit_data=path_bio_m,\n",
    "            provenance=CircuitProvenance(\n",
    "                label=\"SSCxRatDisseminationBioM\",\n",
    "                authors=[\"BBP Team\"],\n",
    "                release_date=\"20191212\",\n",
    "                location=path_bio_m,\n",
    "                animal=\"Wistar Rat\",\n",
    "                age=\"P14\",\n",
    "                brain_region=\"SSCx\"))"
   ]
  },
  {
   "cell_type": "code",
   "execution_count": null,
   "metadata": {
    "ExecuteTime": {
     "end_time": "2019-12-09T15:02:21.344559Z",
     "start_time": "2019-12-09T15:00:29.359831Z"
    }
   },
   "outputs": [],
   "source": [
    "from neuro_dmt.models.bluebrain.circuit.mock.test.mock_circuit_light import\\\n",
    "    circuit_composition,\\\n",
    "    circuit_connectivity\n",
    "from neuro_dmt.models.bluebrain.circuit.mock.circuit\\\n",
    "    import MockBlueBrainCircuitModel\n",
    "mock_circuit_model = MockBlueBrainCircuitModel(\n",
    "    circuit_composition,\n",
    "    circuit_connectivity)"
   ]
  },
  {
   "cell_type": "code",
   "execution_count": 3,
   "metadata": {
    "ExecuteTime": {
     "end_time": "2019-12-09T15:16:08.316299Z",
     "start_time": "2019-12-09T15:16:08.312946Z"
    }
   },
   "outputs": [],
   "source": [
    "adapter = BlueBrainCircuitAdapter()"
   ]
  },
  {
   "cell_type": "code",
   "execution_count": 4,
   "metadata": {
    "ExecuteTime": {
     "end_time": "2019-12-09T15:16:10.896224Z",
     "start_time": "2019-12-09T15:16:09.586876Z"
    }
   },
   "outputs": [],
   "source": [
    "from neuro_dmt.data import rat\n",
    "from neuro_dmt.library.users.visood.sscx_dissemination.analyses.composition import\\\n",
    "    BrainCircuitCompositionAnalysis\n",
    "\n",
    "composition_analysis =\\\n",
    "    BrainCircuitCompositionAnalysis(\n",
    "        phenomenon=\"circuit_composition\")\n"
   ]
  },
  {
   "cell_type": "code",
   "execution_count": 22,
   "metadata": {
    "ExecuteTime": {
     "end_time": "2019-12-09T15:34:36.954910Z",
     "start_time": "2019-12-09T15:34:33.644469Z"
    }
   },
   "outputs": [
    {
     "data": {
      "text/plain": [
       "array([[[False, False, False, ..., False, False, False],\n",
       "        [False, False, False, ..., False, False, False],\n",
       "        [False, False, False, ..., False, False, False],\n",
       "        ...,\n",
       "        [False, False, False, ..., False, False, False],\n",
       "        [False, False, False, ..., False, False, False],\n",
       "        [False, False, False, ..., False, False, False]],\n",
       "\n",
       "       [[False, False, False, ..., False, False, False],\n",
       "        [False, False, False, ..., False, False, False],\n",
       "        [False, False, False, ..., False, False, False],\n",
       "        ...,\n",
       "        [False, False, False, ..., False, False, False],\n",
       "        [False, False, False, ..., False, False, False],\n",
       "        [False, False, False, ..., False, False, False]],\n",
       "\n",
       "       [[False, False, False, ..., False, False, False],\n",
       "        [False, False, False, ..., False, False, False],\n",
       "        [False, False, False, ..., False, False, False],\n",
       "        ...,\n",
       "        [False, False, False, ..., False, False, False],\n",
       "        [False, False, False, ..., False, False, False],\n",
       "        [False, False, False, ..., False, False, False]],\n",
       "\n",
       "       ...,\n",
       "\n",
       "       [[False, False, False, ..., False, False, False],\n",
       "        [False, False, False, ..., False, False, False],\n",
       "        [False, False, False, ..., False, False, False],\n",
       "        ...,\n",
       "        [False, False, False, ..., False, False, False],\n",
       "        [False, False, False, ..., False, False, False],\n",
       "        [False, False, False, ..., False, False, False]],\n",
       "\n",
       "       [[False, False, False, ..., False, False, False],\n",
       "        [False, False, False, ..., False, False, False],\n",
       "        [False, False, False, ..., False, False, False],\n",
       "        ...,\n",
       "        [False, False, False, ..., False, False, False],\n",
       "        [False, False, False, ..., False, False, False],\n",
       "        [False, False, False, ..., False, False, False]],\n",
       "\n",
       "       [[False, False, False, ..., False, False, False],\n",
       "        [False, False, False, ..., False, False, False],\n",
       "        [False, False, False, ..., False, False, False],\n",
       "        ...,\n",
       "        [False, False, False, ..., False, False, False],\n",
       "        [False, False, False, ..., False, False, False],\n",
       "        [False, False, False, ..., False, False, False]]])"
      ]
     },
     "execution_count": 22,
     "metadata": {},
     "output_type": "execute_result"
    }
   ],
   "source": [
    "circuit_bio_m.atlas.region_layer.get_mask(\n",
    "    region=\"S1HL\",\n",
    "    layer=\"L1\")"
   ]
  },
  {
   "cell_type": "code",
   "execution_count": 8,
   "metadata": {
    "ExecuteTime": {
     "end_time": "2019-12-09T15:25:51.481311Z",
     "start_time": "2019-12-09T15:25:47.689727Z"
    },
    "scrolled": true
   },
   "outputs": [
    {
     "ename": "VoxcellError",
     "evalue": "(\"Region not found: 'region'\", 'occurred at index 0')",
     "output_type": "error",
     "traceback": [
      "\u001b[0;31m---------------------------------------------------------------------------\u001b[0m",
      "\u001b[0;31mVoxcellError\u001b[0m                              Traceback (most recent call last)",
      "\u001b[0;32m<ipython-input-8-1eb7062e838a>\u001b[0m in \u001b[0;36m<module>\u001b[0;34m\u001b[0m\n\u001b[1;32m     12\u001b[0m         \u001b[0mcircuit_bio_m\u001b[0m\u001b[0;34m,\u001b[0m\u001b[0;34m\u001b[0m\u001b[0;34m\u001b[0m\u001b[0m\n\u001b[1;32m     13\u001b[0m         \u001b[0madapter\u001b[0m\u001b[0;34m,\u001b[0m\u001b[0;34m\u001b[0m\u001b[0;34m\u001b[0m\u001b[0m\n\u001b[0;32m---> 14\u001b[0;31m         measurement_parameters)\n\u001b[0m",
      "\u001b[0;32m~/.vmgr_repo/py37/lib/python3.7/site-packages/neuro_dmt/library/users/visood/sscx_dissemination/analyses/composition/__init__.py\u001b[0m in \u001b[0;36mget_cell_density_measurement\u001b[0;34m(self, circuit_model, adapter, measurement_parameters)\u001b[0m\n\u001b[1;32m    194\u001b[0m                 lambda query: self._get_cell_density(\n\u001b[1;32m    195\u001b[0m                     circuit_model, adapter, query),\n\u001b[0;32m--> 196\u001b[0;31m                 axis=1)\n\u001b[0m\u001b[1;32m    197\u001b[0m         )\n\u001b[1;32m    198\u001b[0m \u001b[0;34m\u001b[0m\u001b[0m\n",
      "\u001b[0;32m~/.vmgr_repo/py37/lib/python3.7/site-packages/pandas/core/frame.py\u001b[0m in \u001b[0;36mapply\u001b[0;34m(self, func, axis, broadcast, raw, reduce, result_type, args, **kwds)\u001b[0m\n\u001b[1;32m   6904\u001b[0m             \u001b[0mkwds\u001b[0m\u001b[0;34m=\u001b[0m\u001b[0mkwds\u001b[0m\u001b[0;34m,\u001b[0m\u001b[0;34m\u001b[0m\u001b[0;34m\u001b[0m\u001b[0m\n\u001b[1;32m   6905\u001b[0m         )\n\u001b[0;32m-> 6906\u001b[0;31m         \u001b[0;32mreturn\u001b[0m \u001b[0mop\u001b[0m\u001b[0;34m.\u001b[0m\u001b[0mget_result\u001b[0m\u001b[0;34m(\u001b[0m\u001b[0;34m)\u001b[0m\u001b[0;34m\u001b[0m\u001b[0;34m\u001b[0m\u001b[0m\n\u001b[0m\u001b[1;32m   6907\u001b[0m \u001b[0;34m\u001b[0m\u001b[0m\n\u001b[1;32m   6908\u001b[0m     \u001b[0;32mdef\u001b[0m \u001b[0mapplymap\u001b[0m\u001b[0;34m(\u001b[0m\u001b[0mself\u001b[0m\u001b[0;34m,\u001b[0m \u001b[0mfunc\u001b[0m\u001b[0;34m)\u001b[0m\u001b[0;34m:\u001b[0m\u001b[0;34m\u001b[0m\u001b[0;34m\u001b[0m\u001b[0m\n",
      "\u001b[0;32m~/.vmgr_repo/py37/lib/python3.7/site-packages/pandas/core/apply.py\u001b[0m in \u001b[0;36mget_result\u001b[0;34m(self)\u001b[0m\n\u001b[1;32m    184\u001b[0m             \u001b[0;32mreturn\u001b[0m \u001b[0mself\u001b[0m\u001b[0;34m.\u001b[0m\u001b[0mapply_raw\u001b[0m\u001b[0;34m(\u001b[0m\u001b[0;34m)\u001b[0m\u001b[0;34m\u001b[0m\u001b[0;34m\u001b[0m\u001b[0m\n\u001b[1;32m    185\u001b[0m \u001b[0;34m\u001b[0m\u001b[0m\n\u001b[0;32m--> 186\u001b[0;31m         \u001b[0;32mreturn\u001b[0m \u001b[0mself\u001b[0m\u001b[0;34m.\u001b[0m\u001b[0mapply_standard\u001b[0m\u001b[0;34m(\u001b[0m\u001b[0;34m)\u001b[0m\u001b[0;34m\u001b[0m\u001b[0;34m\u001b[0m\u001b[0m\n\u001b[0m\u001b[1;32m    187\u001b[0m \u001b[0;34m\u001b[0m\u001b[0m\n\u001b[1;32m    188\u001b[0m     \u001b[0;32mdef\u001b[0m \u001b[0mapply_empty_result\u001b[0m\u001b[0;34m(\u001b[0m\u001b[0mself\u001b[0m\u001b[0;34m)\u001b[0m\u001b[0;34m:\u001b[0m\u001b[0;34m\u001b[0m\u001b[0;34m\u001b[0m\u001b[0m\n",
      "\u001b[0;32m~/.vmgr_repo/py37/lib/python3.7/site-packages/pandas/core/apply.py\u001b[0m in \u001b[0;36mapply_standard\u001b[0;34m(self)\u001b[0m\n\u001b[1;32m    290\u001b[0m \u001b[0;34m\u001b[0m\u001b[0m\n\u001b[1;32m    291\u001b[0m         \u001b[0;31m# compute the result using the series generator\u001b[0m\u001b[0;34m\u001b[0m\u001b[0;34m\u001b[0m\u001b[0;34m\u001b[0m\u001b[0m\n\u001b[0;32m--> 292\u001b[0;31m         \u001b[0mself\u001b[0m\u001b[0;34m.\u001b[0m\u001b[0mapply_series_generator\u001b[0m\u001b[0;34m(\u001b[0m\u001b[0;34m)\u001b[0m\u001b[0;34m\u001b[0m\u001b[0;34m\u001b[0m\u001b[0m\n\u001b[0m\u001b[1;32m    293\u001b[0m \u001b[0;34m\u001b[0m\u001b[0m\n\u001b[1;32m    294\u001b[0m         \u001b[0;31m# wrap results\u001b[0m\u001b[0;34m\u001b[0m\u001b[0;34m\u001b[0m\u001b[0;34m\u001b[0m\u001b[0m\n",
      "\u001b[0;32m~/.vmgr_repo/py37/lib/python3.7/site-packages/pandas/core/apply.py\u001b[0m in \u001b[0;36mapply_series_generator\u001b[0;34m(self)\u001b[0m\n\u001b[1;32m    319\u001b[0m             \u001b[0;32mtry\u001b[0m\u001b[0;34m:\u001b[0m\u001b[0;34m\u001b[0m\u001b[0;34m\u001b[0m\u001b[0m\n\u001b[1;32m    320\u001b[0m                 \u001b[0;32mfor\u001b[0m \u001b[0mi\u001b[0m\u001b[0;34m,\u001b[0m \u001b[0mv\u001b[0m \u001b[0;32min\u001b[0m \u001b[0menumerate\u001b[0m\u001b[0;34m(\u001b[0m\u001b[0mseries_gen\u001b[0m\u001b[0;34m)\u001b[0m\u001b[0;34m:\u001b[0m\u001b[0;34m\u001b[0m\u001b[0;34m\u001b[0m\u001b[0m\n\u001b[0;32m--> 321\u001b[0;31m                     \u001b[0mresults\u001b[0m\u001b[0;34m[\u001b[0m\u001b[0mi\u001b[0m\u001b[0;34m]\u001b[0m \u001b[0;34m=\u001b[0m \u001b[0mself\u001b[0m\u001b[0;34m.\u001b[0m\u001b[0mf\u001b[0m\u001b[0;34m(\u001b[0m\u001b[0mv\u001b[0m\u001b[0;34m)\u001b[0m\u001b[0;34m\u001b[0m\u001b[0;34m\u001b[0m\u001b[0m\n\u001b[0m\u001b[1;32m    322\u001b[0m                     \u001b[0mkeys\u001b[0m\u001b[0;34m.\u001b[0m\u001b[0mappend\u001b[0m\u001b[0;34m(\u001b[0m\u001b[0mv\u001b[0m\u001b[0;34m.\u001b[0m\u001b[0mname\u001b[0m\u001b[0;34m)\u001b[0m\u001b[0;34m\u001b[0m\u001b[0;34m\u001b[0m\u001b[0m\n\u001b[1;32m    323\u001b[0m             \u001b[0;32mexcept\u001b[0m \u001b[0mException\u001b[0m \u001b[0;32mas\u001b[0m \u001b[0me\u001b[0m\u001b[0;34m:\u001b[0m\u001b[0;34m\u001b[0m\u001b[0;34m\u001b[0m\u001b[0m\n",
      "\u001b[0;32m~/.vmgr_repo/py37/lib/python3.7/site-packages/neuro_dmt/library/users/visood/sscx_dissemination/analyses/composition/__init__.py\u001b[0m in \u001b[0;36m<lambda>\u001b[0;34m(query)\u001b[0m\n\u001b[1;32m    193\u001b[0m             cell_density = measurement_parameters.apply(\n\u001b[1;32m    194\u001b[0m                 lambda query: self._get_cell_density(\n\u001b[0;32m--> 195\u001b[0;31m                     circuit_model, adapter, query),\n\u001b[0m\u001b[1;32m    196\u001b[0m                 axis=1)\n\u001b[1;32m    197\u001b[0m         )\n",
      "\u001b[0;32m~/.vmgr_repo/py37/lib/python3.7/site-packages/neuro_dmt/library/users/visood/sscx_dissemination/analyses/composition/__init__.py\u001b[0m in \u001b[0;36m_get_cell_density\u001b[0;34m(self, circuit_model, adapter, query)\u001b[0m\n\u001b[1;32m    159\u001b[0m         \u001b[0mroi\u001b[0m \u001b[0;34m=\u001b[0m\u001b[0;31m\\\u001b[0m\u001b[0;34m\u001b[0m\u001b[0;34m\u001b[0m\u001b[0m\n\u001b[1;32m    160\u001b[0m             self._get_random_region(\n\u001b[0;32m--> 161\u001b[0;31m                 circuit_model, adapter, query)\n\u001b[0m\u001b[1;32m    162\u001b[0m         \u001b[0mcell_count\u001b[0m \u001b[0;34m=\u001b[0m\u001b[0;31m\\\u001b[0m\u001b[0;34m\u001b[0m\u001b[0;34m\u001b[0m\u001b[0m\n\u001b[1;32m    163\u001b[0m             adapter.get_cells(\n",
      "\u001b[0;32m~/.vmgr_repo/py37/lib/python3.7/site-packages/neuro_dmt/library/users/visood/sscx_dissemination/analyses/composition/__init__.py\u001b[0m in \u001b[0;36m_get_random_region\u001b[0;34m(self, circuit_model, adapter, spatial_query)\u001b[0m\n\u001b[1;32m    139\u001b[0m             adapter.random_position(\n\u001b[1;32m    140\u001b[0m                 \u001b[0mcircuit_model\u001b[0m\u001b[0;34m,\u001b[0m\u001b[0;34m\u001b[0m\u001b[0;34m\u001b[0m\u001b[0m\n\u001b[0;32m--> 141\u001b[0;31m                 **spatial_query)\n\u001b[0m\u001b[1;32m    142\u001b[0m         \u001b[0;32mreturn\u001b[0m\u001b[0;31m\\\u001b[0m\u001b[0;34m\u001b[0m\u001b[0;34m\u001b[0m\u001b[0m\n\u001b[1;32m    143\u001b[0m             Cuboid(\n",
      "\u001b[0;32m~/.vmgr_repo/py37/lib/python3.7/site-packages/neuro_dmt/models/bluebrain/circuit/adapter/adapter.py\u001b[0m in \u001b[0;36mrandom_position\u001b[0;34m(self, circuit_model, **query)\u001b[0m\n\u001b[1;32m    315\u001b[0m         \u001b[0mGet\u001b[0m \u001b[0ma\u001b[0m \u001b[0mgenerator\u001b[0m \u001b[0;32mfor\u001b[0m \u001b[0mrandom\u001b[0m \u001b[0mpositions\u001b[0m \u001b[0;32mfor\u001b[0m \u001b[0mgiven\u001b[0m \u001b[0mspatial\u001b[0m \u001b[0mparameters\u001b[0m\u001b[0;34m.\u001b[0m\u001b[0;34m\u001b[0m\u001b[0;34m\u001b[0m\u001b[0m\n\u001b[1;32m    316\u001b[0m         \"\"\"\n\u001b[0;32m--> 317\u001b[0;31m         \u001b[0mpositions\u001b[0m \u001b[0;34m=\u001b[0m \u001b[0mself\u001b[0m\u001b[0;34m.\u001b[0m\u001b[0mvisible_voxels\u001b[0m\u001b[0;34m(\u001b[0m\u001b[0mcircuit_model\u001b[0m\u001b[0;34m,\u001b[0m \u001b[0mquery\u001b[0m\u001b[0;34m)\u001b[0m\u001b[0;34m.\u001b[0m\u001b[0mpositions\u001b[0m\u001b[0;34m\u001b[0m\u001b[0;34m\u001b[0m\u001b[0m\n\u001b[0m\u001b[1;32m    318\u001b[0m         \u001b[0;32mreturn\u001b[0m \u001b[0mpositions\u001b[0m\u001b[0;34m.\u001b[0m\u001b[0msample\u001b[0m\u001b[0;34m(\u001b[0m\u001b[0mn\u001b[0m\u001b[0;34m=\u001b[0m\u001b[0;36m1\u001b[0m\u001b[0;34m)\u001b[0m\u001b[0;34m.\u001b[0m\u001b[0miloc\u001b[0m\u001b[0;34m[\u001b[0m\u001b[0;36m0\u001b[0m\u001b[0;34m]\u001b[0m \u001b[0;32mif\u001b[0m \u001b[0;32mnot\u001b[0m \u001b[0mpositions\u001b[0m\u001b[0;34m.\u001b[0m\u001b[0mempty\u001b[0m \u001b[0;32melse\u001b[0m \u001b[0;32mNone\u001b[0m\u001b[0;34m\u001b[0m\u001b[0;34m\u001b[0m\u001b[0m\n\u001b[1;32m    319\u001b[0m \u001b[0;34m\u001b[0m\u001b[0m\n",
      "\u001b[0;32m~/.vmgr_repo/py37/lib/python3.7/site-packages/neuro_dmt/models/bluebrain/circuit/adapter/query.py\u001b[0m in \u001b[0;36m__call__\u001b[0;34m(self, circuit_model, query_dict)\u001b[0m\n\u001b[1;32m     51\u001b[0m         \u001b[0;32mif\u001b[0m \u001b[0mhash_query\u001b[0m \u001b[0;32mnot\u001b[0m \u001b[0;32min\u001b[0m \u001b[0mcache_circuit_model\u001b[0m\u001b[0;34m:\u001b[0m\u001b[0;34m\u001b[0m\u001b[0;34m\u001b[0m\u001b[0m\n\u001b[1;32m     52\u001b[0m             \u001b[0mcache_circuit_model\u001b[0m\u001b[0;34m[\u001b[0m\u001b[0mhash_query\u001b[0m\u001b[0;34m]\u001b[0m \u001b[0;34m=\u001b[0m\u001b[0;31m\\\u001b[0m\u001b[0;34m\u001b[0m\u001b[0;34m\u001b[0m\u001b[0m\n\u001b[0;32m---> 53\u001b[0;31m                 \u001b[0mself\u001b[0m\u001b[0;34m.\u001b[0m\u001b[0mmethod_to_memoize\u001b[0m\u001b[0;34m(\u001b[0m\u001b[0mcircuit_model\u001b[0m\u001b[0;34m,\u001b[0m \u001b[0mquery_dict\u001b[0m\u001b[0;34m)\u001b[0m\u001b[0;34m\u001b[0m\u001b[0;34m\u001b[0m\u001b[0m\n\u001b[0m\u001b[1;32m     54\u001b[0m \u001b[0;34m\u001b[0m\u001b[0m\n\u001b[1;32m     55\u001b[0m         \u001b[0;32mreturn\u001b[0m \u001b[0mcache_circuit_model\u001b[0m\u001b[0;34m[\u001b[0m\u001b[0mhash_query\u001b[0m\u001b[0;34m]\u001b[0m\u001b[0;34m\u001b[0m\u001b[0;34m\u001b[0m\u001b[0m\n",
      "\u001b[0;32m~/.vmgr_repo/py37/lib/python3.7/site-packages/neuro_dmt/models/bluebrain/circuit/adapter/adapter.py\u001b[0m in \u001b[0;36m_get_visible_voxel_data\u001b[0;34m(circuit_model, query)\u001b[0m\n\u001b[1;32m    293\u001b[0m                 tuple(ijk) for ijk in zip(*np.where( \n\u001b[1;32m    294\u001b[0m                     circuit_model.get_mask(\n\u001b[0;32m--> 295\u001b[0;31m                         terminology.circuit.get_spatial_query(query))))}\n\u001b[0m\u001b[1;32m    296\u001b[0m             return SpatialQueryData(\n\u001b[1;32m    297\u001b[0m                 ids=pd.Series(\n",
      "\u001b[0;32m~/.vmgr_repo/py37/lib/python3.7/site-packages/neuro_dmt/models/bluebrain/circuit/model/__init__.py\u001b[0m in \u001b[0;36mget_mask\u001b[0;34m(self, query)\u001b[0m\n\u001b[1;32m    408\u001b[0m         \"\"\"\n\u001b[1;32m    409\u001b[0m         return self.atlas.get_mask(\n\u001b[0;32m--> 410\u001b[0;31m             terminology.circuit.get_spatial_query(query))\n\u001b[0m\u001b[1;32m    411\u001b[0m \u001b[0;34m\u001b[0m\u001b[0m\n\u001b[1;32m    412\u001b[0m     @terminology.use(\n",
      "\u001b[0;32m~/.vmgr_repo/py37/lib/python3.7/site-packages/neuro_dmt/models/bluebrain/circuit/atlas/__init__.py\u001b[0m in \u001b[0;36mget_mask\u001b[0;34m(self, region, layer, depth, height)\u001b[0m\n\u001b[1;32m    123\u001b[0m             self.region_layer.get_mask(\n\u001b[1;32m    124\u001b[0m                 \u001b[0mregion\u001b[0m\u001b[0;34m=\u001b[0m\u001b[0mregion\u001b[0m\u001b[0;34m,\u001b[0m\u001b[0;34m\u001b[0m\u001b[0;34m\u001b[0m\u001b[0m\n\u001b[0;32m--> 125\u001b[0;31m                 layer=layer)\n\u001b[0m\u001b[1;32m    126\u001b[0m \u001b[0;34m\u001b[0m\u001b[0m\n\u001b[1;32m    127\u001b[0m         \u001b[0;32mif\u001b[0m \u001b[0mdepth\u001b[0m \u001b[0;32mis\u001b[0m \u001b[0;32mNone\u001b[0m \u001b[0;32mand\u001b[0m \u001b[0mheight\u001b[0m \u001b[0;32mis\u001b[0m \u001b[0;32mNone\u001b[0m\u001b[0;34m:\u001b[0m\u001b[0;34m\u001b[0m\u001b[0;34m\u001b[0m\u001b[0m\n",
      "\u001b[0;32m~/.vmgr_repo/py37/lib/python3.7/site-packages/neuro_dmt/models/bluebrain/circuit/atlas/region_layer.py\u001b[0m in \u001b[0;36mget_mask\u001b[0;34m(self, region, layer)\u001b[0m\n\u001b[1;32m    337\u001b[0m                     \u001b[0mself\u001b[0m\u001b[0;34m.\u001b[0m\u001b[0mrepresentation\u001b[0m\u001b[0;34m.\u001b[0m\u001b[0mget_region_acronym\u001b[0m\u001b[0;34m(\u001b[0m\u001b[0mr\u001b[0m\u001b[0;34m)\u001b[0m\u001b[0;34m,\u001b[0m\u001b[0;34m\u001b[0m\u001b[0;34m\u001b[0m\u001b[0m\n\u001b[1;32m    338\u001b[0m                     attr=\"acronym\").raw\n\u001b[0;32m--> 339\u001b[0;31m                  for r in collections.get_list(region)],\n\u001b[0m\u001b[1;32m    340\u001b[0m                 axis=0)\n\u001b[1;32m    341\u001b[0m \u001b[0;34m\u001b[0m\u001b[0m\n",
      "\u001b[0;32m~/.vmgr_repo/py37/lib/python3.7/site-packages/neuro_dmt/models/bluebrain/circuit/atlas/region_layer.py\u001b[0m in \u001b[0;36m<listcomp>\u001b[0;34m(.0)\u001b[0m\n\u001b[1;32m    337\u001b[0m                     \u001b[0mself\u001b[0m\u001b[0;34m.\u001b[0m\u001b[0mrepresentation\u001b[0m\u001b[0;34m.\u001b[0m\u001b[0mget_region_acronym\u001b[0m\u001b[0;34m(\u001b[0m\u001b[0mr\u001b[0m\u001b[0;34m)\u001b[0m\u001b[0;34m,\u001b[0m\u001b[0;34m\u001b[0m\u001b[0;34m\u001b[0m\u001b[0m\n\u001b[1;32m    338\u001b[0m                     attr=\"acronym\").raw\n\u001b[0;32m--> 339\u001b[0;31m                  for r in collections.get_list(region)],\n\u001b[0m\u001b[1;32m    340\u001b[0m                 axis=0)\n\u001b[1;32m    341\u001b[0m \u001b[0;34m\u001b[0m\u001b[0m\n",
      "\u001b[0;32m~/.vmgr_repo/py37/lib/python3.7/site-packages/voxcell/nexus/voxelbrain.py\u001b[0m in \u001b[0;36mget_region_mask\u001b[0;34m(self, value, attr, with_descendants, ignore_case, memcache)\u001b[0m\n\u001b[1;32m    135\u001b[0m             \u001b[0;34m(\u001b[0m\u001b[0;34m'region_mask'\u001b[0m\u001b[0;34m,\u001b[0m \u001b[0mvalue\u001b[0m\u001b[0;34m,\u001b[0m \u001b[0mattr\u001b[0m\u001b[0;34m,\u001b[0m \u001b[0mwith_descendants\u001b[0m\u001b[0;34m)\u001b[0m\u001b[0;34m,\u001b[0m\u001b[0;34m\u001b[0m\u001b[0;34m\u001b[0m\u001b[0m\n\u001b[1;32m    136\u001b[0m             \u001b[0mcallback\u001b[0m\u001b[0;34m=\u001b[0m\u001b[0m_callback\u001b[0m\u001b[0;34m,\u001b[0m\u001b[0;34m\u001b[0m\u001b[0;34m\u001b[0m\u001b[0m\n\u001b[0;32m--> 137\u001b[0;31m             \u001b[0mmemcache\u001b[0m\u001b[0;34m=\u001b[0m\u001b[0mmemcache\u001b[0m\u001b[0;34m\u001b[0m\u001b[0;34m\u001b[0m\u001b[0m\n\u001b[0m\u001b[1;32m    138\u001b[0m         )\n\u001b[1;32m    139\u001b[0m \u001b[0;34m\u001b[0m\u001b[0m\n",
      "\u001b[0;32m~/.vmgr_repo/py37/lib/python3.7/site-packages/voxcell/nexus/voxelbrain.py\u001b[0m in \u001b[0;36m_check_cache\u001b[0;34m(self, key, callback, memcache)\u001b[0m\n\u001b[1;32m     78\u001b[0m         \u001b[0;32mif\u001b[0m \u001b[0mkey\u001b[0m \u001b[0;32min\u001b[0m \u001b[0mself\u001b[0m\u001b[0;34m.\u001b[0m\u001b[0m_memcache\u001b[0m\u001b[0;34m:\u001b[0m\u001b[0;34m\u001b[0m\u001b[0;34m\u001b[0m\u001b[0m\n\u001b[1;32m     79\u001b[0m             \u001b[0;32mreturn\u001b[0m \u001b[0mself\u001b[0m\u001b[0;34m.\u001b[0m\u001b[0m_memcache\u001b[0m\u001b[0;34m[\u001b[0m\u001b[0mkey\u001b[0m\u001b[0;34m]\u001b[0m\u001b[0;34m\u001b[0m\u001b[0;34m\u001b[0m\u001b[0m\n\u001b[0;32m---> 80\u001b[0;31m         \u001b[0mresult\u001b[0m \u001b[0;34m=\u001b[0m \u001b[0mcallback\u001b[0m\u001b[0;34m(\u001b[0m\u001b[0;34m)\u001b[0m\u001b[0;34m\u001b[0m\u001b[0;34m\u001b[0m\u001b[0m\n\u001b[0m\u001b[1;32m     81\u001b[0m         \u001b[0;32mif\u001b[0m \u001b[0mmemcache\u001b[0m\u001b[0;34m:\u001b[0m\u001b[0;34m\u001b[0m\u001b[0;34m\u001b[0m\u001b[0m\n\u001b[1;32m     82\u001b[0m             \u001b[0mself\u001b[0m\u001b[0;34m.\u001b[0m\u001b[0m_memcache\u001b[0m\u001b[0;34m[\u001b[0m\u001b[0mkey\u001b[0m\u001b[0;34m]\u001b[0m \u001b[0;34m=\u001b[0m \u001b[0mresult\u001b[0m\u001b[0;34m\u001b[0m\u001b[0;34m\u001b[0m\u001b[0m\n",
      "\u001b[0;32m~/.vmgr_repo/py37/lib/python3.7/site-packages/voxcell/nexus/voxelbrain.py\u001b[0m in \u001b[0;36m_callback\u001b[0;34m()\u001b[0m\n\u001b[1;32m    128\u001b[0m             )\n\u001b[1;32m    129\u001b[0m             \u001b[0;32mif\u001b[0m \u001b[0;32mnot\u001b[0m \u001b[0mregion_ids\u001b[0m\u001b[0;34m:\u001b[0m\u001b[0;34m\u001b[0m\u001b[0;34m\u001b[0m\u001b[0m\n\u001b[0;32m--> 130\u001b[0;31m                 \u001b[0;32mraise\u001b[0m \u001b[0mVoxcellError\u001b[0m\u001b[0;34m(\u001b[0m\u001b[0;34m\"Region not found: '%s'\"\u001b[0m \u001b[0;34m%\u001b[0m \u001b[0mvalue\u001b[0m\u001b[0;34m)\u001b[0m\u001b[0;34m\u001b[0m\u001b[0;34m\u001b[0m\u001b[0m\n\u001b[0m\u001b[1;32m    131\u001b[0m             \u001b[0mresult\u001b[0m \u001b[0;34m=\u001b[0m \u001b[0mmath_utils\u001b[0m\u001b[0;34m.\u001b[0m\u001b[0misin\u001b[0m\u001b[0;34m(\u001b[0m\u001b[0mbrain_regions\u001b[0m\u001b[0;34m.\u001b[0m\u001b[0mraw\u001b[0m\u001b[0;34m,\u001b[0m \u001b[0mregion_ids\u001b[0m\u001b[0;34m)\u001b[0m\u001b[0;34m\u001b[0m\u001b[0;34m\u001b[0m\u001b[0m\n\u001b[1;32m    132\u001b[0m             \u001b[0;32mreturn\u001b[0m \u001b[0mbrain_regions\u001b[0m\u001b[0;34m.\u001b[0m\u001b[0mwith_data\u001b[0m\u001b[0;34m(\u001b[0m\u001b[0mresult\u001b[0m\u001b[0;34m)\u001b[0m\u001b[0;34m\u001b[0m\u001b[0;34m\u001b[0m\u001b[0m\n",
      "\u001b[0;31mVoxcellError\u001b[0m: (\"Region not found: 'region'\", 'occurred at index 0')"
     ]
    }
   ],
   "source": [
    "mtypes = adapter.get_mtypes(circuit_bio_m)\n",
    "regions = adapter.get_brain_regions(circuit_bio_m)\n",
    "layers = adapter.get_layers(circuit_bio_m)\n",
    "measurement_parameters =\\\n",
    "    pd.DataFrame({\n",
    "        \"mtype\":  [m for m in mtypes for _ in regions for _ in layers],\n",
    "        \"region\": [r for _ in mtypes for r in regions for _ in layers],\n",
    "        \"layer\":  [l for _ in mtypes for _ in regions for l in layers]})\n",
    "\n",
    "mtype_cell_density =\\\n",
    "    composition_analysis.get_cell_density_measurement(\n",
    "        circuit_bio_m,\n",
    "        adapter,\n",
    "        measurement_parameters)"
   ]
  },
  {
   "cell_type": "code",
   "execution_count": 16,
   "metadata": {
    "ExecuteTime": {
     "end_time": "2019-12-09T15:29:29.734840Z",
     "start_time": "2019-12-09T15:29:29.718064Z"
    }
   },
   "outputs": [
    {
     "ename": "TypeError",
     "evalue": "pop() takes 2 positional arguments but 3 were given",
     "output_type": "error",
     "traceback": [
      "\u001b[0;31m---------------------------------------------------------------------------\u001b[0m",
      "\u001b[0;31mTypeError\u001b[0m                                 Traceback (most recent call last)",
      "\u001b[0;32m<ipython-input-16-be20d3030ad5>\u001b[0m in \u001b[0;36m<module>\u001b[0;34m\u001b[0m\n\u001b[0;32m----> 1\u001b[0;31m \u001b[0mterminology\u001b[0m\u001b[0;34m.\u001b[0m\u001b[0mcircuit\u001b[0m\u001b[0;34m.\u001b[0m\u001b[0mget_spatial_query\u001b[0m\u001b[0;34m(\u001b[0m\u001b[0mmeasurement_parameters\u001b[0m\u001b[0;34m.\u001b[0m\u001b[0miloc\u001b[0m\u001b[0;34m[\u001b[0m\u001b[0;36m0\u001b[0m\u001b[0;34m]\u001b[0m\u001b[0;34m)\u001b[0m\u001b[0;34m\u001b[0m\u001b[0;34m\u001b[0m\u001b[0m\n\u001b[0m",
      "\u001b[0;32m~/.vmgr_repo/py37/lib/python3.7/site-packages/neuro_dmt/terminology/__init__.py\u001b[0m in \u001b[0;36mget_spatial_query\u001b[0;34m(cls, query_dict)\u001b[0m\n\u001b[1;32m     91\u001b[0m         return {\n\u001b[1;32m     92\u001b[0m             \u001b[0mparameter\u001b[0m\u001b[0;34m:\u001b[0m \u001b[0mquery_dict\u001b[0m\u001b[0;34m.\u001b[0m\u001b[0mpop\u001b[0m\u001b[0;34m(\u001b[0m\u001b[0mparameter\u001b[0m\u001b[0;34m,\u001b[0m \u001b[0;32mNone\u001b[0m\u001b[0;34m)\u001b[0m\u001b[0;34m\u001b[0m\u001b[0;34m\u001b[0m\u001b[0m\n\u001b[0;32m---> 93\u001b[0;31m             \u001b[0;32mfor\u001b[0m \u001b[0mparameter\u001b[0m \u001b[0;32min\u001b[0m \u001b[0mcls\u001b[0m\u001b[0;34m.\u001b[0m\u001b[0mspatial_terms\u001b[0m\u001b[0;34m\u001b[0m\u001b[0;34m\u001b[0m\u001b[0m\n\u001b[0m\u001b[1;32m     94\u001b[0m         }\n\u001b[1;32m     95\u001b[0m \u001b[0;34m\u001b[0m\u001b[0m\n",
      "\u001b[0;32m~/.vmgr_repo/py37/lib/python3.7/site-packages/neuro_dmt/terminology/__init__.py\u001b[0m in \u001b[0;36m<dictcomp>\u001b[0;34m(.0)\u001b[0m\n\u001b[1;32m     91\u001b[0m         return {\n\u001b[1;32m     92\u001b[0m             \u001b[0mparameter\u001b[0m\u001b[0;34m:\u001b[0m \u001b[0mquery_dict\u001b[0m\u001b[0;34m.\u001b[0m\u001b[0mpop\u001b[0m\u001b[0;34m(\u001b[0m\u001b[0mparameter\u001b[0m\u001b[0;34m,\u001b[0m \u001b[0;32mNone\u001b[0m\u001b[0;34m)\u001b[0m\u001b[0;34m\u001b[0m\u001b[0;34m\u001b[0m\u001b[0m\n\u001b[0;32m---> 93\u001b[0;31m             \u001b[0;32mfor\u001b[0m \u001b[0mparameter\u001b[0m \u001b[0;32min\u001b[0m \u001b[0mcls\u001b[0m\u001b[0;34m.\u001b[0m\u001b[0mspatial_terms\u001b[0m\u001b[0;34m\u001b[0m\u001b[0;34m\u001b[0m\u001b[0m\n\u001b[0m\u001b[1;32m     94\u001b[0m         }\n\u001b[1;32m     95\u001b[0m \u001b[0;34m\u001b[0m\u001b[0m\n",
      "\u001b[0;31mTypeError\u001b[0m: pop() takes 2 positional arguments but 3 were given"
     ]
    }
   ],
   "source": [
    "terminology.circuit.get_spatial_query(measurement_parameters.iloc[0].to)"
   ]
  },
  {
   "cell_type": "code",
   "execution_count": 18,
   "metadata": {
    "ExecuteTime": {
     "end_time": "2019-12-09T15:30:03.628239Z",
     "start_time": "2019-12-09T15:30:03.621945Z"
    }
   },
   "outputs": [
    {
     "data": {
      "text/plain": [
       "{'region': 'S1FL',\n",
       " 'layer': 'L1',\n",
       " 'depth': None,\n",
       " 'height': None,\n",
       " 'mesocolumn': None,\n",
       " 'hypercolumn': None}"
      ]
     },
     "execution_count": 18,
     "metadata": {},
     "output_type": "execute_result"
    }
   ],
   "source": [
    "from neuro_dmt import terminology\n",
    "terminology.circuit.get_spatial_query(measurement_parameters.iloc[0].to_dict())"
   ]
  },
  {
   "cell_type": "code",
   "execution_count": 5,
   "metadata": {
    "ExecuteTime": {
     "end_time": "2019-12-09T15:24:21.423378Z",
     "start_time": "2019-12-09T15:16:18.838130Z"
    }
   },
   "outputs": [
    {
     "data": {
      "text/plain": [
       "[S1FL, S1Sh, S1HL, S1Tr]\n",
       "Categories (4, object): [S1FL, S1Sh, S1HL, S1Tr]"
      ]
     },
     "execution_count": 5,
     "metadata": {},
     "output_type": "execute_result"
    }
   ],
   "source": [
    "circuit_bio_m.brain_regions\n",
    "#adapter.get_brain_regions(circuit_bio_m)"
   ]
  },
  {
   "cell_type": "code",
   "execution_count": null,
   "metadata": {
    "ExecuteTime": {
     "end_time": "2019-12-09T14:53:03.563307Z",
     "start_time": "2019-12-09T14:52:57.321023Z"
    }
   },
   "outputs": [],
   "source": [
    "mtypes = adapter.get_mtypes(mock_circuit_model)\n",
    "regions = adapter.get_brain_regions(mock_circuit_model)\n",
    "layers = adapter.get_layers(mock_circuit_model)\n",
    "measurement_parameters =\\\n",
    "    pd.DataFrame({\n",
    "        \"mtype\":  [m for m in mtypes for _ in regions for _ in layers],\n",
    "        \"region\": [r for _ in mtypes for r in regions for _ in layers],\n",
    "        \"layer\":  [l for _ in mtypes for _ in regions for l in layers]})\n",
    "\n",
    "mock_mtype_cell_density =\\\n",
    "    composition_analysis.get_cell_density_measurement(\n",
    "        mock_circuit_model,\n",
    "        adapter,\n",
    "        measurement_parameters)"
   ]
  },
  {
   "cell_type": "code",
   "execution_count": 6,
   "metadata": {
    "ExecuteTime": {
     "end_time": "2019-12-09T15:24:50.310717Z",
     "start_time": "2019-12-09T15:24:50.098846Z"
    },
    "scrolled": true
   },
   "outputs": [
    {
     "ename": "NameError",
     "evalue": "name 'mock_circuit_model' is not defined",
     "output_type": "error",
     "traceback": [
      "\u001b[0;31m---------------------------------------------------------------------------\u001b[0m",
      "\u001b[0;31mNameError\u001b[0m                                 Traceback (most recent call last)",
      "\u001b[0;32m<ipython-input-6-aa0ad1b45b1b>\u001b[0m in \u001b[0;36m<module>\u001b[0;34m\u001b[0m\n\u001b[1;32m      2\u001b[0m \u001b[0;32mfrom\u001b[0m \u001b[0mneuro_dmt\u001b[0m\u001b[0;34m.\u001b[0m\u001b[0mmodels\u001b[0m\u001b[0;34m.\u001b[0m\u001b[0mbluebrain\u001b[0m\u001b[0;34m.\u001b[0m\u001b[0mcircuit\u001b[0m\u001b[0;34m.\u001b[0m\u001b[0mgeometry\u001b[0m \u001b[0;32mimport\u001b[0m \u001b[0mCuboid\u001b[0m\u001b[0;34m\u001b[0m\u001b[0;34m\u001b[0m\u001b[0m\n\u001b[1;32m      3\u001b[0m \u001b[0;34m\u001b[0m\u001b[0m\n\u001b[0;32m----> 4\u001b[0;31m \u001b[0mregions\u001b[0m \u001b[0;34m=\u001b[0m \u001b[0madapter\u001b[0m\u001b[0;34m.\u001b[0m\u001b[0mget_brain_regions\u001b[0m\u001b[0;34m(\u001b[0m\u001b[0mmock_circuit_model\u001b[0m\u001b[0;34m)\u001b[0m\u001b[0;34m\u001b[0m\u001b[0;34m\u001b[0m\u001b[0m\n\u001b[0m\u001b[1;32m      5\u001b[0m \u001b[0mlayers\u001b[0m \u001b[0;34m=\u001b[0m \u001b[0madapter\u001b[0m\u001b[0;34m.\u001b[0m\u001b[0mget_layers\u001b[0m\u001b[0;34m(\u001b[0m\u001b[0mmock_circuit_model\u001b[0m\u001b[0;34m)\u001b[0m\u001b[0;34m\u001b[0m\u001b[0;34m\u001b[0m\u001b[0m\n\u001b[1;32m      6\u001b[0m regions_and_layers = pd.DataFrame({\n",
      "\u001b[0;31mNameError\u001b[0m: name 'mock_circuit_model' is not defined"
     ]
    }
   ],
   "source": [
    "import pandas as pd\n",
    "from neuro_dmt.models.bluebrain.circuit.geometry import Cuboid\n",
    "\n",
    "regions = adapter.get_brain_regions(mock_circuit_model)\n",
    "layers = adapter.get_layers(mock_circuit_model)\n",
    "regions_and_layers = pd.DataFrame({\n",
    "    \"region\": [r for r in regions for _ in layers],\n",
    "    \"layer\":  [l for _ in regions for l in layers]\n",
    "})\n",
    "def _get_cell_density(**spatial_query):\n",
    "    position =\\\n",
    "        adapter.random_position(mock_circuit_model, **spatial_query)\n",
    "    cuboid =\\\n",
    "        Cuboid(position - 25., position + 25.)\n",
    "    return\\\n",
    "        adapter.get_cells(mock_circuit_model, roi=cuboid.bbox).shape[0] / cuboid.volume\n",
    "            \n",
    "    \n",
    "mp = pd.concat(\n",
    "    [regions_and_layers for _ in range(2)]\n",
    ")\n",
    "m = mp.assign(\n",
    "    cell_density=lambda df: df.apply(\n",
    "        lambda row: _get_cell_density(**row),\n",
    "        axis=1),\n",
    "    dataset=adapter.get_label(mock_circuit_model)\n",
    ").set_index(\n",
    "    [\"dataset\"] + list(mp.columns.values))"
   ]
  },
  {
   "cell_type": "code",
   "execution_count": null,
   "metadata": {
    "ExecuteTime": {
     "end_time": "2019-12-06T16:36:07.256815Z",
     "start_time": "2019-12-06T16:36:07.251700Z"
    }
   },
   "outputs": [],
   "source": [
    "from neuro_dmt.data import rat\n",
    "rat.defelipe2017.citation"
   ]
  },
  {
   "cell_type": "code",
   "execution_count": null,
   "metadata": {
    "ExecuteTime": {
     "end_time": "2019-12-06T16:36:07.270625Z",
     "start_time": "2019-12-06T16:36:07.259121Z"
    }
   },
   "outputs": [],
   "source": [
    "mock_circuit_model.provenance.field_dict"
   ]
  },
  {
   "cell_type": "code",
   "execution_count": null,
   "metadata": {
    "ExecuteTime": {
     "end_time": "2019-12-06T16:56:47.848210Z",
     "start_time": "2019-12-06T16:56:47.815859Z"
    }
   },
   "outputs": [],
   "source": [
    "from neuro_dmt.models.bluebrain.circuit.geometry import Cuboid\n",
    "from neuro_dmt import terminology\n",
    "\n",
    "position =\\\n",
    "    adapter.random_position(\n",
    "        mock_circuit_model,\n",
    "        region=\"S1HL\",\n",
    "        layer=\"L2\")\n",
    "cuboid =\\\n",
    "    Cuboid(\n",
    "        position - 50.,\n",
    "        position + 50.)\n",
    "cells =\\\n",
    "    adapter.get_cells(\n",
    "        mock_circuit_model, \n",
    "#        properties=[terminology.cell.synapse_class, terminology.cell.mtype],\n",
    "        roi=cuboid.bbox,\n",
    "        mtype=\"L23_MC\")\n",
    "number_synapse_class =\\\n",
    "    cells.groupby(terminology.cell.synapse_class).agg(\"size\")"
   ]
  },
  {
   "cell_type": "code",
   "execution_count": null,
   "metadata": {
    "ExecuteTime": {
     "end_time": "2019-12-06T16:56:50.211305Z",
     "start_time": "2019-12-06T16:56:50.202348Z"
    }
   },
   "outputs": [],
   "source": [
    "cells"
   ]
  },
  {
   "cell_type": "code",
   "execution_count": null,
   "metadata": {
    "ExecuteTime": {
     "end_time": "2019-12-06T15:40:13.723527Z",
     "start_time": "2019-12-06T15:40:13.712837Z"
    }
   },
   "outputs": [],
   "source": []
  },
  {
   "cell_type": "code",
   "execution_count": null,
   "metadata": {},
   "outputs": [],
   "source": []
  }
 ],
 "metadata": {
  "kernelspec": {
   "display_name": "Python 3",
   "language": "python",
   "name": "python3"
  },
  "language_info": {
   "codemirror_mode": {
    "name": "ipython",
    "version": 3
   },
   "file_extension": ".py",
   "mimetype": "text/x-python",
   "name": "python",
   "nbconvert_exporter": "python",
   "pygments_lexer": "ipython3",
   "version": "3.7.4"
  },
  "latex_envs": {
   "LaTeX_envs_menu_present": true,
   "autoclose": false,
   "autocomplete": true,
   "bibliofile": "biblio.bib",
   "cite_by": "apalike",
   "current_citInitial": 1,
   "eqLabelWithNumbers": true,
   "eqNumInitial": 1,
   "hotkeys": {
    "equation": "Ctrl-E",
    "itemize": "Ctrl-I"
   },
   "labels_anchors": false,
   "latex_user_defs": false,
   "report_style_numbering": false,
   "user_envs_cfg": false
  },
  "toc": {
   "base_numbering": 1,
   "nav_menu": {},
   "number_sections": true,
   "sideBar": true,
   "skip_h1_title": false,
   "title_cell": "Table of Contents",
   "title_sidebar": "Contents",
   "toc_cell": false,
   "toc_position": {},
   "toc_section_display": true,
   "toc_window_display": false
  },
  "varInspector": {
   "cols": {
    "lenName": 16,
    "lenType": 16,
    "lenVar": 40
   },
   "kernels_config": {
    "python": {
     "delete_cmd_postfix": "",
     "delete_cmd_prefix": "del ",
     "library": "var_list.py",
     "varRefreshCmd": "print(var_dic_list())"
    },
    "r": {
     "delete_cmd_postfix": ") ",
     "delete_cmd_prefix": "rm(",
     "library": "var_list.r",
     "varRefreshCmd": "cat(var_dic_list()) "
    }
   },
   "types_to_exclude": [
    "module",
    "function",
    "builtin_function_or_method",
    "instance",
    "_Feature"
   ],
   "window_display": false
  }
 },
 "nbformat": 4,
 "nbformat_minor": 2
}
