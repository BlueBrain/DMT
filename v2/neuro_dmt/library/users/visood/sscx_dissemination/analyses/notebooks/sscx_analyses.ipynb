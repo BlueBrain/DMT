{
 "cells": [
  {
   "cell_type": "markdown",
   "metadata": {},
   "source": [
    "# SSCx Circuit Analyses\n",
    "\n",
    "We analyze rat somatosensory circuits build under the SSCx-Dissemination project (2019-2020)."
   ]
  },
  {
   "cell_type": "markdown",
   "metadata": {
    "ExecuteTime": {
     "end_time": "2020-02-20T10:39:50.131128Z",
     "start_time": "2020-02-20T10:39:50.127383Z"
    }
   },
   "source": [
    "# Introduction\n",
    "\n",
    "We will use DMT, our analysis framework. With DMT we strive to provide a \n",
    "framework to analyze composition and connectome phenomena of a brain-circuit,\n",
    "that keeps the scientific aspect of the analysis apart from the engineering \n",
    "details of the circuit model.\n",
    "\n",
    "Lets begin by importing the required libraries, and setting up the circuits to study."
   ]
  },
  {
   "cell_type": "code",
   "execution_count": 1,
   "metadata": {
    "ExecuteTime": {
     "end_time": "2020-02-22T21:29:39.129209Z",
     "start_time": "2020-02-22T21:29:38.121077Z"
    },
    "code_folding": []
   },
   "outputs": [
    {
     "name": "stdout",
     "output_type": "stream",
     "text": [
      "('region', 'layer', 'depth', 'height', 'mesocolumn', 'hypercolumn', 'roi', 'mtype', 'etype', 'synapse_class', 'postsynaptic', 'presynaptic')\n",
      "('region', 'layer', 'depth', 'height', 'mesocolumn', 'hypercolumn', 'roi', 'mtype', 'etype', 'synapse_class', 'postsynaptic', 'presynaptic')\n",
      "('region', 'layer', 'depth', 'height', 'mesocolumn', 'hypercolumn', 'roi', 'mtype', 'etype', 'synapse_class', 'postsynaptic', 'presynaptic')\n",
      "('region', 'layer', 'depth', 'height', 'mtype', 'etype', 'synapse_class')\n",
      "('region', 'layer', 'depth', 'height', 'mesocolumn', 'hypercolumn', 'roi', 'mtype', 'etype', 'synapse_class', 'postsynaptic', 'presynaptic')\n",
      "('region', 'layer', 'depth', 'height', 'mesocolumn', 'hypercolumn', 'roi')\n"
     ]
    }
   ],
   "source": [
    "#essential imports\n",
    "import os\n",
    "import numpy as np\n",
    "import pandas as pd\n",
    "import matplotlib.pyplot as plt \n",
    "from dmt.tk.phenomenon import Phenomenon\n",
    "from dmt.tk.parameters import Parameters\n",
    "from dmt.tk.plotting import Bars, LinePlot, HeatMap\n",
    "from neuro_dmt import terminology\n",
    "from neuro_dmt.library.users.visood.sscx_dissemination.analyses.composition\\\n",
    "    import CompositionAnalysesSuite\n",
    "from neuro_dmt.library.users.visood.sscx_dissemination.analyses.connectome\\\n",
    "    import ConnectomeAnalysesSuite\n",
    "from neuro_dmt.models.bluebrain.circuit.atlas import\\\n",
    "    BlueBrainCircuitAtlas\n",
    "from neuro_dmt.models.bluebrain.circuit.model import\\\n",
    "    BlueBrainCircuitModel,\\\n",
    "    CircuitProvenance\n",
    "from neuro_dmt.models.bluebrain.circuit.adapter import\\\n",
    "    BlueBrainCircuitAdapter\n",
    "from neuro_dmt.library.users.visood.sscx_dissemination.analyses.tools\\\n",
    "    import PathwayMeasurement\n",
    "from neuro_dmt.analysis.circuit import BrainCircuitAnalysis"
   ]
  },
  {
   "cell_type": "markdown",
   "metadata": {},
   "source": [
    "## Paths to the circuits.\n",
    "\n",
    "We set paths to the circuits to analyze."
   ]
  },
  {
   "cell_type": "code",
   "execution_count": 2,
   "metadata": {
    "ExecuteTime": {
     "end_time": "2020-02-22T21:29:40.190006Z",
     "start_time": "2020-02-22T21:29:40.177698Z"
    },
    "code_folding": []
   },
   "outputs": [],
   "source": [
    "#paths to circuits\n",
    "project =\\\n",
    "    os.path.join(\n",
    "        \"/gpfs/bbp.cscs.ch/project\")\n",
    "proj_sscx_diss=\\\n",
    "    os.path.join(\n",
    "        project,\n",
    "        \"proj83\")\n",
    "data_sscx_diss=\\\n",
    "    os.path.join(\n",
    "        proj_sscx_diss,\n",
    "        \"data\")\n",
    "atlases_sscx_diss=\\\n",
    "    os.path.join(\n",
    "        data_sscx_diss,\n",
    "        \"atlas/S1/MEAN\")\n",
    "circuits_sscx_diss=\\\n",
    "    os.path.join(\n",
    "        proj_sscx_diss,\n",
    "        \"circuits\")\n",
    "atlas_bio_m =\\\n",
    "    BlueBrainCircuitAtlas(\n",
    "        path=os.path.join(\n",
    "                atlases_sscx_diss, \"P14-MEAN\"))\n",
    "path_bio_m =\\\n",
    "    os.path.join(\n",
    "        circuits_sscx_diss,\n",
    "        \"Bio_M/20191206\")\n",
    "circuit_bio_m =\\\n",
    "    BlueBrainCircuitModel(\n",
    "        path_circuit_data=path_bio_m,\n",
    "            provenance=CircuitProvenance(\n",
    "                label=\"SSCxRatDisseminationBioM\",\n",
    "                authors=[\"BBP Team\"],\n",
    "                release_date=\"20191212\",\n",
    "                uri=path_bio_m,\n",
    "                animal=\"Wistar Rat\",\n",
    "                age=\"P14\",\n",
    "                brain_region=\"SSCx\"))\n",
    "adapter =\\\n",
    "    BlueBrainCircuitAdapter()\n",
    "suite_connectome_analyses =\\\n",
    "    ConnectomeAnalysesSuite(\n",
    "        sample_size=20)"
   ]
  },
  {
   "cell_type": "code",
   "execution_count": 3,
   "metadata": {
    "ExecuteTime": {
     "end_time": "2020-02-22T21:29:41.111286Z",
     "start_time": "2020-02-22T21:29:41.102024Z"
    }
   },
   "outputs": [
    {
     "data": {
      "text/plain": [
       "{'age': 'P14',\n",
       " 'animal': 'Wistar Rat',\n",
       " 'authors': ['BBP Team'],\n",
       " 'brain_region': 'SSCx',\n",
       " 'date_release': 'YYYYMMDD',\n",
       " 'label': 'SSCxRatDisseminationBioM',\n",
       " 'uri': '/gpfs/bbp.cscs.ch/project/proj83/circuits/Bio_M/20191206'}"
      ]
     },
     "execution_count": 3,
     "metadata": {},
     "output_type": "execute_result"
    }
   ],
   "source": [
    "adapter.get_provenance(circuit_bio_m)"
   ]
  },
  {
   "cell_type": "markdown",
   "metadata": {},
   "source": [
    "## Mock Circuit\n",
    "\n",
    "For facilitate development of analyses and the associated adapter, we will use\n",
    "a mock circuit that behaves the same as a circuit loaded via BluePy."
   ]
  },
  {
   "cell_type": "code",
   "execution_count": 4,
   "metadata": {
    "ExecuteTime": {
     "end_time": "2020-02-22T21:32:51.394082Z",
     "start_time": "2020-02-22T21:29:43.919037Z"
    },
    "code_folding": []
   },
   "outputs": [
    {
     "name": "stderr",
     "output_type": "stream",
     "text": [
      "82304it [02:37, 523.94it/s]\n"
     ]
    }
   ],
   "source": [
    "#mock circuit\n",
    "from neuro_dmt.models.bluebrain.circuit.mock.circuit import\\\n",
    "    MockCircuit\n",
    "from neuro_dmt.models.bluebrain.circuit.mock.test.mock_circuit_light import\\\n",
    "    circuit_composition,\\\n",
    "    circuit_connectivity\n",
    "\n",
    "bluepy_mock_circuit =\\\n",
    "    MockCircuit.build(\n",
    "        circuit_composition,\n",
    "        circuit_connectivity)\n",
    "mock_circuit_model =\\\n",
    "    BlueBrainCircuitModel(\n",
    "        bluepy_mock_circuit,\n",
    "        label=\"BlueBrainCircuitModelMockLight\")"
   ]
  },
  {
   "cell_type": "markdown",
   "metadata": {},
   "source": [
    "Let us set the circuit to work with:"
   ]
  },
  {
   "cell_type": "code",
   "execution_count": 5,
   "metadata": {
    "ExecuteTime": {
     "end_time": "2020-02-22T21:32:54.262424Z",
     "start_time": "2020-02-22T21:32:54.258401Z"
    }
   },
   "outputs": [],
   "source": [
    "circuit_model = mock_circuit_model"
   ]
  },
  {
   "cell_type": "code",
   "execution_count": 6,
   "metadata": {
    "ExecuteTime": {
     "end_time": "2020-02-22T21:32:56.621564Z",
     "start_time": "2020-02-22T21:32:55.289977Z"
    }
   },
   "outputs": [
    {
     "data": {
      "text/html": [
       "<div>\n",
       "<style scoped>\n",
       "    .dataframe tbody tr th:only-of-type {\n",
       "        vertical-align: middle;\n",
       "    }\n",
       "\n",
       "    .dataframe tbody tr th {\n",
       "        vertical-align: top;\n",
       "    }\n",
       "\n",
       "    .dataframe thead th {\n",
       "        text-align: right;\n",
       "    }\n",
       "</style>\n",
       "<table border=\"1\" class=\"dataframe\">\n",
       "  <thead>\n",
       "    <tr style=\"text-align: right;\">\n",
       "      <th></th>\n",
       "      <th></th>\n",
       "      <th>synapse_count</th>\n",
       "    </tr>\n",
       "    <tr>\n",
       "      <th>pre_gid</th>\n",
       "      <th>post_gid</th>\n",
       "      <th></th>\n",
       "    </tr>\n",
       "  </thead>\n",
       "  <tbody>\n",
       "    <tr>\n",
       "      <th>26</th>\n",
       "      <th>0</th>\n",
       "      <td>6.0</td>\n",
       "    </tr>\n",
       "    <tr>\n",
       "      <th>148</th>\n",
       "      <th>0</th>\n",
       "      <td>5.0</td>\n",
       "    </tr>\n",
       "    <tr>\n",
       "      <th>1988</th>\n",
       "      <th>0</th>\n",
       "      <td>4.0</td>\n",
       "    </tr>\n",
       "    <tr>\n",
       "      <th>2699</th>\n",
       "      <th>0</th>\n",
       "      <td>5.0</td>\n",
       "    </tr>\n",
       "    <tr>\n",
       "      <th>2709</th>\n",
       "      <th>0</th>\n",
       "      <td>4.0</td>\n",
       "    </tr>\n",
       "  </tbody>\n",
       "</table>\n",
       "</div>"
      ],
      "text/plain": [
       "                  synapse_count\n",
       "pre_gid post_gid               \n",
       "26      0                   6.0\n",
       "148     0                   5.0\n",
       "1988    0                   4.0\n",
       "2699    0                   5.0\n",
       "2709    0                   4.0"
      ]
     },
     "execution_count": 6,
     "metadata": {},
     "output_type": "execute_result"
    }
   ],
   "source": [
    "circuit_model.connectome.connections.set_index([\"pre_gid\", \"post_gid\"]).head()"
   ]
  },
  {
   "cell_type": "code",
   "execution_count": 8,
   "metadata": {
    "ExecuteTime": {
     "end_time": "2020-02-22T21:33:09.684566Z",
     "start_time": "2020-02-22T21:33:05.003300Z"
    }
   },
   "outputs": [
    {
     "name": "stdout",
     "output_type": "stream",
     "text": [
      "0 22452.0 4.0\n",
      "0 80038.0 1.0\n",
      "0 41892.0 3.0\n",
      "0 49008.0 4.0\n",
      "0 59416.0 4.0\n",
      "0 49047.0 4.0\n",
      "0 22366.0 4.0\n",
      "0 71101.0 5.0\n",
      "0 35970.0 6.0\n",
      "0 18694.0 3.0\n",
      "0 54595.0 8.0\n",
      "0 63124.0 4.0\n",
      "0 49441.0 3.0\n",
      "0 77142.0 7.0\n",
      "0 5972.0 7.0\n",
      "0 63030.0 5.0\n",
      "0 54357.0 5.0\n",
      "0 18919.0 4.0\n",
      "0 18925.0 5.0\n",
      "0 62900.0 4.0\n",
      "0 9572.0 9.0\n",
      "0 22197.0 3.0\n",
      "0 44295.0 8.0\n",
      "0 27573.0 6.0\n",
      "0 27620.0 5.0\n",
      "0 14710.0 6.0\n",
      "0 76092.0 3.0\n",
      "0 4999.0 8.0\n",
      "0 54790.0 3.0\n",
      "0 41878.0 3.0\n",
      "0 66927.0 4.0\n",
      "0 26719.0 6.0\n",
      "0 75972.0 2.0\n",
      "0 54948.0 4.0\n",
      "0 2093.0 5.0\n",
      "0 33012.0 4.0\n",
      "0 22562.0 7.0\n",
      "0 48737.0 5.0\n",
      "0 45657.0 5.0\n",
      "0 54914.0 2.0\n",
      "0 66982.0 4.0\n",
      "0 12526.0 6.0\n",
      "0 62738.0 6.0\n",
      "0 71233.0 3.0\n",
      "0 22464.0 8.0\n",
      "0 36621.0 3.0\n",
      "0 2185.0 2.0\n",
      "0 14903.0 2.0\n",
      "0 59336.0 3.0\n",
      "0 74433.0 6.0\n",
      "0 63470.0 6.0\n",
      "0 22386.0 4.0\n",
      "0 41863.0 7.0\n",
      "0 1311.0 3.0\n",
      "0 63427.0 5.0\n",
      "0 63423.0 5.0\n",
      "0 63601.0 5.0\n",
      "0 4938.0 5.0\n",
      "0 9145.0 2.0\n",
      "0 50217.0 4.0\n",
      "0 51012.0 4.0\n",
      "0 5563.0 6.0\n",
      "0 72993.0 2.0\n",
      "0 40375.0 3.0\n",
      "0 61490.0 7.0\n",
      "0 42248.0 6.0\n",
      "0 36755.0 4.0\n",
      "0 11914.0 4.0\n",
      "0 3084.0 3.0\n",
      "0 30395.0 1.0\n",
      "0 76655.0 7.0\n",
      "0 14192.0 6.0\n",
      "0 2840.0 6.0\n",
      "0 73009.0 2.0\n",
      "0 11602.0 3.0\n",
      "0 21134.0 7.0\n",
      "0 30176.0 10.0\n",
      "0 29558.0 4.0\n",
      "0 60731.0 3.0\n",
      "0 2914.0 4.0\n",
      "0 61038.0 9.0\n",
      "0 42460.0 5.0\n",
      "0 5424.0 6.0\n",
      "0 11710.0 6.0\n",
      "0 79229.0 5.0\n",
      "0 45126.0 7.0\n",
      "0 38809.0 5.0\n",
      "0 72982.0 3.0\n",
      "0 42197.0 5.0\n",
      "0 31264.0 4.0\n",
      "0 75031.0 5.0\n",
      "0 7749.0 7.0\n",
      "0 53825.0 5.0\n",
      "0 9135.0 9.0\n",
      "0 21871.0 2.0\n",
      "0 69733.0 5.0\n",
      "0 31068.0 2.0\n",
      "0 559.0 3.0\n",
      "0 27973.0 7.0\n",
      "0 30997.0 4.0\n",
      "0 70648.0 6.0\n",
      "0 50179.0 8.0\n",
      "0 30779.0 6.0\n",
      "0 74339.0 4.0\n",
      "0 19786.0 4.0\n",
      "0 15641.0 6.0\n",
      "0 67457.0 3.0\n",
      "0 53385.0 6.0\n",
      "0 61783.0 3.0\n",
      "0 20061.0 4.0\n",
      "0 50953.0 6.0\n",
      "0 21454.0 7.0\n",
      "0 39215.0 4.0\n",
      "0 28467.0 3.0\n",
      "0 50973.0 2.0\n",
      "0 53589.0 3.0\n",
      "0 22607.0 12.0\n",
      "0 72353.0 4.0\n",
      "0 25758.0 5.0\n",
      "0 65987.0 9.0\n",
      "0 35469.0 4.0\n",
      "0 16897.0 1.0\n",
      "0 80794.0 4.0\n",
      "0 24064.0 5.0\n",
      "0 15902.0 4.0\n",
      "0 6936.0 5.0\n",
      "0 58522.0 4.0\n",
      "0 10004.0 6.0\n",
      "0 17041.0 2.0\n",
      "0 15270.0 4.0\n",
      "0 81480.0 3.0\n",
      "0 56946.0 7.0\n",
      "0 71522.0 6.0\n",
      "0 73727.0 2.0\n",
      "0 64749.0 3.0\n",
      "0 43985.0 8.0\n",
      "0 43254.0 6.0\n",
      "0 6557.0 4.0\n",
      "0 13052.0 3.0\n",
      "0 10362.0 9.0\n",
      "0 34135.0 4.0\n",
      "0 12937.0 5.0\n",
      "0 43731.0 7.0\n",
      "0 16586.0 6.0\n",
      "0 81554.0 7.0\n",
      "0 58374.0 6.0\n",
      "0 25882.0 3.0\n",
      "0 16597.0 6.0\n",
      "0 57874.0 5.0\n",
      "0 55964.0 6.0\n",
      "0 25036.0 7.0\n",
      "0 34025.0 2.0\n",
      "0 68634.0 5.0\n",
      "0 65904.0 3.0\n",
      "0 15987.0 4.0\n",
      "0 78124.0 5.0\n",
      "0 26078.0 12.0\n",
      "0 33733.0 2.0\n",
      "0 57582.0 9.0\n",
      "0 13677.0 8.0\n",
      "0 43238.0 3.0\n",
      "0 55152.0 7.0\n",
      "0 41672.0 8.0\n",
      "0 80780.0 7.0\n",
      "0 46488.0 4.0\n",
      "0 46434.0 4.0\n",
      "0 4873.0 4.0\n",
      "0 7499.0 3.0\n",
      "0 81521.0 6.0\n",
      "0 3855.0 5.0\n",
      "0 78369.0 5.0\n",
      "0 59029.0 4.0\n",
      "0 59115.0 12.0\n",
      "0 74777.0 2.0\n",
      "0 74626.0 6.0\n",
      "0 80185.0 4.0\n",
      "0 58917.0 6.0\n",
      "0 43148.0 2.0\n",
      "0 16324.0 3.0\n",
      "0 24216.0 4.0\n",
      "0 38202.0 7.0\n",
      "0 71497.0 7.0\n",
      "0 24574.0 3.0\n",
      "0 8346.0 1.0\n",
      "0 57531.0 4.0\n",
      "0 78274.0 5.0\n",
      "0 64379.0 9.0\n",
      "0 64360.0 8.0\n",
      "0 17464.0 4.0\n"
     ]
    }
   ],
   "source": [
    "for x, y, z in circuit_model.connectome.iter_connections(pre=[0], return_synapse_count=True):\n",
    "    print(x, y, z)"
   ]
  },
  {
   "cell_type": "code",
   "execution_count": 9,
   "metadata": {
    "ExecuteTime": {
     "end_time": "2020-02-22T21:33:37.198605Z",
     "start_time": "2020-02-22T21:33:14.556995Z"
    }
   },
   "outputs": [
    {
     "data": {
      "text/plain": [
       "pre_gid  post_gid\n",
       "0        559         3.0\n",
       "         1311        3.0\n",
       "         2093        5.0\n",
       "         2185        2.0\n",
       "         2840        6.0\n",
       "Name: synapse_count, dtype: float64"
      ]
     },
     "execution_count": 9,
     "metadata": {},
     "output_type": "execute_result"
    }
   ],
   "source": [
    "circuit_model.connectome.synapse_counts.head()"
   ]
  },
  {
   "cell_type": "markdown",
   "metadata": {},
   "source": [
    "# Connectome Phenomena\n",
    "\n",
    "We will analyze the connectome of a brain circuit as a directed network.\n",
    "The nodes in this network, *i.e.* the cells in the circuit, have properties, \n",
    "and we must know the distribution of these nodes. Physical distributions (\n",
    "such as over $X, Y, Z$ coordinates, or by region and layer) will be studied as \n",
    "composition analyses. For connectome analyses we consider distribution of \n",
    "cell counts as a function of *mtype*. "
   ]
  },
  {
   "cell_type": "code",
   "execution_count": null,
   "metadata": {
    "ExecuteTime": {
     "end_time": "2020-02-21T20:54:23.594796Z",
     "start_time": "2020-02-21T20:54:23.573027Z"
    },
    "code_folding": [
     4,
     7,
     84
    ]
   },
   "outputs": [],
   "source": [
    "from abc import abstractmethod\n",
    "from dmt.tk.collections import get_list, take\n",
    "from dmt.tk.field import ABCWithFields, Field, lazyfield\n",
    "\n",
    "def head(xs):\n",
    "    return list(take(xs, 1))[0]\n",
    "        \n",
    "class StatisticalMeasurement(ABCWithFields):\n",
    "    \"\"\"\n",
    "    An abstract base class to make statistical measurements.\n",
    "    \"\"\"\n",
    "    value = Field(\n",
    "        \"\"\"\n",
    "        Measurement method for a single set of parameter-values.\n",
    "        \"\"\")\n",
    "    variable = Field(\n",
    "        \"\"\"\n",
    "        Name to give the measured phenomenon.\n",
    "        \"\"\")\n",
    "    sampling_methodology = Field(\n",
    "        \"\"\"\n",
    "        Random or exhaustive?\n",
    "        \"\"\",\n",
    "        __default_value__=terminology.sampling_methodology.random)\n",
    "    sample_size = Field(\n",
    "        \"\"\"\n",
    "        Number of indiciduals in a sample.\n",
    "        \"\"\",\n",
    "        __default_value__=20)\n",
    "    summaries = Field(\n",
    "        \"\"\"\n",
    "        Summaries required, if making a summary measurement.\n",
    "        \"\"\",\n",
    "        __default_value__=[\"size\", \"count\", \"sum\", \"mean\", \"std\"])\n",
    "    \n",
    "    @abstractmethod\n",
    "    def sample(self, *args, **kwargs):\n",
    "        \"\"\"\n",
    "        Measure a phenomenon (provided by value of `Field value`)\n",
    "        on a sample of parameter-sets...\n",
    "        \"\"\"\n",
    "        raise NotImplementedError\n",
    "        \n",
    "        \n",
    "    def sample_one(self, *args, **kwargs):\n",
    "        \"\"\"...\"\"\"\n",
    "        if self.sampling_methodology != terminology.sampling_methodology.random:\n",
    "            raise TypeError(\n",
    "                \"\"\"\n",
    "                A single size sample makes sense only when sampling randomly.\n",
    "                This instance of {} was set to\n",
    "                \\t `sampling_methodology {}`.\n",
    "                \"\"\".format(\n",
    "                    self.__class__.__name__,\n",
    "                    self.sampling_methodology))\n",
    "                \n",
    "        return head(self.sample(*args, **kwargs))\n",
    "    \n",
    "    def collect(self, *args, **kwargs):\n",
    "        \"\"\"...\"\"\"\n",
    "        sample =[\n",
    "            m for m in self.sample(*args, **kwargs)]\n",
    "        try:\n",
    "            return pd.concat(sample, axis=1)\n",
    "        except TypeError:\n",
    "            return pd.Series(sample, name=self.variable)\n",
    "        \n",
    "    @lazyfield\n",
    "    def aggregators(self):\n",
    "        listed_aggregators =\\\n",
    "            get_list(self.summaries)\n",
    "        return\\\n",
    "            listed_aggregators[0] if len(listed_aggregators) == 1\\\n",
    "                else listed_aggregators\n",
    "        \n",
    "    def summary(self, *args, **kwargs):\n",
    "        collection = self.collect(*args, **kwargs)\n",
    "        try:\n",
    "            return collection.agg(self.aggregators, axis=1)\n",
    "        except ValueError:\n",
    "            return collection.agg(self.aggregators)\n",
    "    \n",
    "    \n",
    "    \n",
    "class CellMeasurement(StatisticalMeasurement):\n",
    "    \"\"\"\n",
    "    ...\n",
    "    \"\"\"\n",
    "    \n",
    "    def _get_cells(self, cell_type, circuit_model, adapter):\n",
    "        \"\"\"...\"\"\"\n",
    "        all_cells =\\\n",
    "            adapter.get_cells(circuit_model, **cell_type)\n",
    "        sampling_random =\\\n",
    "            self.sampling_methodology == terminology.sampling_methodology.random\n",
    "        return\\\n",
    "            all_cells.sample(self.sample_size)\\\n",
    "            if sampling_random and self.sample_size < all_cells.shape[0]\\\n",
    "                else all_cells\n",
    "    \n",
    "        \n",
    "    def sample(self, circuit_model, adapter, cell_type, **kwargs):\n",
    "        \"\"\"...\"\"\"\n",
    "        try:\n",
    "            sampling_methodology = kwargs.pop(\"sampling_methodology\")\n",
    "        except KeyError:\n",
    "            sampling_methodology = None\n",
    "            \n",
    "        if (sampling_methodology and\n",
    "            sampling_methodolgy != self.sampling_methodology):\n",
    "            LOGGER.warn(\n",
    "                \"\"\"\n",
    "                Argument `sampling_methodology` will be dropped.\n",
    "                A sampling methodology of {} was defined for this instance\n",
    "                of {} computing phenomenon {}.\n",
    "                `.sample(...)` was called with sampling methodology {}.\n",
    "                \"\"\".format(\n",
    "                    self.sampling_methodology,\n",
    "                    self.__class__.__name__,\n",
    "                    self.method.__name__,\n",
    "                    sampling_methodology,))\n",
    "        cells =\\\n",
    "            self._get_cells(cell_type, circuit_model, adapter)\n",
    "        for _, cell in cells.iterrows():\n",
    "            try:\n",
    "                measured_value = self.value(cell)\n",
    "            except TypeError:\n",
    "                measured_value = cell[self.variable]\n",
    "            \n",
    "            yield measured_value\n"
   ]
  },
  {
   "cell_type": "code",
   "execution_count": null,
   "metadata": {
    "ExecuteTime": {
     "end_time": "2020-02-21T18:19:12.018060Z",
     "start_time": "2020-02-21T18:19:12.012411Z"
    },
    "code_folding": []
   },
   "outputs": [],
   "source": [
    "count_cells_mtype =\\\n",
    "    CellMeasurement(\n",
    "        value=lambda cell: 1.,\n",
    "        variable=\"count_cells\",\n",
    "        sampling_methodology=terminology.sampling_methodology.exhaustive,\n",
    "        summaries=\"sum\")"
   ]
  },
  {
   "cell_type": "code",
   "execution_count": null,
   "metadata": {
    "ExecuteTime": {
     "end_time": "2020-02-21T18:20:14.680834Z",
     "start_time": "2020-02-21T18:20:14.645918Z"
    }
   },
   "outputs": [],
   "source": [
    "adapter.get_cells(circuit_model).head()"
   ]
  },
  {
   "cell_type": "markdown",
   "metadata": {
    "heading_collapsed": true
   },
   "source": [
    "## Count of cells by mtype.\n",
    "\n",
    "Pathways mtype --> mtype are the most interesting. We can investigate the number\n",
    "of cells of a given mtype in a circuit."
   ]
  },
  {
   "cell_type": "code",
   "execution_count": null,
   "metadata": {
    "ExecuteTime": {
     "end_time": "2020-02-21T18:20:44.600072Z",
     "start_time": "2020-02-21T18:20:32.296386Z"
    },
    "code_folding": [
     0,
     6
    ],
    "hidden": true
   },
   "outputs": [],
   "source": [
    "phenomenon_count_cells_by_mtype =\\\n",
    "    Phenomenon(\n",
    "        \"Cell count\",\n",
    "        \"Number of cells.\",\n",
    "        group=\"Composition\")\n",
    "\n",
    "def get_cell_count(circuit, adapter,\n",
    "                   sampling_methodology=terminology.sampling_methodology.exhaustive,\n",
    "                   **query):\n",
    "    return adapter.get_cells(circuit, **query).shape[0]\n",
    "\n",
    "parameters_mtypes =\\\n",
    "    Parameters(\n",
    "        lambda adapter, circuit: (\n",
    "            {\"mtype\": mtype} for mtype in adapter.get_mtypes(circuit)),\n",
    "        size=1)\n",
    "    \n",
    "analysis_cell_count_mtype =\\\n",
    "    BrainCircuitAnalysis(\n",
    "        introduction=\"\"\"\n",
    "        Here we analyze distribution of cells by mtype in a brain circuit mode.\n",
    "        \"\"\",\n",
    "        methods=\"\"\"\n",
    "        Cells in a circuit were grouped by their mtype and counted.\n",
    "        \"\"\",\n",
    "        phenomenon=phenomenon_count_cells_by_mtype,\n",
    "        AdapterInterface=suite_connectome_analyses.AdapterInterface,\n",
    "        measurement_parameters=parameters_mtypes,\n",
    "        sample_measurement=get_cell_count,\n",
    "        plotter=Bars(\n",
    "            xvar=\"mtype\",\n",
    "            xlabel=\"mtype\",\n",
    "            yvar=\"cell_count\",\n",
    "            ylabel=\"Cell count\",\n",
    "            order=\"mtype\"))\n",
    "\n",
    "report_cell_count_mtype =\\\n",
    "    analysis_cell_count_mtype(circuit_model, adapter)"
   ]
  },
  {
   "cell_type": "markdown",
   "metadata": {},
   "source": [
    "## Afferent degree of cells, by mtype.\n",
    "\n",
    "We investigate total incoming connections (*i.e.* connections afferent on a cell)."
   ]
  },
  {
   "cell_type": "code",
   "execution_count": 10,
   "metadata": {
    "ExecuteTime": {
     "end_time": "2020-02-22T21:33:47.302201Z",
     "start_time": "2020-02-22T21:33:47.288380Z"
    }
   },
   "outputs": [],
   "source": [
    "from neuro_dmt.library.users.visood.sscx_dissemination.analyses.tools\\\n",
    "    import PathwayMeasurement\n",
    "\n",
    "measurement_afferent_degree =\\\n",
    "    PathwayMeasurement(\n",
    "        value=lambda connections: np.ones(connections.shape[0]),\n",
    "        variable=\"degree_afferent\",\n",
    "        specifiers_cell_type=[\"mtype\"],\n",
    "        direction=\"AFF\",\n",
    "        by_soma_distance=False,\n",
    "        sampling_methodology=terminology.sampling_methodology.random_one\n",
    "    )\n",
    "\n",
    "analysis_degree_afferent =\\\n",
    "    BrainCircuitAnalysis(\n",
    "        phenomenon=Phenomenon(\n",
    "            \"Afferent Degree\",\n",
    "            \"Number of incoming connections of a cell.\",\n",
    "            group=\"Connectome\"),\n",
    "        introduction=\"\"\"\n",
    "        Afferent degree of cells, grouped by their mtype.\n",
    "        \"\"\",\n",
    "        methods=\"\"\"\n",
    "        Afferent degree was measured for cells of a given mtype.\n",
    "        \"\"\",\n",
    "        measurement_parameters=Parameters(\n",
    "            lambda adapter, circuit: (\n",
    "                {\"post_synaptic_cell\": {\"mtype\": mtype}}\n",
    "                for mtype in adapter.get_mtypes(circuit)),\n",
    "                size=1),\n",
    "        sample_measurement=measurement_afferent_degree.sample_one,\n",
    "        plotter=Bars(\n",
    "            xvar=\"mtype\",\n",
    "            xlabel=\"mtype\",\n",
    "            yvar=\"afferent_degree\",\n",
    "            order=\"mtype\"))\n",
    "\n"
   ]
  },
  {
   "cell_type": "code",
   "execution_count": 11,
   "metadata": {
    "ExecuteTime": {
     "end_time": "2020-02-22T21:33:50.358111Z",
     "start_time": "2020-02-22T21:33:50.250639Z"
    }
   },
   "outputs": [
    {
     "name": "stdout",
     "output_type": "stream",
     "text": [
      "================================================================================\n",
      "\u001b[4m/home/muchu/work/bbp/work/validations/dmt/v2/neuro_dmt/library/users/visood/sscx_dissemination/analyses/tools/pathway_measurement.py Logger\u001b[0m\n",
      "\u001b[4mALERT@<2020-02-22 22:29:38>                                                     \u001b[0m\n",
      "Traceback:\n",
      "\tfilename: \t/home/muchu/work/bbp/work/validations/dmt/v2/neuro_dmt/library/users/visood/sscx_dissemination/analyses/tools/pathway_measurement.py\n",
      "\tlineno: \t76\n",
      "\tcode_context: \t['                LOGGER.get_source_info(),\\n']\n",
      "\tindex: 0\n",
      "\n",
      "\n",
      "                Requested number of cells to sample: 1 from a \n",
      "                `PathwayMeasurement` instance with sampling methodology random_one\n",
      "                \n",
      "================================================================================\n",
      "\n"
     ]
    },
    {
     "data": {
      "text/plain": [
       "etype                   bNAC\n",
       "layer                      6\n",
       "morph_class      not-defined\n",
       "mtype               L6_TPC:A\n",
       "nucleus          not-defined\n",
       "region                  S1Sh\n",
       "synapse_class            EXC\n",
       "x                    166.326\n",
       "y                    1657.06\n",
       "z                     145.55\n",
       "gid                    76413\n",
       "Name: 76413, dtype: object"
      ]
     },
     "execution_count": 11,
     "metadata": {},
     "output_type": "execute_result"
    }
   ],
   "source": [
    "measurement_afferent_degree._sample_cells(\n",
    "    circuit_model, adapter,\n",
    "    cell_type={\"mtype\": \"L6_TPC:A\"},\n",
    "    size=1)"
   ]
  },
  {
   "cell_type": "code",
   "execution_count": null,
   "metadata": {
    "ExecuteTime": {
     "end_time": "2020-02-21T21:30:34.427240Z",
     "start_time": "2020-02-21T21:03:09.864338Z"
    },
    "scrolled": true
   },
   "outputs": [],
   "source": [
    "measurement_afferent_degree.sample_one(\n",
    "    circuit_model, adapter,\n",
    "    post_synaptic_cell={\"mtype\": \"L6_TPC:A\"})"
   ]
  },
  {
   "cell_type": "code",
   "execution_count": 7,
   "metadata": {
    "ExecuteTime": {
     "end_time": "2020-02-22T20:06:16.205467Z",
     "start_time": "2020-02-22T20:06:16.199954Z"
    }
   },
   "outputs": [],
   "source": [
    "from neuro_dmt.models.bluebrain.circuit.mock.test.mock_circuit_light\\\n",
    "    import circuit_connectivity, circuit_composition\n",
    "from neuro_dmt.models.bluebrain.circuit.mock import CircuitBuilder\n",
    "\n",
    "builder = CircuitBuilder(\n",
    "    composition=circuit_composition,\n",
    "    connectivity=circuit_connectivity)"
   ]
  },
  {
   "cell_type": "code",
   "execution_count": 8,
   "metadata": {
    "ExecuteTime": {
     "end_time": "2020-02-22T20:06:41.518099Z",
     "start_time": "2020-02-22T20:06:18.632094Z"
    }
   },
   "outputs": [],
   "source": [
    "cell_collection = builder.get_cell_collection()"
   ]
  },
  {
   "cell_type": "code",
   "execution_count": 9,
   "metadata": {
    "ExecuteTime": {
     "end_time": "2020-02-22T20:06:41.622283Z",
     "start_time": "2020-02-22T20:06:41.582805Z"
    }
   },
   "outputs": [
    {
     "data": {
      "text/html": [
       "<div>\n",
       "<style scoped>\n",
       "    .dataframe tbody tr th:only-of-type {\n",
       "        vertical-align: middle;\n",
       "    }\n",
       "\n",
       "    .dataframe tbody tr th {\n",
       "        vertical-align: top;\n",
       "    }\n",
       "\n",
       "    .dataframe thead th {\n",
       "        text-align: right;\n",
       "    }\n",
       "</style>\n",
       "<table border=\"1\" class=\"dataframe\">\n",
       "  <thead>\n",
       "    <tr style=\"text-align: right;\">\n",
       "      <th></th>\n",
       "      <th>etype</th>\n",
       "      <th>layer</th>\n",
       "      <th>morph_class</th>\n",
       "      <th>mtype</th>\n",
       "      <th>nucleus</th>\n",
       "      <th>region</th>\n",
       "      <th>synapse_class</th>\n",
       "      <th>x</th>\n",
       "      <th>y</th>\n",
       "      <th>z</th>\n",
       "    </tr>\n",
       "  </thead>\n",
       "  <tbody>\n",
       "    <tr>\n",
       "      <th>280</th>\n",
       "      <td>bNAC</td>\n",
       "      <td>2</td>\n",
       "      <td>not-defined</td>\n",
       "      <td>L23_MC</td>\n",
       "      <td>not-defined</td>\n",
       "      <td>S1HL</td>\n",
       "      <td>INH</td>\n",
       "      <td>68.669523</td>\n",
       "      <td>231.942590</td>\n",
       "      <td>223.013476</td>\n",
       "    </tr>\n",
       "    <tr>\n",
       "      <th>281</th>\n",
       "      <td>bNAC</td>\n",
       "      <td>2</td>\n",
       "      <td>not-defined</td>\n",
       "      <td>L23_MC</td>\n",
       "      <td>not-defined</td>\n",
       "      <td>S1HL</td>\n",
       "      <td>INH</td>\n",
       "      <td>94.448593</td>\n",
       "      <td>223.118553</td>\n",
       "      <td>87.528376</td>\n",
       "    </tr>\n",
       "    <tr>\n",
       "      <th>282</th>\n",
       "      <td>bNAC</td>\n",
       "      <td>2</td>\n",
       "      <td>not-defined</td>\n",
       "      <td>L23_MC</td>\n",
       "      <td>not-defined</td>\n",
       "      <td>S1HL</td>\n",
       "      <td>INH</td>\n",
       "      <td>82.204556</td>\n",
       "      <td>150.611815</td>\n",
       "      <td>222.974908</td>\n",
       "    </tr>\n",
       "    <tr>\n",
       "      <th>283</th>\n",
       "      <td>bNAC</td>\n",
       "      <td>2</td>\n",
       "      <td>not-defined</td>\n",
       "      <td>L23_MC</td>\n",
       "      <td>not-defined</td>\n",
       "      <td>S1HL</td>\n",
       "      <td>INH</td>\n",
       "      <td>222.580356</td>\n",
       "      <td>197.987899</td>\n",
       "      <td>167.280816</td>\n",
       "    </tr>\n",
       "    <tr>\n",
       "      <th>284</th>\n",
       "      <td>bNAC</td>\n",
       "      <td>2</td>\n",
       "      <td>not-defined</td>\n",
       "      <td>L23_MC</td>\n",
       "      <td>not-defined</td>\n",
       "      <td>S1HL</td>\n",
       "      <td>INH</td>\n",
       "      <td>160.206222</td>\n",
       "      <td>136.264133</td>\n",
       "      <td>42.629682</td>\n",
       "    </tr>\n",
       "  </tbody>\n",
       "</table>\n",
       "</div>"
      ],
      "text/plain": [
       "    etype  layer  morph_class   mtype      nucleus region synapse_class  \\\n",
       "280  bNAC      2  not-defined  L23_MC  not-defined   S1HL           INH   \n",
       "281  bNAC      2  not-defined  L23_MC  not-defined   S1HL           INH   \n",
       "282  bNAC      2  not-defined  L23_MC  not-defined   S1HL           INH   \n",
       "283  bNAC      2  not-defined  L23_MC  not-defined   S1HL           INH   \n",
       "284  bNAC      2  not-defined  L23_MC  not-defined   S1HL           INH   \n",
       "\n",
       "              x           y           z  \n",
       "280   68.669523  231.942590  223.013476  \n",
       "281   94.448593  223.118553   87.528376  \n",
       "282   82.204556  150.611815  222.974908  \n",
       "283  222.580356  197.987899  167.280816  \n",
       "284  160.206222  136.264133   42.629682  "
      ]
     },
     "execution_count": 9,
     "metadata": {},
     "output_type": "execute_result"
    }
   ],
   "source": [
    "cells = cell_collection.get()\n",
    "cells.mtype.unique()\n",
    "l23_mcs = cells[cells.mtype == \"L23_MC\"]\n",
    "l23_mcs.head()"
   ]
  },
  {
   "cell_type": "code",
   "execution_count": null,
   "metadata": {
    "ExecuteTime": {
     "end_time": "2020-02-22T10:04:07.084407Z",
     "start_time": "2020-02-22T10:03:22.130422Z"
    }
   },
   "outputs": [],
   "source": [
    "def _synapse_count(pre_synaptic_cell, post_synaptic_cell):\n",
    "    return 1. + np.random.poisson(\n",
    "        circuit_connectivity.synapse_count_pathway[\n",
    "            pre_synaptic_cell.mtype][\n",
    "                post_synaptic_cell.mtype])\n",
    "    \n",
    "def get_afferent_connections(\n",
    "        post_synaptic_cell, post_gid,\n",
    "        cells):\n",
    "    \"\"\"...\n",
    "    \"\"\"\n",
    "    return np.array([\n",
    "        [pre_gid, post_gid, \n",
    "         _synapse_count(cells.iloc[pre_gid], post_synaptic_cell)]\n",
    "        for pre_gid in circuit_connectivity.get_afferent_gids(post_synaptic_cell, cells)])\n",
    "             \n",
    "\n",
    "\n",
    "afferent_connections =\\\n",
    "    np.concatenate(\n",
    "        [get_afferent_connections(cell, gid, cells)\n",
    "         for gid, cell in cells.sample(1000).iterrows()],\n",
    "    axis=0)"
   ]
  },
  {
   "cell_type": "code",
   "execution_count": null,
   "metadata": {
    "ExecuteTime": {
     "end_time": "2020-02-22T10:12:14.137454Z",
     "start_time": "2020-02-22T10:12:14.127133Z"
    }
   },
   "outputs": [],
   "source": [
    "l23_mcs.sample(1).index"
   ]
  },
  {
   "cell_type": "code",
   "execution_count": 14,
   "metadata": {
    "ExecuteTime": {
     "end_time": "2020-02-22T20:17:23.358294Z",
     "start_time": "2020-02-22T20:15:47.178701Z"
    }
   },
   "outputs": [],
   "source": [
    "afferent_connections =\\\n",
    "    pd.concat([\n",
    "        pd.DataFrame({\n",
    "            \"pre_gid\": np.random.choice(cells.index.values, np.random.poisson(200))})\\\n",
    "          .assign(post_gid=post_gid)\n",
    "        for post_gid, _ in cells.iterrows()])\\\n",
    "      .assign(\n",
    "        strength=lambda cnxns:1. + np.random.poisson(4, size=cnxns.shape[0]))"
   ]
  },
  {
   "cell_type": "code",
   "execution_count": null,
   "metadata": {
    "ExecuteTime": {
     "end_time": "2020-02-22T10:38:09.211968Z",
     "start_time": "2020-02-22T10:38:09.197895Z"
    }
   },
   "outputs": [],
   "source": [
    "print(afferent_connections.shape)\n",
    "afferent_connections.head()"
   ]
  },
  {
   "cell_type": "code",
   "execution_count": null,
   "metadata": {
    "ExecuteTime": {
     "end_time": "2020-02-22T10:29:25.106327Z",
     "start_time": "2020-02-22T10:25:53.150757Z"
    }
   },
   "outputs": [],
   "source": [
    "afferent_connections =\\\n",
    "    pd.concat([\n",
    "        pd.DataFrame({\n",
    "            \"pre_gid\": circuit_connectivity.get_afferent_gids(post_cell, cells)})\\\n",
    "          .assign(post_gid=post_gid)\n",
    "        for post_gid, post_cell in cells.iterrows()])"
   ]
  },
  {
   "cell_type": "code",
   "execution_count": null,
   "metadata": {
    "ExecuteTime": {
     "end_time": "2020-02-22T10:51:07.627488Z",
     "start_time": "2020-02-22T10:51:07.619723Z"
    }
   },
   "outputs": [],
   "source": [
    "np.unique([121212,1,1,1,122,122,12])"
   ]
  },
  {
   "cell_type": "code",
   "execution_count": null,
   "metadata": {
    "ExecuteTime": {
     "end_time": "2020-02-22T10:32:42.026212Z",
     "start_time": "2020-02-22T10:32:40.401313Z"
    }
   },
   "outputs": [],
   "source": [
    "afferent_connections =\\\n",
    "    afferent_connections.assign(\n",
    "        strength=lambda cnxns: 1. + np.random.poisson(4, size=cnxns.shape[0]) )"
   ]
  },
  {
   "cell_type": "code",
   "execution_count": 10,
   "metadata": {
    "ExecuteTime": {
     "end_time": "2020-02-22T20:07:56.414386Z",
     "start_time": "2020-02-22T20:07:56.328128Z"
    }
   },
   "outputs": [],
   "source": [
    "sample_post_cell = cells.sample(1)\n",
    "post_gid = sample_post_cell.index[0]\n",
    "post_cell = sample_post_cell.iloc[0]\n",
    "afferent_connections =\\\n",
    "    circuit_connectivity.get_afferent_connections(\n",
    "        post_gid, post_cell,\n",
    "        cells)"
   ]
  },
  {
   "cell_type": "code",
   "execution_count": 13,
   "metadata": {
    "ExecuteTime": {
     "end_time": "2020-02-22T20:15:43.170171Z",
     "start_time": "2020-02-22T20:09:12.632999Z"
    }
   },
   "outputs": [
    {
     "ename": "KeyboardInterrupt",
     "evalue": "",
     "output_type": "error",
     "traceback": [
      "\u001b[0;31m---------------------------------------------------------------------------\u001b[0m",
      "\u001b[0;31mKeyboardInterrupt\u001b[0m                         Traceback (most recent call last)",
      "\u001b[0;32m<ipython-input-13-7522f128b9d7>\u001b[0m in \u001b[0;36m<module>\u001b[0;34m\u001b[0m\n\u001b[1;32m      2\u001b[0m     np.concatenate([\n\u001b[1;32m      3\u001b[0m         \u001b[0mcircuit_connectivity\u001b[0m\u001b[0;34m.\u001b[0m\u001b[0mget_afferent_connections\u001b[0m\u001b[0;34m(\u001b[0m\u001b[0mpost_gid\u001b[0m\u001b[0;34m,\u001b[0m \u001b[0mpost_cell\u001b[0m\u001b[0;34m,\u001b[0m \u001b[0mcells\u001b[0m\u001b[0;34m)\u001b[0m\u001b[0;34m\u001b[0m\u001b[0;34m\u001b[0m\u001b[0m\n\u001b[0;32m----> 4\u001b[0;31m         for post_gid, post_cell in cells.iterrows()])\n\u001b[0m",
      "\u001b[0;32m<ipython-input-13-7522f128b9d7>\u001b[0m in \u001b[0;36m<listcomp>\u001b[0;34m(.0)\u001b[0m\n\u001b[1;32m      2\u001b[0m     np.concatenate([\n\u001b[1;32m      3\u001b[0m         \u001b[0mcircuit_connectivity\u001b[0m\u001b[0;34m.\u001b[0m\u001b[0mget_afferent_connections\u001b[0m\u001b[0;34m(\u001b[0m\u001b[0mpost_gid\u001b[0m\u001b[0;34m,\u001b[0m \u001b[0mpost_cell\u001b[0m\u001b[0;34m,\u001b[0m \u001b[0mcells\u001b[0m\u001b[0;34m)\u001b[0m\u001b[0;34m\u001b[0m\u001b[0;34m\u001b[0m\u001b[0m\n\u001b[0;32m----> 4\u001b[0;31m         for post_gid, post_cell in cells.iterrows()])\n\u001b[0m",
      "\u001b[0;32m~/work/bbp/work/validations/dmt/v2/neuro_dmt/models/bluebrain/circuit/mock/connectivity.py\u001b[0m in \u001b[0;36mget_afferent_connections\u001b[0;34m(self, post_gid, post_cell, cells)\u001b[0m\n\u001b[1;32m    138\u001b[0m             [pre_gid, post_gid,\n\u001b[1;32m    139\u001b[0m              self._synapse_count(cells.iloc[pre_gid], post_cell)]\n\u001b[0;32m--> 140\u001b[0;31m             for pre_gid in self.get_afferent_gids(post_cell, cells)])\n\u001b[0m\u001b[1;32m    141\u001b[0m \u001b[0;34m\u001b[0m\u001b[0m\n\u001b[1;32m    142\u001b[0m \u001b[0;34m\u001b[0m\u001b[0m\n",
      "\u001b[0;32m~/work/bbp/work/validations/dmt/v2/neuro_dmt/models/bluebrain/circuit/mock/connectivity.py\u001b[0m in \u001b[0;36m<listcomp>\u001b[0;34m(.0)\u001b[0m\n\u001b[1;32m    138\u001b[0m             [pre_gid, post_gid,\n\u001b[1;32m    139\u001b[0m              self._synapse_count(cells.iloc[pre_gid], post_cell)]\n\u001b[0;32m--> 140\u001b[0;31m             for pre_gid in self.get_afferent_gids(post_cell, cells)])\n\u001b[0m\u001b[1;32m    141\u001b[0m \u001b[0;34m\u001b[0m\u001b[0m\n\u001b[1;32m    142\u001b[0m \u001b[0;34m\u001b[0m\u001b[0m\n",
      "\u001b[0;32m~/work/bbp/work/validations/dmt/v2/neuro_dmt/models/bluebrain/circuit/mock/connectivity.py\u001b[0m in \u001b[0;36m_synapse_count\u001b[0;34m(self, pre_synaptic_cell, post_synaptic_cell)\u001b[0m\n\u001b[1;32m     69\u001b[0m         return 1. + np.random.poisson(\n\u001b[1;32m     70\u001b[0m             self.synapse_count_pathway[\n\u001b[0;32m---> 71\u001b[0;31m                 \u001b[0mpre_synaptic_cell\u001b[0m\u001b[0;34m.\u001b[0m\u001b[0mmtype\u001b[0m\u001b[0;34m]\u001b[0m\u001b[0;34m[\u001b[0m\u001b[0;34m\u001b[0m\u001b[0;34m\u001b[0m\u001b[0m\n\u001b[0m\u001b[1;32m     72\u001b[0m                     post_synaptic_cell.mtype])\n\u001b[1;32m     73\u001b[0m \u001b[0;34m\u001b[0m\u001b[0m\n",
      "\u001b[0;32m~/.vmgr_repo/py36/lib/python3.6/site-packages/pandas/core/generic.py\u001b[0m in \u001b[0;36m__getattr__\u001b[0;34m(self, name)\u001b[0m\n\u001b[1;32m   5064\u001b[0m         \u001b[0;32melse\u001b[0m\u001b[0;34m:\u001b[0m\u001b[0;34m\u001b[0m\u001b[0;34m\u001b[0m\u001b[0m\n\u001b[1;32m   5065\u001b[0m             \u001b[0;32mif\u001b[0m \u001b[0mself\u001b[0m\u001b[0;34m.\u001b[0m\u001b[0m_info_axis\u001b[0m\u001b[0;34m.\u001b[0m\u001b[0m_can_hold_identifiers_and_holds_name\u001b[0m\u001b[0;34m(\u001b[0m\u001b[0mname\u001b[0m\u001b[0;34m)\u001b[0m\u001b[0;34m:\u001b[0m\u001b[0;34m\u001b[0m\u001b[0;34m\u001b[0m\u001b[0m\n\u001b[0;32m-> 5066\u001b[0;31m                 \u001b[0;32mreturn\u001b[0m \u001b[0mself\u001b[0m\u001b[0;34m[\u001b[0m\u001b[0mname\u001b[0m\u001b[0;34m]\u001b[0m\u001b[0;34m\u001b[0m\u001b[0;34m\u001b[0m\u001b[0m\n\u001b[0m\u001b[1;32m   5067\u001b[0m             \u001b[0;32mreturn\u001b[0m \u001b[0mobject\u001b[0m\u001b[0;34m.\u001b[0m\u001b[0m__getattribute__\u001b[0m\u001b[0;34m(\u001b[0m\u001b[0mself\u001b[0m\u001b[0;34m,\u001b[0m \u001b[0mname\u001b[0m\u001b[0;34m)\u001b[0m\u001b[0;34m\u001b[0m\u001b[0;34m\u001b[0m\u001b[0m\n\u001b[1;32m   5068\u001b[0m \u001b[0;34m\u001b[0m\u001b[0m\n",
      "\u001b[0;32m~/.vmgr_repo/py36/lib/python3.6/site-packages/pandas/core/series.py\u001b[0m in \u001b[0;36m__getitem__\u001b[0;34m(self, key)\u001b[0m\n\u001b[1;32m    866\u001b[0m         \u001b[0mkey\u001b[0m \u001b[0;34m=\u001b[0m \u001b[0mcom\u001b[0m\u001b[0;34m.\u001b[0m\u001b[0mapply_if_callable\u001b[0m\u001b[0;34m(\u001b[0m\u001b[0mkey\u001b[0m\u001b[0;34m,\u001b[0m \u001b[0mself\u001b[0m\u001b[0;34m)\u001b[0m\u001b[0;34m\u001b[0m\u001b[0;34m\u001b[0m\u001b[0m\n\u001b[1;32m    867\u001b[0m         \u001b[0;32mtry\u001b[0m\u001b[0;34m:\u001b[0m\u001b[0;34m\u001b[0m\u001b[0;34m\u001b[0m\u001b[0m\n\u001b[0;32m--> 868\u001b[0;31m             \u001b[0mresult\u001b[0m \u001b[0;34m=\u001b[0m \u001b[0mself\u001b[0m\u001b[0;34m.\u001b[0m\u001b[0mindex\u001b[0m\u001b[0;34m.\u001b[0m\u001b[0mget_value\u001b[0m\u001b[0;34m(\u001b[0m\u001b[0mself\u001b[0m\u001b[0;34m,\u001b[0m \u001b[0mkey\u001b[0m\u001b[0;34m)\u001b[0m\u001b[0;34m\u001b[0m\u001b[0;34m\u001b[0m\u001b[0m\n\u001b[0m\u001b[1;32m    869\u001b[0m \u001b[0;34m\u001b[0m\u001b[0m\n\u001b[1;32m    870\u001b[0m             \u001b[0;32mif\u001b[0m \u001b[0;32mnot\u001b[0m \u001b[0mis_scalar\u001b[0m\u001b[0;34m(\u001b[0m\u001b[0mresult\u001b[0m\u001b[0;34m)\u001b[0m\u001b[0;34m:\u001b[0m\u001b[0;34m\u001b[0m\u001b[0;34m\u001b[0m\u001b[0m\n",
      "\u001b[0;32m~/.vmgr_repo/py36/lib/python3.6/site-packages/pandas/core/indexes/base.py\u001b[0m in \u001b[0;36mget_value\u001b[0;34m(self, series, key)\u001b[0m\n\u001b[1;32m   4348\u001b[0m         \u001b[0;31m# use this, e.g. DatetimeIndex\u001b[0m\u001b[0;34m\u001b[0m\u001b[0;34m\u001b[0m\u001b[0;34m\u001b[0m\u001b[0m\n\u001b[1;32m   4349\u001b[0m         \u001b[0;31m# Things like `Series._get_value` (via .at) pass the EA directly here.\u001b[0m\u001b[0;34m\u001b[0m\u001b[0;34m\u001b[0m\u001b[0;34m\u001b[0m\u001b[0m\n\u001b[0;32m-> 4350\u001b[0;31m         \u001b[0ms\u001b[0m \u001b[0;34m=\u001b[0m \u001b[0mgetattr\u001b[0m\u001b[0;34m(\u001b[0m\u001b[0mseries\u001b[0m\u001b[0;34m,\u001b[0m \u001b[0;34m'_values'\u001b[0m\u001b[0;34m,\u001b[0m \u001b[0mseries\u001b[0m\u001b[0;34m)\u001b[0m\u001b[0;34m\u001b[0m\u001b[0;34m\u001b[0m\u001b[0m\n\u001b[0m\u001b[1;32m   4351\u001b[0m         \u001b[0;32mif\u001b[0m \u001b[0misinstance\u001b[0m\u001b[0;34m(\u001b[0m\u001b[0ms\u001b[0m\u001b[0;34m,\u001b[0m \u001b[0;34m(\u001b[0m\u001b[0mExtensionArray\u001b[0m\u001b[0;34m,\u001b[0m \u001b[0mIndex\u001b[0m\u001b[0;34m)\u001b[0m\u001b[0;34m)\u001b[0m \u001b[0;32mand\u001b[0m \u001b[0mis_scalar\u001b[0m\u001b[0;34m(\u001b[0m\u001b[0mkey\u001b[0m\u001b[0;34m)\u001b[0m\u001b[0;34m:\u001b[0m\u001b[0;34m\u001b[0m\u001b[0;34m\u001b[0m\u001b[0m\n\u001b[1;32m   4352\u001b[0m             \u001b[0;31m# GH 20882, 21257\u001b[0m\u001b[0;34m\u001b[0m\u001b[0;34m\u001b[0m\u001b[0;34m\u001b[0m\u001b[0m\n",
      "\u001b[0;32m~/.vmgr_repo/py36/lib/python3.6/site-packages/pandas/core/series.py\u001b[0m in \u001b[0;36m_values\u001b[0;34m(self)\u001b[0m\n\u001b[1;32m    479\u001b[0m         \u001b[0mReturn\u001b[0m \u001b[0mthe\u001b[0m \u001b[0minternal\u001b[0m \u001b[0mrepr\u001b[0m \u001b[0mof\u001b[0m \u001b[0mthis\u001b[0m \u001b[0mdata\u001b[0m\u001b[0;34m.\u001b[0m\u001b[0;34m\u001b[0m\u001b[0;34m\u001b[0m\u001b[0m\n\u001b[1;32m    480\u001b[0m         \"\"\"\n\u001b[0;32m--> 481\u001b[0;31m         \u001b[0;32mreturn\u001b[0m \u001b[0mself\u001b[0m\u001b[0;34m.\u001b[0m\u001b[0m_data\u001b[0m\u001b[0;34m.\u001b[0m\u001b[0minternal_values\u001b[0m\u001b[0;34m(\u001b[0m\u001b[0;34m)\u001b[0m\u001b[0;34m\u001b[0m\u001b[0;34m\u001b[0m\u001b[0m\n\u001b[0m\u001b[1;32m    482\u001b[0m \u001b[0;34m\u001b[0m\u001b[0m\n\u001b[1;32m    483\u001b[0m     \u001b[0;32mdef\u001b[0m \u001b[0m_formatting_values\u001b[0m\u001b[0;34m(\u001b[0m\u001b[0mself\u001b[0m\u001b[0;34m)\u001b[0m\u001b[0;34m:\u001b[0m\u001b[0;34m\u001b[0m\u001b[0;34m\u001b[0m\u001b[0m\n",
      "\u001b[0;32m~/.vmgr_repo/py36/lib/python3.6/site-packages/pandas/core/internals/managers.py\u001b[0m in \u001b[0;36minternal_values\u001b[0;34m(self)\u001b[0m\n\u001b[1;32m   1548\u001b[0m \u001b[0;34m\u001b[0m\u001b[0m\n\u001b[1;32m   1549\u001b[0m     \u001b[0;32mdef\u001b[0m \u001b[0minternal_values\u001b[0m\u001b[0;34m(\u001b[0m\u001b[0mself\u001b[0m\u001b[0;34m)\u001b[0m\u001b[0;34m:\u001b[0m\u001b[0;34m\u001b[0m\u001b[0;34m\u001b[0m\u001b[0m\n\u001b[0;32m-> 1550\u001b[0;31m         \u001b[0;32mreturn\u001b[0m \u001b[0mself\u001b[0m\u001b[0;34m.\u001b[0m\u001b[0m_block\u001b[0m\u001b[0;34m.\u001b[0m\u001b[0minternal_values\u001b[0m\u001b[0;34m(\u001b[0m\u001b[0;34m)\u001b[0m\u001b[0;34m\u001b[0m\u001b[0;34m\u001b[0m\u001b[0m\n\u001b[0m\u001b[1;32m   1551\u001b[0m \u001b[0;34m\u001b[0m\u001b[0m\n\u001b[1;32m   1552\u001b[0m     \u001b[0;32mdef\u001b[0m \u001b[0mformatting_values\u001b[0m\u001b[0;34m(\u001b[0m\u001b[0mself\u001b[0m\u001b[0;34m)\u001b[0m\u001b[0;34m:\u001b[0m\u001b[0;34m\u001b[0m\u001b[0;34m\u001b[0m\u001b[0m\n",
      "\u001b[0;32m~/.vmgr_repo/py36/lib/python3.6/site-packages/pandas/core/internals/managers.py\u001b[0m in \u001b[0;36m_block\u001b[0;34m(self)\u001b[0m\n\u001b[1;32m   1488\u001b[0m     \u001b[0;34m@\u001b[0m\u001b[0mproperty\u001b[0m\u001b[0;34m\u001b[0m\u001b[0;34m\u001b[0m\u001b[0m\n\u001b[1;32m   1489\u001b[0m     \u001b[0;32mdef\u001b[0m \u001b[0m_block\u001b[0m\u001b[0;34m(\u001b[0m\u001b[0mself\u001b[0m\u001b[0;34m)\u001b[0m\u001b[0;34m:\u001b[0m\u001b[0;34m\u001b[0m\u001b[0;34m\u001b[0m\u001b[0m\n\u001b[0;32m-> 1490\u001b[0;31m         \u001b[0;32mreturn\u001b[0m \u001b[0mself\u001b[0m\u001b[0;34m.\u001b[0m\u001b[0mblocks\u001b[0m\u001b[0;34m[\u001b[0m\u001b[0;36m0\u001b[0m\u001b[0;34m]\u001b[0m\u001b[0;34m\u001b[0m\u001b[0;34m\u001b[0m\u001b[0m\n\u001b[0m\u001b[1;32m   1491\u001b[0m \u001b[0;34m\u001b[0m\u001b[0m\n\u001b[1;32m   1492\u001b[0m     \u001b[0;34m@\u001b[0m\u001b[0mproperty\u001b[0m\u001b[0;34m\u001b[0m\u001b[0;34m\u001b[0m\u001b[0m\n",
      "\u001b[0;31mKeyboardInterrupt\u001b[0m: "
     ]
    }
   ],
   "source": [
    "afferent_connections =\\\n",
    "    np.concatenate([\n",
    "        circuit_connectivity.get_afferent_connections(post_gid, post_cell, cells)\n",
    "        for post_gid, post_cell in cells.iterrows()])"
   ]
  },
  {
   "cell_type": "code",
   "execution_count": null,
   "metadata": {
    "ExecuteTime": {
     "end_time": "2020-02-22T10:22:27.706783Z",
     "start_time": "2020-02-22T10:22:27.688004Z"
    }
   },
   "outputs": [],
   "source": [
    "post_synaptic_cell = l23_mcs.sample(1)\n",
    "afferent_connections =\\\n",
    "    pd.DataFrame({\n",
    "        \"pre_gid\": circuit_connectivity.get_afferent_gids(\n",
    "            post_synaptic_cell.iloc[0],\n",
    "            cells)})\\\n",
    "      .assign(post_gid=post_synaptic_cell.index[0])\n",
    "        \n",
    "afferent_connections.head().assign(\n",
    "    strength=lambda cnxns: 1. + np.random.poisson(4, size=cnxns.shape[0]) )"
   ]
  },
  {
   "cell_type": "code",
   "execution_count": null,
   "metadata": {
    "ExecuteTime": {
     "end_time": "2020-02-22T10:20:31.096089Z",
     "start_time": "2020-02-22T10:20:31.058510Z"
    }
   },
   "outputs": [],
   "source": [
    "{d: len(v) for d, v in circuit_connectivity.synapse_count_pathway.items()}\n",
    "scp =\\\n",
    "    pd.concat([\n",
    "        pd.DataFrame([\n",
    "            {\"pre_mtype\": pre_mtype,\n",
    "             \"post_mtype\": post_mtype,\n",
    "             \"strength\": strength}\n",
    "            for post_mtype, strength in efferent.items()])\n",
    "        for pre_mtype, efferent in circuit_connectivity.synapse_count_pathway.items()])\n",
    "print(scp.shape)\n",
    "scp.head()"
   ]
  },
  {
   "cell_type": "code",
   "execution_count": null,
   "metadata": {},
   "outputs": [],
   "source": [
    "report_degree_afferent =\\\n",
    "    analysis_degree_afferent(circuit_model, adapter)"
   ]
  },
  {
   "cell_type": "code",
   "execution_count": null,
   "metadata": {},
   "outputs": [],
   "source": [
    "from neuro_dmt.library.users.visood.sscx_dissemination.analyses.tools\\\n",
    "    import PathwayMeasurement\n",
    "\n",
    "measurement_efferent_degree =\\\n",
    "    PathwayMeasurement(\n",
    "        value=lambda connection: np.ones(connections.shape[0]),\n",
    "        variable=\"degree_efferent\",\n",
    "        direction=\"EFF\",\n",
    "        by_soma_distance=False,\n",
    "        sampling_methodology=terminology.sampling_methodology.random\n",
    "    ).sample_one\n",
    "\n",
    "analysis_degree_afferent =\\\n",
    "    BrainCircuitAnalysis(\n",
    "        phenomenon=Phenomenon(\n",
    "            \"Efferent Degree\",\n",
    "            \"Number of outgoing connections of a cell.\",\n",
    "            group=\"Connectome\"),\n",
    "        introduction=\"\"\"\n",
    "        Efferent degree of cells, grouped by their mtype.\n",
    "        \"\"\",\n",
    "        methods=\"\"\"\n",
    "        Efferent degree was measured for cells of a given mtype.\n",
    "        \"\"\",\n",
    "        measurement_parameters=Parameters(\n",
    "            lambda adapter, circuit: (\n",
    "                {\"pre_synaptic_cell\": {\"mtype\": mtype}}\n",
    "                for mtype in adapter.get_mtypes(circuit)),\n",
    "                size=1),\n",
    "        sample_measurement=measurement_afferent_degree,\n",
    "        plotter=Bars(\n",
    "            xvar=(\"pre_synaptic_cell\", \"mtype\"),\n",
    "            xlabel=\"mtype\",\n",
    "            yvar=\"efferent_degree\",\n",
    "            order=(\"pre_synaptic_cell\", \"mtype\")))\n",
    "\n",
    "report_degree_efferent =\\\n",
    "    analysis_degree_efferent(circuit_bio_m, adapter)"
   ]
  }
 ],
 "metadata": {
  "kernelspec": {
   "display_name": "Python 3",
   "language": "python",
   "name": "python3"
  },
  "language_info": {
   "codemirror_mode": {
    "name": "ipython",
    "version": 3
   },
   "file_extension": ".py",
   "mimetype": "text/x-python",
   "name": "python",
   "nbconvert_exporter": "python",
   "pygments_lexer": "ipython3",
   "version": "3.6.9"
  },
  "latex_envs": {
   "LaTeX_envs_menu_present": true,
   "autoclose": false,
   "autocomplete": true,
   "bibliofile": "biblio.bib",
   "cite_by": "apalike",
   "current_citInitial": 1,
   "eqLabelWithNumbers": true,
   "eqNumInitial": 1,
   "hotkeys": {
    "equation": "Ctrl-E",
    "itemize": "Ctrl-I"
   },
   "labels_anchors": false,
   "latex_user_defs": false,
   "report_style_numbering": false,
   "user_envs_cfg": false
  },
  "toc": {
   "base_numbering": 1,
   "nav_menu": {},
   "number_sections": true,
   "sideBar": true,
   "skip_h1_title": false,
   "title_cell": "Table of Contents",
   "title_sidebar": "Contents",
   "toc_cell": false,
   "toc_position": {},
   "toc_section_display": true,
   "toc_window_display": false
  },
  "varInspector": {
   "cols": {
    "lenName": 16,
    "lenType": 16,
    "lenVar": 40
   },
   "kernels_config": {
    "python": {
     "delete_cmd_postfix": "",
     "delete_cmd_prefix": "del ",
     "library": "var_list.py",
     "varRefreshCmd": "print(var_dic_list())"
    },
    "r": {
     "delete_cmd_postfix": ") ",
     "delete_cmd_prefix": "rm(",
     "library": "var_list.r",
     "varRefreshCmd": "cat(var_dic_list()) "
    }
   },
   "types_to_exclude": [
    "module",
    "function",
    "builtin_function_or_method",
    "instance",
    "_Feature"
   ],
   "window_display": false
  }
 },
 "nbformat": 4,
 "nbformat_minor": 2
}
