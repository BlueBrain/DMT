{
 "cells": [
  {
   "cell_type": "markdown",
   "metadata": {},
   "source": [
    "# SSCx Dissemination.\n",
    "\n",
    "We analyze circuits developed under the SSCx Dissemination project.\n"
   ]
  },
  {
   "cell_type": "code",
   "execution_count": 29,
   "metadata": {
    "ExecuteTime": {
     "end_time": "2020-03-05T20:58:59.596433Z",
     "start_time": "2020-03-05T20:58:59.592061Z"
    }
   },
   "outputs": [],
   "source": [
    "from collections import OrderedDict\n",
    "from dmt.tk.plotting import Bars, LinePlot, Crosses\n",
    "from dmt.data.observation import measurement\n",
    "from dmt.tk.plotting.multi import MultiPlot\n",
    "from neuro_dmt.models.bluebrain.circuit.geometry import Cuboid\n",
    "from neuro_dmt.library.users.visood.sscx_dissemination.analyses import *"
   ]
  },
  {
   "cell_type": "markdown",
   "metadata": {},
   "source": [
    "While using this notebook for development, we might need to reload the adapter:"
   ]
  },
  {
   "cell_type": "code",
   "execution_count": 2,
   "metadata": {
    "ExecuteTime": {
     "end_time": "2020-03-05T14:26:49.287648Z",
     "start_time": "2020-03-05T14:26:49.282612Z"
    }
   },
   "outputs": [],
   "source": [
    "sscxdiss = SSCxDisseminationCircuit()"
   ]
  },
  {
   "cell_type": "code",
   "execution_count": 3,
   "metadata": {
    "ExecuteTime": {
     "end_time": "2020-03-05T14:26:49.423108Z",
     "start_time": "2020-03-05T14:26:49.415105Z"
    }
   },
   "outputs": [
    {
     "data": {
      "text/plain": [
       "bio0: Not Available\n",
       "bio1: Not Available\n",
       "bio2: Not Available\n",
       "bio3: Not Available\n",
       "bio4: Not Available\n",
       "bio5: Not Available\n",
       "biom: 'Bio_M/20191206'\n",
       "mock: 'MOCK'"
      ]
     },
     "execution_count": 3,
     "metadata": {},
     "output_type": "execute_result"
    }
   ],
   "source": [
    "sscxdiss.variations"
   ]
  },
  {
   "cell_type": "code",
   "execution_count": 4,
   "metadata": {
    "ExecuteTime": {
     "end_time": "2020-03-05T14:30:23.586260Z",
     "start_time": "2020-03-05T14:26:49.424535Z"
    }
   },
   "outputs": [
    {
     "name": "stdout",
     "output_type": "stream",
     "text": [
      "================================================================================\n",
      "\u001b[4mtest develop mock circuit Logger                                                \u001b[0m\n",
      "\u001b[4mDEBUGINFO@<2020-03-05 15:26:48>                                                 \u001b[0m\n",
      "Traceback:\n",
      "\tfilename: \t/Users/vishalsoodmuchu/.vmgr_repo/py37/lib/python3.7/site-packages/neuro_dmt/models/bluebrain/circuit/mock/test/__init__.py\n",
      "\tlineno: \t138\n",
      "\tcode_context: \t['        __log.get_source_info(),\\n']\n",
      "\tindex: 0\n",
      "\n",
      "get excitatory cell density for layer 2\n",
      "with number of excitatory mtypes: 1\n",
      "================================================================================\n",
      "\n",
      "================================================================================\n",
      "\u001b[4mtest develop mock circuit Logger                                                \u001b[0m\n",
      "\u001b[4mDEBUGINFO@<2020-03-05 15:26:48>                                                 \u001b[0m\n",
      "Traceback:\n",
      "\tfilename: \t/Users/vishalsoodmuchu/.vmgr_repo/py37/lib/python3.7/site-packages/neuro_dmt/models/bluebrain/circuit/mock/test/__init__.py\n",
      "\tlineno: \t138\n",
      "\tcode_context: \t['        __log.get_source_info(),\\n']\n",
      "\tindex: 0\n",
      "\n",
      "get excitatory cell density for layer 3\n",
      "with number of excitatory mtypes: 1\n",
      "================================================================================\n",
      "\n",
      "================================================================================\n",
      "\u001b[4mtest develop mock circuit Logger                                                \u001b[0m\n",
      "\u001b[4mDEBUGINFO@<2020-03-05 15:26:48>                                                 \u001b[0m\n",
      "Traceback:\n",
      "\tfilename: \t/Users/vishalsoodmuchu/.vmgr_repo/py37/lib/python3.7/site-packages/neuro_dmt/models/bluebrain/circuit/mock/test/__init__.py\n",
      "\tlineno: \t138\n",
      "\tcode_context: \t['        __log.get_source_info(),\\n']\n",
      "\tindex: 0\n",
      "\n",
      "get excitatory cell density for layer 4\n",
      "with number of excitatory mtypes: 1\n",
      "================================================================================\n",
      "\n",
      "================================================================================\n",
      "\u001b[4mtest develop mock circuit Logger                                                \u001b[0m\n",
      "\u001b[4mDEBUGINFO@<2020-03-05 15:26:48>                                                 \u001b[0m\n",
      "Traceback:\n",
      "\tfilename: \t/Users/vishalsoodmuchu/.vmgr_repo/py37/lib/python3.7/site-packages/neuro_dmt/models/bluebrain/circuit/mock/test/__init__.py\n",
      "\tlineno: \t138\n",
      "\tcode_context: \t['        __log.get_source_info(),\\n']\n",
      "\tindex: 0\n",
      "\n",
      "get excitatory cell density for layer 5\n",
      "with number of excitatory mtypes: 4\n",
      "================================================================================\n",
      "\n",
      "================================================================================\n",
      "\u001b[4mtest develop mock circuit Logger                                                \u001b[0m\n",
      "\u001b[4mDEBUGINFO@<2020-03-05 15:26:48>                                                 \u001b[0m\n",
      "Traceback:\n",
      "\tfilename: \t/Users/vishalsoodmuchu/.vmgr_repo/py37/lib/python3.7/site-packages/neuro_dmt/models/bluebrain/circuit/mock/test/__init__.py\n",
      "\tlineno: \t138\n",
      "\tcode_context: \t['        __log.get_source_info(),\\n']\n",
      "\tindex: 0\n",
      "\n",
      "get excitatory cell density for layer 5\n",
      "with number of excitatory mtypes: 4\n",
      "================================================================================\n",
      "\n",
      "================================================================================\n",
      "\u001b[4mtest develop mock circuit Logger                                                \u001b[0m\n",
      "\u001b[4mDEBUGINFO@<2020-03-05 15:26:48>                                                 \u001b[0m\n",
      "Traceback:\n",
      "\tfilename: \t/Users/vishalsoodmuchu/.vmgr_repo/py37/lib/python3.7/site-packages/neuro_dmt/models/bluebrain/circuit/mock/test/__init__.py\n",
      "\tlineno: \t138\n",
      "\tcode_context: \t['        __log.get_source_info(),\\n']\n",
      "\tindex: 0\n",
      "\n",
      "get excitatory cell density for layer 5\n",
      "with number of excitatory mtypes: 4\n",
      "================================================================================\n",
      "\n",
      "================================================================================\n",
      "\u001b[4mtest develop mock circuit Logger                                                \u001b[0m\n",
      "\u001b[4mDEBUGINFO@<2020-03-05 15:26:48>                                                 \u001b[0m\n",
      "Traceback:\n",
      "\tfilename: \t/Users/vishalsoodmuchu/.vmgr_repo/py37/lib/python3.7/site-packages/neuro_dmt/models/bluebrain/circuit/mock/test/__init__.py\n",
      "\tlineno: \t138\n",
      "\tcode_context: \t['        __log.get_source_info(),\\n']\n",
      "\tindex: 0\n",
      "\n",
      "get excitatory cell density for layer 5\n",
      "with number of excitatory mtypes: 4\n",
      "================================================================================\n",
      "\n",
      "================================================================================\n",
      "\u001b[4mtest develop mock circuit Logger                                                \u001b[0m\n",
      "\u001b[4mDEBUGINFO@<2020-03-05 15:26:48>                                                 \u001b[0m\n",
      "Traceback:\n",
      "\tfilename: \t/Users/vishalsoodmuchu/.vmgr_repo/py37/lib/python3.7/site-packages/neuro_dmt/models/bluebrain/circuit/mock/test/__init__.py\n",
      "\tlineno: \t138\n",
      "\tcode_context: \t['        __log.get_source_info(),\\n']\n",
      "\tindex: 0\n",
      "\n",
      "get excitatory cell density for layer 6\n",
      "with number of excitatory mtypes: 5\n",
      "================================================================================\n",
      "\n",
      "================================================================================\n",
      "\u001b[4mtest develop mock circuit Logger                                                \u001b[0m\n",
      "\u001b[4mDEBUGINFO@<2020-03-05 15:26:48>                                                 \u001b[0m\n",
      "Traceback:\n",
      "\tfilename: \t/Users/vishalsoodmuchu/.vmgr_repo/py37/lib/python3.7/site-packages/neuro_dmt/models/bluebrain/circuit/mock/test/__init__.py\n",
      "\tlineno: \t138\n",
      "\tcode_context: \t['        __log.get_source_info(),\\n']\n",
      "\tindex: 0\n",
      "\n",
      "get excitatory cell density for layer 6\n",
      "with number of excitatory mtypes: 5\n",
      "================================================================================\n",
      "\n",
      "================================================================================\n",
      "\u001b[4mtest develop mock circuit Logger                                                \u001b[0m\n",
      "\u001b[4mDEBUGINFO@<2020-03-05 15:26:48>                                                 \u001b[0m\n",
      "Traceback:\n",
      "\tfilename: \t/Users/vishalsoodmuchu/.vmgr_repo/py37/lib/python3.7/site-packages/neuro_dmt/models/bluebrain/circuit/mock/test/__init__.py\n",
      "\tlineno: \t138\n",
      "\tcode_context: \t['        __log.get_source_info(),\\n']\n",
      "\tindex: 0\n",
      "\n",
      "get excitatory cell density for layer 6\n",
      "with number of excitatory mtypes: 5\n",
      "================================================================================\n",
      "\n",
      "================================================================================\n",
      "\u001b[4mtest develop mock circuit Logger                                                \u001b[0m\n",
      "\u001b[4mDEBUGINFO@<2020-03-05 15:26:48>                                                 \u001b[0m\n",
      "Traceback:\n",
      "\tfilename: \t/Users/vishalsoodmuchu/.vmgr_repo/py37/lib/python3.7/site-packages/neuro_dmt/models/bluebrain/circuit/mock/test/__init__.py\n",
      "\tlineno: \t138\n",
      "\tcode_context: \t['        __log.get_source_info(),\\n']\n",
      "\tindex: 0\n",
      "\n",
      "get excitatory cell density for layer 6\n",
      "with number of excitatory mtypes: 5\n",
      "================================================================================\n",
      "\n",
      "================================================================================\n",
      "\u001b[4mtest develop mock circuit Logger                                                \u001b[0m\n",
      "\u001b[4mDEBUGINFO@<2020-03-05 15:26:48>                                                 \u001b[0m\n",
      "Traceback:\n",
      "\tfilename: \t/Users/vishalsoodmuchu/.vmgr_repo/py37/lib/python3.7/site-packages/neuro_dmt/models/bluebrain/circuit/mock/test/__init__.py\n",
      "\tlineno: \t138\n",
      "\tcode_context: \t['        __log.get_source_info(),\\n']\n",
      "\tindex: 0\n",
      "\n",
      "get excitatory cell density for layer 6\n",
      "with number of excitatory mtypes: 5\n",
      "================================================================================\n",
      "\n",
      "================================================================================\n",
      "\u001b[4mtest develop mock circuit Logger                                                \u001b[0m\n",
      "\u001b[4mDEBUGINFO@<2020-03-05 15:26:48>                                                 \u001b[0m\n",
      "Traceback:\n",
      "\tfilename: \t/Users/vishalsoodmuchu/.vmgr_repo/py37/lib/python3.7/site-packages/neuro_dmt/models/bluebrain/circuit/mock/test/mock_circuit_light.py\n",
      "\tlineno: \t107\n",
      "\tcode_context: \t['        log.get_source_info(),\\n']\n",
      "\tindex: 0\n",
      "\n",
      "get excitatory cell density for layer 4\n",
      "with number of excitatory mtypes: 1\n",
      "================================================================================\n",
      "\n"
     ]
    },
    {
     "name": "stdout",
     "output_type": "stream",
     "text": [
      "================================================================================\n",
      "\u001b[4mtest develop mock circuit Logger                                                \u001b[0m\n",
      "\u001b[4mDEBUGINFO@<2020-03-05 15:26:48>                                                 \u001b[0m\n",
      "Traceback:\n",
      "\tfilename: \t/Users/vishalsoodmuchu/.vmgr_repo/py37/lib/python3.7/site-packages/neuro_dmt/models/bluebrain/circuit/mock/test/mock_circuit_light.py\n",
      "\tlineno: \t107\n",
      "\tcode_context: \t['        log.get_source_info(),\\n']\n",
      "\tindex: 0\n",
      "\n",
      "get excitatory cell density for layer 4\n",
      "with number of excitatory mtypes: 1\n",
      "================================================================================\n",
      "\n",
      "================================================================================\n",
      "\u001b[4mtest develop mock circuit Logger                                                \u001b[0m\n",
      "\u001b[4mDEBUGINFO@<2020-03-05 15:26:48>                                                 \u001b[0m\n",
      "Traceback:\n",
      "\tfilename: \t/Users/vishalsoodmuchu/.vmgr_repo/py37/lib/python3.7/site-packages/neuro_dmt/models/bluebrain/circuit/mock/test/mock_circuit_light.py\n",
      "\tlineno: \t107\n",
      "\tcode_context: \t['        log.get_source_info(),\\n']\n",
      "\tindex: 0\n",
      "\n",
      "get excitatory cell density for layer 4\n",
      "with number of excitatory mtypes: 1\n",
      "================================================================================\n",
      "\n",
      "================================================================================\n",
      "\u001b[4mtest develop mock circuit Logger                                                \u001b[0m\n",
      "\u001b[4mDEBUGINFO@<2020-03-05 15:26:48>                                                 \u001b[0m\n",
      "Traceback:\n",
      "\tfilename: \t/Users/vishalsoodmuchu/.vmgr_repo/py37/lib/python3.7/site-packages/neuro_dmt/models/bluebrain/circuit/mock/test/mock_circuit_light.py\n",
      "\tlineno: \t107\n",
      "\tcode_context: \t['        log.get_source_info(),\\n']\n",
      "\tindex: 0\n",
      "\n",
      "get excitatory cell density for layer 4\n",
      "with number of excitatory mtypes: 1\n",
      "================================================================================\n",
      "\n",
      "================================================================================\n",
      "\u001b[4mtest develop mock circuit Logger                                                \u001b[0m\n",
      "\u001b[4mDEBUGINFO@<2020-03-05 15:26:48>                                                 \u001b[0m\n",
      "Traceback:\n",
      "\tfilename: \t/Users/vishalsoodmuchu/.vmgr_repo/py37/lib/python3.7/site-packages/neuro_dmt/models/bluebrain/circuit/mock/test/mock_circuit_light.py\n",
      "\tlineno: \t107\n",
      "\tcode_context: \t['        log.get_source_info(),\\n']\n",
      "\tindex: 0\n",
      "\n",
      "get excitatory cell density for layer 5\n",
      "with number of excitatory mtypes: 3\n",
      "================================================================================\n",
      "\n",
      "================================================================================\n",
      "\u001b[4mtest develop mock circuit Logger                                                \u001b[0m\n",
      "\u001b[4mDEBUGINFO@<2020-03-05 15:26:48>                                                 \u001b[0m\n",
      "Traceback:\n",
      "\tfilename: \t/Users/vishalsoodmuchu/.vmgr_repo/py37/lib/python3.7/site-packages/neuro_dmt/models/bluebrain/circuit/mock/test/mock_circuit_light.py\n",
      "\tlineno: \t107\n",
      "\tcode_context: \t['        log.get_source_info(),\\n']\n",
      "\tindex: 0\n",
      "\n",
      "get excitatory cell density for layer 5\n",
      "with number of excitatory mtypes: 3\n",
      "================================================================================\n",
      "\n",
      "================================================================================\n",
      "\u001b[4mtest develop mock circuit Logger                                                \u001b[0m\n",
      "\u001b[4mDEBUGINFO@<2020-03-05 15:26:48>                                                 \u001b[0m\n",
      "Traceback:\n",
      "\tfilename: \t/Users/vishalsoodmuchu/.vmgr_repo/py37/lib/python3.7/site-packages/neuro_dmt/models/bluebrain/circuit/mock/test/mock_circuit_light.py\n",
      "\tlineno: \t107\n",
      "\tcode_context: \t['        log.get_source_info(),\\n']\n",
      "\tindex: 0\n",
      "\n",
      "get excitatory cell density for layer 5\n",
      "with number of excitatory mtypes: 3\n",
      "================================================================================\n",
      "\n",
      "================================================================================\n",
      "\u001b[4mtest develop mock circuit Logger                                                \u001b[0m\n",
      "\u001b[4mDEBUGINFO@<2020-03-05 15:26:48>                                                 \u001b[0m\n",
      "Traceback:\n",
      "\tfilename: \t/Users/vishalsoodmuchu/.vmgr_repo/py37/lib/python3.7/site-packages/neuro_dmt/models/bluebrain/circuit/mock/test/mock_circuit_light.py\n",
      "\tlineno: \t107\n",
      "\tcode_context: \t['        log.get_source_info(),\\n']\n",
      "\tindex: 0\n",
      "\n",
      "get excitatory cell density for layer 5\n",
      "with number of excitatory mtypes: 3\n",
      "================================================================================\n",
      "\n",
      "================================================================================\n",
      "\u001b[4mtest develop mock circuit Logger                                                \u001b[0m\n",
      "\u001b[4mDEBUGINFO@<2020-03-05 15:26:48>                                                 \u001b[0m\n",
      "Traceback:\n",
      "\tfilename: \t/Users/vishalsoodmuchu/.vmgr_repo/py37/lib/python3.7/site-packages/neuro_dmt/models/bluebrain/circuit/mock/test/mock_circuit_light.py\n",
      "\tlineno: \t107\n",
      "\tcode_context: \t['        log.get_source_info(),\\n']\n",
      "\tindex: 0\n",
      "\n",
      "get excitatory cell density for layer 5\n",
      "with number of excitatory mtypes: 3\n",
      "================================================================================\n",
      "\n",
      "================================================================================\n",
      "\u001b[4mtest develop mock circuit Logger                                                \u001b[0m\n",
      "\u001b[4mDEBUGINFO@<2020-03-05 15:26:48>                                                 \u001b[0m\n",
      "Traceback:\n",
      "\tfilename: \t/Users/vishalsoodmuchu/.vmgr_repo/py37/lib/python3.7/site-packages/neuro_dmt/models/bluebrain/circuit/mock/test/mock_circuit_light.py\n",
      "\tlineno: \t107\n",
      "\tcode_context: \t['        log.get_source_info(),\\n']\n",
      "\tindex: 0\n",
      "\n",
      "get excitatory cell density for layer 5\n",
      "with number of excitatory mtypes: 3\n",
      "================================================================================\n",
      "\n",
      "================================================================================\n",
      "\u001b[4mtest develop mock circuit Logger                                                \u001b[0m\n",
      "\u001b[4mDEBUGINFO@<2020-03-05 15:26:48>                                                 \u001b[0m\n",
      "Traceback:\n",
      "\tfilename: \t/Users/vishalsoodmuchu/.vmgr_repo/py37/lib/python3.7/site-packages/neuro_dmt/models/bluebrain/circuit/mock/test/mock_circuit_light.py\n",
      "\tlineno: \t107\n",
      "\tcode_context: \t['        log.get_source_info(),\\n']\n",
      "\tindex: 0\n",
      "\n",
      "get excitatory cell density for layer 5\n",
      "with number of excitatory mtypes: 3\n",
      "================================================================================\n",
      "\n",
      "================================================================================\n",
      "\u001b[4mtest develop mock circuit Logger                                                \u001b[0m\n",
      "\u001b[4mDEBUGINFO@<2020-03-05 15:26:48>                                                 \u001b[0m\n",
      "Traceback:\n",
      "\tfilename: \t/Users/vishalsoodmuchu/.vmgr_repo/py37/lib/python3.7/site-packages/neuro_dmt/models/bluebrain/circuit/mock/test/mock_circuit_light.py\n",
      "\tlineno: \t107\n",
      "\tcode_context: \t['        log.get_source_info(),\\n']\n",
      "\tindex: 0\n",
      "\n",
      "get excitatory cell density for layer 5\n",
      "with number of excitatory mtypes: 3\n",
      "================================================================================\n",
      "\n",
      "================================================================================\n",
      "\u001b[4mtest develop mock circuit Logger                                                \u001b[0m\n",
      "\u001b[4mDEBUGINFO@<2020-03-05 15:26:48>                                                 \u001b[0m\n",
      "Traceback:\n",
      "\tfilename: \t/Users/vishalsoodmuchu/.vmgr_repo/py37/lib/python3.7/site-packages/neuro_dmt/models/bluebrain/circuit/mock/test/mock_circuit_light.py\n",
      "\tlineno: \t107\n",
      "\tcode_context: \t['        log.get_source_info(),\\n']\n",
      "\tindex: 0\n",
      "\n",
      "get excitatory cell density for layer 5\n",
      "with number of excitatory mtypes: 3\n",
      "================================================================================\n",
      "\n",
      "================================================================================\n",
      "\u001b[4mtest develop mock circuit Logger                                                \u001b[0m\n",
      "\u001b[4mDEBUGINFO@<2020-03-05 15:26:48>                                                 \u001b[0m\n",
      "Traceback:\n",
      "\tfilename: \t/Users/vishalsoodmuchu/.vmgr_repo/py37/lib/python3.7/site-packages/neuro_dmt/models/bluebrain/circuit/mock/test/mock_circuit_light.py\n",
      "\tlineno: \t107\n",
      "\tcode_context: \t['        log.get_source_info(),\\n']\n",
      "\tindex: 0\n",
      "\n",
      "get excitatory cell density for layer 5\n",
      "with number of excitatory mtypes: 3\n",
      "================================================================================\n",
      "\n",
      "================================================================================\n",
      "\u001b[4mtest develop mock circuit Logger                                                \u001b[0m\n",
      "\u001b[4mDEBUGINFO@<2020-03-05 15:26:48>                                                 \u001b[0m\n",
      "Traceback:\n",
      "\tfilename: \t/Users/vishalsoodmuchu/.vmgr_repo/py37/lib/python3.7/site-packages/neuro_dmt/models/bluebrain/circuit/mock/test/mock_circuit_light.py\n",
      "\tlineno: \t107\n",
      "\tcode_context: \t['        log.get_source_info(),\\n']\n",
      "\tindex: 0\n",
      "\n",
      "get excitatory cell density for layer 5\n",
      "with number of excitatory mtypes: 3\n",
      "================================================================================\n",
      "\n",
      "================================================================================\n",
      "\u001b[4mtest develop mock circuit Logger                                                \u001b[0m\n",
      "\u001b[4mDEBUGINFO@<2020-03-05 15:26:48>                                                 \u001b[0m\n",
      "Traceback:\n",
      "\tfilename: \t/Users/vishalsoodmuchu/.vmgr_repo/py37/lib/python3.7/site-packages/neuro_dmt/models/bluebrain/circuit/mock/test/mock_circuit_light.py\n",
      "\tlineno: \t107\n",
      "\tcode_context: \t['        log.get_source_info(),\\n']\n",
      "\tindex: 0\n",
      "\n",
      "get excitatory cell density for layer 5\n",
      "with number of excitatory mtypes: 3\n",
      "================================================================================\n",
      "\n"
     ]
    },
    {
     "name": "stdout",
     "output_type": "stream",
     "text": [
      "================================================================================\n",
      "\u001b[4mtest develop mock circuit Logger                                                \u001b[0m\n",
      "\u001b[4mDEBUGINFO@<2020-03-05 15:26:48>                                                 \u001b[0m\n",
      "Traceback:\n",
      "\tfilename: \t/Users/vishalsoodmuchu/.vmgr_repo/py37/lib/python3.7/site-packages/neuro_dmt/models/bluebrain/circuit/mock/test/mock_circuit_light.py\n",
      "\tlineno: \t107\n",
      "\tcode_context: \t['        log.get_source_info(),\\n']\n",
      "\tindex: 0\n",
      "\n",
      "get excitatory cell density for layer 6\n",
      "with number of excitatory mtypes: 4\n",
      "================================================================================\n",
      "\n",
      "================================================================================\n",
      "\u001b[4mtest develop mock circuit Logger                                                \u001b[0m\n",
      "\u001b[4mDEBUGINFO@<2020-03-05 15:26:48>                                                 \u001b[0m\n",
      "Traceback:\n",
      "\tfilename: \t/Users/vishalsoodmuchu/.vmgr_repo/py37/lib/python3.7/site-packages/neuro_dmt/models/bluebrain/circuit/mock/test/mock_circuit_light.py\n",
      "\tlineno: \t107\n",
      "\tcode_context: \t['        log.get_source_info(),\\n']\n",
      "\tindex: 0\n",
      "\n",
      "get excitatory cell density for layer 6\n",
      "with number of excitatory mtypes: 4\n",
      "================================================================================\n",
      "\n",
      "================================================================================\n",
      "\u001b[4mtest develop mock circuit Logger                                                \u001b[0m\n",
      "\u001b[4mDEBUGINFO@<2020-03-05 15:26:48>                                                 \u001b[0m\n",
      "Traceback:\n",
      "\tfilename: \t/Users/vishalsoodmuchu/.vmgr_repo/py37/lib/python3.7/site-packages/neuro_dmt/models/bluebrain/circuit/mock/test/mock_circuit_light.py\n",
      "\tlineno: \t107\n",
      "\tcode_context: \t['        log.get_source_info(),\\n']\n",
      "\tindex: 0\n",
      "\n",
      "get excitatory cell density for layer 6\n",
      "with number of excitatory mtypes: 4\n",
      "================================================================================\n",
      "\n",
      "================================================================================\n",
      "\u001b[4mtest develop mock circuit Logger                                                \u001b[0m\n",
      "\u001b[4mDEBUGINFO@<2020-03-05 15:26:48>                                                 \u001b[0m\n",
      "Traceback:\n",
      "\tfilename: \t/Users/vishalsoodmuchu/.vmgr_repo/py37/lib/python3.7/site-packages/neuro_dmt/models/bluebrain/circuit/mock/test/mock_circuit_light.py\n",
      "\tlineno: \t107\n",
      "\tcode_context: \t['        log.get_source_info(),\\n']\n",
      "\tindex: 0\n",
      "\n",
      "get excitatory cell density for layer 6\n",
      "with number of excitatory mtypes: 4\n",
      "================================================================================\n",
      "\n",
      "================================================================================\n",
      "\u001b[4mtest develop mock circuit Logger                                                \u001b[0m\n",
      "\u001b[4mDEBUGINFO@<2020-03-05 15:26:48>                                                 \u001b[0m\n",
      "Traceback:\n",
      "\tfilename: \t/Users/vishalsoodmuchu/.vmgr_repo/py37/lib/python3.7/site-packages/neuro_dmt/models/bluebrain/circuit/mock/test/mock_circuit_light.py\n",
      "\tlineno: \t107\n",
      "\tcode_context: \t['        log.get_source_info(),\\n']\n",
      "\tindex: 0\n",
      "\n",
      "get excitatory cell density for layer 6\n",
      "with number of excitatory mtypes: 4\n",
      "================================================================================\n",
      "\n",
      "================================================================================\n",
      "\u001b[4mtest develop mock circuit Logger                                                \u001b[0m\n",
      "\u001b[4mDEBUGINFO@<2020-03-05 15:26:48>                                                 \u001b[0m\n",
      "Traceback:\n",
      "\tfilename: \t/Users/vishalsoodmuchu/.vmgr_repo/py37/lib/python3.7/site-packages/neuro_dmt/models/bluebrain/circuit/mock/test/mock_circuit_light.py\n",
      "\tlineno: \t107\n",
      "\tcode_context: \t['        log.get_source_info(),\\n']\n",
      "\tindex: 0\n",
      "\n",
      "get excitatory cell density for layer 6\n",
      "with number of excitatory mtypes: 4\n",
      "================================================================================\n",
      "\n",
      "================================================================================\n",
      "\u001b[4mtest develop mock circuit Logger                                                \u001b[0m\n",
      "\u001b[4mDEBUGINFO@<2020-03-05 15:26:48>                                                 \u001b[0m\n",
      "Traceback:\n",
      "\tfilename: \t/Users/vishalsoodmuchu/.vmgr_repo/py37/lib/python3.7/site-packages/neuro_dmt/models/bluebrain/circuit/mock/test/mock_circuit_light.py\n",
      "\tlineno: \t107\n",
      "\tcode_context: \t['        log.get_source_info(),\\n']\n",
      "\tindex: 0\n",
      "\n",
      "get excitatory cell density for layer 6\n",
      "with number of excitatory mtypes: 4\n",
      "================================================================================\n",
      "\n",
      "================================================================================\n",
      "\u001b[4mtest develop mock circuit Logger                                                \u001b[0m\n",
      "\u001b[4mDEBUGINFO@<2020-03-05 15:26:48>                                                 \u001b[0m\n",
      "Traceback:\n",
      "\tfilename: \t/Users/vishalsoodmuchu/.vmgr_repo/py37/lib/python3.7/site-packages/neuro_dmt/models/bluebrain/circuit/mock/test/mock_circuit_light.py\n",
      "\tlineno: \t107\n",
      "\tcode_context: \t['        log.get_source_info(),\\n']\n",
      "\tindex: 0\n",
      "\n",
      "get excitatory cell density for layer 6\n",
      "with number of excitatory mtypes: 4\n",
      "================================================================================\n",
      "\n",
      "================================================================================\n",
      "\u001b[4mtest develop mock circuit Logger                                                \u001b[0m\n",
      "\u001b[4mDEBUGINFO@<2020-03-05 15:26:48>                                                 \u001b[0m\n",
      "Traceback:\n",
      "\tfilename: \t/Users/vishalsoodmuchu/.vmgr_repo/py37/lib/python3.7/site-packages/neuro_dmt/models/bluebrain/circuit/mock/test/mock_circuit_light.py\n",
      "\tlineno: \t107\n",
      "\tcode_context: \t['        log.get_source_info(),\\n']\n",
      "\tindex: 0\n",
      "\n",
      "get excitatory cell density for layer 6\n",
      "with number of excitatory mtypes: 4\n",
      "================================================================================\n",
      "\n",
      "================================================================================\n",
      "\u001b[4mtest develop mock circuit Logger                                                \u001b[0m\n",
      "\u001b[4mDEBUGINFO@<2020-03-05 15:26:48>                                                 \u001b[0m\n",
      "Traceback:\n",
      "\tfilename: \t/Users/vishalsoodmuchu/.vmgr_repo/py37/lib/python3.7/site-packages/neuro_dmt/models/bluebrain/circuit/mock/test/mock_circuit_light.py\n",
      "\tlineno: \t107\n",
      "\tcode_context: \t['        log.get_source_info(),\\n']\n",
      "\tindex: 0\n",
      "\n",
      "get excitatory cell density for layer 6\n",
      "with number of excitatory mtypes: 4\n",
      "================================================================================\n",
      "\n",
      "================================================================================\n",
      "\u001b[4mtest develop mock circuit Logger                                                \u001b[0m\n",
      "\u001b[4mDEBUGINFO@<2020-03-05 15:26:48>                                                 \u001b[0m\n",
      "Traceback:\n",
      "\tfilename: \t/Users/vishalsoodmuchu/.vmgr_repo/py37/lib/python3.7/site-packages/neuro_dmt/models/bluebrain/circuit/mock/test/mock_circuit_light.py\n",
      "\tlineno: \t107\n",
      "\tcode_context: \t['        log.get_source_info(),\\n']\n",
      "\tindex: 0\n",
      "\n",
      "get excitatory cell density for layer 6\n",
      "with number of excitatory mtypes: 4\n",
      "================================================================================\n",
      "\n",
      "================================================================================\n",
      "\u001b[4mtest develop mock circuit Logger                                                \u001b[0m\n",
      "\u001b[4mDEBUGINFO@<2020-03-05 15:26:48>                                                 \u001b[0m\n",
      "Traceback:\n",
      "\tfilename: \t/Users/vishalsoodmuchu/.vmgr_repo/py37/lib/python3.7/site-packages/neuro_dmt/models/bluebrain/circuit/mock/test/mock_circuit_light.py\n",
      "\tlineno: \t107\n",
      "\tcode_context: \t['        log.get_source_info(),\\n']\n",
      "\tindex: 0\n",
      "\n",
      "get excitatory cell density for layer 6\n",
      "with number of excitatory mtypes: 4\n",
      "================================================================================\n",
      "\n",
      "================================================================================\n",
      "\u001b[4mtest develop mock circuit Logger                                                \u001b[0m\n",
      "\u001b[4mDEBUGINFO@<2020-03-05 15:26:48>                                                 \u001b[0m\n",
      "Traceback:\n",
      "\tfilename: \t/Users/vishalsoodmuchu/.vmgr_repo/py37/lib/python3.7/site-packages/neuro_dmt/models/bluebrain/circuit/mock/test/mock_circuit_light.py\n",
      "\tlineno: \t107\n",
      "\tcode_context: \t['        log.get_source_info(),\\n']\n",
      "\tindex: 0\n",
      "\n",
      "get excitatory cell density for layer 6\n",
      "with number of excitatory mtypes: 4\n",
      "================================================================================\n",
      "\n",
      "================================================================================\n",
      "\u001b[4mtest develop mock circuit Logger                                                \u001b[0m\n",
      "\u001b[4mDEBUGINFO@<2020-03-05 15:26:48>                                                 \u001b[0m\n",
      "Traceback:\n",
      "\tfilename: \t/Users/vishalsoodmuchu/.vmgr_repo/py37/lib/python3.7/site-packages/neuro_dmt/models/bluebrain/circuit/mock/test/mock_circuit_light.py\n",
      "\tlineno: \t107\n",
      "\tcode_context: \t['        log.get_source_info(),\\n']\n",
      "\tindex: 0\n",
      "\n",
      "get excitatory cell density for layer 6\n",
      "with number of excitatory mtypes: 4\n",
      "================================================================================\n",
      "\n",
      "================================================================================\n",
      "\u001b[4mtest develop mock circuit Logger                                                \u001b[0m\n",
      "\u001b[4mDEBUGINFO@<2020-03-05 15:26:48>                                                 \u001b[0m\n",
      "Traceback:\n",
      "\tfilename: \t/Users/vishalsoodmuchu/.vmgr_repo/py37/lib/python3.7/site-packages/neuro_dmt/models/bluebrain/circuit/mock/test/mock_circuit_light.py\n",
      "\tlineno: \t107\n",
      "\tcode_context: \t['        log.get_source_info(),\\n']\n",
      "\tindex: 0\n",
      "\n",
      "get excitatory cell density for layer 6\n",
      "with number of excitatory mtypes: 4\n",
      "================================================================================\n",
      "\n",
      "================================================================================\n",
      "\u001b[4mtest develop mock circuit Logger                                                \u001b[0m\n",
      "\u001b[4mDEBUGINFO@<2020-03-05 15:26:48>                                                 \u001b[0m\n",
      "Traceback:\n",
      "\tfilename: \t/Users/vishalsoodmuchu/.vmgr_repo/py37/lib/python3.7/site-packages/neuro_dmt/models/bluebrain/circuit/mock/test/mock_circuit_light.py\n",
      "\tlineno: \t107\n",
      "\tcode_context: \t['        log.get_source_info(),\\n']\n",
      "\tindex: 0\n",
      "\n",
      "get excitatory cell density for layer 6\n",
      "with number of excitatory mtypes: 4\n",
      "================================================================================\n",
      "\n"
     ]
    },
    {
     "name": "stderr",
     "output_type": "stream",
     "text": [
      "41it [00:00, 403.57it/s]"
     ]
    },
    {
     "name": "stdout",
     "output_type": "stream",
     "text": [
      "================================================================================\n",
      "\u001b[4m/Users/vishalsoodmuchu/.vmgr_repo/py37/lib/python3.7/site-packages/neuro_dmt/models/bluebrain/circuit/mock/builder.py Logger\u001b[0m\n",
      "\u001b[4mDEBUGINFO@<2020-03-05 15:26:48>                                                 \u001b[0m\n",
      "Mock circuit builder: get_connectome(...)\n",
      "================================================================================\n",
      "\n"
     ]
    },
    {
     "name": "stderr",
     "output_type": "stream",
     "text": [
      "82304it [03:00, 455.52it/s]\n"
     ]
    }
   ],
   "source": [
    "circuit_model = sscxdiss.circuit(sscxdiss.variations.mock)\n",
    "adapter = sscxdiss.adapter"
   ]
  },
  {
   "cell_type": "code",
   "execution_count": 5,
   "metadata": {
    "ExecuteTime": {
     "end_time": "2020-03-05T14:30:23.593558Z",
     "start_time": "2020-03-05T14:30:23.588047Z"
    }
   },
   "outputs": [],
   "source": [
    "from neuro_dmt.models.bluebrain.circuit.adapter import adapter as ad\n",
    "from importlib import reload\n",
    "adapter = ad.BlueBrainCircuitAdapter()"
   ]
  },
  {
   "cell_type": "markdown",
   "metadata": {},
   "source": [
    " We will develop our analysis of the SSCx Dissemination circuits as a growing\n",
    " list of analyzed phenomena:"
   ]
  },
  {
   "cell_type": "code",
   "execution_count": 6,
   "metadata": {
    "ExecuteTime": {
     "end_time": "2020-03-05T14:40:58.564899Z",
     "start_time": "2020-03-05T14:40:58.562493Z"
    }
   },
   "outputs": [],
   "source": [
    "phenomenon = OrderedDict()"
   ]
  },
  {
   "cell_type": "markdown",
   "metadata": {},
   "source": [
    "For each **DMT** analysis we will need to define an interface defining the\n",
    "methods that the analysis uses to query a circuit model.\n",
    "Instead of defining an interface for each analysis, we have collected all the\n",
    "interface methods for composition and connectome analyses:"
   ]
  },
  {
   "cell_type": "code",
   "execution_count": 7,
   "metadata": {
    "ExecuteTime": {
     "end_time": "2020-03-05T14:40:59.740459Z",
     "start_time": "2020-03-05T14:40:59.737698Z"
    }
   },
   "outputs": [],
   "source": [
    "from neuro_dmt.library.users.visood.sscx_dissemination.analyses.composition\\\n",
    "    import CompositionAnalysesSuite\n",
    "CompositionAdapterInterface = CompositionAnalysesSuite.AdapterInterface"
   ]
  },
  {
   "cell_type": "markdown",
   "metadata": {},
   "source": [
    "We will need to parameterize our analysis:"
   ]
  },
  {
   "cell_type": "code",
   "execution_count": 8,
   "metadata": {
    "ExecuteTime": {
     "end_time": "2020-03-05T14:41:01.316969Z",
     "start_time": "2020-03-05T14:41:01.310964Z"
    }
   },
   "outputs": [
    {
     "data": {
      "text/plain": [
       "{'morphologies_interneurons': ['BP',\n",
       "  'BTC',\n",
       "  'CHC',\n",
       "  'DB',\n",
       "  'LBC',\n",
       "  'NBC',\n",
       "  'MC',\n",
       "  'SBC',\n",
       "  'SSC'],\n",
       " 'number_cortical_thickness_bins': 50,\n",
       " 'path_reports': '/Users/vishalsoodmuchu/work/bbp/work/validations/dmt/v2/neuro_dmt/library/users/visood/sscx_dissemination/analyses/notebooks/reports',\n",
       " 'sample_size': 100,\n",
       " 'size_roi': array([50., 50., 50.])}"
      ]
     },
     "execution_count": 8,
     "metadata": {},
     "output_type": "execute_result"
    }
   ],
   "source": [
    "spec = AnalysisParameterization()\n",
    "spec.field_dict"
   ]
  },
  {
   "cell_type": "markdown",
   "metadata": {
    "ExecuteTime": {
     "end_time": "2020-03-05T13:02:01.067105Z",
     "start_time": "2020-03-05T13:02:01.061973Z"
    }
   },
   "source": [
    "To save reports, we will use a reporter."
   ]
  },
  {
   "cell_type": "code",
   "execution_count": 9,
   "metadata": {
    "ExecuteTime": {
     "end_time": "2020-03-05T14:41:02.331076Z",
     "start_time": "2020-03-05T14:41:02.325885Z"
    }
   },
   "outputs": [],
   "source": [
    "from neuro_dmt.analysis.reporting import CheetahReporter\n",
    "reporter = CheetahReporter(\n",
    "    path_output_folder=os.path.join(\n",
    "        spec.path_reports, \"analyses\"))"
   ]
  },
  {
   "cell_type": "markdown",
   "metadata": {},
   "source": [
    "# Circuit Composition\n",
    "Rat *Somatoseonsory Cortex* circuits are atlas based.\n",
    "Four sub-regions of the SSCx were populated:ec"
   ]
  },
  {
   "cell_type": "code",
   "execution_count": 10,
   "metadata": {
    "ExecuteTime": {
     "end_time": "2020-03-05T14:41:03.438577Z",
     "start_time": "2020-03-05T14:41:03.433882Z"
    }
   },
   "outputs": [
    {
     "data": {
      "text/plain": [
       "('S1HL', 'S1FL', 'S1Tr', 'S1Sh')"
      ]
     },
     "execution_count": 10,
     "metadata": {},
     "output_type": "execute_result"
    }
   ],
   "source": [
    "populated_regions =\\\n",
    "    adapter.get_brain_regions(circuit_model)\n",
    "populated_regions"
   ]
  },
  {
   "cell_type": "markdown",
   "metadata": {},
   "source": [
    "We will use parameters to measure composition phenomena:"
   ]
  },
  {
   "cell_type": "code",
   "execution_count": 27,
   "metadata": {
    "ExecuteTime": {
     "end_time": "2020-03-05T20:58:30.683274Z",
     "start_time": "2020-03-05T20:58:30.677418Z"
    }
   },
   "outputs": [],
   "source": [
    "def get_regions(adapter, model):\n",
    "    \"\"\"\n",
    "    Get regions...\n",
    "    \"\"\"\n",
    "    return pd.DataFrame(\n",
    "        adapter.get_brain_regions(model),\n",
    "        columns=[\"region\"])\n",
    "\n",
    "def get_layers(adapter, model):\n",
    "    \"\"\"...\"\"\"\n",
    "    return pd.DataFrame(\n",
    "        adapter.get_layers(model),\n",
    "        columns=[\"layer\"])\n",
    "    \n",
    "def get_regions_and_layers(adapter, model):\n",
    "    \"\"\"\n",
    "    Get regions and layers for the model.\n",
    "    \"\"\"\n",
    "    regions = adapter.get_brain_regions(model)\n",
    "    layers = adapter.get_layers(model)\n",
    "    return pd.DataFrame(\n",
    "        [[region, layer] for region in regions for layer in layers],\n",
    "        columns=[\"region\", \"layer\"])"
   ]
  },
  {
   "cell_type": "markdown",
   "metadata": {},
   "source": [
    "We can count the number of cells in each region.\n",
    "We will use **DMT** to define and run analyses. \n",
    "A DMT analysis requires a method to measure the analyzed phenomenon.\n",
    "We define such a method to count cells:"
   ]
  },
  {
   "cell_type": "markdown",
   "metadata": {},
   "source": [
    "## SSCx Subregions\n",
    "\n",
    "Four sub-regions of the SSCx were populated:"
   ]
  },
  {
   "cell_type": "code",
   "execution_count": 18,
   "metadata": {
    "ExecuteTime": {
     "end_time": "2020-03-05T14:43:36.573637Z",
     "start_time": "2020-03-05T14:43:36.567111Z"
    },
    "code_folding": [
     0,
     8,
     13
    ]
   },
   "outputs": [],
   "source": [
    "def measurement_region_volume(\n",
    "        adapter, circuit_model,\n",
    "        **query):\n",
    "    \"\"\"\n",
    "    Volume of the region specified by `query`.\n",
    "    \"\"\"\n",
    "    spatial_query = terminology.circuit.get_spatial_query(query)\n",
    "    return adapter.get_spatial_volume(circuit_model, **spatial_query)\n",
    "phenomenon[\"region_volume\"] =\\\n",
    "    Phenomenon(\n",
    "        \"Region Volume\",\n",
    "        description=\"Volume of a brain-region.\",\n",
    "        group=\"Composition\")\n",
    "analysis_region_volumes =\\\n",
    "    BrainCircuitAnalysis(\n",
    "        title=\"Region Volumes\",\n",
    "        phenomenon=phenomenon[\"region_volume\"],\n",
    "        introduction=\"\"\"\n",
    "        Volumes of the populated subregions and layers of SSCx are analyzed.\n",
    "        \"\"\",\n",
    "        methods=\"\"\"\n",
    "        Voxels were counted in each sub-region, layer were counted and \n",
    "        multiplied with voxel volume.\n",
    "        \"\"\",\n",
    "        AdapterInterface=CompositionAdapterInterface,\n",
    "        measurement_parameters=Parameters(get_regions_and_layers),\n",
    "        sample_measurement=measurement_region_volume,\n",
    "        plotter=Bars(xvar=\"layer\",\n",
    "                     xlabel=\"Layer\",\n",
    "                     yvar=\"region_volume\",\n",
    "                     ylabel=\"Volume\",\n",
    "                     gvar=\"region\"))"
   ]
  },
  {
   "cell_type": "markdown",
   "metadata": {},
   "source": [
    "### Region Volumes\n",
    "\n",
    "To get an idea about the relative sizes of layers and sub-regions, we analyze\n",
    "the volume of each modulated sub-region, layer pair in the circuit."
   ]
  },
  {
   "cell_type": "code",
   "execution_count": 19,
   "metadata": {
    "ExecuteTime": {
     "end_time": "2020-03-05T14:43:38.806671Z",
     "start_time": "2020-03-05T14:43:37.297382Z"
    },
    "scrolled": true
   },
   "outputs": [
    {
     "name": "stderr",
     "output_type": "stream",
     "text": [
      "100%|██████████| 480/480 [00:00<00:00, 1184.87it/s]\n"
     ]
    },
    {
     "name": "stdout",
     "output_type": "stream",
     "text": [
      "================================================================================\n",
      "\u001b[4m/Users/vishalsoodmuchu/.vmgr_repo/py37/lib/python3.7/site-packages/neuro_dmt/analysis/reporting/__init__.py Logger\u001b[0m\n",
      "\u001b[4mINFO@<2020-03-05 15:26:48>                                                      \u001b[0m\n",
      "Post report region_volume at\n",
      "\t /Users/vishalsoodmuchu/work/bbp/work/validations/dmt/v2/neuro_dmt/library/users/visood/sscx_dissemination/analyses/notebooks/reports/analyses/region_volume/20200305/154337\n",
      "================================================================================\n",
      "\n",
      "================================================================================\n",
      "\u001b[4m/Users/vishalsoodmuchu/.vmgr_repo/py37/lib/python3.7/site-packages/neuro_dmt/analysis/reporting/__init__.py Logger\u001b[0m\n",
      "\u001b[4mALERT@<2020-03-05 15:26:48>                                                     \u001b[0m\n",
      "Traceback:\n",
      "\tfilename: \t/Users/vishalsoodmuchu/.vmgr_repo/py37/lib/python3.7/site-packages/neuro_dmt/analysis/reporting/__init__.py\n",
      "\tlineno: \t532\n",
      "\tcode_context: \t['                    LOGGER.get_source_info(),\\n']\n",
      "\tindex: 0\n",
      "\n",
      "\n",
      "                    Failed to generate HTML for the report:\n",
      "                    <class 'NameMapper.NotFound'>\n",
      "                    \tcannot find 'title'\n",
      "                    \n",
      "================================================================================\n",
      "\n",
      "================================================================================\n",
      "\u001b[4m/Users/vishalsoodmuchu/.vmgr_repo/py37/lib/python3.7/site-packages/neuro_dmt/analysis/reporting/__init__.py Logger\u001b[0m\n",
      "\u001b[4mALERT@<2020-03-05 15:26:48>                                                     \u001b[0m\n",
      "Traceback:\n",
      "\tfilename: \t/Users/vishalsoodmuchu/.vmgr_repo/py37/lib/python3.7/site-packages/neuro_dmt/analysis/reporting/__init__.py\n",
      "\tlineno: \t547\n",
      "\tcode_context: \t['                LOGGER.get_source_info(),\\n']\n",
      "\tindex: 0\n",
      "\n",
      "\n",
      "                Error during filling the report template:\n",
      "                <class 'NameMapper.NotFound'>\n",
      "                \tcannot find 'title'\n",
      "================================================================================\n",
      "\n"
     ]
    },
    {
     "data": {
      "text/plain": [
       "'/Users/vishalsoodmuchu/work/bbp/work/validations/dmt/v2/neuro_dmt/library/users/visood/sscx_dissemination/analyses/notebooks/reports/analyses/region_volume/20200305/154337'"
      ]
     },
     "execution_count": 19,
     "metadata": {},
     "output_type": "execute_result"
    },
    {
     "data": {
      "image/png": "[encoded data removed]",
      "text/plain": [
       "<Figure size 992.778x576 with 1 Axes>"
      ]
     },
     "metadata": {
      "needs_background": "light"
     },
     "output_type": "display_data"
    }
   ],
   "source": [
    "report_volumes = analysis_region_volumes(circuit_model, adapter)\n",
    "reporter.post(report_volumes)"
   ]
  },
  {
   "cell_type": "markdown",
   "metadata": {},
   "source": [
    "### Layer Thickness\n",
    "\n",
    "Layer thickness is tricky to define for an atlas based circuit.\n",
    "We expect that for a given sub-region a sample of layer thicknesses can be drawn.\n",
    "Our next analysis uses this technique and plots the distribution of drawn samples\n",
    "for each sub-region."
   ]
  },
  {
   "cell_type": "code",
   "execution_count": 21,
   "metadata": {
    "ExecuteTime": {
     "end_time": "2020-03-05T20:46:26.268632Z",
     "start_time": "2020-03-05T20:46:26.264463Z"
    }
   },
   "outputs": [],
   "source": [
    "def measurement_thickness(\n",
    "        adapter, circuit_model,\n",
    "        region=None):\n",
    "    \"\"\"\n",
    "    Measure layer thickness in the given region.\n",
    "    \"\"\"\n",
    "    return adapter.get_thickness(circuit_model, region=region)"
   ]
  },
  {
   "cell_type": "code",
   "execution_count": 31,
   "metadata": {
    "ExecuteTime": {
     "end_time": "2020-03-05T20:59:17.620820Z",
     "start_time": "2020-03-05T20:59:17.611009Z"
    }
   },
   "outputs": [],
   "source": [
    "phenomenon[\"thickness\"] =\\\n",
    "    Phenomenon(\n",
    "        \"Thickness\",\n",
    "        description=\"Thickness of layers.\",\n",
    "        group=\"Composition\")\n",
    "\n",
    "analysis_layer_thickness =\\\n",
    "    BrainCircuitAnalysis(\n",
    "        phenomenon=phenomenon[\"thickness\"],\n",
    "        introduction=\"\"\"\n",
    "        Thickness of layers measured in each region modeled in the circuit.\n",
    "        \"\"\",\n",
    "        methods=\"\"\"\n",
    "        Thickness of layers were measured as the shortest top-bottom line\n",
    "        passing through each voxel in the voxelized space.\n",
    "        \"\"\",\n",
    "        AdapterInterface=CompositionAdapterInterface,\n",
    "        measurement_parameters=Parameters(get_regions),\n",
    "        sample_measurement=measurement_thickness,\n",
    "        measurement_collection=measurement.collection.series_type,\n",
    "        sample_size=20,\n",
    "        plotter=Bars(xvar=\"layer\",\n",
    "                     xlabel=\"Layer\",\n",
    "                     yvar=\"thickness\",\n",
    "                     ylabel=\"Thickness\",\n",
    "                     gvar=\"region\"),\n",
    "        report=CircuitAnalysisReport)"
   ]
  },
  {
   "cell_type": "markdown",
   "metadata": {},
   "source": [
    "## Cell Distribution\n",
    "\n",
    "In this section we study the distribution of cells over the physical geometry\n",
    "of the circuit.\n"
   ]
  },
  {
   "cell_type": "code",
   "execution_count": 40,
   "metadata": {
    "ExecuteTime": {
     "end_time": "2020-03-05T13:03:02.365554Z",
     "start_time": "2020-03-05T13:03:02.357451Z"
    },
    "code_folding": [
     0,
     9,
     19
    ]
   },
   "outputs": [],
   "source": [
    "def random_position(\n",
    "        adapter, circuit_model,\n",
    "        **query):\n",
    "    \"\"\"\n",
    "    Random position in circuit region specified by `query`.\n",
    "    \"\"\"\n",
    "    spatial_query = terminology.circuit.get_spatial_query(query)\n",
    "    return adapter.random_position(circuit_model, **spatial_query)\n",
    "    \n",
    "def random_box(\n",
    "        adapter, circuit_model, \n",
    "        size_roi=100., **query):\n",
    "    \"\"\"\n",
    "    Random cuboid in circuit region specified by `query`.\n",
    "    \"\"\"\n",
    "    position = random_position(adapter, circuit_model, **query)\n",
    "    return Cuboid(position - size_roi, position + size_roi)\\\n",
    "        if position is not None else None\n",
    "\n",
    "def measurement_cell_count_using_sampling(\n",
    "        adapter, circuit_model,\n",
    "        size_roi=100., **query):\n",
    "    \"\"\"\n",
    "    Measure the number of cells in a spatial location specified by the query.\n",
    "    \"\"\"\n",
    "    box = random_box(adapter, circuit_model, size_roi=size_roi, **query)\n",
    "    return adapter.get_cells(circuit_model, roi=box).shape[0]\\\n",
    "        if box is not None else 0."
   ]
  },
  {
   "cell_type": "markdown",
   "metadata": {},
   "source": [
    "### Cell Count\n",
    "\n",
    "Circuit regions and layers are not the same size, and contain different densities\n",
    "of cells."
   ]
  },
  {
   "cell_type": "code",
   "execution_count": 44,
   "metadata": {
    "ExecuteTime": {
     "end_time": "2020-03-05T13:04:29.873388Z",
     "start_time": "2020-03-05T13:04:29.866727Z"
    },
    "code_folding": [
     0,
     5
    ]
   },
   "outputs": [],
   "source": [
    "phenomenon[\"cell_count\"] =\\\n",
    "    Phenomenon(\"Cell Count\", \n",
    "               description=\"Number of cells in the circuit.\",\n",
    "               group=\"Composition\")\n",
    "    \n",
    "analysis_cell_count =\\\n",
    "    BrainCircuitAnalysis(\n",
    "        phenomenon=phenomenon[\"cell_count\"],\n",
    "        introduction=\"\"\"\n",
    "        Number of cells in each of the populated sub-regions are analyzed.\n",
    "        \"\"\",\n",
    "        methods=\"\"\"\n",
    "        Cells were counted in randomly sampled cubic boxes of side $size_roi.\n",
    "        Each sampled box was conditioned to lie in the spatial location \n",
    "        specified by brain-region and layer queried. For each spatial query,\n",
    "        the measured sample contained $sample_size boxes.\n",
    "        \"\"\",\n",
    "        AdapterInterface=CompositionAdapterInterface,\n",
    "        measurement_parameters=Parameters(get_regions_and_layers),\n",
    "        sample_measurement=measurement_cell_count_using_sampling,\n",
    "        sample_size=20,\n",
    "        plotter=MultiPlot(mvar=\"region\",\n",
    "                          plotter=Bars(xvar=\"layer\",\n",
    "                                       xlabel=\"Layer\",\n",
    "                                       yvar=\"cell_count\",\n",
    "                                       ylabel=\"Cell Count\")),\n",
    "        report=CircuitAnalysisReport)\n",
    "                                       "
   ]
  },
  {
   "cell_type": "code",
   "execution_count": 45,
   "metadata": {
    "ExecuteTime": {
     "end_time": "2020-03-05T13:04:37.506152Z",
     "start_time": "2020-03-05T13:04:30.266925Z"
    },
    "code_folding": [
     0
    ]
   },
   "outputs": [
    {
     "name": "stderr",
     "output_type": "stream",
     "text": [
      "\n",
      "\n",
      "\n",
      "  0%|          | 0/480 [00:00<?, ?it/s]\u001b[A\u001b[A\u001b[A\n",
      "\n",
      "\n",
      "  1%|          | 5/480 [00:00<00:09, 49.54it/s]\u001b[A\u001b[A\u001b[A\n",
      "\n",
      "\n",
      "  3%|▎         | 13/480 [00:00<00:08, 55.04it/s]\u001b[A\u001b[A\u001b[A\n",
      "\n",
      "\n",
      "  5%|▍         | 23/480 [00:00<00:07, 62.80it/s]\u001b[A\u001b[A\u001b[A\n",
      "\n",
      "\n",
      "  6%|▋         | 31/480 [00:00<00:06, 67.03it/s]\u001b[A\u001b[A\u001b[A\n",
      "\n",
      "\n",
      "  8%|▊         | 39/480 [00:00<00:06, 70.32it/s]\u001b[A\u001b[A\u001b[A\n",
      "\n",
      "\n",
      " 10%|▉         | 46/480 [00:00<00:06, 68.74it/s]\u001b[A\u001b[A\u001b[A\n",
      "\n",
      "\n",
      " 12%|█▏        | 56/480 [00:00<00:05, 74.68it/s]\u001b[A\u001b[A\u001b[A\n",
      "\n",
      "\n",
      " 13%|█▎        | 64/480 [00:00<00:05, 75.57it/s]\u001b[A\u001b[A\u001b[A\n",
      "\n",
      "\n",
      " 15%|█▌        | 73/480 [00:00<00:05, 76.73it/s]\u001b[A\u001b[A\u001b[A\n",
      "\n",
      "\n",
      " 17%|█▋        | 81/480 [00:01<00:05, 75.86it/s]\u001b[A\u001b[A\u001b[A\n",
      "\n",
      "\n",
      " 19%|█▉        | 90/480 [00:01<00:04, 79.20it/s]\u001b[A\u001b[A\u001b[A\n",
      "\n",
      "\n",
      " 20%|██        | 98/480 [00:01<00:04, 79.21it/s]\u001b[A\u001b[A\u001b[A\n",
      "\n",
      "\n",
      " 22%|██▏       | 106/480 [00:01<00:04, 78.07it/s]\u001b[A\u001b[A\u001b[A\n",
      "\n",
      "\n",
      " 24%|██▍       | 114/480 [00:01<00:04, 78.56it/s]\u001b[A\u001b[A\u001b[A\n",
      "\n",
      "\n",
      " 25%|██▌       | 122/480 [00:01<00:04, 78.85it/s]\u001b[A\u001b[A\u001b[A\n",
      "\n",
      "\n",
      " 28%|██▊       | 132/480 [00:01<00:04, 82.46it/s]\u001b[A\u001b[A\u001b[A\n",
      "\n",
      "\n",
      " 30%|██▉       | 142/480 [00:01<00:03, 84.62it/s]\u001b[A\u001b[A\u001b[A\n",
      "\n",
      "\n",
      " 32%|███▏      | 152/480 [00:01<00:03, 87.17it/s]\u001b[A\u001b[A\u001b[A\n",
      "\n",
      "\n",
      " 34%|███▎      | 161/480 [00:01<00:03, 86.42it/s]\u001b[A\u001b[A\u001b[A\n",
      "\n",
      "\n",
      " 35%|███▌      | 170/480 [00:02<00:03, 85.20it/s]\u001b[A\u001b[A\u001b[A\n",
      "\n",
      "\n",
      " 38%|███▊      | 180/480 [00:02<00:03, 87.49it/s]\u001b[A\u001b[A\u001b[A\n",
      "\n",
      "\n",
      " 39%|███▉      | 189/480 [00:02<00:03, 84.91it/s]\u001b[A\u001b[A\u001b[A\n",
      "\n",
      "\n",
      " 41%|████▏     | 198/480 [00:02<00:03, 84.63it/s]\u001b[A\u001b[A\u001b[A\n",
      "\n",
      "\n",
      " 43%|████▎     | 207/480 [00:02<00:03, 84.07it/s]\u001b[A\u001b[A\u001b[A\n",
      "\n",
      "\n",
      " 45%|████▌     | 216/480 [00:02<00:03, 83.49it/s]\u001b[A\u001b[A\u001b[A\n",
      "\n",
      "\n",
      " 47%|████▋     | 226/480 [00:02<00:02, 86.51it/s]\u001b[A\u001b[A\u001b[A\n",
      "\n",
      "\n",
      " 49%|████▉     | 235/480 [00:02<00:02, 86.54it/s]\u001b[A\u001b[A\u001b[A\n",
      "\n",
      "\n",
      " 51%|█████     | 245/480 [00:02<00:02, 88.48it/s]\u001b[A\u001b[A\u001b[A\n",
      "\n",
      "\n",
      " 53%|█████▎    | 254/480 [00:03<00:02, 84.61it/s]\u001b[A\u001b[A\u001b[A\n",
      "\n",
      "\n",
      " 55%|█████▍    | 263/480 [00:03<00:02, 82.85it/s]\u001b[A\u001b[A\u001b[A\n",
      "\n",
      "\n",
      " 57%|█████▋    | 272/480 [00:03<00:02, 81.01it/s]\u001b[A\u001b[A\u001b[A\n",
      "\n",
      "\n",
      " 59%|█████▊    | 281/480 [00:03<00:02, 81.57it/s]\u001b[A\u001b[A\u001b[A\n",
      "\n",
      "\n",
      " 60%|██████    | 290/480 [00:03<00:02, 82.37it/s]\u001b[A\u001b[A\u001b[A\n",
      "\n",
      "\n",
      " 62%|██████▏   | 299/480 [00:03<00:02, 82.09it/s]\u001b[A\u001b[A\u001b[A\n",
      "\n",
      "\n",
      " 64%|██████▍   | 308/480 [00:03<00:02, 81.46it/s]\u001b[A\u001b[A\u001b[A\n",
      "\n",
      "\n",
      " 66%|██████▋   | 318/480 [00:03<00:01, 85.60it/s]\u001b[A\u001b[A\u001b[A\n",
      "\n",
      "\n",
      " 68%|██████▊   | 327/480 [00:03<00:01, 86.70it/s]\u001b[A\u001b[A\u001b[A\n",
      "\n",
      "\n",
      " 70%|███████   | 337/480 [00:04<00:01, 88.10it/s]\u001b[A\u001b[A\u001b[A\n",
      "\n",
      "\n",
      " 72%|███████▏  | 346/480 [00:04<00:01, 85.75it/s]\u001b[A\u001b[A\u001b[A\n",
      "\n",
      "\n",
      " 74%|███████▍  | 355/480 [00:04<00:01, 86.58it/s]\u001b[A\u001b[A\u001b[A\n",
      "\n",
      "\n",
      " 76%|███████▌  | 364/480 [00:04<00:01, 86.38it/s]\u001b[A\u001b[A\u001b[A\n",
      "\n",
      "\n",
      " 78%|███████▊  | 374/480 [00:04<00:01, 88.39it/s]\u001b[A\u001b[A\u001b[A\n",
      "\n",
      "\n",
      " 80%|████████  | 384/480 [00:04<00:01, 90.57it/s]\u001b[A\u001b[A\u001b[A\n",
      "\n",
      "\n",
      " 82%|████████▏ | 394/480 [00:04<00:00, 90.04it/s]\u001b[A\u001b[A\u001b[A\n",
      "\n",
      "\n",
      " 84%|████████▍ | 404/480 [00:04<00:00, 87.55it/s]\u001b[A\u001b[A\u001b[A\n",
      "\n",
      "\n",
      " 86%|████████▋ | 414/480 [00:04<00:00, 88.68it/s]\u001b[A\u001b[A\u001b[A\n",
      "\n",
      "\n",
      " 88%|████████▊ | 424/480 [00:05<00:00, 89.66it/s]\u001b[A\u001b[A\u001b[A\n",
      "\n",
      "\n",
      " 90%|█████████ | 433/480 [00:05<00:00, 87.34it/s]\u001b[A\u001b[A\u001b[A\n",
      "\n",
      "\n",
      " 92%|█████████▏| 442/480 [00:05<00:00, 85.07it/s]\u001b[A\u001b[A\u001b[A\n",
      "\n",
      "\n",
      " 94%|█████████▍| 451/480 [00:05<00:00, 84.22it/s]\u001b[A\u001b[A\u001b[A\n",
      "\n",
      "\n",
      " 96%|█████████▌| 460/480 [00:05<00:00, 83.95it/s]\u001b[A\u001b[A\u001b[A\n",
      "\n",
      "\n",
      " 98%|█████████▊| 469/480 [00:05<00:00, 82.60it/s]\u001b[A\u001b[A\u001b[A\n",
      "\n",
      "\n",
      "100%|██████████| 480/480 [00:05<00:00, 83.68it/s]\u001b[A\u001b[A\u001b[A\n"
     ]
    },
    {
     "data": {
      "image/png": "[encoded data removed]",
      "text/plain": [
       "<Figure size 931.988x576 with 1 Axes>"
      ]
     },
     "metadata": {
      "needs_background": "light"
     },
     "output_type": "display_data"
    },
    {
     "data": {
      "image/png": "[encoded data removed]",
      "text/plain": [
       "<Figure size 931.988x576 with 1 Axes>"
      ]
     },
     "metadata": {
      "needs_background": "light"
     },
     "output_type": "display_data"
    },
    {
     "data": {
      "image/png": "[encoded data removed]",
      "text/plain": [
       "<Figure size 931.988x576 with 1 Axes>"
      ]
     },
     "metadata": {
      "needs_background": "light"
     },
     "output_type": "display_data"
    },
    {
     "data": {
      "image/png": "[encoded data removed]",
      "text/plain": [
       "<Figure size 931.988x576 with 1 Axes>"
      ]
     },
     "metadata": {
      "needs_background": "light"
     },
     "output_type": "display_data"
    }
   ],
   "source": [
    "report_cell_count =\\\n",
    "    analysis_cell_count(circuit_model, adapter)"
   ]
  },
  {
   "cell_type": "code",
   "execution_count": 50,
   "metadata": {
    "ExecuteTime": {
     "end_time": "2020-03-05T13:07:39.826539Z",
     "start_time": "2020-03-05T13:07:38.213063Z"
    }
   },
   "outputs": [
    {
     "name": "stdout",
     "output_type": "stream",
     "text": [
      "================================================================================\n",
      "\u001b[4m/Users/vishalsoodmuchu/.vmgr_repo/py37/lib/python3.7/site-packages/neuro_dmt/analysis/reporting/__init__.py Logger\u001b[0m\n",
      "\u001b[4mINFO@<2020-03-05 12:29:15>                                                      \u001b[0m\n",
      "Post report cell_count at\n",
      "\t /Users/vishalsoodmuchu/work/bbp/work/validations/dmt/v2/neuro_dmt/library/users/visood/sscx_dissemination/analyses/notebooks/reports/analyses/cell_count/20200305/140738\n",
      "================================================================================\n",
      "\n"
     ]
    },
    {
     "data": {
      "text/plain": [
       "'/Users/vishalsoodmuchu/work/bbp/work/validations/dmt/v2/neuro_dmt/library/users/visood/sscx_dissemination/analyses/notebooks/reports/analyses/cell_count/20200305/140738'"
      ]
     },
     "execution_count": 50,
     "metadata": {},
     "output_type": "execute_result"
    }
   ],
   "source": [
    "reporter.post(report_cell_count)"
   ]
  },
  {
   "cell_type": "markdown",
   "metadata": {},
   "source": [
    "### Cell Density\n",
    "\n",
    "The number of cells in an volume specified by a region and layer is determined \n",
    "by the size of volume.\n",
    "We can take out the volume by analyzing cell densities."
   ]
  },
  {
   "cell_type": "code",
   "execution_count": 56,
   "metadata": {
    "ExecuteTime": {
     "end_time": "2020-03-05T13:21:30.923804Z",
     "start_time": "2020-03-05T13:21:30.917710Z"
    }
   },
   "outputs": [],
   "source": [
    "def measurement_cell_density_using_sampling(\n",
    "        adapter, circuit_model,\n",
    "        size_roi=100., **query):\n",
    "    \"\"\"\n",
    "    Measure the density of cells in a spatial location specified by the query.\n",
    "    \"\"\"\n",
    "    box = random_box(adapter, circuit_model, size_roi=size_roi, **query)\n",
    "    \n",
    "    if box is None:\n",
    "        return 0.\n",
    "    count_cells = adapter.get_cells(circuit_model, roi=box).shape[0]\n",
    "    volume_spatial = box.volume\n",
    "    return count_cells / volume_spatial"
   ]
  },
  {
   "cell_type": "code",
   "execution_count": 57,
   "metadata": {
    "ExecuteTime": {
     "end_time": "2020-03-05T13:21:31.160398Z",
     "start_time": "2020-03-05T13:21:31.151050Z"
    },
    "code_folding": [
     0
    ]
   },
   "outputs": [],
   "source": [
    "phenomenon[\"cell_density\"] =\\\n",
    "    Phenomenon(\"Cell Density\", \n",
    "               description=\"Number of cells in a unit volume.\",\n",
    "               group=\"Composition\")\n",
    "    \n",
    "analysis_cell_density =\\\n",
    "    BrainCircuitAnalysis(\n",
    "        phenomenon=phenomenon[\"cell_density\"],\n",
    "        introduction=\"\"\"\n",
    "        Density of cells in each of the populated sub-regions are analyzed.\n",
    "        \"\"\",\n",
    "        methods=\"\"\"\n",
    "        Cells were counted in randomly sampled cubic boxes of side $size_roi.\n",
    "        Each sampled box was conditioned to lie in the spatial location \n",
    "        specified by brain-region and layer queried. For each spatial query,\n",
    "        the measured sample contained $sample_size boxes.\n",
    "        \"\"\",\n",
    "        AdapterInterface=CompositionAdapterInterface,\n",
    "        measurement_parameters=Parameters(get_regions_and_layers),\n",
    "        sample_measurement=measurement_cell_density_using_sampling,\n",
    "        sample_size=20,\n",
    "        plotter=MultiPlot(mvar=\"region\",\n",
    "                          plotter=Bars(xvar=\"layer\",\n",
    "                                       xlabel=\"Layer\",\n",
    "                                       yvar=\"cell_density\",\n",
    "                                       ylabel=\"Cell Density\")),\n",
    "        report=CircuitAnalysisReport)"
   ]
  },
  {
   "cell_type": "code",
   "execution_count": 58,
   "metadata": {
    "ExecuteTime": {
     "end_time": "2020-03-05T13:21:38.732774Z",
     "start_time": "2020-03-05T13:21:31.709577Z"
    }
   },
   "outputs": [
    {
     "name": "stderr",
     "output_type": "stream",
     "text": [
      "\n",
      "\n",
      "\n",
      "\n",
      "  0%|          | 0/480 [00:00<?, ?it/s]\u001b[A\u001b[A\u001b[A\u001b[A\n",
      "\n",
      "\n",
      "\n",
      "  1%|▏         | 6/480 [00:00<00:07, 59.47it/s]\u001b[A\u001b[A\u001b[A\u001b[A\n",
      "\n",
      "\n",
      "\n",
      "  3%|▎         | 13/480 [00:00<00:07, 62.16it/s]\u001b[A\u001b[A\u001b[A\u001b[A\n",
      "\n",
      "\n",
      "\n",
      "  4%|▍         | 21/480 [00:00<00:06, 66.32it/s]\u001b[A\u001b[A\u001b[A\u001b[A\n",
      "\n",
      "\n",
      "\n",
      "  6%|▌         | 27/480 [00:00<00:07, 63.19it/s]\u001b[A\u001b[A\u001b[A\u001b[A\n",
      "\n",
      "\n",
      "\n",
      "  8%|▊         | 36/480 [00:00<00:06, 69.17it/s]\u001b[A\u001b[A\u001b[A\u001b[A\n",
      "\n",
      "\n",
      "\n",
      "  9%|▉         | 45/480 [00:00<00:05, 74.10it/s]\u001b[A\u001b[A\u001b[A\u001b[A\n",
      "\n",
      "\n",
      "\n",
      " 11%|█         | 53/480 [00:00<00:05, 75.10it/s]\u001b[A\u001b[A\u001b[A\u001b[A\n",
      "\n",
      "\n",
      "\n",
      " 13%|█▎        | 62/480 [00:00<00:05, 78.87it/s]\u001b[A\u001b[A\u001b[A\u001b[A\n",
      "\n",
      "\n",
      "\n",
      " 15%|█▌        | 72/480 [00:00<00:04, 82.59it/s]\u001b[A\u001b[A\u001b[A\u001b[A\n",
      "\n",
      "\n",
      "\n",
      " 17%|█▋        | 82/480 [00:01<00:04, 85.61it/s]\u001b[A\u001b[A\u001b[A\u001b[A\n",
      "\n",
      "\n",
      "\n",
      " 19%|█▉        | 91/480 [00:01<00:04, 86.72it/s]\u001b[A\u001b[A\u001b[A\u001b[A\n",
      "\n",
      "\n",
      "\n",
      " 21%|██        | 100/480 [00:01<00:04, 85.40it/s]\u001b[A\u001b[A\u001b[A\u001b[A\n",
      "\n",
      "\n",
      "\n",
      " 23%|██▎       | 109/480 [00:01<00:04, 85.04it/s]\u001b[A\u001b[A\u001b[A\u001b[A\n",
      "\n",
      "\n",
      "\n",
      " 25%|██▍       | 119/480 [00:01<00:04, 87.25it/s]\u001b[A\u001b[A\u001b[A\u001b[A\n",
      "\n",
      "\n",
      "\n",
      " 27%|██▋       | 128/480 [00:01<00:04, 87.90it/s]\u001b[A\u001b[A\u001b[A\u001b[A\n",
      "\n",
      "\n",
      "\n",
      " 29%|██▊       | 137/480 [00:01<00:03, 86.25it/s]\u001b[A\u001b[A\u001b[A\u001b[A\n",
      "\n",
      "\n",
      "\n",
      " 31%|███       | 147/480 [00:01<00:03, 88.42it/s]\u001b[A\u001b[A\u001b[A\u001b[A\n",
      "\n",
      "\n",
      "\n",
      " 32%|███▎      | 156/480 [00:01<00:03, 83.99it/s]\u001b[A\u001b[A\u001b[A\u001b[A\n",
      "\n",
      "\n",
      "\n",
      " 35%|███▍      | 166/480 [00:01<00:03, 86.39it/s]\u001b[A\u001b[A\u001b[A\u001b[A\n",
      "\n",
      "\n",
      "\n",
      " 36%|███▋      | 175/480 [00:02<00:03, 87.36it/s]\u001b[A\u001b[A\u001b[A\u001b[A\n",
      "\n",
      "\n",
      "\n",
      " 38%|███▊      | 184/480 [00:02<00:03, 83.56it/s]\u001b[A\u001b[A\u001b[A\u001b[A\n",
      "\n",
      "\n",
      "\n",
      " 40%|████      | 193/480 [00:02<00:03, 83.12it/s]\u001b[A\u001b[A\u001b[A\u001b[A\n",
      "\n",
      "\n",
      "\n",
      " 42%|████▏     | 202/480 [00:02<00:03, 84.53it/s]\u001b[A\u001b[A\u001b[A\u001b[A\n",
      "\n",
      "\n",
      "\n",
      " 44%|████▍     | 212/480 [00:02<00:03, 86.47it/s]\u001b[A\u001b[A\u001b[A\u001b[A\n",
      "\n",
      "\n",
      "\n",
      " 46%|████▌     | 221/480 [00:02<00:03, 84.36it/s]\u001b[A\u001b[A\u001b[A\u001b[A\n",
      "\n",
      "\n",
      "\n",
      " 48%|████▊     | 230/480 [00:02<00:02, 85.81it/s]\u001b[A\u001b[A\u001b[A\u001b[A\n",
      "\n",
      "\n",
      "\n",
      " 50%|████▉     | 239/480 [00:02<00:02, 86.38it/s]\u001b[A\u001b[A\u001b[A\u001b[A\n",
      "\n",
      "\n",
      "\n",
      " 52%|█████▏    | 249/480 [00:02<00:02, 88.07it/s]\u001b[A\u001b[A\u001b[A\u001b[A\n",
      "\n",
      "\n",
      "\n",
      " 54%|█████▍    | 259/480 [00:03<00:02, 90.37it/s]\u001b[A\u001b[A\u001b[A\u001b[A\n",
      "\n",
      "\n",
      "\n",
      " 56%|█████▌    | 269/480 [00:03<00:02, 90.67it/s]\u001b[A\u001b[A\u001b[A\u001b[A\n",
      "\n",
      "\n",
      "\n",
      " 58%|█████▊    | 279/480 [00:03<00:02, 91.80it/s]\u001b[A\u001b[A\u001b[A\u001b[A\n",
      "\n",
      "\n",
      "\n",
      " 60%|██████    | 289/480 [00:03<00:02, 92.39it/s]\u001b[A\u001b[A\u001b[A\u001b[A\n",
      "\n",
      "\n",
      "\n",
      " 62%|██████▏   | 299/480 [00:03<00:01, 93.63it/s]\u001b[A\u001b[A\u001b[A\u001b[A\n",
      "\n",
      "\n",
      "\n",
      " 64%|██████▍   | 309/480 [00:03<00:01, 94.41it/s]\u001b[A\u001b[A\u001b[A\u001b[A\n",
      "\n",
      "\n",
      "\n",
      " 66%|██████▋   | 319/480 [00:03<00:01, 93.72it/s]\u001b[A\u001b[A\u001b[A\u001b[A\n",
      "\n",
      "\n",
      "\n",
      " 69%|██████▊   | 329/480 [00:03<00:01, 91.03it/s]\u001b[A\u001b[A\u001b[A\u001b[A\n",
      "\n",
      "\n",
      "\n",
      " 71%|███████   | 339/480 [00:03<00:01, 92.61it/s]\u001b[A\u001b[A\u001b[A\u001b[A\n",
      "\n",
      "\n",
      "\n",
      " 73%|███████▎  | 349/480 [00:04<00:01, 93.43it/s]\u001b[A\u001b[A\u001b[A\u001b[A\n",
      "\n",
      "\n",
      "\n",
      " 75%|███████▍  | 359/480 [00:04<00:01, 94.08it/s]\u001b[A\u001b[A\u001b[A\u001b[A\n",
      "\n",
      "\n",
      "\n",
      " 77%|███████▋  | 369/480 [00:04<00:01, 93.82it/s]\u001b[A\u001b[A\u001b[A\u001b[A\n",
      "\n",
      "\n",
      "\n",
      " 79%|███████▉  | 379/480 [00:04<00:01, 94.68it/s]\u001b[A\u001b[A\u001b[A\u001b[A\n",
      "\n",
      "\n",
      "\n",
      " 81%|████████  | 389/480 [00:04<00:00, 93.07it/s]\u001b[A\u001b[A\u001b[A\u001b[A\n",
      "\n",
      "\n",
      "\n",
      " 83%|████████▎ | 399/480 [00:04<00:01, 59.92it/s]\u001b[A\u001b[A\u001b[A\u001b[A\n",
      "\n",
      "\n",
      "\n",
      " 85%|████████▌ | 408/480 [00:04<00:01, 65.70it/s]\u001b[A\u001b[A\u001b[A\u001b[A\n",
      "\n",
      "\n",
      "\n",
      " 87%|████████▋ | 417/480 [00:04<00:00, 71.14it/s]\u001b[A\u001b[A\u001b[A\u001b[A\n",
      "\n",
      "\n",
      "\n",
      " 89%|████████▉ | 427/480 [00:05<00:00, 77.10it/s]\u001b[A\u001b[A\u001b[A\u001b[A\n",
      "\n",
      "\n",
      "\n",
      " 91%|█████████ | 437/480 [00:05<00:00, 80.92it/s]\u001b[A\u001b[A\u001b[A\u001b[A\n",
      "\n",
      "\n",
      "\n",
      " 93%|█████████▎| 447/480 [00:05<00:00, 84.59it/s]\u001b[A\u001b[A\u001b[A\u001b[A\n",
      "\n",
      "\n",
      "\n",
      " 95%|█████████▌| 457/480 [00:05<00:00, 86.96it/s]\u001b[A\u001b[A\u001b[A\u001b[A\n",
      "\n",
      "\n",
      "\n",
      " 97%|█████████▋| 467/480 [00:05<00:00, 88.24it/s]\u001b[A\u001b[A\u001b[A\u001b[A\n",
      "\n",
      "\n",
      "\n",
      "100%|██████████| 480/480 [00:05<00:00, 84.94it/s]\u001b[A\u001b[A\u001b[A\u001b[A\n"
     ]
    },
    {
     "data": {
      "image/png": "[encoded data removed]",
      "text/plain": [
       "<Figure size 931.988x576 with 1 Axes>"
      ]
     },
     "metadata": {
      "needs_background": "light"
     },
     "output_type": "display_data"
    },
    {
     "data": {
      "image/png": "[encoded data removed]",
      "text/plain": [
       "<Figure size 931.988x576 with 1 Axes>"
      ]
     },
     "metadata": {
      "needs_background": "light"
     },
     "output_type": "display_data"
    },
    {
     "data": {
      "image/png": "[encoded data removed]",
      "text/plain": [
       "<Figure size 931.988x576 with 1 Axes>"
      ]
     },
     "metadata": {
      "needs_background": "light"
     },
     "output_type": "display_data"
    },
    {
     "data": {
      "image/png": "[encoded data removed]",
      "text/plain": [
       "<Figure size 931.988x576 with 1 Axes>"
      ]
     },
     "metadata": {
      "needs_background": "light"
     },
     "output_type": "display_data"
    }
   ],
   "source": [
    "report_cell_density = analysis_cell_density(circuit_model, adapter)"
   ]
  },
  {
   "cell_type": "code",
   "execution_count": 59,
   "metadata": {
    "ExecuteTime": {
     "end_time": "2020-03-05T13:40:26.781446Z",
     "start_time": "2020-03-05T13:40:25.146273Z"
    }
   },
   "outputs": [
    {
     "name": "stdout",
     "output_type": "stream",
     "text": [
      "================================================================================\n",
      "\u001b[4m/Users/vishalsoodmuchu/.vmgr_repo/py37/lib/python3.7/site-packages/neuro_dmt/analysis/reporting/__init__.py Logger\u001b[0m\n",
      "\u001b[4mINFO@<2020-03-05 12:29:15>                                                      \u001b[0m\n",
      "Post report cell_density at\n",
      "\t /Users/vishalsoodmuchu/work/bbp/work/validations/dmt/v2/neuro_dmt/library/users/visood/sscx_dissemination/analyses/notebooks/reports/analyses/cell_density/20200305/144025\n",
      "================================================================================\n",
      "\n"
     ]
    },
    {
     "data": {
      "text/plain": [
       "'/Users/vishalsoodmuchu/work/bbp/work/validations/dmt/v2/neuro_dmt/library/users/visood/sscx_dissemination/analyses/notebooks/reports/analyses/cell_density/20200305/144025'"
      ]
     },
     "execution_count": 59,
     "metadata": {},
     "output_type": "execute_result"
    }
   ],
   "source": [
    "reporter.post(report_cell_density)"
   ]
  },
  {
   "cell_type": "code",
   "execution_count": null,
   "metadata": {},
   "outputs": [],
   "source": []
  }
 ],
 "metadata": {
  "kernelspec": {
   "display_name": "Python 3",
   "language": "python",
   "name": "python3"
  },
  "language_info": {
   "codemirror_mode": {
    "name": "ipython",
    "version": 3
   },
   "file_extension": ".py",
   "mimetype": "text/x-python",
   "name": "python",
   "nbconvert_exporter": "python",
   "pygments_lexer": "ipython3",
   "version": "3.7.4"
  },
  "latex_envs": {
   "LaTeX_envs_menu_present": true,
   "autoclose": false,
   "autocomplete": true,
   "bibliofile": "biblio.bib",
   "cite_by": "apalike",
   "current_citInitial": 1,
   "eqLabelWithNumbers": true,
   "eqNumInitial": 1,
   "hotkeys": {
    "equation": "Ctrl-E",
    "itemize": "Ctrl-I"
   },
   "labels_anchors": false,
   "latex_user_defs": false,
   "report_style_numbering": false,
   "user_envs_cfg": false
  },
  "toc": {
   "base_numbering": 1,
   "nav_menu": {},
   "number_sections": true,
   "sideBar": true,
   "skip_h1_title": false,
   "title_cell": "Table of Contents",
   "title_sidebar": "Contents",
   "toc_cell": false,
   "toc_position": {},
   "toc_section_display": true,
   "toc_window_display": false
  },
  "varInspector": {
   "cols": {
    "lenName": 16,
    "lenType": 16,
    "lenVar": 40
   },
   "kernels_config": {
    "python": {
     "delete_cmd_postfix": "",
     "delete_cmd_prefix": "del ",
     "library": "var_list.py",
     "varRefreshCmd": "print(var_dic_list())"
    },
    "r": {
     "delete_cmd_postfix": ") ",
     "delete_cmd_prefix": "rm(",
     "library": "var_list.r",
     "varRefreshCmd": "cat(var_dic_list()) "
    }
   },
   "types_to_exclude": [
    "module",
    "function",
    "builtin_function_or_method",
    "instance",
    "_Feature"
   ],
   "window_display": false
  }
 },
 "nbformat": 4,
 "nbformat_minor": 2
}
