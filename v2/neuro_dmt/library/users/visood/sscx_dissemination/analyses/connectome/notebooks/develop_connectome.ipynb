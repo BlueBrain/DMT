{
 "cells": [
  {
   "cell_type": "markdown",
   "metadata": {},
   "source": [
    "# Connectome Analyses\n",
    "\n",
    "We develop tools to analyze a circuit model's connectome."
   ]
  },
  {
   "cell_type": "code",
   "execution_count": 1,
   "metadata": {
    "ExecuteTime": {
     "end_time": "2020-01-24T15:32:52.118740Z",
     "start_time": "2020-01-24T15:32:50.078517Z"
    },
    "code_folding": [
     3,
     5,
     7,
     10
    ]
   },
   "outputs": [
    {
     "name": "stdout",
     "output_type": "stream",
     "text": [
      "('region', 'layer', 'depth', 'height', 'mesocolumn', 'hypercolumn', 'roi', 'mtype', 'etype', 'synapse_class', 'postsynaptic', 'presynaptic')\n",
      "('region', 'layer', 'depth', 'height', 'mesocolumn', 'hypercolumn', 'roi', 'mtype', 'etype', 'synapse_class', 'postsynaptic', 'presynaptic')\n",
      "('region', 'layer', 'depth', 'height', 'mesocolumn', 'hypercolumn', 'roi', 'mtype', 'etype', 'synapse_class', 'postsynaptic', 'presynaptic')\n",
      "('region', 'layer', 'depth', 'height', 'mtype', 'etype', 'synapse_class')\n",
      "('region', 'layer', 'depth', 'height', 'mesocolumn', 'hypercolumn', 'roi', 'mtype', 'etype', 'synapse_class', 'postsynaptic', 'presynaptic')\n",
      "('region', 'layer', 'depth', 'height', 'mesocolumn', 'hypercolumn', 'roi')\n"
     ]
    }
   ],
   "source": [
    "import os\n",
    "import numpy as np\n",
    "import pandas as pd\n",
    "from neuro_dmt.library.users.visood.sscx_dissemination.analyses.composition\\\n",
    "    import CompositionAnalysesSuite\n",
    "from neuro_dmt.models.bluebrain.circuit.atlas import\\\n",
    "    BlueBrainCircuitAtlas\n",
    "from neuro_dmt.models.bluebrain.circuit.model import\\\n",
    "    BlueBrainCircuitModel,\\\n",
    "    CircuitProvenance\n",
    "from neuro_dmt.models.bluebrain.circuit.adapter import\\\n",
    "    BlueBrainCircuitAdapter"
   ]
  },
  {
   "cell_type": "code",
   "execution_count": 2,
   "metadata": {
    "ExecuteTime": {
     "end_time": "2020-01-24T15:32:52.200407Z",
     "start_time": "2020-01-24T15:32:52.192382Z"
    },
    "code_folding": [
     0,
     3,
     7,
     11,
     15,
     19,
     23,
     27
    ]
   },
   "outputs": [],
   "source": [
    "project =\\\n",
    "    os.path.join(\n",
    "        \"/gpfs/bbp.cscs.ch/project\")\n",
    "proj_sscx_diss=\\\n",
    "    os.path.join(\n",
    "        project,\n",
    "        \"proj83\")\n",
    "data_sscx_diss=\\\n",
    "    os.path.join(\n",
    "        proj_sscx_diss,\n",
    "        \"data\")\n",
    "atlases_sscx_diss=\\\n",
    "    os.path.join(\n",
    "        data_sscx_diss,\n",
    "        \"atlas/S1/MEAN\")\n",
    "circuits_sscx_diss=\\\n",
    "    os.path.join(\n",
    "        proj_sscx_diss,\n",
    "        \"circuits\")\n",
    "atlas_bio_m =\\\n",
    "    BlueBrainCircuitAtlas(\n",
    "        path=os.path.join(\n",
    "                atlases_sscx_diss, \"P14-MEAN\"))\n",
    "path_bio_m =\\\n",
    "    os.path.join(\n",
    "        circuits_sscx_diss,\n",
    "        \"Bio_M/20191206\")\n",
    "circuit_bio_m =\\\n",
    "    BlueBrainCircuitModel(\n",
    "        path_circuit_data=path_bio_m,\n",
    "            provenance=CircuitProvenance(\n",
    "                label=\"SSCxRatDisseminationBioM\",\n",
    "                authors=[\"BBP Team\"],\n",
    "                release_date=\"20191212\",\n",
    "                uri=path_bio_m,\n",
    "                animal=\"Wistar Rat\",\n",
    "                age=\"P14\",\n",
    "                brain_region=\"SSCx\"))\n",
    "adapter =\\\n",
    "    BlueBrainCircuitAdapter()"
   ]
  },
  {
   "cell_type": "code",
   "execution_count": 3,
   "metadata": {
    "ExecuteTime": {
     "end_time": "2020-01-24T15:32:53.795964Z",
     "start_time": "2020-01-24T15:32:53.789005Z"
    }
   },
   "outputs": [],
   "source": [
    "from neuro_dmt.library.users.visood.sscx_dissemination.analyses.connectome\\\n",
    "    import PathwaySummary"
   ]
  },
  {
   "cell_type": "code",
   "execution_count": 4,
   "metadata": {
    "ExecuteTime": {
     "end_time": "2020-01-24T15:32:55.907078Z",
     "start_time": "2020-01-24T15:32:55.903296Z"
    }
   },
   "outputs": [],
   "source": [
    "summary_pathway =\\\n",
    "    PathwaySummary(\n",
    "        circuit_model=circuit_bio_m,\n",
    "        adapter=adapter)"
   ]
  },
  {
   "cell_type": "code",
   "execution_count": 5,
   "metadata": {
    "ExecuteTime": {
     "end_time": "2020-01-24T15:33:56.158450Z",
     "start_time": "2020-01-24T15:32:57.517799Z"
    }
   },
   "outputs": [],
   "source": [
    "cells_eg =\\\n",
    "    adapter.get_cells(\n",
    "        circuit_bio_m,\n",
    "        properties={\"layer\", \"mtype\", \"etype\"},\n",
    "        layer=\"L2\")"
   ]
  },
  {
   "cell_type": "code",
   "execution_count": 6,
   "metadata": {
    "ExecuteTime": {
     "end_time": "2020-01-24T15:35:38.392713Z",
     "start_time": "2020-01-24T15:35:38.377530Z"
    }
   },
   "outputs": [
    {
     "data": {
      "text/html": [
       "<div>\n",
       "<style scoped>\n",
       "    .dataframe tbody tr th:only-of-type {\n",
       "        vertical-align: middle;\n",
       "    }\n",
       "\n",
       "    .dataframe tbody tr th {\n",
       "        vertical-align: top;\n",
       "    }\n",
       "\n",
       "    .dataframe thead th {\n",
       "        text-align: right;\n",
       "    }\n",
       "</style>\n",
       "<table border=\"1\" class=\"dataframe\">\n",
       "  <thead>\n",
       "    <tr style=\"text-align: right;\">\n",
       "      <th></th>\n",
       "      <th>mtype</th>\n",
       "      <th>etype</th>\n",
       "      <th>layer</th>\n",
       "      <th>gid</th>\n",
       "    </tr>\n",
       "  </thead>\n",
       "  <tbody>\n",
       "    <tr>\n",
       "      <th>1311604</th>\n",
       "      <td>L2_TPC:A</td>\n",
       "      <td>cADpyr</td>\n",
       "      <td>2</td>\n",
       "      <td>1311604</td>\n",
       "    </tr>\n",
       "    <tr>\n",
       "      <th>1311605</th>\n",
       "      <td>L2_TPC:A</td>\n",
       "      <td>cADpyr</td>\n",
       "      <td>2</td>\n",
       "      <td>1311605</td>\n",
       "    </tr>\n",
       "    <tr>\n",
       "      <th>1311606</th>\n",
       "      <td>L2_TPC:A</td>\n",
       "      <td>cADpyr</td>\n",
       "      <td>2</td>\n",
       "      <td>1311606</td>\n",
       "    </tr>\n",
       "    <tr>\n",
       "      <th>1311607</th>\n",
       "      <td>L2_TPC:A</td>\n",
       "      <td>cADpyr</td>\n",
       "      <td>2</td>\n",
       "      <td>1311607</td>\n",
       "    </tr>\n",
       "    <tr>\n",
       "      <th>1311608</th>\n",
       "      <td>L2_TPC:A</td>\n",
       "      <td>cADpyr</td>\n",
       "      <td>2</td>\n",
       "      <td>1311608</td>\n",
       "    </tr>\n",
       "  </tbody>\n",
       "</table>\n",
       "</div>"
      ],
      "text/plain": [
       "            mtype   etype  layer      gid\n",
       "1311604  L2_TPC:A  cADpyr      2  1311604\n",
       "1311605  L2_TPC:A  cADpyr      2  1311605\n",
       "1311606  L2_TPC:A  cADpyr      2  1311606\n",
       "1311607  L2_TPC:A  cADpyr      2  1311607\n",
       "1311608  L2_TPC:A  cADpyr      2  1311608"
      ]
     },
     "execution_count": 6,
     "metadata": {},
     "output_type": "execute_result"
    }
   ],
   "source": [
    "cells_eg.head()"
   ]
  },
  {
   "cell_type": "code",
   "execution_count": 7,
   "metadata": {
    "ExecuteTime": {
     "end_time": "2020-01-24T15:35:40.247698Z",
     "start_time": "2020-01-24T15:35:39.910878Z"
    }
   },
   "outputs": [
    {
     "ename": "ImportError",
     "evalue": "dlopen(/Users/vishalsoodmuchu/.vmgr_repo/py37/lib/python3.7/site-packages/libsonata.cpython-37m-darwin.so, 2): Library not loaded: /usr/local/lib/libhdf5.101.dylib\n  Referenced from: /Users/vishalsoodmuchu/.vmgr_repo/py37/lib/python3.7/site-packages/libsonata.cpython-37m-darwin.so\n  Reason: image not found",
     "output_type": "error",
     "traceback": [
      "\u001b[0;31m---------------------------------------------------------------------------\u001b[0m",
      "\u001b[0;31mImportError\u001b[0m                               Traceback (most recent call last)",
      "\u001b[0;32m<ipython-input-7-d338baaf302b>\u001b[0m in \u001b[0;36m<module>\u001b[0;34m\u001b[0m\n\u001b[1;32m      3\u001b[0m         _pairs for _pairs in summary_pathway.get_pairs(\n\u001b[1;32m      4\u001b[0m             \u001b[0mcells_eg\u001b[0m\u001b[0;34m.\u001b[0m\u001b[0mhead\u001b[0m\u001b[0;34m(\u001b[0m\u001b[0;34m)\u001b[0m\u001b[0;34m,\u001b[0m\u001b[0;34m\u001b[0m\u001b[0;34m\u001b[0m\u001b[0m\n\u001b[0;32m----> 5\u001b[0;31m             cells_eg.tail())])\n\u001b[0m",
      "\u001b[0;32m<ipython-input-7-d338baaf302b>\u001b[0m in \u001b[0;36m<listcomp>\u001b[0;34m(.0)\u001b[0m\n\u001b[1;32m      1\u001b[0m \u001b[0mpairs_eg\u001b[0m \u001b[0;34m=\u001b[0m\u001b[0;31m\\\u001b[0m\u001b[0;34m\u001b[0m\u001b[0;34m\u001b[0m\u001b[0m\n\u001b[1;32m      2\u001b[0m     pd.concat([\n\u001b[0;32m----> 3\u001b[0;31m         _pairs for _pairs in summary_pathway.get_pairs(\n\u001b[0m\u001b[1;32m      4\u001b[0m             \u001b[0mcells_eg\u001b[0m\u001b[0;34m.\u001b[0m\u001b[0mhead\u001b[0m\u001b[0;34m(\u001b[0m\u001b[0;34m)\u001b[0m\u001b[0;34m,\u001b[0m\u001b[0;34m\u001b[0m\u001b[0;34m\u001b[0m\u001b[0m\n\u001b[1;32m      5\u001b[0m             cells_eg.tail())])\n",
      "\u001b[0;32m~/.vmgr_repo/py37/lib/python3.7/site-packages/neuro_dmt/library/users/visood/sscx_dissemination/analyses/connectome/pathway/__init__.py\u001b[0m in \u001b[0;36mget_pairs\u001b[0;34m(self, pre_synaptic_cells, post_synaptic_cells, upper_bound_soma_distance, with_soma_distance, *args, **kwargs)\u001b[0m\n\u001b[1;32m     88\u001b[0m                 .assign(\n\u001b[1;32m     89\u001b[0m                     number_pairs_connected=self.adapter.are_afferently_connected(\n\u001b[0;32m---> 90\u001b[0;31m                         self.circuit_model, pre_synaptic_cells, post_cell),\n\u001b[0m\u001b[1;32m     91\u001b[0m                     number_pairs_total=1.)\n\u001b[1;32m     92\u001b[0m             \u001b[0;32mif\u001b[0m \u001b[0mupper_bound_soma_distance\u001b[0m \u001b[0;32mis\u001b[0m \u001b[0;32mnot\u001b[0m \u001b[0;32mNone\u001b[0m\u001b[0;34m:\u001b[0m\u001b[0;34m\u001b[0m\u001b[0;34m\u001b[0m\u001b[0m\n",
      "\u001b[0;32m~/.vmgr_repo/py37/lib/python3.7/site-packages/neuro_dmt/models/bluebrain/circuit/adapter/adapter.py\u001b[0m in \u001b[0;36mare_afferently_connected\u001b[0;34m(self, circuit_model, pre_synaptic_cells, post_synaptic_cell)\u001b[0m\n\u001b[1;32m    599\u001b[0m         return np.in1d(\n\u001b[1;32m    600\u001b[0m             \u001b[0mpre_synaptic_cells\u001b[0m\u001b[0;34m.\u001b[0m\u001b[0mgid\u001b[0m\u001b[0;34m.\u001b[0m\u001b[0mvalues\u001b[0m\u001b[0;34m,\u001b[0m\u001b[0;34m\u001b[0m\u001b[0;34m\u001b[0m\u001b[0m\n\u001b[0;32m--> 601\u001b[0;31m             circuit_model.connectome.afferent_gids(post_synaptic_cell.gid))\n\u001b[0m\u001b[1;32m    602\u001b[0m \u001b[0;34m\u001b[0m\u001b[0m\n\u001b[1;32m    603\u001b[0m     def soma_distance(self,\n",
      "\u001b[0;32m~/.vmgr_repo/py37/lib/python3.7/site-packages/dmt/tk/field/__init__.py\u001b[0m in \u001b[0;36meffective\u001b[0;34m(instance)\u001b[0m\n\u001b[1;32m    364\u001b[0m                 \u001b[0minstance\u001b[0m\u001b[0;34m,\u001b[0m\u001b[0;34m\u001b[0m\u001b[0;34m\u001b[0m\u001b[0m\n\u001b[1;32m    365\u001b[0m                 \u001b[0mfield_name_for_storage\u001b[0m\u001b[0;34m,\u001b[0m\u001b[0;34m\u001b[0m\u001b[0;34m\u001b[0m\u001b[0m\n\u001b[0;32m--> 366\u001b[0;31m                 instance_field(instance))\n\u001b[0m\u001b[1;32m    367\u001b[0m         \u001b[0;32mreturn\u001b[0m\u001b[0;31m\\\u001b[0m\u001b[0;34m\u001b[0m\u001b[0;34m\u001b[0m\u001b[0m\n\u001b[1;32m    368\u001b[0m             getattr(\n",
      "\u001b[0;32m~/.vmgr_repo/py37/lib/python3.7/site-packages/neuro_dmt/models/bluebrain/circuit/model/__init__.py\u001b[0m in \u001b[0;36mconnectome\u001b[0;34m(self)\u001b[0m\n\u001b[1;32m    210\u001b[0m         \u001b[0;32mtry\u001b[0m\u001b[0;34m:\u001b[0m\u001b[0;34m\u001b[0m\u001b[0;34m\u001b[0m\u001b[0m\n\u001b[1;32m    211\u001b[0m             \u001b[0mbp\u001b[0m \u001b[0;34m=\u001b[0m \u001b[0mself\u001b[0m\u001b[0;34m.\u001b[0m\u001b[0mbluepy_circuit\u001b[0m\u001b[0;34m\u001b[0m\u001b[0;34m\u001b[0m\u001b[0m\n\u001b[0;32m--> 212\u001b[0;31m             \u001b[0;32mreturn\u001b[0m \u001b[0mbp\u001b[0m\u001b[0;34m.\u001b[0m\u001b[0mconnectome\u001b[0m\u001b[0;34m\u001b[0m\u001b[0;34m\u001b[0m\u001b[0m\n\u001b[0m\u001b[1;32m    213\u001b[0m         \u001b[0;32mexcept\u001b[0m \u001b[0mBluePyError\u001b[0m \u001b[0;32mas\u001b[0m \u001b[0merror\u001b[0m\u001b[0;34m:\u001b[0m\u001b[0;34m\u001b[0m\u001b[0;34m\u001b[0m\u001b[0m\n\u001b[1;32m    214\u001b[0m             logger.warn(\n",
      "\u001b[0;32m~/.vmgr_repo/py37/lib/python3.7/site-packages/lazy/lazy.py\u001b[0m in \u001b[0;36m__get__\u001b[0;34m(self, inst, inst_cls)\u001b[0m\n\u001b[1;32m     26\u001b[0m             \u001b[0mname\u001b[0m \u001b[0;34m=\u001b[0m \u001b[0;34m'_%s%s'\u001b[0m \u001b[0;34m%\u001b[0m \u001b[0;34m(\u001b[0m\u001b[0minst_cls\u001b[0m\u001b[0;34m.\u001b[0m\u001b[0m__name__\u001b[0m\u001b[0;34m,\u001b[0m \u001b[0mname\u001b[0m\u001b[0;34m)\u001b[0m\u001b[0;34m\u001b[0m\u001b[0;34m\u001b[0m\u001b[0m\n\u001b[1;32m     27\u001b[0m \u001b[0;34m\u001b[0m\u001b[0m\n\u001b[0;32m---> 28\u001b[0;31m         \u001b[0mvalue\u001b[0m \u001b[0;34m=\u001b[0m \u001b[0mself\u001b[0m\u001b[0;34m.\u001b[0m\u001b[0m__func\u001b[0m\u001b[0;34m(\u001b[0m\u001b[0minst\u001b[0m\u001b[0;34m)\u001b[0m\u001b[0;34m\u001b[0m\u001b[0;34m\u001b[0m\u001b[0m\n\u001b[0m\u001b[1;32m     29\u001b[0m         \u001b[0minst\u001b[0m\u001b[0;34m.\u001b[0m\u001b[0m__dict__\u001b[0m\u001b[0;34m[\u001b[0m\u001b[0mname\u001b[0m\u001b[0;34m]\u001b[0m \u001b[0;34m=\u001b[0m \u001b[0mvalue\u001b[0m\u001b[0;34m\u001b[0m\u001b[0;34m\u001b[0m\u001b[0m\n\u001b[1;32m     30\u001b[0m         \u001b[0;32mreturn\u001b[0m \u001b[0mvalue\u001b[0m\u001b[0;34m\u001b[0m\u001b[0;34m\u001b[0m\u001b[0m\n",
      "\u001b[0;32m~/.vmgr_repo/py37/lib/python3.7/site-packages/bluepy/v2/circuit.py\u001b[0m in \u001b[0;36mconnectome\u001b[0;34m(self)\u001b[0m\n\u001b[1;32m    174\u001b[0m         return Connectome(\n\u001b[1;32m    175\u001b[0m             \u001b[0mself\u001b[0m\u001b[0;34m.\u001b[0m\u001b[0m_config\u001b[0m\u001b[0;34m[\u001b[0m\u001b[0;34m'connectome'\u001b[0m\u001b[0;34m]\u001b[0m\u001b[0;34m,\u001b[0m \u001b[0mself\u001b[0m\u001b[0;34m,\u001b[0m\u001b[0;34m\u001b[0m\u001b[0;34m\u001b[0m\u001b[0m\n\u001b[0;32m--> 176\u001b[0;31m             \u001b[0mspatial_index\u001b[0m\u001b[0;34m=\u001b[0m\u001b[0mself\u001b[0m\u001b[0;34m.\u001b[0m\u001b[0m_config\u001b[0m\u001b[0;34m.\u001b[0m\u001b[0mget\u001b[0m\u001b[0;34m(\u001b[0m\u001b[0;34m'synapse_index'\u001b[0m\u001b[0;34m)\u001b[0m\u001b[0;34m\u001b[0m\u001b[0;34m\u001b[0m\u001b[0m\n\u001b[0m\u001b[1;32m    177\u001b[0m         )\n\u001b[1;32m    178\u001b[0m \u001b[0;34m\u001b[0m\u001b[0m\n",
      "\u001b[0;32m~/.vmgr_repo/py37/lib/python3.7/site-packages/bluepy/v2/connectome.py\u001b[0m in \u001b[0;36m__init__\u001b[0;34m(self, url, circuit, spatial_index, metadata)\u001b[0m\n\u001b[1;32m     17\u001b[0m         \u001b[0mfilepath\u001b[0m \u001b[0;34m=\u001b[0m \u001b[0mget_file_path_by_url\u001b[0m\u001b[0;34m(\u001b[0m\u001b[0murl\u001b[0m\u001b[0;34m)\u001b[0m\u001b[0;34m\u001b[0m\u001b[0;34m\u001b[0m\u001b[0m\n\u001b[1;32m     18\u001b[0m         \u001b[0;32mif\u001b[0m \u001b[0mfilepath\u001b[0m\u001b[0;34m.\u001b[0m\u001b[0mendswith\u001b[0m\u001b[0;34m(\u001b[0m\u001b[0;34m\".sonata\"\u001b[0m\u001b[0;34m)\u001b[0m\u001b[0;34m:\u001b[0m\u001b[0;34m\u001b[0m\u001b[0;34m\u001b[0m\u001b[0m\n\u001b[0;32m---> 19\u001b[0;31m             \u001b[0;32mfrom\u001b[0m \u001b[0mbluepy\u001b[0m\u001b[0;34m.\u001b[0m\u001b[0mv2\u001b[0m\u001b[0;34m.\u001b[0m\u001b[0mimpl\u001b[0m\u001b[0;34m.\u001b[0m\u001b[0mconnectome_sonata\u001b[0m \u001b[0;32mimport\u001b[0m \u001b[0mSonataConnectome\u001b[0m\u001b[0;34m\u001b[0m\u001b[0;34m\u001b[0m\u001b[0m\n\u001b[0m\u001b[1;32m     20\u001b[0m             \u001b[0mself\u001b[0m\u001b[0;34m.\u001b[0m\u001b[0m_impl\u001b[0m \u001b[0;34m=\u001b[0m \u001b[0mSonataConnectome\u001b[0m\u001b[0;34m(\u001b[0m\u001b[0mfilepath\u001b[0m\u001b[0;34m)\u001b[0m\u001b[0;34m\u001b[0m\u001b[0;34m\u001b[0m\u001b[0m\n\u001b[1;32m     21\u001b[0m         \u001b[0;32melif\u001b[0m \u001b[0mfilepath\u001b[0m\u001b[0;34m.\u001b[0m\u001b[0mendswith\u001b[0m\u001b[0;34m(\u001b[0m\u001b[0;34m\".syn2\"\u001b[0m\u001b[0;34m)\u001b[0m\u001b[0;34m:\u001b[0m\u001b[0;34m\u001b[0m\u001b[0;34m\u001b[0m\u001b[0m\n",
      "\u001b[0;32m~/.vmgr_repo/py37/lib/python3.7/site-packages/bluepy/v2/impl/connectome_sonata.py\u001b[0m in \u001b[0;36m<module>\u001b[0;34m\u001b[0m\n\u001b[1;32m      9\u001b[0m \u001b[0;32mimport\u001b[0m \u001b[0mneurom\u001b[0m \u001b[0;32mas\u001b[0m \u001b[0mnm\u001b[0m\u001b[0;34m\u001b[0m\u001b[0;34m\u001b[0m\u001b[0m\n\u001b[1;32m     10\u001b[0m \u001b[0;32mfrom\u001b[0m \u001b[0mlazy\u001b[0m \u001b[0;32mimport\u001b[0m \u001b[0mlazy\u001b[0m\u001b[0;34m\u001b[0m\u001b[0;34m\u001b[0m\u001b[0m\n\u001b[0;32m---> 11\u001b[0;31m \u001b[0;32mfrom\u001b[0m \u001b[0mlibsonata\u001b[0m \u001b[0;32mimport\u001b[0m \u001b[0mEdgeStorage\u001b[0m\u001b[0;34m,\u001b[0m \u001b[0mSelection\u001b[0m\u001b[0;34m\u001b[0m\u001b[0;34m\u001b[0m\u001b[0m\n\u001b[0m\u001b[1;32m     12\u001b[0m \u001b[0;34m\u001b[0m\u001b[0m\n\u001b[1;32m     13\u001b[0m \u001b[0;32mfrom\u001b[0m \u001b[0mbluepy\u001b[0m\u001b[0;34m.\u001b[0m\u001b[0mexceptions\u001b[0m \u001b[0;32mimport\u001b[0m \u001b[0mBluePyError\u001b[0m\u001b[0;34m\u001b[0m\u001b[0;34m\u001b[0m\u001b[0m\n",
      "\u001b[0;31mImportError\u001b[0m: dlopen(/Users/vishalsoodmuchu/.vmgr_repo/py37/lib/python3.7/site-packages/libsonata.cpython-37m-darwin.so, 2): Library not loaded: /usr/local/lib/libhdf5.101.dylib\n  Referenced from: /Users/vishalsoodmuchu/.vmgr_repo/py37/lib/python3.7/site-packages/libsonata.cpython-37m-darwin.so\n  Reason: image not found"
     ]
    }
   ],
   "source": [
    "pairs_eg =\\\n",
    "    pd.concat([\n",
    "        _pairs for _pairs in summary_pathway.get_pairs(\n",
    "            cells_eg.head(),\n",
    "            cells_eg.tail())])"
   ]
  },
  {
   "cell_type": "code",
   "execution_count": null,
   "metadata": {},
   "outputs": [],
   "source": []
  }
 ],
 "metadata": {
  "kernelspec": {
   "display_name": "Python 3",
   "language": "python",
   "name": "python3"
  },
  "language_info": {
   "codemirror_mode": {
    "name": "ipython",
    "version": 3
   },
   "file_extension": ".py",
   "mimetype": "text/x-python",
   "name": "python",
   "nbconvert_exporter": "python",
   "pygments_lexer": "ipython3",
   "version": "3.7.4"
  },
  "latex_envs": {
   "LaTeX_envs_menu_present": true,
   "autoclose": false,
   "autocomplete": true,
   "bibliofile": "biblio.bib",
   "cite_by": "apalike",
   "current_citInitial": 1,
   "eqLabelWithNumbers": true,
   "eqNumInitial": 1,
   "hotkeys": {
    "equation": "Ctrl-E",
    "itemize": "Ctrl-I"
   },
   "labels_anchors": false,
   "latex_user_defs": false,
   "report_style_numbering": false,
   "user_envs_cfg": false
  },
  "toc": {
   "base_numbering": 1,
   "nav_menu": {},
   "number_sections": true,
   "sideBar": true,
   "skip_h1_title": false,
   "title_cell": "Table of Contents",
   "title_sidebar": "Contents",
   "toc_cell": false,
   "toc_position": {},
   "toc_section_display": true,
   "toc_window_display": false
  },
  "varInspector": {
   "cols": {
    "lenName": 16,
    "lenType": 16,
    "lenVar": 40
   },
   "kernels_config": {
    "python": {
     "delete_cmd_postfix": "",
     "delete_cmd_prefix": "del ",
     "library": "var_list.py",
     "varRefreshCmd": "print(var_dic_list())"
    },
    "r": {
     "delete_cmd_postfix": ") ",
     "delete_cmd_prefix": "rm(",
     "library": "var_list.r",
     "varRefreshCmd": "cat(var_dic_list()) "
    }
   },
   "types_to_exclude": [
    "module",
    "function",
    "builtin_function_or_method",
    "instance",
    "_Feature"
   ],
   "window_display": false
  }
 },
 "nbformat": 4,
 "nbformat_minor": 2
}
