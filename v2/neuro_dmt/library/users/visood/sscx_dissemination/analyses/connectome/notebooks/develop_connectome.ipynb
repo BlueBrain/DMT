{
 "cells": [
  {
   "cell_type": "markdown",
   "metadata": {},
   "source": [
    "# Connectome Analyses\n",
    "\n",
    "We develop tools to analyze a circuit model's connectome."
   ]
  },
  {
   "cell_type": "code",
   "execution_count": 1,
   "metadata": {
    "ExecuteTime": {
     "end_time": "2020-02-19T18:01:41.188298Z",
     "start_time": "2020-02-19T18:01:39.725620Z"
    },
    "code_folding": [
     5,
     7,
     10
    ]
   },
   "outputs": [
    {
     "name": "stdout",
     "output_type": "stream",
     "text": [
      "('region', 'layer', 'depth', 'height', 'mesocolumn', 'hypercolumn', 'roi', 'mtype', 'etype', 'synapse_class', 'postsynaptic', 'presynaptic')\n",
      "('region', 'layer', 'depth', 'height', 'mesocolumn', 'hypercolumn', 'roi', 'mtype', 'etype', 'synapse_class', 'postsynaptic', 'presynaptic')\n",
      "('region', 'layer', 'depth', 'height', 'mesocolumn', 'hypercolumn', 'roi', 'mtype', 'etype', 'synapse_class', 'postsynaptic', 'presynaptic')\n",
      "('region', 'layer', 'depth', 'height', 'mtype', 'etype', 'synapse_class')\n",
      "('region', 'layer', 'depth', 'height', 'mesocolumn', 'hypercolumn', 'roi', 'mtype', 'etype', 'synapse_class', 'postsynaptic', 'presynaptic')\n",
      "('region', 'layer', 'depth', 'height', 'mesocolumn', 'hypercolumn', 'roi')\n"
     ]
    }
   ],
   "source": [
    "import os\n",
    "import numpy as np\n",
    "import pandas as pd\n",
    "from neuro_dmt.library.users.visood.sscx_dissemination.analyses.composition\\\n",
    "    import CompositionAnalysesSuite\n",
    "from neuro_dmt.library.users.visood.sscx_dissemination.analyses.connectome\\\n",
    "    import ConnectomeAnalysesSuite\n",
    "from neuro_dmt.models.bluebrain.circuit.atlas import\\\n",
    "    BlueBrainCircuitAtlas\n",
    "from neuro_dmt.models.bluebrain.circuit.model import\\\n",
    "    BlueBrainCircuitModel,\\\n",
    "    CircuitProvenance\n",
    "from neuro_dmt.models.bluebrain.circuit.adapter import\\\n",
    "    BlueBrainCircuitAdapter"
   ]
  },
  {
   "cell_type": "code",
   "execution_count": 2,
   "metadata": {
    "ExecuteTime": {
     "end_time": "2020-02-19T18:01:41.310051Z",
     "start_time": "2020-02-19T18:01:41.304041Z"
    },
    "code_folding": [
     15,
     19,
     23
    ]
   },
   "outputs": [],
   "source": [
    "project =\\\n",
    "    os.path.join(\n",
    "        \"/gpfs/bbp.cscs.ch/project\")\n",
    "proj_sscx_diss=\\\n",
    "    os.path.join(\n",
    "        project,\n",
    "        \"proj83\")\n",
    "data_sscx_diss=\\\n",
    "    os.path.join(\n",
    "        proj_sscx_diss,\n",
    "        \"data\")\n",
    "atlases_sscx_diss=\\\n",
    "    os.path.join(\n",
    "        data_sscx_diss,\n",
    "        \"atlas/S1/MEAN\")\n",
    "circuits_sscx_diss=\\\n",
    "    os.path.join(\n",
    "        proj_sscx_diss,\n",
    "        \"circuits\")\n",
    "atlas_bio_m =\\\n",
    "    BlueBrainCircuitAtlas(\n",
    "        path=os.path.join(\n",
    "                atlases_sscx_diss, \"P14-MEAN\"))\n",
    "path_bio_m =\\\n",
    "    os.path.join(\n",
    "        circuits_sscx_diss,\n",
    "        \"Bio_M/20191206\")\n",
    "circuit_bio_m =\\\n",
    "    BlueBrainCircuitModel(\n",
    "        path_circuit_data=path_bio_m,\n",
    "            provenance=CircuitProvenance(\n",
    "                label=\"SSCxRatDisseminationBioM\",\n",
    "                authors=[\"BBP Team\"],\n",
    "                release_date=\"20191212\",\n",
    "                uri=path_bio_m,\n",
    "                animal=\"Wistar Rat\",\n",
    "                age=\"P14\",\n",
    "                brain_region=\"SSCx\"))\n",
    "adapter =\\\n",
    "    BlueBrainCircuitAdapter()\n",
    "suite_connectome_analyses =\\\n",
    "    ConnectomeAnalysesSuite(\n",
    "        sample_size=20)"
   ]
  },
  {
   "cell_type": "markdown",
   "metadata": {},
   "source": [
    "## Mock circuit\n",
    "\n",
    "We will use a mock-circuit to test-develop connectome analyses."
   ]
  },
  {
   "cell_type": "code",
   "execution_count": 3,
   "metadata": {
    "ExecuteTime": {
     "end_time": "2020-02-19T18:05:52.766826Z",
     "start_time": "2020-02-19T18:01:42.543249Z"
    },
    "code_folding": [
     6
    ]
   },
   "outputs": [
    {
     "name": "stderr",
     "output_type": "stream",
     "text": [
      "82304it [02:03, 664.16it/s]\n",
      "100%|██████████| 82304/82304 [01:34<00:00, 871.93it/s]\n"
     ]
    }
   ],
   "source": [
    "from neuro_dmt.models.bluebrain.circuit.mock.circuit import\\\n",
    "    MockCircuit\n",
    "from neuro_dmt.models.bluebrain.circuit.mock.test.mock_circuit_light import\\\n",
    "    circuit_composition,\\\n",
    "    circuit_connectivity\n",
    "\n",
    "bluepy_mock_circuit =\\\n",
    "    MockCircuit.build(\n",
    "        circuit_composition,\n",
    "        circuit_connectivity)\n",
    "mock_circuit_model =\\\n",
    "    BlueBrainCircuitModel(\n",
    "        bluepy_mock_circuit,\n",
    "        label=\"BlueBrainCircuitModelMockLight\")"
   ]
  },
  {
   "cell_type": "markdown",
   "metadata": {},
   "source": [
    "# Adapter Functionality\n",
    "\n",
    "In this section we develop our adapter's functionality"
   ]
  },
  {
   "cell_type": "code",
   "execution_count": 4,
   "metadata": {
    "ExecuteTime": {
     "end_time": "2020-02-19T18:08:06.434950Z",
     "start_time": "2020-02-19T18:08:06.406756Z"
    }
   },
   "outputs": [
    {
     "name": "stdout",
     "output_type": "stream",
     "text": [
      "     mtype\n",
      "0   L1_DAC\n",
      "1  L1_SLAC\n",
      "2   L23_MC\n",
      "3  L23_ChC\n",
      "4  L23_SBC\n",
      "  etype    mtype\n",
      "0  bNAC   L1_DAC\n",
      "1   NAC   L1_DAC\n",
      "2  bNAC  L1_SLAC\n",
      "3   NAC  L1_SLAC\n",
      "4  bNAC   L23_MC\n"
     ]
    }
   ],
   "source": [
    "from neuro_dmt.models.bluebrain.circuit.adapter\\\n",
    "    import BlueBrainCircuitAdapter\n",
    "adapter = BlueBrainCircuitAdapter()\n",
    "cell_types_m = adapter.get_cell_types(mock_circuit_model, (\"mtype\",))\n",
    "print(cell_types_m.head())\n",
    "cell_types_me = adapter.get_cell_types(mock_circuit_model, (\"mtype\", \"etype\",) )\n",
    "print(cell_types_me.head())"
   ]
  },
  {
   "cell_type": "code",
   "execution_count": 5,
   "metadata": {
    "ExecuteTime": {
     "end_time": "2020-02-19T18:08:10.533042Z",
     "start_time": "2020-02-19T18:08:07.455987Z"
    }
   },
   "outputs": [
    {
     "name": "stdout",
     "output_type": "stream",
     "text": [
      "(1444, 4)\n"
     ]
    },
    {
     "data": {
      "text/html": [
       "<div>\n",
       "<style scoped>\n",
       "    .dataframe tbody tr th:only-of-type {\n",
       "        vertical-align: middle;\n",
       "    }\n",
       "\n",
       "    .dataframe tbody tr th {\n",
       "        vertical-align: top;\n",
       "    }\n",
       "\n",
       "    .dataframe thead tr th {\n",
       "        text-align: left;\n",
       "    }\n",
       "</style>\n",
       "<table border=\"1\" class=\"dataframe\">\n",
       "  <thead>\n",
       "    <tr>\n",
       "      <th></th>\n",
       "      <th colspan=\"2\" halign=\"left\">pre_synaptic</th>\n",
       "      <th colspan=\"2\" halign=\"left\">post_synaptic</th>\n",
       "    </tr>\n",
       "    <tr>\n",
       "      <th></th>\n",
       "      <th>etype</th>\n",
       "      <th>mtype</th>\n",
       "      <th>etype</th>\n",
       "      <th>mtype</th>\n",
       "    </tr>\n",
       "  </thead>\n",
       "  <tbody>\n",
       "    <tr>\n",
       "      <th>0</th>\n",
       "      <td>bNAC</td>\n",
       "      <td>L1_DAC</td>\n",
       "      <td>bNAC</td>\n",
       "      <td>L1_DAC</td>\n",
       "    </tr>\n",
       "    <tr>\n",
       "      <th>1</th>\n",
       "      <td>bNAC</td>\n",
       "      <td>L1_DAC</td>\n",
       "      <td>NAC</td>\n",
       "      <td>L1_DAC</td>\n",
       "    </tr>\n",
       "    <tr>\n",
       "      <th>2</th>\n",
       "      <td>bNAC</td>\n",
       "      <td>L1_DAC</td>\n",
       "      <td>bNAC</td>\n",
       "      <td>L1_SLAC</td>\n",
       "    </tr>\n",
       "    <tr>\n",
       "      <th>3</th>\n",
       "      <td>bNAC</td>\n",
       "      <td>L1_DAC</td>\n",
       "      <td>NAC</td>\n",
       "      <td>L1_SLAC</td>\n",
       "    </tr>\n",
       "    <tr>\n",
       "      <th>4</th>\n",
       "      <td>bNAC</td>\n",
       "      <td>L1_DAC</td>\n",
       "      <td>bNAC</td>\n",
       "      <td>L23_MC</td>\n",
       "    </tr>\n",
       "  </tbody>\n",
       "</table>\n",
       "</div>"
      ],
      "text/plain": [
       "  pre_synaptic         post_synaptic         \n",
       "         etype   mtype         etype    mtype\n",
       "0         bNAC  L1_DAC          bNAC   L1_DAC\n",
       "1         bNAC  L1_DAC           NAC   L1_DAC\n",
       "2         bNAC  L1_DAC          bNAC  L1_SLAC\n",
       "3         bNAC  L1_DAC           NAC  L1_SLAC\n",
       "4         bNAC  L1_DAC          bNAC   L23_MC"
      ]
     },
     "execution_count": 5,
     "metadata": {},
     "output_type": "execute_result"
    }
   ],
   "source": [
    "pathways = adapter.get_pathways(mock_circuit_model, (\"mtype\", \"etype\"))\n",
    "print(pathways.shape)\n",
    "assert pathways.shape[0] == cell_types_me.shape[0] ** 2\n",
    "pathways.head()"
   ]
  },
  {
   "cell_type": "code",
   "execution_count": 6,
   "metadata": {
    "ExecuteTime": {
     "end_time": "2020-02-19T18:08:11.582517Z",
     "start_time": "2020-02-19T18:08:11.571760Z"
    }
   },
   "outputs": [
    {
     "data": {
      "text/plain": [
       "pre_synaptic   etype      bNAC\n",
       "               mtype    L1_DAC\n",
       "post_synaptic  etype       NAC\n",
       "               mtype    L1_DAC\n",
       "Name: 1, dtype: object"
      ]
     },
     "execution_count": 6,
     "metadata": {},
     "output_type": "execute_result"
    }
   ],
   "source": [
    "pathways.iloc[1]"
   ]
  },
  {
   "cell_type": "code",
   "execution_count": 7,
   "metadata": {
    "ExecuteTime": {
     "end_time": "2020-02-19T18:08:12.805332Z",
     "start_time": "2020-02-19T18:08:12.729253Z"
    }
   },
   "outputs": [
    {
     "data": {
      "text/plain": [
       "array(['NAC'], dtype=object)"
      ]
     },
     "execution_count": 7,
     "metadata": {},
     "output_type": "execute_result"
    }
   ],
   "source": [
    "adapter.get_cells(mock_circuit_model,\n",
    "                  **pathways.iloc[1].post_synaptic)\\\n",
    "        .etype\\\n",
    "        .unique()"
   ]
  },
  {
   "cell_type": "markdown",
   "metadata": {},
   "source": [
    "# Number of Afferent Connections\n",
    "\n",
    "We develop an analysis of the number of afferent connections"
   ]
  },
  {
   "cell_type": "code",
   "execution_count": 8,
   "metadata": {
    "ExecuteTime": {
     "end_time": "2020-02-19T18:08:14.102774Z",
     "start_time": "2020-02-19T18:08:14.097374Z"
    }
   },
   "outputs": [],
   "source": [
    "from neuro_dmt.analysis.reporting import CheetahReporter\n",
    "reporter_analyses =\\\n",
    "    CheetahReporter(\n",
    "        path_output_folder=os.path.join(\n",
    "            suite_connectome_analyses.path_reports,\n",
    "            \"analyses\"))"
   ]
  },
  {
   "cell_type": "markdown",
   "metadata": {},
   "source": [
    "We can also run our analyses over a chosen set of cell-types."
   ]
  },
  {
   "cell_type": "code",
   "execution_count": 9,
   "metadata": {
    "ExecuteTime": {
     "end_time": "2020-02-19T18:08:17.437472Z",
     "start_time": "2020-02-19T18:08:17.376241Z"
    }
   },
   "outputs": [
    {
     "data": {
      "text/plain": [
       "etype                    NAC\n",
       "layer                      2\n",
       "morph_class      not-defined\n",
       "mtype                 L23_MC\n",
       "nucleus          not-defined\n",
       "region                  S1Sh\n",
       "synapse_class            INH\n",
       "x                    196.675\n",
       "y                    212.023\n",
       "z                    2.38328\n",
       "gid                    62165\n",
       "Name: 62165, dtype: object"
      ]
     },
     "execution_count": 9,
     "metadata": {},
     "output_type": "execute_result"
    }
   ],
   "source": [
    "post_synaptic_cell =\\\n",
    "    suite_connectome_analyses\\\n",
    "        .random_cell(\n",
    "            mock_circuit_model,\n",
    "            adapter,\n",
    "            {\"mtype\": \"L23_MC\"})\n",
    "post_synaptic_cell"
   ]
  },
  {
   "cell_type": "code",
   "execution_count": 10,
   "metadata": {
    "ExecuteTime": {
     "end_time": "2020-02-19T18:08:34.265948Z",
     "start_time": "2020-02-19T18:08:20.307525Z"
    }
   },
   "outputs": [
    {
     "name": "stderr",
     "output_type": "stream",
     "text": [
      "100%|██████████| 82304/82304 [00:06<00:00, 13667.90it/s]\n"
     ]
    },
    {
     "data": {
      "text/plain": [
       "mtype    soma_distance\n",
       "L1_DAC   50.0             1.0\n",
       "L1_SLAC  150.0            2.0\n",
       "L23_ChC  50.0             1.0\n",
       "         250.0            1.0\n",
       "         350.0            1.0\n",
       "Name: number_connections_afferent, dtype: float64"
      ]
     },
     "execution_count": 10,
     "metadata": {},
     "output_type": "execute_result"
    }
   ],
   "source": [
    "cells = adapter.get_cells(mock_circuit_model)\n",
    "post_synaptic_cell = cells.iloc[0]\n",
    "m =\\\n",
    "    suite_connectome_analyses\\\n",
    "        .number_connections_afferent(\n",
    "            mock_circuit_model, adapter,\n",
    "            cells.iloc[0],\n",
    "            cell_properties_groupby=[\"mtype\"])\n",
    "m.head()"
   ]
  },
  {
   "cell_type": "code",
   "execution_count": 41,
   "metadata": {
    "ExecuteTime": {
     "end_time": "2020-02-19T18:17:04.809042Z",
     "start_time": "2020-02-19T18:17:04.027083Z"
    },
    "scrolled": true
   },
   "outputs": [
    {
     "data": {
      "text/html": [
       "<div>\n",
       "<style scoped>\n",
       "    .dataframe tbody tr th:only-of-type {\n",
       "        vertical-align: middle;\n",
       "    }\n",
       "\n",
       "    .dataframe tbody tr th {\n",
       "        vertical-align: top;\n",
       "    }\n",
       "\n",
       "    .dataframe thead th {\n",
       "        text-align: right;\n",
       "    }\n",
       "</style>\n",
       "<table border=\"1\" class=\"dataframe\">\n",
       "  <thead>\n",
       "    <tr style=\"text-align: right;\">\n",
       "      <th></th>\n",
       "      <th></th>\n",
       "      <th>41994</th>\n",
       "      <th>412</th>\n",
       "      <th>21025</th>\n",
       "      <th>20905</th>\n",
       "      <th>62583</th>\n",
       "      <th>20886</th>\n",
       "      <th>329</th>\n",
       "      <th>930</th>\n",
       "      <th>401</th>\n",
       "      <th>308</th>\n",
       "      <th>423</th>\n",
       "      <th>290</th>\n",
       "      <th>62136</th>\n",
       "      <th>811</th>\n",
       "      <th>62561</th>\n",
       "      <th>62012</th>\n",
       "      <th>42000</th>\n",
       "      <th>21389</th>\n",
       "      <th>21508</th>\n",
       "      <th>41960</th>\n",
       "    </tr>\n",
       "    <tr>\n",
       "      <th>(pre_synaptic_cell, mtype)</th>\n",
       "      <th>soma_distance</th>\n",
       "      <th></th>\n",
       "      <th></th>\n",
       "      <th></th>\n",
       "      <th></th>\n",
       "      <th></th>\n",
       "      <th></th>\n",
       "      <th></th>\n",
       "      <th></th>\n",
       "      <th></th>\n",
       "      <th></th>\n",
       "      <th></th>\n",
       "      <th></th>\n",
       "      <th></th>\n",
       "      <th></th>\n",
       "      <th></th>\n",
       "      <th></th>\n",
       "      <th></th>\n",
       "      <th></th>\n",
       "      <th></th>\n",
       "      <th></th>\n",
       "    </tr>\n",
       "  </thead>\n",
       "  <tbody>\n",
       "    <tr>\n",
       "      <th rowspan=\"5\" valign=\"top\">L1_DAC</th>\n",
       "      <th>50.0</th>\n",
       "      <td>NaN</td>\n",
       "      <td>NaN</td>\n",
       "      <td>10.0</td>\n",
       "      <td>NaN</td>\n",
       "      <td>NaN</td>\n",
       "      <td>6.0</td>\n",
       "      <td>NaN</td>\n",
       "      <td>NaN</td>\n",
       "      <td>NaN</td>\n",
       "      <td>NaN</td>\n",
       "      <td>NaN</td>\n",
       "      <td>7.0</td>\n",
       "      <td>NaN</td>\n",
       "      <td>NaN</td>\n",
       "      <td>NaN</td>\n",
       "      <td>NaN</td>\n",
       "      <td>NaN</td>\n",
       "      <td>NaN</td>\n",
       "      <td>NaN</td>\n",
       "      <td>NaN</td>\n",
       "    </tr>\n",
       "    <tr>\n",
       "      <th>150.0</th>\n",
       "      <td>NaN</td>\n",
       "      <td>NaN</td>\n",
       "      <td>12.0</td>\n",
       "      <td>NaN</td>\n",
       "      <td>NaN</td>\n",
       "      <td>11.0</td>\n",
       "      <td>3.0</td>\n",
       "      <td>NaN</td>\n",
       "      <td>11.0</td>\n",
       "      <td>5.0</td>\n",
       "      <td>12.0</td>\n",
       "      <td>4.0</td>\n",
       "      <td>NaN</td>\n",
       "      <td>NaN</td>\n",
       "      <td>NaN</td>\n",
       "      <td>8.0</td>\n",
       "      <td>NaN</td>\n",
       "      <td>NaN</td>\n",
       "      <td>NaN</td>\n",
       "      <td>NaN</td>\n",
       "    </tr>\n",
       "    <tr>\n",
       "      <th>250.0</th>\n",
       "      <td>NaN</td>\n",
       "      <td>NaN</td>\n",
       "      <td>4.0</td>\n",
       "      <td>NaN</td>\n",
       "      <td>8.0</td>\n",
       "      <td>NaN</td>\n",
       "      <td>NaN</td>\n",
       "      <td>NaN</td>\n",
       "      <td>NaN</td>\n",
       "      <td>8.0</td>\n",
       "      <td>9.0</td>\n",
       "      <td>NaN</td>\n",
       "      <td>5.0</td>\n",
       "      <td>NaN</td>\n",
       "      <td>NaN</td>\n",
       "      <td>NaN</td>\n",
       "      <td>12.0</td>\n",
       "      <td>NaN</td>\n",
       "      <td>NaN</td>\n",
       "      <td>NaN</td>\n",
       "    </tr>\n",
       "    <tr>\n",
       "      <th>350.0</th>\n",
       "      <td>NaN</td>\n",
       "      <td>NaN</td>\n",
       "      <td>NaN</td>\n",
       "      <td>NaN</td>\n",
       "      <td>NaN</td>\n",
       "      <td>NaN</td>\n",
       "      <td>NaN</td>\n",
       "      <td>NaN</td>\n",
       "      <td>NaN</td>\n",
       "      <td>NaN</td>\n",
       "      <td>NaN</td>\n",
       "      <td>NaN</td>\n",
       "      <td>NaN</td>\n",
       "      <td>NaN</td>\n",
       "      <td>NaN</td>\n",
       "      <td>NaN</td>\n",
       "      <td>NaN</td>\n",
       "      <td>NaN</td>\n",
       "      <td>9.0</td>\n",
       "      <td>NaN</td>\n",
       "    </tr>\n",
       "    <tr>\n",
       "      <th>450.0</th>\n",
       "      <td>NaN</td>\n",
       "      <td>NaN</td>\n",
       "      <td>NaN</td>\n",
       "      <td>NaN</td>\n",
       "      <td>NaN</td>\n",
       "      <td>NaN</td>\n",
       "      <td>NaN</td>\n",
       "      <td>2.0</td>\n",
       "      <td>NaN</td>\n",
       "      <td>NaN</td>\n",
       "      <td>NaN</td>\n",
       "      <td>NaN</td>\n",
       "      <td>NaN</td>\n",
       "      <td>4.0</td>\n",
       "      <td>NaN</td>\n",
       "      <td>NaN</td>\n",
       "      <td>NaN</td>\n",
       "      <td>9.0</td>\n",
       "      <td>NaN</td>\n",
       "      <td>NaN</td>\n",
       "    </tr>\n",
       "  </tbody>\n",
       "</table>\n",
       "</div>"
      ],
      "text/plain": [
       "                                          41994  412    21025  20905  62583  \\\n",
       "(pre_synaptic_cell, mtype) soma_distance                                      \n",
       "L1_DAC                     50.0             NaN    NaN   10.0    NaN    NaN   \n",
       "                           150.0            NaN    NaN   12.0    NaN    NaN   \n",
       "                           250.0            NaN    NaN    4.0    NaN    8.0   \n",
       "                           350.0            NaN    NaN    NaN    NaN    NaN   \n",
       "                           450.0            NaN    NaN    NaN    NaN    NaN   \n",
       "\n",
       "                                          20886  329    930    401    308    \\\n",
       "(pre_synaptic_cell, mtype) soma_distance                                      \n",
       "L1_DAC                     50.0             6.0    NaN    NaN    NaN    NaN   \n",
       "                           150.0           11.0    3.0    NaN   11.0    5.0   \n",
       "                           250.0            NaN    NaN    NaN    NaN    8.0   \n",
       "                           350.0            NaN    NaN    NaN    NaN    NaN   \n",
       "                           450.0            NaN    NaN    2.0    NaN    NaN   \n",
       "\n",
       "                                          423    290    62136  811    62561  \\\n",
       "(pre_synaptic_cell, mtype) soma_distance                                      \n",
       "L1_DAC                     50.0             NaN    7.0    NaN    NaN    NaN   \n",
       "                           150.0           12.0    4.0    NaN    NaN    NaN   \n",
       "                           250.0            9.0    NaN    5.0    NaN    NaN   \n",
       "                           350.0            NaN    NaN    NaN    NaN    NaN   \n",
       "                           450.0            NaN    NaN    NaN    4.0    NaN   \n",
       "\n",
       "                                          62012  42000  21389  21508  41960  \n",
       "(pre_synaptic_cell, mtype) soma_distance                                     \n",
       "L1_DAC                     50.0             NaN    NaN    NaN    NaN    NaN  \n",
       "                           150.0            8.0    NaN    NaN    NaN    NaN  \n",
       "                           250.0            NaN   12.0    NaN    NaN    NaN  \n",
       "                           350.0            NaN    NaN    NaN    9.0    NaN  \n",
       "                           450.0            NaN    NaN    9.0    NaN    NaN  "
      ]
     },
     "execution_count": 41,
     "metadata": {},
     "output_type": "execute_result"
    }
   ],
   "source": [
    "from neuro_dmt.library.users.visood.sscx_dissemination.analyses.tools\\\n",
    "    import PathwayMeasurement\n",
    "\n",
    "pathway_measurement =\\\n",
    "    PathwayMeasurement(\n",
    "        value=lambda connections: connections.strength.to_numpy(dtype=np.float64),#suite_connectome_analyses.number_connections_afferent,\n",
    "        sample_size=20)\n",
    "\n",
    "ms =[\n",
    "    m for m in pathway_measurement.sample(\n",
    "        mock_circuit_model,\n",
    "        adapter,\n",
    "        post_synaptic_cell={\"mtype\": \"L23_MC\"})] \n",
    "pd.concat(ms, axis=1).head()"
   ]
  },
  {
   "cell_type": "code",
   "execution_count": 43,
   "metadata": {
    "ExecuteTime": {
     "end_time": "2020-02-19T18:17:13.130834Z",
     "start_time": "2020-02-19T18:17:12.424780Z"
    }
   },
   "outputs": [
    {
     "data": {
      "text/plain": [
       "89.0"
      ]
     },
     "execution_count": 43,
     "metadata": {},
     "output_type": "execute_result"
    }
   ],
   "source": [
    "pathway_measurement.sample_one(mock_circuit_model,\n",
    "                               adapter,\n",
    "                               post_synaptic_cell={\"mtype\": \"L23_MC\"})\\\n",
    "                   .max()"
   ]
  },
  {
   "cell_type": "code",
   "execution_count": 28,
   "metadata": {
    "ExecuteTime": {
     "end_time": "2020-02-19T18:15:17.851253Z",
     "start_time": "2020-02-19T18:15:17.090268Z"
    }
   },
   "outputs": [
    {
     "data": {
      "text/html": [
       "<div>\n",
       "<style scoped>\n",
       "    .dataframe tbody tr th:only-of-type {\n",
       "        vertical-align: middle;\n",
       "    }\n",
       "\n",
       "    .dataframe tbody tr th {\n",
       "        vertical-align: top;\n",
       "    }\n",
       "\n",
       "    .dataframe thead th {\n",
       "        text-align: right;\n",
       "    }\n",
       "</style>\n",
       "<table border=\"1\" class=\"dataframe\">\n",
       "  <thead>\n",
       "    <tr style=\"text-align: right;\">\n",
       "      <th></th>\n",
       "      <th></th>\n",
       "      <th>819</th>\n",
       "      <th>21423</th>\n",
       "      <th>21006</th>\n",
       "      <th>317</th>\n",
       "      <th>42026</th>\n",
       "      <th>62113</th>\n",
       "      <th>62092</th>\n",
       "      <th>62641</th>\n",
       "      <th>21457</th>\n",
       "      <th>328</th>\n",
       "      <th>409</th>\n",
       "      <th>20889</th>\n",
       "      <th>900</th>\n",
       "      <th>62125</th>\n",
       "      <th>839</th>\n",
       "      <th>41529</th>\n",
       "      <th>62648</th>\n",
       "      <th>20950</th>\n",
       "      <th>821</th>\n",
       "      <th>41601</th>\n",
       "    </tr>\n",
       "    <tr>\n",
       "      <th>(pre_synaptic_cell, mtype)</th>\n",
       "      <th>soma_distance</th>\n",
       "      <th></th>\n",
       "      <th></th>\n",
       "      <th></th>\n",
       "      <th></th>\n",
       "      <th></th>\n",
       "      <th></th>\n",
       "      <th></th>\n",
       "      <th></th>\n",
       "      <th></th>\n",
       "      <th></th>\n",
       "      <th></th>\n",
       "      <th></th>\n",
       "      <th></th>\n",
       "      <th></th>\n",
       "      <th></th>\n",
       "      <th></th>\n",
       "      <th></th>\n",
       "      <th></th>\n",
       "      <th></th>\n",
       "      <th></th>\n",
       "    </tr>\n",
       "  </thead>\n",
       "  <tbody>\n",
       "    <tr>\n",
       "      <th rowspan=\"5\" valign=\"top\">L1_DAC</th>\n",
       "      <th>50.0</th>\n",
       "      <td>NaN</td>\n",
       "      <td>NaN</td>\n",
       "      <td>1.0</td>\n",
       "      <td>NaN</td>\n",
       "      <td>NaN</td>\n",
       "      <td>NaN</td>\n",
       "      <td>NaN</td>\n",
       "      <td>NaN</td>\n",
       "      <td>NaN</td>\n",
       "      <td>NaN</td>\n",
       "      <td>NaN</td>\n",
       "      <td>NaN</td>\n",
       "      <td>NaN</td>\n",
       "      <td>1.0</td>\n",
       "      <td>NaN</td>\n",
       "      <td>NaN</td>\n",
       "      <td>NaN</td>\n",
       "      <td>NaN</td>\n",
       "      <td>NaN</td>\n",
       "      <td>NaN</td>\n",
       "    </tr>\n",
       "    <tr>\n",
       "      <th>150.0</th>\n",
       "      <td>NaN</td>\n",
       "      <td>NaN</td>\n",
       "      <td>NaN</td>\n",
       "      <td>NaN</td>\n",
       "      <td>NaN</td>\n",
       "      <td>2.0</td>\n",
       "      <td>NaN</td>\n",
       "      <td>1.0</td>\n",
       "      <td>NaN</td>\n",
       "      <td>NaN</td>\n",
       "      <td>NaN</td>\n",
       "      <td>NaN</td>\n",
       "      <td>NaN</td>\n",
       "      <td>NaN</td>\n",
       "      <td>NaN</td>\n",
       "      <td>4.0</td>\n",
       "      <td>NaN</td>\n",
       "      <td>NaN</td>\n",
       "      <td>NaN</td>\n",
       "      <td>NaN</td>\n",
       "    </tr>\n",
       "    <tr>\n",
       "      <th>250.0</th>\n",
       "      <td>NaN</td>\n",
       "      <td>2.0</td>\n",
       "      <td>NaN</td>\n",
       "      <td>1.0</td>\n",
       "      <td>4.0</td>\n",
       "      <td>NaN</td>\n",
       "      <td>NaN</td>\n",
       "      <td>NaN</td>\n",
       "      <td>NaN</td>\n",
       "      <td>1.0</td>\n",
       "      <td>1.0</td>\n",
       "      <td>NaN</td>\n",
       "      <td>2.0</td>\n",
       "      <td>NaN</td>\n",
       "      <td>NaN</td>\n",
       "      <td>1.0</td>\n",
       "      <td>NaN</td>\n",
       "      <td>NaN</td>\n",
       "      <td>1.0</td>\n",
       "      <td>NaN</td>\n",
       "    </tr>\n",
       "    <tr>\n",
       "      <th>350.0</th>\n",
       "      <td>NaN</td>\n",
       "      <td>NaN</td>\n",
       "      <td>NaN</td>\n",
       "      <td>NaN</td>\n",
       "      <td>NaN</td>\n",
       "      <td>NaN</td>\n",
       "      <td>NaN</td>\n",
       "      <td>1.0</td>\n",
       "      <td>NaN</td>\n",
       "      <td>NaN</td>\n",
       "      <td>NaN</td>\n",
       "      <td>NaN</td>\n",
       "      <td>NaN</td>\n",
       "      <td>NaN</td>\n",
       "      <td>1.0</td>\n",
       "      <td>NaN</td>\n",
       "      <td>1.0</td>\n",
       "      <td>NaN</td>\n",
       "      <td>NaN</td>\n",
       "      <td>NaN</td>\n",
       "    </tr>\n",
       "    <tr>\n",
       "      <th>450.0</th>\n",
       "      <td>2.0</td>\n",
       "      <td>NaN</td>\n",
       "      <td>NaN</td>\n",
       "      <td>NaN</td>\n",
       "      <td>NaN</td>\n",
       "      <td>NaN</td>\n",
       "      <td>NaN</td>\n",
       "      <td>NaN</td>\n",
       "      <td>NaN</td>\n",
       "      <td>NaN</td>\n",
       "      <td>NaN</td>\n",
       "      <td>NaN</td>\n",
       "      <td>NaN</td>\n",
       "      <td>NaN</td>\n",
       "      <td>NaN</td>\n",
       "      <td>NaN</td>\n",
       "      <td>1.0</td>\n",
       "      <td>NaN</td>\n",
       "      <td>NaN</td>\n",
       "      <td>NaN</td>\n",
       "    </tr>\n",
       "  </tbody>\n",
       "</table>\n",
       "</div>"
      ],
      "text/plain": [
       "                                          819    21423  21006  317    42026  \\\n",
       "(pre_synaptic_cell, mtype) soma_distance                                      \n",
       "L1_DAC                     50.0             NaN    NaN    1.0    NaN    NaN   \n",
       "                           150.0            NaN    NaN    NaN    NaN    NaN   \n",
       "                           250.0            NaN    2.0    NaN    1.0    4.0   \n",
       "                           350.0            NaN    NaN    NaN    NaN    NaN   \n",
       "                           450.0            2.0    NaN    NaN    NaN    NaN   \n",
       "\n",
       "                                          62113  62092  62641  21457  328    \\\n",
       "(pre_synaptic_cell, mtype) soma_distance                                      \n",
       "L1_DAC                     50.0             NaN    NaN    NaN    NaN    NaN   \n",
       "                           150.0            2.0    NaN    1.0    NaN    NaN   \n",
       "                           250.0            NaN    NaN    NaN    NaN    1.0   \n",
       "                           350.0            NaN    NaN    1.0    NaN    NaN   \n",
       "                           450.0            NaN    NaN    NaN    NaN    NaN   \n",
       "\n",
       "                                          409    20889  900    62125  839    \\\n",
       "(pre_synaptic_cell, mtype) soma_distance                                      \n",
       "L1_DAC                     50.0             NaN    NaN    NaN    1.0    NaN   \n",
       "                           150.0            NaN    NaN    NaN    NaN    NaN   \n",
       "                           250.0            1.0    NaN    2.0    NaN    NaN   \n",
       "                           350.0            NaN    NaN    NaN    NaN    1.0   \n",
       "                           450.0            NaN    NaN    NaN    NaN    NaN   \n",
       "\n",
       "                                          41529  62648  20950  821    41601  \n",
       "(pre_synaptic_cell, mtype) soma_distance                                     \n",
       "L1_DAC                     50.0             NaN    NaN    NaN    NaN    NaN  \n",
       "                           150.0            4.0    NaN    NaN    NaN    NaN  \n",
       "                           250.0            1.0    NaN    NaN    1.0    NaN  \n",
       "                           350.0            NaN    1.0    NaN    NaN    NaN  \n",
       "                           450.0            NaN    1.0    NaN    NaN    NaN  "
      ]
     },
     "execution_count": 28,
     "metadata": {},
     "output_type": "execute_result"
    }
   ],
   "source": [
    "pathway_measurement.collect(mock_circuit_model,\n",
    "                            adapter,\n",
    "                            post_synaptic_cell={\"mtype\": \"L23_MC\"})\\\n",
    "                   .head()"
   ]
  },
  {
   "cell_type": "code",
   "execution_count": 29,
   "metadata": {
    "ExecuteTime": {
     "end_time": "2020-02-19T18:15:23.861508Z",
     "start_time": "2020-02-19T18:15:22.776060Z"
    }
   },
   "outputs": [
    {
     "data": {
      "text/html": [
       "<div>\n",
       "<style scoped>\n",
       "    .dataframe tbody tr th:only-of-type {\n",
       "        vertical-align: middle;\n",
       "    }\n",
       "\n",
       "    .dataframe tbody tr th {\n",
       "        vertical-align: top;\n",
       "    }\n",
       "\n",
       "    .dataframe thead th {\n",
       "        text-align: right;\n",
       "    }\n",
       "</style>\n",
       "<table border=\"1\" class=\"dataframe\">\n",
       "  <thead>\n",
       "    <tr style=\"text-align: right;\">\n",
       "      <th></th>\n",
       "      <th></th>\n",
       "      <th>count</th>\n",
       "      <th>sum</th>\n",
       "      <th>mean</th>\n",
       "      <th>mad</th>\n",
       "      <th>std</th>\n",
       "      <th>var</th>\n",
       "      <th>min</th>\n",
       "      <th>median</th>\n",
       "      <th>max</th>\n",
       "    </tr>\n",
       "  </thead>\n",
       "  <tbody>\n",
       "    <tr>\n",
       "      <th rowspan=\"5\" valign=\"top\">L1_DAC</th>\n",
       "      <th>50.0</th>\n",
       "      <td>1.0</td>\n",
       "      <td>2.0</td>\n",
       "      <td>2.000000</td>\n",
       "      <td>0.000000</td>\n",
       "      <td>NaN</td>\n",
       "      <td>NaN</td>\n",
       "      <td>2.0</td>\n",
       "      <td>2.0</td>\n",
       "      <td>2.0</td>\n",
       "    </tr>\n",
       "    <tr>\n",
       "      <th>150.0</th>\n",
       "      <td>7.0</td>\n",
       "      <td>9.0</td>\n",
       "      <td>1.285714</td>\n",
       "      <td>0.408163</td>\n",
       "      <td>0.487950</td>\n",
       "      <td>0.238095</td>\n",
       "      <td>1.0</td>\n",
       "      <td>1.0</td>\n",
       "      <td>2.0</td>\n",
       "    </tr>\n",
       "    <tr>\n",
       "      <th>250.0</th>\n",
       "      <td>10.0</td>\n",
       "      <td>14.0</td>\n",
       "      <td>1.400000</td>\n",
       "      <td>0.480000</td>\n",
       "      <td>0.516398</td>\n",
       "      <td>0.266667</td>\n",
       "      <td>1.0</td>\n",
       "      <td>1.0</td>\n",
       "      <td>2.0</td>\n",
       "    </tr>\n",
       "    <tr>\n",
       "      <th>450.0</th>\n",
       "      <td>3.0</td>\n",
       "      <td>5.0</td>\n",
       "      <td>1.666667</td>\n",
       "      <td>0.444444</td>\n",
       "      <td>0.577350</td>\n",
       "      <td>0.333333</td>\n",
       "      <td>1.0</td>\n",
       "      <td>2.0</td>\n",
       "      <td>2.0</td>\n",
       "    </tr>\n",
       "    <tr>\n",
       "      <th>550.0</th>\n",
       "      <td>2.0</td>\n",
       "      <td>2.0</td>\n",
       "      <td>1.000000</td>\n",
       "      <td>0.000000</td>\n",
       "      <td>0.000000</td>\n",
       "      <td>0.000000</td>\n",
       "      <td>1.0</td>\n",
       "      <td>1.0</td>\n",
       "      <td>1.0</td>\n",
       "    </tr>\n",
       "  </tbody>\n",
       "</table>\n",
       "</div>"
      ],
      "text/plain": [
       "              count   sum      mean       mad       std       var  min  \\\n",
       "L1_DAC 50.0     1.0   2.0  2.000000  0.000000       NaN       NaN  2.0   \n",
       "       150.0    7.0   9.0  1.285714  0.408163  0.487950  0.238095  1.0   \n",
       "       250.0   10.0  14.0  1.400000  0.480000  0.516398  0.266667  1.0   \n",
       "       450.0    3.0   5.0  1.666667  0.444444  0.577350  0.333333  1.0   \n",
       "       550.0    2.0   2.0  1.000000  0.000000  0.000000  0.000000  1.0   \n",
       "\n",
       "              median  max  \n",
       "L1_DAC 50.0      2.0  2.0  \n",
       "       150.0     1.0  2.0  \n",
       "       250.0     1.0  2.0  \n",
       "       450.0     2.0  2.0  \n",
       "       550.0     1.0  1.0  "
      ]
     },
     "execution_count": 29,
     "metadata": {},
     "output_type": "execute_result"
    }
   ],
   "source": [
    "pathway_measurement.summary(mock_circuit_model,\n",
    "                            adapter,\n",
    "                            post_synaptic_cell={\"mtype\": \"L23_MC\"})\\\n",
    "                   .head()"
   ]
  },
  {
   "cell_type": "code",
   "execution_count": 16,
   "metadata": {
    "ExecuteTime": {
     "end_time": "2020-02-19T18:09:53.629719Z",
     "start_time": "2020-02-19T18:09:53.578224Z"
    }
   },
   "outputs": [
    {
     "name": "stdout",
     "output_type": "stream",
     "text": [
      "Please provide Field 'value':\n",
      "                        \n",
      "\t\t        Measurement method for a single set of parameter-values.\n",
      "\t\t        \n"
     ]
    },
    {
     "ename": "ValueError",
     "evalue": "\n                    Cannot create 'PathwayMeasurement' instance without required Field 'value'.\n                    Please provide a value as a keyword argument in your \n                    instance initialization.\n                    Missing Field 'value':\n                    \t\n\t\t        Measurement method for a single set of parameter-values.\n\t\t        \n                    ",
     "output_type": "error",
     "traceback": [
      "\u001b[0;31m---------------------------------------------------------------------------\u001b[0m",
      "\u001b[0;31mValueError\u001b[0m                                Traceback (most recent call last)",
      "\u001b[0;32m<ipython-input-16-dc66f49d553a>\u001b[0m in \u001b[0;36m<module>\u001b[0;34m\u001b[0m\n\u001b[1;32m      1\u001b[0m \u001b[0manalysis_naff\u001b[0m \u001b[0;34m=\u001b[0m\u001b[0;31m\\\u001b[0m\u001b[0;34m\u001b[0m\u001b[0;34m\u001b[0m\u001b[0m\n\u001b[0;32m----> 2\u001b[0;31m     \u001b[0msuite_connectome_analyses\u001b[0m\u001b[0;31m\\\u001b[0m\u001b[0;34m\u001b[0m\u001b[0;34m\u001b[0m\u001b[0m\n\u001b[0m\u001b[1;32m      3\u001b[0m         \u001b[0;34m.\u001b[0m\u001b[0manalysis_number_connections_afferent\u001b[0m\u001b[0;34m\u001b[0m\u001b[0;34m\u001b[0m\u001b[0m\n\u001b[1;32m      4\u001b[0m analysis_naff(\n\u001b[1;32m      5\u001b[0m     \u001b[0mmock_circuit_model\u001b[0m\u001b[0;34m,\u001b[0m\u001b[0;34m\u001b[0m\u001b[0;34m\u001b[0m\u001b[0m\n",
      "\u001b[0;32m~/work/bbp/work/validations/dmt/v2/dmt/tk/field/__init__.py\u001b[0m in \u001b[0;36meffective\u001b[0;34m(instance)\u001b[0m\n\u001b[1;32m    377\u001b[0m                 \u001b[0minstance\u001b[0m\u001b[0;34m,\u001b[0m\u001b[0;34m\u001b[0m\u001b[0;34m\u001b[0m\u001b[0m\n\u001b[1;32m    378\u001b[0m                 \u001b[0mfield_name_for_storage\u001b[0m\u001b[0;34m,\u001b[0m\u001b[0;34m\u001b[0m\u001b[0;34m\u001b[0m\u001b[0m\n\u001b[0;32m--> 379\u001b[0;31m                 instance_field(instance))\n\u001b[0m\u001b[1;32m    380\u001b[0m         \u001b[0;32mreturn\u001b[0m\u001b[0;31m\\\u001b[0m\u001b[0;34m\u001b[0m\u001b[0;34m\u001b[0m\u001b[0m\n\u001b[1;32m    381\u001b[0m             getattr(\n",
      "\u001b[0;32m~/work/bbp/work/validations/dmt/v2/neuro_dmt/library/users/visood/sscx_dissemination/analyses/connectome/__init__.py\u001b[0m in \u001b[0;36manalysis_number_connections_afferent\u001b[0;34m(self)\u001b[0m\n\u001b[1;32m    430\u001b[0m             sample_measurement=PathwayMeasurement(\n\u001b[1;32m    431\u001b[0m                 \u001b[0mmethod\u001b[0m\u001b[0;34m=\u001b[0m\u001b[0mself\u001b[0m\u001b[0;34m.\u001b[0m\u001b[0mnumber_connections_afferent\u001b[0m\u001b[0;34m,\u001b[0m\u001b[0;34m\u001b[0m\u001b[0;34m\u001b[0m\u001b[0m\n\u001b[0;32m--> 432\u001b[0;31m                 sampling_methodology=terminology.sampling_methodology.random).sample_one,\n\u001b[0m\u001b[1;32m    433\u001b[0m             \u001b[0mmeasurement_collection\u001b[0m\u001b[0;34m=\u001b[0m\u001b[0mmeasurement\u001b[0m\u001b[0;34m.\u001b[0m\u001b[0mcollection\u001b[0m\u001b[0;34m.\u001b[0m\u001b[0mseries_type\u001b[0m\u001b[0;34m,\u001b[0m\u001b[0;34m\u001b[0m\u001b[0;34m\u001b[0m\u001b[0m\n\u001b[1;32m    434\u001b[0m             plotter=MultiPlot(\n",
      "\u001b[0;32m~/work/bbp/work/validations/dmt/v2/dmt/tk/field/__init__.py\u001b[0m in \u001b[0;36m__init__\u001b[0;34m(self, *args, **kwargs)\u001b[0m\n\u001b[1;32m    158\u001b[0m                         \u001b[0mfield\u001b[0m\u001b[0;34m,\u001b[0m\u001b[0;34m\u001b[0m\u001b[0;34m\u001b[0m\u001b[0m\n\u001b[1;32m    159\u001b[0m                         \u001b[0mfield\u001b[0m\u001b[0;34m,\u001b[0m\u001b[0;34m\u001b[0m\u001b[0;34m\u001b[0m\u001b[0m\n\u001b[0;32m--> 160\u001b[0;31m                         documentation))\n\u001b[0m\u001b[1;32m    161\u001b[0m                 \u001b[0msetattr\u001b[0m\u001b[0;34m(\u001b[0m\u001b[0mself\u001b[0m\u001b[0;34m,\u001b[0m \u001b[0mfield\u001b[0m\u001b[0;34m,\u001b[0m \u001b[0mvalue\u001b[0m\u001b[0;34m)\u001b[0m\u001b[0;34m\u001b[0m\u001b[0;34m\u001b[0m\u001b[0m\n\u001b[1;32m    162\u001b[0m             \u001b[0;32melif\u001b[0m \u001b[0mvalue\u001b[0m \u001b[0;32mis\u001b[0m \u001b[0;32mNone\u001b[0m\u001b[0;34m:\u001b[0m\u001b[0;34m\u001b[0m\u001b[0;34m\u001b[0m\u001b[0m\n",
      "\u001b[0;31mValueError\u001b[0m: \n                    Cannot create 'PathwayMeasurement' instance without required Field 'value'.\n                    Please provide a value as a keyword argument in your \n                    instance initialization.\n                    Missing Field 'value':\n                    \t\n\t\t        Measurement method for a single set of parameter-values.\n\t\t        \n                    "
     ]
    }
   ],
   "source": [
    "analysis_naff =\\\n",
    "    suite_connectome_analyses\\\n",
    "        .analysis_number_connections_afferent\n",
    "analysis_naff(\n",
    "    mock_circuit_model,\n",
    "    adapter)"
   ]
  },
  {
   "cell_type": "markdown",
   "metadata": {},
   "source": [
    "O\n",
    "\n",
    "## SSCx variation"
   ]
  },
  {
   "cell_type": "code",
   "execution_count": null,
   "metadata": {
    "ExecuteTime": {
     "end_time": "2020-01-28T15:07:28.245274Z",
     "start_time": "2020-01-28T15:07:11.867472Z"
    }
   },
   "outputs": [],
   "source": [
    "report_connectome_analyses_bio_m =\\\n",
    "    suite_connectome_analyses\\\n",
    "        .analysis_number_afferent_connections(\n",
    "            circuit_bio_m,\n",
    "            adapter)\n"
   ]
  },
  {
   "cell_type": "markdown",
   "metadata": {},
   "source": [
    "Because 60 post-synaptic mtypes can take too long, we can set the number of \n",
    "mtypes to process in one run:"
   ]
  },
  {
   "cell_type": "code",
   "execution_count": null,
   "metadata": {
    "ExecuteTime": {
     "end_time": "2020-01-28T15:27:33.159721Z",
     "start_time": "2020-01-28T15:27:33.152077Z"
    }
   },
   "outputs": [],
   "source": [
    "def get_layer_mtypes(circuit, query_layer):\n",
    "    mtypes_all =\\\n",
    "        pd.Series(adapter.get_mtypes(circuit), name=\"mtype\")\n",
    "    return\\\n",
    "        list(mtypes_all[\n",
    "                [query_layer in mtype for mtype in mtypes_all]\n",
    "        ].values)\n",
    "def analyze_number_afferent_connections(\n",
    "        circuit,\n",
    "        adapter,\n",
    "        selected_mtypes,\n",
    "        reporter,\n",
    "        **kwargs):\n",
    "    \"\"\"...\"\"\"\n",
    "    suite_connectome_analyses =\\\n",
    "        ConnectomeAnalysesSuite(\n",
    "            sample_size=20,\n",
    "            cell_mtypes=selected_mtypes)\n",
    "    report=\\\n",
    "        suite_connectome_analyses\\\n",
    "            .analysis_number_afferent_connections(\n",
    "                circuit, adapter, **kwargs)\n",
    "    return reporter.post(report)"
   ]
  },
  {
   "cell_type": "code",
   "execution_count": null,
   "metadata": {
    "ExecuteTime": {
     "end_time": "2020-01-28T15:31:01.107529Z",
     "start_time": "2020-01-28T15:29:52.171455Z"
    }
   },
   "outputs": [],
   "source": [
    "analyze_number_afferent_connections(\n",
    "    mock_circuit_model,\n",
    "    adapter,\n",
    "    [\"L5_TPC:A\", \"L5_TPC:B\",  \"L5_UPC\"],\n",
    "    reporter_analyses,\n",
    "    sample_size=200)"
   ]
  },
  {
   "cell_type": "code",
   "execution_count": null,
   "metadata": {
    "ExecuteTime": {
     "end_time": "2020-01-28T14:55:41.223513Z",
     "start_time": "2020-01-28T14:55:39.467704Z"
    }
   },
   "outputs": [],
   "source": [
    "suite_connectome_analyses =\\\n",
    "    ConnectomeAnalysesSuite(\n",
    "        sample_size=20,\n",
    "        cell_mtypes=[\"L23_MC\"])\n",
    "measurement_example =\\\n",
    "    suite_connectome_analyses\\\n",
    "        .analysis_number_afferent_connections\\\n",
    "        .get_measurement(\n",
    "            mock_circuit_model,\n",
    "            adapter)"
   ]
  },
  {
   "cell_type": "code",
   "execution_count": null,
   "metadata": {
    "ExecuteTime": {
     "end_time": "2020-01-28T14:55:53.828127Z",
     "start_time": "2020-01-28T14:55:53.742728Z"
    }
   },
   "outputs": [],
   "source": [
    "measurement_example[\"data\"]"
   ]
  },
  {
   "cell_type": "code",
   "execution_count": null,
   "metadata": {},
   "outputs": [],
   "source": []
  }
 ],
 "metadata": {
  "kernelspec": {
   "display_name": "Python 3",
   "language": "python",
   "name": "python3"
  },
  "language_info": {
   "codemirror_mode": {
    "name": "ipython",
    "version": 3
   },
   "file_extension": ".py",
   "mimetype": "text/x-python",
   "name": "python",
   "nbconvert_exporter": "python",
   "pygments_lexer": "ipython3",
   "version": "3.6.9"
  },
  "latex_envs": {
   "LaTeX_envs_menu_present": true,
   "autoclose": false,
   "autocomplete": true,
   "bibliofile": "biblio.bib",
   "cite_by": "apalike",
   "current_citInitial": 1,
   "eqLabelWithNumbers": true,
   "eqNumInitial": 1,
   "hotkeys": {
    "equation": "Ctrl-E",
    "itemize": "Ctrl-I"
   },
   "labels_anchors": false,
   "latex_user_defs": false,
   "report_style_numbering": false,
   "user_envs_cfg": false
  },
  "toc": {
   "base_numbering": 1,
   "nav_menu": {},
   "number_sections": true,
   "sideBar": true,
   "skip_h1_title": false,
   "title_cell": "Table of Contents",
   "title_sidebar": "Contents",
   "toc_cell": false,
   "toc_position": {},
   "toc_section_display": true,
   "toc_window_display": false
  },
  "varInspector": {
   "cols": {
    "lenName": 16,
    "lenType": 16,
    "lenVar": 40
   },
   "kernels_config": {
    "python": {
     "delete_cmd_postfix": "",
     "delete_cmd_prefix": "del ",
     "library": "var_list.py",
     "varRefreshCmd": "print(var_dic_list())"
    },
    "r": {
     "delete_cmd_postfix": ") ",
     "delete_cmd_prefix": "rm(",
     "library": "var_list.r",
     "varRefreshCmd": "cat(var_dic_list()) "
    }
   },
   "types_to_exclude": [
    "module",
    "function",
    "builtin_function_or_method",
    "instance",
    "_Feature"
   ],
   "window_display": false
  }
 },
 "nbformat": 4,
 "nbformat_minor": 2
}
