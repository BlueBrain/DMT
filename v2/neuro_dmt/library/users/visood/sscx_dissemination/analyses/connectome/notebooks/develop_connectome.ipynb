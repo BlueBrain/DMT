{
 "cells": [
  {
   "cell_type": "markdown",
   "metadata": {},
   "source": [
    "# Connectome Analyses\n",
    "\n",
    "We develop tools to analyze a circuit model's connectome."
   ]
  },
  {
   "cell_type": "code",
   "execution_count": 1,
   "metadata": {
    "ExecuteTime": {
     "end_time": "2020-02-13T15:49:24.670320Z",
     "start_time": "2020-02-13T15:49:23.527300Z"
    },
    "code_folding": [
     5,
     7,
     10
    ]
   },
   "outputs": [
    {
     "name": "stdout",
     "output_type": "stream",
     "text": [
      "('region', 'layer', 'depth', 'height', 'mesocolumn', 'hypercolumn', 'roi', 'mtype', 'etype', 'synapse_class', 'postsynaptic', 'presynaptic')\n",
      "('region', 'layer', 'depth', 'height', 'mesocolumn', 'hypercolumn', 'roi', 'mtype', 'etype', 'synapse_class', 'postsynaptic', 'presynaptic')\n",
      "('region', 'layer', 'depth', 'height', 'mesocolumn', 'hypercolumn', 'roi', 'mtype', 'etype', 'synapse_class', 'postsynaptic', 'presynaptic')\n",
      "('region', 'layer', 'depth', 'height', 'mtype', 'etype', 'synapse_class')\n",
      "('region', 'layer', 'depth', 'height', 'mesocolumn', 'hypercolumn', 'roi', 'mtype', 'etype', 'synapse_class', 'postsynaptic', 'presynaptic')\n",
      "('region', 'layer', 'depth', 'height', 'mesocolumn', 'hypercolumn', 'roi')\n"
     ]
    }
   ],
   "source": [
    "import os\n",
    "import numpy as np\n",
    "import pandas as pd\n",
    "from neuro_dmt.library.users.visood.sscx_dissemination.analyses.composition\\\n",
    "    import CompositionAnalysesSuite\n",
    "from neuro_dmt.library.users.visood.sscx_dissemination.analyses.connectome\\\n",
    "    import ConnectomeAnalysesSuite\n",
    "from neuro_dmt.models.bluebrain.circuit.atlas import\\\n",
    "    BlueBrainCircuitAtlas\n",
    "from neuro_dmt.models.bluebrain.circuit.model import\\\n",
    "    BlueBrainCircuitModel,\\\n",
    "    CircuitProvenance\n",
    "from neuro_dmt.models.bluebrain.circuit.adapter import\\\n",
    "    BlueBrainCircuitAdapter"
   ]
  },
  {
   "cell_type": "code",
   "execution_count": 2,
   "metadata": {
    "ExecuteTime": {
     "end_time": "2020-02-13T15:49:25.064592Z",
     "start_time": "2020-02-13T15:49:25.056572Z"
    },
    "code_folding": [
     15,
     19,
     23
    ]
   },
   "outputs": [],
   "source": [
    "project =\\\n",
    "    os.path.join(\n",
    "        \"/gpfs/bbp.cscs.ch/project\")\n",
    "proj_sscx_diss=\\\n",
    "    os.path.join(\n",
    "        project,\n",
    "        \"proj83\")\n",
    "data_sscx_diss=\\\n",
    "    os.path.join(\n",
    "        proj_sscx_diss,\n",
    "        \"data\")\n",
    "atlases_sscx_diss=\\\n",
    "    os.path.join(\n",
    "        data_sscx_diss,\n",
    "        \"atlas/S1/MEAN\")\n",
    "circuits_sscx_diss=\\\n",
    "    os.path.join(\n",
    "        proj_sscx_diss,\n",
    "        \"circuits\")\n",
    "atlas_bio_m =\\\n",
    "    BlueBrainCircuitAtlas(\n",
    "        path=os.path.join(\n",
    "                atlases_sscx_diss, \"P14-MEAN\"))\n",
    "path_bio_m =\\\n",
    "    os.path.join(\n",
    "        circuits_sscx_diss,\n",
    "        \"Bio_M/20191206\")\n",
    "circuit_bio_m =\\\n",
    "    BlueBrainCircuitModel(\n",
    "        path_circuit_data=path_bio_m,\n",
    "            provenance=CircuitProvenance(\n",
    "                label=\"SSCxRatDisseminationBioM\",\n",
    "                authors=[\"BBP Team\"],\n",
    "                release_date=\"20191212\",\n",
    "                uri=path_bio_m,\n",
    "                animal=\"Wistar Rat\",\n",
    "                age=\"P14\",\n",
    "                brain_region=\"SSCx\"))\n",
    "adapter =\\\n",
    "    BlueBrainCircuitAdapter()\n",
    "suite_connectome_analyses =\\\n",
    "    ConnectomeAnalysesSuite(\n",
    "        sample_size=20)"
   ]
  },
  {
   "cell_type": "markdown",
   "metadata": {},
   "source": [
    "## Mock circuit\n",
    "\n",
    "We will use a mock-circuit to test-develop connectome analyses."
   ]
  },
  {
   "cell_type": "code",
   "execution_count": 3,
   "metadata": {
    "ExecuteTime": {
     "end_time": "2020-02-13T15:54:07.245018Z",
     "start_time": "2020-02-13T15:49:25.420189Z"
    },
    "code_folding": [
     6
    ]
   },
   "outputs": [],
   "source": [
    "from neuro_dmt.models.bluebrain.circuit.mock.circuit import\\\n",
    "    MockCircuit\n",
    "from neuro_dmt.models.bluebrain.circuit.mock.test.mock_circuit_light import\\\n",
    "    circuit_composition,\\\n",
    "    circuit_connectivity\n",
    "\n",
    "bluepy_mock_circuit =\\\n",
    "    MockCircuit.build(\n",
    "        circuit_composition,\n",
    "        circuit_connectivity)\n",
    "mock_circuit_model =\\\n",
    "    BlueBrainCircuitModel(\n",
    "        bluepy_mock_circuit,\n",
    "        label=\"BlueBrainCircuitModelMockLight\")"
   ]
  },
  {
   "cell_type": "markdown",
   "metadata": {},
   "source": [
    "# Adapter Functionality\n",
    "\n",
    "In this section we develop our adapter's functionality"
   ]
  },
  {
   "cell_type": "code",
   "execution_count": 4,
   "metadata": {
    "ExecuteTime": {
     "end_time": "2020-02-13T15:54:21.166409Z",
     "start_time": "2020-02-13T15:54:21.160381Z"
    }
   },
   "outputs": [
    {
     "data": {
      "text/plain": [
       "<neuro_dmt.models.bluebrain.circuit.model.BlueBrainCircuitModel at 0x1234d44d0>"
      ]
     },
     "execution_count": 4,
     "metadata": {},
     "output_type": "execute_result"
    }
   ],
   "source": [
    "mock_circuit_model"
   ]
  },
  {
   "cell_type": "code",
   "execution_count": 5,
   "metadata": {
    "ExecuteTime": {
     "end_time": "2020-02-13T15:54:21.657525Z",
     "start_time": "2020-02-13T15:54:21.630582Z"
    }
   },
   "outputs": [
    {
     "name": "stdout",
     "output_type": "stream",
     "text": [
      "     mtype\n",
      "0   L1_DAC\n",
      "1  L1_SLAC\n",
      "2   L23_MC\n",
      "3  L23_ChC\n",
      "4  L23_SBC\n",
      "     mtype etype\n",
      "0   L1_DAC  bNAC\n",
      "1   L1_DAC   NAC\n",
      "2  L1_SLAC  bNAC\n",
      "3  L1_SLAC   NAC\n",
      "4   L23_MC  bNAC\n"
     ]
    }
   ],
   "source": [
    "adapter = BlueBrainCircuitAdapter()\n",
    "cell_types_m = adapter.get_cell_types(mock_circuit_model, (\"mtype\",))\n",
    "print(cell_types_m.head())\n",
    "cell_types_me = adapter.get_cell_types(mock_circuit_model, (\"mtype\", \"etype\",) )\n",
    "print(cell_types_me.head())"
   ]
  },
  {
   "cell_type": "code",
   "execution_count": 16,
   "metadata": {
    "ExecuteTime": {
     "end_time": "2020-02-13T17:04:23.745940Z",
     "start_time": "2020-02-13T17:04:20.819323Z"
    }
   },
   "outputs": [
    {
     "name": "stdout",
     "output_type": "stream",
     "text": [
      "(1444, 4)\n"
     ]
    },
    {
     "data": {
      "text/html": [
       "<div>\n",
       "<style scoped>\n",
       "    .dataframe tbody tr th:only-of-type {\n",
       "        vertical-align: middle;\n",
       "    }\n",
       "\n",
       "    .dataframe tbody tr th {\n",
       "        vertical-align: top;\n",
       "    }\n",
       "\n",
       "    .dataframe thead tr th {\n",
       "        text-align: left;\n",
       "    }\n",
       "</style>\n",
       "<table border=\"1\" class=\"dataframe\">\n",
       "  <thead>\n",
       "    <tr>\n",
       "      <th></th>\n",
       "      <th colspan=\"2\" halign=\"left\">pre_synaptic_cell</th>\n",
       "      <th colspan=\"2\" halign=\"left\">post_synaptic_cell</th>\n",
       "    </tr>\n",
       "    <tr>\n",
       "      <th></th>\n",
       "      <th>mtype</th>\n",
       "      <th>etype</th>\n",
       "      <th>mtype</th>\n",
       "      <th>etype</th>\n",
       "    </tr>\n",
       "  </thead>\n",
       "  <tbody>\n",
       "    <tr>\n",
       "      <th>0</th>\n",
       "      <td>L1_DAC</td>\n",
       "      <td>bNAC</td>\n",
       "      <td>L1_DAC</td>\n",
       "      <td>bNAC</td>\n",
       "    </tr>\n",
       "    <tr>\n",
       "      <th>1</th>\n",
       "      <td>L1_DAC</td>\n",
       "      <td>bNAC</td>\n",
       "      <td>L1_DAC</td>\n",
       "      <td>NAC</td>\n",
       "    </tr>\n",
       "    <tr>\n",
       "      <th>2</th>\n",
       "      <td>L1_DAC</td>\n",
       "      <td>bNAC</td>\n",
       "      <td>L1_SLAC</td>\n",
       "      <td>bNAC</td>\n",
       "    </tr>\n",
       "    <tr>\n",
       "      <th>3</th>\n",
       "      <td>L1_DAC</td>\n",
       "      <td>bNAC</td>\n",
       "      <td>L1_SLAC</td>\n",
       "      <td>NAC</td>\n",
       "    </tr>\n",
       "    <tr>\n",
       "      <th>4</th>\n",
       "      <td>L1_DAC</td>\n",
       "      <td>bNAC</td>\n",
       "      <td>L23_MC</td>\n",
       "      <td>bNAC</td>\n",
       "    </tr>\n",
       "  </tbody>\n",
       "</table>\n",
       "</div>"
      ],
      "text/plain": [
       "  pre_synaptic_cell       post_synaptic_cell      \n",
       "              mtype etype              mtype etype\n",
       "0            L1_DAC  bNAC             L1_DAC  bNAC\n",
       "1            L1_DAC  bNAC             L1_DAC   NAC\n",
       "2            L1_DAC  bNAC            L1_SLAC  bNAC\n",
       "3            L1_DAC  bNAC            L1_SLAC   NAC\n",
       "4            L1_DAC  bNAC             L23_MC  bNAC"
      ]
     },
     "execution_count": 16,
     "metadata": {},
     "output_type": "execute_result"
    }
   ],
   "source": [
    "pathways = adapter.get_pathways(mock_circuit_model, (\"mtype\", \"etype\"))\n",
    "print(pathways.shape)\n",
    "assert pathways.shape[0] == cell_types_me.shape[0] ** 2\n",
    "pathways.head()"
   ]
  },
  {
   "cell_type": "code",
   "execution_count": 20,
   "metadata": {
    "ExecuteTime": {
     "end_time": "2020-02-13T17:05:26.752641Z",
     "start_time": "2020-02-13T17:05:26.648595Z"
    }
   },
   "outputs": [
    {
     "data": {
      "text/plain": [
       "array(['NAC'], dtype=object)"
      ]
     },
     "execution_count": 20,
     "metadata": {},
     "output_type": "execute_result"
    }
   ],
   "source": [
    "adapter.get_cells(mock_circuit_model,\n",
    "                  **pathways.iloc[1].post_synaptic_cell)\\\n",
    "        .etype\\\n",
    "        .unique()"
   ]
  },
  {
   "cell_type": "markdown",
   "metadata": {},
   "source": [
    "# Number of Afferent Connections\n",
    "\n",
    "We develop an analysis of the number of afferent connections"
   ]
  },
  {
   "cell_type": "code",
   "execution_count": null,
   "metadata": {
    "ExecuteTime": {
     "end_time": "2020-01-28T15:44:30.840588Z",
     "start_time": "2020-01-28T15:44:30.835706Z"
    }
   },
   "outputs": [],
   "source": [
    "from neuro_dmt.analysis.reporting import CheetahReporter\n",
    "reporter_analyses =\\\n",
    "    CheetahReporter(\n",
    "        path_output_folder=os.path.join(\n",
    "            suite_connectome_analyses.path_reports,\n",
    "            \"analyses\"))"
   ]
  },
  {
   "cell_type": "markdown",
   "metadata": {},
   "source": [
    "We can also run our analyses over a chosen set of cell-types."
   ]
  },
  {
   "cell_type": "code",
   "execution_count": 5,
   "metadata": {
    "ExecuteTime": {
     "end_time": "2020-01-28T15:44:34.562683Z",
     "start_time": "2020-01-28T15:44:34.517827Z"
    }
   },
   "outputs": [
    {
     "data": {
      "text/plain": [
       "region                  S1FL\n",
       "layer                      2\n",
       "nucleus          not-defined\n",
       "mtype                 L23_MC\n",
       "etype            not-defined\n",
       "morph_class      not-defined\n",
       "synapse_class            INH\n",
       "x                    110.097\n",
       "y                    168.212\n",
       "z                    77.1217\n",
       "gid                    10446\n",
       "Name: 10446, dtype: object"
      ]
     },
     "execution_count": 5,
     "metadata": {},
     "output_type": "execute_result"
    }
   ],
   "source": [
    "post_synaptic_cell =\\\n",
    "    suite_connectome_analyses\\\n",
    "        .get_random_cells(\n",
    "            mock_circuit_model,\n",
    "            adapter,\n",
    "            {\"mtype\": \"L23_MC\"})\\\n",
    "        .iloc[0]\n",
    "post_synaptic_cell"
   ]
  },
  {
   "cell_type": "code",
   "execution_count": 6,
   "metadata": {
    "ExecuteTime": {
     "end_time": "2020-01-28T15:44:36.722615Z",
     "start_time": "2020-01-28T15:44:36.661745Z"
    }
   },
   "outputs": [
    {
     "name": "stdout",
     "output_type": "stream",
     "text": [
      "================================================================================\n",
      "\u001b[4m/Users/vishalsoodmuchu/.vmgr_repo/py37/lib/python3.7/site-packages/neuro_dmt/library/users/visood/sscx_dissemination/analyses/connectome/__init__.py Logger\u001b[0m\n",
      "\u001b[4mINFO@<2020-01-28 16:41:37>                                                      \u001b[0m\n",
      "\n",
      "            Number afferent connections for post-synaptic cell type: {'mtype': 'L23_MC'}\n",
      "            \n",
      "================================================================================\n",
      "\n",
      "================================================================================\n",
      "\u001b[4m/Users/vishalsoodmuchu/.vmgr_repo/py37/lib/python3.7/site-packages/neuro_dmt/library/users/visood/sscx_dissemination/analyses/connectome/__init__.py Logger\u001b[0m\n",
      "\u001b[4mINFO@<2020-01-28 16:41:37>                                                      \u001b[0m\n",
      "number_afferent_connections call count : 1\n",
      "================================================================================\n",
      "\n"
     ]
    }
   ],
   "source": [
    "suite_connectome_analyses =\\\n",
    "    ConnectomeAnalysesSuite(\n",
    "        sample_size=20,\n",
    "        cell_mtypes=[\"L5_TPC:A\", \"L5_TPC:B\", \"L5_UPC\"])\n",
    "m = suite_connectome_analyses\\\n",
    "    .number_afferent_connections(\n",
    "        mock_circuit_model, adapter,\n",
    "        {\"mtype\": \"L23_MC\"})"
   ]
  },
  {
   "cell_type": "code",
   "execution_count": 7,
   "metadata": {
    "ExecuteTime": {
     "end_time": "2020-01-28T15:44:40.236146Z",
     "start_time": "2020-01-28T15:44:40.228318Z"
    }
   },
   "outputs": [
    {
     "data": {
      "text/plain": [
       "(pre_synaptic_cell_type, mtype)  soma_distance\n",
       "L1_DAC                           350.0            1.0\n",
       "                                 450.0            1.0\n",
       "L1_SLAC                          550.0            1.0\n",
       "L23_ChC                          250.0            1.0\n",
       "L23_MC                           150.0            2.0\n",
       "Name: number_connections_afferent, dtype: float64"
      ]
     },
     "execution_count": 7,
     "metadata": {},
     "output_type": "execute_result"
    }
   ],
   "source": [
    "m.head()"
   ]
  },
  {
   "cell_type": "markdown",
   "metadata": {},
   "source": [
    "## SSCx variation"
   ]
  },
  {
   "cell_type": "code",
   "execution_count": null,
   "metadata": {
    "ExecuteTime": {
     "end_time": "2020-01-28T15:07:28.245274Z",
     "start_time": "2020-01-28T15:07:11.867472Z"
    }
   },
   "outputs": [],
   "source": [
    "report_connectome_analyses_bio_m =\\\n",
    "    suite_connectome_analyses\\\n",
    "        .analysis_number_afferent_connections(\n",
    "            circuit_bio_m,\n",
    "            adapter)\n"
   ]
  },
  {
   "cell_type": "markdown",
   "metadata": {},
   "source": [
    "Because 60 post-synaptic mtypes can take too long, we can set the number of \n",
    "mtypes to process in one run:"
   ]
  },
  {
   "cell_type": "code",
   "execution_count": null,
   "metadata": {
    "ExecuteTime": {
     "end_time": "2020-01-28T15:27:33.159721Z",
     "start_time": "2020-01-28T15:27:33.152077Z"
    }
   },
   "outputs": [],
   "source": [
    "def get_layer_mtypes(circuit, query_layer):\n",
    "    mtypes_all =\\\n",
    "        pd.Series(adapter.get_mtypes(circuit), name=\"mtype\")\n",
    "    return\\\n",
    "        list(mtypes_all[\n",
    "                [query_layer in mtype for mtype in mtypes_all]\n",
    "        ].values)\n",
    "def analyze_number_afferent_connections(\n",
    "        circuit,\n",
    "        adapter,\n",
    "        selected_mtypes,\n",
    "        reporter,\n",
    "        **kwargs):\n",
    "    \"\"\"...\"\"\"\n",
    "    suite_connectome_analyses =\\\n",
    "        ConnectomeAnalysesSuite(\n",
    "            sample_size=20,\n",
    "            cell_mtypes=selected_mtypes)\n",
    "    report=\\\n",
    "        suite_connectome_analyses\\\n",
    "            .analysis_number_afferent_connections(\n",
    "                circuit, adapter, **kwargs)\n",
    "    return reporter.post(report)"
   ]
  },
  {
   "cell_type": "code",
   "execution_count": null,
   "metadata": {
    "ExecuteTime": {
     "end_time": "2020-01-28T15:31:01.107529Z",
     "start_time": "2020-01-28T15:29:52.171455Z"
    }
   },
   "outputs": [],
   "source": [
    "analyze_number_afferent_connections(\n",
    "    mock_circuit_model,\n",
    "    adapter,\n",
    "    [\"L5_TPC:A\", \"L5_TPC:B\",  \"L5_UPC\"],\n",
    "    reporter_analyses,\n",
    "    sample_size=200)"
   ]
  },
  {
   "cell_type": "code",
   "execution_count": null,
   "metadata": {
    "ExecuteTime": {
     "end_time": "2020-01-28T14:55:41.223513Z",
     "start_time": "2020-01-28T14:55:39.467704Z"
    }
   },
   "outputs": [],
   "source": [
    "suite_connectome_analyses =\\\n",
    "    ConnectomeAnalysesSuite(\n",
    "        sample_size=20,\n",
    "        cell_mtypes=[\"L23_MC\"])\n",
    "measurement_example =\\\n",
    "    suite_connectome_analyses\\\n",
    "        .analysis_number_afferent_connections\\\n",
    "        .get_measurement(\n",
    "            mock_circuit_model,\n",
    "            adapter)"
   ]
  },
  {
   "cell_type": "code",
   "execution_count": null,
   "metadata": {
    "ExecuteTime": {
     "end_time": "2020-01-28T14:55:53.828127Z",
     "start_time": "2020-01-28T14:55:53.742728Z"
    }
   },
   "outputs": [],
   "source": [
    "measurement_example[\"data\"]"
   ]
  },
  {
   "cell_type": "code",
   "execution_count": null,
   "metadata": {},
   "outputs": [],
   "source": []
  }
 ],
 "metadata": {
  "kernelspec": {
   "display_name": "Python 3",
   "language": "python",
   "name": "python3"
  },
  "language_info": {
   "codemirror_mode": {
    "name": "ipython",
    "version": 3
   },
   "file_extension": ".py",
   "mimetype": "text/x-python",
   "name": "python",
   "nbconvert_exporter": "python",
   "pygments_lexer": "ipython3",
   "version": "3.7.0"
  },
  "latex_envs": {
   "LaTeX_envs_menu_present": true,
   "autoclose": false,
   "autocomplete": true,
   "bibliofile": "biblio.bib",
   "cite_by": "apalike",
   "current_citInitial": 1,
   "eqLabelWithNumbers": true,
   "eqNumInitial": 1,
   "hotkeys": {
    "equation": "Ctrl-E",
    "itemize": "Ctrl-I"
   },
   "labels_anchors": false,
   "latex_user_defs": false,
   "report_style_numbering": false,
   "user_envs_cfg": false
  },
  "toc": {
   "base_numbering": 1,
   "nav_menu": {},
   "number_sections": true,
   "sideBar": true,
   "skip_h1_title": false,
   "title_cell": "Table of Contents",
   "title_sidebar": "Contents",
   "toc_cell": false,
   "toc_position": {},
   "toc_section_display": true,
   "toc_window_display": false
  },
  "varInspector": {
   "cols": {
    "lenName": 16,
    "lenType": 16,
    "lenVar": 40
   },
   "kernels_config": {
    "python": {
     "delete_cmd_postfix": "",
     "delete_cmd_prefix": "del ",
     "library": "var_list.py",
     "varRefreshCmd": "print(var_dic_list())"
    },
    "r": {
     "delete_cmd_postfix": ") ",
     "delete_cmd_prefix": "rm(",
     "library": "var_list.r",
     "varRefreshCmd": "cat(var_dic_list()) "
    }
   },
   "types_to_exclude": [
    "module",
    "function",
    "builtin_function_or_method",
    "instance",
    "_Feature"
   ],
   "window_display": false
  }
 },
 "nbformat": 4,
 "nbformat_minor": 2
}
