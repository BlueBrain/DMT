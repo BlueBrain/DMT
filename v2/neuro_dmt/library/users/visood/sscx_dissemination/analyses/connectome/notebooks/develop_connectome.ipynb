{
 "cells": [
  {
   "cell_type": "markdown",
   "metadata": {},
   "source": [
    "# Connectome Analyses\n",
    "\n",
    "We develop tools to analyze a circuit model's connectome."
   ]
  },
  {
   "cell_type": "code",
   "execution_count": 1,
   "metadata": {
    "ExecuteTime": {
     "end_time": "2020-02-17T21:55:07.597350Z",
     "start_time": "2020-02-17T21:55:05.565977Z"
    },
    "code_folding": [
     5,
     7,
     10
    ]
   },
   "outputs": [
    {
     "name": "stdout",
     "output_type": "stream",
     "text": [
      "('region', 'layer', 'depth', 'height', 'mesocolumn', 'hypercolumn', 'roi', 'mtype', 'etype', 'synapse_class', 'postsynaptic', 'presynaptic')\n",
      "('region', 'layer', 'depth', 'height', 'mesocolumn', 'hypercolumn', 'roi', 'mtype', 'etype', 'synapse_class', 'postsynaptic', 'presynaptic')\n",
      "('region', 'layer', 'depth', 'height', 'mesocolumn', 'hypercolumn', 'roi', 'mtype', 'etype', 'synapse_class', 'postsynaptic', 'presynaptic')\n",
      "('region', 'layer', 'depth', 'height', 'mtype', 'etype', 'synapse_class')\n",
      "('region', 'layer', 'depth', 'height', 'mesocolumn', 'hypercolumn', 'roi', 'mtype', 'etype', 'synapse_class', 'postsynaptic', 'presynaptic')\n",
      "('region', 'layer', 'depth', 'height', 'mesocolumn', 'hypercolumn', 'roi')\n"
     ]
    }
   ],
   "source": [
    "import os\n",
    "import numpy as np\n",
    "import pandas as pd\n",
    "from neuro_dmt.library.users.visood.sscx_dissemination.analyses.composition\\\n",
    "    import CompositionAnalysesSuite\n",
    "from neuro_dmt.library.users.visood.sscx_dissemination.analyses.connectome\\\n",
    "    import ConnectomeAnalysesSuite\n",
    "from neuro_dmt.models.bluebrain.circuit.atlas import\\\n",
    "    BlueBrainCircuitAtlas\n",
    "from neuro_dmt.models.bluebrain.circuit.model import\\\n",
    "    BlueBrainCircuitModel,\\\n",
    "    CircuitProvenance\n",
    "from neuro_dmt.models.bluebrain.circuit.adapter import\\\n",
    "    BlueBrainCircuitAdapter"
   ]
  },
  {
   "cell_type": "code",
   "execution_count": 2,
   "metadata": {
    "ExecuteTime": {
     "end_time": "2020-02-17T21:55:09.640088Z",
     "start_time": "2020-02-17T21:55:09.632521Z"
    },
    "code_folding": [
     15,
     19,
     23
    ]
   },
   "outputs": [],
   "source": [
    "project =\\\n",
    "    os.path.join(\n",
    "        \"/gpfs/bbp.cscs.ch/project\")\n",
    "proj_sscx_diss=\\\n",
    "    os.path.join(\n",
    "        project,\n",
    "        \"proj83\")\n",
    "data_sscx_diss=\\\n",
    "    os.path.join(\n",
    "        proj_sscx_diss,\n",
    "        \"data\")\n",
    "atlases_sscx_diss=\\\n",
    "    os.path.join(\n",
    "        data_sscx_diss,\n",
    "        \"atlas/S1/MEAN\")\n",
    "circuits_sscx_diss=\\\n",
    "    os.path.join(\n",
    "        proj_sscx_diss,\n",
    "        \"circuits\")\n",
    "atlas_bio_m =\\\n",
    "    BlueBrainCircuitAtlas(\n",
    "        path=os.path.join(\n",
    "                atlases_sscx_diss, \"P14-MEAN\"))\n",
    "path_bio_m =\\\n",
    "    os.path.join(\n",
    "        circuits_sscx_diss,\n",
    "        \"Bio_M/20191206\")\n",
    "circuit_bio_m =\\\n",
    "    BlueBrainCircuitModel(\n",
    "        path_circuit_data=path_bio_m,\n",
    "            provenance=CircuitProvenance(\n",
    "                label=\"SSCxRatDisseminationBioM\",\n",
    "                authors=[\"BBP Team\"],\n",
    "                release_date=\"20191212\",\n",
    "                uri=path_bio_m,\n",
    "                animal=\"Wistar Rat\",\n",
    "                age=\"P14\",\n",
    "                brain_region=\"SSCx\"))\n",
    "adapter =\\\n",
    "    BlueBrainCircuitAdapter()\n",
    "suite_connectome_analyses =\\\n",
    "    ConnectomeAnalysesSuite(\n",
    "        sample_size=20)"
   ]
  },
  {
   "cell_type": "markdown",
   "metadata": {},
   "source": [
    "## Mock circuit\n",
    "\n",
    "We will use a mock-circuit to test-develop connectome analyses."
   ]
  },
  {
   "cell_type": "code",
   "execution_count": 3,
   "metadata": {
    "ExecuteTime": {
     "end_time": "2020-02-17T21:59:36.346799Z",
     "start_time": "2020-02-17T21:55:12.925531Z"
    },
    "code_folding": [
     6
    ]
   },
   "outputs": [
    {
     "name": "stdout",
     "output_type": "stream",
     "text": [
      "================================================================================\n",
      "\u001b[4mtest develop mock circuit Logger                                                \u001b[0m\n",
      "\u001b[4mDEBUGINFO@<2020-02-17 22:55:05>                                                 \u001b[0m\n",
      "Traceback:\n",
      "\tfilename: \t/Users/vishalsoodmuchu/.vmgr_repo/py37/lib/python3.7/site-packages/neuro_dmt/models/bluebrain/circuit/mock/test/__init__.py\n",
      "\tlineno: \t136\n",
      "\tcode_context: \t['        __log.get_source_info(),\\n']\n",
      "\tindex: 0\n",
      "\n",
      "get excitatory cell density for layer 2\n",
      "with number of excitatory mtypes: 1\n",
      "================================================================================\n",
      "\n",
      "================================================================================\n",
      "\u001b[4mtest develop mock circuit Logger                                                \u001b[0m\n",
      "\u001b[4mDEBUGINFO@<2020-02-17 22:55:05>                                                 \u001b[0m\n",
      "Traceback:\n",
      "\tfilename: \t/Users/vishalsoodmuchu/.vmgr_repo/py37/lib/python3.7/site-packages/neuro_dmt/models/bluebrain/circuit/mock/test/__init__.py\n",
      "\tlineno: \t136\n",
      "\tcode_context: \t['        __log.get_source_info(),\\n']\n",
      "\tindex: 0\n",
      "\n",
      "get excitatory cell density for layer 3\n",
      "with number of excitatory mtypes: 1\n",
      "================================================================================\n",
      "\n",
      "================================================================================\n",
      "\u001b[4mtest develop mock circuit Logger                                                \u001b[0m\n",
      "\u001b[4mDEBUGINFO@<2020-02-17 22:55:05>                                                 \u001b[0m\n",
      "Traceback:\n",
      "\tfilename: \t/Users/vishalsoodmuchu/.vmgr_repo/py37/lib/python3.7/site-packages/neuro_dmt/models/bluebrain/circuit/mock/test/__init__.py\n",
      "\tlineno: \t136\n",
      "\tcode_context: \t['        __log.get_source_info(),\\n']\n",
      "\tindex: 0\n",
      "\n",
      "get excitatory cell density for layer 4\n",
      "with number of excitatory mtypes: 1\n",
      "================================================================================\n",
      "\n",
      "================================================================================\n",
      "\u001b[4mtest develop mock circuit Logger                                                \u001b[0m\n",
      "\u001b[4mDEBUGINFO@<2020-02-17 22:55:05>                                                 \u001b[0m\n",
      "Traceback:\n",
      "\tfilename: \t/Users/vishalsoodmuchu/.vmgr_repo/py37/lib/python3.7/site-packages/neuro_dmt/models/bluebrain/circuit/mock/test/__init__.py\n",
      "\tlineno: \t136\n",
      "\tcode_context: \t['        __log.get_source_info(),\\n']\n",
      "\tindex: 0\n",
      "\n",
      "get excitatory cell density for layer 5\n",
      "with number of excitatory mtypes: 4\n",
      "================================================================================\n",
      "\n",
      "================================================================================\n",
      "\u001b[4mtest develop mock circuit Logger                                                \u001b[0m\n",
      "\u001b[4mDEBUGINFO@<2020-02-17 22:55:05>                                                 \u001b[0m\n",
      "Traceback:\n",
      "\tfilename: \t/Users/vishalsoodmuchu/.vmgr_repo/py37/lib/python3.7/site-packages/neuro_dmt/models/bluebrain/circuit/mock/test/__init__.py\n",
      "\tlineno: \t136\n",
      "\tcode_context: \t['        __log.get_source_info(),\\n']\n",
      "\tindex: 0\n",
      "\n",
      "get excitatory cell density for layer 5\n",
      "with number of excitatory mtypes: 4\n",
      "================================================================================\n",
      "\n",
      "================================================================================\n",
      "\u001b[4mtest develop mock circuit Logger                                                \u001b[0m\n",
      "\u001b[4mDEBUGINFO@<2020-02-17 22:55:05>                                                 \u001b[0m\n",
      "Traceback:\n",
      "\tfilename: \t/Users/vishalsoodmuchu/.vmgr_repo/py37/lib/python3.7/site-packages/neuro_dmt/models/bluebrain/circuit/mock/test/__init__.py\n",
      "\tlineno: \t136\n",
      "\tcode_context: \t['        __log.get_source_info(),\\n']\n",
      "\tindex: 0\n",
      "\n",
      "get excitatory cell density for layer 5\n",
      "with number of excitatory mtypes: 4\n",
      "================================================================================\n",
      "\n",
      "================================================================================\n",
      "\u001b[4mtest develop mock circuit Logger                                                \u001b[0m\n",
      "\u001b[4mDEBUGINFO@<2020-02-17 22:55:05>                                                 \u001b[0m\n",
      "Traceback:\n",
      "\tfilename: \t/Users/vishalsoodmuchu/.vmgr_repo/py37/lib/python3.7/site-packages/neuro_dmt/models/bluebrain/circuit/mock/test/__init__.py\n",
      "\tlineno: \t136\n",
      "\tcode_context: \t['        __log.get_source_info(),\\n']\n",
      "\tindex: 0\n",
      "\n",
      "get excitatory cell density for layer 5\n",
      "with number of excitatory mtypes: 4\n",
      "================================================================================\n",
      "\n",
      "================================================================================\n",
      "\u001b[4mtest develop mock circuit Logger                                                \u001b[0m\n",
      "\u001b[4mDEBUGINFO@<2020-02-17 22:55:05>                                                 \u001b[0m\n",
      "Traceback:\n",
      "\tfilename: \t/Users/vishalsoodmuchu/.vmgr_repo/py37/lib/python3.7/site-packages/neuro_dmt/models/bluebrain/circuit/mock/test/__init__.py\n",
      "\tlineno: \t136\n",
      "\tcode_context: \t['        __log.get_source_info(),\\n']\n",
      "\tindex: 0\n",
      "\n",
      "get excitatory cell density for layer 6\n",
      "with number of excitatory mtypes: 5\n",
      "================================================================================\n",
      "\n",
      "================================================================================\n",
      "\u001b[4mtest develop mock circuit Logger                                                \u001b[0m\n",
      "\u001b[4mDEBUGINFO@<2020-02-17 22:55:05>                                                 \u001b[0m\n",
      "Traceback:\n",
      "\tfilename: \t/Users/vishalsoodmuchu/.vmgr_repo/py37/lib/python3.7/site-packages/neuro_dmt/models/bluebrain/circuit/mock/test/__init__.py\n",
      "\tlineno: \t136\n",
      "\tcode_context: \t['        __log.get_source_info(),\\n']\n",
      "\tindex: 0\n",
      "\n",
      "get excitatory cell density for layer 6\n",
      "with number of excitatory mtypes: 5\n",
      "================================================================================\n",
      "\n",
      "================================================================================\n",
      "\u001b[4mtest develop mock circuit Logger                                                \u001b[0m\n",
      "\u001b[4mDEBUGINFO@<2020-02-17 22:55:05>                                                 \u001b[0m\n",
      "Traceback:\n",
      "\tfilename: \t/Users/vishalsoodmuchu/.vmgr_repo/py37/lib/python3.7/site-packages/neuro_dmt/models/bluebrain/circuit/mock/test/__init__.py\n",
      "\tlineno: \t136\n",
      "\tcode_context: \t['        __log.get_source_info(),\\n']\n",
      "\tindex: 0\n",
      "\n",
      "get excitatory cell density for layer 6\n",
      "with number of excitatory mtypes: 5\n",
      "================================================================================\n",
      "\n",
      "================================================================================\n",
      "\u001b[4mtest develop mock circuit Logger                                                \u001b[0m\n",
      "\u001b[4mDEBUGINFO@<2020-02-17 22:55:05>                                                 \u001b[0m\n",
      "Traceback:\n",
      "\tfilename: \t/Users/vishalsoodmuchu/.vmgr_repo/py37/lib/python3.7/site-packages/neuro_dmt/models/bluebrain/circuit/mock/test/__init__.py\n",
      "\tlineno: \t136\n",
      "\tcode_context: \t['        __log.get_source_info(),\\n']\n",
      "\tindex: 0\n",
      "\n",
      "get excitatory cell density for layer 6\n",
      "with number of excitatory mtypes: 5\n",
      "================================================================================\n",
      "\n",
      "================================================================================\n",
      "\u001b[4mtest develop mock circuit Logger                                                \u001b[0m\n",
      "\u001b[4mDEBUGINFO@<2020-02-17 22:55:05>                                                 \u001b[0m\n",
      "Traceback:\n",
      "\tfilename: \t/Users/vishalsoodmuchu/.vmgr_repo/py37/lib/python3.7/site-packages/neuro_dmt/models/bluebrain/circuit/mock/test/__init__.py\n",
      "\tlineno: \t136\n",
      "\tcode_context: \t['        __log.get_source_info(),\\n']\n",
      "\tindex: 0\n",
      "\n",
      "get excitatory cell density for layer 6\n",
      "with number of excitatory mtypes: 5\n",
      "================================================================================\n",
      "\n",
      "================================================================================\n",
      "\u001b[4mtest develop mock circuit Logger                                                \u001b[0m\n",
      "\u001b[4mDEBUGINFO@<2020-02-17 22:55:05>                                                 \u001b[0m\n",
      "Traceback:\n",
      "\tfilename: \t/Users/vishalsoodmuchu/.vmgr_repo/py37/lib/python3.7/site-packages/neuro_dmt/models/bluebrain/circuit/mock/test/mock_circuit_light.py\n",
      "\tlineno: \t104\n",
      "\tcode_context: \t['        log.get_source_info(),\\n']\n",
      "\tindex: 0\n",
      "\n",
      "get excitatory cell density for layer 4\n",
      "with number of excitatory mtypes: 1\n",
      "================================================================================\n",
      "\n",
      "================================================================================\n",
      "\u001b[4mtest develop mock circuit Logger                                                \u001b[0m\n",
      "\u001b[4mDEBUGINFO@<2020-02-17 22:55:05>                                                 \u001b[0m\n",
      "Traceback:\n",
      "\tfilename: \t/Users/vishalsoodmuchu/.vmgr_repo/py37/lib/python3.7/site-packages/neuro_dmt/models/bluebrain/circuit/mock/test/mock_circuit_light.py\n",
      "\tlineno: \t104\n",
      "\tcode_context: \t['        log.get_source_info(),\\n']\n",
      "\tindex: 0\n",
      "\n",
      "get excitatory cell density for layer 4\n",
      "with number of excitatory mtypes: 1\n",
      "================================================================================\n",
      "\n",
      "================================================================================\n",
      "\u001b[4mtest develop mock circuit Logger                                                \u001b[0m\n",
      "\u001b[4mDEBUGINFO@<2020-02-17 22:55:05>                                                 \u001b[0m\n",
      "Traceback:\n",
      "\tfilename: \t/Users/vishalsoodmuchu/.vmgr_repo/py37/lib/python3.7/site-packages/neuro_dmt/models/bluebrain/circuit/mock/test/mock_circuit_light.py\n",
      "\tlineno: \t104\n",
      "\tcode_context: \t['        log.get_source_info(),\\n']\n",
      "\tindex: 0\n",
      "\n",
      "get excitatory cell density for layer 4\n",
      "with number of excitatory mtypes: 1\n",
      "================================================================================\n",
      "\n",
      "================================================================================\n",
      "\u001b[4mtest develop mock circuit Logger                                                \u001b[0m\n",
      "\u001b[4mDEBUGINFO@<2020-02-17 22:55:05>                                                 \u001b[0m\n",
      "Traceback:\n",
      "\tfilename: \t/Users/vishalsoodmuchu/.vmgr_repo/py37/lib/python3.7/site-packages/neuro_dmt/models/bluebrain/circuit/mock/test/mock_circuit_light.py\n",
      "\tlineno: \t104\n",
      "\tcode_context: \t['        log.get_source_info(),\\n']\n",
      "\tindex: 0\n",
      "\n",
      "get excitatory cell density for layer 4\n",
      "with number of excitatory mtypes: 1\n",
      "================================================================================\n",
      "\n",
      "================================================================================\n",
      "\u001b[4mtest develop mock circuit Logger                                                \u001b[0m\n",
      "\u001b[4mDEBUGINFO@<2020-02-17 22:55:05>                                                 \u001b[0m\n",
      "Traceback:\n",
      "\tfilename: \t/Users/vishalsoodmuchu/.vmgr_repo/py37/lib/python3.7/site-packages/neuro_dmt/models/bluebrain/circuit/mock/test/mock_circuit_light.py\n",
      "\tlineno: \t104\n",
      "\tcode_context: \t['        log.get_source_info(),\\n']\n",
      "\tindex: 0\n",
      "\n",
      "get excitatory cell density for layer 5\n",
      "with number of excitatory mtypes: 3\n",
      "================================================================================\n",
      "\n",
      "================================================================================\n",
      "\u001b[4mtest develop mock circuit Logger                                                \u001b[0m\n",
      "\u001b[4mDEBUGINFO@<2020-02-17 22:55:05>                                                 \u001b[0m\n",
      "Traceback:\n",
      "\tfilename: \t/Users/vishalsoodmuchu/.vmgr_repo/py37/lib/python3.7/site-packages/neuro_dmt/models/bluebrain/circuit/mock/test/mock_circuit_light.py\n",
      "\tlineno: \t104\n",
      "\tcode_context: \t['        log.get_source_info(),\\n']\n",
      "\tindex: 0\n",
      "\n",
      "get excitatory cell density for layer 5\n",
      "with number of excitatory mtypes: 3\n",
      "================================================================================\n",
      "\n"
     ]
    },
    {
     "name": "stdout",
     "output_type": "stream",
     "text": [
      "================================================================================\n",
      "\u001b[4mtest develop mock circuit Logger                                                \u001b[0m\n",
      "\u001b[4mDEBUGINFO@<2020-02-17 22:55:05>                                                 \u001b[0m\n",
      "Traceback:\n",
      "\tfilename: \t/Users/vishalsoodmuchu/.vmgr_repo/py37/lib/python3.7/site-packages/neuro_dmt/models/bluebrain/circuit/mock/test/mock_circuit_light.py\n",
      "\tlineno: \t104\n",
      "\tcode_context: \t['        log.get_source_info(),\\n']\n",
      "\tindex: 0\n",
      "\n",
      "get excitatory cell density for layer 5\n",
      "with number of excitatory mtypes: 3\n",
      "================================================================================\n",
      "\n",
      "================================================================================\n",
      "\u001b[4mtest develop mock circuit Logger                                                \u001b[0m\n",
      "\u001b[4mDEBUGINFO@<2020-02-17 22:55:05>                                                 \u001b[0m\n",
      "Traceback:\n",
      "\tfilename: \t/Users/vishalsoodmuchu/.vmgr_repo/py37/lib/python3.7/site-packages/neuro_dmt/models/bluebrain/circuit/mock/test/mock_circuit_light.py\n",
      "\tlineno: \t104\n",
      "\tcode_context: \t['        log.get_source_info(),\\n']\n",
      "\tindex: 0\n",
      "\n",
      "get excitatory cell density for layer 5\n",
      "with number of excitatory mtypes: 3\n",
      "================================================================================\n",
      "\n",
      "================================================================================\n",
      "\u001b[4mtest develop mock circuit Logger                                                \u001b[0m\n",
      "\u001b[4mDEBUGINFO@<2020-02-17 22:55:05>                                                 \u001b[0m\n",
      "Traceback:\n",
      "\tfilename: \t/Users/vishalsoodmuchu/.vmgr_repo/py37/lib/python3.7/site-packages/neuro_dmt/models/bluebrain/circuit/mock/test/mock_circuit_light.py\n",
      "\tlineno: \t104\n",
      "\tcode_context: \t['        log.get_source_info(),\\n']\n",
      "\tindex: 0\n",
      "\n",
      "get excitatory cell density for layer 5\n",
      "with number of excitatory mtypes: 3\n",
      "================================================================================\n",
      "\n",
      "================================================================================\n",
      "\u001b[4mtest develop mock circuit Logger                                                \u001b[0m\n",
      "\u001b[4mDEBUGINFO@<2020-02-17 22:55:05>                                                 \u001b[0m\n",
      "Traceback:\n",
      "\tfilename: \t/Users/vishalsoodmuchu/.vmgr_repo/py37/lib/python3.7/site-packages/neuro_dmt/models/bluebrain/circuit/mock/test/mock_circuit_light.py\n",
      "\tlineno: \t104\n",
      "\tcode_context: \t['        log.get_source_info(),\\n']\n",
      "\tindex: 0\n",
      "\n",
      "get excitatory cell density for layer 5\n",
      "with number of excitatory mtypes: 3\n",
      "================================================================================\n",
      "\n",
      "================================================================================\n",
      "\u001b[4mtest develop mock circuit Logger                                                \u001b[0m\n",
      "\u001b[4mDEBUGINFO@<2020-02-17 22:55:05>                                                 \u001b[0m\n",
      "Traceback:\n",
      "\tfilename: \t/Users/vishalsoodmuchu/.vmgr_repo/py37/lib/python3.7/site-packages/neuro_dmt/models/bluebrain/circuit/mock/test/mock_circuit_light.py\n",
      "\tlineno: \t104\n",
      "\tcode_context: \t['        log.get_source_info(),\\n']\n",
      "\tindex: 0\n",
      "\n",
      "get excitatory cell density for layer 5\n",
      "with number of excitatory mtypes: 3\n",
      "================================================================================\n",
      "\n",
      "================================================================================\n",
      "\u001b[4mtest develop mock circuit Logger                                                \u001b[0m\n",
      "\u001b[4mDEBUGINFO@<2020-02-17 22:55:05>                                                 \u001b[0m\n",
      "Traceback:\n",
      "\tfilename: \t/Users/vishalsoodmuchu/.vmgr_repo/py37/lib/python3.7/site-packages/neuro_dmt/models/bluebrain/circuit/mock/test/mock_circuit_light.py\n",
      "\tlineno: \t104\n",
      "\tcode_context: \t['        log.get_source_info(),\\n']\n",
      "\tindex: 0\n",
      "\n",
      "get excitatory cell density for layer 5\n",
      "with number of excitatory mtypes: 3\n",
      "================================================================================\n",
      "\n",
      "================================================================================\n",
      "\u001b[4mtest develop mock circuit Logger                                                \u001b[0m\n",
      "\u001b[4mDEBUGINFO@<2020-02-17 22:55:05>                                                 \u001b[0m\n",
      "Traceback:\n",
      "\tfilename: \t/Users/vishalsoodmuchu/.vmgr_repo/py37/lib/python3.7/site-packages/neuro_dmt/models/bluebrain/circuit/mock/test/mock_circuit_light.py\n",
      "\tlineno: \t104\n",
      "\tcode_context: \t['        log.get_source_info(),\\n']\n",
      "\tindex: 0\n",
      "\n",
      "get excitatory cell density for layer 5\n",
      "with number of excitatory mtypes: 3\n",
      "================================================================================\n",
      "\n",
      "================================================================================\n",
      "\u001b[4mtest develop mock circuit Logger                                                \u001b[0m\n",
      "\u001b[4mDEBUGINFO@<2020-02-17 22:55:05>                                                 \u001b[0m\n",
      "Traceback:\n",
      "\tfilename: \t/Users/vishalsoodmuchu/.vmgr_repo/py37/lib/python3.7/site-packages/neuro_dmt/models/bluebrain/circuit/mock/test/mock_circuit_light.py\n",
      "\tlineno: \t104\n",
      "\tcode_context: \t['        log.get_source_info(),\\n']\n",
      "\tindex: 0\n",
      "\n",
      "get excitatory cell density for layer 5\n",
      "with number of excitatory mtypes: 3\n",
      "================================================================================\n",
      "\n",
      "================================================================================\n",
      "\u001b[4mtest develop mock circuit Logger                                                \u001b[0m\n",
      "\u001b[4mDEBUGINFO@<2020-02-17 22:55:05>                                                 \u001b[0m\n",
      "Traceback:\n",
      "\tfilename: \t/Users/vishalsoodmuchu/.vmgr_repo/py37/lib/python3.7/site-packages/neuro_dmt/models/bluebrain/circuit/mock/test/mock_circuit_light.py\n",
      "\tlineno: \t104\n",
      "\tcode_context: \t['        log.get_source_info(),\\n']\n",
      "\tindex: 0\n",
      "\n",
      "get excitatory cell density for layer 5\n",
      "with number of excitatory mtypes: 3\n",
      "================================================================================\n",
      "\n",
      "================================================================================\n",
      "\u001b[4mtest develop mock circuit Logger                                                \u001b[0m\n",
      "\u001b[4mDEBUGINFO@<2020-02-17 22:55:05>                                                 \u001b[0m\n",
      "Traceback:\n",
      "\tfilename: \t/Users/vishalsoodmuchu/.vmgr_repo/py37/lib/python3.7/site-packages/neuro_dmt/models/bluebrain/circuit/mock/test/mock_circuit_light.py\n",
      "\tlineno: \t104\n",
      "\tcode_context: \t['        log.get_source_info(),\\n']\n",
      "\tindex: 0\n",
      "\n",
      "get excitatory cell density for layer 5\n",
      "with number of excitatory mtypes: 3\n",
      "================================================================================\n",
      "\n",
      "================================================================================\n",
      "\u001b[4mtest develop mock circuit Logger                                                \u001b[0m\n",
      "\u001b[4mDEBUGINFO@<2020-02-17 22:55:05>                                                 \u001b[0m\n",
      "Traceback:\n",
      "\tfilename: \t/Users/vishalsoodmuchu/.vmgr_repo/py37/lib/python3.7/site-packages/neuro_dmt/models/bluebrain/circuit/mock/test/mock_circuit_light.py\n",
      "\tlineno: \t104\n",
      "\tcode_context: \t['        log.get_source_info(),\\n']\n",
      "\tindex: 0\n",
      "\n",
      "get excitatory cell density for layer 6\n",
      "with number of excitatory mtypes: 4\n",
      "================================================================================\n",
      "\n",
      "================================================================================\n",
      "\u001b[4mtest develop mock circuit Logger                                                \u001b[0m\n",
      "\u001b[4mDEBUGINFO@<2020-02-17 22:55:05>                                                 \u001b[0m\n",
      "Traceback:\n",
      "\tfilename: \t/Users/vishalsoodmuchu/.vmgr_repo/py37/lib/python3.7/site-packages/neuro_dmt/models/bluebrain/circuit/mock/test/mock_circuit_light.py\n",
      "\tlineno: \t104\n",
      "\tcode_context: \t['        log.get_source_info(),\\n']\n",
      "\tindex: 0\n",
      "\n",
      "get excitatory cell density for layer 6\n",
      "with number of excitatory mtypes: 4\n",
      "================================================================================\n",
      "\n",
      "================================================================================\n",
      "\u001b[4mtest develop mock circuit Logger                                                \u001b[0m\n",
      "\u001b[4mDEBUGINFO@<2020-02-17 22:55:05>                                                 \u001b[0m\n",
      "Traceback:\n",
      "\tfilename: \t/Users/vishalsoodmuchu/.vmgr_repo/py37/lib/python3.7/site-packages/neuro_dmt/models/bluebrain/circuit/mock/test/mock_circuit_light.py\n",
      "\tlineno: \t104\n",
      "\tcode_context: \t['        log.get_source_info(),\\n']\n",
      "\tindex: 0\n",
      "\n",
      "get excitatory cell density for layer 6\n",
      "with number of excitatory mtypes: 4\n",
      "================================================================================\n",
      "\n",
      "================================================================================\n",
      "\u001b[4mtest develop mock circuit Logger                                                \u001b[0m\n",
      "\u001b[4mDEBUGINFO@<2020-02-17 22:55:05>                                                 \u001b[0m\n",
      "Traceback:\n",
      "\tfilename: \t/Users/vishalsoodmuchu/.vmgr_repo/py37/lib/python3.7/site-packages/neuro_dmt/models/bluebrain/circuit/mock/test/mock_circuit_light.py\n",
      "\tlineno: \t104\n",
      "\tcode_context: \t['        log.get_source_info(),\\n']\n",
      "\tindex: 0\n",
      "\n",
      "get excitatory cell density for layer 6\n",
      "with number of excitatory mtypes: 4\n",
      "================================================================================\n",
      "\n",
      "================================================================================\n",
      "\u001b[4mtest develop mock circuit Logger                                                \u001b[0m\n",
      "\u001b[4mDEBUGINFO@<2020-02-17 22:55:05>                                                 \u001b[0m\n",
      "Traceback:\n",
      "\tfilename: \t/Users/vishalsoodmuchu/.vmgr_repo/py37/lib/python3.7/site-packages/neuro_dmt/models/bluebrain/circuit/mock/test/mock_circuit_light.py\n",
      "\tlineno: \t104\n",
      "\tcode_context: \t['        log.get_source_info(),\\n']\n",
      "\tindex: 0\n",
      "\n",
      "get excitatory cell density for layer 6\n",
      "with number of excitatory mtypes: 4\n",
      "================================================================================\n",
      "\n",
      "================================================================================\n",
      "\u001b[4mtest develop mock circuit Logger                                                \u001b[0m\n",
      "\u001b[4mDEBUGINFO@<2020-02-17 22:55:05>                                                 \u001b[0m\n",
      "Traceback:\n",
      "\tfilename: \t/Users/vishalsoodmuchu/.vmgr_repo/py37/lib/python3.7/site-packages/neuro_dmt/models/bluebrain/circuit/mock/test/mock_circuit_light.py\n",
      "\tlineno: \t104\n",
      "\tcode_context: \t['        log.get_source_info(),\\n']\n",
      "\tindex: 0\n",
      "\n",
      "get excitatory cell density for layer 6\n",
      "with number of excitatory mtypes: 4\n",
      "================================================================================\n",
      "\n"
     ]
    },
    {
     "name": "stdout",
     "output_type": "stream",
     "text": [
      "================================================================================\n",
      "\u001b[4mtest develop mock circuit Logger                                                \u001b[0m\n",
      "\u001b[4mDEBUGINFO@<2020-02-17 22:55:05>                                                 \u001b[0m\n",
      "Traceback:\n",
      "\tfilename: \t/Users/vishalsoodmuchu/.vmgr_repo/py37/lib/python3.7/site-packages/neuro_dmt/models/bluebrain/circuit/mock/test/mock_circuit_light.py\n",
      "\tlineno: \t104\n",
      "\tcode_context: \t['        log.get_source_info(),\\n']\n",
      "\tindex: 0\n",
      "\n",
      "get excitatory cell density for layer 6\n",
      "with number of excitatory mtypes: 4\n",
      "================================================================================\n",
      "\n",
      "================================================================================\n",
      "\u001b[4mtest develop mock circuit Logger                                                \u001b[0m\n",
      "\u001b[4mDEBUGINFO@<2020-02-17 22:55:05>                                                 \u001b[0m\n",
      "Traceback:\n",
      "\tfilename: \t/Users/vishalsoodmuchu/.vmgr_repo/py37/lib/python3.7/site-packages/neuro_dmt/models/bluebrain/circuit/mock/test/mock_circuit_light.py\n",
      "\tlineno: \t104\n",
      "\tcode_context: \t['        log.get_source_info(),\\n']\n",
      "\tindex: 0\n",
      "\n",
      "get excitatory cell density for layer 6\n",
      "with number of excitatory mtypes: 4\n",
      "================================================================================\n",
      "\n",
      "================================================================================\n",
      "\u001b[4mtest develop mock circuit Logger                                                \u001b[0m\n",
      "\u001b[4mDEBUGINFO@<2020-02-17 22:55:05>                                                 \u001b[0m\n",
      "Traceback:\n",
      "\tfilename: \t/Users/vishalsoodmuchu/.vmgr_repo/py37/lib/python3.7/site-packages/neuro_dmt/models/bluebrain/circuit/mock/test/mock_circuit_light.py\n",
      "\tlineno: \t104\n",
      "\tcode_context: \t['        log.get_source_info(),\\n']\n",
      "\tindex: 0\n",
      "\n",
      "get excitatory cell density for layer 6\n",
      "with number of excitatory mtypes: 4\n",
      "================================================================================\n",
      "\n",
      "================================================================================\n",
      "\u001b[4mtest develop mock circuit Logger                                                \u001b[0m\n",
      "\u001b[4mDEBUGINFO@<2020-02-17 22:55:05>                                                 \u001b[0m\n",
      "Traceback:\n",
      "\tfilename: \t/Users/vishalsoodmuchu/.vmgr_repo/py37/lib/python3.7/site-packages/neuro_dmt/models/bluebrain/circuit/mock/test/mock_circuit_light.py\n",
      "\tlineno: \t104\n",
      "\tcode_context: \t['        log.get_source_info(),\\n']\n",
      "\tindex: 0\n",
      "\n",
      "get excitatory cell density for layer 6\n",
      "with number of excitatory mtypes: 4\n",
      "================================================================================\n",
      "\n",
      "================================================================================\n",
      "\u001b[4mtest develop mock circuit Logger                                                \u001b[0m\n",
      "\u001b[4mDEBUGINFO@<2020-02-17 22:55:05>                                                 \u001b[0m\n",
      "Traceback:\n",
      "\tfilename: \t/Users/vishalsoodmuchu/.vmgr_repo/py37/lib/python3.7/site-packages/neuro_dmt/models/bluebrain/circuit/mock/test/mock_circuit_light.py\n",
      "\tlineno: \t104\n",
      "\tcode_context: \t['        log.get_source_info(),\\n']\n",
      "\tindex: 0\n",
      "\n",
      "get excitatory cell density for layer 6\n",
      "with number of excitatory mtypes: 4\n",
      "================================================================================\n",
      "\n",
      "================================================================================\n",
      "\u001b[4mtest develop mock circuit Logger                                                \u001b[0m\n",
      "\u001b[4mDEBUGINFO@<2020-02-17 22:55:05>                                                 \u001b[0m\n",
      "Traceback:\n",
      "\tfilename: \t/Users/vishalsoodmuchu/.vmgr_repo/py37/lib/python3.7/site-packages/neuro_dmt/models/bluebrain/circuit/mock/test/mock_circuit_light.py\n",
      "\tlineno: \t104\n",
      "\tcode_context: \t['        log.get_source_info(),\\n']\n",
      "\tindex: 0\n",
      "\n",
      "get excitatory cell density for layer 6\n",
      "with number of excitatory mtypes: 4\n",
      "================================================================================\n",
      "\n",
      "================================================================================\n",
      "\u001b[4mtest develop mock circuit Logger                                                \u001b[0m\n",
      "\u001b[4mDEBUGINFO@<2020-02-17 22:55:05>                                                 \u001b[0m\n",
      "Traceback:\n",
      "\tfilename: \t/Users/vishalsoodmuchu/.vmgr_repo/py37/lib/python3.7/site-packages/neuro_dmt/models/bluebrain/circuit/mock/test/mock_circuit_light.py\n",
      "\tlineno: \t104\n",
      "\tcode_context: \t['        log.get_source_info(),\\n']\n",
      "\tindex: 0\n",
      "\n",
      "get excitatory cell density for layer 6\n",
      "with number of excitatory mtypes: 4\n",
      "================================================================================\n",
      "\n",
      "================================================================================\n",
      "\u001b[4mtest develop mock circuit Logger                                                \u001b[0m\n",
      "\u001b[4mDEBUGINFO@<2020-02-17 22:55:05>                                                 \u001b[0m\n",
      "Traceback:\n",
      "\tfilename: \t/Users/vishalsoodmuchu/.vmgr_repo/py37/lib/python3.7/site-packages/neuro_dmt/models/bluebrain/circuit/mock/test/mock_circuit_light.py\n",
      "\tlineno: \t104\n",
      "\tcode_context: \t['        log.get_source_info(),\\n']\n",
      "\tindex: 0\n",
      "\n",
      "get excitatory cell density for layer 6\n",
      "with number of excitatory mtypes: 4\n",
      "================================================================================\n",
      "\n",
      "================================================================================\n",
      "\u001b[4mtest develop mock circuit Logger                                                \u001b[0m\n",
      "\u001b[4mDEBUGINFO@<2020-02-17 22:55:05>                                                 \u001b[0m\n",
      "Traceback:\n",
      "\tfilename: \t/Users/vishalsoodmuchu/.vmgr_repo/py37/lib/python3.7/site-packages/neuro_dmt/models/bluebrain/circuit/mock/test/mock_circuit_light.py\n",
      "\tlineno: \t104\n",
      "\tcode_context: \t['        log.get_source_info(),\\n']\n",
      "\tindex: 0\n",
      "\n",
      "get excitatory cell density for layer 6\n",
      "with number of excitatory mtypes: 4\n",
      "================================================================================\n",
      "\n",
      "================================================================================\n",
      "\u001b[4mtest develop mock circuit Logger                                                \u001b[0m\n",
      "\u001b[4mDEBUGINFO@<2020-02-17 22:55:05>                                                 \u001b[0m\n",
      "Traceback:\n",
      "\tfilename: \t/Users/vishalsoodmuchu/.vmgr_repo/py37/lib/python3.7/site-packages/neuro_dmt/models/bluebrain/circuit/mock/test/mock_circuit_light.py\n",
      "\tlineno: \t104\n",
      "\tcode_context: \t['        log.get_source_info(),\\n']\n",
      "\tindex: 0\n",
      "\n",
      "get excitatory cell density for layer 6\n",
      "with number of excitatory mtypes: 4\n",
      "================================================================================\n",
      "\n"
     ]
    },
    {
     "name": "stderr",
     "output_type": "stream",
     "text": [
      "102it [00:00, 482.29it/s]"
     ]
    },
    {
     "name": "stdout",
     "output_type": "stream",
     "text": [
      "================================================================================\n",
      "\u001b[4m/Users/vishalsoodmuchu/.vmgr_repo/py37/lib/python3.7/site-packages/neuro_dmt/models/bluebrain/circuit/mock/builder.py Logger\u001b[0m\n",
      "\u001b[4mDEBUGINFO@<2020-02-17 22:55:05>                                                 \u001b[0m\n",
      "Build the (mock) circuit connectome.\n",
      "================================================================================\n",
      "\n"
     ]
    },
    {
     "name": "stderr",
     "output_type": "stream",
     "text": [
      "82304it [02:27, 559.70it/s]\n",
      "100%|██████████| 82304/82304 [01:17<00:00, 1068.45it/s]\n"
     ]
    }
   ],
   "source": [
    "from neuro_dmt.models.bluebrain.circuit.mock.circuit import\\\n",
    "    MockCircuit\n",
    "from neuro_dmt.models.bluebrain.circuit.mock.test.mock_circuit_light import\\\n",
    "    circuit_composition,\\\n",
    "    circuit_connectivity\n",
    "\n",
    "bluepy_mock_circuit =\\\n",
    "    MockCircuit.build(\n",
    "        circuit_composition,\n",
    "        circuit_connectivity)\n",
    "mock_circuit_model =\\\n",
    "    BlueBrainCircuitModel(\n",
    "        bluepy_mock_circuit,\n",
    "        label=\"BlueBrainCircuitModelMockLight\")"
   ]
  },
  {
   "cell_type": "markdown",
   "metadata": {},
   "source": [
    "# Adapter Functionality\n",
    "\n",
    "In this section we develop our adapter's functionality"
   ]
  },
  {
   "cell_type": "code",
   "execution_count": 4,
   "metadata": {
    "ExecuteTime": {
     "end_time": "2020-02-17T22:00:40.353859Z",
     "start_time": "2020-02-17T22:00:40.335698Z"
    }
   },
   "outputs": [
    {
     "name": "stdout",
     "output_type": "stream",
     "text": [
      "     mtype\n",
      "0   L1_DAC\n",
      "1  L1_SLAC\n",
      "2   L23_MC\n",
      "3  L23_ChC\n",
      "4  L23_SBC\n",
      "     mtype etype\n",
      "0   L1_DAC  bNAC\n",
      "1   L1_DAC   NAC\n",
      "2  L1_SLAC  bNAC\n",
      "3  L1_SLAC   NAC\n",
      "4   L23_MC  bNAC\n"
     ]
    }
   ],
   "source": [
    "adapter = BlueBrainCircuitAdapter()\n",
    "cell_types_m = adapter.get_cell_types(mock_circuit_model, (\"mtype\",))\n",
    "print(cell_types_m.head())\n",
    "cell_types_me = adapter.get_cell_types(mock_circuit_model, (\"mtype\", \"etype\",) )\n",
    "print(cell_types_me.head())"
   ]
  },
  {
   "cell_type": "code",
   "execution_count": 5,
   "metadata": {
    "ExecuteTime": {
     "end_time": "2020-02-17T22:00:44.303849Z",
     "start_time": "2020-02-17T22:00:41.210125Z"
    }
   },
   "outputs": [
    {
     "name": "stdout",
     "output_type": "stream",
     "text": [
      "(1444, 4)\n"
     ]
    },
    {
     "data": {
      "text/html": [
       "<div>\n",
       "<style scoped>\n",
       "    .dataframe tbody tr th:only-of-type {\n",
       "        vertical-align: middle;\n",
       "    }\n",
       "\n",
       "    .dataframe tbody tr th {\n",
       "        vertical-align: top;\n",
       "    }\n",
       "\n",
       "    .dataframe thead tr th {\n",
       "        text-align: left;\n",
       "    }\n",
       "</style>\n",
       "<table border=\"1\" class=\"dataframe\">\n",
       "  <thead>\n",
       "    <tr>\n",
       "      <th></th>\n",
       "      <th colspan=\"2\" halign=\"left\">pre_synaptic</th>\n",
       "      <th colspan=\"2\" halign=\"left\">post_synaptic</th>\n",
       "    </tr>\n",
       "    <tr>\n",
       "      <th></th>\n",
       "      <th>mtype</th>\n",
       "      <th>etype</th>\n",
       "      <th>mtype</th>\n",
       "      <th>etype</th>\n",
       "    </tr>\n",
       "  </thead>\n",
       "  <tbody>\n",
       "    <tr>\n",
       "      <th>0</th>\n",
       "      <td>L1_DAC</td>\n",
       "      <td>bNAC</td>\n",
       "      <td>L1_DAC</td>\n",
       "      <td>bNAC</td>\n",
       "    </tr>\n",
       "    <tr>\n",
       "      <th>1</th>\n",
       "      <td>L1_DAC</td>\n",
       "      <td>bNAC</td>\n",
       "      <td>L1_DAC</td>\n",
       "      <td>NAC</td>\n",
       "    </tr>\n",
       "    <tr>\n",
       "      <th>2</th>\n",
       "      <td>L1_DAC</td>\n",
       "      <td>bNAC</td>\n",
       "      <td>L1_SLAC</td>\n",
       "      <td>bNAC</td>\n",
       "    </tr>\n",
       "    <tr>\n",
       "      <th>3</th>\n",
       "      <td>L1_DAC</td>\n",
       "      <td>bNAC</td>\n",
       "      <td>L1_SLAC</td>\n",
       "      <td>NAC</td>\n",
       "    </tr>\n",
       "    <tr>\n",
       "      <th>4</th>\n",
       "      <td>L1_DAC</td>\n",
       "      <td>bNAC</td>\n",
       "      <td>L23_MC</td>\n",
       "      <td>bNAC</td>\n",
       "    </tr>\n",
       "  </tbody>\n",
       "</table>\n",
       "</div>"
      ],
      "text/plain": [
       "  pre_synaptic       post_synaptic      \n",
       "         mtype etype         mtype etype\n",
       "0       L1_DAC  bNAC        L1_DAC  bNAC\n",
       "1       L1_DAC  bNAC        L1_DAC   NAC\n",
       "2       L1_DAC  bNAC       L1_SLAC  bNAC\n",
       "3       L1_DAC  bNAC       L1_SLAC   NAC\n",
       "4       L1_DAC  bNAC        L23_MC  bNAC"
      ]
     },
     "execution_count": 5,
     "metadata": {},
     "output_type": "execute_result"
    }
   ],
   "source": [
    "pathways = adapter.get_pathways(mock_circuit_model, (\"mtype\", \"etype\"))\n",
    "print(pathways.shape)\n",
    "assert pathways.shape[0] == cell_types_me.shape[0] ** 2\n",
    "pathways.head()"
   ]
  },
  {
   "cell_type": "code",
   "execution_count": 7,
   "metadata": {
    "ExecuteTime": {
     "end_time": "2020-02-17T22:00:50.791948Z",
     "start_time": "2020-02-17T22:00:50.785749Z"
    }
   },
   "outputs": [
    {
     "data": {
      "text/plain": [
       "pre_synaptic   mtype    L1_DAC\n",
       "               etype      bNAC\n",
       "post_synaptic  mtype    L1_DAC\n",
       "               etype       NAC\n",
       "Name: 1, dtype: object"
      ]
     },
     "execution_count": 7,
     "metadata": {},
     "output_type": "execute_result"
    }
   ],
   "source": [
    "pathways.iloc[1]"
   ]
  },
  {
   "cell_type": "code",
   "execution_count": 8,
   "metadata": {
    "ExecuteTime": {
     "end_time": "2020-02-17T22:00:51.490692Z",
     "start_time": "2020-02-17T22:00:51.390410Z"
    }
   },
   "outputs": [
    {
     "data": {
      "text/plain": [
       "array(['NAC'], dtype=object)"
      ]
     },
     "execution_count": 8,
     "metadata": {},
     "output_type": "execute_result"
    }
   ],
   "source": [
    "adapter.get_cells(mock_circuit_model,\n",
    "                  **pathways.iloc[1].post_synaptic)\\\n",
    "        .etype\\\n",
    "        .unique()"
   ]
  },
  {
   "cell_type": "markdown",
   "metadata": {},
   "source": [
    "# Number of Afferent Connections\n",
    "\n",
    "We develop an analysis of the number of afferent connections"
   ]
  },
  {
   "cell_type": "code",
   "execution_count": 9,
   "metadata": {
    "ExecuteTime": {
     "end_time": "2020-02-17T22:00:54.414935Z",
     "start_time": "2020-02-17T22:00:54.411830Z"
    }
   },
   "outputs": [],
   "source": [
    "from neuro_dmt.analysis.reporting import CheetahReporter\n",
    "reporter_analyses =\\\n",
    "    CheetahReporter(\n",
    "        path_output_folder=os.path.join(\n",
    "            suite_connectome_analyses.path_reports,\n",
    "            \"analyses\"))"
   ]
  },
  {
   "cell_type": "markdown",
   "metadata": {},
   "source": [
    "We can also run our analyses over a chosen set of cell-types."
   ]
  },
  {
   "cell_type": "code",
   "execution_count": 10,
   "metadata": {
    "ExecuteTime": {
     "end_time": "2020-02-17T22:00:58.954391Z",
     "start_time": "2020-02-17T22:00:58.898935Z"
    }
   },
   "outputs": [
    {
     "data": {
      "text/plain": [
       "region                  S1Sh\n",
       "layer                      2\n",
       "nucleus          not-defined\n",
       "mtype                 L23_MC\n",
       "etype                   bNAC\n",
       "morph_class      not-defined\n",
       "synapse_class            INH\n",
       "x                    47.7631\n",
       "y                    185.226\n",
       "z                    81.1804\n",
       "gid                    62061\n",
       "Name: 62061, dtype: object"
      ]
     },
     "execution_count": 10,
     "metadata": {},
     "output_type": "execute_result"
    }
   ],
   "source": [
    "post_synaptic_cell =\\\n",
    "    suite_connectome_analyses\\\n",
    "        .random_cell(\n",
    "            mock_circuit_model,\n",
    "            adapter,\n",
    "            {\"mtype\": \"L23_MC\"})\n",
    "post_synaptic_cell"
   ]
  },
  {
   "cell_type": "code",
   "execution_count": 11,
   "metadata": {
    "ExecuteTime": {
     "end_time": "2020-02-17T22:01:00.743077Z",
     "start_time": "2020-02-17T22:01:00.720040Z"
    }
   },
   "outputs": [
    {
     "name": "stdout",
     "output_type": "stream",
     "text": [
      "187\n",
      "[47.76305536600761 185.2257378634688 81.18035564403542]\n",
      "<class 'numpy.ndarray'>\n",
      "(187, 3)\n",
      "[[146.17678936 -12.28080137 -22.38822396]\n",
      " [162.95856019 408.4281224  -33.22195874]]\n",
      "207.79830020347816\n",
      "187\n"
     ]
    },
    {
     "data": {
      "text/plain": [
       "array([ 148.3903784 ,  440.99061446,  459.49289662,  391.71273377,\n",
       "        494.0429786 ,  476.65503577,  467.08051646,  525.31138284,\n",
       "        796.85673426,  835.17271212,  886.43639265, 1010.17768949,\n",
       "        638.09213638,  567.74598134, 1004.22846953,  943.00194039,\n",
       "        637.25043754,  766.26411673,  647.11241746,  556.57915842,\n",
       "        914.40133752,  577.31284119,  922.78434948,  812.58454255,\n",
       "       1608.87903173, 1498.64505054, 1347.062372  , 1478.39146805,\n",
       "       1057.91622163, 1313.39594953, 1457.40735294, 1031.78088924,\n",
       "       1422.46453549, 1346.36621384, 1031.4072598 , 1363.36792552,\n",
       "       1565.49433846, 1558.74377414, 1173.70280084, 1622.01562992,\n",
       "       1089.10209614, 1177.0206314 , 1482.02805282, 1188.70738438,\n",
       "       1642.75026418, 1489.67046115, 1118.72900064, 1033.23604763,\n",
       "       1233.00832015, 1051.34563979, 1500.2055191 , 1195.05306932,\n",
       "       1305.32021653, 1160.05788897,  417.9245068 ,  409.13203968,\n",
       "        534.16054668,  406.204506  ,  529.65907157,  565.59716355,\n",
       "        428.00070704,  494.28270436,  640.75962202,  661.05281675,\n",
       "        975.78874694,  973.61163899,  703.95326753,  840.7354443 ,\n",
       "        879.86629353,  940.92947529,  619.81382218,  873.382084  ,\n",
       "        584.99820102, 1048.47038553, 1153.98905506, 1093.043089  ,\n",
       "       1429.91682924, 1163.17276302, 1172.82237969, 1300.86078611,\n",
       "       1071.70900843, 1617.73375522, 1262.91804172, 1310.78178935,\n",
       "       1593.49791164, 1504.48261524, 1566.06570533, 1514.05585371,\n",
       "       1026.93417692, 1237.75179844, 1330.62772374, 1525.51893856,\n",
       "       1473.48134175, 1385.88403214, 1145.71877968, 1107.93992342,\n",
       "       1167.61275893, 1319.07830803, 1473.23476364,  200.76457343,\n",
       "         97.29176077,  114.06560518,  319.76335044,  223.76958245,\n",
       "        390.65549463,  454.33998458,  561.67907754,  423.82750116,\n",
       "        494.20511436,  440.49167158,  519.24474355,  441.6237174 ,\n",
       "        409.06758571,  472.0985938 ,  764.09143352,  849.93319825,\n",
       "        838.2227051 ,  686.39073609,  773.44886767, 1005.67952873,\n",
       "        823.01964994,  547.72446811,  684.89070729,  876.77219936,\n",
       "       1326.71563247, 1214.9512789 , 1121.09252087, 1551.54725942,\n",
       "       1244.7129587 , 1145.93627733, 1142.02695188, 1028.19897745,\n",
       "       1559.07916398, 1251.83122512, 1599.7885471 , 1615.55468741,\n",
       "       1631.24356175, 1244.85008351, 1144.22363671,  203.73971167,\n",
       "         69.31682741,   45.70707468,   96.5572507 ,  283.42343784,\n",
       "        298.99049358,  519.43469593,  497.49494808,  428.09670623,\n",
       "        447.64712248,  392.18797782,  536.56919929,  541.49276368,\n",
       "        521.07224182,  511.05808733,  427.89787663,  392.15411737,\n",
       "        525.36098366,  520.58557377,  557.83946157,  863.2710359 ,\n",
       "        703.12105501,  822.4833772 ,  647.98670023,  823.28672154,\n",
       "        882.41862317,  980.70710604,  878.79603958,  841.13115499,\n",
       "        959.57303768,  794.09997519,  934.31373535,  632.1779602 ,\n",
       "       1622.37722492, 1619.80767149, 1486.61694777, 1121.31143215,\n",
       "       1656.52385827, 1378.63132261, 1509.66943135, 1475.28319768,\n",
       "       1094.7376234 , 1405.9262246 , 1418.08109174, 1520.35963555,\n",
       "       1437.82012563, 1505.21700871, 1185.34956401])"
      ]
     },
     "execution_count": 11,
     "metadata": {},
     "output_type": "execute_result"
    }
   ],
   "source": [
    "gids_afferent =\\\n",
    "    adapter.get_afferent_gids(\n",
    "        mock_circuit_model,\n",
    "        post_synaptic_cell)\n",
    "\n",
    "def soma_distance(pre_cells):\n",
    "    return\\\n",
    "        suite_connectome_analyses.get_soma_distance_bins(\n",
    "            mock_circuit_model,\n",
    "            adapter,\n",
    "            post_synaptic_cell, pre_cells)\n",
    "\n",
    "pre_synaptic_cells =\\\n",
    "    adapter.get_cells(mock_circuit_model)\\\n",
    "           .loc[gids_afferent]\n",
    "pre_synaptic_cells.head()\n",
    "print(pre_synaptic_cells.shape[0])\n",
    "#suite_connectome_analyses.get_soma_distance_bins(\n",
    "#    mock_circuit_model,\n",
    "#    adapter,\n",
    "#    post_synaptic_cell, pre_synaptic_cells)\n",
    "XYZ = [\"x\", \"y\", \"z\"]\n",
    "print(post_synaptic_cell[XYZ].values)\n",
    "print(type(pre_synaptic_cells[XYZ].values))\n",
    "delta_position =\\\n",
    "    pre_synaptic_cells[XYZ].to_numpy(dtype=np.float64) - post_synaptic_cell[XYZ].to_numpy(dtype=np.float64)\n",
    "print(delta_position.shape)\n",
    "print(delta_position[0:2])\n",
    "print(np.linalg.norm(post_synaptic_cell[XYZ]))\n",
    "distance = np.linalg.norm(delta_position, axis=1)\n",
    "print(len(distance))\n",
    "distance\n",
    "#distance =\\\n",
    "#    np.linalg.norm(\n",
    "#        pre_synaptic_cells[XYZ].values - post_synaptic_cell[XYZ].values, \n",
    "#        axis=1)\n",
    "#print(len(distance))\n",
    "#soma_distance(pre_synaptic_cells)"
   ]
  },
  {
   "cell_type": "code",
   "execution_count": 12,
   "metadata": {
    "ExecuteTime": {
     "end_time": "2020-02-17T22:01:03.730472Z",
     "start_time": "2020-02-17T22:01:03.664736Z"
    },
    "scrolled": true
   },
   "outputs": [
    {
     "name": "stdout",
     "output_type": "stream",
     "text": [
      "================================================================================\n",
      "\u001b[4m/Users/vishalsoodmuchu/.vmgr_repo/py37/lib/python3.7/site-packages/neuro_dmt/library/users/visood/sscx_dissemination/analyses/connectome/__init__.py Logger\u001b[0m\n",
      "\u001b[4mDEBUGINFO@<2020-02-17 22:55:05>                                                 \u001b[0m\n",
      "\n",
      "            Number afferent connections for post-synaptic cell type: {'mtype': 'L23_MC'}\n",
      "            \n",
      "================================================================================\n",
      "\n",
      "================================================================================\n",
      "\u001b[4m/Users/vishalsoodmuchu/.vmgr_repo/py37/lib/python3.7/site-packages/neuro_dmt/library/users/visood/sscx_dissemination/analyses/connectome/__init__.py Logger\u001b[0m\n",
      "\u001b[4mINFO@<2020-02-17 22:55:05>                                                      \u001b[0m\n",
      "number_afferent_connections call count : 1\n",
      "================================================================================\n",
      "\n"
     ]
    }
   ],
   "source": [
    "suite_connectome_analyses =\\\n",
    "    ConnectomeAnalysesSuite(\n",
    "        sample_size=20,\n",
    "        cell_mtypes=[\"L5_TPC:A\", \"L5_TPC:B\", \"L5_UPC\"])\n",
    "m = suite_connectome_analyses\\\n",
    "    .number_afferent_connections(\n",
    "        mock_circuit_model, adapter,\n",
    "        {\"mtype\": \"L23_MC\"})"
   ]
  },
  {
   "cell_type": "code",
   "execution_count": 14,
   "metadata": {
    "ExecuteTime": {
     "end_time": "2020-02-17T22:01:22.137482Z",
     "start_time": "2020-02-17T22:01:22.131651Z"
    }
   },
   "outputs": [
    {
     "data": {
      "text/plain": [
       "(pre_synaptic_cell_type, mtype)  soma_distance\n",
       "L1_DAC                           150.0            2.0\n",
       "L23_ChC                          150.0            1.0\n",
       "                                 250.0            1.0\n",
       "                                 350.0            1.0\n",
       "L23_MC                           150.0            1.0\n",
       "Name: number_connections_afferent, dtype: float64"
      ]
     },
     "execution_count": 14,
     "metadata": {},
     "output_type": "execute_result"
    }
   ],
   "source": [
    "m.head()"
   ]
  },
  {
   "cell_type": "code",
   "execution_count": 36,
   "metadata": {
    "ExecuteTime": {
     "end_time": "2020-02-17T21:46:37.949983Z",
     "start_time": "2020-02-17T21:46:37.942847Z"
    }
   },
   "outputs": [],
   "source": [
    "from tqdm import tqdm\n",
    "connectome = mock_circuit_model.connectome\n",
    "def iter_connections(pre=None, post=None):\n",
    "    if pre is None:\n",
    "        if post is not None:\n",
    "            for post_gid in post:\n",
    "                afferent_connections = connectome.afferent_connections.loc[post_gid]\n",
    "                for _, cnxn in afferent_connections.iterrows():\n",
    "                    yield (cnxn.pre_synaptic_cell_gid, post_gid, cnxn.strength)\n",
    "        else:\n",
    "            for _, cnxn in connectome.connections.iterrows():\n",
    "                yield (cnxn.pre_synaptic_cell_gid, cnxn.post_synaptic_cell_gid, cnxn.strength)\n",
    "    elif post is None:\n",
    "        for pre_gid in pre:\n",
    "            efferent_connections = connectome.efferent_connections.loc[pre_gid]\n",
    "            for _, cnxn in efferent_connections.iterrows():\n",
    "                yield (pre_gid, cnxn.post_synaptic_cell_gid, cnxn.strength)\n",
    "            \n",
    "    else:\n",
    "        for pre_gid in pre:\n",
    "            efferent_synapse_count =\\\n",
    "                connectome.synapse_count\\\n",
    "                          .loc[pre_gid]\\\n",
    "                          .reindex(post)\\\n",
    "                          .dropna()\n",
    "            for post_gid, strength in efferent_synapse_count.iteritems():\n",
    "                yield (pre_gid, post_gid, strength)"
   ]
  },
  {
   "cell_type": "code",
   "execution_count": 41,
   "metadata": {
    "ExecuteTime": {
     "end_time": "2020-02-17T21:48:31.956123Z",
     "start_time": "2020-02-17T21:48:31.921044Z"
    }
   },
   "outputs": [
    {
     "data": {
      "text/html": [
       "<div>\n",
       "<style scoped>\n",
       "    .dataframe tbody tr th:only-of-type {\n",
       "        vertical-align: middle;\n",
       "    }\n",
       "\n",
       "    .dataframe tbody tr th {\n",
       "        vertical-align: top;\n",
       "    }\n",
       "\n",
       "    .dataframe thead th {\n",
       "        text-align: right;\n",
       "    }\n",
       "</style>\n",
       "<table border=\"1\" class=\"dataframe\">\n",
       "  <thead>\n",
       "    <tr style=\"text-align: right;\">\n",
       "      <th></th>\n",
       "      <th>pre</th>\n",
       "      <th>post</th>\n",
       "      <th>strength</th>\n",
       "    </tr>\n",
       "  </thead>\n",
       "  <tbody>\n",
       "    <tr>\n",
       "      <th>0</th>\n",
       "      <td>525</td>\n",
       "      <td>62587</td>\n",
       "      <td>5</td>\n",
       "    </tr>\n",
       "    <tr>\n",
       "      <th>1</th>\n",
       "      <td>768</td>\n",
       "      <td>62587</td>\n",
       "      <td>4</td>\n",
       "    </tr>\n",
       "    <tr>\n",
       "      <th>2</th>\n",
       "      <td>832</td>\n",
       "      <td>62587</td>\n",
       "      <td>10</td>\n",
       "    </tr>\n",
       "    <tr>\n",
       "      <th>3</th>\n",
       "      <td>1260</td>\n",
       "      <td>62587</td>\n",
       "      <td>2</td>\n",
       "    </tr>\n",
       "    <tr>\n",
       "      <th>4</th>\n",
       "      <td>1413</td>\n",
       "      <td>62587</td>\n",
       "      <td>4</td>\n",
       "    </tr>\n",
       "    <tr>\n",
       "      <th>...</th>\n",
       "      <td>...</td>\n",
       "      <td>...</td>\n",
       "      <td>...</td>\n",
       "    </tr>\n",
       "    <tr>\n",
       "      <th>199</th>\n",
       "      <td>80484</td>\n",
       "      <td>62587</td>\n",
       "      <td>1</td>\n",
       "    </tr>\n",
       "    <tr>\n",
       "      <th>200</th>\n",
       "      <td>81335</td>\n",
       "      <td>62587</td>\n",
       "      <td>3</td>\n",
       "    </tr>\n",
       "    <tr>\n",
       "      <th>201</th>\n",
       "      <td>81816</td>\n",
       "      <td>62587</td>\n",
       "      <td>6</td>\n",
       "    </tr>\n",
       "    <tr>\n",
       "      <th>202</th>\n",
       "      <td>81857</td>\n",
       "      <td>62587</td>\n",
       "      <td>6</td>\n",
       "    </tr>\n",
       "    <tr>\n",
       "      <th>203</th>\n",
       "      <td>81908</td>\n",
       "      <td>62587</td>\n",
       "      <td>5</td>\n",
       "    </tr>\n",
       "  </tbody>\n",
       "</table>\n",
       "<p>204 rows × 3 columns</p>\n",
       "</div>"
      ],
      "text/plain": [
       "       pre   post  strength\n",
       "0      525  62587         5\n",
       "1      768  62587         4\n",
       "2      832  62587        10\n",
       "3     1260  62587         2\n",
       "4     1413  62587         4\n",
       "..     ...    ...       ...\n",
       "199  80484  62587         1\n",
       "200  81335  62587         3\n",
       "201  81816  62587         6\n",
       "202  81857  62587         6\n",
       "203  81908  62587         5\n",
       "\n",
       "[204 rows x 3 columns]"
      ]
     },
     "execution_count": 41,
     "metadata": {},
     "output_type": "execute_result"
    }
   ],
   "source": [
    "iterator =\\\n",
    "    iter_connections(post=[post_synaptic_cell.gid])\n",
    "                    \n",
    "df =\\\n",
    "    pd.DataFrame(\n",
    "        [cnxn for cnxn in iterator],\n",
    "        columns=[\"pre\", \"post\", \"strength\"])\n",
    "df"
   ]
  },
  {
   "cell_type": "code",
   "execution_count": 40,
   "metadata": {
    "ExecuteTime": {
     "end_time": "2020-02-17T21:48:26.001796Z",
     "start_time": "2020-02-17T21:48:25.949337Z"
    }
   },
   "outputs": [
    {
     "data": {
      "text/html": [
       "<div>\n",
       "<style scoped>\n",
       "    .dataframe tbody tr th:only-of-type {\n",
       "        vertical-align: middle;\n",
       "    }\n",
       "\n",
       "    .dataframe tbody tr th {\n",
       "        vertical-align: top;\n",
       "    }\n",
       "\n",
       "    .dataframe thead th {\n",
       "        text-align: right;\n",
       "    }\n",
       "</style>\n",
       "<table border=\"1\" class=\"dataframe\">\n",
       "  <thead>\n",
       "    <tr style=\"text-align: right;\">\n",
       "      <th></th>\n",
       "      <th>pre</th>\n",
       "      <th>post</th>\n",
       "      <th>strength</th>\n",
       "    </tr>\n",
       "  </thead>\n",
       "  <tbody>\n",
       "    <tr>\n",
       "      <th>0</th>\n",
       "      <td>62587</td>\n",
       "      <td>289</td>\n",
       "      <td>4</td>\n",
       "    </tr>\n",
       "    <tr>\n",
       "      <th>1</th>\n",
       "      <td>62587</td>\n",
       "      <td>501</td>\n",
       "      <td>4</td>\n",
       "    </tr>\n",
       "    <tr>\n",
       "      <th>2</th>\n",
       "      <td>62587</td>\n",
       "      <td>656</td>\n",
       "      <td>5</td>\n",
       "    </tr>\n",
       "    <tr>\n",
       "      <th>3</th>\n",
       "      <td>62587</td>\n",
       "      <td>1162</td>\n",
       "      <td>6</td>\n",
       "    </tr>\n",
       "    <tr>\n",
       "      <th>4</th>\n",
       "      <td>62587</td>\n",
       "      <td>1727</td>\n",
       "      <td>4</td>\n",
       "    </tr>\n",
       "    <tr>\n",
       "      <th>...</th>\n",
       "      <td>...</td>\n",
       "      <td>...</td>\n",
       "      <td>...</td>\n",
       "    </tr>\n",
       "    <tr>\n",
       "      <th>181</th>\n",
       "      <td>62587</td>\n",
       "      <td>80333</td>\n",
       "      <td>4</td>\n",
       "    </tr>\n",
       "    <tr>\n",
       "      <th>182</th>\n",
       "      <td>62587</td>\n",
       "      <td>80601</td>\n",
       "      <td>3</td>\n",
       "    </tr>\n",
       "    <tr>\n",
       "      <th>183</th>\n",
       "      <td>62587</td>\n",
       "      <td>80854</td>\n",
       "      <td>3</td>\n",
       "    </tr>\n",
       "    <tr>\n",
       "      <th>184</th>\n",
       "      <td>62587</td>\n",
       "      <td>80981</td>\n",
       "      <td>2</td>\n",
       "    </tr>\n",
       "    <tr>\n",
       "      <th>185</th>\n",
       "      <td>62587</td>\n",
       "      <td>81720</td>\n",
       "      <td>10</td>\n",
       "    </tr>\n",
       "  </tbody>\n",
       "</table>\n",
       "<p>186 rows × 3 columns</p>\n",
       "</div>"
      ],
      "text/plain": [
       "       pre   post  strength\n",
       "0    62587    289         4\n",
       "1    62587    501         4\n",
       "2    62587    656         5\n",
       "3    62587   1162         6\n",
       "4    62587   1727         4\n",
       "..     ...    ...       ...\n",
       "181  62587  80333         4\n",
       "182  62587  80601         3\n",
       "183  62587  80854         3\n",
       "184  62587  80981         2\n",
       "185  62587  81720        10\n",
       "\n",
       "[186 rows x 3 columns]"
      ]
     },
     "execution_count": 40,
     "metadata": {},
     "output_type": "execute_result"
    }
   ],
   "source": [
    "pd.DataFrame(\n",
    "    [cnxn for cnxn in iter_connections(pre=[post_synaptic_cell.gid])],\n",
    "    columns=[\"pre\", \"post\", \"strength\"])"
   ]
  },
  {
   "cell_type": "code",
   "execution_count": 17,
   "metadata": {
    "ExecuteTime": {
     "end_time": "2020-02-17T22:02:21.319296Z",
     "start_time": "2020-02-17T22:02:21.152606Z"
    }
   },
   "outputs": [
    {
     "data": {
      "text/html": [
       "<div>\n",
       "<style scoped>\n",
       "    .dataframe tbody tr th:only-of-type {\n",
       "        vertical-align: middle;\n",
       "    }\n",
       "\n",
       "    .dataframe tbody tr th {\n",
       "        vertical-align: top;\n",
       "    }\n",
       "\n",
       "    .dataframe thead th {\n",
       "        text-align: right;\n",
       "    }\n",
       "</style>\n",
       "<table border=\"1\" class=\"dataframe\">\n",
       "  <thead>\n",
       "    <tr style=\"text-align: right;\">\n",
       "      <th></th>\n",
       "      <th>pre_gid</th>\n",
       "      <th>strength</th>\n",
       "    </tr>\n",
       "  </thead>\n",
       "  <tbody>\n",
       "    <tr>\n",
       "      <th>0</th>\n",
       "      <td>780</td>\n",
       "      <td>6</td>\n",
       "    </tr>\n",
       "    <tr>\n",
       "      <th>1</th>\n",
       "      <td>1539</td>\n",
       "      <td>6</td>\n",
       "    </tr>\n",
       "    <tr>\n",
       "      <th>2</th>\n",
       "      <td>2214</td>\n",
       "      <td>3</td>\n",
       "    </tr>\n",
       "    <tr>\n",
       "      <th>3</th>\n",
       "      <td>2348</td>\n",
       "      <td>5</td>\n",
       "    </tr>\n",
       "    <tr>\n",
       "      <th>4</th>\n",
       "      <td>2535</td>\n",
       "      <td>3</td>\n",
       "    </tr>\n",
       "    <tr>\n",
       "      <th>...</th>\n",
       "      <td>...</td>\n",
       "      <td>...</td>\n",
       "    </tr>\n",
       "    <tr>\n",
       "      <th>182</th>\n",
       "      <td>79365</td>\n",
       "      <td>2</td>\n",
       "    </tr>\n",
       "    <tr>\n",
       "      <th>183</th>\n",
       "      <td>80498</td>\n",
       "      <td>6</td>\n",
       "    </tr>\n",
       "    <tr>\n",
       "      <th>184</th>\n",
       "      <td>81130</td>\n",
       "      <td>7</td>\n",
       "    </tr>\n",
       "    <tr>\n",
       "      <th>185</th>\n",
       "      <td>81325</td>\n",
       "      <td>2</td>\n",
       "    </tr>\n",
       "    <tr>\n",
       "      <th>186</th>\n",
       "      <td>81593</td>\n",
       "      <td>4</td>\n",
       "    </tr>\n",
       "  </tbody>\n",
       "</table>\n",
       "<p>187 rows × 2 columns</p>\n",
       "</div>"
      ],
      "text/plain": [
       "     pre_gid  strength\n",
       "0        780         6\n",
       "1       1539         6\n",
       "2       2214         3\n",
       "3       2348         5\n",
       "4       2535         3\n",
       "..       ...       ...\n",
       "182    79365         2\n",
       "183    80498         6\n",
       "184    81130         7\n",
       "185    81325         2\n",
       "186    81593         4\n",
       "\n",
       "[187 rows x 2 columns]"
      ]
     },
     "execution_count": 17,
     "metadata": {},
     "output_type": "execute_result"
    }
   ],
   "source": [
    "adapter.get_afferent_connections(mock_circuit_model, post_synaptic_cell)"
   ]
  },
  {
   "cell_type": "code",
   "execution_count": 21,
   "metadata": {
    "ExecuteTime": {
     "end_time": "2020-02-17T22:03:32.545888Z",
     "start_time": "2020-02-17T22:03:32.458532Z"
    }
   },
   "outputs": [
    {
     "name": "stdout",
     "output_type": "stream",
     "text": [
      "================================================================================\n",
      "\u001b[4m/Users/vishalsoodmuchu/.vmgr_repo/py37/lib/python3.7/site-packages/neuro_dmt/library/users/visood/sscx_dissemination/analyses/connectome/__init__.py Logger\u001b[0m\n",
      "\u001b[4mDEBUGINFO@<2020-02-17 22:55:05>                                                 \u001b[0m\n",
      "\n",
      "            Strength afferent connections for post-synaptic cell type: {'mtype': 'L23_MC'}\n",
      "            \n",
      "================================================================================\n",
      "\n",
      "================================================================================\n",
      "\u001b[4m/Users/vishalsoodmuchu/.vmgr_repo/py37/lib/python3.7/site-packages/neuro_dmt/library/users/visood/sscx_dissemination/analyses/connectome/__init__.py Logger\u001b[0m\n",
      "\u001b[4mINFO@<2020-02-17 22:55:05>                                                      \u001b[0m\n",
      "strength_afferent_connections call count : 2\n",
      "================================================================================\n",
      "\n"
     ]
    }
   ],
   "source": [
    "m = suite_connectome_analyses\\\n",
    "     .strength_afferent_connections(\n",
    "        mock_circuit_model, adapter,\n",
    "        {\"mtype\": \"L23_MC\"})"
   ]
  },
  {
   "cell_type": "code",
   "execution_count": 22,
   "metadata": {
    "ExecuteTime": {
     "end_time": "2020-02-17T22:03:34.960704Z",
     "start_time": "2020-02-17T22:03:34.956872Z"
    }
   },
   "outputs": [
    {
     "data": {
      "text/plain": [
       "(69,)"
      ]
     },
     "execution_count": 22,
     "metadata": {},
     "output_type": "execute_result"
    }
   ],
   "source": [
    "m.shape"
   ]
  },
  {
   "cell_type": "markdown",
   "metadata": {
    "heading_collapsed": true
   },
   "source": [
    "## SSCx variation"
   ]
  },
  {
   "cell_type": "code",
   "execution_count": null,
   "metadata": {
    "ExecuteTime": {
     "end_time": "2020-01-28T15:07:28.245274Z",
     "start_time": "2020-01-28T15:07:11.867472Z"
    },
    "hidden": true
   },
   "outputs": [],
   "source": [
    "report_connectome_analyses_bio_m =\\\n",
    "    suite_connectome_analyses\\\n",
    "        .analysis_number_afferent_connections(\n",
    "            circuit_bio_m,\n",
    "            adapter)\n"
   ]
  },
  {
   "cell_type": "markdown",
   "metadata": {
    "hidden": true
   },
   "source": [
    "Because 60 post-synaptic mtypes can take too long, we can set the number of \n",
    "mtypes to process in one run:"
   ]
  },
  {
   "cell_type": "code",
   "execution_count": null,
   "metadata": {
    "ExecuteTime": {
     "end_time": "2020-01-28T15:27:33.159721Z",
     "start_time": "2020-01-28T15:27:33.152077Z"
    },
    "hidden": true
   },
   "outputs": [],
   "source": [
    "def get_layer_mtypes(circuit, query_layer):\n",
    "    mtypes_all =\\\n",
    "        pd.Series(adapter.get_mtypes(circuit), name=\"mtype\")\n",
    "    return\\\n",
    "        list(mtypes_all[\n",
    "                [query_layer in mtype for mtype in mtypes_all]\n",
    "        ].values)\n",
    "def analyze_number_afferent_connections(\n",
    "        circuit,\n",
    "        adapter,\n",
    "        selected_mtypes,\n",
    "        reporter,\n",
    "        **kwargs):\n",
    "    \"\"\"...\"\"\"\n",
    "    suite_connectome_analyses =\\\n",
    "        ConnectomeAnalysesSuite(\n",
    "            sample_size=20,\n",
    "            cell_mtypes=selected_mtypes)\n",
    "    report=\\\n",
    "        suite_connectome_analyses\\\n",
    "            .analysis_number_afferent_connections(\n",
    "                circuit, adapter, **kwargs)\n",
    "    return reporter.post(report)"
   ]
  },
  {
   "cell_type": "code",
   "execution_count": null,
   "metadata": {
    "ExecuteTime": {
     "end_time": "2020-01-28T15:31:01.107529Z",
     "start_time": "2020-01-28T15:29:52.171455Z"
    },
    "hidden": true
   },
   "outputs": [],
   "source": [
    "analyze_number_afferent_connections(\n",
    "    mock_circuit_model,\n",
    "    adapter,\n",
    "    [\"L5_TPC:A\", \"L5_TPC:B\",  \"L5_UPC\"],\n",
    "    reporter_analyses,\n",
    "    sample_size=200)"
   ]
  },
  {
   "cell_type": "code",
   "execution_count": null,
   "metadata": {
    "ExecuteTime": {
     "end_time": "2020-01-28T14:55:41.223513Z",
     "start_time": "2020-01-28T14:55:39.467704Z"
    },
    "hidden": true
   },
   "outputs": [],
   "source": [
    "suite_connectome_analyses =\\\n",
    "    ConnectomeAnalysesSuite(\n",
    "        sample_size=20,\n",
    "        cell_mtypes=[\"L23_MC\"])\n",
    "measurement_example =\\\n",
    "    suite_connectome_analyses\\\n",
    "        .analysis_number_afferent_connections\\\n",
    "        .get_measurement(\n",
    "            mock_circuit_model,\n",
    "            adapter)"
   ]
  },
  {
   "cell_type": "code",
   "execution_count": null,
   "metadata": {
    "ExecuteTime": {
     "end_time": "2020-01-28T14:55:53.828127Z",
     "start_time": "2020-01-28T14:55:53.742728Z"
    },
    "hidden": true
   },
   "outputs": [],
   "source": [
    "measurement_example[\"data\"]"
   ]
  },
  {
   "cell_type": "code",
   "execution_count": null,
   "metadata": {
    "hidden": true
   },
   "outputs": [],
   "source": []
  }
 ],
 "metadata": {
  "kernelspec": {
   "display_name": "Python 3",
   "language": "python",
   "name": "python3"
  },
  "language_info": {
   "codemirror_mode": {
    "name": "ipython",
    "version": 3
   },
   "file_extension": ".py",
   "mimetype": "text/x-python",
   "name": "python",
   "nbconvert_exporter": "python",
   "pygments_lexer": "ipython3",
   "version": "3.7.0"
  },
  "latex_envs": {
   "LaTeX_envs_menu_present": true,
   "autoclose": false,
   "autocomplete": true,
   "bibliofile": "biblio.bib",
   "cite_by": "apalike",
   "current_citInitial": 1,
   "eqLabelWithNumbers": true,
   "eqNumInitial": 1,
   "hotkeys": {
    "equation": "Ctrl-E",
    "itemize": "Ctrl-I"
   },
   "labels_anchors": false,
   "latex_user_defs": false,
   "report_style_numbering": false,
   "user_envs_cfg": false
  },
  "toc": {
   "base_numbering": 1,
   "nav_menu": {},
   "number_sections": true,
   "sideBar": true,
   "skip_h1_title": false,
   "title_cell": "Table of Contents",
   "title_sidebar": "Contents",
   "toc_cell": false,
   "toc_position": {},
   "toc_section_display": true,
   "toc_window_display": false
  },
  "varInspector": {
   "cols": {
    "lenName": 16,
    "lenType": 16,
    "lenVar": 40
   },
   "kernels_config": {
    "python": {
     "delete_cmd_postfix": "",
     "delete_cmd_prefix": "del ",
     "library": "var_list.py",
     "varRefreshCmd": "print(var_dic_list())"
    },
    "r": {
     "delete_cmd_postfix": ") ",
     "delete_cmd_prefix": "rm(",
     "library": "var_list.r",
     "varRefreshCmd": "cat(var_dic_list()) "
    }
   },
   "types_to_exclude": [
    "module",
    "function",
    "builtin_function_or_method",
    "instance",
    "_Feature"
   ],
   "window_display": false
  }
 },
 "nbformat": 4,
 "nbformat_minor": 2
}
