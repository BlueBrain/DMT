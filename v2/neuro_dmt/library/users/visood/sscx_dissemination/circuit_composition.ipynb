{
 "cells": [
  {
   "cell_type": "markdown",
   "metadata": {
    "heading_collapsed": true
   },
   "source": [
    "# Circuit Composition \n",
    "\n",
    "We develop a suite of analyses that will be used to validate the composition \n",
    "of cortical circuits built at the Blue Brain Project.\n"
   ]
  },
  {
   "cell_type": "markdown",
   "metadata": {},
   "source": [
    "# *Data, Models, and Tests*\n",
    "\n",
    "In this section we present how to build a brain circuit analysis using *DMT*,\n",
    "out extensive analysis framework. You can read about the philosophy and \n",
    "essential concepts behind *DMT* in another notebook."
   ]
  },
  {
   "cell_type": "code",
   "execution_count": 1,
   "metadata": {
    "ExecuteTime": {
     "end_time": "2020-03-04T08:31:05.735363Z",
     "start_time": "2020-03-04T08:31:03.669960Z"
    }
   },
   "outputs": [],
   "source": [
    "import numpy as np\n",
    "import pandas as pd\n",
    "from neuro_dmt.analysis.circuit import BrainCircuitAnalysis\n",
    "from neuro_dmt.models.bluebrain.circuit.model import BlueBrainCircuitModel\n",
    "from neuro_dmt.models.bluebrain.circuit.adapter import BlueBrainCircuitAdapter"
   ]
  },
  {
   "cell_type": "code",
   "execution_count": 2,
   "metadata": {
    "ExecuteTime": {
     "end_time": "2020-03-04T08:31:09.782905Z",
     "start_time": "2020-03-04T08:31:09.775713Z"
    }
   },
   "outputs": [
    {
     "data": {
      "text/plain": [
       "{'bounding_box_size': array([50., 50., 50.]), 'sample_size': 20}"
      ]
     },
     "execution_count": 2,
     "metadata": {},
     "output_type": "execute_result"
    }
   ],
   "source": [
    "adapter = BlueBrainCircuitAdapter()\n",
    "adapter.field_dict"
   ]
  },
  {
   "cell_type": "markdown",
   "metadata": {},
   "source": [
    "For the analysis suite, we can define components that will be common to all the\n",
    "analyses we will collect in the suite.\n",
    "\n",
    "The reference data we will use for validating the circuit consists of experimental\n",
    "measurements made for each of the 6 cortical layers. Accordingly, we will make\n",
    "measurements of the composition of the model circuit by layer.\n",
    "\n",
    "For example, we will be computing several circuit composition phenomena by \n",
    "cortical layer."
   ]
  },
  {
   "cell_type": "code",
   "execution_count": 3,
   "metadata": {
    "ExecuteTime": {
     "end_time": "2020-03-04T08:31:15.628391Z",
     "start_time": "2020-03-04T08:31:15.621609Z"
    },
    "code_folding": [
     2,
     6,
     9
    ]
   },
   "outputs": [],
   "source": [
    "from dmt.tk.parameters import Parameters\n",
    "\n",
    "cortical_layers = [\n",
    "    \"L{}\".format(layer)\n",
    "    for layer in range(1, 7)\n",
    "]\n",
    "sscx_sub_regions = [\n",
    "    \"S1HL\", \"S1FL\", \"S1Sh\", \"S1Tr\"\n",
    "]\n",
    "regions_and_layers = Parameters(\n",
    "    pd.DataFrame({\n",
    "        \"region\": [\n",
    "            region\n",
    "            for _ in cortical_layers\n",
    "            for region in sscx_sub_regions],\n",
    "        \"layer\": [\n",
    "            layer\n",
    "            for layer in cortical_layers\n",
    "            for _ in sscx_sub_regions],\n",
    "    })\n",
    ")"
   ]
  },
  {
   "cell_type": "markdown",
   "metadata": {},
   "source": [
    "For our analyses, we will plot model measurements along with reference data.\n",
    "We will plot bars against layers for each of the 4 somatosensory cortex\n",
    "sub-regions. \n",
    "Our predefined plotters allow us to do this quite conveniently."
   ]
  },
  {
   "cell_type": "code",
   "execution_count": 4,
   "metadata": {
    "ExecuteTime": {
     "end_time": "2020-03-04T08:31:17.608954Z",
     "start_time": "2020-03-04T08:31:17.602260Z"
    }
   },
   "outputs": [],
   "source": [
    "from dmt.tk.plotting import Bars\n",
    "from dmt.tk.plotting.multi import MultiPlot\n",
    "\n",
    "def get_plotter(phenomenon): \n",
    "    return MultiPlot(\n",
    "        mvar=\"region\",\n",
    "        plotter=Bars(\n",
    "            xvar=\"layer\",\n",
    "            xlabel=\"Layer\",\n",
    "            yvar=phenomenon.label,\n",
    "            ylabel=phenomenon.name,\n",
    "            gvar=\"dataset\")\n",
    "    )"
   ]
  },
  {
   "cell_type": "markdown",
   "metadata": {},
   "source": [
    "We have utility classes to provide an analysis report. \n",
    "Since all the analyses in our suite will be on the same circuit,\n",
    "we can define a method to produce reports from analysis data,\n",
    "and include circuit meta-data in this method."
   ]
  },
  {
   "cell_type": "code",
   "execution_count": 5,
   "metadata": {
    "ExecuteTime": {
     "end_time": "2020-03-04T08:31:22.822092Z",
     "start_time": "2020-03-04T08:31:22.818600Z"
    }
   },
   "outputs": [],
   "source": [
    "from neuro_dmt.analysis.reporting import CircuitAnalysisReport\n",
    "\n",
    "def circuit_analysis_report(**analysis_data):\n",
    "    \"\"\"\n",
    "    Create a report for the data.\n",
    "    \"\"\"\n",
    "    return CircuitAnalysisReport(\n",
    "        animal=\"Wistar Rat\",\n",
    "        age=\"P12\",\n",
    "        brain_region=\"SSCx\",\n",
    "        uri=\"MockBlueBrainCircuitModel\",\n",
    "        **analysis_data\n",
    "    )"
   ]
  },
  {
   "cell_type": "markdown",
   "metadata": {},
   "source": [
    "We have validation reference data for cell densities and inhibitory cell ratios.\n",
    "This data is from the somatosensory cortex hind-limb measured for each layer\n",
    "in six individual rats. Since the same data was used to create cell density for \n",
    "all 4 sub-regions, we will use the same data to validate all 4 regions. To make\n",
    "the data usable with our pre-defined analysis tool-chain, we define dataframes\n",
    "with a column containing the region."
   ]
  },
  {
   "cell_type": "code",
   "execution_count": 8,
   "metadata": {
    "ExecuteTime": {
     "end_time": "2019-12-15T14:38:52.014623Z",
     "start_time": "2019-12-15T14:38:41.535746Z"
    }
   },
   "outputs": [],
   "source": [
    "from dmt.data.observation import measurement\n",
    "from neuro_dmt.data import rat\n",
    "\n",
    "def _with_sscx_subregions(\n",
    "    reference_dataframe):\n",
    "    \"\"\"\n",
    "    Insert a column for SSCx subregion s.\n",
    "    \"\"\"\n",
    "    return pd.concat([\n",
    "        reference_dataframe.reset_index(\n",
    "        ).assign(\n",
    "            region=region\n",
    "        ).set_index(\n",
    "            [\"region\", \"layer\"]\n",
    "        ) for region in sscx_sub_regions\n",
    "    ])\n",
    "cell_density_reference_data ={\n",
    "    \"DeFelipe2017\": _with_sscx_subregions(\n",
    "        rat.defelipe2017.summary_measurement.samples(1000)),\n",
    "    \"DeFelipe2014\": _with_sscx_subregions(\n",
    "        rat.defelipe2014.summary_measurement.samples(1000)),\n",
    "    \"meyer2010\": _with_sscx_subregions(\n",
    "        rat.meyer2010.samples(1000))\n",
    "}"
   ]
  },
  {
   "cell_type": "markdown",
   "metadata": {},
   "source": [
    "Our reference data now looks like,"
   ]
  },
  {
   "cell_type": "code",
   "execution_count": 9,
   "metadata": {
    "ExecuteTime": {
     "end_time": "2019-12-15T14:38:55.904644Z",
     "start_time": "2019-12-15T14:38:55.893246Z"
    }
   },
   "outputs": [
    {
     "data": {
      "text/html": [
       "<div>\n",
       "<style scoped>\n",
       "    .dataframe tbody tr th:only-of-type {\n",
       "        vertical-align: middle;\n",
       "    }\n",
       "\n",
       "    .dataframe tbody tr th {\n",
       "        vertical-align: top;\n",
       "    }\n",
       "\n",
       "    .dataframe thead th {\n",
       "        text-align: right;\n",
       "    }\n",
       "</style>\n",
       "<table border=\"1\" class=\"dataframe\">\n",
       "  <thead>\n",
       "    <tr style=\"text-align: right;\">\n",
       "      <th></th>\n",
       "      <th></th>\n",
       "      <th>cell_density</th>\n",
       "    </tr>\n",
       "    <tr>\n",
       "      <th>region</th>\n",
       "      <th>layer</th>\n",
       "      <th></th>\n",
       "    </tr>\n",
       "  </thead>\n",
       "  <tbody>\n",
       "    <tr>\n",
       "      <th rowspan=\"5\" valign=\"top\">S1HL</th>\n",
       "      <th>L1</th>\n",
       "      <td>14074.344476</td>\n",
       "    </tr>\n",
       "    <tr>\n",
       "      <th>L1</th>\n",
       "      <td>18447.707054</td>\n",
       "    </tr>\n",
       "    <tr>\n",
       "      <th>L1</th>\n",
       "      <td>16887.913329</td>\n",
       "    </tr>\n",
       "    <tr>\n",
       "      <th>L1</th>\n",
       "      <td>11486.046954</td>\n",
       "    </tr>\n",
       "    <tr>\n",
       "      <th>L1</th>\n",
       "      <td>10331.701857</td>\n",
       "    </tr>\n",
       "  </tbody>\n",
       "</table>\n",
       "</div>"
      ],
      "text/plain": [
       "              cell_density\n",
       "region layer              \n",
       "S1HL   L1     14074.344476\n",
       "       L1     18447.707054\n",
       "       L1     16887.913329\n",
       "       L1     11486.046954\n",
       "       L1     10331.701857"
      ]
     },
     "execution_count": 9,
     "metadata": {},
     "output_type": "execute_result"
    }
   ],
   "source": [
    "cell_density_reference_data[\"DeFelipe2017\"].head()"
   ]
  },
  {
   "cell_type": "markdown",
   "metadata": {},
   "source": [
    "With the parameters, plotters, and reporters defined above, we can compose an\n",
    "analysis."
   ]
  },
  {
   "cell_type": "code",
   "execution_count": 15,
   "metadata": {
    "ExecuteTime": {
     "end_time": "2019-12-15T14:41:57.821887Z",
     "start_time": "2019-12-15T14:41:57.814634Z"
    },
    "code_folding": [
     1
    ]
   },
   "outputs": [],
   "source": [
    "from dmt.tk.phenomenon import Phenomenon\n",
    "from neuro_dmt.analysis.circuit.composition.interfaces import\\\n",
    "    CellDensityAdapterInterface\n",
    "\n",
    "cell_density_phenomenon = Phenomenon(\n",
    "    \"Cell Density\",\n",
    "    \"Number of cells in a unit mm^3 volume.\",\n",
    "    group=\"Composition\"\n",
    ")\n",
    "cell_density_analysis = BrainCircuitAnalysis(\n",
    "    phenomenon=cell_density_phenomenon,\n",
    "    AdapterInterface = CellDensityAdapterInterface,\n",
    "    reference_data = cell_density_reference_data,\n",
    "    measurement_parameters = regions_and_layers,\n",
    "    plotter = get_plotter(cell_density_phenomenon),\n",
    "    report = circuit_analysis_report\n",
    ")"
   ]
  },
  {
   "cell_type": "markdown",
   "metadata": {},
   "source": [
    "We can define other analyses in the same way, by just changing analysis \n",
    "components. "
   ]
  },
  {
   "cell_type": "code",
   "execution_count": 16,
   "metadata": {
    "ExecuteTime": {
     "end_time": "2019-12-15T14:42:05.171193Z",
     "start_time": "2019-12-15T14:42:05.165311Z"
    },
    "code_folding": []
   },
   "outputs": [],
   "source": [
    "class InhbitoryCellFractionAnalysisAdapterInterface(\n",
    "    CellDensityAdapterInterface\n",
    "):\n",
    "    \"\"\"\n",
    "    Document circuit model adapter method to compute inhibitory cell fraction.\n",
    "    \"\"\"\n",
    "    \n",
    "    __measurement__ = \"inhibitory_cell_fraction\"\n",
    "    \n",
    "    def get_inhibitory_cell_fraction(self,\n",
    "        circuit_model,\n",
    "        **query):\n",
    "        \"\"\"\n",
    "        The query may contain keys specifying the region in the circuit\n",
    "        where the inhibitory cell fraction should be calculated.\n",
    "        \"\"\"\n",
    "        pass"
   ]
  },
  {
   "cell_type": "code",
   "execution_count": 17,
   "metadata": {
    "ExecuteTime": {
     "end_time": "2019-12-15T14:42:16.152959Z",
     "start_time": "2019-12-15T14:42:06.573290Z"
    }
   },
   "outputs": [],
   "source": [
    "inhibitory_cell_fraction_phenomenon = Phenomenon(\n",
    "    \"Inhibitory Cell Fraction\",\n",
    "    \"Fraction of inhibitory cells in a circuit.\",\n",
    "    group=\"Composition\"\n",
    ")\n",
    "\n",
    "inhibitory_cell_fraction_reference_data ={\n",
    "    \"Ghobril2012\": _with_sscx_subregions(rat.ghobril2012.samples(1000)),\n",
    "    \"LeFort2009\": _with_sscx_subregions(rat.lefort2009.samples(1000)),\n",
    "    \"Beaulieu1992\": _with_sscx_subregions(rat.beaulieu1992.samples(1000))\n",
    "}\n",
    "inhibitory_cell_fraction_analysis = BrainCircuitAnalysis(\n",
    "    phenomenon = inhibitory_cell_fraction_phenomenon,\n",
    "    AdapterInterface = InhbitoryCellFractionAnalysisAdapterInterface,\n",
    "    reference_data = inhibitory_cell_fraction_reference_data,\n",
    "    measurement_parameters = regions_and_layers,\n",
    "    plotter = get_plotter(inhibitory_cell_fraction_phenomenon),\n",
    "    report = circuit_analysis_report\n",
    ")"
   ]
  },
  {
   "cell_type": "markdown",
   "metadata": {},
   "source": [
    "We can use the analyses defined above to analyze any circuit\n",
    "built at the BBP. We start by analyzing a mock circuit that /programmatically/\n",
    "behaves exactly the same as a /real/ Blue Brain Project circuit model."
   ]
  },
  {
   "cell_type": "markdown",
   "metadata": {},
   "source": [
    "# Mock circuit\n",
    "For developing our suite of analyses we will use a mock for the circuits built \n",
    "at BBP.\n"
   ]
  },
  {
   "cell_type": "code",
   "execution_count": 18,
   "metadata": {
    "ExecuteTime": {
     "end_time": "2019-12-15T14:43:51.509724Z",
     "start_time": "2019-12-15T14:42:21.170714Z"
    }
   },
   "outputs": [],
   "source": [
    "from neuro_dmt.models.bluebrain.circuit.mock.test.mock_circuit_light import\\\n",
    "    circuit_composition,\\\n",
    "    circuit_connectivity\n",
    "from neuro_dmt.models.bluebrain.circuit.mock.circuit\\\n",
    "    import MockBlueBrainCircuitModel\n",
    "mock_circuit_model = MockBlueBrainCircuitModel(\n",
    "    circuit_composition,\n",
    "    circuit_connectivity)"
   ]
  },
  {
   "cell_type": "markdown",
   "metadata": {},
   "source": [
    "We can run our analysis step by step, first getting a measurement, and then\n",
    "passing the result to the plotter.\n",
    "Our adapter computes cell density in randomly sampled region of interest (ROI),\n",
    "with the shape of cuboids. We can pass the number of ROIs to sample."
   ]
  },
  {
   "cell_type": "markdown",
   "metadata": {},
   "source": [
    "\n",
    "# Running an analyses\n",
    "\n",
    "While we have define two analyses, and we also have a circuit to analyze, we \n",
    "also need an *object* that adapts the circuit model such that analyses we have\n",
    "defined can run with them. We will use the adapter we have already developed.\n",
    "You may read about this adapter in another notebook.\n",
    "\n",
    "The adapter provides documentation"
   ]
  },
  {
   "cell_type": "code",
   "execution_count": null,
   "metadata": {
    "ExecuteTime": {
     "end_time": "2019-12-06T16:28:37.393063Z",
     "start_time": "2019-12-06T16:27:28.548Z"
    }
   },
   "outputs": [],
   "source": [
    "adapter = BlueBrainCircuitAdapter()\n",
    "print(adapter.get_cell_density.__method__)"
   ]
  },
  {
   "cell_type": "markdown",
   "metadata": {},
   "source": [
    "The cell density measurement computed above is for the model circuit.\n",
    "To analyze this measurement with the reference data, we need to append\n",
    "reference data."
   ]
  },
  {
   "cell_type": "code",
   "execution_count": null,
   "metadata": {
    "ExecuteTime": {
     "end_time": "2019-12-06T16:28:37.395990Z",
     "start_time": "2019-12-06T16:27:28.666Z"
    }
   },
   "outputs": [],
   "source": [
    "adapter = BlueBrainCircuitAdapter()\n",
    "cell_density_measurement =\\\n",
    "    cell_density_analysis.get_measurement(\n",
    "        mock_circuit_model,\n",
    "        adapter,\n",
    "        sample_size=10\n",
    ")"
   ]
  },
  {
   "cell_type": "code",
   "execution_count": null,
   "metadata": {
    "ExecuteTime": {
     "end_time": "2019-12-06T16:28:37.398214Z",
     "start_time": "2019-12-06T16:27:28.670Z"
    }
   },
   "outputs": [],
   "source": [
    "cell_density_measurement[\"data\"].head()"
   ]
  },
  {
   "cell_type": "code",
   "execution_count": null,
   "metadata": {
    "ExecuteTime": {
     "end_time": "2019-12-06T16:28:37.402005Z",
     "start_time": "2019-12-06T16:27:28.675Z"
    }
   },
   "outputs": [],
   "source": [
    "cell_density_analysis_data ={\n",
    "    \"MockBlueBrainCircuitModel\": cell_density_measurement[\"data\"]\n",
    "}\n",
    "cell_density_analysis_data.update(\n",
    "    cell_density_reference_data\n",
    ")\n",
    "cell_density_measurement.keys()"
   ]
  },
  {
   "cell_type": "markdown",
   "metadata": {},
   "source": [
    "We can look at the statistical summary of the measurement."
   ]
  },
  {
   "cell_type": "markdown",
   "metadata": {},
   "source": [
    "For comparison against experimental data,\n",
    "we consider the experimental data as *statistical models* with a mean \n",
    "and standard deviation of cell density per layer.\n",
    "We use a normal statistical model to generate *samples* of cell density\n",
    "measurements from the experimental data."
   ]
  },
  {
   "cell_type": "code",
   "execution_count": null,
   "metadata": {
    "ExecuteTime": {
     "end_time": "2019-12-06T16:28:37.405059Z",
     "start_time": "2019-12-06T16:27:29.111Z"
    }
   },
   "outputs": [],
   "source": [
    "measurement.concat_as_summaries(cell_density_analysis_data).head()"
   ]
  },
  {
   "cell_type": "markdown",
   "metadata": {
    "ExecuteTime": {
     "end_time": "2019-12-02T12:02:18.606239Z",
     "start_time": "2019-12-02T12:02:18.601186Z"
    }
   },
   "source": [
    "The analysis produces figures using the plotters we have defined."
   ]
  },
  {
   "cell_type": "code",
   "execution_count": null,
   "metadata": {
    "ExecuteTime": {
     "end_time": "2019-12-06T16:28:37.408549Z",
     "start_time": "2019-12-06T16:27:29.240Z"
    }
   },
   "outputs": [],
   "source": [
    "cell_density_figures =\\\n",
    "    cell_density_analysis.plotter.get_figures(\n",
    "        cell_density_analysis_data,\n",
    "        caption=\"Cell density by layer for sub-regions of the Rat SSCx\"\n",
    ")"
   ]
  },
  {
   "cell_type": "markdown",
   "metadata": {},
   "source": [
    "We can call our analysis class can run the whole analyses."
   ]
  },
  {
   "cell_type": "code",
   "execution_count": null,
   "metadata": {
    "ExecuteTime": {
     "end_time": "2019-12-06T16:28:37.410463Z",
     "start_time": "2019-12-06T16:27:29.373Z"
    }
   },
   "outputs": [],
   "source": [
    "cell_density_analysis_report =\\\n",
    "    cell_density_analysis(\n",
    "        mock_circuit_model,\n",
    "        adapter\n",
    "    )"
   ]
  },
  {
   "cell_type": "markdown",
   "metadata": {},
   "source": [
    "The cell density analysis report generated above contains figures for each of the\n",
    "SSCx sub-regions."
   ]
  },
  {
   "cell_type": "code",
   "execution_count": null,
   "metadata": {
    "ExecuteTime": {
     "end_time": "2019-12-06T16:28:37.426717Z",
     "start_time": "2019-12-06T16:27:29.495Z"
    }
   },
   "outputs": [],
   "source": [
    "cell_density_analysis_report.figures"
   ]
  },
  {
   "cell_type": "markdown",
   "metadata": {},
   "source": [
    "In the `BlueBrainCircuitAdapter` we have documented how the cell densities were\n",
    "measured, which is used along with the *phenomenon* analyzed to provide content\n",
    "in the report."
   ]
  },
  {
   "cell_type": "code",
   "execution_count": null,
   "metadata": {
    "ExecuteTime": {
     "end_time": "2019-12-06T16:28:37.428950Z",
     "start_time": "2019-12-06T16:27:29.626Z"
    }
   },
   "outputs": [],
   "source": [
    "print(cell_density_analysis_report.introduction)"
   ]
  },
  {
   "cell_type": "code",
   "execution_count": null,
   "metadata": {
    "ExecuteTime": {
     "end_time": "2019-12-06T16:28:37.433993Z",
     "start_time": "2019-12-06T16:27:29.629Z"
    }
   },
   "outputs": [],
   "source": [
    "print(cell_density_analysis_report.methods)"
   ]
  },
  {
   "cell_type": "markdown",
   "metadata": {},
   "source": [
    "We have defined reporters to post the report as an HTML to a hard-disk."
   ]
  },
  {
   "cell_type": "code",
   "execution_count": null,
   "metadata": {
    "ExecuteTime": {
     "end_time": "2019-12-06T16:28:37.437693Z",
     "start_time": "2019-12-06T16:27:29.750Z"
    }
   },
   "outputs": [],
   "source": [
    "import os\n",
    "from neuro_dmt.analysis.reporting import CheetahReporter\n",
    "\n",
    "reporter =\\\n",
    "    CheetahReporter(\n",
    "        path_output_folder=os.path.join(os.getcwd(), \"validations\")\n",
    ")\n",
    "path_cell_density_analysis_report =\\\n",
    "    reporter.post(\n",
    "        cell_density_analysis_report\n",
    ")"
   ]
  },
  {
   "cell_type": "markdown",
   "metadata": {},
   "source": [
    "The report was generated at `path_report`."
   ]
  },
  {
   "cell_type": "code",
   "execution_count": null,
   "metadata": {
    "ExecuteTime": {
     "end_time": "2019-12-06T16:28:37.439837Z",
     "start_time": "2019-12-06T16:27:29.882Z"
    }
   },
   "outputs": [],
   "source": [
    "print(\n",
    "    \"Find the following in the analysis report: \",\n",
    "    path_cell_density_analysis_report\n",
    ")\n",
    "os.listdir(path_cell_density_analysis_report)"
   ]
  },
  {
   "cell_type": "markdown",
   "metadata": {},
   "source": [
    "We next consider the analysis of the fraction of inhibitory cells in each layer."
   ]
  },
  {
   "cell_type": "code",
   "execution_count": null,
   "metadata": {
    "ExecuteTime": {
     "end_time": "2019-12-06T16:28:37.442941Z",
     "start_time": "2019-12-06T16:27:30.005Z"
    }
   },
   "outputs": [],
   "source": [
    "inhibitory_cell_fraction_measurement =\\\n",
    "    inhibitory_cell_fraction_analysis.get_measurement(\n",
    "        mock_circuit_model,\n",
    "        adapter\n",
    ")"
   ]
  },
  {
   "cell_type": "code",
   "execution_count": null,
   "metadata": {
    "ExecuteTime": {
     "end_time": "2019-12-06T16:28:37.446159Z",
     "start_time": "2019-12-06T16:27:30.008Z"
    }
   },
   "outputs": [],
   "source": [
    "inhibitory_cell_fraction_measurement[\"data\"].head()"
   ]
  },
  {
   "cell_type": "code",
   "execution_count": null,
   "metadata": {
    "ExecuteTime": {
     "end_time": "2019-12-06T16:28:37.451773Z",
     "start_time": "2019-12-06T16:27:30.011Z"
    }
   },
   "outputs": [],
   "source": [
    "inhibitory_cell_fraction_analysis_report =\\\n",
    "    inhibitory_cell_fraction_analysis(\n",
    "        mock_circuit_model,\n",
    "        adapter\n",
    ")"
   ]
  },
  {
   "cell_type": "code",
   "execution_count": null,
   "metadata": {
    "ExecuteTime": {
     "end_time": "2019-12-06T16:28:37.455136Z",
     "start_time": "2019-12-06T16:27:30.013Z"
    }
   },
   "outputs": [],
   "source": [
    "path_inhibitory_cell_fraction_analysis_report =\\\n",
    "    reporter.post(\n",
    "        inhibitory_cell_fraction_analysis_report\n",
    ")"
   ]
  },
  {
   "cell_type": "code",
   "execution_count": null,
   "metadata": {
    "ExecuteTime": {
     "end_time": "2019-12-06T16:28:37.459227Z",
     "start_time": "2019-12-06T16:27:30.016Z"
    }
   },
   "outputs": [],
   "source": [
    "path_inhibitory_cell_fraction_analysis_report"
   ]
  },
  {
   "cell_type": "markdown",
   "metadata": {},
   "source": [
    "Cell density analyses developed above were one of the simplest.\n",
    "In rest of the notebook we develop analyses of incrementing complexity,\n",
    "This will also allow us to present different analyses tools also available\n",
    "as part of *DNT*.\n"
   ]
  },
  {
   "cell_type": "markdown",
   "metadata": {},
   "source": [
    "# Cell Density by *mtype* and layer.\n",
    "\n",
    "We need to define measurement parameters that contain mtypes from circuit.\n"
   ]
  },
  {
   "cell_type": "code",
   "execution_count": null,
   "metadata": {
    "ExecuteTime": {
     "end_time": "2019-12-06T16:28:37.461900Z",
     "start_time": "2019-12-06T16:27:30.275Z"
    }
   },
   "outputs": [],
   "source": [
    "mtypes = adapter.get_mtypes(mock_circuit_model)\n",
    "mtypes_regions_and_layers = Parameters(\n",
    "    pd.DataFrame({\n",
    "        \"region\": [\n",
    "            region\n",
    "            for region in sscx_sub_regions\n",
    "            for _ in cortical_layers\n",
    "            for _ in mtypes],\n",
    "        \"layer\": [\n",
    "            layer\n",
    "            for _ in sscx_sub_regions\n",
    "            for layer in cortical_layers\n",
    "            for _ in mtypes],\n",
    "        \"mtype\": [\n",
    "            mtype \n",
    "            for _ in sscx_sub_regions\n",
    "            for _ in cortical_layers\n",
    "            for mtype in mtypes]\n",
    "    })\n",
    ")"
   ]
  },
  {
   "cell_type": "code",
   "execution_count": null,
   "metadata": {
    "ExecuteTime": {
     "end_time": "2019-12-06T16:28:37.466303Z",
     "start_time": "2019-12-06T16:27:30.278Z"
    }
   },
   "outputs": [],
   "source": [
    "mtype_cell_density_analysis = BrainCircuitAnalysis(\n",
    "    phenomenon=cell_density_phenomenon,\n",
    "    AdapterInterface = CellDensityAdapterInterface,\n",
    "    measurement_parameters = mtypes_regions_and_layers,\n",
    "    plotter = MultiPlot(\n",
    "        mvar=\"mtype\",\n",
    "        plotter=Bars(\n",
    "            xvar=\"layer\",\n",
    "            xlabel=\"Layer\",\n",
    "            yvar=cell_density_phenomenon.label,\n",
    "            ylabel=cell_density_phenomenon.name,\n",
    "            gvar=\"region\")),\n",
    "    report = circuit_analysis_report\n",
    ")"
   ]
  },
  {
   "cell_type": "code",
   "execution_count": null,
   "metadata": {
    "ExecuteTime": {
     "end_time": "2019-12-06T16:28:37.468342Z",
     "start_time": "2019-12-06T16:27:30.281Z"
    }
   },
   "outputs": [],
   "source": [
    "mrlfs = mtypes_regions_and_layers.for_sampling(2)\n",
    "adapter.visible_voxels._hashable(mrlfs[0])"
   ]
  },
  {
   "cell_type": "code",
   "execution_count": null,
   "metadata": {
    "ExecuteTime": {
     "end_time": "2019-12-06T16:28:37.471385Z",
     "start_time": "2019-12-06T16:27:30.283Z"
    }
   },
   "outputs": [],
   "source": [
    "mtype_cell_density_measurement =\\\n",
    "    mtype_cell_density_analysis.get_measurement(\n",
    "        mock_circuit_model,\n",
    "        adapter,\n",
    "        sample_size=10)"
   ]
  },
  {
   "cell_type": "code",
   "execution_count": null,
   "metadata": {
    "ExecuteTime": {
     "end_time": "2019-12-06T16:28:37.475036Z",
     "start_time": "2019-12-06T16:27:30.286Z"
    }
   },
   "outputs": [],
   "source": [
    "cell_density_measurement[\"data\"].shape, mtype_cell_density_measurement[\"data\"].shape"
   ]
  },
  {
   "cell_type": "code",
   "execution_count": null,
   "metadata": {
    "ExecuteTime": {
     "end_time": "2019-12-06T16:28:37.476248Z",
     "start_time": "2019-12-06T16:27:30.290Z"
    }
   },
   "outputs": [],
   "source": [
    "mtype_cell_density_measurement[\"data\"].head()"
   ]
  },
  {
   "cell_type": "code",
   "execution_count": null,
   "metadata": {
    "ExecuteTime": {
     "end_time": "2019-12-06T16:28:37.477239Z",
     "start_time": "2019-12-06T16:27:30.293Z"
    }
   },
   "outputs": [],
   "source": [
    "mtype_cell_density_analysis_report =\\\n",
    "    mtype_cell_density_analysis(\n",
    "        mock_circuit_model,\n",
    "        adapter\n",
    ")"
   ]
  },
  {
   "cell_type": "code",
   "execution_count": null,
   "metadata": {
    "ExecuteTime": {
     "end_time": "2019-12-06T16:28:37.479836Z",
     "start_time": "2019-12-06T16:27:30.296Z"
    }
   },
   "outputs": [],
   "source": [
    "path_mtype_cell_density_analysis_report =\\\n",
    "    reporter.post(\n",
    "        mtype_cell_density_analysis_report\n",
    ")"
   ]
  },
  {
   "cell_type": "code",
   "execution_count": null,
   "metadata": {
    "ExecuteTime": {
     "end_time": "2019-12-06T16:28:37.482202Z",
     "start_time": "2019-12-06T16:27:30.299Z"
    }
   },
   "outputs": [],
   "source": [
    "path_mtype_cell_density_analysis_report"
   ]
  },
  {
   "cell_type": "markdown",
   "metadata": {},
   "source": [
    "# Cell density by *mytpe*, and cortical depth\n",
    "\n",
    "The next complexity we will add to our composition analyses is the cell density\n",
    "at a given depth in the circuit.\n",
    "\n",
    "For an atlas based circuit, cortical depth in one column may not map onto the\n",
    "same *depth value* in another column. We circumvent this problem by using the\n",
    "the *principal-axis* of each atlas voxel. The user, of course, does not see \n",
    "any of the detail. \n",
    "\n",
    "To obtain cell density in a circuit model at a given depth bin,\n"
   ]
  },
  {
   "cell_type": "code",
   "execution_count": null,
   "metadata": {
    "ExecuteTime": {
     "end_time": "2019-12-06T16:28:37.483243Z",
     "start_time": "2019-12-06T16:27:30.435Z"
    }
   },
   "outputs": [],
   "source": [
    "adapter.get_cell_density(mock_circuit_model, depth=np.array([0., 100.]))"
   ]
  },
  {
   "cell_type": "markdown",
   "metadata": {},
   "source": [
    "is all. To build out analyses of cell density with depth, all we need is the\n",
    "measurement parameters."
   ]
  },
  {
   "cell_type": "code",
   "execution_count": null,
   "metadata": {
    "ExecuteTime": {
     "end_time": "2019-12-06T16:28:37.484085Z",
     "start_time": "2019-12-06T16:27:30.568Z"
    }
   },
   "outputs": [],
   "source": [
    "depths = Parameters(\n",
    "    pd.DataFrame({\n",
    "        (\"depth\", \"begin\"): np.linspace(0, 2500, 51),\n",
    "        (\"depth\", \"end\"): np.linspace(0, 2500, 51) + 50.\n",
    "    }))\n",
    "depths.values.head()"
   ]
  },
  {
   "cell_type": "code",
   "execution_count": null,
   "metadata": {
    "ExecuteTime": {
     "end_time": "2019-12-06T16:28:37.484874Z",
     "start_time": "2019-12-06T16:27:30.571Z"
    }
   },
   "outputs": [],
   "source": [
    "dfs = depths.for_sampling(None, None, 2)\n",
    "dfs[0]"
   ]
  },
  {
   "cell_type": "code",
   "execution_count": null,
   "metadata": {
    "ExecuteTime": {
     "end_time": "2019-12-06T16:28:37.485840Z",
     "start_time": "2019-12-06T16:27:30.573Z"
    }
   },
   "outputs": [],
   "source": [
    "from dmt.tk.plotting import LinePlot\n",
    "\n",
    "cell_density_by_depth_analysis =\\\n",
    "    BrainCircuitAnalysis(\n",
    "        phenomenon=cell_density_phenomenon,\n",
    "        AdapterInterface = CellDensityAdapterInterface,\n",
    "        measurement_parameters = depths,\n",
    "        plotter=LinePlot(\n",
    "            xvar=(\"depth\", \"begin\"),\n",
    "            xlabel=\"Cortical Depth\",\n",
    "            yvar=cell_density_phenomenon.label,\n",
    "            ylabel=cell_density_phenomenon.name,\n",
    "            drawstyle=\"steps-mid\"),\n",
    "        report = circuit_analysis_report\n",
    "    )"
   ]
  },
  {
   "cell_type": "code",
   "execution_count": null,
   "metadata": {
    "ExecuteTime": {
     "end_time": "2019-12-06T16:28:37.486858Z",
     "start_time": "2019-12-06T16:27:30.576Z"
    }
   },
   "outputs": [],
   "source": [
    "cell_density_by_depth_measurement =\\\n",
    "    cell_density_by_depth_analysis.get_measurement(\n",
    "        mock_circuit_model,\n",
    "        adapter\n",
    ")\n",
    "cell_density_by_depth_measurement[\"data\"].head()"
   ]
  },
  {
   "cell_type": "code",
   "execution_count": null,
   "metadata": {
    "ExecuteTime": {
     "end_time": "2019-12-06T16:28:37.487570Z",
     "start_time": "2019-12-06T16:27:30.579Z"
    }
   },
   "outputs": [],
   "source": [
    "cell_density_by_depth_measurement[\"data\"].reset_index().head()"
   ]
  },
  {
   "cell_type": "code",
   "execution_count": null,
   "metadata": {
    "ExecuteTime": {
     "end_time": "2019-12-06T16:28:37.489597Z",
     "start_time": "2019-12-06T16:27:30.582Z"
    }
   },
   "outputs": [],
   "source": [
    "line_plotter =\\\n",
    "    cell_density_by_depth_analysis.plotter\n",
    "line_plotter.get_dataframe(\n",
    "    cell_density_by_depth_measurement[\"data\"]\n",
    ").tail()"
   ]
  },
  {
   "cell_type": "code",
   "execution_count": null,
   "metadata": {
    "ExecuteTime": {
     "end_time": "2019-12-06T16:28:37.490366Z",
     "start_time": "2019-12-06T16:27:30.584Z"
    }
   },
   "outputs": [],
   "source": [
    "cell_density_by_depth_analysis_report =\\\n",
    "    cell_density_by_depth_analysis(\n",
    "        mock_circuit_model,\n",
    "        adapter)"
   ]
  },
  {
   "cell_type": "code",
   "execution_count": null,
   "metadata": {
    "ExecuteTime": {
     "end_time": "2019-12-06T16:28:37.492450Z",
     "start_time": "2019-12-06T16:27:30.587Z"
    }
   },
   "outputs": [],
   "source": [
    "path_cell_density_by_analysis_report=\\\n",
    "    reporter.post(\n",
    "        cell_density_by_depth_analysis_report\n",
    ")"
   ]
  },
  {
   "cell_type": "code",
   "execution_count": null,
   "metadata": {
    "ExecuteTime": {
     "end_time": "2019-12-06T16:28:37.493468Z",
     "start_time": "2019-12-06T16:27:30.589Z"
    }
   },
   "outputs": [],
   "source": [
    "defelipe_data =\\\n",
    "    rat.defelipe2017\\\n",
    "    .data\\\n",
    "    .groupby(\n",
    "        \"layer\"\n",
    "        ).agg(\n",
    "        [\"mean\", \"std\"]\n",
    "        ).assign(\n",
    "            normalized_thickness=lambda df: (\n",
    "                df.thickness[\"mean\"] / df.thickness[\"mean\"].sum())\n",
    "        ).assign(\n",
    "            depth=lambda df: np.cumsum(df.normalized_thickness)\n",
    "        )"
   ]
  },
  {
   "cell_type": "code",
   "execution_count": null,
   "metadata": {
    "ExecuteTime": {
     "end_time": "2019-12-06T16:28:37.494482Z",
     "start_time": "2019-12-06T16:27:30.592Z"
    }
   },
   "outputs": [],
   "source": [
    "1. - defelipe_data[\"depth\"]"
   ]
  },
  {
   "cell_type": "code",
   "execution_count": null,
   "metadata": {
    "ExecuteTime": {
     "end_time": "2019-12-06T16:28:37.495469Z",
     "start_time": "2019-12-06T16:27:30.595Z"
    }
   },
   "outputs": [],
   "source": [
    "from dmt.data.observation import measurement\n",
    "\n",
    "measurement.Measurement.load(\n",
    "    cell_density_by_depth_measurement[\"data\"]\n",
    ")"
   ]
  },
  {
   "cell_type": "code",
   "execution_count": null,
   "metadata": {
    "ExecuteTime": {
     "end_time": "2019-12-06T16:28:37.496935Z",
     "start_time": "2019-12-06T16:27:30.600Z"
    }
   },
   "outputs": [],
   "source": [
    "adapter.visible_voxels.store"
   ]
  },
  {
   "cell_type": "code",
   "execution_count": null,
   "metadata": {
    "ExecuteTime": {
     "end_time": "2019-12-06T16:28:37.498064Z",
     "start_time": "2019-12-06T16:27:30.602Z"
    }
   },
   "outputs": [],
   "source": [
    "assert adapter.visible_voxels._hashed({\"depth\": {\"begin\": 100., \"end\": 200.}})\\\n",
    "     != adapter.visible_voxels._hashed({\"depth\": {\"begin\": 0., \"end\": 100.}})"
   ]
  },
  {
   "cell_type": "code",
   "execution_count": null,
   "metadata": {
    "ExecuteTime": {
     "end_time": "2019-12-06T16:28:37.498658Z",
     "start_time": "2019-12-06T16:27:30.605Z"
    }
   },
   "outputs": [],
   "source": [
    " def _hashable(xs):\n",
    "    \"\"\"\n",
    "    Get hash for a query.\n",
    "    \"\"\"\n",
    "    try:\n",
    "        _ = hash(xs)\n",
    "        return xs\n",
    "    except TypeError:\n",
    "        return ';'.join(str(x) for x in xs)\n",
    "    raise RuntimeError(\n",
    "        \"Execution of _hashed(...) should not reach here.\")\n"
   ]
  },
  {
   "cell_type": "code",
   "execution_count": null,
   "metadata": {
    "ExecuteTime": {
     "end_time": "2019-12-06T16:28:37.499213Z",
     "start_time": "2019-12-06T16:27:30.607Z"
    }
   },
   "outputs": [],
   "source": [
    "_hashable({\"begin\": 0., \"end\": 100.})"
   ]
  },
  {
   "cell_type": "code",
   "execution_count": null,
   "metadata": {
    "ExecuteTime": {
     "end_time": "2019-12-06T16:28:37.499830Z",
     "start_time": "2019-12-06T16:27:30.610Z"
    }
   },
   "outputs": [],
   "source": [
    "from dmt.tk.collections.data import make_hashable\n",
    "assert hash(make_hashable({\"begin\": 0., \"end\": 100.}))\\\n",
    "    != hash(make_hashable({\"begin\": 100., \"end\": 200.}))"
   ]
  },
  {
   "cell_type": "code",
   "execution_count": null,
   "metadata": {
    "ExecuteTime": {
     "end_time": "2019-12-06T16:28:37.500527Z",
     "start_time": "2019-12-06T16:27:30.612Z"
    }
   },
   "outputs": [],
   "source": [
    "make_hashable({\"ah\": \"bah\", \"gah\": \"mah\"})"
   ]
  },
  {
   "cell_type": "code",
   "execution_count": null,
   "metadata": {
    "ExecuteTime": {
     "end_time": "2019-12-06T16:28:37.501513Z",
     "start_time": "2019-12-06T16:27:30.615Z"
    }
   },
   "outputs": [],
   "source": [
    "\n",
    "make_hashable({\"gah\": \"mah\", \"ah\": \"bah\"})"
   ]
  },
  {
   "cell_type": "code",
   "execution_count": null,
   "metadata": {
    "ExecuteTime": {
     "end_time": "2019-12-06T16:28:37.502803Z",
     "start_time": "2019-12-06T16:27:30.618Z"
    }
   },
   "outputs": [],
   "source": [
    "sorted(tuple({3:4, 1:2}.items()), key=lambda kv: kv[0])"
   ]
  },
  {
   "cell_type": "code",
   "execution_count": null,
   "metadata": {
    "ExecuteTime": {
     "end_time": "2019-12-06T16:28:37.503993Z",
     "start_time": "2019-12-06T16:27:30.621Z"
    }
   },
   "outputs": [],
   "source": [
    "make_hashable({\"ah\": {1:2}, \"bah\": {\"gah\": \"jaja\"}})"
   ]
  },
  {
   "cell_type": "code",
   "execution_count": null,
   "metadata": {
    "ExecuteTime": {
     "end_time": "2019-12-06T16:28:37.506563Z",
     "start_time": "2019-12-06T16:27:30.624Z"
    }
   },
   "outputs": [],
   "source": [
    "from collections import OrderedDict\n",
    "\n",
    "isinstance(OrderedDict(), dict)"
   ]
  },
  {
   "cell_type": "code",
   "execution_count": null,
   "metadata": {
    "ExecuteTime": {
     "end_time": "2019-12-06T16:28:37.507566Z",
     "start_time": "2019-12-06T16:27:30.627Z"
    }
   },
   "outputs": [],
   "source": [
    "from frozendict import FrozenOrderedDict\n",
    "\n",
    "isinstance(FrozenOrderedDict(), dict)"
   ]
  },
  {
   "cell_type": "code",
   "execution_count": null,
   "metadata": {
    "ExecuteTime": {
     "end_time": "2019-12-06T16:28:37.508558Z",
     "start_time": "2019-12-06T16:27:30.629Z"
    }
   },
   "outputs": [],
   "source": [
    "FrozenOrderedDict(OrderedDict(sorted({9:4, 6:7}.items(), key=lambda kv: kv[0])))"
   ]
  },
  {
   "cell_type": "code",
   "execution_count": null,
   "metadata": {
    "ExecuteTime": {
     "end_time": "2019-12-06T16:28:37.509556Z",
     "start_time": "2019-12-06T16:27:30.632Z"
    }
   },
   "outputs": [],
   "source": [
    "import seaborn\n"
   ]
  },
  {
   "cell_type": "code",
   "execution_count": null,
   "metadata": {
    "ExecuteTime": {
     "end_time": "2019-12-06T16:28:37.510616Z",
     "start_time": "2019-12-06T16:27:30.635Z"
    },
    "code_folding": []
   },
   "outputs": [],
   "source": [
    "import pandas\n",
    "import matplotlib.pyplot as plt\n",
    "import seaborn\n",
    "from dmt.tk.utils.string_utils import make_name\n",
    "from dmt.tk.field import Field, LambdaField, lazyfield, WithFields\n",
    "from dmt.data.observation import measurement\n",
    "from dmt.tk.plotting import golden_aspect_ratio\n",
    "from dmt.tk.plotting.figure import Figure\n",
    "\n",
    "\n",
    "\n",
    "class LinePlot(WithFields):\n",
    "    \"\"\"\n",
    "    Define the requirements and behavior of a line plot.\n",
    "    \"\"\"\n",
    "    xvar = Field(\n",
    "        \"\"\"\n",
    "        Column in the data-frame to be plotted along the x-axis.\n",
    "        \"\"\")\n",
    "    yvar= Field(\n",
    "        \"\"\"\n",
    "        Column in the data-frame to be plotted along the y-axis.\n",
    "        \"\"\")\n",
    "    gvar = Field(\n",
    "        \"\"\"\n",
    "        Geometry Variable: column in the dataframe that will be plotted as\n",
    "        different geometries (i.e. lines for `LinePlot`).\n",
    "        A default value of empty string will be interpreted as not set,\n",
    "        and hence there will be only a single line in the plot.\n",
    "        \"\"\",\n",
    "        __default_value__=\"\")\n",
    "    fvar = Field(\n",
    "        \"\"\"\n",
    "        Facet Variable: Column in the dataframe that will be plotted on several\n",
    "        faces. A default value of empty string will be interpreted as not set,\n",
    "        and hence there will be only one face in the figure.\n",
    "        \"\"\",\n",
    "        __default_value__=\"\")\n",
    "    xlabel = LambdaField(\n",
    "        \"\"\"\n",
    "        The label to be displayed along the y-axis.\n",
    "        Default value of an empty string will cause `xvar` to be displayed.\n",
    "        \"\"\",\n",
    "        lambda self: self.xvar)\n",
    "    ylabel = LambdaField(\n",
    "        \"\"\"\n",
    "        The label to be displayed along the y-axis.\n",
    "        Default value of an empty string will cause `yvar` to be displayed.\n",
    "        \"\"\",\n",
    "        lambda self: self.yvar)\n",
    "    height_figure = Field(\n",
    "        \"\"\"\n",
    "        Height of the figure.\n",
    "        \"\"\",\n",
    "        __default_value__=12.)\n",
    "    aspect_ratio_figure = Field(\n",
    "        \"\"\"\n",
    "        Aspect ratio width / height for the figure.\n",
    "        \"\"\",\n",
    "        __default_value__=golden_aspect_ratio)\n",
    "    number_columns = LambdaField(\n",
    "        \"\"\"\n",
    "        Number of columns in the figure.\n",
    "        \"\"\",\n",
    "        lambda self: None if not self.fvar else 3)\n",
    "    drawstyle = Field(\n",
    "        \"\"\"\n",
    "        Specify how to draw the lines that join the (x, y) points.\n",
    "        Default value join the points with simple points. Other possibilities\n",
    "        are steps.\n",
    "        \"\"\",\n",
    "        __default_value__=\"default\")\n",
    "\n",
    "    def get_dataframe(self, data, dataset=None):\n",
    "        \"\"\"\n",
    "        Extract the dataframe to plot.\n",
    "        \"\"\"\n",
    "        if dataset:\n",
    "            raise NotImplementedError(\n",
    "            \"\"\"\n",
    "                `LinePLot.get_figure(...)` current version does not support\n",
    "                argument `dataset`.\n",
    "                \"\"\")\n",
    "        if isinstance(data, (pandas.Series, pandas.DataFrame)):\n",
    "            return data.reset_index()\n",
    "        return measurement.concat_as_samples(data).reset_index()\n",
    "\n",
    "    def get_figure(self,\n",
    "            data,\n",
    "            *args,\n",
    "            dataset=None,\n",
    "            caption=\"Caption not provided\"):\n",
    "        \"\"\"\n",
    "        Plot the data.\n",
    "\n",
    "        Arguments\n",
    "        -------------\n",
    "        data : Either a dataframe or a dict mapping dataset to dataframe.\n",
    "        dataset : dataset or list of dataset names whose data will be plotted.\n",
    "        \"\"\"\n",
    "        def _make_name(label):\n",
    "            return make_name(\n",
    "                '_'.join(label) if isinstance(label, tuple) else label,\n",
    "                separator='_')\n",
    "\n",
    "        grid = seaborn\\\n",
    "            .FacetGrid(\n",
    "                self.get_dataframe(data, dataset),\n",
    "                col=self.fvar if self.fvar else None,\n",
    "                hue=self.gvar if self.gvar else None,\n",
    "                col_wrap=self.number_columns,\n",
    "                height=self.height_figure,\n",
    "                aspect=self.aspect_ratio_figure,\n",
    "                legend_out=True)\n",
    "        grid.map(\n",
    "            seaborn.lineplot,\n",
    "            self.xvar,\n",
    "            self.yvar,\n",
    "            drawstyle=self.drawstyle,\n",
    "            alpha=0.7\n",
    "        ).set_titles(\n",
    "            _make_name(self.fvar) + \"\\n{col_name} \"\n",
    "        ).add_legend(\n",
    "            title=_make_name(self.gvar))\n",
    "        return Figure(\n",
    "            grid.set(\n",
    "                xlabel=self.xlabel,\n",
    "                ylabel=self.ylabel),\n",
    "            caption=caption)\n",
    "\n",
    "    def plot(self,\n",
    "            *args, **kwargs):\n",
    "        \"\"\"\n",
    "        Plot the data\n",
    "\n",
    "        Arguments\n",
    "        -----------\n",
    "        data : A dict mapping dataset to dataframe.\n",
    "        \"\"\"\n",
    "        return self.get_figure(*args, **kwargs)\n",
    "\n",
    "    def __call__(self,\n",
    "            data):\n",
    "        \"\"\"\n",
    "        Make this class a callable,\n",
    "        so that it can masquerade as a function!\n",
    "\n",
    "        Arguments\n",
    "        -----------\n",
    "        data : A dict mapping dataset to dataframe.\n",
    "        \"\"\"\n",
    "        return self.get_figure(*args, **kwargs)\n"
   ]
  },
  {
   "cell_type": "code",
   "execution_count": null,
   "metadata": {
    "ExecuteTime": {
     "end_time": "2019-12-06T16:28:37.511524Z",
     "start_time": "2019-12-06T16:27:30.638Z"
    }
   },
   "outputs": [],
   "source": [
    "line_plot = LinePlot(\n",
    "    xvar=(\"depth\", \"begin\"),\n",
    "    xlabel=\"Cortical Depth\",\n",
    "    yvar=cell_density_phenomenon.label,\n",
    "    ylabel=cell_density_phenomenon.name,\n",
    "    drawstyle=\"steps-mid\")"
   ]
  },
  {
   "cell_type": "code",
   "execution_count": null,
   "metadata": {
    "ExecuteTime": {
     "end_time": "2019-12-06T16:28:37.513417Z",
     "start_time": "2019-12-06T16:27:30.640Z"
    }
   },
   "outputs": [],
   "source": [
    "line_plot.get_figure(cell_density_by_depth_measurement[\"data\"])"
   ]
  },
  {
   "cell_type": "code",
   "execution_count": null,
   "metadata": {},
   "outputs": [],
   "source": []
  }
 ],
 "metadata": {
  "kernelspec": {
   "display_name": "Python 3",
   "language": "python",
   "name": "python3"
  },
  "language_info": {
   "codemirror_mode": {
    "name": "ipython",
    "version": 3
   },
   "file_extension": ".py",
   "mimetype": "text/x-python",
   "name": "python",
   "nbconvert_exporter": "python",
   "pygments_lexer": "ipython3",
   "version": "3.7.4"
  },
  "latex_envs": {
   "LaTeX_envs_menu_present": true,
   "autoclose": false,
   "autocomplete": true,
   "bibliofile": "biblio.bib",
   "cite_by": "apalike",
   "current_citInitial": 1,
   "eqLabelWithNumbers": true,
   "eqNumInitial": 1,
   "hotkeys": {
    "equation": "Ctrl-E",
    "itemize": "Ctrl-I"
   },
   "labels_anchors": false,
   "latex_user_defs": false,
   "report_style_numbering": false,
   "user_envs_cfg": false
  },
  "toc": {
   "base_numbering": 1,
   "nav_menu": {},
   "number_sections": true,
   "sideBar": true,
   "skip_h1_title": false,
   "title_cell": "Table of Contents",
   "title_sidebar": "Contents",
   "toc_cell": false,
   "toc_position": {
    "height": "calc(100% - 180px)",
    "left": "10px",
    "top": "150px",
    "width": "299px"
   },
   "toc_section_display": true,
   "toc_window_display": false
  },
  "varInspector": {
   "cols": {
    "lenName": 16,
    "lenType": 16,
    "lenVar": 40
   },
   "kernels_config": {
    "python": {
     "delete_cmd_postfix": "",
     "delete_cmd_prefix": "del ",
     "library": "var_list.py",
     "varRefreshCmd": "print(var_dic_list())"
    },
    "r": {
     "delete_cmd_postfix": ") ",
     "delete_cmd_prefix": "rm(",
     "library": "var_list.r",
     "varRefreshCmd": "cat(var_dic_list()) "
    }
   },
   "types_to_exclude": [
    "module",
    "function",
    "builtin_function_or_method",
    "instance",
    "_Feature"
   ],
   "window_display": false
  }
 },
 "nbformat": 4,
 "nbformat_minor": 2
}
