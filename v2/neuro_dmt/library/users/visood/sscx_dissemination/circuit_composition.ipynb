{
 "cells": [
  {
   "cell_type": "markdown",
   "metadata": {
    "heading_collapsed": true
   },
   "source": [
    "# Circuit Composition \n",
    "\n",
    "We develop a suite of analyses that will be used to validate the composition \n",
    "of cortical circuits built at the Blue Brain Project.\n"
   ]
  },
  {
   "cell_type": "markdown",
   "metadata": {},
   "source": [
    "# *Data, Models, and Tests*\n",
    "\n",
    "In this section we present how to build a brain circuit analysis using *DMT*,\n",
    "out extensive analysis framework. You can read about the philosophy and \n",
    "essential concepts behind *DMT* in another notebook."
   ]
  },
  {
   "cell_type": "code",
   "execution_count": 8,
   "metadata": {
    "ExecuteTime": {
     "end_time": "2019-12-03T17:08:14.942305Z",
     "start_time": "2019-12-03T17:08:14.935141Z"
    }
   },
   "outputs": [
    {
     "name": "stdout",
     "output_type": "stream",
     "text": [
      "('region', 'layer', 'depth', 'height', 'mesocolumn', 'hypercolumn', 'roi', 'mtype', 'etype', 'synapse_class', 'postsynaptic', 'presynaptic')\n",
      "('region', 'layer', 'depth', 'height', 'mesocolumn', 'hypercolumn', 'roi')\n"
     ]
    }
   ],
   "source": [
    "import numpy as np\n",
    "import pandas as pd\n",
    "from neuro_dmt.analysis.circuit import BrainCircuitAnalysis\n",
    "from neuro_dmt.models.bluebrain.circuit.model import BlueBrainCircuitModel\n",
    "from neuro_dmt.models.bluebrain.circuit.adapter import BlueBrainCircuitAdapter"
   ]
  },
  {
   "cell_type": "code",
   "execution_count": 9,
   "metadata": {
    "ExecuteTime": {
     "end_time": "2019-12-03T17:08:16.760827Z",
     "start_time": "2019-12-03T17:08:16.754315Z"
    }
   },
   "outputs": [
    {
     "data": {
      "text/plain": [
       "{'bounding_box_size': array([50., 50., 50.]),\n",
       " 'logger': <dmt.tk.journal.logger.Logger at 0x11f0a93d0>,\n",
       " 'sample_size': 20}"
      ]
     },
     "execution_count": 9,
     "metadata": {},
     "output_type": "execute_result"
    }
   ],
   "source": [
    "adapter = BlueBrainCircuitAdapter()\n",
    "adapter.field_dict"
   ]
  },
  {
   "cell_type": "markdown",
   "metadata": {},
   "source": [
    "For the analysis suite, we can define components that will be common to all the\n",
    "analyses we will collect in the suite.\n",
    "\n",
    "The reference data we will use for validating the circuit consists of experimental\n",
    "measurements made for each of the 6 cortical layers. Accordingly, we will make\n",
    "measurements of the composition of the model circuit by layer.\n",
    "\n",
    "For example, we will be computing several circuit composition phenomena by \n",
    "cortical layer."
   ]
  },
  {
   "cell_type": "code",
   "execution_count": 10,
   "metadata": {
    "ExecuteTime": {
     "end_time": "2019-12-03T17:08:19.665369Z",
     "start_time": "2019-12-03T17:08:19.658970Z"
    },
    "code_folding": [
     2,
     6,
     9
    ]
   },
   "outputs": [],
   "source": [
    "from dmt.tk.parameters import Parameters\n",
    "\n",
    "cortical_layers = [\n",
    "    \"L{}\".format(layer)\n",
    "    for layer in range(1, 7)\n",
    "]\n",
    "sscx_sub_regions = [\n",
    "    \"S1HL\", \"S1FL\", \"S1Sh\", \"S1Tr\"\n",
    "]\n",
    "regions_and_layers = Parameters(\n",
    "    pd.DataFrame({\n",
    "        \"region\": [\n",
    "            region\n",
    "            for _ in cortical_layers\n",
    "            for region in sscx_sub_regions],\n",
    "        \"layer\": [\n",
    "            layer\n",
    "            for layer in cortical_layers\n",
    "            for _ in sscx_sub_regions],\n",
    "    })\n",
    ")"
   ]
  },
  {
   "cell_type": "markdown",
   "metadata": {},
   "source": [
    "For our analyses, we will plot model measurements along with reference data.\n",
    "We will plot bars against layers for each of the 4 somatosensory cortex\n",
    "sub-regions. \n",
    "Our predefined plotters allow us to do this quite conveniently."
   ]
  },
  {
   "cell_type": "code",
   "execution_count": 11,
   "metadata": {
    "ExecuteTime": {
     "end_time": "2019-12-03T17:08:22.193915Z",
     "start_time": "2019-12-03T17:08:22.188572Z"
    }
   },
   "outputs": [],
   "source": [
    "from dmt.tk.plotting import Bars\n",
    "from dmt.tk.plotting.multi import MultiPlot\n",
    "\n",
    "def get_plotter(phenomenon): \n",
    "    return MultiPlot(\n",
    "        mvar=\"region\",\n",
    "        plotter=Bars(\n",
    "            xvar=\"layer\",\n",
    "            xlabel=\"Layer\",\n",
    "            yvar=phenomenon.label,\n",
    "            ylabel=phenomenon.name,\n",
    "            gvar=\"dataset\")\n",
    "    )"
   ]
  },
  {
   "cell_type": "markdown",
   "metadata": {},
   "source": [
    "We have utility classes to provide an analysis report. \n",
    "Since all the analyses in our suite will be on the same circuit,\n",
    "we can define a method to produce reports from analysis data,\n",
    "and include circuit meta-data in this method."
   ]
  },
  {
   "cell_type": "code",
   "execution_count": 12,
   "metadata": {
    "ExecuteTime": {
     "end_time": "2019-12-03T17:08:25.463279Z",
     "start_time": "2019-12-03T17:08:25.459441Z"
    }
   },
   "outputs": [],
   "source": [
    "from neuro_dmt.analysis.reporting import CircuitAnalysisReport\n",
    "\n",
    "def circuit_analysis_report(**analysis_data):\n",
    "    \"\"\"\n",
    "    Create a report for the data.\n",
    "    \"\"\"\n",
    "    return CircuitAnalysisReport(\n",
    "        animal=\"Wistar Rat\",\n",
    "        age=\"P12\",\n",
    "        brain_region=\"SSCx\",\n",
    "        uri=\"MockBlueBrainCircuitModel\",\n",
    "        **analysis_data\n",
    "    )"
   ]
  },
  {
   "cell_type": "markdown",
   "metadata": {},
   "source": [
    "We have validation reference data for cell densities and inhibitory cell ratios.\n",
    "This data is from the somatosensory cortex hind-limb measured for each layer\n",
    "in six individual rats. Since the same data was used to create cell density for \n",
    "all 4 sub-regions, we will use the same data to validate all 4 regions. To make\n",
    "the data usable with our pre-defined analysis tool-chain, we define dataframes\n",
    "with a column containing the region."
   ]
  },
  {
   "cell_type": "code",
   "execution_count": 13,
   "metadata": {
    "ExecuteTime": {
     "end_time": "2019-12-03T17:08:36.681970Z",
     "start_time": "2019-12-03T17:08:27.968088Z"
    }
   },
   "outputs": [],
   "source": [
    "from dmt.data.observation import measurement\n",
    "from neuro_dmt.data import rat\n",
    "\n",
    "def _with_sscx_subregions(\n",
    "    reference_dataframe):\n",
    "    \"\"\"\n",
    "    Insert a column for SSCx subregion s.\n",
    "    \"\"\"\n",
    "    return pd.concat([\n",
    "        reference_dataframe.reset_index(\n",
    "        ).assign(\n",
    "            region=region\n",
    "        ).set_index(\n",
    "            [\"region\", \"layer\"]\n",
    "        ) for region in sscx_sub_regions\n",
    "    ])\n",
    "cell_density_reference_data ={\n",
    "    \"DeFelipe2017\": _with_sscx_subregions(\n",
    "        rat.defelipe2017.summary_measurement.samples(1000)),\n",
    "    \"DeFelipe2014\": _with_sscx_subregions(\n",
    "        rat.defelipe2014.summary_measurement.samples(1000)),\n",
    "    \"meyer2010\": _with_sscx_subregions(\n",
    "        rat.meyer2010.samples(1000))\n",
    "}"
   ]
  },
  {
   "cell_type": "markdown",
   "metadata": {},
   "source": [
    "Our reference data now looks like,"
   ]
  },
  {
   "cell_type": "code",
   "execution_count": 14,
   "metadata": {
    "ExecuteTime": {
     "end_time": "2019-12-03T17:10:14.082480Z",
     "start_time": "2019-12-03T17:10:14.073793Z"
    }
   },
   "outputs": [
    {
     "data": {
      "text/html": [
       "<div>\n",
       "<style scoped>\n",
       "    .dataframe tbody tr th:only-of-type {\n",
       "        vertical-align: middle;\n",
       "    }\n",
       "\n",
       "    .dataframe tbody tr th {\n",
       "        vertical-align: top;\n",
       "    }\n",
       "\n",
       "    .dataframe thead th {\n",
       "        text-align: right;\n",
       "    }\n",
       "</style>\n",
       "<table border=\"1\" class=\"dataframe\">\n",
       "  <thead>\n",
       "    <tr style=\"text-align: right;\">\n",
       "      <th></th>\n",
       "      <th></th>\n",
       "      <th>cell_density</th>\n",
       "    </tr>\n",
       "    <tr>\n",
       "      <th>region</th>\n",
       "      <th>layer</th>\n",
       "      <th></th>\n",
       "    </tr>\n",
       "  </thead>\n",
       "  <tbody>\n",
       "    <tr>\n",
       "      <th rowspan=\"5\" valign=\"top\">S1HL</th>\n",
       "      <th>L1</th>\n",
       "      <td>16892.919334</td>\n",
       "    </tr>\n",
       "    <tr>\n",
       "      <th>L1</th>\n",
       "      <td>6170.822556</td>\n",
       "    </tr>\n",
       "    <tr>\n",
       "      <th>L1</th>\n",
       "      <td>12483.923177</td>\n",
       "    </tr>\n",
       "    <tr>\n",
       "      <th>L1</th>\n",
       "      <td>20591.316330</td>\n",
       "    </tr>\n",
       "    <tr>\n",
       "      <th>L1</th>\n",
       "      <td>15564.028031</td>\n",
       "    </tr>\n",
       "  </tbody>\n",
       "</table>\n",
       "</div>"
      ],
      "text/plain": [
       "              cell_density\n",
       "region layer              \n",
       "S1HL   L1     16892.919334\n",
       "       L1      6170.822556\n",
       "       L1     12483.923177\n",
       "       L1     20591.316330\n",
       "       L1     15564.028031"
      ]
     },
     "execution_count": 14,
     "metadata": {},
     "output_type": "execute_result"
    }
   ],
   "source": [
    "cell_density_reference_data[\"DeFelipe2017\"].head()"
   ]
  },
  {
   "cell_type": "markdown",
   "metadata": {},
   "source": [
    "With the parameters, plotters, and reporters defined above, we can compose an\n",
    "analysis."
   ]
  },
  {
   "cell_type": "code",
   "execution_count": 15,
   "metadata": {
    "ExecuteTime": {
     "end_time": "2019-12-03T17:10:21.280514Z",
     "start_time": "2019-12-03T17:10:21.275773Z"
    },
    "code_folding": [
     1,
     4
    ]
   },
   "outputs": [],
   "source": [
    "from dmt.tk.phenomenon import Phenomenon\n",
    "from neuro_dmt.analysis.circuit.composition.interfaces import\\\n",
    "    CellDensityAdapterInterface\n",
    "\n",
    "cell_density_phenomenon = Phenomenon(\n",
    "    \"Cell Density\",\n",
    "    \"Number of cells in a unit mm^3 volume.\",\n",
    "    group=\"Composition\"\n",
    ")\n",
    "cell_density_analysis = BrainCircuitAnalysis(\n",
    "    phenomenon=cell_density_phenomenon,\n",
    "    AdapterInterface = CellDensityAdapterInterface,\n",
    "    reference_data = cell_density_reference_data,\n",
    "    measurement_parameters = regions_and_layers,\n",
    "    plotter = get_plotter(cell_density_phenomenon),\n",
    "    report = circuit_analysis_report\n",
    ")"
   ]
  },
  {
   "cell_type": "markdown",
   "metadata": {},
   "source": [
    "We can define other analyses in the same way, by just changing analysis \n",
    "components. "
   ]
  },
  {
   "cell_type": "code",
   "execution_count": 16,
   "metadata": {
    "ExecuteTime": {
     "end_time": "2019-12-03T17:10:26.522543Z",
     "start_time": "2019-12-03T17:10:26.518299Z"
    },
    "code_folding": []
   },
   "outputs": [],
   "source": [
    "class InhbitoryCellFractionAnalysisAdapterInterface(\n",
    "    CellDensityAdapterInterface\n",
    "):\n",
    "    \"\"\"\n",
    "    Document circuit model adapter method to compute inhibitory cell fraction.\n",
    "    \"\"\"\n",
    "    \n",
    "    __measurement__ = \"inhibitory_cell_fraction\"\n",
    "    \n",
    "    def get_inhibitory_cell_fraction(self,\n",
    "        circuit_model,\n",
    "        **query):\n",
    "        \"\"\"\n",
    "        The query may contain keys specifying the region in the circuit\n",
    "        where the inhibitory cell fraction should be calculated.\n",
    "        \"\"\"\n",
    "        pass"
   ]
  },
  {
   "cell_type": "code",
   "execution_count": 17,
   "metadata": {
    "ExecuteTime": {
     "end_time": "2019-12-03T17:10:37.341564Z",
     "start_time": "2019-12-03T17:10:28.901245Z"
    }
   },
   "outputs": [],
   "source": [
    "inhibitory_cell_fraction_phenomenon = Phenomenon(\n",
    "    \"Inhibitory Cell Fraction\",\n",
    "    \"Fraction of inhibitory cells in a circuit.\",\n",
    "    group=\"Composition\"\n",
    ")\n",
    "\n",
    "inhibitory_cell_fraction_reference_data ={\n",
    "    \"Ghobril2012\": _with_sscx_subregions(rat.ghobril2012.samples(1000)),\n",
    "    \"LeFort2009\": _with_sscx_subregions(rat.lefort2009.samples(1000)),\n",
    "    \"Beaulieu1992\": _with_sscx_subregions(rat.beaulieu1992.samples(1000))\n",
    "}\n",
    "inhibitory_cell_fraction_analysis = BrainCircuitAnalysis(\n",
    "    phenomenon = inhibitory_cell_fraction_phenomenon,\n",
    "    AdapterInterface = InhbitoryCellFractionAnalysisAdapterInterface,\n",
    "    reference_data = inhibitory_cell_fraction_reference_data,\n",
    "    measurement_parameters = regions_and_layers,\n",
    "    plotter = get_plotter(inhibitory_cell_fraction_phenomenon),\n",
    "    report = circuit_analysis_report\n",
    ")"
   ]
  },
  {
   "cell_type": "markdown",
   "metadata": {},
   "source": [
    "We can use the analyses defined above to analyze any circuit\n",
    "built at the BBP. We start by analyzing a mock circuit that /programmatically/\n",
    "behaves exactly the same as a /real/ Blue Brain Project circuit model."
   ]
  },
  {
   "cell_type": "markdown",
   "metadata": {},
   "source": [
    "# Mock circuit\n",
    "For developing our suite of analyses we will use a mock for the circuits built \n",
    "at BBP.\n"
   ]
  },
  {
   "cell_type": "code",
   "execution_count": 18,
   "metadata": {
    "ExecuteTime": {
     "end_time": "2019-12-03T17:12:43.552409Z",
     "start_time": "2019-12-03T17:10:42.545818Z"
    }
   },
   "outputs": [],
   "source": [
    "from neuro_dmt.models.bluebrain.circuit.mock.test.mock_circuit_light import\\\n",
    "    circuit_composition,\\\n",
    "    circuit_connectivity\n",
    "from neuro_dmt.models.bluebrain.circuit.mock.circuit\\\n",
    "    import MockBlueBrainCircuitModel\n",
    "mock_circuit_model = MockBlueBrainCircuitModel(\n",
    "    circuit_composition,\n",
    "    circuit_connectivity)"
   ]
  },
  {
   "cell_type": "markdown",
   "metadata": {},
   "source": [
    "We can run our analysis step by step, first getting a measurement, and then\n",
    "passing the result to the plotter.\n",
    "Our adapter computes cell density in randomly sampled region of interest (ROI),\n",
    "with the shape of cuboids. We can pass the number of ROIs to sample."
   ]
  },
  {
   "cell_type": "markdown",
   "metadata": {},
   "source": [
    "\n",
    "# Running an analyses\n",
    "\n",
    "While we have define two analyses, and we also have a circuit to analyze, we \n",
    "also need an *object* that adapts the circuit model such that analyses we have\n",
    "defined can run with them. We will use the adapter we have already developed.\n",
    "You may read about this adapter in another notebook.\n",
    "\n",
    "The adapter provides documentation"
   ]
  },
  {
   "cell_type": "code",
   "execution_count": 19,
   "metadata": {
    "ExecuteTime": {
     "end_time": "2019-12-03T17:12:56.999044Z",
     "start_time": "2019-12-03T17:12:56.993207Z"
    }
   },
   "outputs": [
    {
     "name": "stdout",
     "output_type": "stream",
     "text": [
      "\n",
      "    =============================\n",
      "    Exhaustive Methodology\n",
      "    =============================\n",
      "        Count of cells in all the voxcells confirming to a cell-query was divided by the total volume of these voxcells.\n",
      "    =============================\n",
      "    Random Sampling Methodology\n",
      "    =============================\n",
      "        Cells were counted in a box with sides of dimensions {bounding_box_size} um. Each cube was centered at a cell that was randomly sampled from  a population described by a cell-query.\n",
      "    \n"
     ]
    }
   ],
   "source": [
    "adapter = BlueBrainCircuitAdapter()\n",
    "print(adapter.get_cell_density.__method__)"
   ]
  },
  {
   "cell_type": "markdown",
   "metadata": {},
   "source": [
    "The cell density measurement computed above is for the model circuit.\n",
    "To analyze this measurement with the reference data, we need to append\n",
    "reference data."
   ]
  },
  {
   "cell_type": "code",
   "execution_count": 20,
   "metadata": {
    "ExecuteTime": {
     "end_time": "2019-12-03T17:13:06.820976Z",
     "start_time": "2019-12-03T17:13:02.668429Z"
    }
   },
   "outputs": [],
   "source": [
    "adapter = BlueBrainCircuitAdapter()\n",
    "cell_density_measurement =\\\n",
    "    cell_density_analysis.get_measurement(\n",
    "        mock_circuit_model,\n",
    "        adapter,\n",
    "        sample_size=10\n",
    ")"
   ]
  },
  {
   "cell_type": "code",
   "execution_count": 21,
   "metadata": {
    "ExecuteTime": {
     "end_time": "2019-12-03T17:13:11.482372Z",
     "start_time": "2019-12-03T17:13:11.475372Z"
    }
   },
   "outputs": [
    {
     "data": {
      "text/html": [
       "<div>\n",
       "<style scoped>\n",
       "    .dataframe tbody tr th:only-of-type {\n",
       "        vertical-align: middle;\n",
       "    }\n",
       "\n",
       "    .dataframe tbody tr th {\n",
       "        vertical-align: top;\n",
       "    }\n",
       "\n",
       "    .dataframe thead th {\n",
       "        text-align: right;\n",
       "    }\n",
       "</style>\n",
       "<table border=\"1\" class=\"dataframe\">\n",
       "  <thead>\n",
       "    <tr style=\"text-align: right;\">\n",
       "      <th></th>\n",
       "      <th></th>\n",
       "      <th></th>\n",
       "      <th>cell_density</th>\n",
       "    </tr>\n",
       "    <tr>\n",
       "      <th>dataset</th>\n",
       "      <th>region</th>\n",
       "      <th>layer</th>\n",
       "      <th></th>\n",
       "    </tr>\n",
       "  </thead>\n",
       "  <tbody>\n",
       "    <tr>\n",
       "      <th rowspan=\"5\" valign=\"top\">MockBlueBrainCircuitModel</th>\n",
       "      <th rowspan=\"5\" valign=\"top\">S1HL</th>\n",
       "      <th>L1</th>\n",
       "      <td>416000.0</td>\n",
       "    </tr>\n",
       "    <tr>\n",
       "      <th>L1</th>\n",
       "      <td>184000.0</td>\n",
       "    </tr>\n",
       "    <tr>\n",
       "      <th>L1</th>\n",
       "      <td>80000.0</td>\n",
       "    </tr>\n",
       "    <tr>\n",
       "      <th>L1</th>\n",
       "      <td>8000.0</td>\n",
       "    </tr>\n",
       "    <tr>\n",
       "      <th>L1</th>\n",
       "      <td>208000.0</td>\n",
       "    </tr>\n",
       "  </tbody>\n",
       "</table>\n",
       "</div>"
      ],
      "text/plain": [
       "                                        cell_density\n",
       "dataset                   region layer              \n",
       "MockBlueBrainCircuitModel S1HL   L1         416000.0\n",
       "                                 L1         184000.0\n",
       "                                 L1          80000.0\n",
       "                                 L1           8000.0\n",
       "                                 L1         208000.0"
      ]
     },
     "execution_count": 21,
     "metadata": {},
     "output_type": "execute_result"
    }
   ],
   "source": [
    "cell_density_measurement[\"data\"].head()"
   ]
  },
  {
   "cell_type": "code",
   "execution_count": 22,
   "metadata": {
    "ExecuteTime": {
     "end_time": "2019-12-03T17:13:13.939208Z",
     "start_time": "2019-12-03T17:13:13.933427Z"
    }
   },
   "outputs": [
    {
     "data": {
      "text/plain": [
       "dict_keys(['data', 'method'])"
      ]
     },
     "execution_count": 22,
     "metadata": {},
     "output_type": "execute_result"
    }
   ],
   "source": [
    "cell_density_analysis_data ={\n",
    "    \"MockBlueBrainCircuitModel\": cell_density_measurement[\"data\"]\n",
    "}\n",
    "cell_density_analysis_data.update(\n",
    "    cell_density_reference_data\n",
    ")\n",
    "cell_density_measurement.keys()"
   ]
  },
  {
   "cell_type": "markdown",
   "metadata": {},
   "source": [
    "We can look at the statistical summary of the measurement."
   ]
  },
  {
   "cell_type": "markdown",
   "metadata": {},
   "source": [
    "For comparison against experimental data,\n",
    "we consider the experimental data as *statistical models* with a mean \n",
    "and standard deviation of cell density per layer.\n",
    "We use a normal statistical model to generate *samples* of cell density\n",
    "measurements from the experimental data."
   ]
  },
  {
   "cell_type": "code",
   "execution_count": null,
   "metadata": {
    "ExecuteTime": {
     "end_time": "2019-12-03T15:56:02.746452Z",
     "start_time": "2019-12-03T15:56:02.661931Z"
    }
   },
   "outputs": [],
   "source": [
    "measurement.concat_as_summaries(cell_density_analysis_data).head()"
   ]
  },
  {
   "cell_type": "markdown",
   "metadata": {
    "ExecuteTime": {
     "end_time": "2019-12-02T12:02:18.606239Z",
     "start_time": "2019-12-02T12:02:18.601186Z"
    }
   },
   "source": [
    "The analysis produces figures using the plotters we have defined."
   ]
  },
  {
   "cell_type": "code",
   "execution_count": null,
   "metadata": {
    "ExecuteTime": {
     "end_time": "2019-12-03T15:56:11.918569Z",
     "start_time": "2019-12-03T15:56:05.702718Z"
    }
   },
   "outputs": [],
   "source": [
    "cell_density_figures =\\\n",
    "    cell_density_analysis.plotter.get_figures(\n",
    "        cell_density_analysis_data,\n",
    "        caption=\"Cell density by layer for sub-regions of the Rat SSCx\"\n",
    ")"
   ]
  },
  {
   "cell_type": "markdown",
   "metadata": {},
   "source": [
    "We can call our analysis class can run the whole analyses."
   ]
  },
  {
   "cell_type": "code",
   "execution_count": null,
   "metadata": {
    "ExecuteTime": {
     "end_time": "2019-12-03T15:56:25.847804Z",
     "start_time": "2019-12-03T15:56:14.967417Z"
    }
   },
   "outputs": [],
   "source": [
    "cell_density_analysis_report =\\\n",
    "    cell_density_analysis(\n",
    "        mock_circuit_model,\n",
    "        adapter\n",
    "    )"
   ]
  },
  {
   "cell_type": "markdown",
   "metadata": {},
   "source": [
    "The cell density analysis report generated above contains figures for each of the\n",
    "SSCx sub-regions."
   ]
  },
  {
   "cell_type": "code",
   "execution_count": null,
   "metadata": {
    "ExecuteTime": {
     "end_time": "2019-12-03T15:57:44.435661Z",
     "start_time": "2019-12-03T15:57:44.430181Z"
    }
   },
   "outputs": [],
   "source": [
    "cell_density_analysis_report.figures"
   ]
  },
  {
   "cell_type": "markdown",
   "metadata": {},
   "source": [
    "In the `BlueBrainCircuitAdapter` we have documented how the cell densities were\n",
    "measured, which is used along with the *phenomenon* analyzed to provide content\n",
    "in the report."
   ]
  },
  {
   "cell_type": "code",
   "execution_count": null,
   "metadata": {
    "ExecuteTime": {
     "end_time": "2019-12-03T15:57:47.591819Z",
     "start_time": "2019-12-03T15:57:47.588816Z"
    }
   },
   "outputs": [],
   "source": [
    "print(cell_density_analysis_report.introduction)"
   ]
  },
  {
   "cell_type": "code",
   "execution_count": null,
   "metadata": {
    "ExecuteTime": {
     "end_time": "2019-12-03T15:57:47.682896Z",
     "start_time": "2019-12-03T15:57:47.678517Z"
    }
   },
   "outputs": [],
   "source": [
    "print(cell_density_analysis_report.methods)"
   ]
  },
  {
   "cell_type": "markdown",
   "metadata": {},
   "source": [
    "We have defined reporters to post the report as an HTML to a hard-disk."
   ]
  },
  {
   "cell_type": "code",
   "execution_count": 44,
   "metadata": {
    "ExecuteTime": {
     "end_time": "2019-12-03T17:43:21.585548Z",
     "start_time": "2019-12-03T17:43:21.574352Z"
    }
   },
   "outputs": [
    {
     "ename": "NameError",
     "evalue": "name 'cell_density_analysis_report' is not defined",
     "output_type": "error",
     "traceback": [
      "\u001b[0;31m---------------------------------------------------------------------------\u001b[0m",
      "\u001b[0;31mNameError\u001b[0m                                 Traceback (most recent call last)",
      "\u001b[0;32m<ipython-input-44-5da199ce7e14>\u001b[0m in \u001b[0;36m<module>\u001b[0;34m\u001b[0m\n\u001b[1;32m      8\u001b[0m \u001b[0mpath_cell_density_analysis_report\u001b[0m \u001b[0;34m=\u001b[0m\u001b[0;31m\\\u001b[0m\u001b[0;34m\u001b[0m\u001b[0;34m\u001b[0m\u001b[0m\n\u001b[1;32m      9\u001b[0m     reporter.post(\n\u001b[0;32m---> 10\u001b[0;31m         \u001b[0mcell_density_analysis_report\u001b[0m\u001b[0;34m\u001b[0m\u001b[0;34m\u001b[0m\u001b[0m\n\u001b[0m\u001b[1;32m     11\u001b[0m )\n",
      "\u001b[0;31mNameError\u001b[0m: name 'cell_density_analysis_report' is not defined"
     ]
    }
   ],
   "source": [
    "import os\n",
    "from neuro_dmt.analysis.reporting import CheetahReporter\n",
    "\n",
    "reporter =\\\n",
    "    CheetahReporter(\n",
    "        path_output_folder=os.path.join(os.getcwd(), \"validations\")\n",
    ")\n",
    "path_cell_density_analysis_report =\\\n",
    "    reporter.post(\n",
    "        cell_density_analysis_report\n",
    ")"
   ]
  },
  {
   "cell_type": "markdown",
   "metadata": {},
   "source": [
    "The report was generated at `path_report`."
   ]
  },
  {
   "cell_type": "code",
   "execution_count": null,
   "metadata": {
    "ExecuteTime": {
     "end_time": "2019-12-03T15:57:56.129478Z",
     "start_time": "2019-12-03T15:57:56.123539Z"
    }
   },
   "outputs": [],
   "source": [
    "print(\n",
    "    \"Find the following in the analysis report: \",\n",
    "    path_cell_density_analysis_report\n",
    ")\n",
    "os.listdir(path_cell_density_analysis_report)"
   ]
  },
  {
   "cell_type": "markdown",
   "metadata": {},
   "source": [
    "We next consider the analysis of the fraction of inhibitory cells in each layer."
   ]
  },
  {
   "cell_type": "code",
   "execution_count": null,
   "metadata": {
    "ExecuteTime": {
     "end_time": "2019-12-03T16:00:12.195755Z",
     "start_time": "2019-12-03T16:00:08.145520Z"
    }
   },
   "outputs": [],
   "source": [
    "inhibitory_cell_fraction_measurement =\\\n",
    "    inhibitory_cell_fraction_analysis.get_measurement(\n",
    "        mock_circuit_model,\n",
    "        adapter\n",
    ")"
   ]
  },
  {
   "cell_type": "code",
   "execution_count": null,
   "metadata": {
    "ExecuteTime": {
     "end_time": "2019-12-03T16:00:13.868014Z",
     "start_time": "2019-12-03T16:00:13.859723Z"
    }
   },
   "outputs": [],
   "source": [
    "inhibitory_cell_fraction_measurement[\"data\"].head()"
   ]
  },
  {
   "cell_type": "code",
   "execution_count": null,
   "metadata": {
    "ExecuteTime": {
     "end_time": "2019-12-03T16:00:24.513733Z",
     "start_time": "2019-12-03T16:00:15.267286Z"
    }
   },
   "outputs": [],
   "source": [
    "inhibitory_cell_fraction_analysis_report =\\\n",
    "    inhibitory_cell_fraction_analysis(\n",
    "        mock_circuit_model,\n",
    "        adapter\n",
    ")"
   ]
  },
  {
   "cell_type": "code",
   "execution_count": null,
   "metadata": {
    "ExecuteTime": {
     "end_time": "2019-12-03T16:00:29.324640Z",
     "start_time": "2019-12-03T16:00:27.517099Z"
    }
   },
   "outputs": [],
   "source": [
    "path_inhibitory_cell_fraction_analysis_report =\\\n",
    "    reporter.post(\n",
    "        inhibitory_cell_fraction_analysis_report\n",
    ")"
   ]
  },
  {
   "cell_type": "code",
   "execution_count": null,
   "metadata": {
    "ExecuteTime": {
     "end_time": "2019-12-03T16:00:30.104056Z",
     "start_time": "2019-12-03T16:00:30.098859Z"
    }
   },
   "outputs": [],
   "source": [
    "path_inhibitory_cell_fraction_analysis_report"
   ]
  },
  {
   "cell_type": "markdown",
   "metadata": {},
   "source": [
    "Cell density analyses developed above were one of the simplest.\n",
    "In rest of the notebook we develop analyses of incrementing complexity,\n",
    "This will also allow us to present different analyses tools also available\n",
    "as part of *DNT*.\n"
   ]
  },
  {
   "cell_type": "markdown",
   "metadata": {},
   "source": [
    "# Cell Density by *mtype* and layer.\n",
    "\n",
    "We need to define measurement parameters that contain mtypes from circuit.\n"
   ]
  },
  {
   "cell_type": "code",
   "execution_count": 26,
   "metadata": {
    "ExecuteTime": {
     "end_time": "2019-12-03T17:13:37.453052Z",
     "start_time": "2019-12-03T17:13:37.445742Z"
    }
   },
   "outputs": [],
   "source": [
    "mtypes = adapter.get_mtypes(mock_circuit_model)\n",
    "mtypes_regions_and_layers = Parameters(\n",
    "    pd.DataFrame({\n",
    "        \"region\": [\n",
    "            region\n",
    "            for region in sscx_sub_regions\n",
    "            for _ in cortical_layers\n",
    "            for _ in mtypes],\n",
    "        \"layer\": [\n",
    "            layer\n",
    "            for _ in sscx_sub_regions\n",
    "            for layer in cortical_layers\n",
    "            for _ in mtypes],\n",
    "        \"mtype\": [\n",
    "            mtype \n",
    "            for _ in sscx_sub_regions\n",
    "            for _ in cortical_layers\n",
    "            for mtype in mtypes]\n",
    "    })\n",
    ")"
   ]
  },
  {
   "cell_type": "code",
   "execution_count": 27,
   "metadata": {
    "ExecuteTime": {
     "end_time": "2019-12-03T17:13:38.716351Z",
     "start_time": "2019-12-03T17:13:38.711873Z"
    }
   },
   "outputs": [],
   "source": [
    "mtype_cell_density_analysis = BrainCircuitAnalysis(\n",
    "    phenomenon=cell_density_phenomenon,\n",
    "    AdapterInterface = CellDensityAdapterInterface,\n",
    "    measurement_parameters = mtypes_regions_and_layers,\n",
    "    plotter = MultiPlot(\n",
    "        mvar=\"mtype\",\n",
    "        plotter=Bars(\n",
    "            xvar=\"layer\",\n",
    "            xlabel=\"Layer\",\n",
    "            yvar=cell_density_phenomenon.label,\n",
    "            ylabel=cell_density_phenomenon.name,\n",
    "            gvar=\"region\")),\n",
    "    report = circuit_analysis_report\n",
    ")"
   ]
  },
  {
   "cell_type": "code",
   "execution_count": 28,
   "metadata": {
    "ExecuteTime": {
     "end_time": "2019-12-03T17:13:40.359027Z",
     "start_time": "2019-12-03T17:13:40.083847Z"
    }
   },
   "outputs": [
    {
     "data": {
      "text/plain": [
       "(('layer', 'L1'), ('mtype', 'L1_DAC'), ('region', 'S1HL'))"
      ]
     },
     "execution_count": 28,
     "metadata": {},
     "output_type": "execute_result"
    }
   ],
   "source": [
    "mrlfs = mtypes_regions_and_layers.for_sampling(2)\n",
    "adapter.visible_voxels._hashable(mrlfs[0])"
   ]
  },
  {
   "cell_type": "code",
   "execution_count": 29,
   "metadata": {
    "ExecuteTime": {
     "end_time": "2019-12-03T17:15:00.642701Z",
     "start_time": "2019-12-03T17:13:41.740592Z"
    }
   },
   "outputs": [],
   "source": [
    "mtype_cell_density_measurement =\\\n",
    "    mtype_cell_density_analysis.get_measurement(\n",
    "        mock_circuit_model,\n",
    "        adapter,\n",
    "        sample_size=10)"
   ]
  },
  {
   "cell_type": "code",
   "execution_count": 30,
   "metadata": {
    "ExecuteTime": {
     "end_time": "2019-12-03T17:15:09.604213Z",
     "start_time": "2019-12-03T17:15:09.599282Z"
    }
   },
   "outputs": [
    {
     "data": {
      "text/plain": [
       "((240, 1), (4560, 1))"
      ]
     },
     "execution_count": 30,
     "metadata": {},
     "output_type": "execute_result"
    }
   ],
   "source": [
    "cell_density_measurement[\"data\"].shape, mtype_cell_density_measurement[\"data\"].shape"
   ]
  },
  {
   "cell_type": "code",
   "execution_count": 31,
   "metadata": {
    "ExecuteTime": {
     "end_time": "2019-12-03T17:15:11.250607Z",
     "start_time": "2019-12-03T17:15:11.242099Z"
    }
   },
   "outputs": [
    {
     "data": {
      "text/html": [
       "<div>\n",
       "<style scoped>\n",
       "    .dataframe tbody tr th:only-of-type {\n",
       "        vertical-align: middle;\n",
       "    }\n",
       "\n",
       "    .dataframe tbody tr th {\n",
       "        vertical-align: top;\n",
       "    }\n",
       "\n",
       "    .dataframe thead th {\n",
       "        text-align: right;\n",
       "    }\n",
       "</style>\n",
       "<table border=\"1\" class=\"dataframe\">\n",
       "  <thead>\n",
       "    <tr style=\"text-align: right;\">\n",
       "      <th></th>\n",
       "      <th></th>\n",
       "      <th></th>\n",
       "      <th></th>\n",
       "      <th>cell_density</th>\n",
       "    </tr>\n",
       "    <tr>\n",
       "      <th>dataset</th>\n",
       "      <th>region</th>\n",
       "      <th>layer</th>\n",
       "      <th>mtype</th>\n",
       "      <th></th>\n",
       "    </tr>\n",
       "  </thead>\n",
       "  <tbody>\n",
       "    <tr>\n",
       "      <th rowspan=\"5\" valign=\"top\">MockBlueBrainCircuitModel</th>\n",
       "      <th rowspan=\"5\" valign=\"top\">S1HL</th>\n",
       "      <th rowspan=\"5\" valign=\"top\">L1</th>\n",
       "      <th>L1_DAC</th>\n",
       "      <td>616000.0</td>\n",
       "    </tr>\n",
       "    <tr>\n",
       "      <th>L1_DAC</th>\n",
       "      <td>760000.0</td>\n",
       "    </tr>\n",
       "    <tr>\n",
       "      <th>L1_DAC</th>\n",
       "      <td>448000.0</td>\n",
       "    </tr>\n",
       "    <tr>\n",
       "      <th>L1_DAC</th>\n",
       "      <td>288000.0</td>\n",
       "    </tr>\n",
       "    <tr>\n",
       "      <th>L1_DAC</th>\n",
       "      <td>408000.0</td>\n",
       "    </tr>\n",
       "  </tbody>\n",
       "</table>\n",
       "</div>"
      ],
      "text/plain": [
       "                                               cell_density\n",
       "dataset                   region layer mtype               \n",
       "MockBlueBrainCircuitModel S1HL   L1    L1_DAC      616000.0\n",
       "                                       L1_DAC      760000.0\n",
       "                                       L1_DAC      448000.0\n",
       "                                       L1_DAC      288000.0\n",
       "                                       L1_DAC      408000.0"
      ]
     },
     "execution_count": 31,
     "metadata": {},
     "output_type": "execute_result"
    }
   ],
   "source": [
    "mtype_cell_density_measurement[\"data\"].head()"
   ]
  },
  {
   "cell_type": "code",
   "execution_count": 32,
   "metadata": {
    "ExecuteTime": {
     "end_time": "2019-12-03T17:17:23.215958Z",
     "start_time": "2019-12-03T17:15:12.573650Z"
    }
   },
   "outputs": [
    {
     "data": {
      "image/png": "[encoded data removed]",
      "text/plain": [
       "<Figure size 993.613x576 with 1 Axes>"
      ]
     },
     "metadata": {
      "needs_background": "light"
     },
     "output_type": "display_data"
    },
    {
     "data": {
      "image/png": "[encoded data removed]",
      "text/plain": [
       "<Figure size 993.613x576 with 1 Axes>"
      ]
     },
     "metadata": {
      "needs_background": "light"
     },
     "output_type": "display_data"
    },
    {
     "data": {
      "image/png": "[encoded data removed]",
      "text/plain": [
       "<Figure size 993.613x576 with 1 Axes>"
      ]
     },
     "metadata": {
      "needs_background": "light"
     },
     "output_type": "display_data"
    },
    {
     "data": {
      "image/png": "[encoded data removed]",
      "text/plain": [
       "<Figure size 993.613x576 with 1 Axes>"
      ]
     },
     "metadata": {
      "needs_background": "light"
     },
     "output_type": "display_data"
    },
    {
     "data": {
      "image/png": "[encoded data removed]",
      "text/plain": [
       "<Figure size 993.613x576 with 1 Axes>"
      ]
     },
     "metadata": {
      "needs_background": "light"
     },
     "output_type": "display_data"
    },
    {
     "data": {
      "image/png": "[encoded data removed]",
      "text/plain": [
       "<Figure size 993.613x576 with 1 Axes>"
      ]
     },
     "metadata": {
      "needs_background": "light"
     },
     "output_type": "display_data"
    },
    {
     "data": {
      "image/png": "[encoded data removed]",
      "text/plain": [
       "<Figure size 993.613x576 with 1 Axes>"
      ]
     },
     "metadata": {
      "needs_background": "light"
     },
     "output_type": "display_data"
    },
    {
     "data": {
      "image/png": "[encoded data removed]",
      "text/plain": [
       "<Figure size 993.613x576 with 1 Axes>"
      ]
     },
     "metadata": {
      "needs_background": "light"
     },
     "output_type": "display_data"
    },
    {
     "data": {
      "image/png": "[encoded data removed]",
      "text/plain": [
       "<Figure size 993.613x576 with 1 Axes>"
      ]
     },
     "metadata": {
      "needs_background": "light"
     },
     "output_type": "display_data"
    },
    {
     "data": {
      "image/png": "[encoded data removed]",
      "text/plain": [
       "<Figure size 993.613x576 with 1 Axes>"
      ]
     },
     "metadata": {
      "needs_background": "light"
     },
     "output_type": "display_data"
    },
    {
     "data": {
      "image/png": "[encoded data removed]",
      "text/plain": [
       "<Figure size 993.613x576 with 1 Axes>"
      ]
     },
     "metadata": {
      "needs_background": "light"
     },
     "output_type": "display_data"
    },
    {
     "data": {
      "image/png": "[encoded data removed]",
      "text/plain": [
       "<Figure size 993.613x576 with 1 Axes>"
      ]
     },
     "metadata": {
      "needs_background": "light"
     },
     "output_type": "display_data"
    },
    {
     "data": {
      "image/png": "[encoded data removed]",
      "text/plain": [
       "<Figure size 993.613x576 with 1 Axes>"
      ]
     },
     "metadata": {
      "needs_background": "light"
     },
     "output_type": "display_data"
    },
    {
     "data": {
      "image/png": "[encoded data removed]",
      "text/plain": [
       "<Figure size 993.613x576 with 1 Axes>"
      ]
     },
     "metadata": {
      "needs_background": "light"
     },
     "output_type": "display_data"
    },
    {
     "data": {
      "image/png": "[encoded data removed]",
      "text/plain": [
       "<Figure size 993.613x576 with 1 Axes>"
      ]
     },
     "metadata": {
      "needs_background": "light"
     },
     "output_type": "display_data"
    },
    {
     "data": {
      "image/png": "[encoded data removed]",
      "text/plain": [
       "<Figure size 993.613x576 with 1 Axes>"
      ]
     },
     "metadata": {
      "needs_background": "light"
     },
     "output_type": "display_data"
    },
    {
     "data": {
      "image/png": "[encoded data removed]",
      "text/plain": [
       "<Figure size 993.613x576 with 1 Axes>"
      ]
     },
     "metadata": {
      "needs_background": "light"
     },
     "output_type": "display_data"
    },
    {
     "data": {
      "image/png": "[encoded data removed]",
      "text/plain": [
       "<Figure size 993.613x576 with 1 Axes>"
      ]
     },
     "metadata": {
      "needs_background": "light"
     },
     "output_type": "display_data"
    },
    {
     "data": {
      "image/png": "[encoded data removed]",
      "text/plain": [
       "<Figure size 993.613x576 with 1 Axes>"
      ]
     },
     "metadata": {
      "needs_background": "light"
     },
     "output_type": "display_data"
    }
   ],
   "source": [
    "mtype_cell_density_analysis_report =\\\n",
    "    mtype_cell_density_analysis(\n",
    "        mock_circuit_model,\n",
    "        adapter\n",
    ")"
   ]
  },
  {
   "cell_type": "code",
   "execution_count": 45,
   "metadata": {
    "ExecuteTime": {
     "end_time": "2019-12-03T17:43:41.203282Z",
     "start_time": "2019-12-03T17:43:33.151366Z"
    }
   },
   "outputs": [],
   "source": [
    "path_mtype_cell_density_analysis_report =\\\n",
    "    reporter.post(\n",
    "        mtype_cell_density_analysis_report\n",
    ")"
   ]
  },
  {
   "cell_type": "code",
   "execution_count": 46,
   "metadata": {
    "ExecuteTime": {
     "end_time": "2019-12-03T17:43:46.523956Z",
     "start_time": "2019-12-03T17:43:46.520051Z"
    }
   },
   "outputs": [
    {
     "data": {
      "text/plain": [
       "'/Users/vishalsoodmuchu/work/bbp/work/validations/dmt/v2/neuro_dmt/library/users/visood/sscx_dissemination/validations/cell_density/20191203/184333'"
      ]
     },
     "execution_count": 46,
     "metadata": {},
     "output_type": "execute_result"
    }
   ],
   "source": [
    "path_mtype_cell_density_analysis_report"
   ]
  },
  {
   "cell_type": "markdown",
   "metadata": {},
   "source": [
    "# Cell density by *mytpe*, and cortical depth\n",
    "\n",
    "The next complexity we will add to our composition analyses is the cell density\n",
    "at a given depth in the circuit.\n",
    "\n",
    "For an atlas based circuit, cortical depth in one column may not map onto the\n",
    "same *depth value* in another column. We circumvent this problem by using the\n",
    "the *principal-axis* of each atlas voxel. The user, of course, does not see \n",
    "any of the detail. \n",
    "\n",
    "To obtain cell density in a circuit model at a given depth bin,\n"
   ]
  },
  {
   "cell_type": "code",
   "execution_count": 33,
   "metadata": {
    "ExecuteTime": {
     "end_time": "2019-12-03T17:17:27.224723Z",
     "start_time": "2019-12-03T17:17:27.198383Z"
    }
   },
   "outputs": [
    {
     "data": {
      "text/plain": [
       "24000.0"
      ]
     },
     "execution_count": 33,
     "metadata": {},
     "output_type": "execute_result"
    }
   ],
   "source": [
    "adapter.get_cell_density(mock_circuit_model, depth=np.array([0., 100.]))"
   ]
  },
  {
   "cell_type": "markdown",
   "metadata": {},
   "source": [
    "is all. To build out analyses of cell density with depth, all we need is the\n",
    "measurement parameters."
   ]
  },
  {
   "cell_type": "code",
   "execution_count": 34,
   "metadata": {
    "ExecuteTime": {
     "end_time": "2019-12-03T17:17:30.746284Z",
     "start_time": "2019-12-03T17:17:30.734324Z"
    }
   },
   "outputs": [
    {
     "data": {
      "text/html": [
       "<div>\n",
       "<style scoped>\n",
       "    .dataframe tbody tr th:only-of-type {\n",
       "        vertical-align: middle;\n",
       "    }\n",
       "\n",
       "    .dataframe tbody tr th {\n",
       "        vertical-align: top;\n",
       "    }\n",
       "\n",
       "    .dataframe thead tr th {\n",
       "        text-align: left;\n",
       "    }\n",
       "</style>\n",
       "<table border=\"1\" class=\"dataframe\">\n",
       "  <thead>\n",
       "    <tr>\n",
       "      <th></th>\n",
       "      <th colspan=\"2\" halign=\"left\">depth</th>\n",
       "    </tr>\n",
       "    <tr>\n",
       "      <th></th>\n",
       "      <th>begin</th>\n",
       "      <th>end</th>\n",
       "    </tr>\n",
       "  </thead>\n",
       "  <tbody>\n",
       "    <tr>\n",
       "      <th>0</th>\n",
       "      <td>0.0</td>\n",
       "      <td>50.0</td>\n",
       "    </tr>\n",
       "    <tr>\n",
       "      <th>1</th>\n",
       "      <td>50.0</td>\n",
       "      <td>100.0</td>\n",
       "    </tr>\n",
       "    <tr>\n",
       "      <th>2</th>\n",
       "      <td>100.0</td>\n",
       "      <td>150.0</td>\n",
       "    </tr>\n",
       "    <tr>\n",
       "      <th>3</th>\n",
       "      <td>150.0</td>\n",
       "      <td>200.0</td>\n",
       "    </tr>\n",
       "    <tr>\n",
       "      <th>4</th>\n",
       "      <td>200.0</td>\n",
       "      <td>250.0</td>\n",
       "    </tr>\n",
       "  </tbody>\n",
       "</table>\n",
       "</div>"
      ],
      "text/plain": [
       "   depth       \n",
       "   begin    end\n",
       "0    0.0   50.0\n",
       "1   50.0  100.0\n",
       "2  100.0  150.0\n",
       "3  150.0  200.0\n",
       "4  200.0  250.0"
      ]
     },
     "execution_count": 34,
     "metadata": {},
     "output_type": "execute_result"
    }
   ],
   "source": [
    "depths = Parameters(\n",
    "    pd.DataFrame({\n",
    "        (\"depth\", \"begin\"): np.linspace(0, 2500, 51),\n",
    "        (\"depth\", \"end\"): np.linspace(0, 2500, 51) + 50.\n",
    "    }))\n",
    "depths.values.head()"
   ]
  },
  {
   "cell_type": "code",
   "execution_count": 35,
   "metadata": {
    "ExecuteTime": {
     "end_time": "2019-12-03T17:17:32.864705Z",
     "start_time": "2019-12-03T17:17:32.081468Z"
    }
   },
   "outputs": [
    {
     "data": {
      "text/plain": [
       "{'depth': {'begin': 0.0, 'end': 50.0}}"
      ]
     },
     "execution_count": 35,
     "metadata": {},
     "output_type": "execute_result"
    }
   ],
   "source": [
    "dfs = depths.for_sampling(None, None, 2)\n",
    "dfs[0]"
   ]
  },
  {
   "cell_type": "code",
   "execution_count": 36,
   "metadata": {
    "ExecuteTime": {
     "end_time": "2019-12-03T17:17:34.473377Z",
     "start_time": "2019-12-03T17:17:34.467215Z"
    }
   },
   "outputs": [],
   "source": [
    "from dmt.tk.plotting import LinePlot\n",
    "\n",
    "cell_density_by_depth_analysis =\\\n",
    "    BrainCircuitAnalysis(\n",
    "        phenomenon=cell_density_phenomenon,\n",
    "        AdapterInterface = CellDensityAdapterInterface,\n",
    "        measurement_parameters = depths,\n",
    "        plotter=LinePlot(\n",
    "            xvar=(\"depth\", \"begin\"),\n",
    "            xlabel=\"Cortical Depth\",\n",
    "            yvar=cell_density_phenomenon.label,\n",
    "            ylabel=cell_density_phenomenon.name,\n",
    "            drawstyle=\"steps-mid\"),\n",
    "        report = circuit_analysis_report\n",
    "    )"
   ]
  },
  {
   "cell_type": "code",
   "execution_count": 37,
   "metadata": {
    "ExecuteTime": {
     "end_time": "2019-12-03T17:17:56.829169Z",
     "start_time": "2019-12-03T17:17:36.508991Z"
    }
   },
   "outputs": [
    {
     "data": {
      "text/html": [
       "<div>\n",
       "<style scoped>\n",
       "    .dataframe tbody tr th:only-of-type {\n",
       "        vertical-align: middle;\n",
       "    }\n",
       "\n",
       "    .dataframe tbody tr th {\n",
       "        vertical-align: top;\n",
       "    }\n",
       "\n",
       "    .dataframe thead th {\n",
       "        text-align: right;\n",
       "    }\n",
       "</style>\n",
       "<table border=\"1\" class=\"dataframe\">\n",
       "  <thead>\n",
       "    <tr style=\"text-align: right;\">\n",
       "      <th></th>\n",
       "      <th></th>\n",
       "      <th></th>\n",
       "      <th>cell_density</th>\n",
       "    </tr>\n",
       "    <tr>\n",
       "      <th>dataset</th>\n",
       "      <th>(depth, begin)</th>\n",
       "      <th>(depth, end)</th>\n",
       "      <th></th>\n",
       "    </tr>\n",
       "  </thead>\n",
       "  <tbody>\n",
       "    <tr>\n",
       "      <th rowspan=\"5\" valign=\"top\">MockBlueBrainCircuitModel</th>\n",
       "      <th rowspan=\"5\" valign=\"top\">0.0</th>\n",
       "      <th>50.0</th>\n",
       "      <td>176000.0</td>\n",
       "    </tr>\n",
       "    <tr>\n",
       "      <th>50.0</th>\n",
       "      <td>112000.0</td>\n",
       "    </tr>\n",
       "    <tr>\n",
       "      <th>50.0</th>\n",
       "      <td>72000.0</td>\n",
       "    </tr>\n",
       "    <tr>\n",
       "      <th>50.0</th>\n",
       "      <td>48000.0</td>\n",
       "    </tr>\n",
       "    <tr>\n",
       "      <th>50.0</th>\n",
       "      <td>232000.0</td>\n",
       "    </tr>\n",
       "  </tbody>\n",
       "</table>\n",
       "</div>"
      ],
      "text/plain": [
       "                                                       cell_density\n",
       "dataset                   (depth, begin) (depth, end)              \n",
       "MockBlueBrainCircuitModel 0.0            50.0              176000.0\n",
       "                                         50.0              112000.0\n",
       "                                         50.0               72000.0\n",
       "                                         50.0               48000.0\n",
       "                                         50.0              232000.0"
      ]
     },
     "execution_count": 37,
     "metadata": {},
     "output_type": "execute_result"
    }
   ],
   "source": [
    "cell_density_by_depth_measurement =\\\n",
    "    cell_density_by_depth_analysis.get_measurement(\n",
    "        mock_circuit_model,\n",
    "        adapter\n",
    ")\n",
    "cell_density_by_depth_measurement[\"data\"].head()"
   ]
  },
  {
   "cell_type": "code",
   "execution_count": 38,
   "metadata": {
    "ExecuteTime": {
     "end_time": "2019-12-03T17:19:18.463252Z",
     "start_time": "2019-12-03T17:19:18.449484Z"
    }
   },
   "outputs": [
    {
     "data": {
      "text/html": [
       "<div>\n",
       "<style scoped>\n",
       "    .dataframe tbody tr th:only-of-type {\n",
       "        vertical-align: middle;\n",
       "    }\n",
       "\n",
       "    .dataframe tbody tr th {\n",
       "        vertical-align: top;\n",
       "    }\n",
       "\n",
       "    .dataframe thead th {\n",
       "        text-align: right;\n",
       "    }\n",
       "</style>\n",
       "<table border=\"1\" class=\"dataframe\">\n",
       "  <thead>\n",
       "    <tr style=\"text-align: right;\">\n",
       "      <th></th>\n",
       "      <th>dataset</th>\n",
       "      <th>(depth, begin)</th>\n",
       "      <th>(depth, end)</th>\n",
       "      <th>cell_density</th>\n",
       "    </tr>\n",
       "  </thead>\n",
       "  <tbody>\n",
       "    <tr>\n",
       "      <th>0</th>\n",
       "      <td>MockBlueBrainCircuitModel</td>\n",
       "      <td>0.0</td>\n",
       "      <td>50.0</td>\n",
       "      <td>176000.0</td>\n",
       "    </tr>\n",
       "    <tr>\n",
       "      <th>1</th>\n",
       "      <td>MockBlueBrainCircuitModel</td>\n",
       "      <td>0.0</td>\n",
       "      <td>50.0</td>\n",
       "      <td>112000.0</td>\n",
       "    </tr>\n",
       "    <tr>\n",
       "      <th>2</th>\n",
       "      <td>MockBlueBrainCircuitModel</td>\n",
       "      <td>0.0</td>\n",
       "      <td>50.0</td>\n",
       "      <td>72000.0</td>\n",
       "    </tr>\n",
       "    <tr>\n",
       "      <th>3</th>\n",
       "      <td>MockBlueBrainCircuitModel</td>\n",
       "      <td>0.0</td>\n",
       "      <td>50.0</td>\n",
       "      <td>48000.0</td>\n",
       "    </tr>\n",
       "    <tr>\n",
       "      <th>4</th>\n",
       "      <td>MockBlueBrainCircuitModel</td>\n",
       "      <td>0.0</td>\n",
       "      <td>50.0</td>\n",
       "      <td>232000.0</td>\n",
       "    </tr>\n",
       "  </tbody>\n",
       "</table>\n",
       "</div>"
      ],
      "text/plain": [
       "                     dataset  (depth, begin)  (depth, end)  cell_density\n",
       "0  MockBlueBrainCircuitModel             0.0          50.0      176000.0\n",
       "1  MockBlueBrainCircuitModel             0.0          50.0      112000.0\n",
       "2  MockBlueBrainCircuitModel             0.0          50.0       72000.0\n",
       "3  MockBlueBrainCircuitModel             0.0          50.0       48000.0\n",
       "4  MockBlueBrainCircuitModel             0.0          50.0      232000.0"
      ]
     },
     "execution_count": 38,
     "metadata": {},
     "output_type": "execute_result"
    }
   ],
   "source": [
    "cell_density_by_depth_measurement[\"data\"].reset_index().head()"
   ]
  },
  {
   "cell_type": "code",
   "execution_count": 39,
   "metadata": {
    "ExecuteTime": {
     "end_time": "2019-12-03T17:19:20.350286Z",
     "start_time": "2019-12-03T17:19:20.336654Z"
    }
   },
   "outputs": [
    {
     "data": {
      "text/html": [
       "<div>\n",
       "<style scoped>\n",
       "    .dataframe tbody tr th:only-of-type {\n",
       "        vertical-align: middle;\n",
       "    }\n",
       "\n",
       "    .dataframe tbody tr th {\n",
       "        vertical-align: top;\n",
       "    }\n",
       "\n",
       "    .dataframe thead th {\n",
       "        text-align: right;\n",
       "    }\n",
       "</style>\n",
       "<table border=\"1\" class=\"dataframe\">\n",
       "  <thead>\n",
       "    <tr style=\"text-align: right;\">\n",
       "      <th></th>\n",
       "      <th>dataset</th>\n",
       "      <th>(depth, begin)</th>\n",
       "      <th>(depth, end)</th>\n",
       "      <th>cell_density</th>\n",
       "    </tr>\n",
       "  </thead>\n",
       "  <tbody>\n",
       "    <tr>\n",
       "      <th>1015</th>\n",
       "      <td>MockBlueBrainCircuitModel</td>\n",
       "      <td>2500.0</td>\n",
       "      <td>2550.0</td>\n",
       "      <td>24000.0</td>\n",
       "    </tr>\n",
       "    <tr>\n",
       "      <th>1016</th>\n",
       "      <td>MockBlueBrainCircuitModel</td>\n",
       "      <td>2500.0</td>\n",
       "      <td>2550.0</td>\n",
       "      <td>392000.0</td>\n",
       "    </tr>\n",
       "    <tr>\n",
       "      <th>1017</th>\n",
       "      <td>MockBlueBrainCircuitModel</td>\n",
       "      <td>2500.0</td>\n",
       "      <td>2550.0</td>\n",
       "      <td>128000.0</td>\n",
       "    </tr>\n",
       "    <tr>\n",
       "      <th>1018</th>\n",
       "      <td>MockBlueBrainCircuitModel</td>\n",
       "      <td>2500.0</td>\n",
       "      <td>2550.0</td>\n",
       "      <td>232000.0</td>\n",
       "    </tr>\n",
       "    <tr>\n",
       "      <th>1019</th>\n",
       "      <td>MockBlueBrainCircuitModel</td>\n",
       "      <td>2500.0</td>\n",
       "      <td>2550.0</td>\n",
       "      <td>456000.0</td>\n",
       "    </tr>\n",
       "  </tbody>\n",
       "</table>\n",
       "</div>"
      ],
      "text/plain": [
       "                        dataset  (depth, begin)  (depth, end)  cell_density\n",
       "1015  MockBlueBrainCircuitModel          2500.0        2550.0       24000.0\n",
       "1016  MockBlueBrainCircuitModel          2500.0        2550.0      392000.0\n",
       "1017  MockBlueBrainCircuitModel          2500.0        2550.0      128000.0\n",
       "1018  MockBlueBrainCircuitModel          2500.0        2550.0      232000.0\n",
       "1019  MockBlueBrainCircuitModel          2500.0        2550.0      456000.0"
      ]
     },
     "execution_count": 39,
     "metadata": {},
     "output_type": "execute_result"
    }
   ],
   "source": [
    "line_plotter =\\\n",
    "    cell_density_by_depth_analysis.plotter\n",
    "line_plotter.get_dataframe(\n",
    "    cell_density_by_depth_measurement[\"data\"]\n",
    ").tail()"
   ]
  },
  {
   "cell_type": "code",
   "execution_count": 40,
   "metadata": {
    "ExecuteTime": {
     "end_time": "2019-12-03T17:19:43.314429Z",
     "start_time": "2019-12-03T17:19:26.325319Z"
    }
   },
   "outputs": [
    {
     "data": {
      "image/png": "[encoded data removed]",
      "text/plain": [
       "<Figure size 224x216 with 1 Axes>"
      ]
     },
     "metadata": {
      "needs_background": "light"
     },
     "output_type": "display_data"
    }
   ],
   "source": [
    "cell_density_by_depth_analysis_report =\\\n",
    "    cell_density_by_depth_analysis(\n",
    "        mock_circuit_model,\n",
    "        adapter)"
   ]
  },
  {
   "cell_type": "code",
   "execution_count": 47,
   "metadata": {
    "ExecuteTime": {
     "end_time": "2019-12-03T17:45:12.170697Z",
     "start_time": "2019-12-03T17:45:12.031547Z"
    }
   },
   "outputs": [],
   "source": [
    "path_cell_density_by_analysis_report=\\\n",
    "    reporter.post(\n",
    "        cell_density_by_depth_analysis_report\n",
    ")"
   ]
  },
  {
   "cell_type": "code",
   "execution_count": null,
   "metadata": {
    "ExecuteTime": {
     "end_time": "2019-12-03T15:19:25.374427Z",
     "start_time": "2019-12-03T15:19:25.359871Z"
    }
   },
   "outputs": [],
   "source": [
    "defelipe_data =\\\n",
    "    rat.defelipe2017\\\n",
    "    .data\\\n",
    "    .groupby(\n",
    "        \"layer\"\n",
    "        ).agg(\n",
    "        [\"mean\", \"std\"]\n",
    "        ).assign(\n",
    "            normalized_thickness=lambda df: (\n",
    "                df.thickness[\"mean\"] / df.thickness[\"mean\"].sum())\n",
    "        ).assign(\n",
    "            depth=lambda df: np.cumsum(df.normalized_thickness)\n",
    "        )"
   ]
  },
  {
   "cell_type": "code",
   "execution_count": null,
   "metadata": {
    "ExecuteTime": {
     "end_time": "2019-12-03T15:19:34.541467Z",
     "start_time": "2019-12-03T15:19:34.533973Z"
    }
   },
   "outputs": [],
   "source": [
    "1. - defelipe_data[\"depth\"]"
   ]
  },
  {
   "cell_type": "code",
   "execution_count": null,
   "metadata": {
    "ExecuteTime": {
     "end_time": "2019-12-03T16:18:28.491719Z",
     "start_time": "2019-12-03T16:18:28.482032Z"
    }
   },
   "outputs": [],
   "source": [
    "from dmt.data.observation import measurement\n",
    "\n",
    "measurement.Measurement.load(\n",
    "    cell_density_by_depth_measurement[\"data\"]\n",
    ")"
   ]
  },
  {
   "cell_type": "code",
   "execution_count": 42,
   "metadata": {
    "ExecuteTime": {
     "end_time": "2019-12-03T17:20:44.786223Z",
     "start_time": "2019-12-03T17:20:44.663885Z"
    }
   },
   "outputs": [
    {
     "data": {
      "text/plain": [
       "{<neuro_dmt.models.bluebrain.circuit.mock.circuit.MockBlueBrainCircuitModel at 0x11f055c90>: {(('layer',\n",
       "    'L1'),\n",
       "   ('region',\n",
       "    'S1HL')): <neuro_dmt.models.bluebrain.circuit.adapter.query.SpatialQueryData at 0x114101490>,\n",
       "  (('layer', 'L1'),\n",
       "   ('region',\n",
       "    'S1FL')): <neuro_dmt.models.bluebrain.circuit.adapter.query.SpatialQueryData at 0x11ef70410>,\n",
       "  (('layer', 'L1'),\n",
       "   ('region',\n",
       "    'S1Sh')): <neuro_dmt.models.bluebrain.circuit.adapter.query.SpatialQueryData at 0x11ef70ad0>,\n",
       "  (('layer', 'L1'),\n",
       "   ('region',\n",
       "    'S1Tr')): <neuro_dmt.models.bluebrain.circuit.adapter.query.SpatialQueryData at 0x11efac490>,\n",
       "  (('layer', 'L2'),\n",
       "   ('region',\n",
       "    'S1HL')): <neuro_dmt.models.bluebrain.circuit.adapter.query.SpatialQueryData at 0x11efa59d0>,\n",
       "  (('layer', 'L2'),\n",
       "   ('region',\n",
       "    'S1FL')): <neuro_dmt.models.bluebrain.circuit.adapter.query.SpatialQueryData at 0x11ef68610>,\n",
       "  (('layer', 'L2'),\n",
       "   ('region',\n",
       "    'S1Sh')): <neuro_dmt.models.bluebrain.circuit.adapter.query.SpatialQueryData at 0x11efa9890>,\n",
       "  (('layer', 'L2'),\n",
       "   ('region',\n",
       "    'S1Tr')): <neuro_dmt.models.bluebrain.circuit.adapter.query.SpatialQueryData at 0x11eff3710>,\n",
       "  (('layer', 'L3'),\n",
       "   ('region',\n",
       "    'S1HL')): <neuro_dmt.models.bluebrain.circuit.adapter.query.SpatialQueryData at 0x11ef6cf10>,\n",
       "  (('layer', 'L3'),\n",
       "   ('region',\n",
       "    'S1FL')): <neuro_dmt.models.bluebrain.circuit.adapter.query.SpatialQueryData at 0x11ef9bf90>,\n",
       "  (('layer', 'L3'),\n",
       "   ('region',\n",
       "    'S1Sh')): <neuro_dmt.models.bluebrain.circuit.adapter.query.SpatialQueryData at 0x11ef8e190>,\n",
       "  (('layer', 'L3'),\n",
       "   ('region',\n",
       "    'S1Tr')): <neuro_dmt.models.bluebrain.circuit.adapter.query.SpatialQueryData at 0x11ef56ed0>,\n",
       "  (('layer', 'L4'),\n",
       "   ('region',\n",
       "    'S1HL')): <neuro_dmt.models.bluebrain.circuit.adapter.query.SpatialQueryData at 0x11efb21d0>,\n",
       "  (('layer', 'L4'),\n",
       "   ('region',\n",
       "    'S1FL')): <neuro_dmt.models.bluebrain.circuit.adapter.query.SpatialQueryData at 0x11efe33d0>,\n",
       "  (('layer', 'L4'),\n",
       "   ('region',\n",
       "    'S1Sh')): <neuro_dmt.models.bluebrain.circuit.adapter.query.SpatialQueryData at 0x11ef73f90>,\n",
       "  (('layer', 'L4'),\n",
       "   ('region',\n",
       "    'S1Tr')): <neuro_dmt.models.bluebrain.circuit.adapter.query.SpatialQueryData at 0x11ef73d50>,\n",
       "  (('layer', 'L5'),\n",
       "   ('region',\n",
       "    'S1HL')): <neuro_dmt.models.bluebrain.circuit.adapter.query.SpatialQueryData at 0x11eff6310>,\n",
       "  (('layer', 'L5'),\n",
       "   ('region',\n",
       "    'S1FL')): <neuro_dmt.models.bluebrain.circuit.adapter.query.SpatialQueryData at 0x10b45ab90>,\n",
       "  (('layer', 'L5'),\n",
       "   ('region',\n",
       "    'S1Sh')): <neuro_dmt.models.bluebrain.circuit.adapter.query.SpatialQueryData at 0x11f005f50>,\n",
       "  (('layer', 'L5'),\n",
       "   ('region',\n",
       "    'S1Tr')): <neuro_dmt.models.bluebrain.circuit.adapter.query.SpatialQueryData at 0x11ef9d6d0>,\n",
       "  (('layer', 'L6'),\n",
       "   ('region',\n",
       "    'S1HL')): <neuro_dmt.models.bluebrain.circuit.adapter.query.SpatialQueryData at 0x11ef686d0>,\n",
       "  (('layer', 'L6'),\n",
       "   ('region',\n",
       "    'S1FL')): <neuro_dmt.models.bluebrain.circuit.adapter.query.SpatialQueryData at 0x11efe5f50>,\n",
       "  (('layer', 'L6'),\n",
       "   ('region',\n",
       "    'S1Sh')): <neuro_dmt.models.bluebrain.circuit.adapter.query.SpatialQueryData at 0x11ef6db90>,\n",
       "  (('layer', 'L6'),\n",
       "   ('region',\n",
       "    'S1Tr')): <neuro_dmt.models.bluebrain.circuit.adapter.query.SpatialQueryData at 0x11ef920d0>,\n",
       "  (('depth',\n",
       "    (0.0,\n",
       "     100.0)),): <neuro_dmt.models.bluebrain.circuit.adapter.query.SpatialQueryData at 0x11ec08110>,\n",
       "  (('layer', 'L1'),\n",
       "   ('mtype', 'L1_DAC'),\n",
       "   ('region',\n",
       "    'S1HL')): <neuro_dmt.models.bluebrain.circuit.adapter.query.SpatialQueryData at 0x10b413f10>,\n",
       "  (('layer', 'L1'),\n",
       "   ('mtype', 'L1_SLAC'),\n",
       "   ('region',\n",
       "    'S1HL')): <neuro_dmt.models.bluebrain.circuit.adapter.query.SpatialQueryData at 0x11eff07d0>,\n",
       "  (('layer', 'L1'),\n",
       "   ('mtype', 'L23_MC'),\n",
       "   ('region',\n",
       "    'S1HL')): <neuro_dmt.models.bluebrain.circuit.adapter.query.SpatialQueryData at 0x11eb0add0>,\n",
       "  (('layer', 'L1'),\n",
       "   ('mtype', 'L23_ChC'),\n",
       "   ('region',\n",
       "    'S1HL')): <neuro_dmt.models.bluebrain.circuit.adapter.query.SpatialQueryData at 0x11f06ce50>,\n",
       "  (('layer', 'L1'),\n",
       "   ('mtype', 'L23_SBC'),\n",
       "   ('region',\n",
       "    'S1HL')): <neuro_dmt.models.bluebrain.circuit.adapter.query.SpatialQueryData at 0x1147a58d0>,\n",
       "  (('layer', 'L1'),\n",
       "   ('mtype', 'L4_LBC'),\n",
       "   ('region',\n",
       "    'S1HL')): <neuro_dmt.models.bluebrain.circuit.adapter.query.SpatialQueryData at 0x11efd2350>,\n",
       "  (('layer', 'L1'),\n",
       "   ('mtype', 'L4_NGC'),\n",
       "   ('region',\n",
       "    'S1HL')): <neuro_dmt.models.bluebrain.circuit.adapter.query.SpatialQueryData at 0x11f039f50>,\n",
       "  (('layer', 'L1'),\n",
       "   ('mtype', 'L4_TPC'),\n",
       "   ('region',\n",
       "    'S1HL')): <neuro_dmt.models.bluebrain.circuit.adapter.query.SpatialQueryData at 0x11ef9d1d0>,\n",
       "  (('layer', 'L1'),\n",
       "   ('mtype', 'L5_DBC'),\n",
       "   ('region',\n",
       "    'S1HL')): <neuro_dmt.models.bluebrain.circuit.adapter.query.SpatialQueryData at 0x11ef940d0>,\n",
       "  (('layer', 'L1'),\n",
       "   ('mtype', 'L5_MC'),\n",
       "   ('region',\n",
       "    'S1HL')): <neuro_dmt.models.bluebrain.circuit.adapter.query.SpatialQueryData at 0x114875150>,\n",
       "  (('layer', 'L1'),\n",
       "   ('mtype', 'L5_TPC:A'),\n",
       "   ('region',\n",
       "    'S1HL')): <neuro_dmt.models.bluebrain.circuit.adapter.query.SpatialQueryData at 0x11f039450>,\n",
       "  (('layer', 'L1'),\n",
       "   ('mtype', 'L5_TPC:B'),\n",
       "   ('region',\n",
       "    'S1HL')): <neuro_dmt.models.bluebrain.circuit.adapter.query.SpatialQueryData at 0x11ef92510>,\n",
       "  (('layer', 'L1'),\n",
       "   ('mtype', 'L5_UPC'),\n",
       "   ('region',\n",
       "    'S1HL')): <neuro_dmt.models.bluebrain.circuit.adapter.query.SpatialQueryData at 0x11f005a50>,\n",
       "  (('layer', 'L1'),\n",
       "   ('mtype', 'L6_ChC'),\n",
       "   ('region',\n",
       "    'S1HL')): <neuro_dmt.models.bluebrain.circuit.adapter.query.SpatialQueryData at 0x11efa2d50>,\n",
       "  (('layer', 'L1'),\n",
       "   ('mtype', 'L6_IPC'),\n",
       "   ('region',\n",
       "    'S1HL')): <neuro_dmt.models.bluebrain.circuit.adapter.query.SpatialQueryData at 0x11ef98690>,\n",
       "  (('layer', 'L1'),\n",
       "   ('mtype', 'L6_MC'),\n",
       "   ('region',\n",
       "    'S1HL')): <neuro_dmt.models.bluebrain.circuit.adapter.query.SpatialQueryData at 0x11f005890>,\n",
       "  (('layer', 'L1'),\n",
       "   ('mtype', 'L6_TPC:A'),\n",
       "   ('region',\n",
       "    'S1HL')): <neuro_dmt.models.bluebrain.circuit.adapter.query.SpatialQueryData at 0x11efdee50>,\n",
       "  (('layer', 'L1'),\n",
       "   ('mtype', 'L6_TPC:B'),\n",
       "   ('region',\n",
       "    'S1HL')): <neuro_dmt.models.bluebrain.circuit.adapter.query.SpatialQueryData at 0x11ef6a310>,\n",
       "  (('layer', 'L1'),\n",
       "   ('mtype', 'L6_UPC'),\n",
       "   ('region',\n",
       "    'S1HL')): <neuro_dmt.models.bluebrain.circuit.adapter.query.SpatialQueryData at 0x11ef68650>,\n",
       "  (('layer', 'L2'),\n",
       "   ('mtype', 'L1_DAC'),\n",
       "   ('region',\n",
       "    'S1HL')): <neuro_dmt.models.bluebrain.circuit.adapter.query.SpatialQueryData at 0x11efa2350>,\n",
       "  (('layer', 'L2'),\n",
       "   ('mtype', 'L1_SLAC'),\n",
       "   ('region',\n",
       "    'S1HL')): <neuro_dmt.models.bluebrain.circuit.adapter.query.SpatialQueryData at 0x11ef6de50>,\n",
       "  (('layer', 'L2'),\n",
       "   ('mtype', 'L23_MC'),\n",
       "   ('region',\n",
       "    'S1HL')): <neuro_dmt.models.bluebrain.circuit.adapter.query.SpatialQueryData at 0x11ef73d90>,\n",
       "  (('layer', 'L2'),\n",
       "   ('mtype', 'L23_ChC'),\n",
       "   ('region',\n",
       "    'S1HL')): <neuro_dmt.models.bluebrain.circuit.adapter.query.SpatialQueryData at 0x11f0548d0>,\n",
       "  (('layer', 'L2'),\n",
       "   ('mtype', 'L23_SBC'),\n",
       "   ('region',\n",
       "    'S1HL')): <neuro_dmt.models.bluebrain.circuit.adapter.query.SpatialQueryData at 0x11f055890>,\n",
       "  (('layer', 'L2'),\n",
       "   ('mtype', 'L4_LBC'),\n",
       "   ('region',\n",
       "    'S1HL')): <neuro_dmt.models.bluebrain.circuit.adapter.query.SpatialQueryData at 0x11efe3e50>,\n",
       "  (('layer', 'L2'),\n",
       "   ('mtype', 'L4_NGC'),\n",
       "   ('region',\n",
       "    'S1HL')): <neuro_dmt.models.bluebrain.circuit.adapter.query.SpatialQueryData at 0x11eff9bd0>,\n",
       "  (('layer', 'L2'),\n",
       "   ('mtype', 'L4_TPC'),\n",
       "   ('region',\n",
       "    'S1HL')): <neuro_dmt.models.bluebrain.circuit.adapter.query.SpatialQueryData at 0x11efac450>,\n",
       "  (('layer', 'L2'),\n",
       "   ('mtype', 'L5_DBC'),\n",
       "   ('region',\n",
       "    'S1HL')): <neuro_dmt.models.bluebrain.circuit.adapter.query.SpatialQueryData at 0x11f0036d0>,\n",
       "  (('layer', 'L2'),\n",
       "   ('mtype', 'L5_MC'),\n",
       "   ('region',\n",
       "    'S1HL')): <neuro_dmt.models.bluebrain.circuit.adapter.query.SpatialQueryData at 0x11efa5fd0>,\n",
       "  (('layer', 'L2'),\n",
       "   ('mtype', 'L5_TPC:A'),\n",
       "   ('region',\n",
       "    'S1HL')): <neuro_dmt.models.bluebrain.circuit.adapter.query.SpatialQueryData at 0x11f022d10>,\n",
       "  (('layer', 'L2'),\n",
       "   ('mtype', 'L5_TPC:B'),\n",
       "   ('region',\n",
       "    'S1HL')): <neuro_dmt.models.bluebrain.circuit.adapter.query.SpatialQueryData at 0x11f07b650>,\n",
       "  (('layer', 'L2'),\n",
       "   ('mtype', 'L5_UPC'),\n",
       "   ('region',\n",
       "    'S1HL')): <neuro_dmt.models.bluebrain.circuit.adapter.query.SpatialQueryData at 0x11efd8c90>,\n",
       "  (('layer', 'L2'),\n",
       "   ('mtype', 'L6_ChC'),\n",
       "   ('region',\n",
       "    'S1HL')): <neuro_dmt.models.bluebrain.circuit.adapter.query.SpatialQueryData at 0x11f02a410>,\n",
       "  (('layer', 'L2'),\n",
       "   ('mtype', 'L6_IPC'),\n",
       "   ('region',\n",
       "    'S1HL')): <neuro_dmt.models.bluebrain.circuit.adapter.query.SpatialQueryData at 0x11f075210>,\n",
       "  (('layer', 'L2'),\n",
       "   ('mtype', 'L6_MC'),\n",
       "   ('region',\n",
       "    'S1HL')): <neuro_dmt.models.bluebrain.circuit.adapter.query.SpatialQueryData at 0x11ce0f750>,\n",
       "  (('layer', 'L2'),\n",
       "   ('mtype', 'L6_TPC:A'),\n",
       "   ('region',\n",
       "    'S1HL')): <neuro_dmt.models.bluebrain.circuit.adapter.query.SpatialQueryData at 0x11ef29c90>,\n",
       "  (('layer', 'L2'),\n",
       "   ('mtype', 'L6_TPC:B'),\n",
       "   ('region',\n",
       "    'S1HL')): <neuro_dmt.models.bluebrain.circuit.adapter.query.SpatialQueryData at 0x11f078450>,\n",
       "  (('layer', 'L2'),\n",
       "   ('mtype', 'L6_UPC'),\n",
       "   ('region',\n",
       "    'S1HL')): <neuro_dmt.models.bluebrain.circuit.adapter.query.SpatialQueryData at 0x11cfb5b50>,\n",
       "  (('layer', 'L3'),\n",
       "   ('mtype', 'L1_DAC'),\n",
       "   ('region',\n",
       "    'S1HL')): <neuro_dmt.models.bluebrain.circuit.adapter.query.SpatialQueryData at 0x11cf183d0>,\n",
       "  (('layer', 'L3'),\n",
       "   ('mtype', 'L1_SLAC'),\n",
       "   ('region',\n",
       "    'S1HL')): <neuro_dmt.models.bluebrain.circuit.adapter.query.SpatialQueryData at 0x11efe5b10>,\n",
       "  (('layer', 'L3'),\n",
       "   ('mtype', 'L23_MC'),\n",
       "   ('region',\n",
       "    'S1HL')): <neuro_dmt.models.bluebrain.circuit.adapter.query.SpatialQueryData at 0x11ef56610>,\n",
       "  (('layer', 'L3'),\n",
       "   ('mtype', 'L23_ChC'),\n",
       "   ('region',\n",
       "    'S1HL')): <neuro_dmt.models.bluebrain.circuit.adapter.query.SpatialQueryData at 0x11f043c90>,\n",
       "  (('layer', 'L3'),\n",
       "   ('mtype', 'L23_SBC'),\n",
       "   ('region',\n",
       "    'S1HL')): <neuro_dmt.models.bluebrain.circuit.adapter.query.SpatialQueryData at 0x10b443d50>,\n",
       "  (('layer', 'L3'),\n",
       "   ('mtype', 'L4_LBC'),\n",
       "   ('region',\n",
       "    'S1HL')): <neuro_dmt.models.bluebrain.circuit.adapter.query.SpatialQueryData at 0x11f0a1bd0>,\n",
       "  (('layer', 'L3'),\n",
       "   ('mtype', 'L4_NGC'),\n",
       "   ('region',\n",
       "    'S1HL')): <neuro_dmt.models.bluebrain.circuit.adapter.query.SpatialQueryData at 0x11f01ee50>,\n",
       "  (('layer', 'L3'),\n",
       "   ('mtype', 'L4_TPC'),\n",
       "   ('region',\n",
       "    'S1HL')): <neuro_dmt.models.bluebrain.circuit.adapter.query.SpatialQueryData at 0x11f0a9d90>,\n",
       "  (('layer', 'L3'),\n",
       "   ('mtype', 'L5_DBC'),\n",
       "   ('region',\n",
       "    'S1HL')): <neuro_dmt.models.bluebrain.circuit.adapter.query.SpatialQueryData at 0x11efb3110>,\n",
       "  (('layer', 'L3'),\n",
       "   ('mtype', 'L5_MC'),\n",
       "   ('region',\n",
       "    'S1HL')): <neuro_dmt.models.bluebrain.circuit.adapter.query.SpatialQueryData at 0x11f00d950>,\n",
       "  (('layer', 'L3'),\n",
       "   ('mtype', 'L5_TPC:A'),\n",
       "   ('region',\n",
       "    'S1HL')): <neuro_dmt.models.bluebrain.circuit.adapter.query.SpatialQueryData at 0x11efd3950>,\n",
       "  (('layer', 'L3'),\n",
       "   ('mtype', 'L5_TPC:B'),\n",
       "   ('region',\n",
       "    'S1HL')): <neuro_dmt.models.bluebrain.circuit.adapter.query.SpatialQueryData at 0x11f0278d0>,\n",
       "  (('layer', 'L3'),\n",
       "   ('mtype', 'L5_UPC'),\n",
       "   ('region',\n",
       "    'S1HL')): <neuro_dmt.models.bluebrain.circuit.adapter.query.SpatialQueryData at 0x11f00d1d0>,\n",
       "  (('layer', 'L3'),\n",
       "   ('mtype', 'L6_ChC'),\n",
       "   ('region',\n",
       "    'S1HL')): <neuro_dmt.models.bluebrain.circuit.adapter.query.SpatialQueryData at 0x122322290>,\n",
       "  (('layer', 'L3'),\n",
       "   ('mtype', 'L6_IPC'),\n",
       "   ('region',\n",
       "    'S1HL')): <neuro_dmt.models.bluebrain.circuit.adapter.query.SpatialQueryData at 0x11487d310>,\n",
       "  (('layer', 'L3'),\n",
       "   ('mtype', 'L6_MC'),\n",
       "   ('region',\n",
       "    'S1HL')): <neuro_dmt.models.bluebrain.circuit.adapter.query.SpatialQueryData at 0x11f00db90>,\n",
       "  (('layer', 'L3'),\n",
       "   ('mtype', 'L6_TPC:A'),\n",
       "   ('region',\n",
       "    'S1HL')): <neuro_dmt.models.bluebrain.circuit.adapter.query.SpatialQueryData at 0x1206cad10>,\n",
       "  (('layer', 'L3'),\n",
       "   ('mtype', 'L6_TPC:B'),\n",
       "   ('region',\n",
       "    'S1HL')): <neuro_dmt.models.bluebrain.circuit.adapter.query.SpatialQueryData at 0x12262e790>,\n",
       "  (('layer', 'L3'),\n",
       "   ('mtype', 'L6_UPC'),\n",
       "   ('region',\n",
       "    'S1HL')): <neuro_dmt.models.bluebrain.circuit.adapter.query.SpatialQueryData at 0x123644190>,\n",
       "  (('layer', 'L4'),\n",
       "   ('mtype', 'L1_DAC'),\n",
       "   ('region',\n",
       "    'S1HL')): <neuro_dmt.models.bluebrain.circuit.adapter.query.SpatialQueryData at 0x123149950>,\n",
       "  (('layer', 'L4'),\n",
       "   ('mtype', 'L1_SLAC'),\n",
       "   ('region',\n",
       "    'S1HL')): <neuro_dmt.models.bluebrain.circuit.adapter.query.SpatialQueryData at 0x123149dd0>,\n",
       "  (('layer', 'L4'),\n",
       "   ('mtype', 'L23_MC'),\n",
       "   ('region',\n",
       "    'S1HL')): <neuro_dmt.models.bluebrain.circuit.adapter.query.SpatialQueryData at 0x1234e9550>,\n",
       "  (('layer', 'L4'),\n",
       "   ('mtype', 'L23_ChC'),\n",
       "   ('region',\n",
       "    'S1HL')): <neuro_dmt.models.bluebrain.circuit.adapter.query.SpatialQueryData at 0x1238a5750>,\n",
       "  (('layer', 'L4'),\n",
       "   ('mtype', 'L23_SBC'),\n",
       "   ('region',\n",
       "    'S1HL')): <neuro_dmt.models.bluebrain.circuit.adapter.query.SpatialQueryData at 0x1236d6050>,\n",
       "  (('layer', 'L4'),\n",
       "   ('mtype', 'L4_LBC'),\n",
       "   ('region',\n",
       "    'S1HL')): <neuro_dmt.models.bluebrain.circuit.adapter.query.SpatialQueryData at 0x1231497d0>,\n",
       "  (('layer', 'L4'),\n",
       "   ('mtype', 'L4_NGC'),\n",
       "   ('region',\n",
       "    'S1HL')): <neuro_dmt.models.bluebrain.circuit.adapter.query.SpatialQueryData at 0x1234e9090>,\n",
       "  (('layer', 'L4'),\n",
       "   ('mtype', 'L4_TPC'),\n",
       "   ('region',\n",
       "    'S1HL')): <neuro_dmt.models.bluebrain.circuit.adapter.query.SpatialQueryData at 0x1239f3950>,\n",
       "  (('layer', 'L4'),\n",
       "   ('mtype', 'L5_DBC'),\n",
       "   ('region',\n",
       "    'S1HL')): <neuro_dmt.models.bluebrain.circuit.adapter.query.SpatialQueryData at 0x123238c90>,\n",
       "  (('layer', 'L4'),\n",
       "   ('mtype', 'L5_MC'),\n",
       "   ('region',\n",
       "    'S1HL')): <neuro_dmt.models.bluebrain.circuit.adapter.query.SpatialQueryData at 0x123acb990>,\n",
       "  (('layer', 'L4'),\n",
       "   ('mtype', 'L5_TPC:A'),\n",
       "   ('region',\n",
       "    'S1HL')): <neuro_dmt.models.bluebrain.circuit.adapter.query.SpatialQueryData at 0x1237f2990>,\n",
       "  (('layer', 'L4'),\n",
       "   ('mtype', 'L5_TPC:B'),\n",
       "   ('region',\n",
       "    'S1HL')): <neuro_dmt.models.bluebrain.circuit.adapter.query.SpatialQueryData at 0x1237f22d0>,\n",
       "  (('layer', 'L4'),\n",
       "   ('mtype', 'L5_UPC'),\n",
       "   ('region',\n",
       "    'S1HL')): <neuro_dmt.models.bluebrain.circuit.adapter.query.SpatialQueryData at 0x12205c990>,\n",
       "  (('layer', 'L4'),\n",
       "   ('mtype', 'L6_ChC'),\n",
       "   ('region',\n",
       "    'S1HL')): <neuro_dmt.models.bluebrain.circuit.adapter.query.SpatialQueryData at 0x12205cd50>,\n",
       "  (('layer', 'L4'),\n",
       "   ('mtype', 'L6_IPC'),\n",
       "   ('region',\n",
       "    'S1HL')): <neuro_dmt.models.bluebrain.circuit.adapter.query.SpatialQueryData at 0x123d59f10>,\n",
       "  (('layer', 'L4'),\n",
       "   ('mtype', 'L6_MC'),\n",
       "   ('region',\n",
       "    'S1HL')): <neuro_dmt.models.bluebrain.circuit.adapter.query.SpatialQueryData at 0x123d59150>,\n",
       "  (('layer', 'L4'),\n",
       "   ('mtype', 'L6_TPC:A'),\n",
       "   ('region',\n",
       "    'S1HL')): <neuro_dmt.models.bluebrain.circuit.adapter.query.SpatialQueryData at 0x124788bd0>,\n",
       "  (('layer', 'L4'),\n",
       "   ('mtype', 'L6_TPC:B'),\n",
       "   ('region',\n",
       "    'S1HL')): <neuro_dmt.models.bluebrain.circuit.adapter.query.SpatialQueryData at 0x122c99590>,\n",
       "  (('layer', 'L4'),\n",
       "   ('mtype', 'L6_UPC'),\n",
       "   ('region',\n",
       "    'S1HL')): <neuro_dmt.models.bluebrain.circuit.adapter.query.SpatialQueryData at 0x123d59110>,\n",
       "  (('layer', 'L5'),\n",
       "   ('mtype', 'L1_DAC'),\n",
       "   ('region',\n",
       "    'S1HL')): <neuro_dmt.models.bluebrain.circuit.adapter.query.SpatialQueryData at 0x122c67950>,\n",
       "  (('layer', 'L5'),\n",
       "   ('mtype', 'L1_SLAC'),\n",
       "   ('region',\n",
       "    'S1HL')): <neuro_dmt.models.bluebrain.circuit.adapter.query.SpatialQueryData at 0x1247881d0>,\n",
       "  (('layer', 'L5'),\n",
       "   ('mtype', 'L23_MC'),\n",
       "   ('region',\n",
       "    'S1HL')): <neuro_dmt.models.bluebrain.circuit.adapter.query.SpatialQueryData at 0x1248abb50>,\n",
       "  (('layer', 'L5'),\n",
       "   ('mtype', 'L23_ChC'),\n",
       "   ('region',\n",
       "    'S1HL')): <neuro_dmt.models.bluebrain.circuit.adapter.query.SpatialQueryData at 0x122bba290>,\n",
       "  (('layer', 'L5'),\n",
       "   ('mtype', 'L23_SBC'),\n",
       "   ('region',\n",
       "    'S1HL')): <neuro_dmt.models.bluebrain.circuit.adapter.query.SpatialQueryData at 0x1248ab8d0>,\n",
       "  (('layer', 'L5'),\n",
       "   ('mtype', 'L4_LBC'),\n",
       "   ('region',\n",
       "    'S1HL')): <neuro_dmt.models.bluebrain.circuit.adapter.query.SpatialQueryData at 0x12495cbd0>,\n",
       "  (('layer', 'L5'),\n",
       "   ('mtype', 'L4_NGC'),\n",
       "   ('region',\n",
       "    'S1HL')): <neuro_dmt.models.bluebrain.circuit.adapter.query.SpatialQueryData at 0x12199e350>,\n",
       "  (('layer', 'L5'),\n",
       "   ('mtype', 'L4_TPC'),\n",
       "   ('region',\n",
       "    'S1HL')): <neuro_dmt.models.bluebrain.circuit.adapter.query.SpatialQueryData at 0x122bba810>,\n",
       "  (('layer', 'L5'),\n",
       "   ('mtype', 'L5_DBC'),\n",
       "   ('region',\n",
       "    'S1HL')): <neuro_dmt.models.bluebrain.circuit.adapter.query.SpatialQueryData at 0x124df2810>,\n",
       "  (('layer', 'L5'),\n",
       "   ('mtype', 'L5_MC'),\n",
       "   ('region',\n",
       "    'S1HL')): <neuro_dmt.models.bluebrain.circuit.adapter.query.SpatialQueryData at 0x122bbabd0>,\n",
       "  (('layer', 'L5'),\n",
       "   ('mtype', 'L5_TPC:A'),\n",
       "   ('region',\n",
       "    'S1HL')): <neuro_dmt.models.bluebrain.circuit.adapter.query.SpatialQueryData at 0x124c1cd90>,\n",
       "  (('layer', 'L5'),\n",
       "   ('mtype', 'L5_TPC:B'),\n",
       "   ('region',\n",
       "    'S1HL')): <neuro_dmt.models.bluebrain.circuit.adapter.query.SpatialQueryData at 0x12199ecd0>,\n",
       "  (('layer', 'L5'),\n",
       "   ('mtype', 'L5_UPC'),\n",
       "   ('region',\n",
       "    'S1HL')): <neuro_dmt.models.bluebrain.circuit.adapter.query.SpatialQueryData at 0x124a7ae90>,\n",
       "  (('layer', 'L5'),\n",
       "   ('mtype', 'L6_ChC'),\n",
       "   ('region',\n",
       "    'S1HL')): <neuro_dmt.models.bluebrain.circuit.adapter.query.SpatialQueryData at 0x124df2190>,\n",
       "  (('layer', 'L5'),\n",
       "   ('mtype', 'L6_IPC'),\n",
       "   ('region',\n",
       "    'S1HL')): <neuro_dmt.models.bluebrain.circuit.adapter.query.SpatialQueryData at 0x1246cf790>,\n",
       "  (('layer', 'L5'),\n",
       "   ('mtype', 'L6_MC'),\n",
       "   ('region',\n",
       "    'S1HL')): <neuro_dmt.models.bluebrain.circuit.adapter.query.SpatialQueryData at 0x1246cff10>,\n",
       "  (('layer', 'L5'),\n",
       "   ('mtype', 'L6_TPC:A'),\n",
       "   ('region',\n",
       "    'S1HL')): <neuro_dmt.models.bluebrain.circuit.adapter.query.SpatialQueryData at 0x124318950>,\n",
       "  (('layer', 'L5'),\n",
       "   ('mtype', 'L6_TPC:B'),\n",
       "   ('region',\n",
       "    'S1HL')): <neuro_dmt.models.bluebrain.circuit.adapter.query.SpatialQueryData at 0x1224ef990>,\n",
       "  (('layer', 'L5'),\n",
       "   ('mtype', 'L6_UPC'),\n",
       "   ('region',\n",
       "    'S1HL')): <neuro_dmt.models.bluebrain.circuit.adapter.query.SpatialQueryData at 0x124627bd0>,\n",
       "  (('layer', 'L6'),\n",
       "   ('mtype', 'L1_DAC'),\n",
       "   ('region',\n",
       "    'S1HL')): <neuro_dmt.models.bluebrain.circuit.adapter.query.SpatialQueryData at 0x123393350>,\n",
       "  (('layer', 'L6'),\n",
       "   ('mtype', 'L1_SLAC'),\n",
       "   ('region',\n",
       "    'S1HL')): <neuro_dmt.models.bluebrain.circuit.adapter.query.SpatialQueryData at 0x122afba90>,\n",
       "  (('layer', 'L6'),\n",
       "   ('mtype', 'L23_MC'),\n",
       "   ('region',\n",
       "    'S1HL')): <neuro_dmt.models.bluebrain.circuit.adapter.query.SpatialQueryData at 0x123393c90>,\n",
       "  (('layer', 'L6'),\n",
       "   ('mtype', 'L23_ChC'),\n",
       "   ('region',\n",
       "    'S1HL')): <neuro_dmt.models.bluebrain.circuit.adapter.query.SpatialQueryData at 0x124627550>,\n",
       "  (('layer', 'L6'),\n",
       "   ('mtype', 'L23_SBC'),\n",
       "   ('region',\n",
       "    'S1HL')): <neuro_dmt.models.bluebrain.circuit.adapter.query.SpatialQueryData at 0x1254d1510>,\n",
       "  (('layer', 'L6'),\n",
       "   ('mtype', 'L4_LBC'),\n",
       "   ('region',\n",
       "    'S1HL')): <neuro_dmt.models.bluebrain.circuit.adapter.query.SpatialQueryData at 0x125118f90>,\n",
       "  (('layer', 'L6'),\n",
       "   ('mtype', 'L4_NGC'),\n",
       "   ('region',\n",
       "    'S1HL')): <neuro_dmt.models.bluebrain.circuit.adapter.query.SpatialQueryData at 0x1257e4210>,\n",
       "  (('layer', 'L6'),\n",
       "   ('mtype', 'L4_TPC'),\n",
       "   ('region',\n",
       "    'S1HL')): <neuro_dmt.models.bluebrain.circuit.adapter.query.SpatialQueryData at 0x1250f3050>,\n",
       "  (('layer', 'L6'),\n",
       "   ('mtype', 'L5_DBC'),\n",
       "   ('region',\n",
       "    'S1HL')): <neuro_dmt.models.bluebrain.circuit.adapter.query.SpatialQueryData at 0x1250f3d90>,\n",
       "  (('layer', 'L6'),\n",
       "   ('mtype', 'L5_MC'),\n",
       "   ('region',\n",
       "    'S1HL')): <neuro_dmt.models.bluebrain.circuit.adapter.query.SpatialQueryData at 0x1254d1e90>,\n",
       "  (('layer', 'L6'),\n",
       "   ('mtype', 'L5_TPC:A'),\n",
       "   ('region',\n",
       "    'S1HL')): <neuro_dmt.models.bluebrain.circuit.adapter.query.SpatialQueryData at 0x1257e40d0>,\n",
       "  (('layer', 'L6'),\n",
       "   ('mtype', 'L5_TPC:B'),\n",
       "   ('region',\n",
       "    'S1HL')): <neuro_dmt.models.bluebrain.circuit.adapter.query.SpatialQueryData at 0x125a86610>,\n",
       "  (('layer', 'L6'),\n",
       "   ('mtype', 'L5_UPC'),\n",
       "   ('region',\n",
       "    'S1HL')): <neuro_dmt.models.bluebrain.circuit.adapter.query.SpatialQueryData at 0x1252d6bd0>,\n",
       "  (('layer', 'L6'),\n",
       "   ('mtype', 'L6_ChC'),\n",
       "   ('region',\n",
       "    'S1HL')): <neuro_dmt.models.bluebrain.circuit.adapter.query.SpatialQueryData at 0x124f97590>,\n",
       "  (('layer', 'L6'),\n",
       "   ('mtype', 'L6_IPC'),\n",
       "   ('region',\n",
       "    'S1HL')): <neuro_dmt.models.bluebrain.circuit.adapter.query.SpatialQueryData at 0x124f97c50>,\n",
       "  (('layer', 'L6'),\n",
       "   ('mtype', 'L6_MC'),\n",
       "   ('region',\n",
       "    'S1HL')): <neuro_dmt.models.bluebrain.circuit.adapter.query.SpatialQueryData at 0x125928090>,\n",
       "  (('layer', 'L6'),\n",
       "   ('mtype', 'L6_TPC:A'),\n",
       "   ('region',\n",
       "    'S1HL')): <neuro_dmt.models.bluebrain.circuit.adapter.query.SpatialQueryData at 0x124b53590>,\n",
       "  (('layer', 'L6'),\n",
       "   ('mtype', 'L6_TPC:B'),\n",
       "   ('region',\n",
       "    'S1HL')): <neuro_dmt.models.bluebrain.circuit.adapter.query.SpatialQueryData at 0x1259f1990>,\n",
       "  (('layer', 'L6'),\n",
       "   ('mtype', 'L6_UPC'),\n",
       "   ('region',\n",
       "    'S1HL')): <neuro_dmt.models.bluebrain.circuit.adapter.query.SpatialQueryData at 0x125928550>,\n",
       "  (('layer', 'L1'),\n",
       "   ('mtype', 'L1_DAC'),\n",
       "   ('region',\n",
       "    'S1FL')): <neuro_dmt.models.bluebrain.circuit.adapter.query.SpatialQueryData at 0x124b53410>,\n",
       "  (('layer', 'L1'),\n",
       "   ('mtype', 'L1_SLAC'),\n",
       "   ('region',\n",
       "    'S1FL')): <neuro_dmt.models.bluebrain.circuit.adapter.query.SpatialQueryData at 0x125b191d0>,\n",
       "  (('layer', 'L1'),\n",
       "   ('mtype', 'L23_MC'),\n",
       "   ('region',\n",
       "    'S1FL')): <neuro_dmt.models.bluebrain.circuit.adapter.query.SpatialQueryData at 0x1260418d0>,\n",
       "  (('layer', 'L1'),\n",
       "   ('mtype', 'L23_ChC'),\n",
       "   ('region',\n",
       "    'S1FL')): <neuro_dmt.models.bluebrain.circuit.adapter.query.SpatialQueryData at 0x125d286d0>,\n",
       "  (('layer', 'L1'),\n",
       "   ('mtype', 'L23_SBC'),\n",
       "   ('region',\n",
       "    'S1FL')): <neuro_dmt.models.bluebrain.circuit.adapter.query.SpatialQueryData at 0x125d28650>,\n",
       "  (('layer', 'L1'),\n",
       "   ('mtype', 'L4_LBC'),\n",
       "   ('region',\n",
       "    'S1FL')): <neuro_dmt.models.bluebrain.circuit.adapter.query.SpatialQueryData at 0x126041e50>,\n",
       "  (('layer', 'L1'),\n",
       "   ('mtype', 'L4_NGC'),\n",
       "   ('region',\n",
       "    'S1FL')): <neuro_dmt.models.bluebrain.circuit.adapter.query.SpatialQueryData at 0x125928c90>,\n",
       "  (('layer', 'L1'),\n",
       "   ('mtype', 'L4_TPC'),\n",
       "   ('region',\n",
       "    'S1FL')): <neuro_dmt.models.bluebrain.circuit.adapter.query.SpatialQueryData at 0x125c67e90>,\n",
       "  (('layer', 'L1'),\n",
       "   ('mtype', 'L5_DBC'),\n",
       "   ('region',\n",
       "    'S1FL')): <neuro_dmt.models.bluebrain.circuit.adapter.query.SpatialQueryData at 0x125c45690>,\n",
       "  (('layer', 'L1'),\n",
       "   ('mtype', 'L5_MC'),\n",
       "   ('region',\n",
       "    'S1FL')): <neuro_dmt.models.bluebrain.circuit.adapter.query.SpatialQueryData at 0x1256b8f50>,\n",
       "  (('layer', 'L1'),\n",
       "   ('mtype', 'L5_TPC:A'),\n",
       "   ('region',\n",
       "    'S1FL')): <neuro_dmt.models.bluebrain.circuit.adapter.query.SpatialQueryData at 0x1260408d0>,\n",
       "  (('layer', 'L1'),\n",
       "   ('mtype', 'L5_TPC:B'),\n",
       "   ('region',\n",
       "    'S1FL')): <neuro_dmt.models.bluebrain.circuit.adapter.query.SpatialQueryData at 0x125fa0590>,\n",
       "  (('layer', 'L1'),\n",
       "   ('mtype', 'L5_UPC'),\n",
       "   ('region',\n",
       "    'S1FL')): <neuro_dmt.models.bluebrain.circuit.adapter.query.SpatialQueryData at 0x124e82250>,\n",
       "  (('layer', 'L1'),\n",
       "   ('mtype', 'L6_ChC'),\n",
       "   ('region',\n",
       "    'S1FL')): <neuro_dmt.models.bluebrain.circuit.adapter.query.SpatialQueryData at 0x125fa0d50>,\n",
       "  (('layer', 'L1'),\n",
       "   ('mtype', 'L6_IPC'),\n",
       "   ('region',\n",
       "    'S1FL')): <neuro_dmt.models.bluebrain.circuit.adapter.query.SpatialQueryData at 0x1253809d0>,\n",
       "  (('layer', 'L1'),\n",
       "   ('mtype', 'L6_MC'),\n",
       "   ('region',\n",
       "    'S1FL')): <neuro_dmt.models.bluebrain.circuit.adapter.query.SpatialQueryData at 0x126726790>,\n",
       "  (('layer', 'L1'),\n",
       "   ('mtype', 'L6_TPC:A'),\n",
       "   ('region',\n",
       "    'S1FL')): <neuro_dmt.models.bluebrain.circuit.adapter.query.SpatialQueryData at 0x126b7d3d0>,\n",
       "  (('layer', 'L1'),\n",
       "   ('mtype', 'L6_TPC:B'),\n",
       "   ('region',\n",
       "    'S1FL')): <neuro_dmt.models.bluebrain.circuit.adapter.query.SpatialQueryData at 0x126726190>,\n",
       "  (('layer', 'L1'),\n",
       "   ('mtype', 'L6_UPC'),\n",
       "   ('region',\n",
       "    'S1FL')): <neuro_dmt.models.bluebrain.circuit.adapter.query.SpatialQueryData at 0x126b7d210>,\n",
       "  (('layer', 'L2'),\n",
       "   ('mtype', 'L1_DAC'),\n",
       "   ('region',\n",
       "    'S1FL')): <neuro_dmt.models.bluebrain.circuit.adapter.query.SpatialQueryData at 0x1265e2c10>,\n",
       "  (('layer', 'L2'),\n",
       "   ('mtype', 'L1_SLAC'),\n",
       "   ('region',\n",
       "    'S1FL')): <neuro_dmt.models.bluebrain.circuit.adapter.query.SpatialQueryData at 0x125ee7210>,\n",
       "  (('layer', 'L2'),\n",
       "   ('mtype', 'L23_MC'),\n",
       "   ('region',\n",
       "    'S1FL')): <neuro_dmt.models.bluebrain.circuit.adapter.query.SpatialQueryData at 0x126b7d190>,\n",
       "  (('layer', 'L2'),\n",
       "   ('mtype', 'L23_ChC'),\n",
       "   ('region',\n",
       "    'S1FL')): <neuro_dmt.models.bluebrain.circuit.adapter.query.SpatialQueryData at 0x125594850>,\n",
       "  (('layer', 'L2'),\n",
       "   ('mtype', 'L23_SBC'),\n",
       "   ('region',\n",
       "    'S1FL')): <neuro_dmt.models.bluebrain.circuit.adapter.query.SpatialQueryData at 0x125594990>,\n",
       "  (('layer', 'L2'),\n",
       "   ('mtype', 'L4_LBC'),\n",
       "   ('region',\n",
       "    'S1FL')): <neuro_dmt.models.bluebrain.circuit.adapter.query.SpatialQueryData at 0x125593690>,\n",
       "  (('layer', 'L2'),\n",
       "   ('mtype', 'L4_NGC'),\n",
       "   ('region',\n",
       "    'S1FL')): <neuro_dmt.models.bluebrain.circuit.adapter.query.SpatialQueryData at 0x1269d0210>,\n",
       "  (('layer', 'L2'),\n",
       "   ('mtype', 'L4_TPC'),\n",
       "   ('region',\n",
       "    'S1FL')): <neuro_dmt.models.bluebrain.circuit.adapter.query.SpatialQueryData at 0x125ee7810>,\n",
       "  (('layer', 'L2'),\n",
       "   ('mtype', 'L5_DBC'),\n",
       "   ('region',\n",
       "    'S1FL')): <neuro_dmt.models.bluebrain.circuit.adapter.query.SpatialQueryData at 0x1273d5410>,\n",
       "  (('layer', 'L2'),\n",
       "   ('mtype', 'L5_MC'),\n",
       "   ('region',\n",
       "    'S1FL')): <neuro_dmt.models.bluebrain.circuit.adapter.query.SpatialQueryData at 0x127170c50>,\n",
       "  (('layer', 'L2'),\n",
       "   ('mtype', 'L5_TPC:A'),\n",
       "   ('region',\n",
       "    'S1FL')): <neuro_dmt.models.bluebrain.circuit.adapter.query.SpatialQueryData at 0x125efca10>,\n",
       "  (('layer', 'L2'),\n",
       "   ('mtype', 'L5_TPC:B'),\n",
       "   ('region',\n",
       "    'S1FL')): <neuro_dmt.models.bluebrain.circuit.adapter.query.SpatialQueryData at 0x125233610>,\n",
       "  (('layer', 'L2'),\n",
       "   ('mtype', 'L5_UPC'),\n",
       "   ('region',\n",
       "    'S1FL')): <neuro_dmt.models.bluebrain.circuit.adapter.query.SpatialQueryData at 0x1273d2dd0>,\n",
       "  (('layer', 'L2'),\n",
       "   ('mtype', 'L6_ChC'),\n",
       "   ('region',\n",
       "    'S1FL')): <neuro_dmt.models.bluebrain.circuit.adapter.query.SpatialQueryData at 0x126859e50>,\n",
       "  (('layer', 'L2'),\n",
       "   ('mtype', 'L6_IPC'),\n",
       "   ('region',\n",
       "    'S1FL')): <neuro_dmt.models.bluebrain.circuit.adapter.query.SpatialQueryData at 0x126859d10>,\n",
       "  (('layer', 'L2'),\n",
       "   ('mtype', 'L6_MC'),\n",
       "   ('region',\n",
       "    'S1FL')): <neuro_dmt.models.bluebrain.circuit.adapter.query.SpatialQueryData at 0x1273d2110>,\n",
       "  (('layer', 'L2'),\n",
       "   ('mtype', 'L6_TPC:A'),\n",
       "   ('region',\n",
       "    'S1FL')): <neuro_dmt.models.bluebrain.circuit.adapter.query.SpatialQueryData at 0x127282190>,\n",
       "  (('layer', 'L2'),\n",
       "   ('mtype', 'L6_TPC:B'),\n",
       "   ('region',\n",
       "    'S1FL')): <neuro_dmt.models.bluebrain.circuit.adapter.query.SpatialQueryData at 0x12770b590>,\n",
       "  (('layer', 'L2'),\n",
       "   ('mtype', 'L6_UPC'),\n",
       "   ('region',\n",
       "    'S1FL')): <neuro_dmt.models.bluebrain.circuit.adapter.query.SpatialQueryData at 0x12649e250>,\n",
       "  (('layer', 'L3'),\n",
       "   ('mtype', 'L1_DAC'),\n",
       "   ('region',\n",
       "    'S1FL')): <neuro_dmt.models.bluebrain.circuit.adapter.query.SpatialQueryData at 0x126c45790>,\n",
       "  (('layer', 'L3'),\n",
       "   ('mtype', 'L1_SLAC'),\n",
       "   ('region',\n",
       "    'S1FL')): <neuro_dmt.models.bluebrain.circuit.adapter.query.SpatialQueryData at 0x126921e90>,\n",
       "  (('layer', 'L3'),\n",
       "   ('mtype', 'L23_MC'),\n",
       "   ('region',\n",
       "    'S1FL')): <neuro_dmt.models.bluebrain.circuit.adapter.query.SpatialQueryData at 0x12770be50>,\n",
       "  (('layer', 'L3'),\n",
       "   ('mtype', 'L23_ChC'),\n",
       "   ('region',\n",
       "    'S1FL')): <neuro_dmt.models.bluebrain.circuit.adapter.query.SpatialQueryData at 0x126c45490>,\n",
       "  (('layer', 'L3'),\n",
       "   ('mtype', 'L23_SBC'),\n",
       "   ('region',\n",
       "    'S1FL')): <neuro_dmt.models.bluebrain.circuit.adapter.query.SpatialQueryData at 0x126921190>,\n",
       "  (('layer', 'L3'),\n",
       "   ('mtype', 'L4_LBC'),\n",
       "   ('region',\n",
       "    'S1FL')): <neuro_dmt.models.bluebrain.circuit.adapter.query.SpatialQueryData at 0x12667e210>,\n",
       "  (('layer', 'L3'),\n",
       "   ('mtype', 'L4_NGC'),\n",
       "   ('region',\n",
       "    'S1FL')): <neuro_dmt.models.bluebrain.circuit.adapter.query.SpatialQueryData at 0x126a67c90>,\n",
       "  (('layer', 'L3'),\n",
       "   ('mtype', 'L4_TPC'),\n",
       "   ('region',\n",
       "    'S1FL')): <neuro_dmt.models.bluebrain.circuit.adapter.query.SpatialQueryData at 0x12667e090>,\n",
       "  (('layer', 'L3'),\n",
       "   ('mtype', 'L5_DBC'),\n",
       "   ('region',\n",
       "    'S1FL')): <neuro_dmt.models.bluebrain.circuit.adapter.query.SpatialQueryData at 0x1275a6150>,\n",
       "  (('layer', 'L3'),\n",
       "   ('mtype', 'L5_MC'),\n",
       "   ('region',\n",
       "    'S1FL')): <neuro_dmt.models.bluebrain.circuit.adapter.query.SpatialQueryData at 0x127660e50>,\n",
       "  (('layer', 'L3'),\n",
       "   ('mtype', 'L5_TPC:A'),\n",
       "   ('region',\n",
       "    'S1FL')): <neuro_dmt.models.bluebrain.circuit.adapter.query.SpatialQueryData at 0x127ab6550>,\n",
       "  (('layer', 'L3'),\n",
       "   ('mtype', 'L5_TPC:B'),\n",
       "   ('region',\n",
       "    'S1FL')): <neuro_dmt.models.bluebrain.circuit.adapter.query.SpatialQueryData at 0x1275dc990>,\n",
       "  (('layer', 'L3'),\n",
       "   ('mtype', 'L5_UPC'),\n",
       "   ('region',\n",
       "    'S1FL')): <neuro_dmt.models.bluebrain.circuit.adapter.query.SpatialQueryData at 0x127ab6710>,\n",
       "  (('layer', 'L3'),\n",
       "   ('mtype', 'L6_ChC'),\n",
       "   ('region',\n",
       "    'S1FL')): <neuro_dmt.models.bluebrain.circuit.adapter.query.SpatialQueryData at 0x127660f50>,\n",
       "  (('layer', 'L3'),\n",
       "   ('mtype', 'L6_IPC'),\n",
       "   ('region',\n",
       "    'S1FL')): <neuro_dmt.models.bluebrain.circuit.adapter.query.SpatialQueryData at 0x127660e10>,\n",
       "  (('layer', 'L3'),\n",
       "   ('mtype', 'L6_MC'),\n",
       "   ('region',\n",
       "    'S1FL')): <neuro_dmt.models.bluebrain.circuit.adapter.query.SpatialQueryData at 0x127e03210>,\n",
       "  (('layer', 'L3'),\n",
       "   ('mtype', 'L6_TPC:A'),\n",
       "   ('region',\n",
       "    'S1FL')): <neuro_dmt.models.bluebrain.circuit.adapter.query.SpatialQueryData at 0x126cf8990>,\n",
       "  (('layer', 'L3'),\n",
       "   ('mtype', 'L6_TPC:B'),\n",
       "   ('region',\n",
       "    'S1FL')): <neuro_dmt.models.bluebrain.circuit.adapter.query.SpatialQueryData at 0x127e03810>,\n",
       "  (('layer', 'L3'),\n",
       "   ('mtype', 'L6_UPC'),\n",
       "   ('region',\n",
       "    'S1FL')): <neuro_dmt.models.bluebrain.circuit.adapter.query.SpatialQueryData at 0x128095910>,\n",
       "  (('layer', 'L4'),\n",
       "   ('mtype', 'L1_DAC'),\n",
       "   ('region',\n",
       "    'S1FL')): <neuro_dmt.models.bluebrain.circuit.adapter.query.SpatialQueryData at 0x12791a390>,\n",
       "  (('layer', 'L4'),\n",
       "   ('mtype', 'L1_SLAC'),\n",
       "   ('region',\n",
       "    'S1FL')): <neuro_dmt.models.bluebrain.circuit.adapter.query.SpatialQueryData at 0x1282fc290>,\n",
       "  (('layer', 'L4'),\n",
       "   ('mtype', 'L23_MC'),\n",
       "   ('region',\n",
       "    'S1FL')): <neuro_dmt.models.bluebrain.circuit.adapter.query.SpatialQueryData at 0x1284f4b50>,\n",
       "  (('layer', 'L4'),\n",
       "   ('mtype', 'L23_ChC'),\n",
       "   ('region',\n",
       "    'S1FL')): <neuro_dmt.models.bluebrain.circuit.adapter.query.SpatialQueryData at 0x1282fc0d0>,\n",
       "  (('layer', 'L4'),\n",
       "   ('mtype', 'L23_SBC'),\n",
       "   ('region',\n",
       "    'S1FL')): <neuro_dmt.models.bluebrain.circuit.adapter.query.SpatialQueryData at 0x1284f44d0>,\n",
       "  (('layer', 'L4'),\n",
       "   ('mtype', 'L4_LBC'),\n",
       "   ('region',\n",
       "    'S1FL')): <neuro_dmt.models.bluebrain.circuit.adapter.query.SpatialQueryData at 0x1282fcc50>,\n",
       "  (('layer', 'L4'),\n",
       "   ('mtype', 'L4_NGC'),\n",
       "   ('region',\n",
       "    'S1FL')): <neuro_dmt.models.bluebrain.circuit.adapter.query.SpatialQueryData at 0x1270cedd0>,\n",
       "  (('layer', 'L4'),\n",
       "   ('mtype', 'L4_TPC'),\n",
       "   ('region',\n",
       "    'S1FL')): <neuro_dmt.models.bluebrain.circuit.adapter.query.SpatialQueryData at 0x1270cee10>,\n",
       "  (('layer', 'L4'),\n",
       "   ('mtype', 'L5_DBC'),\n",
       "   ('region',\n",
       "    'S1FL')): <neuro_dmt.models.bluebrain.circuit.adapter.query.SpatialQueryData at 0x128794e50>,\n",
       "  (('layer', 'L4'),\n",
       "   ('mtype', 'L5_MC'),\n",
       "   ('region',\n",
       "    'S1FL')): <neuro_dmt.models.bluebrain.circuit.adapter.query.SpatialQueryData at 0x12895cb50>,\n",
       "  (('layer', 'L4'),\n",
       "   ('mtype', 'L5_TPC:A'),\n",
       "   ('region',\n",
       "    'S1FL')): <neuro_dmt.models.bluebrain.circuit.adapter.query.SpatialQueryData at 0x12895c990>,\n",
       "  (('layer', 'L4'),\n",
       "   ('mtype', 'L5_TPC:B'),\n",
       "   ('region',\n",
       "    'S1FL')): <neuro_dmt.models.bluebrain.circuit.adapter.query.SpatialQueryData at 0x1270ce410>,\n",
       "  (('layer', 'L4'),\n",
       "   ('mtype', 'L5_UPC'),\n",
       "   ('region',\n",
       "    'S1FL')): <neuro_dmt.models.bluebrain.circuit.adapter.query.SpatialQueryData at 0x12895c090>,\n",
       "  (('layer', 'L4'),\n",
       "   ('mtype', 'L6_ChC'),\n",
       "   ('region',\n",
       "    'S1FL')): <neuro_dmt.models.bluebrain.circuit.adapter.query.SpatialQueryData at 0x1289414d0>,\n",
       "  (('layer', 'L4'),\n",
       "   ('mtype', 'L6_IPC'),\n",
       "   ('region',\n",
       "    'S1FL')): <neuro_dmt.models.bluebrain.circuit.adapter.query.SpatialQueryData at 0x1286e5490>,\n",
       "  (('layer', 'L4'),\n",
       "   ('mtype', 'L6_MC'),\n",
       "   ('region',\n",
       "    'S1FL')): <neuro_dmt.models.bluebrain.circuit.adapter.query.SpatialQueryData at 0x127844050>,\n",
       "  (('layer', 'L4'),\n",
       "   ('mtype', 'L6_TPC:A'),\n",
       "   ('region',\n",
       "    'S1FL')): <neuro_dmt.models.bluebrain.circuit.adapter.query.SpatialQueryData at 0x128ab6250>,\n",
       "  (('layer', 'L4'),\n",
       "   ('mtype', 'L6_TPC:B'),\n",
       "   ('region',\n",
       "    'S1FL')): <neuro_dmt.models.bluebrain.circuit.adapter.query.SpatialQueryData at 0x128ab6950>,\n",
       "  (('layer', 'L4'),\n",
       "   ('mtype', 'L6_UPC'),\n",
       "   ('region',\n",
       "    'S1FL')): <neuro_dmt.models.bluebrain.circuit.adapter.query.SpatialQueryData at 0x1286e57d0>,\n",
       "  (('layer', 'L5'),\n",
       "   ('mtype', 'L1_DAC'),\n",
       "   ('region',\n",
       "    'S1FL')): <neuro_dmt.models.bluebrain.circuit.adapter.query.SpatialQueryData at 0x1286e5610>,\n",
       "  (('layer', 'L5'),\n",
       "   ('mtype', 'L1_SLAC'),\n",
       "   ('region',\n",
       "    'S1FL')): <neuro_dmt.models.bluebrain.circuit.adapter.query.SpatialQueryData at 0x127844490>,\n",
       "  (('layer', 'L5'),\n",
       "   ('mtype', 'L23_MC'),\n",
       "   ('region',\n",
       "    'S1FL')): <neuro_dmt.models.bluebrain.circuit.adapter.query.SpatialQueryData at 0x1289ed5d0>,\n",
       "  (('layer', 'L5'),\n",
       "   ('mtype', 'L23_ChC'),\n",
       "   ('region',\n",
       "    'S1FL')): <neuro_dmt.models.bluebrain.circuit.adapter.query.SpatialQueryData at 0x128826350>,\n",
       "  (('layer', 'L5'),\n",
       "   ('mtype', 'L23_SBC'),\n",
       "   ('region',\n",
       "    'S1FL')): <neuro_dmt.models.bluebrain.circuit.adapter.query.SpatialQueryData at 0x128e57c90>,\n",
       "  (('layer', 'L5'),\n",
       "   ('mtype', 'L4_LBC'),\n",
       "   ('region',\n",
       "    'S1FL')): <neuro_dmt.models.bluebrain.circuit.adapter.query.SpatialQueryData at 0x12926af50>,\n",
       "  (('layer', 'L5'),\n",
       "   ('mtype', 'L4_NGC'),\n",
       "   ('region',\n",
       "    'S1FL')): <neuro_dmt.models.bluebrain.circuit.adapter.query.SpatialQueryData at 0x12926aa50>,\n",
       "  (('layer', 'L5'),\n",
       "   ('mtype', 'L4_TPC'),\n",
       "   ('region',\n",
       "    'S1FL')): <neuro_dmt.models.bluebrain.circuit.adapter.query.SpatialQueryData at 0x1288264d0>,\n",
       "  (('layer', 'L5'),\n",
       "   ('mtype', 'L5_DBC'),\n",
       "   ('region',\n",
       "    'S1FL')): <neuro_dmt.models.bluebrain.circuit.adapter.query.SpatialQueryData at 0x1295e5f90>,\n",
       "  (('layer', 'L5'),\n",
       "   ('mtype', 'L5_MC'),\n",
       "   ('region',\n",
       "    'S1FL')): <neuro_dmt.models.bluebrain.circuit.adapter.query.SpatialQueryData at 0x128d1ff90>,\n",
       "  (('layer', 'L5'),\n",
       "   ('mtype', 'L5_TPC:A'),\n",
       "   ('region',\n",
       "    'S1FL')): <neuro_dmt.models.bluebrain.circuit.adapter.query.SpatialQueryData at 0x12935b1d0>,\n",
       "  (('layer', 'L5'),\n",
       "   ('mtype', 'L5_TPC:B'),\n",
       "   ('region',\n",
       "    'S1FL')): <neuro_dmt.models.bluebrain.circuit.adapter.query.SpatialQueryData at 0x1291b6550>,\n",
       "  (('layer', 'L5'),\n",
       "   ('mtype', 'L5_UPC'),\n",
       "   ('region',\n",
       "    'S1FL')): <neuro_dmt.models.bluebrain.circuit.adapter.query.SpatialQueryData at 0x129421bd0>,\n",
       "  (('layer', 'L5'),\n",
       "   ('mtype', 'L6_ChC'),\n",
       "   ('region',\n",
       "    'S1FL')): <neuro_dmt.models.bluebrain.circuit.adapter.query.SpatialQueryData at 0x12935b410>,\n",
       "  (('layer', 'L5'),\n",
       "   ('mtype', 'L6_IPC'),\n",
       "   ('region',\n",
       "    'S1FL')): <neuro_dmt.models.bluebrain.circuit.adapter.query.SpatialQueryData at 0x128fbf7d0>,\n",
       "  (('layer', 'L5'),\n",
       "   ('mtype', 'L6_MC'),\n",
       "   ('region',\n",
       "    'S1FL')): <neuro_dmt.models.bluebrain.circuit.adapter.query.SpatialQueryData at 0x1295e5d90>,\n",
       "  (('layer', 'L5'),\n",
       "   ('mtype', 'L6_TPC:A'),\n",
       "   ('region',\n",
       "    'S1FL')): <neuro_dmt.models.bluebrain.circuit.adapter.query.SpatialQueryData at 0x129b9c650>,\n",
       "  (('layer', 'L5'),\n",
       "   ('mtype', 'L6_TPC:B'),\n",
       "   ('region',\n",
       "    'S1FL')): <neuro_dmt.models.bluebrain.circuit.adapter.query.SpatialQueryData at 0x129b9ca50>,\n",
       "  (('layer', 'L5'),\n",
       "   ('mtype', 'L6_UPC'),\n",
       "   ('region',\n",
       "    'S1FL')): <neuro_dmt.models.bluebrain.circuit.adapter.query.SpatialQueryData at 0x1298850d0>,\n",
       "  (('layer', 'L6'),\n",
       "   ('mtype', 'L1_DAC'),\n",
       "   ('region',\n",
       "    'S1FL')): <neuro_dmt.models.bluebrain.circuit.adapter.query.SpatialQueryData at 0x129d03290>,\n",
       "  (('layer', 'L6'),\n",
       "   ('mtype', 'L1_SLAC'),\n",
       "   ('region',\n",
       "    'S1FL')): <neuro_dmt.models.bluebrain.circuit.adapter.query.SpatialQueryData at 0x12992dc90>,\n",
       "  (('layer', 'L6'),\n",
       "   ('mtype', 'L23_MC'),\n",
       "   ('region',\n",
       "    'S1FL')): <neuro_dmt.models.bluebrain.circuit.adapter.query.SpatialQueryData at 0x129b9c1d0>,\n",
       "  (('layer', 'L6'),\n",
       "   ('mtype', 'L23_ChC'),\n",
       "   ('region',\n",
       "    'S1FL')): <neuro_dmt.models.bluebrain.circuit.adapter.query.SpatialQueryData at 0x1299c9610>,\n",
       "  (('layer', 'L6'),\n",
       "   ('mtype', 'L23_SBC'),\n",
       "   ('region',\n",
       "    'S1FL')): <neuro_dmt.models.bluebrain.circuit.adapter.query.SpatialQueryData at 0x129e5a550>,\n",
       "  (('layer', 'L6'),\n",
       "   ('mtype', 'L4_LBC'),\n",
       "   ('region',\n",
       "    'S1FL')): <neuro_dmt.models.bluebrain.circuit.adapter.query.SpatialQueryData at 0x1299c9d50>,\n",
       "  (('layer', 'L6'),\n",
       "   ('mtype', 'L4_NGC'),\n",
       "   ('region',\n",
       "    'S1FL')): <neuro_dmt.models.bluebrain.circuit.adapter.query.SpatialQueryData at 0x129e5af90>,\n",
       "  (('layer', 'L6'),\n",
       "   ('mtype', 'L4_TPC'),\n",
       "   ('region',\n",
       "    'S1FL')): <neuro_dmt.models.bluebrain.circuit.adapter.query.SpatialQueryData at 0x129d03ed0>,\n",
       "  (('layer', 'L6'),\n",
       "   ('mtype', 'L5_DBC'),\n",
       "   ('region',\n",
       "    'S1FL')): <neuro_dmt.models.bluebrain.circuit.adapter.query.SpatialQueryData at 0x129d03a10>,\n",
       "  (('layer', 'L6'),\n",
       "   ('mtype', 'L5_MC'),\n",
       "   ('region',\n",
       "    'S1FL')): <neuro_dmt.models.bluebrain.circuit.adapter.query.SpatialQueryData at 0x12a0e1810>,\n",
       "  (('layer', 'L6'),\n",
       "   ('mtype', 'L5_TPC:A'),\n",
       "   ('region',\n",
       "    'S1FL')): <neuro_dmt.models.bluebrain.circuit.adapter.query.SpatialQueryData at 0x129d03310>,\n",
       "  (('layer', 'L6'),\n",
       "   ('mtype', 'L5_TPC:B'),\n",
       "   ('region',\n",
       "    'S1FL')): <neuro_dmt.models.bluebrain.circuit.adapter.query.SpatialQueryData at 0x1297557d0>,\n",
       "  (('layer', 'L6'),\n",
       "   ('mtype', 'L5_UPC'),\n",
       "   ('region',\n",
       "    'S1FL')): <neuro_dmt.models.bluebrain.circuit.adapter.query.SpatialQueryData at 0x12a41a110>,\n",
       "  (('layer', 'L6'),\n",
       "   ('mtype', 'L6_ChC'),\n",
       "   ('region',\n",
       "    'S1FL')): <neuro_dmt.models.bluebrain.circuit.adapter.query.SpatialQueryData at 0x12a345d50>,\n",
       "  (('layer', 'L6'),\n",
       "   ('mtype', 'L6_IPC'),\n",
       "   ('region',\n",
       "    'S1FL')): <neuro_dmt.models.bluebrain.circuit.adapter.query.SpatialQueryData at 0x129e5a410>,\n",
       "  (('layer', 'L6'),\n",
       "   ('mtype', 'L6_MC'),\n",
       "   ('region',\n",
       "    'S1FL')): <neuro_dmt.models.bluebrain.circuit.adapter.query.SpatialQueryData at 0x129af83d0>,\n",
       "  (('layer', 'L6'),\n",
       "   ('mtype', 'L6_TPC:A'),\n",
       "   ('region',\n",
       "    'S1FL')): <neuro_dmt.models.bluebrain.circuit.adapter.query.SpatialQueryData at 0x12a345050>,\n",
       "  (('layer', 'L6'),\n",
       "   ('mtype', 'L6_TPC:B'),\n",
       "   ('region',\n",
       "    'S1FL')): <neuro_dmt.models.bluebrain.circuit.adapter.query.SpatialQueryData at 0x129ffb490>,\n",
       "  (('layer', 'L6'),\n",
       "   ('mtype', 'L6_UPC'),\n",
       "   ('region',\n",
       "    'S1FL')): <neuro_dmt.models.bluebrain.circuit.adapter.query.SpatialQueryData at 0x127b661d0>,\n",
       "  (('layer', 'L1'),\n",
       "   ('mtype', 'L1_DAC'),\n",
       "   ('region',\n",
       "    'S1Sh')): <neuro_dmt.models.bluebrain.circuit.adapter.query.SpatialQueryData at 0x12a5c6450>,\n",
       "  (('layer', 'L1'),\n",
       "   ('mtype', 'L1_SLAC'),\n",
       "   ('region',\n",
       "    'S1Sh')): <neuro_dmt.models.bluebrain.circuit.adapter.query.SpatialQueryData at 0x127b88f50>,\n",
       "  (('layer', 'L1'),\n",
       "   ('mtype', 'L23_MC'),\n",
       "   ('region',\n",
       "    'S1Sh')): <neuro_dmt.models.bluebrain.circuit.adapter.query.SpatialQueryData at 0x127b66ad0>,\n",
       "  (('layer', 'L1'),\n",
       "   ('mtype', 'L23_ChC'),\n",
       "   ('region',\n",
       "    'S1Sh')): <neuro_dmt.models.bluebrain.circuit.adapter.query.SpatialQueryData at 0x127b66e50>,\n",
       "  (('layer', 'L1'),\n",
       "   ('mtype', 'L23_SBC'),\n",
       "   ('region',\n",
       "    'S1Sh')): <neuro_dmt.models.bluebrain.circuit.adapter.query.SpatialQueryData at 0x12a913190>,\n",
       "  (('layer', 'L1'),\n",
       "   ('mtype', 'L4_LBC'),\n",
       "   ('region',\n",
       "    'S1Sh')): <neuro_dmt.models.bluebrain.circuit.adapter.query.SpatialQueryData at 0x12aac94d0>,\n",
       "  (('layer', 'L1'),\n",
       "   ('mtype', 'L4_NGC'),\n",
       "   ('region',\n",
       "    'S1Sh')): <neuro_dmt.models.bluebrain.circuit.adapter.query.SpatialQueryData at 0x12ac9fc50>,\n",
       "  (('layer', 'L1'),\n",
       "   ('mtype', 'L4_TPC'),\n",
       "   ('region',\n",
       "    'S1Sh')): <neuro_dmt.models.bluebrain.circuit.adapter.query.SpatialQueryData at 0x12aa4a210>,\n",
       "  (('layer', 'L1'),\n",
       "   ('mtype', 'L5_DBC'),\n",
       "   ('region',\n",
       "    'S1Sh')): <neuro_dmt.models.bluebrain.circuit.adapter.query.SpatialQueryData at 0x12aaf6550>,\n",
       "  (('layer', 'L1'),\n",
       "   ('mtype', 'L5_MC'),\n",
       "   ('region',\n",
       "    'S1Sh')): <neuro_dmt.models.bluebrain.circuit.adapter.query.SpatialQueryData at 0x12a286190>,\n",
       "  (('layer', 'L1'),\n",
       "   ('mtype', 'L5_TPC:A'),\n",
       "   ('region',\n",
       "    'S1Sh')): <neuro_dmt.models.bluebrain.circuit.adapter.query.SpatialQueryData at 0x12aa4a250>,\n",
       "  (('layer', 'L1'),\n",
       "   ('mtype', 'L5_TPC:B'),\n",
       "   ('region',\n",
       "    'S1Sh')): <neuro_dmt.models.bluebrain.circuit.adapter.query.SpatialQueryData at 0x1294b7f10>,\n",
       "  (('layer', 'L1'),\n",
       "   ('mtype', 'L5_UPC'),\n",
       "   ('region',\n",
       "    'S1Sh')): <neuro_dmt.models.bluebrain.circuit.adapter.query.SpatialQueryData at 0x12aff61d0>,\n",
       "  (('layer', 'L1'),\n",
       "   ('mtype', 'L6_ChC'),\n",
       "   ('region',\n",
       "    'S1Sh')): <neuro_dmt.models.bluebrain.circuit.adapter.query.SpatialQueryData at 0x12ac9f510>,\n",
       "  (('layer', 'L1'),\n",
       "   ('mtype', 'L6_IPC'),\n",
       "   ('region',\n",
       "    'S1Sh')): <neuro_dmt.models.bluebrain.circuit.adapter.query.SpatialQueryData at 0x12ae77990>,\n",
       "  (('layer', 'L1'),\n",
       "   ('mtype', 'L6_MC'),\n",
       "   ('region',\n",
       "    'S1Sh')): <neuro_dmt.models.bluebrain.circuit.adapter.query.SpatialQueryData at 0x12aff6050>,\n",
       "  (('layer', 'L1'),\n",
       "   ('mtype', 'L6_TPC:A'),\n",
       "   ('region',\n",
       "    'S1Sh')): <neuro_dmt.models.bluebrain.circuit.adapter.query.SpatialQueryData at 0x12ae77450>,\n",
       "  (('layer', 'L1'),\n",
       "   ('mtype', 'L6_TPC:B'),\n",
       "   ('region',\n",
       "    'S1Sh')): <neuro_dmt.models.bluebrain.circuit.adapter.query.SpatialQueryData at 0x12aff60d0>,\n",
       "  (('layer', 'L1'),\n",
       "   ('mtype', 'L6_UPC'),\n",
       "   ('region',\n",
       "    'S1Sh')): <neuro_dmt.models.bluebrain.circuit.adapter.query.SpatialQueryData at 0x12aff6090>,\n",
       "  (('layer', 'L2'),\n",
       "   ('mtype', 'L1_DAC'),\n",
       "   ('region',\n",
       "    'S1Sh')): <neuro_dmt.models.bluebrain.circuit.adapter.query.SpatialQueryData at 0x12af4fdd0>,\n",
       "  (('layer', 'L2'),\n",
       "   ('mtype', 'L1_SLAC'),\n",
       "   ('region',\n",
       "    'S1Sh')): <neuro_dmt.models.bluebrain.circuit.adapter.query.SpatialQueryData at 0x12b351c50>,\n",
       "  (('layer', 'L2'),\n",
       "   ('mtype', 'L23_MC'),\n",
       "   ('region',\n",
       "    'S1Sh')): <neuro_dmt.models.bluebrain.circuit.adapter.query.SpatialQueryData at 0x12ad7f410>,\n",
       "  (('layer', 'L2'),\n",
       "   ('mtype', 'L23_ChC'),\n",
       "   ('region',\n",
       "    'S1Sh')): <neuro_dmt.models.bluebrain.circuit.adapter.query.SpatialQueryData at 0x12ad7f610>,\n",
       "  (('layer', 'L2'),\n",
       "   ('mtype', 'L23_SBC'),\n",
       "   ('region',\n",
       "    'S1Sh')): <neuro_dmt.models.bluebrain.circuit.adapter.query.SpatialQueryData at 0x12af28990>,\n",
       "  (('layer', 'L2'),\n",
       "   ('mtype', 'L4_LBC'),\n",
       "   ('region',\n",
       "    'S1Sh')): <neuro_dmt.models.bluebrain.circuit.adapter.query.SpatialQueryData at 0x12af28310>,\n",
       "  (('layer', 'L2'),\n",
       "   ('mtype', 'L4_NGC'),\n",
       "   ('region',\n",
       "    'S1Sh')): <neuro_dmt.models.bluebrain.circuit.adapter.query.SpatialQueryData at 0x12b1ce8d0>,\n",
       "  (('layer', 'L2'),\n",
       "   ('mtype', 'L4_TPC'),\n",
       "   ('region',\n",
       "    'S1Sh')): <neuro_dmt.models.bluebrain.circuit.adapter.query.SpatialQueryData at 0x12b44d290>,\n",
       "  (('layer', 'L2'),\n",
       "   ('mtype', 'L5_DBC'),\n",
       "   ('region',\n",
       "    'S1Sh')): <neuro_dmt.models.bluebrain.circuit.adapter.query.SpatialQueryData at 0x12b44d7d0>,\n",
       "  (('layer', 'L2'),\n",
       "   ('mtype', 'L5_MC'),\n",
       "   ('region',\n",
       "    'S1Sh')): <neuro_dmt.models.bluebrain.circuit.adapter.query.SpatialQueryData at 0x12b1ce190>,\n",
       "  (('layer', 'L2'),\n",
       "   ('mtype', 'L5_TPC:A'),\n",
       "   ('region',\n",
       "    'S1Sh')): <neuro_dmt.models.bluebrain.circuit.adapter.query.SpatialQueryData at 0x12b455210>,\n",
       "  (('layer', 'L2'),\n",
       "   ('mtype', 'L5_TPC:B'),\n",
       "   ('region',\n",
       "    'S1Sh')): <neuro_dmt.models.bluebrain.circuit.adapter.query.SpatialQueryData at 0x12b8cff90>,\n",
       "  (('layer', 'L2'),\n",
       "   ('mtype', 'L5_UPC'),\n",
       "   ('region',\n",
       "    'S1Sh')): <neuro_dmt.models.bluebrain.circuit.adapter.query.SpatialQueryData at 0x12b77dbd0>,\n",
       "  (('layer', 'L2'),\n",
       "   ('mtype', 'L6_ChC'),\n",
       "   ('region',\n",
       "    'S1Sh')): <neuro_dmt.models.bluebrain.circuit.adapter.query.SpatialQueryData at 0x12b97eb10>,\n",
       "  (('layer', 'L2'),\n",
       "   ('mtype', 'L6_IPC'),\n",
       "   ('region',\n",
       "    'S1Sh')): <neuro_dmt.models.bluebrain.circuit.adapter.query.SpatialQueryData at 0x12be8ca90>,\n",
       "  (('layer', 'L2'),\n",
       "   ('mtype', 'L6_MC'),\n",
       "   ('region',\n",
       "    'S1Sh')): <neuro_dmt.models.bluebrain.circuit.adapter.query.SpatialQueryData at 0x12b291c50>,\n",
       "  (('layer', 'L2'),\n",
       "   ('mtype', 'L6_TPC:A'),\n",
       "   ('region',\n",
       "    'S1Sh')): <neuro_dmt.models.bluebrain.circuit.adapter.query.SpatialQueryData at 0x12b8cf510>,\n",
       "  (('layer', 'L2'),\n",
       "   ('mtype', 'L6_TPC:B'),\n",
       "   ('region',\n",
       "    'S1Sh')): <neuro_dmt.models.bluebrain.circuit.adapter.query.SpatialQueryData at 0x12be8cfd0>,\n",
       "  (('layer', 'L2'),\n",
       "   ('mtype', 'L6_UPC'),\n",
       "   ('region',\n",
       "    'S1Sh')): <neuro_dmt.models.bluebrain.circuit.adapter.query.SpatialQueryData at 0x12bf1c2d0>,\n",
       "  (('layer', 'L3'),\n",
       "   ('mtype', 'L1_DAC'),\n",
       "   ('region',\n",
       "    'S1Sh')): <neuro_dmt.models.bluebrain.circuit.adapter.query.SpatialQueryData at 0x12bb3ed50>,\n",
       "  (('layer', 'L3'),\n",
       "   ('mtype', 'L1_SLAC'),\n",
       "   ('region',\n",
       "    'S1Sh')): <neuro_dmt.models.bluebrain.circuit.adapter.query.SpatialQueryData at 0x12bd43a10>,\n",
       "  (('layer', 'L3'),\n",
       "   ('mtype', 'L23_MC'),\n",
       "   ('region',\n",
       "    'S1Sh')): <neuro_dmt.models.bluebrain.circuit.adapter.query.SpatialQueryData at 0x12bf1cad0>,\n",
       "  (('layer', 'L3'),\n",
       "   ('mtype', 'L23_ChC'),\n",
       "   ('region',\n",
       "    'S1Sh')): <neuro_dmt.models.bluebrain.circuit.adapter.query.SpatialQueryData at 0x12bfd7550>,\n",
       "  (('layer', 'L3'),\n",
       "   ('mtype', 'L23_SBC'),\n",
       "   ('region',\n",
       "    'S1Sh')): <neuro_dmt.models.bluebrain.circuit.adapter.query.SpatialQueryData at 0x12bd43190>,\n",
       "  (('layer', 'L3'),\n",
       "   ('mtype', 'L4_LBC'),\n",
       "   ('region',\n",
       "    'S1Sh')): <neuro_dmt.models.bluebrain.circuit.adapter.query.SpatialQueryData at 0x129f0d5d0>,\n",
       "  (('layer', 'L3'),\n",
       "   ('mtype', 'L4_NGC'),\n",
       "   ('region',\n",
       "    'S1Sh')): <neuro_dmt.models.bluebrain.circuit.adapter.query.SpatialQueryData at 0x12bf1cfd0>,\n",
       "  (('layer', 'L3'),\n",
       "   ('mtype', 'L4_TPC'),\n",
       "   ('region',\n",
       "    'S1Sh')): <neuro_dmt.models.bluebrain.circuit.adapter.query.SpatialQueryData at 0x12bbd7f50>,\n",
       "  (('layer', 'L3'),\n",
       "   ('mtype', 'L5_DBC'),\n",
       "   ('region',\n",
       "    'S1Sh')): <neuro_dmt.models.bluebrain.circuit.adapter.query.SpatialQueryData at 0x129f0d9d0>,\n",
       "  (('layer', 'L3'),\n",
       "   ('mtype', 'L5_MC'),\n",
       "   ('region',\n",
       "    'S1Sh')): <neuro_dmt.models.bluebrain.circuit.adapter.query.SpatialQueryData at 0x12bb3e5d0>,\n",
       "  (('layer', 'L3'),\n",
       "   ('mtype', 'L5_TPC:A'),\n",
       "   ('region',\n",
       "    'S1Sh')): <neuro_dmt.models.bluebrain.circuit.adapter.query.SpatialQueryData at 0x12c622110>,\n",
       "  (('layer', 'L3'),\n",
       "   ('mtype', 'L5_TPC:B'),\n",
       "   ('region',\n",
       "    'S1Sh')): <neuro_dmt.models.bluebrain.circuit.adapter.query.SpatialQueryData at 0x12c622dd0>,\n",
       "  (('layer', 'L3'),\n",
       "   ('mtype', 'L5_UPC'),\n",
       "   ('region',\n",
       "    'S1Sh')): <neuro_dmt.models.bluebrain.circuit.adapter.query.SpatialQueryData at 0x12ba23610>,\n",
       "  (('layer', 'L3'),\n",
       "   ('mtype', 'L6_ChC'),\n",
       "   ('region',\n",
       "    'S1Sh')): <neuro_dmt.models.bluebrain.circuit.adapter.query.SpatialQueryData at 0x12bbd30d0>,\n",
       "  (('layer', 'L3'),\n",
       "   ('mtype', 'L6_IPC'),\n",
       "   ('region',\n",
       "    'S1Sh')): <neuro_dmt.models.bluebrain.circuit.adapter.query.SpatialQueryData at 0x12c596a90>,\n",
       "  (('layer', 'L3'),\n",
       "   ('mtype', 'L6_MC'),\n",
       "   ('region',\n",
       "    'S1Sh')): <neuro_dmt.models.bluebrain.circuit.adapter.query.SpatialQueryData at 0x12c9704d0>,\n",
       "  (('layer', 'L3'),\n",
       "   ('mtype', 'L6_TPC:A'),\n",
       "   ('region',\n",
       "    'S1Sh')): <neuro_dmt.models.bluebrain.circuit.adapter.query.SpatialQueryData at 0x12ba23f50>,\n",
       "  (('layer', 'L3'),\n",
       "   ('mtype', 'L6_TPC:B'),\n",
       "   ('region',\n",
       "    'S1Sh')): <neuro_dmt.models.bluebrain.circuit.adapter.query.SpatialQueryData at 0x12b6e9d90>,\n",
       "  (('layer', 'L3'),\n",
       "   ('mtype', 'L6_UPC'),\n",
       "   ('region',\n",
       "    'S1Sh')): <neuro_dmt.models.bluebrain.circuit.adapter.query.SpatialQueryData at 0x12c8256d0>,\n",
       "  (('layer', 'L4'),\n",
       "   ('mtype', 'L1_DAC'),\n",
       "   ('region',\n",
       "    'S1Sh')): <neuro_dmt.models.bluebrain.circuit.adapter.query.SpatialQueryData at 0x12c825e10>,\n",
       "  (('layer', 'L4'),\n",
       "   ('mtype', 'L1_SLAC'),\n",
       "   ('region',\n",
       "    'S1Sh')): <neuro_dmt.models.bluebrain.circuit.adapter.query.SpatialQueryData at 0x12c6fa9d0>,\n",
       "  (('layer', 'L4'),\n",
       "   ('mtype', 'L23_MC'),\n",
       "   ('region',\n",
       "    'S1Sh')): <neuro_dmt.models.bluebrain.circuit.adapter.query.SpatialQueryData at 0x12c262690>,\n",
       "  (('layer', 'L4'),\n",
       "   ('mtype', 'L23_ChC'),\n",
       "   ('region',\n",
       "    'S1Sh')): <neuro_dmt.models.bluebrain.circuit.adapter.query.SpatialQueryData at 0x12ce25b90>,\n",
       "  (('layer', 'L4'),\n",
       "   ('mtype', 'L23_SBC'),\n",
       "   ('region',\n",
       "    'S1Sh')): <neuro_dmt.models.bluebrain.circuit.adapter.query.SpatialQueryData at 0x12cb54190>,\n",
       "  (('layer', 'L4'),\n",
       "   ('mtype', 'L4_LBC'),\n",
       "   ('region',\n",
       "    'S1Sh')): <neuro_dmt.models.bluebrain.circuit.adapter.query.SpatialQueryData at 0x12caade90>,\n",
       "  (('layer', 'L4'),\n",
       "   ('mtype', 'L4_NGC'),\n",
       "   ('region',\n",
       "    'S1Sh')): <neuro_dmt.models.bluebrain.circuit.adapter.query.SpatialQueryData at 0x12cfd8750>,\n",
       "  (('layer', 'L4'),\n",
       "   ('mtype', 'L4_TPC'),\n",
       "   ('region',\n",
       "    'S1Sh')): <neuro_dmt.models.bluebrain.circuit.adapter.query.SpatialQueryData at 0x12ce1c450>,\n",
       "  (('layer', 'L4'),\n",
       "   ('mtype', 'L5_DBC'),\n",
       "   ('region',\n",
       "    'S1Sh')): <neuro_dmt.models.bluebrain.circuit.adapter.query.SpatialQueryData at 0x12d13d690>,\n",
       "  (('layer', 'L4'),\n",
       "   ('mtype', 'L5_MC'),\n",
       "   ('region',\n",
       "    'S1Sh')): <neuro_dmt.models.bluebrain.circuit.adapter.query.SpatialQueryData at 0x12caadc90>,\n",
       "  (('layer', 'L4'),\n",
       "   ('mtype', 'L5_TPC:A'),\n",
       "   ('region',\n",
       "    'S1Sh')): <neuro_dmt.models.bluebrain.circuit.adapter.query.SpatialQueryData at 0x12d13db90>,\n",
       "  (('layer', 'L4'),\n",
       "   ('mtype', 'L5_TPC:B'),\n",
       "   ('region',\n",
       "    'S1Sh')): <neuro_dmt.models.bluebrain.circuit.adapter.query.SpatialQueryData at 0x12cfcb750>,\n",
       "  (('layer', 'L4'),\n",
       "   ('mtype', 'L5_UPC'),\n",
       "   ('region',\n",
       "    'S1Sh')): <neuro_dmt.models.bluebrain.circuit.adapter.query.SpatialQueryData at 0x12d13dc50>,\n",
       "  (('layer', 'L4'),\n",
       "   ('mtype', 'L6_ChC'),\n",
       "   ('region',\n",
       "    'S1Sh')): <neuro_dmt.models.bluebrain.circuit.adapter.query.SpatialQueryData at 0x12d401590>,\n",
       "  (('layer', 'L4'),\n",
       "   ('mtype', 'L6_IPC'),\n",
       "   ('region',\n",
       "    'S1Sh')): <neuro_dmt.models.bluebrain.circuit.adapter.query.SpatialQueryData at 0x12d29d490>,\n",
       "  (('layer', 'L4'),\n",
       "   ('mtype', 'L6_MC'),\n",
       "   ('region',\n",
       "    'S1Sh')): <neuro_dmt.models.bluebrain.circuit.adapter.query.SpatialQueryData at 0x12cea8a90>,\n",
       "  (('layer', 'L4'),\n",
       "   ('mtype', 'L6_TPC:A'),\n",
       "   ('region',\n",
       "    'S1Sh')): <neuro_dmt.models.bluebrain.circuit.adapter.query.SpatialQueryData at 0x12cea86d0>,\n",
       "  (('layer', 'L4'),\n",
       "   ('mtype', 'L6_TPC:B'),\n",
       "   ('region',\n",
       "    'S1Sh')): <neuro_dmt.models.bluebrain.circuit.adapter.query.SpatialQueryData at 0x12d693050>,\n",
       "  (('layer', 'L4'),\n",
       "   ('mtype', 'L6_UPC'),\n",
       "   ('region',\n",
       "    'S1Sh')): <neuro_dmt.models.bluebrain.circuit.adapter.query.SpatialQueryData at 0x12d401ed0>,\n",
       "  (('layer', 'L5'),\n",
       "   ('mtype', 'L1_DAC'),\n",
       "   ('region',\n",
       "    'S1Sh')): <neuro_dmt.models.bluebrain.circuit.adapter.query.SpatialQueryData at 0x12a7ce910>,\n",
       "  (('layer', 'L5'),\n",
       "   ('mtype', 'L1_SLAC'),\n",
       "   ('region',\n",
       "    'S1Sh')): <neuro_dmt.models.bluebrain.circuit.adapter.query.SpatialQueryData at 0x12d6932d0>,\n",
       "  (('layer', 'L5'),\n",
       "   ('mtype', 'L23_MC'),\n",
       "   ('region',\n",
       "    'S1Sh')): <neuro_dmt.models.bluebrain.circuit.adapter.query.SpatialQueryData at 0x12d5e1cd0>,\n",
       "  (('layer', 'L5'),\n",
       "   ('mtype', 'L23_ChC'),\n",
       "   ('region',\n",
       "    'S1Sh')): <neuro_dmt.models.bluebrain.circuit.adapter.query.SpatialQueryData at 0x12d86f1d0>,\n",
       "  (('layer', 'L5'),\n",
       "   ('mtype', 'L23_SBC'),\n",
       "   ('region',\n",
       "    'S1Sh')): <neuro_dmt.models.bluebrain.circuit.adapter.query.SpatialQueryData at 0x12d693550>,\n",
       "  (('layer', 'L5'),\n",
       "   ('mtype', 'L4_LBC'),\n",
       "   ('region',\n",
       "    'S1Sh')): <neuro_dmt.models.bluebrain.circuit.adapter.query.SpatialQueryData at 0x12db104d0>,\n",
       "  (('layer', 'L5'),\n",
       "   ('mtype', 'L4_NGC'),\n",
       "   ('region',\n",
       "    'S1Sh')): <neuro_dmt.models.bluebrain.circuit.adapter.query.SpatialQueryData at 0x12dbcf910>,\n",
       "  (('layer', 'L5'),\n",
       "   ('mtype', 'L4_TPC'),\n",
       "   ('region',\n",
       "    'S1Sh')): <neuro_dmt.models.bluebrain.circuit.adapter.query.SpatialQueryData at 0x12d91db10>,\n",
       "  (('layer', 'L5'),\n",
       "   ('mtype', 'L5_DBC'),\n",
       "   ('region',\n",
       "    'S1Sh')): <neuro_dmt.models.bluebrain.circuit.adapter.query.SpatialQueryData at 0x12dd87a10>,\n",
       "  (('layer', 'L5'),\n",
       "   ('mtype', 'L5_MC'),\n",
       "   ('region',\n",
       "    'S1Sh')): <neuro_dmt.models.bluebrain.circuit.adapter.query.SpatialQueryData at 0x12dd87c50>,\n",
       "  (('layer', 'L5'),\n",
       "   ('mtype', 'L5_TPC:A'),\n",
       "   ('region',\n",
       "    'S1Sh')): <neuro_dmt.models.bluebrain.circuit.adapter.query.SpatialQueryData at 0x12dbcf0d0>,\n",
       "  (('layer', 'L5'),\n",
       "   ('mtype', 'L5_TPC:B'),\n",
       "   ('region',\n",
       "    'S1Sh')): <neuro_dmt.models.bluebrain.circuit.adapter.query.SpatialQueryData at 0x12ddb0750>,\n",
       "  (('layer', 'L5'),\n",
       "   ('mtype', 'L5_UPC'),\n",
       "   ('region',\n",
       "    'S1Sh')): <neuro_dmt.models.bluebrain.circuit.adapter.query.SpatialQueryData at 0x12cd41790>,\n",
       "  (('layer', 'L5'),\n",
       "   ('mtype', 'L6_ChC'),\n",
       "   ('region',\n",
       "    'S1Sh')): <neuro_dmt.models.bluebrain.circuit.adapter.query.SpatialQueryData at 0x12e2ea4d0>,\n",
       "  (('layer', 'L5'),\n",
       "   ('mtype', 'L6_IPC'),\n",
       "   ('region',\n",
       "    'S1Sh')): <neuro_dmt.models.bluebrain.circuit.adapter.query.SpatialQueryData at 0x12e2e85d0>,\n",
       "  (('layer', 'L5'),\n",
       "   ('mtype', 'L6_MC'),\n",
       "   ('region',\n",
       "    'S1Sh')): <neuro_dmt.models.bluebrain.circuit.adapter.query.SpatialQueryData at 0x12e0e3450>,\n",
       "  (('layer', 'L5'),\n",
       "   ('mtype', 'L6_TPC:A'),\n",
       "   ('region',\n",
       "    'S1Sh')): <neuro_dmt.models.bluebrain.circuit.adapter.query.SpatialQueryData at 0x12e0f5250>,\n",
       "  (('layer', 'L5'),\n",
       "   ('mtype', 'L6_TPC:B'),\n",
       "   ('region',\n",
       "    'S1Sh')): <neuro_dmt.models.bluebrain.circuit.adapter.query.SpatialQueryData at 0x12e39d3d0>,\n",
       "  (('layer', 'L5'),\n",
       "   ('mtype', 'L6_UPC'),\n",
       "   ('region',\n",
       "    'S1Sh')): <neuro_dmt.models.bluebrain.circuit.adapter.query.SpatialQueryData at 0x12df8b290>,\n",
       "  (('layer', 'L6'),\n",
       "   ('mtype', 'L1_DAC'),\n",
       "   ('region',\n",
       "    'S1Sh')): <neuro_dmt.models.bluebrain.circuit.adapter.query.SpatialQueryData at 0x12e39d0d0>,\n",
       "  (('layer', 'L6'),\n",
       "   ('mtype', 'L1_SLAC'),\n",
       "   ('region',\n",
       "    'S1Sh')): <neuro_dmt.models.bluebrain.circuit.adapter.query.SpatialQueryData at 0x12cc3f3d0>,\n",
       "  (('layer', 'L6'),\n",
       "   ('mtype', 'L23_MC'),\n",
       "   ('region',\n",
       "    'S1Sh')): <neuro_dmt.models.bluebrain.circuit.adapter.query.SpatialQueryData at 0x12cc3f910>,\n",
       "  (('layer', 'L6'),\n",
       "   ('mtype', 'L23_ChC'),\n",
       "   ('region',\n",
       "    'S1Sh')): <neuro_dmt.models.bluebrain.circuit.adapter.query.SpatialQueryData at 0x12e7d6710>,\n",
       "  (('layer', 'L6'),\n",
       "   ('mtype', 'L23_SBC'),\n",
       "   ('region',\n",
       "    'S1Sh')): <neuro_dmt.models.bluebrain.circuit.adapter.query.SpatialQueryData at 0x12e7d6910>,\n",
       "  (('layer', 'L6'),\n",
       "   ('mtype', 'L4_LBC'),\n",
       "   ('region',\n",
       "    'S1Sh')): <neuro_dmt.models.bluebrain.circuit.adapter.query.SpatialQueryData at 0x12e02f550>,\n",
       "  (('layer', 'L6'),\n",
       "   ('mtype', 'L4_NGC'),\n",
       "   ('region',\n",
       "    'S1Sh')): <neuro_dmt.models.bluebrain.circuit.adapter.query.SpatialQueryData at 0x12e8838d0>,\n",
       "  (('layer', 'L6'),\n",
       "   ('mtype', 'L4_TPC'),\n",
       "   ('region',\n",
       "    'S1Sh')): <neuro_dmt.models.bluebrain.circuit.adapter.query.SpatialQueryData at 0x12d7a0690>,\n",
       "  (('layer', 'L6'),\n",
       "   ('mtype', 'L5_DBC'),\n",
       "   ('region',\n",
       "    'S1Sh')): <neuro_dmt.models.bluebrain.circuit.adapter.query.SpatialQueryData at 0x12d7a04d0>,\n",
       "  (('layer', 'L6'),\n",
       "   ('mtype', 'L5_MC'),\n",
       "   ('region',\n",
       "    'S1Sh')): <neuro_dmt.models.bluebrain.circuit.adapter.query.SpatialQueryData at 0x12e02fa90>,\n",
       "  (('layer', 'L6'),\n",
       "   ('mtype', 'L5_TPC:A'),\n",
       "   ('region',\n",
       "    'S1Sh')): <neuro_dmt.models.bluebrain.circuit.adapter.query.SpatialQueryData at 0x12d50f790>,\n",
       "  (('layer', 'L6'),\n",
       "   ('mtype', 'L5_TPC:B'),\n",
       "   ('region',\n",
       "    'S1Sh')): <neuro_dmt.models.bluebrain.circuit.adapter.query.SpatialQueryData at 0x12d7a0f90>,\n",
       "  (('layer', 'L6'),\n",
       "   ('mtype', 'L5_UPC'),\n",
       "   ('region',\n",
       "    'S1Sh')): <neuro_dmt.models.bluebrain.circuit.adapter.query.SpatialQueryData at 0x12b4f1c90>,\n",
       "  (('layer', 'L6'),\n",
       "   ('mtype', 'L6_ChC'),\n",
       "   ('region',\n",
       "    'S1Sh')): <neuro_dmt.models.bluebrain.circuit.adapter.query.SpatialQueryData at 0x12eb1dd50>,\n",
       "  (('layer', 'L6'),\n",
       "   ('mtype', 'L6_IPC'),\n",
       "   ('region',\n",
       "    'S1Sh')): <neuro_dmt.models.bluebrain.circuit.adapter.query.SpatialQueryData at 0x12d09dbd0>,\n",
       "  (('layer', 'L6'),\n",
       "   ('mtype', 'L6_MC'),\n",
       "   ('region',\n",
       "    'S1Sh')): <neuro_dmt.models.bluebrain.circuit.adapter.query.SpatialQueryData at 0x12e5578d0>,\n",
       "  (('layer', 'L6'),\n",
       "   ('mtype', 'L6_TPC:A'),\n",
       "   ('region',\n",
       "    'S1Sh')): <neuro_dmt.models.bluebrain.circuit.adapter.query.SpatialQueryData at 0x12eb22050>,\n",
       "  (('layer', 'L6'),\n",
       "   ('mtype', 'L6_TPC:B'),\n",
       "   ('region',\n",
       "    'S1Sh')): <neuro_dmt.models.bluebrain.circuit.adapter.query.SpatialQueryData at 0x12e557b10>,\n",
       "  (('layer', 'L6'),\n",
       "   ('mtype', 'L6_UPC'),\n",
       "   ('region',\n",
       "    'S1Sh')): <neuro_dmt.models.bluebrain.circuit.adapter.query.SpatialQueryData at 0x12eb22550>,\n",
       "  (('layer', 'L1'),\n",
       "   ('mtype', 'L1_DAC'),\n",
       "   ('region',\n",
       "    'S1Tr')): <neuro_dmt.models.bluebrain.circuit.adapter.query.SpatialQueryData at 0x12b4f1950>,\n",
       "  (('layer', 'L1'),\n",
       "   ('mtype', 'L1_SLAC'),\n",
       "   ('region',\n",
       "    'S1Tr')): <neuro_dmt.models.bluebrain.circuit.adapter.query.SpatialQueryData at 0x12b4ecb10>,\n",
       "  (('layer', 'L1'),\n",
       "   ('mtype', 'L23_MC'),\n",
       "   ('region',\n",
       "    'S1Tr')): <neuro_dmt.models.bluebrain.circuit.adapter.query.SpatialQueryData at 0x12eed0fd0>,\n",
       "  (('layer', 'L1'),\n",
       "   ('mtype', 'L23_ChC'),\n",
       "   ('region',\n",
       "    'S1Tr')): <neuro_dmt.models.bluebrain.circuit.adapter.query.SpatialQueryData at 0x12eed0850>,\n",
       "  (('layer', 'L1'),\n",
       "   ('mtype', 'L23_SBC'),\n",
       "   ('region',\n",
       "    'S1Tr')): <neuro_dmt.models.bluebrain.circuit.adapter.query.SpatialQueryData at 0x12ea94c10>,\n",
       "  (('layer', 'L1'),\n",
       "   ('mtype', 'L4_LBC'),\n",
       "   ('region',\n",
       "    'S1Tr')): <neuro_dmt.models.bluebrain.circuit.adapter.query.SpatialQueryData at 0x12edb4650>,\n",
       "  (('layer', 'L1'),\n",
       "   ('mtype', 'L4_NGC'),\n",
       "   ('region',\n",
       "    'S1Tr')): <neuro_dmt.models.bluebrain.circuit.adapter.query.SpatialQueryData at 0x12f3a6b10>,\n",
       "  (('layer', 'L1'),\n",
       "   ('mtype', 'L4_TPC'),\n",
       "   ('region',\n",
       "    'S1Tr')): <neuro_dmt.models.bluebrain.circuit.adapter.query.SpatialQueryData at 0x12f3a6c90>,\n",
       "  (('layer', 'L1'),\n",
       "   ('mtype', 'L5_DBC'),\n",
       "   ('region',\n",
       "    'S1Tr')): <neuro_dmt.models.bluebrain.circuit.adapter.query.SpatialQueryData at 0x12f589b90>,\n",
       "  (('layer', 'L1'),\n",
       "   ('mtype', 'L5_MC'),\n",
       "   ('region',\n",
       "    'S1Tr')): <neuro_dmt.models.bluebrain.circuit.adapter.query.SpatialQueryData at 0x12da3c790>,\n",
       "  (('layer', 'L1'),\n",
       "   ('mtype', 'L5_TPC:A'),\n",
       "   ('region',\n",
       "    'S1Tr')): <neuro_dmt.models.bluebrain.circuit.adapter.query.SpatialQueryData at 0x12da3c050>,\n",
       "  (('layer', 'L1'),\n",
       "   ('mtype', 'L5_TPC:B'),\n",
       "   ('region',\n",
       "    'S1Tr')): <neuro_dmt.models.bluebrain.circuit.adapter.query.SpatialQueryData at 0x12e22fe90>,\n",
       "  (('layer', 'L1'),\n",
       "   ('mtype', 'L5_UPC'),\n",
       "   ('region',\n",
       "    'S1Tr')): <neuro_dmt.models.bluebrain.circuit.adapter.query.SpatialQueryData at 0x12f4afd90>,\n",
       "  (('layer', 'L1'),\n",
       "   ('mtype', 'L6_ChC'),\n",
       "   ('region',\n",
       "    'S1Tr')): <neuro_dmt.models.bluebrain.circuit.adapter.query.SpatialQueryData at 0x12f759b50>,\n",
       "  (('layer', 'L1'),\n",
       "   ('mtype', 'L6_IPC'),\n",
       "   ('region',\n",
       "    'S1Tr')): <neuro_dmt.models.bluebrain.circuit.adapter.query.SpatialQueryData at 0x12f75e250>,\n",
       "  (('layer', 'L1'),\n",
       "   ('mtype', 'L6_MC'),\n",
       "   ('region',\n",
       "    'S1Tr')): <neuro_dmt.models.bluebrain.circuit.adapter.query.SpatialQueryData at 0x12f3a6dd0>,\n",
       "  (('layer', 'L1'),\n",
       "   ('mtype', 'L6_TPC:A'),\n",
       "   ('region',\n",
       "    'S1Tr')): <neuro_dmt.models.bluebrain.circuit.adapter.query.SpatialQueryData at 0x12f9feb90>,\n",
       "  (('layer', 'L1'),\n",
       "   ('mtype', 'L6_TPC:B'),\n",
       "   ('region',\n",
       "    'S1Tr')): <neuro_dmt.models.bluebrain.circuit.adapter.query.SpatialQueryData at 0x12da3cfd0>,\n",
       "  (('layer', 'L1'),\n",
       "   ('mtype', 'L6_UPC'),\n",
       "   ('region',\n",
       "    'S1Tr')): <neuro_dmt.models.bluebrain.circuit.adapter.query.SpatialQueryData at 0x12f9fe750>,\n",
       "  (('layer', 'L2'),\n",
       "   ('mtype', 'L1_DAC'),\n",
       "   ('region',\n",
       "    'S1Tr')): <neuro_dmt.models.bluebrain.circuit.adapter.query.SpatialQueryData at 0x12ec53390>,\n",
       "  (('layer', 'L2'),\n",
       "   ('mtype', 'L1_SLAC'),\n",
       "   ('region',\n",
       "    'S1Tr')): <neuro_dmt.models.bluebrain.circuit.adapter.query.SpatialQueryData at 0x12fd53d90>,\n",
       "  (('layer', 'L2'),\n",
       "   ('mtype', 'L23_MC'),\n",
       "   ('region',\n",
       "    'S1Tr')): <neuro_dmt.models.bluebrain.circuit.adapter.query.SpatialQueryData at 0x12fd53190>,\n",
       "  (('layer', 'L2'),\n",
       "   ('mtype', 'L23_ChC'),\n",
       "   ('region',\n",
       "    'S1Tr')): <neuro_dmt.models.bluebrain.circuit.adapter.query.SpatialQueryData at 0x12fd5e5d0>,\n",
       "  (('layer', 'L2'),\n",
       "   ('mtype', 'L23_SBC'),\n",
       "   ('region',\n",
       "    'S1Tr')): <neuro_dmt.models.bluebrain.circuit.adapter.query.SpatialQueryData at 0x12fc7f0d0>,\n",
       "  (('layer', 'L2'),\n",
       "   ('mtype', 'L4_LBC'),\n",
       "   ('region',\n",
       "    'S1Tr')): <neuro_dmt.models.bluebrain.circuit.adapter.query.SpatialQueryData at 0x12fc7f610>,\n",
       "  (('layer', 'L2'),\n",
       "   ('mtype', 'L4_NGC'),\n",
       "   ('region',\n",
       "    'S1Tr')): <neuro_dmt.models.bluebrain.circuit.adapter.query.SpatialQueryData at 0x12ff10d10>,\n",
       "  (('layer', 'L2'),\n",
       "   ('mtype', 'L4_TPC'),\n",
       "   ('region',\n",
       "    'S1Tr')): <neuro_dmt.models.bluebrain.circuit.adapter.query.SpatialQueryData at 0x12f317450>,\n",
       "  (('layer', 'L2'),\n",
       "   ('mtype', 'L5_DBC'),\n",
       "   ('region',\n",
       "    'S1Tr')): <neuro_dmt.models.bluebrain.circuit.adapter.query.SpatialQueryData at 0x12fe68cd0>,\n",
       "  (('layer', 'L2'),\n",
       "   ('mtype', 'L5_MC'),\n",
       "   ('region',\n",
       "    'S1Tr')): <neuro_dmt.models.bluebrain.circuit.adapter.query.SpatialQueryData at 0x12fffc690>,\n",
       "  (('layer', 'L2'),\n",
       "   ('mtype', 'L5_TPC:A'),\n",
       "   ('region',\n",
       "    'S1Tr')): <neuro_dmt.models.bluebrain.circuit.adapter.query.SpatialQueryData at 0x1301ce950>,\n",
       "  (('layer', 'L2'),\n",
       "   ('mtype', 'L5_TPC:B'),\n",
       "   ('region',\n",
       "    'S1Tr')): <neuro_dmt.models.bluebrain.circuit.adapter.query.SpatialQueryData at 0x13019fcd0>,\n",
       "  (('layer', 'L2'),\n",
       "   ('mtype', 'L5_UPC'),\n",
       "   ('region',\n",
       "    'S1Tr')): <neuro_dmt.models.bluebrain.circuit.adapter.query.SpatialQueryData at 0x12ff10210>,\n",
       "  (('layer', 'L2'),\n",
       "   ('mtype', 'L6_ChC'),\n",
       "   ('region',\n",
       "    'S1Tr')): <neuro_dmt.models.bluebrain.circuit.adapter.query.SpatialQueryData at 0x1301ce610>,\n",
       "  (('layer', 'L2'),\n",
       "   ('mtype', 'L6_IPC'),\n",
       "   ('region',\n",
       "    'S1Tr')): <neuro_dmt.models.bluebrain.circuit.adapter.query.SpatialQueryData at 0x1301ced10>,\n",
       "  (('layer', 'L2'),\n",
       "   ('mtype', 'L6_MC'),\n",
       "   ('region',\n",
       "    'S1Tr')): <neuro_dmt.models.bluebrain.circuit.adapter.query.SpatialQueryData at 0x1305624d0>,\n",
       "  (('layer', 'L2'),\n",
       "   ('mtype', 'L6_TPC:A'),\n",
       "   ('region',\n",
       "    'S1Tr')): <neuro_dmt.models.bluebrain.circuit.adapter.query.SpatialQueryData at 0x1306f0950>,\n",
       "  (('layer', 'L2'),\n",
       "   ('mtype', 'L6_TPC:B'),\n",
       "   ('region',\n",
       "    'S1Tr')): <neuro_dmt.models.bluebrain.circuit.adapter.query.SpatialQueryData at 0x130467190>,\n",
       "  (('layer', 'L2'),\n",
       "   ('mtype', 'L6_UPC'),\n",
       "   ('region',\n",
       "    'S1Tr')): <neuro_dmt.models.bluebrain.circuit.adapter.query.SpatialQueryData at 0x1306f0150>,\n",
       "  (('layer', 'L3'),\n",
       "   ('mtype', 'L1_DAC'),\n",
       "   ('region',\n",
       "    'S1Tr')): <neuro_dmt.models.bluebrain.circuit.adapter.query.SpatialQueryData at 0x130381bd0>,\n",
       "  (('layer', 'L3'),\n",
       "   ('mtype', 'L1_SLAC'),\n",
       "   ('region',\n",
       "    'S1Tr')): <neuro_dmt.models.bluebrain.circuit.adapter.query.SpatialQueryData at 0x13019f0d0>,\n",
       "  (('layer', 'L3'),\n",
       "   ('mtype', 'L23_MC'),\n",
       "   ('region',\n",
       "    'S1Tr')): <neuro_dmt.models.bluebrain.circuit.adapter.query.SpatialQueryData at 0x130381750>,\n",
       "  (('layer', 'L3'),\n",
       "   ('mtype', 'L23_ChC'),\n",
       "   ('region',\n",
       "    'S1Tr')): <neuro_dmt.models.bluebrain.circuit.adapter.query.SpatialQueryData at 0x130381950>,\n",
       "  (('layer', 'L3'),\n",
       "   ('mtype', 'L23_SBC'),\n",
       "   ('region',\n",
       "    'S1Tr')): <neuro_dmt.models.bluebrain.circuit.adapter.query.SpatialQueryData at 0x130cad0d0>,\n",
       "  (('layer', 'L3'),\n",
       "   ('mtype', 'L4_LBC'),\n",
       "   ('region',\n",
       "    'S1Tr')): <neuro_dmt.models.bluebrain.circuit.adapter.query.SpatialQueryData at 0x130371910>,\n",
       "  (('layer', 'L3'),\n",
       "   ('mtype', 'L4_NGC'),\n",
       "   ('region',\n",
       "    'S1Tr')): <neuro_dmt.models.bluebrain.circuit.adapter.query.SpatialQueryData at 0x1304678d0>,\n",
       "  (('layer', 'L3'),\n",
       "   ('mtype', 'L4_TPC'),\n",
       "   ('region',\n",
       "    'S1Tr')): <neuro_dmt.models.bluebrain.circuit.adapter.query.SpatialQueryData at 0x13078ac10>,\n",
       "  (('layer', 'L3'),\n",
       "   ('mtype', 'L5_DBC'),\n",
       "   ('region',\n",
       "    'S1Tr')): <neuro_dmt.models.bluebrain.circuit.adapter.query.SpatialQueryData at 0x13078aad0>,\n",
       "  (('layer', 'L3'),\n",
       "   ('mtype', 'L5_MC'),\n",
       "   ('region',\n",
       "    'S1Tr')): <neuro_dmt.models.bluebrain.circuit.adapter.query.SpatialQueryData at 0x130cad290>,\n",
       "  (('layer', 'L3'),\n",
       "   ('mtype', 'L5_TPC:A'),\n",
       "   ('region',\n",
       "    'S1Tr')): <neuro_dmt.models.bluebrain.circuit.adapter.query.SpatialQueryData at 0x130cad690>,\n",
       "  (('layer', 'L3'),\n",
       "   ('mtype', 'L5_TPC:B'),\n",
       "   ('region',\n",
       "    'S1Tr')): <neuro_dmt.models.bluebrain.circuit.adapter.query.SpatialQueryData at 0x13107dc50>,\n",
       "  (('layer', 'L3'),\n",
       "   ('mtype', 'L5_UPC'),\n",
       "   ('region',\n",
       "    'S1Tr')): <neuro_dmt.models.bluebrain.circuit.adapter.query.SpatialQueryData at 0x13062ae90>,\n",
       "  (('layer', 'L3'),\n",
       "   ('mtype', 'L6_ChC'),\n",
       "   ('region',\n",
       "    'S1Tr')): <neuro_dmt.models.bluebrain.circuit.adapter.query.SpatialQueryData at 0x131273390>,\n",
       "  (('layer', 'L3'),\n",
       "   ('mtype', 'L6_IPC'),\n",
       "   ('region',\n",
       "    'S1Tr')): <neuro_dmt.models.bluebrain.circuit.adapter.query.SpatialQueryData at 0x13062a810>,\n",
       "  (('layer', 'L3'),\n",
       "   ('mtype', 'L6_MC'),\n",
       "   ('region',\n",
       "    'S1Tr')): <neuro_dmt.models.bluebrain.circuit.adapter.query.SpatialQueryData at 0x130fad550>,\n",
       "  (('layer', 'L3'),\n",
       "   ('mtype', 'L6_TPC:A'),\n",
       "   ('region',\n",
       "    'S1Tr')): <neuro_dmt.models.bluebrain.circuit.adapter.query.SpatialQueryData at 0x130969ed0>,\n",
       "  (('layer', 'L3'),\n",
       "   ('mtype', 'L6_TPC:B'),\n",
       "   ('region',\n",
       "    'S1Tr')): <neuro_dmt.models.bluebrain.circuit.adapter.query.SpatialQueryData at 0x1313be3d0>,\n",
       "  (('layer', 'L3'),\n",
       "   ('mtype', 'L6_UPC'),\n",
       "   ('region',\n",
       "    'S1Tr')): <neuro_dmt.models.bluebrain.circuit.adapter.query.SpatialQueryData at 0x130969bd0>,\n",
       "  (('layer', 'L4'),\n",
       "   ('mtype', 'L1_DAC'),\n",
       "   ('region',\n",
       "    'S1Tr')): <neuro_dmt.models.bluebrain.circuit.adapter.query.SpatialQueryData at 0x13062a090>,\n",
       "  (('layer', 'L4'),\n",
       "   ('mtype', 'L1_SLAC'),\n",
       "   ('region',\n",
       "    'S1Tr')): <neuro_dmt.models.bluebrain.circuit.adapter.query.SpatialQueryData at 0x13159b050>,\n",
       "  (('layer', 'L4'),\n",
       "   ('mtype', 'L23_MC'),\n",
       "   ('region',\n",
       "    'S1Tr')): <neuro_dmt.models.bluebrain.circuit.adapter.query.SpatialQueryData at 0x13088ffd0>,\n",
       "  (('layer', 'L4'),\n",
       "   ('mtype', 'L23_ChC'),\n",
       "   ('region',\n",
       "    'S1Tr')): <neuro_dmt.models.bluebrain.circuit.adapter.query.SpatialQueryData at 0x1319954d0>,\n",
       "  (('layer', 'L4'),\n",
       "   ('mtype', 'L23_SBC'),\n",
       "   ('region',\n",
       "    'S1Tr')): <neuro_dmt.models.bluebrain.circuit.adapter.query.SpatialQueryData at 0x13159b790>,\n",
       "  (('layer', 'L4'),\n",
       "   ('mtype', 'L4_LBC'),\n",
       "   ('region',\n",
       "    'S1Tr')): <neuro_dmt.models.bluebrain.circuit.adapter.query.SpatialQueryData at 0x131ab90d0>,\n",
       "  (('layer', 'L4'),\n",
       "   ('mtype', 'L4_NGC'),\n",
       "   ('region',\n",
       "    'S1Tr')): <neuro_dmt.models.bluebrain.circuit.adapter.query.SpatialQueryData at 0x130df6150>,\n",
       "  (('layer', 'L4'),\n",
       "   ('mtype', 'L4_TPC'),\n",
       "   ('region',\n",
       "    'S1Tr')): <neuro_dmt.models.bluebrain.circuit.adapter.query.SpatialQueryData at 0x131995a10>,\n",
       "  (('layer', 'L4'),\n",
       "   ('mtype', 'L5_DBC'),\n",
       "   ('region',\n",
       "    'S1Tr')): <neuro_dmt.models.bluebrain.circuit.adapter.query.SpatialQueryData at 0x131995cd0>,\n",
       "  (('layer', 'L4'),\n",
       "   ('mtype', 'L5_MC'),\n",
       "   ('region',\n",
       "    'S1Tr')): <neuro_dmt.models.bluebrain.circuit.adapter.query.SpatialQueryData at 0x131ab9490>,\n",
       "  (('layer', 'L4'),\n",
       "   ('mtype', 'L5_TPC:A'),\n",
       "   ('region',\n",
       "    'S1Tr')): <neuro_dmt.models.bluebrain.circuit.adapter.query.SpatialQueryData at 0x130104610>,\n",
       "  (('layer', 'L4'),\n",
       "   ('mtype', 'L5_TPC:B'),\n",
       "   ('region',\n",
       "    'S1Tr')): <neuro_dmt.models.bluebrain.circuit.adapter.query.SpatialQueryData at 0x130104350>,\n",
       "  (('layer', 'L4'),\n",
       "   ('mtype', 'L5_UPC'),\n",
       "   ('region',\n",
       "    'S1Tr')): <neuro_dmt.models.bluebrain.circuit.adapter.query.SpatialQueryData at 0x131ab9d10>,\n",
       "  (('layer', 'L4'),\n",
       "   ('mtype', 'L6_ChC'),\n",
       "   ('region',\n",
       "    'S1Tr')): <neuro_dmt.models.bluebrain.circuit.adapter.query.SpatialQueryData at 0x12dcd9b90>,\n",
       "  (('layer', 'L4'),\n",
       "   ('mtype', 'L6_IPC'),\n",
       "   ('region',\n",
       "    'S1Tr')): <neuro_dmt.models.bluebrain.circuit.adapter.query.SpatialQueryData at 0x131e23990>,\n",
       "  (('layer', 'L4'),\n",
       "   ('mtype', 'L6_MC'),\n",
       "   ('region',\n",
       "    'S1Tr')): <neuro_dmt.models.bluebrain.circuit.adapter.query.SpatialQueryData at 0x131e23190>,\n",
       "  (('layer', 'L4'),\n",
       "   ('mtype', 'L6_TPC:A'),\n",
       "   ('region',\n",
       "    'S1Tr')): <neuro_dmt.models.bluebrain.circuit.adapter.query.SpatialQueryData at 0x131712150>,\n",
       "  (('layer', 'L4'),\n",
       "   ('mtype', 'L6_TPC:B'),\n",
       "   ('region',\n",
       "    'S1Tr')): <neuro_dmt.models.bluebrain.circuit.adapter.query.SpatialQueryData at 0x13217ecd0>,\n",
       "  (('layer', 'L4'),\n",
       "   ('mtype', 'L6_UPC'),\n",
       "   ('region',\n",
       "    'S1Tr')): <neuro_dmt.models.bluebrain.circuit.adapter.query.SpatialQueryData at 0x131712390>,\n",
       "  (('layer', 'L5'),\n",
       "   ('mtype', 'L1_DAC'),\n",
       "   ('region',\n",
       "    'S1Tr')): <neuro_dmt.models.bluebrain.circuit.adapter.query.SpatialQueryData at 0x131fddc90>,\n",
       "  (('layer', 'L5'),\n",
       "   ('mtype', 'L1_SLAC'),\n",
       "   ('region',\n",
       "    'S1Tr')): <neuro_dmt.models.bluebrain.circuit.adapter.query.SpatialQueryData at 0x1323349d0>,\n",
       "  (('layer', 'L5'),\n",
       "   ('mtype', 'L23_MC'),\n",
       "   ('region',\n",
       "    'S1Tr')): <neuro_dmt.models.bluebrain.circuit.adapter.query.SpatialQueryData at 0x131f33610>,\n",
       "  (('layer', 'L5'),\n",
       "   ('mtype', 'L23_ChC'),\n",
       "   ('region',\n",
       "    'S1Tr')): <neuro_dmt.models.bluebrain.circuit.adapter.query.SpatialQueryData at 0x132334690>,\n",
       "  (('layer', 'L5'),\n",
       "   ('mtype', 'L23_SBC'),\n",
       "   ('region',\n",
       "    'S1Tr')): <neuro_dmt.models.bluebrain.circuit.adapter.query.SpatialQueryData at 0x132334a10>,\n",
       "  (('layer', 'L5'),\n",
       "   ('mtype', 'L4_LBC'),\n",
       "   ('region',\n",
       "    'S1Tr')): <neuro_dmt.models.bluebrain.circuit.adapter.query.SpatialQueryData at 0x131cb1b10>,\n",
       "  (('layer', 'L5'),\n",
       "   ('mtype', 'L4_NGC'),\n",
       "   ('region',\n",
       "    'S1Tr')): <neuro_dmt.models.bluebrain.circuit.adapter.query.SpatialQueryData at 0x1318dfd10>,\n",
       "  (('layer', 'L5'),\n",
       "   ('mtype', 'L4_TPC'),\n",
       "   ('region',\n",
       "    'S1Tr')): <neuro_dmt.models.bluebrain.circuit.adapter.query.SpatialQueryData at 0x131f33cd0>,\n",
       "  (('layer', 'L5'),\n",
       "   ('mtype', 'L5_DBC'),\n",
       "   ('region',\n",
       "    'S1Tr')): <neuro_dmt.models.bluebrain.circuit.adapter.query.SpatialQueryData at 0x1327b4b50>,\n",
       "  (('layer', 'L5'),\n",
       "   ('mtype', 'L5_MC'),\n",
       "   ('region',\n",
       "    'S1Tr')): <neuro_dmt.models.bluebrain.circuit.adapter.query.SpatialQueryData at 0x131f63790>,\n",
       "  (('layer', 'L5'),\n",
       "   ('mtype', 'L5_TPC:A'),\n",
       "   ('region',\n",
       "    'S1Tr')): <neuro_dmt.models.bluebrain.circuit.adapter.query.SpatialQueryData at 0x131cb1090>,\n",
       "  (('layer', 'L5'),\n",
       "   ('mtype', 'L5_TPC:B'),\n",
       "   ('region',\n",
       "    'S1Tr')): <neuro_dmt.models.bluebrain.circuit.adapter.query.SpatialQueryData at 0x1327a1610>,\n",
       "  (('layer', 'L5'),\n",
       "   ('mtype', 'L5_UPC'),\n",
       "   ('region',\n",
       "    'S1Tr')): <neuro_dmt.models.bluebrain.circuit.adapter.query.SpatialQueryData at 0x1318df910>,\n",
       "  (('layer', 'L5'),\n",
       "   ('mtype', 'L6_ChC'),\n",
       "   ('region',\n",
       "    'S1Tr')): <neuro_dmt.models.bluebrain.circuit.adapter.query.SpatialQueryData at 0x13299c150>,\n",
       "  (('layer', 'L5'),\n",
       "   ('mtype', 'L6_IPC'),\n",
       "   ('region',\n",
       "    'S1Tr')): <neuro_dmt.models.bluebrain.circuit.adapter.query.SpatialQueryData at 0x13297a610>,\n",
       "  (('layer', 'L5'),\n",
       "   ('mtype', 'L6_MC'),\n",
       "   ('region',\n",
       "    'S1Tr')): <neuro_dmt.models.bluebrain.circuit.adapter.query.SpatialQueryData at 0x1320ad050>,\n",
       "  (('layer', 'L5'),\n",
       "   ('mtype', 'L6_TPC:A'),\n",
       "   ('region',\n",
       "    'S1Tr')): <neuro_dmt.models.bluebrain.circuit.adapter.query.SpatialQueryData at 0x132a55cd0>,\n",
       "  (('layer', 'L5'),\n",
       "   ('mtype', 'L6_TPC:B'),\n",
       "   ('region',\n",
       "    'S1Tr')): <neuro_dmt.models.bluebrain.circuit.adapter.query.SpatialQueryData at 0x132a559d0>,\n",
       "  (('layer', 'L5'),\n",
       "   ('mtype', 'L6_UPC'),\n",
       "   ('region',\n",
       "    'S1Tr')): <neuro_dmt.models.bluebrain.circuit.adapter.query.SpatialQueryData at 0x1320ad9d0>,\n",
       "  (('layer', 'L6'),\n",
       "   ('mtype', 'L1_DAC'),\n",
       "   ('region',\n",
       "    'S1Tr')): <neuro_dmt.models.bluebrain.circuit.adapter.query.SpatialQueryData at 0x12e70ad90>,\n",
       "  (('layer', 'L6'),\n",
       "   ('mtype', 'L1_SLAC'),\n",
       "   ('region',\n",
       "    'S1Tr')): <neuro_dmt.models.bluebrain.circuit.adapter.query.SpatialQueryData at 0x132afecd0>,\n",
       "  (('layer', 'L6'),\n",
       "   ('mtype', 'L23_MC'),\n",
       "   ('region',\n",
       "    'S1Tr')): <neuro_dmt.models.bluebrain.circuit.adapter.query.SpatialQueryData at 0x132afed90>,\n",
       "  (('layer', 'L6'),\n",
       "   ('mtype', 'L23_ChC'),\n",
       "   ('region',\n",
       "    'S1Tr')): <neuro_dmt.models.bluebrain.circuit.adapter.query.SpatialQueryData at 0x131b6af90>,\n",
       "  (('layer', 'L6'),\n",
       "   ('mtype', 'L23_SBC'),\n",
       "   ('region',\n",
       "    'S1Tr')): <neuro_dmt.models.bluebrain.circuit.adapter.query.SpatialQueryData at 0x12e70aed0>,\n",
       "  (('layer', 'L6'),\n",
       "   ('mtype', 'L4_LBC'),\n",
       "   ('region',\n",
       "    'S1Tr')): <neuro_dmt.models.bluebrain.circuit.adapter.query.SpatialQueryData at 0x1331f4190>,\n",
       "  (('layer', 'L6'),\n",
       "   ('mtype', 'L4_NGC'),\n",
       "   ('region',\n",
       "    'S1Tr')): <neuro_dmt.models.bluebrain.circuit.adapter.query.SpatialQueryData at 0x131321190>,\n",
       "  (('layer', 'L6'),\n",
       "   ('mtype', 'L4_TPC'),\n",
       "   ('region',\n",
       "    'S1Tr')): <neuro_dmt.models.bluebrain.circuit.adapter.query.SpatialQueryData at 0x133011210>,\n",
       "  (('layer', 'L6'),\n",
       "   ('mtype', 'L5_DBC'),\n",
       "   ('region',\n",
       "    'S1Tr')): <neuro_dmt.models.bluebrain.circuit.adapter.query.SpatialQueryData at 0x12e70a6d0>,\n",
       "  (('layer', 'L6'),\n",
       "   ('mtype', 'L5_MC'),\n",
       "   ('region',\n",
       "    'S1Tr')): <neuro_dmt.models.bluebrain.circuit.adapter.query.SpatialQueryData at 0x133043110>,\n",
       "  (('layer', 'L6'),\n",
       "   ('mtype', 'L5_TPC:A'),\n",
       "   ('region',\n",
       "    'S1Tr')): <neuro_dmt.models.bluebrain.circuit.adapter.query.SpatialQueryData at 0x1326e77d0>,\n",
       "  (('layer', 'L6'),\n",
       "   ('mtype', 'L5_TPC:B'),\n",
       "   ('region',\n",
       "    'S1Tr')): <neuro_dmt.models.bluebrain.circuit.adapter.query.SpatialQueryData at 0x1330110d0>,\n",
       "  (('layer', 'L6'),\n",
       "   ('mtype', 'L5_UPC'),\n",
       "   ('region',\n",
       "    'S1Tr')): <neuro_dmt.models.bluebrain.circuit.adapter.query.SpatialQueryData at 0x1325de2d0>,\n",
       "  (('layer', 'L6'),\n",
       "   ('mtype', 'L6_ChC'),\n",
       "   ('region',\n",
       "    'S1Tr')): <neuro_dmt.models.bluebrain.circuit.adapter.query.SpatialQueryData at 0x1326f3a50>,\n",
       "  (('layer', 'L6'),\n",
       "   ('mtype', 'L6_IPC'),\n",
       "   ('region',\n",
       "    'S1Tr')): <neuro_dmt.models.bluebrain.circuit.adapter.query.SpatialQueryData at 0x132507390>,\n",
       "  (('layer', 'L6'),\n",
       "   ('mtype', 'L6_MC'),\n",
       "   ('region',\n",
       "    'S1Tr')): <neuro_dmt.models.bluebrain.circuit.adapter.query.SpatialQueryData at 0x1333f6210>,\n",
       "  (('layer', 'L6'),\n",
       "   ('mtype', 'L6_TPC:A'),\n",
       "   ('region',\n",
       "    'S1Tr')): <neuro_dmt.models.bluebrain.circuit.adapter.query.SpatialQueryData at 0x133676ad0>,\n",
       "  (('layer', 'L6'),\n",
       "   ('mtype', 'L6_TPC:B'),\n",
       "   ('region',\n",
       "    'S1Tr')): <neuro_dmt.models.bluebrain.circuit.adapter.query.SpatialQueryData at 0x133658450>,\n",
       "  (('layer', 'L6'),\n",
       "   ('mtype', 'L6_UPC'),\n",
       "   ('region',\n",
       "    'S1Tr')): <neuro_dmt.models.bluebrain.circuit.adapter.query.SpatialQueryData at 0x133b9b650>,\n",
       "  (('depth',\n",
       "    <FrozenOrderedDict OrderedDict([('begin', 0.0), ('end', 50.0)])>),): <neuro_dmt.models.bluebrain.circuit.adapter.query.SpatialQueryData at 0x1343e8150>,\n",
       "  (('depth',\n",
       "    <FrozenOrderedDict OrderedDict([('begin', 50.0), ('end', 100.0)])>),): <neuro_dmt.models.bluebrain.circuit.adapter.query.SpatialQueryData at 0x129bcd790>,\n",
       "  (('depth',\n",
       "    <FrozenOrderedDict OrderedDict([('begin', 100.0), ('end', 150.0)])>),): <neuro_dmt.models.bluebrain.circuit.adapter.query.SpatialQueryData at 0x11f022c90>,\n",
       "  (('depth',\n",
       "    <FrozenOrderedDict OrderedDict([('begin', 150.0), ('end', 200.0)])>),): <neuro_dmt.models.bluebrain.circuit.adapter.query.SpatialQueryData at 0x1203f0910>,\n",
       "  (('depth',\n",
       "    <FrozenOrderedDict OrderedDict([('begin', 200.0), ('end', 250.0)])>),): <neuro_dmt.models.bluebrain.circuit.adapter.query.SpatialQueryData at 0x11f1bf950>,\n",
       "  (('depth',\n",
       "    <FrozenOrderedDict OrderedDict([('begin', 250.0), ('end', 300.0)])>),): <neuro_dmt.models.bluebrain.circuit.adapter.query.SpatialQueryData at 0x12eb222d0>,\n",
       "  (('depth',\n",
       "    <FrozenOrderedDict OrderedDict([('begin', 300.0), ('end', 350.0)])>),): <neuro_dmt.models.bluebrain.circuit.adapter.query.SpatialQueryData at 0x12262e0d0>,\n",
       "  (('depth',\n",
       "    <FrozenOrderedDict OrderedDict([('begin', 350.0), ('end', 400.0)])>),): <neuro_dmt.models.bluebrain.circuit.adapter.query.SpatialQueryData at 0x1213d8990>,\n",
       "  (('depth',\n",
       "    <FrozenOrderedDict OrderedDict([('begin', 400.0), ('end', 450.0)])>),): <neuro_dmt.models.bluebrain.circuit.adapter.query.SpatialQueryData at 0x12aa55e90>,\n",
       "  (('depth',\n",
       "    <FrozenOrderedDict OrderedDict([('begin', 450.0), ('end', 500.0)])>),): <neuro_dmt.models.bluebrain.circuit.adapter.query.SpatialQueryData at 0x13314c3d0>,\n",
       "  (('depth',\n",
       "    <FrozenOrderedDict OrderedDict([('begin', 500.0), ('end', 550.0)])>),): <neuro_dmt.models.bluebrain.circuit.adapter.query.SpatialQueryData at 0x123acb190>,\n",
       "  (('depth',\n",
       "    <FrozenOrderedDict OrderedDict([('begin', 550.0), ('end', 600.0)])>),): <neuro_dmt.models.bluebrain.circuit.adapter.query.SpatialQueryData at 0x1359065d0>,\n",
       "  (('depth',\n",
       "    <FrozenOrderedDict OrderedDict([('begin', 600.0), ('end', 650.0)])>),): <neuro_dmt.models.bluebrain.circuit.adapter.query.SpatialQueryData at 0x134428cd0>,\n",
       "  (('depth',\n",
       "    <FrozenOrderedDict OrderedDict([('begin', 650.0), ('end', 700.0)])>),): <neuro_dmt.models.bluebrain.circuit.adapter.query.SpatialQueryData at 0x1357ae610>,\n",
       "  (('depth',\n",
       "    <FrozenOrderedDict OrderedDict([('begin', 700.0), ('end', 750.0)])>),): <neuro_dmt.models.bluebrain.circuit.adapter.query.SpatialQueryData at 0x1355ccb90>,\n",
       "  (('depth',\n",
       "    <FrozenOrderedDict OrderedDict([('begin', 750.0), ('end', 800.0)])>),): <neuro_dmt.models.bluebrain.circuit.adapter.query.SpatialQueryData at 0x121e94dd0>,\n",
       "  (('depth',\n",
       "    <FrozenOrderedDict OrderedDict([('begin', 800.0), ('end', 850.0)])>),): <neuro_dmt.models.bluebrain.circuit.adapter.query.SpatialQueryData at 0x1355d7e90>,\n",
       "  (('depth',\n",
       "    <FrozenOrderedDict OrderedDict([('begin', 850.0), ('end', 900.0)])>),): <neuro_dmt.models.bluebrain.circuit.adapter.query.SpatialQueryData at 0x1351e69d0>,\n",
       "  (('depth',\n",
       "    <FrozenOrderedDict OrderedDict([('begin', 900.0), ('end', 950.0)])>),): <neuro_dmt.models.bluebrain.circuit.adapter.query.SpatialQueryData at 0x134d36990>,\n",
       "  (('depth',\n",
       "    <FrozenOrderedDict OrderedDict([('begin', 950.0), ('end', 1000.0)])>),): <neuro_dmt.models.bluebrain.circuit.adapter.query.SpatialQueryData at 0x134d36c90>,\n",
       "  (('depth',\n",
       "    <FrozenOrderedDict OrderedDict([('begin', 1000.0), ('end', 1050.0)])>),): <neuro_dmt.models.bluebrain.circuit.adapter.query.SpatialQueryData at 0x135112310>,\n",
       "  (('depth',\n",
       "    <FrozenOrderedDict OrderedDict([('begin', 1050.0), ('end', 1100.0)])>),): <neuro_dmt.models.bluebrain.circuit.adapter.query.SpatialQueryData at 0x134540490>,\n",
       "  (('depth',\n",
       "    <FrozenOrderedDict OrderedDict([('begin', 1100.0), ('end', 1150.0)])>),): <neuro_dmt.models.bluebrain.circuit.adapter.query.SpatialQueryData at 0x134699c90>,\n",
       "  (('depth',\n",
       "    <FrozenOrderedDict OrderedDict([('begin', 1150.0), ('end', 1200.0)])>),): <neuro_dmt.models.bluebrain.circuit.adapter.query.SpatialQueryData at 0x134540990>,\n",
       "  (('depth',\n",
       "    <FrozenOrderedDict OrderedDict([('begin', 1200.0), ('end', 1250.0)])>),): <neuro_dmt.models.bluebrain.circuit.adapter.query.SpatialQueryData at 0x1344dc9d0>,\n",
       "  (('depth',\n",
       "    <FrozenOrderedDict OrderedDict([('begin', 1250.0), ('end', 1300.0)])>),): <neuro_dmt.models.bluebrain.circuit.adapter.query.SpatialQueryData at 0x135029650>,\n",
       "  (('depth',\n",
       "    <FrozenOrderedDict OrderedDict([('begin', 1300.0), ('end', 1350.0)])>),): <neuro_dmt.models.bluebrain.circuit.adapter.query.SpatialQueryData at 0x134450a50>,\n",
       "  (('depth',\n",
       "    <FrozenOrderedDict OrderedDict([('begin', 1350.0), ('end', 1400.0)])>),): <neuro_dmt.models.bluebrain.circuit.adapter.query.SpatialQueryData at 0x1345fa450>,\n",
       "  (('depth',\n",
       "    <FrozenOrderedDict OrderedDict([('begin', 1400.0), ('end', 1450.0)])>),): <neuro_dmt.models.bluebrain.circuit.adapter.query.SpatialQueryData at 0x13444bc10>,\n",
       "  (('depth',\n",
       "    <FrozenOrderedDict OrderedDict([('begin', 1450.0), ('end', 1500.0)])>),): <neuro_dmt.models.bluebrain.circuit.adapter.query.SpatialQueryData at 0x135547750>,\n",
       "  (('depth',\n",
       "    <FrozenOrderedDict OrderedDict([('begin', 1500.0), ('end', 1550.0)])>),): <neuro_dmt.models.bluebrain.circuit.adapter.query.SpatialQueryData at 0x1347cbed0>,\n",
       "  (('depth',\n",
       "    <FrozenOrderedDict OrderedDict([('begin', 1550.0), ('end', 1600.0)])>),): <neuro_dmt.models.bluebrain.circuit.adapter.query.SpatialQueryData at 0x134bacd10>,\n",
       "  (('depth',\n",
       "    <FrozenOrderedDict OrderedDict([('begin', 1600.0), ('end', 1650.0)])>),): <neuro_dmt.models.bluebrain.circuit.adapter.query.SpatialQueryData at 0x13444b890>,\n",
       "  (('depth',\n",
       "    <FrozenOrderedDict OrderedDict([('begin', 1650.0), ('end', 1700.0)])>),): <neuro_dmt.models.bluebrain.circuit.adapter.query.SpatialQueryData at 0x1344ce490>,\n",
       "  (('depth',\n",
       "    <FrozenOrderedDict OrderedDict([('begin', 1700.0), ('end', 1750.0)])>),): <neuro_dmt.models.bluebrain.circuit.adapter.query.SpatialQueryData at 0x134c5a790>,\n",
       "  (('depth',\n",
       "    <FrozenOrderedDict OrderedDict([('begin', 1750.0), ('end', 1800.0)])>),): <neuro_dmt.models.bluebrain.circuit.adapter.query.SpatialQueryData at 0x134e34450>,\n",
       "  (('depth',\n",
       "    <FrozenOrderedDict OrderedDict([('begin', 1800.0), ('end', 1850.0)])>),): <neuro_dmt.models.bluebrain.circuit.adapter.query.SpatialQueryData at 0x1351b4650>,\n",
       "  (('depth',\n",
       "    <FrozenOrderedDict OrderedDict([('begin', 1850.0), ('end', 1900.0)])>),): <neuro_dmt.models.bluebrain.circuit.adapter.query.SpatialQueryData at 0x134c5ef50>,\n",
       "  (('depth',\n",
       "    <FrozenOrderedDict OrderedDict([('begin', 1900.0), ('end', 1950.0)])>),): <neuro_dmt.models.bluebrain.circuit.adapter.query.SpatialQueryData at 0x1355b0890>,\n",
       "  (('depth',\n",
       "    <FrozenOrderedDict OrderedDict([('begin', 1950.0), ('end', 2000.0)])>),): <neuro_dmt.models.bluebrain.circuit.adapter.query.SpatialQueryData at 0x1353a61d0>,\n",
       "  (('depth',\n",
       "    <FrozenOrderedDict OrderedDict([('begin', 2000.0), ('end', 2050.0)])>),): <neuro_dmt.models.bluebrain.circuit.adapter.query.SpatialQueryData at 0x135185550>,\n",
       "  (('depth',\n",
       "    <FrozenOrderedDict OrderedDict([('begin', 2050.0), ('end', 2100.0)])>),): <neuro_dmt.models.bluebrain.circuit.adapter.query.SpatialQueryData at 0x1350c1410>,\n",
       "  (('depth',\n",
       "    <FrozenOrderedDict OrderedDict([('begin', 2100.0), ('end', 2150.0)])>),): <neuro_dmt.models.bluebrain.circuit.adapter.query.SpatialQueryData at 0x1353ccd50>,\n",
       "  (('depth',\n",
       "    <FrozenOrderedDict OrderedDict([('begin', 2150.0), ('end', 2200.0)])>),): <neuro_dmt.models.bluebrain.circuit.adapter.query.SpatialQueryData at 0x1349ea150>,\n",
       "  (('depth',\n",
       "    <FrozenOrderedDict OrderedDict([('begin', 2200.0), ('end', 2250.0)])>),): <neuro_dmt.models.bluebrain.circuit.adapter.query.SpatialQueryData at 0x1349ea9d0>,\n",
       "  (('depth',\n",
       "    <FrozenOrderedDict OrderedDict([('begin', 2250.0), ('end', 2300.0)])>),): <neuro_dmt.models.bluebrain.circuit.adapter.query.SpatialQueryData at 0x134ea7090>,\n",
       "  (('depth',\n",
       "    <FrozenOrderedDict OrderedDict([('begin', 2300.0), ('end', 2350.0)])>),): <neuro_dmt.models.bluebrain.circuit.adapter.query.SpatialQueryData at 0x135461690>,\n",
       "  (('depth',\n",
       "    <FrozenOrderedDict OrderedDict([('begin', 2350.0), ('end', 2400.0)])>),): <neuro_dmt.models.bluebrain.circuit.adapter.query.SpatialQueryData at 0x134dbc910>,\n",
       "  (('depth',\n",
       "    <FrozenOrderedDict OrderedDict([('begin', 2400.0), ('end', 2450.0)])>),): <neuro_dmt.models.bluebrain.circuit.adapter.query.SpatialQueryData at 0x13529fc50>,\n",
       "  (('depth',\n",
       "    <FrozenOrderedDict OrderedDict([('begin', 2450.0), ('end', 2500.0)])>),): <neuro_dmt.models.bluebrain.circuit.adapter.query.SpatialQueryData at 0x134cd7e90>,\n",
       "  (('depth',\n",
       "    <FrozenOrderedDict OrderedDict([('begin', 2500.0), ('end', 2550.0)])>),): <neuro_dmt.models.bluebrain.circuit.adapter.query.SpatialQueryData at 0x134c0eb10>}}"
      ]
     },
     "execution_count": 42,
     "metadata": {},
     "output_type": "execute_result"
    }
   ],
   "source": [
    "adapter.visible_voxels.store"
   ]
  },
  {
   "cell_type": "code",
   "execution_count": 41,
   "metadata": {
    "ExecuteTime": {
     "end_time": "2019-12-03T17:20:33.651813Z",
     "start_time": "2019-12-03T17:20:33.647568Z"
    }
   },
   "outputs": [],
   "source": [
    "assert adapter.visible_voxels._hashed({\"depth\": {\"begin\": 100., \"end\": 200.}})\\\n",
    "     != adapter.visible_voxels._hashed({\"depth\": {\"begin\": 0., \"end\": 100.}})"
   ]
  },
  {
   "cell_type": "code",
   "execution_count": null,
   "metadata": {
    "ExecuteTime": {
     "end_time": "2019-12-03T16:29:27.925813Z",
     "start_time": "2019-12-03T16:29:27.922023Z"
    }
   },
   "outputs": [],
   "source": [
    " def _hashable(xs):\n",
    "    \"\"\"\n",
    "    Get hash for a query.\n",
    "    \"\"\"\n",
    "    try:\n",
    "        _ = hash(xs)\n",
    "        return xs\n",
    "    except TypeError:\n",
    "        return ';'.join(str(x) for x in xs)\n",
    "    raise RuntimeError(\n",
    "        \"Execution of _hashed(...) should not reach here.\")\n"
   ]
  },
  {
   "cell_type": "code",
   "execution_count": null,
   "metadata": {
    "ExecuteTime": {
     "end_time": "2019-12-03T16:29:44.412492Z",
     "start_time": "2019-12-03T16:29:44.408227Z"
    }
   },
   "outputs": [],
   "source": [
    "_hashable({\"begin\": 0., \"end\": 100.})"
   ]
  },
  {
   "cell_type": "code",
   "execution_count": null,
   "metadata": {
    "ExecuteTime": {
     "end_time": "2019-12-03T16:55:06.123634Z",
     "start_time": "2019-12-03T16:55:06.120185Z"
    }
   },
   "outputs": [],
   "source": [
    "from dmt.tk.collections.data import make_hashable\n",
    "assert hash(make_hashable({\"begin\": 0., \"end\": 100.}))\\\n",
    "    != hash(make_hashable({\"begin\": 100., \"end\": 200.}))"
   ]
  },
  {
   "cell_type": "code",
   "execution_count": null,
   "metadata": {
    "ExecuteTime": {
     "end_time": "2019-12-03T16:37:13.181331Z",
     "start_time": "2019-12-03T16:37:13.176805Z"
    }
   },
   "outputs": [],
   "source": [
    "make_hashable({\"ah\": \"bah\", \"gah\": \"mah\"})"
   ]
  },
  {
   "cell_type": "code",
   "execution_count": null,
   "metadata": {
    "ExecuteTime": {
     "end_time": "2019-12-03T16:37:28.316975Z",
     "start_time": "2019-12-03T16:37:28.312137Z"
    }
   },
   "outputs": [],
   "source": [
    "\n",
    "make_hashable({\"gah\": \"mah\", \"ah\": \"bah\"})"
   ]
  },
  {
   "cell_type": "code",
   "execution_count": null,
   "metadata": {
    "ExecuteTime": {
     "end_time": "2019-12-03T16:38:44.535564Z",
     "start_time": "2019-12-03T16:38:44.528981Z"
    }
   },
   "outputs": [],
   "source": [
    "sorted(tuple({3:4, 1:2}.items()), key=lambda kv: kv[0])"
   ]
  },
  {
   "cell_type": "code",
   "execution_count": null,
   "metadata": {
    "ExecuteTime": {
     "end_time": "2019-12-03T16:55:30.768625Z",
     "start_time": "2019-12-03T16:55:30.763651Z"
    }
   },
   "outputs": [],
   "source": [
    "make_hashable({\"ah\": {1:2}, \"bah\": {\"gah\": \"jaja\"}})"
   ]
  },
  {
   "cell_type": "code",
   "execution_count": null,
   "metadata": {
    "ExecuteTime": {
     "end_time": "2019-12-03T16:58:22.378994Z",
     "start_time": "2019-12-03T16:58:22.373566Z"
    }
   },
   "outputs": [],
   "source": [
    "from collections import OrderedDict\n",
    "\n",
    "isinstance(OrderedDict(), dict)"
   ]
  },
  {
   "cell_type": "code",
   "execution_count": null,
   "metadata": {
    "ExecuteTime": {
     "end_time": "2019-12-03T16:59:41.941569Z",
     "start_time": "2019-12-03T16:59:41.936693Z"
    }
   },
   "outputs": [],
   "source": [
    "from frozendict import FrozenOrderedDict\n",
    "\n",
    "isinstance(FrozenOrderedDict(), dict)"
   ]
  },
  {
   "cell_type": "code",
   "execution_count": null,
   "metadata": {
    "ExecuteTime": {
     "end_time": "2019-12-03T17:02:45.332524Z",
     "start_time": "2019-12-03T17:02:45.325420Z"
    }
   },
   "outputs": [],
   "source": [
    "FrozenOrderedDict(OrderedDict(sorted({9:4, 6:7}.items(), key=lambda kv: kv[0])))"
   ]
  },
  {
   "cell_type": "code",
   "execution_count": 49,
   "metadata": {
    "ExecuteTime": {
     "end_time": "2019-12-03T17:48:32.107455Z",
     "start_time": "2019-12-03T17:48:32.104913Z"
    }
   },
   "outputs": [],
   "source": [
    "import seaborn\n"
   ]
  },
  {
   "cell_type": "code",
   "execution_count": 53,
   "metadata": {
    "ExecuteTime": {
     "end_time": "2019-12-03T17:50:38.647240Z",
     "start_time": "2019-12-03T17:50:38.630798Z"
    },
    "code_folding": []
   },
   "outputs": [],
   "source": [
    "import pandas\n",
    "import matplotlib.pyplot as plt\n",
    "import seaborn\n",
    "from dmt.tk.utils.string_utils import make_name\n",
    "from dmt.tk.field import Field, LambdaField, lazyfield, WithFields\n",
    "from dmt.data.observation import measurement\n",
    "from dmt.tk.plotting import golden_aspect_ratio\n",
    "from dmt.tk.plotting.figure import Figure\n",
    "\n",
    "\n",
    "\n",
    "class LinePlot(WithFields):\n",
    "    \"\"\"\n",
    "    Define the requirements and behavior of a line plot.\n",
    "    \"\"\"\n",
    "    xvar = Field(\n",
    "        \"\"\"\n",
    "        Column in the data-frame to be plotted along the x-axis.\n",
    "        \"\"\")\n",
    "    yvar= Field(\n",
    "        \"\"\"\n",
    "        Column in the data-frame to be plotted along the y-axis.\n",
    "        \"\"\")\n",
    "    gvar = Field(\n",
    "        \"\"\"\n",
    "        Geometry Variable: column in the dataframe that will be plotted as\n",
    "        different geometries (i.e. lines for `LinePlot`).\n",
    "        A default value of empty string will be interpreted as not set,\n",
    "        and hence there will be only a single line in the plot.\n",
    "        \"\"\",\n",
    "        __default_value__=\"\")\n",
    "    fvar = Field(\n",
    "        \"\"\"\n",
    "        Facet Variable: Column in the dataframe that will be plotted on several\n",
    "        faces. A default value of empty string will be interpreted as not set,\n",
    "        and hence there will be only one face in the figure.\n",
    "        \"\"\",\n",
    "        __default_value__=\"\")\n",
    "    xlabel = LambdaField(\n",
    "        \"\"\"\n",
    "        The label to be displayed along the y-axis.\n",
    "        Default value of an empty string will cause `xvar` to be displayed.\n",
    "        \"\"\",\n",
    "        lambda self: self.xvar)\n",
    "    ylabel = LambdaField(\n",
    "        \"\"\"\n",
    "        The label to be displayed along the y-axis.\n",
    "        Default value of an empty string will cause `yvar` to be displayed.\n",
    "        \"\"\",\n",
    "        lambda self: self.yvar)\n",
    "    height_figure = Field(\n",
    "        \"\"\"\n",
    "        Height of the figure.\n",
    "        \"\"\",\n",
    "        __default_value__=12.)\n",
    "    aspect_ratio_figure = Field(\n",
    "        \"\"\"\n",
    "        Aspect ratio width / height for the figure.\n",
    "        \"\"\",\n",
    "        __default_value__=golden_aspect_ratio)\n",
    "    number_columns = LambdaField(\n",
    "        \"\"\"\n",
    "        Number of columns in the figure.\n",
    "        \"\"\",\n",
    "        lambda self: None if not self.fvar else 3)\n",
    "    drawstyle = Field(\n",
    "        \"\"\"\n",
    "        Specify how to draw the lines that join the (x, y) points.\n",
    "        Default value join the points with simple points. Other possibilities\n",
    "        are steps.\n",
    "        \"\"\",\n",
    "        __default_value__=\"default\")\n",
    "\n",
    "    def get_dataframe(self, data, dataset=None):\n",
    "        \"\"\"\n",
    "        Extract the dataframe to plot.\n",
    "        \"\"\"\n",
    "        if dataset:\n",
    "            raise NotImplementedError(\n",
    "            \"\"\"\n",
    "                `LinePLot.get_figure(...)` current version does not support\n",
    "                argument `dataset`.\n",
    "                \"\"\")\n",
    "        if isinstance(data, (pandas.Series, pandas.DataFrame)):\n",
    "            return data.reset_index()\n",
    "        return measurement.concat_as_samples(data).reset_index()\n",
    "\n",
    "    def get_figure(self,\n",
    "            data,\n",
    "            *args,\n",
    "            dataset=None,\n",
    "            caption=\"Caption not provided\"):\n",
    "        \"\"\"\n",
    "        Plot the data.\n",
    "\n",
    "        Arguments\n",
    "        -------------\n",
    "        data : Either a dataframe or a dict mapping dataset to dataframe.\n",
    "        dataset : dataset or list of dataset names whose data will be plotted.\n",
    "        \"\"\"\n",
    "        def _make_name(label):\n",
    "            return make_name(\n",
    "                '_'.join(label) if isinstance(label, tuple) else label,\n",
    "                separator='_')\n",
    "\n",
    "        grid = seaborn\\\n",
    "            .FacetGrid(\n",
    "                self.get_dataframe(data, dataset),\n",
    "                col=self.fvar if self.fvar else None,\n",
    "                hue=self.gvar if self.gvar else None,\n",
    "                col_wrap=self.number_columns,\n",
    "                height=self.height_figure,\n",
    "                aspect=self.aspect_ratio_figure,\n",
    "                legend_out=True)\n",
    "        grid.map(\n",
    "            seaborn.lineplot,\n",
    "            self.xvar,\n",
    "            self.yvar,\n",
    "            drawstyle=self.drawstyle,\n",
    "            alpha=0.7\n",
    "        ).set_titles(\n",
    "            _make_name(self.fvar) + \"\\n{col_name} \"\n",
    "        ).add_legend(\n",
    "            title=_make_name(self.gvar))\n",
    "        return Figure(\n",
    "            grid.set(\n",
    "                xlabel=self.xlabel,\n",
    "                ylabel=self.ylabel),\n",
    "            caption=caption)\n",
    "\n",
    "    def plot(self,\n",
    "            *args, **kwargs):\n",
    "        \"\"\"\n",
    "        Plot the data\n",
    "\n",
    "        Arguments\n",
    "        -----------\n",
    "        data : A dict mapping dataset to dataframe.\n",
    "        \"\"\"\n",
    "        return self.get_figure(*args, **kwargs)\n",
    "\n",
    "    def __call__(self,\n",
    "            data):\n",
    "        \"\"\"\n",
    "        Make this class a callable,\n",
    "        so that it can masquerade as a function!\n",
    "\n",
    "        Arguments\n",
    "        -----------\n",
    "        data : A dict mapping dataset to dataframe.\n",
    "        \"\"\"\n",
    "        return self.get_figure(*args, **kwargs)\n"
   ]
  },
  {
   "cell_type": "code",
   "execution_count": 54,
   "metadata": {
    "ExecuteTime": {
     "end_time": "2019-12-03T17:50:39.562621Z",
     "start_time": "2019-12-03T17:50:39.553740Z"
    }
   },
   "outputs": [],
   "source": [
    "line_plot = LinePlot(\n",
    "    xvar=(\"depth\", \"begin\"),\n",
    "    xlabel=\"Cortical Depth\",\n",
    "    yvar=cell_density_phenomenon.label,\n",
    "    ylabel=cell_density_phenomenon.name,\n",
    "    drawstyle=\"steps-mid\")"
   ]
  },
  {
   "cell_type": "code",
   "execution_count": 55,
   "metadata": {
    "ExecuteTime": {
     "end_time": "2019-12-03T17:50:42.184871Z",
     "start_time": "2019-12-03T17:50:40.219461Z"
    }
   },
   "outputs": [
    {
     "data": {
      "text/plain": [
       "<dmt.tk.plotting.figure.Figure at 0x1344ce290>"
      ]
     },
     "execution_count": 55,
     "metadata": {},
     "output_type": "execute_result"
    },
    {
     "data": {
      "image/png": "[encoded data removed]",
      "text/plain": [
       "<Figure size 1405.98x864 with 1 Axes>"
      ]
     },
     "metadata": {
      "needs_background": "light"
     },
     "output_type": "display_data"
    }
   ],
   "source": [
    "line_plot.get_figure(cell_density_by_depth_measurement[\"data\"])"
   ]
  },
  {
   "cell_type": "code",
   "execution_count": null,
   "metadata": {},
   "outputs": [],
   "source": []
  }
 ],
 "metadata": {
  "kernelspec": {
   "display_name": "Python 3",
   "language": "python",
   "name": "python3"
  },
  "language_info": {
   "codemirror_mode": {
    "name": "ipython",
    "version": 3
   },
   "file_extension": ".py",
   "mimetype": "text/x-python",
   "name": "python",
   "nbconvert_exporter": "python",
   "pygments_lexer": "ipython3",
   "version": "3.7.4"
  },
  "latex_envs": {
   "LaTeX_envs_menu_present": true,
   "autoclose": false,
   "autocomplete": true,
   "bibliofile": "biblio.bib",
   "cite_by": "apalike",
   "current_citInitial": 1,
   "eqLabelWithNumbers": true,
   "eqNumInitial": 1,
   "hotkeys": {
    "equation": "Ctrl-E",
    "itemize": "Ctrl-I"
   },
   "labels_anchors": false,
   "latex_user_defs": false,
   "report_style_numbering": false,
   "user_envs_cfg": false
  },
  "toc": {
   "base_numbering": 1,
   "nav_menu": {},
   "number_sections": true,
   "sideBar": true,
   "skip_h1_title": false,
   "title_cell": "Table of Contents",
   "title_sidebar": "Contents",
   "toc_cell": false,
   "toc_position": {},
   "toc_section_display": true,
   "toc_window_display": true
  },
  "varInspector": {
   "cols": {
    "lenName": 16,
    "lenType": 16,
    "lenVar": 40
   },
   "kernels_config": {
    "python": {
     "delete_cmd_postfix": "",
     "delete_cmd_prefix": "del ",
     "library": "var_list.py",
     "varRefreshCmd": "print(var_dic_list())"
    },
    "r": {
     "delete_cmd_postfix": ") ",
     "delete_cmd_prefix": "rm(",
     "library": "var_list.r",
     "varRefreshCmd": "cat(var_dic_list()) "
    }
   },
   "types_to_exclude": [
    "module",
    "function",
    "builtin_function_or_method",
    "instance",
    "_Feature"
   ],
   "window_display": false
  }
 },
 "nbformat": 4,
 "nbformat_minor": 2
}
