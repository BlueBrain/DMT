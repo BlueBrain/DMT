{
 "cells": [
  {
   "cell_type": "markdown",
   "metadata": {},
   "source": [
    "# Circuit Composition \n",
    "\n",
    "We study the composition of SSCx Dissemination circuits.\n",
    "\n",
    "## Review of 2017 Release"
   ]
  },
  {
   "cell_type": "markdown",
   "metadata": {},
   "source": [
    "# Analysis Suite\n",
    "\n",
    "In this section we develop a suite of analyses for the circuits built at the Blue Brain Project."
   ]
  },
  {
   "cell_type": "code",
   "execution_count": 1,
   "metadata": {
    "ExecuteTime": {
     "end_time": "2019-12-02T16:52:49.661966Z",
     "start_time": "2019-12-02T16:52:48.622522Z"
    }
   },
   "outputs": [
    {
     "name": "stdout",
     "output_type": "stream",
     "text": [
      "('region', 'layer', 'depth', 'height', 'mesocolumn', 'hypercolumn', 'roi', 'mtype', 'etype', 'synapse_class', 'postsynaptic', 'presynaptic')\n",
      "('region', 'layer', 'depth', 'height', 'mesocolumn', 'hypercolumn', 'roi', 'mtype', 'etype', 'synapse_class', 'postsynaptic', 'presynaptic')\n",
      "('region', 'layer', 'depth', 'height', 'mesocolumn', 'hypercolumn', 'roi', 'mtype', 'etype', 'synapse_class', 'postsynaptic', 'presynaptic')\n",
      "('region', 'layer', 'depth', 'height', 'mtype', 'etype', 'synapse_class')\n",
      "('region', 'layer', 'depth', 'height', 'mesocolumn', 'hypercolumn', 'roi', 'mtype', 'etype', 'synapse_class', 'postsynaptic', 'presynaptic')\n",
      "('region', 'layer', 'depth', 'height', 'mesocolumn', 'hypercolumn', 'roi')\n"
     ]
    }
   ],
   "source": [
    "import numpy as np\n",
    "import pandas as pd\n",
    "from neuro_dmt.analysis.circuit import BrainCircuitAnalysis\n",
    "from neuro_dmt.models.bluebrain.circuit.model import BlueBrainCircuitModel\n",
    "from neuro_dmt.models.bluebrain.circuit.adapter import BlueBrainCircuitAdapter"
   ]
  },
  {
   "cell_type": "markdown",
   "metadata": {},
   "source": [
    "For the analysis suite, we can define components that will be common to all the\n",
    "analyses we will collect in the suite.\n",
    "\n",
    "The reference data we will use for validating the circuit consists of experimental\n",
    "measurements made for each of the 6 cortical layers. Accordingly, we will make\n",
    "measurements of the composition of the model circuit by layer.\n",
    "\n",
    "For example, we will be computing several circuit composition phenomena by \n",
    "cortical layer."
   ]
  },
  {
   "cell_type": "code",
   "execution_count": 2,
   "metadata": {
    "ExecuteTime": {
     "end_time": "2019-12-02T16:52:53.625860Z",
     "start_time": "2019-12-02T16:52:53.618355Z"
    },
    "code_folding": [
     2,
     6,
     9
    ]
   },
   "outputs": [],
   "source": [
    "from dmt.tk.parameters import Parameters\n",
    "\n",
    "cortical_layers = [\n",
    "    \"L{}\".format(layer)\n",
    "    for layer in range(1, 7)\n",
    "]\n",
    "sscx_sub_regions = [\n",
    "    \"S1HL\", \"S1FL\", \"S1Sh\", \"S1Tr\"\n",
    "]\n",
    "regions_and_layers = Parameters(\n",
    "    pd.DataFrame({\n",
    "        \"region\": [\n",
    "            region\n",
    "            for _ in cortical_layers\n",
    "            for region in sscx_sub_regions],\n",
    "        \"layer\": [\n",
    "            layer\n",
    "            for layer in cortical_layers\n",
    "            for _ in sscx_sub_regions],\n",
    "    })\n",
    ")"
   ]
  },
  {
   "cell_type": "markdown",
   "metadata": {},
   "source": [
    "For our analyses, we will plot model measurements along with reference data.\n",
    "We will plot bars against layers for each of the 4 somatosensory cortex\n",
    "sub-regions. \n",
    "Our predefined plotters allow us to do this quite conveniently."
   ]
  },
  {
   "cell_type": "code",
   "execution_count": 3,
   "metadata": {
    "ExecuteTime": {
     "end_time": "2019-12-02T16:53:09.204207Z",
     "start_time": "2019-12-02T16:53:09.196867Z"
    }
   },
   "outputs": [],
   "source": [
    "from dmt.tk.plotting import Bars\n",
    "from dmt.tk.plotting.multi import MultiPlot\n",
    "\n",
    "def get_plotter(phenomenon): \n",
    "    return MultiPlot(\n",
    "        mvar=\"region\",\n",
    "        plotter=Bars(\n",
    "            xvar=\"layer\",\n",
    "            xlabel=\"Layer\",\n",
    "            yvar=phenomenon.label,\n",
    "            ylabel=phenomenon.name,\n",
    "            gvar=\"dataset\")\n",
    "    )"
   ]
  },
  {
   "cell_type": "markdown",
   "metadata": {},
   "source": [
    "We have utility classes to provide an analysis report. \n",
    "Since all the analyses in our suite will be on the same circuit,\n",
    "we can define a method to produce reports from analysis data,\n",
    "and include circuit meta-data in this method."
   ]
  },
  {
   "cell_type": "code",
   "execution_count": 4,
   "metadata": {
    "ExecuteTime": {
     "end_time": "2019-12-02T16:53:12.878322Z",
     "start_time": "2019-12-02T16:53:12.847799Z"
    }
   },
   "outputs": [],
   "source": [
    "from neuro_dmt.analysis.reporting import CircuitAnalysisReport\n",
    "\n",
    "def circuit_analysis_report(**analysis_data):\n",
    "    \"\"\"\n",
    "    Create a report for the data.\n",
    "    \"\"\"\n",
    "    return CircuitAnalysisReport(\n",
    "        animal=\"Wistar Rat\",\n",
    "        age=\"P12\",\n",
    "        brain_region=\"SSCx\",\n",
    "        uri=\"MockBlueBrainCircuitModel\",\n",
    "        **analysis_data\n",
    "    )"
   ]
  },
  {
   "cell_type": "markdown",
   "metadata": {},
   "source": [
    "We have validation reference data for cell densities and inhibitory cell ratios.\n",
    "This data is from the somatosensory cortex hind-limb measured for each layer\n",
    "in six individual rats. Since the same data was used to create cell density for \n",
    "all 4 sub-regions, we will use the same data to validate all 4 regions. To make\n",
    "the data usable with our pre-defined analysis tool-chain, we define dataframes\n",
    "with a column containing the region."
   ]
  },
  {
   "cell_type": "code",
   "execution_count": 5,
   "metadata": {
    "ExecuteTime": {
     "end_time": "2019-12-02T16:53:23.626128Z",
     "start_time": "2019-12-02T16:53:15.294699Z"
    }
   },
   "outputs": [],
   "source": [
    "from dmt.data.observation import measurement\n",
    "from neuro_dmt.data import rat\n",
    "\n",
    "def _with_sscx_subregions(\n",
    "    reference_dataframe):\n",
    "    \"\"\"\n",
    "    Insert a column for SSCx subregion s.\n",
    "    \"\"\"\n",
    "    return pd.concat([\n",
    "        reference_dataframe.reset_index(\n",
    "        ).assign(\n",
    "            region=region\n",
    "        ).set_index(\n",
    "            [\"region\", \"layer\"]\n",
    "        ) for region in sscx_sub_regions\n",
    "    ])\n",
    "cell_density_reference_data ={\n",
    "    \"DeFelipe2017\": _with_sscx_subregions(\n",
    "        rat.defelipe2017.summary_measurement.samples(1000)),\n",
    "    \"DeFelipe2014\": _with_sscx_subregions(\n",
    "        rat.defelipe2014.summary_measurement.samples(1000)),\n",
    "    \"meyer2010\": _with_sscx_subregions(\n",
    "        rat.meyer2010.samples(1000))\n",
    "}"
   ]
  },
  {
   "cell_type": "markdown",
   "metadata": {},
   "source": [
    "Our reference data now looks like,"
   ]
  },
  {
   "cell_type": "code",
   "execution_count": 6,
   "metadata": {
    "ExecuteTime": {
     "end_time": "2019-12-02T16:53:26.631542Z",
     "start_time": "2019-12-02T16:53:26.620000Z"
    }
   },
   "outputs": [
    {
     "data": {
      "text/html": [
       "<div>\n",
       "<style scoped>\n",
       "    .dataframe tbody tr th:only-of-type {\n",
       "        vertical-align: middle;\n",
       "    }\n",
       "\n",
       "    .dataframe tbody tr th {\n",
       "        vertical-align: top;\n",
       "    }\n",
       "\n",
       "    .dataframe thead th {\n",
       "        text-align: right;\n",
       "    }\n",
       "</style>\n",
       "<table border=\"1\" class=\"dataframe\">\n",
       "  <thead>\n",
       "    <tr style=\"text-align: right;\">\n",
       "      <th></th>\n",
       "      <th></th>\n",
       "      <th>cell_density</th>\n",
       "    </tr>\n",
       "    <tr>\n",
       "      <th>region</th>\n",
       "      <th>layer</th>\n",
       "      <th></th>\n",
       "    </tr>\n",
       "  </thead>\n",
       "  <tbody>\n",
       "    <tr>\n",
       "      <th rowspan=\"5\" valign=\"top\">S1HL</th>\n",
       "      <th>L1</th>\n",
       "      <td>10264.185123</td>\n",
       "    </tr>\n",
       "    <tr>\n",
       "      <th>L1</th>\n",
       "      <td>13573.186932</td>\n",
       "    </tr>\n",
       "    <tr>\n",
       "      <th>L1</th>\n",
       "      <td>10143.629479</td>\n",
       "    </tr>\n",
       "    <tr>\n",
       "      <th>L1</th>\n",
       "      <td>10224.329996</td>\n",
       "    </tr>\n",
       "    <tr>\n",
       "      <th>L1</th>\n",
       "      <td>13884.117174</td>\n",
       "    </tr>\n",
       "  </tbody>\n",
       "</table>\n",
       "</div>"
      ],
      "text/plain": [
       "              cell_density\n",
       "region layer              \n",
       "S1HL   L1     10264.185123\n",
       "       L1     13573.186932\n",
       "       L1     10143.629479\n",
       "       L1     10224.329996\n",
       "       L1     13884.117174"
      ]
     },
     "execution_count": 6,
     "metadata": {},
     "output_type": "execute_result"
    }
   ],
   "source": [
    "cell_density_reference_data[\"DeFelipe2017\"].head()"
   ]
  },
  {
   "cell_type": "markdown",
   "metadata": {},
   "source": [
    "With the parameters, plotters, and reporters defined above, we can compose an\n",
    "analysis."
   ]
  },
  {
   "cell_type": "code",
   "execution_count": 7,
   "metadata": {
    "ExecuteTime": {
     "end_time": "2019-12-02T16:53:29.288865Z",
     "start_time": "2019-12-02T16:53:29.282082Z"
    },
    "code_folding": [
     1,
     4
    ]
   },
   "outputs": [],
   "source": [
    "from dmt.tk.phenomenon import Phenomenon\n",
    "from neuro_dmt.analysis.circuit.composition.interfaces import\\\n",
    "    CellDensityAdapterInterface\n",
    "\n",
    "cell_density_phenomenon = Phenomenon(\n",
    "    \"Cell Density\",\n",
    "    \"Number of cells in a unit mm^3 volume.\",\n",
    "    group=\"Composition\"\n",
    ")\n",
    "cell_density_analysis = BrainCircuitAnalysis(\n",
    "    phenomenon=cell_density_phenomenon,\n",
    "    AdapterInterface = CellDensityAdapterInterface,\n",
    "    reference_data = cell_density_reference_data,\n",
    "    measurement_parameters = regions_and_layers,\n",
    "    plotter = get_plotter(cell_density_phenomenon),\n",
    "    report = circuit_analysis_report\n",
    ")"
   ]
  },
  {
   "cell_type": "markdown",
   "metadata": {},
   "source": [
    "We can define other analyses in the same way, by just changing analysis \n",
    "components. "
   ]
  },
  {
   "cell_type": "code",
   "execution_count": 8,
   "metadata": {
    "ExecuteTime": {
     "end_time": "2019-12-02T16:53:32.689389Z",
     "start_time": "2019-12-02T16:53:32.685996Z"
    },
    "code_folding": []
   },
   "outputs": [],
   "source": [
    "class InhbitoryCellFractionAnalysisAdapterInterface(\n",
    "    CellDensityAdapterInterface\n",
    "):\n",
    "    \"\"\"\n",
    "    Document circuit model adapter method to compute inhibitory cell fraction.\n",
    "    \"\"\"\n",
    "    \n",
    "    __measurement__ = \"inhibitory_cell_fraction\"\n",
    "    \n",
    "    def get_inhibitory_cell_fraction(self,\n",
    "        circuit_model,\n",
    "        **query):\n",
    "        \"\"\"\n",
    "        The query may contain keys specifying the region in the circuit\n",
    "        where the inhibitory cell fraction should be calculated.\n",
    "        \"\"\"\n",
    "        pass"
   ]
  },
  {
   "cell_type": "code",
   "execution_count": 9,
   "metadata": {
    "ExecuteTime": {
     "end_time": "2019-12-02T16:53:43.649192Z",
     "start_time": "2019-12-02T16:53:36.321508Z"
    }
   },
   "outputs": [],
   "source": [
    "inhibitory_cell_fraction_phenomenon = Phenomenon(\n",
    "    \"Inhibitory Cell Fraction\",\n",
    "    \"Fraction of inhibitory cells in a circuit.\",\n",
    "    group=\"Composition\"\n",
    ")\n",
    "\n",
    "inhibitory_cell_fraction_reference_data ={\n",
    "    \"Ghobril2012\": _with_sscx_subregions(rat.ghobril2012.samples(1000)),\n",
    "    \"LeFort2009\": _with_sscx_subregions(rat.lefort2009.samples(1000)),\n",
    "    \"Beaulieu1992\": _with_sscx_subregions(rat.beaulieu1992.samples(1000))\n",
    "}\n",
    "inhibitory_cell_fraction_analysis = BrainCircuitAnalysis(\n",
    "    phenomenon = inhibitory_cell_fraction_phenomenon,\n",
    "    AdapterInterface = InhbitoryCellFractionAnalysisAdapterInterface,\n",
    "    reference_data = inhibitory_cell_fraction_reference_data,\n",
    "    measurement_parameters = regions_and_layers,\n",
    "    plotter = get_plotter(inhibitory_cell_fraction_phenomenon),\n",
    "    report = circuit_analysis_report\n",
    ")"
   ]
  },
  {
   "cell_type": "markdown",
   "metadata": {},
   "source": [
    "We can use the analyses defined above to analyze any circuit\n",
    "built at the BBP. We start by analyzing a mock circuit that /programmatically/\n",
    "behaves exactly the same as a /real/ Blue Brain Project circuit model.\n",
    "## Mock circuit\n",
    "For developing our suite of analyses we will use a mock for the circuits built \n",
    "at BBP."
   ]
  },
  {
   "cell_type": "code",
   "execution_count": 10,
   "metadata": {
    "ExecuteTime": {
     "end_time": "2019-12-02T16:55:27.886668Z",
     "start_time": "2019-12-02T16:53:47.983687Z"
    }
   },
   "outputs": [],
   "source": [
    "from neuro_dmt.models.bluebrain.circuit.mock.test.mock_circuit_light import\\\n",
    "    circuit_composition,\\\n",
    "    circuit_connectivity\n",
    "from neuro_dmt.models.bluebrain.circuit.mock.circuit\\\n",
    "    import MockBlueBrainCircuitModel\n",
    "mock_circuit_model = MockBlueBrainCircuitModel(\n",
    "    circuit_composition,\n",
    "    circuit_connectivity)"
   ]
  },
  {
   "cell_type": "markdown",
   "metadata": {},
   "source": [
    "We can run our analysis step by step, first getting a measurement, and then\n",
    "passing the result to the plotter.\n",
    "Our adapter computes cell density in randomly sampled region of interest (ROI),\n",
    "with the shape of cuboids. We can pass the number of ROIs to sample."
   ]
  },
  {
   "cell_type": "code",
   "execution_count": 11,
   "metadata": {
    "ExecuteTime": {
     "end_time": "2019-12-02T16:55:41.810625Z",
     "start_time": "2019-12-02T16:55:37.835434Z"
    }
   },
   "outputs": [],
   "source": [
    "adapter = BlueBrainCircuitAdapter()\n",
    "cell_density_measurement =\\\n",
    "    cell_density_analysis.get_measurement(\n",
    "        mock_circuit_model,\n",
    "        adapter,\n",
    "        sample_size=10\n",
    ")"
   ]
  },
  {
   "cell_type": "markdown",
   "metadata": {},
   "source": [
    "The cell density measurement computed above is for the model circuit.\n",
    "To analyze this measurement with the reference data, we need to append\n",
    "reference data."
   ]
  },
  {
   "cell_type": "code",
   "execution_count": 12,
   "metadata": {
    "ExecuteTime": {
     "end_time": "2019-12-02T16:55:41.823636Z",
     "start_time": "2019-12-02T16:55:41.813331Z"
    }
   },
   "outputs": [
    {
     "data": {
      "text/html": [
       "<div>\n",
       "<style scoped>\n",
       "    .dataframe tbody tr th:only-of-type {\n",
       "        vertical-align: middle;\n",
       "    }\n",
       "\n",
       "    .dataframe tbody tr th {\n",
       "        vertical-align: top;\n",
       "    }\n",
       "\n",
       "    .dataframe thead th {\n",
       "        text-align: right;\n",
       "    }\n",
       "</style>\n",
       "<table border=\"1\" class=\"dataframe\">\n",
       "  <thead>\n",
       "    <tr style=\"text-align: right;\">\n",
       "      <th></th>\n",
       "      <th></th>\n",
       "      <th></th>\n",
       "      <th>cell_density</th>\n",
       "    </tr>\n",
       "    <tr>\n",
       "      <th>dataset</th>\n",
       "      <th>region</th>\n",
       "      <th>layer</th>\n",
       "      <th></th>\n",
       "    </tr>\n",
       "  </thead>\n",
       "  <tbody>\n",
       "    <tr>\n",
       "      <th rowspan=\"5\" valign=\"top\">MockBlueBrainCircuitModel</th>\n",
       "      <th rowspan=\"5\" valign=\"top\">S1HL</th>\n",
       "      <th>L1</th>\n",
       "      <td>184000.0</td>\n",
       "    </tr>\n",
       "    <tr>\n",
       "      <th>L1</th>\n",
       "      <td>368000.0</td>\n",
       "    </tr>\n",
       "    <tr>\n",
       "      <th>L1</th>\n",
       "      <td>456000.0</td>\n",
       "    </tr>\n",
       "    <tr>\n",
       "      <th>L1</th>\n",
       "      <td>48000.0</td>\n",
       "    </tr>\n",
       "    <tr>\n",
       "      <th>L1</th>\n",
       "      <td>224000.0</td>\n",
       "    </tr>\n",
       "  </tbody>\n",
       "</table>\n",
       "</div>"
      ],
      "text/plain": [
       "                                        cell_density\n",
       "dataset                   region layer              \n",
       "MockBlueBrainCircuitModel S1HL   L1         184000.0\n",
       "                                 L1         368000.0\n",
       "                                 L1         456000.0\n",
       "                                 L1          48000.0\n",
       "                                 L1         224000.0"
      ]
     },
     "execution_count": 12,
     "metadata": {},
     "output_type": "execute_result"
    }
   ],
   "source": [
    "cell_density_measurement.head()"
   ]
  },
  {
   "cell_type": "code",
   "execution_count": 13,
   "metadata": {
    "ExecuteTime": {
     "end_time": "2019-12-02T16:55:41.830181Z",
     "start_time": "2019-12-02T16:55:41.825562Z"
    }
   },
   "outputs": [],
   "source": [
    "cell_density_analysis_data ={\n",
    "    \"MockBlueBrainCircuitModel\": cell_density_measurement\n",
    "}\n",
    "cell_density_analysis_data.update(\n",
    "    cell_density_reference_data\n",
    ")"
   ]
  },
  {
   "cell_type": "markdown",
   "metadata": {},
   "source": [
    "We can look at the statistical summary of the measurement."
   ]
  },
  {
   "cell_type": "markdown",
   "metadata": {},
   "source": [
    "For comparison against experimental data,\n",
    "we consider the experimental data as *statistical models* with a mean \n",
    "and standard deviation of cell density per layer.\n",
    "We use a normal statistical model to generate *samples* of cell density\n",
    "measurements from the experimental data."
   ]
  },
  {
   "cell_type": "code",
   "execution_count": 14,
   "metadata": {
    "ExecuteTime": {
     "end_time": "2019-12-02T16:55:41.918759Z",
     "start_time": "2019-12-02T16:55:41.832236Z"
    }
   },
   "outputs": [
    {
     "data": {
      "text/html": [
       "<div>\n",
       "<style scoped>\n",
       "    .dataframe tbody tr th:only-of-type {\n",
       "        vertical-align: middle;\n",
       "    }\n",
       "\n",
       "    .dataframe tbody tr th {\n",
       "        vertical-align: top;\n",
       "    }\n",
       "\n",
       "    .dataframe thead tr th {\n",
       "        text-align: left;\n",
       "    }\n",
       "</style>\n",
       "<table border=\"1\" class=\"dataframe\">\n",
       "  <thead>\n",
       "    <tr>\n",
       "      <th></th>\n",
       "      <th colspan=\"3\" halign=\"left\">cell_density</th>\n",
       "      <th>dataset</th>\n",
       "      <th>layer</th>\n",
       "      <th>region</th>\n",
       "    </tr>\n",
       "    <tr>\n",
       "      <th></th>\n",
       "      <th>mean</th>\n",
       "      <th>size</th>\n",
       "      <th>std</th>\n",
       "      <th></th>\n",
       "      <th></th>\n",
       "      <th></th>\n",
       "    </tr>\n",
       "  </thead>\n",
       "  <tbody>\n",
       "    <tr>\n",
       "      <th>0</th>\n",
       "      <td>186400.0</td>\n",
       "      <td>10</td>\n",
       "      <td>175718.967546</td>\n",
       "      <td>MockBlueBrainCircuitModel</td>\n",
       "      <td>L1</td>\n",
       "      <td>S1FL</td>\n",
       "    </tr>\n",
       "    <tr>\n",
       "      <th>1</th>\n",
       "      <td>217600.0</td>\n",
       "      <td>10</td>\n",
       "      <td>156394.941663</td>\n",
       "      <td>MockBlueBrainCircuitModel</td>\n",
       "      <td>L2</td>\n",
       "      <td>S1FL</td>\n",
       "    </tr>\n",
       "    <tr>\n",
       "      <th>2</th>\n",
       "      <td>408000.0</td>\n",
       "      <td>10</td>\n",
       "      <td>204691.637999</td>\n",
       "      <td>MockBlueBrainCircuitModel</td>\n",
       "      <td>L3</td>\n",
       "      <td>S1FL</td>\n",
       "    </tr>\n",
       "    <tr>\n",
       "      <th>3</th>\n",
       "      <td>342400.0</td>\n",
       "      <td>10</td>\n",
       "      <td>179829.054629</td>\n",
       "      <td>MockBlueBrainCircuitModel</td>\n",
       "      <td>L4</td>\n",
       "      <td>S1FL</td>\n",
       "    </tr>\n",
       "    <tr>\n",
       "      <th>4</th>\n",
       "      <td>260800.0</td>\n",
       "      <td>10</td>\n",
       "      <td>194033.674053</td>\n",
       "      <td>MockBlueBrainCircuitModel</td>\n",
       "      <td>L5</td>\n",
       "      <td>S1FL</td>\n",
       "    </tr>\n",
       "  </tbody>\n",
       "</table>\n",
       "</div>"
      ],
      "text/plain": [
       "  cell_density                                        dataset layer region\n",
       "          mean size            std                                        \n",
       "0     186400.0   10  175718.967546  MockBlueBrainCircuitModel    L1   S1FL\n",
       "1     217600.0   10  156394.941663  MockBlueBrainCircuitModel    L2   S1FL\n",
       "2     408000.0   10  204691.637999  MockBlueBrainCircuitModel    L3   S1FL\n",
       "3     342400.0   10  179829.054629  MockBlueBrainCircuitModel    L4   S1FL\n",
       "4     260800.0   10  194033.674053  MockBlueBrainCircuitModel    L5   S1FL"
      ]
     },
     "execution_count": 14,
     "metadata": {},
     "output_type": "execute_result"
    }
   ],
   "source": [
    "measurement.concat_as_summaries(cell_density_analysis_data).head()"
   ]
  },
  {
   "cell_type": "markdown",
   "metadata": {
    "ExecuteTime": {
     "end_time": "2019-12-02T12:02:18.606239Z",
     "start_time": "2019-12-02T12:02:18.601186Z"
    }
   },
   "source": [
    "The analysis produces figures using the plotters we have defined."
   ]
  },
  {
   "cell_type": "code",
   "execution_count": 15,
   "metadata": {
    "ExecuteTime": {
     "end_time": "2019-12-02T16:55:48.176544Z",
     "start_time": "2019-12-02T16:55:41.919964Z"
    }
   },
   "outputs": [
    {
     "name": "stderr",
     "output_type": "stream",
     "text": [
      "/Users/vishalsoodmuchu/.vmgr_repo/py37/lib/python3.7/site-packages/dmt/data/observation/measurement/__init__.py:495: FutureWarning: Sorting because non-concatenation axis is not aligned. A future version\n",
      "of pandas will change to not sort by default.\n",
      "\n",
      "To accept the future behavior, pass 'sort=False'.\n",
      "\n",
      "To retain the current behavior and silence the warning, pass 'sort=True'.\n",
      "\n",
      "  for dataset, dataframe in data.items()])\n"
     ]
    },
    {
     "data": {
      "image/png": "[encoded data removed]",
      "text/plain": [
       "<Figure size 1104.99x576 with 1 Axes>"
      ]
     },
     "metadata": {
      "needs_background": "light"
     },
     "output_type": "display_data"
    },
    {
     "data": {
      "image/png": "[encoded data removed]",
      "text/plain": [
       "<Figure size 1104.99x576 with 1 Axes>"
      ]
     },
     "metadata": {
      "needs_background": "light"
     },
     "output_type": "display_data"
    },
    {
     "data": {
      "image/png": "[encoded data removed]",
      "text/plain": [
       "<Figure size 1104.99x576 with 1 Axes>"
      ]
     },
     "metadata": {
      "needs_background": "light"
     },
     "output_type": "display_data"
    },
    {
     "data": {
      "image/png": "[encoded data removed]",
      "text/plain": [
       "<Figure size 1104.99x576 with 1 Axes>"
      ]
     },
     "metadata": {
      "needs_background": "light"
     },
     "output_type": "display_data"
    }
   ],
   "source": [
    "cell_density_figures =\\\n",
    "    cell_density_analysis.plotter.get_figures(\n",
    "        cell_density_analysis_data,\n",
    "        caption=\"Cell density by layer for sub-regions of the Rat SSCx\"\n",
    ")"
   ]
  },
  {
   "cell_type": "markdown",
   "metadata": {},
   "source": [
    "We can call our analysis class can run the whole analyses."
   ]
  },
  {
   "cell_type": "code",
   "execution_count": 16,
   "metadata": {
    "ExecuteTime": {
     "end_time": "2019-12-02T16:55:58.474894Z",
     "start_time": "2019-12-02T16:55:48.178157Z"
    }
   },
   "outputs": [
    {
     "data": {
      "image/png": "[encoded data removed]",
      "text/plain": [
       "<Figure size 1104.99x576 with 1 Axes>"
      ]
     },
     "metadata": {
      "needs_background": "light"
     },
     "output_type": "display_data"
    },
    {
     "data": {
      "image/png": "[encoded data removed]",
      "text/plain": [
       "<Figure size 1104.99x576 with 1 Axes>"
      ]
     },
     "metadata": {
      "needs_background": "light"
     },
     "output_type": "display_data"
    },
    {
     "data": {
      "image/png": "[encoded data removed]",
      "text/plain": [
       "<Figure size 1104.99x576 with 1 Axes>"
      ]
     },
     "metadata": {
      "needs_background": "light"
     },
     "output_type": "display_data"
    },
    {
     "data": {
      "image/png": "[encoded data removed]",
      "text/plain": [
       "<Figure size 1104.99x576 with 1 Axes>"
      ]
     },
     "metadata": {
      "needs_background": "light"
     },
     "output_type": "display_data"
    }
   ],
   "source": [
    "cell_density_analysis_report =\\\n",
    "    cell_density_analysis(\n",
    "        mock_circuit_model,\n",
    "        adapter\n",
    "    )"
   ]
  },
  {
   "cell_type": "markdown",
   "metadata": {},
   "source": [
    "The cell density analysis report generated above contains figures for each of the\n",
    "SSCx sub-regions."
   ]
  },
  {
   "cell_type": "code",
   "execution_count": 17,
   "metadata": {
    "ExecuteTime": {
     "end_time": "2019-12-02T16:55:58.486139Z",
     "start_time": "2019-12-02T16:55:58.478331Z"
    }
   },
   "outputs": [
    {
     "data": {
      "text/plain": [
       "OrderedDict([('S1HL', <dmt.tk.plotting.figure.Figure at 0x128ef2e90>),\n",
       "             ('S1FL', <dmt.tk.plotting.figure.Figure at 0x127992b10>),\n",
       "             ('S1Sh', <dmt.tk.plotting.figure.Figure at 0x128f07250>),\n",
       "             ('S1Tr', <dmt.tk.plotting.figure.Figure at 0x127d8f0d0>)])"
      ]
     },
     "execution_count": 17,
     "metadata": {},
     "output_type": "execute_result"
    }
   ],
   "source": [
    "cell_density_analysis_report.figures"
   ]
  },
  {
   "cell_type": "markdown",
   "metadata": {},
   "source": [
    "In the `BlueBrainCircuitAdapter` we have documented how the cell densities were\n",
    "measured, which is used along with the *phenomenon* analyzed to provide content\n",
    "in the report."
   ]
  },
  {
   "cell_type": "code",
   "execution_count": 18,
   "metadata": {
    "ExecuteTime": {
     "end_time": "2019-12-02T16:55:58.495558Z",
     "start_time": "2019-12-02T16:55:58.489674Z"
    }
   },
   "outputs": [
    {
     "name": "stdout",
     "output_type": "stream",
     "text": [
      "Cell Density \n",
      "Number of cells in a unit mm^3 volume..\n"
     ]
    }
   ],
   "source": [
    "print(cell_density_analysis_report.introduction)"
   ]
  },
  {
   "cell_type": "code",
   "execution_count": 19,
   "metadata": {
    "ExecuteTime": {
     "end_time": "2019-12-02T16:55:58.504664Z",
     "start_time": "2019-12-02T16:55:58.499310Z"
    }
   },
   "outputs": [
    {
     "name": "stdout",
     "output_type": "stream",
     "text": [
      "\n",
      "                Cells were counted in a box with sides of length [50. 50. 50.] um.\n",
      "                Each cube was centered at a cell that was randomly sampled from \n",
      "                a population described by a cell-query.\n",
      "                \n"
     ]
    }
   ],
   "source": [
    "print(cell_density_analysis_report.methods)"
   ]
  },
  {
   "cell_type": "markdown",
   "metadata": {},
   "source": [
    "We have defined reporters to post the report as an HTML to a hard-disk."
   ]
  },
  {
   "cell_type": "code",
   "execution_count": 20,
   "metadata": {
    "ExecuteTime": {
     "end_time": "2019-12-02T16:56:00.906190Z",
     "start_time": "2019-12-02T16:55:58.507659Z"
    }
   },
   "outputs": [],
   "source": [
    "import os\n",
    "from neuro_dmt.analysis.reporting import CheetahReporter\n",
    "\n",
    "reporter =\\\n",
    "    CheetahReporter(\n",
    "        path_output_folder=os.path.join(os.getcwd(), \"validations\")\n",
    ")\n",
    "path_cell_density_analysis_report =\\\n",
    "    reporter.post(\n",
    "        cell_density_analysis_report\n",
    ")"
   ]
  },
  {
   "cell_type": "markdown",
   "metadata": {},
   "source": [
    "The report was generated at `path_report`."
   ]
  },
  {
   "cell_type": "code",
   "execution_count": 21,
   "metadata": {
    "ExecuteTime": {
     "end_time": "2019-12-02T16:56:00.915502Z",
     "start_time": "2019-12-02T16:56:00.907817Z"
    }
   },
   "outputs": [
    {
     "name": "stdout",
     "output_type": "stream",
     "text": [
      "Find the following in the analysis report:  /Users/vishalsoodmuchu/work/bbp/work/validations/dmt/v2/neuro_dmt/library/users/visood/sscx_dissemination/validations/cell_density/20191202/175558\n"
     ]
    },
    {
     "data": {
      "text/plain": [
       "['figures', 'report.html', 'cell_density.csv']"
      ]
     },
     "execution_count": 21,
     "metadata": {},
     "output_type": "execute_result"
    }
   ],
   "source": [
    "print(\n",
    "    \"Find the following in the analysis report: \",\n",
    "    path_cell_density_analysis_report\n",
    ")\n",
    "os.listdir(path_cell_density_analysis_report)"
   ]
  },
  {
   "cell_type": "markdown",
   "metadata": {},
   "source": [
    "We next consider the analysis of the fraction of inhibitory cells in each layer."
   ]
  },
  {
   "cell_type": "code",
   "execution_count": 22,
   "metadata": {
    "ExecuteTime": {
     "end_time": "2019-12-02T16:56:05.293084Z",
     "start_time": "2019-12-02T16:56:00.918891Z"
    }
   },
   "outputs": [],
   "source": [
    "inhibitory_cell_fraction_measurement =\\\n",
    "    inhibitory_cell_fraction_analysis.get_measurement(\n",
    "        mock_circuit_model,\n",
    "        adapter\n",
    ")"
   ]
  },
  {
   "cell_type": "code",
   "execution_count": 23,
   "metadata": {
    "ExecuteTime": {
     "end_time": "2019-12-02T16:56:05.307131Z",
     "start_time": "2019-12-02T16:56:05.296066Z"
    }
   },
   "outputs": [
    {
     "data": {
      "text/html": [
       "<div>\n",
       "<style scoped>\n",
       "    .dataframe tbody tr th:only-of-type {\n",
       "        vertical-align: middle;\n",
       "    }\n",
       "\n",
       "    .dataframe tbody tr th {\n",
       "        vertical-align: top;\n",
       "    }\n",
       "\n",
       "    .dataframe thead th {\n",
       "        text-align: right;\n",
       "    }\n",
       "</style>\n",
       "<table border=\"1\" class=\"dataframe\">\n",
       "  <thead>\n",
       "    <tr style=\"text-align: right;\">\n",
       "      <th></th>\n",
       "      <th></th>\n",
       "      <th></th>\n",
       "      <th>inhibitory_cell_fraction</th>\n",
       "    </tr>\n",
       "    <tr>\n",
       "      <th>dataset</th>\n",
       "      <th>region</th>\n",
       "      <th>layer</th>\n",
       "      <th></th>\n",
       "    </tr>\n",
       "  </thead>\n",
       "  <tbody>\n",
       "    <tr>\n",
       "      <th rowspan=\"5\" valign=\"top\">MockBlueBrainCircuitModel</th>\n",
       "      <th rowspan=\"5\" valign=\"top\">S1HL</th>\n",
       "      <th>L1</th>\n",
       "      <td>1.000000</td>\n",
       "    </tr>\n",
       "    <tr>\n",
       "      <th>L1</th>\n",
       "      <td>1.000000</td>\n",
       "    </tr>\n",
       "    <tr>\n",
       "      <th>L1</th>\n",
       "      <td>0.222222</td>\n",
       "    </tr>\n",
       "    <tr>\n",
       "      <th>L1</th>\n",
       "      <td>1.000000</td>\n",
       "    </tr>\n",
       "    <tr>\n",
       "      <th>L1</th>\n",
       "      <td>1.000000</td>\n",
       "    </tr>\n",
       "  </tbody>\n",
       "</table>\n",
       "</div>"
      ],
      "text/plain": [
       "                                        inhibitory_cell_fraction\n",
       "dataset                   region layer                          \n",
       "MockBlueBrainCircuitModel S1HL   L1                     1.000000\n",
       "                                 L1                     1.000000\n",
       "                                 L1                     0.222222\n",
       "                                 L1                     1.000000\n",
       "                                 L1                     1.000000"
      ]
     },
     "execution_count": 23,
     "metadata": {},
     "output_type": "execute_result"
    }
   ],
   "source": [
    "inhibitory_cell_fraction_measurement.head()"
   ]
  },
  {
   "cell_type": "code",
   "execution_count": 24,
   "metadata": {
    "ExecuteTime": {
     "end_time": "2019-12-02T16:56:15.806731Z",
     "start_time": "2019-12-02T16:56:05.308757Z"
    }
   },
   "outputs": [
    {
     "name": "stderr",
     "output_type": "stream",
     "text": [
      "/Users/vishalsoodmuchu/.vmgr_repo/py37/lib/python3.7/site-packages/neuro_dmt/models/bluebrain/circuit/adapter/adapter.py:384: RuntimeWarning: invalid value encountered in long_scalars\n",
      "  / cells_roi.shape[0]\n"
     ]
    },
    {
     "data": {
      "image/png": "[encoded data removed]",
      "text/plain": [
       "<Figure size 1104.99x576 with 1 Axes>"
      ]
     },
     "metadata": {
      "needs_background": "light"
     },
     "output_type": "display_data"
    },
    {
     "data": {
      "image/png": "[encoded data removed]",
      "text/plain": [
       "<Figure size 1104.99x576 with 1 Axes>"
      ]
     },
     "metadata": {
      "needs_background": "light"
     },
     "output_type": "display_data"
    },
    {
     "data": {
      "image/png": "[encoded data removed]",
      "text/plain": [
       "<Figure size 1104.99x576 with 1 Axes>"
      ]
     },
     "metadata": {
      "needs_background": "light"
     },
     "output_type": "display_data"
    },
    {
     "data": {
      "image/png": "[encoded data removed]",
      "text/plain": [
       "<Figure size 1104.99x576 with 1 Axes>"
      ]
     },
     "metadata": {
      "needs_background": "light"
     },
     "output_type": "display_data"
    }
   ],
   "source": [
    "inhibitory_cell_fraction_analysis_report =\\\n",
    "    inhibitory_cell_fraction_analysis(\n",
    "        mock_circuit_model,\n",
    "        adapter\n",
    ")"
   ]
  },
  {
   "cell_type": "code",
   "execution_count": 25,
   "metadata": {
    "ExecuteTime": {
     "end_time": "2019-12-02T16:56:17.913227Z",
     "start_time": "2019-12-02T16:56:15.808597Z"
    }
   },
   "outputs": [],
   "source": [
    "path_inhibitory_cell_fraction_analysis_report =\\\n",
    "    reporter.post(\n",
    "        inhibitory_cell_fraction_analysis_report\n",
    ")"
   ]
  },
  {
   "cell_type": "code",
   "execution_count": 26,
   "metadata": {
    "ExecuteTime": {
     "end_time": "2019-12-02T16:56:17.922116Z",
     "start_time": "2019-12-02T16:56:17.914892Z"
    }
   },
   "outputs": [
    {
     "data": {
      "text/plain": [
       "'/Users/vishalsoodmuchu/work/bbp/work/validations/dmt/v2/neuro_dmt/library/users/visood/sscx_dissemination/validations/inhibitory_cell_fraction/20191202/175615'"
      ]
     },
     "execution_count": 26,
     "metadata": {},
     "output_type": "execute_result"
    }
   ],
   "source": [
    "path_inhibitory_cell_fraction_analysis_report"
   ]
  },
  {
   "cell_type": "markdown",
   "metadata": {},
   "source": [
    "Cell density analyses developed above were one of the simplest.\n",
    "Next we develop cell density by layer and mtype.\n",
    "\n",
    "## Cell Density by *mtype* and layer.\n",
    "\n",
    "We need to define measurement parameters that contain mtypes from circuit."
   ]
  },
  {
   "cell_type": "code",
   "execution_count": 27,
   "metadata": {
    "ExecuteTime": {
     "end_time": "2019-12-02T16:56:17.934343Z",
     "start_time": "2019-12-02T16:56:17.924815Z"
    }
   },
   "outputs": [],
   "source": [
    "mtypes = adapter.get_mtypes(mock_circuit_model)\n",
    "mtypes_regions_and_layers = Parameters(\n",
    "    pd.DataFrame({\n",
    "        \"region\": [\n",
    "            region\n",
    "            for region in sscx_sub_regions\n",
    "            for _ in cortical_layers\n",
    "            for _ in mtypes],\n",
    "        \"layer\": [\n",
    "            layer\n",
    "            for _ in sscx_sub_regions\n",
    "            for layer in cortical_layers\n",
    "            for _ in mtypes],\n",
    "        \"mtype\": [\n",
    "            mtype \n",
    "            for _ in sscx_sub_regions\n",
    "            for _ in cortical_layers\n",
    "            for mtype in mtypes]\n",
    "    })\n",
    ")"
   ]
  },
  {
   "cell_type": "code",
   "execution_count": 33,
   "metadata": {
    "ExecuteTime": {
     "end_time": "2019-12-02T17:06:02.984873Z",
     "start_time": "2019-12-02T17:06:02.980495Z"
    }
   },
   "outputs": [],
   "source": [
    "mtype_cell_density_analysis = BrainCircuitAnalysis(\n",
    "    phenomenon=cell_density_phenomenon,\n",
    "    AdapterInterface = CellDensityAdapterInterface,\n",
    "    measurement_parameters = mtypes_regions_and_layers,\n",
    "    plotter = MultiPlot(\n",
    "        mvar=\"mtype\",\n",
    "        plotter=Bars(\n",
    "            xvar=\"layer\",\n",
    "            xlabel=\"Layer\",\n",
    "            yvar=cell_density_phenomenon.label,\n",
    "            ylabel=cell_density_phenomenon.name,\n",
    "            gvar=\"region\")),\n",
    "    report = circuit_analysis_report\n",
    ")"
   ]
  },
  {
   "cell_type": "code",
   "execution_count": 34,
   "metadata": {
    "ExecuteTime": {
     "end_time": "2019-12-02T17:06:36.427727Z",
     "start_time": "2019-12-02T17:06:03.983548Z"
    }
   },
   "outputs": [],
   "source": [
    "mtype_cell_density_measurement =\\\n",
    "    mtype_cell_density_analysis.get_measurement(\n",
    "        mock_circuit_model,\n",
    "        adapter,\n",
    "        sample_size=10)"
   ]
  },
  {
   "cell_type": "code",
   "execution_count": 30,
   "metadata": {
    "ExecuteTime": {
     "end_time": "2019-12-02T16:57:30.068716Z",
     "start_time": "2019-12-02T16:57:30.062010Z"
    }
   },
   "outputs": [
    {
     "data": {
      "text/plain": [
       "((240, 1), (4560, 1))"
      ]
     },
     "execution_count": 30,
     "metadata": {},
     "output_type": "execute_result"
    }
   ],
   "source": [
    "cell_density_measurement.shape, mtype_cell_density_measurement.shape"
   ]
  },
  {
   "cell_type": "code",
   "execution_count": 31,
   "metadata": {
    "ExecuteTime": {
     "end_time": "2019-12-02T16:57:30.081753Z",
     "start_time": "2019-12-02T16:57:30.070335Z"
    }
   },
   "outputs": [
    {
     "data": {
      "text/html": [
       "<div>\n",
       "<style scoped>\n",
       "    .dataframe tbody tr th:only-of-type {\n",
       "        vertical-align: middle;\n",
       "    }\n",
       "\n",
       "    .dataframe tbody tr th {\n",
       "        vertical-align: top;\n",
       "    }\n",
       "\n",
       "    .dataframe thead th {\n",
       "        text-align: right;\n",
       "    }\n",
       "</style>\n",
       "<table border=\"1\" class=\"dataframe\">\n",
       "  <thead>\n",
       "    <tr style=\"text-align: right;\">\n",
       "      <th></th>\n",
       "      <th></th>\n",
       "      <th></th>\n",
       "      <th></th>\n",
       "      <th>cell_density</th>\n",
       "    </tr>\n",
       "    <tr>\n",
       "      <th>dataset</th>\n",
       "      <th>region</th>\n",
       "      <th>layer</th>\n",
       "      <th>mtype</th>\n",
       "      <th></th>\n",
       "    </tr>\n",
       "  </thead>\n",
       "  <tbody>\n",
       "    <tr>\n",
       "      <th rowspan=\"5\" valign=\"top\">MockBlueBrainCircuitModel</th>\n",
       "      <th rowspan=\"5\" valign=\"top\">S1HL</th>\n",
       "      <th rowspan=\"5\" valign=\"top\">L1</th>\n",
       "      <th>L1_DAC</th>\n",
       "      <td>376000.0</td>\n",
       "    </tr>\n",
       "    <tr>\n",
       "      <th>L1_DAC</th>\n",
       "      <td>184000.0</td>\n",
       "    </tr>\n",
       "    <tr>\n",
       "      <th>L1_DAC</th>\n",
       "      <td>352000.0</td>\n",
       "    </tr>\n",
       "    <tr>\n",
       "      <th>L1_DAC</th>\n",
       "      <td>576000.0</td>\n",
       "    </tr>\n",
       "    <tr>\n",
       "      <th>L1_DAC</th>\n",
       "      <td>256000.0</td>\n",
       "    </tr>\n",
       "  </tbody>\n",
       "</table>\n",
       "</div>"
      ],
      "text/plain": [
       "                                               cell_density\n",
       "dataset                   region layer mtype               \n",
       "MockBlueBrainCircuitModel S1HL   L1    L1_DAC      376000.0\n",
       "                                       L1_DAC      184000.0\n",
       "                                       L1_DAC      352000.0\n",
       "                                       L1_DAC      576000.0\n",
       "                                       L1_DAC      256000.0"
      ]
     },
     "execution_count": 31,
     "metadata": {},
     "output_type": "execute_result"
    }
   ],
   "source": [
    "mtype_cell_density_measurement.head()"
   ]
  },
  {
   "cell_type": "code",
   "execution_count": null,
   "metadata": {
    "ExecuteTime": {
     "start_time": "2019-12-02T17:06:52.278Z"
    }
   },
   "outputs": [],
   "source": [
    "mtype_cell_density_analysis_report =\\\n",
    "    mtype_cell_density_analysis(\n",
    "        mock_circuit_model,\n",
    "        adapter\n",
    ")"
   ]
  },
  {
   "cell_type": "code",
   "execution_count": null,
   "metadata": {},
   "outputs": [],
   "source": []
  }
 ],
 "metadata": {
  "kernelspec": {
   "display_name": "Python 3",
   "language": "python",
   "name": "python3"
  },
  "language_info": {
   "codemirror_mode": {
    "name": "ipython",
    "version": 3
   },
   "file_extension": ".py",
   "mimetype": "text/x-python",
   "name": "python",
   "nbconvert_exporter": "python",
   "pygments_lexer": "ipython3",
   "version": "3.7.4"
  },
  "latex_envs": {
   "LaTeX_envs_menu_present": true,
   "autoclose": false,
   "autocomplete": true,
   "bibliofile": "biblio.bib",
   "cite_by": "apalike",
   "current_citInitial": 1,
   "eqLabelWithNumbers": true,
   "eqNumInitial": 1,
   "hotkeys": {
    "equation": "Ctrl-E",
    "itemize": "Ctrl-I"
   },
   "labels_anchors": false,
   "latex_user_defs": false,
   "report_style_numbering": false,
   "user_envs_cfg": false
  },
  "toc": {
   "base_numbering": 1,
   "nav_menu": {},
   "number_sections": true,
   "sideBar": true,
   "skip_h1_title": false,
   "title_cell": "Table of Contents",
   "title_sidebar": "Contents",
   "toc_cell": false,
   "toc_position": {},
   "toc_section_display": true,
   "toc_window_display": false
  },
  "varInspector": {
   "cols": {
    "lenName": 16,
    "lenType": 16,
    "lenVar": 40
   },
   "kernels_config": {
    "python": {
     "delete_cmd_postfix": "",
     "delete_cmd_prefix": "del ",
     "library": "var_list.py",
     "varRefreshCmd": "print(var_dic_list())"
    },
    "r": {
     "delete_cmd_postfix": ") ",
     "delete_cmd_prefix": "rm(",
     "library": "var_list.r",
     "varRefreshCmd": "cat(var_dic_list()) "
    }
   },
   "types_to_exclude": [
    "module",
    "function",
    "builtin_function_or_method",
    "instance",
    "_Feature"
   ],
   "window_display": false
  }
 },
 "nbformat": 4,
 "nbformat_minor": 2
}
