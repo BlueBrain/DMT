{
 "cells": [
  {
   "cell_type": "markdown",
   "metadata": {},
   "source": [
    "We develop analyses for circuit composition. \n",
    "In another notebook we have composed analyses using components provided in out analysis\n",
    "framework **DMT**, However, *composing* an analyses is restricted by the availability of \n",
    "components that are assembled to define an analysis. A freer approach is to base an analysis\n",
    "on a base analysis-class and override its methods. Here we use this *inheriting* approach\n",
    "to build some customized circuit composition analyses."
   ]
  },
  {
   "cell_type": "code",
   "execution_count": 2,
   "metadata": {
    "ExecuteTime": {
     "end_time": "2019-12-03T20:40:39.380261Z",
     "start_time": "2019-12-03T20:40:38.566955Z"
    }
   },
   "outputs": [
    {
     "name": "stdout",
     "output_type": "stream",
     "text": [
      "('region', 'layer', 'depth', 'height', 'mesocolumn', 'hypercolumn', 'roi', 'mtype', 'etype', 'synapse_class', 'postsynaptic', 'presynaptic')\n",
      "('region', 'layer', 'depth', 'height', 'mesocolumn', 'hypercolumn', 'roi', 'mtype', 'etype', 'synapse_class', 'postsynaptic', 'presynaptic')\n",
      "('region', 'layer', 'depth', 'height', 'mesocolumn', 'hypercolumn', 'roi', 'mtype', 'etype', 'synapse_class', 'postsynaptic', 'presynaptic')\n",
      "('region', 'layer', 'depth', 'height', 'mtype', 'etype', 'synapse_class')\n",
      "('region', 'layer', 'depth', 'height', 'mesocolumn', 'hypercolumn', 'roi', 'mtype', 'etype', 'synapse_class', 'postsynaptic', 'presynaptic')\n",
      "('region', 'layer', 'depth', 'height', 'mesocolumn', 'hypercolumn', 'roi')\n"
     ]
    }
   ],
   "source": [
    "import numpy as np\n",
    "import pandas as pd\n",
    "from dmt.model.interface import Interface\n",
    "from dmt.tk.plotting import Bars\n",
    "from neuro_dmt.data import rat\n",
    "from neuro_dmt.analysis.circuit import BrainCircuitAnalysis\n",
    "from neuro_dmt.models.bluebrain.circuit.model import BlueBrainCircuitModel\n",
    "from neuro_dmt.models.bluebrain.circuit.adapter import BlueBrainCircuitAdapter\n",
    "from neuro_dmt import terminology\n",
    "\n",
    "class CellDensityAnalysis:\n",
    "    \"\"\"\n",
    "    Analyze the cell density in a circuit.\n",
    "    \"\"\"\n",
    "    \n",
    "    class AdapterInterface(Interface):\n",
    "        \"\"\"\n",
    "        Define the methods required to run this analysis,\n",
    "        which must be provided by an adapter of the circuit model to be analyzed.\n",
    "        \"\"\"\n",
    "        def get_label(self, circuit_model):\n",
    "            \"\"\"\n",
    "            Get a label for the circuit_model\n",
    "            \"\"\"\n",
    "            raise NotImplementedError\n",
    "            \n",
    "        def get_cell_density(self, \n",
    "                circuit_model,\n",
    "                layer):\n",
    "            \"\"\"\n",
    "            Get cell density for the circuit model for the given layer.\n",
    "            \"\"\"\n",
    "            raise NotImplementedError\n",
    "            \n",
    "            \n",
    "    def __call__(self, circuit_model, adapter):\n",
    "        \"\"\"\n",
    "        Run the analysis.\n",
    "        \"\"\"\n",
    "        adapter = self.AdapterInterface.implementation(adapter)\n",
    "        layers = [\"L1\", \"L2\", \"L3\", \"L4\", \"L5\", \"L6\"]\n",
    "        model_measurement = pd.DataFrame({\n",
    "            \"cell_density\": [\n",
    "                adapter.get_cell_density(\n",
    "                    circuit_model,\n",
    "                    layer=layer) \n",
    "                for layer in layers],\n",
    "            \"layer\": layers}\n",
    "        ).set_index(\n",
    "            \"layer\"\n",
    "        )\n",
    "        reference_data = {\n",
    "        }\n",
    "        plotter = Bars(\n",
    "            xvar=\"layer\",\n",
    "            xlabel=\"Layer\",\n",
    "            yvar=\"cell_density\",\n",
    "            ylabel=\"Cell Density\",\n",
    "            gvar=\"dataset\")\n",
    "        return plotter.get_figure({\n",
    "            adapter.get_label(circuit_model): model_measurement,\n",
    "            \"DeFelipe2017\": rat.defelipe2017.summary_measurement.samples(1000),\n",
    "            \"DeFelipe2014\": rat.defelipe2014.summary_measurement.samples(1000),\n",
    "            \"meyer2010\": rat.meyer2010.samples(1000)\n",
    "        })"
   ]
  },
  {
   "cell_type": "code",
   "execution_count": 3,
   "metadata": {
    "ExecuteTime": {
     "end_time": "2019-12-03T20:42:08.963007Z",
     "start_time": "2019-12-03T20:40:42.932398Z"
    }
   },
   "outputs": [],
   "source": [
    "from neuro_dmt.models.bluebrain.circuit.mock.test.mock_circuit_light import\\\n",
    "    circuit_composition,\\\n",
    "    circuit_connectivity\n",
    "from neuro_dmt.models.bluebrain.circuit.mock.circuit\\\n",
    "    import MockBlueBrainCircuitModel\n",
    "mock_circuit_model = MockBlueBrainCircuitModel(\n",
    "    circuit_composition,\n",
    "    circuit_connectivity)"
   ]
  },
  {
   "cell_type": "code",
   "execution_count": 4,
   "metadata": {
    "ExecuteTime": {
     "end_time": "2019-12-03T20:53:14.798612Z",
     "start_time": "2019-12-03T20:53:14.793547Z"
    }
   },
   "outputs": [],
   "source": [
    "adapter = BlueBrainCircuitAdapter()\n",
    "\n",
    "cell_density_analysis = CellDensityAnalysis()"
   ]
  },
  {
   "cell_type": "code",
   "execution_count": 5,
   "metadata": {
    "ExecuteTime": {
     "end_time": "2019-12-03T20:53:26.554947Z",
     "start_time": "2019-12-03T20:53:15.654245Z"
    }
   },
   "outputs": [
    {
     "data": {
      "text/plain": [
       "<dmt.tk.plotting.figure.Figure at 0x7f3494838ef0>"
      ]
     },
     "execution_count": 5,
     "metadata": {},
     "output_type": "execute_result"
    },
    {
     "data": {
      "image/png": "[encoded data removed]",
      "text/plain": [
       "<Figure size 1104.99x576 with 1 Axes>"
      ]
     },
     "metadata": {
      "needs_background": "light"
     },
     "output_type": "display_data"
    }
   ],
   "source": [
    "cell_density_analysis(mock_circuit_model, adapter)"
   ]
  },
  {
   "cell_type": "code",
   "execution_count": null,
   "metadata": {
    "ExecuteTime": {
     "end_time": "2019-12-03T19:27:43.439843Z",
     "start_time": "2019-12-03T19:27:43.357370Z"
    }
   },
   "outputs": [],
   "source": [
    "layers = [\"L1\", \"L2\", \"L3\", \"L4\", \"L5\", \"L6\"]\n",
    "pd.DataFrame(\n",
    "    {\"cell_density\": [\n",
    "        adapter.get_cell_density(\n",
    "            mock_circuit_model,\n",
    "            layer=layer) \n",
    "        for layer in layers]},\n",
    "        index = layers\n",
    "    )"
   ]
  },
  {
   "cell_type": "markdown",
   "metadata": {},
   "source": [
    "We could add a reporter to our analysis."
   ]
  },
  {
   "cell_type": "code",
   "execution_count": null,
   "metadata": {},
   "outputs": [],
   "source": [
    "from neuro_dmt.analysis.reporting import\\\n",
    "    CircuitAnalysisReport,\\\n",
    "    CheetahReporter\n",
    "\n",
    "class CellDensityAnalysis:\n",
    "    \"\"\"\n",
    "    Analyze the cell density in a circuit.\n",
    "    \"\"\"\n",
    "    \n",
    "    class AdapterInterface(Interface):\n",
    "        \"\"\"\n",
    "        Define the methods required to run this analysis,\n",
    "        which must be provided by an adapter of the circuit model to be analyzed.\n",
    "        \"\"\"\n",
    "        def get_label(self, circuit_model):\n",
    "            \"\"\"\n",
    "            Get a label for the circuit_model\n",
    "            \"\"\"\n",
    "            raise NotImplementedError\n",
    "            \n",
    "        def get_cell_density(self, \n",
    "                circuit_model,\n",
    "                layer):\n",
    "            \"\"\"\n",
    "            Get cell density for the circuit model for the given layer.\n",
    "            \"\"\"\n",
    "            raise NotImplementedError\n",
    "            \n",
    "        @property\n",
    "        def caption_cell_density_measurement_figure(self):\n",
    "            \"\"\"\n",
    "            Provide a caption that you would want to see in the figure\n",
    "            analyzing cell density by layer using your adapter.\n",
    "            \"\"\"\n",
    "            raise NotImplementedError\n",
    "            \n",
    "        @property\n",
    "        def introduction_cell_density_analysis_report(self):\n",
    "            \"\"\"Provide an introduction for the analysis report.\"\"\"\n",
    "            raise NotImplementedError\n",
    "            \n",
    "        @property\n",
    "        def method_cell_density_measurement(self):\n",
    "            \"\"\"\n",
    "            Descibe how cell density is measured in the circuit model by the\n",
    "            adapter. This description will be used as a figure caption.\n",
    "            \"\"\"\n",
    "            raise NotImplementedError\n",
    "            \n",
    "        def results_cell_density_analysis(self,\n",
    "                measurement_statistics,\n",
    "                reference_data):\n",
    "            \"\"\"\n",
    "            A description of the analysis' result presented as an \n",
    "            object providing `measurement_statistics`.\n",
    "            \n",
    "            Arguments\n",
    "            =====================\n",
    "            measurement_statistics :: pandas.DataFrame< columns ??? columns>\n",
    "            reference_data :: Mapping \n",
    "            ~                   data :: pandas.DataFrame,\n",
    "            ~                   citation :: provenance of the reference data\n",
    "            \"\"\"\n",
    "            raise NotImplementedError\n",
    "            \n",
    "        def discussion_cell_density_analysis_report(self, \n",
    "                measurement_statistics,\n",
    "                reference_data):\n",
    "            \"\"\"\n",
    "            A description of the analysis' result presented as an \n",
    "            object providing `measurement_statistics`.\n",
    "            \n",
    "            Arguments\n",
    "            =====================\n",
    "            measurement_statistics :: pandas.DataFrame< columns ??? columns>\n",
    "            reference_data :: Mapping \n",
    "            ~                   data :: pandas.DataFrame,\n",
    "            ~                   citation :: provenance of the reference data\n",
    "            \"\"\"\n",
    "            raise NotImplementedError\n",
    "            \n",
    "    def statistical_test(self, measurement, **reference_data):\n",
    "        \"\"\"\n",
    "        Arguments\n",
    "        =================\n",
    "        measurement :: pandas.DataFrame\n",
    "        reference_data :: kwargs<name_dataset -> pandas.DataFrame\n",
    "        \"\"\"\n",
    "        raise NotImplementedError\n",
    "        \n",
    "    def __call__(self, circuit_model, adapter):\n",
    "        \"\"\"\n",
    "        Run the analysis.\n",
    "        \"\"\"\n",
    "        adapter =\\\n",
    "            self.AdapterInterface.implementation(adapter)\n",
    "        layers =[\n",
    "            \"L1\", \"L2\", \"L3\", \"L4\", \"L5\", \"L6\"]\n",
    "        model_measurement =\\\n",
    "            pd.DataFrame({\n",
    "                \"cell_density\": [\n",
    "                    adapter.get_cell_density(circuit_model, layer=layer) \n",
    "                    for layer in layers],\n",
    "                \"layer\": layers}\n",
    "            ).set_index(\"layer\")\n",
    "        plotter =\\\n",
    "            Bars(\n",
    "                xvar=\"layer\",\n",
    "                xlabel=\"Layer\",\n",
    "                yvar=\"cell_density\",\n",
    "                ylabel=\"Cell Density\",\n",
    "                gvar=\"dataset\")\n",
    "        reporter =\\\n",
    "            CheetahReporter(\n",
    "                path_output_folder=os.path.join(\n",
    "                    os.getcwd(),\n",
    "                    \"validations\"))\n",
    "        stats =\\\n",
    "            self.statistical_test(\n",
    "                model_measurement,\n",
    "                rat.defelipe2017.data)\n",
    "        return reporter.post(\n",
    "            CircuitAnalysisReport(\n",
    "                phenomenon = \"Cell Density\",\n",
    "                measurement = model_measurement,\n",
    "                figures = plotter.get_figure({\n",
    "                    data = adapter.get_label(circuit_model): model_measurement,\n",
    "                    \"DeFelipe2017\": rat.defelipe2017.summary_measurement.samples(1000),\n",
    "                    \"DeFelipe2014\": rat.defelipe2014.summary_measurement.samples(1000),\n",
    "                    \"meyer2010\": rat.meyer2010.samples(1000)},\n",
    "                    caption = adapter.caption_cell_density_measurement_figure),\n",
    "                introduction = adapter.introduction_cell_density_analysis_report,\n",
    "                methods = adapter.method_cell_density_measurement,\n",
    "                results = adapter.results_cell_density_analysis(\n",
    "                    self.statistical_test(model_measurement, rat.defelipe2017.data),\n",
    "                    {\"data\": rat.defelipe2017.data,\n",
    "                      \"author\": rat.defelipe2017.author,\n",
    "                      \"citation\": rat.defelipe2017.citation}),\n",
    "                discussion = adapter.discussion_cell_density_analysis_report(\n",
    "                    {\"data\": rat.defelipe2017.data,\n",
    "                      \"author\": rat.defelipe2017.author,\n",
    "                      \"citation\": rat.defelipe2017.citation})))"
   ]
  }
 ],
 "metadata": {
  "kernelspec": {
   "display_name": "Python 3",
   "language": "python",
   "name": "python3"
  },
  "language_info": {
   "codemirror_mode": {
    "name": "ipython",
    "version": 3
   },
   "file_extension": ".py",
   "mimetype": "text/x-python",
   "name": "python",
   "nbconvert_exporter": "python",
   "pygments_lexer": "ipython3",
   "version": "3.6.8"
  },
  "latex_envs": {
   "LaTeX_envs_menu_present": true,
   "autoclose": false,
   "autocomplete": true,
   "bibliofile": "biblio.bib",
   "cite_by": "apalike",
   "current_citInitial": 1,
   "eqLabelWithNumbers": true,
   "eqNumInitial": 1,
   "hotkeys": {
    "equation": "Ctrl-E",
    "itemize": "Ctrl-I"
   },
   "labels_anchors": false,
   "latex_user_defs": false,
   "report_style_numbering": false,
   "user_envs_cfg": false
  },
  "toc": {
   "base_numbering": 1,
   "nav_menu": {},
   "number_sections": true,
   "sideBar": true,
   "skip_h1_title": false,
   "title_cell": "Table of Contents",
   "title_sidebar": "Contents",
   "toc_cell": false,
   "toc_position": {},
   "toc_section_display": true,
   "toc_window_display": false
  },
  "varInspector": {
   "cols": {
    "lenName": 16,
    "lenType": 16,
    "lenVar": 40
   },
   "kernels_config": {
    "python": {
     "delete_cmd_postfix": "",
     "delete_cmd_prefix": "del ",
     "library": "var_list.py",
     "varRefreshCmd": "print(var_dic_list())"
    },
    "r": {
     "delete_cmd_postfix": ") ",
     "delete_cmd_prefix": "rm(",
     "library": "var_list.r",
     "varRefreshCmd": "cat(var_dic_list()) "
    }
   },
   "types_to_exclude": [
    "module",
    "function",
    "builtin_function_or_method",
    "instance",
    "_Feature"
   ],
   "window_display": false
  }
 },
 "nbformat": 4,
 "nbformat_minor": 2
}
