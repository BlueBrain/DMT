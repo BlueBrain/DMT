{
 "cells": [
  {
   "cell_type": "markdown",
   "metadata": {},
   "source": [
    "# Composition Analyses Suite"
   ]
  },
  {
   "cell_type": "code",
   "execution_count": 1,
   "metadata": {
    "ExecuteTime": {
     "end_time": "2020-01-31T17:48:53.502919Z",
     "start_time": "2020-01-31T17:48:51.787108Z"
    },
    "code_folding": [
     3,
     5,
     7,
     10
    ]
   },
   "outputs": [
    {
     "name": "stdout",
     "output_type": "stream",
     "text": [
      "('region', 'layer', 'depth', 'height', 'mesocolumn', 'hypercolumn', 'roi', 'mtype', 'etype', 'synapse_class', 'postsynaptic', 'presynaptic')\n",
      "('region', 'layer', 'depth', 'height', 'mesocolumn', 'hypercolumn', 'roi', 'mtype', 'etype', 'synapse_class', 'postsynaptic', 'presynaptic')\n",
      "('region', 'layer', 'depth', 'height', 'mesocolumn', 'hypercolumn', 'roi', 'mtype', 'etype', 'synapse_class', 'postsynaptic', 'presynaptic')\n",
      "('region', 'layer', 'depth', 'height', 'mtype', 'etype', 'synapse_class')\n",
      "('region', 'layer', 'depth', 'height', 'mesocolumn', 'hypercolumn', 'roi', 'mtype', 'etype', 'synapse_class', 'postsynaptic', 'presynaptic')\n",
      "('region', 'layer', 'depth', 'height', 'mesocolumn', 'hypercolumn', 'roi')\n"
     ]
    }
   ],
   "source": [
    "import os\n",
    "import numpy as np\n",
    "import pandas as pd\n",
    "from neuro_dmt.library.users.visood.sscx_dissemination.analyses.composition\\\n",
    "    import CompositionAnalysesSuite\n",
    "from neuro_dmt.models.bluebrain.circuit.atlas import\\\n",
    "    BlueBrainCircuitAtlas\n",
    "from neuro_dmt.models.bluebrain.circuit.model import\\\n",
    "    BlueBrainCircuitModel,\\\n",
    "    CircuitProvenance\n",
    "from neuro_dmt.models.bluebrain.circuit.adapter import\\\n",
    "    BlueBrainCircuitAdapter"
   ]
  },
  {
   "cell_type": "markdown",
   "metadata": {},
   "source": [
    "We will be using SSCx dissemination circuits. We set up paths and load the \n",
    "biological mean circuit (over 7 rats)."
   ]
  },
  {
   "cell_type": "code",
   "execution_count": 2,
   "metadata": {
    "ExecuteTime": {
     "end_time": "2020-01-31T17:48:57.353513Z",
     "start_time": "2020-01-31T17:48:57.345454Z"
    },
    "code_folding": [
     0,
     3,
     7,
     11,
     12,
     15,
     19,
     23,
     27,
     38
    ]
   },
   "outputs": [],
   "source": [
    "project =\\\n",
    "    os.path.join(\n",
    "        \"/gpfs/bbp.cscs.ch/project\")\n",
    "proj_sscx_diss=\\\n",
    "    os.path.join(\n",
    "        project,\n",
    "        \"proj83\")\n",
    "data_sscx_diss=\\\n",
    "    os.path.join(\n",
    "        proj_sscx_diss,\n",
    "        \"data\")\n",
    "atlases_sscx_diss=\\\n",
    "    os.path.join(\n",
    "        data_sscx_diss,\n",
    "        \"atlas/S1/MEAN\")\n",
    "circuits_sscx_diss=\\\n",
    "    os.path.join(\n",
    "        proj_sscx_diss,\n",
    "        \"circuits\")\n",
    "atlas_bio_m =\\\n",
    "    BlueBrainCircuitAtlas(\n",
    "        path=os.path.join(\n",
    "                atlases_sscx_diss, \"P14-MEAN\"))\n",
    "path_bio_m =\\\n",
    "    os.path.join(\n",
    "        circuits_sscx_diss,\n",
    "        \"Bio_M/20191206\")\n",
    "circuit_bio_m =\\\n",
    "    BlueBrainCircuitModel(\n",
    "        path_circuit_data=path_bio_m,\n",
    "            provenance=CircuitProvenance(\n",
    "                label=\"SSCxRatDisseminationBioM\",\n",
    "                authors=[\"BBP Team\"],\n",
    "                release_date=\"20191212\",\n",
    "                uri=path_bio_m,\n",
    "                animal=\"Wistar Rat\",\n",
    "                age=\"P14\",\n",
    "                brain_region=\"SSCx\"))\n",
    "adapter =\\\n",
    "    BlueBrainCircuitAdapter()"
   ]
  },
  {
   "cell_type": "code",
   "execution_count": 3,
   "metadata": {
    "ExecuteTime": {
     "end_time": "2020-01-31T17:49:00.869923Z",
     "start_time": "2020-01-31T17:49:00.866664Z"
    }
   },
   "outputs": [],
   "source": [
    "suite_composition_analyses =\\\n",
    "    CompositionAnalysesSuite(\n",
    "        sample_size=100,\n",
    "        size_roi=50.*np.ones(1),\n",
    "        bin_size_cortical_thickness=25.)"
   ]
  },
  {
   "cell_type": "code",
   "execution_count": null,
   "metadata": {
    "ExecuteTime": {
     "end_time": "2020-01-30T12:04:00.093078Z",
     "start_time": "2020-01-30T12:02:11.024596Z"
    },
    "code_folding": [
     0,
     2,
     6
    ]
   },
   "outputs": [],
   "source": [
    "from neuro_dmt.models.bluebrain.circuit.mock.circuit import\\\n",
    "    MockCircuit, MockBlueBrainCircuitModel\n",
    "from neuro_dmt.models.bluebrain.circuit.mock.test.mock_circuit_light import\\\n",
    "    circuit_composition,\\\n",
    "    circuit_connectivity\n",
    "\n",
    "mock_circuit_model =\\\n",
    "    MockBlueBrainCircuitModel(\n",
    "        circuit_composition, \n",
    "        circuit_connectivity,\n",
    "        label=\"BlueBrainCircuitModelMockLight\")"
   ]
  },
  {
   "cell_type": "code",
   "execution_count": null,
   "metadata": {
    "ExecuteTime": {
     "end_time": "2020-01-31T10:04:09.795184Z",
     "start_time": "2020-01-31T09:58:34.070844Z"
    }
   },
   "outputs": [],
   "source": [
    "cell_density_measurement =\\\n",
    "    suite_composition_analyses\\\n",
    "        .analysis_cell_density_by_depth_using_sampling\\\n",
    "        .get_measurement(\n",
    "            circuit_bio_m,\n",
    "            adapter,\n",
    "            sample_size=1)\n",
    "print(cell_density_measurement[\"data\"].shape)\n",
    "cell_density_measurement[\"data\"].head()"
   ]
  },
  {
   "cell_type": "code",
   "execution_count": null,
   "metadata": {
    "ExecuteTime": {
     "end_time": "2020-01-31T10:36:26.355100Z",
     "start_time": "2020-01-31T10:36:26.342257Z"
    }
   },
   "outputs": [],
   "source": [
    "cell_density_measurement[\"data\"].head()"
   ]
  },
  {
   "cell_type": "code",
   "execution_count": null,
   "metadata": {
    "ExecuteTime": {
     "end_time": "2020-01-31T11:19:05.494013Z",
     "start_time": "2020-01-31T10:44:39.260917Z"
    },
    "scrolled": false
   },
   "outputs": [],
   "source": [
    "cell_density_report =\\\n",
    "    suite_composition_analyses\\\n",
    "        .analysis_cell_density_by_depth_using_sampling(\n",
    "            circuit_bio_m,\n",
    "            adapter,\n",
    "            sample_size=100)"
   ]
  },
  {
   "cell_type": "code",
   "execution_count": null,
   "metadata": {
    "ExecuteTime": {
     "end_time": "2020-01-31T13:40:19.722629Z",
     "start_time": "2020-01-31T13:40:16.187539Z"
    }
   },
   "outputs": [],
   "source": [
    "cell_density_by_mtype =\\\n",
    "    suite_composition_analyses\\\n",
    "        .measurement_mtype_cell_density_exhaustively(\n",
    "            circuit_bio_m,\n",
    "            adapter,\n",
    "            depth={\"begin\": 100., \"end\": 150.})\n",
    "cell_density_by_mtype.head()\n"
   ]
  },
  {
   "cell_type": "code",
   "execution_count": null,
   "metadata": {
    "ExecuteTime": {
     "end_time": "2020-01-31T13:47:38.165505Z",
     "start_time": "2020-01-31T13:47:38.151650Z"
    }
   },
   "outputs": [],
   "source": [
    "cell_density_by_morphology =\\\n",
    "    pd.Series(\n",
    "        cell_density_by_mtype.values,\n",
    "        index=pd.Index(\n",
    "            [mtype.split('_')[-1] \n",
    "             for mtype in cell_density_by_mtype.index.values.to_list()],\n",
    "            name=\"morphology\"),\n",
    "        name=\"cell_density\")\\\n",
    "      .groupby(\"morphology\")\\\n",
    "      .agg(\"sum\")\n",
    "print(cell_density_by_morphology.shape)\n",
    "cell_density_by_morphology\\\n",
    "    .reindex([\n",
    "       \"BP\", \"BTC\", \"CHC\", \"DB\", \"LBC\", \"NBC\", \"MC\", \"SBC\", \"SSC\"])\\\n",
    "    .fillna(0.)\n"
   ]
  },
  {
   "cell_type": "code",
   "execution_count": null,
   "metadata": {
    "ExecuteTime": {
     "end_time": "2020-01-31T15:49:25.989689Z",
     "start_time": "2020-01-31T15:47:28.675354Z"
    }
   },
   "outputs": [],
   "source": [
    "marker_density =\\\n",
    "    suite_composition_analyses\\\n",
    "        .measurement_marker_density_exhaustively(\n",
    "            circuit_bio_m,\n",
    "            adapter,\n",
    "            depth={\"begin\": 100., \"end\": 150.})\n",
    "marker_density"
   ]
  },
  {
   "cell_type": "code",
   "execution_count": null,
   "metadata": {
    "ExecuteTime": {
     "start_time": "2020-01-31T17:49:53.833Z"
    }
   },
   "outputs": [],
   "source": [
    "suite_composition_analyses\\\n",
    "    .analysis_marker_stains_by_depth_exhaustively(\n",
    "        circuit_bio_m,\n",
    "        adapter)"
   ]
  },
  {
   "cell_type": "code",
   "execution_count": null,
   "metadata": {},
   "outputs": [],
   "source": [
    "com"
   ]
  },
  {
   "cell_type": "code",
   "execution_count": null,
   "metadata": {
    "ExecuteTime": {
     "end_time": "2020-01-23T11:58:48.934424Z",
     "start_time": "2020-01-23T11:58:45.822089Z"
    }
   },
   "outputs": [],
   "source": [
    "composition_analyses.measurement_mtype_cell_density_exhaustively(\n",
    "    circuit_bio_m,\n",
    "    adapter,\n",
    "    layer=\"L1\",\n",
    "    region=\"S1HL\")"
   ]
  },
  {
   "cell_type": "code",
   "execution_count": null,
   "metadata": {
    "ExecuteTime": {
     "end_time": "2019-12-19T09:56:20.739119Z",
     "start_time": "2019-12-19T09:56:20.556985Z"
    }
   },
   "outputs": [],
   "source": [
    "cell_counts =\\\n",
    "    cells.groupby(\n",
    "        [\"region\", \"layer\", \"mtype\"]\n",
    "    ).agg(\n",
    "        \"size\"\n",
    "    )\n",
    "cell_counts.xs(\n",
    "    (\"S1HL\", 1),\n",
    "    level=(\"region\", \"layer\"))"
   ]
  },
  {
   "cell_type": "code",
   "execution_count": null,
   "metadata": {
    "ExecuteTime": {
     "end_time": "2019-12-19T10:00:45.248234Z",
     "start_time": "2019-12-19T10:00:45.237669Z"
    }
   },
   "outputs": [],
   "source": [
    "cell_counts.xs(\n",
    "    (\"S1FL\", 2), level=(\"region\", \"layer\")\n",
    ")/cell_counts.xs(\n",
    "    (\"S1HL\", 2), level=(\"region\", \"layer\")\n",
    ")"
   ]
  },
  {
   "cell_type": "code",
   "execution_count": null,
   "metadata": {
    "ExecuteTime": {
     "end_time": "2019-12-19T10:01:00.886177Z",
     "start_time": "2019-12-19T10:01:00.876299Z"
    }
   },
   "outputs": [],
   "source": [
    "cell_counts.xs(\n",
    "    (\"S1HL\", 2), level=(\"region\", \"layer\"))"
   ]
  },
  {
   "cell_type": "code",
   "execution_count": null,
   "metadata": {
    "ExecuteTime": {
     "end_time": "2019-12-18T14:21:12.318940Z",
     "start_time": "2019-12-18T14:21:03.703005Z"
    },
    "scrolled": true
   },
   "outputs": [],
   "source": [
    "from neuro_dmt.analysis.reporting import CheetahReporter\n",
    "from neuro_dmt import terminology\n",
    "\n",
    "cd_rd =\\\n",
    "    composition_analysis.reference_data_cell_density(\n",
    "                                adapter.get_brain_regions(circuit_bio_m))\n",
    "cd_measurement =\\\n",
    "    composition_analysis\\\n",
    "        .analysis_cell_density_by_layer_using_sampling\\\n",
    "        .get_measurement(\n",
    "            circuit_bio_m,\n",
    "            adapter,\n",
    "            reference_data=cd_rd,\n",
    "            sampling_methodology=terminology.sampling_methodology.random,\n",
    "            sample_size=2)\n",
    "            \n",
    "cd_report =\\\n",
    "    composition_analysis\\\n",
    "        .analysis_cell_density_by_layer_using_sampling\\\n",
    "        .get_report(\n",
    "            cd_measurement,\n",
    "            reference_data=cd_rd,\n",
    "            figures={},\n",
    "            **adapter.get_provenance(circuit_bio_m))\n"
   ]
  },
  {
   "cell_type": "code",
   "execution_count": null,
   "metadata": {
    "ExecuteTime": {
     "end_time": "2019-12-18T16:50:12.032222Z",
     "start_time": "2019-12-18T16:50:07.553851Z"
    }
   },
   "outputs": [],
   "source": [
    "from neuro_dmt import terminology\n",
    "inh_fraction_report =\\\n",
    "    composition_analysis\\\n",
    "        .analysis_inihibitory_cell_fraction_by_layer_overall(\n",
    "            circuit_bio_m,\n",
    "            adapter,\n",
    "            sampling_methodology=terminology.sampling_methodology.exhaustive)"
   ]
  },
  {
   "cell_type": "code",
   "execution_count": null,
   "metadata": {
    "ExecuteTime": {
     "end_time": "2019-12-18T16:50:35.455174Z",
     "start_time": "2019-12-18T16:50:35.443817Z"
    }
   },
   "outputs": [],
   "source": [
    "inh_fraction_report.measurement"
   ]
  },
  {
   "cell_type": "code",
   "execution_count": null,
   "metadata": {
    "ExecuteTime": {
     "end_time": "2019-12-17T16:08:21.226785Z",
     "start_time": "2019-12-17T16:08:21.201455Z"
    }
   },
   "outputs": [],
   "source": [
    "print(rat.defelipe2017.data.shape)\n",
    "rat.defelipe2017.data.groupby(\"layer\").agg([\"size\", \"mean\", \"std\"])"
   ]
  },
  {
   "cell_type": "code",
   "execution_count": null,
   "metadata": {
    "ExecuteTime": {
     "end_time": "2019-12-17T16:08:24.575025Z",
     "start_time": "2019-12-17T16:08:24.550755Z"
    }
   },
   "outputs": [],
   "source": [
    "defelipe_2017 =\\\n",
    "    data_plotting[\n",
    "        data_plotting.dataset == \"DeFelipe2017\"]\n",
    "print(defelipe_2017.shape[0])\n",
    "defelipe_2017\\\n",
    "    .groupby(\"layer\")\\\n",
    "    .agg([\"mean\", \"std\"])"
   ]
  },
  {
   "cell_type": "code",
   "execution_count": null,
   "metadata": {
    "ExecuteTime": {
     "end_time": "2019-12-17T16:08:28.368923Z",
     "start_time": "2019-12-17T16:08:28.020765Z"
    }
   },
   "outputs": [],
   "source": [
    "seaborn.barplot(\n",
    "    x=\"layer\",\n",
    "    y=\"cell_density\",\n",
    "    hue=\"dataset\",\n",
    "    ci=\"sd\",\n",
    "    data=data_plotting[data_plotting.region == \"S1HL\"]\n",
    ").set(\n",
    "    xlabel=\"Layer\",\n",
    "    ylabel=\"Cell Density\")"
   ]
  },
  {
   "cell_type": "code",
   "execution_count": null,
   "metadata": {
    "ExecuteTime": {
     "end_time": "2019-12-17T16:08:32.677466Z",
     "start_time": "2019-12-17T16:08:32.288009Z"
    }
   },
   "outputs": [],
   "source": [
    "seaborn.catplot(\n",
    "    kind=\"bar\",\n",
    "    x=\"layer\",\n",
    "    y=\"cell_density\",\n",
    "    hue=\"dataset\",\n",
    "    ci=\"sd\",\n",
    "    data=data_plotting[data_plotting.region == \"S1HL\"]\n",
    ")"
   ]
  },
  {
   "cell_type": "code",
   "execution_count": null,
   "metadata": {
    "ExecuteTime": {
     "end_time": "2019-12-17T15:46:53.674892Z",
     "start_time": "2019-12-17T15:46:53.357876Z"
    }
   },
   "outputs": [],
   "source": [
    "import seaborn\n",
    "data =\\\n",
    "    cd_report.measurement\\\n",
    "        .groupby([\"layer\", \"region\"])\\\n",
    "        .agg([\"mean\", \"std\"])\\\n",
    "        .reset_index()\n",
    "data.head()\n",
    "seaborn.barplot(\n",
    "    x=\"layer\",\n",
    "    y=(\"cell_density\", \"mean\"),\n",
    "    hue=\"region\",\n",
    "    data=data)"
   ]
  },
  {
   "cell_type": "code",
   "execution_count": null,
   "metadata": {
    "ExecuteTime": {
     "end_time": "2019-12-16T19:17:02.862017Z",
     "start_time": "2019-12-16T19:17:02.167281Z"
    }
   },
   "outputs": [],
   "source": [
    "overall_cd_m =\\\n",
    "    cell_density_analysis\\\n",
    "        .get_measurement(\n",
    "            circuit_bio_m,\n",
    "            adapter,\n",
    "            sampling_methodology=terminology.sampling_methodology.exhaustive)"
   ]
  },
  {
   "cell_type": "code",
   "execution_count": null,
   "metadata": {
    "ExecuteTime": {
     "end_time": "2019-12-16T19:17:04.281159Z",
     "start_time": "2019-12-16T19:17:04.270677Z"
    }
   },
   "outputs": [],
   "source": [
    "overall_cd_m"
   ]
  },
  {
   "cell_type": "code",
   "execution_count": null,
   "metadata": {
    "ExecuteTime": {
     "end_time": "2019-12-16T18:31:15.806258Z",
     "start_time": "2019-12-16T18:29:39.640201Z"
    }
   },
   "outputs": [],
   "source": [
    "from neuro_dmt import terminology\n",
    "overall_cd =\\\n",
    "    cell_density_analysis(\n",
    "        circuit_bio_m,\n",
    "        adapter,\n",
    "        sampling_methodology=terminology.sampling_methodology.exhaustive)"
   ]
  },
  {
   "cell_type": "code",
   "execution_count": null,
   "metadata": {
    "ExecuteTime": {
     "end_time": "2019-12-16T12:39:40.981828Z",
     "start_time": "2019-12-16T12:39:40.978433Z"
    }
   },
   "outputs": [],
   "source": [
    "from neuro_dmt.library.users.visood.sscx_dissemination.analyses.composition\\\n",
    "    import *\n",
    "bars = Bars(\n",
    "    xvar=\"layer\",\n",
    "    xlabel=\"Layer\",\n",
    "    yvar=\"cell_density\",\n",
    "    ylabel=\"Cell Density\",\n",
    "    gvar=\"dataset\")"
   ]
  },
  {
   "cell_type": "code",
   "execution_count": null,
   "metadata": {
    "ExecuteTime": {
     "end_time": "2019-12-16T13:12:31.185049Z",
     "start_time": "2019-12-16T13:10:09.387757Z"
    }
   },
   "outputs": [],
   "source": [
    "cell_density_measurement =\\\n",
    "    cell_density_analysis\\\n",
    "        .get_measurement(\n",
    "            circuit_bio_m,\n",
    "            adapter)"
   ]
  },
  {
   "cell_type": "code",
   "execution_count": null,
   "metadata": {
    "ExecuteTime": {
     "end_time": "2019-12-16T12:46:56.125031Z",
     "start_time": "2019-12-16T12:46:56.085321Z"
    }
   },
   "outputs": [],
   "source": [
    "cell_density_analysis.get_figures(\n",
    "    cell_density_analysis._with_reference_data(\n",
    "        cell_density_measurement[\"data\"]))"
   ]
  },
  {
   "cell_type": "code",
   "execution_count": null,
   "metadata": {
    "ExecuteTime": {
     "end_time": "2019-12-16T13:12:56.153027Z",
     "start_time": "2019-12-16T13:12:56.145879Z"
    }
   },
   "outputs": [],
   "source": [
    "cdard =\\\n",
    "    cell_density_analysis\\\n",
    "        ._with_reference_data(\n",
    "            cell_density_measurement[\"data\"])"
   ]
  },
  {
   "cell_type": "code",
   "execution_count": null,
   "metadata": {
    "ExecuteTime": {
     "end_time": "2019-12-16T13:08:02.891352Z",
     "start_time": "2019-12-16T13:08:02.871065Z"
    }
   },
   "outputs": [],
   "source": [
    "cdard[\"DeFelipe2014\"]"
   ]
  },
  {
   "cell_type": "code",
   "execution_count": null,
   "metadata": {
    "ExecuteTime": {
     "end_time": "2019-12-16T13:12:58.463842Z",
     "start_time": "2019-12-16T13:12:58.418472Z"
    }
   },
   "outputs": [],
   "source": [
    "from dmt.data.observation import measurement\n",
    "measurement.concat_as_samples(\n",
    "    cell_density_analysis._with_reference_data(\n",
    "        cell_density_measurement[\"data\"]))"
   ]
  },
  {
   "cell_type": "code",
   "execution_count": null,
   "metadata": {
    "ExecuteTime": {
     "end_time": "2019-12-16T10:08:22.868007Z",
     "start_time": "2019-12-16T10:08:22.650063Z"
    }
   },
   "outputs": [],
   "source": [
    "from neuro_dmt.library.users.visood.sscx_dissemination.analyses.composition\\\n",
    "    import *\n",
    "\n",
    "cell_density_analysis =\\\n",
    "    BrainCircuitAnalysis(\n",
    "        phenomenon=composition_analysis.phenomenon_cell_density,\n",
    "        AdapterInterface=composition_analysis.AdapterInterface,\n",
    "        reference_data=composition_analysis.sampled_reference_data(\n",
    "            composition_analysis.reference_data_cell_density),\n",
    "        measurement_parameters=composition_analysis.parameters_regions_and_layers,\n",
    "        sample_measurement=composition_analysis.sample_measurement_cell_density,\n",
    "        plotter=MultiPlot(\n",
    "            mvar=\"region\",\n",
    "            plotter=Bars(\n",
    "                xvar=\"layer\",\n",
    "                xlabel=\"Layer\",\n",
    "                yvar=\"cell_density\",\n",
    "                ylabel=\"Cell Density\",\n",
    "                gvar=\"dataset\")),\n",
    "        report=CircuitAnalysisReport)"
   ]
  },
  {
   "cell_type": "code",
   "execution_count": null,
   "metadata": {
    "ExecuteTime": {
     "end_time": "2019-12-16T10:08:32.341726Z",
     "start_time": "2019-12-16T10:08:32.328065Z"
    }
   },
   "outputs": [],
   "source": [
    "cell_density_analysis(circuit_bio_m, adapter)"
   ]
  },
  {
   "cell_type": "code",
   "execution_count": null,
   "metadata": {
    "ExecuteTime": {
     "end_time": "2019-12-16T10:10:20.823294Z",
     "start_time": "2019-12-16T10:10:20.819963Z"
    }
   },
   "outputs": [],
   "source": [
    "parameter_values =\\\n",
    "    cell_density_analysis\\\n",
    "        .measurement_parameters\n"
   ]
  },
  {
   "cell_type": "code",
   "execution_count": null,
   "metadata": {
    "ExecuteTime": {
     "end_time": "2019-12-16T10:10:41.904206Z",
     "start_time": "2019-12-16T10:10:41.899546Z"
    }
   },
   "outputs": [],
   "source": [
    "parameter_values"
   ]
  },
  {
   "cell_type": "code",
   "execution_count": null,
   "metadata": {
    "ExecuteTime": {
     "end_time": "2019-12-16T10:14:17.420157Z",
     "start_time": "2019-12-16T10:14:17.414992Z"
    }
   },
   "outputs": [],
   "source": [
    "class Test:\n",
    "    def __init__(self,value):\n",
    "        if not isinstance(value, Test):\n",
    "            self.value = value\n",
    "        else:\n",
    "            self.value = value.value\n",
    "            "
   ]
  },
  {
   "cell_type": "code",
   "execution_count": null,
   "metadata": {
    "ExecuteTime": {
     "end_time": "2019-12-16T10:14:17.918685Z",
     "start_time": "2019-12-16T10:14:17.915356Z"
    }
   },
   "outputs": [],
   "source": [
    "test = Test(10)\n",
    "test_2 = Test(test)"
   ]
  },
  {
   "cell_type": "code",
   "execution_count": null,
   "metadata": {
    "ExecuteTime": {
     "end_time": "2019-12-16T10:14:29.728474Z",
     "start_time": "2019-12-16T10:14:29.723468Z"
    }
   },
   "outputs": [],
   "source": [
    "test_2 == test"
   ]
  },
  {
   "cell_type": "code",
   "execution_count": null,
   "metadata": {
    "ExecuteTime": {
     "end_time": "2019-12-16T10:26:41.424065Z",
     "start_time": "2019-12-16T10:26:41.145869Z"
    }
   },
   "outputs": [],
   "source": [
    "import pandas as pd\n",
    "from dmt.tk.parameters import Parameters\n",
    "\n",
    "regions = [\"S1HL\", \"S1FL\"]\n",
    "layers = range(1,7)\n",
    "regions_and_layers =\\\n",
    "    pd.DataFrame({\n",
    "        \"region\": [r for r in regions for _ in layers],\n",
    "        \"layer\": [l for _ in regions for l in layers]})\n",
    "p0 = Parameters(regions_and_layers)\n",
    "p1 = Parameters(p0)"
   ]
  },
  {
   "cell_type": "code",
   "execution_count": null,
   "metadata": {
    "ExecuteTime": {
     "end_time": "2019-12-16T10:26:51.044044Z",
     "start_time": "2019-12-16T10:26:51.033162Z"
    }
   },
   "outputs": [],
   "source": [
    "p1.values"
   ]
  },
  {
   "cell_type": "code",
   "execution_count": null,
   "metadata": {
    "ExecuteTime": {
     "end_time": "2019-12-19T12:23:52.203232Z",
     "start_time": "2019-12-19T12:23:52.197970Z"
    }
   },
   "outputs": [],
   "source": [
    "(43345060) ** (1./3.)"
   ]
  },
  {
   "cell_type": "code",
   "execution_count": null,
   "metadata": {
    "ExecuteTime": {
     "end_time": "2019-12-19T12:27:03.475150Z",
     "start_time": "2019-12-19T12:27:03.466503Z"
    }
   },
   "outputs": [],
   "source": [
    "regions_and_layers =\\\n",
    "    composition_analysis\\\n",
    "        .parameters_regions_and_layers"
   ]
  },
  {
   "cell_type": "code",
   "execution_count": null,
   "metadata": {
    "ExecuteTime": {
     "end_time": "2019-12-19T12:28:12.235164Z",
     "start_time": "2019-12-19T12:28:12.223386Z"
    }
   },
   "outputs": [],
   "source": [
    "regions_and_layers._resolve_values(adapter, circuit_bio_m)"
   ]
  },
  {
   "cell_type": "code",
   "execution_count": null,
   "metadata": {},
   "outputs": [],
   "source": []
  }
 ],
 "metadata": {
  "kernelspec": {
   "display_name": "Python 3",
   "language": "python",
   "name": "python3"
  },
  "language_info": {
   "codemirror_mode": {
    "name": "ipython",
    "version": 3
   },
   "file_extension": ".py",
   "mimetype": "text/x-python",
   "name": "python",
   "nbconvert_exporter": "python",
   "pygments_lexer": "ipython3",
   "version": "3.7.4"
  },
  "latex_envs": {
   "LaTeX_envs_menu_present": true,
   "autoclose": false,
   "autocomplete": true,
   "bibliofile": "biblio.bib",
   "cite_by": "apalike",
   "current_citInitial": 1,
   "eqLabelWithNumbers": true,
   "eqNumInitial": 1,
   "hotkeys": {
    "equation": "Ctrl-E",
    "itemize": "Ctrl-I"
   },
   "labels_anchors": false,
   "latex_user_defs": false,
   "report_style_numbering": false,
   "user_envs_cfg": false
  },
  "toc": {
   "base_numbering": 1,
   "nav_menu": {},
   "number_sections": true,
   "sideBar": true,
   "skip_h1_title": false,
   "title_cell": "Table of Contents",
   "title_sidebar": "Contents",
   "toc_cell": false,
   "toc_position": {},
   "toc_section_display": true,
   "toc_window_display": false
  },
  "varInspector": {
   "cols": {
    "lenName": 16,
    "lenType": 16,
    "lenVar": 40
   },
   "kernels_config": {
    "python": {
     "delete_cmd_postfix": "",
     "delete_cmd_prefix": "del ",
     "library": "var_list.py",
     "varRefreshCmd": "print(var_dic_list())"
    },
    "r": {
     "delete_cmd_postfix": ") ",
     "delete_cmd_prefix": "rm(",
     "library": "var_list.r",
     "varRefreshCmd": "cat(var_dic_list()) "
    }
   },
   "types_to_exclude": [
    "module",
    "function",
    "builtin_function_or_method",
    "instance",
    "_Feature"
   ],
   "window_display": false
  }
 },
 "nbformat": 4,
 "nbformat_minor": 2
}
