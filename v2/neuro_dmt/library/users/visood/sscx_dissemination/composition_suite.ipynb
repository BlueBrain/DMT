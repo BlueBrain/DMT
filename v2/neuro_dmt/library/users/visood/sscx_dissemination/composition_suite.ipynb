{
 "cells": [
  {
   "cell_type": "markdown",
   "metadata": {},
   "source": [
    "# Composition Analyses Suite"
   ]
  },
  {
   "cell_type": "code",
   "execution_count": 1,
   "metadata": {
    "ExecuteTime": {
     "end_time": "2020-01-29T18:30:34.602510Z",
     "start_time": "2020-01-29T18:30:33.428947Z"
    },
    "code_folding": [
     3,
     5,
     7,
     10
    ]
   },
   "outputs": [
    {
     "name": "stdout",
     "output_type": "stream",
     "text": [
      "('region', 'layer', 'depth', 'height', 'mesocolumn', 'hypercolumn', 'roi', 'mtype', 'etype', 'synapse_class', 'postsynaptic', 'presynaptic')\n",
      "('region', 'layer', 'depth', 'height', 'mesocolumn', 'hypercolumn', 'roi', 'mtype', 'etype', 'synapse_class', 'postsynaptic', 'presynaptic')\n",
      "('region', 'layer', 'depth', 'height', 'mesocolumn', 'hypercolumn', 'roi', 'mtype', 'etype', 'synapse_class', 'postsynaptic', 'presynaptic')\n",
      "('region', 'layer', 'depth', 'height', 'mtype', 'etype', 'synapse_class')\n",
      "('region', 'layer', 'depth', 'height', 'mesocolumn', 'hypercolumn', 'roi', 'mtype', 'etype', 'synapse_class', 'postsynaptic', 'presynaptic')\n",
      "('region', 'layer', 'depth', 'height', 'mesocolumn', 'hypercolumn', 'roi')\n"
     ]
    }
   ],
   "source": [
    "import os\n",
    "import numpy as np\n",
    "import pandas as pd\n",
    "from neuro_dmt.library.users.visood.sscx_dissemination.analyses.composition\\\n",
    "    import CompositionAnalysesSuite\n",
    "from neuro_dmt.models.bluebrain.circuit.atlas import\\\n",
    "    BlueBrainCircuitAtlas\n",
    "from neuro_dmt.models.bluebrain.circuit.model import\\\n",
    "    BlueBrainCircuitModel,\\\n",
    "    CircuitProvenance\n",
    "from neuro_dmt.models.bluebrain.circuit.adapter import\\\n",
    "    BlueBrainCircuitAdapter"
   ]
  },
  {
   "cell_type": "markdown",
   "metadata": {},
   "source": [
    "We will be using SSCx dissemination circuits. We set up paths and load the \n",
    "biological mean circuit (over 7 rats)."
   ]
  },
  {
   "cell_type": "code",
   "execution_count": 2,
   "metadata": {
    "ExecuteTime": {
     "end_time": "2020-01-29T18:30:36.959561Z",
     "start_time": "2020-01-29T18:30:36.953009Z"
    },
    "code_folding": [
     0,
     3,
     7,
     11,
     12,
     15,
     19,
     23,
     27,
     38
    ]
   },
   "outputs": [],
   "source": [
    "project =\\\n",
    "    os.path.join(\n",
    "        \"/gpfs/bbp.cscs.ch/project\")\n",
    "proj_sscx_diss=\\\n",
    "    os.path.join(\n",
    "        project,\n",
    "        \"proj83\")\n",
    "data_sscx_diss=\\\n",
    "    os.path.join(\n",
    "        proj_sscx_diss,\n",
    "        \"data\")\n",
    "atlases_sscx_diss=\\\n",
    "    os.path.join(\n",
    "        data_sscx_diss,\n",
    "        \"atlas/S1/MEAN\")\n",
    "circuits_sscx_diss=\\\n",
    "    os.path.join(\n",
    "        proj_sscx_diss,\n",
    "        \"circuits\")\n",
    "atlas_bio_m =\\\n",
    "    BlueBrainCircuitAtlas(\n",
    "        path=os.path.join(\n",
    "                atlases_sscx_diss, \"P14-MEAN\"))\n",
    "path_bio_m =\\\n",
    "    os.path.join(\n",
    "        circuits_sscx_diss,\n",
    "        \"Bio_M/20191206\")\n",
    "circuit_bio_m =\\\n",
    "    BlueBrainCircuitModel(\n",
    "        path_circuit_data=path_bio_m,\n",
    "            provenance=CircuitProvenance(\n",
    "                label=\"SSCxRatDisseminationBioM\",\n",
    "                authors=[\"BBP Team\"],\n",
    "                release_date=\"20191212\",\n",
    "                uri=path_bio_m,\n",
    "                animal=\"Wistar Rat\",\n",
    "                age=\"P14\",\n",
    "                brain_region=\"SSCx\"))\n",
    "adapter =\\\n",
    "    BlueBrainCircuitAdapter()"
   ]
  },
  {
   "cell_type": "code",
   "execution_count": 3,
   "metadata": {
    "ExecuteTime": {
     "end_time": "2020-01-29T18:32:17.581502Z",
     "start_time": "2020-01-29T18:30:39.225369Z"
    },
    "code_folding": [
     0,
     2
    ]
   },
   "outputs": [],
   "source": [
    "from neuro_dmt.models.bluebrain.circuit.mock.circuit import\\\n",
    "    MockCircuit, MockBlueBrainCircuitModel\n",
    "from neuro_dmt.models.bluebrain.circuit.mock.test.mock_circuit_light import\\\n",
    "    circuit_composition,\\\n",
    "    circuit_connectivity\n",
    "\n",
    "mock_circuit_model =\\\n",
    "    MockBlueBrainCircuitModel(\n",
    "        circuit_composition, \n",
    "        circuit_connectivity,\n",
    "        label=\"BlueBrainCircuitModelMockLight\")"
   ]
  },
  {
   "cell_type": "code",
   "execution_count": 4,
   "metadata": {
    "ExecuteTime": {
     "end_time": "2020-01-29T18:33:16.729128Z",
     "start_time": "2020-01-29T18:33:16.722156Z"
    }
   },
   "outputs": [],
   "source": [
    "suite_composition_analyses =\\\n",
    "    CompositionAnalysesSuite(\n",
    "        sample_size=100,\n",
    "        size_roi=50.*np.ones(1))"
   ]
  },
  {
   "cell_type": "code",
   "execution_count": 6,
   "metadata": {
    "ExecuteTime": {
     "end_time": "2020-01-29T18:33:23.490356Z",
     "start_time": "2020-01-29T18:33:23.110625Z"
    }
   },
   "outputs": [
    {
     "name": "stderr",
     "output_type": "stream",
     "text": [
      "/Users/vishalsoodmuchu/.vmgr_repo/py37/lib/python3.7/site-packages/neuro_dmt/models/bluebrain/circuit/adapter/adapter.py:407: FutureWarning: \n",
      "Passing list-likes to .loc or [] with any missing label will raise\n",
      "KeyError in the future, you can use .reindex() as an alternative.\n",
      "\n",
      "See the documentation here:\n",
      "https://pandas.pydata.org/pandas-docs/stable/user_guide/indexing.html#deprecate-loc-reindex-listlike\n",
      "  cells.loc[visible_cell_gids]\n"
     ]
    },
    {
     "data": {
      "text/plain": [
       "329216000.0"
      ]
     },
     "execution_count": 6,
     "metadata": {},
     "output_type": "execute_result"
    }
   ],
   "source": [
    "suite_composition_analyses\\\n",
    "    .measurement_cell_density_using_sampling(\n",
    "        mock_circuit_model,\n",
    "        adapter,\n",
    "        depth=None)"
   ]
  },
  {
   "cell_type": "code",
   "execution_count": null,
   "metadata": {
    "ExecuteTime": {
     "end_time": "2020-01-29T17:50:10.020817Z",
     "start_time": "2020-01-29T17:50:10.013798Z"
    }
   },
   "outputs": [],
   "source": [
    "qdb = adapter.visible_voxels\n",
    "qdb.store"
   ]
  },
  {
   "cell_type": "code",
   "execution_count": null,
   "metadata": {
    "ExecuteTime": {
     "end_time": "2020-01-29T18:18:49.076824Z",
     "start_time": "2020-01-29T18:18:49.067800Z"
    }
   },
   "outputs": [],
   "source": [
    "vcc =\\\n",
    "    mock_circuit_model\\\n",
    "        .voxel_cell_count\n",
    "print(np.prod(vcc.shape))\n",
    "vcc[0, 0, 0] = 0.\n",
    "len(np.where(vcc)[0])"
   ]
  },
  {
   "cell_type": "code",
   "execution_count": 10,
   "metadata": {
    "ExecuteTime": {
     "end_time": "2020-01-29T18:36:11.171645Z",
     "start_time": "2020-01-29T18:36:11.161463Z"
    }
   },
   "outputs": [
    {
     "data": {
      "text/html": [
       "<div>\n",
       "<style scoped>\n",
       "    .dataframe tbody tr th:only-of-type {\n",
       "        vertical-align: middle;\n",
       "    }\n",
       "\n",
       "    .dataframe tbody tr th {\n",
       "        vertical-align: top;\n",
       "    }\n",
       "\n",
       "    .dataframe thead th {\n",
       "        text-align: right;\n",
       "    }\n",
       "</style>\n",
       "<table border=\"1\" class=\"dataframe\">\n",
       "  <thead>\n",
       "    <tr style=\"text-align: right;\">\n",
       "      <th></th>\n",
       "      <th>region</th>\n",
       "      <th>depth_begin</th>\n",
       "      <th>depth_end</th>\n",
       "    </tr>\n",
       "  </thead>\n",
       "  <tbody>\n",
       "    <tr>\n",
       "      <th>0</th>\n",
       "      <td>S1HL</td>\n",
       "      <td>0.0</td>\n",
       "      <td>100.0</td>\n",
       "    </tr>\n",
       "    <tr>\n",
       "      <th>1</th>\n",
       "      <td>S1HL</td>\n",
       "      <td>100.0</td>\n",
       "      <td>200.0</td>\n",
       "    </tr>\n",
       "    <tr>\n",
       "      <th>2</th>\n",
       "      <td>S1HL</td>\n",
       "      <td>200.0</td>\n",
       "      <td>300.0</td>\n",
       "    </tr>\n",
       "    <tr>\n",
       "      <th>3</th>\n",
       "      <td>S1HL</td>\n",
       "      <td>300.0</td>\n",
       "      <td>400.0</td>\n",
       "    </tr>\n",
       "    <tr>\n",
       "      <th>4</th>\n",
       "      <td>S1HL</td>\n",
       "      <td>400.0</td>\n",
       "      <td>500.0</td>\n",
       "    </tr>\n",
       "  </tbody>\n",
       "</table>\n",
       "</div>"
      ],
      "text/plain": [
       "  region  depth_begin  depth_end\n",
       "0   S1HL          0.0      100.0\n",
       "1   S1HL        100.0      200.0\n",
       "2   S1HL        200.0      300.0\n",
       "3   S1HL        300.0      400.0\n",
       "4   S1HL        400.0      500.0"
      ]
     },
     "execution_count": 10,
     "metadata": {},
     "output_type": "execute_result"
    }
   ],
   "source": [
    "suite_composition_analyses\\\n",
    "    .parameters_regions_and_depths\\\n",
    "    .values(\n",
    "        adapter,\n",
    "        mock_circuit_model)\\\n",
    "    .head()"
   ]
  },
  {
   "cell_type": "code",
   "execution_count": 8,
   "metadata": {
    "ExecuteTime": {
     "end_time": "2020-01-29T18:34:48.940711Z",
     "start_time": "2020-01-29T18:34:26.384602Z"
    },
    "code_folding": [],
    "scrolled": true
   },
   "outputs": [
    {
     "name": "stderr",
     "output_type": "stream",
     "text": [
      "/Users/vishalsoodmuchu/.vmgr_repo/py37/lib/python3.7/site-packages/neuro_dmt/models/bluebrain/circuit/adapter/adapter.py:407: FutureWarning: \n",
      "Passing list-likes to .loc or [] with any missing label will raise\n",
      "KeyError in the future, you can use .reindex() as an alternative.\n",
      "\n",
      "See the documentation here:\n",
      "https://pandas.pydata.org/pandas-docs/stable/user_guide/indexing.html#deprecate-loc-reindex-listlike\n",
      "  cells.loc[visible_cell_gids]\n"
     ]
    },
    {
     "ename": "KeyError",
     "evalue": "\"None of [Int64Index([ 5995,  6652,  6822,  7245,  7997,  8368,  8583,  8588,  8601,\\n             9312,\\n            ...\\n            31355,   501,   512,   614, 10744, 21030, 21100, 21188, 31341,\\n            31423],\\n           dtype='int64', length=41152)] are in the [index]\"",
     "output_type": "error",
     "traceback": [
      "\u001b[0;31m---------------------------------------------------------------------------\u001b[0m",
      "\u001b[0;31mKeyError\u001b[0m                                  Traceback (most recent call last)",
      "\u001b[0;32m<ipython-input-8-87e4feb8a376>\u001b[0m in \u001b[0;36m<module>\u001b[0;34m\u001b[0m\n\u001b[1;32m      4\u001b[0m         .get_measurement(\n\u001b[1;32m      5\u001b[0m             \u001b[0mmock_circuit_model\u001b[0m\u001b[0;34m,\u001b[0m\u001b[0;34m\u001b[0m\u001b[0;34m\u001b[0m\u001b[0m\n\u001b[0;32m----> 6\u001b[0;31m             adapter)\n\u001b[0m",
      "\u001b[0;32m~/.vmgr_repo/py37/lib/python3.7/site-packages/neuro_dmt/analysis/circuit/__init__.py\u001b[0m in \u001b[0;36mget_measurement\u001b[0;34m(self, circuit_model, adapter, sampling_methodology, sample_size, *args, **kwargs)\u001b[0m\n\u001b[1;32m    240\u001b[0m                                     \u001b[0msampling_methodology\u001b[0m\u001b[0;34m=\u001b[0m\u001b[0msampling_methodology\u001b[0m\u001b[0;34m,\u001b[0m\u001b[0;34m\u001b[0m\u001b[0;34m\u001b[0m\u001b[0m\n\u001b[1;32m    241\u001b[0m                                     **p, **kwargs))\n\u001b[0;32m--> 242\u001b[0;31m                 for p in parameter_values)\\\n\u001b[0m\u001b[1;32m    243\u001b[0m             \u001b[0;34m.\u001b[0m\u001b[0mrename\u001b[0m\u001b[0;34m(\u001b[0m\u001b[0mcolumns\u001b[0m\u001b[0;34m=\u001b[0m\u001b[0;34m{\u001b[0m\u001b[0;34m\"value\"\u001b[0m\u001b[0;34m:\u001b[0m \u001b[0mself\u001b[0m\u001b[0;34m.\u001b[0m\u001b[0mphenomenon\u001b[0m\u001b[0;34m.\u001b[0m\u001b[0mlabel\u001b[0m\u001b[0;34m}\u001b[0m\u001b[0;34m)\u001b[0m\u001b[0;34m\u001b[0m\u001b[0;34m\u001b[0m\u001b[0m\n\u001b[1;32m    244\u001b[0m         \u001b[0mmeasurement\u001b[0m \u001b[0;34m=\u001b[0m\u001b[0;31m\\\u001b[0m\u001b[0;34m\u001b[0m\u001b[0;34m\u001b[0m\u001b[0m\n",
      "\u001b[0;32m~/.vmgr_repo/py37/lib/python3.7/site-packages/dmt/data/observation/measurement/collection.py\u001b[0m in \u001b[0;36mprimitive_type\u001b[0;34m(measurement_generator)\u001b[0m\n\u001b[1;32m     36\u001b[0m         pd.DataFrame([\n\u001b[1;32m     37\u001b[0m             \u001b[0m_join\u001b[0m\u001b[0;34m(\u001b[0m\u001b[0mparameters\u001b[0m\u001b[0;34m,\u001b[0m \u001b[0mvalue\u001b[0m\u001b[0;34m)\u001b[0m\u001b[0;34m\u001b[0m\u001b[0;34m\u001b[0m\u001b[0m\n\u001b[0;32m---> 38\u001b[0;31m             for parameters, value in measurement_generator]))\n\u001b[0m\u001b[1;32m     39\u001b[0m \u001b[0;34m\u001b[0m\u001b[0m\n\u001b[1;32m     40\u001b[0m \u001b[0;32mdef\u001b[0m \u001b[0mseries_type\u001b[0m\u001b[0;34m(\u001b[0m\u001b[0mmeasurement_generator\u001b[0m\u001b[0;34m)\u001b[0m\u001b[0;34m:\u001b[0m\u001b[0;34m\u001b[0m\u001b[0;34m\u001b[0m\u001b[0m\n",
      "\u001b[0;32m~/.vmgr_repo/py37/lib/python3.7/site-packages/dmt/data/observation/measurement/collection.py\u001b[0m in \u001b[0;36m<listcomp>\u001b[0;34m(.0)\u001b[0m\n\u001b[1;32m     35\u001b[0m     return _with_index(\n\u001b[1;32m     36\u001b[0m         pd.DataFrame([\n\u001b[0;32m---> 37\u001b[0;31m             \u001b[0m_join\u001b[0m\u001b[0;34m(\u001b[0m\u001b[0mparameters\u001b[0m\u001b[0;34m,\u001b[0m \u001b[0mvalue\u001b[0m\u001b[0;34m)\u001b[0m\u001b[0;34m\u001b[0m\u001b[0;34m\u001b[0m\u001b[0m\n\u001b[0m\u001b[1;32m     38\u001b[0m             for parameters, value in measurement_generator]))\n\u001b[1;32m     39\u001b[0m \u001b[0;34m\u001b[0m\u001b[0m\n",
      "\u001b[0;32m~/.vmgr_repo/py37/lib/python3.7/site-packages/neuro_dmt/analysis/circuit/__init__.py\u001b[0m in \u001b[0;36m<genexpr>\u001b[0;34m(.0)\u001b[0m\n\u001b[1;32m    240\u001b[0m                                     \u001b[0msampling_methodology\u001b[0m\u001b[0;34m=\u001b[0m\u001b[0msampling_methodology\u001b[0m\u001b[0;34m,\u001b[0m\u001b[0;34m\u001b[0m\u001b[0;34m\u001b[0m\u001b[0m\n\u001b[1;32m    241\u001b[0m                                     **p, **kwargs))\n\u001b[0;32m--> 242\u001b[0;31m                 for p in parameter_values)\\\n\u001b[0m\u001b[1;32m    243\u001b[0m             \u001b[0;34m.\u001b[0m\u001b[0mrename\u001b[0m\u001b[0;34m(\u001b[0m\u001b[0mcolumns\u001b[0m\u001b[0;34m=\u001b[0m\u001b[0;34m{\u001b[0m\u001b[0;34m\"value\"\u001b[0m\u001b[0;34m:\u001b[0m \u001b[0mself\u001b[0m\u001b[0;34m.\u001b[0m\u001b[0mphenomenon\u001b[0m\u001b[0;34m.\u001b[0m\u001b[0mlabel\u001b[0m\u001b[0;34m}\u001b[0m\u001b[0;34m)\u001b[0m\u001b[0;34m\u001b[0m\u001b[0;34m\u001b[0m\u001b[0m\n\u001b[1;32m    244\u001b[0m         \u001b[0mmeasurement\u001b[0m \u001b[0;34m=\u001b[0m\u001b[0;31m\\\u001b[0m\u001b[0;34m\u001b[0m\u001b[0;34m\u001b[0m\u001b[0m\n",
      "\u001b[0;32m~/.vmgr_repo/py37/lib/python3.7/site-packages/neuro_dmt/analysis/circuit/__init__.py\u001b[0m in \u001b[0;36m_adapter_measurement_method\u001b[0;34m(circuit_model, **kwargs)\u001b[0m\n\u001b[1;32m    193\u001b[0m                 \u001b[0;32mreturn\u001b[0m\u001b[0;31m\\\u001b[0m\u001b[0;34m\u001b[0m\u001b[0;34m\u001b[0m\u001b[0m\n\u001b[1;32m    194\u001b[0m                     self.sample_measurement(\n\u001b[0;32m--> 195\u001b[0;31m                         circuit_model, adapter, **kwargs)\n\u001b[0m\u001b[1;32m    196\u001b[0m \u001b[0;34m\u001b[0m\u001b[0m\n\u001b[1;32m    197\u001b[0m             \u001b[0;32mtry\u001b[0m\u001b[0;34m:\u001b[0m\u001b[0;34m\u001b[0m\u001b[0;34m\u001b[0m\u001b[0m\n",
      "\u001b[0;32m~/.vmgr_repo/py37/lib/python3.7/site-packages/neuro_dmt/library/users/visood/sscx_dissemination/analyses/composition/__init__.py\u001b[0m in \u001b[0;36mmeasurement_cell_density_using_sampling\u001b[0;34m(self, circuit_model, adapter, **query)\u001b[0m\n\u001b[1;32m    362\u001b[0m         \u001b[0mcell_count\u001b[0m \u001b[0;34m=\u001b[0m\u001b[0;31m\\\u001b[0m\u001b[0;34m\u001b[0m\u001b[0;34m\u001b[0m\u001b[0m\n\u001b[1;32m    363\u001b[0m             adapter.get_cells(\n\u001b[0;32m--> 364\u001b[0;31m                 \u001b[0mcircuit_model\u001b[0m\u001b[0;34m,\u001b[0m \u001b[0mroi\u001b[0m\u001b[0;34m=\u001b[0m\u001b[0mcuboid_to_measure\u001b[0m\u001b[0;34m\u001b[0m\u001b[0;34m\u001b[0m\u001b[0m\n\u001b[0m\u001b[1;32m    365\u001b[0m             ).shape[0]\n\u001b[1;32m    366\u001b[0m         \u001b[0mspatial_volume\u001b[0m \u001b[0;34m=\u001b[0m\u001b[0;31m\\\u001b[0m\u001b[0;34m\u001b[0m\u001b[0;34m\u001b[0m\u001b[0m\n",
      "\u001b[0;32m~/.vmgr_repo/py37/lib/python3.7/site-packages/neuro_dmt/models/bluebrain/circuit/adapter/adapter.py\u001b[0m in \u001b[0;36mget_cells\u001b[0;34m(self, circuit_model, properties, **query)\u001b[0m\n\u001b[1;32m    405\u001b[0m         \u001b[0;31m#What happens if some visible cell gid is not in cell index.\u001b[0m\u001b[0;34m\u001b[0m\u001b[0;34m\u001b[0m\u001b[0;34m\u001b[0m\u001b[0m\n\u001b[1;32m    406\u001b[0m         \u001b[0;32mreturn\u001b[0m\u001b[0;31m\\\u001b[0m\u001b[0;34m\u001b[0m\u001b[0;34m\u001b[0m\u001b[0m\n\u001b[0;32m--> 407\u001b[0;31m             \u001b[0mcells\u001b[0m\u001b[0;34m.\u001b[0m\u001b[0mloc\u001b[0m\u001b[0;34m[\u001b[0m\u001b[0mvisible_cell_gids\u001b[0m\u001b[0;34m]\u001b[0m\u001b[0;34m\u001b[0m\u001b[0;34m\u001b[0m\u001b[0m\n\u001b[0m\u001b[1;32m    408\u001b[0m \u001b[0;34m\u001b[0m\u001b[0m\n\u001b[1;32m    409\u001b[0m \u001b[0;34m\u001b[0m\u001b[0m\n",
      "\u001b[0;32m~/.vmgr_repo/py37/lib/python3.7/site-packages/pandas/core/indexing.py\u001b[0m in \u001b[0;36m__getitem__\u001b[0;34m(self, key)\u001b[0m\n\u001b[1;32m   1408\u001b[0m \u001b[0;34m\u001b[0m\u001b[0m\n\u001b[1;32m   1409\u001b[0m             \u001b[0mmaybe_callable\u001b[0m \u001b[0;34m=\u001b[0m \u001b[0mcom\u001b[0m\u001b[0;34m.\u001b[0m\u001b[0mapply_if_callable\u001b[0m\u001b[0;34m(\u001b[0m\u001b[0mkey\u001b[0m\u001b[0;34m,\u001b[0m \u001b[0mself\u001b[0m\u001b[0;34m.\u001b[0m\u001b[0mobj\u001b[0m\u001b[0;34m)\u001b[0m\u001b[0;34m\u001b[0m\u001b[0;34m\u001b[0m\u001b[0m\n\u001b[0;32m-> 1410\u001b[0;31m             \u001b[0;32mreturn\u001b[0m \u001b[0mself\u001b[0m\u001b[0;34m.\u001b[0m\u001b[0m_getitem_axis\u001b[0m\u001b[0;34m(\u001b[0m\u001b[0mmaybe_callable\u001b[0m\u001b[0;34m,\u001b[0m \u001b[0maxis\u001b[0m\u001b[0;34m=\u001b[0m\u001b[0maxis\u001b[0m\u001b[0;34m)\u001b[0m\u001b[0;34m\u001b[0m\u001b[0;34m\u001b[0m\u001b[0m\n\u001b[0m\u001b[1;32m   1411\u001b[0m \u001b[0;34m\u001b[0m\u001b[0m\n\u001b[1;32m   1412\u001b[0m     \u001b[0;32mdef\u001b[0m \u001b[0m_is_scalar_access\u001b[0m\u001b[0;34m(\u001b[0m\u001b[0mself\u001b[0m\u001b[0;34m,\u001b[0m \u001b[0mkey\u001b[0m\u001b[0;34m:\u001b[0m \u001b[0mTuple\u001b[0m\u001b[0;34m)\u001b[0m\u001b[0;34m:\u001b[0m\u001b[0;34m\u001b[0m\u001b[0;34m\u001b[0m\u001b[0m\n",
      "\u001b[0;32m~/.vmgr_repo/py37/lib/python3.7/site-packages/pandas/core/indexing.py\u001b[0m in \u001b[0;36m_getitem_axis\u001b[0;34m(self, key, axis)\u001b[0m\n\u001b[1;32m   1812\u001b[0m                     \u001b[0;32mraise\u001b[0m \u001b[0mValueError\u001b[0m\u001b[0;34m(\u001b[0m\u001b[0;34m\"Cannot index with multidimensional key\"\u001b[0m\u001b[0;34m)\u001b[0m\u001b[0;34m\u001b[0m\u001b[0;34m\u001b[0m\u001b[0m\n\u001b[1;32m   1813\u001b[0m \u001b[0;34m\u001b[0m\u001b[0m\n\u001b[0;32m-> 1814\u001b[0;31m                 \u001b[0;32mreturn\u001b[0m \u001b[0mself\u001b[0m\u001b[0;34m.\u001b[0m\u001b[0m_getitem_iterable\u001b[0m\u001b[0;34m(\u001b[0m\u001b[0mkey\u001b[0m\u001b[0;34m,\u001b[0m \u001b[0maxis\u001b[0m\u001b[0;34m=\u001b[0m\u001b[0maxis\u001b[0m\u001b[0;34m)\u001b[0m\u001b[0;34m\u001b[0m\u001b[0;34m\u001b[0m\u001b[0m\n\u001b[0m\u001b[1;32m   1815\u001b[0m \u001b[0;34m\u001b[0m\u001b[0m\n\u001b[1;32m   1816\u001b[0m             \u001b[0;31m# nested tuple slicing\u001b[0m\u001b[0;34m\u001b[0m\u001b[0;34m\u001b[0m\u001b[0;34m\u001b[0m\u001b[0m\n",
      "\u001b[0;32m~/.vmgr_repo/py37/lib/python3.7/site-packages/pandas/core/indexing.py\u001b[0m in \u001b[0;36m_getitem_iterable\u001b[0;34m(self, key, axis)\u001b[0m\n\u001b[1;32m   1117\u001b[0m         \u001b[0;32melse\u001b[0m\u001b[0;34m:\u001b[0m\u001b[0;34m\u001b[0m\u001b[0;34m\u001b[0m\u001b[0m\n\u001b[1;32m   1118\u001b[0m             \u001b[0;31m# A collection of keys\u001b[0m\u001b[0;34m\u001b[0m\u001b[0;34m\u001b[0m\u001b[0;34m\u001b[0m\u001b[0m\n\u001b[0;32m-> 1119\u001b[0;31m             \u001b[0mkeyarr\u001b[0m\u001b[0;34m,\u001b[0m \u001b[0mindexer\u001b[0m \u001b[0;34m=\u001b[0m \u001b[0mself\u001b[0m\u001b[0;34m.\u001b[0m\u001b[0m_get_listlike_indexer\u001b[0m\u001b[0;34m(\u001b[0m\u001b[0mkey\u001b[0m\u001b[0;34m,\u001b[0m \u001b[0maxis\u001b[0m\u001b[0;34m,\u001b[0m \u001b[0mraise_missing\u001b[0m\u001b[0;34m=\u001b[0m\u001b[0;32mFalse\u001b[0m\u001b[0;34m)\u001b[0m\u001b[0;34m\u001b[0m\u001b[0;34m\u001b[0m\u001b[0m\n\u001b[0m\u001b[1;32m   1120\u001b[0m             return self.obj._reindex_with_indexers(\n\u001b[1;32m   1121\u001b[0m                 \u001b[0;34m{\u001b[0m\u001b[0maxis\u001b[0m\u001b[0;34m:\u001b[0m \u001b[0;34m[\u001b[0m\u001b[0mkeyarr\u001b[0m\u001b[0;34m,\u001b[0m \u001b[0mindexer\u001b[0m\u001b[0;34m]\u001b[0m\u001b[0;34m}\u001b[0m\u001b[0;34m,\u001b[0m \u001b[0mcopy\u001b[0m\u001b[0;34m=\u001b[0m\u001b[0;32mTrue\u001b[0m\u001b[0;34m,\u001b[0m \u001b[0mallow_dups\u001b[0m\u001b[0;34m=\u001b[0m\u001b[0;32mTrue\u001b[0m\u001b[0;34m\u001b[0m\u001b[0;34m\u001b[0m\u001b[0m\n",
      "\u001b[0;32m~/.vmgr_repo/py37/lib/python3.7/site-packages/pandas/core/indexing.py\u001b[0m in \u001b[0;36m_get_listlike_indexer\u001b[0;34m(self, key, axis, raise_missing)\u001b[0m\n\u001b[1;32m   1076\u001b[0m \u001b[0;34m\u001b[0m\u001b[0m\n\u001b[1;32m   1077\u001b[0m         self._validate_read_indexer(\n\u001b[0;32m-> 1078\u001b[0;31m             \u001b[0mkeyarr\u001b[0m\u001b[0;34m,\u001b[0m \u001b[0mindexer\u001b[0m\u001b[0;34m,\u001b[0m \u001b[0mo\u001b[0m\u001b[0;34m.\u001b[0m\u001b[0m_get_axis_number\u001b[0m\u001b[0;34m(\u001b[0m\u001b[0maxis\u001b[0m\u001b[0;34m)\u001b[0m\u001b[0;34m,\u001b[0m \u001b[0mraise_missing\u001b[0m\u001b[0;34m=\u001b[0m\u001b[0mraise_missing\u001b[0m\u001b[0;34m\u001b[0m\u001b[0;34m\u001b[0m\u001b[0m\n\u001b[0m\u001b[1;32m   1079\u001b[0m         )\n\u001b[1;32m   1080\u001b[0m         \u001b[0;32mreturn\u001b[0m \u001b[0mkeyarr\u001b[0m\u001b[0;34m,\u001b[0m \u001b[0mindexer\u001b[0m\u001b[0;34m\u001b[0m\u001b[0;34m\u001b[0m\u001b[0m\n",
      "\u001b[0;32m~/.vmgr_repo/py37/lib/python3.7/site-packages/pandas/core/indexing.py\u001b[0m in \u001b[0;36m_validate_read_indexer\u001b[0;34m(self, key, indexer, axis, raise_missing)\u001b[0m\n\u001b[1;32m   1161\u001b[0m                 raise KeyError(\n\u001b[1;32m   1162\u001b[0m                     \"None of [{key}] are in the [{axis}]\".format(\n\u001b[0;32m-> 1163\u001b[0;31m                         \u001b[0mkey\u001b[0m\u001b[0;34m=\u001b[0m\u001b[0mkey\u001b[0m\u001b[0;34m,\u001b[0m \u001b[0maxis\u001b[0m\u001b[0;34m=\u001b[0m\u001b[0mself\u001b[0m\u001b[0;34m.\u001b[0m\u001b[0mobj\u001b[0m\u001b[0;34m.\u001b[0m\u001b[0m_get_axis_name\u001b[0m\u001b[0;34m(\u001b[0m\u001b[0maxis\u001b[0m\u001b[0;34m)\u001b[0m\u001b[0;34m\u001b[0m\u001b[0;34m\u001b[0m\u001b[0m\n\u001b[0m\u001b[1;32m   1164\u001b[0m                     )\n\u001b[1;32m   1165\u001b[0m                 )\n",
      "\u001b[0;31mKeyError\u001b[0m: \"None of [Int64Index([ 5995,  6652,  6822,  7245,  7997,  8368,  8583,  8588,  8601,\\n             9312,\\n            ...\\n            31355,   501,   512,   614, 10744, 21030, 21100, 21188, 31341,\\n            31423],\\n           dtype='int64', length=41152)] are in the [index]\""
     ]
    }
   ],
   "source": [
    "cell_density_by_depth =\\\n",
    "    suite_composition_analyses\\\n",
    "        .analysis_cell_density_by_depth_using_sampling\\\n",
    "        .get_measurement(\n",
    "            mock_circuit_model, \n",
    "            adapter)"
   ]
  },
  {
   "cell_type": "code",
   "execution_count": null,
   "metadata": {
    "ExecuteTime": {
     "end_time": "2020-01-29T15:31:07.833274Z",
     "start_time": "2020-01-29T15:31:07.733969Z"
    }
   },
   "outputs": [],
   "source": [
    "adapter\\\n",
    "    .visible_voxels(\n",
    "        mock_circuit_model, \n",
    "        {\"layer\": \"L1\"})\\\n",
    "    .cell_gids"
   ]
  },
  {
   "cell_type": "code",
   "execution_count": null,
   "metadata": {
    "ExecuteTime": {
     "end_time": "2020-01-29T17:26:58.012212Z",
     "start_time": "2020-01-29T17:26:58.003251Z"
    }
   },
   "outputs": [],
   "source": [
    "from neuro_dmt.models.bluebrain.circuit.geometry import Cuboid\n",
    "mock_circuit_model\\\n",
    "    ._get_cell_query(\n",
    "        **mock_circuit_model._resolve_query_region(\n",
    "            depth=100,\n",
    "            layer=\"L2\",\n",
    "            roi=Cuboid(np.zeros(3), np.ones(3))))"
   ]
  },
  {
   "cell_type": "code",
   "execution_count": null,
   "metadata": {
    "ExecuteTime": {
     "end_time": "2020-01-29T17:28:24.532024Z",
     "start_time": "2020-01-29T17:28:24.526076Z"
    }
   },
   "outputs": [],
   "source": [
    "np.linspace(0., 250., 6)"
   ]
  },
  {
   "cell_type": "code",
   "execution_count": null,
   "metadata": {
    "ExecuteTime": {
     "end_time": "2020-01-29T16:39:33.304183Z",
     "start_time": "2020-01-29T16:39:33.274170Z"
    },
    "scrolled": true
   },
   "outputs": [],
   "source": [
    "mock_circuit_model\\\n",
    "    .get_cells(depth=100)"
   ]
  },
  {
   "cell_type": "code",
   "execution_count": null,
   "metadata": {
    "ExecuteTime": {
     "end_time": "2020-01-23T12:27:43.736366Z",
     "start_time": "2020-01-23T12:02:50.407911Z"
    }
   },
   "outputs": [],
   "source": [
    "composition_analyses.analysis_mtype_cell_density_by_layer_exhaustively(\n",
    "    circuit_bio_m,\n",
    "    adapter)"
   ]
  },
  {
   "cell_type": "code",
   "execution_count": null,
   "metadata": {
    "ExecuteTime": {
     "end_time": "2020-01-23T11:58:48.934424Z",
     "start_time": "2020-01-23T11:58:45.822089Z"
    }
   },
   "outputs": [],
   "source": [
    "composition_analyses.measurement_mtype_cell_density_exhaustively(\n",
    "    circuit_bio_m,\n",
    "    adapter,\n",
    "    layer=\"L1\",\n",
    "    region=\"S1HL\")"
   ]
  },
  {
   "cell_type": "code",
   "execution_count": null,
   "metadata": {
    "ExecuteTime": {
     "end_time": "2019-12-19T09:56:20.739119Z",
     "start_time": "2019-12-19T09:56:20.556985Z"
    }
   },
   "outputs": [],
   "source": [
    "cell_counts =\\\n",
    "    cells.groupby(\n",
    "        [\"region\", \"layer\", \"mtype\"]\n",
    "    ).agg(\n",
    "        \"size\"\n",
    "    )\n",
    "cell_counts.xs(\n",
    "    (\"S1HL\", 1),\n",
    "    level=(\"region\", \"layer\"))"
   ]
  },
  {
   "cell_type": "code",
   "execution_count": null,
   "metadata": {
    "ExecuteTime": {
     "end_time": "2019-12-19T10:00:45.248234Z",
     "start_time": "2019-12-19T10:00:45.237669Z"
    }
   },
   "outputs": [],
   "source": [
    "cell_counts.xs(\n",
    "    (\"S1FL\", 2), level=(\"region\", \"layer\")\n",
    ")/cell_counts.xs(\n",
    "    (\"S1HL\", 2), level=(\"region\", \"layer\")\n",
    ")"
   ]
  },
  {
   "cell_type": "code",
   "execution_count": null,
   "metadata": {
    "ExecuteTime": {
     "end_time": "2019-12-19T10:01:00.886177Z",
     "start_time": "2019-12-19T10:01:00.876299Z"
    }
   },
   "outputs": [],
   "source": [
    "cell_counts.xs(\n",
    "    (\"S1HL\", 2), level=(\"region\", \"layer\"))"
   ]
  },
  {
   "cell_type": "code",
   "execution_count": null,
   "metadata": {
    "ExecuteTime": {
     "end_time": "2019-12-18T14:21:12.318940Z",
     "start_time": "2019-12-18T14:21:03.703005Z"
    },
    "scrolled": true
   },
   "outputs": [],
   "source": [
    "from neuro_dmt.analysis.reporting import CheetahReporter\n",
    "from neuro_dmt import terminology\n",
    "\n",
    "cd_rd =\\\n",
    "    composition_analysis.reference_data_cell_density(\n",
    "                                adapter.get_brain_regions(circuit_bio_m))\n",
    "cd_measurement =\\\n",
    "    composition_analysis\\\n",
    "        .analysis_cell_density_by_layer_using_sampling\\\n",
    "        .get_measurement(\n",
    "            circuit_bio_m,\n",
    "            adapter,\n",
    "            reference_data=cd_rd,\n",
    "            sampling_methodology=terminology.sampling_methodology.random,\n",
    "            sample_size=2)\n",
    "            \n",
    "cd_report =\\\n",
    "    composition_analysis\\\n",
    "        .analysis_cell_density_by_layer_using_sampling\\\n",
    "        .get_report(\n",
    "            cd_measurement,\n",
    "            reference_data=cd_rd,\n",
    "            figures={},\n",
    "            **adapter.get_provenance(circuit_bio_m))\n"
   ]
  },
  {
   "cell_type": "code",
   "execution_count": null,
   "metadata": {
    "ExecuteTime": {
     "end_time": "2019-12-18T16:50:12.032222Z",
     "start_time": "2019-12-18T16:50:07.553851Z"
    }
   },
   "outputs": [],
   "source": [
    "from neuro_dmt import terminology\n",
    "inh_fraction_report =\\\n",
    "    composition_analysis\\\n",
    "        .analysis_inihibitory_cell_fraction_by_layer_overall(\n",
    "            circuit_bio_m,\n",
    "            adapter,\n",
    "            sampling_methodology=terminology.sampling_methodology.exhaustive)"
   ]
  },
  {
   "cell_type": "code",
   "execution_count": null,
   "metadata": {
    "ExecuteTime": {
     "end_time": "2019-12-18T16:50:35.455174Z",
     "start_time": "2019-12-18T16:50:35.443817Z"
    }
   },
   "outputs": [],
   "source": [
    "inh_fraction_report.measurement"
   ]
  },
  {
   "cell_type": "code",
   "execution_count": null,
   "metadata": {
    "ExecuteTime": {
     "end_time": "2019-12-17T16:08:21.226785Z",
     "start_time": "2019-12-17T16:08:21.201455Z"
    }
   },
   "outputs": [],
   "source": [
    "print(rat.defelipe2017.data.shape)\n",
    "rat.defelipe2017.data.groupby(\"layer\").agg([\"size\", \"mean\", \"std\"])"
   ]
  },
  {
   "cell_type": "code",
   "execution_count": null,
   "metadata": {
    "ExecuteTime": {
     "end_time": "2019-12-17T16:08:24.575025Z",
     "start_time": "2019-12-17T16:08:24.550755Z"
    }
   },
   "outputs": [],
   "source": [
    "defelipe_2017 =\\\n",
    "    data_plotting[\n",
    "        data_plotting.dataset == \"DeFelipe2017\"]\n",
    "print(defelipe_2017.shape[0])\n",
    "defelipe_2017\\\n",
    "    .groupby(\"layer\")\\\n",
    "    .agg([\"mean\", \"std\"])"
   ]
  },
  {
   "cell_type": "code",
   "execution_count": null,
   "metadata": {
    "ExecuteTime": {
     "end_time": "2019-12-17T16:08:28.368923Z",
     "start_time": "2019-12-17T16:08:28.020765Z"
    }
   },
   "outputs": [],
   "source": [
    "seaborn.barplot(\n",
    "    x=\"layer\",\n",
    "    y=\"cell_density\",\n",
    "    hue=\"dataset\",\n",
    "    ci=\"sd\",\n",
    "    data=data_plotting[data_plotting.region == \"S1HL\"]\n",
    ").set(\n",
    "    xlabel=\"Layer\",\n",
    "    ylabel=\"Cell Density\")"
   ]
  },
  {
   "cell_type": "code",
   "execution_count": null,
   "metadata": {
    "ExecuteTime": {
     "end_time": "2019-12-17T16:08:32.677466Z",
     "start_time": "2019-12-17T16:08:32.288009Z"
    }
   },
   "outputs": [],
   "source": [
    "seaborn.catplot(\n",
    "    kind=\"bar\",\n",
    "    x=\"layer\",\n",
    "    y=\"cell_density\",\n",
    "    hue=\"dataset\",\n",
    "    ci=\"sd\",\n",
    "    data=data_plotting[data_plotting.region == \"S1HL\"]\n",
    ")"
   ]
  },
  {
   "cell_type": "code",
   "execution_count": null,
   "metadata": {
    "ExecuteTime": {
     "end_time": "2019-12-17T15:46:53.674892Z",
     "start_time": "2019-12-17T15:46:53.357876Z"
    }
   },
   "outputs": [],
   "source": [
    "import seaborn\n",
    "data =\\\n",
    "    cd_report.measurement\\\n",
    "        .groupby([\"layer\", \"region\"])\\\n",
    "        .agg([\"mean\", \"std\"])\\\n",
    "        .reset_index()\n",
    "data.head()\n",
    "seaborn.barplot(\n",
    "    x=\"layer\",\n",
    "    y=(\"cell_density\", \"mean\"),\n",
    "    hue=\"region\",\n",
    "    data=data)"
   ]
  },
  {
   "cell_type": "code",
   "execution_count": null,
   "metadata": {
    "ExecuteTime": {
     "end_time": "2019-12-16T19:17:02.862017Z",
     "start_time": "2019-12-16T19:17:02.167281Z"
    }
   },
   "outputs": [],
   "source": [
    "overall_cd_m =\\\n",
    "    cell_density_analysis\\\n",
    "        .get_measurement(\n",
    "            circuit_bio_m,\n",
    "            adapter,\n",
    "            sampling_methodology=terminology.sampling_methodology.exhaustive)"
   ]
  },
  {
   "cell_type": "code",
   "execution_count": null,
   "metadata": {
    "ExecuteTime": {
     "end_time": "2019-12-16T19:17:04.281159Z",
     "start_time": "2019-12-16T19:17:04.270677Z"
    }
   },
   "outputs": [],
   "source": [
    "overall_cd_m"
   ]
  },
  {
   "cell_type": "code",
   "execution_count": null,
   "metadata": {
    "ExecuteTime": {
     "end_time": "2019-12-16T18:31:15.806258Z",
     "start_time": "2019-12-16T18:29:39.640201Z"
    }
   },
   "outputs": [],
   "source": [
    "from neuro_dmt import terminology\n",
    "overall_cd =\\\n",
    "    cell_density_analysis(\n",
    "        circuit_bio_m,\n",
    "        adapter,\n",
    "        sampling_methodology=terminology.sampling_methodology.exhaustive)"
   ]
  },
  {
   "cell_type": "code",
   "execution_count": null,
   "metadata": {
    "ExecuteTime": {
     "end_time": "2019-12-16T12:39:40.981828Z",
     "start_time": "2019-12-16T12:39:40.978433Z"
    }
   },
   "outputs": [],
   "source": [
    "from neuro_dmt.library.users.visood.sscx_dissemination.analyses.composition\\\n",
    "    import *\n",
    "bars = Bars(\n",
    "    xvar=\"layer\",\n",
    "    xlabel=\"Layer\",\n",
    "    yvar=\"cell_density\",\n",
    "    ylabel=\"Cell Density\",\n",
    "    gvar=\"dataset\")"
   ]
  },
  {
   "cell_type": "code",
   "execution_count": null,
   "metadata": {
    "ExecuteTime": {
     "end_time": "2019-12-16T13:12:31.185049Z",
     "start_time": "2019-12-16T13:10:09.387757Z"
    }
   },
   "outputs": [],
   "source": [
    "cell_density_measurement =\\\n",
    "    cell_density_analysis\\\n",
    "        .get_measurement(\n",
    "            circuit_bio_m,\n",
    "            adapter)"
   ]
  },
  {
   "cell_type": "code",
   "execution_count": null,
   "metadata": {
    "ExecuteTime": {
     "end_time": "2019-12-16T12:46:56.125031Z",
     "start_time": "2019-12-16T12:46:56.085321Z"
    }
   },
   "outputs": [],
   "source": [
    "cell_density_analysis.get_figures(\n",
    "    cell_density_analysis._with_reference_data(\n",
    "        cell_density_measurement[\"data\"]))"
   ]
  },
  {
   "cell_type": "code",
   "execution_count": null,
   "metadata": {
    "ExecuteTime": {
     "end_time": "2019-12-16T13:12:56.153027Z",
     "start_time": "2019-12-16T13:12:56.145879Z"
    }
   },
   "outputs": [],
   "source": [
    "cdard =\\\n",
    "    cell_density_analysis\\\n",
    "        ._with_reference_data(\n",
    "            cell_density_measurement[\"data\"])"
   ]
  },
  {
   "cell_type": "code",
   "execution_count": null,
   "metadata": {
    "ExecuteTime": {
     "end_time": "2019-12-16T13:08:02.891352Z",
     "start_time": "2019-12-16T13:08:02.871065Z"
    }
   },
   "outputs": [],
   "source": [
    "cdard[\"DeFelipe2014\"]"
   ]
  },
  {
   "cell_type": "code",
   "execution_count": null,
   "metadata": {
    "ExecuteTime": {
     "end_time": "2019-12-16T13:12:58.463842Z",
     "start_time": "2019-12-16T13:12:58.418472Z"
    }
   },
   "outputs": [],
   "source": [
    "from dmt.data.observation import measurement\n",
    "measurement.concat_as_samples(\n",
    "    cell_density_analysis._with_reference_data(\n",
    "        cell_density_measurement[\"data\"]))"
   ]
  },
  {
   "cell_type": "code",
   "execution_count": null,
   "metadata": {
    "ExecuteTime": {
     "end_time": "2019-12-16T10:08:22.868007Z",
     "start_time": "2019-12-16T10:08:22.650063Z"
    }
   },
   "outputs": [],
   "source": [
    "from neuro_dmt.library.users.visood.sscx_dissemination.analyses.composition\\\n",
    "    import *\n",
    "\n",
    "cell_density_analysis =\\\n",
    "    BrainCircuitAnalysis(\n",
    "        phenomenon=composition_analysis.phenomenon_cell_density,\n",
    "        AdapterInterface=composition_analysis.AdapterInterface,\n",
    "        reference_data=composition_analysis.sampled_reference_data(\n",
    "            composition_analysis.reference_data_cell_density),\n",
    "        measurement_parameters=composition_analysis.parameters_regions_and_layers,\n",
    "        sample_measurement=composition_analysis.sample_measurement_cell_density,\n",
    "        plotter=MultiPlot(\n",
    "            mvar=\"region\",\n",
    "            plotter=Bars(\n",
    "                xvar=\"layer\",\n",
    "                xlabel=\"Layer\",\n",
    "                yvar=\"cell_density\",\n",
    "                ylabel=\"Cell Density\",\n",
    "                gvar=\"dataset\")),\n",
    "        report=CircuitAnalysisReport)"
   ]
  },
  {
   "cell_type": "code",
   "execution_count": null,
   "metadata": {
    "ExecuteTime": {
     "end_time": "2019-12-16T10:08:32.341726Z",
     "start_time": "2019-12-16T10:08:32.328065Z"
    }
   },
   "outputs": [],
   "source": [
    "cell_density_analysis(circuit_bio_m, adapter)"
   ]
  },
  {
   "cell_type": "code",
   "execution_count": null,
   "metadata": {
    "ExecuteTime": {
     "end_time": "2019-12-16T10:10:20.823294Z",
     "start_time": "2019-12-16T10:10:20.819963Z"
    }
   },
   "outputs": [],
   "source": [
    "parameter_values =\\\n",
    "    cell_density_analysis\\\n",
    "        .measurement_parameters\n"
   ]
  },
  {
   "cell_type": "code",
   "execution_count": null,
   "metadata": {
    "ExecuteTime": {
     "end_time": "2019-12-16T10:10:41.904206Z",
     "start_time": "2019-12-16T10:10:41.899546Z"
    }
   },
   "outputs": [],
   "source": [
    "parameter_values"
   ]
  },
  {
   "cell_type": "code",
   "execution_count": null,
   "metadata": {
    "ExecuteTime": {
     "end_time": "2019-12-16T10:14:17.420157Z",
     "start_time": "2019-12-16T10:14:17.414992Z"
    }
   },
   "outputs": [],
   "source": [
    "class Test:\n",
    "    def __init__(self,value):\n",
    "        if not isinstance(value, Test):\n",
    "            self.value = value\n",
    "        else:\n",
    "            self.value = value.value\n",
    "            "
   ]
  },
  {
   "cell_type": "code",
   "execution_count": null,
   "metadata": {
    "ExecuteTime": {
     "end_time": "2019-12-16T10:14:17.918685Z",
     "start_time": "2019-12-16T10:14:17.915356Z"
    }
   },
   "outputs": [],
   "source": [
    "test = Test(10)\n",
    "test_2 = Test(test)"
   ]
  },
  {
   "cell_type": "code",
   "execution_count": null,
   "metadata": {
    "ExecuteTime": {
     "end_time": "2019-12-16T10:14:29.728474Z",
     "start_time": "2019-12-16T10:14:29.723468Z"
    }
   },
   "outputs": [],
   "source": [
    "test_2 == test"
   ]
  },
  {
   "cell_type": "code",
   "execution_count": null,
   "metadata": {
    "ExecuteTime": {
     "end_time": "2019-12-16T10:26:41.424065Z",
     "start_time": "2019-12-16T10:26:41.145869Z"
    }
   },
   "outputs": [],
   "source": [
    "import pandas as pd\n",
    "from dmt.tk.parameters import Parameters\n",
    "\n",
    "regions = [\"S1HL\", \"S1FL\"]\n",
    "layers = range(1,7)\n",
    "regions_and_layers =\\\n",
    "    pd.DataFrame({\n",
    "        \"region\": [r for r in regions for _ in layers],\n",
    "        \"layer\": [l for _ in regions for l in layers]})\n",
    "p0 = Parameters(regions_and_layers)\n",
    "p1 = Parameters(p0)"
   ]
  },
  {
   "cell_type": "code",
   "execution_count": null,
   "metadata": {
    "ExecuteTime": {
     "end_time": "2019-12-16T10:26:51.044044Z",
     "start_time": "2019-12-16T10:26:51.033162Z"
    }
   },
   "outputs": [],
   "source": [
    "p1.values"
   ]
  },
  {
   "cell_type": "code",
   "execution_count": null,
   "metadata": {
    "ExecuteTime": {
     "end_time": "2019-12-19T12:23:52.203232Z",
     "start_time": "2019-12-19T12:23:52.197970Z"
    }
   },
   "outputs": [],
   "source": [
    "(43345060) ** (1./3.)"
   ]
  },
  {
   "cell_type": "code",
   "execution_count": null,
   "metadata": {
    "ExecuteTime": {
     "end_time": "2019-12-19T12:27:03.475150Z",
     "start_time": "2019-12-19T12:27:03.466503Z"
    }
   },
   "outputs": [],
   "source": [
    "regions_and_layers =\\\n",
    "    composition_analysis\\\n",
    "        .parameters_regions_and_layers"
   ]
  },
  {
   "cell_type": "code",
   "execution_count": null,
   "metadata": {
    "ExecuteTime": {
     "end_time": "2019-12-19T12:28:12.235164Z",
     "start_time": "2019-12-19T12:28:12.223386Z"
    }
   },
   "outputs": [],
   "source": [
    "regions_and_layers._resolve_values(adapter, circuit_bio_m)"
   ]
  },
  {
   "cell_type": "code",
   "execution_count": null,
   "metadata": {},
   "outputs": [],
   "source": []
  }
 ],
 "metadata": {
  "kernelspec": {
   "display_name": "Python 3",
   "language": "python",
   "name": "python3"
  },
  "language_info": {
   "codemirror_mode": {
    "name": "ipython",
    "version": 3
   },
   "file_extension": ".py",
   "mimetype": "text/x-python",
   "name": "python",
   "nbconvert_exporter": "python",
   "pygments_lexer": "ipython3",
   "version": "3.7.4"
  },
  "latex_envs": {
   "LaTeX_envs_menu_present": true,
   "autoclose": false,
   "autocomplete": true,
   "bibliofile": "biblio.bib",
   "cite_by": "apalike",
   "current_citInitial": 1,
   "eqLabelWithNumbers": true,
   "eqNumInitial": 1,
   "hotkeys": {
    "equation": "Ctrl-E",
    "itemize": "Ctrl-I"
   },
   "labels_anchors": false,
   "latex_user_defs": false,
   "report_style_numbering": false,
   "user_envs_cfg": false
  },
  "toc": {
   "base_numbering": 1,
   "nav_menu": {},
   "number_sections": true,
   "sideBar": true,
   "skip_h1_title": false,
   "title_cell": "Table of Contents",
   "title_sidebar": "Contents",
   "toc_cell": false,
   "toc_position": {},
   "toc_section_display": true,
   "toc_window_display": false
  },
  "varInspector": {
   "cols": {
    "lenName": 16,
    "lenType": 16,
    "lenVar": 40
   },
   "kernels_config": {
    "python": {
     "delete_cmd_postfix": "",
     "delete_cmd_prefix": "del ",
     "library": "var_list.py",
     "varRefreshCmd": "print(var_dic_list())"
    },
    "r": {
     "delete_cmd_postfix": ") ",
     "delete_cmd_prefix": "rm(",
     "library": "var_list.r",
     "varRefreshCmd": "cat(var_dic_list()) "
    }
   },
   "types_to_exclude": [
    "module",
    "function",
    "builtin_function_or_method",
    "instance",
    "_Feature"
   ],
   "window_display": false
  }
 },
 "nbformat": 4,
 "nbformat_minor": 2
}
