{
 "cells": [
  {
   "cell_type": "markdown",
   "metadata": {},
   "source": [
    "# Composition Analyses Suite"
   ]
  },
  {
   "cell_type": "code",
   "execution_count": 1,
   "metadata": {
    "ExecuteTime": {
     "end_time": "2020-01-29T16:32:17.772551Z",
     "start_time": "2020-01-29T16:32:16.847955Z"
    },
    "code_folding": [
     3,
     5,
     7,
     10
    ]
   },
   "outputs": [
    {
     "name": "stdout",
     "output_type": "stream",
     "text": [
      "('region', 'layer', 'depth', 'height', 'mesocolumn', 'hypercolumn', 'roi', 'mtype', 'etype', 'synapse_class', 'postsynaptic', 'presynaptic')\n",
      "('region', 'layer', 'depth', 'height', 'mesocolumn', 'hypercolumn', 'roi', 'mtype', 'etype', 'synapse_class', 'postsynaptic', 'presynaptic')\n",
      "('region', 'layer', 'depth', 'height', 'mesocolumn', 'hypercolumn', 'roi', 'mtype', 'etype', 'synapse_class', 'postsynaptic', 'presynaptic')\n",
      "('region', 'layer', 'depth', 'height', 'mtype', 'etype', 'synapse_class')\n",
      "('region', 'layer', 'depth', 'height', 'mesocolumn', 'hypercolumn', 'roi', 'mtype', 'etype', 'synapse_class', 'postsynaptic', 'presynaptic')\n",
      "('region', 'layer', 'depth', 'height', 'mesocolumn', 'hypercolumn', 'roi')\n"
     ]
    }
   ],
   "source": [
    "import os\n",
    "import numpy as np\n",
    "import pandas as pd\n",
    "from neuro_dmt.library.users.visood.sscx_dissemination.analyses.composition\\\n",
    "    import CompositionAnalysesSuite\n",
    "from neuro_dmt.models.bluebrain.circuit.atlas import\\\n",
    "    BlueBrainCircuitAtlas\n",
    "from neuro_dmt.models.bluebrain.circuit.model import\\\n",
    "    BlueBrainCircuitModel,\\\n",
    "    CircuitProvenance\n",
    "from neuro_dmt.models.bluebrain.circuit.adapter import\\\n",
    "    BlueBrainCircuitAdapter"
   ]
  },
  {
   "cell_type": "markdown",
   "metadata": {},
   "source": [
    "We will be using SSCx dissemination circuits. We set up paths and load the \n",
    "biological mean circuit (over 7 rats)."
   ]
  },
  {
   "cell_type": "code",
   "execution_count": 2,
   "metadata": {
    "ExecuteTime": {
     "end_time": "2020-01-29T16:32:20.800871Z",
     "start_time": "2020-01-29T16:32:20.793302Z"
    },
    "code_folding": [
     0,
     3,
     7,
     11,
     12,
     15,
     19,
     23,
     27,
     38
    ]
   },
   "outputs": [],
   "source": [
    "project =\\\n",
    "    os.path.join(\n",
    "        \"/gpfs/bbp.cscs.ch/project\")\n",
    "proj_sscx_diss=\\\n",
    "    os.path.join(\n",
    "        project,\n",
    "        \"proj83\")\n",
    "data_sscx_diss=\\\n",
    "    os.path.join(\n",
    "        proj_sscx_diss,\n",
    "        \"data\")\n",
    "atlases_sscx_diss=\\\n",
    "    os.path.join(\n",
    "        data_sscx_diss,\n",
    "        \"atlas/S1/MEAN\")\n",
    "circuits_sscx_diss=\\\n",
    "    os.path.join(\n",
    "        proj_sscx_diss,\n",
    "        \"circuits\")\n",
    "atlas_bio_m =\\\n",
    "    BlueBrainCircuitAtlas(\n",
    "        path=os.path.join(\n",
    "                atlases_sscx_diss, \"P14-MEAN\"))\n",
    "path_bio_m =\\\n",
    "    os.path.join(\n",
    "        circuits_sscx_diss,\n",
    "        \"Bio_M/20191206\")\n",
    "circuit_bio_m =\\\n",
    "    BlueBrainCircuitModel(\n",
    "        path_circuit_data=path_bio_m,\n",
    "            provenance=CircuitProvenance(\n",
    "                label=\"SSCxRatDisseminationBioM\",\n",
    "                authors=[\"BBP Team\"],\n",
    "                release_date=\"20191212\",\n",
    "                uri=path_bio_m,\n",
    "                animal=\"Wistar Rat\",\n",
    "                age=\"P14\",\n",
    "                brain_region=\"SSCx\"))\n",
    "adapter =\\\n",
    "    BlueBrainCircuitAdapter()"
   ]
  },
  {
   "cell_type": "code",
   "execution_count": 3,
   "metadata": {
    "ExecuteTime": {
     "end_time": "2020-01-29T16:34:14.107585Z",
     "start_time": "2020-01-29T16:32:23.876446Z"
    },
    "code_folding": [
     0,
     2
    ]
   },
   "outputs": [],
   "source": [
    "from neuro_dmt.models.bluebrain.circuit.mock.circuit import\\\n",
    "    MockCircuit, MockBlueBrainCircuitModel\n",
    "from neuro_dmt.models.bluebrain.circuit.mock.test.mock_circuit_light import\\\n",
    "    circuit_composition,\\\n",
    "    circuit_connectivity\n",
    "\n",
    "mock_circuit_model =\\\n",
    "    MockBlueBrainCircuitModel(\n",
    "        circuit_composition, \n",
    "        circuit_connectivity,\n",
    "        label=\"BlueBrainCircuitModelMockLight\")"
   ]
  },
  {
   "cell_type": "code",
   "execution_count": null,
   "metadata": {
    "ExecuteTime": {
     "end_time": "2020-01-29T15:24:31.629811Z",
     "start_time": "2020-01-29T15:24:31.625889Z"
    }
   },
   "outputs": [],
   "source": [
    "composition_analyses =\\\n",
    "    CompositionAnalysesSuite(\n",
    "        sample_size=100,\n",
    "        size_roi=50.*np.ones(1))"
   ]
  },
  {
   "cell_type": "code",
   "execution_count": null,
   "metadata": {
    "ExecuteTime": {
     "end_time": "2020-01-29T15:24:32.860548Z",
     "start_time": "2020-01-29T15:24:32.853644Z"
    }
   },
   "outputs": [],
   "source": [
    "mock_circuit_model.layers"
   ]
  },
  {
   "cell_type": "code",
   "execution_count": null,
   "metadata": {
    "ExecuteTime": {
     "end_time": "2020-01-29T15:25:08.235101Z",
     "start_time": "2020-01-29T15:24:37.800707Z"
    },
    "code_folding": [],
    "scrolled": true
   },
   "outputs": [],
   "source": [
    "composition_analyses(\n",
    "    mock_circuit_model,\n",
    "    adapter)"
   ]
  },
  {
   "cell_type": "code",
   "execution_count": null,
   "metadata": {
    "ExecuteTime": {
     "end_time": "2020-01-29T15:31:07.833274Z",
     "start_time": "2020-01-29T15:31:07.733969Z"
    }
   },
   "outputs": [],
   "source": [
    "adapter\\\n",
    "    .visible_voxels(\n",
    "        mock_circuit_model, \n",
    "        {\"layer\": \"L1\"})\\\n",
    "    .cell_gids"
   ]
  },
  {
   "cell_type": "code",
   "execution_count": 12,
   "metadata": {
    "ExecuteTime": {
     "end_time": "2020-01-29T16:41:26.502027Z",
     "start_time": "2020-01-29T16:41:26.494553Z"
    }
   },
   "outputs": [
    {
     "data": {
      "text/plain": [
       "{'layer': 2}"
      ]
     },
     "execution_count": 12,
     "metadata": {},
     "output_type": "execute_result"
    }
   ],
   "source": [
    "from neuro_dmt.models.bluebrain.circuit.geometry import Cuboid\n",
    "mock_circuit_model\\\n",
    "._get_cell_query(\n",
    "        mock_circuit_model._resolve_query_region(\n",
    "            depth=100, layer=\"L2\", roi=Cuboid(np.zeros(3), np.ones(1)))"
   ]
  },
  {
   "cell_type": "code",
   "execution_count": 11,
   "metadata": {
    "ExecuteTime": {
     "end_time": "2020-01-29T16:39:33.304183Z",
     "start_time": "2020-01-29T16:39:33.274170Z"
    }
   },
   "outputs": [
    {
     "data": {
      "text/html": [
       "<div>\n",
       "<style scoped>\n",
       "    .dataframe tbody tr th:only-of-type {\n",
       "        vertical-align: middle;\n",
       "    }\n",
       "\n",
       "    .dataframe tbody tr th {\n",
       "        vertical-align: top;\n",
       "    }\n",
       "\n",
       "    .dataframe thead th {\n",
       "        text-align: right;\n",
       "    }\n",
       "</style>\n",
       "<table border=\"1\" class=\"dataframe\">\n",
       "  <thead>\n",
       "    <tr style=\"text-align: right;\">\n",
       "      <th></th>\n",
       "      <th>region</th>\n",
       "      <th>layer</th>\n",
       "      <th>nucleus</th>\n",
       "      <th>mtype</th>\n",
       "      <th>etype</th>\n",
       "      <th>morph_class</th>\n",
       "      <th>synapse_class</th>\n",
       "      <th>x</th>\n",
       "      <th>y</th>\n",
       "      <th>z</th>\n",
       "      <th>gid</th>\n",
       "    </tr>\n",
       "  </thead>\n",
       "  <tbody>\n",
       "    <tr>\n",
       "      <th>0</th>\n",
       "      <td>S1HL</td>\n",
       "      <td>1</td>\n",
       "      <td>not-defined</td>\n",
       "      <td>L1_DAC</td>\n",
       "      <td>not-defined</td>\n",
       "      <td>not-defined</td>\n",
       "      <td>INH</td>\n",
       "      <td>131.201941</td>\n",
       "      <td>93.440701</td>\n",
       "      <td>177.239108</td>\n",
       "      <td>0</td>\n",
       "    </tr>\n",
       "    <tr>\n",
       "      <th>1</th>\n",
       "      <td>S1HL</td>\n",
       "      <td>1</td>\n",
       "      <td>not-defined</td>\n",
       "      <td>L1_DAC</td>\n",
       "      <td>not-defined</td>\n",
       "      <td>not-defined</td>\n",
       "      <td>INH</td>\n",
       "      <td>137.542185</td>\n",
       "      <td>82.886201</td>\n",
       "      <td>216.195237</td>\n",
       "      <td>1</td>\n",
       "    </tr>\n",
       "    <tr>\n",
       "      <th>2</th>\n",
       "      <td>S1HL</td>\n",
       "      <td>1</td>\n",
       "      <td>not-defined</td>\n",
       "      <td>L1_DAC</td>\n",
       "      <td>not-defined</td>\n",
       "      <td>not-defined</td>\n",
       "      <td>INH</td>\n",
       "      <td>153.133642</td>\n",
       "      <td>48.548594</td>\n",
       "      <td>3.893094</td>\n",
       "      <td>2</td>\n",
       "    </tr>\n",
       "    <tr>\n",
       "      <th>3</th>\n",
       "      <td>S1HL</td>\n",
       "      <td>1</td>\n",
       "      <td>not-defined</td>\n",
       "      <td>L1_DAC</td>\n",
       "      <td>not-defined</td>\n",
       "      <td>not-defined</td>\n",
       "      <td>INH</td>\n",
       "      <td>162.025977</td>\n",
       "      <td>115.829368</td>\n",
       "      <td>200.941758</td>\n",
       "      <td>3</td>\n",
       "    </tr>\n",
       "    <tr>\n",
       "      <th>4</th>\n",
       "      <td>S1HL</td>\n",
       "      <td>1</td>\n",
       "      <td>not-defined</td>\n",
       "      <td>L1_DAC</td>\n",
       "      <td>not-defined</td>\n",
       "      <td>not-defined</td>\n",
       "      <td>INH</td>\n",
       "      <td>83.921754</td>\n",
       "      <td>10.838617</td>\n",
       "      <td>77.280394</td>\n",
       "      <td>4</td>\n",
       "    </tr>\n",
       "    <tr>\n",
       "      <th>5</th>\n",
       "      <td>S1HL</td>\n",
       "      <td>1</td>\n",
       "      <td>not-defined</td>\n",
       "      <td>L1_DAC</td>\n",
       "      <td>not-defined</td>\n",
       "      <td>not-defined</td>\n",
       "      <td>INH</td>\n",
       "      <td>168.252027</td>\n",
       "      <td>36.968632</td>\n",
       "      <td>41.090942</td>\n",
       "      <td>5</td>\n",
       "    </tr>\n",
       "    <tr>\n",
       "      <th>6</th>\n",
       "      <td>S1HL</td>\n",
       "      <td>1</td>\n",
       "      <td>not-defined</td>\n",
       "      <td>L1_DAC</td>\n",
       "      <td>not-defined</td>\n",
       "      <td>not-defined</td>\n",
       "      <td>INH</td>\n",
       "      <td>174.694793</td>\n",
       "      <td>38.831514</td>\n",
       "      <td>108.979279</td>\n",
       "      <td>6</td>\n",
       "    </tr>\n",
       "    <tr>\n",
       "      <th>7</th>\n",
       "      <td>S1HL</td>\n",
       "      <td>1</td>\n",
       "      <td>not-defined</td>\n",
       "      <td>L1_DAC</td>\n",
       "      <td>not-defined</td>\n",
       "      <td>not-defined</td>\n",
       "      <td>INH</td>\n",
       "      <td>157.986529</td>\n",
       "      <td>18.523678</td>\n",
       "      <td>30.770634</td>\n",
       "      <td>7</td>\n",
       "    </tr>\n",
       "    <tr>\n",
       "      <th>8</th>\n",
       "      <td>S1HL</td>\n",
       "      <td>1</td>\n",
       "      <td>not-defined</td>\n",
       "      <td>L1_DAC</td>\n",
       "      <td>not-defined</td>\n",
       "      <td>not-defined</td>\n",
       "      <td>INH</td>\n",
       "      <td>78.861665</td>\n",
       "      <td>64.372750</td>\n",
       "      <td>105.575332</td>\n",
       "      <td>8</td>\n",
       "    </tr>\n",
       "    <tr>\n",
       "      <th>9</th>\n",
       "      <td>S1HL</td>\n",
       "      <td>1</td>\n",
       "      <td>not-defined</td>\n",
       "      <td>L1_DAC</td>\n",
       "      <td>not-defined</td>\n",
       "      <td>not-defined</td>\n",
       "      <td>INH</td>\n",
       "      <td>191.182820</td>\n",
       "      <td>44.211533</td>\n",
       "      <td>78.380516</td>\n",
       "      <td>9</td>\n",
       "    </tr>\n",
       "    <tr>\n",
       "      <th>10</th>\n",
       "      <td>S1HL</td>\n",
       "      <td>1</td>\n",
       "      <td>not-defined</td>\n",
       "      <td>L1_DAC</td>\n",
       "      <td>not-defined</td>\n",
       "      <td>not-defined</td>\n",
       "      <td>INH</td>\n",
       "      <td>122.791751</td>\n",
       "      <td>11.455580</td>\n",
       "      <td>143.242026</td>\n",
       "      <td>10</td>\n",
       "    </tr>\n",
       "    <tr>\n",
       "      <th>11</th>\n",
       "      <td>S1HL</td>\n",
       "      <td>1</td>\n",
       "      <td>not-defined</td>\n",
       "      <td>L1_DAC</td>\n",
       "      <td>not-defined</td>\n",
       "      <td>not-defined</td>\n",
       "      <td>INH</td>\n",
       "      <td>151.822991</td>\n",
       "      <td>64.920792</td>\n",
       "      <td>131.443870</td>\n",
       "      <td>11</td>\n",
       "    </tr>\n",
       "    <tr>\n",
       "      <th>12</th>\n",
       "      <td>S1HL</td>\n",
       "      <td>1</td>\n",
       "      <td>not-defined</td>\n",
       "      <td>L1_DAC</td>\n",
       "      <td>not-defined</td>\n",
       "      <td>not-defined</td>\n",
       "      <td>INH</td>\n",
       "      <td>113.472394</td>\n",
       "      <td>72.080290</td>\n",
       "      <td>60.428433</td>\n",
       "      <td>12</td>\n",
       "    </tr>\n",
       "    <tr>\n",
       "      <th>13</th>\n",
       "      <td>S1HL</td>\n",
       "      <td>1</td>\n",
       "      <td>not-defined</td>\n",
       "      <td>L1_DAC</td>\n",
       "      <td>not-defined</td>\n",
       "      <td>not-defined</td>\n",
       "      <td>INH</td>\n",
       "      <td>216.184385</td>\n",
       "      <td>37.220355</td>\n",
       "      <td>3.341657</td>\n",
       "      <td>13</td>\n",
       "    </tr>\n",
       "    <tr>\n",
       "      <th>14</th>\n",
       "      <td>S1HL</td>\n",
       "      <td>1</td>\n",
       "      <td>not-defined</td>\n",
       "      <td>L1_DAC</td>\n",
       "      <td>not-defined</td>\n",
       "      <td>not-defined</td>\n",
       "      <td>INH</td>\n",
       "      <td>188.064593</td>\n",
       "      <td>66.192316</td>\n",
       "      <td>209.935384</td>\n",
       "      <td>14</td>\n",
       "    </tr>\n",
       "    <tr>\n",
       "      <th>15</th>\n",
       "      <td>S1HL</td>\n",
       "      <td>1</td>\n",
       "      <td>not-defined</td>\n",
       "      <td>L1_DAC</td>\n",
       "      <td>not-defined</td>\n",
       "      <td>not-defined</td>\n",
       "      <td>INH</td>\n",
       "      <td>190.643199</td>\n",
       "      <td>48.436880</td>\n",
       "      <td>68.414599</td>\n",
       "      <td>15</td>\n",
       "    </tr>\n",
       "    <tr>\n",
       "      <th>16</th>\n",
       "      <td>S1HL</td>\n",
       "      <td>1</td>\n",
       "      <td>not-defined</td>\n",
       "      <td>L1_DAC</td>\n",
       "      <td>not-defined</td>\n",
       "      <td>not-defined</td>\n",
       "      <td>INH</td>\n",
       "      <td>228.766661</td>\n",
       "      <td>38.073123</td>\n",
       "      <td>7.102284</td>\n",
       "      <td>16</td>\n",
       "    </tr>\n",
       "    <tr>\n",
       "      <th>17</th>\n",
       "      <td>S1HL</td>\n",
       "      <td>1</td>\n",
       "      <td>not-defined</td>\n",
       "      <td>L1_DAC</td>\n",
       "      <td>not-defined</td>\n",
       "      <td>not-defined</td>\n",
       "      <td>INH</td>\n",
       "      <td>67.130129</td>\n",
       "      <td>109.360463</td>\n",
       "      <td>1.874700</td>\n",
       "      <td>17</td>\n",
       "    </tr>\n",
       "    <tr>\n",
       "      <th>18</th>\n",
       "      <td>S1HL</td>\n",
       "      <td>1</td>\n",
       "      <td>not-defined</td>\n",
       "      <td>L1_DAC</td>\n",
       "      <td>not-defined</td>\n",
       "      <td>not-defined</td>\n",
       "      <td>INH</td>\n",
       "      <td>140.266190</td>\n",
       "      <td>75.246748</td>\n",
       "      <td>51.214191</td>\n",
       "      <td>18</td>\n",
       "    </tr>\n",
       "    <tr>\n",
       "      <th>19</th>\n",
       "      <td>S1HL</td>\n",
       "      <td>1</td>\n",
       "      <td>not-defined</td>\n",
       "      <td>L1_DAC</td>\n",
       "      <td>not-defined</td>\n",
       "      <td>not-defined</td>\n",
       "      <td>INH</td>\n",
       "      <td>228.252915</td>\n",
       "      <td>11.210046</td>\n",
       "      <td>127.667965</td>\n",
       "      <td>19</td>\n",
       "    </tr>\n",
       "    <tr>\n",
       "      <th>20</th>\n",
       "      <td>S1HL</td>\n",
       "      <td>1</td>\n",
       "      <td>not-defined</td>\n",
       "      <td>L1_DAC</td>\n",
       "      <td>not-defined</td>\n",
       "      <td>not-defined</td>\n",
       "      <td>INH</td>\n",
       "      <td>191.477370</td>\n",
       "      <td>8.536192</td>\n",
       "      <td>22.970628</td>\n",
       "      <td>20</td>\n",
       "    </tr>\n",
       "    <tr>\n",
       "      <th>21</th>\n",
       "      <td>S1HL</td>\n",
       "      <td>1</td>\n",
       "      <td>not-defined</td>\n",
       "      <td>L1_DAC</td>\n",
       "      <td>not-defined</td>\n",
       "      <td>not-defined</td>\n",
       "      <td>INH</td>\n",
       "      <td>189.280690</td>\n",
       "      <td>24.614143</td>\n",
       "      <td>75.078754</td>\n",
       "      <td>21</td>\n",
       "    </tr>\n",
       "    <tr>\n",
       "      <th>22</th>\n",
       "      <td>S1HL</td>\n",
       "      <td>1</td>\n",
       "      <td>not-defined</td>\n",
       "      <td>L1_DAC</td>\n",
       "      <td>not-defined</td>\n",
       "      <td>not-defined</td>\n",
       "      <td>INH</td>\n",
       "      <td>53.670725</td>\n",
       "      <td>74.584156</td>\n",
       "      <td>57.240971</td>\n",
       "      <td>22</td>\n",
       "    </tr>\n",
       "    <tr>\n",
       "      <th>23</th>\n",
       "      <td>S1HL</td>\n",
       "      <td>1</td>\n",
       "      <td>not-defined</td>\n",
       "      <td>L1_DAC</td>\n",
       "      <td>not-defined</td>\n",
       "      <td>not-defined</td>\n",
       "      <td>INH</td>\n",
       "      <td>135.246223</td>\n",
       "      <td>3.530047</td>\n",
       "      <td>249.658884</td>\n",
       "      <td>23</td>\n",
       "    </tr>\n",
       "    <tr>\n",
       "      <th>24</th>\n",
       "      <td>S1HL</td>\n",
       "      <td>1</td>\n",
       "      <td>not-defined</td>\n",
       "      <td>L1_DAC</td>\n",
       "      <td>not-defined</td>\n",
       "      <td>not-defined</td>\n",
       "      <td>INH</td>\n",
       "      <td>232.894747</td>\n",
       "      <td>108.285310</td>\n",
       "      <td>95.125739</td>\n",
       "      <td>24</td>\n",
       "    </tr>\n",
       "    <tr>\n",
       "      <th>25</th>\n",
       "      <td>S1HL</td>\n",
       "      <td>1</td>\n",
       "      <td>not-defined</td>\n",
       "      <td>L1_DAC</td>\n",
       "      <td>not-defined</td>\n",
       "      <td>not-defined</td>\n",
       "      <td>INH</td>\n",
       "      <td>132.282580</td>\n",
       "      <td>43.116948</td>\n",
       "      <td>208.505334</td>\n",
       "      <td>25</td>\n",
       "    </tr>\n",
       "    <tr>\n",
       "      <th>26</th>\n",
       "      <td>S1HL</td>\n",
       "      <td>1</td>\n",
       "      <td>not-defined</td>\n",
       "      <td>L1_DAC</td>\n",
       "      <td>not-defined</td>\n",
       "      <td>not-defined</td>\n",
       "      <td>INH</td>\n",
       "      <td>101.774715</td>\n",
       "      <td>84.250014</td>\n",
       "      <td>237.031869</td>\n",
       "      <td>26</td>\n",
       "    </tr>\n",
       "    <tr>\n",
       "      <th>27</th>\n",
       "      <td>S1HL</td>\n",
       "      <td>1</td>\n",
       "      <td>not-defined</td>\n",
       "      <td>L1_DAC</td>\n",
       "      <td>not-defined</td>\n",
       "      <td>not-defined</td>\n",
       "      <td>INH</td>\n",
       "      <td>3.113540</td>\n",
       "      <td>48.574057</td>\n",
       "      <td>60.553063</td>\n",
       "      <td>27</td>\n",
       "    </tr>\n",
       "    <tr>\n",
       "      <th>28</th>\n",
       "      <td>S1HL</td>\n",
       "      <td>1</td>\n",
       "      <td>not-defined</td>\n",
       "      <td>L1_DAC</td>\n",
       "      <td>not-defined</td>\n",
       "      <td>not-defined</td>\n",
       "      <td>INH</td>\n",
       "      <td>177.094637</td>\n",
       "      <td>63.165713</td>\n",
       "      <td>163.338610</td>\n",
       "      <td>28</td>\n",
       "    </tr>\n",
       "    <tr>\n",
       "      <th>29</th>\n",
       "      <td>S1HL</td>\n",
       "      <td>1</td>\n",
       "      <td>not-defined</td>\n",
       "      <td>L1_DAC</td>\n",
       "      <td>not-defined</td>\n",
       "      <td>not-defined</td>\n",
       "      <td>INH</td>\n",
       "      <td>88.997570</td>\n",
       "      <td>42.849971</td>\n",
       "      <td>123.848981</td>\n",
       "      <td>29</td>\n",
       "    </tr>\n",
       "    <tr>\n",
       "      <th>...</th>\n",
       "      <td>...</td>\n",
       "      <td>...</td>\n",
       "      <td>...</td>\n",
       "      <td>...</td>\n",
       "      <td>...</td>\n",
       "      <td>...</td>\n",
       "      <td>...</td>\n",
       "      <td>...</td>\n",
       "      <td>...</td>\n",
       "      <td>...</td>\n",
       "      <td>...</td>\n",
       "    </tr>\n",
       "    <tr>\n",
       "      <th>41122</th>\n",
       "      <td>S1Sh</td>\n",
       "      <td>6</td>\n",
       "      <td>not-defined</td>\n",
       "      <td>L6_UPC</td>\n",
       "      <td>not-defined</td>\n",
       "      <td>not-defined</td>\n",
       "      <td>EXC</td>\n",
       "      <td>28.782360</td>\n",
       "      <td>1675.088282</td>\n",
       "      <td>75.368170</td>\n",
       "      <td>41122</td>\n",
       "    </tr>\n",
       "    <tr>\n",
       "      <th>41123</th>\n",
       "      <td>S1Sh</td>\n",
       "      <td>6</td>\n",
       "      <td>not-defined</td>\n",
       "      <td>L6_UPC</td>\n",
       "      <td>not-defined</td>\n",
       "      <td>not-defined</td>\n",
       "      <td>EXC</td>\n",
       "      <td>123.256445</td>\n",
       "      <td>1586.071516</td>\n",
       "      <td>211.976397</td>\n",
       "      <td>41123</td>\n",
       "    </tr>\n",
       "    <tr>\n",
       "      <th>41124</th>\n",
       "      <td>S1Sh</td>\n",
       "      <td>6</td>\n",
       "      <td>not-defined</td>\n",
       "      <td>L6_UPC</td>\n",
       "      <td>not-defined</td>\n",
       "      <td>not-defined</td>\n",
       "      <td>EXC</td>\n",
       "      <td>231.657429</td>\n",
       "      <td>1663.505384</td>\n",
       "      <td>64.677747</td>\n",
       "      <td>41124</td>\n",
       "    </tr>\n",
       "    <tr>\n",
       "      <th>41125</th>\n",
       "      <td>S1Sh</td>\n",
       "      <td>6</td>\n",
       "      <td>not-defined</td>\n",
       "      <td>L6_UPC</td>\n",
       "      <td>not-defined</td>\n",
       "      <td>not-defined</td>\n",
       "      <td>EXC</td>\n",
       "      <td>168.426923</td>\n",
       "      <td>1726.137499</td>\n",
       "      <td>90.657643</td>\n",
       "      <td>41125</td>\n",
       "    </tr>\n",
       "    <tr>\n",
       "      <th>41126</th>\n",
       "      <td>S1Sh</td>\n",
       "      <td>6</td>\n",
       "      <td>not-defined</td>\n",
       "      <td>L6_UPC</td>\n",
       "      <td>not-defined</td>\n",
       "      <td>not-defined</td>\n",
       "      <td>EXC</td>\n",
       "      <td>171.900089</td>\n",
       "      <td>1583.308638</td>\n",
       "      <td>131.680195</td>\n",
       "      <td>41126</td>\n",
       "    </tr>\n",
       "    <tr>\n",
       "      <th>41127</th>\n",
       "      <td>S1Sh</td>\n",
       "      <td>6</td>\n",
       "      <td>not-defined</td>\n",
       "      <td>L6_UPC</td>\n",
       "      <td>not-defined</td>\n",
       "      <td>not-defined</td>\n",
       "      <td>EXC</td>\n",
       "      <td>7.902643</td>\n",
       "      <td>1786.809633</td>\n",
       "      <td>135.667985</td>\n",
       "      <td>41127</td>\n",
       "    </tr>\n",
       "    <tr>\n",
       "      <th>41128</th>\n",
       "      <td>S1Sh</td>\n",
       "      <td>6</td>\n",
       "      <td>not-defined</td>\n",
       "      <td>L6_UPC</td>\n",
       "      <td>not-defined</td>\n",
       "      <td>not-defined</td>\n",
       "      <td>EXC</td>\n",
       "      <td>56.834209</td>\n",
       "      <td>1705.704656</td>\n",
       "      <td>178.790727</td>\n",
       "      <td>41128</td>\n",
       "    </tr>\n",
       "    <tr>\n",
       "      <th>41129</th>\n",
       "      <td>S1Sh</td>\n",
       "      <td>6</td>\n",
       "      <td>not-defined</td>\n",
       "      <td>L6_UPC</td>\n",
       "      <td>not-defined</td>\n",
       "      <td>not-defined</td>\n",
       "      <td>EXC</td>\n",
       "      <td>52.009171</td>\n",
       "      <td>1804.042258</td>\n",
       "      <td>105.559795</td>\n",
       "      <td>41129</td>\n",
       "    </tr>\n",
       "    <tr>\n",
       "      <th>41130</th>\n",
       "      <td>S1Sh</td>\n",
       "      <td>6</td>\n",
       "      <td>not-defined</td>\n",
       "      <td>L6_UPC</td>\n",
       "      <td>not-defined</td>\n",
       "      <td>not-defined</td>\n",
       "      <td>EXC</td>\n",
       "      <td>127.771609</td>\n",
       "      <td>1510.551238</td>\n",
       "      <td>214.283679</td>\n",
       "      <td>41130</td>\n",
       "    </tr>\n",
       "    <tr>\n",
       "      <th>41131</th>\n",
       "      <td>S1Sh</td>\n",
       "      <td>6</td>\n",
       "      <td>not-defined</td>\n",
       "      <td>L6_UPC</td>\n",
       "      <td>not-defined</td>\n",
       "      <td>not-defined</td>\n",
       "      <td>EXC</td>\n",
       "      <td>38.200680</td>\n",
       "      <td>1211.698082</td>\n",
       "      <td>240.636723</td>\n",
       "      <td>41131</td>\n",
       "    </tr>\n",
       "    <tr>\n",
       "      <th>41132</th>\n",
       "      <td>S1Sh</td>\n",
       "      <td>6</td>\n",
       "      <td>not-defined</td>\n",
       "      <td>L6_UPC</td>\n",
       "      <td>not-defined</td>\n",
       "      <td>not-defined</td>\n",
       "      <td>EXC</td>\n",
       "      <td>50.709644</td>\n",
       "      <td>1206.290098</td>\n",
       "      <td>45.583818</td>\n",
       "      <td>41132</td>\n",
       "    </tr>\n",
       "    <tr>\n",
       "      <th>41133</th>\n",
       "      <td>S1Sh</td>\n",
       "      <td>6</td>\n",
       "      <td>not-defined</td>\n",
       "      <td>L6_UPC</td>\n",
       "      <td>not-defined</td>\n",
       "      <td>not-defined</td>\n",
       "      <td>EXC</td>\n",
       "      <td>76.239345</td>\n",
       "      <td>1424.430921</td>\n",
       "      <td>222.753808</td>\n",
       "      <td>41133</td>\n",
       "    </tr>\n",
       "    <tr>\n",
       "      <th>41134</th>\n",
       "      <td>S1Sh</td>\n",
       "      <td>6</td>\n",
       "      <td>not-defined</td>\n",
       "      <td>L6_UPC</td>\n",
       "      <td>not-defined</td>\n",
       "      <td>not-defined</td>\n",
       "      <td>EXC</td>\n",
       "      <td>51.687880</td>\n",
       "      <td>1370.333803</td>\n",
       "      <td>114.196080</td>\n",
       "      <td>41134</td>\n",
       "    </tr>\n",
       "    <tr>\n",
       "      <th>41135</th>\n",
       "      <td>S1Sh</td>\n",
       "      <td>6</td>\n",
       "      <td>not-defined</td>\n",
       "      <td>L6_UPC</td>\n",
       "      <td>not-defined</td>\n",
       "      <td>not-defined</td>\n",
       "      <td>EXC</td>\n",
       "      <td>197.629866</td>\n",
       "      <td>1279.136523</td>\n",
       "      <td>151.403537</td>\n",
       "      <td>41135</td>\n",
       "    </tr>\n",
       "    <tr>\n",
       "      <th>41136</th>\n",
       "      <td>S1Sh</td>\n",
       "      <td>6</td>\n",
       "      <td>not-defined</td>\n",
       "      <td>L6_UPC</td>\n",
       "      <td>not-defined</td>\n",
       "      <td>not-defined</td>\n",
       "      <td>EXC</td>\n",
       "      <td>132.781250</td>\n",
       "      <td>1530.323936</td>\n",
       "      <td>75.687229</td>\n",
       "      <td>41136</td>\n",
       "    </tr>\n",
       "    <tr>\n",
       "      <th>41137</th>\n",
       "      <td>S1Sh</td>\n",
       "      <td>6</td>\n",
       "      <td>not-defined</td>\n",
       "      <td>L6_UPC</td>\n",
       "      <td>not-defined</td>\n",
       "      <td>not-defined</td>\n",
       "      <td>EXC</td>\n",
       "      <td>135.739411</td>\n",
       "      <td>1584.966008</td>\n",
       "      <td>210.355238</td>\n",
       "      <td>41137</td>\n",
       "    </tr>\n",
       "    <tr>\n",
       "      <th>41138</th>\n",
       "      <td>S1Sh</td>\n",
       "      <td>6</td>\n",
       "      <td>not-defined</td>\n",
       "      <td>L6_UPC</td>\n",
       "      <td>not-defined</td>\n",
       "      <td>not-defined</td>\n",
       "      <td>EXC</td>\n",
       "      <td>237.066960</td>\n",
       "      <td>1722.941342</td>\n",
       "      <td>131.182626</td>\n",
       "      <td>41138</td>\n",
       "    </tr>\n",
       "    <tr>\n",
       "      <th>41139</th>\n",
       "      <td>S1Sh</td>\n",
       "      <td>6</td>\n",
       "      <td>not-defined</td>\n",
       "      <td>L6_UPC</td>\n",
       "      <td>not-defined</td>\n",
       "      <td>not-defined</td>\n",
       "      <td>EXC</td>\n",
       "      <td>199.208798</td>\n",
       "      <td>1323.530856</td>\n",
       "      <td>156.440549</td>\n",
       "      <td>41139</td>\n",
       "    </tr>\n",
       "    <tr>\n",
       "      <th>41140</th>\n",
       "      <td>S1Sh</td>\n",
       "      <td>6</td>\n",
       "      <td>not-defined</td>\n",
       "      <td>L6_UPC</td>\n",
       "      <td>not-defined</td>\n",
       "      <td>not-defined</td>\n",
       "      <td>EXC</td>\n",
       "      <td>128.214625</td>\n",
       "      <td>1728.795448</td>\n",
       "      <td>211.906180</td>\n",
       "      <td>41140</td>\n",
       "    </tr>\n",
       "    <tr>\n",
       "      <th>41141</th>\n",
       "      <td>S1Sh</td>\n",
       "      <td>6</td>\n",
       "      <td>not-defined</td>\n",
       "      <td>L6_UPC</td>\n",
       "      <td>not-defined</td>\n",
       "      <td>not-defined</td>\n",
       "      <td>EXC</td>\n",
       "      <td>123.213326</td>\n",
       "      <td>1784.249504</td>\n",
       "      <td>83.942967</td>\n",
       "      <td>41141</td>\n",
       "    </tr>\n",
       "    <tr>\n",
       "      <th>41142</th>\n",
       "      <td>S1Sh</td>\n",
       "      <td>6</td>\n",
       "      <td>not-defined</td>\n",
       "      <td>L6_UPC</td>\n",
       "      <td>not-defined</td>\n",
       "      <td>not-defined</td>\n",
       "      <td>EXC</td>\n",
       "      <td>196.910510</td>\n",
       "      <td>1422.017468</td>\n",
       "      <td>189.743075</td>\n",
       "      <td>41142</td>\n",
       "    </tr>\n",
       "    <tr>\n",
       "      <th>41143</th>\n",
       "      <td>S1Sh</td>\n",
       "      <td>6</td>\n",
       "      <td>not-defined</td>\n",
       "      <td>L6_UPC</td>\n",
       "      <td>not-defined</td>\n",
       "      <td>not-defined</td>\n",
       "      <td>EXC</td>\n",
       "      <td>194.589880</td>\n",
       "      <td>1344.449927</td>\n",
       "      <td>206.377366</td>\n",
       "      <td>41143</td>\n",
       "    </tr>\n",
       "    <tr>\n",
       "      <th>41144</th>\n",
       "      <td>S1Sh</td>\n",
       "      <td>6</td>\n",
       "      <td>not-defined</td>\n",
       "      <td>L6_UPC</td>\n",
       "      <td>not-defined</td>\n",
       "      <td>not-defined</td>\n",
       "      <td>EXC</td>\n",
       "      <td>143.680140</td>\n",
       "      <td>1338.608196</td>\n",
       "      <td>75.990204</td>\n",
       "      <td>41144</td>\n",
       "    </tr>\n",
       "    <tr>\n",
       "      <th>41145</th>\n",
       "      <td>S1Sh</td>\n",
       "      <td>6</td>\n",
       "      <td>not-defined</td>\n",
       "      <td>L6_UPC</td>\n",
       "      <td>not-defined</td>\n",
       "      <td>not-defined</td>\n",
       "      <td>EXC</td>\n",
       "      <td>241.099704</td>\n",
       "      <td>1712.675139</td>\n",
       "      <td>91.631337</td>\n",
       "      <td>41145</td>\n",
       "    </tr>\n",
       "    <tr>\n",
       "      <th>41146</th>\n",
       "      <td>S1Sh</td>\n",
       "      <td>6</td>\n",
       "      <td>not-defined</td>\n",
       "      <td>L6_UPC</td>\n",
       "      <td>not-defined</td>\n",
       "      <td>not-defined</td>\n",
       "      <td>EXC</td>\n",
       "      <td>202.672056</td>\n",
       "      <td>1759.746797</td>\n",
       "      <td>43.979417</td>\n",
       "      <td>41146</td>\n",
       "    </tr>\n",
       "    <tr>\n",
       "      <th>41147</th>\n",
       "      <td>S1Sh</td>\n",
       "      <td>6</td>\n",
       "      <td>not-defined</td>\n",
       "      <td>L6_UPC</td>\n",
       "      <td>not-defined</td>\n",
       "      <td>not-defined</td>\n",
       "      <td>EXC</td>\n",
       "      <td>213.539819</td>\n",
       "      <td>1835.538464</td>\n",
       "      <td>123.033662</td>\n",
       "      <td>41147</td>\n",
       "    </tr>\n",
       "    <tr>\n",
       "      <th>41148</th>\n",
       "      <td>S1Sh</td>\n",
       "      <td>6</td>\n",
       "      <td>not-defined</td>\n",
       "      <td>L6_UPC</td>\n",
       "      <td>not-defined</td>\n",
       "      <td>not-defined</td>\n",
       "      <td>EXC</td>\n",
       "      <td>16.316706</td>\n",
       "      <td>1436.611389</td>\n",
       "      <td>59.489983</td>\n",
       "      <td>41148</td>\n",
       "    </tr>\n",
       "    <tr>\n",
       "      <th>41149</th>\n",
       "      <td>S1Sh</td>\n",
       "      <td>6</td>\n",
       "      <td>not-defined</td>\n",
       "      <td>L6_UPC</td>\n",
       "      <td>not-defined</td>\n",
       "      <td>not-defined</td>\n",
       "      <td>EXC</td>\n",
       "      <td>79.615678</td>\n",
       "      <td>1494.417306</td>\n",
       "      <td>162.361054</td>\n",
       "      <td>41149</td>\n",
       "    </tr>\n",
       "    <tr>\n",
       "      <th>41150</th>\n",
       "      <td>S1Sh</td>\n",
       "      <td>6</td>\n",
       "      <td>not-defined</td>\n",
       "      <td>L6_UPC</td>\n",
       "      <td>not-defined</td>\n",
       "      <td>not-defined</td>\n",
       "      <td>EXC</td>\n",
       "      <td>202.373865</td>\n",
       "      <td>1402.410557</td>\n",
       "      <td>166.362086</td>\n",
       "      <td>41150</td>\n",
       "    </tr>\n",
       "    <tr>\n",
       "      <th>41151</th>\n",
       "      <td>S1Sh</td>\n",
       "      <td>6</td>\n",
       "      <td>not-defined</td>\n",
       "      <td>L6_UPC</td>\n",
       "      <td>not-defined</td>\n",
       "      <td>not-defined</td>\n",
       "      <td>EXC</td>\n",
       "      <td>102.398745</td>\n",
       "      <td>1195.936180</td>\n",
       "      <td>179.199693</td>\n",
       "      <td>41151</td>\n",
       "    </tr>\n",
       "  </tbody>\n",
       "</table>\n",
       "<p>41152 rows × 11 columns</p>\n",
       "</div>"
      ],
      "text/plain": [
       "      region  layer      nucleus   mtype        etype  morph_class  \\\n",
       "0       S1HL      1  not-defined  L1_DAC  not-defined  not-defined   \n",
       "1       S1HL      1  not-defined  L1_DAC  not-defined  not-defined   \n",
       "2       S1HL      1  not-defined  L1_DAC  not-defined  not-defined   \n",
       "3       S1HL      1  not-defined  L1_DAC  not-defined  not-defined   \n",
       "4       S1HL      1  not-defined  L1_DAC  not-defined  not-defined   \n",
       "...      ...    ...          ...     ...          ...          ...   \n",
       "41147   S1Sh      6  not-defined  L6_UPC  not-defined  not-defined   \n",
       "41148   S1Sh      6  not-defined  L6_UPC  not-defined  not-defined   \n",
       "41149   S1Sh      6  not-defined  L6_UPC  not-defined  not-defined   \n",
       "41150   S1Sh      6  not-defined  L6_UPC  not-defined  not-defined   \n",
       "41151   S1Sh      6  not-defined  L6_UPC  not-defined  not-defined   \n",
       "\n",
       "      synapse_class           x            y           z    gid  \n",
       "0               INH  131.201941    93.440701  177.239108      0  \n",
       "1               INH  137.542185    82.886201  216.195237      1  \n",
       "2               INH  153.133642    48.548594    3.893094      2  \n",
       "3               INH  162.025977   115.829368  200.941758      3  \n",
       "4               INH   83.921754    10.838617   77.280394      4  \n",
       "...             ...         ...          ...         ...    ...  \n",
       "41147           EXC  213.539819  1835.538464  123.033662  41147  \n",
       "41148           EXC   16.316706  1436.611389   59.489983  41148  \n",
       "41149           EXC   79.615678  1494.417306  162.361054  41149  \n",
       "41150           EXC  202.373865  1402.410557  166.362086  41150  \n",
       "41151           EXC  102.398745  1195.936180  179.199693  41151  \n",
       "\n",
       "[41152 rows x 11 columns]"
      ]
     },
     "execution_count": 11,
     "metadata": {},
     "output_type": "execute_result"
    }
   ],
   "source": [
    "mock_circuit_model\\\n",
    "    .get_cells(depth=100)"
   ]
  },
  {
   "cell_type": "code",
   "execution_count": null,
   "metadata": {
    "ExecuteTime": {
     "end_time": "2020-01-23T12:27:43.736366Z",
     "start_time": "2020-01-23T12:02:50.407911Z"
    }
   },
   "outputs": [],
   "source": [
    "composition_analyses.analysis_mtype_cell_density_by_layer_exhaustively(\n",
    "    circuit_bio_m,\n",
    "    adapter)"
   ]
  },
  {
   "cell_type": "code",
   "execution_count": null,
   "metadata": {
    "ExecuteTime": {
     "end_time": "2020-01-23T11:58:48.934424Z",
     "start_time": "2020-01-23T11:58:45.822089Z"
    }
   },
   "outputs": [],
   "source": [
    "composition_analyses.measurement_mtype_cell_density_exhaustively(\n",
    "    circuit_bio_m,\n",
    "    adapter,\n",
    "    layer=\"L1\",\n",
    "    region=\"S1HL\")"
   ]
  },
  {
   "cell_type": "code",
   "execution_count": null,
   "metadata": {
    "ExecuteTime": {
     "end_time": "2019-12-19T09:56:20.739119Z",
     "start_time": "2019-12-19T09:56:20.556985Z"
    }
   },
   "outputs": [],
   "source": [
    "cell_counts =\\\n",
    "    cells.groupby(\n",
    "        [\"region\", \"layer\", \"mtype\"]\n",
    "    ).agg(\n",
    "        \"size\"\n",
    "    )\n",
    "cell_counts.xs(\n",
    "    (\"S1HL\", 1),\n",
    "    level=(\"region\", \"layer\"))"
   ]
  },
  {
   "cell_type": "code",
   "execution_count": null,
   "metadata": {
    "ExecuteTime": {
     "end_time": "2019-12-19T10:00:45.248234Z",
     "start_time": "2019-12-19T10:00:45.237669Z"
    }
   },
   "outputs": [],
   "source": [
    "cell_counts.xs(\n",
    "    (\"S1FL\", 2), level=(\"region\", \"layer\")\n",
    ")/cell_counts.xs(\n",
    "    (\"S1HL\", 2), level=(\"region\", \"layer\")\n",
    ")"
   ]
  },
  {
   "cell_type": "code",
   "execution_count": null,
   "metadata": {
    "ExecuteTime": {
     "end_time": "2019-12-19T10:01:00.886177Z",
     "start_time": "2019-12-19T10:01:00.876299Z"
    }
   },
   "outputs": [],
   "source": [
    "cell_counts.xs(\n",
    "    (\"S1HL\", 2), level=(\"region\", \"layer\"))"
   ]
  },
  {
   "cell_type": "code",
   "execution_count": null,
   "metadata": {
    "ExecuteTime": {
     "end_time": "2019-12-18T14:21:12.318940Z",
     "start_time": "2019-12-18T14:21:03.703005Z"
    },
    "scrolled": true
   },
   "outputs": [],
   "source": [
    "from neuro_dmt.analysis.reporting import CheetahReporter\n",
    "from neuro_dmt import terminology\n",
    "\n",
    "cd_rd =\\\n",
    "    composition_analysis.reference_data_cell_density(\n",
    "                                adapter.get_brain_regions(circuit_bio_m))\n",
    "cd_measurement =\\\n",
    "    composition_analysis\\\n",
    "        .analysis_cell_density_by_layer_using_sampling\\\n",
    "        .get_measurement(\n",
    "            circuit_bio_m,\n",
    "            adapter,\n",
    "            reference_data=cd_rd,\n",
    "            sampling_methodology=terminology.sampling_methodology.random,\n",
    "            sample_size=2)\n",
    "            \n",
    "cd_report =\\\n",
    "    composition_analysis\\\n",
    "        .analysis_cell_density_by_layer_using_sampling\\\n",
    "        .get_report(\n",
    "            cd_measurement,\n",
    "            reference_data=cd_rd,\n",
    "            figures={},\n",
    "            **adapter.get_provenance(circuit_bio_m))\n"
   ]
  },
  {
   "cell_type": "code",
   "execution_count": null,
   "metadata": {
    "ExecuteTime": {
     "end_time": "2019-12-18T16:50:12.032222Z",
     "start_time": "2019-12-18T16:50:07.553851Z"
    }
   },
   "outputs": [],
   "source": [
    "from neuro_dmt import terminology\n",
    "inh_fraction_report =\\\n",
    "    composition_analysis\\\n",
    "        .analysis_inihibitory_cell_fraction_by_layer_overall(\n",
    "            circuit_bio_m,\n",
    "            adapter,\n",
    "            sampling_methodology=terminology.sampling_methodology.exhaustive)"
   ]
  },
  {
   "cell_type": "code",
   "execution_count": null,
   "metadata": {
    "ExecuteTime": {
     "end_time": "2019-12-18T16:50:35.455174Z",
     "start_time": "2019-12-18T16:50:35.443817Z"
    }
   },
   "outputs": [],
   "source": [
    "inh_fraction_report.measurement"
   ]
  },
  {
   "cell_type": "code",
   "execution_count": null,
   "metadata": {
    "ExecuteTime": {
     "end_time": "2019-12-17T16:08:21.226785Z",
     "start_time": "2019-12-17T16:08:21.201455Z"
    }
   },
   "outputs": [],
   "source": [
    "print(rat.defelipe2017.data.shape)\n",
    "rat.defelipe2017.data.groupby(\"layer\").agg([\"size\", \"mean\", \"std\"])"
   ]
  },
  {
   "cell_type": "code",
   "execution_count": null,
   "metadata": {
    "ExecuteTime": {
     "end_time": "2019-12-17T16:08:24.575025Z",
     "start_time": "2019-12-17T16:08:24.550755Z"
    }
   },
   "outputs": [],
   "source": [
    "defelipe_2017 =\\\n",
    "    data_plotting[\n",
    "        data_plotting.dataset == \"DeFelipe2017\"]\n",
    "print(defelipe_2017.shape[0])\n",
    "defelipe_2017\\\n",
    "    .groupby(\"layer\")\\\n",
    "    .agg([\"mean\", \"std\"])"
   ]
  },
  {
   "cell_type": "code",
   "execution_count": null,
   "metadata": {
    "ExecuteTime": {
     "end_time": "2019-12-17T16:08:28.368923Z",
     "start_time": "2019-12-17T16:08:28.020765Z"
    }
   },
   "outputs": [],
   "source": [
    "seaborn.barplot(\n",
    "    x=\"layer\",\n",
    "    y=\"cell_density\",\n",
    "    hue=\"dataset\",\n",
    "    ci=\"sd\",\n",
    "    data=data_plotting[data_plotting.region == \"S1HL\"]\n",
    ").set(\n",
    "    xlabel=\"Layer\",\n",
    "    ylabel=\"Cell Density\")"
   ]
  },
  {
   "cell_type": "code",
   "execution_count": null,
   "metadata": {
    "ExecuteTime": {
     "end_time": "2019-12-17T16:08:32.677466Z",
     "start_time": "2019-12-17T16:08:32.288009Z"
    }
   },
   "outputs": [],
   "source": [
    "seaborn.catplot(\n",
    "    kind=\"bar\",\n",
    "    x=\"layer\",\n",
    "    y=\"cell_density\",\n",
    "    hue=\"dataset\",\n",
    "    ci=\"sd\",\n",
    "    data=data_plotting[data_plotting.region == \"S1HL\"]\n",
    ")"
   ]
  },
  {
   "cell_type": "code",
   "execution_count": null,
   "metadata": {
    "ExecuteTime": {
     "end_time": "2019-12-17T15:46:53.674892Z",
     "start_time": "2019-12-17T15:46:53.357876Z"
    }
   },
   "outputs": [],
   "source": [
    "import seaborn\n",
    "data =\\\n",
    "    cd_report.measurement\\\n",
    "        .groupby([\"layer\", \"region\"])\\\n",
    "        .agg([\"mean\", \"std\"])\\\n",
    "        .reset_index()\n",
    "data.head()\n",
    "seaborn.barplot(\n",
    "    x=\"layer\",\n",
    "    y=(\"cell_density\", \"mean\"),\n",
    "    hue=\"region\",\n",
    "    data=data)"
   ]
  },
  {
   "cell_type": "code",
   "execution_count": null,
   "metadata": {
    "ExecuteTime": {
     "end_time": "2019-12-16T19:17:02.862017Z",
     "start_time": "2019-12-16T19:17:02.167281Z"
    }
   },
   "outputs": [],
   "source": [
    "overall_cd_m =\\\n",
    "    cell_density_analysis\\\n",
    "        .get_measurement(\n",
    "            circuit_bio_m,\n",
    "            adapter,\n",
    "            sampling_methodology=terminology.sampling_methodology.exhaustive)"
   ]
  },
  {
   "cell_type": "code",
   "execution_count": null,
   "metadata": {
    "ExecuteTime": {
     "end_time": "2019-12-16T19:17:04.281159Z",
     "start_time": "2019-12-16T19:17:04.270677Z"
    }
   },
   "outputs": [],
   "source": [
    "overall_cd_m"
   ]
  },
  {
   "cell_type": "code",
   "execution_count": null,
   "metadata": {
    "ExecuteTime": {
     "end_time": "2019-12-16T18:31:15.806258Z",
     "start_time": "2019-12-16T18:29:39.640201Z"
    }
   },
   "outputs": [],
   "source": [
    "from neuro_dmt import terminology\n",
    "overall_cd =\\\n",
    "    cell_density_analysis(\n",
    "        circuit_bio_m,\n",
    "        adapter,\n",
    "        sampling_methodology=terminology.sampling_methodology.exhaustive)"
   ]
  },
  {
   "cell_type": "code",
   "execution_count": null,
   "metadata": {
    "ExecuteTime": {
     "end_time": "2019-12-16T12:39:40.981828Z",
     "start_time": "2019-12-16T12:39:40.978433Z"
    }
   },
   "outputs": [],
   "source": [
    "from neuro_dmt.library.users.visood.sscx_dissemination.analyses.composition\\\n",
    "    import *\n",
    "bars = Bars(\n",
    "    xvar=\"layer\",\n",
    "    xlabel=\"Layer\",\n",
    "    yvar=\"cell_density\",\n",
    "    ylabel=\"Cell Density\",\n",
    "    gvar=\"dataset\")"
   ]
  },
  {
   "cell_type": "code",
   "execution_count": null,
   "metadata": {
    "ExecuteTime": {
     "end_time": "2019-12-16T13:12:31.185049Z",
     "start_time": "2019-12-16T13:10:09.387757Z"
    }
   },
   "outputs": [],
   "source": [
    "cell_density_measurement =\\\n",
    "    cell_density_analysis\\\n",
    "        .get_measurement(\n",
    "            circuit_bio_m,\n",
    "            adapter)"
   ]
  },
  {
   "cell_type": "code",
   "execution_count": null,
   "metadata": {
    "ExecuteTime": {
     "end_time": "2019-12-16T12:46:56.125031Z",
     "start_time": "2019-12-16T12:46:56.085321Z"
    }
   },
   "outputs": [],
   "source": [
    "cell_density_analysis.get_figures(\n",
    "    cell_density_analysis._with_reference_data(\n",
    "        cell_density_measurement[\"data\"]))"
   ]
  },
  {
   "cell_type": "code",
   "execution_count": null,
   "metadata": {
    "ExecuteTime": {
     "end_time": "2019-12-16T13:12:56.153027Z",
     "start_time": "2019-12-16T13:12:56.145879Z"
    }
   },
   "outputs": [],
   "source": [
    "cdard =\\\n",
    "    cell_density_analysis\\\n",
    "        ._with_reference_data(\n",
    "            cell_density_measurement[\"data\"])"
   ]
  },
  {
   "cell_type": "code",
   "execution_count": null,
   "metadata": {
    "ExecuteTime": {
     "end_time": "2019-12-16T13:08:02.891352Z",
     "start_time": "2019-12-16T13:08:02.871065Z"
    }
   },
   "outputs": [],
   "source": [
    "cdard[\"DeFelipe2014\"]"
   ]
  },
  {
   "cell_type": "code",
   "execution_count": null,
   "metadata": {
    "ExecuteTime": {
     "end_time": "2019-12-16T13:12:58.463842Z",
     "start_time": "2019-12-16T13:12:58.418472Z"
    }
   },
   "outputs": [],
   "source": [
    "from dmt.data.observation import measurement\n",
    "measurement.concat_as_samples(\n",
    "    cell_density_analysis._with_reference_data(\n",
    "        cell_density_measurement[\"data\"]))"
   ]
  },
  {
   "cell_type": "code",
   "execution_count": null,
   "metadata": {
    "ExecuteTime": {
     "end_time": "2019-12-16T10:08:22.868007Z",
     "start_time": "2019-12-16T10:08:22.650063Z"
    }
   },
   "outputs": [],
   "source": [
    "from neuro_dmt.library.users.visood.sscx_dissemination.analyses.composition\\\n",
    "    import *\n",
    "\n",
    "cell_density_analysis =\\\n",
    "    BrainCircuitAnalysis(\n",
    "        phenomenon=composition_analysis.phenomenon_cell_density,\n",
    "        AdapterInterface=composition_analysis.AdapterInterface,\n",
    "        reference_data=composition_analysis.sampled_reference_data(\n",
    "            composition_analysis.reference_data_cell_density),\n",
    "        measurement_parameters=composition_analysis.parameters_regions_and_layers,\n",
    "        sample_measurement=composition_analysis.sample_measurement_cell_density,\n",
    "        plotter=MultiPlot(\n",
    "            mvar=\"region\",\n",
    "            plotter=Bars(\n",
    "                xvar=\"layer\",\n",
    "                xlabel=\"Layer\",\n",
    "                yvar=\"cell_density\",\n",
    "                ylabel=\"Cell Density\",\n",
    "                gvar=\"dataset\")),\n",
    "        report=CircuitAnalysisReport)"
   ]
  },
  {
   "cell_type": "code",
   "execution_count": null,
   "metadata": {
    "ExecuteTime": {
     "end_time": "2019-12-16T10:08:32.341726Z",
     "start_time": "2019-12-16T10:08:32.328065Z"
    }
   },
   "outputs": [],
   "source": [
    "cell_density_analysis(circuit_bio_m, adapter)"
   ]
  },
  {
   "cell_type": "code",
   "execution_count": null,
   "metadata": {
    "ExecuteTime": {
     "end_time": "2019-12-16T10:10:20.823294Z",
     "start_time": "2019-12-16T10:10:20.819963Z"
    }
   },
   "outputs": [],
   "source": [
    "parameter_values =\\\n",
    "    cell_density_analysis\\\n",
    "        .measurement_parameters\n"
   ]
  },
  {
   "cell_type": "code",
   "execution_count": null,
   "metadata": {
    "ExecuteTime": {
     "end_time": "2019-12-16T10:10:41.904206Z",
     "start_time": "2019-12-16T10:10:41.899546Z"
    }
   },
   "outputs": [],
   "source": [
    "parameter_values"
   ]
  },
  {
   "cell_type": "code",
   "execution_count": null,
   "metadata": {
    "ExecuteTime": {
     "end_time": "2019-12-16T10:14:17.420157Z",
     "start_time": "2019-12-16T10:14:17.414992Z"
    }
   },
   "outputs": [],
   "source": [
    "class Test:\n",
    "    def __init__(self,value):\n",
    "        if not isinstance(value, Test):\n",
    "            self.value = value\n",
    "        else:\n",
    "            self.value = value.value\n",
    "            "
   ]
  },
  {
   "cell_type": "code",
   "execution_count": null,
   "metadata": {
    "ExecuteTime": {
     "end_time": "2019-12-16T10:14:17.918685Z",
     "start_time": "2019-12-16T10:14:17.915356Z"
    }
   },
   "outputs": [],
   "source": [
    "test = Test(10)\n",
    "test_2 = Test(test)"
   ]
  },
  {
   "cell_type": "code",
   "execution_count": null,
   "metadata": {
    "ExecuteTime": {
     "end_time": "2019-12-16T10:14:29.728474Z",
     "start_time": "2019-12-16T10:14:29.723468Z"
    }
   },
   "outputs": [],
   "source": [
    "test_2 == test"
   ]
  },
  {
   "cell_type": "code",
   "execution_count": null,
   "metadata": {
    "ExecuteTime": {
     "end_time": "2019-12-16T10:26:41.424065Z",
     "start_time": "2019-12-16T10:26:41.145869Z"
    }
   },
   "outputs": [],
   "source": [
    "import pandas as pd\n",
    "from dmt.tk.parameters import Parameters\n",
    "\n",
    "regions = [\"S1HL\", \"S1FL\"]\n",
    "layers = range(1,7)\n",
    "regions_and_layers =\\\n",
    "    pd.DataFrame({\n",
    "        \"region\": [r for r in regions for _ in layers],\n",
    "        \"layer\": [l for _ in regions for l in layers]})\n",
    "p0 = Parameters(regions_and_layers)\n",
    "p1 = Parameters(p0)"
   ]
  },
  {
   "cell_type": "code",
   "execution_count": null,
   "metadata": {
    "ExecuteTime": {
     "end_time": "2019-12-16T10:26:51.044044Z",
     "start_time": "2019-12-16T10:26:51.033162Z"
    }
   },
   "outputs": [],
   "source": [
    "p1.values"
   ]
  },
  {
   "cell_type": "code",
   "execution_count": null,
   "metadata": {
    "ExecuteTime": {
     "end_time": "2019-12-19T12:23:52.203232Z",
     "start_time": "2019-12-19T12:23:52.197970Z"
    }
   },
   "outputs": [],
   "source": [
    "(43345060) ** (1./3.)"
   ]
  },
  {
   "cell_type": "code",
   "execution_count": null,
   "metadata": {
    "ExecuteTime": {
     "end_time": "2019-12-19T12:27:03.475150Z",
     "start_time": "2019-12-19T12:27:03.466503Z"
    }
   },
   "outputs": [],
   "source": [
    "regions_and_layers =\\\n",
    "    composition_analysis\\\n",
    "        .parameters_regions_and_layers"
   ]
  },
  {
   "cell_type": "code",
   "execution_count": null,
   "metadata": {
    "ExecuteTime": {
     "end_time": "2019-12-19T12:28:12.235164Z",
     "start_time": "2019-12-19T12:28:12.223386Z"
    }
   },
   "outputs": [],
   "source": [
    "regions_and_layers._resolve_values(adapter, circuit_bio_m)"
   ]
  },
  {
   "cell_type": "code",
   "execution_count": null,
   "metadata": {},
   "outputs": [],
   "source": []
  }
 ],
 "metadata": {
  "kernelspec": {
   "display_name": "Python 3",
   "language": "python",
   "name": "python3"
  },
  "language_info": {
   "codemirror_mode": {
    "name": "ipython",
    "version": 3
   },
   "file_extension": ".py",
   "mimetype": "text/x-python",
   "name": "python",
   "nbconvert_exporter": "python",
   "pygments_lexer": "ipython3",
   "version": "3.7.4"
  },
  "latex_envs": {
   "LaTeX_envs_menu_present": true,
   "autoclose": false,
   "autocomplete": true,
   "bibliofile": "biblio.bib",
   "cite_by": "apalike",
   "current_citInitial": 1,
   "eqLabelWithNumbers": true,
   "eqNumInitial": 1,
   "hotkeys": {
    "equation": "Ctrl-E",
    "itemize": "Ctrl-I"
   },
   "labels_anchors": false,
   "latex_user_defs": false,
   "report_style_numbering": false,
   "user_envs_cfg": false
  },
  "toc": {
   "base_numbering": 1,
   "nav_menu": {},
   "number_sections": true,
   "sideBar": true,
   "skip_h1_title": false,
   "title_cell": "Table of Contents",
   "title_sidebar": "Contents",
   "toc_cell": false,
   "toc_position": {},
   "toc_section_display": true,
   "toc_window_display": false
  },
  "varInspector": {
   "cols": {
    "lenName": 16,
    "lenType": 16,
    "lenVar": 40
   },
   "kernels_config": {
    "python": {
     "delete_cmd_postfix": "",
     "delete_cmd_prefix": "del ",
     "library": "var_list.py",
     "varRefreshCmd": "print(var_dic_list())"
    },
    "r": {
     "delete_cmd_postfix": ") ",
     "delete_cmd_prefix": "rm(",
     "library": "var_list.r",
     "varRefreshCmd": "cat(var_dic_list()) "
    }
   },
   "types_to_exclude": [
    "module",
    "function",
    "builtin_function_or_method",
    "instance",
    "_Feature"
   ],
   "window_display": false
  }
 },
 "nbformat": 4,
 "nbformat_minor": 2
}
