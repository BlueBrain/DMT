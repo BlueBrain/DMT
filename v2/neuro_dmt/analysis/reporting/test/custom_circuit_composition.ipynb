{
 "cells": [
  {
   "cell_type": "markdown",
   "metadata": {},
   "source": [
    "We develop analyses for circuit composition. \n",
    "In another notebook we have composed analyses using components provided in out analysis\n",
    "framework **DMT**, However, *composing* an analyses is restricted by the availability of \n",
    "components that are assembled to define an analysis. A freer approach is to base an analysis\n",
    "on a base analysis-class and override its methods. Here we use this *inheriting* approach\n",
    "to build some customized circuit composition analyses."
   ]
  },
  {
   "cell_type": "code",
   "execution_count": 12,
   "metadata": {
    "ExecuteTime": {
     "end_time": "2019-12-03T19:16:15.794834Z",
     "start_time": "2019-12-03T19:16:15.787090Z"
    }
   },
   "outputs": [],
   "source": [
    "import os\n",
    "import neuro_dmt\n",
    "\n",
    "os.environ[\"DMTPATH\"] =\\\n",
    "    os.path.join(\n",
    "        os.environ[\"HOME\"],\n",
    "        \"work/bbp/work/validations/dmt\")\n",
    "\n",
    "neuro_dmt.data.LOCATION = os.path.join(\n",
    "    os.environ[\"DMTPATH\"],\n",
    "    \"examples/datasets\")"
   ]
  },
  {
   "cell_type": "code",
   "execution_count": 23,
   "metadata": {
    "ExecuteTime": {
     "end_time": "2019-12-03T19:29:00.025148Z",
     "start_time": "2019-12-03T19:28:59.991009Z"
    }
   },
   "outputs": [],
   "source": [
    "import numpy as np\n",
    "import pandas as pd\n",
    "from dmt.model.interface import Interface\n",
    "from dmt.tk.plotting import Bars\n",
    "from neuro_dmt.data import rat\n",
    "from neuro_dmt.analysis.circuit import BrainCircuitAnalysis\n",
    "from neuro_dmt.models.bluebrain.circuit.model import BlueBrainCircuitModel\n",
    "from neuro_dmt.models.bluebrain.circuit.adapter import BlueBrainCircuitAdapter\n",
    "from neuro_dmt import terminology\n",
    "\n",
    "class CellDensityAnalysis:\n",
    "    \"\"\"\n",
    "    Analyze the cell density in a circuit.\n",
    "    \"\"\"\n",
    "    \n",
    "    class AdapterInterface(Interface):\n",
    "        \"\"\"\n",
    "        Define the methods required to run this analysis,\n",
    "        which must be provided by an adapter of the circuit model to be analyzed.\n",
    "        \"\"\"\n",
    "        def get_label(self, circuit_model):\n",
    "            \"\"\"\n",
    "            Get a label for the circuit_model\n",
    "            \"\"\"\n",
    "            raise NotImplementedError\n",
    "            \n",
    "        def get_cell_density(self, \n",
    "                circuit_model,\n",
    "                layer):\n",
    "            \"\"\"\n",
    "            Get cell density for the circuit model for the given layer.\n",
    "            \"\"\"\n",
    "            raise NotImplementedError\n",
    "            \n",
    "            \n",
    "    def __call__(self, circuit_model, adapter):\n",
    "        \"\"\"\n",
    "        Run the analysis.\n",
    "        \"\"\"\n",
    "        adapter = self.AdapterInterface.implementation(adapter)\n",
    "        layers = [\"L1\", \"L2\", \"L3\", \"L4\", \"L5\", \"L6\"]\n",
    "        model_measurement = pd.DataFrame({\n",
    "            \"cell_density\": [\n",
    "                adapter.get_cell_density(\n",
    "                    circuit_model,\n",
    "                    layer=layer) \n",
    "                for layer in layers],\n",
    "            \"layer\": layers}\n",
    "        ).set_index(\n",
    "            \"layer\"\n",
    "        )\n",
    "        reference_data = {\n",
    "        }\n",
    "        plotter = Bars(\n",
    "            xvar=\"layer\",\n",
    "            xlabel=\"Layer\",\n",
    "            yvar=\"cell_density\",\n",
    "            ylabel=\"Cell Density\",\n",
    "            gvar=\"dataset\")\n",
    "        return plotter.get_figure({\n",
    "            adapter.get_label(circuit_model): model_measurement,\n",
    "            \"DeFelipe2017\": rat.defelipe2017.summary_measurement.samples(1000),\n",
    "            \"DeFelipe2014\": rat.defelipe2014.summary_measurement.samples(1000),\n",
    "            \"meyer2010\": rat.meyer2010.samples(1000)\n",
    "        })"
   ]
  },
  {
   "cell_type": "code",
   "execution_count": 3,
   "metadata": {
    "ExecuteTime": {
     "end_time": "2019-12-03T18:58:57.697135Z",
     "start_time": "2019-12-03T18:57:08.606303Z"
    }
   },
   "outputs": [],
   "source": [
    "from neuro_dmt.models.bluebrain.circuit.mock.test.mock_circuit_light import\\\n",
    "    circuit_composition,\\\n",
    "    circuit_connectivity\n",
    "from neuro_dmt.models.bluebrain.circuit.mock.circuit\\\n",
    "    import MockBlueBrainCircuitModel\n",
    "mock_circuit_model = MockBlueBrainCircuitModel(\n",
    "    circuit_composition,\n",
    "    circuit_connectivity)"
   ]
  },
  {
   "cell_type": "code",
   "execution_count": 24,
   "metadata": {
    "ExecuteTime": {
     "end_time": "2019-12-03T19:29:04.261034Z",
     "start_time": "2019-12-03T19:29:04.257730Z"
    }
   },
   "outputs": [],
   "source": [
    "adapter = BlueBrainCircuitAdapter()\n",
    "\n",
    "cell_density_analysis = CellDensityAnalysis()"
   ]
  },
  {
   "cell_type": "code",
   "execution_count": 25,
   "metadata": {
    "ExecuteTime": {
     "end_time": "2019-12-03T19:29:15.184833Z",
     "start_time": "2019-12-03T19:29:05.771417Z"
    }
   },
   "outputs": [
    {
     "data": {
      "text/plain": [
       "<dmt.tk.plotting.figure.Figure at 0x127802f50>"
      ]
     },
     "execution_count": 25,
     "metadata": {},
     "output_type": "execute_result"
    },
    {
     "data": {
      "image/png": "[encoded data removed]",
      "text/plain": [
       "<Figure size 1104.99x576 with 1 Axes>"
      ]
     },
     "metadata": {
      "needs_background": "light"
     },
     "output_type": "display_data"
    }
   ],
   "source": [
    "cell_density_analysis(mock_circuit_model, adapter)"
   ]
  },
  {
   "cell_type": "code",
   "execution_count": 21,
   "metadata": {
    "ExecuteTime": {
     "end_time": "2019-12-03T19:27:43.439843Z",
     "start_time": "2019-12-03T19:27:43.357370Z"
    }
   },
   "outputs": [
    {
     "data": {
      "text/html": [
       "<div>\n",
       "<style scoped>\n",
       "    .dataframe tbody tr th:only-of-type {\n",
       "        vertical-align: middle;\n",
       "    }\n",
       "\n",
       "    .dataframe tbody tr th {\n",
       "        vertical-align: top;\n",
       "    }\n",
       "\n",
       "    .dataframe thead th {\n",
       "        text-align: right;\n",
       "    }\n",
       "</style>\n",
       "<table border=\"1\" class=\"dataframe\">\n",
       "  <thead>\n",
       "    <tr style=\"text-align: right;\">\n",
       "      <th></th>\n",
       "      <th>cell_density</th>\n",
       "    </tr>\n",
       "  </thead>\n",
       "  <tbody>\n",
       "    <tr>\n",
       "      <th>L1</th>\n",
       "      <td>64000.0</td>\n",
       "    </tr>\n",
       "    <tr>\n",
       "      <th>L2</th>\n",
       "      <td>256000.0</td>\n",
       "    </tr>\n",
       "    <tr>\n",
       "      <th>L3</th>\n",
       "      <td>24000.0</td>\n",
       "    </tr>\n",
       "    <tr>\n",
       "      <th>L4</th>\n",
       "      <td>32000.0</td>\n",
       "    </tr>\n",
       "    <tr>\n",
       "      <th>L5</th>\n",
       "      <td>264000.0</td>\n",
       "    </tr>\n",
       "    <tr>\n",
       "      <th>L6</th>\n",
       "      <td>400000.0</td>\n",
       "    </tr>\n",
       "  </tbody>\n",
       "</table>\n",
       "</div>"
      ],
      "text/plain": [
       "    cell_density\n",
       "L1       64000.0\n",
       "L2      256000.0\n",
       "L3       24000.0\n",
       "L4       32000.0\n",
       "L5      264000.0\n",
       "L6      400000.0"
      ]
     },
     "execution_count": 21,
     "metadata": {},
     "output_type": "execute_result"
    }
   ],
   "source": [
    "layers = [\"L1\", \"L2\", \"L3\", \"L4\", \"L5\", \"L6\"]\n",
    "pd.DataFrame(\n",
    "    {\"cell_density\": [\n",
    "        adapter.get_cell_density(\n",
    "            mock_circuit_model,\n",
    "            layer=layer) \n",
    "        for layer in layers]},\n",
    "        index = layers\n",
    "    )"
   ]
  },
  {
   "cell_type": "code",
   "execution_count": null,
   "metadata": {},
   "outputs": [],
   "source": []
  }
 ],
 "metadata": {
  "kernelspec": {
   "display_name": "Python 3",
   "language": "python",
   "name": "python3"
  },
  "language_info": {
   "codemirror_mode": {
    "name": "ipython",
    "version": 3
   },
   "file_extension": ".py",
   "mimetype": "text/x-python",
   "name": "python",
   "nbconvert_exporter": "python",
   "pygments_lexer": "ipython3",
   "version": "3.7.4"
  },
  "latex_envs": {
   "LaTeX_envs_menu_present": true,
   "autoclose": false,
   "autocomplete": true,
   "bibliofile": "biblio.bib",
   "cite_by": "apalike",
   "current_citInitial": 1,
   "eqLabelWithNumbers": true,
   "eqNumInitial": 1,
   "hotkeys": {
    "equation": "Ctrl-E",
    "itemize": "Ctrl-I"
   },
   "labels_anchors": false,
   "latex_user_defs": false,
   "report_style_numbering": false,
   "user_envs_cfg": false
  },
  "toc": {
   "base_numbering": 1,
   "nav_menu": {},
   "number_sections": true,
   "sideBar": true,
   "skip_h1_title": false,
   "title_cell": "Table of Contents",
   "title_sidebar": "Contents",
   "toc_cell": false,
   "toc_position": {},
   "toc_section_display": true,
   "toc_window_display": false
  },
  "varInspector": {
   "cols": {
    "lenName": 16,
    "lenType": 16,
    "lenVar": 40
   },
   "kernels_config": {
    "python": {
     "delete_cmd_postfix": "",
     "delete_cmd_prefix": "del ",
     "library": "var_list.py",
     "varRefreshCmd": "print(var_dic_list())"
    },
    "r": {
     "delete_cmd_postfix": ") ",
     "delete_cmd_prefix": "rm(",
     "library": "var_list.r",
     "varRefreshCmd": "cat(var_dic_list()) "
    }
   },
   "types_to_exclude": [
    "module",
    "function",
    "builtin_function_or_method",
    "instance",
    "_Feature"
   ],
   "window_display": false
  }
 },
 "nbformat": 4,
 "nbformat_minor": 2
}
