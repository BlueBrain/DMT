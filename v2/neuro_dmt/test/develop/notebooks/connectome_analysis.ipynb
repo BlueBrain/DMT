{
 "cells": [
  {
   "cell_type": "markdown",
   "metadata": {
    "ExecuteTime": {
     "end_time": "2019-06-13T15:04:13.731993Z",
     "start_time": "2019-06-13T15:04:13.712494Z"
    }
   },
   "source": [
    "# Test develop connectome analyses.\n",
    "\n",
    "We develop the analyses and the (BBP) adapter together.\n",
    "In this notebook we will prototype the adapter,\n",
    "while developing the analyses in an editory."
   ]
  },
  {
   "cell_type": "code",
   "execution_count": 7,
   "metadata": {
    "ExecuteTime": {
     "end_time": "2019-06-13T19:58:16.057857Z",
     "start_time": "2019-06-13T19:58:15.740284Z"
    }
   },
   "outputs": [],
   "source": [
    "import numpy as np\n",
    "import pandas as pd\n",
    "from neuro_dmt.analysis.circuit.connectome import *"
   ]
  },
  {
   "cell_type": "code",
   "execution_count": null,
   "metadata": {},
   "outputs": [],
   "source": [
    "from dmt.model.adapter import adapts\n",
    "from dmt.model.interface import implements\n",
    "\n",
    "@adapts()\n",
    "class BlueBrainCircuitAdapter:"
   ]
  },
  {
   "cell_type": "markdown",
   "metadata": {},
   "source": [
    "To test our code, and to explain our analysis, we will construct a simple example. \n",
    "The analysis code in ```PathwayConnectionProbabilityAnalysis``` expects a dataframe described in the test below:"
   ]
  },
  {
   "cell_type": "code",
   "execution_count": 8,
   "metadata": {
    "ExecuteTime": {
     "end_time": "2019-06-13T20:14:01.928168Z",
     "start_time": "2019-06-13T20:14:01.921268Z"
    }
   },
   "outputs": [],
   "source": [
    "def test_measurement_conn_prob(dataframe):\n",
    "    \"\"\"\n",
    "    Is dataframe good as connection probability measurement?\n",
    "    \"\"\"\n",
    "    assert isinstance(dataframe.index, pd.MultiIndex),\\\n",
    "        \"\"\"\n",
    "        Connection Probability measurement dataframe should have a \n",
    "        MultiIndex. We got: {}\n",
    "        \"\"\".format(dataframe.index)\n",
    "    assert (\"mean\" in dataframe.columns or \n",
    "            \"connection_probability\" in dataframe.columns or\n",
    "            \"connprob\" in dataframe.columns)\n",
    "            \n",
    "    "
   ]
  },
  {
   "cell_type": "code",
   "execution_count": 11,
   "metadata": {
    "ExecuteTime": {
     "end_time": "2019-06-13T20:25:01.253679Z",
     "start_time": "2019-06-13T20:25:01.239568Z"
    }
   },
   "outputs": [],
   "source": [
    "df = pd.DataFrame([\n",
    "    {\"pre_mtype\": \"L1_BC\",\n",
    "     \"post_mtype\": \"L1_SBC\",\n",
    "     \"mean\": 0.01},\n",
    "    {\"pre_mtype\": \"L1_BC\",\n",
    "     \"post_mtype\": \"L1_PC\",\n",
    "     \"mean\": 0.03},\n",
    "    {\"pre_mtype\": \"L1_PC\",\n",
    "     \"post_mtype\": \"L1_PC\",\n",
    "     \"mean\": 0.1}])\\\n",
    "    .set_index([\"pre_mtype\", \"post_mtype\"])"
   ]
  },
  {
   "cell_type": "code",
   "execution_count": 12,
   "metadata": {
    "ExecuteTime": {
     "end_time": "2019-06-13T20:25:03.199448Z",
     "start_time": "2019-06-13T20:25:03.184805Z"
    }
   },
   "outputs": [
    {
     "data": {
      "text/html": [
       "<div>\n",
       "<style scoped>\n",
       "    .dataframe tbody tr th:only-of-type {\n",
       "        vertical-align: middle;\n",
       "    }\n",
       "\n",
       "    .dataframe tbody tr th {\n",
       "        vertical-align: top;\n",
       "    }\n",
       "\n",
       "    .dataframe thead th {\n",
       "        text-align: right;\n",
       "    }\n",
       "</style>\n",
       "<table border=\"1\" class=\"dataframe\">\n",
       "  <thead>\n",
       "    <tr style=\"text-align: right;\">\n",
       "      <th></th>\n",
       "      <th></th>\n",
       "      <th>mean</th>\n",
       "    </tr>\n",
       "    <tr>\n",
       "      <th>pre_mtype</th>\n",
       "      <th>post_mtype</th>\n",
       "      <th></th>\n",
       "    </tr>\n",
       "  </thead>\n",
       "  <tbody>\n",
       "    <tr>\n",
       "      <th rowspan=\"2\" valign=\"top\">L1_BC</th>\n",
       "      <th>L1_SBC</th>\n",
       "      <td>0.01</td>\n",
       "    </tr>\n",
       "    <tr>\n",
       "      <th>L1_PC</th>\n",
       "      <td>0.03</td>\n",
       "    </tr>\n",
       "    <tr>\n",
       "      <th>L1_PC</th>\n",
       "      <th>L1_PC</th>\n",
       "      <td>0.10</td>\n",
       "    </tr>\n",
       "  </tbody>\n",
       "</table>\n",
       "</div>"
      ],
      "text/plain": [
       "                      mean\n",
       "pre_mtype post_mtype      \n",
       "L1_BC     L1_SBC      0.01\n",
       "          L1_PC       0.03\n",
       "L1_PC     L1_PC       0.10"
      ]
     },
     "execution_count": 12,
     "metadata": {},
     "output_type": "execute_result"
    }
   ],
   "source": [
    "df"
   ]
  },
  {
   "cell_type": "code",
   "execution_count": 13,
   "metadata": {
    "ExecuteTime": {
     "end_time": "2019-06-13T20:25:14.840900Z",
     "start_time": "2019-06-13T20:25:14.833905Z"
    }
   },
   "outputs": [
    {
     "data": {
      "text/plain": [
       "array([('L1_BC', 'L1_SBC'), ('L1_BC', 'L1_PC'), ('L1_PC', 'L1_PC')],\n",
       "      dtype=object)"
      ]
     },
     "execution_count": 13,
     "metadata": {},
     "output_type": "execute_result"
    }
   ],
   "source": [
    "df.index.values"
   ]
  },
  {
   "cell_type": "markdown",
   "metadata": {},
   "source": [
    "Analysis will be easier to develop. We will convert a dataframe of the form discussed above\n",
    "to a matrix and then to a heat-map. The harder part is to develop the analysis.\n",
    "For the analysis we will need to compute probability that two neurons of given mtypes (pre --> post)\n",
    "are connected. This probability will depend on distance. So we can express the probability as\n",
    "$$\n",
    "Prob[X \\sim Y \\ | \\ mtype_X == mtype_{pre} \\  \\land \\  mtype_Y == mtype_{post} \\  \\land \\  distance(X, Y) <= D]\n",
    "$$\n",
    "\n",
    "Let us first consider a dataframe \n",
    "providing raw data necessary to compute connection probability."
   ]
  },
  {
   "cell_type": "code",
   "execution_count": null,
   "metadata": {},
   "outputs": [],
   "source": []
  }
 ],
 "metadata": {
  "kernelspec": {
   "display_name": "Python 3",
   "language": "python",
   "name": "python3"
  },
  "language_info": {
   "codemirror_mode": {
    "name": "ipython",
    "version": 3
   },
   "file_extension": ".py",
   "mimetype": "text/x-python",
   "name": "python",
   "nbconvert_exporter": "python",
   "pygments_lexer": "ipython3",
   "version": "3.6.7"
  },
  "toc": {
   "base_numbering": 1,
   "nav_menu": {},
   "number_sections": true,
   "sideBar": true,
   "skip_h1_title": false,
   "title_cell": "Table of Contents",
   "title_sidebar": "Contents",
   "toc_cell": false,
   "toc_position": {},
   "toc_section_display": true,
   "toc_window_display": false
  },
  "varInspector": {
   "cols": {
    "lenName": 16,
    "lenType": 16,
    "lenVar": 40
   },
   "kernels_config": {
    "python": {
     "delete_cmd_postfix": "",
     "delete_cmd_prefix": "del ",
     "library": "var_list.py",
     "varRefreshCmd": "print(var_dic_list())"
    },
    "r": {
     "delete_cmd_postfix": ") ",
     "delete_cmd_prefix": "rm(",
     "library": "var_list.r",
     "varRefreshCmd": "cat(var_dic_list()) "
    }
   },
   "types_to_exclude": [
    "module",
    "function",
    "builtin_function_or_method",
    "instance",
    "_Feature"
   ],
   "window_display": false
  }
 },
 "nbformat": 4,
 "nbformat_minor": 2
}
