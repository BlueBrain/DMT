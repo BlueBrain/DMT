{
 "cells": [
  {
   "cell_type": "code",
   "execution_count": null,
   "metadata": {},
   "outputs": [],
   "source": [
    "import sys\n",
    "sys.path.append(\"/home/dictus/dmt/v2\")\n",
    "from neuro_dmt.library.composition import CellDensityValidation, INHRatioValidation"
   ]
  },
  {
   "cell_type": "code",
   "execution_count": null,
   "metadata": {},
   "outputs": [],
   "source": [
    "import pandas as pd\n",
    "example_cell_density_data = pd.DataFrame(\n",
    "        {'layer': ['L1','L2','L3','L4','L5','L6'],\n",
    "         \"samples\": [[100e-10, 110e-10, 90e-10],\n",
    "                     [120e-10, 130e-10, 140e-10],\n",
    "                     [110e-10, 45e-10, 60e-10],\n",
    "                     [13e-10, 13e-10, 13e-10],\n",
    "                     [100e-10, 130e-10, 160e-10],\n",
    "                     [231e-10, 214e-10, 121e-10]]})\n"
   ]
  },
  {
   "cell_type": "code",
   "execution_count": null,
   "metadata": {},
   "outputs": [],
   "source": [
    "from neuro_dmt.models.bluebrain.circuit.adapter import O1Adapter\n",
    "circuit_config = \"/gpfs/bbp.cscs.ch/project/proj68/circuits/O1/20190307/CircuitConfig\"\n",
    "circuit_model = O1Adapter(circuit_config)"
   ]
  },
  {
   "cell_type": "code",
   "execution_count": null,
   "metadata": {},
   "outputs": [],
   "source": [
    "CellDensityValidation(data=example_cell_density_data)(circuit_model)"
   ]
  },
  {
   "cell_type": "code",
   "execution_count": null,
   "metadata": {},
   "outputs": [],
   "source": [
    "INHRatioValidation(by=[{'layer': l} for l in['L1', 'L2', 'L3', 'L4', 'L5', 'L6']])\\\n",
    "                        (circuit_model)"
   ]
  },
  {
   "cell_type": "code",
   "execution_count": null,
   "metadata": {},
   "outputs": [],
   "source": [
    "# TODO: SynapseDensityValidation"
   ]
  },
  {
   "cell_type": "code",
   "execution_count": null,
   "metadata": {},
   "outputs": [],
   "source": [
    "# automatically puts mtype in the title, rather than cluttering x-axis with repeated mentions\n",
    "CellDensityValidation(by=[{'mtype': 'MC', 'layer': 'L{}'.format(l)} for l in range(1, 7)])\\\n",
    "    (circuit_model)"
   ]
  },
  {
   "cell_type": "code",
   "execution_count": null,
   "metadata": {},
   "outputs": [],
   "source": [
    "circuit_model_2 = O1Adapter(\"/gpfs/bbp.cscs.ch/project/proj66/circuits/O1/r0/CircuitConfig\")\n",
    "CellDensityValidation(data=example_cell_density_data)(circuit_model, circuit_model_2)"
   ]
  },
  {
   "cell_type": "code",
   "execution_count": null,
   "metadata": {},
   "outputs": [],
   "source": [
    "# TODO: how to define generic 'ByMtypeDensityAnalysis' as a subclass of CellDensityAnalysis\n",
    "#       more generally: how to define validations where 'by' depends on the output of some adapter method (mtypes)"
   ]
  },
  {
   "cell_type": "code",
   "execution_count": null,
   "metadata": {},
   "outputs": [],
   "source": [
    "try:\n",
    "    INHRatioValidation()\n",
    "except AssertionError as E:\n",
    "    print(E)"
   ]
  },
  {
   "cell_type": "code",
   "execution_count": null,
   "metadata": {},
   "outputs": [],
   "source": [
    "import numpy as np\n",
    "class ActuallyAnO1AtlasAdapter():\n",
    "    \n",
    "    def __init__(self, atlas_dir):\n",
    "        from voxcell.nexus.voxelbrain import Atlas\n",
    "        self._atlas = Atlas.open(atlas_dir)\n",
    "    \n",
    "    def _mask_for_query(self, query):\n",
    "        queryacro = \"@{}$\".format(query.get('layer'))\n",
    "        return self._atlas.get_region_mask(queryacro)\n",
    "\n",
    "    def cell_density(self, query):\n",
    "        mask = self._mask_for_query(query)\n",
    "        return ((\n",
    "            self._atlas.load_data(\"[cell_density]EXC\").raw \n",
    "            + self._atlas.load_data(\"[cell_density]INH\").raw)[mask.raw])\n",
    "        "
   ]
  },
  {
   "cell_type": "code",
   "execution_count": null,
   "metadata": {},
   "outputs": [],
   "source": [
    "import yaml\n",
    "DefilipeDatapath = \"/gpfs/bbp.cscs.ch/project/proj64/dissemination/data/DeFelipe2017.yaml\"\n",
    "with open(DefilipeDatapath) as DFDF:\n",
    "    DFDict = yaml.load(DFDF)\n"
   ]
  },
  {
   "cell_type": "code",
   "execution_count": null,
   "metadata": {},
   "outputs": [],
   "source": [
    "import pandas as pd\n",
    "DefilipeCellDensityData = pd.DataFrame({'layer':\n",
    "                                        [\"L1\", \"L2\", \"L3\", \"L4\", \"L5\", \"L6\"],\n",
    "                                       'samples': \n",
    "                                        [[subj['densities'][l] \n",
    "                                          for subj in DFDict['circuits'].values()]\n",
    "                                         for l in range(6)]})\n",
    "DefilipeCellDensityData                                                   "
   ]
  },
  {
   "cell_type": "code",
   "execution_count": null,
   "metadata": {},
   "outputs": [],
   "source": [
    "CellDensityValidation(data=DefilipeCellDensityData)(\n",
    "    ActuallyAnO1AtlasAdapter(\"/gpfs/bbp.cscs.ch/project/proj64/dissemination/data/O1/mean_O1/\"))"
   ]
  },
  {
   "cell_type": "code",
   "execution_count": null,
   "metadata": {},
   "outputs": [],
   "source": [
    "# test that CellDensityValidation's interface raises the right kind of error\n",
    "class Amethodlessclass:\n",
    "    pass\n",
    "CellDensityValidation(data=example_cell_density_data)(Amethodlessclass())\n",
    "# it doesn't work"
   ]
  },
  {
   "cell_type": "code",
   "execution_count": null,
   "metadata": {},
   "outputs": [],
   "source": []
  }
 ],
 "metadata": {
  "kernelspec": {
   "display_name": "Python 3",
   "language": "python",
   "name": "python3"
  },
  "language_info": {
   "codemirror_mode": {
    "name": "ipython",
    "version": 3
   },
   "file_extension": ".py",
   "mimetype": "text/x-python",
   "name": "python",
   "nbconvert_exporter": "python",
   "pygments_lexer": "ipython3",
   "version": "3.5.2"
  }
 },
 "nbformat": 4,
 "nbformat_minor": 2
}
