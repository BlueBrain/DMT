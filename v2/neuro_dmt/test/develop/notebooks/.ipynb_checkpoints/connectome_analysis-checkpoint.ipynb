{
 "cells": [
  {
   "cell_type": "markdown",
   "metadata": {
    "ExecuteTime": {
     "end_time": "2019-06-13T15:04:13.731993Z",
     "start_time": "2019-06-13T15:04:13.712494Z"
    }
   },
   "source": [
    "# Test develop connectome analyses.\n",
    "\n",
    "We develop the analyses and the (BBP) adapter together.\n",
    "In this notebook we will prototype the adapter,\n",
    "while developing the analyses in an editory."
   ]
  },
  {
   "cell_type": "code",
   "execution_count": 9,
   "metadata": {
    "ExecuteTime": {
     "end_time": "2019-06-18T07:42:51.826437Z",
     "start_time": "2019-06-18T07:42:51.820052Z"
    },
    "collapsed": true
   },
   "outputs": [],
   "source": [
    "import os\n",
    "import numpy as np\n",
    "import pandas as pd\n",
    "from neuro_dmt.analysis.circuit.connectome import *\n",
    "os.environ[\"LOGLEVEL\"] = \"PROD\""
   ]
  },
  {
   "cell_type": "code",
   "execution_count": null,
   "metadata": {
    "ExecuteTime": {
     "end_time": "2019-06-17T13:06:14.481651Z",
     "start_time": "2019-06-17T13:06:14.473891Z"
    },
    "collapsed": true
   },
   "outputs": [],
   "source": [
    "from dmt.model.adapter import adapts\n",
    "from dmt.model.interface import implements\n",
    "\n",
    "@adapts()\n",
    "class BlueBrainCircuitAdapter:"
   ]
  },
  {
   "cell_type": "markdown",
   "metadata": {},
   "source": [
    "To test our code, and to explain our analysis, we will construct a simple example. \n",
    "The analysis code in ```PathwayConnectionProbabilityAnalysis``` expects a dataframe described in the test below:"
   ]
  },
  {
   "cell_type": "code",
   "execution_count": null,
   "metadata": {
    "ExecuteTime": {
     "end_time": "2019-06-13T20:14:01.928168Z",
     "start_time": "2019-06-13T20:14:01.921268Z"
    },
    "collapsed": true
   },
   "outputs": [],
   "source": [
    "def test_measurement_conn_prob(dataframe):\n",
    "    \"\"\"\n",
    "    Is dataframe good as connection probability measurement?\n",
    "    \"\"\"\n",
    "    assert isinstance(dataframe.index, pd.MultiIndex),\\\n",
    "        \"\"\"\n",
    "        Connection Probability measurement dataframe should have a \n",
    "        MultiIndex. We got: {}\n",
    "        \"\"\".format(dataframe.index)\n",
    "    assert (\"mean\" in dataframe.columns or \n",
    "            \"connection_probability\" in dataframe.columns or\n",
    "            \"connprob\" in dataframe.columns)\n",
    "            \n",
    "    "
   ]
  },
  {
   "cell_type": "code",
   "execution_count": null,
   "metadata": {
    "ExecuteTime": {
     "end_time": "2019-06-13T20:25:01.253679Z",
     "start_time": "2019-06-13T20:25:01.239568Z"
    },
    "collapsed": true
   },
   "outputs": [],
   "source": [
    "df = pd.DataFrame([\n",
    "    {\"pre_mtype\": \"L1_BC\",\n",
    "     \"post_mtype\": \"L1_SBC\",\n",
    "     \"mean\": 0.01},\n",
    "    {\"pre_mtype\": \"L1_BC\",\n",
    "     \"post_mtype\": \"L1_PC\",\n",
    "     \"mean\": 0.03},\n",
    "    {\"pre_mtype\": \"L1_PC\",\n",
    "     \"post_mtype\": \"L1_PC\",\n",
    "     \"mean\": 0.1}])\\\n",
    "    .set_index([\"pre_mtype\", \"post_mtype\"])"
   ]
  },
  {
   "cell_type": "code",
   "execution_count": null,
   "metadata": {
    "ExecuteTime": {
     "end_time": "2019-06-13T20:25:03.199448Z",
     "start_time": "2019-06-13T20:25:03.184805Z"
    },
    "collapsed": true
   },
   "outputs": [],
   "source": [
    "df"
   ]
  },
  {
   "cell_type": "code",
   "execution_count": null,
   "metadata": {
    "ExecuteTime": {
     "end_time": "2019-06-13T20:25:14.840900Z",
     "start_time": "2019-06-13T20:25:14.833905Z"
    },
    "collapsed": true
   },
   "outputs": [],
   "source": [
    "df.index.values"
   ]
  },
  {
   "cell_type": "markdown",
   "metadata": {},
   "source": [
    "## Test circuit: Cell paper circuit\n",
    "\n",
    "We have generated an instance of the cell paper circuit, that we will use to\n",
    "test our connectome analyses."
   ]
  },
  {
   "cell_type": "code",
   "execution_count": 2,
   "metadata": {
    "ExecuteTime": {
     "end_time": "2019-06-17T14:37:11.598252Z",
     "start_time": "2019-06-17T14:37:11.142131Z"
    },
    "collapsed": true
   },
   "outputs": [],
   "source": [
    "from bluepy.v2.circuit import Circuit\n",
    "project =\\\n",
    "    os.path.join(\n",
    "        \"/gpfs\", \"bbp.cscs.ch\", \"project\")\n",
    "proj82 =\\\n",
    "    os.path.join(\n",
    "        project, \"proj82\")\n",
    "cell_paper_circuit_config =\\\n",
    "    os.path.join(\n",
    "        proj82, \"issues\", \"BBPP82-78\", \"CircuitConfig\")                 \n",
    "cell_paper_circuit = Circuit(cell_paper_circuit_config)"
   ]
  },
  {
   "cell_type": "code",
   "execution_count": 4,
   "metadata": {
    "ExecuteTime": {
     "end_time": "2019-06-17T14:37:13.270024Z",
     "start_time": "2019-06-17T14:37:12.898115Z"
    },
    "collapsed": true
   },
   "outputs": [],
   "source": [
    "cells = cell_paper_circuit.cells.get()"
   ]
  },
  {
   "cell_type": "code",
   "execution_count": 5,
   "metadata": {
    "ExecuteTime": {
     "end_time": "2019-06-17T14:37:13.517441Z",
     "start_time": "2019-06-17T14:37:13.494230Z"
    }
   },
   "outputs": [
    {
     "data": {
      "text/plain": [
       "layer\n",
       "1     2374\n",
       "2    23881\n",
       "3    28748\n",
       "4    32641\n",
       "5    42771\n",
       "6    89007\n",
       "dtype: int64"
      ]
     },
     "execution_count": 5,
     "metadata": {},
     "output_type": "execute_result"
    }
   ],
   "source": [
    "cells.groupby(\"layer\").agg(\"size\")"
   ]
  },
  {
   "cell_type": "code",
   "execution_count": 7,
   "metadata": {
    "ExecuteTime": {
     "end_time": "2019-06-17T14:37:20.727944Z",
     "start_time": "2019-06-17T14:37:20.724896Z"
    },
    "collapsed": true
   },
   "outputs": [],
   "source": [
    "conn = cell_paper_circuit.connectome"
   ]
  },
  {
   "cell_type": "code",
   "execution_count": 8,
   "metadata": {
    "ExecuteTime": {
     "end_time": "2019-06-17T14:37:35.388412Z",
     "start_time": "2019-06-17T14:37:34.966180Z"
    }
   },
   "outputs": [
    {
     "data": {
      "text/plain": [
       "array([   128,    300,   1424,   2033,   2078,   2504,   3747,   6771,\n",
       "         7386,  24836,  65203,  65240,  67453,  96061, 105957], dtype=uint64)"
      ]
     },
     "execution_count": 8,
     "metadata": {},
     "output_type": "execute_result"
    }
   ],
   "source": [
    "conn.afferent_gids(1)"
   ]
  },
  {
   "cell_type": "markdown",
   "metadata": {},
   "source": [
    "Analysis will be easier to develop. We will convert a dataframe of the form \n",
    "discussed above to a matrix and then to a heat-map. The harder part is to \n",
    "develop the analysis. For the analysis we will need to compute probability that \n",
    "two neurons of given mtypes (pre --> post) are connected. This probability will \n",
    "depend on distance. So we can express the probability as\n",
    "$$\n",
    "Prob[X \\sim Y \\ |\n",
    "\\ mtype_X == mtype_{pre} \\  \\land\n",
    "\\  mtype_Y == mtype_{post} \\  \\land\n",
    "\\  distance(X, Y) <= D]\n",
    "$$\n",
    "\n",
    "## Mock Data\n",
    "For the purposes of analysis, we may as well consider that the circuit is two \n",
    "data-frames: cell, and connectome data-frames. After all, except for a single \n",
    "exception, all our queries on the circuit will return either an array, or a \n",
    "pandas data-frame. One whole cell or connectome data-frame will contain several \n",
    "columns.\n",
    "\n",
    "Let us consider the data we need to proceed with our analysis. The circuit \n",
    "provides cell gids, and each's cell's properties. Cell properties relevant to\n",
    "our analysis are a cell's\n",
    "1. MTYPE\n",
    "2. Positions X, Y, Z\n",
    "From the circuit connectome, for each cell (gid) we can retreive its afferent or\n",
    "efferent cell (gids). For distance dependent connection probability that should be \n",
    "enough.\n",
    "\n",
    "We will use a subset of mtypes."
   ]
  },
  {
   "cell_type": "code",
   "execution_count": null,
   "metadata": {
    "ExecuteTime": {
     "end_time": "2019-06-14T13:25:49.870765Z",
     "start_time": "2019-06-14T13:25:49.866691Z"
    },
    "collapsed": true
   },
   "outputs": [],
   "source": [
    "mtypes_test =[\n",
    "    'L1_NGC-SA'\n",
    "    'L1_SAC'\n",
    "    'L23_NBC'\n",
    "    'L2_TPC:A'\n",
    "    'L4_NBC'\n",
    "    'L4_SSC'\n",
    "    'L4_UPC'\n",
    "    'L5_TPC:B'\n",
    "    'L5_TPC:C'\n",
    "    'L6_CHC'\n",
    "    'L6_DBC'\n",
    "    'L6_NGC'\n",
    "    'L6_SBC'\n",
    "    'L6_TPC:A'\n",
    "    'L6_TPC:C'\n",
    "    'L6_UPC']"
   ]
  },
  {
   "cell_type": "markdown",
   "metadata": {},
   "source": [
    "For cell positions, let us model the brain circuit as a cuboid --- the simplest \n",
    "geometry for computation."
   ]
  },
  {
   "cell_type": "code",
   "execution_count": null,
   "metadata": {
    "ExecuteTime": {
     "end_time": "2019-06-14T14:16:50.883347Z",
     "start_time": "2019-06-14T14:16:50.874993Z"
    },
    "code_folding": [
     5
    ],
    "collapsed": true
   },
   "outputs": [],
   "source": [
    "from dmt.tk.field import Field, WithFields\n",
    "\n",
    "\n",
    "class MockCells(WithFields):\n",
    "\n",
    "class MockCircuit(WithFields):\n",
    "    \"\"\"\n",
    "    A cortical column in the shape of a cuboid. \n",
    "    The layers are stacked along the Y-axis.\n",
    "    \"\"\"\n",
    "    layer_thicknesses = Field(\n",
    "        \"\"\"\n",
    "        A dict mapping layer index to its thickness.\n",
    "        Thickness will be measured in micro-meters.\n",
    "        \"\"\")\n",
    "    column_width = Field(\n",
    "        \"\"\"\n",
    "        Length of the side of the base of the cortical column.\n",
    "        The base will be a square.\n",
    "        \"\"\")\n",
    "    \n",
    "    def __init__(self, *args, **kwargs):\n",
    "        \"\"\"\n",
    "        Initialize required attributes to None, \n",
    "        and lazy load them.\n",
    "        \"\"\"\n",
    "        self._cells = None\n",
    "        self._connectome = None\n",
    "        \n",
    "    @property\n",
    "    def cells()\n",
    "    "
   ]
  },
  {
   "cell_type": "code",
   "execution_count": null,
   "metadata": {
    "ExecuteTime": {
     "end_time": "2019-06-14T14:12:57.924532Z",
     "start_time": "2019-06-14T14:12:57.912733Z"
    },
    "collapsed": true
   },
   "outputs": [],
   "source": []
  },
  {
   "cell_type": "markdown",
   "metadata": {
    "collapsed": true
   },
   "source": [
    "# Playground\n",
    "Where we play around with ideas."
   ]
  },
  {
   "cell_type": "code",
   "execution_count": null,
   "metadata": {
    "ExecuteTime": {
     "end_time": "2019-06-14T15:39:39.170096Z",
     "start_time": "2019-06-14T15:39:39.158134Z"
    },
    "collapsed": true
   },
   "outputs": [],
   "source": [
    "from collections import OrderedDict\n",
    "class OrderedFieldMeta(type):\n",
    "    \"\"\"\n",
    "    A class whose attributes will be ordered\n",
    "    \"\"\"\n",
    "    @classmethod\n",
    "    def __prepare__(mcs, name, bases):\n",
    "        \"\"\"\n",
    "        Prepare to build a class.\n",
    "        \"\"\"\n",
    "        print(\"prepare to build {} with {}\".format(name, mcs))\n",
    "        return OrderedDict()\n",
    "    \n",
    "    def __new__(mcs, name, bases, namespace):\n",
    "        \"\"\"\n",
    "        Construct a class.\n",
    "        \"\"\"\n",
    "        print(\"Construct a class {} with attributes in {}\"\\\n",
    "              .format(name, namespace.__class__.__name__))\n",
    "        print(\"It will have attributes: {}\"\\\n",
    "              .format(namespace))\n",
    "        return super().__new__(mcs, name, bases, namespace)"
   ]
  },
  {
   "cell_type": "code",
   "execution_count": null,
   "metadata": {
    "ExecuteTime": {
     "end_time": "2019-06-14T15:39:39.850122Z",
     "start_time": "2019-06-14T15:39:39.843211Z"
    },
    "collapsed": true
   },
   "outputs": [],
   "source": [
    "from dmt.tk.field import Field, WithFields\n",
    "class A(metaclass=OrderedFieldMeta):\n",
    "    \"\"\"\n",
    "    A class with ordered fields\n",
    "    \"\"\"\n",
    "    a = 1\n",
    "    b = 2\n",
    "    c = 3"
   ]
  },
  {
   "cell_type": "code",
   "execution_count": null,
   "metadata": {
    "ExecuteTime": {
     "end_time": "2019-06-14T15:39:43.993154Z",
     "start_time": "2019-06-14T15:39:43.987456Z"
    },
    "collapsed": true
   },
   "outputs": [],
   "source": [
    "A.a"
   ]
  },
  {
   "cell_type": "code",
   "execution_count": 10,
   "metadata": {
    "ExecuteTime": {
     "end_time": "2019-06-18T07:43:21.252009Z",
     "start_time": "2019-06-18T07:43:21.242331Z"
    },
    "collapsed": true
   },
   "outputs": [],
   "source": [
    "from neuro_dmt.models.bluebrain.circuit.mock import test_develop"
   ]
  },
  {
   "cell_type": "code",
   "execution_count": 11,
   "metadata": {
    "ExecuteTime": {
     "end_time": "2019-06-18T07:43:25.808654Z",
     "start_time": "2019-06-18T07:43:22.142542Z"
    },
    "collapsed": true
   },
   "outputs": [],
   "source": [
    "df = test_develop.get_test_circuit_composition()"
   ]
  },
  {
   "cell_type": "code",
   "execution_count": 12,
   "metadata": {
    "ExecuteTime": {
     "end_time": "2019-06-18T07:43:25.876215Z",
     "start_time": "2019-06-18T07:43:25.860597Z"
    }
   },
   "outputs": [
    {
     "data": {
      "text/html": [
       "<div>\n",
       "<style>\n",
       "    .dataframe thead tr:only-child th {\n",
       "        text-align: right;\n",
       "    }\n",
       "\n",
       "    .dataframe thead th {\n",
       "        text-align: left;\n",
       "    }\n",
       "\n",
       "    .dataframe tbody tr th {\n",
       "        vertical-align: top;\n",
       "    }\n",
       "</style>\n",
       "<table border=\"1\" class=\"dataframe\">\n",
       "  <thead>\n",
       "    <tr style=\"text-align: right;\">\n",
       "      <th></th>\n",
       "      <th>error</th>\n",
       "      <th>mean</th>\n",
       "    </tr>\n",
       "    <tr>\n",
       "      <th>mtype</th>\n",
       "      <th></th>\n",
       "      <th></th>\n",
       "    </tr>\n",
       "  </thead>\n",
       "  <tbody>\n",
       "    <tr>\n",
       "      <th>L1_DAC</th>\n",
       "      <td>0.0</td>\n",
       "      <td>0.000000</td>\n",
       "    </tr>\n",
       "    <tr>\n",
       "      <th>L1_DLAC</th>\n",
       "      <td>0.0</td>\n",
       "      <td>0.000000</td>\n",
       "    </tr>\n",
       "    <tr>\n",
       "      <th>L1_HAC</th>\n",
       "      <td>0.0</td>\n",
       "      <td>0.000000</td>\n",
       "    </tr>\n",
       "    <tr>\n",
       "      <th>L1_NGC-DA</th>\n",
       "      <td>0.0</td>\n",
       "      <td>0.000000</td>\n",
       "    </tr>\n",
       "    <tr>\n",
       "      <th>L1_NGC-SA</th>\n",
       "      <td>0.0</td>\n",
       "      <td>0.000000</td>\n",
       "    </tr>\n",
       "    <tr>\n",
       "      <th>L1_SLAC</th>\n",
       "      <td>0.0</td>\n",
       "      <td>0.000000</td>\n",
       "    </tr>\n",
       "    <tr>\n",
       "      <th>L23_BP</th>\n",
       "      <td>0.0</td>\n",
       "      <td>0.000000</td>\n",
       "    </tr>\n",
       "    <tr>\n",
       "      <th>L23_BTC</th>\n",
       "      <td>0.0</td>\n",
       "      <td>0.000000</td>\n",
       "    </tr>\n",
       "    <tr>\n",
       "      <th>L23_ChC</th>\n",
       "      <td>0.0</td>\n",
       "      <td>0.000000</td>\n",
       "    </tr>\n",
       "    <tr>\n",
       "      <th>L23_DBC</th>\n",
       "      <td>0.0</td>\n",
       "      <td>0.000000</td>\n",
       "    </tr>\n",
       "    <tr>\n",
       "      <th>L23_LBC</th>\n",
       "      <td>0.0</td>\n",
       "      <td>0.000000</td>\n",
       "    </tr>\n",
       "    <tr>\n",
       "      <th>L23_MC</th>\n",
       "      <td>0.0</td>\n",
       "      <td>0.000000</td>\n",
       "    </tr>\n",
       "    <tr>\n",
       "      <th>L23_NBC</th>\n",
       "      <td>0.0</td>\n",
       "      <td>0.000000</td>\n",
       "    </tr>\n",
       "    <tr>\n",
       "      <th>L23_NGC</th>\n",
       "      <td>0.0</td>\n",
       "      <td>0.000000</td>\n",
       "    </tr>\n",
       "    <tr>\n",
       "      <th>L23_PC</th>\n",
       "      <td>0.0</td>\n",
       "      <td>0.000000</td>\n",
       "    </tr>\n",
       "    <tr>\n",
       "      <th>L23_SBC</th>\n",
       "      <td>0.0</td>\n",
       "      <td>0.000000</td>\n",
       "    </tr>\n",
       "    <tr>\n",
       "      <th>L4_BP</th>\n",
       "      <td>0.0</td>\n",
       "      <td>0.000000</td>\n",
       "    </tr>\n",
       "    <tr>\n",
       "      <th>L4_BTC</th>\n",
       "      <td>0.0</td>\n",
       "      <td>0.000000</td>\n",
       "    </tr>\n",
       "    <tr>\n",
       "      <th>L4_ChC</th>\n",
       "      <td>0.0</td>\n",
       "      <td>0.000000</td>\n",
       "    </tr>\n",
       "    <tr>\n",
       "      <th>L4_DBC</th>\n",
       "      <td>0.0</td>\n",
       "      <td>0.000000</td>\n",
       "    </tr>\n",
       "    <tr>\n",
       "      <th>L4_LBC</th>\n",
       "      <td>0.0</td>\n",
       "      <td>0.000000</td>\n",
       "    </tr>\n",
       "    <tr>\n",
       "      <th>L4_MC</th>\n",
       "      <td>0.0</td>\n",
       "      <td>0.000000</td>\n",
       "    </tr>\n",
       "    <tr>\n",
       "      <th>L4_NBC</th>\n",
       "      <td>0.0</td>\n",
       "      <td>0.000000</td>\n",
       "    </tr>\n",
       "    <tr>\n",
       "      <th>L4_NGC</th>\n",
       "      <td>0.0</td>\n",
       "      <td>0.000000</td>\n",
       "    </tr>\n",
       "    <tr>\n",
       "      <th>L4_PC</th>\n",
       "      <td>0.0</td>\n",
       "      <td>0.000000</td>\n",
       "    </tr>\n",
       "    <tr>\n",
       "      <th>L4_SBC</th>\n",
       "      <td>0.0</td>\n",
       "      <td>0.000000</td>\n",
       "    </tr>\n",
       "    <tr>\n",
       "      <th>L4_SP</th>\n",
       "      <td>0.0</td>\n",
       "      <td>0.000000</td>\n",
       "    </tr>\n",
       "    <tr>\n",
       "      <th>L4_SS</th>\n",
       "      <td>0.0</td>\n",
       "      <td>0.000000</td>\n",
       "    </tr>\n",
       "    <tr>\n",
       "      <th>L5_BP</th>\n",
       "      <td>0.0</td>\n",
       "      <td>1837.736556</td>\n",
       "    </tr>\n",
       "    <tr>\n",
       "      <th>L5_BTC</th>\n",
       "      <td>0.0</td>\n",
       "      <td>1837.736556</td>\n",
       "    </tr>\n",
       "    <tr>\n",
       "      <th>L5_ChC</th>\n",
       "      <td>0.0</td>\n",
       "      <td>1837.736556</td>\n",
       "    </tr>\n",
       "    <tr>\n",
       "      <th>L5_DBC</th>\n",
       "      <td>0.0</td>\n",
       "      <td>1837.736556</td>\n",
       "    </tr>\n",
       "    <tr>\n",
       "      <th>L5_LBC</th>\n",
       "      <td>0.0</td>\n",
       "      <td>1837.736556</td>\n",
       "    </tr>\n",
       "    <tr>\n",
       "      <th>L5_MC</th>\n",
       "      <td>0.0</td>\n",
       "      <td>1837.736556</td>\n",
       "    </tr>\n",
       "    <tr>\n",
       "      <th>L5_NBC</th>\n",
       "      <td>0.0</td>\n",
       "      <td>1837.736556</td>\n",
       "    </tr>\n",
       "    <tr>\n",
       "      <th>L5_NGC</th>\n",
       "      <td>0.0</td>\n",
       "      <td>1837.736556</td>\n",
       "    </tr>\n",
       "    <tr>\n",
       "      <th>L5_SBC</th>\n",
       "      <td>0.0</td>\n",
       "      <td>1837.736556</td>\n",
       "    </tr>\n",
       "    <tr>\n",
       "      <th>L5_STPC</th>\n",
       "      <td>0.0</td>\n",
       "      <td>20385.092749</td>\n",
       "    </tr>\n",
       "    <tr>\n",
       "      <th>L5_TTPC1</th>\n",
       "      <td>0.0</td>\n",
       "      <td>20385.092749</td>\n",
       "    </tr>\n",
       "    <tr>\n",
       "      <th>L5_TTPC2</th>\n",
       "      <td>0.0</td>\n",
       "      <td>20385.092749</td>\n",
       "    </tr>\n",
       "    <tr>\n",
       "      <th>L5_UTPC</th>\n",
       "      <td>0.0</td>\n",
       "      <td>20385.092749</td>\n",
       "    </tr>\n",
       "    <tr>\n",
       "      <th>L6_BP</th>\n",
       "      <td>0.0</td>\n",
       "      <td>0.000000</td>\n",
       "    </tr>\n",
       "    <tr>\n",
       "      <th>L6_BPC</th>\n",
       "      <td>0.0</td>\n",
       "      <td>0.000000</td>\n",
       "    </tr>\n",
       "    <tr>\n",
       "      <th>L6_BTC</th>\n",
       "      <td>0.0</td>\n",
       "      <td>0.000000</td>\n",
       "    </tr>\n",
       "    <tr>\n",
       "      <th>L6_ChC</th>\n",
       "      <td>0.0</td>\n",
       "      <td>0.000000</td>\n",
       "    </tr>\n",
       "    <tr>\n",
       "      <th>L6_DBC</th>\n",
       "      <td>0.0</td>\n",
       "      <td>0.000000</td>\n",
       "    </tr>\n",
       "    <tr>\n",
       "      <th>L6_IPC</th>\n",
       "      <td>0.0</td>\n",
       "      <td>0.000000</td>\n",
       "    </tr>\n",
       "    <tr>\n",
       "      <th>L6_LBC</th>\n",
       "      <td>0.0</td>\n",
       "      <td>0.000000</td>\n",
       "    </tr>\n",
       "    <tr>\n",
       "      <th>L6_MC</th>\n",
       "      <td>0.0</td>\n",
       "      <td>0.000000</td>\n",
       "    </tr>\n",
       "    <tr>\n",
       "      <th>L6_NBC</th>\n",
       "      <td>0.0</td>\n",
       "      <td>0.000000</td>\n",
       "    </tr>\n",
       "    <tr>\n",
       "      <th>L6_NGC</th>\n",
       "      <td>0.0</td>\n",
       "      <td>0.000000</td>\n",
       "    </tr>\n",
       "    <tr>\n",
       "      <th>L6_SBC</th>\n",
       "      <td>0.0</td>\n",
       "      <td>0.000000</td>\n",
       "    </tr>\n",
       "    <tr>\n",
       "      <th>L6_TPC_L1</th>\n",
       "      <td>0.0</td>\n",
       "      <td>0.000000</td>\n",
       "    </tr>\n",
       "    <tr>\n",
       "      <th>L6_TPC_L4</th>\n",
       "      <td>0.0</td>\n",
       "      <td>0.000000</td>\n",
       "    </tr>\n",
       "    <tr>\n",
       "      <th>L6_UTPC</th>\n",
       "      <td>0.0</td>\n",
       "      <td>0.000000</td>\n",
       "    </tr>\n",
       "  </tbody>\n",
       "</table>\n",
       "</div>"
      ],
      "text/plain": [
       "           error          mean\n",
       "mtype                         \n",
       "L1_DAC       0.0      0.000000\n",
       "L1_DLAC      0.0      0.000000\n",
       "L1_HAC       0.0      0.000000\n",
       "L1_NGC-DA    0.0      0.000000\n",
       "L1_NGC-SA    0.0      0.000000\n",
       "L1_SLAC      0.0      0.000000\n",
       "L23_BP       0.0      0.000000\n",
       "L23_BTC      0.0      0.000000\n",
       "L23_ChC      0.0      0.000000\n",
       "L23_DBC      0.0      0.000000\n",
       "L23_LBC      0.0      0.000000\n",
       "L23_MC       0.0      0.000000\n",
       "L23_NBC      0.0      0.000000\n",
       "L23_NGC      0.0      0.000000\n",
       "L23_PC       0.0      0.000000\n",
       "L23_SBC      0.0      0.000000\n",
       "L4_BP        0.0      0.000000\n",
       "L4_BTC       0.0      0.000000\n",
       "L4_ChC       0.0      0.000000\n",
       "L4_DBC       0.0      0.000000\n",
       "L4_LBC       0.0      0.000000\n",
       "L4_MC        0.0      0.000000\n",
       "L4_NBC       0.0      0.000000\n",
       "L4_NGC       0.0      0.000000\n",
       "L4_PC        0.0      0.000000\n",
       "L4_SBC       0.0      0.000000\n",
       "L4_SP        0.0      0.000000\n",
       "L4_SS        0.0      0.000000\n",
       "L5_BP        0.0   1837.736556\n",
       "L5_BTC       0.0   1837.736556\n",
       "L5_ChC       0.0   1837.736556\n",
       "L5_DBC       0.0   1837.736556\n",
       "L5_LBC       0.0   1837.736556\n",
       "L5_MC        0.0   1837.736556\n",
       "L5_NBC       0.0   1837.736556\n",
       "L5_NGC       0.0   1837.736556\n",
       "L5_SBC       0.0   1837.736556\n",
       "L5_STPC      0.0  20385.092749\n",
       "L5_TTPC1     0.0  20385.092749\n",
       "L5_TTPC2     0.0  20385.092749\n",
       "L5_UTPC      0.0  20385.092749\n",
       "L6_BP        0.0      0.000000\n",
       "L6_BPC       0.0      0.000000\n",
       "L6_BTC       0.0      0.000000\n",
       "L6_ChC       0.0      0.000000\n",
       "L6_DBC       0.0      0.000000\n",
       "L6_IPC       0.0      0.000000\n",
       "L6_LBC       0.0      0.000000\n",
       "L6_MC        0.0      0.000000\n",
       "L6_NBC       0.0      0.000000\n",
       "L6_NGC       0.0      0.000000\n",
       "L6_SBC       0.0      0.000000\n",
       "L6_TPC_L1    0.0      0.000000\n",
       "L6_TPC_L4    0.0      0.000000\n",
       "L6_UTPC      0.0      0.000000"
      ]
     },
     "execution_count": 12,
     "metadata": {},
     "output_type": "execute_result"
    }
   ],
   "source": [
    "df.xs(5, level=\"layer\")"
   ]
  },
  {
   "cell_type": "code",
   "execution_count": 9,
   "metadata": {
    "ExecuteTime": {
     "end_time": "2019-06-17T13:19:38.870988Z",
     "start_time": "2019-06-17T13:19:38.864271Z"
    }
   },
   "outputs": [
    {
     "data": {
      "text/plain": [
       "error         0.0\n",
       "mean     131561.0\n",
       "dtype: float64"
      ]
     },
     "execution_count": 9,
     "metadata": {},
     "output_type": "execute_result"
    }
   ],
   "source": [
    "df.xs(2, level=\"layer\").sum()"
   ]
  },
  {
   "cell_type": "code",
   "execution_count": 12,
   "metadata": {
    "ExecuteTime": {
     "end_time": "2019-06-17T13:18:01.414928Z",
     "start_time": "2019-06-17T13:18:01.410090Z"
    }
   },
   "outputs": [
    {
     "data": {
      "text/plain": [
       "2"
      ]
     },
     "execution_count": 12,
     "metadata": {},
     "output_type": "execute_result"
    }
   ],
   "source": [
    "sum(n % 2 == 0 for n in range(4))"
   ]
  },
  {
   "cell_type": "code",
   "execution_count": 11,
   "metadata": {
    "ExecuteTime": {
     "end_time": "2019-06-17T13:58:03.968069Z",
     "start_time": "2019-06-17T13:58:03.964280Z"
    },
    "collapsed": true
   },
   "outputs": [],
   "source": [
    "def ei_ratio(i, t):\n",
    "    i = (1. * i) / t\n",
    "    return (1. - i) / i"
   ]
  },
  {
   "cell_type": "code",
   "execution_count": 12,
   "metadata": {
    "ExecuteTime": {
     "end_time": "2019-06-17T13:58:04.468074Z",
     "start_time": "2019-06-17T13:58:04.460800Z"
    }
   },
   "outputs": [
    {
     "name": "stdout",
     "output_type": "stream",
     "text": [
      "2.5454545454545454\n",
      "5.631578947368421\n",
      "9.55\n",
      "4.933333333333334\n",
      "9.486486486486488\n"
     ]
    }
   ],
   "source": [
    "print(ei_ratio(22., 78.))\n",
    "print(ei_ratio(38, 252))\n",
    "print(ei_ratio(20, 211))\n",
    "print(ei_ratio(45, 267))\n",
    "print(ei_ratio(37, 388))"
   ]
  },
  {
   "cell_type": "code",
   "execution_count": 13,
   "metadata": {
    "ExecuteTime": {
     "end_time": "2019-06-18T12:56:56.408720Z",
     "start_time": "2019-06-18T12:56:56.345686Z"
    }
   },
   "outputs": [],
   "source": [
    "import yaml\n",
    "rat_data_file =\\\n",
    "    os.path.join(\n",
    "    \"/Users/vishalsoodmuchu/work/bbp/work/validations/\",\n",
    "    \"dmt/examples/datasets/cortex/sscx/rat/composition/\",\n",
    "    \"cell_density/DeFelipe2017.yaml\")\n",
    "with open(\"\")\n",
    "rats = yaml."
   ]
  },
  {
   "cell_type": "code",
   "execution_count": null,
   "metadata": {
    "collapsed": true
   },
   "outputs": [],
   "source": []
  }
 ],
 "metadata": {
  "kernelspec": {
   "display_name": "Python 3",
   "language": "python",
   "name": "python3"
  },
  "language_info": {
   "codemirror_mode": {
    "name": "ipython",
    "version": 3
   },
   "file_extension": ".py",
   "mimetype": "text/x-python",
   "name": "python",
   "nbconvert_exporter": "python",
   "pygments_lexer": "ipython3",
   "version": "3.6.3"
  },
  "toc": {
   "base_numbering": 1,
   "nav_menu": {},
   "number_sections": true,
   "sideBar": true,
   "skip_h1_title": false,
   "title_cell": "Table of Contents",
   "title_sidebar": "Contents",
   "toc_cell": false,
   "toc_position": {},
   "toc_section_display": true,
   "toc_window_display": false
  },
  "varInspector": {
   "cols": {
    "lenName": 16,
    "lenType": 16,
    "lenVar": 40
   },
   "kernels_config": {
    "python": {
     "delete_cmd_postfix": "",
     "delete_cmd_prefix": "del ",
     "library": "var_list.py",
     "varRefreshCmd": "print(var_dic_list())"
    },
    "r": {
     "delete_cmd_postfix": ") ",
     "delete_cmd_prefix": "rm(",
     "library": "var_list.r",
     "varRefreshCmd": "cat(var_dic_list()) "
    }
   },
   "types_to_exclude": [
    "module",
    "function",
    "builtin_function_or_method",
    "instance",
    "_Feature"
   ],
   "window_display": false
  }
 },
 "nbformat": 4,
 "nbformat_minor": 2
}
