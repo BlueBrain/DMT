{
 "cells": [
  {
   "cell_type": "markdown",
   "metadata": {
    "ExecuteTime": {
     "end_time": "2019-06-13T15:04:13.731993Z",
     "start_time": "2019-06-13T15:04:13.712494Z"
    }
   },
   "source": [
    "# Test develop connectome analyses.\n",
    "\n",
    "We develop the analyses and the (BBP) adapter together.\n",
    "In this notebook we will prototype the adapter,\n",
    "while developing the analyses in an editory."
   ]
  },
  {
   "cell_type": "code",
   "execution_count": 7,
   "metadata": {
    "ExecuteTime": {
     "end_time": "2019-06-13T19:58:16.057857Z",
     "start_time": "2019-06-13T19:58:15.740284Z"
    },
    "collapsed": true
   },
   "outputs": [],
   "source": [
    "import numpy as np\n",
    "import pandas as pd\n",
    "from neuro_dmt.analysis.circuit.connectome import *"
   ]
  },
  {
   "cell_type": "code",
   "execution_count": null,
   "metadata": {
    "collapsed": true
   },
   "outputs": [],
   "source": [
    "from dmt.model.adapter import adapts\n",
    "from dmt.model.interface import implements\n",
    "\n",
    "@adapts()\n",
    "class BlueBrainCircuitAdapter:"
   ]
  },
  {
   "cell_type": "markdown",
   "metadata": {},
   "source": [
    "To test our code, and to explain our analysis, we will construct a simple example. \n",
    "The analysis code in ```PathwayConnectionProbabilityAnalysis``` expects a dataframe described in the test below:"
   ]
  },
  {
   "cell_type": "code",
   "execution_count": 8,
   "metadata": {
    "ExecuteTime": {
     "end_time": "2019-06-13T20:14:01.928168Z",
     "start_time": "2019-06-13T20:14:01.921268Z"
    },
    "collapsed": true
   },
   "outputs": [],
   "source": [
    "def test_measurement_conn_prob(dataframe):\n",
    "    \"\"\"\n",
    "    Is dataframe good as connection probability measurement?\n",
    "    \"\"\"\n",
    "    assert isinstance(dataframe.index, pd.MultiIndex),\\\n",
    "        \"\"\"\n",
    "        Connection Probability measurement dataframe should have a \n",
    "        MultiIndex. We got: {}\n",
    "        \"\"\".format(dataframe.index)\n",
    "    assert (\"mean\" in dataframe.columns or \n",
    "            \"connection_probability\" in dataframe.columns or\n",
    "            \"connprob\" in dataframe.columns)\n",
    "            \n",
    "    "
   ]
  },
  {
   "cell_type": "code",
   "execution_count": 11,
   "metadata": {
    "ExecuteTime": {
     "end_time": "2019-06-13T20:25:01.253679Z",
     "start_time": "2019-06-13T20:25:01.239568Z"
    },
    "collapsed": true
   },
   "outputs": [],
   "source": [
    "df = pd.DataFrame([\n",
    "    {\"pre_mtype\": \"L1_BC\",\n",
    "     \"post_mtype\": \"L1_SBC\",\n",
    "     \"mean\": 0.01},\n",
    "    {\"pre_mtype\": \"L1_BC\",\n",
    "     \"post_mtype\": \"L1_PC\",\n",
    "     \"mean\": 0.03},\n",
    "    {\"pre_mtype\": \"L1_PC\",\n",
    "     \"post_mtype\": \"L1_PC\",\n",
    "     \"mean\": 0.1}])\\\n",
    "    .set_index([\"pre_mtype\", \"post_mtype\"])"
   ]
  },
  {
   "cell_type": "code",
   "execution_count": 12,
   "metadata": {
    "ExecuteTime": {
     "end_time": "2019-06-13T20:25:03.199448Z",
     "start_time": "2019-06-13T20:25:03.184805Z"
    }
   },
   "outputs": [
    {
     "data": {
      "text/html": [
       "<div>\n",
       "<style scoped>\n",
       "    .dataframe tbody tr th:only-of-type {\n",
       "        vertical-align: middle;\n",
       "    }\n",
       "\n",
       "    .dataframe tbody tr th {\n",
       "        vertical-align: top;\n",
       "    }\n",
       "\n",
       "    .dataframe thead th {\n",
       "        text-align: right;\n",
       "    }\n",
       "</style>\n",
       "<table border=\"1\" class=\"dataframe\">\n",
       "  <thead>\n",
       "    <tr style=\"text-align: right;\">\n",
       "      <th></th>\n",
       "      <th></th>\n",
       "      <th>mean</th>\n",
       "    </tr>\n",
       "    <tr>\n",
       "      <th>pre_mtype</th>\n",
       "      <th>post_mtype</th>\n",
       "      <th></th>\n",
       "    </tr>\n",
       "  </thead>\n",
       "  <tbody>\n",
       "    <tr>\n",
       "      <th rowspan=\"2\" valign=\"top\">L1_BC</th>\n",
       "      <th>L1_SBC</th>\n",
       "      <td>0.01</td>\n",
       "    </tr>\n",
       "    <tr>\n",
       "      <th>L1_PC</th>\n",
       "      <td>0.03</td>\n",
       "    </tr>\n",
       "    <tr>\n",
       "      <th>L1_PC</th>\n",
       "      <th>L1_PC</th>\n",
       "      <td>0.10</td>\n",
       "    </tr>\n",
       "  </tbody>\n",
       "</table>\n",
       "</div>"
      ],
      "text/plain": [
       "                      mean\n",
       "pre_mtype post_mtype      \n",
       "L1_BC     L1_SBC      0.01\n",
       "          L1_PC       0.03\n",
       "L1_PC     L1_PC       0.10"
      ]
     },
     "execution_count": 12,
     "metadata": {},
     "output_type": "execute_result"
    }
   ],
   "source": [
    "df"
   ]
  },
  {
   "cell_type": "code",
   "execution_count": 13,
   "metadata": {
    "ExecuteTime": {
     "end_time": "2019-06-13T20:25:14.840900Z",
     "start_time": "2019-06-13T20:25:14.833905Z"
    }
   },
   "outputs": [
    {
     "data": {
      "text/plain": [
       "array([('L1_BC', 'L1_SBC'), ('L1_BC', 'L1_PC'), ('L1_PC', 'L1_PC')],\n",
       "      dtype=object)"
      ]
     },
     "execution_count": 13,
     "metadata": {},
     "output_type": "execute_result"
    }
   ],
   "source": [
    "df.index.values"
   ]
  },
  {
   "cell_type": "markdown",
   "metadata": {},
   "source": [
    "Analysis will be easier to develop. We will convert a dataframe of the form \n",
    "discussed above to a matrix and then to a heat-map. The harder part is to \n",
    "develop the analysis. For the analysis we will need to compute probability that \n",
    "two neurons of given mtypes (pre --> post) are connected. This probability will \n",
    "depend on distance. So we can express the probability as\n",
    "$$\n",
    "Prob[X \\sim Y \\ |\n",
    "\\ mtype_X == mtype_{pre} \\  \\land\n",
    "\\  mtype_Y == mtype_{post} \\  \\land\n",
    "\\  distance(X, Y) <= D]\n",
    "$$\n",
    "\n",
    "## Mock Data\n",
    "For the purposes of analysis, we may as well consider that the circuit is two \n",
    "data-frames: cell, and connectome data-frames. After all, except for a single \n",
    "exception, all our queries on the circuit will return either an array, or a \n",
    "pandas data-frame. One whole cell or connectome data-frame will contain several \n",
    "columns.\n",
    "\n",
    "Let us consider the data we need to proceed with our analysis. The circuit \n",
    "provides cell gids, and each's cell's properties. Cell properties relevant to\n",
    "our analysis are a cell's\n",
    "1. MTYPE\n",
    "2. Positions X, Y, Z\n",
    "From the circuit connectome, for each cell (gid) we can retreive its afferent or\n",
    "efferent cell (gids). For distance dependent connection probability that should be \n",
    "enough.\n",
    "\n",
    "We will use a subset of mtypes."
   ]
  },
  {
   "cell_type": "code",
   "execution_count": 2,
   "metadata": {
    "ExecuteTime": {
     "end_time": "2019-06-14T13:25:49.870765Z",
     "start_time": "2019-06-14T13:25:49.866691Z"
    },
    "collapsed": true
   },
   "outputs": [],
   "source": [
    "mtypes_test =[\n",
    "    'L1_NGC-SA'\n",
    "    'L1_SAC'\n",
    "    'L23_NBC'\n",
    "    'L2_TPC:A'\n",
    "    'L4_NBC'\n",
    "    'L4_SSC'\n",
    "    'L4_UPC'\n",
    "    'L5_TPC:B'\n",
    "    'L5_TPC:C'\n",
    "    'L6_CHC'\n",
    "    'L6_DBC'\n",
    "    'L6_NGC'\n",
    "    'L6_SBC'\n",
    "    'L6_TPC:A'\n",
    "    'L6_TPC:C'\n",
    "    'L6_UPC']"
   ]
  },
  {
   "cell_type": "markdown",
   "metadata": {},
   "source": [
    "For cell positions, let us model the brain circuit as a cuboid --- the simplest \n",
    "geometry for computation."
   ]
  },
  {
   "cell_type": "code",
   "execution_count": 3,
   "metadata": {
    "ExecuteTime": {
     "end_time": "2019-06-14T14:16:50.883347Z",
     "start_time": "2019-06-14T14:16:50.874993Z"
    }
   },
   "outputs": [
    {
     "ename": "SyntaxError",
     "evalue": "unexpected EOF while parsing (<ipython-input-3-b711a93cf464>, line 20)",
     "output_type": "error",
     "traceback": [
      "\u001b[0;36m  File \u001b[0;32m\"<ipython-input-3-b711a93cf464>\"\u001b[0;36m, line \u001b[0;32m20\u001b[0m\n\u001b[0;31m    \u001b[0m\n\u001b[0m    ^\u001b[0m\n\u001b[0;31mSyntaxError\u001b[0m\u001b[0;31m:\u001b[0m unexpected EOF while parsing\n"
     ]
    }
   ],
   "source": [
    "from dmt.tk.field import Field, WithFields\n",
    "\n",
    "\n",
    "class MockCells(WithFields):\n",
    "\n",
    "class MockCircuit(WithFields):\n",
    "    \"\"\"\n",
    "    A cortical column in the shape of a cuboid. \n",
    "    The layers are stacked along the Y-axis.\n",
    "    \"\"\"\n",
    "    layer_thicknesses = Field(\n",
    "        \"\"\"\n",
    "        A dict mapping layer index to its thickness.\n",
    "        Thickness will be measured in micro-meters.\n",
    "        \"\"\")\n",
    "    column_width = Field(\n",
    "        \"\"\"\n",
    "        Length of the side of the base of the cortical column.\n",
    "        The base will be a square.\n",
    "        \"\"\")\n",
    "    \n",
    "    def __init__(self, *args, **kwargs):\n",
    "        \"\"\"\n",
    "        Initialize required attributes to None, \n",
    "        and lazy load them.\n",
    "        \"\"\"\n",
    "        self._cells = None\n",
    "        self._connectome = None\n",
    "        \n",
    "    @property\n",
    "    def cells()\n",
    "    "
   ]
  },
  {
   "cell_type": "code",
   "execution_count": 1,
   "metadata": {
    "ExecuteTime": {
     "end_time": "2019-06-14T14:12:57.924532Z",
     "start_time": "2019-06-14T14:12:57.912733Z"
    }
   },
   "outputs": [
    {
     "data": {
      "text/plain": [
       "['',\n",
       " '/Applications/NEURON-7.6/nrn/lib/python',\n",
       " '/Users/vishalsoodmuchu/work/bbp/work/validations/dmt/v2/neuro_dmt/test/develop/notebooks',\n",
       " '/Users/vishalsoodmuchu/work/bbp/work/validations/dmt/v2',\n",
       " '/User/vishalsoodmuchu/work/bbp/work/bluepy',\n",
       " '/Users/vishalsoodmuchu/work/bbp/work/journal',\n",
       " '/Users/vishalsoodmuchu/work/bbp/work/pod',\n",
       " '/Users/vishalsoodmuchu/anaconda3/lib/python36.zip',\n",
       " '/Users/vishalsoodmuchu/anaconda3/lib/python3.6',\n",
       " '/Users/vishalsoodmuchu/anaconda3/lib/python3.6/lib-dynload',\n",
       " '/Users/vishalsoodmuchu/anaconda3/lib/python3.6/site-packages',\n",
       " '/Users/vishalsoodmuchu/anaconda3/lib/python3.6/site-packages/aeosa',\n",
       " '/Users/vishalsoodmuchu/anaconda3/lib/python3.6/site-packages/IPython/extensions',\n",
       " '/Users/vishalsoodmuchu/.ipython']"
      ]
     },
     "execution_count": 1,
     "metadata": {},
     "output_type": "execute_result"
    }
   ],
   "source": []
  },
  {
   "cell_type": "markdown",
   "metadata": {
    "collapsed": true
   },
   "source": [
    "# Playground\n",
    "Where we play around with ideas."
   ]
  },
  {
   "cell_type": "code",
   "execution_count": 13,
   "metadata": {
    "ExecuteTime": {
     "end_time": "2019-06-14T15:39:39.170096Z",
     "start_time": "2019-06-14T15:39:39.158134Z"
    }
   },
   "outputs": [],
   "source": [
    "from collections import OrderedDict\n",
    "class OrderedFieldMeta(type):\n",
    "    \"\"\"\n",
    "    A class whose attributes will be ordered\n",
    "    \"\"\"\n",
    "    @classmethod\n",
    "    def __prepare__(mcs, name, bases):\n",
    "        \"\"\"\n",
    "        Prepare to build a class.\n",
    "        \"\"\"\n",
    "        print(\"prepare to build {} with {}\".format(name, mcs))\n",
    "        return OrderedDict()\n",
    "    \n",
    "    def __new__(mcs, name, bases, namespace):\n",
    "        \"\"\"\n",
    "        Construct a class.\n",
    "        \"\"\"\n",
    "        print(\"Construct a class {} with attributes in {}\"\\\n",
    "              .format(name, namespace.__class__.__name__))\n",
    "        print(\"It will have attributes: {}\"\\\n",
    "              .format(namespace))\n",
    "        return super().__new__(mcs, name, bases, namespace)"
   ]
  },
  {
   "cell_type": "code",
   "execution_count": 14,
   "metadata": {
    "ExecuteTime": {
     "end_time": "2019-06-14T15:39:39.850122Z",
     "start_time": "2019-06-14T15:39:39.843211Z"
    }
   },
   "outputs": [
    {
     "name": "stdout",
     "output_type": "stream",
     "text": [
      "prepare to build A with <class '__main__.OrderedFieldMeta'>\n",
      "Construct a class A with attributes in OrderedDict\n",
      "It will have attributes: OrderedDict([('__module__', '__main__'), ('__qualname__', 'A'), ('__doc__', '\\n    A class with ordered fields\\n    '), ('a', 1), ('b', 2), ('c', 3)])\n"
     ]
    }
   ],
   "source": [
    "from dmt.tk.field import Field, WithFields\n",
    "class A(metaclass=OrderedFieldMeta):\n",
    "    \"\"\"\n",
    "    A class with ordered fields\n",
    "    \"\"\"\n",
    "    a = 1\n",
    "    b = 2\n",
    "    c = 3"
   ]
  },
  {
   "cell_type": "code",
   "execution_count": 15,
   "metadata": {
    "ExecuteTime": {
     "end_time": "2019-06-14T15:39:43.993154Z",
     "start_time": "2019-06-14T15:39:43.987456Z"
    }
   },
   "outputs": [
    {
     "data": {
      "text/plain": [
       "1"
      ]
     },
     "execution_count": 15,
     "metadata": {},
     "output_type": "execute_result"
    }
   ],
   "source": [
    "A.a"
   ]
  },
  {
   "cell_type": "code",
   "execution_count": null,
   "metadata": {
    "collapsed": true
   },
   "outputs": [],
   "source": []
  }
 ],
 "metadata": {
  "kernelspec": {
   "display_name": "Python 3",
   "language": "python",
   "name": "python3"
  },
  "language_info": {
   "codemirror_mode": {
    "name": "ipython",
    "version": 3
   },
   "file_extension": ".py",
   "mimetype": "text/x-python",
   "name": "python",
   "nbconvert_exporter": "python",
   "pygments_lexer": "ipython3",
   "version": "3.6.3"
  },
  "toc": {
   "base_numbering": 1,
   "nav_menu": {},
   "number_sections": true,
   "sideBar": true,
   "skip_h1_title": false,
   "title_cell": "Table of Contents",
   "title_sidebar": "Contents",
   "toc_cell": false,
   "toc_position": {},
   "toc_section_display": true,
   "toc_window_display": false
  },
  "varInspector": {
   "cols": {
    "lenName": 16,
    "lenType": 16,
    "lenVar": 40
   },
   "kernels_config": {
    "python": {
     "delete_cmd_postfix": "",
     "delete_cmd_prefix": "del ",
     "library": "var_list.py",
     "varRefreshCmd": "print(var_dic_list())"
    },
    "r": {
     "delete_cmd_postfix": ") ",
     "delete_cmd_prefix": "rm(",
     "library": "var_list.r",
     "varRefreshCmd": "cat(var_dic_list()) "
    }
   },
   "types_to_exclude": [
    "module",
    "function",
    "builtin_function_or_method",
    "instance",
    "_Feature"
   ],
   "window_display": false
  }
 },
 "nbformat": 4,
 "nbformat_minor": 2
}
