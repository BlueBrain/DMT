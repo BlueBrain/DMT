{
 "cells": [
  {
   "cell_type": "markdown",
   "metadata": {
    "ExecuteTime": {
     "end_time": "2019-06-13T15:04:13.731993Z",
     "start_time": "2019-06-13T15:04:13.712494Z"
    }
   },
   "source": [
    "# Test develop connectome analyses.\n",
    "\n",
    "We develop the analyses and the (BBP) adapter together.\n",
    "In this notebook we will prototype the adapter,\n",
    "while developing the analyses in an editory."
   ]
  },
  {
   "cell_type": "code",
   "execution_count": 17,
   "metadata": {
    "ExecuteTime": {
     "end_time": "2019-06-13T15:13:44.428170Z",
     "start_time": "2019-06-13T15:13:44.424122Z"
    }
   },
   "outputs": [],
   "source": [
    "from neuro_dmt.analysis.circuit.connectome import *"
   ]
  },
  {
   "cell_type": "code",
   "execution_count": 18,
   "metadata": {
    "ExecuteTime": {
     "end_time": "2019-06-13T15:13:49.105195Z",
     "start_time": "2019-06-13T15:13:49.098909Z"
    }
   },
   "outputs": [
    {
     "data": {
      "text/plain": [
       "neuro_dmt.analysis.circuit.connectome.connection_probability.PathwayConnectionProbabilityAnalysis"
      ]
     },
     "execution_count": 18,
     "metadata": {},
     "output_type": "execute_result"
    }
   ],
   "source": [
    "PathwayConnectionProbabilityAnalysis"
   ]
  },
  {
   "cell_type": "code",
   "execution_count": null,
   "metadata": {},
   "outputs": [],
   "source": [
    "from dmt.model.adapter import adapts\n",
    "from dmt.model.interface import implements\n",
    "\n",
    "@adapts()\n",
    "class BlueBrainCircuitAdapter:"
   ]
  },
  {
   "cell_type": "code",
   "execution_count": 1,
   "metadata": {
    "ExecuteTime": {
     "end_time": "2019-06-13T15:35:42.748715Z",
     "start_time": "2019-06-13T15:35:42.585304Z"
    }
   },
   "outputs": [
    {
     "data": {
      "text/plain": [
       "<module 'bluepy' from '/home/muchu/.vmgr_repo/py36/lib/python3.6/site-packages/bluepy/__init__.py'>"
      ]
     },
     "execution_count": 1,
     "metadata": {},
     "output_type": "execute_result"
    }
   ],
   "source": [
    "import bluepy\n",
    "from bluepy import Circuit\n",
    "bluepy"
   ]
  }
 ],
 "metadata": {
  "kernelspec": {
   "display_name": "Python 3",
   "language": "python",
   "name": "python3"
  },
  "language_info": {
   "codemirror_mode": {
    "name": "ipython",
    "version": 3
   },
   "file_extension": ".py",
   "mimetype": "text/x-python",
   "name": "python",
   "nbconvert_exporter": "python",
   "pygments_lexer": "ipython3",
   "version": "3.6.7"
  },
  "toc": {
   "base_numbering": 1,
   "nav_menu": {},
   "number_sections": true,
   "sideBar": true,
   "skip_h1_title": false,
   "title_cell": "Table of Contents",
   "title_sidebar": "Contents",
   "toc_cell": false,
   "toc_position": {},
   "toc_section_display": true,
   "toc_window_display": false
  },
  "varInspector": {
   "cols": {
    "lenName": 16,
    "lenType": 16,
    "lenVar": 40
   },
   "kernels_config": {
    "python": {
     "delete_cmd_postfix": "",
     "delete_cmd_prefix": "del ",
     "library": "var_list.py",
     "varRefreshCmd": "print(var_dic_list())"
    },
    "r": {
     "delete_cmd_postfix": ") ",
     "delete_cmd_prefix": "rm(",
     "library": "var_list.r",
     "varRefreshCmd": "cat(var_dic_list()) "
    }
   },
   "types_to_exclude": [
    "module",
    "function",
    "builtin_function_or_method",
    "instance",
    "_Feature"
   ],
   "window_display": false
  }
 },
 "nbformat": 4,
 "nbformat_minor": 2
}
