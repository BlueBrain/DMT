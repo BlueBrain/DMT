{
 "cells": [
  {
   "cell_type": "code",
   "execution_count": 1,
   "metadata": {},
   "outputs": [
    {
     "ename": "SyntaxError",
     "evalue": "invalid syntax (__init__.py, line 131)",
     "output_type": "error",
     "traceback": [
      "\u001b[0;36m  File \u001b[0;32m\"/home/hugs/workstation/dmt/dmt/model/__init__.py\"\u001b[0;36m, line \u001b[0;32m131\u001b[0m\n\u001b[0;31m    class AIBase(Callable, metaclass=AIMeta):\u001b[0m\n\u001b[0m                                    ^\u001b[0m\n\u001b[0;31mSyntaxError\u001b[0m\u001b[0;31m:\u001b[0m invalid syntax\n"
     ]
    }
   ],
   "source": [
    "import numpy as np\n",
    "import pandas as pd\n",
    "import sys; sys.path.append(\"/home/hugs/workstation/dmt\")\n",
    "from dmt.model import interface, adapter, Adapter, Interface, AIBase"
   ]
  },
  {
   "cell_type": "markdown",
   "metadata": {},
   "source": [
    "# DMT Nexus\n",
    "DMT Nexus is a service to validate your models.\n"
   ]
  },
  {
   "cell_type": "code",
   "execution_count": 3,
   "metadata": {},
   "outputs": [],
   "source": [
    "from enum import Enum\n",
    "\n",
    "class EntityType(Enum):\n",
    "    DATA = \"data\"\n",
    "    ANALYSIS = \"analysis\"\n",
    "    \n",
    "class Data:\n",
    "    \"\"\"Data with some meta-data to track.\"\"\"\n",
    "    def __init__(self,\n",
    "        phenomenon,\n",
    "        data,\n",
    "        provenance):\n",
    "        \"\"\"\n",
    "        Arguments\n",
    "        -----------\n",
    "        phenomenon: Phenomenon measured by this data. \n",
    "        data: a pandas data-frame containing values for this data.\n",
    "        provenance: a dictionary telling where did this data come from?\"\"\"\n",
    "        self._entity_type = EntityType.DATA\n",
    "        self.phenomenon = phenomenon\n",
    "        self.data = data\n",
    "        self.provenance = provenance\n",
    "        \n",
    "    @property\n",
    "    def as_dict(self):\n",
    "        \"\"\"this data instance as a dict\"\"\"\n",
    "        return dict(\n",
    "            phenomenon=self.phenomenon,\n",
    "            provenance=self.provenance,\n",
    "            data=self.data)\n",
    "    \n",
    "class DMTNexus:\n",
    "    \"\"\"DMT Nexus is a service to validate your models.\"\"\"\n",
    "    def __init__(self):\n",
    "        self._data = {}\n",
    "        self._analyses = {}\n",
    "        \n",
    "    def __upload_data(self, data, phenomenon=None):\n",
    "        \"\"\"Upload data\"\"\"\n",
    "        if not phenomenon and not hasattr(data, \"phenomenon\"):\n",
    "            raise ValueError(\n",
    "                \"No phenomenon provided for the data to be uploaded.\")\n",
    "        phenomenon=\\\n",
    "            phenomenon if phenomenon\\\n",
    "            else getattr(data, \"phenomenon\", None)\n",
    "        \n",
    "        if phenomenon not in self._data:\n",
    "            self._data[phenomenon] = []\n",
    "        self._data[phenomenon].append(data)\n",
    "        return len(self._data)\n",
    "    \n",
    "    def __upload_analysis(self, analysis, phenomenon=None):\n",
    "        \"\"\"Upload analysis\"\"\"\n",
    "        if not phenomenon and not hasattr(analysis, \"phenomenon\"):\n",
    "            raise ValueError(\n",
    "                \"No phenomenon provided for the analysis to be uploaded.\")\n",
    "        phenomenon=\\\n",
    "            phenomenon if phenomenon\\\n",
    "            else getattr(analysis, \"phenomenon\", None)\n",
    "        \n",
    "        if phenomenon not in self._analyses:\n",
    "            self._analyses[phenomenon] = []\n",
    "        self._analyses[phenomenon].append(analysis)\n",
    "        return len(self._analyses)\n",
    "            \n",
    "    def upload(self, entity_type, entity, phenomenon=None):\n",
    "        \"\"\"Upload an entity\n",
    "            Arguments\n",
    "            ----------\n",
    "            entity_type: EntityType\n",
    "            entity: an instance of entity_type.\n",
    "            \n",
    "            Return\n",
    "            -----------\n",
    "            an identifier to track the uploaded data.\"\"\"\n",
    "        \n",
    "        if entity_type == EntityType.DATA:\n",
    "            return\\\n",
    "                self.__upload_data(\n",
    "                    entity,\n",
    "                    phenomenon=phenomenon)\n",
    "        if entity_type == EntityType.ANALYSIS:\n",
    "            return self.__upload_analysis(\n",
    "                    entity,\n",
    "                    phenomenon=phenomenon)\n",
    "        raise ValueError(\n",
    "            \"Uploading of entity type {} is not yet supported.\".format(entity_type))\n",
    "        \n",
    "    def get_data(self, phenomenon, identifier=None):\n",
    "        \"\"\"Get data by phenomenon\"\"\"\n",
    "        available = self._data.get(phenomenon, [])\n",
    "        try:\n",
    "            return available[identifier - 1]\n",
    "        except:\n",
    "            print(\"Data {} for phenomenon {} not found\"\\\n",
    "                  .format(identifier, phenomenon))\n",
    "        return None\n",
    "        \n",
    "    def get_analyses(self, phenomenon, identifier=None):\n",
    "        \"\"\"Get analyses by phenomenon\"\"\"\n",
    "        available = self._analyses.get(phenomenon, [])\n",
    "        try:\n",
    "            return available[identifier - 1]\n",
    "        except:\n",
    "            print(\"Analysis {} for phenomenon {} not found\"\\\n",
    "                  .format(identifier, phenomenon))\n",
    "        return None\n",
    "        \n",
    "        \n",
    "dmt_nexus = DMTNexus()"
   ]
  },
  {
   "cell_type": "code",
   "execution_count": 4,
   "metadata": {},
   "outputs": [
    {
     "data": {
      "text/plain": [
       "1"
      ]
     },
     "execution_count": 4,
     "metadata": {},
     "output_type": "execute_result"
    }
   ],
   "source": [
    "dmt_nexus.upload(\n",
    "    EntityType.DATA,\n",
    "    Data(\n",
    "        phenomenon = \"cell_density\",\n",
    "        data       =  pd.DataFrame({\n",
    "                        \"mean\": [0.8, 12., 20., 24., 10., 2.],\n",
    "                        \"std\": [0.1, 0.1, 0.1, 0.1, 0.1, 0.1]},\n",
    "                        index=pd.Index(\n",
    "                            [\"L1\", \"L2\", \"L3\", \"L4\", \"L5\", \"L6\"],\n",
    "                            name=\"layer\")),\n",
    "        provenance = {\"uri\": \"this notebook\",\n",
    "                      \"citation\": \"mock data\"}))\n",
    "    "
   ]
  },
  {
   "cell_type": "code",
   "execution_count": 5,
   "metadata": {},
   "outputs": [
    {
     "ename": "NameError",
     "evalue": "name 'AIBase' is not defined",
     "output_type": "error",
     "traceback": [
      "\u001b[0;31m---------------------------------------------------------------------------\u001b[0m",
      "\u001b[0;31mNameError\u001b[0m                                 Traceback (most recent call last)",
      "\u001b[0;32m<ipython-input-5-566337936aba>\u001b[0m in \u001b[0;36m<module>\u001b[0;34m()\u001b[0m\n\u001b[1;32m      4\u001b[0m     \u001b[0mFAIL\u001b[0m \u001b[0;34m=\u001b[0m \u001b[0;34m-\u001b[0m\u001b[0;36m1\u001b[0m\u001b[0;34m\u001b[0m\u001b[0m\n\u001b[1;32m      5\u001b[0m \u001b[0;34m\u001b[0m\u001b[0m\n\u001b[0;32m----> 6\u001b[0;31m \u001b[0;32mclass\u001b[0m \u001b[0mCellDensityValidation\u001b[0m\u001b[0;34m(\u001b[0m\u001b[0mAIBase\u001b[0m\u001b[0;34m)\u001b[0m\u001b[0;34m:\u001b[0m\u001b[0;34m\u001b[0m\u001b[0m\n\u001b[0m\u001b[1;32m      7\u001b[0m     \u001b[0;34m\"\"\"Validate cell densities\"\"\"\u001b[0m\u001b[0;34m\u001b[0m\u001b[0m\n\u001b[1;32m      8\u001b[0m     def __init__(self,\n",
      "\u001b[0;31mNameError\u001b[0m: name 'AIBase' is not defined"
     ]
    }
   ],
   "source": [
    "class Verdict(Enum):\n",
    "    PASS = 1\n",
    "    INCONCLUSIVE = 0\n",
    "    FAIL = -1\n",
    "    \n",
    "class CellDensityValidation(AIBase):\n",
    "    \"\"\"Validate cell densities\"\"\"\n",
    "    def __init__(self,\n",
    "            reference_data,\n",
    "            pvalue_threshold = 0.05):\n",
    "        \"\"\"\n",
    "        Arguments\n",
    "        ----------\n",
    "        pvalue_threshold: Float\"\"\"\n",
    "        self.pvalue_threshold = pvalue_threshold\n",
    "        self.phenomenon = \"cell_density\"\n",
    "        self.reference_data = reference_data\n",
    "        \n",
    "    class AdapterInterface(Interface):\n",
    "        \"\"\"All methods listed here must be implemented \n",
    "        by an adapter of this interface.\"\"\"\n",
    "        \n",
    "        def get_cell_density(self,\n",
    "                circuit_model):\n",
    "            \"\"\"Get volume density of (neuronal) cells in a circuit.\n",
    "            This method must be defined for the model adapter class that will\n",
    "            adapt a circuit model to the requirements of this analysis.\n",
    "            \n",
    "            Arguments\n",
    "            ---------------\n",
    "            circuit_model: circuit model to be validated.\n",
    "            \n",
    "            Return\n",
    "            ---------------\n",
    "            A pandas.DataFrame containing the mean and standard deviation in \n",
    "            columns 'mean' and 'std' respectively, \n",
    "            and indexed by 'layer'\"\"\"\n",
    "            pass\n",
    "        \n",
    "    def get_verdict(self,\n",
    "            model_measurement):\n",
    "        \"\"\"Test the model data\"\"\"\n",
    "        from dmt.vtk.statistics import FischersPooler\n",
    "        from scipy.special import erf\n",
    "        reference_data=\\\n",
    "            self.reference_data.data\n",
    "        delta_mean=\\\n",
    "            np.abs(model_measurement[\"mean\"] - reference_data[\"mean\"])\n",
    "        stdev=\\\n",
    "            np.sqrt(\n",
    "                model_measurement[\"std\"] ** 2 + reference_data[\"std\"] ** 2)\n",
    "        z_score=\\\n",
    "            delta_mean / stdev\n",
    "        pvalue=\\\n",
    "            FischersPooler.eval(1. - erf(z_score))\n",
    "        if np.isnan(pvalue):\n",
    "            return{\n",
    "                \"status\": Verdict.INCONCLUSIVE,\n",
    "                \"pvalue\": pvalue}\n",
    "        return{\n",
    "            \"status\": Verdict.PASS if pvalue > self.pvalue_threshold else Verdict.FAIL,\n",
    "            \"pvalue\": pvalue}\n",
    "        \n",
    "    def __call__(self,\n",
    "        model,\n",
    "        *args, **kwargs):\n",
    "        \"\"\"Call Me\"\"\"\n",
    "        model_measurement=\\\n",
    "            self.adapter.get_cell_density(model)\n",
    "        report=\\\n",
    "            dict(\n",
    "                reference=self.reference_data.as_dict,\n",
    "                model=model_measurement,\n",
    "                verdict=self.get_verdict(model_measurement))\n",
    "        return report\n"
   ]
  },
  {
   "cell_type": "code",
   "execution_count": 6,
   "metadata": {
    "scrolled": true
   },
   "outputs": [
    {
     "ename": "NameError",
     "evalue": "name 'interface' is not defined",
     "output_type": "error",
     "traceback": [
      "\u001b[0;31m---------------------------------------------------------------------------\u001b[0m",
      "\u001b[0;31mNameError\u001b[0m                                 Traceback (most recent call last)",
      "\u001b[0;32m<ipython-input-6-53d2dedf5c6a>\u001b[0m in \u001b[0;36m<module>\u001b[0;34m()\u001b[0m\n\u001b[1;32m      4\u001b[0m     \u001b[0;32mpass\u001b[0m\u001b[0;34m\u001b[0m\u001b[0m\n\u001b[1;32m      5\u001b[0m \u001b[0;34m\u001b[0m\u001b[0m\n\u001b[0;32m----> 6\u001b[0;31m \u001b[0;34m@\u001b[0m\u001b[0minterface\u001b[0m\u001b[0;34m.\u001b[0m\u001b[0mimplementation\u001b[0m\u001b[0;34m(\u001b[0m\u001b[0mCellDensityValidation\u001b[0m\u001b[0;34m.\u001b[0m\u001b[0mAdapterInterface\u001b[0m\u001b[0;34m)\u001b[0m\u001b[0;34m\u001b[0m\u001b[0m\n\u001b[0m\u001b[1;32m      7\u001b[0m \u001b[0;34m@\u001b[0m\u001b[0madapter\u001b[0m\u001b[0;34m.\u001b[0m\u001b[0madapter\u001b[0m\u001b[0;34m(\u001b[0m\u001b[0mDumbestCircuitModel\u001b[0m\u001b[0;34m)\u001b[0m\u001b[0;34m\u001b[0m\u001b[0m\n\u001b[1;32m      8\u001b[0m \u001b[0;32mclass\u001b[0m \u001b[0mDumbCircuitAdapter\u001b[0m\u001b[0;34m:\u001b[0m\u001b[0;34m\u001b[0m\u001b[0m\n",
      "\u001b[0;31mNameError\u001b[0m: name 'interface' is not defined"
     ]
    }
   ],
   "source": [
    "class DumbCircuitModel:\n",
    "    \"\"\"The dumbest possible model for a brain circuit.\"\"\"\n",
    "    density = {layer: {\"mean\": i, \"std\": 0} for i, layer in enumerate([\"L1\", \"L2\", \"L3\", \"L4\", \"L5\", \"L6\"])}\n",
    "    pass\n",
    "\n",
    "@interface.implementation(CellDensityValidation.AdapterInterface)\n",
    "@adapter.adapter(DumbestCircuitModel)\n",
    "class DumbCircuitAdapter:\n",
    "    \"\"\"An adapter for the dumbest possible model for a brain circuit\"\"\"\n",
    "    pass"
   ]
  },
  {
   "cell_type": "code",
   "execution_count": 7,
   "metadata": {},
   "outputs": [
    {
     "ename": "NameError",
     "evalue": "name 'interface' is not defined",
     "output_type": "error",
     "traceback": [
      "\u001b[0;31m---------------------------------------------------------------------------\u001b[0m",
      "\u001b[0;31mNameError\u001b[0m                                 Traceback (most recent call last)",
      "\u001b[0;32m<ipython-input-7-e34de7c13173>\u001b[0m in \u001b[0;36m<module>\u001b[0;34m()\u001b[0m\n\u001b[0;32m----> 1\u001b[0;31m \u001b[0;34m@\u001b[0m\u001b[0minterface\u001b[0m\u001b[0;34m.\u001b[0m\u001b[0mimplementation\u001b[0m\u001b[0;34m(\u001b[0m\u001b[0mCellDensityValidation\u001b[0m\u001b[0;34m.\u001b[0m\u001b[0mAdapterInterface\u001b[0m\u001b[0;34m)\u001b[0m\u001b[0;34m\u001b[0m\u001b[0m\n\u001b[0m\u001b[1;32m      2\u001b[0m \u001b[0;34m@\u001b[0m\u001b[0madapter\u001b[0m\u001b[0;34m.\u001b[0m\u001b[0madapter\u001b[0m\u001b[0;34m(\u001b[0m\u001b[0mDumbCircuitModel\u001b[0m\u001b[0;34m)\u001b[0m\u001b[0;34m\u001b[0m\u001b[0m\n\u001b[1;32m      3\u001b[0m \u001b[0;32mclass\u001b[0m \u001b[0mDumbCircuitAdapter\u001b[0m\u001b[0;34m:\u001b[0m\u001b[0;34m\u001b[0m\u001b[0m\n\u001b[1;32m      4\u001b[0m     \u001b[0;34m\"\"\"An adapter for the dumbest possible model for a brain circuit\"\"\"\u001b[0m\u001b[0;34m\u001b[0m\u001b[0m\n\u001b[1;32m      5\u001b[0m     \u001b[0;32mdef\u001b[0m \u001b[0mget_cell_density\u001b[0m\u001b[0;34m(\u001b[0m\u001b[0mself\u001b[0m\u001b[0;34m,\u001b[0m \u001b[0mcircuit_model\u001b[0m\u001b[0;34m)\u001b[0m\u001b[0;34m:\u001b[0m\u001b[0;34m\u001b[0m\u001b[0m\n",
      "\u001b[0;31mNameError\u001b[0m: name 'interface' is not defined"
     ]
    }
   ],
   "source": [
    "@interface.implementation(CellDensityValidation.AdapterInterface)\n",
    "@adapter.adapter(DumbCircuitModel)\n",
    "class DumbCircuitAdapter:\n",
    "    \"\"\"An adapter for the dumbest possible model for a brain circuit\"\"\"\n",
    "    def get_cell_density(self, circuit_model):\n",
    "        \"\"\"return made up values.\"\"\"\n",
    "        layers = [\"L1\", \"L2\", \"L3\", \"L4\", \"L5\", \"L6\"]\n",
    "        return\\\n",
    "            pd.DataFrame(\n",
    "                {\"mean\": [circuit_model.density[l][\"mean\"] for l in layers],\n",
    "                  \"std\": [circuit_model.density[l][\"mean\"] for l in layers]},\n",
    "                index=pd.Index(layers, name=\"layer\"))\n"
   ]
  },
  {
   "cell_type": "code",
   "execution_count": 8,
   "metadata": {},
   "outputs": [
    {
     "ename": "NameError",
     "evalue": "name 'CellDensityValidation' is not defined",
     "output_type": "error",
     "traceback": [
      "\u001b[0;31m---------------------------------------------------------------------------\u001b[0m",
      "\u001b[0;31mNameError\u001b[0m                                 Traceback (most recent call last)",
      "\u001b[0;32m<ipython-input-8-c7cf369d29f8>\u001b[0m in \u001b[0;36m<module>\u001b[0;34m()\u001b[0m\n\u001b[0;32m----> 1\u001b[0;31m cell_density_validation=    CellDensityValidation(\n\u001b[0m\u001b[1;32m      2\u001b[0m             dmt_nexus.get_data(\"cell_density\", identifier=1))\n\u001b[1;32m      3\u001b[0m \u001b[0;34m\u001b[0m\u001b[0m\n\u001b[1;32m      4\u001b[0m \u001b[0mcell_density_validation\u001b[0m\u001b[0;34m.\u001b[0m\u001b[0madapter\u001b[0m \u001b[0;34m=\u001b[0m \u001b[0mDumbCircuitAdapter\u001b[0m\u001b[0;34m(\u001b[0m\u001b[0;34m)\u001b[0m\u001b[0;34m\u001b[0m\u001b[0m\n",
      "\u001b[0;31mNameError\u001b[0m: name 'CellDensityValidation' is not defined"
     ]
    }
   ],
   "source": [
    "cell_density_validation=\\\n",
    "    CellDensityValidation(\n",
    "            dmt_nexus.get_data(\"cell_density\", identifier=1))\n",
    "\n",
    "cell_density_validation.adapter = DumbCircuitAdapter()"
   ]
  },
  {
   "cell_type": "code",
   "execution_count": 97,
   "metadata": {},
   "outputs": [
    {
     "name": "stdout",
     "output_type": "stream",
     "text": [
      "{'pvalue': 0.0, 'status': <Verdict.FAIL: -1>}\n"
     ]
    }
   ],
   "source": [
    "report = cell_density_validation(DumbCircuitModel())\n",
    "print(report[\"verdict\"])"
   ]
  },
  {
   "cell_type": "code",
   "execution_count": 98,
   "metadata": {},
   "outputs": [
    {
     "data": {
      "text/plain": [
       "1"
      ]
     },
     "execution_count": 98,
     "metadata": {},
     "output_type": "execute_result"
    }
   ],
   "source": [
    "dmt_nexus.upload(EntityType.ANALYSIS, report, phenomenon=\"cell_density\")"
   ]
  },
  {
   "cell_type": "code",
   "execution_count": 99,
   "metadata": {},
   "outputs": [
    {
     "name": "stdout",
     "output_type": "stream",
     "text": [
      "WARNING!!! AdapterInterface implmentation DumbAndDumberCircuitAdapter should attribute its author\n"
     ]
    }
   ],
   "source": [
    "class DumberCircuitModel:\n",
    "    \"\"\"it is even dumber\"\"\"\n",
    "    density = {l: {'mean': 1, 'std': 0} for l in range(1, 7)}\n",
    "    pass\n",
    "\n",
    "@interface.implementation(CellDensityValidation.AdapterInterface)\n",
    "@adapter.adapter(DumbCircuitModel)\n",
    "@adapter.adapter(DumberCircuitModel)\n",
    "class DumbAndDumberCircuitAdapter:\n",
    "    \"\"\"an adapter that works for dumb and dumber circuits\"\"\"\n",
    "    def __init__(self, specialization):\n",
    "        self.specialization = specialization\n",
    "\n",
    "    def get_cell_density(self, circuit_model):\n",
    "        layers = [\"L1\", \"L2\", \"L3\", \"L4\", \"L5\", \"L6\"]\n",
    "        model_layer_labels = self.specialization.layer_labels(layers)\n",
    "        return pd.DataFrame(\n",
    "            {\"mean\": [circuit_model.density[l][\"mean\"] for l in model_layer_labels],\n",
    "             \"std\": [circuit_model.density[l][\"std\"] for l in model_layer_labels]},  \n",
    "            index=pd.Index(layers, name=\"layer\"))\n",
    "    \n",
    "    \n",
    "class DumbCircuitSpec:\n",
    "    \"\"\"specialization for dumb circuit\"\"\"\n",
    "    def layer_labels(self, layers):\n",
    "        return layers\n",
    "    pass\n",
    "\n",
    "class DumberCircuitSpec:\n",
    "    \"\"\"specialization for dumber circuit\"\"\"\n",
    "    def layer_labels(self, layers):\n",
    "        return [int(layer[1]) for layer in layers]"
   ]
  },
  {
   "cell_type": "code",
   "execution_count": 81,
   "metadata": {},
   "outputs": [],
   "source": [
    "cell_density_validation=\\\n",
    "    CellDensityValidation(\n",
    "            dmt_nexus.get_data(\"cell_density\", identifier=1))\n",
    "\n",
    "cell_density_validation.adapter = DumbAndDumberCircuitAdapter(DumbCircuitSpec())\n",
    "dumb_report = cell_density_validation(DumbCircuitModel())\n",
    "cell_density_validation.adapter = DumbAndDumberCircuitAdapter(DumberCircuitSpec())\n",
    "dumber_report = cell_density_validation(DumberCircuitModel())"
   ]
  },
  {
   "cell_type": "code",
   "execution_count": 82,
   "metadata": {},
   "outputs": [
    {
     "name": "stdout",
     "output_type": "stream",
     "text": [
      "{'model':    mean  std\n",
      "0     0    0\n",
      "1     1    0\n",
      "2     2    0\n",
      "3     3    0\n",
      "4     4    0\n",
      "5     5    0, 'verdict': {'pvalue': nan, 'status': <Verdict.INCONCLUSIVE: 0>}, 'reference': {'provenance': {'citation': 'mock data', 'uri': 'this notebook'}, 'phenomenon': 'cell_density', 'data':        mean  std\n",
      "layer           \n",
      "L1      0.8  0.1\n",
      "L2     12.0  0.1\n",
      "L3     20.0  0.1\n",
      "L4     24.0  0.1\n",
      "L5     10.0  0.1\n",
      "L6      2.0  0.1}} {'model':    mean  std\n",
      "0     1    0\n",
      "1     1    0\n",
      "2     1    0\n",
      "3     1    0\n",
      "4     1    0\n",
      "5     1    0, 'verdict': {'pvalue': nan, 'status': <Verdict.INCONCLUSIVE: 0>}, 'reference': {'provenance': {'citation': 'mock data', 'uri': 'this notebook'}, 'phenomenon': 'cell_density', 'data':        mean  std\n",
      "layer           \n",
      "L1      0.8  0.1\n",
      "L2     12.0  0.1\n",
      "L3     20.0  0.1\n",
      "L4     24.0  0.1\n",
      "L5     10.0  0.1\n",
      "L6      2.0  0.1}}\n"
     ]
    }
   ],
   "source": [
    "print(dumb_report, dumber_report)"
   ]
  },
  {
   "cell_type": "code",
   "execution_count": null,
   "metadata": {},
   "outputs": [],
   "source": []
  },
  {
   "cell_type": "code",
   "execution_count": null,
   "metadata": {},
   "outputs": [],
   "source": []
  }
 ],
 "metadata": {
  "kernelspec": {
   "display_name": "Python 2",
   "language": "python",
   "name": "python2"
  },
  "language_info": {
   "codemirror_mode": {
    "name": "ipython",
    "version": 2
   },
   "file_extension": ".py",
   "mimetype": "text/x-python",
   "name": "python",
   "nbconvert_exporter": "python",
   "pygments_lexer": "ipython2",
   "version": "2.7.12"
  }
 },
 "nbformat": 4,
 "nbformat_minor": 2
}
