{
 "cells": [
  {
   "cell_type": "code",
   "execution_count": 2,
   "metadata": {},
   "outputs": [],
   "source": [
    "import numpy as np\n",
    "import pandas as pd\n",
    "from dmt.model import interface, adapter, Adapter, Interface, AIBase"
   ]
  },
  {
   "cell_type": "markdown",
   "metadata": {},
   "source": [
    "# DMT Nexus\n",
    "DMT Nexus is a service to validate your models.\n"
   ]
  },
  {
   "cell_type": "code",
   "execution_count": 26,
   "metadata": {},
   "outputs": [],
   "source": [
    "from enum import Enum\n",
    "\n",
    "class EntityType(Enum):\n",
    "    DATA = \"data\"\n",
    "    ANALYSIS = \"analysis\"\n",
    "    \n",
    "class Data:\n",
    "    \"\"\"Data with some meta-data to track.\"\"\"\n",
    "    def __init__(self,\n",
    "        phenomenon,\n",
    "        data,\n",
    "        provenance):\n",
    "        \"\"\"\n",
    "        Arguments\n",
    "        -----------\n",
    "        phenomenon: Phenomenon measured by this data. \n",
    "        data: a pandas data-frame containing values for this data.\n",
    "        provenance: a dictionary telling where did this data come from?\"\"\"\n",
    "        self._entity_type = EntityType.DATA\n",
    "        self.phenomenon = phenomenon\n",
    "        self.data = data\n",
    "        self.provenance = provenance\n",
    "        \n",
    "    @property\n",
    "    def as_dict(self):\n",
    "        \"\"\"this data instance as a dict\"\"\"\n",
    "        return dict(\n",
    "            phenomenon=self.phenomenon,\n",
    "            provenance=self.provenance,\n",
    "            data=self.data)\n",
    "    \n",
    "class DMTNexus:\n",
    "    \"\"\"DMT Nexus is a service to validate your models.\"\"\"\n",
    "    def __init__(self):\n",
    "        self._data = {}\n",
    "        self._analyses = {}\n",
    "        \n",
    "    def __upload_data(self, data, phenomenon=None):\n",
    "        \"\"\"Upload data\"\"\"\n",
    "        if not phenomenon and not hasattr(data, \"phenomenon\"):\n",
    "            raise ValueError(\n",
    "                \"No phenomenon provided for the data to be uploaded.\")\n",
    "        phenomenon=\\\n",
    "            phenomenon if phenomenon\\\n",
    "            else getattr(data, \"phenomenon\", None)\n",
    "        \n",
    "        if phenomenon not in self._data:\n",
    "            self._data[phenomenon] = []\n",
    "        self._data[phenomenon].append(data)\n",
    "        return len(self._data)\n",
    "    \n",
    "    def __upload_analysis(self, analysis, phenomenon=None):\n",
    "        \"\"\"Upload analysis\"\"\"\n",
    "        if not phenomenon and not hasattr(analysis, \"phenomenon\"):\n",
    "            raise ValueError(\n",
    "                \"No phenomenon provided for the analysis to be uploaded.\")\n",
    "        phenomenon=\\\n",
    "            phenomenon if phenomenon\\\n",
    "            else getattr(analysis, \"phenomenon\", None)\n",
    "        \n",
    "        if phenomenon not in self._analyses:\n",
    "            self._analyses[phenomenon] = []\n",
    "        self._analyses[phenomenon].append(analysis)\n",
    "        return len(self._analyses)\n",
    "            \n",
    "    def upload(self, entity_type, entity, phenomenon=None):\n",
    "        \"\"\"Upload an entity\n",
    "            Arguments\n",
    "            ----------\n",
    "            entity_type: EntityType\n",
    "            entity: an instance of entity_type.\n",
    "            \n",
    "            Return\n",
    "            -----------\n",
    "            an identifier to track the uploaded data.\"\"\"\n",
    "        \n",
    "        if entity_type == EntityType.DATA:\n",
    "            return\\\n",
    "                self.__upload_data(\n",
    "                    entity,\n",
    "                    phenomenon=phenomenon)\n",
    "        if entity_type == EntityType.ANALYSIS:\n",
    "            return self.__upload_analysis(\n",
    "                    entity,\n",
    "                    phenomenon=phenomenon)\n",
    "        raise ValueError(\n",
    "            \"Uploading of entity type {} is not yet supported.\".format(entity_type))\n",
    "        \n",
    "    def get_data(self, phenomenon, identifier=None):\n",
    "        \"\"\"Get data by phenomenon\"\"\"\n",
    "        available = self._data.get(phenomenon, [])\n",
    "        try:\n",
    "            return available[identifier - 1]\n",
    "        except:\n",
    "            print(\"Data {} for phenomenon {} not found\"\\\n",
    "                  .format(identifier, phenomenon))\n",
    "        return None\n",
    "        \n",
    "    def get_analyses(self, phenomenon, identifier=None):\n",
    "        \"\"\"Get analyses by phenomenon\"\"\"\n",
    "        available = self._analyses.get(phenomenon, [])\n",
    "        try:\n",
    "            return available[identifier - 1]\n",
    "        except:\n",
    "            print(\"Analysis {} for phenomenon {} not found\"\\\n",
    "                  .format(identifier, phenomenon))\n",
    "        return None\n",
    "        \n",
    "        \n",
    "dmt_nexus = DMTNexus()"
   ]
  },
  {
   "cell_type": "code",
   "execution_count": 27,
   "metadata": {},
   "outputs": [
    {
     "data": {
      "text/plain": [
       "1"
      ]
     },
     "execution_count": 27,
     "metadata": {},
     "output_type": "execute_result"
    }
   ],
   "source": [
    "dmt_nexus.upload(\n",
    "    EntityType.DATA,\n",
    "    Data(\n",
    "        phenomenon = \"cell_density\",\n",
    "        data       =  pd.DataFrame({\n",
    "                        \"mean\": [0.8, 12., 20., 24., 10., 2.],\n",
    "                        \"std\": [0.1, 0.1, 0.1, 0.1, 0.1, 0.1]},\n",
    "                        index=pd.Index(\n",
    "                            [\"L1\", \"L2\", \"L3\", \"L4\", \"L5\", \"L6\"],\n",
    "                            name=\"layer\")),\n",
    "        provenance = {\"uri\": \"this notebook\",\n",
    "                      \"citation\": \"mock data\"}))\n",
    "    "
   ]
  },
  {
   "cell_type": "code",
   "execution_count": 28,
   "metadata": {},
   "outputs": [],
   "source": [
    "class Verdict(Enum):\n",
    "    PASS = 1\n",
    "    INCONCLUSIVE = 0\n",
    "    FAIL = -1\n",
    "    \n",
    "class CellDensityValidation(AIBase):\n",
    "    \"\"\"Validate cell densities\"\"\"\n",
    "    def __init__(self,\n",
    "            reference_data,\n",
    "            pvalue_threshold = 0.05):\n",
    "        \"\"\"\n",
    "        Arguments\n",
    "        ----------\n",
    "        pvalue_threshold: Float\"\"\"\n",
    "        self.pvalue_threshold = pvalue_threshold\n",
    "        self.phenomenon = \"cell_density\"\n",
    "        self.reference_data = reference_data\n",
    "        \n",
    "    class AdapterInterface(Interface):\n",
    "        \"\"\"All methods listed here must be implemented \n",
    "        by an adapter of this interface.\"\"\"\n",
    "        \n",
    "        def get_cell_density(self,\n",
    "                circuit_model):\n",
    "            \"\"\"Get volume density of (neuronal) cells in a circuit.\n",
    "            This method must be defined for the model adapter class that will\n",
    "            adapt a circuit model to the requirements of this analysis.\n",
    "            \n",
    "            Arguments\n",
    "            ---------------\n",
    "            circuit_model: circuit model to be validated.\n",
    "            \n",
    "            Return\n",
    "            ---------------\n",
    "            A pandas.DataFrame containing the mean and standard deviation in \n",
    "            columns 'mean' and 'std' respectively, \n",
    "            and indexed by 'layer'\"\"\"\n",
    "            pass\n",
    "        \n",
    "    def get_verdict(self,\n",
    "            model_measurement):\n",
    "        \"\"\"Test the model data\"\"\"\n",
    "        from dmt.vtk.statistics import FischersPooler\n",
    "        from scipy.special import erf\n",
    "        reference_data=\\\n",
    "            self.reference_data.data\n",
    "        delta_mean=\\\n",
    "            np.abs(model_measurement[\"mean\"] - reference_data[\"mean\"])\n",
    "        stdev=\\\n",
    "            np.sqrt(\n",
    "                model_measurement[\"std\"] ** 2 + reference_data[\"std\"] ** 2)\n",
    "        z_score=\\\n",
    "            delta_mean / stdev\n",
    "        pvalue=\\\n",
    "            FischersPooler.eval(1. - erf(z_score))\n",
    "        if np.isnan(pvalue):\n",
    "            return{\n",
    "                \"status\": Verdict.INCONCLUSIVE,\n",
    "                \"pvalue\": pvalue}\n",
    "        return{\n",
    "            \"status\": Verdict.PASS if pvalue > self.pvalue_threshold else Verdict.FAIL,\n",
    "            \"pvalue\": pvalue}\n",
    "        \n",
    "    def __call__(self,\n",
    "        model,\n",
    "        *args, **kwargs):\n",
    "        \"\"\"Call Me\"\"\"\n",
    "        model_measurement=\\\n",
    "            self.adapter.get_cell_density(model)\n",
    "        report=\\\n",
    "            dict(\n",
    "                reference=self.reference_data.as_dict,\n",
    "                model=model_measurement,\n",
    "                verdict=self.get_verdict(model_measurement))\n",
    "        return report\n"
   ]
  },
  {
   "cell_type": "code",
   "execution_count": 29,
   "metadata": {
    "scrolled": true
   },
   "outputs": [
    {
     "name": "stdout",
     "output_type": "stream",
     "text": [
      "WARNING!!! AdapterInterface implmentation DumbestCircuitAdapter should attribute its author\n",
      "To use <class '__main__.DumbestCircuitAdapter'> as an implementation interface <class '__main__.CellDensityValidation.AdapterInterface'>,\n",
      "            please provide: \n",
      "1: get_cell_density\n",
      "\n",
      "And take a look at <class '__main__.CellDensityValidation.AdapterInterface'>'s  implementation guide\n",
      "\n",
      "--------------------------------------------------------------------------------\n",
      "AdapterInterface for AdapterInterface requires you to implement\n",
      "\t(1) get_cell_density: Get volume density of (neuronal) cells in a circuit.\n",
      "            This method must be defined for the model adapter class that will\n",
      "            adapt a circuit model to the requirements of this analysis.\n",
      "            \n",
      "            Arguments\n",
      "            ---------------\n",
      "            circuit_model: circuit model to be validated.\n",
      "            \n",
      "            Return\n",
      "            ---------------\n",
      "            A pandas.DataFrame containing the mean and standard deviation in \n",
      "            columns 'mean' and 'std' respectively, \n",
      "            and indexed by 'layer'\n",
      "--------------------------------------------------------------------------------\n",
      "\n"
     ]
    },
    {
     "ename": "Exception",
     "evalue": "Unimplemented methods required by <class '__main__.CellDensityValidation.AdapterInterface'>",
     "output_type": "error",
     "traceback": [
      "\u001b[0;31m---------------------------------------------------------------------------\u001b[0m",
      "\u001b[0;31mException\u001b[0m                                 Traceback (most recent call last)",
      "\u001b[0;32m<ipython-input-29-d96c95cc4d5d>\u001b[0m in \u001b[0;36m<module>\u001b[0;34m\u001b[0m\n\u001b[1;32m      4\u001b[0m \u001b[0;34m\u001b[0m\u001b[0m\n\u001b[1;32m      5\u001b[0m \u001b[0;34m@\u001b[0m\u001b[0minterface\u001b[0m\u001b[0;34m.\u001b[0m\u001b[0mimplementation\u001b[0m\u001b[0;34m(\u001b[0m\u001b[0mCellDensityValidation\u001b[0m\u001b[0;34m.\u001b[0m\u001b[0mAdapterInterface\u001b[0m\u001b[0;34m)\u001b[0m\u001b[0;34m\u001b[0m\u001b[0;34m\u001b[0m\u001b[0m\n\u001b[0;32m----> 6\u001b[0;31m \u001b[0;34m@\u001b[0m\u001b[0madapter\u001b[0m\u001b[0;34m.\u001b[0m\u001b[0madapter\u001b[0m\u001b[0;34m(\u001b[0m\u001b[0mDumbestCircuitModel\u001b[0m\u001b[0;34m)\u001b[0m\u001b[0;34m\u001b[0m\u001b[0;34m\u001b[0m\u001b[0m\n\u001b[0m\u001b[1;32m      7\u001b[0m \u001b[0;32mclass\u001b[0m \u001b[0mDumbestCircuitAdapter\u001b[0m\u001b[0;34m:\u001b[0m\u001b[0;34m\u001b[0m\u001b[0;34m\u001b[0m\u001b[0m\n\u001b[1;32m      8\u001b[0m     \u001b[0;34m\"\"\"An adapter for the dumbest possible model for a brain circuit\"\"\"\u001b[0m\u001b[0;34m\u001b[0m\u001b[0;34m\u001b[0m\u001b[0m\n",
      "\u001b[0;32m~/work/bbp/work/validations/dmt/dmt/model/interface.py\u001b[0m in \u001b[0;36meffective\u001b[0;34m(impl_cls)\u001b[0m\n\u001b[1;32m    193\u001b[0m             \u001b[0mimpl_cls\u001b[0m\u001b[0;34m.\u001b[0m\u001b[0mauthor\u001b[0m \u001b[0;34m=\u001b[0m \u001b[0mAuthor\u001b[0m\u001b[0;34m.\u001b[0m\u001b[0manonymous\u001b[0m\u001b[0;34m\u001b[0m\u001b[0;34m\u001b[0m\u001b[0m\n\u001b[1;32m    194\u001b[0m \u001b[0;34m\u001b[0m\u001b[0m\n\u001b[0;32m--> 195\u001b[0;31m         \u001b[0man_interface\u001b[0m\u001b[0;34m.\u001b[0m\u001b[0mregister_implementation\u001b[0m\u001b[0;34m(\u001b[0m\u001b[0mimpl_cls\u001b[0m\u001b[0;34m)\u001b[0m\u001b[0;34m\u001b[0m\u001b[0;34m\u001b[0m\u001b[0m\n\u001b[0m\u001b[1;32m    196\u001b[0m         \u001b[0mimpl_cls\u001b[0m\u001b[0;34m.\u001b[0m\u001b[0m__isinterfaceimplementation__\u001b[0m \u001b[0;34m=\u001b[0m \u001b[0;32mTrue\u001b[0m\u001b[0;34m\u001b[0m\u001b[0;34m\u001b[0m\u001b[0m\n\u001b[1;32m    197\u001b[0m         \u001b[0miname\u001b[0m \u001b[0;34m=\u001b[0m \u001b[0man_interface\u001b[0m\u001b[0;34m.\u001b[0m\u001b[0m__name__\u001b[0m\u001b[0;34m\u001b[0m\u001b[0;34m\u001b[0m\u001b[0m\n",
      "\u001b[0;32m~/work/bbp/work/validations/dmt/dmt/model/interface.py\u001b[0m in \u001b[0;36mregister_implementation\u001b[0;34m(cls, impl)\u001b[0m\n\u001b[1;32m     80\u001b[0m             \u001b[0mprint\u001b[0m\u001b[0;34m(\u001b[0m\u001b[0;34m\"And take a look at {}'s  implementation guide\"\u001b[0m\u001b[0;34m.\u001b[0m\u001b[0mformat\u001b[0m\u001b[0;34m(\u001b[0m\u001b[0mcls\u001b[0m\u001b[0;34m)\u001b[0m\u001b[0;34m)\u001b[0m\u001b[0;34m\u001b[0m\u001b[0;34m\u001b[0m\u001b[0m\n\u001b[1;32m     81\u001b[0m             \u001b[0mprint\u001b[0m\u001b[0;34m(\u001b[0m\u001b[0mcls\u001b[0m\u001b[0;34m.\u001b[0m\u001b[0m__implementation_guide__\u001b[0m\u001b[0;34m)\u001b[0m\u001b[0;34m\u001b[0m\u001b[0;34m\u001b[0m\u001b[0m\n\u001b[0;32m---> 82\u001b[0;31m             \u001b[0;32mraise\u001b[0m \u001b[0mException\u001b[0m\u001b[0;34m(\u001b[0m\u001b[0;34m\"Unimplemented methods required by {}\"\u001b[0m\u001b[0;34m.\u001b[0m\u001b[0mformat\u001b[0m\u001b[0;34m(\u001b[0m\u001b[0mcls\u001b[0m\u001b[0;34m)\u001b[0m\u001b[0;34m)\u001b[0m\u001b[0;34m\u001b[0m\u001b[0;34m\u001b[0m\u001b[0m\n\u001b[0m\u001b[1;32m     83\u001b[0m \u001b[0;34m\u001b[0m\u001b[0m\n\u001b[1;32m     84\u001b[0m         \u001b[0mcls\u001b[0m\u001b[0;34m.\u001b[0m\u001b[0m__implementation_registry__\u001b[0m\u001b[0;34m[\u001b[0m\u001b[0mimpl_cls\u001b[0m\u001b[0;34m]\u001b[0m \u001b[0;34m=\u001b[0m \u001b[0mimpl_cls\u001b[0m\u001b[0;34m\u001b[0m\u001b[0;34m\u001b[0m\u001b[0m\n",
      "\u001b[0;31mException\u001b[0m: Unimplemented methods required by <class '__main__.CellDensityValidation.AdapterInterface'>"
     ]
    }
   ],
   "source": [
    "class DumbestCircuitModel:\n",
    "    \"\"\"The dumbest possible model for a brain circuit.\"\"\"\n",
    "    pass\n",
    "\n",
    "@interface.implementation(CellDensityValidation.AdapterInterface)\n",
    "@adapter.adapter(DumbestCircuitModel)\n",
    "class DumbestCircuitAdapter:\n",
    "    \"\"\"An adapter for the dumbest possible model for a brain circuit\"\"\"\n",
    "    pass"
   ]
  },
  {
   "cell_type": "code",
   "execution_count": 30,
   "metadata": {},
   "outputs": [
    {
     "name": "stdout",
     "output_type": "stream",
     "text": [
      "WARNING!!! AdapterInterface implmentation DumbestCircuitAdapter should attribute its author\n"
     ]
    }
   ],
   "source": [
    "@interface.implementation(CellDensityValidation.AdapterInterface)\n",
    "@adapter.adapter(DumbestCircuitModel)\n",
    "class DumbestCircuitAdapter:\n",
    "    \"\"\"An adapter for the dumbest possible model for a brain circuit\"\"\"\n",
    "    def get_cell_density(self, circuit_model):\n",
    "        \"\"\"return made up values.\"\"\"\n",
    "        return\\\n",
    "            pd.DataFrame(\n",
    "                {\"mean\": np.random.uniform(6),\n",
    "                  \"std\": 0.1 * np.ones(6)},\n",
    "                index=pd.Index(\n",
    "                        [\"L1\", \"L2\", \"L3\", \"L4\", \"L5\", \"L6\"],\n",
    "                            name=\"layer\"))\n"
   ]
  },
  {
   "cell_type": "code",
   "execution_count": 31,
   "metadata": {},
   "outputs": [],
   "source": [
    "cell_density_validation=\\\n",
    "    CellDensityValidation(\n",
    "            dmt_nexus.get_data(\"cell_density\", identifier=1))\n",
    "\n",
    "cell_density_validation.adapter = DumbestCircuitAdapter()"
   ]
  },
  {
   "cell_type": "code",
   "execution_count": 32,
   "metadata": {},
   "outputs": [
    {
     "name": "stdout",
     "output_type": "stream",
     "text": [
      "{'status': <Verdict.FAIL: -1>, 'pvalue': 0.0}\n"
     ]
    }
   ],
   "source": [
    "report = cell_density_validation(DumbestCircuitModel())\n",
    "print(report[\"verdict\"])"
   ]
  },
  {
   "cell_type": "code",
   "execution_count": 33,
   "metadata": {},
   "outputs": [
    {
     "data": {
      "text/plain": [
       "1"
      ]
     },
     "execution_count": 33,
     "metadata": {},
     "output_type": "execute_result"
    }
   ],
   "source": [
    "dmt_nexus.upload(EntityType.ANALYSIS, report, phenomenon=\"cell_density\")"
   ]
  },
  {
   "cell_type": "code",
   "execution_count": null,
   "metadata": {},
   "outputs": [],
   "source": []
  },
  {
   "cell_type": "code",
   "execution_count": null,
   "metadata": {},
   "outputs": [],
   "source": []
  }
 ],
 "metadata": {
  "kernelspec": {
   "display_name": "Python 3",
   "language": "python",
   "name": "python3"
  },
  "language_info": {
   "codemirror_mode": {
    "name": "ipython",
    "version": 3
   },
   "file_extension": ".py",
   "mimetype": "text/x-python",
   "name": "python",
   "nbconvert_exporter": "python",
   "pygments_lexer": "ipython3",
   "version": "3.6.7"
  }
 },
 "nbformat": 4,
 "nbformat_minor": 2
}
