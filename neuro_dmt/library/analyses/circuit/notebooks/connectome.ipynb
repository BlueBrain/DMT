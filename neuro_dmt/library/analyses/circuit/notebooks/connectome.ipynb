{
 "cells": [
  {
   "cell_type": "markdown",
   "metadata": {},
   "source": [
    "# Circuit Connectome\n",
    "\n",
    "We develop an analysis for the connectome of the mouse SSCx circuit.\n",
    "The analysis that we will develop can be applied to any SONATA circuit \n",
    "loaded with BluePySnap"
   ]
  },
  {
   "cell_type": "code",
   "execution_count": 1,
   "metadata": {
    "ExecuteTime": {
     "end_time": "2020-04-09T12:13:00.609582Z",
     "start_time": "2020-04-09T12:13:00.045294Z"
    }
   },
   "outputs": [],
   "source": [
    "#top level imports\n",
    "import os\n",
    "from collections import OrderedDict\n",
    "import pandas as pd\n",
    "from tqdm import tqdm\n",
    "from dmt.tk.plotting import Bars, LinePlot, Crosses, MultiPlot\n",
    "from dmt.data.observation import measurement\n",
    "from dmt.tk.phenomenon import Phenomenon\n",
    "from dmt.tk.parameters import Parameters\n",
    "from neuro_dmt import terminology\n",
    "from dmt.tk.utils import datasets\n",
    "from dmt.data.observation import SampleMeasurement, Summary\n",
    "from neuro_dmt.utils.geometry.roi import Cuboid\n",
    "from neuro_dmt.analysis.reporting import CircuitProvenance, CheetahReporter\n",
    "from neuro_dmt.analysis.circuit import BrainCircuitAnalysis\n",
    "\n",
    "use_mock = False"
   ]
  },
  {
   "cell_type": "markdown",
   "metadata": {},
   "source": [
    "## Mock Circuit\n",
    "\n",
    "We have implemented a mock circuit that can be used (by setting variable \n",
    "`use_mock=True`."
   ]
  },
  {
   "cell_type": "code",
   "execution_count": 2,
   "metadata": {
    "ExecuteTime": {
     "end_time": "2020-04-09T12:14:36.173915Z",
     "start_time": "2020-04-09T12:14:36.170648Z"
    }
   },
   "outputs": [],
   "source": [
    "path_circuit = os.path.join(\n",
    "    \"/gpfs/bbp.cscs.ch/project/proj66/circuits/O1/20200330/sonata\")"
   ]
  },
  {
   "cell_type": "markdown",
   "metadata": {},
   "source": [
    "## SONATA circuit model and adapter\n",
    "\n",
    "We have defined classes to work with SONATA circutis."
   ]
  },
  {
   "cell_type": "code",
   "execution_count": 3,
   "metadata": {
    "ExecuteTime": {
     "end_time": "2020-04-09T12:15:05.444649Z",
     "start_time": "2020-04-09T12:15:05.235121Z"
    }
   },
   "outputs": [],
   "source": [
    "from neuro_dmt.library.models.sonata.circuit.model import\\\n",
    "    SonataCircuitModel\n",
    "from neuro_dmt.library.models.sonata.circuit.adapter import\\\n",
    "    SonataCircuitAdapter\n",
    "\n",
    "circuit_model =\\\n",
    "    circuit_mock() if use_mock else\\\n",
    "    SonataCircuitModel(path_circuit_data=path_circuit)\n",
    "adapter = SonataCircuitAdapter()"
   ]
  },
  {
   "cell_type": "markdown",
   "metadata": {},
   "source": [
    "## Reporter\n",
    "\n",
    "Our analyses will produce a report object that can be posted as HTMLs using a reporter."
   ]
  },
  {
   "cell_type": "code",
   "execution_count": 4,
   "metadata": {
    "ExecuteTime": {
     "end_time": "2020-04-09T12:16:40.868886Z",
     "start_time": "2020-04-09T12:16:40.863212Z"
    }
   },
   "outputs": [],
   "source": [
    "from neuro_dmt.analysis.reporting import CheetahReporter\n",
    "reporter = CheetahReporter(\n",
    "    path_output_folder=os.path.join(os.getcwd(), \"analyses\"))"
   ]
  },
  {
   "cell_type": "markdown",
   "metadata": {},
   "source": [
    "For a connectome, we will be interested in number and strength of the connections\n",
    "a node (*i.e.* a cell). There is a connection from node $X$ to $Y$ if there is\n",
    "atleast one synapse from $X$ to $Y$. The strength of this connection is the \n",
    "number of synapses connecting $X$ to $Y$. \n",
    "\n",
    "Synaptic connections are directed. Thus if $X$ synapses onto $Y$, then $X\\rightarrow Y$ is\n",
    "an efferent connection of $X$ and an afferent connection of $Y$. \n",
    "\n",
    "Next we analyze statistical properties of cell connections."
   ]
  },
  {
   "cell_type": "markdown",
   "metadata": {},
   "source": [
    "# Node Degree\n",
    "\n",
    "\n",
    "How many incoming (*afferent*) or outgoing (*efferent*) connections does a cell\n",
    "have?\n"
   ]
  },
  {
   "cell_type": "code",
   "execution_count": 5,
   "metadata": {
    "ExecuteTime": {
     "end_time": "2020-04-09T12:17:12.293299Z",
     "start_time": "2020-04-09T12:17:12.288070Z"
    }
   },
   "outputs": [],
   "source": [
    "from dmt.model.interface import Interface\n",
    "class ConnectomeAdapterInterface(Interface):\n",
    "    pass"
   ]
  },
  {
   "cell_type": "code",
   "execution_count": null,
   "metadata": {},
   "outputs": [],
   "source": []
  }
 ],
 "metadata": {
  "kernelspec": {
   "display_name": "Python 3",
   "language": "python",
   "name": "python3"
  },
  "language_info": {
   "codemirror_mode": {
    "name": "ipython",
    "version": 3
   },
   "file_extension": ".py",
   "mimetype": "text/x-python",
   "name": "python",
   "nbconvert_exporter": "python",
   "pygments_lexer": "ipython3",
   "version": "3.8.2"
  },
  "latex_envs": {
   "LaTeX_envs_menu_present": true,
   "autoclose": false,
   "autocomplete": true,
   "bibliofile": "biblio.bib",
   "cite_by": "apalike",
   "current_citInitial": 1,
   "eqLabelWithNumbers": true,
   "eqNumInitial": 1,
   "hotkeys": {
    "equation": "Ctrl-E",
    "itemize": "Ctrl-I"
   },
   "labels_anchors": false,
   "latex_user_defs": false,
   "report_style_numbering": false,
   "user_envs_cfg": false
  },
  "toc": {
   "base_numbering": 1,
   "nav_menu": {},
   "number_sections": true,
   "sideBar": true,
   "skip_h1_title": false,
   "title_cell": "Table of Contents",
   "title_sidebar": "Contents",
   "toc_cell": false,
   "toc_position": {},
   "toc_section_display": true,
   "toc_window_display": false
  },
  "varInspector": {
   "cols": {
    "lenName": 16,
    "lenType": 16,
    "lenVar": 40
   },
   "kernels_config": {
    "python": {
     "delete_cmd_postfix": "",
     "delete_cmd_prefix": "del ",
     "library": "var_list.py",
     "varRefreshCmd": "print(var_dic_list())"
    },
    "r": {
     "delete_cmd_postfix": ") ",
     "delete_cmd_prefix": "rm(",
     "library": "var_list.r",
     "varRefreshCmd": "cat(var_dic_list()) "
    }
   },
   "types_to_exclude": [
    "module",
    "function",
    "builtin_function_or_method",
    "instance",
    "_Feature"
   ],
   "window_display": false
  }
 },
 "nbformat": 4,
 "nbformat_minor": 4
}
