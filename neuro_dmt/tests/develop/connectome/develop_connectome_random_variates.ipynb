{
 "cells": [
  {
   "cell_type": "markdown",
   "metadata": {},
   "source": [
    "In this session I will test develop my code in a notebook.\n",
    "Code will be edited in an editor as usual. But the testing will be done, not in \n",
    "an ipython session, but this notebook."
   ]
  },
  {
   "cell_type": "code",
   "execution_count": null,
   "metadata": {},
   "outputs": [],
   "source": [
    "import numpy as np"
   ]
  },
  {
   "cell_type": "code",
   "execution_count": null,
   "metadata": {},
   "outputs": [],
   "source": [
    "from neuro_dmt.tests.develop.connectome.random_variate import *"
   ]
  },
  {
   "cell_type": "code",
   "execution_count": null,
   "metadata": {},
   "outputs": [],
   "source": [
    "l5_tpca_tpca_sscx_son=\\\n",
    "    random_connections_sscx_son.sample_one(\n",
    "        Condition([\n",
    "            (\"pre_mtype\", \"L5_TPC:A\"),\n",
    "            (\"post_mtype\", \"L5_TPC:A\"),\n",
    "            (\"region\", \"mc2_Column\")]))"
   ]
  },
  {
   "cell_type": "code",
   "execution_count": null,
   "metadata": {},
   "outputs": [],
   "source": [
    "l5_tpca_tpcb_sscx_son=\\\n",
    "    random_connections_sscx_son.sample_one(\n",
    "        Condition([\n",
    "            (\"pre_mtype\", \"L5_TPC:A\"),\n",
    "            (\"post_mtype\", \"L5_TPC:B\"),\n",
    "            (\"region\", \"mc2_Column\")]))"
   ]
  },
  {
   "cell_type": "markdown",
   "metadata": {},
   "source": [
    "~np.hstack(...)~ is not a good solution for adding "
   ]
  },
  {
   "cell_type": "code",
   "execution_count": null,
   "metadata": {},
   "outputs": [],
   "source": [
    "l5_tpca_tpca_iso=\\\n",
    "    random_conn"
   ]
  }
 ],
 "metadata": {
  "kernelspec": {
   "display_name": "Python 3",
   "language": "python",
   "name": "python3"
  },
  "language_info": {
   "codemirror_mode": {
    "name": "ipython",
    "version": 3
   },
   "file_extension": ".py",
   "mimetype": "text/x-python",
   "name": "python",
   "nbconvert_exporter": "python",
   "pygments_lexer": "ipython3",
   "version": "3.6.7"
  }
 },
 "nbformat": 4,
 "nbformat_minor": 2
}
