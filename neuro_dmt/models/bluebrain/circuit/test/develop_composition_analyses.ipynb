{
 "cells": [
  {
   "cell_type": "markdown",
   "metadata": {},
   "source": [
    "We develop validations for circuit composition."
   ]
  },
  {
   "cell_type": "code",
   "execution_count": 1,
   "metadata": {
    "ExecuteTime": {
     "end_time": "2019-11-19T20:04:02.311493Z",
     "start_time": "2019-11-19T20:04:00.111579Z"
    }
   },
   "outputs": [
    {
     "name": "stdout",
     "output_type": "stream",
     "text": [
      "('region', 'layer', 'depth', 'height', 'mesocolumn', 'hypercolumn', 'mtype', 'etype', 'synapse_class', 'postsynaptic', 'presynaptic')\n",
      "('region', 'layer', 'depth', 'height', 'mesocolumn', 'hypercolumn', 'mtype', 'etype', 'synapse_class', 'postsynaptic', 'presynaptic')\n",
      "('region', 'layer', 'depth', 'height', 'mesocolumn', 'hypercolumn', 'mtype', 'etype', 'synapse_class', 'postsynaptic', 'presynaptic')\n",
      "('region', 'layer', 'depth', 'height', 'mtype', 'etype', 'synapse_class')\n",
      "('region', 'layer', 'depth', 'height', 'mtype', 'etype', 'synapse_class')\n",
      "('region', 'layer', 'depth', 'height', 'mesocolumn', 'hypercolumn', 'mtype', 'etype', 'synapse_class', 'postsynaptic', 'presynaptic')\n"
     ]
    }
   ],
   "source": [
    "import os\n",
    "os.environ[\"LOGLEVEL\"] = \"PROD\"\n",
    "\n",
    "import numpy as np\n",
    "import pandas as pd\n",
    "from dmt.tk.phenomenon import Phenomenon\n",
    "from neuro_dmt.analysis.circuit import BrainCircuitAnalysis\n",
    "from neuro_dmt.models.bluebrain.circuit.model import BlueBrainCircuitModel\n",
    "from neuro_dmt.models.bluebrain.circuit.adapter import BlueBrainCircuitAdapter\n",
    "from neuro_dmt.models.bluebrain.circuit.mock.test.mock_circuit_light\\\n",
    "    import circuit_composition, circuit_connectivity\n",
    "from neuro_dmt.models.bluebrain.circuit.mock.circuit import\\\n",
    "    MockCircuit"
   ]
  },
  {
   "cell_type": "code",
   "execution_count": 2,
   "metadata": {
    "ExecuteTime": {
     "end_time": "2019-11-19T20:04:03.193302Z",
     "start_time": "2019-11-19T20:04:03.186620Z"
    }
   },
   "outputs": [
    {
     "data": {
      "text/plain": [
       "'\\n                Cells were counted in a box with sides of length [50. 50. 50.] um.\\n                Each cube was centered at a cell that was randomly sampled from \\n                a population described by a cell-query.\\n                '"
      ]
     },
     "execution_count": 2,
     "metadata": {},
     "output_type": "execute_result"
    }
   ],
   "source": [
    "adapter = BlueBrainCircuitAdapter()\n",
    "adapter.get_method_description(\"cell_density\")"
   ]
  },
  {
   "cell_type": "code",
   "execution_count": 3,
   "metadata": {
    "ExecuteTime": {
     "end_time": "2019-11-19T20:05:45.313383Z",
     "start_time": "2019-11-19T20:04:05.585190Z"
    }
   },
   "outputs": [],
   "source": [
    "mock_circuit =\\\n",
    "    MockCircuit.build(\n",
    "        circuit_composition,\n",
    "        circuit_connectivity)\n",
    "circuit_model =\\\n",
    "    BlueBrainCircuitModel(\n",
    "        mock_circuit,\n",
    "        label=\"BlueBrainCircuitModelMock\")\n",
    "adapter =\\\n",
    "    BlueBrainCircuitAdapter()"
   ]
  },
  {
   "cell_type": "code",
   "execution_count": 5,
   "metadata": {
    "ExecuteTime": {
     "end_time": "2019-11-19T20:07:02.236068Z",
     "start_time": "2019-11-19T20:06:53.698523Z"
    }
   },
   "outputs": [],
   "source": [
    "from dmt.tk.parameters import Parameters\n",
    "from dmt.tk.plotting import Bars\n",
    "from dmt.tk.plotting.multi import MultiPlot\n",
    "from neuro_dmt.analysis.circuit.composition.interfaces import CellDensityAdapterInterface\n",
    "from neuro_dmt.data import rat\n",
    "\n",
    "layers =[\n",
    "    \"L{}\".format(layer) for layer in range(1, 7)\n",
    "]\n",
    "regions =[\n",
    "    \"S1HL\", \"S1FL\", \"S1Sh\", \"S1Tr\"\n",
    "]\n",
    "\n",
    "def _append_region(reference_dataframe):\n",
    "    return pd.concat([\n",
    "        reference_dataframe\\\n",
    "            .reset_index()\\\n",
    "            .assign(region=region)\\\n",
    "            .set_index([\"region\", \"layer\"])\n",
    "        for region in regions])\n",
    "    \n",
    "reference_data =\\\n",
    "    dict(\n",
    "        DeFelipe2017=_append_region(rat.defelipe2017.summary_measurement.samples(1000)),\n",
    "        DeFelipe2014=_append_region(rat.defelipe2014.summary_measurement.samples(1000)),\n",
    "        meyer2010=_append_region(rat.meyer2010.samples(1000)))\n",
    "analysis = BrainCircuitAnalysis(\n",
    "    phenomenon=Phenomenon(\n",
    "        \"Cell Density\",\n",
    "        \"Number of cells in a unit volumne\",\n",
    "        group=\"Composition\"),\n",
    "        AdapterInterface=CellDensityAdapterInterface,\n",
    "        reference_data=reference_data,\n",
    "        measurement_parameters=Parameters(\n",
    "            pd.DataFrame({\n",
    "                \"region\": [r for r in regions for _ in layers],\n",
    "                \"layer\": [l for _ in regions for l in layers]})),\n",
    "        plotter=Bars(\n",
    "            xvar=\"layer\",\n",
    "            xlabel=\"Layer\",\n",
    "            yvar=\"cell_density\",\n",
    "            ylabel=\"Cell Density\",\n",
    "            gvar=\"dataset\"))"
   ]
  },
  {
   "cell_type": "code",
   "execution_count": null,
   "metadata": {
    "ExecuteTime": {
     "end_time": "2019-11-19T18:08:10.918596Z",
     "start_time": "2019-11-19T18:08:10.911455Z"
    }
   },
   "outputs": [],
   "source": [
    "analysis.AdapterInterface.__measurement__"
   ]
  },
  {
   "cell_type": "code",
   "execution_count": null,
   "metadata": {
    "ExecuteTime": {
     "end_time": "2019-11-19T14:38:20.980896Z",
     "start_time": "2019-11-19T14:38:16.337474Z"
    },
    "scrolled": true
   },
   "outputs": [],
   "source": [
    "cell_density_measurement =\\\n",
    "    analysis.get_measurement(\n",
    "        circuit_model,\n",
    "        adapter)"
   ]
  },
  {
   "cell_type": "code",
   "execution_count": null,
   "metadata": {
    "ExecuteTime": {
     "end_time": "2019-11-19T14:44:13.829399Z",
     "start_time": "2019-11-19T14:44:13.818282Z"
    }
   },
   "outputs": [],
   "source": [
    "cell_density_measurement.head()"
   ]
  },
  {
   "cell_type": "code",
   "execution_count": null,
   "metadata": {
    "ExecuteTime": {
     "end_time": "2019-11-19T14:44:16.665503Z",
     "start_time": "2019-11-19T14:44:16.593452Z"
    }
   },
   "outputs": [],
   "source": [
    "(adapter.get_cell_density(circuit_model, layer=\"L6\"),\n",
    " adapter.get_cell_density(circuit_model, layer=6))"
   ]
  },
  {
   "cell_type": "code",
   "execution_count": null,
   "metadata": {
    "ExecuteTime": {
     "end_time": "2019-11-19T14:44:17.729190Z",
     "start_time": "2019-11-19T14:44:17.721536Z"
    }
   },
   "outputs": [],
   "source": [
    "data =\\\n",
    "    analysis._with_reference_data(\n",
    "        cell_density_measurement)"
   ]
  },
  {
   "cell_type": "code",
   "execution_count": null,
   "metadata": {
    "ExecuteTime": {
     "end_time": "2019-11-19T14:44:18.623469Z",
     "start_time": "2019-11-19T14:44:18.618155Z"
    }
   },
   "outputs": [],
   "source": [
    "list(data.values())[0].columns[0]"
   ]
  },
  {
   "cell_type": "code",
   "execution_count": null,
   "metadata": {
    "ExecuteTime": {
     "end_time": "2019-11-19T13:41:01.595978Z",
     "start_time": "2019-11-19T13:40:56.112042Z"
    }
   },
   "outputs": [],
   "source": [
    "from dmt.data.observation import measurement\n",
    "multiplotter =\\\n",
    "    MultiPlot(\n",
    "        mvar=\"region\",\n",
    "        plotter=Bars(\n",
    "            xvar=\"layer\",\n",
    "            xlabel=\"Layer\",\n",
    "            yvar=\"cell_density\",\n",
    "            ylabel=\"Cell Density\",\n",
    "            gvar=\"dataset\"))\n",
    "multiplotter.get_figures(data)"
   ]
  },
  {
   "cell_type": "code",
   "execution_count": 14,
   "metadata": {
    "ExecuteTime": {
     "end_time": "2019-11-19T20:17:08.934197Z",
     "start_time": "2019-11-19T20:17:08.470484Z"
    }
   },
   "outputs": [
    {
     "data": {
      "text/plain": [
       "'/Users/vishalsoodmuchu/work/bbp/work/validations/dmt/v2/neuro_dmt/models/bluebrain/circuit/test/validations/cell_density/20191119/211708'"
      ]
     },
     "execution_count": 14,
     "metadata": {},
     "output_type": "execute_result"
    }
   ],
   "source": [
    "from pathlib import Path\n",
    "from neuro_dmt.analysis.reporting import CheetahReporter\n",
    "\n",
    "#report =\\\n",
    "#    analysis(circuit_model, adapter)\n",
    "reporter =\\\n",
    "    CheetahReporter(path_output_folder=Path.cwd().joinpath(\"validations\"))\n",
    "\n",
    "reporter.post(report)"
   ]
  },
  {
   "cell_type": "code",
   "execution_count": 12,
   "metadata": {
    "ExecuteTime": {
     "end_time": "2019-11-19T20:12:31.981812Z",
     "start_time": "2019-11-19T20:12:31.496603Z"
    }
   },
   "outputs": [
    {
     "data": {
      "text/plain": [
       "('validations/figures', {'figure': 'validations/figures/figure.png'})"
      ]
     },
     "execution_count": 12,
     "metadata": {},
     "output_type": "execute_result"
    }
   ],
   "source": [
    "reporter._save_figures(report, output_folder=\"validations\")"
   ]
  },
  {
   "cell_type": "code",
   "execution_count": null,
   "metadata": {
    "ExecuteTime": {
     "end_time": "2019-11-19T14:53:04.457848Z",
     "start_time": "2019-11-19T14:52:56.994020Z"
    }
   },
   "outputs": [],
   "source": [
    "from neuro_dmt.models.bluebrain.circuit.test import BlueBrainCircuitAnalysisTest\n",
    "\n",
    "phenomenon = Phenomenon(\n",
    "    \"Cell Density\",\n",
    "    \"Number of cells in a unit volume.\",\n",
    "    group=\"Composition\"\n",
    ")\n",
    "layers =[\n",
    "    \"L{}\".format(layer) for layer in range(1, 7)\n",
    "]\n",
    "regions =[\n",
    "    \"S1HL\", \"S1FL\", \"S1Sh\", \"S1Tr\"\n",
    "]\n",
    "def _append_region(reference_dataframe):\n",
    "    return pd.concat([\n",
    "        reference_dataframe\\\n",
    "            .reset_index()\\\n",
    "            .assign(region=region)\\\n",
    "            .set_index([\"region\", \"layer\"])\n",
    "        for region in regions])\n",
    "    \n",
    "reference_data =\\\n",
    "    dict(\n",
    "        DeFelipe2017=_append_region(rat.defelipe2017.summary_measurement.samples(1000)),\n",
    "        DeFelipe2014=_append_region(rat.defelipe2014.summary_measurement.samples(1000)),\n",
    "        meyer2010=_append_region(rat.meyer2010.samples(1000)))\n",
    "analysis_test = BlueBrainCircuitAnalysisTest(\n",
    "    analysis=BrainCircuitAnalysis(\n",
    "        phenomenon=phenomenon,\n",
    "        AdapterInterface=CellDensityAdapterInterface,\n",
    "        reference_data=reference_data,\n",
    "        measurement_parameters=Parameters(\n",
    "            pd.DataFrame({\n",
    "                \"region\": [\n",
    "                    region\n",
    "                    for _ in layers\n",
    "                    for region in regions],\n",
    "                \"layer\": [\n",
    "                    layer\n",
    "                    for layer in layers\n",
    "                    for _ in regions]})),\n",
    "    plotter=MultiPlot(\n",
    "        mvar=\"region\",\n",
    "        plotter=Bars(\n",
    "            xvar=\"layer\",\n",
    "            xlabel=\"Layer\",\n",
    "            yvar=phenomenon.label,\n",
    "            ylabel=phenomenon.name,\n",
    "            gvar=\"dataset\"))))\n"
   ]
  },
  {
   "cell_type": "code",
   "execution_count": null,
   "metadata": {
    "ExecuteTime": {
     "end_time": "2019-11-19T14:57:31.853477Z",
     "start_time": "2019-11-19T14:57:30.679359Z"
    },
    "scrolled": false
   },
   "outputs": [],
   "source": [
    "data = analysis_test.test_get_measurement(circuit_model, sample_size=2)"
   ]
  },
  {
   "cell_type": "code",
   "execution_count": null,
   "metadata": {
    "ExecuteTime": {
     "end_time": "2019-11-19T14:57:37.991275Z",
     "start_time": "2019-11-19T14:57:32.849557Z"
    }
   },
   "outputs": [],
   "source": [
    "analysis.plotter.get_figures(data)"
   ]
  },
  {
   "cell_type": "code",
   "execution_count": null,
   "metadata": {
    "ExecuteTime": {
     "end_time": "2019-11-19T13:59:05.662738Z",
     "start_time": "2019-11-19T13:59:05.654961Z"
    },
    "code_folding": [
     5
    ]
   },
   "outputs": [],
   "source": [
    "from collections import OrderedDict\n",
    "import pandas\n",
    "import seaborn\n",
    "from dmt.tk.field import Field, lazyfield, WithFields\n",
    "\n",
    "class MultiPlot(WithFields):\n",
    "    \"\"\"\n",
    "    Using a plotter-type instance, create several plots, that will be\n",
    "    returned in a dictionary.\n",
    "    \"\"\"\n",
    "    plotter = Field(\n",
    "        \"\"\"\n",
    "        Plotter type instance.\n",
    "        \"\"\")\n",
    "    mvar = Field(\n",
    "        \"\"\"\n",
    "        Multi-plot variable.\n",
    "        Name of the column in the dataframes to be plotted that will be varied\n",
    "        to subset the data, feed it to `self.plotter` to get individual plots\n",
    "        for the values of `mvar`.\n",
    "        \"\"\")\n",
    "    \n",
    "    def _get_sub_figure(self,\n",
    "            value_mvar,\n",
    "            dataframe_subset,\n",
    "            caption,\n",
    "            *args,\n",
    "            **kwargs):\n",
    "        \"\"\"...\"\"\"\n",
    "        return self.plotter.get_figure(\n",
    "            dataframe_subset,\n",
    "            *args,\n",
    "            caption=caption,\n",
    "            title=\"{} {}\".format(self.mvar, value_mvar),\n",
    "            **kwargs\n",
    "        )\n",
    "\n",
    "    def get_figures(self,\n",
    "            data,\n",
    "            *args,\n",
    "            caption=\"Caption not provided\",\n",
    "            **kwargs):\n",
    "        \"\"\"\n",
    "        Returns\n",
    "        ================\n",
    "        OrderedDict mapping value of `self.mvar` to its plot.\n",
    "        \"\"\"\n",
    "\n",
    "\n",
    "        dataframe = self.plotter.get_dataframe(data)\n",
    "        values_mvar = dataframe[self.mvar].unique()\n",
    "        return OrderedDict([\n",
    "            (value_mvar,\n",
    "             self._get_sub_figure(\n",
    "                 value_mvar,\n",
    "                 dataframe[dataframe[self.mvar] == value_mvar],\n",
    "                 caption,\n",
    "                *args, **kwargs))\n",
    "             for value_mvar in values_mvar])"
   ]
  },
  {
   "cell_type": "code",
   "execution_count": null,
   "metadata": {
    "ExecuteTime": {
     "end_time": "2019-11-19T13:59:06.169062Z",
     "start_time": "2019-11-19T13:59:06.139188Z"
    }
   },
   "outputs": [],
   "source": [
    "plotter =\\\n",
    "    MultiPlot(\n",
    "        mvar=\"region\",\n",
    "        plotter=Bars(\n",
    "            xvar=\"layer\",\n",
    "            xlabel=\"Layer\",\n",
    "            yvar=phenomenon.label,\n",
    "            ylabel=phenomenon.name,\n",
    "            gvar=\"dataset\"))\n",
    "dataframe = plotter.plotter.get_dataframe(data)"
   ]
  },
  {
   "cell_type": "code",
   "execution_count": null,
   "metadata": {
    "ExecuteTime": {
     "end_time": "2019-11-19T13:59:27.894066Z",
     "start_time": "2019-11-19T13:59:27.276075Z"
    }
   },
   "outputs": [],
   "source": [
    "plotter._get_sub_figure(\"S1HL\", dataframe[dataframe[plotter.mvar] == \"S1HL\"], caption=\"Not available\")"
   ]
  },
  {
   "cell_type": "code",
   "execution_count": null,
   "metadata": {
    "ExecuteTime": {
     "end_time": "2019-11-19T14:03:24.540378Z",
     "start_time": "2019-11-19T14:03:24.527997Z"
    }
   },
   "outputs": [],
   "source": [
    "dataframe[dataframe[plotter.mvar] == \"S1HL\"]"
   ]
  },
  {
   "cell_type": "code",
   "execution_count": null,
   "metadata": {
    "ExecuteTime": {
     "end_time": "2019-11-19T14:03:57.652635Z",
     "start_time": "2019-11-19T14:03:57.640187Z"
    }
   },
   "outputs": [],
   "source": [
    "dataframe.tail()"
   ]
  },
  {
   "cell_type": "code",
   "execution_count": null,
   "metadata": {
    "ExecuteTime": {
     "end_time": "2019-11-19T15:02:31.515462Z",
     "start_time": "2019-11-19T15:02:25.572640Z"
    }
   },
   "outputs": [],
   "source": [
    "figures = analysis.plotter.get_figures(data)"
   ]
  },
  {
   "cell_type": "code",
   "execution_count": null,
   "metadata": {
    "ExecuteTime": {
     "end_time": "2019-11-19T15:13:05.851914Z",
     "start_time": "2019-11-19T15:13:05.754578Z"
    }
   },
   "outputs": [],
   "source": [
    "from dmt.data.observation import measurement\n",
    "summary = measurement.concat_as_summaries(data)"
   ]
  },
  {
   "cell_type": "code",
   "execution_count": null,
   "metadata": {
    "ExecuteTime": {
     "end_time": "2019-11-19T15:14:09.659386Z",
     "start_time": "2019-11-19T15:14:09.648207Z"
    }
   },
   "outputs": [],
   "source": [
    "len(layers) * len(regions) * (1. + len(reference_data))"
   ]
  },
  {
   "cell_type": "code",
   "execution_count": null,
   "metadata": {
    "ExecuteTime": {
     "end_time": "2019-11-19T17:01:38.239755Z",
     "start_time": "2019-11-19T17:01:38.234691Z"
    }
   },
   "outputs": [],
   "source": [
    "from dmt.tk.utils.string_utils import make_name, make_text_like\n",
    "print(make_name(\"S1HL\", keep_original_capitalization=True))\n",
    "print(make_text_like(\"S1HL\", separator=\"_\", with_capitalized_words=True, keep_original_capitalization=True))\n",
    "print(make_name('_'.join((\"pre_synaptic\", \"mtype\")), separator='_'))"
   ]
  },
  {
   "cell_type": "code",
   "execution_count": null,
   "metadata": {
    "ExecuteTime": {
     "end_time": "2019-11-19T15:33:06.850909Z",
     "start_time": "2019-11-19T15:33:06.844816Z"
    }
   },
   "outputs": [],
   "source": [
    "def make_text_like(\n",
    "        string,\n",
    "        separator,\n",
    "        with_capitalized_words,\n",
    "        with_characters_to_remove=[\n",
    "            ',', ':', '&', '#', '/',\n",
    "            '\\\\', '$', '?', '^', ';', '.'],\n",
    "        keep_original_capitalization=False):\n",
    "    \"\"\"\n",
    "    Turn a string into normal text like.\n",
    "    Keep only ASCII characters, removing the provided list.\n",
    "    And capitalize...\n",
    "    \"\"\"\n",
    "    if keep_original_capitalization:\n",
    "        with_capitalized_words = False\n",
    "    def __removed(word):\n",
    "        return ''.join(c for c in word if c not in with_characters_to_remove)\n",
    "\n",
    "    def __captialzed(word):\n",
    "        return word.capitalize() if with_capitalized_words else word\n",
    "\n",
    "    return separator\\\n",
    "        .join(\n",
    "            __captialzed(\n",
    "                __removed(\n",
    "                    word if keep_original_capitalization else word.lower()))\n",
    "            for word in string.strip().split(' ')\n",
    "            if len(word) > 0)"
   ]
  },
  {
   "cell_type": "code",
   "execution_count": null,
   "metadata": {
    "ExecuteTime": {
     "end_time": "2019-11-19T15:33:20.141904Z",
     "start_time": "2019-11-19T15:33:20.135827Z"
    }
   },
   "outputs": [],
   "source": [
    "make_text_like(\"S1HL\", separator=\"_\", with_capitalized_words=True, keep_original_capitalization=True)"
   ]
  },
  {
   "cell_type": "code",
   "execution_count": null,
   "metadata": {
    "ExecuteTime": {
     "end_time": "2019-11-19T15:32:47.862246Z",
     "start_time": "2019-11-19T15:32:47.857864Z"
    }
   },
   "outputs": [],
   "source": [
    "\"S1HL\".capitalize()"
   ]
  },
  {
   "cell_type": "code",
   "execution_count": null,
   "metadata": {
    "ExecuteTime": {
     "end_time": "2019-11-19T15:45:15.612007Z",
     "start_time": "2019-11-19T15:45:15.600922Z"
    }
   },
   "outputs": [],
   "source": [
    "from dmt.tk.phenomenon import Phenomenon\n",
    "Phenomenon(\n",
    "    \"Cell Density\",\n",
    "    \"....\"\n",
    ").name"
   ]
  },
  {
   "cell_type": "code",
   "execution_count": null,
   "metadata": {
    "ExecuteTime": {
     "end_time": "2019-11-19T15:46:04.881729Z",
     "start_time": "2019-11-19T15:46:04.874754Z"
    }
   },
   "outputs": [],
   "source": [
    "make_name(\"cell_density\", separator='_')"
   ]
  },
  {
   "cell_type": "code",
   "execution_count": null,
   "metadata": {
    "ExecuteTime": {
     "end_time": "2019-11-19T17:08:37.855927Z",
     "start_time": "2019-11-19T17:08:37.300385Z"
    }
   },
   "outputs": [],
   "source": [
    "import pandas as pd\n",
    "from dmt.tk.plotting import LinePlot\n",
    "\n",
    "post_synaptic_mtypes = [\"L23_MC\", \"L6_TPC:A\", \"L4_UPC\", \"L5_TPC:A\"]\n",
    "pre_synaptic_mtypes = [\"L23_MC\", \"L6_TPC:A\", \"L4_UPC\", \"L5_TPC:A\"]\n",
    "number_pathways = len(pre_synaptic_mtypes) * len(post_synaptic_mtypes)\n",
    "some_data = pd.DataFrame({\n",
    "    (\"post_synaptic\", \"mtype\"): [\n",
    "        post for post in post_synaptic_mtypes for _ in pre_synaptic_mtypes for _ in range(10)],\n",
    "    (\"pre_synaptic\", \"mtype\"): [\n",
    "        pre for _ in post_synaptic_mtypes for pre in pre_synaptic_mtypes for _ in range(10)],\n",
    "    \"soma_distance\": np.concatenate(\n",
    "        [np.linspace(1., 1000., 10) for _ in range(number_pathways)], axis=0),\n",
    "    \"afferent_connections\": np.random.uniform(\n",
    "        0, 20, size=number_pathways*10)\n",
    "})"
   ]
  },
  {
   "cell_type": "code",
   "execution_count": null,
   "metadata": {
    "ExecuteTime": {
     "end_time": "2019-11-19T17:09:08.900788Z",
     "start_time": "2019-11-19T17:09:08.897090Z"
    }
   },
   "outputs": [],
   "source": [
    "plotter = LinePlot(\n",
    "    xvar=\"soma_distance\",\n",
    "    xlabel=\"Soma Distnace\",\n",
    "    yvar=\"afferent_connections\",\n",
    "    ylabel=\"Afferent Connections\",\n",
    "    gvar=(\"pre_synaptic\", \"mtype\"),\n",
    "    fvar=(\"post_synaptic\", \"mtype\"),\n",
    "    number_columns=2,\n",
    "    drawstyle=\"steps-mid\")"
   ]
  },
  {
   "cell_type": "code",
   "execution_count": null,
   "metadata": {
    "ExecuteTime": {
     "end_time": "2019-11-19T17:09:11.503428Z",
     "start_time": "2019-11-19T17:09:10.127927Z"
    }
   },
   "outputs": [],
   "source": [
    "plotter.get_figure(some_data)"
   ]
  },
  {
   "cell_type": "code",
   "execution_count": null,
   "metadata": {
    "ExecuteTime": {
     "end_time": "2019-11-19T17:09:13.352623Z",
     "start_time": "2019-11-19T17:09:11.905704Z"
    }
   },
   "outputs": [],
   "source": [
    "import seaborn\n",
    "grid =\\\n",
    "    seaborn.FacetGrid(\n",
    "        some_data,\n",
    "        col=(\"post_synaptic\", \"mtype\"),\n",
    "        hue=(\"pre_synaptic\", \"mtype\"),\n",
    "        col_wrap=2,\n",
    "        legend_out=True\n",
    ")\n",
    "grid.map(\n",
    "    seaborn.lineplot,\n",
    "    \"soma_distance\",\n",
    "    \"afferent_connections\",\n",
    "    drawstyle=\"steps-mid\",\n",
    "    alpha=0.7\n",
    ").set_titles(\n",
    "    \"{col_name} pre synaptic\"\n",
    ").add_legend()"
   ]
  },
  {
   "cell_type": "code",
   "execution_count": null,
   "metadata": {
    "ExecuteTime": {
     "end_time": "2019-11-19T18:02:07.223313Z",
     "start_time": "2019-11-19T18:02:07.219770Z"
    }
   },
   "outputs": [],
   "source": [
    "from neuro_dmt.models.bluebrain.circuit.adapter import BlueBrainCircuitAdapter\n",
    "adapter = BlueBrainCircuitAdapter()"
   ]
  },
  {
   "cell_type": "code",
   "execution_count": null,
   "metadata": {
    "ExecuteTime": {
     "end_time": "2019-11-19T18:02:19.469224Z",
     "start_time": "2019-11-19T18:02:19.463888Z"
    }
   },
   "outputs": [],
   "source": [
    "adapter.get_number_connections_afferent.__doc__"
   ]
  }
 ],
 "metadata": {
  "kernelspec": {
   "display_name": "Python 3",
   "language": "python",
   "name": "python3"
  },
  "language_info": {
   "codemirror_mode": {
    "name": "ipython",
    "version": 3
   },
   "file_extension": ".py",
   "mimetype": "text/x-python",
   "name": "python",
   "nbconvert_exporter": "python",
   "pygments_lexer": "ipython3",
   "version": "3.7.4"
  },
  "latex_envs": {
   "LaTeX_envs_menu_present": true,
   "autoclose": false,
   "autocomplete": true,
   "bibliofile": "biblio.bib",
   "cite_by": "apalike",
   "current_citInitial": 1,
   "eqLabelWithNumbers": true,
   "eqNumInitial": 1,
   "hotkeys": {
    "equation": "Ctrl-E",
    "itemize": "Ctrl-I"
   },
   "labels_anchors": false,
   "latex_user_defs": false,
   "report_style_numbering": false,
   "user_envs_cfg": false
  },
  "toc": {
   "base_numbering": 1,
   "nav_menu": {},
   "number_sections": true,
   "sideBar": true,
   "skip_h1_title": false,
   "title_cell": "Table of Contents",
   "title_sidebar": "Contents",
   "toc_cell": false,
   "toc_position": {},
   "toc_section_display": true,
   "toc_window_display": false
  },
  "varInspector": {
   "cols": {
    "lenName": 16,
    "lenType": 16,
    "lenVar": 40
   },
   "kernels_config": {
    "python": {
     "delete_cmd_postfix": "",
     "delete_cmd_prefix": "del ",
     "library": "var_list.py",
     "varRefreshCmd": "print(var_dic_list())"
    },
    "r": {
     "delete_cmd_postfix": ") ",
     "delete_cmd_prefix": "rm(",
     "library": "var_list.r",
     "varRefreshCmd": "cat(var_dic_list()) "
    }
   },
   "types_to_exclude": [
    "module",
    "function",
    "builtin_function_or_method",
    "instance",
    "_Feature"
   ],
   "window_display": false
  }
 },
 "nbformat": 4,
 "nbformat_minor": 2
}
